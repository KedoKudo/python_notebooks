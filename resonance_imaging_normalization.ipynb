{
 "cells": [
  {
   "cell_type": "code",
   "execution_count": 2,
   "metadata": {
    "run_control": {
     "frozen": false,
     "read_only": false
    }
   },
   "outputs": [],
   "source": [
    "debugging = True"
   ]
  },
  {
   "cell_type": "markdown",
   "metadata": {
    "run_control": {
     "frozen": false,
     "read_only": false
    }
   },
   "source": [
    "# Description "
   ]
  },
  {
   "cell_type": "markdown",
   "metadata": {
    "run_control": {
     "frozen": false,
     "read_only": false
    }
   },
   "source": [
    "# Python Import"
   ]
  },
  {
   "cell_type": "code",
   "execution_count": 3,
   "metadata": {
    "run_control": {
     "frozen": false,
     "read_only": false
    }
   },
   "outputs": [],
   "source": [
    "from __code.__all import custom_style\n",
    "custom_style.style()\n",
    "\n",
    "import matplotlib.patches as patches\n",
    "%matplotlib notebook"
   ]
  },
  {
   "cell_type": "code",
   "execution_count": 4,
   "metadata": {
    "run_control": {
     "frozen": false,
     "read_only": false
    }
   },
   "outputs": [],
   "source": [
    "from __code import utilities, gui_widgets, file_handler, fileselector\n",
    "\n",
    "import NeuNorm\n",
    "from NeuNorm.normalization import Normalization\n",
    "from NeuNorm.roi import ROI\n",
    "\n",
    "from ipywidgets.widgets import interact\n",
    "from ipywidgets import widgets\n",
    "from IPython.core.display import display, HTML\n",
    "\n",
    "ipts = utilities.get_ipts()\n",
    "working_dir = utilities.get_working_dir(ipts=ipts)\n",
    "if debugging:\n",
    "    working_dir = '/Volumes/my_book_thunderbolt_duo/IPTS/ResonanceImaging/Brianne/'"
   ]
  },
  {
   "cell_type": "markdown",
   "metadata": {
    "run_control": {
     "frozen": false,
     "read_only": false
    }
   },
   "source": [
    "# Select Sample Images "
   ]
  },
  {
   "cell_type": "code",
   "execution_count": 4,
   "metadata": {
    "run_control": {
     "frozen": false,
     "read_only": false
    }
   },
   "outputs": [
    {
     "data": {
      "text/html": [
       "\n",
       "        <style type=\"text/css\">\n",
       "        .jupyter-widgets select option {\n",
       "            font-family: \"Lucida Console\", Monaco, monospace;\n",
       "        }\n",
       "        </style>\n",
       "        "
      ],
      "text/plain": [
       "<IPython.core.display.HTML object>"
      ]
     },
     "metadata": {},
     "output_type": "display_data"
    },
    {
     "data": {
      "application/vnd.jupyter.widget-view+json": {
       "model_id": "2122301987594b959ed412137444ca4e"
      }
     },
     "metadata": {},
     "output_type": "display_data"
    },
    {
     "data": {
      "text/html": [
       "\n",
       "        <style type=\"text/css\">\n",
       "        .jupyter-widgets select option {\n",
       "            font-family: \"Lucida Console\", Monaco, monospace;\n",
       "        }\n",
       "        </style>\n",
       "        "
      ],
      "text/plain": [
       "<IPython.core.display.HTML object>"
      ]
     },
     "metadata": {},
     "output_type": "display_data"
    },
    {
     "data": {
      "application/vnd.jupyter.widget-view+json": {
       "model_id": "23fd5ecc54924d65865e2c12f409867d"
      }
     },
     "metadata": {},
     "output_type": "display_data"
    }
   ],
   "source": [
    "list_images_ui = fileselector.FileSelectorPanel(instruction='Select samples images', start_dir=working_dir, multiple=True)\n",
    "list_images_ui.show()"
   ]
  },
  {
   "cell_type": "markdown",
   "metadata": {
    "run_control": {
     "frozen": false,
     "read_only": false
    }
   },
   "source": [
    "# Select OB "
   ]
  },
  {
   "cell_type": "code",
   "execution_count": 5,
   "metadata": {
    "run_control": {
     "frozen": false,
     "read_only": false
    }
   },
   "outputs": [
    {
     "data": {
      "text/html": [
       "\n",
       "        <style type=\"text/css\">\n",
       "        .jupyter-widgets select option {\n",
       "            font-family: \"Lucida Console\", Monaco, monospace;\n",
       "        }\n",
       "        </style>\n",
       "        "
      ],
      "text/plain": [
       "<IPython.core.display.HTML object>"
      ]
     },
     "metadata": {},
     "output_type": "display_data"
    },
    {
     "data": {
      "application/vnd.jupyter.widget-view+json": {
       "model_id": "076ba50508504617a91d344db329e8f8"
      }
     },
     "metadata": {},
     "output_type": "display_data"
    },
    {
     "data": {
      "text/html": [
       "\n",
       "        <style type=\"text/css\">\n",
       "        .jupyter-widgets select option {\n",
       "            font-family: \"Lucida Console\", Monaco, monospace;\n",
       "        }\n",
       "        </style>\n",
       "        "
      ],
      "text/plain": [
       "<IPython.core.display.HTML object>"
      ]
     },
     "metadata": {},
     "output_type": "display_data"
    },
    {
     "data": {
      "application/vnd.jupyter.widget-view+json": {
       "model_id": "e35e111df9a2439d95bb8a03c934cd23"
      }
     },
     "metadata": {},
     "output_type": "display_data"
    }
   ],
   "source": [
    "list_ob_ui = fileselector.FileSelectorPanel(instruction='Select OB images', start_dir=working_dir, multiple=True)\n",
    "list_ob_ui.show()"
   ]
  },
  {
   "cell_type": "markdown",
   "metadata": {
    "run_control": {
     "frozen": false,
     "read_only": false
    }
   },
   "source": [
    "# Loding data "
   ]
  },
  {
   "cell_type": "code",
   "execution_count": 6,
   "metadata": {
    "run_control": {
     "frozen": false,
     "read_only": false
    }
   },
   "outputs": [
    {
     "data": {
      "application/vnd.jupyter.widget-view+json": {
       "model_id": "61718bc135d44572871b978f7bcf5921"
      }
     },
     "metadata": {},
     "output_type": "display_data"
    },
    {
     "data": {
      "application/vnd.jupyter.widget-view+json": {
       "model_id": "0f74160112424493bc9f93f1b5b7d304"
      }
     },
     "metadata": {},
     "output_type": "display_data"
    }
   ],
   "source": [
    "list_images = list_images_ui.result_full_path()\n",
    "list_obs = list_ob_ui.result_full_path()\n",
    "\n",
    "box1 = widgets.HBox([widgets.Label(\"Loading Sample Progress:\",\n",
    "                                      layout=widgets.Layout(width='20%')),\n",
    "                        widgets.IntProgress(max=len(list_images))])\n",
    "display(box1)\n",
    "w1 = box1.children[1]\n",
    "    \n",
    "box2 = widgets.HBox([widgets.Label(\"Loading OB Progress:\",\n",
    "                                      layout=widgets.Layout(width='20%')),\n",
    "                        widgets.IntProgress(max=len(list_obs))])\n",
    "display(box2)\n",
    "w2 = box2.children[1] \n",
    "\n",
    "sample_array = []\n",
    "for _index1, _file in enumerate(list_images):\n",
    "    _data = file_handler.load_data(_file)\n",
    "    sample_array.append(_data)\n",
    "    w1.value = _index1 + 1\n",
    "\n",
    "ob_array = []\n",
    "for _index2, _file in enumerate(list_obs):\n",
    "    _data = file_handler.load_data(_file)\n",
    "    ob_array.append(_data)\n",
    "    w2.value = _index2 + 1\n",
    "\n",
    "    "
   ]
  },
  {
   "cell_type": "code",
   "execution_count": 7,
   "metadata": {
    "run_control": {
     "frozen": false,
     "read_only": false
    }
   },
   "outputs": [],
   "source": [
    "o_norm = Normalization()\n",
    "o_norm.load(data=sample_array)\n",
    "o_norm.load(data=ob_array, data_type='ob')"
   ]
  },
  {
   "cell_type": "markdown",
   "metadata": {
    "collapsed": true,
    "run_control": {
     "frozen": false,
     "read_only": false
    }
   },
   "source": [
    "# Preview Data"
   ]
  },
  {
   "cell_type": "code",
   "execution_count": 8,
   "metadata": {
    "run_control": {
     "frozen": false,
     "read_only": false
    }
   },
   "outputs": [
    {
     "data": {
      "application/vnd.jupyter.widget-view+json": {
       "model_id": "697c285cdd4043aaaf2d218df32199cf"
      }
     },
     "metadata": {},
     "output_type": "display_data"
    }
   ],
   "source": [
    "def plot_images(index):\n",
    "    fig = plt.figure(figsize=(10,10))\n",
    "    ax_img = plt.subplot(111)\n",
    "    ax_img.imshow(sample_array[index], cmap='viridis')\n",
    "    \n",
    "preview = interact(plot_images,\n",
    "                  index = widgets.IntSlider(min=0, \n",
    "                                             max=len(list_images)-1,\n",
    "                                                step=1,\n",
    "                                                value=0,\n",
    "                                                description='Image Index',\n",
    "                                           continuous_update=False))"
   ]
  },
  {
   "cell_type": "code",
   "execution_count": 9,
   "metadata": {
    "run_control": {
     "frozen": false,
     "read_only": false
    }
   },
   "outputs": [
    {
     "data": {
      "application/vnd.jupyter.widget-view+json": {
       "model_id": "63bbf10f9998435092fabe4bd65176a3"
      }
     },
     "metadata": {},
     "output_type": "display_data"
    }
   ],
   "source": [
    "def plot_obs(index):\n",
    "    fig = plt.figure(figsize=(10,10))\n",
    "    ax_img = plt.subplot(111)\n",
    "    ax_img.imshow(ob_array[index], cmap='viridis')\n",
    "    \n",
    "preview = interact(plot_obs,\n",
    "                  index = widgets.IntSlider(min=0, \n",
    "                                             max=len(list_obs)-1,\n",
    "                                                step=1,\n",
    "                                                value=0,\n",
    "                                                description='Image Index',\n",
    "                                           continuous_update=False))"
   ]
  },
  {
   "cell_type": "markdown",
   "metadata": {
    "run_control": {
     "frozen": false,
     "read_only": false
    }
   },
   "source": [
    "# Select Background Region "
   ]
  },
  {
   "cell_type": "code",
   "execution_count": 10,
   "metadata": {
    "run_control": {
     "frozen": false,
     "read_only": false
    }
   },
   "outputs": [
    {
     "data": {
      "application/vnd.jupyter.widget-view+json": {
       "model_id": "bc5a7bb0c07749a6ab717d9bace4ced7"
      }
     },
     "metadata": {},
     "output_type": "display_data"
    }
   ],
   "source": [
    "[height, width] = np.shape(sample_array[0])\n",
    "\n",
    "def plot_roi(image_index, x_left, y_top, width, height):\n",
    "    \n",
    "    fig = plt.figure(figsize=(10,10))\n",
    "    ax_img = plt.subplot(111)\n",
    "    ax_img.imshow(sample_array[image_index],\n",
    "                 cmap='viridis')\n",
    "    \n",
    "    _rectangle = patches.Rectangle((x_left, y_top),\n",
    "                                  width,\n",
    "                                  height,\n",
    "                                  edgecolor = 'white',\n",
    "                                  linewidth = 2,\n",
    "                                  fill = False)\n",
    "    ax_img.add_patch(_rectangle)\n",
    "    \n",
    "    return [x_left, y_top, width, height]\n",
    "    \n",
    "preview_bragg_edge = interact(plot_roi,\n",
    "                image_index = widgets.IntSlider(min=0,\n",
    "                                               max=len(list_images)-1,\n",
    "                                               value=0,\n",
    "                                               description='Image index:',\n",
    "                                               continuous_update=False), \n",
    "                  x_left = widgets.IntSlider(min=0,\n",
    "                                            max=width,\n",
    "                                            step=1,\n",
    "                                            value=0,\n",
    "                                            description='X Left',\n",
    "                                            continuous_update=False),\n",
    "                  y_top = widgets.IntSlider(min=0,\n",
    "                                           max=height,\n",
    "                                           value=0,\n",
    "                                           step=1,\n",
    "                                           description='Y Top',\n",
    "                                           continuous_update=False),\n",
    "                  width = widgets.IntSlider(min=0,\n",
    "                                           max=width,\n",
    "                                           step=1,\n",
    "                                           value=width-1,\n",
    "                                           description=\"Width\",\n",
    "                                           continuous_update=False),\n",
    "                  height = widgets.IntSlider(min=0,\n",
    "                                            max=height,\n",
    "                                            step=1,\n",
    "                                            value=height-1,\n",
    "                                            description='Height',\n",
    "                                            continuous_update=False))"
   ]
  },
  {
   "cell_type": "markdown",
   "metadata": {
    "run_control": {
     "frozen": false,
     "read_only": false
    }
   },
   "source": [
    "# Normalization"
   ]
  },
  {
   "cell_type": "code",
   "execution_count": 11,
   "metadata": {
    "run_control": {
     "frozen": false,
     "read_only": false
    }
   },
   "outputs": [
    {
     "data": {
      "application/vnd.jupyter.widget-view+json": {
       "model_id": "25627385ee9047a2bbe30198e422d49d"
      }
     },
     "metadata": {},
     "output_type": "display_data"
    }
   ],
   "source": [
    "with_roi_ui = widgets.Checkbox(value=False,\n",
    "                              description='Normalization With ROI?')\n",
    "display(with_roi_ui)"
   ]
  },
  {
   "cell_type": "code",
   "execution_count": 12,
   "metadata": {
    "run_control": {
     "frozen": false,
     "read_only": false
    }
   },
   "outputs": [],
   "source": [
    "with_roi = False\n",
    "if with_roi_ui.value:\n",
    "    [x_left, y_top, width_roi, height_roi] = preview_bragg_edge.widget.result\n",
    "    with_roi = True\n",
    "    \n",
    "    _roi = ROI(x0=x_left, y0=y_top, width=width_roi, height=height_roi)\n",
    "    o_norm.normalization(norm_roi=_roi)\n",
    "    \n",
    "else:    \n",
    "    o_norm.normalization()"
   ]
  },
  {
   "cell_type": "markdown",
   "metadata": {
    "collapsed": true,
    "run_control": {
     "frozen": false,
     "read_only": false
    }
   },
   "source": [
    "# Export "
   ]
  },
  {
   "cell_type": "code",
   "execution_count": 13,
   "metadata": {
    "run_control": {
     "frozen": false,
     "read_only": false
    }
   },
   "outputs": [
    {
     "data": {
      "text/html": [
       "\n",
       "        <style type=\"text/css\">\n",
       "        .jupyter-widgets select option {\n",
       "            font-family: \"Lucida Console\", Monaco, monospace;\n",
       "        }\n",
       "        </style>\n",
       "        "
      ],
      "text/plain": [
       "<IPython.core.display.HTML object>"
      ]
     },
     "metadata": {},
     "output_type": "display_data"
    },
    {
     "data": {
      "application/vnd.jupyter.widget-view+json": {
       "model_id": "de87ff4ba59b4e2689061573d5203673"
      }
     },
     "metadata": {},
     "output_type": "display_data"
    },
    {
     "data": {
      "text/html": [
       "\n",
       "        <style type=\"text/css\">\n",
       "        .jupyter-widgets select option {\n",
       "            font-family: \"Lucida Console\", Monaco, monospace;\n",
       "        }\n",
       "        </style>\n",
       "        "
      ],
      "text/plain": [
       "<IPython.core.display.HTML object>"
      ]
     },
     "metadata": {},
     "output_type": "display_data"
    },
    {
     "data": {
      "application/vnd.jupyter.widget-view+json": {
       "model_id": "f6cedded76df4aed8248a1aa08885da9"
      }
     },
     "metadata": {},
     "output_type": "display_data"
    },
    {
     "data": {
      "text/html": [
       "\n",
       "        <style type=\"text/css\">\n",
       "        .jupyter-widgets select option {\n",
       "            font-family: \"Lucida Console\", Monaco, monospace;\n",
       "        }\n",
       "        </style>\n",
       "        "
      ],
      "text/plain": [
       "<IPython.core.display.HTML object>"
      ]
     },
     "metadata": {},
     "output_type": "display_data"
    },
    {
     "data": {
      "application/vnd.jupyter.widget-view+json": {
       "model_id": "659feb9772544f33b3227a52ebf40960"
      }
     },
     "metadata": {},
     "output_type": "display_data"
    },
    {
     "data": {
      "text/html": [
       "\n",
       "        <style type=\"text/css\">\n",
       "        .jupyter-widgets select option {\n",
       "            font-family: \"Lucida Console\", Monaco, monospace;\n",
       "        }\n",
       "        </style>\n",
       "        "
      ],
      "text/plain": [
       "<IPython.core.display.HTML object>"
      ]
     },
     "metadata": {},
     "output_type": "display_data"
    },
    {
     "data": {
      "application/vnd.jupyter.widget-view+json": {
       "model_id": "80cdc2637374431e90a14984eae7cf93"
      }
     },
     "metadata": {},
     "output_type": "display_data"
    },
    {
     "data": {
      "text/html": [
       "\n",
       "        <style type=\"text/css\">\n",
       "        .jupyter-widgets select option {\n",
       "            font-family: \"Lucida Console\", Monaco, monospace;\n",
       "        }\n",
       "        </style>\n",
       "        "
      ],
      "text/plain": [
       "<IPython.core.display.HTML object>"
      ]
     },
     "metadata": {},
     "output_type": "display_data"
    },
    {
     "data": {
      "application/vnd.jupyter.widget-view+json": {
       "model_id": "c633a4d139614fd88c0d638cc5900dfc"
      }
     },
     "metadata": {},
     "output_type": "display_data"
    },
    {
     "data": {
      "text/html": [
       "\n",
       "        <style type=\"text/css\">\n",
       "        .jupyter-widgets select option {\n",
       "            font-family: \"Lucida Console\", Monaco, monospace;\n",
       "        }\n",
       "        </style>\n",
       "        "
      ],
      "text/plain": [
       "<IPython.core.display.HTML object>"
      ]
     },
     "metadata": {},
     "output_type": "display_data"
    },
    {
     "data": {
      "application/vnd.jupyter.widget-view+json": {
       "model_id": "6e086a67c02f48ea93d4e7e07226045e"
      }
     },
     "metadata": {},
     "output_type": "display_data"
    },
    {
     "data": {
      "text/html": [
       "\n",
       "        <style type=\"text/css\">\n",
       "        .jupyter-widgets select option {\n",
       "            font-family: \"Lucida Console\", Monaco, monospace;\n",
       "        }\n",
       "        </style>\n",
       "        "
      ],
      "text/plain": [
       "<IPython.core.display.HTML object>"
      ]
     },
     "metadata": {},
     "output_type": "display_data"
    },
    {
     "data": {
      "application/vnd.jupyter.widget-view+json": {
       "model_id": "3ef7c041c2074b2c956de552b439e83f"
      }
     },
     "metadata": {},
     "output_type": "display_data"
    },
    {
     "data": {
      "text/html": [
       "\n",
       "        <style type=\"text/css\">\n",
       "        .jupyter-widgets select option {\n",
       "            font-family: \"Lucida Console\", Monaco, monospace;\n",
       "        }\n",
       "        </style>\n",
       "        "
      ],
      "text/plain": [
       "<IPython.core.display.HTML object>"
      ]
     },
     "metadata": {},
     "output_type": "display_data"
    },
    {
     "data": {
      "application/vnd.jupyter.widget-view+json": {
       "model_id": "9eb246a071194599a63008fb161a739a"
      }
     },
     "metadata": {},
     "output_type": "display_data"
    }
   ],
   "source": [
    "output_folder_ui = fileselector.FileSelectorPanel(instruction='Select Output Folder', start_dir=working_dir, multiple=False, type='directory')\n",
    "output_folder_ui.show()"
   ]
  },
  {
   "cell_type": "code",
   "execution_count": 14,
   "metadata": {
    "run_control": {
     "frozen": false,
     "read_only": false
    }
   },
   "outputs": [],
   "source": [
    "output_folder = os.path.join(output_folder_ui.curdir, output_folder_ui.result(), 'normalization')\n",
    "utilities.make_dir(dir=output_folder)\n",
    "\n",
    "o_norm.export(folder=output_folder)"
   ]
  },
  {
   "cell_type": "code",
   "execution_count": null,
   "metadata": {
    "run_control": {
     "frozen": false,
     "read_only": false
    }
   },
   "outputs": [],
   "source": []
  }
 ],
 "metadata": {
  "anaconda-cloud": {},
  "kernelspec": {
   "display_name": "Python [default]",
   "language": "python",
   "name": "python3"
  },
  "language_info": {
   "codemirror_mode": {
    "name": "ipython",
    "version": 3
   },
   "file_extension": ".py",
   "mimetype": "text/x-python",
   "name": "python",
   "nbconvert_exporter": "python",
   "pygments_lexer": "ipython3",
   "version": "3.5.3"
  },
  "toc": {
   "colors": {
    "hover_highlight": "#DAA520",
    "running_highlight": "#FF0000",
    "selected_highlight": "#FFD700"
   },
   "moveMenuLeft": true,
   "nav_menu": {
    "height": "101px",
    "width": "252px"
   },
   "navigate_menu": true,
   "number_sections": true,
   "sideBar": true,
   "threshold": 4,
   "toc_cell": false,
   "toc_section_display": "block",
   "toc_window_display": false
  }
 },
 "nbformat": 4,
 "nbformat_minor": 1
}
