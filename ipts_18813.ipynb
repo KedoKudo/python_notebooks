{
 "cells": [
  {
   "cell_type": "code",
   "execution_count": null,
   "metadata": {
    "run_control": {
     "frozen": false,
     "read_only": false
    }
   },
   "outputs": [],
   "source": [
    "from __code import system\n",
    "system.System.select_working_dir()\n",
    "from __code.__all import custom_style\n",
    "custom_style.style()"
   ]
  },
  {
   "cell_type": "markdown",
   "metadata": {
    "run_control": {
     "frozen": false,
     "read_only": false
    }
   },
   "source": [
    "# Create list of file name vs time stamp "
   ]
  },
  {
   "cell_type": "markdown",
   "metadata": {
    "run_control": {
     "frozen": false,
     "read_only": false
    }
   },
   "source": [
    "To do so, run the following notebook -> [create_list_of_file_name_vs_time_stamp](create_list_of_file_name_vs_time_stamp.ipynb)"
   ]
  },
  {
   "cell_type": "markdown",
   "metadata": {
    "run_control": {
     "frozen": false,
     "read_only": false
    }
   },
   "source": [
    "# Sort files according to T and P parameters"
   ]
  },
  {
   "cell_type": "code",
   "execution_count": null,
   "metadata": {
    "run_control": {
     "frozen": false,
     "read_only": false
    }
   },
   "outputs": [],
   "source": [
    "import ipywe.fileselector\n",
    "import pandas as pd\n",
    "import numpy as np\n",
    "\n",
    "import os, re\n",
    "from collections import OrderedDict"
   ]
  },
  {
   "cell_type": "code",
   "execution_count": null,
   "metadata": {
    "run_control": {
     "frozen": false,
     "read_only": false
    }
   },
   "outputs": [],
   "source": [
    "file_name_ui = ipywe.fileselector.FileSelectorPanel(instruction='Select file created by the create_list_of_file_name_vs_time_stamp',\n",
    "                                                   start_dir = system.System.get_working_dir())\n",
    "file_name_ui.show()"
   ]
  },
  {
   "cell_type": "code",
   "execution_count": null,
   "metadata": {
    "run_control": {
     "frozen": false,
     "read_only": false
    }
   },
   "outputs": [],
   "source": [
    "list_of_filename_vs_timestamp = file_name_ui.selected\n",
    "pd_file_vs_timestamp = pd.read_csv(list_of_filename_vs_timestamp)\n",
    "pd_file_vs_timestamp.columns = ['filename','time_stamp_s','time_human_readable','time_offset_s']\n",
    "list_of_files = pd_file_vs_timestamp['filename']\n",
    "pd_file_vs_timestamp.head()"
   ]
  },
  {
   "cell_type": "markdown",
   "metadata": {
    "run_control": {
     "frozen": false,
     "read_only": false
    }
   },
   "source": [
    "### Parse the file names"
   ]
  },
  {
   "cell_type": "code",
   "execution_count": null,
   "metadata": {
    "run_control": {
     "frozen": false,
     "read_only": false
    }
   },
   "outputs": [],
   "source": [
    "\n",
    "\n",
    "my_re = r\"\\w*_(?P<temperature>\\w+)_(?P<pressure>\\w+)_\\d{4}_(?P<digit>\\d{4}).tiff$\"\n",
    "exp_dict = OrderedDict()\n",
    "_new_exp = {'list_of_files': [], \n",
    "            'T':'', \n",
    "            'P':'', \n",
    "            'list_of_images':[], \n",
    "            'working_image': {'type': '',\n",
    "                              'image': []},\n",
    "            'folder': ''}\n",
    "\n",
    "previous_T = ''\n",
    "previous_P = ''\n",
    "\n",
    "exp_index = 0\n",
    "for _index, _file in enumerate(list_of_files):\n",
    "    _path = os.path.dirname(_file)\n",
    "    _file = os.path.basename(_file)\n",
    "    m = re.match(my_re, _file)\n",
    "    if m is None:\n",
    "        continue\n",
    "\n",
    "    if m:\n",
    "        _T = m.group('temperature')\n",
    "        _P = m.group('pressure')\n",
    "    else:\n",
    "        _T = 'N/A'\n",
    "        _P = 'N/A'\n",
    "\n",
    "    # first entry\n",
    "    if _new_exp['list_of_files'] == []:\n",
    "        _new_exp['list_of_files'] = [os.path.basename(_file)]\n",
    "        _new_exp['folder'] = _path\n",
    "        \n",
    "        _new_exp['T'] = _T\n",
    "        previous_T = _T\n",
    "            \n",
    "        _new_exp['P'] = _P\n",
    "        previous_P = _P\n",
    "            \n",
    "    # after first entry\n",
    "    else:\n",
    "        \n",
    "        if (_T == previous_T) and (_P == previous_P):\n",
    "            # found the same T and P, just append file to list of files\n",
    "            _new_exp['list_of_files'].append(_file)\n",
    "            \n",
    "        else:\n",
    "            # we found a new T or new P, save previous dict and initialization of new one\n",
    "            exp_dict[str(exp_index)] = _new_exp\n",
    "            exp_index += 1\n",
    "            _new_exp = {'list_of_files': [], \n",
    "                        'T':'', \n",
    "                        'P':'', \n",
    "                        'list_of_images':[], \n",
    "                        'working_image': {'type': '',\n",
    "                                          'image': []},\n",
    "                        'folder': ''}\n",
    "\n",
    "            # start recording new entry\n",
    "            _new_exp['list_of_files'] = [os.path.basename(_file)]\n",
    "            _new_exp['folder'] = _path\n",
    "        \n",
    "            _new_exp['T'] = _T\n",
    "            previous_T = _T\n",
    "            \n",
    "            _new_exp['P'] = _P\n",
    "            previous_P = _P\n",
    "        \n",
    "    # last entry, force the save of the dictionary\n",
    "    if _index == len(list_of_files)-1:\n",
    "        exp_dict[str(exp_index)] = _new_exp\n",
    "        \n",
    "#exp_dict"
   ]
  },
  {
   "cell_type": "markdown",
   "metadata": {
    "run_control": {
     "frozen": false,
     "read_only": false
    }
   },
   "source": [
    "History"
   ]
  },
  {
   "cell_type": "code",
   "execution_count": null,
   "metadata": {
    "run_control": {
     "frozen": false,
     "read_only": false
    }
   },
   "outputs": [],
   "source": [
    "for _key in exp_dict.keys():\n",
    "    _item = exp_dict[_key]\n",
    "    _t = _item['T']\n",
    "    _p = _item['P']\n",
    "    _nbr_files = len(_item['list_of_files'])\n",
    "    \n",
    "    print(\"T:{} and P:{} with {} files\".format(_t, _p, _nbr_files))"
   ]
  },
  {
   "cell_type": "markdown",
   "metadata": {
    "run_control": {
     "frozen": false,
     "read_only": false
    }
   },
   "source": [
    "# Load the data "
   ]
  },
  {
   "cell_type": "code",
   "execution_count": null,
   "metadata": {
    "run_control": {
     "frozen": false,
     "read_only": false
    }
   },
   "outputs": [],
   "source": [
    "from NeuNorm.normalization import Normalization\n",
    "from ipywidgets import widgets\n",
    "import matplotlib.pyplot as plt"
   ]
  },
  {
   "cell_type": "code",
   "execution_count": null,
   "metadata": {
    "run_control": {
     "frozen": false,
     "read_only": false
    }
   },
   "outputs": [],
   "source": [
    "%matplotlib notebook"
   ]
  },
  {
   "cell_type": "code",
   "execution_count": null,
   "metadata": {
    "run_control": {
     "frozen": false,
     "read_only": false
    }
   },
   "outputs": [],
   "source": [
    "w = widgets.IntProgress(description=\"Full Progress\")\n",
    "w.max = len(exp_dict.keys())\n",
    "display(w)\n",
    "\n",
    "for _index, _key in enumerate(exp_dict.keys()):\n",
    "    _item = exp_dict[_key]\n",
    "    _path = _item['folder']\n",
    "    list_files = _item['list_of_files']\n",
    "    full_list_files = [os.path.join(_path, _file) for _file in list_files]\n",
    "    o_norm = Normalization()\n",
    "    o_norm.load(file=full_list_files, notebook=True)\n",
    "    _data = o_norm.data['sample']['data']\n",
    "    _item['list_of_images'] = _data\n",
    "    exp_dict[_key] = _item\n",
    "    \n",
    "    w.value = _index+1\n",
    "    \n",
    "w.close()"
   ]
  },
  {
   "cell_type": "markdown",
   "metadata": {
    "run_control": {
     "frozen": false,
     "read_only": false
    }
   },
   "source": [
    "# Which image to use for each group "
   ]
  },
  {
   "cell_type": "markdown",
   "metadata": {
    "run_control": {
     "frozen": false,
     "read_only": false
    }
   },
   "source": [
    "Should we use for each group:\n",
    "* the last image\n",
    "or\n",
    "* the mean of all images"
   ]
  },
  {
   "cell_type": "code",
   "execution_count": null,
   "metadata": {
    "run_control": {
     "frozen": false,
     "read_only": false
    }
   },
   "outputs": [],
   "source": [
    "# #working with group = 0 and 1\n",
    "\n",
    "# group = exp_dict['0']\n",
    "# nbr_images_in_group = len(group['list_of_images'])\n",
    "# mean_group_0 = []\n",
    "# #median_group_0 = []\n",
    "# std_group_0 = []\n",
    "\n",
    "# for _image in group['list_of_images']:\n",
    "# #     _median_value = np.median(_image)\n",
    "# #     median_group_0.append(_median_value)\n",
    "\n",
    "#     _mean_value = np.mean(_image)\n",
    "#     mean_group_0.append(_mean_value)\n",
    "\n",
    "#     _std_value = np.std(_image)\n",
    "#     std_group_0.append(_std_value)\n",
    "\n",
    "# ###\n",
    "# group = exp_dict['1']\n",
    "# nbr_images_in_group = len(group['list_of_images'])\n",
    "# mean_group_1 = []\n",
    "# # median_group_1 = []\n",
    "# std_group_1 = []\n",
    "\n",
    "# for _image in group['list_of_images']:\n",
    "# #     _median_value = np.median(_image)\n",
    "# #     median_group_1.append(_median_value)\n",
    "\n",
    "#     _mean_value = np.mean(_image)\n",
    "#     mean_group_1.append(_mean_value)\n",
    "\n",
    "#     _std_value = np.std(_image)\n",
    "#     std_group_1.append(_std_value)\n",
    "    \n",
    "# plt.figure(0)\n",
    "# plt.plot(std_group_1, 'r')   "
   ]
  },
  {
   "cell_type": "code",
   "execution_count": null,
   "metadata": {
    "run_control": {
     "frozen": false,
     "read_only": false
    }
   },
   "outputs": [],
   "source": [
    "def calculate_working_image(list_of_images):\n",
    "    \"\"\"Determine here if we should use the last image or a mean of all the images\"\"\"\n",
    "    # TO DO\n",
    "    _type = 'last_image'\n",
    "    _type = 'mean'\n",
    "    _image = np.mean(list_of_images, axis=0)\n",
    "    \n",
    "    working = {'type': _type,\n",
    "               'image': _image}\n",
    "    \n",
    "    return working    "
   ]
  },
  {
   "cell_type": "code",
   "execution_count": null,
   "metadata": {
    "run_control": {
     "frozen": false,
     "read_only": false
    }
   },
   "outputs": [],
   "source": [
    "for _group_number in exp_dict.keys():\n",
    "    _group = exp_dict[_group_number]\n",
    "    nbr_images = len(_group['list_of_images'])\n",
    "    if nbr_images == 1:\n",
    "        _group['working_image']['type'] = 'last_image'\n",
    "        _group['working_image']['image'] = _group['list_of_images'][0].copy()\n",
    "    else:\n",
    "        _list_images = _group['list_of_images']\n",
    "        \n",
    "        _result_working_image = calculate_working_image(_list_images)\n",
    "        _group['working_image'] = _result_working_image\n",
    "    exp_dict[_group_number] = _group\n",
    "            "
   ]
  },
  {
   "cell_type": "markdown",
   "metadata": {
    "run_control": {
     "frozen": false,
     "read_only": false
    }
   },
   "source": [
    "# Display images "
   ]
  },
  {
   "cell_type": "code",
   "execution_count": null,
   "metadata": {
    "run_control": {
     "frozen": false,
     "read_only": false
    }
   },
   "outputs": [],
   "source": [
    "from collections import OrderedDict\n",
    "import numpy as np"
   ]
  },
  {
   "cell_type": "code",
   "execution_count": null,
   "metadata": {
    "run_control": {
     "frozen": false,
     "read_only": false
    }
   },
   "outputs": [],
   "source": [
    "temp_exp_dict = OrderedDict()\n",
    "_data = np.random.rand(20,20)\n",
    "temp_exp_dict['0'] = {'P': '00Bar', 'T': 'cooling', 'working_image': {'image': _data}}\n",
    "_data = np.random.rand(20,20)*2\n",
    "temp_exp_dict['1'] = {'P': '06Bar', 'T': 'cooling', 'working_image': {'image': _data}}\n",
    "_data = np.random.rand(20,20)*3\n",
    "temp_exp_dict['2'] = {'P': '08Bar', 'T': 'cooling', 'working_image': {'image': _data}}\n",
    "_data = np.random.rand(20,20)*4\n",
    "temp_exp_dict['3'] = {'P': '10Bar', 'T': 'cooling', 'working_image': {'image': _data}}\n",
    "_data = np.random.rand(20,20)*5\n",
    "temp_exp_dict['4'] = {'P': '10Bar', 'T': 'cooling', 'working_image': {'image': _data}}\n",
    "_data = np.random.rand(20,20)*100\n",
    "temp_exp_dict['5'] = {'P': '10Bar', 'T': 'cooling', 'working_image': {'image': _data}}\n",
    "_data = np.random.rand(20,20)*200\n",
    "temp_exp_dict['6'] = {'P': '10Bar', 'T': 'cooling', 'working_image': {'image': _data}}\n",
    "_data = np.random.rand(20,20)*300\n",
    "temp_exp_dict['7'] = {'P': '10Bar', 'T': 'cooling', 'working_image': {'image': _data}}\n",
    "_data = np.random.rand(20,20)*0.5\n",
    "temp_exp_dict['8'] = {'P': '10Bar', 'T': 'cooling', 'working_image': {'image': _data}}"
   ]
  },
  {
   "cell_type": "code",
   "execution_count": null,
   "metadata": {
    "run_control": {
     "frozen": false,
     "read_only": false
    }
   },
   "outputs": [],
   "source": [
    "%gui qt"
   ]
  },
  {
   "cell_type": "code",
   "execution_count": null,
   "metadata": {
    "run_control": {
     "frozen": false,
     "read_only": false
    }
   },
   "outputs": [],
   "source": [
    "from __code.ui_builder import UiBuilder\n",
    "o_builder = UiBuilder(ui_name = 'ui_file_metadata_display.ui')\n",
    "\n",
    "from __code.file_metadata_display import Interface"
   ]
  },
  {
   "cell_type": "code",
   "execution_count": null,
   "metadata": {
    "run_control": {
     "frozen": false,
     "read_only": false
    }
   },
   "outputs": [],
   "source": [
    "o_gui = Interface(exp_dict=exp_dict)\n",
    "o_gui.show()"
   ]
  },
  {
   "cell_type": "code",
   "execution_count": null,
   "metadata": {
    "run_control": {
     "frozen": false,
     "read_only": false
    }
   },
   "outputs": [],
   "source": [
    "ex"
   ]
  },
  {
   "cell_type": "code",
   "execution_count": null,
   "metadata": {
    "run_control": {
     "frozen": false,
     "read_only": false
    }
   },
   "outputs": [],
   "source": []
  }
 ],
 "metadata": {
  "kernelspec": {
   "display_name": "Python 3",
   "language": "python",
   "name": "python3"
  },
  "language_info": {
   "codemirror_mode": {
    "name": "ipython",
    "version": 3
   },
   "file_extension": ".py",
   "mimetype": "text/x-python",
   "name": "python",
   "nbconvert_exporter": "python",
   "pygments_lexer": "ipython3",
   "version": "3.6.2"
  },
  "toc": {
   "colors": {
    "hover_highlight": "#DAA520",
    "running_highlight": "#FF0000",
    "selected_highlight": "#FFD700"
   },
   "moveMenuLeft": true,
   "nav_menu": {
    "height": "48px",
    "width": "252px"
   },
   "navigate_menu": true,
   "number_sections": true,
   "sideBar": true,
   "threshold": 4,
   "toc_cell": false,
   "toc_section_display": "block",
   "toc_window_display": false
  }
 },
 "nbformat": 4,
 "nbformat_minor": 2
}
