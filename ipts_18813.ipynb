{
 "cells": [
  {
   "cell_type": "code",
   "execution_count": 1,
   "metadata": {
    "run_control": {
     "frozen": false,
     "read_only": false
    }
   },
   "outputs": [
    {
     "name": "stdout",
     "output_type": "stream",
     "text": [
      "** Using Debugging Mode! **\n"
     ]
    },
    {
     "data": {
      "application/vnd.jupyter.widget-view+json": {
       "model_id": "08a7aeacece34e41acb5334b6a85fb4f",
       "version_major": 2,
       "version_minor": 0
      },
      "text/html": [
       "<p>Failed to display Jupyter Widget of type <code>HBox</code>.</p>\n",
       "<p>\n",
       "  If you're reading this message in Jupyter Notebook or JupyterLab, it may mean\n",
       "  that the widgets JavaScript is still loading. If this message persists, it\n",
       "  likely means that the widgets JavaScript library is either not installed or\n",
       "  not enabled. See the <a href=\"https://ipywidgets.readthedocs.io/en/stable/user_install.html\">Jupyter\n",
       "  Widgets Documentation</a> for setup instructions.\n",
       "</p>\n",
       "<p>\n",
       "  If you're reading this message in another notebook frontend (for example, a static\n",
       "  rendering on GitHub or <a href=\"https://nbviewer.jupyter.org/\">NBViewer</a>),\n",
       "  it may mean that your frontend doesn't currently support widgets.\n",
       "</p>\n"
      ],
      "text/plain": [
       "HBox(children=(Label(value='Select Working Folder', layout=Layout(width='20%')), Select(index=8, options=('BraggEdge', 'Brianne', 'DOE_letters', 'FITSimages', 'IPTS-12534', 'IPTS_13639_resonance_shawn', 'IPTS_14832', 'IPTS_16212', 'IPTS_16259', 'IPTS_16475', 'IPTS_16893', 'IPTS_17099', 'IPTS_17685', 'IPTS_17981', 'IPTS_18580', 'IPTS_18806', 'IPTS_18813', 'IPTS_19037', 'IPTS_19558', 'IPTS_19621', 'IPTS_19626', 'IPTS_test_normalization', 'IPTS_testing_time_spectra', 'ImagesToRegisterForGian', 'Indu', 'Keita_code', 'Pour_ibeatles_video', 'ResonanceImaging', 'SENSITIVE', 'SarmaGUI', 'SphereCoordinates3D', 'TempData', 'gian', 'iBeatles_debugging'), value='IPTS_16259')))"
      ]
     },
     "metadata": {},
     "output_type": "display_data"
    },
    {
     "data": {
      "text/html": [
       "<style>\n",
       "\n",
       "/* The following CSS has been adapted from\n",
       "   http://nbviewer.ipython.org/github/ketch/teaching-numerics-with-notebooks/blob/master/Styling_notebooks.ipynb\n",
       "   by Aron Ahmadia and David Ketcheson and has been reused under CC BY 4.0\n",
       "   */\n",
       "\n",
       "/* main background */\n",
       "#site { \n",
       "    background: #888;\n",
       "    color: #red; \n",
       "}\n",
       "\n",
       "div.container {\n",
       "    width: 100% ! important;\n",
       "}\n",
       "\n",
       "div.cell { /* set cell width to about 80 chars */\n",
       "    width: 95%;\n",
       "}\n",
       "\n",
       "div #notebook { /* centre the content */\n",
       "/*    background: #fff; /* white background for content */\n",
       "    background: blue;\n",
       "    width: 100%;\n",
       "    margin: auto;\n",
       "    padding-left: 1em;\n",
       "    padding-right: 1em;\n",
       "    background-image: url(\"tile_background.jpg\");\n",
       "}\n",
       "\n",
       "#notebook li { /* More space between bullet points */\n",
       "    margin-top:0.4em;\n",
       "}\n",
       "\n",
       "/* change background color of running cells */\n",
       "div.cell.code_cell.running {\n",
       "/*    background-color: rgba(164,188,194,.75); */\n",
       "    background-color: green;\n",
       "    border-width: 8px\n",
       "    border-style: solid\n",
       "    border-color: #111;\n",
       "}\n",
       "\n",
       "/* Put a solid color box around each cell and its output, visually linking them together */\n",
       "div.cell.code_cell {\n",
       "    background-color: rgba(164,188,194,.25); /* Continuum L Gray with alpha 0.25 */\n",
       "    border-radius: 10px; /* rounded borders */\n",
       "    padding: 1em;\n",
       "    margin-top: 1em;\n",
       "}\n",
       "\n",
       "div.text_cell_render{\n",
       "\tfont-family: Georgia, Times, 'Times New Roman', serif;\n",
       "    line-height: 110%;\n",
       "    font-size: 105%;\n",
       "    width: 95%;\n",
       "    margin-left: auto;\n",
       "    margin-right: auto;\n",
       "}\n",
       "\n",
       "\n",
       "/* Formatting for header cells */\n",
       ".text_cell_render h1 {\n",
       "\tfont-family: Arial, 'Helvetica Neue', Helvetica, sans-serif;\n",
       "    font-weight: 400;\n",
       "    font-size: 30pt;\n",
       "    line-height: 100%;\n",
       "    color: rgb(37,55,70); /* Continuum Blue*/\n",
       "    margin-bottom: 0.1em;\n",
       "    margin-top: 0.1em;\n",
       "    display: block;\n",
       "}\n",
       ".text_cell_render h2 {\n",
       "\tfont-family: Arial, 'Helvetica Neue', Helvetica, sans-serif;\n",
       "    font-weight: 700;\n",
       "    font-size: 22pt;\n",
       "    line-height: 100%;\n",
       "    color: rgb(37,55,70);\n",
       "    margin-bottom: 0.1em;\n",
       "    margin-top: 0.1em;\n",
       "    display: block;\n",
       "}\n",
       "\n",
       ".text_cell_render h3 {\n",
       "\tfont-family: Arial, 'Helvetica Neue', Helvetica, sans-serif;\n",
       "    margin-top:12px;\n",
       "    margin-bottom: 3px;\n",
       "    font-style: italic;\n",
       "    color: rgb(37, 55, 70);\n",
       "}\n",
       "\n",
       ".text_cell_render h4 {\n",
       "\tfont-family: Arial, 'Helvetica Neue', Helvetica, sans-serif;\n",
       "}\n",
       "\n",
       ".text_cell_render h5 {\n",
       "\tfont-family: Arial, 'Helvetica Neue', Helvetica, sans-serif;\n",
       "    font-weight: 300;\n",
       "    font-size: 14pt;\n",
       "    font-style: italic;\n",
       "    margin-bottom: .1em;\n",
       "    margin-top: 0.1em;\n",
       "    display: block;\n",
       "}\n",
       "\n",
       ".text_cell_render h6 {\n",
       "\tfont-family: Arial, 'Helvetica Neue', Helvetica, sans-serif;\n",
       "    font-weight: 300;\n",
       "    font-size: 10pt;\n",
       "    margin-bottom: 1px;\n",
       "    margin-top: 1px;\n",
       "}\n",
       "\n",
       ".CodeMirror{\n",
       "        font-family: \"PT Mono\", fixed;\n",
       "        font-size: 100%;\n",
       "}\n",
       "\n",
       "#notebook_panel { /* main background */\n",
       "    background-image: url(\"tile_background.jpg\");\n",
       "}\n",
       "\n",
       "\n",
       "\n",
       "\n",
       "</style>\n"
      ],
      "text/plain": [
       "<IPython.core.display.HTML object>"
      ]
     },
     "execution_count": 1,
     "metadata": {},
     "output_type": "execute_result"
    }
   ],
   "source": [
    "from __code import system\n",
    "system.System.select_working_dir()\n",
    "from __code.__all import custom_style\n",
    "custom_style.style()"
   ]
  },
  {
   "cell_type": "markdown",
   "metadata": {
    "run_control": {
     "frozen": false,
     "read_only": false
    }
   },
   "source": [
    "# Create list of file name vs time stamp "
   ]
  },
  {
   "cell_type": "markdown",
   "metadata": {
    "run_control": {
     "frozen": false,
     "read_only": false
    }
   },
   "source": [
    "To do so, run the following notebook -> [create_list_of_file_name_vs_time_stamp](create_list_of_file_name_vs_time_stamp.ipynb)"
   ]
  },
  {
   "cell_type": "markdown",
   "metadata": {
    "run_control": {
     "frozen": false,
     "read_only": false
    }
   },
   "source": [
    "# Sort files according to T and P parameters"
   ]
  },
  {
   "cell_type": "code",
   "execution_count": 2,
   "metadata": {
    "run_control": {
     "frozen": false,
     "read_only": false
    }
   },
   "outputs": [],
   "source": [
    "import ipywe.fileselector\n",
    "import pandas as pd"
   ]
  },
  {
   "cell_type": "code",
   "execution_count": 3,
   "metadata": {
    "run_control": {
     "frozen": false,
     "read_only": false
    }
   },
   "outputs": [
    {
     "data": {
      "application/vnd.jupyter.widget-view+json": {
       "model_id": "f4d88a01e4aa4dceb2ab34caf4a7662b",
       "version_major": 2,
       "version_minor": 0
      },
      "text/html": [
       "<p>Failed to display Jupyter Widget of type <code>HTML</code>.</p>\n",
       "<p>\n",
       "  If you're reading this message in Jupyter Notebook or JupyterLab, it may mean\n",
       "  that the widgets JavaScript is still loading. If this message persists, it\n",
       "  likely means that the widgets JavaScript library is either not installed or\n",
       "  not enabled. See the <a href=\"https://ipywidgets.readthedocs.io/en/stable/user_install.html\">Jupyter\n",
       "  Widgets Documentation</a> for setup instructions.\n",
       "</p>\n",
       "<p>\n",
       "  If you're reading this message in another notebook frontend (for example, a static\n",
       "  rendering on GitHub or <a href=\"https://nbviewer.jupyter.org/\">NBViewer</a>),\n",
       "  it may mean that your frontend doesn't currently support widgets.\n",
       "</p>\n"
      ],
      "text/plain": [
       "HTML(value='Please wait...')"
      ]
     },
     "metadata": {},
     "output_type": "display_data"
    },
    {
     "data": {
      "text/html": [
       "\n",
       "        <style type=\"text/css\">\n",
       "        .jupyter-widgets select option {font-family: \"Lucida Console\", Monaco, monospace;}\n",
       "        div.output_subarea {padding: 0px;}\n",
       "        div.output_subarea > div {margin: 0.4em;}\n",
       "        </style>\n",
       "        "
      ],
      "text/plain": [
       "<IPython.core.display.HTML object>"
      ]
     },
     "metadata": {},
     "output_type": "display_data"
    },
    {
     "data": {
      "application/vnd.jupyter.widget-view+json": {
       "model_id": "0385bbe5f4ac4fa3ad382e6425b7d4f2",
       "version_major": 2,
       "version_minor": 0
      },
      "text/html": [
       "<p>Failed to display Jupyter Widget of type <code>VBox</code>.</p>\n",
       "<p>\n",
       "  If you're reading this message in Jupyter Notebook or JupyterLab, it may mean\n",
       "  that the widgets JavaScript is still loading. If this message persists, it\n",
       "  likely means that the widgets JavaScript library is either not installed or\n",
       "  not enabled. See the <a href=\"https://ipywidgets.readthedocs.io/en/stable/user_install.html\">Jupyter\n",
       "  Widgets Documentation</a> for setup instructions.\n",
       "</p>\n",
       "<p>\n",
       "  If you're reading this message in another notebook frontend (for example, a static\n",
       "  rendering on GitHub or <a href=\"https://nbviewer.jupyter.org/\">NBViewer</a>),\n",
       "  it may mean that your frontend doesn't currently support widgets.\n",
       "</p>\n"
      ],
      "text/plain": [
       "VBox(children=(Label(value='Select file created by the create_list_of_file_name_vs_time_stamp', layout=Layout(width='250px')), HBox(children=(HBox(children=(Text(value='/Volumes/my_book_thunderbolt_duo/IPTS/IPTS_18813', description='Location: ', layout=Layout(width='300px'), placeholder=''), Button(description='Jump', layout=Layout(margin='5px 10px', width='100px'), style=ButtonStyle())), layout=Layout(border='1px solid lightgrey', margin='5px 50px 5px 5px', padding='3px')),)), VBox(children=(Select(description='Select', layout=Layout(width='750px'), options=(' .', ' ..', ' .DS_Store                              |     Tue Jan 30 16:04:04 2018', ' DF                                     |     Directory', ' OB                                     |     Directory', ' Sample2_Ethane                         |     Directory', ' Sample3_Methane                        |     Directory', ' Sample_2                               |     Directory', ' Sample_2_light                         |     Directory', ' Sample_2_light_timestamp_infos.txt     |     Wed Jan 31 11:57:35 2018'), value=' .'), HBox(children=(Button(description='Enter directory', layout=Layout(margin='5px 40px'), style=ButtonStyle()), Button(description='Select', layout=Layout(margin='5px 40px'), style=ButtonStyle())))), layout=Layout(border='1px solid lightgrey', margin='5px', padding='10px'))))"
      ]
     },
     "metadata": {},
     "output_type": "display_data"
    }
   ],
   "source": [
    "file_name_ui = ipywe.fileselector.FileSelectorPanel(instruction='Select file created by the create_list_of_file_name_vs_time_stamp',\n",
    "                                                   start_dir = system.System.get_working_dir())\n",
    "file_name_ui.show()"
   ]
  },
  {
   "cell_type": "code",
   "execution_count": 4,
   "metadata": {
    "run_control": {
     "frozen": false,
     "read_only": false
    }
   },
   "outputs": [
    {
     "data": {
      "text/html": [
       "<div>\n",
       "<style>\n",
       "    .dataframe thead tr:only-child th {\n",
       "        text-align: right;\n",
       "    }\n",
       "\n",
       "    .dataframe thead th {\n",
       "        text-align: left;\n",
       "    }\n",
       "\n",
       "    .dataframe tbody tr th {\n",
       "        vertical-align: top;\n",
       "    }\n",
       "</style>\n",
       "<table border=\"1\" class=\"dataframe\">\n",
       "  <thead>\n",
       "    <tr style=\"text-align: right;\">\n",
       "      <th></th>\n",
       "      <th>filename</th>\n",
       "      <th>time_stamp_s</th>\n",
       "      <th>time_human_readable</th>\n",
       "      <th>time_offset_s</th>\n",
       "    </tr>\n",
       "  </thead>\n",
       "  <tbody>\n",
       "    <tr>\n",
       "      <th>0</th>\n",
       "      <td>/Volumes/my_book_thunderbolt_duo/IPTS/IPTS_188...</td>\n",
       "      <td>2.147299e+09</td>\n",
       "      <td>2038-01-16 18:51:58</td>\n",
       "      <td>0.0</td>\n",
       "    </tr>\n",
       "    <tr>\n",
       "      <th>1</th>\n",
       "      <td>/Volumes/my_book_thunderbolt_duo/IPTS/IPTS_188...</td>\n",
       "      <td>2.147299e+09</td>\n",
       "      <td>2038-01-16 18:52:33</td>\n",
       "      <td>35.0</td>\n",
       "    </tr>\n",
       "    <tr>\n",
       "      <th>2</th>\n",
       "      <td>/Volumes/my_book_thunderbolt_duo/IPTS/IPTS_188...</td>\n",
       "      <td>2.147299e+09</td>\n",
       "      <td>2038-01-16 18:56:33</td>\n",
       "      <td>275.0</td>\n",
       "    </tr>\n",
       "    <tr>\n",
       "      <th>3</th>\n",
       "      <td>/Volumes/my_book_thunderbolt_duo/IPTS/IPTS_188...</td>\n",
       "      <td>2.147299e+09</td>\n",
       "      <td>2038-01-16 18:57:08</td>\n",
       "      <td>310.0</td>\n",
       "    </tr>\n",
       "    <tr>\n",
       "      <th>4</th>\n",
       "      <td>/Volumes/my_book_thunderbolt_duo/IPTS/IPTS_188...</td>\n",
       "      <td>2.147299e+09</td>\n",
       "      <td>2038-01-16 18:57:43</td>\n",
       "      <td>345.0</td>\n",
       "    </tr>\n",
       "  </tbody>\n",
       "</table>\n",
       "</div>"
      ],
      "text/plain": [
       "                                            filename  time_stamp_s  \\\n",
       "0  /Volumes/my_book_thunderbolt_duo/IPTS/IPTS_188...  2.147299e+09   \n",
       "1  /Volumes/my_book_thunderbolt_duo/IPTS/IPTS_188...  2.147299e+09   \n",
       "2  /Volumes/my_book_thunderbolt_duo/IPTS/IPTS_188...  2.147299e+09   \n",
       "3  /Volumes/my_book_thunderbolt_duo/IPTS/IPTS_188...  2.147299e+09   \n",
       "4  /Volumes/my_book_thunderbolt_duo/IPTS/IPTS_188...  2.147299e+09   \n",
       "\n",
       "    time_human_readable  time_offset_s  \n",
       "0   2038-01-16 18:51:58            0.0  \n",
       "1   2038-01-16 18:52:33           35.0  \n",
       "2   2038-01-16 18:56:33          275.0  \n",
       "3   2038-01-16 18:57:08          310.0  \n",
       "4   2038-01-16 18:57:43          345.0  "
      ]
     },
     "execution_count": 4,
     "metadata": {},
     "output_type": "execute_result"
    }
   ],
   "source": [
    "list_of_filename_vs_timestamp = file_name_ui.selected\n",
    "pd_file_vs_timestamp = pd.read_csv(list_of_filename_vs_timestamp)\n",
    "pd_file_vs_timestamp.columns = ['filename','time_stamp_s','time_human_readable','time_offset_s']\n",
    "list_of_files = pd_file_vs_timestamp['filename']\n",
    "pd_file_vs_timestamp.head()"
   ]
  },
  {
   "cell_type": "markdown",
   "metadata": {
    "collapsed": true,
    "run_control": {
     "frozen": false,
     "read_only": false
    }
   },
   "source": [
    "### Parse the file names"
   ]
  },
  {
   "cell_type": "code",
   "execution_count": 29,
   "metadata": {
    "run_control": {
     "frozen": false,
     "read_only": false
    }
   },
   "outputs": [],
   "source": [
    "import os, re\n",
    "from collections import OrderedDict\n",
    "\n",
    "my_re = r\"\\w*_(?P<temperature>\\w+)_(?P<pressure>\\w+)_\\d{4}_(?P<digit>\\d{4}).tiff$\"\n",
    "exp_dict = OrderedDict()\n",
    "_new_exp = {'list_of_files': [], \n",
    "            'T':'', \n",
    "            'P':'', \n",
    "            'list_of_images':[], \n",
    "            'working_image': {'type': '',\n",
    "                              'image': []},\n",
    "            'folder': ''}\n",
    "\n",
    "previous_T = ''\n",
    "previous_P = ''\n",
    "\n",
    "exp_index = 0\n",
    "for _index, _file in enumerate(list_of_files):\n",
    "    _path = os.path.dirname(_file)\n",
    "    _file = os.path.basename(_file)\n",
    "    m = re.match(my_re, _file)\n",
    "    if m is None:\n",
    "        continue\n",
    "\n",
    "    if m:\n",
    "        _T = m.group('temperature')\n",
    "        _P = m.group('pressure')\n",
    "    else:\n",
    "        _T = 'N/A'\n",
    "        _P = 'N/A'\n",
    "\n",
    "    # first entry\n",
    "    if _new_exp['list_of_files'] == []:\n",
    "        _new_exp['list_of_files'] = [os.path.basename(_file)]\n",
    "        _new_exp['folder'] = _path\n",
    "        \n",
    "        _new_exp['T'] = _T\n",
    "        previous_T = _T\n",
    "            \n",
    "        _new_exp['P'] = _P\n",
    "        previous_P = _P\n",
    "            \n",
    "    # after first entry\n",
    "    else:\n",
    "        \n",
    "        if (_T == previous_T) and (_P == previous_P):\n",
    "            # found the same T and P, just append file to list of files\n",
    "            _new_exp['list_of_files'].append(_file)\n",
    "            \n",
    "        else:\n",
    "            # we found a new T or new P, save previous dict and initialization of new one\n",
    "            exp_dict[str(exp_index)] = _new_exp\n",
    "            exp_index += 1\n",
    "            _new_exp = {'list_of_files': [], \n",
    "                        'T':'', \n",
    "                        'P':'', \n",
    "                        'list_of_images':[], \n",
    "                        'working_image': {'type': '',\n",
    "                                          'image': []},\n",
    "                        'folder': ''}\n",
    "\n",
    "            # start recording new entry\n",
    "            _new_exp['list_of_files'] = [os.path.basename(_file)]\n",
    "            _new_exp['folder'] = _path\n",
    "        \n",
    "            _new_exp['T'] = _T\n",
    "            previous_T = _T\n",
    "            \n",
    "            _new_exp['P'] = _P\n",
    "            previous_P = _P\n",
    "        \n",
    "    # last entry, force the save of the dictionary\n",
    "    if _index == len(list_of_files)-1:\n",
    "        exp_dict[str(exp_index)] = _new_exp\n",
    "        \n",
    "#exp_dict"
   ]
  },
  {
   "cell_type": "markdown",
   "metadata": {
    "run_control": {
     "frozen": false,
     "read_only": false
    }
   },
   "source": [
    "History"
   ]
  },
  {
   "cell_type": "code",
   "execution_count": 30,
   "metadata": {},
   "outputs": [
    {
     "name": "stdout",
     "output_type": "stream",
     "text": [
      "T:cooling and P:00Bar with 66 files\n",
      "T:200K and P:00Bar with 5 files\n",
      "T:200K and P:94Bar with 5 files\n",
      "T:200K and P:60Bar with 5 files\n",
      "T:200K and P:30Bar with 5 files\n",
      "T:200K and P:08Bar with 5 files\n",
      "T:200K and P:04Bar with 5 files\n",
      "T:200K and P:00Bar with 5 files\n",
      "T:150K and P:92Bar with 6 files\n",
      "T:150K and P:61Bar with 5 files\n",
      "T:150K and P:30Bar with 5 files\n",
      "T:150K and P:15Bar with 5 files\n",
      "T:150K and P:08Bar with 10 files\n",
      "T:150K and P:04Bar with 2 files\n"
     ]
    }
   ],
   "source": [
    "for _key in exp_dict.keys():\n",
    "    _item = exp_dict[_key]\n",
    "    _t = _item['T']\n",
    "    _p = _item['P']\n",
    "    _nbr_files = len(_item['list_of_files'])\n",
    "    \n",
    "    print(\"T:{} and P:{} with {} files\".format(_t, _p, _nbr_files))"
   ]
  },
  {
   "cell_type": "markdown",
   "metadata": {},
   "source": [
    "# Load the data "
   ]
  },
  {
   "cell_type": "code",
   "execution_count": 11,
   "metadata": {
    "collapsed": true
   },
   "outputs": [],
   "source": [
    "from NeuNorm.normalization import Normalization\n",
    "from ipywidgets import widgets\n",
    "import matplotlib.pyplot as plt"
   ]
  },
  {
   "cell_type": "code",
   "execution_count": 12,
   "metadata": {
    "collapsed": true
   },
   "outputs": [],
   "source": [
    "%matplotlib notebook"
   ]
  },
  {
   "cell_type": "code",
   "execution_count": 37,
   "metadata": {},
   "outputs": [
    {
     "data": {
      "application/vnd.jupyter.widget-view+json": {
       "model_id": "984e5c810d32488687075f8dae28279c",
       "version_major": 2,
       "version_minor": 0
      },
      "text/html": [
       "<p>Failed to display Jupyter Widget of type <code>IntProgress</code>.</p>\n",
       "<p>\n",
       "  If you're reading this message in Jupyter Notebook or JupyterLab, it may mean\n",
       "  that the widgets JavaScript is still loading. If this message persists, it\n",
       "  likely means that the widgets JavaScript library is either not installed or\n",
       "  not enabled. See the <a href=\"https://ipywidgets.readthedocs.io/en/stable/user_install.html\">Jupyter\n",
       "  Widgets Documentation</a> for setup instructions.\n",
       "</p>\n",
       "<p>\n",
       "  If you're reading this message in another notebook frontend (for example, a static\n",
       "  rendering on GitHub or <a href=\"https://nbviewer.jupyter.org/\">NBViewer</a>),\n",
       "  it may mean that your frontend doesn't currently support widgets.\n",
       "</p>\n"
      ],
      "text/plain": [
       "IntProgress(value=0, description='Full Progress', max=14)"
      ]
     },
     "metadata": {},
     "output_type": "display_data"
    },
    {
     "data": {
      "application/vnd.jupyter.widget-view+json": {
       "model_id": "2c44f22e13e746c98fdf5a57c9e750bf",
       "version_major": 2,
       "version_minor": 0
      },
      "text/html": [
       "<p>Failed to display Jupyter Widget of type <code>HBox</code>.</p>\n",
       "<p>\n",
       "  If you're reading this message in Jupyter Notebook or JupyterLab, it may mean\n",
       "  that the widgets JavaScript is still loading. If this message persists, it\n",
       "  likely means that the widgets JavaScript library is either not installed or\n",
       "  not enabled. See the <a href=\"https://ipywidgets.readthedocs.io/en/stable/user_install.html\">Jupyter\n",
       "  Widgets Documentation</a> for setup instructions.\n",
       "</p>\n",
       "<p>\n",
       "  If you're reading this message in another notebook frontend (for example, a static\n",
       "  rendering on GitHub or <a href=\"https://nbviewer.jupyter.org/\">NBViewer</a>),\n",
       "  it may mean that your frontend doesn't currently support widgets.\n",
       "</p>\n"
      ],
      "text/plain": [
       "HBox(children=(Label(value='Loading sample', layout=Layout(width='20%')), IntProgress(value=0, max=66)))"
      ]
     },
     "metadata": {},
     "output_type": "display_data"
    },
    {
     "data": {
      "application/vnd.jupyter.widget-view+json": {
       "model_id": "4435647fcb134b1ebaf1f6e5cd8ae620",
       "version_major": 2,
       "version_minor": 0
      },
      "text/html": [
       "<p>Failed to display Jupyter Widget of type <code>HBox</code>.</p>\n",
       "<p>\n",
       "  If you're reading this message in Jupyter Notebook or JupyterLab, it may mean\n",
       "  that the widgets JavaScript is still loading. If this message persists, it\n",
       "  likely means that the widgets JavaScript library is either not installed or\n",
       "  not enabled. See the <a href=\"https://ipywidgets.readthedocs.io/en/stable/user_install.html\">Jupyter\n",
       "  Widgets Documentation</a> for setup instructions.\n",
       "</p>\n",
       "<p>\n",
       "  If you're reading this message in another notebook frontend (for example, a static\n",
       "  rendering on GitHub or <a href=\"https://nbviewer.jupyter.org/\">NBViewer</a>),\n",
       "  it may mean that your frontend doesn't currently support widgets.\n",
       "</p>\n"
      ],
      "text/plain": [
       "HBox(children=(Label(value='Loading sample', layout=Layout(width='20%')), IntProgress(value=0, max=5)))"
      ]
     },
     "metadata": {},
     "output_type": "display_data"
    },
    {
     "data": {
      "application/vnd.jupyter.widget-view+json": {
       "model_id": "2fe857cb02da45fda56c8cbef8baa20d",
       "version_major": 2,
       "version_minor": 0
      },
      "text/html": [
       "<p>Failed to display Jupyter Widget of type <code>HBox</code>.</p>\n",
       "<p>\n",
       "  If you're reading this message in Jupyter Notebook or JupyterLab, it may mean\n",
       "  that the widgets JavaScript is still loading. If this message persists, it\n",
       "  likely means that the widgets JavaScript library is either not installed or\n",
       "  not enabled. See the <a href=\"https://ipywidgets.readthedocs.io/en/stable/user_install.html\">Jupyter\n",
       "  Widgets Documentation</a> for setup instructions.\n",
       "</p>\n",
       "<p>\n",
       "  If you're reading this message in another notebook frontend (for example, a static\n",
       "  rendering on GitHub or <a href=\"https://nbviewer.jupyter.org/\">NBViewer</a>),\n",
       "  it may mean that your frontend doesn't currently support widgets.\n",
       "</p>\n"
      ],
      "text/plain": [
       "HBox(children=(Label(value='Loading sample', layout=Layout(width='20%')), IntProgress(value=0, max=5)))"
      ]
     },
     "metadata": {},
     "output_type": "display_data"
    },
    {
     "data": {
      "application/vnd.jupyter.widget-view+json": {
       "model_id": "a4ea5186b5cb4b4a9a04464883e6b5e3",
       "version_major": 2,
       "version_minor": 0
      },
      "text/html": [
       "<p>Failed to display Jupyter Widget of type <code>HBox</code>.</p>\n",
       "<p>\n",
       "  If you're reading this message in Jupyter Notebook or JupyterLab, it may mean\n",
       "  that the widgets JavaScript is still loading. If this message persists, it\n",
       "  likely means that the widgets JavaScript library is either not installed or\n",
       "  not enabled. See the <a href=\"https://ipywidgets.readthedocs.io/en/stable/user_install.html\">Jupyter\n",
       "  Widgets Documentation</a> for setup instructions.\n",
       "</p>\n",
       "<p>\n",
       "  If you're reading this message in another notebook frontend (for example, a static\n",
       "  rendering on GitHub or <a href=\"https://nbviewer.jupyter.org/\">NBViewer</a>),\n",
       "  it may mean that your frontend doesn't currently support widgets.\n",
       "</p>\n"
      ],
      "text/plain": [
       "HBox(children=(Label(value='Loading sample', layout=Layout(width='20%')), IntProgress(value=0, max=5)))"
      ]
     },
     "metadata": {},
     "output_type": "display_data"
    },
    {
     "data": {
      "application/vnd.jupyter.widget-view+json": {
       "model_id": "3656f0545b9e4993ae4277bbfdef5e85",
       "version_major": 2,
       "version_minor": 0
      },
      "text/html": [
       "<p>Failed to display Jupyter Widget of type <code>HBox</code>.</p>\n",
       "<p>\n",
       "  If you're reading this message in Jupyter Notebook or JupyterLab, it may mean\n",
       "  that the widgets JavaScript is still loading. If this message persists, it\n",
       "  likely means that the widgets JavaScript library is either not installed or\n",
       "  not enabled. See the <a href=\"https://ipywidgets.readthedocs.io/en/stable/user_install.html\">Jupyter\n",
       "  Widgets Documentation</a> for setup instructions.\n",
       "</p>\n",
       "<p>\n",
       "  If you're reading this message in another notebook frontend (for example, a static\n",
       "  rendering on GitHub or <a href=\"https://nbviewer.jupyter.org/\">NBViewer</a>),\n",
       "  it may mean that your frontend doesn't currently support widgets.\n",
       "</p>\n"
      ],
      "text/plain": [
       "HBox(children=(Label(value='Loading sample', layout=Layout(width='20%')), IntProgress(value=0, max=5)))"
      ]
     },
     "metadata": {},
     "output_type": "display_data"
    },
    {
     "data": {
      "application/vnd.jupyter.widget-view+json": {
       "model_id": "cb8f2219f95b43b8aed0d2fdda3c9613",
       "version_major": 2,
       "version_minor": 0
      },
      "text/html": [
       "<p>Failed to display Jupyter Widget of type <code>HBox</code>.</p>\n",
       "<p>\n",
       "  If you're reading this message in Jupyter Notebook or JupyterLab, it may mean\n",
       "  that the widgets JavaScript is still loading. If this message persists, it\n",
       "  likely means that the widgets JavaScript library is either not installed or\n",
       "  not enabled. See the <a href=\"https://ipywidgets.readthedocs.io/en/stable/user_install.html\">Jupyter\n",
       "  Widgets Documentation</a> for setup instructions.\n",
       "</p>\n",
       "<p>\n",
       "  If you're reading this message in another notebook frontend (for example, a static\n",
       "  rendering on GitHub or <a href=\"https://nbviewer.jupyter.org/\">NBViewer</a>),\n",
       "  it may mean that your frontend doesn't currently support widgets.\n",
       "</p>\n"
      ],
      "text/plain": [
       "HBox(children=(Label(value='Loading sample', layout=Layout(width='20%')), IntProgress(value=0, max=5)))"
      ]
     },
     "metadata": {},
     "output_type": "display_data"
    },
    {
     "data": {
      "application/vnd.jupyter.widget-view+json": {
       "model_id": "d7d0f9026d474268a945a985c1b15374",
       "version_major": 2,
       "version_minor": 0
      },
      "text/html": [
       "<p>Failed to display Jupyter Widget of type <code>HBox</code>.</p>\n",
       "<p>\n",
       "  If you're reading this message in Jupyter Notebook or JupyterLab, it may mean\n",
       "  that the widgets JavaScript is still loading. If this message persists, it\n",
       "  likely means that the widgets JavaScript library is either not installed or\n",
       "  not enabled. See the <a href=\"https://ipywidgets.readthedocs.io/en/stable/user_install.html\">Jupyter\n",
       "  Widgets Documentation</a> for setup instructions.\n",
       "</p>\n",
       "<p>\n",
       "  If you're reading this message in another notebook frontend (for example, a static\n",
       "  rendering on GitHub or <a href=\"https://nbviewer.jupyter.org/\">NBViewer</a>),\n",
       "  it may mean that your frontend doesn't currently support widgets.\n",
       "</p>\n"
      ],
      "text/plain": [
       "HBox(children=(Label(value='Loading sample', layout=Layout(width='20%')), IntProgress(value=0, max=5)))"
      ]
     },
     "metadata": {},
     "output_type": "display_data"
    },
    {
     "data": {
      "application/vnd.jupyter.widget-view+json": {
       "model_id": "4899f36197c74ba29c1a7860a54ede82",
       "version_major": 2,
       "version_minor": 0
      },
      "text/html": [
       "<p>Failed to display Jupyter Widget of type <code>HBox</code>.</p>\n",
       "<p>\n",
       "  If you're reading this message in Jupyter Notebook or JupyterLab, it may mean\n",
       "  that the widgets JavaScript is still loading. If this message persists, it\n",
       "  likely means that the widgets JavaScript library is either not installed or\n",
       "  not enabled. See the <a href=\"https://ipywidgets.readthedocs.io/en/stable/user_install.html\">Jupyter\n",
       "  Widgets Documentation</a> for setup instructions.\n",
       "</p>\n",
       "<p>\n",
       "  If you're reading this message in another notebook frontend (for example, a static\n",
       "  rendering on GitHub or <a href=\"https://nbviewer.jupyter.org/\">NBViewer</a>),\n",
       "  it may mean that your frontend doesn't currently support widgets.\n",
       "</p>\n"
      ],
      "text/plain": [
       "HBox(children=(Label(value='Loading sample', layout=Layout(width='20%')), IntProgress(value=0, max=5)))"
      ]
     },
     "metadata": {},
     "output_type": "display_data"
    },
    {
     "data": {
      "application/vnd.jupyter.widget-view+json": {
       "model_id": "fcb77141813941d3b5b0e7c86da0722b",
       "version_major": 2,
       "version_minor": 0
      },
      "text/html": [
       "<p>Failed to display Jupyter Widget of type <code>HBox</code>.</p>\n",
       "<p>\n",
       "  If you're reading this message in Jupyter Notebook or JupyterLab, it may mean\n",
       "  that the widgets JavaScript is still loading. If this message persists, it\n",
       "  likely means that the widgets JavaScript library is either not installed or\n",
       "  not enabled. See the <a href=\"https://ipywidgets.readthedocs.io/en/stable/user_install.html\">Jupyter\n",
       "  Widgets Documentation</a> for setup instructions.\n",
       "</p>\n",
       "<p>\n",
       "  If you're reading this message in another notebook frontend (for example, a static\n",
       "  rendering on GitHub or <a href=\"https://nbviewer.jupyter.org/\">NBViewer</a>),\n",
       "  it may mean that your frontend doesn't currently support widgets.\n",
       "</p>\n"
      ],
      "text/plain": [
       "HBox(children=(Label(value='Loading sample', layout=Layout(width='20%')), IntProgress(value=0, max=6)))"
      ]
     },
     "metadata": {},
     "output_type": "display_data"
    },
    {
     "data": {
      "application/vnd.jupyter.widget-view+json": {
       "model_id": "de29b8a42d6242fa949806c8b40eada6",
       "version_major": 2,
       "version_minor": 0
      },
      "text/html": [
       "<p>Failed to display Jupyter Widget of type <code>HBox</code>.</p>\n",
       "<p>\n",
       "  If you're reading this message in Jupyter Notebook or JupyterLab, it may mean\n",
       "  that the widgets JavaScript is still loading. If this message persists, it\n",
       "  likely means that the widgets JavaScript library is either not installed or\n",
       "  not enabled. See the <a href=\"https://ipywidgets.readthedocs.io/en/stable/user_install.html\">Jupyter\n",
       "  Widgets Documentation</a> for setup instructions.\n",
       "</p>\n",
       "<p>\n",
       "  If you're reading this message in another notebook frontend (for example, a static\n",
       "  rendering on GitHub or <a href=\"https://nbviewer.jupyter.org/\">NBViewer</a>),\n",
       "  it may mean that your frontend doesn't currently support widgets.\n",
       "</p>\n"
      ],
      "text/plain": [
       "HBox(children=(Label(value='Loading sample', layout=Layout(width='20%')), IntProgress(value=0, max=5)))"
      ]
     },
     "metadata": {},
     "output_type": "display_data"
    },
    {
     "data": {
      "application/vnd.jupyter.widget-view+json": {
       "model_id": "8aa5a43e99e144ceb856dca31f127f6c",
       "version_major": 2,
       "version_minor": 0
      },
      "text/html": [
       "<p>Failed to display Jupyter Widget of type <code>HBox</code>.</p>\n",
       "<p>\n",
       "  If you're reading this message in Jupyter Notebook or JupyterLab, it may mean\n",
       "  that the widgets JavaScript is still loading. If this message persists, it\n",
       "  likely means that the widgets JavaScript library is either not installed or\n",
       "  not enabled. See the <a href=\"https://ipywidgets.readthedocs.io/en/stable/user_install.html\">Jupyter\n",
       "  Widgets Documentation</a> for setup instructions.\n",
       "</p>\n",
       "<p>\n",
       "  If you're reading this message in another notebook frontend (for example, a static\n",
       "  rendering on GitHub or <a href=\"https://nbviewer.jupyter.org/\">NBViewer</a>),\n",
       "  it may mean that your frontend doesn't currently support widgets.\n",
       "</p>\n"
      ],
      "text/plain": [
       "HBox(children=(Label(value='Loading sample', layout=Layout(width='20%')), IntProgress(value=0, max=5)))"
      ]
     },
     "metadata": {},
     "output_type": "display_data"
    },
    {
     "data": {
      "application/vnd.jupyter.widget-view+json": {
       "model_id": "ca25b7722f7f41f2b03fab940644c64e",
       "version_major": 2,
       "version_minor": 0
      },
      "text/html": [
       "<p>Failed to display Jupyter Widget of type <code>HBox</code>.</p>\n",
       "<p>\n",
       "  If you're reading this message in Jupyter Notebook or JupyterLab, it may mean\n",
       "  that the widgets JavaScript is still loading. If this message persists, it\n",
       "  likely means that the widgets JavaScript library is either not installed or\n",
       "  not enabled. See the <a href=\"https://ipywidgets.readthedocs.io/en/stable/user_install.html\">Jupyter\n",
       "  Widgets Documentation</a> for setup instructions.\n",
       "</p>\n",
       "<p>\n",
       "  If you're reading this message in another notebook frontend (for example, a static\n",
       "  rendering on GitHub or <a href=\"https://nbviewer.jupyter.org/\">NBViewer</a>),\n",
       "  it may mean that your frontend doesn't currently support widgets.\n",
       "</p>\n"
      ],
      "text/plain": [
       "HBox(children=(Label(value='Loading sample', layout=Layout(width='20%')), IntProgress(value=0, max=5)))"
      ]
     },
     "metadata": {},
     "output_type": "display_data"
    },
    {
     "data": {
      "application/vnd.jupyter.widget-view+json": {
       "model_id": "31100480997746cc9d5e7a9d2faa14b1",
       "version_major": 2,
       "version_minor": 0
      },
      "text/html": [
       "<p>Failed to display Jupyter Widget of type <code>HBox</code>.</p>\n",
       "<p>\n",
       "  If you're reading this message in Jupyter Notebook or JupyterLab, it may mean\n",
       "  that the widgets JavaScript is still loading. If this message persists, it\n",
       "  likely means that the widgets JavaScript library is either not installed or\n",
       "  not enabled. See the <a href=\"https://ipywidgets.readthedocs.io/en/stable/user_install.html\">Jupyter\n",
       "  Widgets Documentation</a> for setup instructions.\n",
       "</p>\n",
       "<p>\n",
       "  If you're reading this message in another notebook frontend (for example, a static\n",
       "  rendering on GitHub or <a href=\"https://nbviewer.jupyter.org/\">NBViewer</a>),\n",
       "  it may mean that your frontend doesn't currently support widgets.\n",
       "</p>\n"
      ],
      "text/plain": [
       "HBox(children=(Label(value='Loading sample', layout=Layout(width='20%')), IntProgress(value=0, max=10)))"
      ]
     },
     "metadata": {},
     "output_type": "display_data"
    },
    {
     "data": {
      "application/vnd.jupyter.widget-view+json": {
       "model_id": "2b66838590584eb295988b96c960d2af",
       "version_major": 2,
       "version_minor": 0
      },
      "text/html": [
       "<p>Failed to display Jupyter Widget of type <code>HBox</code>.</p>\n",
       "<p>\n",
       "  If you're reading this message in Jupyter Notebook or JupyterLab, it may mean\n",
       "  that the widgets JavaScript is still loading. If this message persists, it\n",
       "  likely means that the widgets JavaScript library is either not installed or\n",
       "  not enabled. See the <a href=\"https://ipywidgets.readthedocs.io/en/stable/user_install.html\">Jupyter\n",
       "  Widgets Documentation</a> for setup instructions.\n",
       "</p>\n",
       "<p>\n",
       "  If you're reading this message in another notebook frontend (for example, a static\n",
       "  rendering on GitHub or <a href=\"https://nbviewer.jupyter.org/\">NBViewer</a>),\n",
       "  it may mean that your frontend doesn't currently support widgets.\n",
       "</p>\n"
      ],
      "text/plain": [
       "HBox(children=(Label(value='Loading sample', layout=Layout(width='20%')), IntProgress(value=0, max=2)))"
      ]
     },
     "metadata": {},
     "output_type": "display_data"
    }
   ],
   "source": [
    "w = widgets.IntProgress(description=\"Full Progress\")\n",
    "w.max = len(exp_dict.keys())\n",
    "display(w)\n",
    "\n",
    "for _index, _key in enumerate(exp_dict.keys()):\n",
    "    _item = exp_dict[_key]\n",
    "    _path = _item['folder']\n",
    "    list_files = _item['list_of_files']\n",
    "    full_list_files = [os.path.join(_path, _file) for _file in list_files]\n",
    "    o_norm = Normalization()\n",
    "    o_norm.load(file=full_list_files, notebook=True)\n",
    "    _data = o_norm.data['sample']['data']\n",
    "    _item['list_of_images'] = _data\n",
    "    exp_dict[_key] = _item\n",
    "    \n",
    "    w.value = _index+1\n",
    "    \n",
    "w.close()"
   ]
  },
  {
   "cell_type": "markdown",
   "metadata": {},
   "source": [
    "# Which image to use for each group "
   ]
  },
  {
   "cell_type": "markdown",
   "metadata": {},
   "source": [
    "Should we use for each group:\n",
    "* the last image\n",
    "or\n",
    "* the mean of all images"
   ]
  },
  {
   "cell_type": "code",
   "execution_count": 38,
   "metadata": {},
   "outputs": [
    {
     "data": {
      "application/javascript": [
       "/* Put everything inside the global mpl namespace */\n",
       "window.mpl = {};\n",
       "\n",
       "\n",
       "mpl.get_websocket_type = function() {\n",
       "    if (typeof(WebSocket) !== 'undefined') {\n",
       "        return WebSocket;\n",
       "    } else if (typeof(MozWebSocket) !== 'undefined') {\n",
       "        return MozWebSocket;\n",
       "    } else {\n",
       "        alert('Your browser does not have WebSocket support.' +\n",
       "              'Please try Chrome, Safari or Firefox ≥ 6. ' +\n",
       "              'Firefox 4 and 5 are also supported but you ' +\n",
       "              'have to enable WebSockets in about:config.');\n",
       "    };\n",
       "}\n",
       "\n",
       "mpl.figure = function(figure_id, websocket, ondownload, parent_element) {\n",
       "    this.id = figure_id;\n",
       "\n",
       "    this.ws = websocket;\n",
       "\n",
       "    this.supports_binary = (this.ws.binaryType != undefined);\n",
       "\n",
       "    if (!this.supports_binary) {\n",
       "        var warnings = document.getElementById(\"mpl-warnings\");\n",
       "        if (warnings) {\n",
       "            warnings.style.display = 'block';\n",
       "            warnings.textContent = (\n",
       "                \"This browser does not support binary websocket messages. \" +\n",
       "                    \"Performance may be slow.\");\n",
       "        }\n",
       "    }\n",
       "\n",
       "    this.imageObj = new Image();\n",
       "\n",
       "    this.context = undefined;\n",
       "    this.message = undefined;\n",
       "    this.canvas = undefined;\n",
       "    this.rubberband_canvas = undefined;\n",
       "    this.rubberband_context = undefined;\n",
       "    this.format_dropdown = undefined;\n",
       "\n",
       "    this.image_mode = 'full';\n",
       "\n",
       "    this.root = $('<div/>');\n",
       "    this._root_extra_style(this.root)\n",
       "    this.root.attr('style', 'display: inline-block');\n",
       "\n",
       "    $(parent_element).append(this.root);\n",
       "\n",
       "    this._init_header(this);\n",
       "    this._init_canvas(this);\n",
       "    this._init_toolbar(this);\n",
       "\n",
       "    var fig = this;\n",
       "\n",
       "    this.waiting = false;\n",
       "\n",
       "    this.ws.onopen =  function () {\n",
       "            fig.send_message(\"supports_binary\", {value: fig.supports_binary});\n",
       "            fig.send_message(\"send_image_mode\", {});\n",
       "            if (mpl.ratio != 1) {\n",
       "                fig.send_message(\"set_dpi_ratio\", {'dpi_ratio': mpl.ratio});\n",
       "            }\n",
       "            fig.send_message(\"refresh\", {});\n",
       "        }\n",
       "\n",
       "    this.imageObj.onload = function() {\n",
       "            if (fig.image_mode == 'full') {\n",
       "                // Full images could contain transparency (where diff images\n",
       "                // almost always do), so we need to clear the canvas so that\n",
       "                // there is no ghosting.\n",
       "                fig.context.clearRect(0, 0, fig.canvas.width, fig.canvas.height);\n",
       "            }\n",
       "            fig.context.drawImage(fig.imageObj, 0, 0);\n",
       "        };\n",
       "\n",
       "    this.imageObj.onunload = function() {\n",
       "        this.ws.close();\n",
       "    }\n",
       "\n",
       "    this.ws.onmessage = this._make_on_message_function(this);\n",
       "\n",
       "    this.ondownload = ondownload;\n",
       "}\n",
       "\n",
       "mpl.figure.prototype._init_header = function() {\n",
       "    var titlebar = $(\n",
       "        '<div class=\"ui-dialog-titlebar ui-widget-header ui-corner-all ' +\n",
       "        'ui-helper-clearfix\"/>');\n",
       "    var titletext = $(\n",
       "        '<div class=\"ui-dialog-title\" style=\"width: 100%; ' +\n",
       "        'text-align: center; padding: 3px;\"/>');\n",
       "    titlebar.append(titletext)\n",
       "    this.root.append(titlebar);\n",
       "    this.header = titletext[0];\n",
       "}\n",
       "\n",
       "\n",
       "\n",
       "mpl.figure.prototype._canvas_extra_style = function(canvas_div) {\n",
       "\n",
       "}\n",
       "\n",
       "\n",
       "mpl.figure.prototype._root_extra_style = function(canvas_div) {\n",
       "\n",
       "}\n",
       "\n",
       "mpl.figure.prototype._init_canvas = function() {\n",
       "    var fig = this;\n",
       "\n",
       "    var canvas_div = $('<div/>');\n",
       "\n",
       "    canvas_div.attr('style', 'position: relative; clear: both; outline: 0');\n",
       "\n",
       "    function canvas_keyboard_event(event) {\n",
       "        return fig.key_event(event, event['data']);\n",
       "    }\n",
       "\n",
       "    canvas_div.keydown('key_press', canvas_keyboard_event);\n",
       "    canvas_div.keyup('key_release', canvas_keyboard_event);\n",
       "    this.canvas_div = canvas_div\n",
       "    this._canvas_extra_style(canvas_div)\n",
       "    this.root.append(canvas_div);\n",
       "\n",
       "    var canvas = $('<canvas/>');\n",
       "    canvas.addClass('mpl-canvas');\n",
       "    canvas.attr('style', \"left: 0; top: 0; z-index: 0; outline: 0\")\n",
       "\n",
       "    this.canvas = canvas[0];\n",
       "    this.context = canvas[0].getContext(\"2d\");\n",
       "\n",
       "    var backingStore = this.context.backingStorePixelRatio ||\n",
       "\tthis.context.webkitBackingStorePixelRatio ||\n",
       "\tthis.context.mozBackingStorePixelRatio ||\n",
       "\tthis.context.msBackingStorePixelRatio ||\n",
       "\tthis.context.oBackingStorePixelRatio ||\n",
       "\tthis.context.backingStorePixelRatio || 1;\n",
       "\n",
       "    mpl.ratio = (window.devicePixelRatio || 1) / backingStore;\n",
       "\n",
       "    var rubberband = $('<canvas/>');\n",
       "    rubberband.attr('style', \"position: absolute; left: 0; top: 0; z-index: 1;\")\n",
       "\n",
       "    var pass_mouse_events = true;\n",
       "\n",
       "    canvas_div.resizable({\n",
       "        start: function(event, ui) {\n",
       "            pass_mouse_events = false;\n",
       "        },\n",
       "        resize: function(event, ui) {\n",
       "            fig.request_resize(ui.size.width, ui.size.height);\n",
       "        },\n",
       "        stop: function(event, ui) {\n",
       "            pass_mouse_events = true;\n",
       "            fig.request_resize(ui.size.width, ui.size.height);\n",
       "        },\n",
       "    });\n",
       "\n",
       "    function mouse_event_fn(event) {\n",
       "        if (pass_mouse_events)\n",
       "            return fig.mouse_event(event, event['data']);\n",
       "    }\n",
       "\n",
       "    rubberband.mousedown('button_press', mouse_event_fn);\n",
       "    rubberband.mouseup('button_release', mouse_event_fn);\n",
       "    // Throttle sequential mouse events to 1 every 20ms.\n",
       "    rubberband.mousemove('motion_notify', mouse_event_fn);\n",
       "\n",
       "    rubberband.mouseenter('figure_enter', mouse_event_fn);\n",
       "    rubberband.mouseleave('figure_leave', mouse_event_fn);\n",
       "\n",
       "    canvas_div.on(\"wheel\", function (event) {\n",
       "        event = event.originalEvent;\n",
       "        event['data'] = 'scroll'\n",
       "        if (event.deltaY < 0) {\n",
       "            event.step = 1;\n",
       "        } else {\n",
       "            event.step = -1;\n",
       "        }\n",
       "        mouse_event_fn(event);\n",
       "    });\n",
       "\n",
       "    canvas_div.append(canvas);\n",
       "    canvas_div.append(rubberband);\n",
       "\n",
       "    this.rubberband = rubberband;\n",
       "    this.rubberband_canvas = rubberband[0];\n",
       "    this.rubberband_context = rubberband[0].getContext(\"2d\");\n",
       "    this.rubberband_context.strokeStyle = \"#000000\";\n",
       "\n",
       "    this._resize_canvas = function(width, height) {\n",
       "        // Keep the size of the canvas, canvas container, and rubber band\n",
       "        // canvas in synch.\n",
       "        canvas_div.css('width', width)\n",
       "        canvas_div.css('height', height)\n",
       "\n",
       "        canvas.attr('width', width * mpl.ratio);\n",
       "        canvas.attr('height', height * mpl.ratio);\n",
       "        canvas.attr('style', 'width: ' + width + 'px; height: ' + height + 'px;');\n",
       "\n",
       "        rubberband.attr('width', width);\n",
       "        rubberband.attr('height', height);\n",
       "    }\n",
       "\n",
       "    // Set the figure to an initial 600x600px, this will subsequently be updated\n",
       "    // upon first draw.\n",
       "    this._resize_canvas(600, 600);\n",
       "\n",
       "    // Disable right mouse context menu.\n",
       "    $(this.rubberband_canvas).bind(\"contextmenu\",function(e){\n",
       "        return false;\n",
       "    });\n",
       "\n",
       "    function set_focus () {\n",
       "        canvas.focus();\n",
       "        canvas_div.focus();\n",
       "    }\n",
       "\n",
       "    window.setTimeout(set_focus, 100);\n",
       "}\n",
       "\n",
       "mpl.figure.prototype._init_toolbar = function() {\n",
       "    var fig = this;\n",
       "\n",
       "    var nav_element = $('<div/>')\n",
       "    nav_element.attr('style', 'width: 100%');\n",
       "    this.root.append(nav_element);\n",
       "\n",
       "    // Define a callback function for later on.\n",
       "    function toolbar_event(event) {\n",
       "        return fig.toolbar_button_onclick(event['data']);\n",
       "    }\n",
       "    function toolbar_mouse_event(event) {\n",
       "        return fig.toolbar_button_onmouseover(event['data']);\n",
       "    }\n",
       "\n",
       "    for(var toolbar_ind in mpl.toolbar_items) {\n",
       "        var name = mpl.toolbar_items[toolbar_ind][0];\n",
       "        var tooltip = mpl.toolbar_items[toolbar_ind][1];\n",
       "        var image = mpl.toolbar_items[toolbar_ind][2];\n",
       "        var method_name = mpl.toolbar_items[toolbar_ind][3];\n",
       "\n",
       "        if (!name) {\n",
       "            // put a spacer in here.\n",
       "            continue;\n",
       "        }\n",
       "        var button = $('<button/>');\n",
       "        button.addClass('ui-button ui-widget ui-state-default ui-corner-all ' +\n",
       "                        'ui-button-icon-only');\n",
       "        button.attr('role', 'button');\n",
       "        button.attr('aria-disabled', 'false');\n",
       "        button.click(method_name, toolbar_event);\n",
       "        button.mouseover(tooltip, toolbar_mouse_event);\n",
       "\n",
       "        var icon_img = $('<span/>');\n",
       "        icon_img.addClass('ui-button-icon-primary ui-icon');\n",
       "        icon_img.addClass(image);\n",
       "        icon_img.addClass('ui-corner-all');\n",
       "\n",
       "        var tooltip_span = $('<span/>');\n",
       "        tooltip_span.addClass('ui-button-text');\n",
       "        tooltip_span.html(tooltip);\n",
       "\n",
       "        button.append(icon_img);\n",
       "        button.append(tooltip_span);\n",
       "\n",
       "        nav_element.append(button);\n",
       "    }\n",
       "\n",
       "    var fmt_picker_span = $('<span/>');\n",
       "\n",
       "    var fmt_picker = $('<select/>');\n",
       "    fmt_picker.addClass('mpl-toolbar-option ui-widget ui-widget-content');\n",
       "    fmt_picker_span.append(fmt_picker);\n",
       "    nav_element.append(fmt_picker_span);\n",
       "    this.format_dropdown = fmt_picker[0];\n",
       "\n",
       "    for (var ind in mpl.extensions) {\n",
       "        var fmt = mpl.extensions[ind];\n",
       "        var option = $(\n",
       "            '<option/>', {selected: fmt === mpl.default_extension}).html(fmt);\n",
       "        fmt_picker.append(option)\n",
       "    }\n",
       "\n",
       "    // Add hover states to the ui-buttons\n",
       "    $( \".ui-button\" ).hover(\n",
       "        function() { $(this).addClass(\"ui-state-hover\");},\n",
       "        function() { $(this).removeClass(\"ui-state-hover\");}\n",
       "    );\n",
       "\n",
       "    var status_bar = $('<span class=\"mpl-message\"/>');\n",
       "    nav_element.append(status_bar);\n",
       "    this.message = status_bar[0];\n",
       "}\n",
       "\n",
       "mpl.figure.prototype.request_resize = function(x_pixels, y_pixels) {\n",
       "    // Request matplotlib to resize the figure. Matplotlib will then trigger a resize in the client,\n",
       "    // which will in turn request a refresh of the image.\n",
       "    this.send_message('resize', {'width': x_pixels, 'height': y_pixels});\n",
       "}\n",
       "\n",
       "mpl.figure.prototype.send_message = function(type, properties) {\n",
       "    properties['type'] = type;\n",
       "    properties['figure_id'] = this.id;\n",
       "    this.ws.send(JSON.stringify(properties));\n",
       "}\n",
       "\n",
       "mpl.figure.prototype.send_draw_message = function() {\n",
       "    if (!this.waiting) {\n",
       "        this.waiting = true;\n",
       "        this.ws.send(JSON.stringify({type: \"draw\", figure_id: this.id}));\n",
       "    }\n",
       "}\n",
       "\n",
       "\n",
       "mpl.figure.prototype.handle_save = function(fig, msg) {\n",
       "    var format_dropdown = fig.format_dropdown;\n",
       "    var format = format_dropdown.options[format_dropdown.selectedIndex].value;\n",
       "    fig.ondownload(fig, format);\n",
       "}\n",
       "\n",
       "\n",
       "mpl.figure.prototype.handle_resize = function(fig, msg) {\n",
       "    var size = msg['size'];\n",
       "    if (size[0] != fig.canvas.width || size[1] != fig.canvas.height) {\n",
       "        fig._resize_canvas(size[0], size[1]);\n",
       "        fig.send_message(\"refresh\", {});\n",
       "    };\n",
       "}\n",
       "\n",
       "mpl.figure.prototype.handle_rubberband = function(fig, msg) {\n",
       "    var x0 = msg['x0'] / mpl.ratio;\n",
       "    var y0 = (fig.canvas.height - msg['y0']) / mpl.ratio;\n",
       "    var x1 = msg['x1'] / mpl.ratio;\n",
       "    var y1 = (fig.canvas.height - msg['y1']) / mpl.ratio;\n",
       "    x0 = Math.floor(x0) + 0.5;\n",
       "    y0 = Math.floor(y0) + 0.5;\n",
       "    x1 = Math.floor(x1) + 0.5;\n",
       "    y1 = Math.floor(y1) + 0.5;\n",
       "    var min_x = Math.min(x0, x1);\n",
       "    var min_y = Math.min(y0, y1);\n",
       "    var width = Math.abs(x1 - x0);\n",
       "    var height = Math.abs(y1 - y0);\n",
       "\n",
       "    fig.rubberband_context.clearRect(\n",
       "        0, 0, fig.canvas.width, fig.canvas.height);\n",
       "\n",
       "    fig.rubberband_context.strokeRect(min_x, min_y, width, height);\n",
       "}\n",
       "\n",
       "mpl.figure.prototype.handle_figure_label = function(fig, msg) {\n",
       "    // Updates the figure title.\n",
       "    fig.header.textContent = msg['label'];\n",
       "}\n",
       "\n",
       "mpl.figure.prototype.handle_cursor = function(fig, msg) {\n",
       "    var cursor = msg['cursor'];\n",
       "    switch(cursor)\n",
       "    {\n",
       "    case 0:\n",
       "        cursor = 'pointer';\n",
       "        break;\n",
       "    case 1:\n",
       "        cursor = 'default';\n",
       "        break;\n",
       "    case 2:\n",
       "        cursor = 'crosshair';\n",
       "        break;\n",
       "    case 3:\n",
       "        cursor = 'move';\n",
       "        break;\n",
       "    }\n",
       "    fig.rubberband_canvas.style.cursor = cursor;\n",
       "}\n",
       "\n",
       "mpl.figure.prototype.handle_message = function(fig, msg) {\n",
       "    fig.message.textContent = msg['message'];\n",
       "}\n",
       "\n",
       "mpl.figure.prototype.handle_draw = function(fig, msg) {\n",
       "    // Request the server to send over a new figure.\n",
       "    fig.send_draw_message();\n",
       "}\n",
       "\n",
       "mpl.figure.prototype.handle_image_mode = function(fig, msg) {\n",
       "    fig.image_mode = msg['mode'];\n",
       "}\n",
       "\n",
       "mpl.figure.prototype.updated_canvas_event = function() {\n",
       "    // Called whenever the canvas gets updated.\n",
       "    this.send_message(\"ack\", {});\n",
       "}\n",
       "\n",
       "// A function to construct a web socket function for onmessage handling.\n",
       "// Called in the figure constructor.\n",
       "mpl.figure.prototype._make_on_message_function = function(fig) {\n",
       "    return function socket_on_message(evt) {\n",
       "        if (evt.data instanceof Blob) {\n",
       "            /* FIXME: We get \"Resource interpreted as Image but\n",
       "             * transferred with MIME type text/plain:\" errors on\n",
       "             * Chrome.  But how to set the MIME type?  It doesn't seem\n",
       "             * to be part of the websocket stream */\n",
       "            evt.data.type = \"image/png\";\n",
       "\n",
       "            /* Free the memory for the previous frames */\n",
       "            if (fig.imageObj.src) {\n",
       "                (window.URL || window.webkitURL).revokeObjectURL(\n",
       "                    fig.imageObj.src);\n",
       "            }\n",
       "\n",
       "            fig.imageObj.src = (window.URL || window.webkitURL).createObjectURL(\n",
       "                evt.data);\n",
       "            fig.updated_canvas_event();\n",
       "            fig.waiting = false;\n",
       "            return;\n",
       "        }\n",
       "        else if (typeof evt.data === 'string' && evt.data.slice(0, 21) == \"data:image/png;base64\") {\n",
       "            fig.imageObj.src = evt.data;\n",
       "            fig.updated_canvas_event();\n",
       "            fig.waiting = false;\n",
       "            return;\n",
       "        }\n",
       "\n",
       "        var msg = JSON.parse(evt.data);\n",
       "        var msg_type = msg['type'];\n",
       "\n",
       "        // Call the  \"handle_{type}\" callback, which takes\n",
       "        // the figure and JSON message as its only arguments.\n",
       "        try {\n",
       "            var callback = fig[\"handle_\" + msg_type];\n",
       "        } catch (e) {\n",
       "            console.log(\"No handler for the '\" + msg_type + \"' message type: \", msg);\n",
       "            return;\n",
       "        }\n",
       "\n",
       "        if (callback) {\n",
       "            try {\n",
       "                // console.log(\"Handling '\" + msg_type + \"' message: \", msg);\n",
       "                callback(fig, msg);\n",
       "            } catch (e) {\n",
       "                console.log(\"Exception inside the 'handler_\" + msg_type + \"' callback:\", e, e.stack, msg);\n",
       "            }\n",
       "        }\n",
       "    };\n",
       "}\n",
       "\n",
       "// from http://stackoverflow.com/questions/1114465/getting-mouse-location-in-canvas\n",
       "mpl.findpos = function(e) {\n",
       "    //this section is from http://www.quirksmode.org/js/events_properties.html\n",
       "    var targ;\n",
       "    if (!e)\n",
       "        e = window.event;\n",
       "    if (e.target)\n",
       "        targ = e.target;\n",
       "    else if (e.srcElement)\n",
       "        targ = e.srcElement;\n",
       "    if (targ.nodeType == 3) // defeat Safari bug\n",
       "        targ = targ.parentNode;\n",
       "\n",
       "    // jQuery normalizes the pageX and pageY\n",
       "    // pageX,Y are the mouse positions relative to the document\n",
       "    // offset() returns the position of the element relative to the document\n",
       "    var x = e.pageX - $(targ).offset().left;\n",
       "    var y = e.pageY - $(targ).offset().top;\n",
       "\n",
       "    return {\"x\": x, \"y\": y};\n",
       "};\n",
       "\n",
       "/*\n",
       " * return a copy of an object with only non-object keys\n",
       " * we need this to avoid circular references\n",
       " * http://stackoverflow.com/a/24161582/3208463\n",
       " */\n",
       "function simpleKeys (original) {\n",
       "  return Object.keys(original).reduce(function (obj, key) {\n",
       "    if (typeof original[key] !== 'object')\n",
       "        obj[key] = original[key]\n",
       "    return obj;\n",
       "  }, {});\n",
       "}\n",
       "\n",
       "mpl.figure.prototype.mouse_event = function(event, name) {\n",
       "    var canvas_pos = mpl.findpos(event)\n",
       "\n",
       "    if (name === 'button_press')\n",
       "    {\n",
       "        this.canvas.focus();\n",
       "        this.canvas_div.focus();\n",
       "    }\n",
       "\n",
       "    var x = canvas_pos.x * mpl.ratio;\n",
       "    var y = canvas_pos.y * mpl.ratio;\n",
       "\n",
       "    this.send_message(name, {x: x, y: y, button: event.button,\n",
       "                             step: event.step,\n",
       "                             guiEvent: simpleKeys(event)});\n",
       "\n",
       "    /* This prevents the web browser from automatically changing to\n",
       "     * the text insertion cursor when the button is pressed.  We want\n",
       "     * to control all of the cursor setting manually through the\n",
       "     * 'cursor' event from matplotlib */\n",
       "    event.preventDefault();\n",
       "    return false;\n",
       "}\n",
       "\n",
       "mpl.figure.prototype._key_event_extra = function(event, name) {\n",
       "    // Handle any extra behaviour associated with a key event\n",
       "}\n",
       "\n",
       "mpl.figure.prototype.key_event = function(event, name) {\n",
       "\n",
       "    // Prevent repeat events\n",
       "    if (name == 'key_press')\n",
       "    {\n",
       "        if (event.which === this._key)\n",
       "            return;\n",
       "        else\n",
       "            this._key = event.which;\n",
       "    }\n",
       "    if (name == 'key_release')\n",
       "        this._key = null;\n",
       "\n",
       "    var value = '';\n",
       "    if (event.ctrlKey && event.which != 17)\n",
       "        value += \"ctrl+\";\n",
       "    if (event.altKey && event.which != 18)\n",
       "        value += \"alt+\";\n",
       "    if (event.shiftKey && event.which != 16)\n",
       "        value += \"shift+\";\n",
       "\n",
       "    value += 'k';\n",
       "    value += event.which.toString();\n",
       "\n",
       "    this._key_event_extra(event, name);\n",
       "\n",
       "    this.send_message(name, {key: value,\n",
       "                             guiEvent: simpleKeys(event)});\n",
       "    return false;\n",
       "}\n",
       "\n",
       "mpl.figure.prototype.toolbar_button_onclick = function(name) {\n",
       "    if (name == 'download') {\n",
       "        this.handle_save(this, null);\n",
       "    } else {\n",
       "        this.send_message(\"toolbar_button\", {name: name});\n",
       "    }\n",
       "};\n",
       "\n",
       "mpl.figure.prototype.toolbar_button_onmouseover = function(tooltip) {\n",
       "    this.message.textContent = tooltip;\n",
       "};\n",
       "mpl.toolbar_items = [[\"Home\", \"Reset original view\", \"fa fa-home icon-home\", \"home\"], [\"Back\", \"Back to  previous view\", \"fa fa-arrow-left icon-arrow-left\", \"back\"], [\"Forward\", \"Forward to next view\", \"fa fa-arrow-right icon-arrow-right\", \"forward\"], [\"\", \"\", \"\", \"\"], [\"Pan\", \"Pan axes with left mouse, zoom with right\", \"fa fa-arrows icon-move\", \"pan\"], [\"Zoom\", \"Zoom to rectangle\", \"fa fa-square-o icon-check-empty\", \"zoom\"], [\"\", \"\", \"\", \"\"], [\"Download\", \"Download plot\", \"fa fa-floppy-o icon-save\", \"download\"]];\n",
       "\n",
       "mpl.extensions = [\"eps\", \"jpeg\", \"pdf\", \"png\", \"ps\", \"raw\", \"svg\", \"tif\"];\n",
       "\n",
       "mpl.default_extension = \"png\";var comm_websocket_adapter = function(comm) {\n",
       "    // Create a \"websocket\"-like object which calls the given IPython comm\n",
       "    // object with the appropriate methods. Currently this is a non binary\n",
       "    // socket, so there is still some room for performance tuning.\n",
       "    var ws = {};\n",
       "\n",
       "    ws.close = function() {\n",
       "        comm.close()\n",
       "    };\n",
       "    ws.send = function(m) {\n",
       "        //console.log('sending', m);\n",
       "        comm.send(m);\n",
       "    };\n",
       "    // Register the callback with on_msg.\n",
       "    comm.on_msg(function(msg) {\n",
       "        //console.log('receiving', msg['content']['data'], msg);\n",
       "        // Pass the mpl event to the overriden (by mpl) onmessage function.\n",
       "        ws.onmessage(msg['content']['data'])\n",
       "    });\n",
       "    return ws;\n",
       "}\n",
       "\n",
       "mpl.mpl_figure_comm = function(comm, msg) {\n",
       "    // This is the function which gets called when the mpl process\n",
       "    // starts-up an IPython Comm through the \"matplotlib\" channel.\n",
       "\n",
       "    var id = msg.content.data.id;\n",
       "    // Get hold of the div created by the display call when the Comm\n",
       "    // socket was opened in Python.\n",
       "    var element = $(\"#\" + id);\n",
       "    var ws_proxy = comm_websocket_adapter(comm)\n",
       "\n",
       "    function ondownload(figure, format) {\n",
       "        window.open(figure.imageObj.src);\n",
       "    }\n",
       "\n",
       "    var fig = new mpl.figure(id, ws_proxy,\n",
       "                           ondownload,\n",
       "                           element.get(0));\n",
       "\n",
       "    // Call onopen now - mpl needs it, as it is assuming we've passed it a real\n",
       "    // web socket which is closed, not our websocket->open comm proxy.\n",
       "    ws_proxy.onopen();\n",
       "\n",
       "    fig.parent_element = element.get(0);\n",
       "    fig.cell_info = mpl.find_output_cell(\"<div id='\" + id + \"'></div>\");\n",
       "    if (!fig.cell_info) {\n",
       "        console.error(\"Failed to find cell for figure\", id, fig);\n",
       "        return;\n",
       "    }\n",
       "\n",
       "    var output_index = fig.cell_info[2]\n",
       "    var cell = fig.cell_info[0];\n",
       "\n",
       "};\n",
       "\n",
       "mpl.figure.prototype.handle_close = function(fig, msg) {\n",
       "    var width = fig.canvas.width/mpl.ratio\n",
       "    fig.root.unbind('remove')\n",
       "\n",
       "    // Update the output cell to use the data from the current canvas.\n",
       "    fig.push_to_output();\n",
       "    var dataURL = fig.canvas.toDataURL();\n",
       "    // Re-enable the keyboard manager in IPython - without this line, in FF,\n",
       "    // the notebook keyboard shortcuts fail.\n",
       "    IPython.keyboard_manager.enable()\n",
       "    $(fig.parent_element).html('<img src=\"' + dataURL + '\" width=\"' + width + '\">');\n",
       "    fig.close_ws(fig, msg);\n",
       "}\n",
       "\n",
       "mpl.figure.prototype.close_ws = function(fig, msg){\n",
       "    fig.send_message('closing', msg);\n",
       "    // fig.ws.close()\n",
       "}\n",
       "\n",
       "mpl.figure.prototype.push_to_output = function(remove_interactive) {\n",
       "    // Turn the data on the canvas into data in the output cell.\n",
       "    var width = this.canvas.width/mpl.ratio\n",
       "    var dataURL = this.canvas.toDataURL();\n",
       "    this.cell_info[1]['text/html'] = '<img src=\"' + dataURL + '\" width=\"' + width + '\">';\n",
       "}\n",
       "\n",
       "mpl.figure.prototype.updated_canvas_event = function() {\n",
       "    // Tell IPython that the notebook contents must change.\n",
       "    IPython.notebook.set_dirty(true);\n",
       "    this.send_message(\"ack\", {});\n",
       "    var fig = this;\n",
       "    // Wait a second, then push the new image to the DOM so\n",
       "    // that it is saved nicely (might be nice to debounce this).\n",
       "    setTimeout(function () { fig.push_to_output() }, 1000);\n",
       "}\n",
       "\n",
       "mpl.figure.prototype._init_toolbar = function() {\n",
       "    var fig = this;\n",
       "\n",
       "    var nav_element = $('<div/>')\n",
       "    nav_element.attr('style', 'width: 100%');\n",
       "    this.root.append(nav_element);\n",
       "\n",
       "    // Define a callback function for later on.\n",
       "    function toolbar_event(event) {\n",
       "        return fig.toolbar_button_onclick(event['data']);\n",
       "    }\n",
       "    function toolbar_mouse_event(event) {\n",
       "        return fig.toolbar_button_onmouseover(event['data']);\n",
       "    }\n",
       "\n",
       "    for(var toolbar_ind in mpl.toolbar_items){\n",
       "        var name = mpl.toolbar_items[toolbar_ind][0];\n",
       "        var tooltip = mpl.toolbar_items[toolbar_ind][1];\n",
       "        var image = mpl.toolbar_items[toolbar_ind][2];\n",
       "        var method_name = mpl.toolbar_items[toolbar_ind][3];\n",
       "\n",
       "        if (!name) { continue; };\n",
       "\n",
       "        var button = $('<button class=\"btn btn-default\" href=\"#\" title=\"' + name + '\"><i class=\"fa ' + image + ' fa-lg\"></i></button>');\n",
       "        button.click(method_name, toolbar_event);\n",
       "        button.mouseover(tooltip, toolbar_mouse_event);\n",
       "        nav_element.append(button);\n",
       "    }\n",
       "\n",
       "    // Add the status bar.\n",
       "    var status_bar = $('<span class=\"mpl-message\" style=\"text-align:right; float: right;\"/>');\n",
       "    nav_element.append(status_bar);\n",
       "    this.message = status_bar[0];\n",
       "\n",
       "    // Add the close button to the window.\n",
       "    var buttongrp = $('<div class=\"btn-group inline pull-right\"></div>');\n",
       "    var button = $('<button class=\"btn btn-mini btn-primary\" href=\"#\" title=\"Stop Interaction\"><i class=\"fa fa-power-off icon-remove icon-large\"></i></button>');\n",
       "    button.click(function (evt) { fig.handle_close(fig, {}); } );\n",
       "    button.mouseover('Stop Interaction', toolbar_mouse_event);\n",
       "    buttongrp.append(button);\n",
       "    var titlebar = this.root.find($('.ui-dialog-titlebar'));\n",
       "    titlebar.prepend(buttongrp);\n",
       "}\n",
       "\n",
       "mpl.figure.prototype._root_extra_style = function(el){\n",
       "    var fig = this\n",
       "    el.on(\"remove\", function(){\n",
       "\tfig.close_ws(fig, {});\n",
       "    });\n",
       "}\n",
       "\n",
       "mpl.figure.prototype._canvas_extra_style = function(el){\n",
       "    // this is important to make the div 'focusable\n",
       "    el.attr('tabindex', 0)\n",
       "    // reach out to IPython and tell the keyboard manager to turn it's self\n",
       "    // off when our div gets focus\n",
       "\n",
       "    // location in version 3\n",
       "    if (IPython.notebook.keyboard_manager) {\n",
       "        IPython.notebook.keyboard_manager.register_events(el);\n",
       "    }\n",
       "    else {\n",
       "        // location in version 2\n",
       "        IPython.keyboard_manager.register_events(el);\n",
       "    }\n",
       "\n",
       "}\n",
       "\n",
       "mpl.figure.prototype._key_event_extra = function(event, name) {\n",
       "    var manager = IPython.notebook.keyboard_manager;\n",
       "    if (!manager)\n",
       "        manager = IPython.keyboard_manager;\n",
       "\n",
       "    // Check for shift+enter\n",
       "    if (event.shiftKey && event.which == 13) {\n",
       "        this.canvas_div.blur();\n",
       "        // select the cell after this one\n",
       "        var index = IPython.notebook.find_cell_index(this.cell_info[0]);\n",
       "        IPython.notebook.select(index + 1);\n",
       "    }\n",
       "}\n",
       "\n",
       "mpl.figure.prototype.handle_save = function(fig, msg) {\n",
       "    fig.ondownload(fig, null);\n",
       "}\n",
       "\n",
       "\n",
       "mpl.find_output_cell = function(html_output) {\n",
       "    // Return the cell and output element which can be found *uniquely* in the notebook.\n",
       "    // Note - this is a bit hacky, but it is done because the \"notebook_saving.Notebook\"\n",
       "    // IPython event is triggered only after the cells have been serialised, which for\n",
       "    // our purposes (turning an active figure into a static one), is too late.\n",
       "    var cells = IPython.notebook.get_cells();\n",
       "    var ncells = cells.length;\n",
       "    for (var i=0; i<ncells; i++) {\n",
       "        var cell = cells[i];\n",
       "        if (cell.cell_type === 'code'){\n",
       "            for (var j=0; j<cell.output_area.outputs.length; j++) {\n",
       "                var data = cell.output_area.outputs[j];\n",
       "                if (data.data) {\n",
       "                    // IPython >= 3 moved mimebundle to data attribute of output\n",
       "                    data = data.data;\n",
       "                }\n",
       "                if (data['text/html'] == html_output) {\n",
       "                    return [cell, data, j];\n",
       "                }\n",
       "            }\n",
       "        }\n",
       "    }\n",
       "}\n",
       "\n",
       "// Register the function which deals with the matplotlib target/channel.\n",
       "// The kernel may be null if the page has been refreshed.\n",
       "if (IPython.notebook.kernel != null) {\n",
       "    IPython.notebook.kernel.comm_manager.register_target('matplotlib', mpl.mpl_figure_comm);\n",
       "}\n"
      ],
      "text/plain": [
       "<IPython.core.display.Javascript object>"
      ]
     },
     "metadata": {},
     "output_type": "display_data"
    },
    {
     "data": {
      "text/html": [
       "<img src=\"data:image/png;base64,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\" width=\"639.9999861283738\">"
      ],
      "text/plain": [
       "<IPython.core.display.HTML object>"
      ]
     },
     "metadata": {},
     "output_type": "display_data"
    },
    {
     "data": {
      "text/plain": [
       "[<matplotlib.lines.Line2D at 0x108976da0>]"
      ]
     },
     "execution_count": 38,
     "metadata": {},
     "output_type": "execute_result"
    }
   ],
   "source": [
    "#working with group = 0 and 1\n",
    "\n",
    "group = exp_dict['0']\n",
    "nbr_images_in_group = len(group['list_of_images'])\n",
    "mean_group_0 = []\n",
    "#median_group_0 = []\n",
    "std_group_0 = []\n",
    "\n",
    "for _image in group['list_of_images']:\n",
    "#     _median_value = np.median(_image)\n",
    "#     median_group_0.append(_median_value)\n",
    "\n",
    "    _mean_value = np.mean(_image)\n",
    "    mean_group_0.append(_mean_value)\n",
    "\n",
    "    _std_value = np.std(_image)\n",
    "    std_group_0.append(_std_value)\n",
    "\n",
    "###\n",
    "group = exp_dict['1']\n",
    "nbr_images_in_group = len(group['list_of_images'])\n",
    "mean_group_1 = []\n",
    "# median_group_1 = []\n",
    "std_group_1 = []\n",
    "\n",
    "for _image in group['list_of_images']:\n",
    "#     _median_value = np.median(_image)\n",
    "#     median_group_1.append(_median_value)\n",
    "\n",
    "    _mean_value = np.mean(_image)\n",
    "    mean_group_1.append(_mean_value)\n",
    "\n",
    "    _std_value = np.std(_image)\n",
    "    std_group_1.append(_std_value)\n",
    "    \n",
    "plt.figure(0)\n",
    "plt.plot(std_group_1, 'r')   "
   ]
  },
  {
   "cell_type": "code",
   "execution_count": 42,
   "metadata": {
    "collapsed": true
   },
   "outputs": [],
   "source": [
    "def calculate_working_image(list_of_images):\n",
    "    \"\"\"Determine here if we should use the last image or a mean of all the images\"\"\"\n",
    "    # TO DO\n",
    "    _type = 'last_image'\n",
    "    _type = 'mean'\n",
    "    _image = np.mean(list_of_images, axis=0)\n",
    "    \n",
    "    working = {'type': _type,\n",
    "               'image': _image}\n",
    "    \n",
    "    return working    "
   ]
  },
  {
   "cell_type": "code",
   "execution_count": 43,
   "metadata": {},
   "outputs": [],
   "source": [
    "for _group_number in exp_dict.keys():\n",
    "    _group = exp_dict[_group_number]\n",
    "    nbr_images = len(_group['list_of_images'])\n",
    "    if nbr_images == 1:\n",
    "        _group['working_image']['type'] = 'last_image'\n",
    "        _group['working_image']['image'] = _group['list_of_images'][0].copy()\n",
    "    else:\n",
    "        _list_images = _group['list_of_images']\n",
    "        \n",
    "        _result_working_image = calculate_working_image(_list_images)\n",
    "        _group['working_image'] = _result_working_image\n",
    "            "
   ]
  },
  {
   "cell_type": "markdown",
   "metadata": {},
   "source": [
    "# Display images "
   ]
  },
  {
   "cell_type": "code",
   "execution_count": 1,
   "metadata": {
    "collapsed": true
   },
   "outputs": [],
   "source": [
    "%gui qt"
   ]
  },
  {
   "cell_type": "code",
   "execution_count": 2,
   "metadata": {},
   "outputs": [
    {
     "name": "stdout",
     "output_type": "stream",
     "text": [
      "pyuic5 /Users/j35/git/IPTS/python_notebooks/ui/ui_file_metadata_display.ui -o /Users/j35/git/IPTS/python_notebooks/__code/ui_file_metadata_display.py\n",
      "Warning: QApplication was created before pyqtgraph was imported; there may be problems (to avoid bugs, call QApplication.setGraphicsSystem(\"raster\") before the QApplication is created).\n"
     ]
    }
   ],
   "source": [
    "from __code.ui_builder import UiBuilder\n",
    "o_builder = UiBuilder(ui_name = 'ui_file_metadata_display.ui')\n",
    "\n",
    "from __code.file_metadata_display import Interface"
   ]
  },
  {
   "cell_type": "code",
   "execution_count": 3,
   "metadata": {},
   "outputs": [
    {
     "data": {
      "text/html": [
       "<span style=\"font-size: 20px; color:blue\">Check UI that poped up             (maybe hidden behind this browser!)</span>"
      ],
      "text/plain": [
       "<IPython.core.display.HTML object>"
      ]
     },
     "metadata": {},
     "output_type": "display_data"
    },
    {
     "name": "stdout",
     "output_type": "stream",
     "text": [
      "Leaving Parameters Selection UI\n"
     ]
    }
   ],
   "source": [
    "o_gui = Interface()\n",
    "o_gui.show()"
   ]
  },
  {
   "cell_type": "code",
   "execution_count": null,
   "metadata": {
    "collapsed": true
   },
   "outputs": [],
   "source": []
  }
 ],
 "metadata": {
  "kernelspec": {
   "display_name": "Python 3",
   "language": "python",
   "name": "python3"
  },
  "language_info": {
   "codemirror_mode": {
    "name": "ipython",
    "version": 3
   },
   "file_extension": ".py",
   "mimetype": "text/x-python",
   "name": "python",
   "nbconvert_exporter": "python",
   "pygments_lexer": "ipython3",
   "version": "3.6.2"
  },
  "toc": {
   "colors": {
    "hover_highlight": "#DAA520",
    "running_highlight": "#FF0000",
    "selected_highlight": "#FFD700"
   },
   "moveMenuLeft": true,
   "nav_menu": {
    "height": "48px",
    "width": "252px"
   },
   "navigate_menu": true,
   "number_sections": true,
   "sideBar": true,
   "threshold": 4,
   "toc_cell": false,
   "toc_section_display": "block",
   "toc_window_display": false
  }
 },
 "nbformat": 4,
 "nbformat_minor": 2
}
