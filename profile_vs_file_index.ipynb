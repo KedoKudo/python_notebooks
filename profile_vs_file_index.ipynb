{
 "cells": [
  {
   "cell_type": "markdown",
   "metadata": {
    "run_control": {
     "frozen": false,
     "read_only": false
    }
   },
   "source": [
    "# Select your IPTS "
   ]
  },
  {
   "cell_type": "code",
   "execution_count": null,
   "metadata": {
    "run_control": {
     "frozen": false,
     "read_only": false
    }
   },
   "outputs": [],
   "source": [
    "from __code import system\n",
    "system.System.select_working_dir()\n",
    "from __code.__all import custom_style\n",
    "custom_style.style()"
   ]
  },
  {
   "cell_type": "markdown",
   "metadata": {
    "run_control": {
     "frozen": false,
     "read_only": false
    }
   },
   "source": [
    "# Description "
   ]
  },
  {
   "cell_type": "markdown",
   "metadata": {
    "run_control": {
     "frozen": false,
     "read_only": false
    }
   },
   "source": [
    "The user will select a profile region (rectangle). The pixels in the smallest width of the rectangle will be added. Then the profile ploted for each of the image index. \n",
    "\n",
    "__Example of application:__\n",
    "This will allow for example to follow the flow of water as it enters a crack."
   ]
  },
  {
   "cell_type": "markdown",
   "metadata": {
    "run_control": {
     "frozen": false,
     "read_only": false
    }
   },
   "source": [
    "# Python Import "
   ]
  },
  {
   "cell_type": "markdown",
   "metadata": {
    "run_control": {
     "frozen": false,
     "read_only": false
    }
   },
   "source": [
    "# Select Images"
   ]
  },
  {
   "cell_type": "code",
   "execution_count": null,
   "metadata": {
    "run_control": {
     "frozen": false,
     "read_only": false
    }
   },
   "outputs": [],
   "source": [
    "# import ipywe.fileselector\n",
    "# from NeuNorm.normalization import Normalization\n",
    "from __code.profile_vs_file_index import ProfileVsFileIndex\n",
    "\n",
    "%matplotlib notebook"
   ]
  },
  {
   "cell_type": "code",
   "execution_count": null,
   "metadata": {
    "run_control": {
     "frozen": false,
     "read_only": false
    }
   },
   "outputs": [],
   "source": [
    "o_profile = ProfileVsFileIndex(working_dir = system.System.get_working_dir())\n",
    "o_profile.select_images()"
   ]
  },
  {
   "cell_type": "code",
   "execution_count": null,
   "metadata": {
    "run_control": {
     "frozen": false,
     "read_only": false
    }
   },
   "outputs": [],
   "source": [
    "# working_dir = system.System.get_working_dir()\n",
    "# folder_ui = ipywe.fileselector.FileSelectorPanel(instruction='Select Input Images ...',\n",
    "#                                                               start_dir=working_dir,\n",
    "#                                                               multiple=True)\n",
    "\n",
    "# folder_ui.show()        "
   ]
  },
  {
   "cell_type": "code",
   "execution_count": null,
   "metadata": {
    "run_control": {
     "frozen": false,
     "read_only": false
    }
   },
   "outputs": [],
   "source": [
    "# list_data_files = folder_ui.selected"
   ]
  },
  {
   "cell_type": "code",
   "execution_count": null,
   "metadata": {
    "run_control": {
     "frozen": false,
     "read_only": false
    }
   },
   "outputs": [],
   "source": [
    "# # load data\n",
    "# o_load = Normalization()\n",
    "# o_load.load(file=list_data_files, notebook=True)"
   ]
  },
  {
   "cell_type": "code",
   "execution_count": null,
   "metadata": {
    "run_control": {
     "frozen": false,
     "read_only": false
    }
   },
   "outputs": [],
   "source": [
    "o_profile.load_images()"
   ]
  },
  {
   "cell_type": "markdown",
   "metadata": {
    "run_control": {
     "frozen": false,
     "read_only": false
    }
   },
   "source": [
    "# Select Profile Region "
   ]
  },
  {
   "cell_type": "code",
   "execution_count": null,
   "metadata": {
    "run_control": {
     "frozen": false,
     "read_only": false
    }
   },
   "outputs": [],
   "source": [
    "o_profile.select_profile()"
   ]
  },
  {
   "cell_type": "code",
   "execution_count": null,
   "metadata": {
    "run_control": {
     "frozen": false,
     "read_only": false
    }
   },
   "outputs": [],
   "source": [
    "# def calculate_integrated_sample(data):\n",
    "#     if len(data)>1:\n",
    "#         integrated_array = np.array([_array for _array in data])\n",
    "#         return integrated_array.mean(axis=0)\n",
    "#     else:\n",
    "#         return np.squeeze(data)"
   ]
  },
  {
   "cell_type": "code",
   "execution_count": null,
   "metadata": {
    "run_control": {
     "frozen": false,
     "read_only": false
    },
    "scrolled": true
   },
   "outputs": [],
   "source": [
    "# integrated_data = calculate_integrated_sample(o_load.data['sample']['data'])"
   ]
  },
  {
   "cell_type": "code",
   "execution_count": null,
   "metadata": {
    "run_control": {
     "frozen": false,
     "read_only": false
    }
   },
   "outputs": [],
   "source": [
    "# from ipywidgets.widgets import interact\n",
    "# from ipywidgets import widgets\n",
    "\n",
    "# import matplotlib.pyplot as plt\n",
    "# import matplotlib.patches as patches\n"
   ]
  },
  {
   "cell_type": "code",
   "execution_count": null,
   "metadata": {
    "run_control": {
     "frozen": false,
     "read_only": false
    }
   },
   "outputs": [],
   "source": [
    "# # import numpy as np\n",
    "# [height, width] = np.shape(integrated_data)\n",
    "\n",
    "# x_left = 0\n",
    "# y_top = 0\n"
   ]
  },
  {
   "cell_type": "code",
   "execution_count": null,
   "metadata": {
    "run_control": {
     "frozen": false,
     "read_only": false
    }
   },
   "outputs": [],
   "source": [
    "# def plot_images_with_box(x_left, y_top, width, height):\n",
    "    \n",
    "#     data = integrated_data\n",
    "    \n",
    "#     fig_box = plt.figure(figsize=(5, 5))\n",
    "#     ax_img = plt.subplot(111)\n",
    "    \n",
    "#     ax_img.imshow(data, cmap = 'rainbow',\n",
    "#                   interpolation = None)\n",
    "# #                   vmin = min_intensity,\n",
    "# #                   vmax = max_intensity)\n",
    "#     ax_img.add_patch(patches.Rectangle((x_left, y_top), width, height, fill=False))\n",
    "    \n",
    "#     return [x_left, y_top, width, height]\n",
    "\n",
    "# profile = interact(plot_images_with_box,\n",
    "#                   x_left = widgets.IntSlider(min = 0, \n",
    "#                                              max = image_width-1, \n",
    "#                                              step= 1, \n",
    "#                                              value = x_left,\n",
    "#                                              continuous_update = False),\n",
    "#                   y_top = widgets.IntSlider(min = 0, \n",
    "#                                             max = image_height-1, \n",
    "#                                             step = 1, \n",
    "#                                             value = y_top,\n",
    "#                                             continuous_update = False), \n",
    "#                   width = widgets.IntSlider(min = 0, \n",
    "#                                             max = image_width-1, \n",
    "#                                             step = 1, \n",
    "#                                             value = width,\n",
    "#                                             continuous_update = False), \n",
    "#                   height = widgets.IntSlider(min = 0, \n",
    "#                                              max = image_height-1, \n",
    "#                                              step = 1, \n",
    "#                                              value = height,\n",
    "#                                              continuous_update = False))\n",
    "    "
   ]
  },
  {
   "cell_type": "markdown",
   "metadata": {
    "run_control": {
     "frozen": false,
     "read_only": false
    }
   },
   "source": [
    "# Calculate Integrated Profile vs Images"
   ]
  },
  {
   "cell_type": "code",
   "execution_count": null,
   "metadata": {
    "run_control": {
     "frozen": false,
     "read_only": false
    }
   },
   "outputs": [],
   "source": [
    "[roi_left, roi_top, roi_width, roi_height] = profile.widget.result"
   ]
  },
  {
   "cell_type": "code",
   "execution_count": null,
   "metadata": {
    "run_control": {
     "frozen": false,
     "read_only": false
    }
   },
   "outputs": [],
   "source": [
    "sample_data = o_load.data['sample']['data']\n",
    "\n",
    "w = widgets.IntProgress()\n",
    "w.max = len(sample_data)-1\n",
    "display(w)\n",
    "index = 0\n",
    "\n",
    "profile_array = []\n",
    "for _image in sample_data:\n",
    "    _profile_image = _image[roi_top:roi_top+roi_height, roi_left:roi_left+roi_width]\n",
    "    _value = np.sum(_profile_image)\n",
    "    profile_array.append(_value)\n",
    "    w.value = index\n",
    "    index += 1"
   ]
  },
  {
   "cell_type": "markdown",
   "metadata": {
    "run_control": {
     "frozen": false,
     "read_only": false
    }
   },
   "source": [
    "# Calculate Profile vs Images "
   ]
  },
  {
   "cell_type": "code",
   "execution_count": null,
   "metadata": {
    "run_control": {
     "frozen": false,
     "marked": true,
     "read_only": false
    }
   },
   "outputs": [],
   "source": [
    "rebin = 1\n",
    "\n",
    "w = widgets.IntProgress()\n",
    "w.max = len(sample_data)-1\n",
    "display(w)\n",
    "index = 0\n",
    "rebin_range = np.arange(0, roi_height-roi_top, rebin)\n",
    "\n",
    "profile_1d = []\n",
    "def calculate_1d_profiles():\n",
    "    \n",
    "    for _index, _array in enumerate(sample_data):\n",
    "        _roi_array = _array[roi_top:roi_top + roi_height, roi_left:roi_left + roi_width]\n",
    "        _width_profile = np.sum(_roi_array,1)\n",
    "        rebin_width_profile = [sum(_width_profile[x:x+rebin]) for x in rebin_range]\n",
    "        profile_1d.append(rebin_width_profile)\n",
    "        _index += 1\n",
    "        w.value = _index\n",
    "    \n",
    "calculate_1d_profiles()"
   ]
  },
  {
   "cell_type": "code",
   "execution_count": null,
   "metadata": {
    "run_control": {
     "frozen": false,
     "read_only": false
    }
   },
   "outputs": [],
   "source": [
    "def plot_profile(file_index):\n",
    "    \n",
    "    data_1d = profile_1d[file_index]\n",
    "    data_2d = sample_data[file_index]\n",
    "    \n",
    "    fig = plt.figure(figsize=(5,5))\n",
    "    \n",
    "    ax_plt = plt.subplot(211)\n",
    "    ax_plt.plot(data_1d)\n",
    "    ax_plt.set_title(os.path.basename(list_files[file_index]))\n",
    "    \n",
    "    ax_img = plt.subplot(212)\n",
    "    ax_img.imshow(data_2d, cmap = 'rainbow',\n",
    "                  interpolation = None)\n",
    "    ax_img.add_patch(patches.Rectangle((roi_left, roi_top), roi_width, roi_height, fill=False))\n",
    "    \n",
    "\n",
    "number_of_files = len(sample_data)\n",
    "range_selection = interact(plot_profile,\n",
    "                          file_index = widgets.IntSlider(min=0, \n",
    "                                                         max=number_of_files-1, \n",
    "                                                         value=0, \n",
    "                                                         step=1, \n",
    "                                                         description=\"Image Index\",\n",
    "                                                         continuous_update=False))"
   ]
  },
  {
   "cell_type": "markdown",
   "metadata": {
    "run_control": {
     "frozen": false,
     "read_only": false
    }
   },
   "source": [
    "# Load file_name vs time_stamp file "
   ]
  },
  {
   "cell_type": "code",
   "execution_count": null,
   "metadata": {
    "run_control": {
     "frozen": false,
     "read_only": false
    }
   },
   "outputs": [],
   "source": [
    "file_ui = ipywe.fileselector.FileSelectorPanel(instruction='Select file_name_vs_time_stamp File ...',\n",
    "                                                              start_dir=working_dir,\n",
    "                                                              multiple=False)\n",
    "\n",
    "file_ui.show()  "
   ]
  },
  {
   "cell_type": "code",
   "execution_count": null,
   "metadata": {
    "run_control": {
     "frozen": false,
     "read_only": false
    }
   },
   "outputs": [],
   "source": [
    "import pandas as pd"
   ]
  },
  {
   "cell_type": "code",
   "execution_count": null,
   "metadata": {
    "run_control": {
     "frozen": false,
     "read_only": false
    }
   },
   "outputs": [],
   "source": [
    "file_vs_timestamp_file = file_ui.selected\n",
    "if file_vs_timestamp_file:\n",
    "    if type(file_vs_timestamp_file) == list:\n",
    "        file_vs_timestamp_file = file_vs_timestamp_file[0]\n",
    "\n",
    "    df = pd.read_csv(file_vs_timestamp_file)\n",
    "    \n",
    "df.head()"
   ]
  },
  {
   "cell_type": "code",
   "execution_count": null,
   "metadata": {
    "run_control": {
     "frozen": false,
     "read_only": false
    }
   },
   "outputs": [],
   "source": [
    "list_file_name = df['#filename'].values\n",
    "list_column = df.columns.values\n",
    "list_time_stamp = df[list_column[1]].values"
   ]
  },
  {
   "cell_type": "markdown",
   "metadata": {
    "run_control": {
     "frozen": false,
     "read_only": false
    }
   },
   "source": [
    "# Output Profiles "
   ]
  },
  {
   "cell_type": "code",
   "execution_count": null,
   "metadata": {
    "run_control": {
     "frozen": false,
     "read_only": false
    }
   },
   "outputs": [],
   "source": [
    "output_folder_ui = ipywe.fileselector.FileSelectorPanel(instruction='Select Output Folder ...',\n",
    "                                                       start_dir = working_dir,\n",
    "                                                       type='directory')\n",
    "output_folder_ui.show()"
   ]
  },
  {
   "cell_type": "code",
   "execution_count": null,
   "metadata": {
    "run_control": {
     "frozen": false,
     "read_only": false
    }
   },
   "outputs": [],
   "source": [
    "import shutil\n",
    "\n",
    "# make name of output folder \n",
    "output_folder = os.path.join(os.path.abspath(output_folder_ui.selected), os.path.basename(os.path.dirname(list_file_name[0]) + '_profiles'))\n",
    "if os.path.isdir(output_folder):\n",
    "    shutil.rmtree(output_folder)\n",
    "os.mkdir(output_folder)\n"
   ]
  },
  {
   "cell_type": "code",
   "execution_count": null,
   "metadata": {
    "run_control": {
     "frozen": false,
     "read_only": false
    }
   },
   "outputs": [],
   "source": [
    "file0 = list_data_files[0]\n",
    "df.index[df['#filename'] == file0].tolist()[0]"
   ]
  },
  {
   "cell_type": "code",
   "execution_count": null,
   "metadata": {
    "run_control": {
     "frozen": false,
     "read_only": false
    }
   },
   "outputs": [],
   "source": [
    "def get_time_stamp(file_name):\n",
    "    index = df.index[df['#filename'] == file_name].tolist()[0]\n",
    "    return list_time_stamp[index]"
   ]
  },
  {
   "cell_type": "code",
   "execution_count": null,
   "metadata": {
    "run_control": {
     "frozen": false,
     "read_only": false
    }
   },
   "outputs": [],
   "source": [
    "import datetime"
   ]
  },
  {
   "cell_type": "code",
   "execution_count": null,
   "metadata": {
    "run_control": {
     "frozen": false,
     "read_only": false
    }
   },
   "outputs": [],
   "source": [
    "def output_ascii_file(filename = None, data = None):\n",
    "    f = open(filename, 'w')\n",
    "    for _line in data:\n",
    "        f.write(_line)\n",
    "    f.close()"
   ]
  },
  {
   "cell_type": "code",
   "execution_count": null,
   "metadata": {
    "run_control": {
     "frozen": false,
     "read_only": false
    }
   },
   "outputs": [],
   "source": [
    "time_0 = get_time_stamp(list_data_files[0])\n",
    "\n",
    "for _index, _profile in enumerate(profile_1d):\n",
    "    _file_name = list_data_files[_index]\n",
    "    _time_stamp = get_time_stamp(_file_name)\n",
    "\n",
    "    ascii_contain = []\n",
    "    ascii_contain.append(\"#Image: {}\\n\".format(_file_name))\n",
    "    ascii_contain.append(\"#ROI selected (y0, x0, height, width): ({}, {}, {}, {})\\n\".format(roi_top, roi_left, roi_height, roi_width))\n",
    "    ascii_contain.append(\"#Rebin in y direction: {}\\n\".format(rebin))\n",
    "    \n",
    "    _time_stamp_str = datetime.datetime.fromtimestamp(_time_stamp).strftime(\"%Y-%m-%d %H:%M:%S\")\n",
    "    ascii_contain.append(\"#Time Stamp: {}\\n\".format(_time_stamp_str))\n",
    "    \n",
    "    _delta_time = _time_stamp - time_0\n",
    "    ascii_contain.append(\"#Delta Time (s): {}\\n\".format(_delta_time))\n",
    "    ascii_contain.append(\"#\\n\")\n",
    "    \n",
    "    ascii_contain.append(\"#Label: pixel_index, counts\\n\")\n",
    "    \n",
    "    for _index, value in enumerate(profile_1d[_index]):\n",
    "        ascii_contain.append(\"{}, {}\\n\".format(rebin_range[_index], value))\n",
    "    \n",
    "    _base_file_name = os.path.basename(_file_name)\n",
    "    [base, pref] = os.path.splitext(_base_file_name)\n",
    "    \n",
    "    output_file_name = os.path.join(output_folder, base + '.txt')\n",
    "    output_ascii_file(filename=output_file_name, data=ascii_contain)\n",
    "    \n",
    "    "
   ]
  },
  {
   "cell_type": "code",
   "execution_count": null,
   "metadata": {
    "run_control": {
     "frozen": false,
     "read_only": false
    }
   },
   "outputs": [],
   "source": []
  }
 ],
 "metadata": {
  "kernelspec": {
   "display_name": "Python 3",
   "language": "python",
   "name": "python3"
  },
  "language_info": {
   "codemirror_mode": {
    "name": "ipython",
    "version": 3
   },
   "file_extension": ".py",
   "mimetype": "text/x-python",
   "name": "python",
   "nbconvert_exporter": "python",
   "pygments_lexer": "ipython3",
   "version": "3.6.2"
  },
  "toc": {
   "colors": {
    "hover_highlight": "#DAA520",
    "running_highlight": "#FF0000",
    "selected_highlight": "#FFD700"
   },
   "moveMenuLeft": true,
   "nav_menu": {
    "height": "138px",
    "width": "252px"
   },
   "navigate_menu": true,
   "number_sections": true,
   "sideBar": true,
   "threshold": 4,
   "toc_cell": false,
   "toc_section_display": "block",
   "toc_window_display": false
  }
 },
 "nbformat": 4,
 "nbformat_minor": 2
}
