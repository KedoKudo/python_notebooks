{
 "cells": [
  {
   "cell_type": "markdown",
   "metadata": {},
   "source": [
    "[![Notebook Tutorial](__code/__all/notebook_tutorial.png)](https://neutronimaging.pages.ornl.gov/en/tutorial/notebooks/images_metadata_matcher/)\n",
    "\n",
    "<img src='__docs/__all/notebook_rules.png' />"
   ]
  },
  {
   "cell_type": "markdown",
   "metadata": {},
   "source": [
    "# Select your IPTS"
   ]
  },
  {
   "cell_type": "code",
   "execution_count": 1,
   "metadata": {},
   "outputs": [
    {
     "data": {
      "text/html": [
       "\n",
       "<style type=\"text/css\">\n",
       ".jupyter-widgets select option {font-family: \"Lucida Console\", Monaco, monospace;}\n",
       ".jupyter-widgets select {width: 98%;}\n",
       "div.output_subarea {padding: 0px;}\n",
       "div.output_subarea > div {margin: 0.4em;}\n",
       "</style>\n"
      ],
      "text/plain": [
       "<IPython.core.display.HTML object>"
      ]
     },
     "metadata": {},
     "output_type": "display_data"
    },
    {
     "data": {
      "text/html": [
       "\n",
       "                       <style>\n",
       "                       .result_label {\n",
       "                          font-style: bold;\n",
       "                          color: red;\n",
       "                          font-size: 18px;\n",
       "                       }\n",
       "                       </style>\n",
       "                       "
      ],
      "text/plain": [
       "<IPython.core.display.HTML object>"
      ]
     },
     "metadata": {},
     "output_type": "display_data"
    },
    {
     "name": "stdout",
     "output_type": "stream",
     "text": [
      "** Using Debugging Mode! **\n"
     ]
    },
    {
     "data": {
      "application/vnd.jupyter.widget-view+json": {
       "model_id": "df97a09075884b3dbdda9aac22362d6a",
       "version_major": 2,
       "version_minor": 0
      },
      "text/plain": [
       "VBox(children=(HBox(children=(Label(value='Select Instrument', layout=Layout(width='20%')), Select(layout=Layo…"
      ]
     },
     "metadata": {},
     "output_type": "display_data"
    },
    {
     "data": {
      "text/html": [
       "<style>\n",
       "\n",
       "/* The following CSS has been adapted from\n",
       "   http://nbviewer.ipython.org/github/ketch/teaching-numerics-with-notebooks/blob/master/Styling_notebooks.ipynb\n",
       "   by Aron Ahmadia and David Ketcheson and has been reused under CC BY 4.0\n",
       "   */\n",
       "\n",
       "/* main background */\n",
       "#site { \n",
       "    background: #888;\n",
       "    color: #red; \n",
       "}\n",
       "\n",
       "div.container {\n",
       "    width: 100% ! important;\n",
       "}\n",
       "\n",
       "div.cell { /* set cell width to about 80 chars */\n",
       "    width: 95%;\n",
       "}\n",
       "\n",
       "div #notebook { /* centre the content */\n",
       "/*    background: #fff; /* white background for content */\n",
       "    background: blue;\n",
       "    width: 100%;\n",
       "    margin: auto;\n",
       "    padding-left: 1em;\n",
       "    padding-right: 1em;\n",
       "    background-image: url(\"tile_background.jpg\");\n",
       "}\n",
       "\n",
       "#notebook li { /* More space between bullet points */\n",
       "    margin-top:0.4em;\n",
       "}\n",
       "\n",
       "/* change background color of running cells */\n",
       "div.cell.code_cell.running {\n",
       "/*    background-color: rgba(164,188,194,.75); */\n",
       "    background-color: green;\n",
       "    border-width: 8px\n",
       "    border-style: solid\n",
       "    border-color: #111;\n",
       "}\n",
       "\n",
       "/* Put a solid color box around each cell and its output, visually linking them together */\n",
       "div.cell.code_cell {\n",
       "    background-color: rgba(164,188,194,.25); /* Continuum L Gray with alpha 0.25 */\n",
       "    border-radius: 10px; /* rounded borders */\n",
       "    padding: 1em;\n",
       "    margin-top: 1em;\n",
       "}\n",
       "\n",
       "div.text_cell_render{\n",
       "\tfont-family: Georgia, Times, 'Times New Roman', serif;\n",
       "    line-height: 110%;\n",
       "    font-size: 105%;\n",
       "    width: 95%;\n",
       "    margin-left: auto;\n",
       "    margin-right: auto;\n",
       "}\n",
       "\n",
       "\n",
       "/* Formatting for header cells */\n",
       ".text_cell_render h1 {\n",
       "\tfont-family: Arial, 'Helvetica Neue', Helvetica, sans-serif;\n",
       "    font-weight: 400;\n",
       "    font-size: 30pt;\n",
       "    line-height: 100%;\n",
       "    color: rgb(37,55,70); /* Continuum Blue*/\n",
       "    margin-bottom: 0.1em;\n",
       "    margin-top: 0.1em;\n",
       "    display: block;\n",
       "}\n",
       ".text_cell_render h2 {\n",
       "\tfont-family: Arial, 'Helvetica Neue', Helvetica, sans-serif;\n",
       "    font-weight: 700;\n",
       "    font-size: 22pt;\n",
       "    line-height: 100%;\n",
       "    color: rgb(37,55,70);\n",
       "    margin-bottom: 0.1em;\n",
       "    margin-top: 0.1em;\n",
       "    display: block;\n",
       "}\n",
       "\n",
       ".text_cell_render h3 {\n",
       "\tfont-family: Arial, 'Helvetica Neue', Helvetica, sans-serif;\n",
       "    margin-top:12px;\n",
       "    margin-bottom: 3px;\n",
       "    font-style: italic;\n",
       "    color: rgb(37, 55, 70);\n",
       "}\n",
       "\n",
       ".text_cell_render h4 {\n",
       "\tfont-family: Arial, 'Helvetica Neue', Helvetica, sans-serif;\n",
       "}\n",
       "\n",
       ".text_cell_render h5 {\n",
       "\tfont-family: Arial, 'Helvetica Neue', Helvetica, sans-serif;\n",
       "    font-weight: 300;\n",
       "    font-size: 14pt;\n",
       "    font-style: italic;\n",
       "    margin-bottom: .1em;\n",
       "    margin-top: 0.1em;\n",
       "    display: block;\n",
       "}\n",
       "\n",
       ".text_cell_render h6 {\n",
       "\tfont-family: Arial, 'Helvetica Neue', Helvetica, sans-serif;\n",
       "    font-weight: 300;\n",
       "    font-size: 10pt;\n",
       "    margin-bottom: 1px;\n",
       "    margin-top: 1px;\n",
       "}\n",
       "\n",
       ".CodeMirror{\n",
       "        font-family: \"PT Mono\", fixed;\n",
       "        font-size: 100%;\n",
       "}\n",
       "\n",
       "#notebook_panel { /* main background */\n",
       "    background-image: url(\"tile_background.jpg\");\n",
       "}\n",
       "\n",
       "\n",
       "\n",
       "\n",
       "</style>\n"
      ],
      "text/plain": [
       "<IPython.core.display.HTML object>"
      ]
     },
     "execution_count": 1,
     "metadata": {},
     "output_type": "execute_result"
    }
   ],
   "source": [
    "from __code.select_files_and_folders import SelectAsciiFile, SelectFolder\n",
    "from __code.images_and_metadata_extrapolation_matcher import ImagesAndMetadataExtrapolationMatcher\n",
    "\n",
    "from __code import system\n",
    "system.System.select_working_dir()\n",
    "from __code.__all import custom_style\n",
    "custom_style.style()"
   ]
  },
  {
   "cell_type": "markdown",
   "metadata": {
    "run_control": {
     "frozen": false,
     "read_only": false
    }
   },
   "source": [
    "# Select the File Name vs Time Stamp ASCII File"
   ]
  },
  {
   "cell_type": "markdown",
   "metadata": {},
   "source": [
    "This file created by running [create_list_of_file_name_vs_time_stamp](create_list_of_file_name_vs_time_stamp.ipynb) notebook!"
   ]
  },
  {
   "cell_type": "code",
   "execution_count": 3,
   "metadata": {},
   "outputs": [
    {
     "data": {
      "application/vnd.jupyter.widget-view+json": {
       "model_id": "",
       "version_major": 2,
       "version_minor": 0
      },
      "text/plain": [
       "VBox(children=(Label(value='Select ASCII File!', layout=Layout(width='250px')), VBox(children=(HBox(children=(…"
      ]
     },
     "metadata": {},
     "output_type": "display_data"
    },
    {
     "data": {
      "text/html": [
       "<span style=\"font-size: 15px; color:blue\">Ascii file loaded: <span style=\"color:black\"> /Volumes/my_book_thunderbolt_duo/IPTS/IPTS-20444-Regina/TESTING_SET/images_timestamp_infos.txt!</span>"
      ],
      "text/plain": [
       "<IPython.core.display.HTML object>"
      ]
     },
     "metadata": {},
     "output_type": "display_data"
    }
   ],
   "source": [
    "o_select_ascii1 = SelectAsciiFile(system=system)"
   ]
  },
  {
   "cell_type": "markdown",
   "metadata": {},
   "source": [
    "# Select Metadata vs Time Stamp ASCII File "
   ]
  },
  {
   "cell_type": "markdown",
   "metadata": {},
   "source": [
    "File creatd by either\n",
    "\n",
    "- [metadata_ascii_parser](metadata_ascii_parser.ipynb)\n",
    "\n",
    "**or/and**\n",
    "\n",
    "- [list_metadata_and_time_with_oncat](list_metadata_and_time_with_oncat.ipynb)"
   ]
  },
  {
   "cell_type": "code",
   "execution_count": 3,
   "metadata": {},
   "outputs": [
    {
     "data": {
      "application/vnd.jupyter.widget-view+json": {
       "model_id": "",
       "version_major": 2,
       "version_minor": 0
      },
      "text/plain": [
       "VBox(children=(Label(value='Select ASCII File!', layout=Layout(width='250px')), VBox(children=(HBox(children=(…"
      ]
     },
     "metadata": {},
     "output_type": "display_data"
    },
    {
     "data": {
      "text/html": [
       "<span style=\"font-size: 15px; color:blue\">Ascii file loaded: <span style=\"color:black\"> /Volumes/my_book_thunderbolt_duo/IPTS/IPTS-20444-Regina/TESTING_SET/Sep_17_metadata_report_from_oncat.txt!</span>"
      ],
      "text/plain": [
       "<IPython.core.display.HTML object>"
      ]
     },
     "metadata": {},
     "output_type": "display_data"
    }
   ],
   "source": [
    "o_select_ascii2 = SelectAsciiFile(system=system)"
   ]
  },
  {
   "cell_type": "markdown",
   "metadata": {},
   "source": [
    "# DEBUGGING "
   ]
  },
  {
   "cell_type": "code",
   "execution_count": 2,
   "metadata": {},
   "outputs": [],
   "source": [
    "ascii1 = '/Volumes/my_book_thunderbolt_duo/IPTS/IPTS-20444-Regina/TESTING_SET/images_timestamp_infos.txt'\n",
    "ascii2 = '/Volumes/my_book_thunderbolt_duo/IPTS/IPTS-20444-Regina/TESTING_SET/Sep_17_metadata_report_from_oncat.txt'"
   ]
  },
  {
   "cell_type": "code",
   "execution_count": 3,
   "metadata": {},
   "outputs": [],
   "source": [
    "import os\n",
    "assert os.path.exists(ascii1)\n",
    "assert os.path.exists(ascii2)"
   ]
  },
  {
   "cell_type": "code",
   "execution_count": 4,
   "metadata": {},
   "outputs": [],
   "source": [
    "o_matcher = ImagesAndMetadataExtrapolationMatcher(filename_vs_timestamp=ascii1,\n",
    "                                                  metadata_ascii_file=ascii2)"
   ]
  },
  {
   "cell_type": "markdown",
   "metadata": {},
   "source": [
    "output file"
   ]
  },
  {
   "cell_type": "code",
   "execution_count": 5,
   "metadata": {},
   "outputs": [
    {
     "data": {
      "application/vnd.jupyter.widget-view+json": {
       "model_id": "",
       "version_major": 2,
       "version_minor": 0
      },
      "text/plain": [
       "VBox(children=(Label(value='Select Output Folder ...', layout=Layout(width='250px')), VBox(children=(HBox(chil…"
      ]
     },
     "metadata": {},
     "output_type": "display_data"
    },
    {
     "data": {
      "text/html": [
       "<span style=\"font-size: 15px; color:blue\">Output folder name: <span style=\"color:black\"> /Volumes/my_book_thunderbolt_duo/IPTS/BraggEdge</span>"
      ],
      "text/plain": [
       "<IPython.core.display.HTML object>"
      ]
     },
     "metadata": {},
     "output_type": "display_data"
    },
    {
     "data": {
      "text/html": [
       "<span style=\"font-size: 15px; color:blue\">Output file name: <span style=\"color:black\"> images_timestamp_infos_combined_with_Sep_17_metadata_report_from_oncat.txt</span>"
      ],
      "text/plain": [
       "<IPython.core.display.HTML object>"
      ]
     },
     "metadata": {},
     "output_type": "display_data"
    },
    {
     "data": {
      "text/html": [
       "<span style=\"font-size: 15px; color:black\">File Created with Success!: <span style=\"color:black\"> </span>"
      ],
      "text/plain": [
       "<IPython.core.display.HTML object>"
      ]
     },
     "metadata": {},
     "output_type": "display_data"
    }
   ],
   "source": [
    "o_folder = SelectFolder(system=system, next_function=o_matcher.export_ascii)"
   ]
  },
  {
   "cell_type": "code",
   "execution_count": null,
   "metadata": {},
   "outputs": [],
   "source": []
  },
  {
   "cell_type": "code",
   "execution_count": null,
   "metadata": {},
   "outputs": [],
   "source": []
  },
  {
   "cell_type": "code",
   "execution_count": null,
   "metadata": {},
   "outputs": [],
   "source": []
  },
  {
   "cell_type": "code",
   "execution_count": 6,
   "metadata": {},
   "outputs": [],
   "source": [
    "import pandas as pd"
   ]
  },
  {
   "cell_type": "code",
   "execution_count": 7,
   "metadata": {},
   "outputs": [],
   "source": [
    "pd_ascii1 = pd.read_csv(ascii1)\n",
    "pd_ascii2 = pd.read_csv(ascii2)"
   ]
  },
  {
   "cell_type": "code",
   "execution_count": 44,
   "metadata": {},
   "outputs": [
    {
     "data": {
      "text/html": [
       "<div>\n",
       "<style scoped>\n",
       "    .dataframe tbody tr th:only-of-type {\n",
       "        vertical-align: middle;\n",
       "    }\n",
       "\n",
       "    .dataframe tbody tr th {\n",
       "        vertical-align: top;\n",
       "    }\n",
       "\n",
       "    .dataframe thead th {\n",
       "        text-align: right;\n",
       "    }\n",
       "</style>\n",
       "<table border=\"1\" class=\"dataframe\">\n",
       "  <thead>\n",
       "    <tr style=\"text-align: right;\">\n",
       "      <th></th>\n",
       "      <th>timestamp(s)</th>\n",
       "      <th>timestamp_user_format</th>\n",
       "      <th>timeoffset(s)</th>\n",
       "    </tr>\n",
       "    <tr>\n",
       "      <th>#filename</th>\n",
       "      <th></th>\n",
       "      <th></th>\n",
       "      <th></th>\n",
       "    </tr>\n",
       "  </thead>\n",
       "  <tbody>\n",
       "    <tr>\n",
       "      <th>/Volumes/my_book_thunderbolt_duo/IPTS/IPTS-20444-Regina/images/20180917_A49_4_at80C_4p1_120s_0120_5.tiff</th>\n",
       "      <td>1.537287e+09</td>\n",
       "      <td>2018-09-18 12:12:33</td>\n",
       "      <td>0.0</td>\n",
       "    </tr>\n",
       "    <tr>\n",
       "      <th>/Volumes/my_book_thunderbolt_duo/IPTS/IPTS-20444-Regina/images/20180917_A49_4_at80C_4p1_120s_0120_12.tiff</th>\n",
       "      <td>1.537287e+09</td>\n",
       "      <td>2018-09-18 12:12:57</td>\n",
       "      <td>24.0</td>\n",
       "    </tr>\n",
       "    <tr>\n",
       "      <th>/Volumes/my_book_thunderbolt_duo/IPTS/IPTS-20444-Regina/images/20180917_A49_4_at80C_4p1_120s_0120_8.tiff</th>\n",
       "      <td>1.537287e+09</td>\n",
       "      <td>2018-09-18 12:13:07</td>\n",
       "      <td>34.0</td>\n",
       "    </tr>\n",
       "    <tr>\n",
       "      <th>/Volumes/my_book_thunderbolt_duo/IPTS/IPTS-20444-Regina/images/20180917_A49_4_at80C_4p1_120s_0120_11.tiff</th>\n",
       "      <td>1.537287e+09</td>\n",
       "      <td>2018-09-18 12:13:11</td>\n",
       "      <td>38.0</td>\n",
       "    </tr>\n",
       "    <tr>\n",
       "      <th>/Volumes/my_book_thunderbolt_duo/IPTS/IPTS-20444-Regina/images/20180917_A49_4_at80C_4p1_120s_0120_9.tiff</th>\n",
       "      <td>1.537287e+09</td>\n",
       "      <td>2018-09-18 12:13:25</td>\n",
       "      <td>52.0</td>\n",
       "    </tr>\n",
       "    <tr>\n",
       "      <th>/Volumes/my_book_thunderbolt_duo/IPTS/IPTS-20444-Regina/images/20180917_A49_4_at80C_4p1_120s_0120_13.tiff</th>\n",
       "      <td>1.537287e+09</td>\n",
       "      <td>2018-09-18 12:13:45</td>\n",
       "      <td>72.0</td>\n",
       "    </tr>\n",
       "    <tr>\n",
       "      <th>/Volumes/my_book_thunderbolt_duo/IPTS/IPTS-20444-Regina/images/20180917_A49_4_at80C_4p1_120s_0120_7.tiff</th>\n",
       "      <td>1.537287e+09</td>\n",
       "      <td>2018-09-18 12:14:05</td>\n",
       "      <td>92.0</td>\n",
       "    </tr>\n",
       "    <tr>\n",
       "      <th>/Volumes/my_book_thunderbolt_duo/IPTS/IPTS-20444-Regina/images/20180917_A49_4_at80C_4p1_120s_0120_6.tiff</th>\n",
       "      <td>1.537287e+09</td>\n",
       "      <td>2018-09-18 12:14:15</td>\n",
       "      <td>102.0</td>\n",
       "    </tr>\n",
       "    <tr>\n",
       "      <th>/Volumes/my_book_thunderbolt_duo/IPTS/IPTS-20444-Regina/images/20180917_A49_4_at80C_4p1_120s_0120_10.tiff</th>\n",
       "      <td>1.537287e+09</td>\n",
       "      <td>2018-09-18 12:14:29</td>\n",
       "      <td>116.0</td>\n",
       "    </tr>\n",
       "  </tbody>\n",
       "</table>\n",
       "</div>"
      ],
      "text/plain": [
       "                                                     timestamp(s)  \\\n",
       "#filename                                                           \n",
       "/Volumes/my_book_thunderbolt_duo/IPTS/IPTS-2044...   1.537287e+09   \n",
       "/Volumes/my_book_thunderbolt_duo/IPTS/IPTS-2044...   1.537287e+09   \n",
       "/Volumes/my_book_thunderbolt_duo/IPTS/IPTS-2044...   1.537287e+09   \n",
       "/Volumes/my_book_thunderbolt_duo/IPTS/IPTS-2044...   1.537287e+09   \n",
       "/Volumes/my_book_thunderbolt_duo/IPTS/IPTS-2044...   1.537287e+09   \n",
       "/Volumes/my_book_thunderbolt_duo/IPTS/IPTS-2044...   1.537287e+09   \n",
       "/Volumes/my_book_thunderbolt_duo/IPTS/IPTS-2044...   1.537287e+09   \n",
       "/Volumes/my_book_thunderbolt_duo/IPTS/IPTS-2044...   1.537287e+09   \n",
       "/Volumes/my_book_thunderbolt_duo/IPTS/IPTS-2044...   1.537287e+09   \n",
       "\n",
       "                                                    timestamp_user_format  \\\n",
       "#filename                                                                   \n",
       "/Volumes/my_book_thunderbolt_duo/IPTS/IPTS-2044...    2018-09-18 12:12:33   \n",
       "/Volumes/my_book_thunderbolt_duo/IPTS/IPTS-2044...    2018-09-18 12:12:57   \n",
       "/Volumes/my_book_thunderbolt_duo/IPTS/IPTS-2044...    2018-09-18 12:13:07   \n",
       "/Volumes/my_book_thunderbolt_duo/IPTS/IPTS-2044...    2018-09-18 12:13:11   \n",
       "/Volumes/my_book_thunderbolt_duo/IPTS/IPTS-2044...    2018-09-18 12:13:25   \n",
       "/Volumes/my_book_thunderbolt_duo/IPTS/IPTS-2044...    2018-09-18 12:13:45   \n",
       "/Volumes/my_book_thunderbolt_duo/IPTS/IPTS-2044...    2018-09-18 12:14:05   \n",
       "/Volumes/my_book_thunderbolt_duo/IPTS/IPTS-2044...    2018-09-18 12:14:15   \n",
       "/Volumes/my_book_thunderbolt_duo/IPTS/IPTS-2044...    2018-09-18 12:14:29   \n",
       "\n",
       "                                                     timeoffset(s)  \n",
       "#filename                                                           \n",
       "/Volumes/my_book_thunderbolt_duo/IPTS/IPTS-2044...             0.0  \n",
       "/Volumes/my_book_thunderbolt_duo/IPTS/IPTS-2044...            24.0  \n",
       "/Volumes/my_book_thunderbolt_duo/IPTS/IPTS-2044...            34.0  \n",
       "/Volumes/my_book_thunderbolt_duo/IPTS/IPTS-2044...            38.0  \n",
       "/Volumes/my_book_thunderbolt_duo/IPTS/IPTS-2044...            52.0  \n",
       "/Volumes/my_book_thunderbolt_duo/IPTS/IPTS-2044...            72.0  \n",
       "/Volumes/my_book_thunderbolt_duo/IPTS/IPTS-2044...            92.0  \n",
       "/Volumes/my_book_thunderbolt_duo/IPTS/IPTS-2044...           102.0  \n",
       "/Volumes/my_book_thunderbolt_duo/IPTS/IPTS-2044...           116.0  "
      ]
     },
     "execution_count": 44,
     "metadata": {},
     "output_type": "execute_result"
    }
   ],
   "source": [
    "pd_ascii1.set_index(\"#filename\")"
   ]
  },
  {
   "cell_type": "code",
   "execution_count": 45,
   "metadata": {},
   "outputs": [
    {
     "data": {
      "text/html": [
       "<div>\n",
       "<style scoped>\n",
       "    .dataframe tbody tr th:only-of-type {\n",
       "        vertical-align: middle;\n",
       "    }\n",
       "\n",
       "    .dataframe tbody tr th {\n",
       "        vertical-align: top;\n",
       "    }\n",
       "\n",
       "    .dataframe thead th {\n",
       "        text-align: right;\n",
       "    }\n",
       "</style>\n",
       "<table border=\"1\" class=\"dataframe\">\n",
       "  <thead>\n",
       "    <tr style=\"text-align: right;\">\n",
       "      <th></th>\n",
       "      <th>timestamp</th>\n",
       "      <th>MotCameraVert</th>\n",
       "      <th>MotCameraVert_RBV</th>\n",
       "      <th>MotDetTable</th>\n",
       "      <th>MotDetTable_RBV</th>\n",
       "    </tr>\n",
       "    <tr>\n",
       "      <th>#filename</th>\n",
       "      <th></th>\n",
       "      <th></th>\n",
       "      <th></th>\n",
       "      <th></th>\n",
       "      <th></th>\n",
       "    </tr>\n",
       "  </thead>\n",
       "  <tbody>\n",
       "    <tr>\n",
       "      <th>/Volumes/my_book_thunderbolt_duo/IPTS/IPTS-20444-Regina/images/20180917_A49_4_at80C_4p1_120s_0120_5.tiff</th>\n",
       "      <td>2018-09-17T21:50:50.978000-04:00</td>\n",
       "      <td>-51.699796</td>\n",
       "      <td>-51.699796</td>\n",
       "      <td>200.0</td>\n",
       "      <td>200.0</td>\n",
       "    </tr>\n",
       "    <tr>\n",
       "      <th>/Volumes/my_book_thunderbolt_duo/IPTS/IPTS-20444-Regina/images/20180917_A49_4_at80C_4p1_120s_0120_12.tiff</th>\n",
       "      <td>2018-09-17T14:10:56.662000-04:00</td>\n",
       "      <td>-51.699796</td>\n",
       "      <td>-51.699796</td>\n",
       "      <td>200.0</td>\n",
       "      <td>200.0</td>\n",
       "    </tr>\n",
       "    <tr>\n",
       "      <th>/Volumes/my_book_thunderbolt_duo/IPTS/IPTS-20444-Regina/images/20180917_A49_4_at80C_4p1_120s_0120_8.tiff</th>\n",
       "      <td>2018-09-17T22:50:55.203000-04:00</td>\n",
       "      <td>-51.699796</td>\n",
       "      <td>-51.699796</td>\n",
       "      <td>200.0</td>\n",
       "      <td>200.0</td>\n",
       "    </tr>\n",
       "    <tr>\n",
       "      <th>/Volumes/my_book_thunderbolt_duo/IPTS/IPTS-20444-Regina/images/20180917_A49_4_at80C_4p1_120s_0120_11.tiff</th>\n",
       "      <td>2018-09-17T22:50:56.283000-04:00</td>\n",
       "      <td>-51.699796</td>\n",
       "      <td>-51.699796</td>\n",
       "      <td>200.0</td>\n",
       "      <td>200.0</td>\n",
       "    </tr>\n",
       "    <tr>\n",
       "      <th>/Volumes/my_book_thunderbolt_duo/IPTS/IPTS-20444-Regina/images/20180917_A49_4_at80C_4p1_120s_0120_9.tiff</th>\n",
       "      <td>2018-09-17T18:50:58.244000-04:00</td>\n",
       "      <td>-51.699796</td>\n",
       "      <td>-51.699796</td>\n",
       "      <td>200.0</td>\n",
       "      <td>200.0</td>\n",
       "    </tr>\n",
       "    <tr>\n",
       "      <th>/Volumes/my_book_thunderbolt_duo/IPTS/IPTS-20444-Regina/images/20180917_A49_4_at80C_4p1_120s_0120_13.tiff</th>\n",
       "      <td>2018-09-17T15:41:00.793000-04:00</td>\n",
       "      <td>-51.699796</td>\n",
       "      <td>-51.699796</td>\n",
       "      <td>200.0</td>\n",
       "      <td>200.0</td>\n",
       "    </tr>\n",
       "    <tr>\n",
       "      <th>/Volumes/my_book_thunderbolt_duo/IPTS/IPTS-20444-Regina/images/20180917_A49_4_at80C_4p1_120s_0120_7.tiff</th>\n",
       "      <td>2018-09-17T20:50:52.539000-04:00</td>\n",
       "      <td>-51.699796</td>\n",
       "      <td>-51.699796</td>\n",
       "      <td>200.0</td>\n",
       "      <td>200.0</td>\n",
       "    </tr>\n",
       "    <tr>\n",
       "      <th>/Volumes/my_book_thunderbolt_duo/IPTS/IPTS-20444-Regina/images/20180917_A49_4_at80C_4p1_120s_0120_6.tiff</th>\n",
       "      <td>2018-09-17T16:40:57.966000-04:00</td>\n",
       "      <td>-51.699796</td>\n",
       "      <td>-51.699796</td>\n",
       "      <td>200.0</td>\n",
       "      <td>200.0</td>\n",
       "    </tr>\n",
       "    <tr>\n",
       "      <th>/Volumes/my_book_thunderbolt_duo/IPTS/IPTS-20444-Regina/images/20180917_A49_4_at80C_4p1_120s_0120_10.tiff</th>\n",
       "      <td>2018-09-17T15:00:55.624000-04:00</td>\n",
       "      <td>-51.699796</td>\n",
       "      <td>-51.699796</td>\n",
       "      <td>200.0</td>\n",
       "      <td>200.0</td>\n",
       "    </tr>\n",
       "  </tbody>\n",
       "</table>\n",
       "</div>"
      ],
      "text/plain": [
       "                                                                            timestamp  \\\n",
       "#filename                                                                               \n",
       "/Volumes/my_book_thunderbolt_duo/IPTS/IPTS-2044...   2018-09-17T21:50:50.978000-04:00   \n",
       "/Volumes/my_book_thunderbolt_duo/IPTS/IPTS-2044...   2018-09-17T14:10:56.662000-04:00   \n",
       "/Volumes/my_book_thunderbolt_duo/IPTS/IPTS-2044...   2018-09-17T22:50:55.203000-04:00   \n",
       "/Volumes/my_book_thunderbolt_duo/IPTS/IPTS-2044...   2018-09-17T22:50:56.283000-04:00   \n",
       "/Volumes/my_book_thunderbolt_duo/IPTS/IPTS-2044...   2018-09-17T18:50:58.244000-04:00   \n",
       "/Volumes/my_book_thunderbolt_duo/IPTS/IPTS-2044...   2018-09-17T15:41:00.793000-04:00   \n",
       "/Volumes/my_book_thunderbolt_duo/IPTS/IPTS-2044...   2018-09-17T20:50:52.539000-04:00   \n",
       "/Volumes/my_book_thunderbolt_duo/IPTS/IPTS-2044...   2018-09-17T16:40:57.966000-04:00   \n",
       "/Volumes/my_book_thunderbolt_duo/IPTS/IPTS-2044...   2018-09-17T15:00:55.624000-04:00   \n",
       "\n",
       "                                                     MotCameraVert  \\\n",
       "#filename                                                            \n",
       "/Volumes/my_book_thunderbolt_duo/IPTS/IPTS-2044...      -51.699796   \n",
       "/Volumes/my_book_thunderbolt_duo/IPTS/IPTS-2044...      -51.699796   \n",
       "/Volumes/my_book_thunderbolt_duo/IPTS/IPTS-2044...      -51.699796   \n",
       "/Volumes/my_book_thunderbolt_duo/IPTS/IPTS-2044...      -51.699796   \n",
       "/Volumes/my_book_thunderbolt_duo/IPTS/IPTS-2044...      -51.699796   \n",
       "/Volumes/my_book_thunderbolt_duo/IPTS/IPTS-2044...      -51.699796   \n",
       "/Volumes/my_book_thunderbolt_duo/IPTS/IPTS-2044...      -51.699796   \n",
       "/Volumes/my_book_thunderbolt_duo/IPTS/IPTS-2044...      -51.699796   \n",
       "/Volumes/my_book_thunderbolt_duo/IPTS/IPTS-2044...      -51.699796   \n",
       "\n",
       "                                                     MotCameraVert_RBV  \\\n",
       "#filename                                                                \n",
       "/Volumes/my_book_thunderbolt_duo/IPTS/IPTS-2044...          -51.699796   \n",
       "/Volumes/my_book_thunderbolt_duo/IPTS/IPTS-2044...          -51.699796   \n",
       "/Volumes/my_book_thunderbolt_duo/IPTS/IPTS-2044...          -51.699796   \n",
       "/Volumes/my_book_thunderbolt_duo/IPTS/IPTS-2044...          -51.699796   \n",
       "/Volumes/my_book_thunderbolt_duo/IPTS/IPTS-2044...          -51.699796   \n",
       "/Volumes/my_book_thunderbolt_duo/IPTS/IPTS-2044...          -51.699796   \n",
       "/Volumes/my_book_thunderbolt_duo/IPTS/IPTS-2044...          -51.699796   \n",
       "/Volumes/my_book_thunderbolt_duo/IPTS/IPTS-2044...          -51.699796   \n",
       "/Volumes/my_book_thunderbolt_duo/IPTS/IPTS-2044...          -51.699796   \n",
       "\n",
       "                                                     MotDetTable  \\\n",
       "#filename                                                          \n",
       "/Volumes/my_book_thunderbolt_duo/IPTS/IPTS-2044...         200.0   \n",
       "/Volumes/my_book_thunderbolt_duo/IPTS/IPTS-2044...         200.0   \n",
       "/Volumes/my_book_thunderbolt_duo/IPTS/IPTS-2044...         200.0   \n",
       "/Volumes/my_book_thunderbolt_duo/IPTS/IPTS-2044...         200.0   \n",
       "/Volumes/my_book_thunderbolt_duo/IPTS/IPTS-2044...         200.0   \n",
       "/Volumes/my_book_thunderbolt_duo/IPTS/IPTS-2044...         200.0   \n",
       "/Volumes/my_book_thunderbolt_duo/IPTS/IPTS-2044...         200.0   \n",
       "/Volumes/my_book_thunderbolt_duo/IPTS/IPTS-2044...         200.0   \n",
       "/Volumes/my_book_thunderbolt_duo/IPTS/IPTS-2044...         200.0   \n",
       "\n",
       "                                                     MotDetTable_RBV  \n",
       "#filename                                                             \n",
       "/Volumes/my_book_thunderbolt_duo/IPTS/IPTS-2044...             200.0  \n",
       "/Volumes/my_book_thunderbolt_duo/IPTS/IPTS-2044...             200.0  \n",
       "/Volumes/my_book_thunderbolt_duo/IPTS/IPTS-2044...             200.0  \n",
       "/Volumes/my_book_thunderbolt_duo/IPTS/IPTS-2044...             200.0  \n",
       "/Volumes/my_book_thunderbolt_duo/IPTS/IPTS-2044...             200.0  \n",
       "/Volumes/my_book_thunderbolt_duo/IPTS/IPTS-2044...             200.0  \n",
       "/Volumes/my_book_thunderbolt_duo/IPTS/IPTS-2044...             200.0  \n",
       "/Volumes/my_book_thunderbolt_duo/IPTS/IPTS-2044...             200.0  \n",
       "/Volumes/my_book_thunderbolt_duo/IPTS/IPTS-2044...             200.0  "
      ]
     },
     "execution_count": 45,
     "metadata": {},
     "output_type": "execute_result"
    }
   ],
   "source": [
    "pd_ascii2.set_index(\"#filename\")"
   ]
  },
  {
   "cell_type": "code",
   "execution_count": 95,
   "metadata": {},
   "outputs": [
    {
     "data": {
      "text/html": [
       "<div>\n",
       "<style scoped>\n",
       "    .dataframe tbody tr th:only-of-type {\n",
       "        vertical-align: middle;\n",
       "    }\n",
       "\n",
       "    .dataframe tbody tr th {\n",
       "        vertical-align: top;\n",
       "    }\n",
       "\n",
       "    .dataframe thead th {\n",
       "        text-align: right;\n",
       "    }\n",
       "</style>\n",
       "<table border=\"1\" class=\"dataframe\">\n",
       "  <thead>\n",
       "    <tr style=\"text-align: right;\">\n",
       "      <th></th>\n",
       "      <th>#filename</th>\n",
       "      <th>timestamp(s)</th>\n",
       "      <th>timestamp_user_format</th>\n",
       "      <th>timeoffset(s)</th>\n",
       "      <th>timestamp</th>\n",
       "      <th>MotCameraVert</th>\n",
       "      <th>MotCameraVert_RBV</th>\n",
       "      <th>MotDetTable</th>\n",
       "      <th>MotDetTable_RBV</th>\n",
       "    </tr>\n",
       "  </thead>\n",
       "  <tbody>\n",
       "    <tr>\n",
       "      <th>0</th>\n",
       "      <td>/Volumes/my_book_thunderbolt_duo/IPTS/IPTS-204...</td>\n",
       "      <td>1.537287e+09</td>\n",
       "      <td>2018-09-18 12:12:33</td>\n",
       "      <td>0.0</td>\n",
       "      <td>2018-09-17T21:50:50.978000-04:00</td>\n",
       "      <td>-51.699796</td>\n",
       "      <td>-51.699796</td>\n",
       "      <td>200.0</td>\n",
       "      <td>200.0</td>\n",
       "    </tr>\n",
       "    <tr>\n",
       "      <th>1</th>\n",
       "      <td>/Volumes/my_book_thunderbolt_duo/IPTS/IPTS-204...</td>\n",
       "      <td>1.537287e+09</td>\n",
       "      <td>2018-09-18 12:12:57</td>\n",
       "      <td>24.0</td>\n",
       "      <td>2018-09-17T14:10:56.662000-04:00</td>\n",
       "      <td>-51.699796</td>\n",
       "      <td>-51.699796</td>\n",
       "      <td>200.0</td>\n",
       "      <td>200.0</td>\n",
       "    </tr>\n",
       "    <tr>\n",
       "      <th>2</th>\n",
       "      <td>/Volumes/my_book_thunderbolt_duo/IPTS/IPTS-204...</td>\n",
       "      <td>1.537287e+09</td>\n",
       "      <td>2018-09-18 12:13:07</td>\n",
       "      <td>34.0</td>\n",
       "      <td>2018-09-17T22:50:55.203000-04:00</td>\n",
       "      <td>-51.699796</td>\n",
       "      <td>-51.699796</td>\n",
       "      <td>200.0</td>\n",
       "      <td>200.0</td>\n",
       "    </tr>\n",
       "    <tr>\n",
       "      <th>3</th>\n",
       "      <td>/Volumes/my_book_thunderbolt_duo/IPTS/IPTS-204...</td>\n",
       "      <td>1.537287e+09</td>\n",
       "      <td>2018-09-18 12:13:11</td>\n",
       "      <td>38.0</td>\n",
       "      <td>2018-09-17T22:50:56.283000-04:00</td>\n",
       "      <td>-51.699796</td>\n",
       "      <td>-51.699796</td>\n",
       "      <td>200.0</td>\n",
       "      <td>200.0</td>\n",
       "    </tr>\n",
       "    <tr>\n",
       "      <th>4</th>\n",
       "      <td>/Volumes/my_book_thunderbolt_duo/IPTS/IPTS-204...</td>\n",
       "      <td>1.537287e+09</td>\n",
       "      <td>2018-09-18 12:13:25</td>\n",
       "      <td>52.0</td>\n",
       "      <td>2018-09-17T18:50:58.244000-04:00</td>\n",
       "      <td>-51.699796</td>\n",
       "      <td>-51.699796</td>\n",
       "      <td>200.0</td>\n",
       "      <td>200.0</td>\n",
       "    </tr>\n",
       "    <tr>\n",
       "      <th>5</th>\n",
       "      <td>/Volumes/my_book_thunderbolt_duo/IPTS/IPTS-204...</td>\n",
       "      <td>1.537287e+09</td>\n",
       "      <td>2018-09-18 12:13:45</td>\n",
       "      <td>72.0</td>\n",
       "      <td>2018-09-17T15:41:00.793000-04:00</td>\n",
       "      <td>-51.699796</td>\n",
       "      <td>-51.699796</td>\n",
       "      <td>200.0</td>\n",
       "      <td>200.0</td>\n",
       "    </tr>\n",
       "    <tr>\n",
       "      <th>6</th>\n",
       "      <td>/Volumes/my_book_thunderbolt_duo/IPTS/IPTS-204...</td>\n",
       "      <td>1.537287e+09</td>\n",
       "      <td>2018-09-18 12:14:05</td>\n",
       "      <td>92.0</td>\n",
       "      <td>2018-09-17T20:50:52.539000-04:00</td>\n",
       "      <td>-51.699796</td>\n",
       "      <td>-51.699796</td>\n",
       "      <td>200.0</td>\n",
       "      <td>200.0</td>\n",
       "    </tr>\n",
       "    <tr>\n",
       "      <th>7</th>\n",
       "      <td>/Volumes/my_book_thunderbolt_duo/IPTS/IPTS-204...</td>\n",
       "      <td>1.537287e+09</td>\n",
       "      <td>2018-09-18 12:14:15</td>\n",
       "      <td>102.0</td>\n",
       "      <td>2018-09-17T16:40:57.966000-04:00</td>\n",
       "      <td>-51.699796</td>\n",
       "      <td>-51.699796</td>\n",
       "      <td>200.0</td>\n",
       "      <td>200.0</td>\n",
       "    </tr>\n",
       "    <tr>\n",
       "      <th>8</th>\n",
       "      <td>/Volumes/my_book_thunderbolt_duo/IPTS/IPTS-204...</td>\n",
       "      <td>1.537287e+09</td>\n",
       "      <td>2018-09-18 12:14:29</td>\n",
       "      <td>116.0</td>\n",
       "      <td>2018-09-17T15:00:55.624000-04:00</td>\n",
       "      <td>-51.699796</td>\n",
       "      <td>-51.699796</td>\n",
       "      <td>200.0</td>\n",
       "      <td>200.0</td>\n",
       "    </tr>\n",
       "  </tbody>\n",
       "</table>\n",
       "</div>"
      ],
      "text/plain": [
       "                                           #filename   timestamp(s)  \\\n",
       "0  /Volumes/my_book_thunderbolt_duo/IPTS/IPTS-204...   1.537287e+09   \n",
       "1  /Volumes/my_book_thunderbolt_duo/IPTS/IPTS-204...   1.537287e+09   \n",
       "2  /Volumes/my_book_thunderbolt_duo/IPTS/IPTS-204...   1.537287e+09   \n",
       "3  /Volumes/my_book_thunderbolt_duo/IPTS/IPTS-204...   1.537287e+09   \n",
       "4  /Volumes/my_book_thunderbolt_duo/IPTS/IPTS-204...   1.537287e+09   \n",
       "5  /Volumes/my_book_thunderbolt_duo/IPTS/IPTS-204...   1.537287e+09   \n",
       "6  /Volumes/my_book_thunderbolt_duo/IPTS/IPTS-204...   1.537287e+09   \n",
       "7  /Volumes/my_book_thunderbolt_duo/IPTS/IPTS-204...   1.537287e+09   \n",
       "8  /Volumes/my_book_thunderbolt_duo/IPTS/IPTS-204...   1.537287e+09   \n",
       "\n",
       "   timestamp_user_format   timeoffset(s)                          timestamp  \\\n",
       "0    2018-09-18 12:12:33             0.0   2018-09-17T21:50:50.978000-04:00   \n",
       "1    2018-09-18 12:12:57            24.0   2018-09-17T14:10:56.662000-04:00   \n",
       "2    2018-09-18 12:13:07            34.0   2018-09-17T22:50:55.203000-04:00   \n",
       "3    2018-09-18 12:13:11            38.0   2018-09-17T22:50:56.283000-04:00   \n",
       "4    2018-09-18 12:13:25            52.0   2018-09-17T18:50:58.244000-04:00   \n",
       "5    2018-09-18 12:13:45            72.0   2018-09-17T15:41:00.793000-04:00   \n",
       "6    2018-09-18 12:14:05            92.0   2018-09-17T20:50:52.539000-04:00   \n",
       "7    2018-09-18 12:14:15           102.0   2018-09-17T16:40:57.966000-04:00   \n",
       "8    2018-09-18 12:14:29           116.0   2018-09-17T15:00:55.624000-04:00   \n",
       "\n",
       "    MotCameraVert   MotCameraVert_RBV   MotDetTable   MotDetTable_RBV  \n",
       "0      -51.699796          -51.699796         200.0             200.0  \n",
       "1      -51.699796          -51.699796         200.0             200.0  \n",
       "2      -51.699796          -51.699796         200.0             200.0  \n",
       "3      -51.699796          -51.699796         200.0             200.0  \n",
       "4      -51.699796          -51.699796         200.0             200.0  \n",
       "5      -51.699796          -51.699796         200.0             200.0  \n",
       "6      -51.699796          -51.699796         200.0             200.0  \n",
       "7      -51.699796          -51.699796         200.0             200.0  \n",
       "8      -51.699796          -51.699796         200.0             200.0  "
      ]
     },
     "execution_count": 95,
     "metadata": {},
     "output_type": "execute_result"
    }
   ],
   "source": [
    "merging_ascii = pd.merge(pd_ascii1, pd_ascii2, on='#filename', how='outer')\n",
    "merging_ascii"
   ]
  },
  {
   "cell_type": "code",
   "execution_count": 88,
   "metadata": {},
   "outputs": [
    {
     "data": {
      "text/html": [
       "<div>\n",
       "<style scoped>\n",
       "    .dataframe tbody tr th:only-of-type {\n",
       "        vertical-align: middle;\n",
       "    }\n",
       "\n",
       "    .dataframe tbody tr th {\n",
       "        vertical-align: top;\n",
       "    }\n",
       "\n",
       "    .dataframe thead th {\n",
       "        text-align: right;\n",
       "    }\n",
       "</style>\n",
       "<table border=\"1\" class=\"dataframe\">\n",
       "  <thead>\n",
       "    <tr style=\"text-align: right;\">\n",
       "      <th></th>\n",
       "      <th>B</th>\n",
       "      <th>C</th>\n",
       "      <th>D</th>\n",
       "    </tr>\n",
       "    <tr>\n",
       "      <th>A</th>\n",
       "      <th></th>\n",
       "      <th></th>\n",
       "      <th></th>\n",
       "    </tr>\n",
       "  </thead>\n",
       "  <tbody>\n",
       "    <tr>\n",
       "      <th>A0</th>\n",
       "      <td>B0</td>\n",
       "      <td>C0</td>\n",
       "      <td>D0</td>\n",
       "    </tr>\n",
       "    <tr>\n",
       "      <th>A1</th>\n",
       "      <td>B1</td>\n",
       "      <td>C1</td>\n",
       "      <td>D1</td>\n",
       "    </tr>\n",
       "    <tr>\n",
       "      <th>A2</th>\n",
       "      <td>B2</td>\n",
       "      <td>C2</td>\n",
       "      <td>D2</td>\n",
       "    </tr>\n",
       "    <tr>\n",
       "      <th>A3</th>\n",
       "      <td>B3</td>\n",
       "      <td>C3</td>\n",
       "      <td>D3</td>\n",
       "    </tr>\n",
       "  </tbody>\n",
       "</table>\n",
       "</div>"
      ],
      "text/plain": [
       "     B   C   D\n",
       "A             \n",
       "A0  B0  C0  D0\n",
       "A1  B1  C1  D1\n",
       "A2  B2  C2  D2\n",
       "A3  B3  C3  D3"
      ]
     },
     "execution_count": 88,
     "metadata": {},
     "output_type": "execute_result"
    }
   ],
   "source": [
    "df1 = pd.DataFrame({'A': ['A0', 'A1', 'A2', 'A3'],\n",
    "                        'B': ['B0', 'B1', 'B2', 'B3'],\n",
    "                        'C': ['C0', 'C1', 'C2', 'C3'],\n",
    "                        'D': ['D0', 'D1', 'D2', 'D3']},\n",
    "                       )\n",
    "df1.set_index('A')"
   ]
  },
  {
   "cell_type": "code",
   "execution_count": 89,
   "metadata": {},
   "outputs": [
    {
     "data": {
      "text/html": [
       "<div>\n",
       "<style scoped>\n",
       "    .dataframe tbody tr th:only-of-type {\n",
       "        vertical-align: middle;\n",
       "    }\n",
       "\n",
       "    .dataframe tbody tr th {\n",
       "        vertical-align: top;\n",
       "    }\n",
       "\n",
       "    .dataframe thead th {\n",
       "        text-align: right;\n",
       "    }\n",
       "</style>\n",
       "<table border=\"1\" class=\"dataframe\">\n",
       "  <thead>\n",
       "    <tr style=\"text-align: right;\">\n",
       "      <th></th>\n",
       "      <th>D</th>\n",
       "      <th>F</th>\n",
       "    </tr>\n",
       "    <tr>\n",
       "      <th>A</th>\n",
       "      <th></th>\n",
       "      <th></th>\n",
       "    </tr>\n",
       "  </thead>\n",
       "  <tbody>\n",
       "    <tr>\n",
       "      <th>A1</th>\n",
       "      <td>D2</td>\n",
       "      <td>F2</td>\n",
       "    </tr>\n",
       "    <tr>\n",
       "      <th>A2</th>\n",
       "      <td>D3</td>\n",
       "      <td>F3</td>\n",
       "    </tr>\n",
       "    <tr>\n",
       "      <th>A3</th>\n",
       "      <td>D6</td>\n",
       "      <td>F6</td>\n",
       "    </tr>\n",
       "    <tr>\n",
       "      <th>A4</th>\n",
       "      <td>D7</td>\n",
       "      <td>F7</td>\n",
       "    </tr>\n",
       "  </tbody>\n",
       "</table>\n",
       "</div>"
      ],
      "text/plain": [
       "     D   F\n",
       "A         \n",
       "A1  D2  F2\n",
       "A2  D3  F3\n",
       "A3  D6  F6\n",
       "A4  D7  F7"
      ]
     },
     "execution_count": 89,
     "metadata": {},
     "output_type": "execute_result"
    }
   ],
   "source": [
    "df4 = pd.DataFrame({'A': ['A1', 'A2', 'A3', 'A4'],\n",
    "                        'D': ['D2', 'D3', 'D6', 'D7'],\n",
    "                        'F': ['F2', 'F3', 'F6', 'F7']},\n",
    "                       )\n",
    "df4.set_index('A')"
   ]
  },
  {
   "cell_type": "code",
   "execution_count": null,
   "metadata": {},
   "outputs": [],
   "source": []
  },
  {
   "cell_type": "code",
   "execution_count": null,
   "metadata": {},
   "outputs": [],
   "source": []
  },
  {
   "cell_type": "code",
   "execution_count": null,
   "metadata": {},
   "outputs": [],
   "source": []
  },
  {
   "cell_type": "code",
   "execution_count": null,
   "metadata": {},
   "outputs": [],
   "source": []
  },
  {
   "cell_type": "markdown",
   "metadata": {},
   "source": [
    "# Select Metadata Info to Keep "
   ]
  },
  {
   "cell_type": "markdown",
   "metadata": {
    "run_control": {
     "frozen": false,
     "read_only": false
    }
   },
   "source": [
    "**Allow users to define:**\n",
    "\n",
    " * reference_line_showing_end_of_metadata\n",
    " * start_of_data_after_how_many_lines_from_reference_line\n",
    " * index or label of time info column in big table"
   ]
  },
  {
   "cell_type": "code",
   "execution_count": null,
   "metadata": {
    "run_control": {
     "frozen": false,
     "read_only": false
    }
   },
   "outputs": [],
   "source": [
    "o_meta = MetadataFileParser(filename=o_file.metadata_file, \n",
    "                            meta_type='mpt',\n",
    "                            time_label='time/s',\n",
    "                            reference_line_showing_end_of_metadata='Number of loops',\n",
    "                            end_of_metadata_after_how_many_lines_from_reference_line=1)\n",
    "o_meta.parse()\n",
    "\n",
    "o_meta.select_data_to_keep()"
   ]
  },
  {
   "cell_type": "markdown",
   "metadata": {},
   "source": [
    "# Select Output Folder and Filename of new Formated Metadata File"
   ]
  },
  {
   "cell_type": "code",
   "execution_count": null,
   "metadata": {},
   "outputs": [],
   "source": [
    "o_meta.keep_only_columns_of_data_of_interest()\n",
    "o_meta.select_output_location()"
   ]
  },
  {
   "cell_type": "markdown",
   "metadata": {},
   "source": [
    "# Where to go Next "
   ]
  },
  {
   "cell_type": "markdown",
   "metadata": {},
   "source": [
    "Now, you probably want to run [this metadata_ascii_parser](./metadata_ascii_parser.ipynb) notebook in order to create a list of file names and their exact metadata values."
   ]
  },
  {
   "cell_type": "code",
   "execution_count": null,
   "metadata": {},
   "outputs": [],
   "source": []
  }
 ],
 "metadata": {
  "kernelspec": {
   "display_name": "Python 3",
   "language": "python",
   "name": "python3"
  },
  "language_info": {
   "codemirror_mode": {
    "name": "ipython",
    "version": 3
   },
   "file_extension": ".py",
   "mimetype": "text/x-python",
   "name": "python",
   "nbconvert_exporter": "python",
   "pygments_lexer": "ipython3",
   "version": "3.6.7"
  },
  "toc": {
   "colors": {
    "hover_highlight": "#DAA520",
    "running_highlight": "#FF0000",
    "selected_highlight": "#FFD700"
   },
   "moveMenuLeft": true,
   "nav_menu": {
    "height": "66px",
    "width": "252px"
   },
   "navigate_menu": true,
   "number_sections": true,
   "sideBar": true,
   "threshold": 4,
   "toc_cell": false,
   "toc_section_display": "block",
   "toc_window_display": false
  }
 },
 "nbformat": 4,
 "nbformat_minor": 2
}
