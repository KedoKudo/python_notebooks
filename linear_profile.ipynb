{
 "cells": [
  {
   "cell_type": "code",
   "execution_count": null,
   "metadata": {
    "run_control": {
     "frozen": false,
     "read_only": false
    }
   },
   "outputs": [],
   "source": [
    "debugging = True\n",
    "IPTS = '19558'"
   ]
  },
  {
   "cell_type": "markdown",
   "metadata": {
    "run_control": {
     "frozen": false,
     "read_only": false
    }
   },
   "source": [
    "# Description "
   ]
  },
  {
   "cell_type": "markdown",
   "metadata": {
    "run_control": {
     "frozen": false,
     "read_only": false
    }
   },
   "source": [
    "# Python Import"
   ]
  },
  {
   "cell_type": "code",
   "execution_count": null,
   "metadata": {
    "run_control": {
     "frozen": false,
     "read_only": false
    }
   },
   "outputs": [],
   "source": [
    "from __code.__all import custom_style\n",
    "custom_style.style()"
   ]
  },
  {
   "cell_type": "code",
   "execution_count": null,
   "metadata": {
    "run_control": {
     "frozen": false,
     "read_only": false
    }
   },
   "outputs": [],
   "source": [
    "%gui qt"
   ]
  },
  {
   "cell_type": "code",
   "execution_count": null,
   "metadata": {
    "run_control": {
     "frozen": false,
     "read_only": false
    }
   },
   "outputs": [],
   "source": [
    "from __code.ui_builder import UiBuilder\n",
    "o_builder = UiBuilder(ui_name = 'ui_linear_profile.ui')"
   ]
  },
  {
   "cell_type": "code",
   "execution_count": null,
   "metadata": {
    "run_control": {
     "frozen": false,
     "read_only": false
    }
   },
   "outputs": [],
   "source": [
    "from __code.normalization import NormalizationHandler\n",
    "\n",
    "from __code import utilities\n",
    "working_dir = utilities.get_working_dir(ipts=IPTS, debugging=debugging)\n",
    "print(\"Working dir: {}\".format(working_dir))"
   ]
  },
  {
   "cell_type": "markdown",
   "metadata": {
    "run_control": {
     "frozen": false,
     "read_only": false
    }
   },
   "source": [
    "# Select Sample Images"
   ]
  },
  {
   "cell_type": "code",
   "execution_count": null,
   "metadata": {
    "run_control": {
     "frozen": false,
     "read_only": false
    }
   },
   "outputs": [],
   "source": [
    "o_norm_handler = NormalizationHandler(working_dir = working_dir)\n",
    "o_norm_handler.select_images()"
   ]
  },
  {
   "cell_type": "markdown",
   "metadata": {
    "run_control": {
     "frozen": false,
     "read_only": false
    }
   },
   "source": [
    "# Load Data"
   ]
  },
  {
   "cell_type": "code",
   "execution_count": null,
   "metadata": {
    "run_control": {
     "frozen": false,
     "read_only": false
    }
   },
   "outputs": [],
   "source": [
    "o_norm_handler.load_data()"
   ]
  },
  {
   "cell_type": "markdown",
   "metadata": {
    "run_control": {
     "frozen": false,
     "read_only": false
    }
   },
   "source": [
    "# Select Profile"
   ]
  },
  {
   "cell_type": "code",
   "execution_count": null,
   "metadata": {
    "run_control": {
     "frozen": false,
     "read_only": false
    }
   },
   "outputs": [],
   "source": [
    "from __code.ui_linear_profile import Ui_MainWindow as UiMainWindow\n",
    "\n",
    "import pyqtgraph as pg\n",
    "from pyqtgraph.dockarea import *\n",
    "\n",
    "try:\n",
    "    from PyQt4.QtGui import QFileDialog\n",
    "    from PyQt4 import QtCore, QtGui\n",
    "    from PyQt4.QtGui import QMainWindow\n",
    "except ImportError:\n",
    "    from PyQt5.QtWidgets import QFileDialog\n",
    "    from PyQt5 import QtCore, QtGui\n",
    "    from PyQt5.QtWidgets import QApplication, QMainWindow"
   ]
  },
  {
   "cell_type": "code",
   "execution_count": null,
   "metadata": {
    "run_control": {
     "frozen": false,
     "read_only": false
    }
   },
   "outputs": [],
   "source": [
    "import numpy as np\n",
    "import copy\n",
    "from types import SimpleNamespace\n",
    "\n",
    "\n",
    "class LinearProfile(QMainWindow):\n",
    "    \n",
    "    table_profile_header = ['name', 'x0', 'y0','x1', 'y1', 'width', 'color']\n",
    "    index_column = {'name': 0,\n",
    "                    'x0': 1,\n",
    "                    'y0': 2,\n",
    "                    'x1': 3,\n",
    "                    'y1': 4,\n",
    "                    'width': 5,\n",
    "                    'color': 6}\n",
    "    live_data = None\n",
    "    \n",
    "    def __init__(self, parent=None, list_files=[], data=[]):\n",
    "\n",
    "        QMainWindow.__init__(self, parent=parent)\n",
    "        self.ui = UiMainWindow()\n",
    "        self.ui.setupUi(self)\n",
    "        self.setWindowTitle(\"Linear Profile\")\n",
    "        \n",
    "        # disable table_profile\n",
    "        self.ui.table_profile.blockSignals(True)\n",
    "        \n",
    "        self.data = data\n",
    "        self.list_files = list_files\n",
    "        self.nbr_files = len(list_files)\n",
    "        \n",
    "        self.init_pyqtgraph()\n",
    "        self.init_widgets()\n",
    "        \n",
    "        self.__refresh_plot()\n",
    "        \n",
    "        self.__roi = {'name': '',\n",
    "                      'x0': 50,\n",
    "                      'y0': 100,\n",
    "                      'x1': -200,\n",
    "                      'y1': -300,\n",
    "                      'width': 1,\n",
    "                      'color': None}\n",
    "        self.list_rois = []\n",
    "        self.list_rois_ui = []\n",
    "        self.ui.table_profile.blockSignals(False)\n",
    "            \n",
    "    # initialization\n",
    "    def init_widgets(self):\n",
    "        self.ui.file_index_slider.setMaximum(self.nbr_files-1)\n",
    "        \n",
    "    def init_pyqtgraph(self):\n",
    "        area = DockArea()\n",
    "        area.setVisible(True)\n",
    "        d1 = Dock(\"Sample Image\", size=(200, 300))\n",
    "        d2 = Dock(\"Profile\", size=(200, 100))\n",
    "        \n",
    "        area.addDock(d1, 'top')\n",
    "        area.addDock(d2, 'bottom')\n",
    "        \n",
    "        # image view\n",
    "        self.ui.image_view = pg.ImageView()\n",
    "        self.ui.image_view.ui.menuBtn.hide()\n",
    "        self.ui.image_view.ui.roiBtn.hide()\n",
    "        d1.addWidget(self.ui.image_view)\n",
    "        \n",
    "        # profile\n",
    "        self.profile = pg.PlotWidget(title='Profile')\n",
    "        self.profile.plot()\n",
    "        d2.addWidget(self.profile)\n",
    "        \n",
    "        # set up layout\n",
    "        vertical_layout = QtGui.QVBoxLayout()\n",
    "        vertical_layout.addWidget(area)\n",
    "        self.ui.widget.setLayout(vertical_layout)\n",
    "    \n",
    "    # widgets signals\n",
    "    def slider_changed(self, index=0):\n",
    "        self.__refresh_plot(index=index)\n",
    "        \n",
    "    def add_profile(self):\n",
    "        nbr_roi = len(self.list_rois)\n",
    "        new_roi = copy.deepcopy(self.__roi)\n",
    "        new_roi['name'] = \"region_{}\".format(nbr_roi)\n",
    "        self.list_rois.append(new_roi)\n",
    "        self.__update_roi_table()\n",
    "        \n",
    "        x0 = new_roi['x0']\n",
    "        y0 = new_roi['y0']\n",
    "        x1 = new_roi['x1']\n",
    "        y1 = new_roi['y1']\n",
    "        width = new_roi['width']\n",
    "        color = new_roi['color']\n",
    "        \n",
    "        _roi = pg.LineROI([x0,y0], [x1,y1], width=1, pen=(6,9))  # [[0, x1], [y0, y1]]\n",
    "        _roi.sigRegionChanged.connect(self.graphical_rois_changed)\n",
    "        self.list_rois_ui.append(_roi)\n",
    "        self.ui.image_view.addItem(_roi)\n",
    "        \n",
    "    def graphical_rois_changed(self):\n",
    "        for _index, _roi_ui in enumerate(self.list_rois_ui):\n",
    "            region = _roi_ui.getArraySlice(self.live_data,\n",
    "                                          self.ui.image_view.imageItem)\n",
    "            x0 = region[0][0].start\n",
    "            x1 = region[0][0].stop\n",
    "            y0 = region[0][1].start\n",
    "            y1 = region[0][1].stop\n",
    "            \n",
    "            roi = self.list_rois[_index]\n",
    "            roi['x0'] = x0\n",
    "            roi['x1'] = x1\n",
    "            roi['y0'] = y0\n",
    "            roi['y1'] = y1\n",
    "            self.list_rois[_index] = roi\n",
    "        \n",
    "        self.__update_roi_table()\n",
    "        \n",
    "    def manual_rois_changed(self):\n",
    "        \"\"\"table of rois has been modified\"\"\"\n",
    "        nbr_row = self.ui.table_profile.rowCount()\n",
    "        \n",
    "        self.list_rois = []\n",
    "        for _row_index in np.arange(nbr_row):\n",
    "\n",
    "            _roi = copy.deepcopy(self.__roi)\n",
    "\n",
    "            _roi['name']= self._get_item_value(row=_row_index, column=0)\n",
    "            _roi['x0'] = self._get_item_value(row=_row_index, column=1)\n",
    "            _roi['y0'] = self._get_item_value(row=_row_index, column=2)\n",
    "            _roi['x1'] = self._get_item_value(row=_row_index, column=3)\n",
    "            _roi['y1'] = self._get_item_value(row=_row_index, column=4)\n",
    "            _roi['width'] = self._get_item_value(row=_row_index, column=5)\n",
    "        \n",
    "            x0 = np.int(_roi['x0'])\n",
    "            y0 = np.int(_roi['y0'])\n",
    "            x1 = np.int(_roi['x1'])\n",
    "            y1 = np.int(_roi['y1'])\n",
    "            width = np.int(_roi['width'])\n",
    "     \n",
    "            self.list_rois.append(_roi)\n",
    "            \n",
    "            _roi = pg.LineROI([x0,y0], [x1,y1], width=width, pen=(6,9))  # [[0, x1], [y0, y1]]\n",
    "            _roi.sigRegionChanged.connect(self.graphical_rois_changed)\n",
    "            self.ui.image_view.removeItem(self.list_rois_ui[_row_index])\n",
    "            self.ui.image_view.addItem(_roi)\n",
    "            self.list_rois_ui[_row_index] = _roi\n",
    "        \n",
    "    def _get_item_value(self, row=0, column=0):\n",
    "        return str(self.ui.table_profile.item(row, column).text())\n",
    "        \n",
    "    def clear_table_profile(self):\n",
    "        nbr_row = self.ui.table_profile.rowCount()\n",
    "        for _ in np.arange(nbr_row):\n",
    "            self.ui.table_profile.removeRow(0)\n",
    "        \n",
    "    def __update_roi_table(self):\n",
    "        self.ui.table_profile.blockSignals(True)\n",
    "        self.clear_table_profile()\n",
    "        for _row, _roi_dict in enumerate(self.list_rois):\n",
    "            self.ui.table_profile.insertRow(_row)\n",
    "            for _column, _key in enumerate(_roi_dict):\n",
    "                self.insert_item(row=_row,\n",
    "                                column=_column,\n",
    "                                value=_roi_dict[_key])\n",
    "        self.ui.table_profile.blockSignals(False)\n",
    "    \n",
    "    def save_roi_table(self, row, column):\n",
    "        if (row == -1) and (column == -1): # full save\n",
    "            new_list_roi = []\n",
    "            nbr_row = self.ui.table_profile.rowCount()\n",
    "            nbr_column = self.ui.table_profile.columnCount()\n",
    "            for _row in np.arange(nbr_row):\n",
    "#                _roi = self.list_roi[row]\n",
    "                _new_roi = copy.deepcopy(self.__roi)\n",
    "                for _column in np.arange(nbr_column):\n",
    "                    _new_roi[self.table_profile_header[_column]] = str(self.ui.table_profile.item(_row, _column).text())\n",
    "                new_list_roi.append(_new_roi)\n",
    "            self.list_rois = new_list_roi\n",
    "        else:\n",
    "            _roi = self.list_rois[row]\n",
    "            _roi[self.table_profile_header[column]] = str(self.ui.table_profile.item(row, column).text())\n",
    "            self.list_rois[row] = _roi\n",
    "            \n",
    "        self.manual_rois_changed()\n",
    "        \n",
    "    \n",
    "    def insert_item(self, row=0, column=0, value=''):\n",
    "        _item = QtGui.QTableWidgetItem(str(value))\n",
    "        self.ui.table_profile.setItem(row, column, _item)\n",
    "    \n",
    "    def remove_profile(self):\n",
    "        _row_selected = self.ui.table_profile.currentRow()\n",
    "        if _row_selected == -1:\n",
    "            return\n",
    "        roi_ui_removed = self.list_rois_ui.pop(_row_selected)\n",
    "        self.ui.image_view.removeItem(roi_ui_removed)\n",
    "        self.ui.table_profile.removeRow(_row_selected)\n",
    "        self.save_roi_table(-1, -1)\n",
    "        \n",
    "    def ok_button_clicked(self):\n",
    "        _roi_ui = self.list_rois_ui[0]\n",
    "        self.my_roi = _roi_ui\n",
    "        region = _roi_ui.getArraySlice(self.live_data,\n",
    "                                      self.ui.image_view.imageItem)\n",
    "        \n",
    "        # this is to get the counts profile\n",
    "#         region = _roi_ui.getArrayRegion(self.live_data,\n",
    "#                                         self.ui.image_view.imageItem,\n",
    "#                                        axes=(0,1))\n",
    "        print(region)\n",
    "        print(\"yo\")\n",
    "        \n",
    "    def export_button_clicked(self):\n",
    "        print(\"export button clicked\")\n",
    "\n",
    "    # private methods\n",
    "    def __refresh_plot(self, index=np.NaN):\n",
    "        if np.isnan(index):\n",
    "            index = self.ui.file_index_slider.value()\n",
    "        _data = self.data[index]\n",
    "        self.live_data = _data\n",
    "        self.ui.image_view.setImage(_data)\n"
   ]
  },
  {
   "cell_type": "code",
   "execution_count": null,
   "metadata": {
    "run_control": {
     "frozen": false,
     "read_only": false
    }
   },
   "outputs": [],
   "source": [
    "o_linear_profile = LinearProfile(list_files= o_norm_handler.list_file_names['sample'],\n",
    "                                 data=o_norm_handler.data['sample'])\n",
    "o_linear_profile.show()"
   ]
  },
  {
   "cell_type": "code",
   "execution_count": null,
   "metadata": {},
   "outputs": [],
   "source": [
    "o_linear_profile.my_roi.getArraySlice(o_linear_profile.live_data, o_linear_profile.ui.image_view.imageItem)"
   ]
  },
  {
   "cell_type": "code",
   "execution_count": null,
   "metadata": {},
   "outputs": [],
   "source": []
  }
 ],
 "metadata": {
  "kernelspec": {
   "display_name": "Python 3",
   "language": "python",
   "name": "python3"
  },
  "language_info": {
   "codemirror_mode": {
    "name": "ipython",
    "version": 3
   },
   "file_extension": ".py",
   "mimetype": "text/x-python",
   "name": "python",
   "nbconvert_exporter": "python",
   "pygments_lexer": "ipython3",
   "version": "3.6.2"
  },
  "toc": {
   "colors": {
    "hover_highlight": "#DAA520",
    "running_highlight": "#FF0000",
    "selected_highlight": "#FFD700"
   },
   "moveMenuLeft": true,
   "nav_menu": {
    "height": "66px",
    "width": "252px"
   },
   "navigate_menu": true,
   "number_sections": true,
   "sideBar": true,
   "threshold": 4,
   "toc_cell": false,
   "toc_section_display": "block",
   "toc_window_display": false
  }
 },
 "nbformat": 4,
 "nbformat_minor": 2
}
