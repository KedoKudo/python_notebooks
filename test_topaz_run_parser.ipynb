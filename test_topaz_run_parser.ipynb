{
 "cells": [
  {
   "cell_type": "code",
   "execution_count": null,
   "metadata": {
    "run_control": {
     "frozen": false,
     "read_only": false
    }
   },
   "outputs": [],
   "source": [
    "from __code.utilities import ListRunsParser\n",
    "\n",
    "o_parser = ListRunsParser(current_runs=\"1,2,4:8\")\n",
    "o_parser.list_current_runs\n",
    "\n",
    "new_runs = ['6','8', '10']\n",
    "\n",
    "o_parser.new_runs(list_runs=new_runs)\n",
    "\n"
   ]
  },
  {
   "cell_type": "code",
   "execution_count": null,
   "metadata": {},
   "outputs": [],
   "source": [
    "def match_list(reference_list=[], our_list=[]):\n",
    "    _index = 0\n",
    "    _ref_list_and_our_list = zip(our_list, reference_list)\n",
    "    for _ref_run, _our_run in _ref_list_and_our_list:\n",
    "        if _ref_run == _our_run:\n",
    "            _index += 1\n",
    "            continue\n",
    "        break\n",
    "\n",
    "    return _index\n"
   ]
  },
  {
   "cell_type": "code",
   "execution_count": null,
   "metadata": {},
   "outputs": [],
   "source": [
    "our_list = [1,2,4,5,6,7,10,11,12,14]\n",
    "ref_list = np.arange(our_list[0],our_list[-1]+1)\n",
    "\n",
    "print(match_list(reference_list=ref_list, our_list=our_list))\n",
    "\n"
   ]
  },
  {
   "cell_type": "code",
   "execution_count": null,
   "metadata": {},
   "outputs": [],
   "source": [
    "group_0 = our_list[0:2]\n",
    "\n",
    "new_our_list = our_list[2:]\n",
    "ref_list = np.arange(new_our_list[0], new_our_list[-1]+1)\n",
    "\n",
    "print(\"reference_list: {}\".format(ref_list))\n",
    "print(\"our_list: {}\".format(new_our_list))\n",
    "print(match_list(reference_list=ref_list, our_list=new_our_list))\n"
   ]
  },
  {
   "cell_type": "code",
   "execution_count": null,
   "metadata": {},
   "outputs": [],
   "source": [
    "group_1 = our_list[0:4]\n",
    "\n",
    "new_our_list = new_our_list[4:]\n",
    "ref_list = np.arange(new_our_list[0], new_our_list[-1]+1)\n",
    "\n",
    "print(\"reference_list: {}\".format(ref_list))\n",
    "print(\"our_list: {}\".format(new_our_list))\n",
    "print(match_list(reference_list=ref_list, our_list=new_our_list))\n"
   ]
  },
  {
   "cell_type": "code",
   "execution_count": null,
   "metadata": {},
   "outputs": [],
   "source": [
    "group_1 = new_our_list[0:3]\n",
    "\n",
    "new_our_list = new_our_list[3:]\n",
    "ref_list = np.arange(new_our_list[0], new_our_list[-1]+1)\n",
    "\n",
    "print(\"reference_list: {}\".format(ref_list))\n",
    "print(\"our_list: {}\".format(new_our_list))\n",
    "print(match_list(reference_list=ref_list, our_list=new_our_list))\n"
   ]
  },
  {
   "cell_type": "code",
   "execution_count": null,
   "metadata": {},
   "outputs": [],
   "source": [
    "new_our_list"
   ]
  },
  {
   "cell_type": "code",
   "execution_count": null,
   "metadata": {},
   "outputs": [],
   "source": [
    "a=[1,2,3]"
   ]
  },
  {
   "cell_type": "code",
   "execution_count": null,
   "metadata": {},
   "outputs": [],
   "source": [
    "a[-1]"
   ]
  },
  {
   "cell_type": "code",
   "execution_count": null,
   "metadata": {},
   "outputs": [],
   "source": []
  }
 ],
 "metadata": {
  "kernelspec": {
   "display_name": "Python 3",
   "language": "python",
   "name": "python3"
  },
  "language_info": {
   "codemirror_mode": {
    "name": "ipython",
    "version": 3
   },
   "file_extension": ".py",
   "mimetype": "text/x-python",
   "name": "python",
   "nbconvert_exporter": "python",
   "pygments_lexer": "ipython3",
   "version": "3.6.2"
  },
  "toc": {
   "colors": {
    "hover_highlight": "#DAA520",
    "running_highlight": "#FF0000",
    "selected_highlight": "#FFD700"
   },
   "moveMenuLeft": true,
   "nav_menu": {
    "height": "12px",
    "width": "252px"
   },
   "navigate_menu": true,
   "number_sections": true,
   "sideBar": true,
   "threshold": 4,
   "toc_cell": false,
   "toc_section_display": "block",
   "toc_window_display": false
  }
 },
 "nbformat": 4,
 "nbformat_minor": 2
}
