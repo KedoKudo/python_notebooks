{
 "cells": [
  {
   "cell_type": "code",
   "execution_count": 1,
   "metadata": {
    "collapsed": true
   },
   "outputs": [],
   "source": [
    "from __code.utilities import ListRunsParser"
   ]
  },
  {
   "cell_type": "markdown",
   "metadata": {},
   "source": [
    "Example 1"
   ]
  },
  {
   "cell_type": "code",
   "execution_count": 2,
   "metadata": {
    "run_control": {
     "frozen": false,
     "read_only": false
    }
   },
   "outputs": [
    {
     "name": "stdout",
     "output_type": "stream",
     "text": [
      "new list: [1, 2, 4, 5, 7, 9, 11, 12, 13, 14, 15]\n",
      "_groups: [[1, 2], [4, 5], [7, 7], [9, 9], [11, 15]]\n",
      "1,2,4,5,7,9,11:15\n"
     ]
    }
   ],
   "source": [
    "o_parser = ListRunsParser(current_runs=\"1,2,4:15\")\n",
    "o_parser.list_current_runs\n",
    "new_runs = ['6','8', '10']\n",
    "o_parser.new_runs(list_runs=new_runs)"
   ]
  },
  {
   "cell_type": "markdown",
   "metadata": {
    "run_control": {
     "frozen": false,
     "read_only": false
    }
   },
   "source": [
    "Example 1 (continued)"
   ]
  },
  {
   "cell_type": "code",
   "execution_count": 3,
   "metadata": {},
   "outputs": [
    {
     "name": "stdout",
     "output_type": "stream",
     "text": [
      "new list: [1, 2, 4, 5, 6, 7, 8, 9, 10, 11, 12, 13, 14, 15]\n",
      "_groups: [[1, 2], [4, 15]]\n",
      "1,2,4:15\n"
     ]
    }
   ],
   "source": [
    "new_runs = ['6','8', '10']\n",
    "o_parser.new_runs(list_runs=new_runs)"
   ]
  },
  {
   "cell_type": "markdown",
   "metadata": {},
   "source": [
    "Example 2"
   ]
  },
  {
   "cell_type": "code",
   "execution_count": 4,
   "metadata": {},
   "outputs": [
    {
     "name": "stdout",
     "output_type": "stream",
     "text": [
      "new list: [1, 2, 3, 6, 10]\n",
      "_groups: [[1, 3], [6, 6], [10]]\n",
      "1:3,6,10\n"
     ]
    }
   ],
   "source": [
    "o_parser = ListRunsParser(current_runs=\"1,2,3,10\")\n",
    "o_parser.list_current_runs\n",
    "new_runs = ['6']\n",
    "o_parser.new_runs(list_runs=new_runs)"
   ]
  },
  {
   "cell_type": "markdown",
   "metadata": {},
   "source": [
    "Example 3"
   ]
  },
  {
   "cell_type": "code",
   "execution_count": 5,
   "metadata": {},
   "outputs": [
    {
     "name": "stdout",
     "output_type": "stream",
     "text": [
      "new list: [6, 8, 10, 11, 12]\n",
      "_groups: [[6, 6], [8, 8], [10, 12]]\n",
      "6,8,10:12\n"
     ]
    }
   ],
   "source": [
    "o_parser = ListRunsParser(current_runs=\"\")\n",
    "o_parser.list_current_runs\n",
    "new_runs = ['6','8','10','11','12']\n",
    "o_parser.new_runs(list_runs=new_runs)"
   ]
  },
  {
   "cell_type": "code",
   "execution_count": null,
   "metadata": {
    "collapsed": true
   },
   "outputs": [],
   "source": []
  }
 ],
 "metadata": {
  "kernelspec": {
   "display_name": "Python 3",
   "language": "python",
   "name": "python3"
  },
  "language_info": {
   "codemirror_mode": {
    "name": "ipython",
    "version": 3
   },
   "file_extension": ".py",
   "mimetype": "text/x-python",
   "name": "python",
   "nbconvert_exporter": "python",
   "pygments_lexer": "ipython3",
   "version": "3.6.2"
  },
  "toc": {
   "colors": {
    "hover_highlight": "#DAA520",
    "running_highlight": "#FF0000",
    "selected_highlight": "#FFD700"
   },
   "moveMenuLeft": true,
   "nav_menu": {
    "height": "12px",
    "width": "252px"
   },
   "navigate_menu": true,
   "number_sections": true,
   "sideBar": true,
   "threshold": 4,
   "toc_cell": false,
   "toc_section_display": "block",
   "toc_window_display": false
  }
 },
 "nbformat": 4,
 "nbformat_minor": 2
}
