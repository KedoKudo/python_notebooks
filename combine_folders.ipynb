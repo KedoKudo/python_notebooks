{
 "cells": [
  {
   "cell_type": "markdown",
   "metadata": {},
   "source": [
    "# Select Your IPTS "
   ]
  },
  {
   "cell_type": "code",
   "execution_count": 1,
   "metadata": {
    "run_control": {
     "frozen": false,
     "read_only": false
    }
   },
   "outputs": [
    {
     "data": {
      "text/html": [
       "\n",
       "<style type=\"text/css\">\n",
       ".jupyter-widgets select option {font-family: \"Lucida Console\", Monaco, monospace;}\n",
       ".jupyter-widgets select {width: 98%;}\n",
       "div.output_subarea {padding: 0px;}\n",
       "div.output_subarea > div {margin: 0.4em;}\n",
       "</style>\n"
      ],
      "text/plain": [
       "<IPython.core.display.HTML object>"
      ]
     },
     "metadata": {},
     "output_type": "display_data"
    },
    {
     "data": {
      "text/html": [
       "\n",
       "                       <style>\n",
       "                       .result_label {\n",
       "                          font-style: bold;\n",
       "                          color: red;\n",
       "                          font-size: 18px;\n",
       "                       }\n",
       "                       </style>\n",
       "                       "
      ],
      "text/plain": [
       "<IPython.core.display.HTML object>"
      ]
     },
     "metadata": {},
     "output_type": "display_data"
    },
    {
     "data": {
      "application/vnd.jupyter.widget-view+json": {
       "model_id": "159ae604084c4bf2857c84e7a639bd43",
       "version_major": 2,
       "version_minor": 0
      },
      "text/html": [
       "<p>Failed to display Jupyter Widget of type <code>VBox</code>.</p>\n",
       "<p>\n",
       "  If you're reading this message in Jupyter Notebook or JupyterLab, it may mean\n",
       "  that the widgets JavaScript is still loading. If this message persists, it\n",
       "  likely means that the widgets JavaScript library is either not installed or\n",
       "  not enabled. See the <a href=\"https://ipywidgets.readthedocs.io/en/stable/user_install.html\">Jupyter\n",
       "  Widgets Documentation</a> for setup instructions.\n",
       "</p>\n",
       "<p>\n",
       "  If you're reading this message in another notebook frontend (for example, a static\n",
       "  rendering on GitHub or <a href=\"https://nbviewer.jupyter.org/\">NBViewer</a>),\n",
       "  it may mean that your frontend doesn't currently support widgets.\n",
       "</p>\n"
      ],
      "text/plain": [
       "VBox(children=(HBox(children=(Label(value='Select Instrument', layout=Layout(width='20%')), Select(layout=Layout(width='20%'), options=('CG1DImaging', 'SNAP', 'VENUS'), value='CG1DImaging'))), HBox(children=(Label(value='IPTS-'), Text(value='', layout=Layout(width='10%')), Label(value='DOES NOT EXIST!', layout=Layout(width='20%'), _dom_classes=('result_label',)))), Label(value='OR'), HBox(children=(Label(value='Select Folder', layout=Layout(width='20%')), Select(layout=Layout(height='300px'), options=('DF', 'IPTS-0001', 'IPTS-0002', 'IPTS-0003', 'IPTS-0004', 'IPTS-10050', 'IPTS-10100', 'IPTS-10114', 'IPTS-10227', 'IPTS-10251', 'IPTS-10294', 'IPTS-10309', 'IPTS-10376', 'IPTS-10378', 'IPTS-10427', 'IPTS-10438', 'IPTS-10504', 'IPTS-10505', 'IPTS-10512', 'IPTS-10518', 'IPTS-10526', 'IPTS-10635', 'IPTS-10649', 'IPTS-10721', 'IPTS-10951', 'IPTS-11002', 'IPTS-11076', 'IPTS-11084', 'IPTS-11085', 'IPTS-11118', 'IPTS-11201', 'IPTS-11266', 'IPTS-11275', 'IPTS-11328', 'IPTS-11351', 'IPTS-11353', 'IPTS-11369', 'IPTS-11378', 'IPTS-11461', 'IPTS-11554', 'IPTS-11620', 'IPTS-11725', 'IPTS-11756', 'IPTS-11774', 'IPTS-11788', 'IPTS-11795', 'IPTS-11954', 'IPTS-12076', 'IPTS-12101', 'IPTS-12193', 'IPTS-12273', 'IPTS-12287', 'IPTS-12338', 'IPTS-12397', 'IPTS-12534', 'IPTS-12633', 'IPTS-12668', 'IPTS-12763', 'IPTS-12851', 'IPTS-12867', 'IPTS-12889', 'IPTS-12891', 'IPTS-12951', 'IPTS-13028', 'IPTS-13029', 'IPTS-13165', 'IPTS-13185', 'IPTS-13224', 'IPTS-13226', 'IPTS-13227', 'IPTS-13241', 'IPTS-13251', 'IPTS-13356', 'IPTS-13406', 'IPTS-13419', 'IPTS-13536', 'IPTS-13556', 'IPTS-13567', 'IPTS-13612', 'IPTS-13639', 'IPTS-13700', 'IPTS-13833', 'IPTS-13912', 'IPTS-13969', 'IPTS-14050', 'IPTS-14088', 'IPTS-14112', 'IPTS-14125', 'IPTS-14162', 'IPTS-14209', 'IPTS-14243', 'IPTS-14336', 'IPTS-14342', 'IPTS-14359', 'IPTS-14367', 'IPTS-14372', 'IPTS-14438', 'IPTS-14456', 'IPTS-14531', 'IPTS-14635', 'IPTS-14685', 'IPTS-14708', 'IPTS-14720', 'IPTS-14736', 'IPTS-14769', 'IPTS-14770', 'IPTS-14774', 'IPTS-14785', 'IPTS-14832', 'IPTS-14837', 'IPTS-14841', 'IPTS-14842', 'IPTS-14847', 'IPTS-14848', 'IPTS-14904', 'IPTS-14968', 'IPTS-15044', 'IPTS-15177', 'IPTS-15266', 'IPTS-15391', 'IPTS-15481', 'IPTS-15505', 'IPTS-15518', 'IPTS-15552', 'IPTS-15577', 'IPTS-15660', 'IPTS-15684', 'IPTS-15695', 'IPTS-15765', 'IPTS-15840', 'IPTS-15858', 'IPTS-15884', 'IPTS-15885', 'IPTS-15954', 'IPTS-16040', 'IPTS-16087', 'IPTS-16155', 'IPTS-16161', 'IPTS-16178', 'IPTS-16185', 'IPTS-16212', 'IPTS-16217', 'IPTS-16221', 'IPTS-16259', 'IPTS-16394', 'IPTS-16408', 'IPTS-16413', 'IPTS-16423', 'IPTS-16475', 'IPTS-16558', 'IPTS-16661', 'IPTS-16670', 'IPTS-16743', 'IPTS-16748', 'IPTS-16893', 'IPTS-16895', 'IPTS-17099', 'IPTS-17254', 'IPTS-17255', 'IPTS-17282', 'IPTS-17409', 'IPTS-17413', 'IPTS-17416', 'IPTS-17493', 'IPTS-17564', 'IPTS-17622', 'IPTS-17653', 'IPTS-17671', 'IPTS-17685', 'IPTS-17781', 'IPTS-17783', 'IPTS-17954', 'IPTS-17981', 'IPTS-17993', 'IPTS-18009', 'IPTS-18074', 'IPTS-18144', 'IPTS-18214', 'IPTS-18321', 'IPTS-18377', 'IPTS-18389', 'IPTS-18580', 'IPTS-18600', 'IPTS-18613', 'IPTS-18747', 'IPTS-18748', 'IPTS-18759', 'IPTS-18777', 'IPTS-18788', 'IPTS-18806', 'IPTS-18813', 'IPTS-18824', 'IPTS-18842', 'IPTS-18923', 'IPTS-19021', 'IPTS-19037', 'IPTS-19164', 'IPTS-19213', 'IPTS-19227', 'IPTS-19273', 'IPTS-19334', 'IPTS-19364', 'IPTS-19410', 'IPTS-19437', 'IPTS-19458', 'IPTS-19472', 'IPTS-19533', 'IPTS-19571', 'IPTS-19619', 'IPTS-19621', 'IPTS-19633', 'IPTS-19647', 'IPTS-19709', 'IPTS-19733', 'IPTS-19793', 'IPTS-19799', 'IPTS-19831', 'IPTS-19854', 'IPTS-19891', 'IPTS-19907', 'IPTS-19921', 'IPTS-19937', 'IPTS-19941', 'IPTS-19943', 'IPTS-19969', 'IPTS-20126', 'IPTS-20132', 'IPTS-20139', 'IPTS-20151', 'IPTS-20194', 'IPTS-20227', 'IPTS-20267', 'IPTS-20326', 'IPTS-20343', 'IPTS-20350', 'IPTS-20383', 'IPTS-20389', 'IPTS-20416', 'IPTS-20440', 'IPTS-20444', 'IPTS-20454', 'IPTS-20458', 'IPTS-20526', 'IPTS-20614', 'IPTS-20654', 'IPTS-20735', 'IPTS-20748', 'IPTS-20770', 'IPTS-20826', 'IPTS-20865', 'IPTS-20871', 'IPTS-2092', 'IPTS-21115', 'IPTS-21123', 'IPTS-21132', 'IPTS-21157', 'IPTS-21261', 'IPTS-21299', 'IPTS-21313', 'IPTS-21314', 'IPTS-21316', 'IPTS-21336', 'IPTS-21397', 'IPTS-21436', 'IPTS-21545', 'IPTS-21632', 'IPTS-21747', 'IPTS-21884', 'IPTS-21959', 'IPTS-21967', 'IPTS-22222', 'IPTS-22223', 'IPTS-22328', 'IPTS-22339', 'IPTS-240', 'IPTS-2726', 'IPTS-3358', 'IPTS-3570', 'IPTS-3647', 'IPTS-3683', 'IPTS-3996', 'IPTS-3999', 'IPTS-4222', 'IPTS-4236', 'IPTS-4536', 'IPTS-4586', 'IPTS-4752', 'IPTS-4785', 'IPTS-4813', 'IPTS-4875', 'IPTS-5021', 'IPTS-5025', 'IPTS-5033', 'IPTS-5141', 'IPTS-5299', 'IPTS-5377', 'IPTS-5805', 'IPTS-5897', 'IPTS-6056', 'IPTS-6140', 'IPTS-6284', 'IPTS-6337', 'IPTS-6489', 'IPTS-6503', 'IPTS-6506', 'IPTS-6555', 'IPTS-6655', 'IPTS-6677', 'IPTS-6855', 'IPTS-6857', 'IPTS-7067', 'IPTS-7318', 'IPTS-7347', 'IPTS-7358', 'IPTS-7403', 'IPTS-7455', 'IPTS-7472', 'IPTS-7488', 'IPTS-7492', 'IPTS-7592', 'IPTS-7878', 'IPTS-7903', 'IPTS-7971', 'IPTS-7992', 'IPTS-8103', 'IPTS-8245', 'IPTS-8254', 'IPTS-8302', 'IPTS-8338', 'IPTS-8412', 'IPTS-8518', 'IPTS-8529', 'IPTS-8577', 'IPTS-8583', 'IPTS-8719', 'IPTS-8736', 'IPTS-8851', 'IPTS-8868', 'IPTS-8927', 'IPTS-8968', 'IPTS-8979', 'IPTS-9007', 'IPTS-9055', 'IPTS-9159', 'IPTS-9207', 'IPTS-9257', 'IPTS-9294', 'IPTS-9312', 'IPTS-9404', 'IPTS-9464', 'IPTS-9496', 'IPTS-9546', 'IPTS-9667', 'IPTS-9668', 'IPTS-9690', 'IPTS-9697', 'IPTS-9742', 'IPTS-9744', 'IPTS-9768', 'IPTS-9866', 'IPTS-9985', 'IPTS-9986', 'IPTS-DEMO', 'example', 'hfir-cg1dimaging-files.20151007', 'pp4_backup', 'shared', 'status', 'stsdata', 'stsdata_hfir', 'stsdata_hfir_test', 'stsdata_test', 'testfile'), value='DF'))), Button(button_style='info', description='HELP', style=ButtonStyle())))"
      ]
     },
     "metadata": {},
     "output_type": "display_data"
    },
    {
     "data": {
      "text/html": [
       "<style>\n",
       "\n",
       "/* The following CSS has been adapted from\n",
       "   http://nbviewer.ipython.org/github/ketch/teaching-numerics-with-notebooks/blob/master/Styling_notebooks.ipynb\n",
       "   by Aron Ahmadia and David Ketcheson and has been reused under CC BY 4.0\n",
       "   */\n",
       "\n",
       "/* main background */\n",
       "#site { \n",
       "    background: #888;\n",
       "    color: #red; \n",
       "}\n",
       "\n",
       "div.container {\n",
       "    width: 100% ! important;\n",
       "}\n",
       "\n",
       "div.cell { /* set cell width to about 80 chars */\n",
       "    width: 95%;\n",
       "}\n",
       "\n",
       "div #notebook { /* centre the content */\n",
       "/*    background: #fff; /* white background for content */\n",
       "    background: blue;\n",
       "    width: 100%;\n",
       "    margin: auto;\n",
       "    padding-left: 1em;\n",
       "    padding-right: 1em;\n",
       "    background-image: url(\"tile_background.jpg\");\n",
       "}\n",
       "\n",
       "#notebook li { /* More space between bullet points */\n",
       "    margin-top:0.4em;\n",
       "}\n",
       "\n",
       "/* change background color of running cells */\n",
       "div.cell.code_cell.running {\n",
       "/*    background-color: rgba(164,188,194,.75); */\n",
       "    background-color: green;\n",
       "    border-width: 8px\n",
       "    border-style: solid\n",
       "    border-color: #111;\n",
       "}\n",
       "\n",
       "/* Put a solid color box around each cell and its output, visually linking them together */\n",
       "div.cell.code_cell {\n",
       "    background-color: rgba(164,188,194,.25); /* Continuum L Gray with alpha 0.25 */\n",
       "    border-radius: 10px; /* rounded borders */\n",
       "    padding: 1em;\n",
       "    margin-top: 1em;\n",
       "}\n",
       "\n",
       "div.text_cell_render{\n",
       "\tfont-family: Georgia, Times, 'Times New Roman', serif;\n",
       "    line-height: 110%;\n",
       "    font-size: 105%;\n",
       "    width: 95%;\n",
       "    margin-left: auto;\n",
       "    margin-right: auto;\n",
       "}\n",
       "\n",
       "\n",
       "/* Formatting for header cells */\n",
       ".text_cell_render h1 {\n",
       "\tfont-family: Arial, 'Helvetica Neue', Helvetica, sans-serif;\n",
       "    font-weight: 400;\n",
       "    font-size: 30pt;\n",
       "    line-height: 100%;\n",
       "    color: rgb(37,55,70); /* Continuum Blue*/\n",
       "    margin-bottom: 0.1em;\n",
       "    margin-top: 0.1em;\n",
       "    display: block;\n",
       "}\n",
       ".text_cell_render h2 {\n",
       "\tfont-family: Arial, 'Helvetica Neue', Helvetica, sans-serif;\n",
       "    font-weight: 700;\n",
       "    font-size: 22pt;\n",
       "    line-height: 100%;\n",
       "    color: rgb(37,55,70);\n",
       "    margin-bottom: 0.1em;\n",
       "    margin-top: 0.1em;\n",
       "    display: block;\n",
       "}\n",
       "\n",
       ".text_cell_render h3 {\n",
       "\tfont-family: Arial, 'Helvetica Neue', Helvetica, sans-serif;\n",
       "    margin-top:12px;\n",
       "    margin-bottom: 3px;\n",
       "    font-style: italic;\n",
       "    color: rgb(37, 55, 70);\n",
       "}\n",
       "\n",
       ".text_cell_render h4 {\n",
       "\tfont-family: Arial, 'Helvetica Neue', Helvetica, sans-serif;\n",
       "}\n",
       "\n",
       ".text_cell_render h5 {\n",
       "\tfont-family: Arial, 'Helvetica Neue', Helvetica, sans-serif;\n",
       "    font-weight: 300;\n",
       "    font-size: 14pt;\n",
       "    font-style: italic;\n",
       "    margin-bottom: .1em;\n",
       "    margin-top: 0.1em;\n",
       "    display: block;\n",
       "}\n",
       "\n",
       ".text_cell_render h6 {\n",
       "\tfont-family: Arial, 'Helvetica Neue', Helvetica, sans-serif;\n",
       "    font-weight: 300;\n",
       "    font-size: 10pt;\n",
       "    margin-bottom: 1px;\n",
       "    margin-top: 1px;\n",
       "}\n",
       "\n",
       ".CodeMirror{\n",
       "        font-family: \"PT Mono\", fixed;\n",
       "        font-size: 100%;\n",
       "}\n",
       "\n",
       "#notebook_panel { /* main background */\n",
       "    background-image: url(\"tile_background.jpg\");\n",
       "}\n",
       "\n",
       "\n",
       "\n",
       "\n",
       "</style>\n"
      ],
      "text/plain": [
       "<IPython.core.display.HTML object>"
      ]
     },
     "execution_count": 1,
     "metadata": {},
     "output_type": "execute_result"
    }
   ],
   "source": [
    "from __code.combine_folders import CombineFolders\n",
    "from __code import system\n",
    "system.System.select_working_dir()\n",
    "from __code.__all import custom_style\n",
    "custom_style.style()"
   ]
  },
  {
   "cell_type": "markdown",
   "metadata": {
    "run_control": {
     "frozen": false,
     "read_only": false
    }
   },
   "source": [
    "# Description"
   ]
  },
  {
   "cell_type": "markdown",
   "metadata": {
    "run_control": {
     "frozen": false,
     "read_only": false
    }
   },
   "source": [
    "This notebook allows to combine (**add** or **mean**) images from different folders\n",
    "\n",
    "\n",
    "**INPUT**\n",
    "\n",
    "```\n",
    "folder_1\n",
    "   image001.fits\n",
    "   image002.fits\n",
    "   image003.fits\n",
    "   ....\n",
    "   \n",
    "folder_2\n",
    "    image001.fits\n",
    "    image002.fits\n",
    "    image003.fits\n",
    "    ...\n",
    "    \n",
    "...    \n",
    "    \n",
    "```\n",
    "**OUTPUT**\n",
    "\n",
    "```\n",
    "folder_combine\n",
    "    image001.fits\n",
    "    image002.fits\n",
    "    image003.fits\n",
    "    ...\n",
    "```\n",
    "\n"
   ]
  },
  {
   "cell_type": "markdown",
   "metadata": {
    "run_control": {
     "frozen": false,
     "read_only": false
    }
   },
   "source": [
    "# Select Folders to Merge "
   ]
  },
  {
   "cell_type": "code",
   "execution_count": 2,
   "metadata": {
    "run_control": {
     "frozen": false,
     "read_only": false
    }
   },
   "outputs": [
    {
     "data": {
      "application/vnd.jupyter.widget-view+json": {
       "model_id": "166879d1a3924312af5cc634bfc9b879",
       "version_major": 2,
       "version_minor": 0
      },
      "text/html": [
       "<p>Failed to display Jupyter Widget of type <code>VBox</code>.</p>\n",
       "<p>\n",
       "  If you're reading this message in Jupyter Notebook or JupyterLab, it may mean\n",
       "  that the widgets JavaScript is still loading. If this message persists, it\n",
       "  likely means that the widgets JavaScript library is either not installed or\n",
       "  not enabled. See the <a href=\"https://ipywidgets.readthedocs.io/en/stable/user_install.html\">Jupyter\n",
       "  Widgets Documentation</a> for setup instructions.\n",
       "</p>\n",
       "<p>\n",
       "  If you're reading this message in another notebook frontend (for example, a static\n",
       "  rendering on GitHub or <a href=\"https://nbviewer.jupyter.org/\">NBViewer</a>),\n",
       "  it may mean that your frontend doesn't currently support widgets.\n",
       "</p>\n"
      ],
      "text/plain": [
       "VBox(children=(Label(value='select folder to combine', layout=Layout(width='250px')), VBox(children=(HBox(children=(HBox(children=(Text(value='/SNS/SNAP/IPTS-20439', description='Location: ', layout=Layout(width='100%'), placeholder=''), Button(description='Jump', layout=Layout(border='1px solid gray', margin='5px 10px', width='100px'), style=ButtonStyle())), layout=Layout(border='1px solid lightgrey', margin='5px 50px 5px 5px', padding='3px', width='100%')),)), HBox(children=(VBox(children=(HBox(children=(Label(value='Search:'), Text(value='', layout=Layout(width='50%'))), layout=Layout(justify_content='flex-end')), SelectMultiple(description='Select', layout=Layout(height='260px', width='99%'), options=(' .', ' ..', ' nexus      |     Directory', ' shared     |     Directory'), value=())), layout=Layout(width='80%')), VBox(children=(Button(description='Change directory', layout=Layout(border='1px solid gray', margin='5px 40px'), style=ButtonStyle()), Button(description='Select', layout=Layout(border='1px solid blue', margin='auto 40px 5px'), style=ButtonStyle())))), layout=Layout(border='1px solid lightgrey', margin='5px', padding='10px')))), HTML(value='')))"
      ]
     },
     "metadata": {},
     "output_type": "display_data"
    }
   ],
   "source": [
    "o_merge = CombineFolders(working_dir=system.System.get_working_dir())\n",
    "o_merge.select_folders()"
   ]
  },
  {
   "cell_type": "markdown",
   "metadata": {
    "run_control": {
     "frozen": false,
     "read_only": false
    }
   },
   "source": [
    "Checking that number of files in each folder is identical"
   ]
  },
  {
   "cell_type": "code",
   "execution_count": null,
   "metadata": {
    "collapsed": true,
    "run_control": {
     "frozen": false,
     "read_only": false
    }
   },
   "outputs": [],
   "source": [
    "o_merge.check_number_of_files()"
   ]
  },
  {
   "cell_type": "markdown",
   "metadata": {
    "run_control": {
     "frozen": false,
     "read_only": false
    }
   },
   "source": [
    "# Merging Method"
   ]
  },
  {
   "cell_type": "markdown",
   "metadata": {
    "run_control": {
     "frozen": false,
     "read_only": false
    }
   },
   "source": [
    "## How many folders do you want to combine together"
   ]
  },
  {
   "cell_type": "markdown",
   "metadata": {
    "run_control": {
     "frozen": false,
     "read_only": false
    }
   },
   "source": [
    "ex: **2** will combine the first 2 folders selected, then the next 2, ...."
   ]
  },
  {
   "cell_type": "code",
   "execution_count": null,
   "metadata": {
    "collapsed": true,
    "run_control": {
     "frozen": false,
     "read_only": false
    }
   },
   "outputs": [],
   "source": [
    "o_merge.how_many_folders()"
   ]
  },
  {
   "cell_type": "markdown",
   "metadata": {
    "run_control": {
     "frozen": false,
     "read_only": false
    }
   },
   "source": [
    "##  How do you want to combine them"
   ]
  },
  {
   "cell_type": "code",
   "execution_count": null,
   "metadata": {
    "collapsed": true,
    "run_control": {
     "frozen": false,
     "read_only": false
    }
   },
   "outputs": [],
   "source": [
    "o_merge.how_to_combine()"
   ]
  },
  {
   "cell_type": "markdown",
   "metadata": {
    "run_control": {
     "frozen": false,
     "read_only": false
    }
   },
   "source": [
    "# Select Output Folder "
   ]
  },
  {
   "cell_type": "code",
   "execution_count": null,
   "metadata": {
    "collapsed": true,
    "run_control": {
     "frozen": false,
     "read_only": false
    }
   },
   "outputs": [],
   "source": [
    "o_merge.select_output_folder()"
   ]
  },
  {
   "cell_type": "markdown",
   "metadata": {
    "run_control": {
     "frozen": false,
     "read_only": false
    }
   },
   "source": [
    "# Merging "
   ]
  },
  {
   "cell_type": "code",
   "execution_count": null,
   "metadata": {
    "collapsed": true,
    "run_control": {
     "frozen": false,
     "read_only": false
    }
   },
   "outputs": [],
   "source": [
    "o_merge.merging()"
   ]
  },
  {
   "cell_type": "code",
   "execution_count": null,
   "metadata": {
    "collapsed": true
   },
   "outputs": [],
   "source": []
  }
 ],
 "metadata": {
  "anaconda-cloud": {},
  "kernelspec": {
   "display_name": "Python 3",
   "language": "python",
   "name": "python3"
  },
  "language_info": {
   "codemirror_mode": {
    "name": "ipython",
    "version": 3
   },
   "file_extension": ".py",
   "mimetype": "text/x-python",
   "name": "python",
   "nbconvert_exporter": "python",
   "pygments_lexer": "ipython3",
   "version": "3.6.2"
  },
  "toc": {
   "colors": {
    "hover_highlight": "#DAA520",
    "running_highlight": "#FF0000",
    "selected_highlight": "#FFD700"
   },
   "moveMenuLeft": true,
   "nav_menu": {
    "height": "210px",
    "width": "252px"
   },
   "navigate_menu": true,
   "number_sections": true,
   "sideBar": true,
   "threshold": 4,
   "toc_cell": false,
   "toc_section_display": "block",
   "toc_window_display": false
  }
 },
 "nbformat": 4,
 "nbformat_minor": 1
}
