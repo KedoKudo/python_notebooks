{
 "cells": [
  {
   "cell_type": "markdown",
   "metadata": {
    "run_control": {
     "frozen": false,
     "read_only": false
    }
   },
   "source": [
    "# Select Your IPTS "
   ]
  },
  {
   "cell_type": "code",
   "execution_count": 1,
   "metadata": {
    "run_control": {
     "frozen": false,
     "read_only": false
    }
   },
   "outputs": [
    {
     "name": "stdout",
     "output_type": "stream",
     "text": [
      "** Using Debugging Mode! **\n"
     ]
    },
    {
     "data": {
      "application/vnd.jupyter.widget-view+json": {
       "model_id": "82db58d8098e4503837aba5c6e0789bf",
       "version_major": 2,
       "version_minor": 0
      },
      "text/html": [
       "<p>Failed to display Jupyter Widget of type <code>HBox</code>.</p>\n",
       "<p>\n",
       "  If you're reading this message in Jupyter Notebook or JupyterLab, it may mean\n",
       "  that the widgets JavaScript is still loading. If this message persists, it\n",
       "  likely means that the widgets JavaScript library is either not installed or\n",
       "  not enabled. See the <a href=\"https://ipywidgets.readthedocs.io/en/stable/user_install.html\">Jupyter\n",
       "  Widgets Documentation</a> for setup instructions.\n",
       "</p>\n",
       "<p>\n",
       "  If you're reading this message in another notebook frontend (for example, a static\n",
       "  rendering on GitHub or <a href=\"https://nbviewer.jupyter.org/\">NBViewer</a>),\n",
       "  it may mean that your frontend doesn't currently support widgets.\n",
       "</p>\n"
      ],
      "text/plain": [
       "HBox(children=(Label(value='Select Working Folder', layout=Layout(width='20%')), Select(index=8, options=('BraggEdge', 'Brianne', 'DOE_letters', 'FITSimages', 'IPTS-12534', 'IPTS_13639_resonance_shawn', 'IPTS_14832', 'IPTS_16212', 'IPTS_16259', 'IPTS_16475', 'IPTS_16893', 'IPTS_17099', 'IPTS_17685', 'IPTS_17981', 'IPTS_18580', 'IPTS_18806', 'IPTS_19037', 'IPTS_19558', 'IPTS_19621', 'IPTS_19626', 'IPTS_test_normalization', 'IPTS_testing_time_spectra', 'ImagesToRegisterForGian', 'Indu', 'Keita_code', 'Pour_ibeatles_video', 'ResonanceImaging', 'SENSITIVE', 'SarmaGUI', 'SphereCoordinates3D', 'TempData', 'gian', 'iBeatles_debugging'), value='IPTS_16259')))"
      ]
     },
     "metadata": {},
     "output_type": "display_data"
    },
    {
     "data": {
      "text/html": [
       "<style>\n",
       "\n",
       "/* The following CSS has been adapted from\n",
       "   http://nbviewer.ipython.org/github/ketch/teaching-numerics-with-notebooks/blob/master/Styling_notebooks.ipynb\n",
       "   by Aron Ahmadia and David Ketcheson and has been reused under CC BY 4.0\n",
       "   */\n",
       "\n",
       "/* main background */\n",
       "#site { \n",
       "    background: #888;\n",
       "    color: #red; \n",
       "}\n",
       "\n",
       "div.container {\n",
       "    width: 100% ! important;\n",
       "}\n",
       "\n",
       "div.cell { /* set cell width to about 80 chars */\n",
       "    width: 95%;\n",
       "}\n",
       "\n",
       "div #notebook { /* centre the content */\n",
       "/*    background: #fff; /* white background for content */\n",
       "    background: blue;\n",
       "    width: 100%;\n",
       "    margin: auto;\n",
       "    padding-left: 1em;\n",
       "    padding-right: 1em;\n",
       "    background-image: url(\"tile_background.jpg\");\n",
       "}\n",
       "\n",
       "#notebook li { /* More space between bullet points */\n",
       "    margin-top:0.4em;\n",
       "}\n",
       "\n",
       "/* change background color of running cells */\n",
       "div.cell.code_cell.running {\n",
       "/*    background-color: rgba(164,188,194,.75); */\n",
       "    background-color: green;\n",
       "    border-width: 8px\n",
       "    border-style: solid\n",
       "    border-color: #111;\n",
       "}\n",
       "\n",
       "/* Put a solid color box around each cell and its output, visually linking them together */\n",
       "div.cell.code_cell {\n",
       "    background-color: rgba(164,188,194,.25); /* Continuum L Gray with alpha 0.25 */\n",
       "    border-radius: 10px; /* rounded borders */\n",
       "    padding: 1em;\n",
       "    margin-top: 1em;\n",
       "}\n",
       "\n",
       "div.text_cell_render{\n",
       "\tfont-family: Georgia, Times, 'Times New Roman', serif;\n",
       "    line-height: 110%;\n",
       "    font-size: 105%;\n",
       "    width: 95%;\n",
       "    margin-left: auto;\n",
       "    margin-right: auto;\n",
       "}\n",
       "\n",
       "\n",
       "/* Formatting for header cells */\n",
       ".text_cell_render h1 {\n",
       "\tfont-family: Arial, 'Helvetica Neue', Helvetica, sans-serif;\n",
       "    font-weight: 400;\n",
       "    font-size: 30pt;\n",
       "    line-height: 100%;\n",
       "    color: rgb(37,55,70); /* Continuum Blue*/\n",
       "    margin-bottom: 0.1em;\n",
       "    margin-top: 0.1em;\n",
       "    display: block;\n",
       "}\n",
       ".text_cell_render h2 {\n",
       "\tfont-family: Arial, 'Helvetica Neue', Helvetica, sans-serif;\n",
       "    font-weight: 700;\n",
       "    font-size: 22pt;\n",
       "    line-height: 100%;\n",
       "    color: rgb(37,55,70);\n",
       "    margin-bottom: 0.1em;\n",
       "    margin-top: 0.1em;\n",
       "    display: block;\n",
       "}\n",
       "\n",
       ".text_cell_render h3 {\n",
       "\tfont-family: Arial, 'Helvetica Neue', Helvetica, sans-serif;\n",
       "    margin-top:12px;\n",
       "    margin-bottom: 3px;\n",
       "    font-style: italic;\n",
       "    color: rgb(37, 55, 70);\n",
       "}\n",
       "\n",
       ".text_cell_render h4 {\n",
       "\tfont-family: Arial, 'Helvetica Neue', Helvetica, sans-serif;\n",
       "}\n",
       "\n",
       ".text_cell_render h5 {\n",
       "\tfont-family: Arial, 'Helvetica Neue', Helvetica, sans-serif;\n",
       "    font-weight: 300;\n",
       "    font-size: 14pt;\n",
       "    font-style: italic;\n",
       "    margin-bottom: .1em;\n",
       "    margin-top: 0.1em;\n",
       "    display: block;\n",
       "}\n",
       "\n",
       ".text_cell_render h6 {\n",
       "\tfont-family: Arial, 'Helvetica Neue', Helvetica, sans-serif;\n",
       "    font-weight: 300;\n",
       "    font-size: 10pt;\n",
       "    margin-bottom: 1px;\n",
       "    margin-top: 1px;\n",
       "}\n",
       "\n",
       ".CodeMirror{\n",
       "        font-family: \"PT Mono\", fixed;\n",
       "        font-size: 100%;\n",
       "}\n",
       "\n",
       "#notebook_panel { /* main background */\n",
       "    background-image: url(\"tile_background.jpg\");\n",
       "}\n",
       "\n",
       "\n",
       "\n",
       "\n",
       "</style>\n"
      ],
      "text/plain": [
       "<IPython.core.display.HTML object>"
      ]
     },
     "execution_count": 1,
     "metadata": {},
     "output_type": "execute_result"
    }
   ],
   "source": [
    "from __code.combine_images import CombineImages\n",
    "from __code import system\n",
    "system.System.select_working_dir()\n",
    "from __code.__all import custom_style\n",
    "custom_style.style()"
   ]
  },
  {
   "cell_type": "markdown",
   "metadata": {
    "run_control": {
     "frozen": false,
     "read_only": false
    }
   },
   "source": [
    "# Description"
   ]
  },
  {
   "cell_type": "markdown",
   "metadata": {
    "run_control": {
     "frozen": false,
     "read_only": false
    }
   },
   "source": [
    "This notebook allows to combine (**add** or **mean**) the images selected\n",
    "\n",
    "\n",
    "**INPUT**\n",
    "\n",
    "```\n",
    "   image001.fits\n",
    "   image002.fits\n",
    "   image003.fits  \n",
    "```\n",
    "**OUTPUT**\n",
    "\n",
    "```\n",
    "    image001_image002_image003.fits\n",
    "```\n"
   ]
  },
  {
   "cell_type": "markdown",
   "metadata": {
    "run_control": {
     "frozen": false,
     "read_only": false
    }
   },
   "source": [
    "# Select Images to Merge "
   ]
  },
  {
   "cell_type": "code",
   "execution_count": 7,
   "metadata": {
    "run_control": {
     "frozen": false,
     "read_only": false
    }
   },
   "outputs": [
    {
     "data": {
      "application/vnd.jupyter.widget-view+json": {
       "model_id": "092574db41654e0aa412f9a1bed843a5",
       "version_major": 2,
       "version_minor": 0
      },
      "text/html": [
       "<p>Failed to display Jupyter Widget of type <code>HTML</code>.</p>\n",
       "<p>\n",
       "  If you're reading this message in Jupyter Notebook or JupyterLab, it may mean\n",
       "  that the widgets JavaScript is still loading. If this message persists, it\n",
       "  likely means that the widgets JavaScript library is either not installed or\n",
       "  not enabled. See the <a href=\"https://ipywidgets.readthedocs.io/en/stable/user_install.html\">Jupyter\n",
       "  Widgets Documentation</a> for setup instructions.\n",
       "</p>\n",
       "<p>\n",
       "  If you're reading this message in another notebook frontend (for example, a static\n",
       "  rendering on GitHub or <a href=\"https://nbviewer.jupyter.org/\">NBViewer</a>),\n",
       "  it may mean that your frontend doesn't currently support widgets.\n",
       "</p>\n"
      ],
      "text/plain": [
       "HTML(value='Please wait...')"
      ]
     },
     "metadata": {},
     "output_type": "display_data"
    },
    {
     "data": {
      "text/html": [
       "\n",
       "        <style type=\"text/css\">\n",
       "        .jupyter-widgets select option {font-family: \"Lucida Console\", Monaco, monospace;}\n",
       "        div.output_subarea {padding: 0px;}\n",
       "        div.output_subarea > div {margin: 0.4em;}\n",
       "        </style>\n",
       "        "
      ],
      "text/plain": [
       "<IPython.core.display.HTML object>"
      ]
     },
     "metadata": {},
     "output_type": "display_data"
    },
    {
     "data": {
      "application/vnd.jupyter.widget-view+json": {
       "model_id": "a6c9357cd7c645d78ae22a3b108b80bd",
       "version_major": 2,
       "version_minor": 0
      },
      "text/html": [
       "<p>Failed to display Jupyter Widget of type <code>VBox</code>.</p>\n",
       "<p>\n",
       "  If you're reading this message in Jupyter Notebook or JupyterLab, it may mean\n",
       "  that the widgets JavaScript is still loading. If this message persists, it\n",
       "  likely means that the widgets JavaScript library is either not installed or\n",
       "  not enabled. See the <a href=\"https://ipywidgets.readthedocs.io/en/stable/user_install.html\">Jupyter\n",
       "  Widgets Documentation</a> for setup instructions.\n",
       "</p>\n",
       "<p>\n",
       "  If you're reading this message in another notebook frontend (for example, a static\n",
       "  rendering on GitHub or <a href=\"https://nbviewer.jupyter.org/\">NBViewer</a>),\n",
       "  it may mean that your frontend doesn't currently support widgets.\n",
       "</p>\n"
      ],
      "text/plain": [
       "VBox(children=(Label(value='select files to combine', layout=Layout(width='250px')), HBox(children=(HBox(children=(Text(value='/Volumes/my_book_thunderbolt_duo/IPTS/IPTS_18580', description='Location: ', layout=Layout(width='300px'), placeholder=''), Button(description='Jump', layout=Layout(margin='5px 10px', width='100px'), style=ButtonStyle())), layout=Layout(border='1px solid lightgrey', margin='5px 50px 5px 5px', padding='3px')),)), VBox(children=(SelectMultiple(description='Select', layout=Layout(display='flex', flex_flow='column', width='750px'), options=(' .', ' ..', ' .DS_Store                             |     Thu Jan 11 10:29:46 2018', ' Image203_218_arithmetic_mean.fits     |     Thu Jan 11 10:42:28 2018', ' ob                                    |     Directory', ' raw                                   |     Directory', ' raw_normalized                        |     Directory'), value=()), HBox(children=(Button(description='Enter directory', layout=Layout(margin='5px 40px'), style=ButtonStyle()), Button(description='Select', layout=Layout(margin='5px 40px'), style=ButtonStyle())))), layout=Layout(border='1px solid lightgrey', margin='5px', padding='10px'))))"
      ]
     },
     "metadata": {},
     "output_type": "display_data"
    },
    {
     "data": {
      "application/vnd.jupyter.widget-view+json": {
       "model_id": "41a5a66c68e145f1a3c85bdeb53fbc7a",
       "version_major": 2,
       "version_minor": 0
      },
      "text/html": [
       "<p>Failed to display Jupyter Widget of type <code>HTML</code>.</p>\n",
       "<p>\n",
       "  If you're reading this message in Jupyter Notebook or JupyterLab, it may mean\n",
       "  that the widgets JavaScript is still loading. If this message persists, it\n",
       "  likely means that the widgets JavaScript library is either not installed or\n",
       "  not enabled. See the <a href=\"https://ipywidgets.readthedocs.io/en/stable/user_install.html\">Jupyter\n",
       "  Widgets Documentation</a> for setup instructions.\n",
       "</p>\n",
       "<p>\n",
       "  If you're reading this message in another notebook frontend (for example, a static\n",
       "  rendering on GitHub or <a href=\"https://nbviewer.jupyter.org/\">NBViewer</a>),\n",
       "  it may mean that your frontend doesn't currently support widgets.\n",
       "</p>\n"
      ],
      "text/plain": [
       "HTML(value='Please wait...')"
      ]
     },
     "metadata": {},
     "output_type": "display_data"
    },
    {
     "data": {
      "text/html": [
       "\n",
       "        <style type=\"text/css\">\n",
       "        .jupyter-widgets select option {font-family: \"Lucida Console\", Monaco, monospace;}\n",
       "        div.output_subarea {padding: 0px;}\n",
       "        div.output_subarea > div {margin: 0.4em;}\n",
       "        </style>\n",
       "        "
      ],
      "text/plain": [
       "<IPython.core.display.HTML object>"
      ]
     },
     "metadata": {},
     "output_type": "display_data"
    },
    {
     "data": {
      "application/vnd.jupyter.widget-view+json": {
       "model_id": "901c637508c449b9832016f734a1c38e",
       "version_major": 2,
       "version_minor": 0
      },
      "text/html": [
       "<p>Failed to display Jupyter Widget of type <code>VBox</code>.</p>\n",
       "<p>\n",
       "  If you're reading this message in Jupyter Notebook or JupyterLab, it may mean\n",
       "  that the widgets JavaScript is still loading. If this message persists, it\n",
       "  likely means that the widgets JavaScript library is either not installed or\n",
       "  not enabled. See the <a href=\"https://ipywidgets.readthedocs.io/en/stable/user_install.html\">Jupyter\n",
       "  Widgets Documentation</a> for setup instructions.\n",
       "</p>\n",
       "<p>\n",
       "  If you're reading this message in another notebook frontend (for example, a static\n",
       "  rendering on GitHub or <a href=\"https://nbviewer.jupyter.org/\">NBViewer</a>),\n",
       "  it may mean that your frontend doesn't currently support widgets.\n",
       "</p>\n"
      ],
      "text/plain": [
       "VBox(children=(Label(value='select files to combine', layout=Layout(width='250px')), HBox(children=(HBox(children=(Text(value='/Volumes/my_book_thunderbolt_duo/IPTS/IPTS_18580/raw_normalized', description='Location: ', layout=Layout(width='300px'), placeholder=''), Button(description='Jump', layout=Layout(margin='5px 10px', width='100px'), style=ButtonStyle())), layout=Layout(border='1px solid lightgrey', margin='5px 50px 5px 5px', padding='3px')),)), VBox(children=(SelectMultiple(description='Select', layout=Layout(display='flex', flex_flow='column', width='750px'), options=(' .', ' ..', ' Image203.Cimg.tiff     |     Thu Jan 11 10:51:17 2018', ' Image204.Cimg.tiff     |     Thu Jan 11 10:51:17 2018', ' Image205.Cimg.tiff     |     Thu Jan 11 10:51:17 2018', ' Image206.Cimg.tiff     |     Thu Jan 11 10:51:18 2018', ' Image207.Cimg.tiff     |     Thu Jan 11 10:51:18 2018', ' Image208.Cimg.tiff     |     Thu Jan 11 10:51:18 2018', ' Image209.Cimg.tiff     |     Thu Jan 11 10:51:18 2018', ' Image210.Cimg.tiff     |     Thu Jan 11 10:51:19 2018', ' Image211.Cimg.tiff     |     Thu Jan 11 10:51:19 2018', ' Image212.Cimg.tiff     |     Thu Jan 11 10:51:19 2018', ' Image213.Cimg.tiff     |     Thu Jan 11 10:51:20 2018', ' Image214.Cimg.tiff     |     Thu Jan 11 10:51:20 2018', ' Image215.Cimg.tiff     |     Thu Jan 11 10:51:20 2018', ' Image216.Cimg.tiff     |     Thu Jan 11 10:51:21 2018', ' Image217.Cimg.tiff     |     Thu Jan 11 10:51:21 2018', ' Image218.Cimg.tiff     |     Thu Jan 11 10:51:21 2018'), value=()), HBox(children=(Button(description='Enter directory', layout=Layout(margin='5px 40px'), style=ButtonStyle()), Button(description='Select', layout=Layout(margin='5px 40px'), style=ButtonStyle())))), layout=Layout(border='1px solid lightgrey', margin='5px', padding='10px'))))"
      ]
     },
     "metadata": {},
     "output_type": "display_data"
    }
   ],
   "source": [
    "o_merge = CombineImages(working_dir=system.System.get_working_dir())\n",
    "o_merge.select_files()"
   ]
  },
  {
   "cell_type": "markdown",
   "metadata": {
    "run_control": {
     "frozen": false,
     "read_only": false
    }
   },
   "source": [
    "# Merging Method"
   ]
  },
  {
   "cell_type": "code",
   "execution_count": 8,
   "metadata": {
    "run_control": {
     "frozen": false,
     "read_only": false
    }
   },
   "outputs": [
    {
     "data": {
      "application/vnd.jupyter.widget-view+json": {
       "model_id": "b9668af1437e498290a35d029247f327",
       "version_major": 2,
       "version_minor": 0
      },
      "text/html": [
       "<p>Failed to display Jupyter Widget of type <code>VBox</code>.</p>\n",
       "<p>\n",
       "  If you're reading this message in Jupyter Notebook or JupyterLab, it may mean\n",
       "  that the widgets JavaScript is still loading. If this message persists, it\n",
       "  likely means that the widgets JavaScript library is either not installed or\n",
       "  not enabled. See the <a href=\"https://ipywidgets.readthedocs.io/en/stable/user_install.html\">Jupyter\n",
       "  Widgets Documentation</a> for setup instructions.\n",
       "</p>\n",
       "<p>\n",
       "  If you're reading this message in another notebook frontend (for example, a static\n",
       "  rendering on GitHub or <a href=\"https://nbviewer.jupyter.org/\">NBViewer</a>),\n",
       "  it may mean that your frontend doesn't currently support widgets.\n",
       "</p>\n"
      ],
      "text/plain": [
       "VBox(children=(HBox(children=(Label(value='Arithmetic Mean', layout=Layout(width='20%')), Image(value=b'GIF89aP\\x01=\\x00w\\x00\\x00!\\xf9\\x04\\x00\\x00\\x00\\x00\\x00,\\x00\\x00\\x00\\x00P\\x01=\\x00\\x87\\x00\\x00\\x00\\x80\\x00\\x00\\x00\\x80\\x00\\x80\\x80\\x00\\x00\\x00\\x80\\x80\\x00\\x80\\x00\\x80\\x80\\xc0\\xc0\\xc0\\xc0\\xdc\\xc0\\xa6\\xca\\xf0\\x00\\x00\\x00\\x01\\x01\\x01\\x04\\x04\\x04\\x05\\x05\\x05\\x0c\\x0c\\x0c\\r\\r\\r\\x16\\x16\\x16\\x17\\x17\\x17\\x18\\x18\\x18\"\"\"###$$$000111222@@@AAABBBPPPQQQbbbcccdddtttuuu\\x89\\x89\\x89\\x8a\\x8a\\x8a\\x9d\\x9d\\x9d\\x9e\\x9e\\x9e\\xb5\\xb5\\xb5\\xb6\\xb6\\xb6\\xcb\\xcb\\xcb\\xcc\\xcc\\xcc\\xe5\\xe5\\xe5\\xe6\\xe6\\xe6\\xfd\\xfd\\xfd\\xfe\\xfe\\xfe\\xff\\xff\\xff\\x00\\x00\\x00\\x00\\x00\\x00\\x00\\x00\\x00\\x00\\x00\\x00\\x00\\x00\\x00\\x00\\x00\\x00\\x00\\x00\\x00\\x00\\x00\\x00\\x00\\x00\\x00\\x00\\x00\\x00\\x00\\x00\\x00\\x00\\x00\\x00\\x00\\x00\\x00\\x00\\x00\\x00\\x00\\x00\\x00\\x00\\x00\\x00\\x00\\x00\\x00\\x00\\x00\\x00\\x00\\x00\\x00\\x00\\x00\\x00\\x00\\x00\\x00\\x00\\x00\\x00\\x00\\x00\\x00\\x00\\x00\\x00\\x00\\x00\\x00\\x00\\x00\\x00\\x00\\x00\\x00\\x00\\x00\\x00\\x00\\x00\\x00\\x00\\x00\\x00\\x00\\x00\\x00\\x00\\x00\\x00\\x00\\x00\\x00\\x00\\x00\\x00\\x00\\x00\\x00\\x00\\x00\\x00\\x00\\x00\\x00\\x00\\x00\\x00\\x00\\x00\\x00\\x00\\x00\\x00\\x00\\x00\\x00\\x00\\x00\\x00\\x00\\x00\\x00\\x00\\x00\\x00\\x00\\x00\\x00\\x00\\x00\\x00\\x00\\x00\\x00\\x00\\x00\\x00\\x00\\x00\\x00\\x00\\x00\\x00\\x00\\x00\\x00\\x00\\x00\\x00\\x00\\x00\\x00\\x00\\x00\\x00\\x00\\x00\\x00\\x00\\x00\\x00\\x00\\x00\\x00\\x00\\x00\\x00\\x00\\x00\\x00\\x00\\x00\\x00\\x00\\x00\\x00\\x00\\x00\\x00\\x00\\x00\\x00\\x00\\x00\\x00\\x00\\x00\\x00\\x00\\x00\\x00\\x00\\x00\\x00\\x00\\x00\\x00\\x00\\x00\\x00\\x00\\x00\\x00\\x00\\x00\\x00\\x00\\x00\\x00\\x00\\x00\\x00\\x00\\x00\\x00\\x00\\x00\\x00\\x00\\x00\\x00\\x00\\x00\\x00\\x00\\x00\\x00\\x00\\x00\\x00\\x00\\x00\\x00\\x00\\x00\\x00\\x00\\x00\\x00\\x00\\x00\\x00\\x00\\x00\\x00\\x00\\x00\\x00\\x00\\x00\\x00\\x00\\x00\\x00\\x00\\x00\\x00\\x00\\x00\\x00\\x00\\x00\\x00\\x00\\x00\\x00\\x00\\x00\\x00\\x00\\x00\\x00\\x00\\x00\\x00\\x00\\x00\\x00\\x00\\x00\\x00\\x00\\x00\\x00\\x00\\x00\\x00\\x00\\x00\\x00\\x00\\x00\\x00\\x00\\x00\\x00\\x00\\x00\\x00\\x00\\x00\\x00\\x00\\x00\\x00\\x00\\x00\\x00\\x00\\x00\\x00\\x00\\x00\\x00\\x00\\x00\\x00\\x00\\x00\\x00\\x00\\x00\\x00\\x00\\x00\\x00\\x00\\x00\\x00\\x00\\x00\\x00\\x00\\x00\\x00\\x00\\x00\\x00\\x00\\x00\\x00\\x00\\x00\\x00\\x00\\x00\\x00\\x00\\x00\\x00\\x00\\x00\\x00\\x00\\x00\\x00\\x00\\x00\\x00\\x00\\x00\\x00\\x00\\x00\\x00\\x00\\x00\\x00\\x00\\x00\\x00\\x00\\x00\\x00\\x00\\x00\\x00\\x00\\x00\\x00\\x00\\x00\\x00\\x00\\x00\\x00\\x00\\x00\\x00\\x00\\x00\\x00\\x00\\x00\\x00\\x00\\x00\\x00\\x00\\x00\\x00\\x00\\x00\\x00\\x00\\x00\\x00\\x00\\x00\\x00\\x00\\x00\\x00\\x00\\x00\\x00\\x00\\x00\\x00\\x00\\x00\\x00\\x00\\x00\\x00\\x00\\x00\\x00\\x00\\x00\\x00\\x00\\x00\\x00\\x00\\x00\\x00\\x00\\x00\\x00\\x00\\x00\\x00\\x00\\x00\\x00\\x00\\x00\\x00\\x00\\x00\\x00\\x00\\x00\\x00\\x00\\x00\\x00\\x00\\x00\\x00\\x00\\x00\\x00\\x00\\x00\\x00\\x00\\x00\\x00\\x00\\x00\\x00\\x00\\x00\\x00\\x00\\x00\\x00\\x00\\x00\\x00\\x00\\x00\\x00\\x00\\x00\\x00\\x00\\x00\\x00\\x00\\x00\\x00\\x00\\x00\\x00\\x00\\x00\\x00\\x00\\x00\\x00\\x00\\x00\\x00\\x00\\x00\\x00\\x00\\x00\\x00\\x00\\x00\\x00\\x00\\x00\\x00\\x00\\x00\\x00\\x00\\x00\\x00\\x00\\x00\\x00\\x00\\x00\\x00\\x00\\x00\\x00\\x00\\x00\\x00\\x00\\x00\\x00\\x00\\x00\\x00\\x00\\x00\\x00\\x00\\x00\\x00\\x00\\x00\\x00\\x00\\x00\\x00\\x00\\x00\\x00\\x00\\x00\\x00\\x00\\x00\\x00\\x00\\x00\\x00\\x00\\x00\\x00\\x00\\x00\\x00\\x00\\x00\\x00\\x00\\x00\\x00\\x00\\x00\\x00\\x00\\x00\\x00\\x00\\x00\\x00\\xff\\xfb\\xf0\\xa0\\xa0\\xa4\\x80\\x80\\x80\\xff\\x00\\x00\\x00\\xff\\x00\\xff\\xff\\x00\\x00\\x00\\xff\\xff\\x00\\xff\\x00\\xff\\xff\\xff\\xff\\xff\\x08\\xfe\\x00_\\x08\\x1cH\\xb0\\xa0\\xc1\\x83\\x08\\x13*\\\\\\xc8\\xb0\\xa1\\xc3\\x87\\x10#J\\x9cH\\xb1\\xa2\\xc5\\x8b\\x183j\\xdc\\xc8\\xb1\\xa3\\xc7\\x8f C\\x8a\\x1cI\\xb2\\xa4\\xc9\\x93(S\\xaa\\\\\\xc9\\xb2\\xa5\\xcb\\x970c\\xca\\x9cI\\xb3fF\\x16\\x1f&\\x9c\\x08\\xe1!\\x83\\x0b\\x9b@\\x83\\n\\x1d\\nSD\\x8b\\x07\\x1eZ\\xb8X\\xf0\\x93\\xa8\\xd3\\xa7P\\xa3Zd\\xc1\\xa2A\\x8b\\x17*\\x1e4\\x95\\xca\\xb5\\xab\\xd7\\x94,6l\\x95Hb\\xc2\\xcf\\x0f\\x1c\\xc6~]\\xcb\\xb6\\xadE\\x15\\x12\\xccV\\xd4\\xe0\\xe1\\xe7\\x83\\x14\"\\xd4\\xba\\xdd\\xcb\\xb7\\xaf@\\x16\\x184@\\x90K\\x91B\\n\\x81\\x17B\\x98\\xf0\\xdb\\x90\\x85J\\xc7-!3f\\xe9\\xc2\\xc5\\x05\\xc2\\x13\\xb7V\\x9e\\xcc\\xb0\\x82\\xde\\x91\\x9e[\\x86\\xe6\\xcc\\xf2\\xf2g\\xd2\\x1e)\\x9c\\x0e\\xa9\\xbaek\\xd4*M\\xc3>\\x88B\\xc4\\x07\\r+@\\x88\\xb8\\xb0Z\\xe1\\xeb\\x85\\xb5o\\xe7\\xde\\xdd;\\xe1o\\x95\\xc7\\x13\\x06\\xc7\\xad\\x9b\\xf7\\xec\\x89\\xb2\\x9f\\x0fT\\x11B)\\x05\\n-D\\x008,1\\xf9A\\xea\\xd6\\xb1\\xfek\\xe7\\x1e\\xd1\\xfbI\\xf3\\x05\\xc1\\xbb\\xb8\\x9e}\\xbb\\xf4\\x88\\xd1\\xdf\\x7fh\\x1a!\\xed\\x0b\\x14\\x85\\x8b\\xbf\\x98/\\xb0\\xfeO\\xfc\\x13\\xa1W\\x92\\x80\\x03\\xf1\\xf7\\x82\\x7f\\xf7\\xbd\\x07\\x1ff\\xd2I\\xb6@\\t\\x07]@\\xdeB\\x04\\xfe5\\xd0\\x83\\x05\\x99\\xe0\\x81\\x07:5T!V\\x0bX0\\x96\\n!\\xaaE\\xa2\\x88\\x0c}\\xe8 \\x84\\nJ\\x14\\xdfA\\x0f\\x00 \\xe3\\x8c4\\xd6h\\xa3\\x8c!\\xe8\\xb7\\x92\\tL\\x15D\\x82\\x07\\x0cLH\\xd0\\x05\\x10\\x14Y$\\x03F\\x16\\xc9`\\x86=\\x0e\\x84\\xd3\\x7f\\x0b\\xac`\\x10\\x91I\"\\x99\\xe4\\x92X5\\xe0\\x13A*hi\\xa2\\x97S&\\t\\x81\\x95Fb9\\x10\\x8f:\\xb6X\\xd0\\x8b\\x06\\x91\\xb0\\x00\\x00\\x0cH\\xb9\\x10\\x0b*\\x90\\xc0\\x01\\x042:\\x90fJ\\x1d@\\xd0\\x94d/4 \\xa4q{\\xf6\\xf9\\xe7\\x0bh\\n\\x84!\\x85{\\xa6V\\xa8\\x9f\\x16\\xaa\\xd9\\x10\\x9bS\\xca\\x08\\xe9C(P\\x00\\x00\\x8b2\\x01\\x88 \\x0b9\\x0e$\\xa8C\\x1fzj\\x1f\\xa8\\xff\\xfd\\xb5\\xc0\\xa0\\x06}\\xc8\\x9a~\\xfe\\xa6\\xfe\\x84*N:\\xf1\\xb4\\xa5\\xa4\\x03QjP\\x8c\\x00\\xd8\\x07QN\\x8d\\x8a\\xe4f\\nY\\xd5\\xb5\\xdfX\\xa3zX\\xdc\\xb0\\xc5\\x9e\\xa5V\\x07\\xb7\\xfa\\x16,G\\x152\\x8b\\x94\\xb3/\\xe4u\\xed\\x0bMJ\\n\\xad\\x8c\\x19p \\'B(\\xbc\\t\\xc0\\t\\x12u\\xa0\\x82L*$\\x16\\x02\\x0b\\x89y0\\xae@\\xc9\\xa6X\\\\\\xbb!\\xbc\\x1b\\xef\\xbc/\\x90\\x10\\xad\\xb4\\xae\\xdd\\xeb.\\xbc<\\xc9IU\\x03?e5-\\xae\\xfb\\xc9\\x18\\xa7D\\x8bEU/\\xa3\\x18i(\\xab\\xbd\\x01_T\\xd6Y\\xbe2\\\\\\x9e\\x8cf\\xf65\\xb1B\\xceY\\x84\\x82\\xbc,\\x90\\x00 \\xc9\\x0bkT\\xf2\\\\\\xc6\\xde\\x15*B\\xfef`\\xb3\\xcd+KZ\\x15\\x8e-\\x13\\xa5!\\x00\\x19\\x90P\\x12\\x894\\xf6\\x1c\\x95a\\x88)\\xe6\\xf1D<\\xca\\x88\\xee\\xd2PG\\xedR\\x07y\\x1a-\\xf5\\xd5\\xc0\\xd9\\xba\\xc2\\x07!\\xa0\\xb8t\\x042zM\\x11\\nZs-6\\xd6\\x1eS\\xf7\\x13\\x05f\\x8d\\x17\\x93`b\\x8a\\x192FD\\x030BEj\\xbf\\xc0\\xb6\\xfe\\x0bn/\\x04w\\xdceZ\\x8d\\xb6K\\x06\"\\x98\\xb3\\xc7n\\xca\\xc8jC\\x85\\xdbw\\xf8\\xe0:_\\xc8\\xe9C\\x11\\x18\\x9b\\xe0}\\x08\\xb2d\\xee\\x8d2\\xea\\xa8\\x81\\xa5\\x0b\\xafh\\x10\\nZu\\xb49\\xe7\\xa8\\xa7\\xae\\xfa\\xea\\xac\\xb7\\xee\\xfa\\xeb\\xb0\\xc7~\\xa3B\\x89FD\\xc2\\xba/<)\\x10Z\\x82\\xc3\\x14\\xe3\\xd9\\x10w\\xcb%\\xe4\\x0c\\x1b\\x1a)|\\x96\\xf3~\\xd1\\xdf\\x80\\x0f\\xd6;\\xc9\\x97Vd|\\xee\\r1\\x0f\\xf8\\xdc\\xc4\\x0b\\x15k\\xee\\xa1v\\x90\\xef\\x96& \\xe5\\x81\\x9e\\x99\\xd6U\\xd6\\x04\\x1e\\xe0\\xf7A\\x06\\xf9N %\\n\\xf5\\xb5\\xbfS\\x08\\xd8\\x13\\xee\\x00\\xbf\\x10m\\x8f\\xea~\\x16<\\x9d\\xfds\\xd62V\\xe1\\x0e\\xd3\\x01cu@Dy\\xd9\\x8f}\\n\\xd8\\x94\\x0f@J\\x03\\xa1r\\xe0O4\\x80\\xa2\\x0b\\x08\\xcd&$\\x18\\x19D\\x02\\x88-\\x11\\xc0\\xeb\\x82\\xff\\x9b\\r\\xbe\\xf4U0\\'\\x99mK\\x0c,\\xd0\\x02\\x93\\x87B\\x01\\xb6\\xf0\\'\\x89y\\xdeF\\xca59\\x89\\x8c\\x90`\\xf2\\xb2\\x10\\xc2B\\x085\\x16<\\x00]\\xfe\\xeb\\xfbI\\nw\\xb7B\\x17,&\\x88/H!\\x12S\\x18C\\x9atif \\x11\\xc1\\xbfx()\\x11\\xc8\\x05Z9\\x1a\\xa2\\x029\\xc67\\x17,\\xd1\\x85B4V\\x13e\\xe2\\xc3\\x8e\\x81$\\x02\\' \\x01\\xa0\\xa8\\xd8\"\\x16P\\xc0\\x03\\xf9\\x82@\\xfa\"0\\x81\\x88\\xa9\\x80\\x02\\x108\\xcc\\x1d\\xd3\\x97)\\x08\\x9c\\x00~:\\xe9\\xe3\\x1f\\xe9x\\x82\\xf0Y`q+\\xa1\\x00\\xf0\\x1a\\x12\\xb1\\x87\\xd0\\x05\\x84l\\x8cd[\\x043-\\x11<N\\x92\\x98\\x9c\\xcd\\x07\\x1e\\x16\\x91\\xf0\\xc90\\x93\\xa0<\\xc9\\x8fDD\\x02\\x9e\\xb8/!\\xc3\\x8a\\x08\\x0b>g\\xb9P\\xfa\\xc8\\x03\\xa44%\\xfe\\\\\\x89\\x92\\xbc4\\xe0\\x90\\x02\\xd1\\x80\\x19\\x07BC\\x87\\xb0\\x80l\\x16\\x98\\xd1,]iK\\\\\\xbe@\\x97\\x9f\\xa4\\xe5Cn\\xc7\\xad\\xbb!f\\x8a\\xb9k\\x00\\x9c\\x18@\\xcdjZ\\xb3\\x9a7\\xaa\\x9f$\\x99\\xb9\\x00g\\xbe\\xe0\\x02\\xd0T&I\\x1cS\\xbb@Aq \\x1ap\\x80:\\xd7\\xc9\\xcev\\xbaS\\x9d\\x90\\x14\\'9\\xbb\\xd5\\x80s\\x8a\\xf3$\\x1d\\xb6 \\x0c\\x89\\x86y\\xcf\\x8e\\xe4\\xb3)\\xfb\\xec\\xa7J*\\xd7\\x14C\\xadQ\\xa0\\x1d!\\xa8@\\x0c\\x8a\\xd0\\x93,\\xc0\\x7f\\x0f\\xc8\\x91\\x81\\x1aj:\\x88J4\\x99\\x145H9\\xa3\\xb4\\xbf\\x8cnd\\xa3+\\xe8\\xa8G?\"\\x02\\xb1\\xd1\\xa5\\x95#\\xc5HI\\xb7rR\\x8c\\xa6\\xd4d\\xa5\\x9b\\x14\"_JS\\x98\\xe0n!?\\nRMw\\xba\\x16\\r\\xf2\\xf4\\xa7)\\xf9@\\xff\\x1e\\xe2S\\xa0\\x1au$\\x1e\\xb4`\\xee4p\\xb3\\xa6f`\\\\E=\\xaaT=\\xe2\\x98\\x1d:$\\xaaS\\xcd\\xaaF\\xa4\\xb8\\'\\xacj\\xf5\\xab\\x15A\\xa3\\x1aWi\\x81\\xb2\\x9a\\xd5\\x02O\\x15\\xd5L\\xc1\\xca\\xd6\\x88<\\x92\\x91\\x1e\\x00Z<\\xdbJ\\xd7\\xba\\xda\\xf5\\xaex\\xcd\\xab^#\\x12\\x10\\x00;'))), HBox(children=(Label(value='Geometric Mean', layout=Layout(width='20%')), Image(value=b'GIF89a<\\x01P\\x00\\xf7\\x00\\x00\\x00\\x00\\x00\\x80\\x00\\x00\\x00\\x80\\x00\\x80\\x80\\x00\\x00\\x00\\x80\\x80\\x00\\x80\\x00\\x80\\x80\\xc0\\xc0\\xc0\\xc0\\xdc\\xc0\\xa6\\xca\\xf0\\x00\\x00\\x00\\x04\\x04\\x04\\n\\n\\n\\x0b\\x0b\\x0b\\x0c\\x0c\\x0c\\x0f\\x0f\\x0f\\x13\\x13\\x13\\x16\\x16\\x16\"\"\"000@@@PPPbbbttt\\x8a\\x8a\\x8a\\x9e\\x9e\\x9e\\xb6\\xb6\\xb6\\xcc\\xcc\\xcc\\xe6\\xe6\\xe6\\xff\\xff\\xff\\x00\\x00\\x00\\x00\\x00\\x00\\x00\\x00\\x00\\x00\\x00\\x00\\x00\\x00\\x00\\x00\\x00\\x00\\x00\\x00\\x00\\x00\\x00\\x00\\x00\\x00\\x00\\x00\\x00\\x00\\x00\\x00\\x00\\x00\\x00\\x00\\x00\\x00\\x00\\x00\\x00\\x00\\x00\\x00\\x00\\x00\\x00\\x00\\x00\\x00\\x00\\x00\\x00\\x00\\x00\\x00\\x00\\x00\\x00\\x00\\x00\\x00\\x00\\x00\\x00\\x00\\x00\\x00\\x00\\x00\\x00\\x00\\x00\\x00\\x00\\x00\\x00\\x00\\x00\\x00\\x00\\x00\\x00\\x00\\x00\\x00\\x00\\x00\\x00\\x00\\x00\\x00\\x00\\x00\\x00\\x00\\x00\\x00\\x00\\x00\\x00\\x00\\x00\\x00\\x00\\x00\\x00\\x00\\x00\\x00\\x00\\x00\\x00\\x00\\x00\\x00\\x00\\x00\\x00\\x00\\x00\\x00\\x00\\x00\\x00\\x00\\x00\\x00\\x00\\x00\\x00\\x00\\x00\\x00\\x00\\x00\\x00\\x00\\x00\\x00\\x00\\x00\\x00\\x00\\x00\\x00\\x00\\x00\\x00\\x00\\x00\\x00\\x00\\x00\\x00\\x00\\x00\\x00\\x00\\x00\\x00\\x00\\x00\\x00\\x00\\x00\\x00\\x00\\x00\\x00\\x00\\x00\\x00\\x00\\x00\\x00\\x00\\x00\\x00\\x00\\x00\\x00\\x00\\x00\\x00\\x00\\x00\\x00\\x00\\x00\\x00\\x00\\x00\\x00\\x00\\x00\\x00\\x00\\x00\\x00\\x00\\x00\\x00\\x00\\x00\\x00\\x00\\x00\\x00\\x00\\x00\\x00\\x00\\x00\\x00\\x00\\x00\\x00\\x00\\x00\\x00\\x00\\x00\\x00\\x00\\x00\\x00\\x00\\x00\\x00\\x00\\x00\\x00\\x00\\x00\\x00\\x00\\x00\\x00\\x00\\x00\\x00\\x00\\x00\\x00\\x00\\x00\\x00\\x00\\x00\\x00\\x00\\x00\\x00\\x00\\x00\\x00\\x00\\x00\\x00\\x00\\x00\\x00\\x00\\x00\\x00\\x00\\x00\\x00\\x00\\x00\\x00\\x00\\x00\\x00\\x00\\x00\\x00\\x00\\x00\\x00\\x00\\x00\\x00\\x00\\x00\\x00\\x00\\x00\\x00\\x00\\x00\\x00\\x00\\x00\\x00\\x00\\x00\\x00\\x00\\x00\\x00\\x00\\x00\\x00\\x00\\x00\\x00\\x00\\x00\\x00\\x00\\x00\\x00\\x00\\x00\\x00\\x00\\x00\\x00\\x00\\x00\\x00\\x00\\x00\\x00\\x00\\x00\\x00\\x00\\x00\\x00\\x00\\x00\\x00\\x00\\x00\\x00\\x00\\x00\\x00\\x00\\x00\\x00\\x00\\x00\\x00\\x00\\x00\\x00\\x00\\x00\\x00\\x00\\x00\\x00\\x00\\x00\\x00\\x00\\x00\\x00\\x00\\x00\\x00\\x00\\x00\\x00\\x00\\x00\\x00\\x00\\x00\\x00\\x00\\x00\\x00\\x00\\x00\\x00\\x00\\x00\\x00\\x00\\x00\\x00\\x00\\x00\\x00\\x00\\x00\\x00\\x00\\x00\\x00\\x00\\x00\\x00\\x00\\x00\\x00\\x00\\x00\\x00\\x00\\x00\\x00\\x00\\x00\\x00\\x00\\x00\\x00\\x00\\x00\\x00\\x00\\x00\\x00\\x00\\x00\\x00\\x00\\x00\\x00\\x00\\x00\\x00\\x00\\x00\\x00\\x00\\x00\\x00\\x00\\x00\\x00\\x00\\x00\\x00\\x00\\x00\\x00\\x00\\x00\\x00\\x00\\x00\\x00\\x00\\x00\\x00\\x00\\x00\\x00\\x00\\x00\\x00\\x00\\x00\\x00\\x00\\x00\\x00\\x00\\x00\\x00\\x00\\x00\\x00\\x00\\x00\\x00\\x00\\x00\\x00\\x00\\x00\\x00\\x00\\x00\\x00\\x00\\x00\\x00\\x00\\x00\\x00\\x00\\x00\\x00\\x00\\x00\\x00\\x00\\x00\\x00\\x00\\x00\\x00\\x00\\x00\\x00\\x00\\x00\\x00\\x00\\x00\\x00\\x00\\x00\\x00\\x00\\x00\\x00\\x00\\x00\\x00\\x00\\x00\\x00\\x00\\x00\\x00\\x00\\x00\\x00\\x00\\x00\\x00\\x00\\x00\\x00\\x00\\x00\\x00\\x00\\x00\\x00\\x00\\x00\\x00\\x00\\x00\\x00\\x00\\x00\\x00\\x00\\x00\\x00\\x00\\x00\\x00\\x00\\x00\\x00\\x00\\x00\\x00\\x00\\x00\\x00\\x00\\x00\\x00\\x00\\x00\\x00\\x00\\x00\\x00\\x00\\x00\\x00\\x00\\x00\\x00\\x00\\x00\\x00\\x00\\x00\\x00\\x00\\x00\\x00\\x00\\x00\\x00\\x00\\x00\\x00\\x00\\x00\\x00\\x00\\x00\\x00\\x00\\x00\\x00\\x00\\x00\\x00\\x00\\x00\\x00\\x00\\x00\\x00\\x00\\x00\\x00\\x00\\x00\\x00\\x00\\x00\\x00\\x00\\x00\\x00\\x00\\x00\\x00\\x00\\x00\\x00\\x00\\x00\\x00\\x00\\x00\\x00\\x00\\x00\\x00\\x00\\x00\\x00\\x00\\x00\\x00\\x00\\x00\\x00\\x00\\xff\\xfb\\xf0\\xa0\\xa0\\xa4\\x80\\x80\\x80\\xff\\x00\\x00\\x00\\xff\\x00\\xff\\xff\\x00\\x00\\x00\\xff\\xff\\x00\\xff\\x00\\xff\\xff\\xff\\xff\\xff,\\x00\\x00\\x00\\x00<\\x01P\\x00\\x00\\x08\\xff\\x00;\\x08\\x1cH\\xb0\\xa0\\xc1\\x83\\x08\\x13*\\\\\\xc8\\xb0\\xa1\\xc3\\x87\\x10#J\\x9cH\\xb1\\xa2\\xc5\\x8b\\x183j\\xdc\\xc8\\xb1\\xa3\\xc7\\x8f C\\x8a\\x1cI\\xb2\\xa4\\xc9\\x93(S\\xaa\\\\\\xc9\\xb2\\xa5\\xcb\\x970c\\xca\\x9c\\xd91\\x82\\xcd\\x9b\\x11\\x00\\xe8\\xdc\\xc9\\xb3\\xa7\\xcf\\x9f@\\x83\\x02\\xa0I\\xb4\\xa8\\xd1\\x98\\x11\\x8e*]\\xca\\xb4i\\xc6\\xa4N\\xa3J\\x9d:\\x15*\\xd5\\xabX\\xb3\\xbe\\xb4\\xaa\\xb5\\xab\\xd7\\xaf\\x1e\\xb9\\x82\\x1dK\\xb6lC\\xb1f\\xd3\\xaa-\\x8bv\\xad\\xdb\\xb7W\\xdb\\xc2\\x9dK\\xf7\\xa8\\xdc\\xbax\\xf3\\xba\\xbc\\xab\\xb7\\xaf_\\x92\\x0c\\x1cr\\xb0 A\\xc3\\x05\\x0b\\x14\\xfe*^\\xfc\\xb0\\x81\\xc3\\x0b\\x1d\\x1cX\\x108\\x94\\xb1\\xe5\\xcb\\x05\\xf9\\x12\\xe4\\xc0a\\x81\\xc0\\r\\x0e0\\x8b\\xbe\\xac\\x99 \\x06\\t\\x02-T\\x18\\xcdZq\\xe9\\x81\\x14&G\\xde\\x00\\xb9\\xb5m\\xbc\\xaf\\x05J\\xd8 p\\xc2\\x85\\x0c\\xb7\\x83\\xcf\\xcd-\\xbcx^\\xe2\\xc6\\x93\\xc3E\\xae\\xbcyZ\\xe6\\xce\\xa3\\x83\\x85.\\xbdzV\\xea\\xd6\\xb3K\\rlp\\x81\\xd0\\xef\\x00\\x80k\\xff\\x1f\\xef\\x12\\xc2A\\x0e\\x1a&\\xec\\xc4\\xc0\\xb9\\xbd{\\x0e;#d\\xe0@\\xbe>K\\xbe\\xde\\xc3+\\xdc\\xc9\\xdb\\xbe\\xff\\x94|\\xe5\\xa4_B;\\xfdg\\xe0I\\x01\\xea$\\x1eB\\x05f\\x05\\xde\\x83\\x10F(\\xe1\\x84\\x14VX\\xd9_\\t\\x0e\\xc8\\xa0NYe\\x90\\xd8\\x81n!\\x86\\xc1\\x05\\x13d\\xa6\\x90\\x80\\x0b\\x1e\\xd4`\\\\\\xfd\\x81X\\x10\\x06\\x14\\xc4(\\xa3\\x06T\\xcd\\xb7\\x00}be\\x98\\xa2A+\\x16%\"\\x89\\x05y\\xe8\\xa2[\\xe9\\t\\x94\\xe3\\x89\\n\\xee\\xc7\\xa1Q6\\xe2X\\xd0nC\\xaeu\\x01d\\x18X\\x80\\x01A:*yaQEv\\xc0U\\x97Q\\x0ed\\x18b\\x83\\x01y\\x15\\x05\\xbcyx\\xe5@Y\\x12\\xb8$BcRPf\\x89&M\\xd9A\\x95kv\\x00\\xa5@q\\xce\\xa9Q\\x9f\\x16\\x98\\xd9\\x14\\xa0\\x82BD\\x9bn\\xa8]\\x00@\\x8b%Q\\x80\\xd3\\xa36\\xa1fQ\\x9b\\x1bnY\\xd0\\xa1z&\\xba(C\\x8eB\\x8a\\x93\\xa4\\x0b\\xa1\\xd9\\x81\\x9a|\\x82\\x8a\\xa9\\x04\\x9a2J\\xd1\\xa9\\xa96\\xc5j\\x07\\x8a\\xaa\\xff\\xda\\x90l^\\xae\\xd6\\x01\\x8de=\\x80\\xa4\\x86*\\xbei\\x10\\xad\\x11\\xd8\\x8akK\\x13\\x0c\\x0b\\xac\\xb0\\x19\\x1d\\xcb\\xa7S\\xca\\xde:\\x11}\\x94\\xedH\\x96y\\t\\xa1\\xa8eB\\xd0v\\xc0+\\x9f\\xa1\\xa1\\xb4\\x01\\xa8\\x1dd\\xbbmo\\xb2\\x0e\\xb4\\x01\\x00t\\x16$\\xee\\x8e\\x19X@\\xd8\\xb0\\x04\\x9d\\x9b\\xeeG\\xf2\\x9e7\\xd0\\xb8\\x13e`)[\\xbbJKP\\x8f\\x08\\xe9\\x8bP\\xb9\\x19q\\x10A\\x9e\\x03\\x15{\\x90\\xc0/Z\\xb0\\x00\\xc1\\x1dl\\xb0\\xc0\\x87\\x01[:\\x18\\x9f\\x00dk\\xee\\xc4\"IL\\xf1\\xc2\\xfbRT\\x81U\\x1a7\\xea\\xe9\\xa7\\x17Q\\xdak\\xc8\\x05\\x8d<P\\xc9\\x08uzr\\x04\\xe0\\x1ad\\x98\\x03b}\\x8b\\x90\\xcb\\x02i\\xfc\\xb0E<\\x87;\\xea\\x85\\xf8\\xc6\\x144\\xcc\\r\\xe1\\x1al\\xcf\\xb5eP\\x81\\x05\\xbe\\xa1\\x86A\\x05\\x17\\xc89j\\xa0\\x16\\x00\\xa7A\\xb0S\\x16\\xd6\\xf5^\\xfd^\\x0b\\xa7\\x91\\xb6rP\\x1b\\xd4\\xf0v\\xa4(\\xbc\\x14\\xec\\xa8t\\xd9\\xb5\\t\\xf4\\xb3Do3\\xbdl\\xb8\\x9b\\xd2Tw\\xb8\\x90\\r\\xff\\xe65b\\na\\xb0(h\\xb2\\xd1\\xea\\x99\\x9e4n\\xcd\\xe7\\x04\\x1bX\\x05\\xa5\\x05PQ@\\xe7\\x04\\x08\\x7f\\x945B*\\xf3\\xe8\\xabi\\x83K\\x96\\x9a@\\x17p@\\xb9H\\x0b\\x80j\\xf0\\x8b\\x9d\\x17^\\xd0\\xdc\\x10\\t\\xbe\\x01\\xe1\\x9f\\xb7\\xfcqC\\x9d\\xd1\\xfa\\xf2\\x02\\xb6\\xf7\\x8c\\xfbC\\xae\\xc3\\xde\\x81l\\x90y\\xae\\xadB\\x1b\\xf8\\x16\\xbao\\x16@+qo\\x90U \\x01\\x06\\xd0SP\\x01\\xc51\\xfe\\xfe\\xe1\\xd3\\xcc\\x8b\\x04\\xdf\\xecl\\x86\\xed&\\xcb\\xc5O)\\xfaa\\xd0\\xd2wxH\\x15\\xe4]\\xc1\\x8e\\xe1\\x1fO\\xfe\\xea\\x10\\'\\xd4\\xfe\\xf8\\xc9\\xbf\\xc8=C\\xb5\\x1b\\x94\\xbf\\xba\\xbb;4?\\xf2\\xe5\\xeb\\xccg\\xbaE\\x11\\x07\\xe0\\x88>\\x15\\x98\\xd7\\xf4`\\x93\\x18\\xc0u\\x00{\\x1d\\xf0\\x8dH.\\x10\\x81\\xf3\\x99\\xa8ZI\\xfa\\x1eE\\xaa6\\x92\\xed\\x85\\x0b;\\xac\\xe3H\\xbbz6\\x95\\xd3\\xa4\\xc6V\"\\x0b\\x14\\xae@3\\x10\\x0bh\\x80\\x80\\x11\\xa0\\x91\\x03!(A\\x90\\x98MQ\\xfe\\xca\\\\A\\x00\\xf6\\x90\\x18\\xb2G$\\x14\\xc8X\\x05\\xff*\\xf7\\x90\\x10\\xfe)y\\x1c\\xc0@\\xda\\x98\\x12\\x1b\\x818\\x00S\\x13\\x91\\xc0\\x02\\x1c\\xe0\\x80\\x0fy\\xc8]i\\xa2\\xda\\x10o%\\x81\\x18n\\xad0\\x19p\\x00\\xe3@2\\x19\\x0f\\x1aD\\x87\\xff\\xda\\xdcCbC\\xc4\\x8e\\x9c\\xcbQ\\xf9\\xb2\\x00\\x00(\\xd0\\xc6\\x8a\\x9c\\x8b\\'T\\xd9\\x93o\\xfc\\xd5\\x90*\\xf5\\xac\\x02(,\\n\\xb4\\xa4x\\x104\\xdeK\\x8dD\\x91\\x00\\x00\\xe2\\x16&\\x88lQ Nk\\n\\x0e\\xcf\\xe8\\xbdJ1E\\x03\\x16l$D\\xdcu\\x98@*\\xc5\\x8cX\\xaa\\xe4\\xca4I\\xca\\x86\\x10\\xf2\\x82\\x08\\xc9O\\xee\\x08\\xa2\\x01\\xfe\\x94\\xf2\\x95\\x08\\x99d(\\r\\xb2\\x81\\x0c(r\\'.\\xcc\\x16\\x07h\\xe3\\x80\\x9d8\\x00\\x03\\xf1\\x83e\\x94@i\\xa4\\x83\\xe4\\xc7\\'\\xe9\\x92#P\\x90&\\xccFV\\x10\\x95\\xcd\\x8c\\xa6F\\xd66KiZ\\xf3\"\\xc4\\xc4\\xce5\\xb7i$\\x0bj\\x93\\x9b\\xd7\\xa4f1\\xc1I\\xce\\x87\\x80\\xf2./|\\xc8\\x18\\xcb\\xa9\\xc9g\\x8es`}tX0\\xd9i\\x1f9*M#F\\xa4\\'\\x88\\xe0c}+\\xb9\\xa0\\xad\\x88\\xf3\\xd4\\'y\\xdc\\xd9\\x96\\xe3]\\x89\\x032Jh\\x8c\\xb2\\x95O\\x81\\x1a\\xc8\\x9e^\\xb2W&\\x17\\xd2P\\x87\\xfa\\xe7\\\\\\xab\\x91\\x0b\\x07\\x01j\\xd1(E 4r\\xf1!g$7\\x81\\x92\\x9a\\xd4jr\\x0bhG\\xadcO\\xb9\\xb0\\xb1!\\xed\\x9ac\\x1dW:\\x9e7~\\x93\\xa6\\xa4\\xac\\xe0Mq\\xdaH9\\xee\\x94\\xa7Q:\\xd7O\\x81:$\\x9c\\x11\\xd5\\xa1\\x90;\\xaa@7p?\\xa5:\\xf5\\xa9P\\x8d\\xaaT\\xa7JUv\\x06\\x04\\x00;'))), RadioButtons(index=1, options=('add', 'arithmetic mean', 'geometric mean'), value='arithmetic mean')))"
      ]
     },
     "metadata": {},
     "output_type": "display_data"
    }
   ],
   "source": [
    "o_merge.how_to_combine()"
   ]
  },
  {
   "cell_type": "markdown",
   "metadata": {
    "run_control": {
     "frozen": false,
     "read_only": false
    }
   },
   "source": [
    "# Select Output Folder "
   ]
  },
  {
   "cell_type": "code",
   "execution_count": 12,
   "metadata": {
    "run_control": {
     "frozen": false,
     "read_only": false
    }
   },
   "outputs": [
    {
     "data": {
      "application/vnd.jupyter.widget-view+json": {
       "model_id": "457cb5eaa1164a1d9cb0c2b1a6489eb9",
       "version_major": 2,
       "version_minor": 0
      },
      "text/html": [
       "<p>Failed to display Jupyter Widget of type <code>HTML</code>.</p>\n",
       "<p>\n",
       "  If you're reading this message in Jupyter Notebook or JupyterLab, it may mean\n",
       "  that the widgets JavaScript is still loading. If this message persists, it\n",
       "  likely means that the widgets JavaScript library is either not installed or\n",
       "  not enabled. See the <a href=\"https://ipywidgets.readthedocs.io/en/stable/user_install.html\">Jupyter\n",
       "  Widgets Documentation</a> for setup instructions.\n",
       "</p>\n",
       "<p>\n",
       "  If you're reading this message in another notebook frontend (for example, a static\n",
       "  rendering on GitHub or <a href=\"https://nbviewer.jupyter.org/\">NBViewer</a>),\n",
       "  it may mean that your frontend doesn't currently support widgets.\n",
       "</p>\n"
      ],
      "text/plain": [
       "HTML(value='Please wait...')"
      ]
     },
     "metadata": {},
     "output_type": "display_data"
    },
    {
     "data": {
      "text/html": [
       "\n",
       "        <style type=\"text/css\">\n",
       "        .jupyter-widgets select option {font-family: \"Lucida Console\", Monaco, monospace;}\n",
       "        div.output_subarea {padding: 0px;}\n",
       "        div.output_subarea > div {margin: 0.4em;}\n",
       "        </style>\n",
       "        "
      ],
      "text/plain": [
       "<IPython.core.display.HTML object>"
      ]
     },
     "metadata": {},
     "output_type": "display_data"
    },
    {
     "data": {
      "application/vnd.jupyter.widget-view+json": {
       "model_id": "2bb4cb781e1f4b81892bdc003d62da69",
       "version_major": 2,
       "version_minor": 0
      },
      "text/html": [
       "<p>Failed to display Jupyter Widget of type <code>VBox</code>.</p>\n",
       "<p>\n",
       "  If you're reading this message in Jupyter Notebook or JupyterLab, it may mean\n",
       "  that the widgets JavaScript is still loading. If this message persists, it\n",
       "  likely means that the widgets JavaScript library is either not installed or\n",
       "  not enabled. See the <a href=\"https://ipywidgets.readthedocs.io/en/stable/user_install.html\">Jupyter\n",
       "  Widgets Documentation</a> for setup instructions.\n",
       "</p>\n",
       "<p>\n",
       "  If you're reading this message in another notebook frontend (for example, a static\n",
       "  rendering on GitHub or <a href=\"https://nbviewer.jupyter.org/\">NBViewer</a>),\n",
       "  it may mean that your frontend doesn't currently support widgets.\n",
       "</p>\n"
      ],
      "text/plain": [
       "VBox(children=(Label(value='select where to create the combined image ...', layout=Layout(width='250px')), HBox(children=(HBox(children=(Text(value='/Volumes/my_book_thunderbolt_duo/IPTS/IPTS_18580', description='Location: ', layout=Layout(width='300px'), placeholder=''), Button(description='Jump', layout=Layout(margin='5px 10px', width='100px'), style=ButtonStyle())), layout=Layout(border='1px solid lightgrey', margin='5px 50px 5px 5px', padding='3px')),)), VBox(children=(Select(description='Select', layout=Layout(width='750px'), options=(' .', ' ..', ' .DS_Store                                             |     Thu Jan 11 10:29:46 2018', ' Image203_218_arithmetic_mean.fits                     |     Thu Jan 11 10:42:28 2018', ' Image203_218_normalized.Cimg_arithmetic_mean.tiff     |     Thu Jan 11 10:54:04 2018', ' ob                                                    |     Directory', ' raw                                                   |     Directory', ' raw_normalized                                        |     Directory'), value=' .'), HBox(children=(Button(description='Enter directory', layout=Layout(margin='5px 40px'), style=ButtonStyle()), Button(description='Select', layout=Layout(margin='5px 40px'), style=ButtonStyle())))), layout=Layout(border='1px solid lightgrey', margin='5px', padding='10px'))))"
      ]
     },
     "metadata": {},
     "output_type": "display_data"
    }
   ],
   "source": [
    "o_merge.select_output_folder()"
   ]
  },
  {
   "cell_type": "code",
   "execution_count": 13,
   "metadata": {
    "run_control": {
     "frozen": false,
     "read_only": false
    }
   },
   "outputs": [
    {
     "data": {
      "application/vnd.jupyter.widget-view+json": {
       "model_id": "132cdc8142154e5eb386f9cb8734a8e3",
       "version_major": 2,
       "version_minor": 0
      },
      "text/html": [
       "<p>Failed to display Jupyter Widget of type <code>VBox</code>.</p>\n",
       "<p>\n",
       "  If you're reading this message in Jupyter Notebook or JupyterLab, it may mean\n",
       "  that the widgets JavaScript is still loading. If this message persists, it\n",
       "  likely means that the widgets JavaScript library is either not installed or\n",
       "  not enabled. See the <a href=\"https://ipywidgets.readthedocs.io/en/stable/user_install.html\">Jupyter\n",
       "  Widgets Documentation</a> for setup instructions.\n",
       "</p>\n",
       "<p>\n",
       "  If you're reading this message in another notebook frontend (for example, a static\n",
       "  rendering on GitHub or <a href=\"https://nbviewer.jupyter.org/\">NBViewer</a>),\n",
       "  it may mean that your frontend doesn't currently support widgets.\n",
       "</p>\n"
      ],
      "text/plain": [
       "VBox(children=(Label(value='You have the option to change the default output file name'), HBox(children=(Label(value='Default File Name', layout=Layout(width='20%')), Text(value='Image203.Cimg_Image204.Cimg_Image205.Cimg_Image206.Cimg_Image207.Cimg_Image208.Cimg_Image209.Cimg_Image210.Cimg_Image211.Cimg_Image212.Cimg_Image213.Cimg_Image214.Cimg_Image215.Cimg_Image216.Cimg_Image217.Cimg_Image218.Cimg', layout=Layout(width='60%')), Label(value='_geometric_mean.tiff', layout=Layout(width='20%'))))))"
      ]
     },
     "metadata": {},
     "output_type": "display_data"
    }
   ],
   "source": [
    "o_merge.define_output_filename()"
   ]
  },
  {
   "cell_type": "markdown",
   "metadata": {
    "run_control": {
     "frozen": false,
     "read_only": false
    }
   },
   "source": [
    "# Merging "
   ]
  },
  {
   "cell_type": "code",
   "execution_count": 14,
   "metadata": {
    "run_control": {
     "frozen": false,
     "read_only": false
    }
   },
   "outputs": [
    {
     "data": {
      "application/vnd.jupyter.widget-view+json": {
       "model_id": "0bc95add76d04e10848775fd12dd685e",
       "version_major": 2,
       "version_minor": 0
      },
      "text/html": [
       "<p>Failed to display Jupyter Widget of type <code>HBox</code>.</p>\n",
       "<p>\n",
       "  If you're reading this message in Jupyter Notebook or JupyterLab, it may mean\n",
       "  that the widgets JavaScript is still loading. If this message persists, it\n",
       "  likely means that the widgets JavaScript library is either not installed or\n",
       "  not enabled. See the <a href=\"https://ipywidgets.readthedocs.io/en/stable/user_install.html\">Jupyter\n",
       "  Widgets Documentation</a> for setup instructions.\n",
       "</p>\n",
       "<p>\n",
       "  If you're reading this message in another notebook frontend (for example, a static\n",
       "  rendering on GitHub or <a href=\"https://nbviewer.jupyter.org/\">NBViewer</a>),\n",
       "  it may mean that your frontend doesn't currently support widgets.\n",
       "</p>\n"
      ],
      "text/plain": [
       "HBox(children=(Label(value='Loading sample', layout=Layout(width='20%')), IntProgress(value=0, max=16)))"
      ]
     },
     "metadata": {},
     "output_type": "display_data"
    },
    {
     "data": {
      "application/vnd.jupyter.widget-view+json": {
       "model_id": "772766a986654b7cb522e33c74153445",
       "version_major": 2,
       "version_minor": 0
      },
      "text/html": [
       "<p>Failed to display Jupyter Widget of type <code>HBox</code>.</p>\n",
       "<p>\n",
       "  If you're reading this message in Jupyter Notebook or JupyterLab, it may mean\n",
       "  that the widgets JavaScript is still loading. If this message persists, it\n",
       "  likely means that the widgets JavaScript library is either not installed or\n",
       "  not enabled. See the <a href=\"https://ipywidgets.readthedocs.io/en/stable/user_install.html\">Jupyter\n",
       "  Widgets Documentation</a> for setup instructions.\n",
       "</p>\n",
       "<p>\n",
       "  If you're reading this message in another notebook frontend (for example, a static\n",
       "  rendering on GitHub or <a href=\"https://nbviewer.jupyter.org/\">NBViewer</a>),\n",
       "  it may mean that your frontend doesn't currently support widgets.\n",
       "</p>\n"
      ],
      "text/plain": [
       "HBox(children=(Label(value='Merging Progress', layout=Layout(width='20%')), IntProgress(value=0, max=2)))"
      ]
     },
     "metadata": {},
     "output_type": "display_data"
    },
    {
     "name": "stderr",
     "output_type": "stream",
     "text": [
      "/Users/j35/anaconda/envs/py36/lib/python3.6/site-packages/scipy/stats/stats.py:305: RuntimeWarning: divide by zero encountered in log\n",
      "  log_a = np.log(np.array(a, dtype=dtype))\n"
     ]
    },
    {
     "data": {
      "text/html": [
       "<span style=\"font-size: 20px; color:blue\">File created: Image203_218.Cimg_geometric_mean.tiff</span>"
      ],
      "text/plain": [
       "<IPython.core.display.HTML object>"
      ]
     },
     "metadata": {},
     "output_type": "display_data"
    },
    {
     "data": {
      "text/html": [
       "<span style=\"font-size: 20px; color:blue\">In Folder: /Volumes/my_book_thunderbolt_duo/IPTS/IPTS_18580</span>"
      ],
      "text/plain": [
       "<IPython.core.display.HTML object>"
      ]
     },
     "metadata": {},
     "output_type": "display_data"
    }
   ],
   "source": [
    "o_merge.merging()"
   ]
  },
  {
   "cell_type": "code",
   "execution_count": null,
   "metadata": {
    "collapsed": true
   },
   "outputs": [],
   "source": []
  }
 ],
 "metadata": {
  "anaconda-cloud": {},
  "kernelspec": {
   "display_name": "Python 3",
   "language": "python",
   "name": "python3"
  },
  "language_info": {
   "codemirror_mode": {
    "name": "ipython",
    "version": 3
   },
   "file_extension": ".py",
   "mimetype": "text/x-python",
   "name": "python",
   "nbconvert_exporter": "python",
   "pygments_lexer": "ipython3",
   "version": "3.6.2"
  },
  "toc": {
   "colors": {
    "hover_highlight": "#DAA520",
    "running_highlight": "#FF0000",
    "selected_highlight": "#FFD700"
   },
   "moveMenuLeft": true,
   "nav_menu": {
    "height": "210px",
    "width": "252px"
   },
   "navigate_menu": true,
   "number_sections": true,
   "sideBar": true,
   "threshold": 4,
   "toc_cell": false,
   "toc_section_display": "block",
   "toc_window_display": false
  }
 },
 "nbformat": 4,
 "nbformat_minor": 1
}
