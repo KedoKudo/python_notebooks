{
 "cells": [
  {
   "cell_type": "markdown",
   "metadata": {
    "run_control": {
     "frozen": false,
     "read_only": false
    }
   },
   "source": [
    "[![Notebook Tutorial](__code/__all/notebook_tutorial.png)](https://neutronimaging.pages.ornl.gov/tutorial/notebooks/bragg_edge_peak_fitting/#activate-search)\n",
    "<img src='__docs/__all/notebook_rules.png' />"
   ]
  },
  {
   "cell_type": "markdown",
   "metadata": {
    "run_control": {
     "frozen": false,
     "read_only": false
    }
   },
   "source": [
    "# Select Your IPTS "
   ]
  },
  {
   "cell_type": "code",
   "execution_count": null,
   "metadata": {
    "run_control": {
     "frozen": false,
     "read_only": false
    }
   },
   "outputs": [],
   "source": [
    "from __code import system\n",
    "from __code.bragg_edge.bragg_edge_peak_fitting import BraggEdge, Interface\n",
    "\n",
    "system.System.select_working_dir(facility='SNS', instrument='VENUS')\n",
    "from __code.__all import custom_style\n",
    "custom_style.style()\n",
    "\n",
    "from plotly.offline import plot, init_notebook_mode, iplot\n",
    "init_notebook_mode()"
   ]
  },
  {
   "cell_type": "markdown",
   "metadata": {},
   "source": [
    "## Prepare UI engine "
   ]
  },
  {
   "cell_type": "code",
   "execution_count": null,
   "metadata": {
    "run_control": {
     "frozen": false,
     "read_only": false
    }
   },
   "outputs": [],
   "source": [
    "%gui qt"
   ]
  },
  {
   "cell_type": "markdown",
   "metadata": {
    "run_control": {
     "frozen": false,
     "read_only": false
    }
   },
   "source": [
    "# Select Normalized Data Input Folder\n",
    "\n",
    "Data and time spectra files will be loaded"
   ]
  },
  {
   "cell_type": "code",
   "execution_count": null,
   "metadata": {
    "run_control": {
     "frozen": false,
     "read_only": false
    }
   },
   "outputs": [],
   "source": [
    "o_bragg = BraggEdge(working_dir=system.System.get_working_dir())\n",
    "o_bragg.select_working_folder()"
   ]
  },
  {
   "cell_type": "markdown",
   "metadata": {},
   "source": [
    "# Select sample region and peak to fit"
   ]
  },
  {
   "cell_type": "markdown",
   "metadata": {},
   "source": [
    "### Select how many random files to use to select region to fit"
   ]
  },
  {
   "cell_type": "code",
   "execution_count": null,
   "metadata": {},
   "outputs": [],
   "source": [
    "o_bragg.how_many_data_to_use_to_select_sample_roi()"
   ]
  },
  {
   "cell_type": "markdown",
   "metadata": {},
   "source": [
    "### fit ui "
   ]
  },
  {
   "cell_type": "code",
   "execution_count": null,
   "metadata": {
    "scrolled": false
   },
   "outputs": [],
   "source": [
    "o_interface = Interface(o_bragg=o_bragg, spectra_file=o_bragg.spectra_file)\n",
    "o_interface.show()"
   ]
  },
  {
   "cell_type": "markdown",
   "metadata": {},
   "source": [
    "# DEBUGGING"
   ]
  },
  {
   "cell_type": "code",
   "execution_count": null,
   "metadata": {},
   "outputs": [],
   "source": [
    "from __code import system\n",
    "from __code.bragg_edge.bragg_edge_peak_fitting import BraggEdge, Interface"
   ]
  },
  {
   "cell_type": "code",
   "execution_count": null,
   "metadata": {},
   "outputs": [],
   "source": [
    "%gui qt"
   ]
  },
  {
   "cell_type": "code",
   "execution_count": null,
   "metadata": {},
   "outputs": [],
   "source": [
    "data_path = \"/Users/j35/IPTS/VENUS/shared/testing_normalized/\"\n",
    "import glob\n",
    "import os\n",
    "list_data = glob.glob(data_path + \"*.tif\")\n",
    "spectra_file = os.path.join(data_path, \"Image019_Spectra.txt\")\n",
    "assert os.path.exists(spectra_file)"
   ]
  },
  {
   "cell_type": "code",
   "execution_count": null,
   "metadata": {},
   "outputs": [],
   "source": [
    "o_bragg = BraggEdge(working_dir=data_path)\n",
    "o_bragg.load_data(data_path)"
   ]
  },
  {
   "cell_type": "code",
   "execution_count": null,
   "metadata": {},
   "outputs": [],
   "source": [
    "o_interface = Interface(o_bragg=o_bragg,\n",
    "                        working_dir=data_path,\n",
    "                        spectra_file=spectra_file)\n",
    "o_interface.show()"
   ]
  },
  {
   "cell_type": "markdown",
   "metadata": {},
   "source": [
    "# DEBUGGING using import straight "
   ]
  },
  {
   "cell_type": "code",
   "execution_count": 1,
   "metadata": {},
   "outputs": [
    {
     "data": {
      "text/html": [
       "\n",
       "<style type=\"text/css\">\n",
       ".jupyter-widgets select option {font-family: \"Lucida Console\", Monaco, monospace;}\n",
       ".jupyter-widgets select {width: 98%;}\n",
       "div.output_subarea {padding: 0px;}\n",
       "div.output_subarea > div {margin: 0.4em;}\n",
       "</style>\n"
      ],
      "text/plain": [
       "<IPython.core.display.HTML object>"
      ]
     },
     "metadata": {},
     "output_type": "display_data"
    },
    {
     "data": {
      "text/html": [
       "\n",
       "<style type=\"text/css\">\n",
       ".jupyter-widgets select option {font-family: \"Lucida Console\", Monaco, monospace;}\n",
       ".jupyter-widgets select {width: 98%;}\n",
       "div.output_subarea {padding: 0px;}\n",
       "div.output_subarea > div {margin: 0.4em;}\n",
       "</style>\n"
      ],
      "text/plain": [
       "<IPython.core.display.HTML object>"
      ]
     },
     "metadata": {},
     "output_type": "display_data"
    },
    {
     "data": {
      "text/html": [
       "\n",
       "<style type=\"text/css\">\n",
       ".jupyter-widgets select option {font-family: \"Lucida Console\", Monaco, monospace;}\n",
       "div.output_subarea {padding: 0px;}\n",
       "div.output_subarea > div {margin: 0.4em;}\n",
       "</style>\n"
      ],
      "text/plain": [
       "<IPython.core.display.HTML object>"
      ]
     },
     "metadata": {},
     "output_type": "display_data"
    }
   ],
   "source": [
    "from __code import system\n",
    "from __code.bragg_edge.bragg_edge_peak_fitting import BraggEdge, Interface"
   ]
  },
  {
   "cell_type": "code",
   "execution_count": 2,
   "metadata": {},
   "outputs": [],
   "source": [
    "%gui qt"
   ]
  },
  {
   "cell_type": "code",
   "execution_count": 3,
   "metadata": {
    "scrolled": false
   },
   "outputs": [
    {
     "data": {
      "text/html": [
       "<span style=\"font-size: 20px; color:blue\">Check UI that poped up             (maybe hidden behind this browser!)</span>"
      ],
      "text/plain": [
       "<IPython.core.display.HTML object>"
      ]
     },
     "metadata": {},
     "output_type": "display_data"
    },
    {
     "name": "stdout",
     "output_type": "stream",
     "text": [
      "in _history_row: 0\n",
      "-> name_of_parameter: d_spacing\n",
      "  - flag: False\n",
      "-> name_of_parameter: sigma\n",
      "  - flag: False\n",
      "-> name_of_parameter: alpha\n",
      "  - flag: False\n",
      "-> name_of_parameter: a1\n",
      "  - flag: True\n",
      "   - value: 0.22230638577235776\n",
      "   - error: None\n",
      "-> name_of_parameter: a2\n",
      "  - flag: False\n",
      "in _history_row: 1\n",
      "-> name_of_parameter: d_spacing\n",
      "  - flag: False\n",
      "-> name_of_parameter: sigma\n",
      "  - flag: False\n",
      "-> name_of_parameter: alpha\n",
      "  - flag: False\n",
      "-> name_of_parameter: a1\n",
      "  - flag: False\n",
      "-> name_of_parameter: a2\n",
      "  - flag: True\n",
      "   - value: 2.6986473469829907e-63\n",
      "   - error: 7.073804798225459e-64\n",
      "we are having an error row:0\n",
      "in _history_row: 2\n",
      "-> name_of_parameter: d_spacing\n",
      "  - flag: True\n",
      "   - value: 0.012002728911261704\n",
      "   - error: 0\n",
      "-> name_of_parameter: sigma\n",
      "  - flag: True\n",
      "   - value: 3.5\n",
      "   - error: 0\n",
      "-> name_of_parameter: alpha\n",
      "  - flag: True\n",
      "   - value: 4.5\n",
      "   - error: 0\n",
      "-> name_of_parameter: a1\n",
      "  - flag: False\n",
      "-> name_of_parameter: a2\n",
      "  - flag: False\n",
      "in _history_row: 3\n",
      "-> name_of_parameter: d_spacing\n",
      "  - flag: False\n",
      "-> name_of_parameter: sigma\n",
      "  - flag: False\n",
      "-> name_of_parameter: alpha\n",
      "  - flag: False\n",
      "-> name_of_parameter: a1\n",
      "  - flag: True\n",
      "   - value: 0.22056627012816019\n",
      "   - error: 0.0004457540425410581\n",
      "-> name_of_parameter: a2\n",
      "  - flag: True\n",
      "   - value: 2.1398213292503808e-63\n",
      "   - error: 6.998554213524374e-64\n",
      "we are having an error row:0\n",
      "in _history_row: 4\n",
      "-> name_of_parameter: d_spacing\n",
      "  - flag: True\n",
      "   - value: 0.012002728911261704\n",
      "   - error: 0\n",
      "-> name_of_parameter: sigma\n",
      "  - flag: True\n",
      "   - value: 3.5\n",
      "   - error: 0\n",
      "-> name_of_parameter: alpha\n",
      "  - flag: True\n",
      "   - value: 4.5\n",
      "   - error: 0\n",
      "-> name_of_parameter: a1\n",
      "  - flag: False\n",
      "-> name_of_parameter: a2\n",
      "  - flag: False\n",
      "we are having an error row:0\n",
      "in _history_row: 5\n",
      "-> name_of_parameter: d_spacing\n",
      "  - flag: True\n",
      "   - value: 0.012002728911261704\n",
      "   - error: 0\n",
      "-> name_of_parameter: sigma\n",
      "  - flag: True\n",
      "   - value: 3.5\n",
      "   - error: 0\n",
      "-> name_of_parameter: alpha\n",
      "  - flag: True\n",
      "   - value: 4.5\n",
      "   - error: 0\n",
      "-> name_of_parameter: a1\n",
      "  - flag: True\n",
      "   - value: 0.22056627012816019\n",
      "   - error: 0.0004457540425410581\n",
      "-> name_of_parameter: a2\n",
      "  - flag: True\n",
      "   - value: 2.1398213292503808e-63\n",
      "   - error: 6.998554213524374e-64\n"
     ]
    }
   ],
   "source": [
    "data_path = \"/Users/j35/IPTS/SNAP/Si_normalized\"\n",
    "o_interface = Interface(working_dir=data_path)\n",
    "o_interface.show()"
   ]
  },
  {
   "cell_type": "code",
   "execution_count": null,
   "metadata": {},
   "outputs": [],
   "source": []
  }
 ],
 "metadata": {
  "kernelspec": {
   "display_name": "Python 3",
   "language": "python",
   "name": "python3"
  },
  "language_info": {
   "codemirror_mode": {
    "name": "ipython",
    "version": 3
   },
   "file_extension": ".py",
   "mimetype": "text/x-python",
   "name": "python",
   "nbconvert_exporter": "python",
   "pygments_lexer": "ipython3",
   "version": "3.6.10"
  }
 },
 "nbformat": 4,
 "nbformat_minor": 2
}
