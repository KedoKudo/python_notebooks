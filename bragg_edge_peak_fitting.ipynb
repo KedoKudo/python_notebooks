{
 "cells": [
  {
   "cell_type": "markdown",
   "metadata": {
    "run_control": {
     "frozen": false,
     "read_only": false
    }
   },
   "source": [
    "[![Notebook Tutorial](__code/__all/notebook_tutorial.png)](https://neutronimaging.pages.ornl.gov/tutorial/notebooks/bragg_edge_peak_fitting/#activate-search)\n",
    "<img src='__docs/__all/notebook_rules.png' />"
   ]
  },
  {
   "cell_type": "markdown",
   "metadata": {
    "run_control": {
     "frozen": false,
     "read_only": false
    }
   },
   "source": [
    "# Select Your IPTS "
   ]
  },
  {
   "cell_type": "code",
   "execution_count": null,
   "metadata": {
    "run_control": {
     "frozen": false,
     "read_only": false
    }
   },
   "outputs": [],
   "source": [
    "from __code import system\n",
    "from __code.bragg_edge.bragg_edge_peak_fitting import BraggEdge, Interface\n",
    "\n",
    "system.System.select_working_dir(facility='SNS', instrument='VENUS')\n",
    "from __code.__all import custom_style\n",
    "custom_style.style()\n",
    "\n",
    "from plotly.offline import plot, init_notebook_mode, iplot\n",
    "init_notebook_mode()"
   ]
  },
  {
   "cell_type": "markdown",
   "metadata": {},
   "source": [
    "## Prepare UI engine "
   ]
  },
  {
   "cell_type": "code",
   "execution_count": null,
   "metadata": {
    "run_control": {
     "frozen": false,
     "read_only": false
    }
   },
   "outputs": [],
   "source": [
    "%gui qt"
   ]
  },
  {
   "cell_type": "markdown",
   "metadata": {
    "run_control": {
     "frozen": false,
     "read_only": false
    }
   },
   "source": [
    "# Select Normalized Data Input Folder\n",
    "\n",
    "Data and time spectra files will be loaded"
   ]
  },
  {
   "cell_type": "code",
   "execution_count": null,
   "metadata": {
    "run_control": {
     "frozen": false,
     "read_only": false
    }
   },
   "outputs": [],
   "source": [
    "o_bragg = BraggEdge(working_dir=system.System.get_working_dir())\n",
    "o_bragg.select_working_folder()"
   ]
  },
  {
   "cell_type": "markdown",
   "metadata": {},
   "source": [
    "# Select sample region and peak to fit"
   ]
  },
  {
   "cell_type": "markdown",
   "metadata": {},
   "source": [
    "### Select how many random files to use to select region to fit"
   ]
  },
  {
   "cell_type": "code",
   "execution_count": null,
   "metadata": {},
   "outputs": [],
   "source": [
    "o_bragg.how_many_data_to_use_to_select_sample_roi()"
   ]
  },
  {
   "cell_type": "markdown",
   "metadata": {},
   "source": [
    "### fit ui "
   ]
  },
  {
   "cell_type": "code",
   "execution_count": null,
   "metadata": {
    "scrolled": false
   },
   "outputs": [],
   "source": [
    "o_interface = Interface(o_bragg=o_bragg, spectra_file=o_bragg.spectra_file)\n",
    "o_interface.show()"
   ]
  },
  {
   "cell_type": "markdown",
   "metadata": {},
   "source": [
    "# DEBUGGING"
   ]
  },
  {
   "cell_type": "code",
   "execution_count": null,
   "metadata": {},
   "outputs": [],
   "source": [
    "from __code import system\n",
    "from __code.bragg_edge.bragg_edge_peak_fitting import BraggEdge, Interface"
   ]
  },
  {
   "cell_type": "code",
   "execution_count": null,
   "metadata": {},
   "outputs": [],
   "source": [
    "%gui qt"
   ]
  },
  {
   "cell_type": "code",
   "execution_count": null,
   "metadata": {},
   "outputs": [],
   "source": [
    "data_path = \"/Users/j35/IPTS/VENUS/shared/testing_normalized/\"\n",
    "import glob\n",
    "import os\n",
    "list_data = glob.glob(data_path + \"*.tif\")\n",
    "spectra_file = os.path.join(data_path, \"Image019_Spectra.txt\")\n",
    "assert os.path.exists(spectra_file)"
   ]
  },
  {
   "cell_type": "code",
   "execution_count": null,
   "metadata": {},
   "outputs": [],
   "source": [
    "o_bragg = BraggEdge(working_dir=data_path)\n",
    "o_bragg.load_data(data_path)"
   ]
  },
  {
   "cell_type": "code",
   "execution_count": null,
   "metadata": {},
   "outputs": [],
   "source": [
    "o_interface = Interface(o_bragg=o_bragg,\n",
    "                        working_dir=data_path,\n",
    "                        spectra_file=spectra_file)\n",
    "o_interface.show()"
   ]
  },
  {
   "cell_type": "markdown",
   "metadata": {},
   "source": [
    "# DEBUGGING using import straight "
   ]
  },
  {
   "cell_type": "code",
   "execution_count": 1,
   "metadata": {},
   "outputs": [
    {
     "data": {
      "text/html": [
       "\n",
       "<style type=\"text/css\">\n",
       ".jupyter-widgets select option {font-family: \"Lucida Console\", Monaco, monospace;}\n",
       ".jupyter-widgets select {width: 98%;}\n",
       "div.output_subarea {padding: 0px;}\n",
       "div.output_subarea > div {margin: 0.4em;}\n",
       "</style>\n"
      ],
      "text/plain": [
       "<IPython.core.display.HTML object>"
      ]
     },
     "metadata": {},
     "output_type": "display_data"
    },
    {
     "data": {
      "text/html": [
       "\n",
       "<style type=\"text/css\">\n",
       ".jupyter-widgets select option {font-family: \"Lucida Console\", Monaco, monospace;}\n",
       ".jupyter-widgets select {width: 98%;}\n",
       "div.output_subarea {padding: 0px;}\n",
       "div.output_subarea > div {margin: 0.4em;}\n",
       "</style>\n"
      ],
      "text/plain": [
       "<IPython.core.display.HTML object>"
      ]
     },
     "metadata": {},
     "output_type": "display_data"
    },
    {
     "data": {
      "text/html": [
       "\n",
       "<style type=\"text/css\">\n",
       ".jupyter-widgets select option {font-family: \"Lucida Console\", Monaco, monospace;}\n",
       "div.output_subarea {padding: 0px;}\n",
       "div.output_subarea > div {margin: 0.4em;}\n",
       "</style>\n"
      ],
      "text/plain": [
       "<IPython.core.display.HTML object>"
      ]
     },
     "metadata": {},
     "output_type": "display_data"
    }
   ],
   "source": [
    "from __code import system\n",
    "from __code.bragg_edge.bragg_edge_peak_fitting import BraggEdge, Interface"
   ]
  },
  {
   "cell_type": "code",
   "execution_count": 2,
   "metadata": {},
   "outputs": [],
   "source": [
    "%gui qt"
   ]
  },
  {
   "cell_type": "code",
   "execution_count": 3,
   "metadata": {
    "scrolled": false
   },
   "outputs": [
    {
     "data": {
      "text/html": [
       "<span style=\"font-size: 20px; color:blue\">Check UI that poped up             (maybe hidden behind this browser!)</span>"
      ],
      "text/plain": [
       "<IPython.core.display.HTML object>"
      ]
     },
     "metadata": {},
     "output_type": "display_data"
    },
    {
     "name": "stdout",
     "output_type": "stream",
     "text": [
      "Parameters pre-initialized:\n",
      "- d_spacing: 0.012002728911261704\n",
      "- sigma:  3.5\n",
      "- alpha:  4.5\n",
      "- a2: 0.004304860772357699\n",
      "in _history_row: 0\n",
      "-> name_of_parameter: a1\n",
      "   - value: 0.2175646593194399\n",
      "   - error: 0.0004447112564469243\n",
      "Parameters pre-initialized:\n",
      "- d_spacing: 0.012002728911261704\n",
      "- sigma:  3.5\n",
      "- alpha:  4.5\n",
      "- a1: 0.2175646593194399\n",
      "in _history_row: 1\n",
      "-> name_of_parameter: a2\n",
      "   - value: 0.004305364426740764\n",
      "   - error: 0.000703097225167799\n",
      "Parameters pre-initialized:\n",
      "- a1: 0.2175646593194399\n",
      "- a2: 0.004305364426740764\n",
      "in _history_row: 2\n",
      "-> name_of_parameter: d_spacing\n",
      "   - value: -5.669287479953033\n",
      "   - error: 108219.54148591193\n",
      "-> name_of_parameter: sigma\n",
      "   - value: 1.654651552802143\n",
      "   - error: 15871.728984145731\n",
      "-> name_of_parameter: alpha\n",
      "   - value: 0.05265810679116238\n",
      "   - error: 0.3983652746363037\n",
      "Parameters pre-initialized:\n",
      "- d_spacing: -5.669287479953033\n",
      "- sigma: 1.654651552802143\n",
      "- alpha: 0.05265810679116238\n",
      "in _history_row: 3\n",
      "-> name_of_parameter: a1\n",
      "   - value: 0.19982278919137597\n",
      "   - error: 0.0016701559304711457\n",
      "-> name_of_parameter: a2\n",
      "   - value: 0.036401750513848835\n",
      "   - error: 0.0029090580737796703\n",
      "Parameters pre-initialized:\n",
      "- a1: 0.19982278919137597\n",
      "- a2: 0.036401750513848835\n",
      "in _history_row: 4\n",
      "-> name_of_parameter: d_spacing\n",
      "   - value: -5.598698487476522\n",
      "   - error: 4207.699021132489\n",
      "-> name_of_parameter: sigma\n",
      "   - value: 1.6633244668213996\n",
      "   - error: 628.3050414193532\n",
      "-> name_of_parameter: alpha\n",
      "   - value: 0.05389572042384706\n",
      "   - error: 0.01709614365421794\n",
      "Parameters pre-initialized:\n",
      "in _history_row: 5\n",
      "-> name_of_parameter: d_spacing\n",
      "   - value: -5.400530669550476\n",
      "   - error: None\n",
      "-> name_of_parameter: sigma\n",
      "   - value: 1.6906777142434677\n",
      "   - error: None\n",
      "-> name_of_parameter: alpha\n",
      "   - value: 0.06174835544821036\n",
      "   - error: None\n",
      "-> name_of_parameter: a1\n",
      "   - value: 0.2822998259809767\n",
      "   - error: None\n",
      "-> name_of_parameter: a2\n",
      "   - value: 1.2130173600363188e-12\n",
      "   - error: None\n",
      "Parameters pre-initialized:\n",
      "- d_spacing: 0.012002728911261704\n",
      "- sigma:  3.5\n",
      "- alpha:  4.5\n",
      "- a2: 0.004304860772357699\n",
      "in _history_row: 0\n",
      "-> name_of_parameter: a1\n",
      "   - value: 0.2175646593194399\n",
      "   - error: 0.0004447112564469243\n",
      "Parameters pre-initialized:\n",
      "- d_spacing: 0.012002728911261704\n",
      "- sigma:  3.5\n",
      "- alpha:  4.5\n",
      "- a1: 0.2175646593194399\n",
      "in _history_row: 1\n",
      "-> name_of_parameter: a2\n",
      "   - value: 0.004305364426740764\n",
      "   - error: 0.000703097225167799\n",
      "Parameters pre-initialized:\n",
      "- a1: 0.2175646593194399\n",
      "- a2: 0.004305364426740764\n",
      "in _history_row: 2\n",
      "-> name_of_parameter: d_spacing\n",
      "   - value: -5.669287479953033\n",
      "   - error: 108219.54148591193\n",
      "-> name_of_parameter: sigma\n",
      "   - value: 1.654651552802143\n",
      "   - error: 15871.728984145731\n",
      "-> name_of_parameter: alpha\n",
      "   - value: 0.05265810679116238\n",
      "   - error: 0.3983652746363037\n",
      "Parameters pre-initialized:\n",
      "- d_spacing: -5.669287479953033\n",
      "- sigma: 1.654651552802143\n",
      "- alpha: 0.05265810679116238\n",
      "in _history_row: 3\n",
      "-> name_of_parameter: a1\n",
      "   - value: 0.19982278919137597\n",
      "   - error: 0.0016701559304711457\n",
      "-> name_of_parameter: a2\n",
      "   - value: 0.036401750513848835\n",
      "   - error: 0.0029090580737796703\n",
      "Parameters pre-initialized:\n",
      "- a1: 0.19982278919137597\n",
      "- a2: 0.036401750513848835\n",
      "in _history_row: 4\n",
      "-> name_of_parameter: d_spacing\n",
      "   - value: -5.598698487476522\n",
      "   - error: 4207.699021132489\n",
      "-> name_of_parameter: sigma\n",
      "   - value: 1.6633244668213996\n",
      "   - error: 628.3050414193532\n",
      "-> name_of_parameter: alpha\n",
      "   - value: 0.05389572042384706\n",
      "   - error: 0.01709614365421794\n",
      "Parameters pre-initialized:\n",
      "in _history_row: 5\n",
      "-> name_of_parameter: d_spacing\n",
      "   - value: -5.400530669550476\n",
      "   - error: None\n",
      "-> name_of_parameter: sigma\n",
      "   - value: 1.6906777142434677\n",
      "   - error: None\n",
      "-> name_of_parameter: alpha\n",
      "   - value: 0.06174835544821036\n",
      "   - error: None\n",
      "-> name_of_parameter: a1\n",
      "   - value: 0.2822998259809767\n",
      "   - error: None\n",
      "-> name_of_parameter: a2\n",
      "   - value: 1.2130173600363188e-12\n",
      "   - error: None\n"
     ]
    }
   ],
   "source": [
    "data_path = \"/Users/j35/IPTS/SNAP/Si_normalized\"\n",
    "o_interface = Interface(working_dir=data_path)\n",
    "o_interface.show()"
   ]
  },
  {
   "cell_type": "code",
   "execution_count": null,
   "metadata": {},
   "outputs": [],
   "source": []
  }
 ],
 "metadata": {
  "kernelspec": {
   "display_name": "Python 3",
   "language": "python",
   "name": "python3"
  },
  "language_info": {
   "codemirror_mode": {
    "name": "ipython",
    "version": 3
   },
   "file_extension": ".py",
   "mimetype": "text/x-python",
   "name": "python",
   "nbconvert_exporter": "python",
   "pygments_lexer": "ipython3",
   "version": "3.6.10"
  }
 },
 "nbformat": 4,
 "nbformat_minor": 2
}
