{
 "cells": [
  {
   "cell_type": "markdown",
   "metadata": {
    "run_control": {
     "frozen": false,
     "read_only": false
    }
   },
   "source": [
    "# Select Your IPTS "
   ]
  },
  {
   "cell_type": "code",
   "execution_count": 1,
   "metadata": {
    "run_control": {
     "frozen": false,
     "read_only": false
    }
   },
   "outputs": [],
   "source": [
    "# #from __code.filename_metadata_match import FilenameMetadataMatch\n",
    "\n",
    "# from __code import system\n",
    "# system.System.select_working_dir()\n",
    "# from __code.__all import custom_style\n",
    "# custom_style.style()"
   ]
  },
  {
   "cell_type": "code",
   "execution_count": 23,
   "metadata": {
    "run_control": {
     "frozen": false,
     "read_only": false
    }
   },
   "outputs": [
    {
     "data": {
      "text/html": [
       "\n",
       "<style type=\"text/css\">\n",
       ".jupyter-widgets select option {font-family: \"Lucida Console\", Monaco, monospace;}\n",
       ".jupyter-widgets select {width: 98%;}\n",
       "div.output_subarea {padding: 0px;}\n",
       "div.output_subarea > div {margin: 0.4em;}\n",
       "</style>\n"
      ],
      "text/plain": [
       "<IPython.core.display.HTML object>"
      ]
     },
     "metadata": {},
     "output_type": "display_data"
    }
   ],
   "source": [
    "import ipywe.fileselector\n",
    "from IPython.core.display import HTML\n",
    "from __code.time_utility import RetrieveTimeStamp\n",
    "import os\n",
    "\n",
    "class FilenameMetadataMatch(object):\n",
    "\n",
    "    data_folder = ''\n",
    "    metadata_file = ''\n",
    "    \n",
    "    list_data_time_stamp = None\n",
    "    \n",
    "    def __init__(self, working_dir='./'):\n",
    "        self.working_dir = working_dir\n",
    "\n",
    "    def select_input_folder(self):\n",
    "        _instruction = \"Select Input Folder ...\"\n",
    "        self.input_folder_ui = ipywe.fileselector.FileSelectorPanel(instruction=_instruction,\n",
    "                                                                    start_dir=self.working_dir,\n",
    "                                                                    next=self.select_input_folder_done,\n",
    "                                                                    type='directory',\n",
    "                                                                   )\n",
    "        self.input_folder_ui.show()\n",
    "        \n",
    "    def select_input_folder_done(self, folder):\n",
    "        self.data_folder = folder\n",
    "        display(HTML('Folder Selected: <span style=\"font-size: 20px; color:green\">' + folder))\n",
    "\n",
    "    def select_metadata_file(self):\n",
    "        _instruction = \"Select Metadata File ...\"\n",
    "        self.metadata_ui = ipywe.fileselector.FileSelectorPanel(instruction=_instruction,\n",
    "                                                                start_dir=self.working_dir,\n",
    "                                                                next=self.select_metadata_file_done,\n",
    "                                                               )\n",
    "        self.metadata_ui.show()\n",
    "        \n",
    "    def select_metadata_file_done(self, metadata_file):\n",
    "        self.metadata_file = metadata_file\n",
    "        display(HTML('Metadata File Selected: <span style=\"font-size: 20px; color:green\">' + metadata_file))\n",
    "        \n",
    "    def retrieve_time_stamp(self):\n",
    "        o_retriever = RetrieveTimeStamp(folder=self.data_folder)\n",
    "        o_retriever._run()\n",
    "        self.list_data_time_stamp = o_retriever\n",
    "    \n",
    "    def load_metadata(self):\n",
    "        metadata_file = self.metadata_file\n",
    "    "
   ]
  },
  {
   "cell_type": "markdown",
   "metadata": {
    "run_control": {
     "frozen": false,
     "read_only": false
    }
   },
   "source": [
    "# Select Input Folder "
   ]
  },
  {
   "cell_type": "code",
   "execution_count": 3,
   "metadata": {
    "run_control": {
     "frozen": false,
     "read_only": false
    }
   },
   "outputs": [
    {
     "data": {
      "application/vnd.jupyter.widget-view+json": {
       "model_id": "fe376c32904a4d22adfd3286fa58b13f",
       "version_major": 2,
       "version_minor": 0
      },
      "text/html": [
       "<p>Failed to display Jupyter Widget of type <code>VBox</code>.</p>\n",
       "<p>\n",
       "  If you're reading this message in Jupyter Notebook or JupyterLab, it may mean\n",
       "  that the widgets JavaScript is still loading. If this message persists, it\n",
       "  likely means that the widgets JavaScript library is either not installed or\n",
       "  not enabled. See the <a href=\"https://ipywidgets.readthedocs.io/en/stable/user_install.html\">Jupyter\n",
       "  Widgets Documentation</a> for setup instructions.\n",
       "</p>\n",
       "<p>\n",
       "  If you're reading this message in another notebook frontend (for example, a static\n",
       "  rendering on GitHub or <a href=\"https://nbviewer.jupyter.org/\">NBViewer</a>),\n",
       "  it may mean that your frontend doesn't currently support widgets.\n",
       "</p>\n"
      ],
      "text/plain": [
       "VBox(children=(Label(value='Select Input Folder ...', layout=Layout(width='250px')), VBox(children=(HBox(children=(HBox(children=(Text(value='/Volumes/my_book_thunderbolt_duo/IPTS/IPTS-20444-Regina', description='Location: ', layout=Layout(width='100%'), placeholder=''), Button(description='Jump', layout=Layout(border='1px solid gray', margin='5px 10px', width='100px'), style=ButtonStyle())), layout=Layout(border='1px solid lightgrey', margin='5px 50px 5px 5px', padding='3px', width='100%')),)), HBox(children=(VBox(children=(HBox(children=(Label(value='Search:'), Text(value='', layout=Layout(width='50%'))), layout=Layout(justify_content='flex-end')), Select(description='Select', layout=Layout(height='260px', width='99%'), options=(' .', ' ..', ' .DS_Store                   |     Fri Sep 28 15:18:15 2018', ' Sep_17_normalized_part1     |     Directory', ' metadata_files              |     Directory', ' test_output                 |     Directory'), value=' .')), layout=Layout(width='80%')), VBox(children=(Button(description='Change directory', layout=Layout(border='1px solid gray', margin='5px 40px'), style=ButtonStyle()), Button(description='Select', layout=Layout(border='1px solid blue', margin='auto 40px 5px'), style=ButtonStyle())))), layout=Layout(border='1px solid lightgrey', margin='5px', padding='10px')))), HTML(value='')))"
      ]
     },
     "metadata": {},
     "output_type": "display_data"
    },
    {
     "data": {
      "text/html": [
       "Folder Selected: <span style=\"font-size: 20px; color:green\">/Volumes/my_book_thunderbolt_duo/IPTS/IPTS-20444-Regina/Sep_17_normalized_part1"
      ],
      "text/plain": [
       "<IPython.core.display.HTML object>"
      ]
     },
     "metadata": {},
     "output_type": "display_data"
    }
   ],
   "source": [
    "#o_match = FilenameMetadataMatch(working_dir=system.System.get_working_dir())\n",
    "o_match = FilenameMetadataMatch(working_dir='/Volumes/my_book_thunderbolt_duo/IPTS/IPTS-20444-Regina/')\n",
    "o_match.select_input_folder()"
   ]
  },
  {
   "cell_type": "markdown",
   "metadata": {
    "run_control": {
     "frozen": false,
     "read_only": false
    }
   },
   "source": [
    "# Select Metadata File "
   ]
  },
  {
   "cell_type": "code",
   "execution_count": 4,
   "metadata": {
    "run_control": {
     "frozen": false,
     "read_only": false
    }
   },
   "outputs": [
    {
     "data": {
      "application/vnd.jupyter.widget-view+json": {
       "model_id": "e1a5ff7eaa2c4438a1b1c8d46f5dffae",
       "version_major": 2,
       "version_minor": 0
      },
      "text/html": [
       "<p>Failed to display Jupyter Widget of type <code>VBox</code>.</p>\n",
       "<p>\n",
       "  If you're reading this message in Jupyter Notebook or JupyterLab, it may mean\n",
       "  that the widgets JavaScript is still loading. If this message persists, it\n",
       "  likely means that the widgets JavaScript library is either not installed or\n",
       "  not enabled. See the <a href=\"https://ipywidgets.readthedocs.io/en/stable/user_install.html\">Jupyter\n",
       "  Widgets Documentation</a> for setup instructions.\n",
       "</p>\n",
       "<p>\n",
       "  If you're reading this message in another notebook frontend (for example, a static\n",
       "  rendering on GitHub or <a href=\"https://nbviewer.jupyter.org/\">NBViewer</a>),\n",
       "  it may mean that your frontend doesn't currently support widgets.\n",
       "</p>\n"
      ],
      "text/plain": [
       "VBox(children=(Label(value='Select Metadata File ...', layout=Layout(width='250px')), VBox(children=(HBox(children=(HBox(children=(Text(value='/Volumes/my_book_thunderbolt_duo/IPTS/IPTS-20444-Regina', description='Location: ', layout=Layout(width='100%'), placeholder=''), Button(description='Jump', layout=Layout(border='1px solid gray', margin='5px 10px', width='100px'), style=ButtonStyle())), layout=Layout(border='1px solid lightgrey', margin='5px 50px 5px 5px', padding='3px', width='100%')),)), HBox(children=(VBox(children=(HBox(children=(Label(value='Search:'), Text(value='', layout=Layout(width='50%'))), layout=Layout(justify_content='flex-end')), Select(description='Select', layout=Layout(height='260px', width='99%'), options=(' .', ' ..', ' .DS_Store                   |     Fri Sep 28 15:18:15 2018', ' Sep_17_normalized_part1     |     Directory', ' metadata_files              |     Directory', ' test_output                 |     Directory'), value=' .')), layout=Layout(width='80%')), VBox(children=(Button(description='Change directory', layout=Layout(border='1px solid gray', margin='5px 40px'), style=ButtonStyle()), Button(description='Select', layout=Layout(border='1px solid blue', margin='auto 40px 5px'), style=ButtonStyle())))), layout=Layout(border='1px solid lightgrey', margin='5px', padding='10px')))), HTML(value='')))"
      ]
     },
     "metadata": {},
     "output_type": "display_data"
    },
    {
     "data": {
      "text/html": [
       "Metadata File Selected: <span style=\"font-size: 20px; color:green\">/Volumes/my_book_thunderbolt_duo/IPTS/IPTS-20444-Regina/metadata_files/A49_3_at80C_0p18mAcm2_01_OCV_C03.mpt"
      ],
      "text/plain": [
       "<IPython.core.display.HTML object>"
      ]
     },
     "metadata": {},
     "output_type": "display_data"
    }
   ],
   "source": [
    "o_match.select_metadata_file()"
   ]
  },
  {
   "cell_type": "markdown",
   "metadata": {
    "run_control": {
     "frozen": false,
     "read_only": false
    }
   },
   "source": [
    "# Retrieve Time Stamp"
   ]
  },
  {
   "cell_type": "code",
   "execution_count": 5,
   "metadata": {
    "run_control": {
     "frozen": false,
     "read_only": false
    }
   },
   "outputs": [],
   "source": [
    "o_match.retrieve_time_stamp()"
   ]
  },
  {
   "cell_type": "markdown",
   "metadata": {
    "run_control": {
     "frozen": false,
     "read_only": false
    }
   },
   "source": [
    "# Load Metadata File"
   ]
  },
  {
   "cell_type": "markdown",
   "metadata": {
    "run_control": {
     "frozen": false,
     "read_only": false
    }
   },
   "source": [
    "# DEBUGGING STARTS HERE"
   ]
  },
  {
   "cell_type": "code",
   "execution_count": 1,
   "metadata": {
    "run_control": {
     "frozen": false,
     "read_only": false
    }
   },
   "outputs": [],
   "source": [
    "import pandas as pd\n",
    "import codecs\n",
    "from __code.file_handler import get_file_extension\n",
    "from ipywidgets import widgets\n",
    "import os"
   ]
  },
  {
   "cell_type": "code",
   "execution_count": 2,
   "metadata": {
    "run_control": {
     "frozen": false,
     "read_only": false
    }
   },
   "outputs": [
    {
     "name": "stdout",
     "output_type": "stream",
     "text": [
      "Loading file: /Volumes/my_book_thunderbolt_duo/git//standards/ASCII/ocv_metadata.mpt\n"
     ]
    }
   ],
   "source": [
    "#metadata_file = o_match.metadata_file\n",
    "import glob\n",
    "import platform\n",
    "\n",
    "if platform.node() == 'mac95470':\n",
    "    git_dir = os.path.abspath('~/git/')\n",
    "else:\n",
    "    git_dir = '/Volumes/my_book_thunderbolt_duo/git/'\n",
    "    \n",
    "metadata_list_files = glob.glob(git_dir + '/standards/ASCII/*.mpt')\n",
    "\n",
    "index_file = 2\n",
    "\n",
    "metadata_file = metadata_list_files[index_file]\n",
    "print(\"Loading file: {}\".format(metadata_file))\n",
    "\n",
    "assert os.path.exists(metadata_file)"
   ]
  },
  {
   "cell_type": "markdown",
   "metadata": {
    "run_control": {
     "frozen": false,
     "read_only": false
    }
   },
   "source": [
    "**Allow users to define:**\n",
    "\n",
    " * reference_line_showing_end_of_metadata\n",
    " * start_of_data_after_how_many_lines_from_reference_line\n",
    " * index or label of time info column in big table"
   ]
  },
  {
   "cell_type": "code",
   "execution_count": 3,
   "metadata": {},
   "outputs": [
    {
     "data": {
      "text/html": [
       "\n",
       "<style type=\"text/css\">\n",
       ".jupyter-widgets select option {font-family: \"Lucida Console\", Monaco, monospace;}\n",
       ".jupyter-widgets select {width: 98%;}\n",
       "div.output_subarea {padding: 0px;}\n",
       "div.output_subarea > div {margin: 0.4em;}\n",
       "</style>\n"
      ],
      "text/plain": [
       "<IPython.core.display.HTML object>"
      ]
     },
     "metadata": {},
     "output_type": "display_data"
    }
   ],
   "source": [
    "from __code.filename_metadata_match import *"
   ]
  },
  {
   "cell_type": "code",
   "execution_count": 4,
   "metadata": {
    "run_control": {
     "frozen": false,
     "read_only": false
    }
   },
   "outputs": [],
   "source": [
    "# class Metadata():\n",
    "\n",
    "#     nbr_row_metadata = -1\n",
    "\n",
    "#     def __init__(self, \n",
    "#                  filename='',\n",
    "#                  reference_line_showing_end_of_metadata='Number of loops',\n",
    "#                  end_of_metadata_after_how_many_lines_from_reference_line=1):\n",
    "#         self.filename = filename\n",
    "#         self.reference_line_showing_end_of_metadata = reference_line_showing_end_of_metadata\n",
    "#         self.end_of_metadata_after_how_many_lines_from_reference_line = end_of_metadata_after_how_many_lines_from_reference_line\n",
    "        \n",
    "#     def calculate_nbr_row_metadata(self):\n",
    "#         file_handler = codecs.open(\n",
    "#             self.filename, 'r', encoding='utf_8', errors='ignore')\n",
    "\n",
    "#         for _row_index, _row in enumerate(file_handler.readlines()):\n",
    "#             if self.reference_line_showing_end_of_metadata in _row:\n",
    "#                 self.nbr_row_metadata = _row_index + self.end_of_metadata_after_how_many_lines_from_reference_line + 1\n",
    "\n",
    "# class TimeInfoColumn:\n",
    "#     \"\"\"this will allow to figure out where the time info is in the big table\"\"\"\n",
    "    \n",
    "#     index = -1\n",
    "#     label = ''\n",
    "    \n",
    "#     def __init__(self, index=-1, label=''):\n",
    "#         self.index = index\n",
    "#         self.label = label\n",
    "                \n",
    "\n",
    "# class MPTFileParser(object):\n",
    "\n",
    "#     nbr_row_metadata = -1\n",
    "    \n",
    "#     metadata_dict = {\n",
    "#         'Acquisition started on': {\n",
    "#             \"split1\": ' : ',\n",
    "#             \"value\": '',\n",
    "#             \"split2\": '',\n",
    "#         },\n",
    "#         'Electrode surface area': {\n",
    "#             \"split1\": ' : ',\n",
    "#             \"value\": '',\n",
    "#             \"split2\": ' ',\n",
    "#             \"units\": '',\n",
    "#         },\n",
    "#     }\n",
    "\n",
    "# #     time_info_index_column = 2  # in this file, the time information is in the column #2\n",
    "#     time_info_column = None  # TimeInfoColumn object\n",
    "#     time_column = []\n",
    "    \n",
    "#     def __init__(self, \n",
    "#                  filename='', \n",
    "#                  time_info_column=None,\n",
    "#                  reference_line_showing_end_of_metadata='Number of loops',\n",
    "#                  end_of_metadata_after_how_many_lines_from_reference_line=1):\n",
    "#         self.filename = filename\n",
    "#         self.reference_line_showing_end_of_metadata = reference_line_showing_end_of_metadata\n",
    "#         self.end_of_metadata_after_how_many_lines_from_reference_line = end_of_metadata_after_how_many_lines_from_reference_line\n",
    "#         self.time_info_column = time_info_column\n",
    "        \n",
    "#         self.evaluate_nbr_row_metadata()\n",
    "#         self.parse()\n",
    "#         self.set_time_info_as_index()\n",
    "        \n",
    "#         #self.save_time_column()\n",
    "#         #self.remove_time_info_column()\n",
    "        \n",
    "#     def set_time_info_as_index(self):\n",
    "#         time_info_column = self.time_info_column\n",
    "#         if time_info_column.index != -1:\n",
    "#             column_title = self.o_pd.columns.values[time_info_column.index]\n",
    "#         elif time_info_column.label:\n",
    "#             column_title = time_info_column.label\n",
    "#             self.o_pd.set_index(column_title)\n",
    "#         else:\n",
    "#             return\n",
    "#         self.o_pd = self.o_pd.set_index(column_title)\n",
    "        \n",
    "# #     def save_time_column(self):\n",
    "# #         time_info_column = self.time_info_column\n",
    "# #         if time_info_column.index != -1:\n",
    "# #             self.time_column = self.o_pd.iloc[:,time_info_column.index]\n",
    "# #             column_title = self.o_pd.columns.values[time_info_column.index]\n",
    "# #         elif time_info_column.label:\n",
    "# #             column_title = time_info_column.label\n",
    "# #             self.o_pd.set_index(column_title)\n",
    "# #         else:\n",
    "# #             self.time_colmn = []\n",
    "# #             return\n",
    "# #         self.time_column = self.o_pd[column_title]\n",
    "        \n",
    "# #     def remove_time_info_column(self):\n",
    "# #         time_info_column = self.time_info_column\n",
    "# #         list_columns = list(self.o_pd.columns.values)\n",
    "# #         if time_info_column.index != -1:\n",
    "# #             list_columns.pop(time_info_column.index)\n",
    "# #         elif time_info_column.label != '':\n",
    "# #             for _col_index, _col in enumerate(list_columns):\n",
    "# #                 if time_info_column.label in _col:\n",
    "# #                     list_columns.pop(_col_index)\n",
    "\n",
    "# #         self.list_columns = list_columns\n",
    "        \n",
    "#     def evaluate_nbr_row_metadata(self):\n",
    "#         o_metadata = Metadata(filename=self.filename,\n",
    "#                               reference_line_showing_end_of_metadata=self.reference_line_showing_end_of_metadata,\n",
    "#                               end_of_metadata_after_how_many_lines_from_reference_line=self.end_of_metadata_after_how_many_lines_from_reference_line)\n",
    "#         o_metadata.calculate_nbr_row_metadata()\n",
    "#         self.nbr_row_metadata = o_metadata.nbr_row_metadata\n",
    "\n",
    "#     def parse(self):\n",
    "#         self.read_data()\n",
    "#         self.read_metadata()\n",
    "\n",
    "#     def read_data(self):\n",
    "#         o_pd = pd.read_csv(\n",
    "#             self.filename,\n",
    "#             sep='\\t',\n",
    "#             encoding='iso8859_5',\n",
    "#             error_bad_lines=False,\n",
    "#             skiprows=self.nbr_row_metadata,\n",
    "#         )\n",
    "#         self.o_pd = o_pd\n",
    "\n",
    "#     def read_metadata(self):\n",
    "#         fdata = codecs.open(\n",
    "#             self.filename, 'r', encoding='utf-8', errors='ignore')\n",
    "\n",
    "#         metadata = []\n",
    "#         for _row in np.arange(self.nbr_row_metadata):\n",
    "#             metadata.append(fdata.readline())\n",
    "#         self.metadata = metadata\n",
    "\n",
    "#         self.read_specific_metadata()\n",
    "\n",
    "#     def read_specific_metadata(self):\n",
    "#         for _keys in self.metadata_dict.keys():\n",
    "#             for _line in self.metadata:\n",
    "#                 if _keys in _line:\n",
    "#                     result = _line.split(\n",
    "#                         self.metadata_dict[_keys]['split1'])  #1st split\n",
    "#                     if not self.metadata_dict[_keys]['split2']:\n",
    "#                         self.metadata_dict[_keys]['value'] = result[1].strip()\n",
    "#                     else:  #2nd split\n",
    "#                         [value, units] = result[1].strip().split(\n",
    "#                             self.metadata_dict[_keys]['split2'])\n",
    "#                         self.metadata_dict[_keys]['value'] = value.strip()\n",
    "#                         self.metadata_dict[_keys]['units'] = units.strip()\n",
    "\n",
    "\n",
    "# class MetadataFileParser(object):\n",
    "#     \"\"\"This class will parse the entire file and isolate the metadata and data.\n",
    "#     Then the time/s column will be used as index, the list of the columns left will be returned in \n",
    "#     order for the user to select the columns he wants to keep. Once those selected, a new pandas object \n",
    "#     of only the columns of interst and time/s as index will be created\"\"\"\n",
    "    \n",
    "#     filename = ''\n",
    "#     meta_type = ''\n",
    "\n",
    "#     def __init__(self, \n",
    "#                  filename='', \n",
    "#                  meta_type='', \n",
    "#                  time_label='time/s', \n",
    "#                  time_index=-1,\n",
    "#                  reference_line_showing_end_of_metadata='Number of loops',\n",
    "#                  end_of_metadata_after_how_many_lines_from_reference_line=1,\n",
    "#                 ):\n",
    "#         \"\"\"\n",
    "#         Arguments:\n",
    "#          * filename: ascii input file name to parse\n",
    "#          * meta_type: right now, only support file with extension mpt\n",
    "#          * time_label: name of columns to use that contains time information\n",
    "#          * time_index: column index to use to retrieve time info (take priority over time_label)\n",
    "#          * reference_line_showing_end_of_metadata: string to use to locate end of metadata file (for complex ascii)\n",
    "#          * end_of_metadata_after_how_many_lines_from_reference_line: number of rows to keep considering as part of metadata from reference_line...\n",
    "#         \"\"\"\n",
    "#         self.filename = filename\n",
    "#         self.time_label = time_label\n",
    "#         self.time_index = time_index\n",
    "#         if meta_type:\n",
    "#             self.meta_type = meta_type\n",
    "#         else:\n",
    "#             self.meta_type = get_file_extension(filename)\n",
    "\n",
    "#     def get_list_columns(self):\n",
    "#         return list(self.meta.o_pd.columns.values)\n",
    "            \n",
    "#     def parse(self):\n",
    "#         if self.meta_type == 'mpt':\n",
    "#             time_info_column = TimeInfoColumn(label=self.time_label, index=self.time_index)\n",
    "#             o_mpt = MPTFileParser(filename=self.filename, time_info_column=time_info_column)\n",
    "#             self.meta = o_mpt\n",
    "#         else:\n",
    "#             raise NotImplementedError(\"This file format is not supported!\")\n",
    "\n",
    "#     def keep_only_columns_of_data_of_interest(self, list_columns_names=[]):\n",
    "#         column_of_data_to_keep = self.meta.o_pd[list_columns_names]\n",
    "#         return column_of_data_to_keep\n",
    "            \n",
    "#     def add_time_offset(self, time_offset_s=0):\n",
    "#         o_pd = self.meta.o_pd\n",
    "#         new_column_values = o_pd.index.values + time_offset_s\n",
    "#         self.meta.o_pd = o_pd.set_index(new_column_values)\n",
    "        \n",
    "#     def create_metadata_selected_vs_time_stamp(self, metadata_selected):\n",
    "#         #time_column = self.meta.o_pd.\n",
    "#         pass"
   ]
  },
  {
   "cell_type": "code",
   "execution_count": 5,
   "metadata": {},
   "outputs": [],
   "source": [
    "# o_pd = o_meta.meta.o_pd\n",
    "\n",
    "\n",
    "# new_index_value  = o_pd.index.values + 1000\n",
    "\n",
    "# o_pd = o_pd.set_index(new_index_value, 'time/s')\n",
    "# o_pd"
   ]
  },
  {
   "cell_type": "code",
   "execution_count": 6,
   "metadata": {
    "run_control": {
     "frozen": false,
     "read_only": false
    }
   },
   "outputs": [],
   "source": [
    "o_meta = MetadataFileParser(filename=metadata_file, \n",
    "                            meta_type='mpt',\n",
    "                            time_label='time/s',\n",
    "                            reference_line_showing_end_of_metadata='Number of loops',\n",
    "                            end_of_metadata_after_how_many_lines_from_reference_line=1)\n",
    "o_meta.parse()"
   ]
  },
  {
   "cell_type": "code",
   "execution_count": 7,
   "metadata": {},
   "outputs": [
    {
     "data": {
      "text/html": [
       "<div>\n",
       "<style>\n",
       "    .dataframe thead tr:only-child th {\n",
       "        text-align: right;\n",
       "    }\n",
       "\n",
       "    .dataframe thead th {\n",
       "        text-align: left;\n",
       "    }\n",
       "\n",
       "    .dataframe tbody tr th {\n",
       "        vertical-align: top;\n",
       "    }\n",
       "</style>\n",
       "<table border=\"1\" class=\"dataframe\">\n",
       "  <thead>\n",
       "    <tr style=\"text-align: right;\">\n",
       "      <th></th>\n",
       "      <th>mode</th>\n",
       "      <th>error</th>\n",
       "      <th>Ewe/V</th>\n",
       "      <th>Unnamed: 4</th>\n",
       "    </tr>\n",
       "  </thead>\n",
       "  <tbody>\n",
       "    <tr>\n",
       "      <th>12920.102414</th>\n",
       "      <td>3</td>\n",
       "      <td>0</td>\n",
       "      <td>-0.002688</td>\n",
       "      <td>NaN</td>\n",
       "    </tr>\n",
       "    <tr>\n",
       "      <th>12920.102614</th>\n",
       "      <td>3</td>\n",
       "      <td>0</td>\n",
       "      <td>-0.005781</td>\n",
       "      <td>NaN</td>\n",
       "    </tr>\n",
       "    <tr>\n",
       "      <th>12920.102814</th>\n",
       "      <td>3</td>\n",
       "      <td>0</td>\n",
       "      <td>-0.004483</td>\n",
       "      <td>NaN</td>\n",
       "    </tr>\n",
       "    <tr>\n",
       "      <th>12920.103014</th>\n",
       "      <td>3</td>\n",
       "      <td>0</td>\n",
       "      <td>0.001055</td>\n",
       "      <td>NaN</td>\n",
       "    </tr>\n",
       "    <tr>\n",
       "      <th>12920.103214</th>\n",
       "      <td>3</td>\n",
       "      <td>0</td>\n",
       "      <td>-0.009238</td>\n",
       "      <td>NaN</td>\n",
       "    </tr>\n",
       "    <tr>\n",
       "      <th>12920.103414</th>\n",
       "      <td>3</td>\n",
       "      <td>0</td>\n",
       "      <td>-0.006660</td>\n",
       "      <td>NaN</td>\n",
       "    </tr>\n",
       "    <tr>\n",
       "      <th>12920.103614</th>\n",
       "      <td>3</td>\n",
       "      <td>0</td>\n",
       "      <td>-0.001943</td>\n",
       "      <td>NaN</td>\n",
       "    </tr>\n",
       "    <tr>\n",
       "      <th>12920.103814</th>\n",
       "      <td>3</td>\n",
       "      <td>0</td>\n",
       "      <td>0.001036</td>\n",
       "      <td>NaN</td>\n",
       "    </tr>\n",
       "    <tr>\n",
       "      <th>12920.104014</th>\n",
       "      <td>3</td>\n",
       "      <td>0</td>\n",
       "      <td>-0.001656</td>\n",
       "      <td>NaN</td>\n",
       "    </tr>\n",
       "    <tr>\n",
       "      <th>12920.104214</th>\n",
       "      <td>3</td>\n",
       "      <td>0</td>\n",
       "      <td>0.000043</td>\n",
       "      <td>NaN</td>\n",
       "    </tr>\n",
       "    <tr>\n",
       "      <th>12920.104414</th>\n",
       "      <td>3</td>\n",
       "      <td>0</td>\n",
       "      <td>-0.004578</td>\n",
       "      <td>NaN</td>\n",
       "    </tr>\n",
       "    <tr>\n",
       "      <th>12920.104614</th>\n",
       "      <td>3</td>\n",
       "      <td>0</td>\n",
       "      <td>0.000922</td>\n",
       "      <td>NaN</td>\n",
       "    </tr>\n",
       "    <tr>\n",
       "      <th>12920.104814</th>\n",
       "      <td>3</td>\n",
       "      <td>0</td>\n",
       "      <td>0.004073</td>\n",
       "      <td>NaN</td>\n",
       "    </tr>\n",
       "    <tr>\n",
       "      <th>12920.105014</th>\n",
       "      <td>3</td>\n",
       "      <td>0</td>\n",
       "      <td>-0.006889</td>\n",
       "      <td>NaN</td>\n",
       "    </tr>\n",
       "    <tr>\n",
       "      <th>12920.105214</th>\n",
       "      <td>3</td>\n",
       "      <td>0</td>\n",
       "      <td>-0.004769</td>\n",
       "      <td>NaN</td>\n",
       "    </tr>\n",
       "    <tr>\n",
       "      <th>12920.105414</th>\n",
       "      <td>3</td>\n",
       "      <td>0</td>\n",
       "      <td>-0.007328</td>\n",
       "      <td>NaN</td>\n",
       "    </tr>\n",
       "    <tr>\n",
       "      <th>12920.105614</th>\n",
       "      <td>3</td>\n",
       "      <td>0</td>\n",
       "      <td>-0.009257</td>\n",
       "      <td>NaN</td>\n",
       "    </tr>\n",
       "    <tr>\n",
       "      <th>12920.105814</th>\n",
       "      <td>3</td>\n",
       "      <td>0</td>\n",
       "      <td>-0.019379</td>\n",
       "      <td>NaN</td>\n",
       "    </tr>\n",
       "    <tr>\n",
       "      <th>12920.106014</th>\n",
       "      <td>3</td>\n",
       "      <td>0</td>\n",
       "      <td>-0.025108</td>\n",
       "      <td>NaN</td>\n",
       "    </tr>\n",
       "    <tr>\n",
       "      <th>12920.106214</th>\n",
       "      <td>3</td>\n",
       "      <td>0</td>\n",
       "      <td>0.001915</td>\n",
       "      <td>NaN</td>\n",
       "    </tr>\n",
       "    <tr>\n",
       "      <th>12920.106414</th>\n",
       "      <td>3</td>\n",
       "      <td>0</td>\n",
       "      <td>-0.018004</td>\n",
       "      <td>NaN</td>\n",
       "    </tr>\n",
       "    <tr>\n",
       "      <th>12920.106614</th>\n",
       "      <td>3</td>\n",
       "      <td>0</td>\n",
       "      <td>-0.012446</td>\n",
       "      <td>NaN</td>\n",
       "    </tr>\n",
       "    <tr>\n",
       "      <th>12920.107014</th>\n",
       "      <td>3</td>\n",
       "      <td>0</td>\n",
       "      <td>-0.010002</td>\n",
       "      <td>NaN</td>\n",
       "    </tr>\n",
       "    <tr>\n",
       "      <th>12920.107214</th>\n",
       "      <td>3</td>\n",
       "      <td>0</td>\n",
       "      <td>-0.002917</td>\n",
       "      <td>NaN</td>\n",
       "    </tr>\n",
       "    <tr>\n",
       "      <th>12920.107414</th>\n",
       "      <td>3</td>\n",
       "      <td>0</td>\n",
       "      <td>-0.009945</td>\n",
       "      <td>NaN</td>\n",
       "    </tr>\n",
       "    <tr>\n",
       "      <th>12920.107614</th>\n",
       "      <td>3</td>\n",
       "      <td>0</td>\n",
       "      <td>-0.015712</td>\n",
       "      <td>NaN</td>\n",
       "    </tr>\n",
       "    <tr>\n",
       "      <th>12920.107814</th>\n",
       "      <td>3</td>\n",
       "      <td>0</td>\n",
       "      <td>-0.004273</td>\n",
       "      <td>NaN</td>\n",
       "    </tr>\n",
       "    <tr>\n",
       "      <th>12920.108014</th>\n",
       "      <td>3</td>\n",
       "      <td>0</td>\n",
       "      <td>-0.016724</td>\n",
       "      <td>NaN</td>\n",
       "    </tr>\n",
       "    <tr>\n",
       "      <th>12920.108214</th>\n",
       "      <td>3</td>\n",
       "      <td>0</td>\n",
       "      <td>-0.011320</td>\n",
       "      <td>NaN</td>\n",
       "    </tr>\n",
       "    <tr>\n",
       "      <th>12920.108614</th>\n",
       "      <td>3</td>\n",
       "      <td>0</td>\n",
       "      <td>-0.015387</td>\n",
       "      <td>NaN</td>\n",
       "    </tr>\n",
       "    <tr>\n",
       "      <th>...</th>\n",
       "      <td>...</td>\n",
       "      <td>...</td>\n",
       "      <td>...</td>\n",
       "      <td>...</td>\n",
       "    </tr>\n",
       "    <tr>\n",
       "      <th>12920.132014</th>\n",
       "      <td>3</td>\n",
       "      <td>0</td>\n",
       "      <td>-0.017297</td>\n",
       "      <td>NaN</td>\n",
       "    </tr>\n",
       "    <tr>\n",
       "      <th>12920.132214</th>\n",
       "      <td>3</td>\n",
       "      <td>0</td>\n",
       "      <td>-0.008302</td>\n",
       "      <td>NaN</td>\n",
       "    </tr>\n",
       "    <tr>\n",
       "      <th>12920.132614</th>\n",
       "      <td>3</td>\n",
       "      <td>0</td>\n",
       "      <td>-0.010575</td>\n",
       "      <td>NaN</td>\n",
       "    </tr>\n",
       "    <tr>\n",
       "      <th>12920.132814</th>\n",
       "      <td>3</td>\n",
       "      <td>0</td>\n",
       "      <td>-0.016132</td>\n",
       "      <td>NaN</td>\n",
       "    </tr>\n",
       "    <tr>\n",
       "      <th>12920.133014</th>\n",
       "      <td>3</td>\n",
       "      <td>0</td>\n",
       "      <td>-0.005991</td>\n",
       "      <td>NaN</td>\n",
       "    </tr>\n",
       "    <tr>\n",
       "      <th>12920.133614</th>\n",
       "      <td>3</td>\n",
       "      <td>0</td>\n",
       "      <td>-0.007806</td>\n",
       "      <td>NaN</td>\n",
       "    </tr>\n",
       "    <tr>\n",
       "      <th>12920.133814</th>\n",
       "      <td>3</td>\n",
       "      <td>0</td>\n",
       "      <td>-0.008990</td>\n",
       "      <td>NaN</td>\n",
       "    </tr>\n",
       "    <tr>\n",
       "      <th>12920.134014</th>\n",
       "      <td>3</td>\n",
       "      <td>0</td>\n",
       "      <td>-0.007825</td>\n",
       "      <td>NaN</td>\n",
       "    </tr>\n",
       "    <tr>\n",
       "      <th>12920.134214</th>\n",
       "      <td>3</td>\n",
       "      <td>0</td>\n",
       "      <td>-0.006354</td>\n",
       "      <td>NaN</td>\n",
       "    </tr>\n",
       "    <tr>\n",
       "      <th>12920.134814</th>\n",
       "      <td>3</td>\n",
       "      <td>0</td>\n",
       "      <td>-0.007577</td>\n",
       "      <td>NaN</td>\n",
       "    </tr>\n",
       "    <tr>\n",
       "      <th>12920.135214</th>\n",
       "      <td>3</td>\n",
       "      <td>0</td>\n",
       "      <td>-0.003814</td>\n",
       "      <td>NaN</td>\n",
       "    </tr>\n",
       "    <tr>\n",
       "      <th>12920.135414</th>\n",
       "      <td>3</td>\n",
       "      <td>0</td>\n",
       "      <td>-0.007462</td>\n",
       "      <td>NaN</td>\n",
       "    </tr>\n",
       "    <tr>\n",
       "      <th>12920.135614</th>\n",
       "      <td>3</td>\n",
       "      <td>0</td>\n",
       "      <td>-0.008493</td>\n",
       "      <td>NaN</td>\n",
       "    </tr>\n",
       "    <tr>\n",
       "      <th>12920.135814</th>\n",
       "      <td>3</td>\n",
       "      <td>0</td>\n",
       "      <td>-0.004177</td>\n",
       "      <td>NaN</td>\n",
       "    </tr>\n",
       "    <tr>\n",
       "      <th>12920.136014</th>\n",
       "      <td>3</td>\n",
       "      <td>0</td>\n",
       "      <td>-0.000721</td>\n",
       "      <td>NaN</td>\n",
       "    </tr>\n",
       "    <tr>\n",
       "      <th>12920.136214</th>\n",
       "      <td>3</td>\n",
       "      <td>0</td>\n",
       "      <td>-0.007882</td>\n",
       "      <td>NaN</td>\n",
       "    </tr>\n",
       "    <tr>\n",
       "      <th>12920.136414</th>\n",
       "      <td>3</td>\n",
       "      <td>0</td>\n",
       "      <td>-0.005113</td>\n",
       "      <td>NaN</td>\n",
       "    </tr>\n",
       "    <tr>\n",
       "      <th>12920.136614</th>\n",
       "      <td>3</td>\n",
       "      <td>0</td>\n",
       "      <td>-0.002974</td>\n",
       "      <td>NaN</td>\n",
       "    </tr>\n",
       "    <tr>\n",
       "      <th>12920.136814</th>\n",
       "      <td>3</td>\n",
       "      <td>0</td>\n",
       "      <td>-0.005533</td>\n",
       "      <td>NaN</td>\n",
       "    </tr>\n",
       "    <tr>\n",
       "      <th>12920.137014</th>\n",
       "      <td>3</td>\n",
       "      <td>0</td>\n",
       "      <td>-0.007042</td>\n",
       "      <td>NaN</td>\n",
       "    </tr>\n",
       "    <tr>\n",
       "      <th>12920.137214</th>\n",
       "      <td>3</td>\n",
       "      <td>0</td>\n",
       "      <td>-0.003986</td>\n",
       "      <td>NaN</td>\n",
       "    </tr>\n",
       "    <tr>\n",
       "      <th>12920.137414</th>\n",
       "      <td>3</td>\n",
       "      <td>0</td>\n",
       "      <td>0.001285</td>\n",
       "      <td>NaN</td>\n",
       "    </tr>\n",
       "    <tr>\n",
       "      <th>12920.137614</th>\n",
       "      <td>3</td>\n",
       "      <td>0</td>\n",
       "      <td>-0.002745</td>\n",
       "      <td>NaN</td>\n",
       "    </tr>\n",
       "    <tr>\n",
       "      <th>12920.138014</th>\n",
       "      <td>3</td>\n",
       "      <td>0</td>\n",
       "      <td>0.002488</td>\n",
       "      <td>NaN</td>\n",
       "    </tr>\n",
       "    <tr>\n",
       "      <th>12920.138214</th>\n",
       "      <td>3</td>\n",
       "      <td>0</td>\n",
       "      <td>0.000502</td>\n",
       "      <td>NaN</td>\n",
       "    </tr>\n",
       "    <tr>\n",
       "      <th>12920.138414</th>\n",
       "      <td>3</td>\n",
       "      <td>0</td>\n",
       "      <td>-0.005037</td>\n",
       "      <td>NaN</td>\n",
       "    </tr>\n",
       "    <tr>\n",
       "      <th>12920.138614</th>\n",
       "      <td>3</td>\n",
       "      <td>0</td>\n",
       "      <td>-0.003184</td>\n",
       "      <td>NaN</td>\n",
       "    </tr>\n",
       "    <tr>\n",
       "      <th>12920.138814</th>\n",
       "      <td>3</td>\n",
       "      <td>0</td>\n",
       "      <td>-0.000301</td>\n",
       "      <td>NaN</td>\n",
       "    </tr>\n",
       "    <tr>\n",
       "      <th>12920.139014</th>\n",
       "      <td>3</td>\n",
       "      <td>0</td>\n",
       "      <td>-0.014528</td>\n",
       "      <td>NaN</td>\n",
       "    </tr>\n",
       "    <tr>\n",
       "      <th>12920.139214</th>\n",
       "      <td>3</td>\n",
       "      <td>0</td>\n",
       "      <td>-0.016380</td>\n",
       "      <td>NaN</td>\n",
       "    </tr>\n",
       "  </tbody>\n",
       "</table>\n",
       "<p>159 rows × 4 columns</p>\n",
       "</div>"
      ],
      "text/plain": [
       "              mode  error     Ewe/V  Unnamed: 4\n",
       "12920.102414     3      0 -0.002688         NaN\n",
       "12920.102614     3      0 -0.005781         NaN\n",
       "12920.102814     3      0 -0.004483         NaN\n",
       "12920.103014     3      0  0.001055         NaN\n",
       "12920.103214     3      0 -0.009238         NaN\n",
       "12920.103414     3      0 -0.006660         NaN\n",
       "12920.103614     3      0 -0.001943         NaN\n",
       "12920.103814     3      0  0.001036         NaN\n",
       "12920.104014     3      0 -0.001656         NaN\n",
       "12920.104214     3      0  0.000043         NaN\n",
       "12920.104414     3      0 -0.004578         NaN\n",
       "12920.104614     3      0  0.000922         NaN\n",
       "12920.104814     3      0  0.004073         NaN\n",
       "12920.105014     3      0 -0.006889         NaN\n",
       "12920.105214     3      0 -0.004769         NaN\n",
       "12920.105414     3      0 -0.007328         NaN\n",
       "12920.105614     3      0 -0.009257         NaN\n",
       "12920.105814     3      0 -0.019379         NaN\n",
       "12920.106014     3      0 -0.025108         NaN\n",
       "12920.106214     3      0  0.001915         NaN\n",
       "12920.106414     3      0 -0.018004         NaN\n",
       "12920.106614     3      0 -0.012446         NaN\n",
       "12920.107014     3      0 -0.010002         NaN\n",
       "12920.107214     3      0 -0.002917         NaN\n",
       "12920.107414     3      0 -0.009945         NaN\n",
       "12920.107614     3      0 -0.015712         NaN\n",
       "12920.107814     3      0 -0.004273         NaN\n",
       "12920.108014     3      0 -0.016724         NaN\n",
       "12920.108214     3      0 -0.011320         NaN\n",
       "12920.108614     3      0 -0.015387         NaN\n",
       "...            ...    ...       ...         ...\n",
       "12920.132014     3      0 -0.017297         NaN\n",
       "12920.132214     3      0 -0.008302         NaN\n",
       "12920.132614     3      0 -0.010575         NaN\n",
       "12920.132814     3      0 -0.016132         NaN\n",
       "12920.133014     3      0 -0.005991         NaN\n",
       "12920.133614     3      0 -0.007806         NaN\n",
       "12920.133814     3      0 -0.008990         NaN\n",
       "12920.134014     3      0 -0.007825         NaN\n",
       "12920.134214     3      0 -0.006354         NaN\n",
       "12920.134814     3      0 -0.007577         NaN\n",
       "12920.135214     3      0 -0.003814         NaN\n",
       "12920.135414     3      0 -0.007462         NaN\n",
       "12920.135614     3      0 -0.008493         NaN\n",
       "12920.135814     3      0 -0.004177         NaN\n",
       "12920.136014     3      0 -0.000721         NaN\n",
       "12920.136214     3      0 -0.007882         NaN\n",
       "12920.136414     3      0 -0.005113         NaN\n",
       "12920.136614     3      0 -0.002974         NaN\n",
       "12920.136814     3      0 -0.005533         NaN\n",
       "12920.137014     3      0 -0.007042         NaN\n",
       "12920.137214     3      0 -0.003986         NaN\n",
       "12920.137414     3      0  0.001285         NaN\n",
       "12920.137614     3      0 -0.002745         NaN\n",
       "12920.138014     3      0  0.002488         NaN\n",
       "12920.138214     3      0  0.000502         NaN\n",
       "12920.138414     3      0 -0.005037         NaN\n",
       "12920.138614     3      0 -0.003184         NaN\n",
       "12920.138814     3      0 -0.000301         NaN\n",
       "12920.139014     3      0 -0.014528         NaN\n",
       "12920.139214     3      0 -0.016380         NaN\n",
       "\n",
       "[159 rows x 4 columns]"
      ]
     },
     "execution_count": 7,
     "metadata": {},
     "output_type": "execute_result"
    }
   ],
   "source": [
    "o_meta.add_time_offset(time_offset_s=2000)\n",
    "o_meta.meta.o_pd"
   ]
  },
  {
   "cell_type": "code",
   "execution_count": 155,
   "metadata": {
    "run_control": {
     "frozen": false,
     "read_only": false
    }
   },
   "outputs": [
    {
     "data": {
      "text/plain": [
       "['EC-Lab ASCII FILE\\r\\n',\n",
       " 'Nb header lines : 48                          \\r\\n',\n",
       " '\\r\\n',\n",
       " 'Open Circuit Voltage\\r\\n',\n",
       " '\\r\\n',\n",
       " 'Run on channel : 3 (SN 30533)\\r\\n',\n",
       " 'User : \\r\\n',\n",
       " 'CE vs. WE compliance from -10 V to 10 V\\r\\n',\n",
       " 'Electrode connection : standard\\r\\n',\n",
       " 'Ewe ctrl range : min = -5.00 V, max = 2.00 V\\r\\n',\n",
       " 'Safety Limits :\\r\\n',\n",
       " '\\t|I| = 10.000 mA\\r\\n',\n",
       " '\\tfor t > 10 ms\\r\\n',\n",
       " '\\tDo not start on E overload\\r\\n',\n",
       " 'Acquisition started on : 09/07/2018 14:55:35\\r\\n',\n",
       " 'Technique started on : 09/07/2018 17:57:35\\r\\n',\n",
       " 'Saved on :\\r\\n',\n",
       " '\\tFile : A49_3_at80C_4p1mm_120s_2_03_OCV_C03.mpr\\r\\n',\n",
       " '\\tDirectory : C:\\\\Users\\\\user\\\\Desktop\\\\IPTS20444\\\\A49_3\\\\\\r\\n',\n",
       " '\\tHost : 10.111.103.71\\r\\n',\n",
       " 'Device : VSP (SN 1597)\\r\\n',\n",
       " 'Address : 10.112.22.31\\r\\n',\n",
       " 'EC-Lab for windows v11.21 (software)\\r\\n',\n",
       " 'Internet server v11.20 (firmware)\\r\\n',\n",
       " 'Command interpretor v11.21 (firmware)\\r\\n',\n",
       " 'Electrode material : \\r\\n',\n",
       " 'Initial state : \\r\\n',\n",
       " 'Electrolyte : \\r\\n',\n",
       " 'Comments : \\r\\n',\n",
       " 'Electrode surface area : 0.040 cm\\r\\n',\n",
       " 'Characteristic mass : 0.001 g\\r\\n',\n",
       " 'Equivalent Weight : 0.000 g/eq.\\r\\n',\n",
       " 'Density : 0.000 g/cm3\\r\\n',\n",
       " 'Text export\\r\\n',\n",
       " '   Mode : Standard\\r\\n',\n",
       " '   Time format : Absolute ISO 8601\\r\\n',\n",
       " 'Cycle Definition : Charge/Discharge alternance\\r\\n',\n",
       " 'tR (h:m:s)          0:02:0.0000         \\r\\n',\n",
       " 'dER/dt (mV/h)       0.0                 \\r\\n',\n",
       " 'dER (mV)            1.00                \\r\\n',\n",
       " 'dtR (s)             10.0000             \\r\\n',\n",
       " 'E range min (V)     -5.000              \\r\\n',\n",
       " 'E range max (V)     2.000               \\r\\n',\n",
       " '\\r\\n',\n",
       " 'Number of loops : 1\\r\\n',\n",
       " 'Loop 0 from point number 0 to 512639\\r\\n']"
      ]
     },
     "execution_count": 155,
     "metadata": {},
     "output_type": "execute_result"
    }
   ],
   "source": [
    "# display metadata\n",
    "o_meta.meta.metadata"
   ]
  },
  {
   "cell_type": "code",
   "execution_count": 156,
   "metadata": {
    "run_control": {
     "frozen": false,
     "read_only": false
    }
   },
   "outputs": [],
   "source": [
    "# display list of columns (without the time info column)\n",
    "#list_columns = o_meta.get_list_columns()\n",
    "#print(list_columns)"
   ]
  },
  {
   "cell_type": "code",
   "execution_count": 157,
   "metadata": {},
   "outputs": [],
   "source": [
    "# import time, datetime\n",
    "\n",
    "# timestamp = time.mktime(datetime.datetime.strptime(time_s, \"%m/%d/%Y %H:%M:%S\").timetuple())\n",
    "# print(timestamp)\n",
    "\n",
    "# # extra info retrieved from metadata (such as 'acquisition started time')\n",
    "# time_s = o_meta.meta.metadata_dict['Acquisition started on']['value']\n",
    "# time_s\n",
    "\n",
    "# # I need to check wich one is exact\n",
    "# datetime.datetime.fromtimestamp(timestamp).strftime('%m/%d/%Y %H:%M:%S')\n",
    "# datetime.datetime.utcfromtimestamp(timestamp).strftime('%m/%d/%Y %H:%M:%S')"
   ]
  },
  {
   "cell_type": "code",
   "execution_count": 158,
   "metadata": {
    "run_control": {
     "frozen": false,
     "read_only": false
    }
   },
   "outputs": [],
   "source": [
    "# time info column\n",
    "#o_meta.meta.time_column"
   ]
  },
  {
   "cell_type": "code",
   "execution_count": 159,
   "metadata": {
    "run_control": {
     "frozen": false,
     "read_only": false
    },
    "scrolled": false
   },
   "outputs": [],
   "source": [
    "# preview of data retrieved by pandas\n",
    "#o_meta.meta.o_pd"
   ]
  },
  {
   "cell_type": "code",
   "execution_count": 160,
   "metadata": {
    "run_control": {
     "frozen": false,
     "read_only": false
    }
   },
   "outputs": [
    {
     "data": {
      "application/vnd.jupyter.widget-view+json": {
       "model_id": "0326502433de41c69207a475cf58360e",
       "version_major": 2,
       "version_minor": 0
      },
      "text/html": [
       "<p>Failed to display Jupyter Widget of type <code>HBox</code>.</p>\n",
       "<p>\n",
       "  If you're reading this message in Jupyter Notebook or JupyterLab, it may mean\n",
       "  that the widgets JavaScript is still loading. If this message persists, it\n",
       "  likely means that the widgets JavaScript library is either not installed or\n",
       "  not enabled. See the <a href=\"https://ipywidgets.readthedocs.io/en/stable/user_install.html\">Jupyter\n",
       "  Widgets Documentation</a> for setup instructions.\n",
       "</p>\n",
       "<p>\n",
       "  If you're reading this message in another notebook frontend (for example, a static\n",
       "  rendering on GitHub or <a href=\"https://nbviewer.jupyter.org/\">NBViewer</a>),\n",
       "  it may mean that your frontend doesn't currently support widgets.\n",
       "</p>\n"
      ],
      "text/plain": [
       "HBox(children=(Label(value='Select Metadata(s):', layout=Layout(width='15%')), SelectMultiple(index=(0,), layout=Layout(width='30%'), options=('mode', 'error', 'Ewe/V', 'Unnamed: 4'), rows=10, value=('mode',))))"
      ]
     },
     "metadata": {},
     "output_type": "display_data"
    }
   ],
   "source": [
    "list_columns = list(o_meta.meta.o_pd.columns.values)\n",
    "#list_columns.pop(o_meta.meta.time_info_index_column)\n",
    "#print(list_columns)\n",
    "\n",
    "box = widgets.HBox([widgets.Label(\"Select Metadata(s):\",\n",
    "                                layout=widgets.Layout(width='15%'),\n",
    "                                ),\n",
    "                   widgets.SelectMultiple(options=list_columns,\n",
    "                                          value=[list_columns[0]],\n",
    "                                          rows=10,\n",
    "                                          layout=widgets.Layout(width='30%')),\n",
    "                   ])\n",
    "display(box)\n",
    "                   "
   ]
  },
  {
   "cell_type": "code",
   "execution_count": 162,
   "metadata": {
    "run_control": {
     "frozen": false,
     "read_only": false
    }
   },
   "outputs": [
    {
     "name": "stdout",
     "output_type": "stream",
     "text": [
      "              mode  error     Ewe/V  Unnamed: 4\n",
      "12920.102414     3      0 -0.002688         NaN\n",
      "12920.102614     3      0 -0.005781         NaN\n",
      "12920.102814     3      0 -0.004483         NaN\n",
      "12920.103014     3      0  0.001055         NaN\n",
      "12920.103214     3      0 -0.009238         NaN\n",
      "12920.103414     3      0 -0.006660         NaN\n",
      "12920.103614     3      0 -0.001943         NaN\n",
      "12920.103814     3      0  0.001036         NaN\n",
      "12920.104014     3      0 -0.001656         NaN\n",
      "12920.104214     3      0  0.000043         NaN\n",
      "12920.104414     3      0 -0.004578         NaN\n",
      "12920.104614     3      0  0.000922         NaN\n",
      "12920.104814     3      0  0.004073         NaN\n",
      "12920.105014     3      0 -0.006889         NaN\n",
      "12920.105214     3      0 -0.004769         NaN\n",
      "12920.105414     3      0 -0.007328         NaN\n",
      "12920.105614     3      0 -0.009257         NaN\n",
      "12920.105814     3      0 -0.019379         NaN\n",
      "12920.106014     3      0 -0.025108         NaN\n",
      "12920.106214     3      0  0.001915         NaN\n",
      "12920.106414     3      0 -0.018004         NaN\n",
      "12920.106614     3      0 -0.012446         NaN\n",
      "12920.107014     3      0 -0.010002         NaN\n",
      "12920.107214     3      0 -0.002917         NaN\n",
      "12920.107414     3      0 -0.009945         NaN\n",
      "12920.107614     3      0 -0.015712         NaN\n",
      "12920.107814     3      0 -0.004273         NaN\n",
      "12920.108014     3      0 -0.016724         NaN\n",
      "12920.108214     3      0 -0.011320         NaN\n",
      "12920.108614     3      0 -0.015387         NaN\n",
      "...            ...    ...       ...         ...\n",
      "12920.132014     3      0 -0.017297         NaN\n",
      "12920.132214     3      0 -0.008302         NaN\n",
      "12920.132614     3      0 -0.010575         NaN\n",
      "12920.132814     3      0 -0.016132         NaN\n",
      "12920.133014     3      0 -0.005991         NaN\n",
      "12920.133614     3      0 -0.007806         NaN\n",
      "12920.133814     3      0 -0.008990         NaN\n",
      "12920.134014     3      0 -0.007825         NaN\n",
      "12920.134214     3      0 -0.006354         NaN\n",
      "12920.134814     3      0 -0.007577         NaN\n",
      "12920.135214     3      0 -0.003814         NaN\n",
      "12920.135414     3      0 -0.007462         NaN\n",
      "12920.135614     3      0 -0.008493         NaN\n",
      "12920.135814     3      0 -0.004177         NaN\n",
      "12920.136014     3      0 -0.000721         NaN\n",
      "12920.136214     3      0 -0.007882         NaN\n",
      "12920.136414     3      0 -0.005113         NaN\n",
      "12920.136614     3      0 -0.002974         NaN\n",
      "12920.136814     3      0 -0.005533         NaN\n",
      "12920.137014     3      0 -0.007042         NaN\n",
      "12920.137214     3      0 -0.003986         NaN\n",
      "12920.137414     3      0  0.001285         NaN\n",
      "12920.137614     3      0 -0.002745         NaN\n",
      "12920.138014     3      0  0.002488         NaN\n",
      "12920.138214     3      0  0.000502         NaN\n",
      "12920.138414     3      0 -0.005037         NaN\n",
      "12920.138614     3      0 -0.003184         NaN\n",
      "12920.138814     3      0 -0.000301         NaN\n",
      "12920.139014     3      0 -0.014528         NaN\n",
      "12920.139214     3      0 -0.016380         NaN\n",
      "\n",
      "[159 rows x 4 columns]\n"
     ]
    }
   ],
   "source": [
    "metadata_selected = list(box.children[1].value)\n",
    "print(o_meta.keep_only_columns_of_data_of_interest(list_columns_names=metadata_selected))\n"
   ]
  },
  {
   "cell_type": "code",
   "execution_count": null,
   "metadata": {
    "run_control": {
     "frozen": false,
     "read_only": false
    }
   },
   "outputs": [],
   "source": []
  }
 ],
 "metadata": {
  "kernelspec": {
   "display_name": "Python 3",
   "language": "python",
   "name": "python3"
  },
  "language_info": {
   "codemirror_mode": {
    "name": "ipython",
    "version": 3
   },
   "file_extension": ".py",
   "mimetype": "text/x-python",
   "name": "python",
   "nbconvert_exporter": "python",
   "pygments_lexer": "ipython3",
   "version": "3.6.3"
  },
  "toc": {
   "colors": {
    "hover_highlight": "#DAA520",
    "running_highlight": "#FF0000",
    "selected_highlight": "#FFD700"
   },
   "moveMenuLeft": true,
   "nav_menu": {
    "height": "66px",
    "width": "252px"
   },
   "navigate_menu": true,
   "number_sections": true,
   "sideBar": true,
   "threshold": 4,
   "toc_cell": false,
   "toc_section_display": "block",
   "toc_window_display": false
  }
 },
 "nbformat": 4,
 "nbformat_minor": 2
}
