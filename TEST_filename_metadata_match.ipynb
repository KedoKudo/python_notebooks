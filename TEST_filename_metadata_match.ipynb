{
 "cells": [
  {
   "cell_type": "markdown",
   "metadata": {
    "run_control": {
     "frozen": false,
     "read_only": false
    }
   },
   "source": [
    "# Select Your IPTS "
   ]
  },
  {
   "cell_type": "code",
   "execution_count": null,
   "metadata": {
    "run_control": {
     "frozen": false,
     "read_only": false
    }
   },
   "outputs": [],
   "source": [
    "# #from __code.filename_metadata_match import FilenameMetadataMatch\n",
    "\n",
    "# from __code import system\n",
    "# system.System.select_working_dir()\n",
    "# from __code.__all import custom_style\n",
    "# custom_style.style()"
   ]
  },
  {
   "cell_type": "code",
   "execution_count": null,
   "metadata": {
    "run_control": {
     "frozen": false,
     "read_only": false
    }
   },
   "outputs": [],
   "source": [
    "import ipywe.fileselector\n",
    "from IPython.core.display import HTML\n",
    "from __code.time_utility import RetrieveTimeStamp\n",
    "\n",
    "\n",
    "class FilenameMetadataMatch(object):\n",
    "\n",
    "    data_folder = ''\n",
    "    metadata_file = ''\n",
    "    \n",
    "    list_data_time_stamp = None\n",
    "    \n",
    "    def __init__(self, working_dir='./'):\n",
    "        self.working_dir = working_dir\n",
    "\n",
    "    def select_input_folder(self):\n",
    "        _instruction = \"Select Input Folder ...\"\n",
    "        self.input_folder_ui = ipywe.fileselector.FileSelectorPanel(instruction=_instruction,\n",
    "                                                                    start_dir=self.working_dir,\n",
    "                                                                    next=self.select_input_folder_done,\n",
    "                                                                    type='directory',\n",
    "                                                                   )\n",
    "        self.input_folder_ui.show()\n",
    "        \n",
    "    def select_input_folder_done(self, folder):\n",
    "        self.data_folder = folder\n",
    "        display(HTML('Folder Selected: <span style=\"font-size: 20px; color:green\">' + folder))\n",
    "\n",
    "    def select_metadata_file(self):\n",
    "        _instruction = \"Select Metadata File ...\"\n",
    "        self.metadata_ui = ipywe.fileselector.FileSelectorPanel(instruction=_instruction,\n",
    "                                                                start_dir=self.working_dir,\n",
    "                                                                next=self.select_metadata_file_done,\n",
    "                                                               )\n",
    "        self.metadata_ui.show()\n",
    "        \n",
    "    def select_metadata_file_done(self, metadata_file):\n",
    "        self.metadata_file = metadata_file\n",
    "        display(HTML('Metadata File Selected: <span style=\"font-size: 20px; color:green\">' + metadata_file))\n",
    "        \n",
    "    def retrieve_time_stamp(self):\n",
    "        o_retriever = RetrieveTimeStamp(folder=self.data_folder)\n",
    "        o_retriever._run()\n",
    "        self.list_data_time_stamp = o_retriever\n",
    "    \n",
    "    def load_metadata(self):\n",
    "        metadata_file = self.metadata_file\n",
    "    "
   ]
  },
  {
   "cell_type": "markdown",
   "metadata": {
    "run_control": {
     "frozen": false,
     "read_only": false
    }
   },
   "source": [
    "# Select Input Folder "
   ]
  },
  {
   "cell_type": "code",
   "execution_count": null,
   "metadata": {
    "run_control": {
     "frozen": false,
     "read_only": false
    }
   },
   "outputs": [],
   "source": [
    "#o_match = FilenameMetadataMatch(working_dir=system.System.get_working_dir())\n",
    "o_match = FilenameMetadataMatch(working_dir='/Volumes/my_book_thunderbolt_duo/IPTS/IPTS-20444-Regina/')\n",
    "o_match.select_input_folder()"
   ]
  },
  {
   "cell_type": "markdown",
   "metadata": {
    "run_control": {
     "frozen": false,
     "read_only": false
    }
   },
   "source": [
    "# Select Metadata File "
   ]
  },
  {
   "cell_type": "code",
   "execution_count": null,
   "metadata": {
    "run_control": {
     "frozen": false,
     "read_only": false
    }
   },
   "outputs": [],
   "source": [
    "o_match.select_metadata_file()"
   ]
  },
  {
   "cell_type": "markdown",
   "metadata": {
    "run_control": {
     "frozen": false,
     "read_only": false
    }
   },
   "source": [
    "# Retrieve Time Stamp"
   ]
  },
  {
   "cell_type": "code",
   "execution_count": null,
   "metadata": {
    "run_control": {
     "frozen": false,
     "read_only": false
    }
   },
   "outputs": [],
   "source": [
    "o_match.retrieve_time_stamp()"
   ]
  },
  {
   "cell_type": "markdown",
   "metadata": {
    "run_control": {
     "frozen": false,
     "read_only": false
    }
   },
   "source": [
    "# Load Metadata File"
   ]
  },
  {
   "cell_type": "markdown",
   "metadata": {
    "run_control": {
     "frozen": false,
     "read_only": false
    }
   },
   "source": [
    "# DEBUGGING STARTS HERE"
   ]
  },
  {
   "cell_type": "code",
   "execution_count": null,
   "metadata": {
    "run_control": {
     "frozen": false,
     "read_only": false
    }
   },
   "outputs": [],
   "source": [
    "import pandas as pd\n",
    "import codecs\n",
    "from __code.file_handler import get_file_extension\n",
    "from ipywidgets import widgets"
   ]
  },
  {
   "cell_type": "code",
   "execution_count": null,
   "metadata": {
    "run_control": {
     "frozen": false,
     "read_only": false
    }
   },
   "outputs": [],
   "source": [
    "#metadata_file = o_match.metadata_file\n",
    "metadata_file = '/Volumes/my_book_thunderbolt_duo/IPTS/IPTS-20444-Regina/metadata_files/A49_3_at80C_0_01_OCV_C03.mpt'\n",
    "assert os.path.exists(metadata_file)"
   ]
  },
  {
   "cell_type": "code",
   "execution_count": null,
   "metadata": {
    "run_control": {
     "frozen": false,
     "read_only": false
    }
   },
   "outputs": [],
   "source": [
    "class MPTFileParser(object):\n",
    "    \n",
    "    nbr_row_metadata = 47\n",
    "    \n",
    "    metadata_dict = {'Acquisition started on': {\"split1\": ' : ',\n",
    "                                                \"value\": '',\n",
    "                                                \"split2\": '',\n",
    "                                               },\n",
    "                     'Electrode surface area': {\"split1\": ' : ',\n",
    "                                                \"value\": '',\n",
    "                                                \"split2\": ' ',\n",
    "                                                \"units\": '',\n",
    "                                               },                     \n",
    "                    }\n",
    "        \n",
    "    time_info_index_column = 2 # in this file, the time information is in the column #2\n",
    "\n",
    "    def __init__(self, filename=''):\n",
    "        self.filename = filename\n",
    "        self.parse()\n",
    "    \n",
    "    def parse(self):\n",
    "        self.read_data()\n",
    "        self.read_metadata()\n",
    "        \n",
    "    def read_data(self):\n",
    "        o_pd = pd.read_csv(self.filename,\n",
    "                           sep='\\t',\n",
    "                          skiprows=47,\n",
    "                          )\n",
    "        self.o_pd = o_pd\n",
    "        \n",
    "    def read_metadata(self):\n",
    "        fdata = codecs.open(self.filename,\n",
    "                           'r',\n",
    "                           encoding='utf_8',\n",
    "                           errors='ignore')\n",
    "        metadata = []\n",
    "        for _row in np.arange(self.nbr_row_metadata):\n",
    "            metadata.append(fdata.readline())\n",
    "        self.metadata = metadata\n",
    "\n",
    "        self.read_specific_metadata()\n",
    "        \n",
    "    def read_specific_metadata(self):\n",
    "        for _keys in self.metadata_dict.keys():\n",
    "            for _line in self.metadata:\n",
    "                if _keys in _line:\n",
    "                    result = _line.split(self.metadata_dict[_keys]['split1']) #1st split\n",
    "                    if not self.metadata_dict[_keys]['split2']:\n",
    "                        self.metadata_dict[_keys]['value'] = result[1].strip()\n",
    "                    else: #2nd split\n",
    "                        [value, units] = result[1].strip().split(self.metadata_dict[_keys]['split2'])\n",
    "                        self.metadata_dict[_keys]['value'] = value.strip()\n",
    "                        self.metadata_dict[_keys]['units'] = units.strip()\n",
    "\n",
    "                \n",
    "class MetadataFileParser(object):\n",
    "    \n",
    "    filename = ''\n",
    "    meta_type = ''\n",
    "    \n",
    "    def __init__(self, filename='', meta_type=''):\n",
    "        self.filename = filename\n",
    "        if meta_type:\n",
    "            self.meta_type = meta_type\n",
    "        else:\n",
    "            self.meta_type = get_file_extension(filename)\n",
    "                        \n",
    "    def parse(self):\n",
    "        if self.meta_type == 'mpt':\n",
    "            o_mpt = MPTFileParser(filename=self.filename)\n",
    "            self.meta = o_mpt\n",
    "        else:\n",
    "            raise NotImplementedError(\"This file format is not supported!\")\n",
    "        \n",
    "    def create_metadata_selected_vs_time_stamp(self, metadata_selected):\n",
    "        #time_column = self.meta.o_pd.\n",
    "        pass\n",
    "        \n",
    "\n",
    "        \n",
    "        "
   ]
  },
  {
   "cell_type": "code",
   "execution_count": null,
   "metadata": {
    "run_control": {
     "frozen": false,
     "read_only": false
    }
   },
   "outputs": [],
   "source": [
    "o_meta = MetadataFileParser(filename=metadata_file)\n",
    "o_meta.parse()"
   ]
  },
  {
   "cell_type": "code",
   "execution_count": null,
   "metadata": {
    "run_control": {
     "frozen": false,
     "read_only": false
    }
   },
   "outputs": [],
   "source": [
    "o_meta.meta.metadata_dict"
   ]
  },
  {
   "cell_type": "code",
   "execution_count": null,
   "metadata": {
    "run_control": {
     "frozen": false,
     "read_only": false
    }
   },
   "outputs": [],
   "source": [
    "# get list of columns"
   ]
  },
  {
   "cell_type": "code",
   "execution_count": null,
   "metadata": {
    "run_control": {
     "frozen": false,
     "read_only": false
    }
   },
   "outputs": [],
   "source": [
    "list_columns = list(o_meta.meta.o_pd.columns.values)\n",
    "list_columns.pop(o_meta.meta.time_info_index_column)\n",
    "print(list_columns)"
   ]
  },
  {
   "cell_type": "code",
   "execution_count": null,
   "metadata": {
    "run_control": {
     "frozen": false,
     "read_only": false
    }
   },
   "outputs": [],
   "source": [
    "box = widgets.HBox([widgets.Label(\"Select Metadata:\",\n",
    "                                layout=widgets.Layout(width='15%'),\n",
    "                                ),\n",
    "                   widgets.Dropdown(options=list_columns,\n",
    "                                   value=list_columns[0],\n",
    "                                   layout=widgets.Layout(width='30%')),\n",
    "                   ])\n",
    "display(box)\n",
    "                   "
   ]
  },
  {
   "cell_type": "code",
   "execution_count": null,
   "metadata": {
    "run_control": {
     "frozen": false,
     "read_only": false
    }
   },
   "outputs": [],
   "source": [
    "metadata_selected = box.children[1].value\n",
    "metadata_selected"
   ]
  },
  {
   "cell_type": "code",
   "execution_count": null,
   "metadata": {
    "run_control": {
     "frozen": false,
     "read_only": false
    }
   },
   "outputs": [],
   "source": []
  }
 ],
 "metadata": {
  "kernelspec": {
   "display_name": "Python 3",
   "language": "python",
   "name": "python3"
  },
  "language_info": {
   "codemirror_mode": {
    "name": "ipython",
    "version": 3
   },
   "file_extension": ".py",
   "mimetype": "text/x-python",
   "name": "python",
   "nbconvert_exporter": "python",
   "pygments_lexer": "ipython3",
   "version": "3.6.3"
  },
  "toc": {
   "colors": {
    "hover_highlight": "#DAA520",
    "running_highlight": "#FF0000",
    "selected_highlight": "#FFD700"
   },
   "moveMenuLeft": true,
   "nav_menu": {
    "height": "66px",
    "width": "252px"
   },
   "navigate_menu": true,
   "number_sections": true,
   "sideBar": true,
   "threshold": 4,
   "toc_cell": false,
   "toc_section_display": "block",
   "toc_window_display": false
  }
 },
 "nbformat": 4,
 "nbformat_minor": 2
}
