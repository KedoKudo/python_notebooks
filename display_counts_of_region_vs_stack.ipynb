{
 "cells": [
  {
   "cell_type": "code",
   "execution_count": 1,
   "metadata": {
    "run_control": {
     "frozen": false,
     "read_only": false
    }
   },
   "outputs": [],
   "source": [
    "debugging = True\n",
    "IPTS = 17685"
   ]
  },
  {
   "cell_type": "markdown",
   "metadata": {
    "run_control": {
     "frozen": false,
     "read_only": false
    }
   },
   "source": [
    "# Description "
   ]
  },
  {
   "cell_type": "markdown",
   "metadata": {
    "run_control": {
     "frozen": false,
     "read_only": false
    }
   },
   "source": [
    "Load a stack of images, select a region and then the average counts of the region vs the stack will be displayed"
   ]
  },
  {
   "cell_type": "markdown",
   "metadata": {
    "run_control": {
     "frozen": false,
     "read_only": false
    }
   },
   "source": [
    "# Imports "
   ]
  },
  {
   "cell_type": "code",
   "execution_count": 2,
   "metadata": {
    "run_control": {
     "frozen": false,
     "read_only": false
    }
   },
   "outputs": [
    {
     "data": {
      "text/html": [
       "<style>\n",
       "\n",
       "/* The following CSS has been adapted from\n",
       "   http://nbviewer.ipython.org/github/ketch/teaching-numerics-with-notebooks/blob/master/Styling_notebooks.ipynb\n",
       "   by Aron Ahmadia and David Ketcheson and has been reused under CC BY 4.0\n",
       "   */\n",
       "\n",
       "/* main background */\n",
       "#site { \n",
       "    background: #888;\n",
       "    color: #red; \n",
       "}\n",
       "\n",
       "div.container {\n",
       "    width: 100% ! important;\n",
       "}\n",
       "\n",
       "div.cell { /* set cell width to about 80 chars */\n",
       "    width: 95%;\n",
       "}\n",
       "\n",
       "div #notebook { /* centre the content */\n",
       "/*    background: #fff; /* white background for content */\n",
       "    background: blue;\n",
       "    width: 100%;\n",
       "    margin: auto;\n",
       "    padding-left: 1em;\n",
       "    padding-right: 1em;\n",
       "    background-image: url(\"tile_background.jpg\");\n",
       "}\n",
       "\n",
       "#notebook li { /* More space between bullet points */\n",
       "    margin-top:0.4em;\n",
       "}\n",
       "\n",
       "/* change background color of running cells */\n",
       "div.cell.code_cell.running {\n",
       "/*    background-color: rgba(164,188,194,.75); */\n",
       "    background-color: green;\n",
       "    border-width: 8px\n",
       "    border-style: solid\n",
       "    border-color: #111;\n",
       "}\n",
       "\n",
       "/* Put a solid color box around each cell and its output, visually linking them together */\n",
       "div.cell.code_cell {\n",
       "    background-color: rgba(164,188,194,.25); /* Continuum L Gray with alpha 0.25 */\n",
       "    border-radius: 10px; /* rounded borders */\n",
       "    padding: 1em;\n",
       "    margin-top: 1em;\n",
       "}\n",
       "\n",
       "div.text_cell_render{\n",
       "\tfont-family: Georgia, Times, 'Times New Roman', serif;\n",
       "    line-height: 110%;\n",
       "    font-size: 105%;\n",
       "    width: 95%;\n",
       "    margin-left: auto;\n",
       "    margin-right: auto;\n",
       "}\n",
       "\n",
       "\n",
       "/* Formatting for header cells */\n",
       ".text_cell_render h1 {\n",
       "\tfont-family: Arial, 'Helvetica Neue', Helvetica, sans-serif;\n",
       "    font-weight: 400;\n",
       "    font-size: 30pt;\n",
       "    line-height: 100%;\n",
       "    color: rgb(37,55,70); /* Continuum Blue*/\n",
       "    margin-bottom: 0.1em;\n",
       "    margin-top: 0.1em;\n",
       "    display: block;\n",
       "}\n",
       ".text_cell_render h2 {\n",
       "\tfont-family: Arial, 'Helvetica Neue', Helvetica, sans-serif;\n",
       "    font-weight: 700;\n",
       "    font-size: 22pt;\n",
       "    line-height: 100%;\n",
       "    color: rgb(37,55,70);\n",
       "    margin-bottom: 0.1em;\n",
       "    margin-top: 0.1em;\n",
       "    display: block;\n",
       "}\n",
       "\n",
       ".text_cell_render h3 {\n",
       "\tfont-family: Arial, 'Helvetica Neue', Helvetica, sans-serif;\n",
       "    margin-top:12px;\n",
       "    margin-bottom: 3px;\n",
       "    font-style: italic;\n",
       "    color: rgb(37, 55, 70);\n",
       "}\n",
       "\n",
       ".text_cell_render h4 {\n",
       "\tfont-family: Arial, 'Helvetica Neue', Helvetica, sans-serif;\n",
       "}\n",
       "\n",
       ".text_cell_render h5 {\n",
       "\tfont-family: Arial, 'Helvetica Neue', Helvetica, sans-serif;\n",
       "    font-weight: 300;\n",
       "    font-size: 14pt;\n",
       "    font-style: italic;\n",
       "    margin-bottom: .1em;\n",
       "    margin-top: 0.1em;\n",
       "    display: block;\n",
       "}\n",
       "\n",
       ".text_cell_render h6 {\n",
       "\tfont-family: Arial, 'Helvetica Neue', Helvetica, sans-serif;\n",
       "    font-weight: 300;\n",
       "    font-size: 10pt;\n",
       "    margin-bottom: 1px;\n",
       "    margin-top: 1px;\n",
       "}\n",
       "\n",
       ".CodeMirror{\n",
       "        font-family: \"PT Mono\", fixed;\n",
       "        font-size: 100%;\n",
       "}\n",
       "\n",
       "#notebook_panel { /* main background */\n",
       "    background-image: url(\"tile_background.jpg\");\n",
       "}\n",
       "\n",
       "\n",
       "\n",
       "\n",
       "</style>\n"
      ],
      "text/plain": [
       "<IPython.core.display.HTML object>"
      ]
     },
     "execution_count": 2,
     "metadata": {},
     "output_type": "execute_result"
    }
   ],
   "source": [
    "from __code.__all import custom_style\n",
    "custom_style.style()"
   ]
  },
  {
   "cell_type": "code",
   "execution_count": 3,
   "metadata": {
    "run_control": {
     "frozen": false,
     "read_only": false
    }
   },
   "outputs": [],
   "source": [
    "!pyuic4 ui/ui_display_counts_of_region_vs_stack.ui -o __code/ui_display_counts_of_region_vs_stack.py"
   ]
  },
  {
   "cell_type": "code",
   "execution_count": 4,
   "metadata": {
    "collapsed": true
   },
   "outputs": [],
   "source": [
    "%gui qt"
   ]
  },
  {
   "cell_type": "code",
   "execution_count": 5,
   "metadata": {
    "run_control": {
     "frozen": false,
     "read_only": false
    }
   },
   "outputs": [],
   "source": [
    "try:\n",
    "    from PyQt4.QtGui import QFileDialog\n",
    "    from PyQt4 import QtCore, QtGui\n",
    "    from PyQt4.QtGui import QMainWindow\n",
    "except ImportError:\n",
    "    from PyQt5.QtWidgets import QFileDialog\n",
    "    from PyQt5 import QtCore, QtGui\n",
    "    from PyQt5.QtWidgets import QApplication"
   ]
  },
  {
   "cell_type": "code",
   "execution_count": 6,
   "metadata": {
    "run_control": {
     "frozen": false,
     "read_only": false
    }
   },
   "outputs": [
    {
     "name": "stdout",
     "output_type": "stream",
     "text": [
      "Working dir: /Volumes/my_book_thunderbolt_duo/IPTS/IPTS_17685\n"
     ]
    }
   ],
   "source": [
    "import numbers\n",
    "\n",
    "from __code import file_handler, utilities, fileselector\n",
    "from NeuNorm.normalization import Normalization\n",
    "from neutronbraggedge.experiment_handler import *\n",
    "\n",
    "if debugging:\n",
    "    ipts = IPTS\n",
    "else:\n",
    "    ipts = utilities.get_ipts()\n",
    "working_dir = utilities.get_working_dir(ipts=ipts, debugging=debugging)\n",
    "print(\"Working dir: {}\".format(working_dir))"
   ]
  },
  {
   "cell_type": "markdown",
   "metadata": {
    "cell_style": "split",
    "run_control": {
     "frozen": false,
     "read_only": false
    }
   },
   "source": [
    "# Select Stack Folder"
   ]
  },
  {
   "cell_type": "code",
   "execution_count": 7,
   "metadata": {
    "format": "tab",
    "run_control": {
     "frozen": false,
     "read_only": false
    }
   },
   "outputs": [
    {
     "data": {
      "text/html": [
       "\n",
       "        <style type=\"text/css\">\n",
       "        .jupyter-widgets select option {\n",
       "            font-family: \"Lucida Console\", Monaco, monospace;\n",
       "        }\n",
       "        </style>\n",
       "        "
      ],
      "text/plain": [
       "<IPython.core.display.HTML object>"
      ]
     },
     "metadata": {},
     "output_type": "display_data"
    },
    {
     "data": {
      "application/vnd.jupyter.widget-view+json": {
       "model_id": "8c39d34101d6490890f5f250ef2eb83d"
      }
     },
     "metadata": {},
     "output_type": "display_data"
    }
   ],
   "source": [
    "input_folder_ui = fileselector.FileSelectorPanel(instruction='Select Input Folder', type='directory', start_dir=working_dir, multiple=False)\n",
    "input_folder_ui.show()"
   ]
  },
  {
   "cell_type": "markdown",
   "metadata": {
    "run_control": {
     "frozen": false,
     "read_only": false
    }
   },
   "source": [
    "# Load Stack"
   ]
  },
  {
   "cell_type": "code",
   "execution_count": 8,
   "metadata": {
    "run_control": {
     "frozen": false,
     "read_only": false
    }
   },
   "outputs": [
    {
     "data": {
      "application/vnd.jupyter.widget-view+json": {
       "model_id": "97188c6f63a5453ab4581c5cff505507"
      }
     },
     "metadata": {},
     "output_type": "display_data"
    }
   ],
   "source": [
    "working_folder = input_folder_ui.result_full_path()\n",
    "o_norm = Normalization()\n",
    "o_norm.load(folder=working_folder, notebook=True)"
   ]
  },
  {
   "cell_type": "markdown",
   "metadata": {
    "run_control": {
     "frozen": false,
     "read_only": false
    }
   },
   "source": [
    "# Select Region and display Counts vs file_index (or time)"
   ]
  },
  {
   "cell_type": "code",
   "execution_count": 11,
   "metadata": {
    "run_control": {
     "frozen": false,
     "read_only": false
    }
   },
   "outputs": [
    {
     "name": "stdout",
     "output_type": "stream",
     "text": [
      "186\n"
     ]
    }
   ],
   "source": [
    "import pyqtgraph as pg\n",
    "from pyqtgraph.dockarea import *\n",
    "\n",
    "from __code.ui_display_counts_of_region_vs_stack import Ui_MainWindow as UiMainWindow\n",
    "\n",
    "\n",
    "class ImageWindow(QMainWindow):\n",
    "\n",
    "    stack = []\n",
    "    integrated_stack = []\n",
    "    working_folder = ''\n",
    "    x_axis = {'label': 'File Index', 'type': 'file_index', 'data': []}\n",
    "    y_axis = {'label': 'Mean Counts', 'data': []}\n",
    "    spectra_file = ''\n",
    "    \n",
    "    def __init__(self, parent=None, stack=[], working_folder=''):\n",
    "        QMainWindow.__init__(self, parent=parent)\n",
    "        self.ui = UiMainWindow()\n",
    "        self.ui.setupUi(self)\n",
    "        self.setWindowTitle(\"Select Rotation Angle for All Images\")\n",
    "\n",
    "        self.stack = np.array(stack)\n",
    "        self.integrated_stack = self.stack.sum(axis=0)\n",
    "        self.working_folder = working_folder\n",
    "\n",
    "        self.initialize_pyqtgraph()\n",
    "        self.init_label()\n",
    "\n",
    "        self.display_image()\n",
    "        self.update_x_axis()\n",
    "        self.roi_changed()\n",
    "        \n",
    "    def init_label(self):\n",
    "        _tof_label = u\"TOF (\\u00B5s)\"\n",
    "        self.ui.tof_radio_button.setText(_tof_label)\n",
    "        _lambda_label = u\"lambda (\\u212B)\"\n",
    "        self.ui.lambda_radio_button.setText(_lambda_label)\n",
    "        _offset_label = u\"\\u00B5s\"\n",
    "        self.ui.detector_offset_units.setText(_offset_label)\n",
    "\n",
    "    def display_image(self):\n",
    "        self.ui.image_view.setImage(self.integrated_stack)\n",
    "\n",
    "    def plot(self):\n",
    "        x_axis_data = self.x_axis['data']\n",
    "        x_axis_label = self.x_axis['label']\n",
    "        \n",
    "        y_axis_data = self.y_axis['data']\n",
    "        y_axis_label = self.y_axis['label']\n",
    "        \n",
    "        print(len(y_axis_data))\n",
    "        \n",
    "        x_axis_data = x_axis_data[0: len(y_axis_data)]\n",
    "        \n",
    "        self.counts_vs_index.clear()\n",
    "        self.counts_vs_index.plot(x_axis_data, y_axis_data)\n",
    "        \n",
    "        self.counts_vs_index.setLabel('bottom', x_axis_label)\n",
    "        self.counts_vs_index.setLabel('left', y_axis_label)\n",
    "        \n",
    "    def initialize_pyqtgraph(self):\n",
    "        area = DockArea()\n",
    "        area.setVisible(True)\n",
    "        d1 = Dock(\"Image Integrated Preview\", size=(200, 300))\n",
    "        d2 = Dock(\"Counts vs Image Index of Selection\", size=(200, 100))\n",
    "\n",
    "        area.addDock(d1, 'top')\n",
    "        area.addDock(d2, 'bottom')\n",
    "\n",
    "        preview_widget = pg.GraphicsLayoutWidget()\n",
    "        pg.setConfigOptions(antialias=True)\n",
    "\n",
    "        # image view\n",
    "        self.ui.image_view = pg.ImageView()\n",
    "        self.ui.image_view.ui.menuBtn.hide()\n",
    "        self.ui.image_view.ui.roiBtn.hide()\n",
    "\n",
    "        # default ROI\n",
    "        self.ui.roi = pg.ROI(\n",
    "            [0, 0], [20, 20], pen=(62, 13, 244), scaleSnap=True)  #blue\n",
    "        self.ui.roi.addScaleHandle([1, 1], [0, 0])\n",
    "        self.ui.image_view.addItem(self.ui.roi)\n",
    "        self.ui.roi.sigRegionChanged.connect(self.roi_changed)\n",
    "        d1.addWidget(self.ui.image_view)\n",
    "\n",
    "        self.counts_vs_index = pg.PlotWidget(title='')\n",
    "        self.counts_vs_index.plot()\n",
    "        d2.addWidget(self.counts_vs_index)\n",
    "\n",
    "        vertical_layout = QtGui.QVBoxLayout()\n",
    "        vertical_layout.addWidget(area)\n",
    "\n",
    "        self.ui.widget.setLayout(vertical_layout)\n",
    "\n",
    "    def roi_changed(self):\n",
    "        region = self.ui.roi.getArraySlice(self.integrated_stack,\n",
    "                                           self.ui.image_view.imageItem)\n",
    "        x0 = region[0][0].start\n",
    "        x1 = region[0][0].stop - 1\n",
    "        y0 = region[0][1].start\n",
    "        y1 = region[0][1].stop - 1\n",
    "\n",
    "        mean_selection = [_data[y0:y1, x0:x1].mean() for _data in self.stack]\n",
    "        self.y_axis['data'] = mean_selection\n",
    "        self.plot()\n",
    "\n",
    "    # x_axis\n",
    "    def get_x_axis_selected(self):\n",
    "        if self.ui.file_index_ratio_button.isChecked():\n",
    "            return 'file_index'\n",
    "        elif self.ui.tof_radio_button.isChecked():\n",
    "            return 'tof'\n",
    "        else:\n",
    "            return 'lambda'\n",
    "\n",
    "    def update_x_axis(self):\n",
    "        x_axis_selected = self.get_x_axis_selected()\n",
    "\n",
    "        spectra_file = self.spectra_file\n",
    "        if not os.path.exists(spectra_file):\n",
    "            x_axis_selected = 'file_index'\n",
    "\n",
    "        distance_source_detector = self.ui.distance_source_detector_value.text()\n",
    "        if not isinstance(distance_source_detector, numbers.Number):\n",
    "            x_axis_selected = 'file_index'\n",
    "\n",
    "        detector_offset = self.ui.detector_offset_value.text()\n",
    "        if not isinstance(detector_offset, numbers.Number):\n",
    "            x_axis_selected = 'file_index'\n",
    "\n",
    "        self.x_axis['type'] = x_axis_selected\n",
    "        if x_axis_selected == 'file_index':\n",
    "            self.x_axis['data'] = np.arange(len(self.integrated_stack))\n",
    "            self.x_axis['label'] = 'File Index'\n",
    "        else:\n",
    "            _tof_handler = TOF(filename=spectra_file)\n",
    "            if x_axis_selected == 'tof':\n",
    "                self.x_axis['data'] = _tof_handler.tof_array\n",
    "                self.x_axis['label'] = u'TOF (/u00B5s)'\n",
    "            else:\n",
    "                _exp = Experiment(tof = _tof_handler.tof_array, \n",
    "                                  display_tance_source_detector_m = distance_source_detector,\n",
    "                                  detector_offset_micros = detector_offset)\n",
    "                self.x_axis['data'] = _exp.lambda_array\n",
    "                self.x_axis['label'] = u'\\u0394\\u03BB:'\n",
    "                \n",
    "    def distance_source_detector_validated(self):\n",
    "        pass\n",
    "\n",
    "    def detector_offset_validated(self):\n",
    "        pass\n",
    "\n",
    "    def time_spectra_file_browse_button_clicked(self):\n",
    "        spectra_file = QFileDialog.getOpenFileName(\n",
    "            caption='Select Time Spectra',\n",
    "            directory=self.working_folder,\n",
    "            filter='txt (*_Spectra.txt);;All (*.*)')\n",
    "        if spectra_file:\n",
    "            self.ui.time_spectra_file.setText(os.path.basename(spectra_file))\n",
    "            self.spectra_file = spectra_file\n",
    "            self.update_x_axis()\n",
    "            self.plot()\n",
    "\n",
    "    def done_button_clicked(self):\n",
    "        self.close()\n",
    "\n",
    "    def closeEvent(self, event=None):\n",
    "        pass\n",
    "\n",
    "\n",
    "_image = ImageWindow(\n",
    "    stack=(o_norm.data['sample']['data']), working_folder=working_folder)\n",
    "_image.show()"
   ]
  },
  {
   "cell_type": "code",
   "execution_count": null,
   "metadata": {
    "collapsed": true
   },
   "outputs": [],
   "source": []
  },
  {
   "cell_type": "code",
   "execution_count": null,
   "metadata": {
    "collapsed": true
   },
   "outputs": [],
   "source": []
  },
  {
   "cell_type": "code",
   "execution_count": null,
   "metadata": {
    "collapsed": true
   },
   "outputs": [],
   "source": []
  },
  {
   "cell_type": "code",
   "execution_count": null,
   "metadata": {
    "collapsed": true
   },
   "outputs": [],
   "source": []
  },
  {
   "cell_type": "code",
   "execution_count": null,
   "metadata": {
    "collapsed": true
   },
   "outputs": [],
   "source": []
  },
  {
   "cell_type": "code",
   "execution_count": null,
   "metadata": {
    "collapsed": true
   },
   "outputs": [],
   "source": []
  },
  {
   "cell_type": "code",
   "execution_count": null,
   "metadata": {
    "format": "tab",
    "run_control": {
     "frozen": false,
     "read_only": false
    }
   },
   "outputs": [],
   "source": [
    "from __code.ui_display_counts_of_region_vs_stack import Ui_MainWindow as UiMainWindow\n",
    "\n",
    "class ImageWindow(QMainWindow):\n",
    "    \n",
    "    grid_size = 100\n",
    "    live_data = []\n",
    "    \n",
    "    def __init__(self, parent=None):\n",
    "        QMainWindow.__init__(self, parent=parent)\n",
    "        self.ui = UiMainWindow()\n",
    "        self.ui.setupUi(self)\n",
    "        self.init_statusbar()\n",
    "        self.setWindowTitle(\"Select Rotation Angle for All Images\")\n",
    "        \n",
    "        self.ui.image_view = pg.ImageView()\n",
    "        self.ui.image_view.ui.roiBtn.hide()\n",
    "        self.ui.image_view.ui.menuBtn.hide()\n",
    "        \n",
    "        bottom_layout = QtGui.QHBoxLayout()\n",
    "\n",
    "        # file index slider\n",
    "        label_1 = QtGui.QLabel(\"File Index\")\n",
    "        self.ui.slider = QtGui.QSlider(QtCore.Qt.Horizontal)\n",
    "        self.ui.slider.setMaximum(len(list_images)-1)\n",
    "        self.ui.slider.setMinimum(0)\n",
    "        self.ui.slider.valueChanged.connect(self.file_index_changed)\n",
    "        \n",
    "        # spacer\n",
    "        spacer = QtGui.QSpacerItem(40, 20, QtGui.QSizePolicy.Expanding, QtGui.QSizePolicy.Minimum)\n",
    "\n",
    "        # rotation value\n",
    "        label_2 = QtGui.QLabel(\"Rotation (degrees)\")\n",
    "        self.ui.rotation_value = QtGui.QLineEdit('0')\n",
    "        self.ui.rotation_value.setMaximumWidth(50)\n",
    "        self.ui.rotation_value.returnPressed.connect(self.rotation_value_changed)\n",
    "        \n",
    "        bottom_layout.addWidget(label_1)\n",
    "        bottom_layout.addWidget(self.ui.slider)\n",
    "        bottom_layout.addItem(spacer)\n",
    "        bottom_layout.addWidget(label_2)\n",
    "        bottom_layout.addWidget(self.ui.rotation_value)\n",
    "\n",
    "        bottom_widget = QtGui.QWidget()\n",
    "        bottom_widget.setLayout(bottom_layout)\n",
    "        \n",
    "        vertical_layout = QtGui.QVBoxLayout()\n",
    "        vertical_layout.addWidget(self.ui.image_view)\n",
    "        vertical_layout.addWidget(bottom_widget)\n",
    "\n",
    "        self.ui.widget.setLayout(vertical_layout)\n",
    "        \n",
    " #       self.rotated_working_data = working_data\n",
    " #       self.working_data = working_data\n",
    "        \n",
    "        self.init_imageview()\n",
    "#        self.display_grid()\n",
    "#        self.display_crop_region()\n",
    "        \n",
    "    def init_statusbar(self):\n",
    "        self.eventProgress = QtGui.QProgressBar(self.ui.statusbar)\n",
    "        self.eventProgress.setMinimumSize(20, 14)\n",
    "        self.eventProgress.setMaximumSize(540, 100)\n",
    "        self.eventProgress.setVisible(False)\n",
    "        self.ui.statusbar.addPermanentWidget(self.eventProgress)\n",
    "        \n",
    "    def display_crop_region(self):\n",
    "        [image_height, image_width] = self.get_image_dimension(self.rotated_working_data)\n",
    "        x0, y0 = 0, 0\n",
    "        width = image_width-1\n",
    "        height = image_height-1\n",
    "        \n",
    "        roi = pg.ROI([x0, y0], [height, width], pen=(209, 230, 27), scaleSnap=True)\n",
    "        roi.addScaleHandle([1,1], [0,0])\n",
    "        self.ui.image_view.addItem(roi)\n",
    "        self.roi = roi\n",
    "        \n",
    "    def get_image_dimension(self, array_image):\n",
    "        if len(np.shape(array_image)) > 2:\n",
    "            return np.shape(array_image[0])\n",
    "        else:\n",
    "            return np.shape(array_image)\n",
    "        \n",
    "    def get_selected_image(self, file_index):\n",
    "\n",
    "        if len(np.shape(working_data)) > 2:\n",
    "            return self.working_data[file_index]\n",
    "        else:\n",
    "            return self.working_data\n",
    "        \n",
    "    def display_grid(self):\n",
    "        [width, height] = self.get_image_dimension(self.rotated_working_data)\n",
    "        bin_size = self.grid_size\n",
    "        x0 = 0\n",
    "        y0 = 0\n",
    "        \n",
    "        pos_adj_dict = {}\n",
    "\n",
    "        nbr_height_bins = np.float(height) / np.float(bin_size)\n",
    "        real_height = y0 + np.int(nbr_height_bins) * np.int(bin_size)\n",
    "        \n",
    "        nbr_width_bins = np.float(width) / np.float(bin_size)\n",
    "        read_width = x0 + np.int(nbr_width_bins) * np.int(bin_size)\n",
    "        \n",
    "        # pos (each matrix is one side of the lines)\n",
    "        pos = []\n",
    "        adj = []\n",
    "\n",
    "        # vertical lines\n",
    "        x = x0\n",
    "        index = 0\n",
    "        while (x <= x0 + width):\n",
    "            one_edge = [x, y0]\n",
    "            other_edge = [x, real_height]\n",
    "            pos.append(one_edge)\n",
    "            pos.append(other_edge)\n",
    "            adj.append([index, index+1])\n",
    "            x += bin_size\n",
    "            index += 2\n",
    "            \n",
    "        # horizontal lines\n",
    "        y = y0\n",
    "        while (y <= y0 + height):\n",
    "            one_edge = [x0, y]\n",
    "            other_edge = [read_width, y]\n",
    "            pos.append(one_edge)\n",
    "            pos.append(other_edge)\n",
    "            adj.append([index, index+1])\n",
    "            y += bin_size\n",
    "            index += 2\n",
    "\n",
    "        pos = np.array(pos)\n",
    "        adj = np.array(adj)\n",
    "        \n",
    "        line_color = (255, 0, 0, 155, 0.2)\n",
    "        lines = np.array([line_color for n in np.arange(len(pos))],\n",
    "                             dtype=[('red',np.ubyte),('green',np.ubyte),\n",
    "                                    ('blue',np.ubyte),('alpha',np.ubyte),\n",
    "                                   ('width',float)]) \n",
    "    \n",
    "        line_view_binning = pg.GraphItem()\n",
    "        self.ui.image_view.addItem(line_view_binning)\n",
    "        line_view_binning.setData(pos = pos,\n",
    "                                 adj = adj,\n",
    "                                 pen = lines,\n",
    "                                 symbol = None,\n",
    "                                 pxMode = False)\n",
    "        \n",
    "        self.line_view_binning = line_view_binning\n",
    "\n",
    "    def init_imageview(self):\n",
    "        image = self.get_selected_image(0)\n",
    "        self.ui.image_view.setImage(image)\n",
    "        self.live_data = image\n",
    "        \n",
    "    def rotation_value_changed(self):\n",
    "        _rotation_value = np.float(str(self.ui.rotation_value.text()))\n",
    "        _file_index = self.ui.slider.value()\n",
    "    \n",
    "        rotated_data = scipy.ndimage.interpolation.rotate(self.get_selected_image(_file_index), _rotation_value)\n",
    "        self.live_data = rotated_data\n",
    "        self.ui.image_view.removeItem(self.line_view_binning)\n",
    "        self.display_grid()\n",
    "        self.ui.image_view.setImage(rotated_data)\n",
    "    \n",
    "    def rotate_and_crop_all(self):\n",
    "        global rotated_working_data            \n",
    "\n",
    "        #FIXME\n",
    "        #inform user that the window will close by itself and it's still doing something\n",
    "        \n",
    "        region = self.roi.getArraySlice(self.live_data,\n",
    "                                        self.ui.image_view.imageItem)\n",
    "                                        \n",
    "        x0 = region[0][0].start\n",
    "        x1 = region[0][0].stop-1\n",
    "        y0 = region[0][1].start\n",
    "        y1 = region[0][1].stop-1\n",
    "        \n",
    "        self.eventProgress.setValue(0)\n",
    "        self.eventProgress.setMaximum(len(self.working_data))\n",
    "        self.eventProgress.setVisible(True)\n",
    "        \n",
    "        _rotation_value = np.float(str(self.ui.rotation_value.text()))\n",
    "        self.rotated_working_data = []\n",
    "        \n",
    "        if len(np.shape(self.working_data)) == 2:\n",
    "            self.working_data = [self.working_data]\n",
    "        \n",
    "        for _index, _data in enumerate(self.working_data):\n",
    "            # rotate image\n",
    "            rotated_data = scipy.ndimage.interpolation.rotate(_data, _rotation_value)\n",
    "            rotated_data = rotated_data[y0:y1+1, x0:x1+1]\n",
    "            self.rotated_working_data.append(rotated_data)\n",
    "            self.eventProgress.setValue(_index+1)\n",
    "            QtGui.QApplication.processEvents()\n",
    "    \n",
    "        self.file_index_changed()\n",
    "        self.ui.image_view.removeItem(self.line_view_binning)\n",
    "        self.display_grid()\n",
    "        \n",
    "        rotated_working_data = self.rotated_working_data\n",
    "        self.eventProgress.setVisible(False)\n",
    "    \n",
    "    def apply_clicked(self):\n",
    "        self.rotate_and_crop_all()\n",
    "        self.close()\n",
    "        \n",
    "    def cancel_clicked(self):\n",
    "        self.close()\n",
    "    \n",
    "    def file_index_changed(self):\n",
    "        self.rotation_value_changed()\n",
    "        \n",
    "    def display_image(self, image):\n",
    "        self.ui.image_view.setImage(image)\n",
    "        \n",
    "    def closeEvent(self, event=None):\n",
    "        global rotation_angle\n",
    "        rotation_angle = np.float(str(self.ui.rotation_value.text()))\n",
    "        \n",
    "_image = ImageWindow()\n",
    "_image.show()\n",
    "\n",
    "\n",
    "display(HTML('<span style=\"font-size: 20px; color:blue\">Select the rotation angle in the UI that poped up \\\n",
    "(maybe hidden behind this browser!)</span>'))"
   ]
  },
  {
   "cell_type": "markdown",
   "metadata": {
    "run_control": {
     "frozen": false,
     "read_only": false
    }
   },
   "source": [
    "# Export Images "
   ]
  },
  {
   "cell_type": "code",
   "execution_count": 8,
   "metadata": {
    "run_control": {
     "frozen": false,
     "read_only": false
    }
   },
   "outputs": [
    {
     "data": {
      "text/html": [
       "<span style=\"font-size: 20px; color:blue\">Select the folder that will contain the rotated images!</span>"
      ],
      "text/plain": [
       "<IPython.core.display.HTML object>"
      ]
     },
     "metadata": {},
     "output_type": "display_data"
    },
    {
     "data": {
      "application/vnd.jupyter.widget-view+json": {
       "model_id": "d1fb16ea64bd4dc0b24384346a940508"
      }
     },
     "metadata": {},
     "output_type": "display_data"
    }
   ],
   "source": [
    "display(HTML('<span style=\"font-size: 20px; color:blue\">Select the folder that will contain the rotated images!</span>'))\n",
    "\n",
    "output_folder = gui_widgets.gui_dname(dir=working_dir, message='Select the Output Folder ...')\n",
    "\n",
    "if output_folder:\n",
    "        \n",
    "    w = widgets.IntProgress()\n",
    "    w.max = len(list_images)\n",
    "    display(w)\n",
    "    \n",
    "    for _index, _file in enumerate(list_images):\n",
    "        _base_name = os.path.basename(_file)\n",
    "        [base, ext] = os.path.splitext(_base_name)\n",
    "        _full_file_name = os.path.join(output_folder, base + '_rot_{}'.format(np.int(rotation_angle)) + '.tiff')\n",
    "        file_handler.make_tiff(data=rotated_working_data[_index], filename=_full_file_name)\n",
    "    \n",
    "        w.value = _index + 1"
   ]
  },
  {
   "cell_type": "code",
   "execution_count": null,
   "metadata": {
    "run_control": {
     "frozen": false,
     "read_only": false
    }
   },
   "outputs": [],
   "source": []
  }
 ],
 "metadata": {
  "anaconda-cloud": {},
  "kernelspec": {
   "display_name": "Python [conda env:py35]",
   "language": "python",
   "name": "conda-env-py35-py"
  },
  "language_info": {
   "codemirror_mode": {
    "name": "ipython",
    "version": 3
   },
   "file_extension": ".py",
   "mimetype": "text/x-python",
   "name": "python",
   "nbconvert_exporter": "python",
   "pygments_lexer": "ipython3",
   "version": "3.5.3"
  },
  "toc": {
   "colors": {
    "hover_highlight": "#DAA520",
    "running_highlight": "#FF0000",
    "selected_highlight": "#FFD700"
   },
   "moveMenuLeft": true,
   "nav_menu": {
    "height": "120px",
    "width": "252px"
   },
   "navigate_menu": true,
   "number_sections": true,
   "sideBar": true,
   "threshold": 4,
   "toc_cell": false,
   "toc_section_display": "block",
   "toc_window_display": false
  },
  "widgets": {
   "state": {
    "9b062f2ffa8e480095f7285a40b5931c": {
     "views": [
      {
       "cell_index": 9
      }
     ]
    }
   },
   "version": "1.2.0"
  }
 },
 "nbformat": 4,
 "nbformat_minor": 1
}
