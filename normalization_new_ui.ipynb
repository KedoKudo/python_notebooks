{
 "cells": [
  {
   "cell_type": "markdown",
   "metadata": {
    "run_control": {
     "frozen": false,
     "read_only": false
    }
   },
   "source": [
    "# Select Your IPTS "
   ]
  },
  {
   "cell_type": "code",
   "execution_count": 63,
   "metadata": {
    "run_control": {
     "frozen": false,
     "read_only": false
    }
   },
   "outputs": [
    {
     "name": "stdout",
     "output_type": "stream",
     "text": [
      "** Using Debugging Mode! **\n"
     ]
    },
    {
     "data": {
      "application/vnd.jupyter.widget-view+json": {
       "model_id": "634105bdbc4148db929cdeee9d308cce",
       "version_major": 2,
       "version_minor": 0
      },
      "text/html": [
       "<p>Failed to display Jupyter Widget of type <code>HBox</code>.</p>\n",
       "<p>\n",
       "  If you're reading this message in Jupyter Notebook or JupyterLab, it may mean\n",
       "  that the widgets JavaScript is still loading. If this message persists, it\n",
       "  likely means that the widgets JavaScript library is either not installed or\n",
       "  not enabled. See the <a href=\"https://ipywidgets.readthedocs.io/en/stable/user_install.html\">Jupyter\n",
       "  Widgets Documentation</a> for setup instructions.\n",
       "</p>\n",
       "<p>\n",
       "  If you're reading this message in another notebook frontend (for example, a static\n",
       "  rendering on GitHub or <a href=\"https://nbviewer.jupyter.org/\">NBViewer</a>),\n",
       "  it may mean that your frontend doesn't currently support widgets.\n",
       "</p>\n"
      ],
      "text/plain": [
       "HBox(children=(Label(value='Select Working Folder', layout=Layout(width='20%')), Select(index=11, options=('BraggEdge', 'Brianne', 'DOE_letters', 'FITSimages', 'IPTS-12534', 'IPTS-16259', 'IPTS_13639_resonance_shawn', 'IPTS_14832', 'IPTS_16212', 'IPTS_16475', 'IPTS_16893', 'IPTS_17099', 'IPTS_17685', 'IPTS_17981', 'IPTS_18806', 'IPTS_19037', 'IPTS_19558', 'IPTS_test_normalization', 'IPTS_testing_time_spectra', 'ImagesToRegisterForGian', 'Indu', 'Keita_code', 'Pour_ibeatles_video', 'ResonanceImaging', 'SENSITIVE', 'SarmaGUI', 'SphereCoordinates3D', 'TempData', 'iBeatles_debugging'), value='IPTS_17099')))"
      ]
     },
     "metadata": {},
     "output_type": "display_data"
    }
   ],
   "source": [
    "from __code import system\n",
    "system.System.select_working_dir()"
   ]
  },
  {
   "cell_type": "markdown",
   "metadata": {
    "run_control": {
     "frozen": false,
     "read_only": false
    }
   },
   "source": [
    "# Description "
   ]
  },
  {
   "cell_type": "markdown",
   "metadata": {
    "run_control": {
     "frozen": false,
     "read_only": false
    }
   },
   "source": [
    "This notebook performs the normalization of a set of images (tiff or fits) by OBs. \n",
    "\n",
    "The steps are:\n",
    " - select your **sample images**\n",
    " - select your **ob images**\n",
    " - select your **df images** (optional)\n",
    " - all the data will be loaded\n",
    " - preview of the sample and ob\n",
    " - selection of a **background** region in the sample data\n",
    " - normalization is performed\n",
    " - export of the normalized data"
   ]
  },
  {
   "cell_type": "markdown",
   "metadata": {
    "run_control": {
     "frozen": false,
     "read_only": false
    }
   },
   "source": [
    "# Python Import"
   ]
  },
  {
   "cell_type": "code",
   "execution_count": 64,
   "metadata": {
    "run_control": {
     "frozen": false,
     "read_only": false
    }
   },
   "outputs": [
    {
     "data": {
      "text/html": [
       "<style>\n",
       "\n",
       "/* The following CSS has been adapted from\n",
       "   http://nbviewer.ipython.org/github/ketch/teaching-numerics-with-notebooks/blob/master/Styling_notebooks.ipynb\n",
       "   by Aron Ahmadia and David Ketcheson and has been reused under CC BY 4.0\n",
       "   */\n",
       "\n",
       "/* main background */\n",
       "#site { \n",
       "    background: #888;\n",
       "    color: #red; \n",
       "}\n",
       "\n",
       "div.container {\n",
       "    width: 100% ! important;\n",
       "}\n",
       "\n",
       "div.cell { /* set cell width to about 80 chars */\n",
       "    width: 95%;\n",
       "}\n",
       "\n",
       "div #notebook { /* centre the content */\n",
       "/*    background: #fff; /* white background for content */\n",
       "    background: blue;\n",
       "    width: 100%;\n",
       "    margin: auto;\n",
       "    padding-left: 1em;\n",
       "    padding-right: 1em;\n",
       "    background-image: url(\"tile_background.jpg\");\n",
       "}\n",
       "\n",
       "#notebook li { /* More space between bullet points */\n",
       "    margin-top:0.4em;\n",
       "}\n",
       "\n",
       "/* change background color of running cells */\n",
       "div.cell.code_cell.running {\n",
       "/*    background-color: rgba(164,188,194,.75); */\n",
       "    background-color: green;\n",
       "    border-width: 8px\n",
       "    border-style: solid\n",
       "    border-color: #111;\n",
       "}\n",
       "\n",
       "/* Put a solid color box around each cell and its output, visually linking them together */\n",
       "div.cell.code_cell {\n",
       "    background-color: rgba(164,188,194,.25); /* Continuum L Gray with alpha 0.25 */\n",
       "    border-radius: 10px; /* rounded borders */\n",
       "    padding: 1em;\n",
       "    margin-top: 1em;\n",
       "}\n",
       "\n",
       "div.text_cell_render{\n",
       "\tfont-family: Georgia, Times, 'Times New Roman', serif;\n",
       "    line-height: 110%;\n",
       "    font-size: 105%;\n",
       "    width: 95%;\n",
       "    margin-left: auto;\n",
       "    margin-right: auto;\n",
       "}\n",
       "\n",
       "\n",
       "/* Formatting for header cells */\n",
       ".text_cell_render h1 {\n",
       "\tfont-family: Arial, 'Helvetica Neue', Helvetica, sans-serif;\n",
       "    font-weight: 400;\n",
       "    font-size: 30pt;\n",
       "    line-height: 100%;\n",
       "    color: rgb(37,55,70); /* Continuum Blue*/\n",
       "    margin-bottom: 0.1em;\n",
       "    margin-top: 0.1em;\n",
       "    display: block;\n",
       "}\n",
       ".text_cell_render h2 {\n",
       "\tfont-family: Arial, 'Helvetica Neue', Helvetica, sans-serif;\n",
       "    font-weight: 700;\n",
       "    font-size: 22pt;\n",
       "    line-height: 100%;\n",
       "    color: rgb(37,55,70);\n",
       "    margin-bottom: 0.1em;\n",
       "    margin-top: 0.1em;\n",
       "    display: block;\n",
       "}\n",
       "\n",
       ".text_cell_render h3 {\n",
       "\tfont-family: Arial, 'Helvetica Neue', Helvetica, sans-serif;\n",
       "    margin-top:12px;\n",
       "    margin-bottom: 3px;\n",
       "    font-style: italic;\n",
       "    color: rgb(37, 55, 70);\n",
       "}\n",
       "\n",
       ".text_cell_render h4 {\n",
       "\tfont-family: Arial, 'Helvetica Neue', Helvetica, sans-serif;\n",
       "}\n",
       "\n",
       ".text_cell_render h5 {\n",
       "\tfont-family: Arial, 'Helvetica Neue', Helvetica, sans-serif;\n",
       "    font-weight: 300;\n",
       "    font-size: 14pt;\n",
       "    font-style: italic;\n",
       "    margin-bottom: .1em;\n",
       "    margin-top: 0.1em;\n",
       "    display: block;\n",
       "}\n",
       "\n",
       ".text_cell_render h6 {\n",
       "\tfont-family: Arial, 'Helvetica Neue', Helvetica, sans-serif;\n",
       "    font-weight: 300;\n",
       "    font-size: 10pt;\n",
       "    margin-bottom: 1px;\n",
       "    margin-top: 1px;\n",
       "}\n",
       "\n",
       ".CodeMirror{\n",
       "        font-family: \"PT Mono\", fixed;\n",
       "        font-size: 100%;\n",
       "}\n",
       "\n",
       "#notebook_panel { /* main background */\n",
       "    background-image: url(\"tile_background.jpg\");\n",
       "}\n",
       "\n",
       "\n",
       "\n",
       "\n",
       "</style>\n"
      ],
      "text/plain": [
       "<IPython.core.display.HTML object>"
      ]
     },
     "execution_count": 64,
     "metadata": {},
     "output_type": "execute_result"
    }
   ],
   "source": [
    "from __code.__all import custom_style\n",
    "custom_style.style()"
   ]
  },
  {
   "cell_type": "code",
   "execution_count": 65,
   "metadata": {
    "run_control": {
     "frozen": false,
     "read_only": false
    }
   },
   "outputs": [],
   "source": [
    "from __code.normalization import NormalizationHandler"
   ]
  },
  {
   "cell_type": "code",
   "execution_count": 66,
   "metadata": {
    "run_control": {
     "frozen": false,
     "read_only": false
    }
   },
   "outputs": [],
   "source": [
    "%matplotlib notebook"
   ]
  },
  {
   "cell_type": "code",
   "execution_count": 67,
   "metadata": {
    "collapsed": true
   },
   "outputs": [],
   "source": [
    "from ipywidgets import widgets, Layout\n",
    "from IPython.core.display import display\n",
    "import ipywe.fileselector\n"
   ]
  },
  {
   "cell_type": "code",
   "execution_count": 68,
   "metadata": {},
   "outputs": [],
   "source": [
    "def close(w):\n",
    "    \"recursively close a widget\"\n",
    "    if hasattr(w, 'children'):\n",
    "        for c in w.children:\n",
    "            close(c)\n",
    "            continue\n",
    "    w.close()\n",
    "    return\n",
    "\n",
    "class Panel:\n",
    "    \n",
    "    layout = Layout(border='1px lightgray solid', margin='5px', padding='15px')\n",
    "    button_layout = Layout(margin='10px 5px 5px 5px')\n",
    "    label_layout = Layout(height='32px', padding='2px', width='300px')\n",
    "    \n",
    "    def show(self):\n",
    "        display(self.top_panel)\n",
    "        display(self.bottom_panel)\n",
    "        self.file_selector.show()\n",
    "        \n",
    "    def remove(self):\n",
    "        close(self.top_panel)\n",
    "        close(self.bottom_panel)\n",
    "        self.file_selector.remove()\n",
    "        \n",
    "    def nextStep(self):\n",
    "        raise NotImplementedError\n",
    "        "
   ]
  },
  {
   "cell_type": "code",
   "execution_count": 69,
   "metadata": {},
   "outputs": [],
   "source": [
    "class WizardPanel:\n",
    "    \n",
    "    label_layout = Layout(border='1px lighgray solide', height='35px', padding='8px', width='300px')\n",
    "    \n",
    "    def __init__(self, start_panel):\n",
    "        display(widgets.Label(\"STEP 1: Selection of Input Files\",\n",
    "                             layout=self.label_layout))\n",
    "        start_panel.show()\n",
    "        return\n",
    "        "
   ]
  },
  {
   "cell_type": "code",
   "execution_count": 80,
   "metadata": {
    "collapsed": true
   },
   "outputs": [],
   "source": [
    "class myFileSelectorPanel(ipywe.fileselector.FileSelectorPanel):\n",
    "    \n",
    "    def __init__(self, instruction, start_dir=\".\", type='file', \n",
    "                 next=None, multiple=False, \n",
    "                 newdir_toolbar_button=False, \n",
    "                 current_ui=None\n",
    "                 parent_ui=None):\n",
    "        super(myFileSelectorPanel, self).__init__(instruction, \n",
    "                                                  start_dir= start_dir, \n",
    "                                                  type=type, \n",
    "                                                  next=next, \n",
    "                                                  multiple=multiple,\n",
    "                                                  newdir_toolbar_button=newdir_toolbar_button)\n",
    "        self.current_ui = current_ui\n",
    "        self.parent_ui = parent_ui\n",
    "    \n",
    "    def validate(self, s):\n",
    "        self.current_ui.status_label.value = \"{}\".format(len(self.parent_ui.sample_files))\n",
    "        super(myFileSelectorPanel, self).validate(s)\n",
    "        "
   ]
  },
  {
   "cell_type": "code",
   "execution_count": 81,
   "metadata": {},
   "outputs": [],
   "source": [
    "class SampleSelectionPanel(Panel):\n",
    "\n",
    "    sample_files = []\n",
    "    ob_files = []\n",
    "    df_files = []\n",
    "\n",
    "    def __init__(self):\n",
    "        \n",
    "        # top panel\n",
    "        sample_title_ui = widgets.HBox([widgets.Label(\"Instructions:\",\n",
    "                                                     layout = widgets.Layout(width='20%')),\n",
    "                                       widgets.Label(\"Select Samples Images and click NEXT\",\n",
    "                                                    layout = widgets.Layout(width='50%'))])\n",
    "\n",
    "        sample_label_ui = widgets.HBox([widgets.Label(\"Sample selected:\",\n",
    "                                                     layout = widgets.Layout(width='20%')),\n",
    "                                       widgets.Label(\"None\",\n",
    "                                                    layout = widgets.Layout(width='50%')),\n",
    "                                       ])\n",
    "        self.status_label = sample_label_ui.children[1]\n",
    "        \n",
    "        self.top_panel = widgets.VBox(children=[sample_title_ui, sample_label_ui],\n",
    "                                 layout=self.layout)\n",
    "        \n",
    "        # bottom panel\n",
    "        self.bottom_panel = widgets.HBox([widgets.Label(\"         \",\n",
    "                                             layout=widgets.Layout(width='70%')),\n",
    "                               widgets.Button(description = \"Next (Open Beam)  >>\",\n",
    "                                              tooltip = 'Click to move to next step',\n",
    "                                              button_style = 'info',\n",
    "                                             layout=widgets.Layout(width='20%'))])\n",
    "        \n",
    "        # file selector        \n",
    "        self.file_selector = myFileSelectorPanel(instruction='',\n",
    "                                                 start_dir = system.System.get_working_dir(),\n",
    "                                                 multiple = True,\n",
    "                                                 current_ui = self,\n",
    "                                                 parent_ui = self)\n",
    "#         self.file_selector = ipywe.fileselector.FileSelectorPanel(instruction='',\n",
    "#                                                              start_dir = system.System.get_working_dir(),\n",
    "#                                                             multiple = True)\n",
    "\n",
    "        next_button = self.bottom_panel.children[1]\n",
    "        next_button.on_click(self.next_panel)\n",
    "\n",
    "    def next_panel(self, event):\n",
    "        try:\n",
    "            self.sample_files = self.file_selector.selected\n",
    "        except:\n",
    "            self.sample_files = []\n",
    "        \n",
    "        self.remove()\n",
    "        _panel = OBSelectionPanel(top_parent=self)\n",
    "        _panel.show()\n",
    "\n",
    "        "
   ]
  },
  {
   "cell_type": "code",
   "execution_count": 82,
   "metadata": {},
   "outputs": [],
   "source": [
    "class OBSelectionPanel(Panel):\n",
    "    \n",
    "    def __init__(self, top_parent=None):\n",
    "        \n",
    "        self.parent = top_parent\n",
    "        \n",
    "        # top panel\n",
    "        sample_title_ui = widgets.HBox([widgets.Label(\"Instructions:\",\n",
    "                                                     layout = widgets.Layout(width='20%')),\n",
    "                                       widgets.Label(\"Select OB Images and click NEXT\",\n",
    "                                                    layout = widgets.Layout(width='50%'))])\n",
    "\n",
    "        nbr_ob = len(self.parent.ob_files)\n",
    "        if nbr_ob > 0:\n",
    "            ob_selected = \"{}\".format(nbr_ob)\n",
    "        else:\n",
    "            ob_selected = None\n",
    "        \n",
    "        sample_label_ui = widgets.HBox([widgets.Label(\"OB selected:\",\n",
    "                                                     layout = widgets.Layout(width='20%')),\n",
    "                                       widgets.Label(ob_selected,\n",
    "                                                    layout = widgets.Layout(width='50%')),\n",
    "                                       ])\n",
    "        self.status_label = sample_label_ui.children[1]\n",
    "        \n",
    "        self.top_panel = widgets.VBox(children=[sample_title_ui, sample_label_ui],\n",
    "                                 layout=self.layout)\n",
    "\n",
    "        \n",
    "        # bottom panel\n",
    "        self.bottom_panel = widgets.HBox([widgets.Button(description = \"<< Previous (Sample)\",\n",
    "                                                  tooltip = 'Click to move to previous step',\n",
    "                                                  button_style = 'info',\n",
    "                                                 layout=widgets.Layout(width='20%')),\n",
    "                                          widgets.Label(\"         \",\n",
    "                                                 layout=widgets.Layout(width='70%')),\n",
    "                                          widgets.Button(description = \"Next (Dark Field)  >>\",\n",
    "                                                  tooltip = 'Click to move to next step',\n",
    "                                                  button_style = 'info',\n",
    "                                                 layout=widgets.Layout(width='20%'))])\n",
    "        \n",
    "        prev_button = self.bottom_panel.children[0]\n",
    "        prev_button.on_click(self.prev_panel)\n",
    "        \n",
    "        next_button = self.bottom_panel.children[2]\n",
    "        next_button.on_click(self.next_panel)\n",
    "\n",
    "        # file selector\n",
    "        self.file_selector = myFileSelectorPanel(instruction='',\n",
    "                                                 start_dir = system.System.get_working_dir(),\n",
    "                                                 multiple = True)\n",
    "#         self.file_selector = ipywe.fileselector.FileSelectorPanel(instruction='',\n",
    "#                                                              start_dir = system.System.get_working_dir(),\n",
    "#                                                             multiple = True)\n",
    "\n",
    "    def next_panel(self, event):\n",
    "        try:\n",
    "            self.parent.ob_files = self.file_selector.selected\n",
    "        except:\n",
    "            self.parent.ob_files = []\n",
    "        self.remove()\n",
    "        _panel = DFSelectionPanel(top_parent=self.parent)\n",
    "        _panel.show()\n",
    "        \n",
    "    def prev_panel(self, event):\n",
    "        self.remove()\n",
    "        _panel = SampleSelectionPanel(top_parent=self.parent)\n",
    "        _panel.show()\n"
   ]
  },
  {
   "cell_type": "code",
   "execution_count": 83,
   "metadata": {},
   "outputs": [],
   "source": [
    "class DFSelectionPanel(Panel):\n",
    "    \n",
    "    def __init__(self, top_parent=None):\n",
    "        \n",
    "        self.parent = top_parent\n",
    "        \n",
    "        # top panel\n",
    "        sample_title_ui = widgets.HBox([widgets.Label(\"Instructions:\",\n",
    "                                                     layout = widgets.Layout(width='20%')),\n",
    "                                       widgets.Label(\"Select DF Images and/or click NEXT\",\n",
    "                                                    layout = widgets.Layout(width='50%'))])\n",
    "\n",
    "        sample_label_ui = widgets.HBox([widgets.Label(\"DF selected:\",\n",
    "                                                     layout = widgets.Layout(width='20%')),\n",
    "                                       widgets.Label(\"None\",\n",
    "                                                    layout = widgets.Layout(width='50%')),\n",
    "                                       ])\n",
    "        self.status_label = sample_label_ui.children[1]\n",
    "\n",
    "        self.top_panel = widgets.VBox(children=[sample_title_ui, sample_label_ui],\n",
    "                                 layout=self.layout)\n",
    "        \n",
    "        # bottom panel\n",
    "        self.bottom_panel = widgets.HBox([widgets.Button(description = \"<< Previous (OB)\",\n",
    "                                                  tooltip = 'Click to move to previous step',\n",
    "                                                  button_style = 'info',\n",
    "                                                 layout=widgets.Layout(width='20%')),\n",
    "                                          widgets.Label(\"         \",\n",
    "                                                 layout=widgets.Layout(width='70%')),\n",
    "                                          widgets.Button(description = \"Next (Loading)  >>\",\n",
    "                                                  tooltip = 'Click to move to next step',\n",
    "                                                  button_style = 'info',\n",
    "                                                 layout=widgets.Layout(width='20%'))])\n",
    "        \n",
    "        prev_button = self.bottom_panel.children[0]\n",
    "        prev_button.on_click(self.prev_panel)\n",
    "        \n",
    "        next_button = self.bottom_panel.children[2]\n",
    "        next_button.on_click(self.next_panel)\n",
    "\n",
    "        # file selector\n",
    "        self.file_selector = ipywe.fileselector.FileSelectorPanel(instruction='',\n",
    "                                                             start_dir = system.System.get_working_dir(),\n",
    "                                                            multiple = True)\n",
    "\n",
    "    def next_panel(self, event):\n",
    "        try:\n",
    "            self.parent.df_files = self.file_selector.selected\n",
    "        except:\n",
    "            self.parent.df_files = []\n",
    "            \n",
    "        self.remove()\n",
    "        # loading\n",
    "        \n",
    "    def prev_panel(self, event):\n",
    "        self.remove()\n",
    "        _panel = OBSelectionPanel(top_parent=self.parent)\n",
    "        _panel.show()"
   ]
  },
  {
   "cell_type": "code",
   "execution_count": 84,
   "metadata": {
    "scrolled": false
   },
   "outputs": [
    {
     "data": {
      "application/vnd.jupyter.widget-view+json": {
       "model_id": "43743642a19f48ad99771dbde84fdba2",
       "version_major": 2,
       "version_minor": 0
      },
      "text/html": [
       "<p>Failed to display Jupyter Widget of type <code>HTML</code>.</p>\n",
       "<p>\n",
       "  If you're reading this message in Jupyter Notebook or JupyterLab, it may mean\n",
       "  that the widgets JavaScript is still loading. If this message persists, it\n",
       "  likely means that the widgets JavaScript library is either not installed or\n",
       "  not enabled. See the <a href=\"https://ipywidgets.readthedocs.io/en/stable/user_install.html\">Jupyter\n",
       "  Widgets Documentation</a> for setup instructions.\n",
       "</p>\n",
       "<p>\n",
       "  If you're reading this message in another notebook frontend (for example, a static\n",
       "  rendering on GitHub or <a href=\"https://nbviewer.jupyter.org/\">NBViewer</a>),\n",
       "  it may mean that your frontend doesn't currently support widgets.\n",
       "</p>\n"
      ],
      "text/plain": [
       "HTML(value='Please wait...')"
      ]
     },
     "metadata": {},
     "output_type": "display_data"
    },
    {
     "data": {
      "application/vnd.jupyter.widget-view+json": {
       "model_id": "2f602c1cd4a94f61b07645a80fc49f71",
       "version_major": 2,
       "version_minor": 0
      },
      "text/html": [
       "<p>Failed to display Jupyter Widget of type <code>Label</code>.</p>\n",
       "<p>\n",
       "  If you're reading this message in Jupyter Notebook or JupyterLab, it may mean\n",
       "  that the widgets JavaScript is still loading. If this message persists, it\n",
       "  likely means that the widgets JavaScript library is either not installed or\n",
       "  not enabled. See the <a href=\"https://ipywidgets.readthedocs.io/en/stable/user_install.html\">Jupyter\n",
       "  Widgets Documentation</a> for setup instructions.\n",
       "</p>\n",
       "<p>\n",
       "  If you're reading this message in another notebook frontend (for example, a static\n",
       "  rendering on GitHub or <a href=\"https://nbviewer.jupyter.org/\">NBViewer</a>),\n",
       "  it may mean that your frontend doesn't currently support widgets.\n",
       "</p>\n"
      ],
      "text/plain": [
       "Label(value='STEP 1: Selection of Input Files', layout=Layout(border='1px lighgray solide', height='35px', padding='8px', width='300px'))"
      ]
     },
     "metadata": {},
     "output_type": "display_data"
    },
    {
     "data": {
      "application/vnd.jupyter.widget-view+json": {
       "model_id": "1edb686bf3c64481a3a19c71a6021262",
       "version_major": 2,
       "version_minor": 0
      },
      "text/html": [
       "<p>Failed to display Jupyter Widget of type <code>VBox</code>.</p>\n",
       "<p>\n",
       "  If you're reading this message in Jupyter Notebook or JupyterLab, it may mean\n",
       "  that the widgets JavaScript is still loading. If this message persists, it\n",
       "  likely means that the widgets JavaScript library is either not installed or\n",
       "  not enabled. See the <a href=\"https://ipywidgets.readthedocs.io/en/stable/user_install.html\">Jupyter\n",
       "  Widgets Documentation</a> for setup instructions.\n",
       "</p>\n",
       "<p>\n",
       "  If you're reading this message in another notebook frontend (for example, a static\n",
       "  rendering on GitHub or <a href=\"https://nbviewer.jupyter.org/\">NBViewer</a>),\n",
       "  it may mean that your frontend doesn't currently support widgets.\n",
       "</p>\n"
      ],
      "text/plain": [
       "VBox(children=(HBox(children=(Label(value='Instructions:', layout=Layout(width='20%')), Label(value='Select Samples Images and click NEXT', layout=Layout(width='50%')))), HBox(children=(Label(value='Sample selected:', layout=Layout(width='20%')), Label(value='None', layout=Layout(width='50%'))))), layout=Layout(border='1px lightgray solid', margin='5px', padding='15px'))"
      ]
     },
     "metadata": {},
     "output_type": "display_data"
    },
    {
     "data": {
      "application/vnd.jupyter.widget-view+json": {
       "model_id": "362f1e45c8db4f2e98afed65aae8a1e6",
       "version_major": 2,
       "version_minor": 0
      },
      "text/html": [
       "<p>Failed to display Jupyter Widget of type <code>HBox</code>.</p>\n",
       "<p>\n",
       "  If you're reading this message in Jupyter Notebook or JupyterLab, it may mean\n",
       "  that the widgets JavaScript is still loading. If this message persists, it\n",
       "  likely means that the widgets JavaScript library is either not installed or\n",
       "  not enabled. See the <a href=\"https://ipywidgets.readthedocs.io/en/stable/user_install.html\">Jupyter\n",
       "  Widgets Documentation</a> for setup instructions.\n",
       "</p>\n",
       "<p>\n",
       "  If you're reading this message in another notebook frontend (for example, a static\n",
       "  rendering on GitHub or <a href=\"https://nbviewer.jupyter.org/\">NBViewer</a>),\n",
       "  it may mean that your frontend doesn't currently support widgets.\n",
       "</p>\n"
      ],
      "text/plain": [
       "HBox(children=(Label(value='         ', layout=Layout(width='70%')), Button(button_style='info', description='Next (Open Beam)  >>', layout=Layout(width='20%'), style=ButtonStyle(), tooltip='Click to move to next step')))"
      ]
     },
     "metadata": {},
     "output_type": "display_data"
    },
    {
     "data": {
      "text/html": [
       "\n",
       "        <style type=\"text/css\">\n",
       "        .jupyter-widgets select option {font-family: \"Lucida Console\", Monaco, monospace;}\n",
       "        div.output_subarea {padding: 0px;}\n",
       "        div.output_subarea > div {margin: 0.4em;}\n",
       "        </style>\n",
       "        "
      ],
      "text/plain": [
       "<IPython.core.display.HTML object>"
      ]
     },
     "metadata": {},
     "output_type": "display_data"
    },
    {
     "data": {
      "application/vnd.jupyter.widget-view+json": {
       "model_id": "b22f5300d55b4df29f68c79130adf5e1",
       "version_major": 2,
       "version_minor": 0
      },
      "text/html": [
       "<p>Failed to display Jupyter Widget of type <code>VBox</code>.</p>\n",
       "<p>\n",
       "  If you're reading this message in Jupyter Notebook or JupyterLab, it may mean\n",
       "  that the widgets JavaScript is still loading. If this message persists, it\n",
       "  likely means that the widgets JavaScript library is either not installed or\n",
       "  not enabled. See the <a href=\"https://ipywidgets.readthedocs.io/en/stable/user_install.html\">Jupyter\n",
       "  Widgets Documentation</a> for setup instructions.\n",
       "</p>\n",
       "<p>\n",
       "  If you're reading this message in another notebook frontend (for example, a static\n",
       "  rendering on GitHub or <a href=\"https://nbviewer.jupyter.org/\">NBViewer</a>),\n",
       "  it may mean that your frontend doesn't currently support widgets.\n",
       "</p>\n"
      ],
      "text/plain": [
       "VBox(children=(Label(value='', layout=Layout(width='250px')), HBox(children=(HBox(children=(Text(value='/Volumes/my_book_thunderbolt_duo/IPTS/IPTS_17099', description='Location: ', layout=Layout(width='300px'), placeholder=''), Button(description='Jump', layout=Layout(margin='5px 10px', width='100px'), style=ButtonStyle())), layout=Layout(border='1px solid lightgrey', margin='5px 50px 5px 5px', padding='3px')),)), VBox(children=(SelectMultiple(description='Select', layout=Layout(display='flex', flex_flow='column', width='750px'), options=(' .', ' ..', ' .DS_Store                          |     Fri Oct 27 10:11:51 2017', ' cylindrical_geometry_corrected     |     Directory', ' left_edge                          |     Directory', ' normalized_cropped                 |     Directory', ' ob                                 |     Directory', ' radiographs                        |     Directory', ' right_edge                         |     Directory', ' testing_new_output_format          |     Directory'), value=()), HBox(children=(Button(description='Enter directory', layout=Layout(margin='5px 40px'), style=ButtonStyle()), Button(description='Select', layout=Layout(margin='5px 40px'), style=ButtonStyle())))), layout=Layout(border='1px solid lightgrey', margin='5px', padding='10px'))))"
      ]
     },
     "metadata": {},
     "output_type": "display_data"
    },
    {
     "data": {
      "application/vnd.jupyter.widget-view+json": {
       "model_id": "b7959d34c12049be886eb708104684d2",
       "version_major": 2,
       "version_minor": 0
      },
      "text/html": [
       "<p>Failed to display Jupyter Widget of type <code>HTML</code>.</p>\n",
       "<p>\n",
       "  If you're reading this message in Jupyter Notebook or JupyterLab, it may mean\n",
       "  that the widgets JavaScript is still loading. If this message persists, it\n",
       "  likely means that the widgets JavaScript library is either not installed or\n",
       "  not enabled. See the <a href=\"https://ipywidgets.readthedocs.io/en/stable/user_install.html\">Jupyter\n",
       "  Widgets Documentation</a> for setup instructions.\n",
       "</p>\n",
       "<p>\n",
       "  If you're reading this message in another notebook frontend (for example, a static\n",
       "  rendering on GitHub or <a href=\"https://nbviewer.jupyter.org/\">NBViewer</a>),\n",
       "  it may mean that your frontend doesn't currently support widgets.\n",
       "</p>\n"
      ],
      "text/plain": [
       "HTML(value='Please wait...')"
      ]
     },
     "metadata": {},
     "output_type": "display_data"
    },
    {
     "data": {
      "text/html": [
       "\n",
       "        <style type=\"text/css\">\n",
       "        .jupyter-widgets select option {font-family: \"Lucida Console\", Monaco, monospace;}\n",
       "        div.output_subarea {padding: 0px;}\n",
       "        div.output_subarea > div {margin: 0.4em;}\n",
       "        </style>\n",
       "        "
      ],
      "text/plain": [
       "<IPython.core.display.HTML object>"
      ]
     },
     "metadata": {},
     "output_type": "display_data"
    },
    {
     "data": {
      "application/vnd.jupyter.widget-view+json": {
       "model_id": "8846dacf724e4a39927260638ad54c75",
       "version_major": 2,
       "version_minor": 0
      },
      "text/html": [
       "<p>Failed to display Jupyter Widget of type <code>VBox</code>.</p>\n",
       "<p>\n",
       "  If you're reading this message in Jupyter Notebook or JupyterLab, it may mean\n",
       "  that the widgets JavaScript is still loading. If this message persists, it\n",
       "  likely means that the widgets JavaScript library is either not installed or\n",
       "  not enabled. See the <a href=\"https://ipywidgets.readthedocs.io/en/stable/user_install.html\">Jupyter\n",
       "  Widgets Documentation</a> for setup instructions.\n",
       "</p>\n",
       "<p>\n",
       "  If you're reading this message in another notebook frontend (for example, a static\n",
       "  rendering on GitHub or <a href=\"https://nbviewer.jupyter.org/\">NBViewer</a>),\n",
       "  it may mean that your frontend doesn't currently support widgets.\n",
       "</p>\n"
      ],
      "text/plain": [
       "VBox(children=(Label(value='', layout=Layout(width='250px')), HBox(children=(HBox(children=(Text(value='/Volumes/my_book_thunderbolt_duo/IPTS/IPTS_17099/left_edge', description='Location: ', layout=Layout(width='300px'), placeholder=''), Button(description='Jump', layout=Layout(margin='5px 10px', width='100px'), style=ButtonStyle())), layout=Layout(border='1px solid lightgrey', margin='5px 50px 5px 5px', padding='3px')),)), VBox(children=(SelectMultiple(description='Select', layout=Layout(display='flex', flex_flow='column', width='750px'), options=(' .', ' ..', ' 20170113_LLZO_cycling_0120_0000.tiff     |     Wed Feb  1 17:08:38 2017', ' 20170113_LLZO_cycling_0120_0001.tiff     |     Wed Feb  1 17:08:38 2017', ' 20170113_LLZO_cycling_0120_0002.tiff     |     Wed Feb  1 17:08:38 2017', ' 20170113_LLZO_cycling_0120_0003.tiff     |     Wed Feb  1 17:08:38 2017', ' 20170113_LLZO_cycling_0120_0004.tiff     |     Wed Feb  1 17:08:38 2017', ' 20170113_LLZO_cycling_0120_0005.tiff     |     Wed Feb  1 17:08:38 2017', ' 20170113_LLZO_cycling_0120_0006.tiff     |     Wed Feb  1 17:08:38 2017', ' 20170113_LLZO_cycling_0120_0007.tiff     |     Wed Feb  1 17:08:38 2017', ' 20170113_LLZO_cycling_0120_0008.tiff     |     Wed Feb  1 17:08:38 2017', ' 20170113_LLZO_cycling_0120_0009.tiff     |     Wed Feb  1 17:08:38 2017', ' 20170113_LLZO_cycling_0120_0010.tiff     |     Wed Feb  1 17:08:38 2017', ' 20170113_LLZO_cycling_0120_0011.tiff     |     Wed Feb  1 17:08:38 2017', ' 20170113_LLZO_cycling_0120_0012.tiff     |     Wed Feb  1 17:08:38 2017', ' 20170113_LLZO_cycling_0120_0013.tiff     |     Wed Feb  1 17:08:38 2017', ' 20170113_LLZO_cycling_0120_0014.tiff     |     Wed Feb  1 17:08:38 2017', ' 20170113_LLZO_cycling_0120_0015.tiff     |     Wed Feb  1 17:08:38 2017', ' 20170113_LLZO_cycling_0120_0016.tiff     |     Wed Feb  1 17:08:38 2017', ' 20170113_LLZO_cycling_0120_0017.tiff     |     Wed Feb  1 17:08:38 2017', ' 20170113_LLZO_cycling_0120_0018.tiff     |     Wed Feb  1 17:08:38 2017', ' 20170113_LLZO_cycling_0120_0019.tiff     |     Wed Feb  1 17:08:38 2017', ' 20170113_LLZO_cycling_0120_0020.tiff     |     Wed Feb  1 17:08:38 2017', ' 20170113_LLZO_cycling_0120_0021.tiff     |     Wed Feb  1 17:08:38 2017', ' 20170113_LLZO_cycling_0120_0022.tiff     |     Wed Feb  1 17:08:38 2017', ' 20170113_LLZO_cycling_0120_0023.tiff     |     Wed Feb  1 17:08:38 2017', ' 20170113_LLZO_cycling_0120_0024.tiff     |     Wed Feb  1 17:08:38 2017', ' 20170113_LLZO_cycling_0120_0025.tiff     |     Wed Feb  1 17:08:38 2017', ' 20170113_LLZO_cycling_0120_0026.tiff     |     Wed Feb  1 17:08:38 2017', ' 20170113_LLZO_cycling_0120_0027.tiff     |     Wed Feb  1 17:08:38 2017', ' 20170113_LLZO_cycling_0120_0028.tiff     |     Wed Feb  1 17:08:38 2017', ' 20170113_LLZO_cycling_0120_0029.tiff     |     Wed Feb  1 17:08:38 2017', ' 20170113_LLZO_cycling_0120_0030.tiff     |     Wed Feb  1 17:08:38 2017', ' 20170113_LLZO_cycling_0120_0031.tiff     |     Wed Feb  1 17:08:38 2017', ' 20170113_LLZO_cycling_0120_0032.tiff     |     Wed Feb  1 17:08:38 2017', ' 20170113_LLZO_cycling_0120_0033.tiff     |     Wed Feb  1 17:08:38 2017', ' 20170113_LLZO_cycling_0120_0034.tiff     |     Wed Feb  1 17:08:38 2017', ' 20170113_LLZO_cycling_0120_0035.tiff     |     Wed Feb  1 17:08:38 2017', ' 20170113_LLZO_cycling_0120_0036.tiff     |     Wed Feb  1 17:08:38 2017', ' 20170113_LLZO_cycling_0120_0037.tiff     |     Wed Feb  1 17:08:38 2017', ' 20170113_LLZO_cycling_0120_0038.tiff     |     Wed Feb  1 17:08:38 2017', ' 20170113_LLZO_cycling_0120_0039.tiff     |     Wed Feb  1 17:08:38 2017', ' 20170113_LLZO_cycling_0120_0040.tiff     |     Wed Feb  1 17:08:38 2017', ' 20170113_LLZO_cycling_0120_0041.tiff     |     Wed Feb  1 17:08:38 2017', ' 20170113_LLZO_cycling_0120_0042.tiff     |     Wed Feb  1 17:08:38 2017', ' 20170113_LLZO_cycling_0120_0043.tiff     |     Wed Feb  1 17:08:38 2017', ' 20170113_LLZO_cycling_0120_0044.tiff     |     Wed Feb  1 17:08:38 2017', ' 20170113_LLZO_cycling_0120_0045.tiff     |     Wed Feb  1 17:08:38 2017', ' 20170113_LLZO_cycling_0120_0046.tiff     |     Wed Feb  1 17:08:38 2017', ' 20170113_LLZO_cycling_0120_0047.tiff     |     Wed Feb  1 17:08:38 2017', ' 20170113_LLZO_cycling_0120_0048.tiff     |     Wed Feb  1 17:08:38 2017', ' 20170113_LLZO_cycling_0120_0049.tiff     |     Wed Feb  1 17:08:38 2017', ' 20170113_LLZO_cycling_0120_0050.tiff     |     Wed Feb  1 17:08:38 2017', ' 20170113_LLZO_cycling_0120_0051.tiff     |     Wed Feb  1 17:08:38 2017', ' 20170113_LLZO_cycling_0120_0052.tiff     |     Wed Feb  1 17:08:38 2017', ' 20170113_LLZO_cycling_0120_0053.tiff     |     Wed Feb  1 17:08:38 2017', ' 20170113_LLZO_cycling_0120_0054.tiff     |     Wed Feb  1 17:08:38 2017', ' 20170113_LLZO_cycling_0120_0055.tiff     |     Wed Feb  1 17:08:38 2017', ' 20170113_LLZO_cycling_0120_0056.tiff     |     Wed Feb  1 17:08:38 2017', ' 20170113_LLZO_cycling_0120_0057.tiff     |     Wed Feb  1 17:08:38 2017', ' 20170113_LLZO_cycling_0120_0058.tiff     |     Wed Feb  1 17:08:38 2017', ' 20170113_LLZO_cycling_0120_0059.tiff     |     Wed Feb  1 17:08:38 2017', ' 20170113_LLZO_cycling_0120_0060.tiff     |     Wed Feb  1 17:08:38 2017', ' 20170113_LLZO_cycling_0120_0061.tiff     |     Wed Feb  1 17:08:38 2017', ' 20170113_LLZO_cycling_0120_0062.tiff     |     Wed Feb  1 17:08:38 2017', ' 20170113_LLZO_cycling_0120_0063.tiff     |     Wed Feb  1 17:08:38 2017', ' 20170113_LLZO_cycling_0120_0064.tiff     |     Wed Feb  1 17:08:38 2017', ' 20170113_LLZO_cycling_0120_0065.tiff     |     Wed Feb  1 17:08:38 2017', ' 20170113_LLZO_cycling_0120_0066.tiff     |     Wed Feb  1 17:08:38 2017', ' 20170113_LLZO_cycling_0120_0067.tiff     |     Wed Feb  1 17:08:38 2017', ' 20170113_LLZO_cycling_0120_0068.tiff     |     Wed Feb  1 17:08:38 2017', ' 20170113_LLZO_cycling_0120_0069.tiff     |     Wed Feb  1 17:08:38 2017', ' 20170113_LLZO_cycling_0120_0070.tiff     |     Wed Feb  1 17:08:38 2017', ' 20170113_LLZO_cycling_0120_0071.tiff     |     Wed Feb  1 17:08:38 2017', ' 20170113_LLZO_cycling_0120_0072.tiff     |     Wed Feb  1 17:08:38 2017', ' 20170113_LLZO_cycling_0120_0073.tiff     |     Wed Feb  1 17:08:38 2017', ' 20170113_LLZO_cycling_0120_0074.tiff     |     Wed Feb  1 17:08:38 2017', ' 20170113_LLZO_cycling_0120_0075.tiff     |     Wed Feb  1 17:08:38 2017', ' 20170113_LLZO_cycling_0120_0076.tiff     |     Wed Feb  1 17:08:38 2017', ' 20170113_LLZO_cycling_0120_0077.tiff     |     Wed Feb  1 17:08:38 2017', ' 20170113_LLZO_cycling_0120_0078.tiff     |     Wed Feb  1 17:08:38 2017', ' 20170113_LLZO_cycling_0120_0079.tiff     |     Wed Feb  1 17:08:38 2017', ' 20170113_LLZO_cycling_0120_0080.tiff     |     Wed Feb  1 17:08:38 2017', ' 20170113_LLZO_cycling_0120_0081.tiff     |     Wed Feb  1 17:08:38 2017', ' 20170113_LLZO_cycling_0120_0082.tiff     |     Wed Feb  1 17:08:38 2017', ' 20170113_LLZO_cycling_0120_0083.tiff     |     Wed Feb  1 17:08:38 2017', ' 20170113_LLZO_cycling_0120_0084.tiff     |     Wed Feb  1 17:08:38 2017', ' 20170113_LLZO_cycling_0120_0085.tiff     |     Wed Feb  1 17:08:38 2017', ' 20170113_LLZO_cycling_0120_0086.tiff     |     Wed Feb  1 17:08:38 2017', ' 20170113_LLZO_cycling_0120_0087.tiff     |     Wed Feb  1 17:08:38 2017', ' 20170113_LLZO_cycling_0120_0088.tiff     |     Wed Feb  1 17:08:38 2017', ' 20170113_LLZO_cycling_0120_0089.tiff     |     Wed Feb  1 17:08:38 2017', ' 20170113_LLZO_cycling_0120_0090.tiff     |     Wed Feb  1 17:08:38 2017', ' 20170113_LLZO_cycling_0120_0091.tiff     |     Wed Feb  1 17:08:38 2017', ' 20170113_LLZO_cycling_0120_0092.tiff     |     Wed Feb  1 17:08:38 2017', ' 20170113_LLZO_cycling_0120_0093.tiff     |     Wed Feb  1 17:08:38 2017', ' 20170113_LLZO_cycling_0120_0094.tiff     |     Wed Feb  1 17:08:38 2017', ' 20170113_LLZO_cycling_0120_0095.tiff     |     Wed Feb  1 17:08:38 2017', ' 20170113_LLZO_cycling_0120_0096.tiff     |     Wed Feb  1 17:08:38 2017', ' 20170113_LLZO_cycling_0120_0097.tiff     |     Wed Feb  1 17:08:38 2017', ' 20170113_LLZO_cycling_0120_0098.tiff     |     Wed Feb  1 17:08:38 2017', ' 20170113_LLZO_cycling_0120_0099.tiff     |     Wed Feb  1 17:08:38 2017', ' 20170113_LLZO_cycling_0120_0100.tiff     |     Wed Feb  1 17:08:38 2017', ' 20170113_LLZO_cycling_0120_0101.tiff     |     Wed Feb  1 17:08:38 2017', ' 20170113_LLZO_cycling_0120_0102.tiff     |     Wed Feb  1 17:08:39 2017', ' 20170113_LLZO_cycling_0120_0103.tiff     |     Wed Feb  1 17:08:39 2017', ' 20170113_LLZO_cycling_0120_0104.tiff     |     Wed Feb  1 17:08:39 2017', ' 20170113_LLZO_cycling_0120_0105.tiff     |     Wed Feb  1 17:08:39 2017', ' 20170113_LLZO_cycling_0120_0106.tiff     |     Wed Feb  1 17:08:39 2017', ' 20170113_LLZO_cycling_0120_0107.tiff     |     Wed Feb  1 17:08:39 2017', ' 20170113_LLZO_cycling_0120_0108.tiff     |     Wed Feb  1 17:08:39 2017', ' 20170113_LLZO_cycling_0120_0109.tiff     |     Wed Feb  1 17:08:39 2017', ' 20170113_LLZO_cycling_0120_0110.tiff     |     Wed Feb  1 17:08:39 2017', ' 20170113_LLZO_cycling_0120_0111.tiff     |     Wed Feb  1 17:08:39 2017', ' 20170113_LLZO_cycling_0120_0112.tiff     |     Wed Feb  1 17:08:39 2017', ' 20170113_LLZO_cycling_0120_0113.tiff     |     Wed Feb  1 17:08:39 2017', ' 20170113_LLZO_cycling_0120_0114.tiff     |     Wed Feb  1 17:08:39 2017', ' 20170113_LLZO_cycling_0120_0115.tiff     |     Wed Feb  1 17:08:39 2017', ' 20170113_LLZO_cycling_0120_0116.tiff     |     Wed Feb  1 17:08:39 2017', ' 20170113_LLZO_cycling_0120_0117.tiff     |     Wed Feb  1 17:08:39 2017', ' 20170113_LLZO_cycling_0120_0118.tiff     |     Wed Feb  1 17:08:39 2017', ' 20170113_LLZO_cycling_0120_0119.tiff     |     Wed Feb  1 17:08:39 2017', ' 20170113_LLZO_cycling_0120_0120.tiff     |     Wed Feb  1 17:08:39 2017', ' 20170113_LLZO_cycling_0120_0121.tiff     |     Wed Feb  1 17:08:39 2017', ' 20170113_LLZO_cycling_0120_0122.tiff     |     Wed Feb  1 17:08:39 2017', ' 20170113_LLZO_cycling_0120_0123.tiff     |     Wed Feb  1 17:08:39 2017', ' 20170113_LLZO_cycling_0120_0124.tiff     |     Wed Feb  1 17:08:39 2017', ' 20170113_LLZO_cycling_0120_0125.tiff     |     Wed Feb  1 17:08:39 2017', ' 20170113_LLZO_cycling_0120_0126.tiff     |     Wed Feb  1 17:08:39 2017', ' 20170113_LLZO_cycling_0120_0127.tiff     |     Wed Feb  1 17:08:39 2017', ' 20170113_LLZO_cycling_0120_0128.tiff     |     Wed Feb  1 17:08:39 2017', ' 20170113_LLZO_cycling_0120_0129.tiff     |     Wed Feb  1 17:08:39 2017', ' 20170113_LLZO_cycling_0120_0130.tiff     |     Wed Feb  1 17:08:39 2017', ' 20170113_LLZO_cycling_0120_0131.tiff     |     Wed Feb  1 17:08:39 2017', ' 20170113_LLZO_cycling_0120_0132.tiff     |     Wed Feb  1 17:08:39 2017', ' 20170113_LLZO_cycling_0120_0133.tiff     |     Wed Feb  1 17:08:39 2017', ' 20170113_LLZO_cycling_0120_0134.tiff     |     Wed Feb  1 17:08:39 2017', ' 20170113_LLZO_cycling_0120_0135.tiff     |     Wed Feb  1 17:08:39 2017', ' 20170113_LLZO_cycling_0120_0136.tiff     |     Wed Feb  1 17:08:39 2017', ' 20170113_LLZO_cycling_0120_0137.tiff     |     Wed Feb  1 17:08:39 2017', ' 20170113_LLZO_cycling_0120_0138.tiff     |     Wed Feb  1 17:08:39 2017', ' 20170113_LLZO_cycling_0120_0139.tiff     |     Wed Feb  1 17:08:39 2017', ' 20170113_LLZO_cycling_0120_0140.tiff     |     Wed Feb  1 17:08:39 2017', ' 20170113_LLZO_cycling_0120_0141.tiff     |     Wed Feb  1 17:08:39 2017', ' 20170113_LLZO_cycling_0120_0142.tiff     |     Wed Feb  1 17:08:39 2017', ' 20170113_LLZO_cycling_0120_0143.tiff     |     Wed Feb  1 17:08:39 2017', ' 20170113_LLZO_cycling_0120_0144.tiff     |     Wed Feb  1 17:08:39 2017', ' 20170113_LLZO_cycling_0120_0145.tiff     |     Wed Feb  1 17:08:39 2017', ' 20170113_LLZO_cycling_0120_0146.tiff     |     Wed Feb  1 17:08:39 2017', ' 20170113_LLZO_cycling_0120_0147.tiff     |     Wed Feb  1 17:08:39 2017', ' 20170113_LLZO_cycling_0120_0148.tiff     |     Wed Feb  1 17:08:39 2017', ' 20170113_LLZO_cycling_0120_0149.tiff     |     Wed Feb  1 17:08:39 2017', ' 20170113_LLZO_cycling_0120_0150.tiff     |     Wed Feb  1 17:08:39 2017', ' 20170113_LLZO_cycling_0120_0151.tiff     |     Wed Feb  1 17:08:39 2017', ' 20170113_LLZO_cycling_0120_0152.tiff     |     Wed Feb  1 17:08:39 2017', ' 20170113_LLZO_cycling_0120_0153.tiff     |     Wed Feb  1 17:08:39 2017', ' 20170113_LLZO_cycling_0120_0154.tiff     |     Wed Feb  1 17:08:39 2017', ' 20170113_LLZO_cycling_0120_0155.tiff     |     Wed Feb  1 17:08:39 2017', ' 20170113_LLZO_cycling_0120_0156.tiff     |     Wed Feb  1 17:08:39 2017', ' 20170113_LLZO_cycling_0120_0157.tiff     |     Wed Feb  1 17:08:39 2017', ' 20170113_LLZO_cycling_0120_0158.tiff     |     Wed Feb  1 17:08:39 2017', ' 20170113_LLZO_cycling_0120_0159.tiff     |     Wed Feb  1 17:08:39 2017', ' 20170113_LLZO_cycling_0120_0160.tiff     |     Wed Feb  1 17:08:39 2017', ' 20170113_LLZO_cycling_0120_0161.tiff     |     Wed Feb  1 17:08:39 2017', ' 20170113_LLZO_cycling_0120_0162.tiff     |     Wed Feb  1 17:08:39 2017', ' 20170113_LLZO_cycling_0120_0163.tiff     |     Wed Feb  1 17:08:39 2017', ' 20170113_LLZO_cycling_0120_0164.tiff     |     Wed Feb  1 17:08:39 2017', ' 20170113_LLZO_cycling_0120_0165.tiff     |     Wed Feb  1 17:08:39 2017', ' 20170113_LLZO_cycling_0120_0166.tiff     |     Wed Feb  1 17:08:39 2017', ' 20170113_LLZO_cycling_0120_0167.tiff     |     Wed Feb  1 17:08:39 2017', ' 20170113_LLZO_cycling_0120_0168.tiff     |     Wed Feb  1 17:08:39 2017', ' 20170113_LLZO_cycling_0120_0169.tiff     |     Wed Feb  1 17:08:39 2017', ' 20170113_LLZO_cycling_0120_0170.tiff     |     Wed Feb  1 17:08:39 2017', ' 20170113_LLZO_cycling_0120_0171.tiff     |     Wed Feb  1 17:08:39 2017', ' 20170113_LLZO_cycling_0120_0172.tiff     |     Wed Feb  1 17:08:39 2017', ' 20170113_LLZO_cycling_0120_0173.tiff     |     Wed Feb  1 17:08:39 2017', ' 20170113_LLZO_cycling_0120_0174.tiff     |     Wed Feb  1 17:08:39 2017', ' 20170113_LLZO_cycling_0120_0175.tiff     |     Wed Feb  1 17:08:39 2017', ' 20170113_LLZO_cycling_0120_0176.tiff     |     Wed Feb  1 17:08:39 2017', ' 20170113_LLZO_cycling_0120_0177.tiff     |     Wed Feb  1 17:08:39 2017', ' 20170113_LLZO_cycling_0120_0178.tiff     |     Wed Feb  1 17:08:39 2017', ' 20170113_LLZO_cycling_0120_0179.tiff     |     Wed Feb  1 17:08:39 2017', ' 20170113_LLZO_cycling_0120_0180.tiff     |     Wed Feb  1 17:08:39 2017', ' 20170113_LLZO_cycling_0120_0181.tiff     |     Wed Feb  1 17:08:39 2017', ' 20170113_LLZO_cycling_0120_0182.tiff     |     Wed Feb  1 17:08:39 2017', ' 20170113_LLZO_cycling_0120_0183.tiff     |     Wed Feb  1 17:08:39 2017', ' 20170113_LLZO_cycling_0120_0184.tiff     |     Wed Feb  1 17:08:39 2017', ' 20170113_LLZO_cycling_0120_0185.tiff     |     Wed Feb  1 17:08:39 2017', ' 20170113_LLZO_cycling_0120_0186.tiff     |     Wed Feb  1 17:08:39 2017', ' 20170113_LLZO_cycling_0120_0187.tiff     |     Wed Feb  1 17:08:39 2017', ' 20170113_LLZO_cycling_0120_0188.tiff     |     Wed Feb  1 17:08:39 2017', ' 20170113_LLZO_cycling_0120_0189.tiff     |     Wed Feb  1 17:08:39 2017', ' 20170113_LLZO_cycling_0120_0190.tiff     |     Wed Feb  1 17:08:39 2017', ' 20170113_LLZO_cycling_0120_0191.tiff     |     Wed Feb  1 17:08:39 2017', ' 20170113_LLZO_cycling_0120_0192.tiff     |     Wed Feb  1 17:08:39 2017', ' 20170113_LLZO_cycling_0120_0193.tiff     |     Wed Feb  1 17:08:39 2017', ' 20170113_LLZO_cycling_0120_0194.tiff     |     Wed Feb  1 17:08:39 2017', ' 20170113_LLZO_cycling_0120_0195.tiff     |     Wed Feb  1 17:08:39 2017', ' 20170113_LLZO_cycling_0120_0196.tiff     |     Wed Feb  1 17:08:39 2017', ' 20170113_LLZO_cycling_0120_0197.tiff     |     Wed Feb  1 17:08:39 2017', ' 20170113_LLZO_cycling_0120_0198.tiff     |     Wed Feb  1 17:08:39 2017', ' 20170113_LLZO_cycling_0120_0199.tiff     |     Wed Feb  1 17:08:39 2017', ' 20170113_LLZO_cycling_0120_0200.tiff     |     Wed Feb  1 17:08:39 2017', ' 20170114_LLZO_cycling_0120_0201.tiff     |     Wed Feb  1 17:08:39 2017', ' 20170114_LLZO_cycling_0120_0202.tiff     |     Wed Feb  1 17:08:39 2017', ' 20170114_LLZO_cycling_0120_0203.tiff     |     Wed Feb  1 17:08:39 2017', ' 20170114_LLZO_cycling_0120_0204.tiff     |     Wed Feb  1 17:08:39 2017', ' 20170114_LLZO_cycling_0120_0205.tiff     |     Wed Feb  1 17:08:39 2017', ' 20170114_LLZO_cycling_0120_0206.tiff     |     Wed Feb  1 17:08:39 2017', ' 20170114_LLZO_cycling_0120_0207.tiff     |     Wed Feb  1 17:08:39 2017', ' 20170114_LLZO_cycling_0120_0208.tiff     |     Wed Feb  1 17:08:39 2017', ' 20170114_LLZO_cycling_0120_0209.tiff     |     Wed Feb  1 17:08:39 2017', ' 20170114_LLZO_cycling_0120_0210.tiff     |     Wed Feb  1 17:08:39 2017', ' 20170114_LLZO_cycling_0120_0211.tiff     |     Wed Feb  1 17:08:39 2017', ' 20170114_LLZO_cycling_0120_0212.tiff     |     Wed Feb  1 17:08:39 2017', ' 20170114_LLZO_cycling_0120_0213.tiff     |     Wed Feb  1 17:08:39 2017', ' 20170114_LLZO_cycling_0120_0214.tiff     |     Wed Feb  1 17:08:39 2017', ' 20170114_LLZO_cycling_0120_0215.tiff     |     Wed Feb  1 17:08:39 2017', ' 20170114_LLZO_cycling_0120_0216.tiff     |     Wed Feb  1 17:08:39 2017', ' 20170114_LLZO_cycling_0120_0217.tiff     |     Wed Feb  1 17:08:39 2017', ' 20170114_LLZO_cycling_0120_0218.tiff     |     Wed Feb  1 17:08:39 2017', ' 20170114_LLZO_cycling_0120_0219.tiff     |     Wed Feb  1 17:08:39 2017', ' 20170114_LLZO_cycling_0120_0220.tiff     |     Wed Feb  1 17:08:39 2017', ' 20170114_LLZO_cycling_0120_0221.tiff     |     Wed Feb  1 17:08:39 2017', ' 20170114_LLZO_cycling_0120_0222.tiff     |     Wed Feb  1 17:08:39 2017', ' 20170114_LLZO_cycling_0120_0223.tiff     |     Wed Feb  1 17:08:39 2017', ' 20170114_LLZO_cycling_0120_0224.tiff     |     Wed Feb  1 17:08:39 2017', ' 20170114_LLZO_cycling_0120_0225.tiff     |     Wed Feb  1 17:08:39 2017', ' 20170114_LLZO_cycling_0120_0226.tiff     |     Wed Feb  1 17:08:39 2017', ' 20170114_LLZO_cycling_0120_0227.tiff     |     Wed Feb  1 17:08:39 2017', ' 20170114_LLZO_cycling_0120_0228.tiff     |     Wed Feb  1 17:08:39 2017', ' 20170114_LLZO_cycling_0120_0229.tiff     |     Wed Feb  1 17:08:39 2017', ' 20170114_LLZO_cycling_0120_0230.tiff     |     Wed Feb  1 17:08:39 2017', ' 20170114_LLZO_cycling_0120_0231.tiff     |     Wed Feb  1 17:08:39 2017', ' 20170114_LLZO_cycling_0120_0232.tiff     |     Wed Feb  1 17:08:39 2017', ' 20170114_LLZO_cycling_0120_0233.tiff     |     Wed Feb  1 17:08:39 2017', ' 20170114_LLZO_cycling_0120_0234.tiff     |     Wed Feb  1 17:08:39 2017', ' 20170114_LLZO_cycling_0120_0235.tiff     |     Wed Feb  1 17:08:39 2017', ' 20170114_LLZO_cycling_0120_0236.tiff     |     Wed Feb  1 17:08:39 2017', ' 20170114_LLZO_cycling_0120_0237.tiff     |     Wed Feb  1 17:08:39 2017', ' 20170114_LLZO_cycling_0120_0238.tiff     |     Wed Feb  1 17:08:39 2017', ' 20170114_LLZO_cycling_0120_0239.tiff     |     Wed Feb  1 17:08:39 2017', ' 20170114_LLZO_cycling_0120_0240.tiff     |     Wed Feb  1 17:08:39 2017', ' 20170114_LLZO_cycling_0120_0241.tiff     |     Wed Feb  1 17:08:39 2017', ' 20170114_LLZO_cycling_0120_0242.tiff     |     Wed Feb  1 17:08:39 2017', ' 20170114_LLZO_cycling_0120_0243.tiff     |     Wed Feb  1 17:08:39 2017', ' 20170114_LLZO_cycling_0120_0244.tiff     |     Wed Feb  1 17:08:39 2017', ' 20170114_LLZO_cycling_0120_0245.tiff     |     Wed Feb  1 17:08:39 2017', ' 20170114_LLZO_cycling_0120_0246.tiff     |     Wed Feb  1 17:08:39 2017', ' 20170114_LLZO_cycling_0120_0247.tiff     |     Wed Feb  1 17:08:39 2017', ' 20170114_LLZO_cycling_0120_0248.tiff     |     Wed Feb  1 17:08:39 2017', ' 20170114_LLZO_cycling_0120_0249.tiff     |     Wed Feb  1 17:08:39 2017', ' 20170114_LLZO_cycling_0120_0250.tiff     |     Wed Feb  1 17:08:39 2017', ' 20170114_LLZO_cycling_0120_0251.tiff     |     Wed Feb  1 17:08:39 2017', ' 20170114_LLZO_cycling_0120_0252.tiff     |     Wed Feb  1 17:08:39 2017', ' 20170114_LLZO_cycling_0120_0253.tiff     |     Wed Feb  1 17:08:39 2017', ' 20170114_LLZO_cycling_0120_0254.tiff     |     Wed Feb  1 17:08:39 2017', ' 20170114_LLZO_cycling_0120_0255.tiff     |     Wed Feb  1 17:08:39 2017', ' 20170114_LLZO_cycling_0120_0256.tiff     |     Wed Feb  1 17:08:39 2017', ' 20170114_LLZO_cycling_0120_0257.tiff     |     Wed Feb  1 17:08:39 2017', ' 20170114_LLZO_cycling_0120_0258.tiff     |     Wed Feb  1 17:08:39 2017', ' 20170114_LLZO_cycling_0120_0259.tiff     |     Wed Feb  1 17:08:39 2017', ' 20170114_LLZO_cycling_0120_0260.tiff     |     Wed Feb  1 17:08:39 2017', ' 20170114_LLZO_cycling_0120_0261.tiff     |     Wed Feb  1 17:08:39 2017', ' 20170114_LLZO_cycling_0120_0262.tiff     |     Wed Feb  1 17:08:39 2017', ' 20170114_LLZO_cycling_0120_0263.tiff     |     Wed Feb  1 17:08:39 2017', ' 20170114_LLZO_cycling_0120_0264.tiff     |     Wed Feb  1 17:08:39 2017', ' 20170114_LLZO_cycling_0120_0265.tiff     |     Wed Feb  1 17:08:39 2017', ' 20170114_LLZO_cycling_0120_0266.tiff     |     Wed Feb  1 17:08:39 2017', ' 20170114_LLZO_cycling_0120_0267.tiff     |     Wed Feb  1 17:08:39 2017', ' 20170114_LLZO_cycling_0120_0268.tiff     |     Wed Feb  1 17:08:39 2017', ' 20170114_LLZO_cycling_0120_0269.tiff     |     Wed Feb  1 17:08:39 2017', ' 20170114_LLZO_cycling_0120_0270.tiff     |     Wed Feb  1 17:08:39 2017', ' 20170114_LLZO_cycling_0120_0271.tiff     |     Wed Feb  1 17:08:39 2017', ' 20170114_LLZO_cycling_0120_0272.tiff     |     Wed Feb  1 17:08:39 2017', ' 20170114_LLZO_cycling_0120_0273.tiff     |     Wed Feb  1 17:08:39 2017', ' 20170114_LLZO_cycling_0120_0274.tiff     |     Wed Feb  1 17:08:39 2017', ' 20170114_LLZO_cycling_0120_0275.tiff     |     Wed Feb  1 17:08:39 2017', ' 20170114_LLZO_cycling_0120_0276.tiff     |     Wed Feb  1 17:08:39 2017', ' 20170114_LLZO_cycling_0120_0277.tiff     |     Wed Feb  1 17:08:39 2017', ' 20170114_LLZO_cycling_0120_0278.tiff     |     Wed Feb  1 17:08:39 2017', ' 20170114_LLZO_cycling_0120_0279.tiff     |     Wed Feb  1 17:08:39 2017', ' 20170114_LLZO_cycling_0120_0280.tiff     |     Wed Feb  1 17:08:39 2017', ' 20170114_LLZO_cycling_0120_0281.tiff     |     Wed Feb  1 17:08:39 2017', ' 20170114_LLZO_cycling_0120_0282.tiff     |     Wed Feb  1 17:08:39 2017', ' 20170114_LLZO_cycling_0120_0283.tiff     |     Wed Feb  1 17:08:39 2017', ' 20170114_LLZO_cycling_0120_0284.tiff     |     Wed Feb  1 17:08:39 2017', ' 20170114_LLZO_cycling_0120_0285.tiff     |     Wed Feb  1 17:08:39 2017', ' 20170114_LLZO_cycling_0120_0286.tiff     |     Wed Feb  1 17:08:39 2017', ' 20170114_LLZO_cycling_0120_0287.tiff     |     Wed Feb  1 17:08:39 2017', ' 20170114_LLZO_cycling_0120_0288.tiff     |     Wed Feb  1 17:08:39 2017', ' 20170114_LLZO_cycling_0120_0289.tiff     |     Wed Feb  1 17:08:39 2017', ' 20170114_LLZO_cycling_0120_0290.tiff     |     Wed Feb  1 17:08:39 2017', ' 20170114_LLZO_cycling_0120_0291.tiff     |     Wed Feb  1 17:08:39 2017', ' 20170114_LLZO_cycling_0120_0292.tiff     |     Wed Feb  1 17:08:39 2017', ' 20170114_LLZO_cycling_0120_0293.tiff     |     Wed Feb  1 17:08:39 2017', ' 20170114_LLZO_cycling_0120_0294.tiff     |     Wed Feb  1 17:08:39 2017', ' 20170114_LLZO_cycling_0120_0295.tiff     |     Wed Feb  1 17:08:39 2017', ' 20170114_LLZO_cycling_0120_0296.tiff     |     Wed Feb  1 17:08:39 2017', ' 20170114_LLZO_cycling_0120_0297.tiff     |     Wed Feb  1 17:08:39 2017', ' 20170114_LLZO_cycling_0120_0298.tiff     |     Wed Feb  1 17:08:39 2017', ' 20170114_LLZO_cycling_0120_0299.tiff     |     Wed Feb  1 17:08:39 2017', ' 20170114_LLZO_cycling_0120_0300.tiff     |     Wed Feb  1 17:08:39 2017', ' 20170114_LLZO_cycling_0120_0301.tiff     |     Wed Feb  1 17:08:39 2017', ' 20170114_LLZO_cycling_0120_0302.tiff     |     Wed Feb  1 17:08:39 2017', ' 20170114_LLZO_cycling_0120_0303.tiff     |     Wed Feb  1 17:08:39 2017', ' 20170114_LLZO_cycling_0120_0304.tiff     |     Wed Feb  1 17:08:39 2017', ' 20170114_LLZO_cycling_0120_0305.tiff     |     Wed Feb  1 17:08:39 2017', ' 20170114_LLZO_cycling_0120_0306.tiff     |     Wed Feb  1 17:08:39 2017', ' 20170114_LLZO_cycling_0120_0307.tiff     |     Wed Feb  1 17:08:39 2017', ' 20170114_LLZO_cycling_0120_0308.tiff     |     Wed Feb  1 17:08:39 2017', ' 20170114_LLZO_cycling_0120_0309.tiff     |     Wed Feb  1 17:08:39 2017', ' 20170114_LLZO_cycling_0120_0310.tiff     |     Wed Feb  1 17:08:39 2017', ' 20170114_LLZO_cycling_0120_0311.tiff     |     Wed Feb  1 17:08:39 2017', ' 20170114_LLZO_cycling_0120_0312.tiff     |     Wed Feb  1 17:08:39 2017', ' 20170114_LLZO_cycling_0120_0313.tiff     |     Wed Feb  1 17:08:39 2017', ' 20170114_LLZO_cycling_0120_0314.tiff     |     Wed Feb  1 17:08:39 2017', ' 20170114_LLZO_cycling_0120_0315.tiff     |     Wed Feb  1 17:08:39 2017', ' 20170114_LLZO_cycling_0120_0316.tiff     |     Wed Feb  1 17:08:39 2017', ' 20170114_LLZO_cycling_0120_0317.tiff     |     Wed Feb  1 17:08:39 2017', ' 20170114_LLZO_cycling_0120_0318.tiff     |     Wed Feb  1 17:08:39 2017', ' 20170114_LLZO_cycling_0120_0319.tiff     |     Wed Feb  1 17:08:39 2017', ' 20170114_LLZO_cycling_0120_0320.tiff     |     Wed Feb  1 17:08:39 2017', ' 20170114_LLZO_cycling_0120_0321.tiff     |     Wed Feb  1 17:08:39 2017', ' 20170114_LLZO_cycling_0120_0322.tiff     |     Wed Feb  1 17:08:39 2017', ' 20170114_LLZO_cycling_0120_0323.tiff     |     Wed Feb  1 17:08:39 2017', ' 20170114_LLZO_cycling_0120_0324.tiff     |     Wed Feb  1 17:08:39 2017', ' 20170114_LLZO_cycling_0120_0325.tiff     |     Wed Feb  1 17:08:39 2017', ' 20170114_LLZO_cycling_0120_0326.tiff     |     Wed Feb  1 17:08:39 2017', ' 20170114_LLZO_cycling_0120_0327.tiff     |     Wed Feb  1 17:08:39 2017', ' 20170114_LLZO_cycling_0120_0328.tiff     |     Wed Feb  1 17:08:39 2017', ' 20170114_LLZO_cycling_0120_0329.tiff     |     Wed Feb  1 17:08:39 2017', ' 20170114_LLZO_cycling_0120_0330.tiff     |     Wed Feb  1 17:08:39 2017', ' 20170114_LLZO_cycling_0120_0331.tiff     |     Wed Feb  1 17:08:39 2017', ' 20170114_LLZO_cycling_0120_0332.tiff     |     Wed Feb  1 17:08:39 2017', ' 20170114_LLZO_cycling_0120_0333.tiff     |     Wed Feb  1 17:08:39 2017', ' 20170114_LLZO_cycling_0120_0334.tiff     |     Wed Feb  1 17:08:39 2017', ' 20170114_LLZO_cycling_0120_0335.tiff     |     Wed Feb  1 17:08:39 2017', ' 20170114_LLZO_cycling_0120_0336.tiff     |     Wed Feb  1 17:08:39 2017', ' 20170114_LLZO_cycling_0120_0337.tiff     |     Wed Feb  1 17:08:39 2017', ' 20170114_LLZO_cycling_0120_0338.tiff     |     Wed Feb  1 17:08:39 2017', ' 20170114_LLZO_cycling_0120_0339.tiff     |     Wed Feb  1 17:08:39 2017', ' 20170114_LLZO_cycling_0120_0340.tiff     |     Wed Feb  1 17:08:39 2017', ' 20170114_LLZO_cycling_0120_0341.tiff     |     Wed Feb  1 17:08:39 2017', ' 20170114_LLZO_cycling_0120_0342.tiff     |     Wed Feb  1 17:08:39 2017', ' 20170114_LLZO_cycling_0120_0343.tiff     |     Wed Feb  1 17:08:39 2017', ' 20170114_LLZO_cycling_0120_0344.tiff     |     Wed Feb  1 17:08:39 2017', ' 20170114_LLZO_cycling_0120_0345.tiff     |     Wed Feb  1 17:08:39 2017', ' 20170114_LLZO_cycling_0120_0346.tiff     |     Wed Feb  1 17:08:39 2017', ' 20170114_LLZO_cycling_0120_0347.tiff     |     Wed Feb  1 17:08:39 2017', ' 20170114_LLZO_cycling_0120_0348.tiff     |     Wed Feb  1 17:08:39 2017', ' 20170114_LLZO_cycling_0120_0349.tiff     |     Wed Feb  1 17:08:39 2017', ' 20170114_LLZO_cycling_0120_0350.tiff     |     Wed Feb  1 17:08:39 2017', ' 20170114_LLZO_cycling_0120_0351.tiff     |     Wed Feb  1 17:08:39 2017', ' 20170114_LLZO_cycling_0120_0352.tiff     |     Wed Feb  1 17:08:39 2017', ' 20170114_LLZO_cycling_0120_0353.tiff     |     Wed Feb  1 17:08:39 2017', ' 20170114_LLZO_cycling_0120_0354.tiff     |     Wed Feb  1 17:08:39 2017', ' 20170114_LLZO_cycling_0120_0355.tiff     |     Wed Feb  1 17:08:39 2017', ' 20170114_LLZO_cycling_0120_0356.tiff     |     Wed Feb  1 17:08:39 2017', ' 20170114_LLZO_cycling_0120_0357.tiff     |     Wed Feb  1 17:08:39 2017', ' 20170114_LLZO_cycling_0120_0358.tiff     |     Wed Feb  1 17:08:39 2017', ' 20170114_LLZO_cycling_0120_0359.tiff     |     Wed Feb  1 17:08:39 2017', ' 20170114_LLZO_cycling_0120_0360.tiff     |     Wed Feb  1 17:08:39 2017', ' 20170114_LLZO_cycling_0120_0361.tiff     |     Wed Feb  1 17:08:39 2017', ' 20170114_LLZO_cycling_0120_0362.tiff     |     Wed Feb  1 17:08:39 2017', ' 20170114_LLZO_cycling_0120_0363.tiff     |     Wed Feb  1 17:08:39 2017', ' 20170114_LLZO_cycling_0120_0364.tiff     |     Wed Feb  1 17:08:39 2017', ' 20170114_LLZO_cycling_0120_0365.tiff     |     Wed Feb  1 17:08:39 2017', ' 20170114_LLZO_cycling_0120_0366.tiff     |     Wed Feb  1 17:08:39 2017', ' 20170114_LLZO_cycling_0120_0367.tiff     |     Wed Feb  1 17:08:39 2017', ' 20170114_LLZO_cycling_0120_0368.tiff     |     Wed Feb  1 17:08:39 2017', ' 20170114_LLZO_cycling_0120_0369.tiff     |     Wed Feb  1 17:08:39 2017', ' 20170114_LLZO_cycling_0120_0370.tiff     |     Wed Feb  1 17:08:39 2017', ' 20170114_LLZO_cycling_0120_0371.tiff     |     Wed Feb  1 17:08:39 2017', ' 20170114_LLZO_cycling_0120_0372.tiff     |     Wed Feb  1 17:08:39 2017', ' 20170114_LLZO_cycling_0120_0373.tiff     |     Wed Feb  1 17:08:39 2017', ' 20170114_LLZO_cycling_0120_0374.tiff     |     Wed Feb  1 17:08:39 2017', ' 20170114_LLZO_cycling_0120_0375.tiff     |     Wed Feb  1 17:08:39 2017', ' 20170114_LLZO_cycling_0120_0376.tiff     |     Wed Feb  1 17:08:39 2017', ' 20170114_LLZO_cycling_0120_0377.tiff     |     Wed Feb  1 17:08:39 2017', ' 20170114_LLZO_cycling_0120_0378.tiff     |     Wed Feb  1 17:08:39 2017', ' 20170114_LLZO_cycling_0120_0379.tiff     |     Wed Feb  1 17:08:39 2017', ' 20170114_LLZO_cycling_0120_0380.tiff     |     Wed Feb  1 17:08:39 2017', ' 20170114_LLZO_cycling_0120_0381.tiff     |     Wed Feb  1 17:08:39 2017', ' 20170114_LLZO_cycling_0120_0382.tiff     |     Wed Feb  1 17:08:39 2017', ' 20170114_LLZO_cycling_0120_0383.tiff     |     Wed Feb  1 17:08:39 2017', ' 20170114_LLZO_cycling_0120_0384.tiff     |     Wed Feb  1 17:08:39 2017', ' 20170114_LLZO_cycling_0120_0385.tiff     |     Wed Feb  1 17:08:39 2017', ' 20170114_LLZO_cycling_0120_0386.tiff     |     Wed Feb  1 17:08:39 2017', ' 20170114_LLZO_cycling_0120_0387.tiff     |     Wed Feb  1 17:08:39 2017', ' 20170114_LLZO_cycling_0120_0388.tiff     |     Wed Feb  1 17:08:39 2017', ' 20170114_LLZO_cycling_0120_0389.tiff     |     Wed Feb  1 17:08:39 2017', ' 20170114_LLZO_cycling_0120_0390.tiff     |     Wed Feb  1 17:08:39 2017', ' 20170114_LLZO_cycling_0120_0391.tiff     |     Wed Feb  1 17:08:39 2017', ' 20170114_LLZO_cycling_0120_0392.tiff     |     Wed Feb  1 17:08:39 2017', ' 20170114_LLZO_cycling_0120_0393.tiff     |     Wed Feb  1 17:08:39 2017', ' 20170114_LLZO_cycling_0120_0394.tiff     |     Wed Feb  1 17:08:39 2017', ' 20170114_LLZO_cycling_0120_0395.tiff     |     Wed Feb  1 17:08:39 2017', ' 20170114_LLZO_cycling_0120_0396.tiff     |     Wed Feb  1 17:08:39 2017', ' 20170114_LLZO_cycling_0120_0397.tiff     |     Wed Feb  1 17:08:39 2017', ' 20170114_LLZO_cycling_0120_0398.tiff     |     Wed Feb  1 17:08:39 2017', ' 20170114_LLZO_cycling_0120_0399.tiff     |     Wed Feb  1 17:08:39 2017', ' 20170114_LLZO_cycling_0120_0400.tiff     |     Wed Feb  1 17:08:39 2017', ' 20170114_LLZO_cycling_0120_0401.tiff     |     Wed Feb  1 17:08:39 2017', ' 20170114_LLZO_cycling_0120_0402.tiff     |     Wed Feb  1 17:08:39 2017', ' 20170114_LLZO_cycling_0120_0403.tiff     |     Wed Feb  1 17:08:39 2017', ' 20170114_LLZO_cycling_0120_0404.tiff     |     Wed Feb  1 17:08:39 2017', ' 20170114_LLZO_cycling_0120_0405.tiff     |     Wed Feb  1 17:08:39 2017', ' 20170114_LLZO_cycling_0120_0406.tiff     |     Wed Feb  1 17:08:39 2017', ' 20170114_LLZO_cycling_0120_0407.tiff     |     Wed Feb  1 17:08:39 2017', ' 20170114_LLZO_cycling_0120_0408.tiff     |     Wed Feb  1 17:08:39 2017', ' 20170114_LLZO_cycling_0120_0409.tiff     |     Wed Feb  1 17:08:39 2017', ' 20170114_LLZO_cycling_0120_0410.tiff     |     Wed Feb  1 17:08:39 2017', ' 20170114_LLZO_cycling_0120_0411.tiff     |     Wed Feb  1 17:08:39 2017', ' 20170114_LLZO_cycling_0120_0412.tiff     |     Wed Feb  1 17:08:39 2017', ' 20170114_LLZO_cycling_0120_0413.tiff     |     Wed Feb  1 17:08:39 2017', ' 20170114_LLZO_cycling_0120_0414.tiff     |     Wed Feb  1 17:08:39 2017', ' 20170114_LLZO_cycling_0120_0415.tiff     |     Wed Feb  1 17:08:39 2017', ' 20170114_LLZO_cycling_0120_0416.tiff     |     Wed Feb  1 17:08:39 2017', ' 20170114_LLZO_cycling_0120_0417.tiff     |     Wed Feb  1 17:08:39 2017', ' 20170114_LLZO_cycling_0120_0418.tiff     |     Wed Feb  1 17:08:39 2017', ' 20170114_LLZO_cycling_0120_0419.tiff     |     Wed Feb  1 17:08:39 2017', ' 20170114_LLZO_cycling_0120_0420.tiff     |     Wed Feb  1 17:08:39 2017', ' 20170114_LLZO_cycling_0120_0421.tiff     |     Wed Feb  1 17:08:39 2017', ' 20170114_LLZO_cycling_0120_0422.tiff     |     Wed Feb  1 17:08:39 2017', ' 20170114_LLZO_cycling_0120_0423.tiff     |     Wed Feb  1 17:08:39 2017', ' 20170114_LLZO_cycling_0120_0424.tiff     |     Wed Feb  1 17:08:39 2017', ' 20170114_LLZO_cycling_0120_0425.tiff     |     Wed Feb  1 17:08:39 2017', ' 20170114_LLZO_cycling_0120_0426.tiff     |     Wed Feb  1 17:08:39 2017', ' 20170114_LLZO_cycling_0120_0427.tiff     |     Wed Feb  1 17:08:39 2017', ' 20170114_LLZO_cycling_0120_0428.tiff     |     Wed Feb  1 17:08:39 2017', ' 20170114_LLZO_cycling_0120_0429.tiff     |     Wed Feb  1 17:08:39 2017', ' 20170114_LLZO_cycling_0120_0430.tiff     |     Wed Feb  1 17:08:39 2017', ' 20170114_LLZO_cycling_0120_0431.tiff     |     Wed Feb  1 17:08:39 2017', ' 20170114_LLZO_cycling_0120_0432.tiff     |     Wed Feb  1 17:08:39 2017', ' 20170114_LLZO_cycling_0120_0433.tiff     |     Wed Feb  1 17:08:39 2017', ' 20170114_LLZO_cycling_0120_0434.tiff     |     Wed Feb  1 17:08:39 2017', ' 20170114_LLZO_cycling_0120_0435.tiff     |     Wed Feb  1 17:08:39 2017', ' 20170114_LLZO_cycling_0120_0436.tiff     |     Wed Feb  1 17:08:39 2017', ' 20170114_LLZO_cycling_0120_0437.tiff     |     Wed Feb  1 17:08:39 2017', ' 20170114_LLZO_cycling_0120_0438.tiff     |     Wed Feb  1 17:08:39 2017', ' 20170114_LLZO_cycling_0120_0439.tiff     |     Wed Feb  1 17:08:39 2017', ' 20170114_LLZO_cycling_0120_0440.tiff     |     Wed Feb  1 17:08:39 2017', ' 20170114_LLZO_cycling_0120_0441.tiff     |     Wed Feb  1 17:08:39 2017', ' 20170114_LLZO_cycling_0120_0442.tiff     |     Wed Feb  1 17:08:39 2017', ' 20170114_LLZO_cycling_0120_0443.tiff     |     Wed Feb  1 17:08:39 2017', ' 20170114_LLZO_cycling_0120_0444.tiff     |     Wed Feb  1 17:08:39 2017', ' 20170114_LLZO_cycling_0120_0445.tiff     |     Wed Feb  1 17:08:39 2017', ' 20170114_LLZO_cycling_0120_0446.tiff     |     Wed Feb  1 17:08:39 2017', ' 20170114_LLZO_cycling_0120_0447.tiff     |     Wed Feb  1 17:08:39 2017', ' 20170114_LLZO_cycling_0120_0448.tiff     |     Wed Feb  1 17:08:39 2017', ' 20170114_LLZO_cycling_0120_0449.tiff     |     Wed Feb  1 17:08:39 2017', ' 20170114_LLZO_cycling_0120_0450.tiff     |     Wed Feb  1 17:08:39 2017', ' 20170114_LLZO_cycling_0120_0451.tiff     |     Wed Feb  1 17:08:39 2017', ' 20170114_LLZO_cycling_0120_0452.tiff     |     Wed Feb  1 17:08:39 2017', ' 20170114_LLZO_cycling_0120_0453.tiff     |     Wed Feb  1 17:08:39 2017', ' 20170114_LLZO_cycling_0120_0454.tiff     |     Wed Feb  1 17:08:39 2017', ' 20170114_LLZO_cycling_0120_0455.tiff     |     Wed Feb  1 17:08:39 2017', ' 20170114_LLZO_cycling_0120_0456.tiff     |     Wed Feb  1 17:08:39 2017', ' 20170114_LLZO_cycling_0120_0457.tiff     |     Wed Feb  1 17:08:39 2017', ' 20170114_LLZO_cycling_0120_0458.tiff     |     Wed Feb  1 17:08:39 2017', ' 20170114_LLZO_cycling_0120_0459.tiff     |     Wed Feb  1 17:08:39 2017', ' 20170114_LLZO_cycling_0120_0460.tiff     |     Wed Feb  1 17:08:39 2017', ' 20170114_LLZO_cycling_0120_0461.tiff     |     Wed Feb  1 17:08:39 2017', ' 20170114_LLZO_cycling_0120_0462.tiff     |     Wed Feb  1 17:08:39 2017', ' 20170114_LLZO_cycling_0120_0463.tiff     |     Wed Feb  1 17:08:39 2017', ' 20170114_LLZO_cycling_0120_0464.tiff     |     Wed Feb  1 17:08:39 2017', ' 20170114_LLZO_cycling_0120_0465.tiff     |     Wed Feb  1 17:08:39 2017', ' 20170114_LLZO_cycling_0120_0466.tiff     |     Wed Feb  1 17:08:39 2017', ' 20170114_LLZO_cycling_0120_0467.tiff     |     Wed Feb  1 17:08:39 2017', ' 20170114_LLZO_cycling_0120_0468.tiff     |     Wed Feb  1 17:08:39 2017', ' 20170114_LLZO_cycling_0120_0469.tiff     |     Wed Feb  1 17:08:39 2017', ' 20170114_LLZO_cycling_0120_0470.tiff     |     Wed Feb  1 17:08:39 2017', ' 20170114_LLZO_cycling_0120_0471.tiff     |     Wed Feb  1 17:08:39 2017', ' 20170114_LLZO_cycling_0120_0472.tiff     |     Wed Feb  1 17:08:39 2017', ' 20170114_LLZO_cycling_0120_0473.tiff     |     Wed Feb  1 17:08:39 2017', ' 20170114_LLZO_cycling_0120_0474.tiff     |     Wed Feb  1 17:08:39 2017', ' 20170114_LLZO_cycling_0120_0475.tiff     |     Wed Feb  1 17:08:39 2017', ' 20170114_LLZO_cycling_0120_0476.tiff     |     Wed Feb  1 17:08:39 2017', ' 20170114_LLZO_cycling_0120_0477.tiff     |     Wed Feb  1 17:08:39 2017', ' 20170114_LLZO_cycling_0120_0478.tiff     |     Wed Feb  1 17:08:39 2017', ' 20170114_LLZO_cycling_0120_0479.tiff     |     Wed Feb  1 17:08:39 2017', ' 20170114_LLZO_cycling_0120_0480.tiff     |     Wed Feb  1 17:08:39 2017', ' 20170114_LLZO_cycling_0120_0481.tiff     |     Wed Feb  1 17:08:39 2017', ' 20170114_LLZO_cycling_0120_0482.tiff     |     Wed Feb  1 17:08:39 2017', ' 20170114_LLZO_cycling_0120_0483.tiff     |     Wed Feb  1 17:08:39 2017', ' 20170114_LLZO_cycling_0120_0484.tiff     |     Wed Feb  1 17:08:39 2017', ' 20170114_LLZO_cycling_0120_0485.tiff     |     Wed Feb  1 17:08:39 2017', ' 20170114_LLZO_cycling_0120_0486.tiff     |     Wed Feb  1 17:08:39 2017', ' 20170114_LLZO_cycling_0120_0487.tiff     |     Wed Feb  1 17:08:39 2017', ' 20170114_LLZO_cycling_0120_0488.tiff     |     Wed Feb  1 17:08:39 2017', ' 20170114_LLZO_cycling_0120_0489.tiff     |     Wed Feb  1 17:08:39 2017', ' 20170114_LLZO_cycling_0120_0490.tiff     |     Wed Feb  1 17:08:39 2017', ' 20170114_LLZO_cycling_0120_0491.tiff     |     Wed Feb  1 17:08:39 2017', ' 20170114_LLZO_cycling_0120_0492.tiff     |     Wed Feb  1 17:08:39 2017', ' 20170114_LLZO_cycling_0120_0493.tiff     |     Wed Feb  1 17:08:39 2017', ' 20170114_LLZO_cycling_0120_0494.tiff     |     Wed Feb  1 17:08:39 2017', ' 20170114_LLZO_cycling_0120_0495.tiff     |     Wed Feb  1 17:08:39 2017', ' 20170114_LLZO_cycling_0120_0496.tiff     |     Wed Feb  1 17:08:39 2017', ' 20170114_LLZO_cycling_0120_0497.tiff     |     Wed Feb  1 17:08:39 2017', ' 20170114_LLZO_cycling_0120_0498.tiff     |     Wed Feb  1 17:08:39 2017', ' 20170114_LLZO_cycling_0120_0499.tiff     |     Wed Feb  1 17:08:39 2017', ' 20170114_LLZO_cycling_0120_0500.tiff     |     Wed Feb  1 17:08:39 2017', ' 20170114_LLZO_cycling_0120_0501.tiff     |     Wed Feb  1 17:08:39 2017', ' 20170114_LLZO_cycling_0120_0502.tiff     |     Wed Feb  1 17:08:39 2017', ' 20170114_LLZO_cycling_0120_0503.tiff     |     Wed Feb  1 17:08:39 2017', ' 20170114_LLZO_cycling_0120_0504.tiff     |     Wed Feb  1 17:08:39 2017', ' 20170114_LLZO_cycling_0120_0505.tiff     |     Wed Feb  1 17:08:39 2017', ' 20170114_LLZO_cycling_0120_0506.tiff     |     Wed Feb  1 17:08:39 2017', ' 20170114_LLZO_cycling_0120_0507.tiff     |     Wed Feb  1 17:08:39 2017', ' 20170114_LLZO_cycling_0120_0508.tiff     |     Wed Feb  1 17:08:39 2017', ' 20170114_LLZO_cycling_0120_0509.tiff     |     Wed Feb  1 17:08:39 2017', ' 20170114_LLZO_cycling_0120_0510.tiff     |     Wed Feb  1 17:08:39 2017', ' 20170114_LLZO_cycling_0120_0511.tiff     |     Wed Feb  1 17:08:39 2017', ' 20170114_LLZO_cycling_0120_0512.tiff     |     Wed Feb  1 17:08:39 2017', ' 20170114_LLZO_cycling_0120_0513.tiff     |     Wed Feb  1 17:08:39 2017', ' 20170114_LLZO_cycling_0120_0514.tiff     |     Wed Feb  1 17:08:39 2017', ' 20170114_LLZO_cycling_0120_0515.tiff     |     Wed Feb  1 17:08:39 2017', ' 20170114_LLZO_cycling_0120_0516.tiff     |     Wed Feb  1 17:08:39 2017', ' 20170114_LLZO_cycling_0120_0517.tiff     |     Wed Feb  1 17:08:39 2017', ' 20170114_LLZO_cycling_0120_0518.tiff     |     Wed Feb  1 17:08:39 2017', ' 20170114_LLZO_cycling_0120_0519.tiff     |     Wed Feb  1 17:08:39 2017', ' 20170114_LLZO_cycling_0120_0520.tiff     |     Wed Feb  1 17:08:39 2017', ' 20170114_LLZO_cycling_0120_0521.tiff     |     Wed Feb  1 17:08:39 2017', ' 20170114_LLZO_cycling_0120_0522.tiff     |     Wed Feb  1 17:08:39 2017', ' 20170114_LLZO_cycling_0120_0523.tiff     |     Wed Feb  1 17:08:39 2017', ' 20170114_LLZO_cycling_0120_0524.tiff     |     Wed Feb  1 17:08:39 2017', ' 20170114_LLZO_cycling_0120_0525.tiff     |     Wed Feb  1 17:08:39 2017', ' 20170114_LLZO_cycling_0120_0526.tiff     |     Wed Feb  1 17:08:39 2017', ' 20170114_LLZO_cycling_0120_0527.tiff     |     Wed Feb  1 17:08:39 2017', ' 20170114_LLZO_cycling_0120_0528.tiff     |     Wed Feb  1 17:08:39 2017', ' 20170114_LLZO_cycling_0120_0529.tiff     |     Wed Feb  1 17:08:39 2017', ' 20170114_LLZO_cycling_0120_0530.tiff     |     Wed Feb  1 17:08:39 2017', ' 20170114_LLZO_cycling_0120_0531.tiff     |     Wed Feb  1 17:08:39 2017', ' 20170114_LLZO_cycling_0120_0532.tiff     |     Wed Feb  1 17:08:39 2017', ' 20170114_LLZO_cycling_0120_0533.tiff     |     Wed Feb  1 17:08:39 2017', ' 20170114_LLZO_cycling_0120_0534.tiff     |     Wed Feb  1 17:08:39 2017', ' 20170114_LLZO_cycling_0120_0535.tiff     |     Wed Feb  1 17:08:39 2017', ' 20170114_LLZO_cycling_0120_0536.tiff     |     Wed Feb  1 17:08:39 2017', ' 20170114_LLZO_cycling_0120_0537.tiff     |     Wed Feb  1 17:08:39 2017', ' 20170114_LLZO_cycling_0120_0538.tiff     |     Wed Feb  1 17:08:39 2017', ' 20170114_LLZO_cycling_0120_0539.tiff     |     Wed Feb  1 17:08:39 2017', ' 20170114_LLZO_cycling_0120_0540.tiff     |     Wed Feb  1 17:08:39 2017', ' 20170114_LLZO_cycling_0120_0541.tiff     |     Wed Feb  1 17:08:39 2017', ' 20170114_LLZO_cycling_0120_0542.tiff     |     Wed Feb  1 17:08:39 2017', ' 20170114_LLZO_cycling_0120_0543.tiff     |     Wed Feb  1 17:08:39 2017', ' 20170114_LLZO_cycling_0120_0544.tiff     |     Wed Feb  1 17:08:39 2017', ' 20170114_LLZO_cycling_0120_0545.tiff     |     Wed Feb  1 17:08:39 2017', ' 20170114_LLZO_cycling_0120_0546.tiff     |     Wed Feb  1 17:08:39 2017', ' 20170114_LLZO_cycling_0120_0547.tiff     |     Wed Feb  1 17:08:39 2017', ' 20170114_LLZO_cycling_0120_0548.tiff     |     Wed Feb  1 17:08:39 2017', ' 20170114_LLZO_cycling_0120_0549.tiff     |     Wed Feb  1 17:08:39 2017', ' 20170114_LLZO_cycling_0120_0550.tiff     |     Wed Feb  1 17:08:39 2017', ' 20170114_LLZO_cycling_0120_0551.tiff     |     Wed Feb  1 17:08:39 2017', ' 20170114_LLZO_cycling_0120_0552.tiff     |     Wed Feb  1 17:08:39 2017', ' 20170114_LLZO_cycling_0120_0553.tiff     |     Wed Feb  1 17:08:39 2017', ' 20170114_LLZO_cycling_0120_0554.tiff     |     Wed Feb  1 17:08:39 2017', ' 20170114_LLZO_cycling_0120_0555.tiff     |     Wed Feb  1 17:08:39 2017', ' 20170114_LLZO_cycling_0120_0556.tiff     |     Wed Feb  1 17:08:39 2017', ' 20170114_LLZO_cycling_0120_0557.tiff     |     Wed Feb  1 17:08:39 2017', ' 20170114_LLZO_cycling_0120_0558.tiff     |     Wed Feb  1 17:08:39 2017', ' 20170114_LLZO_cycling_0120_0559.tiff     |     Wed Feb  1 17:08:39 2017', ' 20170114_LLZO_cycling_0120_0560.tiff     |     Wed Feb  1 17:08:39 2017', ' 20170114_LLZO_cycling_0120_0561.tiff     |     Wed Feb  1 17:08:39 2017', ' 20170114_LLZO_cycling_0120_0562.tiff     |     Wed Feb  1 17:08:39 2017', ' 20170114_LLZO_cycling_0120_0563.tiff     |     Wed Feb  1 17:08:39 2017', ' 20170114_LLZO_cycling_0120_0564.tiff     |     Wed Feb  1 17:08:39 2017', ' 20170114_LLZO_cycling_0120_0565.tiff     |     Wed Feb  1 17:08:39 2017', ' 20170114_LLZO_cycling_0120_0566.tiff     |     Wed Feb  1 17:08:39 2017', ' 20170114_LLZO_cycling_0120_0567.tiff     |     Wed Feb  1 17:08:39 2017', ' 20170114_LLZO_cycling_0120_0568.tiff     |     Wed Feb  1 17:08:39 2017', ' 20170114_LLZO_cycling_0120_0569.tiff     |     Wed Feb  1 17:08:39 2017', ' 20170114_LLZO_cycling_0120_0570.tiff     |     Wed Feb  1 17:08:39 2017', ' 20170114_LLZO_cycling_0120_0571.tiff     |     Wed Feb  1 17:08:39 2017', ' 20170114_LLZO_cycling_0120_0572.tiff     |     Wed Feb  1 17:08:39 2017', ' 20170114_LLZO_cycling_0120_0573.tiff     |     Wed Feb  1 17:08:39 2017', ' 20170114_LLZO_cycling_0120_0574.tiff     |     Wed Feb  1 17:08:39 2017', ' 20170114_LLZO_cycling_0120_0575.tiff     |     Wed Feb  1 17:08:39 2017', ' 20170114_LLZO_cycling_0120_0576.tiff     |     Wed Feb  1 17:08:39 2017', ' 20170114_LLZO_cycling_0120_0577.tiff     |     Wed Feb  1 17:08:39 2017', ' 20170114_LLZO_cycling_0120_0578.tiff     |     Wed Feb  1 17:08:39 2017', ' 20170114_LLZO_cycling_0120_0579.tiff     |     Wed Feb  1 17:08:39 2017', ' 20170114_LLZO_cycling_0120_0580.tiff     |     Wed Feb  1 17:08:39 2017', ' 20170114_LLZO_cycling_0120_0581.tiff     |     Wed Feb  1 17:08:39 2017', ' 20170114_LLZO_cycling_0120_0582.tiff     |     Wed Feb  1 17:08:39 2017', ' 20170114_LLZO_cycling_0120_0583.tiff     |     Wed Feb  1 17:08:39 2017', ' 20170114_LLZO_cycling_0120_0584.tiff     |     Wed Feb  1 17:08:39 2017', ' 20170114_LLZO_cycling_0120_0585.tiff     |     Wed Feb  1 17:08:39 2017', ' 20170114_LLZO_cycling_0120_0586.tiff     |     Wed Feb  1 17:08:39 2017', ' 20170114_LLZO_cycling_0120_0587.tiff     |     Wed Feb  1 17:08:39 2017', ' 20170114_LLZO_cycling_0120_0588.tiff     |     Wed Feb  1 17:08:39 2017', ' 20170114_LLZO_cycling_0120_0589.tiff     |     Wed Feb  1 17:08:39 2017', ' 20170114_LLZO_cycling_0120_0590.tiff     |     Wed Feb  1 17:08:39 2017', ' 20170114_LLZO_cycling_0120_0591.tiff     |     Wed Feb  1 17:08:39 2017', ' 20170114_LLZO_cycling_0120_0592.tiff     |     Wed Feb  1 17:08:39 2017', ' 20170114_LLZO_cycling_0120_0593.tiff     |     Wed Feb  1 17:08:39 2017', ' 20170114_LLZO_cycling_0120_0594.tiff     |     Wed Feb  1 17:08:39 2017', ' 20170114_LLZO_cycling_0120_0595.tiff     |     Wed Feb  1 17:08:39 2017', ' 20170114_LLZO_cycling_0120_0596.tiff     |     Wed Feb  1 17:08:39 2017', ' 20170114_LLZO_cycling_0120_0597.tiff     |     Wed Feb  1 17:08:39 2017', ' 20170114_LLZO_cycling_0120_0598.tiff     |     Wed Feb  1 17:08:39 2017', ' 20170114_LLZO_cycling_0120_0599.tiff     |     Wed Feb  1 17:08:39 2017', ' 20170114_LLZO_cycling_0120_0600.tiff     |     Wed Feb  1 17:08:39 2017', ' 20170114_LLZO_cycling_0120_0601.tiff     |     Wed Feb  1 17:08:39 2017', ' 20170114_LLZO_cycling_0120_0602.tiff     |     Wed Feb  1 17:08:39 2017', ' 20170114_LLZO_cycling_0120_0603.tiff     |     Wed Feb  1 17:08:39 2017', ' 20170114_LLZO_cycling_0120_0604.tiff     |     Wed Feb  1 17:08:39 2017', ' 20170114_LLZO_cycling_0120_0605.tiff     |     Wed Feb  1 17:08:39 2017', ' 20170114_LLZO_cycling_0120_0606.tiff     |     Wed Feb  1 17:08:39 2017', ' 20170114_LLZO_cycling_0120_0607.tiff     |     Wed Feb  1 17:08:39 2017', ' 20170114_LLZO_cycling_0120_0608.tiff     |     Wed Feb  1 17:08:39 2017', ' 20170114_LLZO_cycling_0120_0609.tiff     |     Wed Feb  1 17:08:39 2017', ' 20170114_LLZO_cycling_0120_0610.tiff     |     Wed Feb  1 17:08:39 2017', ' 20170114_LLZO_cycling_0120_0611.tiff     |     Wed Feb  1 17:08:39 2017', ' 20170114_LLZO_cycling_0120_0612.tiff     |     Wed Feb  1 17:08:39 2017', ' 20170114_LLZO_cycling_0120_0613.tiff     |     Wed Feb  1 17:08:39 2017', ' 20170114_LLZO_cycling_0120_0614.tiff     |     Wed Feb  1 17:08:39 2017', ' 20170114_LLZO_cycling_0120_0615.tiff     |     Wed Feb  1 17:08:39 2017', ' 20170114_LLZO_cycling_0120_0616.tiff     |     Wed Feb  1 17:08:39 2017', ' 20170114_LLZO_cycling_0120_0617.tiff     |     Wed Feb  1 17:08:39 2017', ' 20170114_LLZO_cycling_0120_0618.tiff     |     Wed Feb  1 17:08:39 2017', ' 20170114_LLZO_cycling_0120_0619.tiff     |     Wed Feb  1 17:08:39 2017', ' 20170114_LLZO_cycling_0120_0620.tiff     |     Wed Feb  1 17:08:39 2017', ' 20170114_LLZO_cycling_0120_0621.tiff     |     Wed Feb  1 17:08:39 2017', ' 20170114_LLZO_cycling_0120_0622.tiff     |     Wed Feb  1 17:08:39 2017', ' 20170114_LLZO_cycling_0120_0623.tiff     |     Wed Feb  1 17:08:39 2017', ' 20170114_LLZO_cycling_0120_0624.tiff     |     Wed Feb  1 17:08:39 2017', ' 20170114_LLZO_cycling_0120_0625.tiff     |     Wed Feb  1 17:08:39 2017', ' 20170114_LLZO_cycling_0120_0626.tiff     |     Wed Feb  1 17:08:39 2017', ' 20170114_LLZO_cycling_0120_0627.tiff     |     Wed Feb  1 17:08:39 2017', ' 20170114_LLZO_cycling_0120_0628.tiff     |     Wed Feb  1 17:08:39 2017', ' 20170114_LLZO_cycling_0120_0629.tiff     |     Wed Feb  1 17:08:39 2017', ' 20170114_LLZO_cycling_0120_0630.tiff     |     Wed Feb  1 17:08:39 2017', ' 20170114_LLZO_cycling_0120_0631.tiff     |     Wed Feb  1 17:08:39 2017', ' 20170114_LLZO_cycling_0120_0632.tiff     |     Wed Feb  1 17:08:39 2017', ' 20170114_LLZO_cycling_0120_0633.tiff     |     Wed Feb  1 17:08:39 2017', ' 20170114_LLZO_cycling_0120_0634.tiff     |     Wed Feb  1 17:08:39 2017', ' 20170114_LLZO_cycling_0120_0635.tiff     |     Wed Feb  1 17:08:39 2017', ' 20170114_LLZO_cycling_0120_0636.tiff     |     Wed Feb  1 17:08:39 2017', ' 20170114_LLZO_cycling_0120_0637.tiff     |     Wed Feb  1 17:08:39 2017', ' 20170114_LLZO_cycling_0120_0638.tiff     |     Wed Feb  1 17:08:39 2017', ' 20170114_LLZO_cycling_0120_0639.tiff     |     Wed Feb  1 17:08:39 2017', ' 20170114_LLZO_cycling_0120_0640.tiff     |     Wed Feb  1 17:08:39 2017', ' 20170114_LLZO_cycling_0120_0641.tiff     |     Wed Feb  1 17:08:39 2017', ' 20170114_LLZO_cycling_0120_0642.tiff     |     Wed Feb  1 17:08:39 2017', ' 20170114_LLZO_cycling_0120_0643.tiff     |     Wed Feb  1 17:08:39 2017', ' 20170114_LLZO_cycling_0120_0644.tiff     |     Wed Feb  1 17:08:39 2017', ' 20170114_LLZO_cycling_0120_0645.tiff     |     Wed Feb  1 17:08:39 2017', ' 20170114_LLZO_cycling_0120_0646.tiff     |     Wed Feb  1 17:08:39 2017', ' 20170114_LLZO_cycling_0120_0647.tiff     |     Wed Feb  1 17:08:39 2017', ' 20170114_LLZO_cycling_0120_0648.tiff     |     Wed Feb  1 17:08:39 2017', ' 20170114_LLZO_cycling_0120_0649.tiff     |     Wed Feb  1 17:08:39 2017', ' 20170114_LLZO_cycling_0120_0650.tiff     |     Wed Feb  1 17:08:39 2017', ' 20170114_LLZO_cycling_0120_0651.tiff     |     Wed Feb  1 17:08:39 2017', ' 20170114_LLZO_cycling_0120_0652.tiff     |     Wed Feb  1 17:08:39 2017', ' 20170114_LLZO_cycling_0120_0653.tiff     |     Wed Feb  1 17:08:39 2017', ' 20170114_LLZO_cycling_0120_0654.tiff     |     Wed Feb  1 17:08:39 2017', ' 20170114_LLZO_cycling_0120_0655.tiff     |     Wed Feb  1 17:08:39 2017', ' 20170114_LLZO_cycling_0120_0656.tiff     |     Wed Feb  1 17:08:39 2017', ' 20170114_LLZO_cycling_0120_0657.tiff     |     Wed Feb  1 17:08:39 2017', ' 20170114_LLZO_cycling_0120_0658.tiff     |     Wed Feb  1 17:08:39 2017', ' 20170114_LLZO_cycling_0120_0659.tiff     |     Wed Feb  1 17:08:39 2017', ' 20170114_LLZO_cycling_0120_0660.tiff     |     Wed Feb  1 17:08:39 2017', ' 20170114_LLZO_cycling_0120_0661.tiff     |     Wed Feb  1 17:08:39 2017', ' 20170114_LLZO_cycling_0120_0662.tiff     |     Wed Feb  1 17:08:39 2017', ' 20170114_LLZO_cycling_0120_0663.tiff     |     Wed Feb  1 17:08:39 2017', ' 20170114_LLZO_cycling_0120_0664.tiff     |     Wed Feb  1 17:08:39 2017', ' 20170114_LLZO_cycling_0120_0665.tiff     |     Wed Feb  1 17:08:39 2017', ' 20170114_LLZO_cycling_0120_0666.tiff     |     Wed Feb  1 17:08:39 2017', ' 20170114_LLZO_cycling_0120_0667.tiff     |     Wed Feb  1 17:08:39 2017', ' 20170114_LLZO_cycling_0120_0668.tiff     |     Wed Feb  1 17:08:39 2017', ' 20170114_LLZO_cycling_0120_0669.tiff     |     Wed Feb  1 17:08:39 2017', ' 20170114_LLZO_cycling_0120_0670.tiff     |     Wed Feb  1 17:08:39 2017', ' 20170114_LLZO_cycling_0120_0671.tiff     |     Wed Feb  1 17:08:39 2017', ' 20170114_LLZO_cycling_0120_0672.tiff     |     Wed Feb  1 17:08:39 2017', ' 20170114_LLZO_cycling_0120_0673.tiff     |     Wed Feb  1 17:08:39 2017', ' 20170114_LLZO_cycling_0120_0674.tiff     |     Wed Feb  1 17:08:39 2017', ' 20170114_LLZO_cycling_0120_0675.tiff     |     Wed Feb  1 17:08:39 2017', ' 20170114_LLZO_cycling_0120_0676.tiff     |     Wed Feb  1 17:08:39 2017', ' 20170114_LLZO_cycling_0120_0677.tiff     |     Wed Feb  1 17:08:39 2017', ' 20170114_LLZO_cycling_0120_0678.tiff     |     Wed Feb  1 17:08:39 2017', ' 20170114_LLZO_cycling_0120_0679.tiff     |     Wed Feb  1 17:08:39 2017', ' 20170114_LLZO_cycling_0120_0680.tiff     |     Wed Feb  1 17:08:39 2017', ' 20170114_LLZO_cycling_0120_0681.tiff     |     Wed Feb  1 17:08:39 2017', ' 20170114_LLZO_cycling_0120_0682.tiff     |     Wed Feb  1 17:08:39 2017', ' 20170114_LLZO_cycling_0120_0683.tiff     |     Wed Feb  1 17:08:39 2017', ' 20170114_LLZO_cycling_0120_0684.tiff     |     Wed Feb  1 17:08:39 2017', ' 20170114_LLZO_cycling_0120_0685.tiff     |     Wed Feb  1 17:08:39 2017', ' 20170114_LLZO_cycling_0120_0686.tiff     |     Wed Feb  1 17:08:39 2017', ' 20170114_LLZO_cycling_0120_0687.tiff     |     Wed Feb  1 17:08:39 2017', ' 20170114_LLZO_cycling_0120_0688.tiff     |     Wed Feb  1 17:08:39 2017', ' 20170114_LLZO_cycling_0120_0689.tiff     |     Wed Feb  1 17:08:39 2017', ' 20170114_LLZO_cycling_0120_0690.tiff     |     Wed Feb  1 17:08:39 2017', ' 20170114_LLZO_cycling_0120_0691.tiff     |     Wed Feb  1 17:08:39 2017', ' 20170114_LLZO_cycling_0120_0692.tiff     |     Wed Feb  1 17:08:39 2017', ' 20170114_LLZO_cycling_0120_0693.tiff     |     Wed Feb  1 17:08:39 2017', ' 20170114_LLZO_cycling_0120_0694.tiff     |     Wed Feb  1 17:08:39 2017', ' 20170114_LLZO_cycling_0120_0695.tiff     |     Wed Feb  1 17:08:39 2017', ' 20170114_LLZO_cycling_0120_0696.tiff     |     Wed Feb  1 17:08:39 2017', ' 20170114_LLZO_cycling_0120_0697.tiff     |     Wed Feb  1 17:08:39 2017', ' 20170114_LLZO_cycling_0120_0698.tiff     |     Wed Feb  1 17:08:39 2017', ' 20170114_LLZO_cycling_0120_0699.tiff     |     Wed Feb  1 17:08:39 2017', ' 20170114_LLZO_cycling_0120_0700.tiff     |     Wed Feb  1 17:08:39 2017', ' 20170114_LLZO_cycling_0120_0701.tiff     |     Wed Feb  1 17:08:39 2017', ' 20170114_LLZO_cycling_0120_0702.tiff     |     Wed Feb  1 17:08:39 2017', ' 20170114_LLZO_cycling_0120_0703.tiff     |     Wed Feb  1 17:08:39 2017', ' 20170114_LLZO_cycling_0120_0704.tiff     |     Wed Feb  1 17:08:39 2017', ' 20170114_LLZO_cycling_0120_0705.tiff     |     Wed Feb  1 17:08:39 2017', ' 20170114_LLZO_cycling_0120_0706.tiff     |     Wed Feb  1 17:08:39 2017', ' 20170114_LLZO_cycling_0120_0707.tiff     |     Wed Feb  1 17:08:39 2017', ' 20170114_LLZO_cycling_0120_0708.tiff     |     Wed Feb  1 17:08:39 2017', ' 20170114_LLZO_cycling_0120_0709.tiff     |     Wed Feb  1 17:08:39 2017', ' 20170114_LLZO_cycling_0120_0710.tiff     |     Wed Feb  1 17:08:39 2017', ' 20170114_LLZO_cycling_0120_0711.tiff     |     Wed Feb  1 17:08:39 2017', ' 20170114_LLZO_cycling_0120_0712.tiff     |     Wed Feb  1 17:08:39 2017', ' 20170114_LLZO_cycling_0120_0713.tiff     |     Wed Feb  1 17:08:39 2017', ' 20170114_LLZO_cycling_0120_0714.tiff     |     Wed Feb  1 17:08:39 2017', ' 20170114_LLZO_cycling_0120_0715.tiff     |     Wed Feb  1 17:08:39 2017', ' 20170114_LLZO_cycling_0120_0716.tiff     |     Wed Feb  1 17:08:39 2017', ' 20170114_LLZO_cycling_0120_0717.tiff     |     Wed Feb  1 17:08:39 2017', ' 20170114_LLZO_cycling_0120_0718.tiff     |     Wed Feb  1 17:08:39 2017', ' 20170114_LLZO_cycling_0120_0719.tiff     |     Wed Feb  1 17:08:39 2017', ' 20170114_LLZO_cycling_0120_0720.tiff     |     Wed Feb  1 17:08:39 2017', ' 20170114_LLZO_cycling_0120_0721.tiff     |     Wed Feb  1 17:08:39 2017', ' 20170114_LLZO_cycling_0120_0722.tiff     |     Wed Feb  1 17:08:39 2017', ' 20170114_LLZO_cycling_0120_0723.tiff     |     Wed Feb  1 17:08:39 2017', ' 20170114_LLZO_cycling_0120_0724.tiff     |     Wed Feb  1 17:08:39 2017', ' 20170114_LLZO_cycling_0120_0725.tiff     |     Wed Feb  1 17:08:39 2017', ' 20170114_LLZO_cycling_0120_0726.tiff     |     Wed Feb  1 17:08:39 2017', ' 20170114_LLZO_cycling_0120_0727.tiff     |     Wed Feb  1 17:08:39 2017', ' 20170114_LLZO_cycling_0120_0728.tiff     |     Wed Feb  1 17:08:39 2017', ' 20170114_LLZO_cycling_0120_0729.tiff     |     Wed Feb  1 17:08:39 2017', ' 20170114_LLZO_cycling_0120_0730.tiff     |     Wed Feb  1 17:08:39 2017', ' 20170114_LLZO_cycling_0120_0731.tiff     |     Wed Feb  1 17:08:39 2017', ' 20170114_LLZO_cycling_0120_0732.tiff     |     Wed Feb  1 17:08:39 2017', ' 20170114_LLZO_cycling_0120_0733.tiff     |     Wed Feb  1 17:08:39 2017', ' 20170114_LLZO_cycling_0120_0734.tiff     |     Wed Feb  1 17:08:39 2017', ' 20170114_LLZO_cycling_0120_0735.tiff     |     Wed Feb  1 17:08:39 2017', ' 20170114_LLZO_cycling_0120_0736.tiff     |     Wed Feb  1 17:08:39 2017', ' 20170114_LLZO_cycling_0120_0737.tiff     |     Wed Feb  1 17:08:39 2017', ' 20170114_LLZO_cycling_0120_0738.tiff     |     Wed Feb  1 17:08:39 2017', ' 20170114_LLZO_cycling_0120_0739.tiff     |     Wed Feb  1 17:08:39 2017', ' 20170114_LLZO_cycling_0120_0740.tiff     |     Wed Feb  1 17:08:39 2017'), value=()), HBox(children=(Button(description='Enter directory', layout=Layout(margin='5px 40px'), style=ButtonStyle()), Button(description='Select', layout=Layout(margin='5px 40px'), style=ButtonStyle())))), layout=Layout(border='1px solid lightgrey', margin='5px', padding='10px'))))"
      ]
     },
     "metadata": {},
     "output_type": "display_data"
    }
   ],
   "source": [
    "sample_panel = SampleSelectionPanel()\n",
    "wizard = WizardPanel(sample_panel)"
   ]
  },
  {
   "cell_type": "code",
   "execution_count": null,
   "metadata": {
    "collapsed": true
   },
   "outputs": [],
   "source": []
  },
  {
   "cell_type": "code",
   "execution_count": null,
   "metadata": {
    "collapsed": true
   },
   "outputs": [],
   "source": []
  },
  {
   "cell_type": "code",
   "execution_count": 85,
   "metadata": {},
   "outputs": [
    {
     "data": {
      "application/vnd.jupyter.widget-view+json": {
       "model_id": "e62644a4c70b4bc1a0ae94df1d8e9029",
       "version_major": 2,
       "version_minor": 0
      },
      "text/html": [
       "<p>Failed to display Jupyter Widget of type <code>Label</code>.</p>\n",
       "<p>\n",
       "  If you're reading this message in Jupyter Notebook or JupyterLab, it may mean\n",
       "  that the widgets JavaScript is still loading. If this message persists, it\n",
       "  likely means that the widgets JavaScript library is either not installed or\n",
       "  not enabled. See the <a href=\"https://ipywidgets.readthedocs.io/en/stable/user_install.html\">Jupyter\n",
       "  Widgets Documentation</a> for setup instructions.\n",
       "</p>\n",
       "<p>\n",
       "  If you're reading this message in another notebook frontend (for example, a static\n",
       "  rendering on GitHub or <a href=\"https://nbviewer.jupyter.org/\">NBViewer</a>),\n",
       "  it may mean that your frontend doesn't currently support widgets.\n",
       "</p>\n"
      ],
      "text/plain": [
       "Label(value='Select SAMPLES IMAGES and click NEXT')"
      ]
     },
     "metadata": {},
     "output_type": "display_data"
    },
    {
     "data": {
      "application/vnd.jupyter.widget-view+json": {
       "model_id": "44bfc55904574717a5fefa75befae690",
       "version_major": 2,
       "version_minor": 0
      },
      "text/html": [
       "<p>Failed to display Jupyter Widget of type <code>HBox</code>.</p>\n",
       "<p>\n",
       "  If you're reading this message in Jupyter Notebook or JupyterLab, it may mean\n",
       "  that the widgets JavaScript is still loading. If this message persists, it\n",
       "  likely means that the widgets JavaScript library is either not installed or\n",
       "  not enabled. See the <a href=\"https://ipywidgets.readthedocs.io/en/stable/user_install.html\">Jupyter\n",
       "  Widgets Documentation</a> for setup instructions.\n",
       "</p>\n",
       "<p>\n",
       "  If you're reading this message in another notebook frontend (for example, a static\n",
       "  rendering on GitHub or <a href=\"https://nbviewer.jupyter.org/\">NBViewer</a>),\n",
       "  it may mean that your frontend doesn't currently support widgets.\n",
       "</p>\n"
      ],
      "text/plain": [
       "HBox(children=(Label(value='Current sample images selected:', layout=Layout(width='20%')), Label(value='None', layout=Layout(width='50%'))))"
      ]
     },
     "metadata": {},
     "output_type": "display_data"
    },
    {
     "data": {
      "application/vnd.jupyter.widget-view+json": {
       "model_id": "0b225c64ec7d4d4788e4349512414f2c",
       "version_major": 2,
       "version_minor": 0
      },
      "text/html": [
       "<p>Failed to display Jupyter Widget of type <code>HTML</code>.</p>\n",
       "<p>\n",
       "  If you're reading this message in Jupyter Notebook or JupyterLab, it may mean\n",
       "  that the widgets JavaScript is still loading. If this message persists, it\n",
       "  likely means that the widgets JavaScript library is either not installed or\n",
       "  not enabled. See the <a href=\"https://ipywidgets.readthedocs.io/en/stable/user_install.html\">Jupyter\n",
       "  Widgets Documentation</a> for setup instructions.\n",
       "</p>\n",
       "<p>\n",
       "  If you're reading this message in another notebook frontend (for example, a static\n",
       "  rendering on GitHub or <a href=\"https://nbviewer.jupyter.org/\">NBViewer</a>),\n",
       "  it may mean that your frontend doesn't currently support widgets.\n",
       "</p>\n"
      ],
      "text/plain": [
       "HTML(value='Please wait...')"
      ]
     },
     "metadata": {},
     "output_type": "display_data"
    },
    {
     "data": {
      "text/html": [
       "\n",
       "        <style type=\"text/css\">\n",
       "        .jupyter-widgets select option {font-family: \"Lucida Console\", Monaco, monospace;}\n",
       "        div.output_subarea {padding: 0px;}\n",
       "        div.output_subarea > div {margin: 0.4em;}\n",
       "        </style>\n",
       "        "
      ],
      "text/plain": [
       "<IPython.core.display.HTML object>"
      ]
     },
     "metadata": {},
     "output_type": "display_data"
    },
    {
     "data": {
      "application/vnd.jupyter.widget-view+json": {
       "model_id": "663cfbc27b2e4b1da07dadf469109bcc",
       "version_major": 2,
       "version_minor": 0
      },
      "text/html": [
       "<p>Failed to display Jupyter Widget of type <code>VBox</code>.</p>\n",
       "<p>\n",
       "  If you're reading this message in Jupyter Notebook or JupyterLab, it may mean\n",
       "  that the widgets JavaScript is still loading. If this message persists, it\n",
       "  likely means that the widgets JavaScript library is either not installed or\n",
       "  not enabled. See the <a href=\"https://ipywidgets.readthedocs.io/en/stable/user_install.html\">Jupyter\n",
       "  Widgets Documentation</a> for setup instructions.\n",
       "</p>\n",
       "<p>\n",
       "  If you're reading this message in another notebook frontend (for example, a static\n",
       "  rendering on GitHub or <a href=\"https://nbviewer.jupyter.org/\">NBViewer</a>),\n",
       "  it may mean that your frontend doesn't currently support widgets.\n",
       "</p>\n"
      ],
      "text/plain": [
       "VBox(children=(Label(value='', layout=Layout(width='250px')), HBox(children=(HBox(children=(Text(value='/Volumes/my_book_thunderbolt_duo/IPTS/IPTS_17099', description='Location: ', layout=Layout(width='300px'), placeholder=''), Button(description='Jump', layout=Layout(margin='5px 10px', width='100px'), style=ButtonStyle())), layout=Layout(border='1px solid lightgrey', margin='5px 50px 5px 5px', padding='3px')),)), VBox(children=(SelectMultiple(description='Select', layout=Layout(display='flex', flex_flow='column', width='750px'), options=(' .', ' ..', ' .DS_Store                          |     Fri Oct 27 10:11:51 2017', ' cylindrical_geometry_corrected     |     Directory', ' left_edge                          |     Directory', ' normalized_cropped                 |     Directory', ' ob                                 |     Directory', ' radiographs                        |     Directory', ' right_edge                         |     Directory', ' testing_new_output_format          |     Directory'), value=()), HBox(children=(Button(description='Enter directory', layout=Layout(margin='5px 40px'), style=ButtonStyle()), Button(description='Select', layout=Layout(margin='5px 40px'), style=ButtonStyle())))), layout=Layout(border='1px solid lightgrey', margin='5px', padding='10px'))))"
      ]
     },
     "metadata": {},
     "output_type": "display_data"
    },
    {
     "data": {
      "application/vnd.jupyter.widget-view+json": {
       "model_id": "6b26012d72b5443a87dd872b06eaed71",
       "version_major": 2,
       "version_minor": 0
      },
      "text/html": [
       "<p>Failed to display Jupyter Widget of type <code>HBox</code>.</p>\n",
       "<p>\n",
       "  If you're reading this message in Jupyter Notebook or JupyterLab, it may mean\n",
       "  that the widgets JavaScript is still loading. If this message persists, it\n",
       "  likely means that the widgets JavaScript library is either not installed or\n",
       "  not enabled. See the <a href=\"https://ipywidgets.readthedocs.io/en/stable/user_install.html\">Jupyter\n",
       "  Widgets Documentation</a> for setup instructions.\n",
       "</p>\n",
       "<p>\n",
       "  If you're reading this message in another notebook frontend (for example, a static\n",
       "  rendering on GitHub or <a href=\"https://nbviewer.jupyter.org/\">NBViewer</a>),\n",
       "  it may mean that your frontend doesn't currently support widgets.\n",
       "</p>\n"
      ],
      "text/plain": [
       "HBox(children=(Label(value='         ', layout=Layout(width='70%')), Button(button_style='info', description='Next   >>', layout=Layout(width='20%'), style=ButtonStyle(), tooltip='Click to move to next step')))"
      ]
     },
     "metadata": {},
     "output_type": "display_data"
    }
   ],
   "source": [
    "def sample_image():\n",
    "    sample_title = widgets.Label(\"Select SAMPLES IMAGES and click NEXT\")\n",
    "    display(sample_title)\n",
    "\n",
    "    sample_label_ui = widgets.HBox([widgets.Label(\"Current sample images selected:\",\n",
    "                                                 layout = widgets.Layout(width='20%')),\n",
    "                                   widgets.Label(\"None\",\n",
    "                                                layout = widgets.Layout(width='50%')),\n",
    "                                   ])\n",
    "    display(sample_label_ui)\n",
    "    title_ui = sample_label_ui.children[0]\n",
    "\n",
    "    select_images = ipywe.fileselector.FileSelectorPanel(instruction='',\n",
    "                                                         start_dir = system.System.get_working_dir(),\n",
    "                                                        multiple = True)\n",
    "    select_images.show()\n",
    "\n",
    "    next_ui = widgets.HBox([widgets.Label(\"         \",\n",
    "                                         layout=widgets.Layout(width='70%')),\n",
    "                           widgets.Button(description = \"Next   >>\",\n",
    "                                          tooltip = 'Click to move to next step',\n",
    "                                          button_style = 'info',\n",
    "                                         layout=widgets.Layout(width='20%'))])\n",
    "    display(next_ui)\n",
    "    \n",
    "    next_button = next_ui.children[1]\n",
    "    next_button.on_click(ob_images)\n",
    "    \n",
    "def ob_images(event):\n",
    "    ob_title = widgets.Label(\"Select OB IMAGES and click NEXT\")\n",
    "    display(ob_title)\n",
    "\n",
    "    ob_label_ui = widgets.HBox([widgets.Label(\"Current ob images selected:\",\n",
    "                                                 layout = widgets.Layout(width='20%')),\n",
    "                                   widgets.Label(\"None\",\n",
    "                                                layout = widgets.Layout(width='50%')),\n",
    "                                   ])\n",
    "    display(ob_label_ui)\n",
    "    title_ui = ob_label_ui.children[0]\n",
    "\n",
    "    select_images = ipywe.fileselector.FileSelectorPanel(instruction = '',\n",
    "                                                         start_dir = system.System.get_working_dir(),\n",
    "                                                        multiple = True)\n",
    "    select_images.show()\n",
    "\n",
    "    prev_next_ui = widgets.HBox([widgets.Button(description= \"<< Previous\",\n",
    "                                          tooltip = 'Click to move to previous step',\n",
    "                                          button_style = 'info',\n",
    "                                          layout = widgets.Layout(width='20%')),\n",
    "                            widgets.Label(\"         \",\n",
    "                                         layout=widgets.Layout(width='70%')),\n",
    "                           widgets.Button(description = \"Next   >>\",\n",
    "                                          tooltip = 'Click to move to next step',\n",
    "                                          button_style = 'info',\n",
    "                                         layout=widgets.Layout(width='20%'))])\n",
    "    display(prev_next_ui)\n",
    "    \n",
    "sample_image()\n"
   ]
  },
  {
   "cell_type": "code",
   "execution_count": null,
   "metadata": {
    "collapsed": true
   },
   "outputs": [],
   "source": []
  },
  {
   "cell_type": "code",
   "execution_count": null,
   "metadata": {
    "collapsed": true
   },
   "outputs": [],
   "source": []
  },
  {
   "cell_type": "code",
   "execution_count": null,
   "metadata": {
    "collapsed": true
   },
   "outputs": [],
   "source": []
  },
  {
   "cell_type": "code",
   "execution_count": null,
   "metadata": {
    "collapsed": true
   },
   "outputs": [],
   "source": []
  },
  {
   "cell_type": "markdown",
   "metadata": {
    "run_control": {
     "frozen": false,
     "read_only": false
    }
   },
   "source": [
    "# Select Sample Images "
   ]
  },
  {
   "cell_type": "code",
   "execution_count": null,
   "metadata": {
    "run_control": {
     "frozen": false,
     "read_only": false
    }
   },
   "outputs": [],
   "source": [
    "working_dir = system.System.get_working_dir())\n",
    "o_norm_handler = NormalizationHandler(working_dir = working_dir)\n",
    "o_norm_handler.select_images()"
   ]
  },
  {
   "cell_type": "markdown",
   "metadata": {
    "run_control": {
     "frozen": false,
     "read_only": false
    }
   },
   "source": [
    "# Select Open Beam (OB)"
   ]
  },
  {
   "cell_type": "code",
   "execution_count": null,
   "metadata": {
    "run_control": {
     "frozen": false,
     "read_only": false
    }
   },
   "outputs": [],
   "source": [
    "o_norm_handler.select_images(data_type='ob')"
   ]
  },
  {
   "cell_type": "markdown",
   "metadata": {
    "run_control": {
     "frozen": false,
     "read_only": false
    }
   },
   "source": [
    "# Select Dark Field (DF) - Optional"
   ]
  },
  {
   "cell_type": "code",
   "execution_count": null,
   "metadata": {
    "run_control": {
     "frozen": false,
     "read_only": false
    }
   },
   "outputs": [],
   "source": [
    "o_norm_handler.select_images(data_type='df')"
   ]
  },
  {
   "cell_type": "markdown",
   "metadata": {
    "run_control": {
     "frozen": false,
     "read_only": false
    }
   },
   "source": [
    "# Loding data "
   ]
  },
  {
   "cell_type": "code",
   "execution_count": null,
   "metadata": {
    "run_control": {
     "frozen": false,
     "read_only": false
    }
   },
   "outputs": [],
   "source": [
    "o_norm_handler.load_data()"
   ]
  },
  {
   "cell_type": "markdown",
   "metadata": {
    "collapsed": true,
    "run_control": {
     "frozen": false,
     "read_only": false
    }
   },
   "source": [
    "# Preview Data"
   ]
  },
  {
   "cell_type": "code",
   "execution_count": null,
   "metadata": {
    "run_control": {
     "frozen": false,
     "read_only": false
    }
   },
   "outputs": [],
   "source": [
    "o_norm_handler.plot_images(data_type='sample')"
   ]
  },
  {
   "cell_type": "code",
   "execution_count": null,
   "metadata": {
    "run_control": {
     "frozen": false,
     "read_only": false
    }
   },
   "outputs": [],
   "source": [
    "o_norm_handler.plot_images(data_type='ob')"
   ]
  },
  {
   "cell_type": "markdown",
   "metadata": {
    "run_control": {
     "frozen": false,
     "read_only": false
    }
   },
   "source": [
    "# Select Background Region "
   ]
  },
  {
   "cell_type": "code",
   "execution_count": null,
   "metadata": {
    "run_control": {
     "frozen": false,
     "read_only": false
    }
   },
   "outputs": [],
   "source": [
    "o_norm_handler.with_or_without_roi()"
   ]
  },
  {
   "cell_type": "code",
   "execution_count": null,
   "metadata": {
    "run_control": {
     "frozen": false,
     "read_only": false
    },
    "scrolled": false
   },
   "outputs": [],
   "source": [
    "o_norm_handler.select_sample_roi()"
   ]
  },
  {
   "cell_type": "markdown",
   "metadata": {
    "run_control": {
     "frozen": false,
     "read_only": false
    }
   },
   "source": [
    "# Normalization"
   ]
  },
  {
   "cell_type": "code",
   "execution_count": null,
   "metadata": {
    "run_control": {
     "frozen": false,
     "read_only": false
    }
   },
   "outputs": [],
   "source": [
    "o_norm_handler.run_normalization()"
   ]
  },
  {
   "cell_type": "markdown",
   "metadata": {
    "collapsed": true,
    "run_control": {
     "frozen": false,
     "read_only": false
    }
   },
   "source": [
    "# Export "
   ]
  },
  {
   "cell_type": "code",
   "execution_count": null,
   "metadata": {
    "run_control": {
     "frozen": false,
     "read_only": false
    }
   },
   "outputs": [],
   "source": [
    "o_norm_handler.select_export_folder()"
   ]
  },
  {
   "cell_type": "code",
   "execution_count": null,
   "metadata": {
    "run_control": {
     "frozen": false,
     "read_only": false
    },
    "scrolled": true
   },
   "outputs": [],
   "source": [
    "o_norm_handler.export()"
   ]
  },
  {
   "cell_type": "code",
   "execution_count": null,
   "metadata": {
    "run_control": {
     "frozen": false,
     "read_only": false
    }
   },
   "outputs": [],
   "source": []
  }
 ],
 "metadata": {
  "anaconda-cloud": {},
  "kernelspec": {
   "display_name": "Python 3",
   "language": "python",
   "name": "python3"
  },
  "language_info": {
   "codemirror_mode": {
    "name": "ipython",
    "version": 3
   },
   "file_extension": ".py",
   "mimetype": "text/x-python",
   "name": "python",
   "nbconvert_exporter": "python",
   "pygments_lexer": "ipython3",
   "version": "3.6.2"
  },
  "toc": {
   "colors": {
    "hover_highlight": "#DAA520",
    "running_highlight": "#FF0000",
    "selected_highlight": "#FFD700"
   },
   "moveMenuLeft": true,
   "nav_menu": {
    "height": "101px",
    "width": "252px"
   },
   "navigate_menu": true,
   "number_sections": true,
   "sideBar": true,
   "threshold": 4,
   "toc_cell": false,
   "toc_section_display": "block",
   "toc_window_display": false
  },
  "widgets": {
   "state": {
    "2b2d16bfbfd3484cac2f344fd1d12020": {
     "views": [
      {
       "cell_index": 10
      }
     ]
    },
    "4dd206ee587147a9b68c13c6603eaf4c": {
     "views": [
      {
       "cell_index": 17
      }
     ]
    },
    "5e743831f3194fb0b8a514748b6cf7fe": {
     "views": [
      {
       "cell_index": 10
      }
     ]
    },
    "8467e37c099e49c3bf702cb67b92bba8": {
     "views": [
      {
       "cell_index": 15
      }
     ]
    },
    "adfc1b492e4e46cda16e2a751239a9b0": {
     "views": [
      {
       "cell_index": 13
      }
     ]
    },
    "c5df07520ba54e9bb72848eb399b40f5": {
     "views": [
      {
       "cell_index": 10
      }
     ]
    },
    "c99aa0c95ced4af293b785d60968c02d": {
     "views": [
      {
       "cell_index": 12
      }
     ]
    }
   },
   "version": "1.2.0"
  }
 },
 "nbformat": 4,
 "nbformat_minor": 1
}
