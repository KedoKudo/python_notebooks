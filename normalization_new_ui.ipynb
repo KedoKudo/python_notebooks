{
 "cells": [
  {
   "cell_type": "markdown",
   "metadata": {
    "run_control": {
     "frozen": false,
     "read_only": false
    }
   },
   "source": [
    "# Select Your IPTS "
   ]
  },
  {
   "cell_type": "code",
   "execution_count": 22,
   "metadata": {
    "run_control": {
     "frozen": false,
     "read_only": false
    }
   },
   "outputs": [
    {
     "name": "stdout",
     "output_type": "stream",
     "text": [
      "** Using Debugging Mode! **\n"
     ]
    },
    {
     "data": {
      "application/vnd.jupyter.widget-view+json": {
       "model_id": "b6996d33371f4beeac80329a7cc30053",
       "version_major": 2,
       "version_minor": 0
      },
      "text/html": [
       "<p>Failed to display Jupyter Widget of type <code>HBox</code>.</p>\n",
       "<p>\n",
       "  If you're reading this message in Jupyter Notebook or JupyterLab, it may mean\n",
       "  that the widgets JavaScript is still loading. If this message persists, it\n",
       "  likely means that the widgets JavaScript library is either not installed or\n",
       "  not enabled. See the <a href=\"https://ipywidgets.readthedocs.io/en/stable/user_install.html\">Jupyter\n",
       "  Widgets Documentation</a> for setup instructions.\n",
       "</p>\n",
       "<p>\n",
       "  If you're reading this message in another notebook frontend (for example, a static\n",
       "  rendering on GitHub or <a href=\"https://nbviewer.jupyter.org/\">NBViewer</a>),\n",
       "  it may mean that your frontend doesn't currently support widgets.\n",
       "</p>\n"
      ],
      "text/plain": [
       "HBox(children=(Label(value='Select Working Folder', layout=Layout(width='20%')), Select(index=11, options=('BraggEdge', 'Brianne', 'DOE_letters', 'FITSimages', 'IPTS-12534', 'IPTS-16259', 'IPTS_13639_resonance_shawn', 'IPTS_14832', 'IPTS_16212', 'IPTS_16475', 'IPTS_16893', 'IPTS_17099', 'IPTS_17685', 'IPTS_17981', 'IPTS_18806', 'IPTS_19037', 'IPTS_19558', 'IPTS_test_normalization', 'IPTS_testing_time_spectra', 'ImagesToRegisterForGian', 'Indu', 'Keita_code', 'Pour_ibeatles_video', 'ResonanceImaging', 'SENSITIVE', 'SarmaGUI', 'SphereCoordinates3D', 'TempData', 'iBeatles_debugging'), value='IPTS_17099')))"
      ]
     },
     "metadata": {},
     "output_type": "display_data"
    }
   ],
   "source": [
    "from __code import system\n",
    "system.System.select_working_dir()"
   ]
  },
  {
   "cell_type": "markdown",
   "metadata": {
    "run_control": {
     "frozen": false,
     "read_only": false
    }
   },
   "source": [
    "# Description "
   ]
  },
  {
   "cell_type": "markdown",
   "metadata": {
    "run_control": {
     "frozen": false,
     "read_only": false
    }
   },
   "source": [
    "This notebook performs the normalization of a set of images (tiff or fits) by OBs. \n",
    "\n",
    "The steps are:\n",
    " - select your **sample images**\n",
    " - select your **ob images**\n",
    " - select your **df images** (optional)\n",
    " - all the data will be loaded\n",
    " - preview of the sample and ob\n",
    " - selection of a **background** region in the sample data\n",
    " - normalization is performed\n",
    " - export of the normalized data"
   ]
  },
  {
   "cell_type": "markdown",
   "metadata": {
    "run_control": {
     "frozen": false,
     "read_only": false
    }
   },
   "source": [
    "# Python Import"
   ]
  },
  {
   "cell_type": "code",
   "execution_count": 23,
   "metadata": {
    "run_control": {
     "frozen": false,
     "read_only": false
    }
   },
   "outputs": [
    {
     "data": {
      "text/html": [
       "<style>\n",
       "\n",
       "/* The following CSS has been adapted from\n",
       "   http://nbviewer.ipython.org/github/ketch/teaching-numerics-with-notebooks/blob/master/Styling_notebooks.ipynb\n",
       "   by Aron Ahmadia and David Ketcheson and has been reused under CC BY 4.0\n",
       "   */\n",
       "\n",
       "/* main background */\n",
       "#site { \n",
       "    background: #888;\n",
       "    color: #red; \n",
       "}\n",
       "\n",
       "div.container {\n",
       "    width: 100% ! important;\n",
       "}\n",
       "\n",
       "div.cell { /* set cell width to about 80 chars */\n",
       "    width: 95%;\n",
       "}\n",
       "\n",
       "div #notebook { /* centre the content */\n",
       "/*    background: #fff; /* white background for content */\n",
       "    background: blue;\n",
       "    width: 100%;\n",
       "    margin: auto;\n",
       "    padding-left: 1em;\n",
       "    padding-right: 1em;\n",
       "    background-image: url(\"tile_background.jpg\");\n",
       "}\n",
       "\n",
       "#notebook li { /* More space between bullet points */\n",
       "    margin-top:0.4em;\n",
       "}\n",
       "\n",
       "/* change background color of running cells */\n",
       "div.cell.code_cell.running {\n",
       "/*    background-color: rgba(164,188,194,.75); */\n",
       "    background-color: green;\n",
       "    border-width: 8px\n",
       "    border-style: solid\n",
       "    border-color: #111;\n",
       "}\n",
       "\n",
       "/* Put a solid color box around each cell and its output, visually linking them together */\n",
       "div.cell.code_cell {\n",
       "    background-color: rgba(164,188,194,.25); /* Continuum L Gray with alpha 0.25 */\n",
       "    border-radius: 10px; /* rounded borders */\n",
       "    padding: 1em;\n",
       "    margin-top: 1em;\n",
       "}\n",
       "\n",
       "div.text_cell_render{\n",
       "\tfont-family: Georgia, Times, 'Times New Roman', serif;\n",
       "    line-height: 110%;\n",
       "    font-size: 105%;\n",
       "    width: 95%;\n",
       "    margin-left: auto;\n",
       "    margin-right: auto;\n",
       "}\n",
       "\n",
       "\n",
       "/* Formatting for header cells */\n",
       ".text_cell_render h1 {\n",
       "\tfont-family: Arial, 'Helvetica Neue', Helvetica, sans-serif;\n",
       "    font-weight: 400;\n",
       "    font-size: 30pt;\n",
       "    line-height: 100%;\n",
       "    color: rgb(37,55,70); /* Continuum Blue*/\n",
       "    margin-bottom: 0.1em;\n",
       "    margin-top: 0.1em;\n",
       "    display: block;\n",
       "}\n",
       ".text_cell_render h2 {\n",
       "\tfont-family: Arial, 'Helvetica Neue', Helvetica, sans-serif;\n",
       "    font-weight: 700;\n",
       "    font-size: 22pt;\n",
       "    line-height: 100%;\n",
       "    color: rgb(37,55,70);\n",
       "    margin-bottom: 0.1em;\n",
       "    margin-top: 0.1em;\n",
       "    display: block;\n",
       "}\n",
       "\n",
       ".text_cell_render h3 {\n",
       "\tfont-family: Arial, 'Helvetica Neue', Helvetica, sans-serif;\n",
       "    margin-top:12px;\n",
       "    margin-bottom: 3px;\n",
       "    font-style: italic;\n",
       "    color: rgb(37, 55, 70);\n",
       "}\n",
       "\n",
       ".text_cell_render h4 {\n",
       "\tfont-family: Arial, 'Helvetica Neue', Helvetica, sans-serif;\n",
       "}\n",
       "\n",
       ".text_cell_render h5 {\n",
       "\tfont-family: Arial, 'Helvetica Neue', Helvetica, sans-serif;\n",
       "    font-weight: 300;\n",
       "    font-size: 14pt;\n",
       "    font-style: italic;\n",
       "    margin-bottom: .1em;\n",
       "    margin-top: 0.1em;\n",
       "    display: block;\n",
       "}\n",
       "\n",
       ".text_cell_render h6 {\n",
       "\tfont-family: Arial, 'Helvetica Neue', Helvetica, sans-serif;\n",
       "    font-weight: 300;\n",
       "    font-size: 10pt;\n",
       "    margin-bottom: 1px;\n",
       "    margin-top: 1px;\n",
       "}\n",
       "\n",
       ".CodeMirror{\n",
       "        font-family: \"PT Mono\", fixed;\n",
       "        font-size: 100%;\n",
       "}\n",
       "\n",
       "#notebook_panel { /* main background */\n",
       "    background-image: url(\"tile_background.jpg\");\n",
       "}\n",
       "\n",
       "\n",
       "\n",
       "\n",
       "</style>\n"
      ],
      "text/plain": [
       "<IPython.core.display.HTML object>"
      ]
     },
     "execution_count": 23,
     "metadata": {},
     "output_type": "execute_result"
    }
   ],
   "source": [
    "from __code.__all import custom_style\n",
    "custom_style.style()"
   ]
  },
  {
   "cell_type": "code",
   "execution_count": 24,
   "metadata": {
    "run_control": {
     "frozen": false,
     "read_only": false
    }
   },
   "outputs": [],
   "source": [
    "from __code.normalization import NormalizationHandler"
   ]
  },
  {
   "cell_type": "code",
   "execution_count": 25,
   "metadata": {
    "run_control": {
     "frozen": false,
     "read_only": false
    }
   },
   "outputs": [],
   "source": [
    "%matplotlib notebook"
   ]
  },
  {
   "cell_type": "code",
   "execution_count": 26,
   "metadata": {
    "run_control": {
     "frozen": false,
     "read_only": false
    }
   },
   "outputs": [],
   "source": [
    "from ipywidgets import widgets, Layout\n",
    "from IPython.core.display import display\n",
    "import ipywe.fileselector\n"
   ]
  },
  {
   "cell_type": "code",
   "execution_count": 71,
   "metadata": {
    "run_control": {
     "frozen": false,
     "read_only": false
    }
   },
   "outputs": [],
   "source": [
    "def close(w):\n",
    "    \"recursively close a widget\"\n",
    "    if hasattr(w, 'children'):\n",
    "        for c in w.children:\n",
    "            close(c)\n",
    "            continue\n",
    "    w.close()\n",
    "    return\n",
    "\n",
    "class myFileSelectorPanel(ipywe.fileselector.FileSelectorPanel):\n",
    "    \n",
    "    def __init__(self, instruction, start_dir=\".\", type='file', \n",
    "                 next=None, multiple=False, \n",
    "                 newdir_toolbar_button=False, \n",
    "                 current_ui=None,\n",
    "                 parent_ui=None):\n",
    "        super(myFileSelectorPanel, self).__init__(instruction, \n",
    "                                                  start_dir= start_dir, \n",
    "                                                  type=type, \n",
    "                                                  next=next, \n",
    "                                                  multiple=multiple,\n",
    "                                                  newdir_toolbar_button=newdir_toolbar_button)\n",
    "        self.current_ui = current_ui\n",
    "        self.parent_ui = parent_ui\n",
    "    \n",
    "    def validate(self, s):\n",
    "        super(myFileSelectorPanel, self).validate(s)\n",
    "        if self.current_ui.state == 'sample':\n",
    "            self.parent_ui.sample_files = self.selected\n",
    "        elif self.current_ui.state == 'ob':\n",
    "            self.parent_ui.ob_files = self.selected\n",
    "        else:\n",
    "            self.parent_ui.df_files = self.selected\n",
    "        \n",
    "        self.current_ui.label.value = \"{}\".format(len(self.selected))\n",
    "        \n",
    "        \n",
    "class Panel:\n",
    "    \n",
    "    layout = Layout(border='1px lightgray solid', margin='5px', padding='15px')\n",
    "    button_layout = Layout(margin='10px 5px 5px 5px')\n",
    "    label_layout = Layout(height='32px', padding='2px', width='300px')\n",
    "    \n",
    "    current_state_label_ui = None\n",
    "    prev_button_ui = None\n",
    "    next_button_ui = None\n",
    "    \n",
    "    def __init__(self, prev_button=False, next_button=True, state='sample'):\n",
    "        \n",
    "        self.prev_button = prev_button\n",
    "        self.next_button = next_button\n",
    "        self.state = state\n",
    "        \n",
    "        self.top_panel()\n",
    "        self.bottom_panel()\n",
    "        self.file_selector()\n",
    "        \n",
    "        self.init_widgets()\n",
    "        \n",
    "    def init_widgets(self):\n",
    "        self.title.value = \"Select list of {} files \".format(self.state)\n",
    "\n",
    "        _list = self.sample_files\n",
    "        if self.state == 'ob':\n",
    "            _list = self.ob_files\n",
    "        elif self.state == 'df':\n",
    "            _list = self.df_files\n",
    "        self.label.value = \"{} files selected\".format(len(_list))\n",
    "        \n",
    "    def top_panel(self):\n",
    "        title_ui = widgets.HBox([widgets.Label(\"Instructions:\",\n",
    "                                               layout = widgets.Layout(width='20%')),\n",
    "                                 widgets.Label(\"Select Samples Images and click NEXT\",\n",
    "                                                layout = widgets.Layout(width='50%')),\n",
    "                                ])\n",
    "\n",
    "        label_ui = widgets.HBox([widgets.Label(\"Sample selected:\",\n",
    "                                               layout = widgets.Layout(width='20%')),\n",
    "                                 widgets.Label(\"None\",\n",
    "                                               layout = widgets.Layout(width='50%')),\n",
    "                                ])\n",
    "        self.title = title_ui.children[1] # \"Select [Samples/OB/DF] Images [and click NEXT]\n",
    "        self.label = label_ui.children[1] # number of samples selected\n",
    "        \n",
    "        self.top_panel = widgets.VBox(children=[title_ui, label_ui],\n",
    "                                      layout=self.layout)\n",
    "        \n",
    "    def prev_button_clicked(self, event):\n",
    "        raise NotImplementedError\n",
    "\n",
    "    def next_button_clicked(self, event):\n",
    "        raise NotImplementedError\n",
    "        \n",
    "    def bottom_panel(self):\n",
    "        list_ui = []\n",
    "        if self.prev_button:\n",
    "            self.prev_button_ui = widgets.Button(description = \"<< Previous Step\",\n",
    "                                                 tooltip = 'Click to move to previous step',\n",
    "                                                 button_style = 'info',\n",
    "                                                 layout=widgets.Layout(width='20%'))\n",
    "            self.prev_button_ui.on_click(self.prev_button_clicked)\n",
    "            list_ui.append(self.prev_button_ui)\n",
    "        \n",
    "        self.current_state_label_ui = widgets.Label(\"         \",\n",
    "                                                    layout=widgets.Layout(width='70%'))\n",
    "        list_ui.append(self.current_state_label_ui)\n",
    "        \n",
    "        if self.next_button:\n",
    "            self.next_button_ui = widgets.Button(description = \"Next Step>>\",\n",
    "                                                 tooltip = 'Click to move to next step',\n",
    "                                                 button_style = 'info',\n",
    "                                                 layout=widgets.Layout(width='20%'))\n",
    "            list_ui.append(self.next_button_ui)\n",
    "            self.next_button_ui.on_click(self.next_button_clicked)\n",
    "            \n",
    "        self.bottom_panel = widgets.HBox(list_ui)\n",
    "\n",
    "    def file_selector(self):\n",
    "        self.file_selector = myFileSelectorPanel(instruction='',\n",
    "                                                 start_dir = system.System.get_working_dir(),\n",
    "                                                 multiple = True,\n",
    "                                                 current_ui = self,\n",
    "                                                 parent_ui = self)\n",
    "\n",
    "    \n",
    "    def show(self):\n",
    "        display(self.top_panel)\n",
    "        display(self.bottom_panel)\n",
    "        self.file_selector.show()\n",
    "        \n",
    "    def remove(self):\n",
    "        close(self.top_panel)\n",
    "        close(self.bottom_panel)\n",
    "        self.file_selector.remove()\n",
    "        \n",
    "    def nextStep(self):\n",
    "        raise NotImplementedError\n",
    "        \n",
    "class WizardPanel:\n",
    "    \n",
    "    label_layout = Layout(border='1px lighgray solide', height='35px', padding='8px', width='300px')\n",
    "    \n",
    "    def __init__(self, start_panel):\n",
    "        display(widgets.Label(\"Selection of All Input Files\",\n",
    "                             layout=self.label_layout))\n",
    "        start_panel.show()\n",
    "        return"
   ]
  },
  {
   "cell_type": "code",
   "execution_count": 72,
   "metadata": {
    "run_control": {
     "frozen": false,
     "read_only": false
    }
   },
   "outputs": [],
   "source": [
    "class OBSelectionPanel(Panel):\n",
    "    \n",
    "    def __init__(self, top_parent=None):\n",
    "        self.parent = top_parent\n",
    "        super(OBSelectionPanel, self).__init__(prev_button=True)\n",
    "        \n",
    "    def next_button_clicked(self, event):\n",
    "        try:\n",
    "            self.parent.ob_files = self.file_selector.selected\n",
    "        except:\n",
    "            self.parent.ob_files = []\n",
    "            \n",
    "        self.remove()\n",
    "        print(\"next button clicked\")\n",
    "        \n",
    "    def prev_button_clicked(self, event):\n",
    "        print(\"prev button clicked\")\n",
    "        self.remove()\n",
    "        _panel = SampleSelectionPanel(top_parent=self.parent)\n",
    "        _panel.show()\n",
    "\n",
    "class SampleSelectionPanel(Panel):\n",
    "\n",
    "    sample_files = []\n",
    "    ob_files = []\n",
    "    df_files = []\n",
    "\n",
    "    def __init__(self, prev_button=False, next_button=True):\n",
    "        super(SampleSelectionPanel, self).__init__(prev_button=prev_button, next_button=next_button)\n",
    "\n",
    "    def next_button_clicked(self, event):\n",
    "        self.remove()\n",
    "        _panel = OBSelectionPanel(top_parent=self)\n",
    "        _panel.show()\n",
    "        \n"
   ]
  },
  {
   "cell_type": "code",
   "execution_count": 73,
   "metadata": {
    "run_control": {
     "frozen": false,
     "read_only": false
    },
    "scrolled": false
   },
   "outputs": [
    {
     "data": {
      "application/vnd.jupyter.widget-view+json": {
       "model_id": "f7784c32386a466aa476124c3d1fb596",
       "version_major": 2,
       "version_minor": 0
      },
      "text/html": [
       "<p>Failed to display Jupyter Widget of type <code>HTML</code>.</p>\n",
       "<p>\n",
       "  If you're reading this message in Jupyter Notebook or JupyterLab, it may mean\n",
       "  that the widgets JavaScript is still loading. If this message persists, it\n",
       "  likely means that the widgets JavaScript library is either not installed or\n",
       "  not enabled. See the <a href=\"https://ipywidgets.readthedocs.io/en/stable/user_install.html\">Jupyter\n",
       "  Widgets Documentation</a> for setup instructions.\n",
       "</p>\n",
       "<p>\n",
       "  If you're reading this message in another notebook frontend (for example, a static\n",
       "  rendering on GitHub or <a href=\"https://nbviewer.jupyter.org/\">NBViewer</a>),\n",
       "  it may mean that your frontend doesn't currently support widgets.\n",
       "</p>\n"
      ],
      "text/plain": [
       "HTML(value='Please wait...')"
      ]
     },
     "metadata": {},
     "output_type": "display_data"
    },
    {
     "data": {
      "application/vnd.jupyter.widget-view+json": {
       "model_id": "588843a9a376452eba21466600eb3bd3",
       "version_major": 2,
       "version_minor": 0
      },
      "text/html": [
       "<p>Failed to display Jupyter Widget of type <code>Label</code>.</p>\n",
       "<p>\n",
       "  If you're reading this message in Jupyter Notebook or JupyterLab, it may mean\n",
       "  that the widgets JavaScript is still loading. If this message persists, it\n",
       "  likely means that the widgets JavaScript library is either not installed or\n",
       "  not enabled. See the <a href=\"https://ipywidgets.readthedocs.io/en/stable/user_install.html\">Jupyter\n",
       "  Widgets Documentation</a> for setup instructions.\n",
       "</p>\n",
       "<p>\n",
       "  If you're reading this message in another notebook frontend (for example, a static\n",
       "  rendering on GitHub or <a href=\"https://nbviewer.jupyter.org/\">NBViewer</a>),\n",
       "  it may mean that your frontend doesn't currently support widgets.\n",
       "</p>\n"
      ],
      "text/plain": [
       "Label(value='Selection of All Input Files', layout=Layout(border='1px lighgray solide', height='35px', padding='8px', width='300px'))"
      ]
     },
     "metadata": {},
     "output_type": "display_data"
    },
    {
     "data": {
      "application/vnd.jupyter.widget-view+json": {
       "model_id": "1d6e4350b7d44a17a96d17a842d16fcf",
       "version_major": 2,
       "version_minor": 0
      },
      "text/html": [
       "<p>Failed to display Jupyter Widget of type <code>VBox</code>.</p>\n",
       "<p>\n",
       "  If you're reading this message in Jupyter Notebook or JupyterLab, it may mean\n",
       "  that the widgets JavaScript is still loading. If this message persists, it\n",
       "  likely means that the widgets JavaScript library is either not installed or\n",
       "  not enabled. See the <a href=\"https://ipywidgets.readthedocs.io/en/stable/user_install.html\">Jupyter\n",
       "  Widgets Documentation</a> for setup instructions.\n",
       "</p>\n",
       "<p>\n",
       "  If you're reading this message in another notebook frontend (for example, a static\n",
       "  rendering on GitHub or <a href=\"https://nbviewer.jupyter.org/\">NBViewer</a>),\n",
       "  it may mean that your frontend doesn't currently support widgets.\n",
       "</p>\n"
      ],
      "text/plain": [
       "VBox(children=(HBox(children=(Label(value='Instructions:', layout=Layout(width='20%')), Label(value='sample selected', layout=Layout(width='50%')))), HBox(children=(Label(value='Sample selected:', layout=Layout(width='20%')), Label(value='0 files selected', layout=Layout(width='50%'))))), layout=Layout(border='1px lightgray solid', margin='5px', padding='15px'))"
      ]
     },
     "metadata": {},
     "output_type": "display_data"
    },
    {
     "data": {
      "application/vnd.jupyter.widget-view+json": {
       "model_id": "5ab785cab05446ccbfec4763636a747a",
       "version_major": 2,
       "version_minor": 0
      },
      "text/html": [
       "<p>Failed to display Jupyter Widget of type <code>HBox</code>.</p>\n",
       "<p>\n",
       "  If you're reading this message in Jupyter Notebook or JupyterLab, it may mean\n",
       "  that the widgets JavaScript is still loading. If this message persists, it\n",
       "  likely means that the widgets JavaScript library is either not installed or\n",
       "  not enabled. See the <a href=\"https://ipywidgets.readthedocs.io/en/stable/user_install.html\">Jupyter\n",
       "  Widgets Documentation</a> for setup instructions.\n",
       "</p>\n",
       "<p>\n",
       "  If you're reading this message in another notebook frontend (for example, a static\n",
       "  rendering on GitHub or <a href=\"https://nbviewer.jupyter.org/\">NBViewer</a>),\n",
       "  it may mean that your frontend doesn't currently support widgets.\n",
       "</p>\n"
      ],
      "text/plain": [
       "HBox(children=(Label(value='         ', layout=Layout(width='70%')), Button(button_style='info', description='Next Step>>', layout=Layout(width='20%'), style=ButtonStyle(), tooltip='Click to move to next step')))"
      ]
     },
     "metadata": {},
     "output_type": "display_data"
    },
    {
     "data": {
      "text/html": [
       "\n",
       "        <style type=\"text/css\">\n",
       "        .jupyter-widgets select option {font-family: \"Lucida Console\", Monaco, monospace;}\n",
       "        div.output_subarea {padding: 0px;}\n",
       "        div.output_subarea > div {margin: 0.4em;}\n",
       "        </style>\n",
       "        "
      ],
      "text/plain": [
       "<IPython.core.display.HTML object>"
      ]
     },
     "metadata": {},
     "output_type": "display_data"
    },
    {
     "data": {
      "application/vnd.jupyter.widget-view+json": {
       "model_id": "498a51f069fc4d1aa6dd98130fc9f035",
       "version_major": 2,
       "version_minor": 0
      },
      "text/html": [
       "<p>Failed to display Jupyter Widget of type <code>VBox</code>.</p>\n",
       "<p>\n",
       "  If you're reading this message in Jupyter Notebook or JupyterLab, it may mean\n",
       "  that the widgets JavaScript is still loading. If this message persists, it\n",
       "  likely means that the widgets JavaScript library is either not installed or\n",
       "  not enabled. See the <a href=\"https://ipywidgets.readthedocs.io/en/stable/user_install.html\">Jupyter\n",
       "  Widgets Documentation</a> for setup instructions.\n",
       "</p>\n",
       "<p>\n",
       "  If you're reading this message in another notebook frontend (for example, a static\n",
       "  rendering on GitHub or <a href=\"https://nbviewer.jupyter.org/\">NBViewer</a>),\n",
       "  it may mean that your frontend doesn't currently support widgets.\n",
       "</p>\n"
      ],
      "text/plain": [
       "VBox(children=(Label(value='', layout=Layout(width='250px')), HBox(children=(HBox(children=(Text(value='/Volumes/my_book_thunderbolt_duo/IPTS/IPTS_17099', description='Location: ', layout=Layout(width='300px'), placeholder=''), Button(description='Jump', layout=Layout(margin='5px 10px', width='100px'), style=ButtonStyle())), layout=Layout(border='1px solid lightgrey', margin='5px 50px 5px 5px', padding='3px')),)), VBox(children=(SelectMultiple(description='Select', layout=Layout(display='flex', flex_flow='column', width='750px'), options=(' .', ' ..', ' .DS_Store                                          |     Wed Nov 15 12:51:24 2017', ' cylindrical_geometry_corrected                     |     Directory', ' cylindrical_geometry_corrected_enhanced_f_0.75     |     Directory', ' normalized_cropped                                 |     Directory', ' ob                                                 |     Directory', ' radiographs                                        |     Directory', ' right_edge                                         |     Directory', ' testing_new_output_format                          |     Directory'), value=()), HBox(children=(Button(description='Enter directory', layout=Layout(margin='5px 40px'), style=ButtonStyle()), Button(description='Select', layout=Layout(margin='5px 40px'), style=ButtonStyle())))), layout=Layout(border='1px solid lightgrey', margin='5px', padding='10px'))))"
      ]
     },
     "metadata": {},
     "output_type": "display_data"
    }
   ],
   "source": [
    "sample_panel = SampleSelectionPanel()\n",
    "wizard = WizardPanel(sample_panel)"
   ]
  },
  {
   "cell_type": "code",
   "execution_count": 16,
   "metadata": {
    "run_control": {
     "frozen": false,
     "read_only": false
    }
   },
   "outputs": [],
   "source": [
    "class OBSelectionPanel(Panel):\n",
    "    \n",
    "    def __init__(self, top_parent=None):\n",
    "        \n",
    "        self.parent = top_parent\n",
    "        \n",
    "        # top panel\n",
    "        sample_title_ui = widgets.HBox([widgets.Label(\"Instructions:\",\n",
    "                                                     layout = widgets.Layout(width='20%')),\n",
    "                                       widgets.Label(\"Select OB Images and click NEXT\",\n",
    "                                                    layout = widgets.Layout(width='50%'))])\n",
    "\n",
    "        nbr_ob = len(self.parent.ob_files)\n",
    "        if nbr_ob > 0:\n",
    "            ob_selected = \"{}\".format(nbr_ob)\n",
    "        else:\n",
    "            ob_selected = None\n",
    "        \n",
    "        sample_label_ui = widgets.HBox([widgets.Label(\"OB selected:\",\n",
    "                                                     layout = widgets.Layout(width='20%')),\n",
    "                                       widgets.Label(ob_selected,\n",
    "                                                    layout = widgets.Layout(width='50%')),\n",
    "                                       ])\n",
    "        self.status_label = sample_label_ui.children[1]\n",
    "        \n",
    "        self.top_panel = widgets.VBox(children=[sample_title_ui, sample_label_ui],\n",
    "                                 layout=self.layout)\n",
    "\n",
    "        \n",
    "        # bottom panel\n",
    "        self.bottom_panel = widgets.HBox([widgets.Button(description = \"<< Previous (Sample)\",\n",
    "                                                  tooltip = 'Click to move to previous step',\n",
    "                                                  button_style = 'info',\n",
    "                                                 layout=widgets.Layout(width='20%')),\n",
    "                                          widgets.Label(\" * * \",\n",
    "                                                 layout=widgets.Layout(width='20%')),\n",
    "                                          widgets.Label(\"SAMPLE\",\n",
    "                                                 layout=widgets.Layout(width='30%')),\n",
    "                                          widgets.Label(\" * * \",\n",
    "                                                 layout=widgets.Layout(width='20%')),\n",
    "                                          widgets.Button(description = \"Next (Dark Field)  >>\",\n",
    "                                                  tooltip = 'Click to move to next step',\n",
    "                                                  button_style = 'info',\n",
    "                                                 layout=widgets.Layout(width='20%'))])\n",
    "        \n",
    "        prev_button = self.bottom_panel.children[0]\n",
    "        prev_button.on_click(self.prev_panel)\n",
    "        \n",
    "        next_button = self.bottom_panel.children[2]\n",
    "        next_button.on_click(self.next_panel)\n",
    "\n",
    "        # file selector\n",
    "        self.file_selector = myFileSelectorPanel(instruction='',\n",
    "                                                 start_dir = system.System.get_working_dir(),\n",
    "                                                 multiple = True)\n",
    "\n",
    "    def next_panel(self, event):\n",
    "        try:\n",
    "            self.parent.ob_files = self.file_selector.selected\n",
    "        except:\n",
    "            self.parent.ob_files = []\n",
    "        self.remove()\n",
    "        _panel = DFSelectionPanel(top_parent=self.parent)\n",
    "        _panel.show()\n",
    "        \n",
    "    def prev_panel(self, event):\n",
    "        self.remove()\n",
    "        _panel = SampleSelectionPanel(top_parent=self.parent)\n",
    "        _panel.show()\n"
   ]
  },
  {
   "cell_type": "code",
   "execution_count": 17,
   "metadata": {
    "run_control": {
     "frozen": false,
     "read_only": false
    }
   },
   "outputs": [],
   "source": [
    "class DFSelectionPanel(Panel):\n",
    "    \n",
    "    def __init__(self, top_parent=None):\n",
    "        \n",
    "        self.parent = top_parent\n",
    "        \n",
    "        # top panel\n",
    "        sample_title_ui = widgets.HBox([widgets.Label(\"Instructions:\",\n",
    "                                                     layout = widgets.Layout(width='20%')),\n",
    "                                       widgets.Label(\"Select DF Images and/or click NEXT\",\n",
    "                                                    layout = widgets.Layout(width='50%'))])\n",
    "\n",
    "        sample_label_ui = widgets.HBox([widgets.Label(\"DF selected:\",\n",
    "                                                     layout = widgets.Layout(width='20%')),\n",
    "                                       widgets.Label(\"None\",\n",
    "                                                    layout = widgets.Layout(width='50%')),\n",
    "                                       ])\n",
    "        self.status_label = sample_label_ui.children[1]\n",
    "\n",
    "        self.top_panel = widgets.VBox(children=[sample_title_ui, sample_label_ui],\n",
    "                                 layout=self.layout)\n",
    "        \n",
    "        # bottom panel\n",
    "        self.bottom_panel = widgets.HBox([widgets.Button(description = \"<< Previous (OB)\",\n",
    "                                                  tooltip = 'Click to move to previous step',\n",
    "                                                  button_style = 'info',\n",
    "                                                 layout=widgets.Layout(width='20%')),\n",
    "                                          widgets.Label(\"         \",\n",
    "                                                 layout=widgets.Layout(width='70%')),\n",
    "                                          widgets.Button(description = \"Next (Loading)  >>\",\n",
    "                                                  tooltip = 'Click to move to next step',\n",
    "                                                  button_style = 'info',\n",
    "                                                 layout=widgets.Layout(width='20%'))])\n",
    "        \n",
    "        prev_button = self.bottom_panel.children[0]\n",
    "        prev_button.on_click(self.prev_panel)\n",
    "        \n",
    "        next_button = self.bottom_panel.children[2]\n",
    "        next_button.on_click(self.next_panel)\n",
    "\n",
    "        # file selector\n",
    "        self.file_selector = myFileSelectorPanel(instruction='',\n",
    "                                                 start_dir = system.System.get_working_dir(),\n",
    "                                                 multiple = True)\n",
    "\n",
    "    def next_panel(self, event):\n",
    "        try:\n",
    "            self.parent.df_files = self.file_selector.selected\n",
    "        except:\n",
    "            self.parent.df_files = []\n",
    "            \n",
    "        self.remove()\n",
    "        # loading\n",
    "        \n",
    "    def prev_panel(self, event):\n",
    "        self.remove()\n",
    "        _panel = OBSelectionPanel(top_parent=self.parent)\n",
    "        _panel.show()"
   ]
  },
  {
   "cell_type": "code",
   "execution_count": null,
   "metadata": {
    "run_control": {
     "frozen": false,
     "read_only": false
    }
   },
   "outputs": [],
   "source": []
  },
  {
   "cell_type": "code",
   "execution_count": null,
   "metadata": {
    "run_control": {
     "frozen": false,
     "read_only": false
    }
   },
   "outputs": [],
   "source": []
  },
  {
   "cell_type": "code",
   "execution_count": 85,
   "metadata": {
    "run_control": {
     "frozen": false,
     "read_only": false
    }
   },
   "outputs": [
    {
     "data": {
      "application/vnd.jupyter.widget-view+json": {
       "model_id": "e62644a4c70b4bc1a0ae94df1d8e9029",
       "version_major": 2,
       "version_minor": 0
      },
      "text/html": [
       "<p>Failed to display Jupyter Widget of type <code>Label</code>.</p>\n",
       "<p>\n",
       "  If you're reading this message in Jupyter Notebook or JupyterLab, it may mean\n",
       "  that the widgets JavaScript is still loading. If this message persists, it\n",
       "  likely means that the widgets JavaScript library is either not installed or\n",
       "  not enabled. See the <a href=\"https://ipywidgets.readthedocs.io/en/stable/user_install.html\">Jupyter\n",
       "  Widgets Documentation</a> for setup instructions.\n",
       "</p>\n",
       "<p>\n",
       "  If you're reading this message in another notebook frontend (for example, a static\n",
       "  rendering on GitHub or <a href=\"https://nbviewer.jupyter.org/\">NBViewer</a>),\n",
       "  it may mean that your frontend doesn't currently support widgets.\n",
       "</p>\n"
      ],
      "text/plain": [
       "Label(value='Select SAMPLES IMAGES and click NEXT')"
      ]
     },
     "metadata": {},
     "output_type": "display_data"
    },
    {
     "data": {
      "application/vnd.jupyter.widget-view+json": {
       "model_id": "44bfc55904574717a5fefa75befae690",
       "version_major": 2,
       "version_minor": 0
      },
      "text/html": [
       "<p>Failed to display Jupyter Widget of type <code>HBox</code>.</p>\n",
       "<p>\n",
       "  If you're reading this message in Jupyter Notebook or JupyterLab, it may mean\n",
       "  that the widgets JavaScript is still loading. If this message persists, it\n",
       "  likely means that the widgets JavaScript library is either not installed or\n",
       "  not enabled. See the <a href=\"https://ipywidgets.readthedocs.io/en/stable/user_install.html\">Jupyter\n",
       "  Widgets Documentation</a> for setup instructions.\n",
       "</p>\n",
       "<p>\n",
       "  If you're reading this message in another notebook frontend (for example, a static\n",
       "  rendering on GitHub or <a href=\"https://nbviewer.jupyter.org/\">NBViewer</a>),\n",
       "  it may mean that your frontend doesn't currently support widgets.\n",
       "</p>\n"
      ],
      "text/plain": [
       "HBox(children=(Label(value='Current sample images selected:', layout=Layout(width='20%')), Label(value='None', layout=Layout(width='50%'))))"
      ]
     },
     "metadata": {},
     "output_type": "display_data"
    },
    {
     "data": {
      "application/vnd.jupyter.widget-view+json": {
       "model_id": "0b225c64ec7d4d4788e4349512414f2c",
       "version_major": 2,
       "version_minor": 0
      },
      "text/html": [
       "<p>Failed to display Jupyter Widget of type <code>HTML</code>.</p>\n",
       "<p>\n",
       "  If you're reading this message in Jupyter Notebook or JupyterLab, it may mean\n",
       "  that the widgets JavaScript is still loading. If this message persists, it\n",
       "  likely means that the widgets JavaScript library is either not installed or\n",
       "  not enabled. See the <a href=\"https://ipywidgets.readthedocs.io/en/stable/user_install.html\">Jupyter\n",
       "  Widgets Documentation</a> for setup instructions.\n",
       "</p>\n",
       "<p>\n",
       "  If you're reading this message in another notebook frontend (for example, a static\n",
       "  rendering on GitHub or <a href=\"https://nbviewer.jupyter.org/\">NBViewer</a>),\n",
       "  it may mean that your frontend doesn't currently support widgets.\n",
       "</p>\n"
      ],
      "text/plain": [
       "HTML(value='Please wait...')"
      ]
     },
     "metadata": {},
     "output_type": "display_data"
    },
    {
     "data": {
      "text/html": [
       "\n",
       "        <style type=\"text/css\">\n",
       "        .jupyter-widgets select option {font-family: \"Lucida Console\", Monaco, monospace;}\n",
       "        div.output_subarea {padding: 0px;}\n",
       "        div.output_subarea > div {margin: 0.4em;}\n",
       "        </style>\n",
       "        "
      ],
      "text/plain": [
       "<IPython.core.display.HTML object>"
      ]
     },
     "metadata": {},
     "output_type": "display_data"
    },
    {
     "data": {
      "application/vnd.jupyter.widget-view+json": {
       "model_id": "663cfbc27b2e4b1da07dadf469109bcc",
       "version_major": 2,
       "version_minor": 0
      },
      "text/html": [
       "<p>Failed to display Jupyter Widget of type <code>VBox</code>.</p>\n",
       "<p>\n",
       "  If you're reading this message in Jupyter Notebook or JupyterLab, it may mean\n",
       "  that the widgets JavaScript is still loading. If this message persists, it\n",
       "  likely means that the widgets JavaScript library is either not installed or\n",
       "  not enabled. See the <a href=\"https://ipywidgets.readthedocs.io/en/stable/user_install.html\">Jupyter\n",
       "  Widgets Documentation</a> for setup instructions.\n",
       "</p>\n",
       "<p>\n",
       "  If you're reading this message in another notebook frontend (for example, a static\n",
       "  rendering on GitHub or <a href=\"https://nbviewer.jupyter.org/\">NBViewer</a>),\n",
       "  it may mean that your frontend doesn't currently support widgets.\n",
       "</p>\n"
      ],
      "text/plain": [
       "VBox(children=(Label(value='', layout=Layout(width='250px')), HBox(children=(HBox(children=(Text(value='/Volumes/my_book_thunderbolt_duo/IPTS/IPTS_17099', description='Location: ', layout=Layout(width='300px'), placeholder=''), Button(description='Jump', layout=Layout(margin='5px 10px', width='100px'), style=ButtonStyle())), layout=Layout(border='1px solid lightgrey', margin='5px 50px 5px 5px', padding='3px')),)), VBox(children=(SelectMultiple(description='Select', layout=Layout(display='flex', flex_flow='column', width='750px'), options=(' .', ' ..', ' .DS_Store                          |     Fri Oct 27 10:11:51 2017', ' cylindrical_geometry_corrected     |     Directory', ' left_edge                          |     Directory', ' normalized_cropped                 |     Directory', ' ob                                 |     Directory', ' radiographs                        |     Directory', ' right_edge                         |     Directory', ' testing_new_output_format          |     Directory'), value=()), HBox(children=(Button(description='Enter directory', layout=Layout(margin='5px 40px'), style=ButtonStyle()), Button(description='Select', layout=Layout(margin='5px 40px'), style=ButtonStyle())))), layout=Layout(border='1px solid lightgrey', margin='5px', padding='10px'))))"
      ]
     },
     "metadata": {},
     "output_type": "display_data"
    },
    {
     "data": {
      "application/vnd.jupyter.widget-view+json": {
       "model_id": "6b26012d72b5443a87dd872b06eaed71",
       "version_major": 2,
       "version_minor": 0
      },
      "text/html": [
       "<p>Failed to display Jupyter Widget of type <code>HBox</code>.</p>\n",
       "<p>\n",
       "  If you're reading this message in Jupyter Notebook or JupyterLab, it may mean\n",
       "  that the widgets JavaScript is still loading. If this message persists, it\n",
       "  likely means that the widgets JavaScript library is either not installed or\n",
       "  not enabled. See the <a href=\"https://ipywidgets.readthedocs.io/en/stable/user_install.html\">Jupyter\n",
       "  Widgets Documentation</a> for setup instructions.\n",
       "</p>\n",
       "<p>\n",
       "  If you're reading this message in another notebook frontend (for example, a static\n",
       "  rendering on GitHub or <a href=\"https://nbviewer.jupyter.org/\">NBViewer</a>),\n",
       "  it may mean that your frontend doesn't currently support widgets.\n",
       "</p>\n"
      ],
      "text/plain": [
       "HBox(children=(Label(value='         ', layout=Layout(width='70%')), Button(button_style='info', description='Next   >>', layout=Layout(width='20%'), style=ButtonStyle(), tooltip='Click to move to next step')))"
      ]
     },
     "metadata": {},
     "output_type": "display_data"
    }
   ],
   "source": [
    "def sample_image():\n",
    "    sample_title = widgets.Label(\"Select SAMPLES IMAGES and click NEXT\")\n",
    "    display(sample_title)\n",
    "\n",
    "    sample_label_ui = widgets.HBox([widgets.Label(\"Current sample images selected:\",\n",
    "                                                 layout = widgets.Layout(width='20%')),\n",
    "                                   widgets.Label(\"None\",\n",
    "                                                layout = widgets.Layout(width='50%')),\n",
    "                                   ])\n",
    "    display(sample_label_ui)\n",
    "    title_ui = sample_label_ui.children[0]\n",
    "\n",
    "    select_images = ipywe.fileselector.FileSelectorPanel(instruction='',\n",
    "                                                         start_dir = system.System.get_working_dir(),\n",
    "                                                        multiple = True)\n",
    "    select_images.show()\n",
    "\n",
    "    next_ui = widgets.HBox([widgets.Label(\"         \",\n",
    "                                         layout=widgets.Layout(width='70%')),\n",
    "                           widgets.Button(description = \"Next   >>\",\n",
    "                                          tooltip = 'Click to move to next step',\n",
    "                                          button_style = 'info',\n",
    "                                         layout=widgets.Layout(width='20%'))])\n",
    "    display(next_ui)\n",
    "    \n",
    "    next_button = next_ui.children[1]\n",
    "    next_button.on_click(ob_images)\n",
    "    \n",
    "def ob_images(event):\n",
    "    ob_title = widgets.Label(\"Select OB IMAGES and click NEXT\")\n",
    "    display(ob_title)\n",
    "\n",
    "    ob_label_ui = widgets.HBox([widgets.Label(\"Current ob images selected:\",\n",
    "                                                 layout = widgets.Layout(width='20%')),\n",
    "                                   widgets.Label(\"None\",\n",
    "                                                layout = widgets.Layout(width='50%')),\n",
    "                                   ])\n",
    "    display(ob_label_ui)\n",
    "    title_ui = ob_label_ui.children[0]\n",
    "\n",
    "    select_images = ipywe.fileselector.FileSelectorPanel(instruction = '',\n",
    "                                                         start_dir = system.System.get_working_dir(),\n",
    "                                                        multiple = True)\n",
    "    select_images.show()\n",
    "\n",
    "    prev_next_ui = widgets.HBox([widgets.Button(description= \"<< Previous\",\n",
    "                                          tooltip = 'Click to move to previous step',\n",
    "                                          button_style = 'info',\n",
    "                                          layout = widgets.Layout(width='20%')),\n",
    "                            widgets.Label(\"         \",\n",
    "                                         layout=widgets.Layout(width='70%')),\n",
    "                           widgets.Button(description = \"Next   >>\",\n",
    "                                          tooltip = 'Click to move to next step',\n",
    "                                          button_style = 'info',\n",
    "                                         layout=widgets.Layout(width='20%'))])\n",
    "    display(prev_next_ui)\n",
    "    \n",
    "sample_image()\n"
   ]
  },
  {
   "cell_type": "code",
   "execution_count": null,
   "metadata": {
    "run_control": {
     "frozen": false,
     "read_only": false
    }
   },
   "outputs": [],
   "source": []
  },
  {
   "cell_type": "code",
   "execution_count": null,
   "metadata": {
    "run_control": {
     "frozen": false,
     "read_only": false
    }
   },
   "outputs": [],
   "source": []
  },
  {
   "cell_type": "code",
   "execution_count": null,
   "metadata": {
    "run_control": {
     "frozen": false,
     "read_only": false
    }
   },
   "outputs": [],
   "source": []
  },
  {
   "cell_type": "code",
   "execution_count": null,
   "metadata": {
    "run_control": {
     "frozen": false,
     "read_only": false
    }
   },
   "outputs": [],
   "source": []
  },
  {
   "cell_type": "markdown",
   "metadata": {
    "run_control": {
     "frozen": false,
     "read_only": false
    }
   },
   "source": [
    "# Select Sample Images "
   ]
  },
  {
   "cell_type": "code",
   "execution_count": null,
   "metadata": {
    "run_control": {
     "frozen": false,
     "read_only": false
    }
   },
   "outputs": [],
   "source": [
    "working_dir = system.System.get_working_dir())\n",
    "o_norm_handler = NormalizationHandler(working_dir = working_dir)\n",
    "o_norm_handler.select_images()"
   ]
  },
  {
   "cell_type": "markdown",
   "metadata": {
    "run_control": {
     "frozen": false,
     "read_only": false
    }
   },
   "source": [
    "# Select Open Beam (OB)"
   ]
  },
  {
   "cell_type": "code",
   "execution_count": null,
   "metadata": {
    "run_control": {
     "frozen": false,
     "read_only": false
    }
   },
   "outputs": [],
   "source": [
    "o_norm_handler.select_images(data_type='ob')"
   ]
  },
  {
   "cell_type": "markdown",
   "metadata": {
    "run_control": {
     "frozen": false,
     "read_only": false
    }
   },
   "source": [
    "# Select Dark Field (DF) - Optional"
   ]
  },
  {
   "cell_type": "code",
   "execution_count": null,
   "metadata": {
    "run_control": {
     "frozen": false,
     "read_only": false
    }
   },
   "outputs": [],
   "source": [
    "o_norm_handler.select_images(data_type='df')"
   ]
  },
  {
   "cell_type": "markdown",
   "metadata": {
    "run_control": {
     "frozen": false,
     "read_only": false
    }
   },
   "source": [
    "# Loding data "
   ]
  },
  {
   "cell_type": "code",
   "execution_count": null,
   "metadata": {
    "run_control": {
     "frozen": false,
     "read_only": false
    }
   },
   "outputs": [],
   "source": [
    "o_norm_handler.load_data()"
   ]
  },
  {
   "cell_type": "markdown",
   "metadata": {
    "collapsed": true,
    "run_control": {
     "frozen": false,
     "read_only": false
    }
   },
   "source": [
    "# Preview Data"
   ]
  },
  {
   "cell_type": "code",
   "execution_count": null,
   "metadata": {
    "run_control": {
     "frozen": false,
     "read_only": false
    }
   },
   "outputs": [],
   "source": [
    "o_norm_handler.plot_images(data_type='sample')"
   ]
  },
  {
   "cell_type": "code",
   "execution_count": null,
   "metadata": {
    "run_control": {
     "frozen": false,
     "read_only": false
    }
   },
   "outputs": [],
   "source": [
    "o_norm_handler.plot_images(data_type='ob')"
   ]
  },
  {
   "cell_type": "markdown",
   "metadata": {
    "run_control": {
     "frozen": false,
     "read_only": false
    }
   },
   "source": [
    "# Select Background Region "
   ]
  },
  {
   "cell_type": "code",
   "execution_count": null,
   "metadata": {
    "run_control": {
     "frozen": false,
     "read_only": false
    }
   },
   "outputs": [],
   "source": [
    "o_norm_handler.with_or_without_roi()"
   ]
  },
  {
   "cell_type": "code",
   "execution_count": null,
   "metadata": {
    "run_control": {
     "frozen": false,
     "read_only": false
    },
    "scrolled": false
   },
   "outputs": [],
   "source": [
    "o_norm_handler.select_sample_roi()"
   ]
  },
  {
   "cell_type": "markdown",
   "metadata": {
    "run_control": {
     "frozen": false,
     "read_only": false
    }
   },
   "source": [
    "# Normalization"
   ]
  },
  {
   "cell_type": "code",
   "execution_count": null,
   "metadata": {
    "run_control": {
     "frozen": false,
     "read_only": false
    }
   },
   "outputs": [],
   "source": [
    "o_norm_handler.run_normalization()"
   ]
  },
  {
   "cell_type": "markdown",
   "metadata": {
    "collapsed": true,
    "run_control": {
     "frozen": false,
     "read_only": false
    }
   },
   "source": [
    "# Export "
   ]
  },
  {
   "cell_type": "code",
   "execution_count": null,
   "metadata": {
    "run_control": {
     "frozen": false,
     "read_only": false
    }
   },
   "outputs": [],
   "source": [
    "o_norm_handler.select_export_folder()"
   ]
  },
  {
   "cell_type": "code",
   "execution_count": null,
   "metadata": {
    "run_control": {
     "frozen": false,
     "read_only": false
    },
    "scrolled": true
   },
   "outputs": [],
   "source": [
    "o_norm_handler.export()"
   ]
  },
  {
   "cell_type": "code",
   "execution_count": null,
   "metadata": {
    "run_control": {
     "frozen": false,
     "read_only": false
    }
   },
   "outputs": [],
   "source": []
  }
 ],
 "metadata": {
  "anaconda-cloud": {},
  "kernelspec": {
   "display_name": "Python 3",
   "language": "python",
   "name": "python3"
  },
  "language_info": {
   "codemirror_mode": {
    "name": "ipython",
    "version": 3
   },
   "file_extension": ".py",
   "mimetype": "text/x-python",
   "name": "python",
   "nbconvert_exporter": "python",
   "pygments_lexer": "ipython3",
   "version": "3.6.2"
  },
  "toc": {
   "colors": {
    "hover_highlight": "#DAA520",
    "running_highlight": "#FF0000",
    "selected_highlight": "#FFD700"
   },
   "moveMenuLeft": true,
   "nav_menu": {
    "height": "101px",
    "width": "252px"
   },
   "navigate_menu": true,
   "number_sections": true,
   "sideBar": true,
   "threshold": 4,
   "toc_cell": false,
   "toc_section_display": "block",
   "toc_window_display": false
  },
  "widgets": {
   "state": {
    "2b2d16bfbfd3484cac2f344fd1d12020": {
     "views": [
      {
       "cell_index": 10
      }
     ]
    },
    "4dd206ee587147a9b68c13c6603eaf4c": {
     "views": [
      {
       "cell_index": 17
      }
     ]
    },
    "5e743831f3194fb0b8a514748b6cf7fe": {
     "views": [
      {
       "cell_index": 10
      }
     ]
    },
    "8467e37c099e49c3bf702cb67b92bba8": {
     "views": [
      {
       "cell_index": 15
      }
     ]
    },
    "adfc1b492e4e46cda16e2a751239a9b0": {
     "views": [
      {
       "cell_index": 13
      }
     ]
    },
    "c5df07520ba54e9bb72848eb399b40f5": {
     "views": [
      {
       "cell_index": 10
      }
     ]
    },
    "c99aa0c95ced4af293b785d60968c02d": {
     "views": [
      {
       "cell_index": 12
      }
     ]
    }
   },
   "version": "1.2.0"
  }
 },
 "nbformat": 4,
 "nbformat_minor": 1
}
