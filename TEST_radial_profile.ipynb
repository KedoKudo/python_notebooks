{
 "cells": [
  {
   "cell_type": "code",
   "execution_count": 1,
   "metadata": {
    "run_control": {
     "frozen": false,
     "read_only": false
    }
   },
   "outputs": [
    {
     "name": "stdout",
     "output_type": "stream",
     "text": [
      "pyuic5 /Users/j35/git/IPTS/python_notebooks/ui/ui_radial_profile.ui -o /Users/j35/git/IPTS/python_notebooks/__code/ui_radial_profile.py\n"
     ]
    },
    {
     "data": {
      "text/html": [
       "\n",
       "<style type=\"text/css\">\n",
       ".jupyter-widgets select option {font-family: \"Lucida Console\", Monaco, monospace;}\n",
       ".jupyter-widgets select {width: 98%;}\n",
       "div.output_subarea {padding: 0px;}\n",
       "div.output_subarea > div {margin: 0.4em;}\n",
       "</style>\n"
      ],
      "text/plain": [
       "<IPython.core.display.HTML object>"
      ]
     },
     "metadata": {},
     "output_type": "display_data"
    },
    {
     "data": {
      "text/html": [
       "\n",
       "<style type=\"text/css\">\n",
       ".jupyter-widgets select option {font-family: \"Lucida Console\", Monaco, monospace;}\n",
       "div.output_subarea {padding: 0px;}\n",
       "div.output_subarea > div {margin: 0.4em;}\n",
       "</style>\n"
      ],
      "text/plain": [
       "<IPython.core.display.HTML object>"
      ]
     },
     "metadata": {},
     "output_type": "display_data"
    }
   ],
   "source": [
    "from __code.ui_builder import UiBuilder\n",
    "o_builder = UiBuilder(ui_name = 'ui_radial_profile.ui')\n",
    "\n",
    "from __code import system\n",
    "from __code.fileselector import FileSelection\n",
    "from __code.radial_profile import RadialProfile, SelectRadialParameters\n",
    "\n",
    "# system.System.select_working_dir()\n",
    "# from __code.__all import custom_style\n",
    "# custom_style.style()"
   ]
  },
  {
   "cell_type": "code",
   "execution_count": 2,
   "metadata": {
    "run_control": {
     "frozen": false,
     "read_only": false
    }
   },
   "outputs": [],
   "source": [
    "%gui qt"
   ]
  },
  {
   "cell_type": "code",
   "execution_count": 3,
   "metadata": {
    "run_control": {
     "frozen": false,
     "read_only": false
    }
   },
   "outputs": [
    {
     "data": {
      "application/vnd.jupyter.widget-view+json": {
       "model_id": "3e3b9807c6c043e38b3b40c3c46502c6",
       "version_major": 2,
       "version_minor": 0
      },
      "text/html": [
       "<p>Failed to display Jupyter Widget of type <code>HBox</code>.</p>\n",
       "<p>\n",
       "  If you're reading this message in Jupyter Notebook or JupyterLab, it may mean\n",
       "  that the widgets JavaScript is still loading. If this message persists, it\n",
       "  likely means that the widgets JavaScript library is either not installed or\n",
       "  not enabled. See the <a href=\"https://ipywidgets.readthedocs.io/en/stable/user_install.html\">Jupyter\n",
       "  Widgets Documentation</a> for setup instructions.\n",
       "</p>\n",
       "<p>\n",
       "  If you're reading this message in another notebook frontend (for example, a static\n",
       "  rendering on GitHub or <a href=\"https://nbviewer.jupyter.org/\">NBViewer</a>),\n",
       "  it may mean that your frontend doesn't currently support widgets.\n",
       "</p>\n"
      ],
      "text/plain": [
       "HBox(children=(Label(value='Loading sample', layout=Layout(width='20%')), IntProgress(value=0, max=9), Label(value='Time remaining:', layout=Layout(width='10%')), Label(value=' >> calculating << ')))"
      ]
     },
     "metadata": {},
     "output_type": "display_data"
    },
    {
     "data": {
      "text/html": [
       "<span style=\"font-size: 20px; color:blue\">Select the center of the circle and the angular sector in the UI that poped up             (maybe hidden behind this browser!)</span>"
      ],
      "text/plain": [
       "<IPython.core.display.HTML object>"
      ]
     },
     "metadata": {},
     "output_type": "display_data"
    },
    {
     "name": "stdout",
     "output_type": "stream",
     "text": [
      "Leaving Parameters Selection UI\n"
     ]
    }
   ],
   "source": [
    "import glob\n",
    "import os\n",
    "\n",
    "file_dir = '/Volumes/my_book_thunderbolt_duo/IPTS/IPTS-19621-CLOCK/CT/'\n",
    "list_files = glob.glob(file_dir + '*.tiff')\n",
    "\n",
    "o_selection = FileSelection()\n",
    "o_selection.load_files(list_files)\n",
    "\n",
    "o_select = SelectRadialParameters(working_dir=file_dir, \n",
    "                                  data_dict=o_selection.data_dict['sample'])\n",
    "o_select.show()"
   ]
  },
  {
   "cell_type": "markdown",
   "metadata": {},
   "source": [
    "# Calculate Radial Profiles "
   ]
  },
  {
   "cell_type": "code",
   "execution_count": 4,
   "metadata": {
    "run_control": {
     "frozen": false,
     "read_only": false
    }
   },
   "outputs": [
    {
     "data": {
      "application/vnd.jupyter.widget-view+json": {
       "model_id": "ab096529ad4b4fb89ca933e39f26773f",
       "version_major": 2,
       "version_minor": 0
      },
      "text/html": [
       "<p>Failed to display Jupyter Widget of type <code>IntProgress</code>.</p>\n",
       "<p>\n",
       "  If you're reading this message in Jupyter Notebook or JupyterLab, it may mean\n",
       "  that the widgets JavaScript is still loading. If this message persists, it\n",
       "  likely means that the widgets JavaScript library is either not installed or\n",
       "  not enabled. See the <a href=\"https://ipywidgets.readthedocs.io/en/stable/user_install.html\">Jupyter\n",
       "  Widgets Documentation</a> for setup instructions.\n",
       "</p>\n",
       "<p>\n",
       "  If you're reading this message in another notebook frontend (for example, a static\n",
       "  rendering on GitHub or <a href=\"https://nbviewer.jupyter.org/\">NBViewer</a>),\n",
       "  it may mean that your frontend doesn't currently support widgets.\n",
       "</p>\n"
      ],
      "text/plain": [
       "IntProgress(value=0, max=21)"
      ]
     },
     "metadata": {},
     "output_type": "display_data"
    }
   ],
   "source": [
    "#o_profile = RadialProfile(data=o_select.working_data)\n",
    "#o_profile.calculate(center=o_select.center, angle_range=o_select.angle_range)"
   ]
  },
  {
   "cell_type": "code",
   "execution_count": 5,
   "metadata": {
    "collapsed": true
   },
   "outputs": [],
   "source": [
    "#%matplotlib notebook"
   ]
  },
  {
   "cell_type": "code",
   "execution_count": 6,
   "metadata": {
    "run_control": {
     "frozen": false,
     "read_only": false
    },
    "scrolled": false
   },
   "outputs": [
    {
     "data": {
      "application/javascript": [
       "/* Put everything inside the global mpl namespace */\n",
       "window.mpl = {};\n",
       "\n",
       "\n",
       "mpl.get_websocket_type = function() {\n",
       "    if (typeof(WebSocket) !== 'undefined') {\n",
       "        return WebSocket;\n",
       "    } else if (typeof(MozWebSocket) !== 'undefined') {\n",
       "        return MozWebSocket;\n",
       "    } else {\n",
       "        alert('Your browser does not have WebSocket support.' +\n",
       "              'Please try Chrome, Safari or Firefox ≥ 6. ' +\n",
       "              'Firefox 4 and 5 are also supported but you ' +\n",
       "              'have to enable WebSockets in about:config.');\n",
       "    };\n",
       "}\n",
       "\n",
       "mpl.figure = function(figure_id, websocket, ondownload, parent_element) {\n",
       "    this.id = figure_id;\n",
       "\n",
       "    this.ws = websocket;\n",
       "\n",
       "    this.supports_binary = (this.ws.binaryType != undefined);\n",
       "\n",
       "    if (!this.supports_binary) {\n",
       "        var warnings = document.getElementById(\"mpl-warnings\");\n",
       "        if (warnings) {\n",
       "            warnings.style.display = 'block';\n",
       "            warnings.textContent = (\n",
       "                \"This browser does not support binary websocket messages. \" +\n",
       "                    \"Performance may be slow.\");\n",
       "        }\n",
       "    }\n",
       "\n",
       "    this.imageObj = new Image();\n",
       "\n",
       "    this.context = undefined;\n",
       "    this.message = undefined;\n",
       "    this.canvas = undefined;\n",
       "    this.rubberband_canvas = undefined;\n",
       "    this.rubberband_context = undefined;\n",
       "    this.format_dropdown = undefined;\n",
       "\n",
       "    this.image_mode = 'full';\n",
       "\n",
       "    this.root = $('<div/>');\n",
       "    this._root_extra_style(this.root)\n",
       "    this.root.attr('style', 'display: inline-block');\n",
       "\n",
       "    $(parent_element).append(this.root);\n",
       "\n",
       "    this._init_header(this);\n",
       "    this._init_canvas(this);\n",
       "    this._init_toolbar(this);\n",
       "\n",
       "    var fig = this;\n",
       "\n",
       "    this.waiting = false;\n",
       "\n",
       "    this.ws.onopen =  function () {\n",
       "            fig.send_message(\"supports_binary\", {value: fig.supports_binary});\n",
       "            fig.send_message(\"send_image_mode\", {});\n",
       "            if (mpl.ratio != 1) {\n",
       "                fig.send_message(\"set_dpi_ratio\", {'dpi_ratio': mpl.ratio});\n",
       "            }\n",
       "            fig.send_message(\"refresh\", {});\n",
       "        }\n",
       "\n",
       "    this.imageObj.onload = function() {\n",
       "            if (fig.image_mode == 'full') {\n",
       "                // Full images could contain transparency (where diff images\n",
       "                // almost always do), so we need to clear the canvas so that\n",
       "                // there is no ghosting.\n",
       "                fig.context.clearRect(0, 0, fig.canvas.width, fig.canvas.height);\n",
       "            }\n",
       "            fig.context.drawImage(fig.imageObj, 0, 0);\n",
       "        };\n",
       "\n",
       "    this.imageObj.onunload = function() {\n",
       "        fig.ws.close();\n",
       "    }\n",
       "\n",
       "    this.ws.onmessage = this._make_on_message_function(this);\n",
       "\n",
       "    this.ondownload = ondownload;\n",
       "}\n",
       "\n",
       "mpl.figure.prototype._init_header = function() {\n",
       "    var titlebar = $(\n",
       "        '<div class=\"ui-dialog-titlebar ui-widget-header ui-corner-all ' +\n",
       "        'ui-helper-clearfix\"/>');\n",
       "    var titletext = $(\n",
       "        '<div class=\"ui-dialog-title\" style=\"width: 100%; ' +\n",
       "        'text-align: center; padding: 3px;\"/>');\n",
       "    titlebar.append(titletext)\n",
       "    this.root.append(titlebar);\n",
       "    this.header = titletext[0];\n",
       "}\n",
       "\n",
       "\n",
       "\n",
       "mpl.figure.prototype._canvas_extra_style = function(canvas_div) {\n",
       "\n",
       "}\n",
       "\n",
       "\n",
       "mpl.figure.prototype._root_extra_style = function(canvas_div) {\n",
       "\n",
       "}\n",
       "\n",
       "mpl.figure.prototype._init_canvas = function() {\n",
       "    var fig = this;\n",
       "\n",
       "    var canvas_div = $('<div/>');\n",
       "\n",
       "    canvas_div.attr('style', 'position: relative; clear: both; outline: 0');\n",
       "\n",
       "    function canvas_keyboard_event(event) {\n",
       "        return fig.key_event(event, event['data']);\n",
       "    }\n",
       "\n",
       "    canvas_div.keydown('key_press', canvas_keyboard_event);\n",
       "    canvas_div.keyup('key_release', canvas_keyboard_event);\n",
       "    this.canvas_div = canvas_div\n",
       "    this._canvas_extra_style(canvas_div)\n",
       "    this.root.append(canvas_div);\n",
       "\n",
       "    var canvas = $('<canvas/>');\n",
       "    canvas.addClass('mpl-canvas');\n",
       "    canvas.attr('style', \"left: 0; top: 0; z-index: 0; outline: 0\")\n",
       "\n",
       "    this.canvas = canvas[0];\n",
       "    this.context = canvas[0].getContext(\"2d\");\n",
       "\n",
       "    var backingStore = this.context.backingStorePixelRatio ||\n",
       "\tthis.context.webkitBackingStorePixelRatio ||\n",
       "\tthis.context.mozBackingStorePixelRatio ||\n",
       "\tthis.context.msBackingStorePixelRatio ||\n",
       "\tthis.context.oBackingStorePixelRatio ||\n",
       "\tthis.context.backingStorePixelRatio || 1;\n",
       "\n",
       "    mpl.ratio = (window.devicePixelRatio || 1) / backingStore;\n",
       "\n",
       "    var rubberband = $('<canvas/>');\n",
       "    rubberband.attr('style', \"position: absolute; left: 0; top: 0; z-index: 1;\")\n",
       "\n",
       "    var pass_mouse_events = true;\n",
       "\n",
       "    canvas_div.resizable({\n",
       "        start: function(event, ui) {\n",
       "            pass_mouse_events = false;\n",
       "        },\n",
       "        resize: function(event, ui) {\n",
       "            fig.request_resize(ui.size.width, ui.size.height);\n",
       "        },\n",
       "        stop: function(event, ui) {\n",
       "            pass_mouse_events = true;\n",
       "            fig.request_resize(ui.size.width, ui.size.height);\n",
       "        },\n",
       "    });\n",
       "\n",
       "    function mouse_event_fn(event) {\n",
       "        if (pass_mouse_events)\n",
       "            return fig.mouse_event(event, event['data']);\n",
       "    }\n",
       "\n",
       "    rubberband.mousedown('button_press', mouse_event_fn);\n",
       "    rubberband.mouseup('button_release', mouse_event_fn);\n",
       "    // Throttle sequential mouse events to 1 every 20ms.\n",
       "    rubberband.mousemove('motion_notify', mouse_event_fn);\n",
       "\n",
       "    rubberband.mouseenter('figure_enter', mouse_event_fn);\n",
       "    rubberband.mouseleave('figure_leave', mouse_event_fn);\n",
       "\n",
       "    canvas_div.on(\"wheel\", function (event) {\n",
       "        event = event.originalEvent;\n",
       "        event['data'] = 'scroll'\n",
       "        if (event.deltaY < 0) {\n",
       "            event.step = 1;\n",
       "        } else {\n",
       "            event.step = -1;\n",
       "        }\n",
       "        mouse_event_fn(event);\n",
       "    });\n",
       "\n",
       "    canvas_div.append(canvas);\n",
       "    canvas_div.append(rubberband);\n",
       "\n",
       "    this.rubberband = rubberband;\n",
       "    this.rubberband_canvas = rubberband[0];\n",
       "    this.rubberband_context = rubberband[0].getContext(\"2d\");\n",
       "    this.rubberband_context.strokeStyle = \"#000000\";\n",
       "\n",
       "    this._resize_canvas = function(width, height) {\n",
       "        // Keep the size of the canvas, canvas container, and rubber band\n",
       "        // canvas in synch.\n",
       "        canvas_div.css('width', width)\n",
       "        canvas_div.css('height', height)\n",
       "\n",
       "        canvas.attr('width', width * mpl.ratio);\n",
       "        canvas.attr('height', height * mpl.ratio);\n",
       "        canvas.attr('style', 'width: ' + width + 'px; height: ' + height + 'px;');\n",
       "\n",
       "        rubberband.attr('width', width);\n",
       "        rubberband.attr('height', height);\n",
       "    }\n",
       "\n",
       "    // Set the figure to an initial 600x600px, this will subsequently be updated\n",
       "    // upon first draw.\n",
       "    this._resize_canvas(600, 600);\n",
       "\n",
       "    // Disable right mouse context menu.\n",
       "    $(this.rubberband_canvas).bind(\"contextmenu\",function(e){\n",
       "        return false;\n",
       "    });\n",
       "\n",
       "    function set_focus () {\n",
       "        canvas.focus();\n",
       "        canvas_div.focus();\n",
       "    }\n",
       "\n",
       "    window.setTimeout(set_focus, 100);\n",
       "}\n",
       "\n",
       "mpl.figure.prototype._init_toolbar = function() {\n",
       "    var fig = this;\n",
       "\n",
       "    var nav_element = $('<div/>')\n",
       "    nav_element.attr('style', 'width: 100%');\n",
       "    this.root.append(nav_element);\n",
       "\n",
       "    // Define a callback function for later on.\n",
       "    function toolbar_event(event) {\n",
       "        return fig.toolbar_button_onclick(event['data']);\n",
       "    }\n",
       "    function toolbar_mouse_event(event) {\n",
       "        return fig.toolbar_button_onmouseover(event['data']);\n",
       "    }\n",
       "\n",
       "    for(var toolbar_ind in mpl.toolbar_items) {\n",
       "        var name = mpl.toolbar_items[toolbar_ind][0];\n",
       "        var tooltip = mpl.toolbar_items[toolbar_ind][1];\n",
       "        var image = mpl.toolbar_items[toolbar_ind][2];\n",
       "        var method_name = mpl.toolbar_items[toolbar_ind][3];\n",
       "\n",
       "        if (!name) {\n",
       "            // put a spacer in here.\n",
       "            continue;\n",
       "        }\n",
       "        var button = $('<button/>');\n",
       "        button.addClass('ui-button ui-widget ui-state-default ui-corner-all ' +\n",
       "                        'ui-button-icon-only');\n",
       "        button.attr('role', 'button');\n",
       "        button.attr('aria-disabled', 'false');\n",
       "        button.click(method_name, toolbar_event);\n",
       "        button.mouseover(tooltip, toolbar_mouse_event);\n",
       "\n",
       "        var icon_img = $('<span/>');\n",
       "        icon_img.addClass('ui-button-icon-primary ui-icon');\n",
       "        icon_img.addClass(image);\n",
       "        icon_img.addClass('ui-corner-all');\n",
       "\n",
       "        var tooltip_span = $('<span/>');\n",
       "        tooltip_span.addClass('ui-button-text');\n",
       "        tooltip_span.html(tooltip);\n",
       "\n",
       "        button.append(icon_img);\n",
       "        button.append(tooltip_span);\n",
       "\n",
       "        nav_element.append(button);\n",
       "    }\n",
       "\n",
       "    var fmt_picker_span = $('<span/>');\n",
       "\n",
       "    var fmt_picker = $('<select/>');\n",
       "    fmt_picker.addClass('mpl-toolbar-option ui-widget ui-widget-content');\n",
       "    fmt_picker_span.append(fmt_picker);\n",
       "    nav_element.append(fmt_picker_span);\n",
       "    this.format_dropdown = fmt_picker[0];\n",
       "\n",
       "    for (var ind in mpl.extensions) {\n",
       "        var fmt = mpl.extensions[ind];\n",
       "        var option = $(\n",
       "            '<option/>', {selected: fmt === mpl.default_extension}).html(fmt);\n",
       "        fmt_picker.append(option)\n",
       "    }\n",
       "\n",
       "    // Add hover states to the ui-buttons\n",
       "    $( \".ui-button\" ).hover(\n",
       "        function() { $(this).addClass(\"ui-state-hover\");},\n",
       "        function() { $(this).removeClass(\"ui-state-hover\");}\n",
       "    );\n",
       "\n",
       "    var status_bar = $('<span class=\"mpl-message\"/>');\n",
       "    nav_element.append(status_bar);\n",
       "    this.message = status_bar[0];\n",
       "}\n",
       "\n",
       "mpl.figure.prototype.request_resize = function(x_pixels, y_pixels) {\n",
       "    // Request matplotlib to resize the figure. Matplotlib will then trigger a resize in the client,\n",
       "    // which will in turn request a refresh of the image.\n",
       "    this.send_message('resize', {'width': x_pixels, 'height': y_pixels});\n",
       "}\n",
       "\n",
       "mpl.figure.prototype.send_message = function(type, properties) {\n",
       "    properties['type'] = type;\n",
       "    properties['figure_id'] = this.id;\n",
       "    this.ws.send(JSON.stringify(properties));\n",
       "}\n",
       "\n",
       "mpl.figure.prototype.send_draw_message = function() {\n",
       "    if (!this.waiting) {\n",
       "        this.waiting = true;\n",
       "        this.ws.send(JSON.stringify({type: \"draw\", figure_id: this.id}));\n",
       "    }\n",
       "}\n",
       "\n",
       "\n",
       "mpl.figure.prototype.handle_save = function(fig, msg) {\n",
       "    var format_dropdown = fig.format_dropdown;\n",
       "    var format = format_dropdown.options[format_dropdown.selectedIndex].value;\n",
       "    fig.ondownload(fig, format);\n",
       "}\n",
       "\n",
       "\n",
       "mpl.figure.prototype.handle_resize = function(fig, msg) {\n",
       "    var size = msg['size'];\n",
       "    if (size[0] != fig.canvas.width || size[1] != fig.canvas.height) {\n",
       "        fig._resize_canvas(size[0], size[1]);\n",
       "        fig.send_message(\"refresh\", {});\n",
       "    };\n",
       "}\n",
       "\n",
       "mpl.figure.prototype.handle_rubberband = function(fig, msg) {\n",
       "    var x0 = msg['x0'] / mpl.ratio;\n",
       "    var y0 = (fig.canvas.height - msg['y0']) / mpl.ratio;\n",
       "    var x1 = msg['x1'] / mpl.ratio;\n",
       "    var y1 = (fig.canvas.height - msg['y1']) / mpl.ratio;\n",
       "    x0 = Math.floor(x0) + 0.5;\n",
       "    y0 = Math.floor(y0) + 0.5;\n",
       "    x1 = Math.floor(x1) + 0.5;\n",
       "    y1 = Math.floor(y1) + 0.5;\n",
       "    var min_x = Math.min(x0, x1);\n",
       "    var min_y = Math.min(y0, y1);\n",
       "    var width = Math.abs(x1 - x0);\n",
       "    var height = Math.abs(y1 - y0);\n",
       "\n",
       "    fig.rubberband_context.clearRect(\n",
       "        0, 0, fig.canvas.width, fig.canvas.height);\n",
       "\n",
       "    fig.rubberband_context.strokeRect(min_x, min_y, width, height);\n",
       "}\n",
       "\n",
       "mpl.figure.prototype.handle_figure_label = function(fig, msg) {\n",
       "    // Updates the figure title.\n",
       "    fig.header.textContent = msg['label'];\n",
       "}\n",
       "\n",
       "mpl.figure.prototype.handle_cursor = function(fig, msg) {\n",
       "    var cursor = msg['cursor'];\n",
       "    switch(cursor)\n",
       "    {\n",
       "    case 0:\n",
       "        cursor = 'pointer';\n",
       "        break;\n",
       "    case 1:\n",
       "        cursor = 'default';\n",
       "        break;\n",
       "    case 2:\n",
       "        cursor = 'crosshair';\n",
       "        break;\n",
       "    case 3:\n",
       "        cursor = 'move';\n",
       "        break;\n",
       "    }\n",
       "    fig.rubberband_canvas.style.cursor = cursor;\n",
       "}\n",
       "\n",
       "mpl.figure.prototype.handle_message = function(fig, msg) {\n",
       "    fig.message.textContent = msg['message'];\n",
       "}\n",
       "\n",
       "mpl.figure.prototype.handle_draw = function(fig, msg) {\n",
       "    // Request the server to send over a new figure.\n",
       "    fig.send_draw_message();\n",
       "}\n",
       "\n",
       "mpl.figure.prototype.handle_image_mode = function(fig, msg) {\n",
       "    fig.image_mode = msg['mode'];\n",
       "}\n",
       "\n",
       "mpl.figure.prototype.updated_canvas_event = function() {\n",
       "    // Called whenever the canvas gets updated.\n",
       "    this.send_message(\"ack\", {});\n",
       "}\n",
       "\n",
       "// A function to construct a web socket function for onmessage handling.\n",
       "// Called in the figure constructor.\n",
       "mpl.figure.prototype._make_on_message_function = function(fig) {\n",
       "    return function socket_on_message(evt) {\n",
       "        if (evt.data instanceof Blob) {\n",
       "            /* FIXME: We get \"Resource interpreted as Image but\n",
       "             * transferred with MIME type text/plain:\" errors on\n",
       "             * Chrome.  But how to set the MIME type?  It doesn't seem\n",
       "             * to be part of the websocket stream */\n",
       "            evt.data.type = \"image/png\";\n",
       "\n",
       "            /* Free the memory for the previous frames */\n",
       "            if (fig.imageObj.src) {\n",
       "                (window.URL || window.webkitURL).revokeObjectURL(\n",
       "                    fig.imageObj.src);\n",
       "            }\n",
       "\n",
       "            fig.imageObj.src = (window.URL || window.webkitURL).createObjectURL(\n",
       "                evt.data);\n",
       "            fig.updated_canvas_event();\n",
       "            fig.waiting = false;\n",
       "            return;\n",
       "        }\n",
       "        else if (typeof evt.data === 'string' && evt.data.slice(0, 21) == \"data:image/png;base64\") {\n",
       "            fig.imageObj.src = evt.data;\n",
       "            fig.updated_canvas_event();\n",
       "            fig.waiting = false;\n",
       "            return;\n",
       "        }\n",
       "\n",
       "        var msg = JSON.parse(evt.data);\n",
       "        var msg_type = msg['type'];\n",
       "\n",
       "        // Call the  \"handle_{type}\" callback, which takes\n",
       "        // the figure and JSON message as its only arguments.\n",
       "        try {\n",
       "            var callback = fig[\"handle_\" + msg_type];\n",
       "        } catch (e) {\n",
       "            console.log(\"No handler for the '\" + msg_type + \"' message type: \", msg);\n",
       "            return;\n",
       "        }\n",
       "\n",
       "        if (callback) {\n",
       "            try {\n",
       "                // console.log(\"Handling '\" + msg_type + \"' message: \", msg);\n",
       "                callback(fig, msg);\n",
       "            } catch (e) {\n",
       "                console.log(\"Exception inside the 'handler_\" + msg_type + \"' callback:\", e, e.stack, msg);\n",
       "            }\n",
       "        }\n",
       "    };\n",
       "}\n",
       "\n",
       "// from http://stackoverflow.com/questions/1114465/getting-mouse-location-in-canvas\n",
       "mpl.findpos = function(e) {\n",
       "    //this section is from http://www.quirksmode.org/js/events_properties.html\n",
       "    var targ;\n",
       "    if (!e)\n",
       "        e = window.event;\n",
       "    if (e.target)\n",
       "        targ = e.target;\n",
       "    else if (e.srcElement)\n",
       "        targ = e.srcElement;\n",
       "    if (targ.nodeType == 3) // defeat Safari bug\n",
       "        targ = targ.parentNode;\n",
       "\n",
       "    // jQuery normalizes the pageX and pageY\n",
       "    // pageX,Y are the mouse positions relative to the document\n",
       "    // offset() returns the position of the element relative to the document\n",
       "    var x = e.pageX - $(targ).offset().left;\n",
       "    var y = e.pageY - $(targ).offset().top;\n",
       "\n",
       "    return {\"x\": x, \"y\": y};\n",
       "};\n",
       "\n",
       "/*\n",
       " * return a copy of an object with only non-object keys\n",
       " * we need this to avoid circular references\n",
       " * http://stackoverflow.com/a/24161582/3208463\n",
       " */\n",
       "function simpleKeys (original) {\n",
       "  return Object.keys(original).reduce(function (obj, key) {\n",
       "    if (typeof original[key] !== 'object')\n",
       "        obj[key] = original[key]\n",
       "    return obj;\n",
       "  }, {});\n",
       "}\n",
       "\n",
       "mpl.figure.prototype.mouse_event = function(event, name) {\n",
       "    var canvas_pos = mpl.findpos(event)\n",
       "\n",
       "    if (name === 'button_press')\n",
       "    {\n",
       "        this.canvas.focus();\n",
       "        this.canvas_div.focus();\n",
       "    }\n",
       "\n",
       "    var x = canvas_pos.x * mpl.ratio;\n",
       "    var y = canvas_pos.y * mpl.ratio;\n",
       "\n",
       "    this.send_message(name, {x: x, y: y, button: event.button,\n",
       "                             step: event.step,\n",
       "                             guiEvent: simpleKeys(event)});\n",
       "\n",
       "    /* This prevents the web browser from automatically changing to\n",
       "     * the text insertion cursor when the button is pressed.  We want\n",
       "     * to control all of the cursor setting manually through the\n",
       "     * 'cursor' event from matplotlib */\n",
       "    event.preventDefault();\n",
       "    return false;\n",
       "}\n",
       "\n",
       "mpl.figure.prototype._key_event_extra = function(event, name) {\n",
       "    // Handle any extra behaviour associated with a key event\n",
       "}\n",
       "\n",
       "mpl.figure.prototype.key_event = function(event, name) {\n",
       "\n",
       "    // Prevent repeat events\n",
       "    if (name == 'key_press')\n",
       "    {\n",
       "        if (event.which === this._key)\n",
       "            return;\n",
       "        else\n",
       "            this._key = event.which;\n",
       "    }\n",
       "    if (name == 'key_release')\n",
       "        this._key = null;\n",
       "\n",
       "    var value = '';\n",
       "    if (event.ctrlKey && event.which != 17)\n",
       "        value += \"ctrl+\";\n",
       "    if (event.altKey && event.which != 18)\n",
       "        value += \"alt+\";\n",
       "    if (event.shiftKey && event.which != 16)\n",
       "        value += \"shift+\";\n",
       "\n",
       "    value += 'k';\n",
       "    value += event.which.toString();\n",
       "\n",
       "    this._key_event_extra(event, name);\n",
       "\n",
       "    this.send_message(name, {key: value,\n",
       "                             guiEvent: simpleKeys(event)});\n",
       "    return false;\n",
       "}\n",
       "\n",
       "mpl.figure.prototype.toolbar_button_onclick = function(name) {\n",
       "    if (name == 'download') {\n",
       "        this.handle_save(this, null);\n",
       "    } else {\n",
       "        this.send_message(\"toolbar_button\", {name: name});\n",
       "    }\n",
       "};\n",
       "\n",
       "mpl.figure.prototype.toolbar_button_onmouseover = function(tooltip) {\n",
       "    this.message.textContent = tooltip;\n",
       "};\n",
       "mpl.toolbar_items = [[\"Home\", \"Reset original view\", \"fa fa-home icon-home\", \"home\"], [\"Back\", \"Back to  previous view\", \"fa fa-arrow-left icon-arrow-left\", \"back\"], [\"Forward\", \"Forward to next view\", \"fa fa-arrow-right icon-arrow-right\", \"forward\"], [\"\", \"\", \"\", \"\"], [\"Pan\", \"Pan axes with left mouse, zoom with right\", \"fa fa-arrows icon-move\", \"pan\"], [\"Zoom\", \"Zoom to rectangle\", \"fa fa-square-o icon-check-empty\", \"zoom\"], [\"\", \"\", \"\", \"\"], [\"Download\", \"Download plot\", \"fa fa-floppy-o icon-save\", \"download\"]];\n",
       "\n",
       "mpl.extensions = [\"eps\", \"jpeg\", \"pdf\", \"png\", \"ps\", \"raw\", \"svg\", \"tif\"];\n",
       "\n",
       "mpl.default_extension = \"png\";var comm_websocket_adapter = function(comm) {\n",
       "    // Create a \"websocket\"-like object which calls the given IPython comm\n",
       "    // object with the appropriate methods. Currently this is a non binary\n",
       "    // socket, so there is still some room for performance tuning.\n",
       "    var ws = {};\n",
       "\n",
       "    ws.close = function() {\n",
       "        comm.close()\n",
       "    };\n",
       "    ws.send = function(m) {\n",
       "        //console.log('sending', m);\n",
       "        comm.send(m);\n",
       "    };\n",
       "    // Register the callback with on_msg.\n",
       "    comm.on_msg(function(msg) {\n",
       "        //console.log('receiving', msg['content']['data'], msg);\n",
       "        // Pass the mpl event to the overridden (by mpl) onmessage function.\n",
       "        ws.onmessage(msg['content']['data'])\n",
       "    });\n",
       "    return ws;\n",
       "}\n",
       "\n",
       "mpl.mpl_figure_comm = function(comm, msg) {\n",
       "    // This is the function which gets called when the mpl process\n",
       "    // starts-up an IPython Comm through the \"matplotlib\" channel.\n",
       "\n",
       "    var id = msg.content.data.id;\n",
       "    // Get hold of the div created by the display call when the Comm\n",
       "    // socket was opened in Python.\n",
       "    var element = $(\"#\" + id);\n",
       "    var ws_proxy = comm_websocket_adapter(comm)\n",
       "\n",
       "    function ondownload(figure, format) {\n",
       "        window.open(figure.imageObj.src);\n",
       "    }\n",
       "\n",
       "    var fig = new mpl.figure(id, ws_proxy,\n",
       "                           ondownload,\n",
       "                           element.get(0));\n",
       "\n",
       "    // Call onopen now - mpl needs it, as it is assuming we've passed it a real\n",
       "    // web socket which is closed, not our websocket->open comm proxy.\n",
       "    ws_proxy.onopen();\n",
       "\n",
       "    fig.parent_element = element.get(0);\n",
       "    fig.cell_info = mpl.find_output_cell(\"<div id='\" + id + \"'></div>\");\n",
       "    if (!fig.cell_info) {\n",
       "        console.error(\"Failed to find cell for figure\", id, fig);\n",
       "        return;\n",
       "    }\n",
       "\n",
       "    var output_index = fig.cell_info[2]\n",
       "    var cell = fig.cell_info[0];\n",
       "\n",
       "};\n",
       "\n",
       "mpl.figure.prototype.handle_close = function(fig, msg) {\n",
       "    var width = fig.canvas.width/mpl.ratio\n",
       "    fig.root.unbind('remove')\n",
       "\n",
       "    // Update the output cell to use the data from the current canvas.\n",
       "    fig.push_to_output();\n",
       "    var dataURL = fig.canvas.toDataURL();\n",
       "    // Re-enable the keyboard manager in IPython - without this line, in FF,\n",
       "    // the notebook keyboard shortcuts fail.\n",
       "    IPython.keyboard_manager.enable()\n",
       "    $(fig.parent_element).html('<img src=\"' + dataURL + '\" width=\"' + width + '\">');\n",
       "    fig.close_ws(fig, msg);\n",
       "}\n",
       "\n",
       "mpl.figure.prototype.close_ws = function(fig, msg){\n",
       "    fig.send_message('closing', msg);\n",
       "    // fig.ws.close()\n",
       "}\n",
       "\n",
       "mpl.figure.prototype.push_to_output = function(remove_interactive) {\n",
       "    // Turn the data on the canvas into data in the output cell.\n",
       "    var width = this.canvas.width/mpl.ratio\n",
       "    var dataURL = this.canvas.toDataURL();\n",
       "    this.cell_info[1]['text/html'] = '<img src=\"' + dataURL + '\" width=\"' + width + '\">';\n",
       "}\n",
       "\n",
       "mpl.figure.prototype.updated_canvas_event = function() {\n",
       "    // Tell IPython that the notebook contents must change.\n",
       "    IPython.notebook.set_dirty(true);\n",
       "    this.send_message(\"ack\", {});\n",
       "    var fig = this;\n",
       "    // Wait a second, then push the new image to the DOM so\n",
       "    // that it is saved nicely (might be nice to debounce this).\n",
       "    setTimeout(function () { fig.push_to_output() }, 1000);\n",
       "}\n",
       "\n",
       "mpl.figure.prototype._init_toolbar = function() {\n",
       "    var fig = this;\n",
       "\n",
       "    var nav_element = $('<div/>')\n",
       "    nav_element.attr('style', 'width: 100%');\n",
       "    this.root.append(nav_element);\n",
       "\n",
       "    // Define a callback function for later on.\n",
       "    function toolbar_event(event) {\n",
       "        return fig.toolbar_button_onclick(event['data']);\n",
       "    }\n",
       "    function toolbar_mouse_event(event) {\n",
       "        return fig.toolbar_button_onmouseover(event['data']);\n",
       "    }\n",
       "\n",
       "    for(var toolbar_ind in mpl.toolbar_items){\n",
       "        var name = mpl.toolbar_items[toolbar_ind][0];\n",
       "        var tooltip = mpl.toolbar_items[toolbar_ind][1];\n",
       "        var image = mpl.toolbar_items[toolbar_ind][2];\n",
       "        var method_name = mpl.toolbar_items[toolbar_ind][3];\n",
       "\n",
       "        if (!name) { continue; };\n",
       "\n",
       "        var button = $('<button class=\"btn btn-default\" href=\"#\" title=\"' + name + '\"><i class=\"fa ' + image + ' fa-lg\"></i></button>');\n",
       "        button.click(method_name, toolbar_event);\n",
       "        button.mouseover(tooltip, toolbar_mouse_event);\n",
       "        nav_element.append(button);\n",
       "    }\n",
       "\n",
       "    // Add the status bar.\n",
       "    var status_bar = $('<span class=\"mpl-message\" style=\"text-align:right; float: right;\"/>');\n",
       "    nav_element.append(status_bar);\n",
       "    this.message = status_bar[0];\n",
       "\n",
       "    // Add the close button to the window.\n",
       "    var buttongrp = $('<div class=\"btn-group inline pull-right\"></div>');\n",
       "    var button = $('<button class=\"btn btn-mini btn-primary\" href=\"#\" title=\"Stop Interaction\"><i class=\"fa fa-power-off icon-remove icon-large\"></i></button>');\n",
       "    button.click(function (evt) { fig.handle_close(fig, {}); } );\n",
       "    button.mouseover('Stop Interaction', toolbar_mouse_event);\n",
       "    buttongrp.append(button);\n",
       "    var titlebar = this.root.find($('.ui-dialog-titlebar'));\n",
       "    titlebar.prepend(buttongrp);\n",
       "}\n",
       "\n",
       "mpl.figure.prototype._root_extra_style = function(el){\n",
       "    var fig = this\n",
       "    el.on(\"remove\", function(){\n",
       "\tfig.close_ws(fig, {});\n",
       "    });\n",
       "}\n",
       "\n",
       "mpl.figure.prototype._canvas_extra_style = function(el){\n",
       "    // this is important to make the div 'focusable\n",
       "    el.attr('tabindex', 0)\n",
       "    // reach out to IPython and tell the keyboard manager to turn it's self\n",
       "    // off when our div gets focus\n",
       "\n",
       "    // location in version 3\n",
       "    if (IPython.notebook.keyboard_manager) {\n",
       "        IPython.notebook.keyboard_manager.register_events(el);\n",
       "    }\n",
       "    else {\n",
       "        // location in version 2\n",
       "        IPython.keyboard_manager.register_events(el);\n",
       "    }\n",
       "\n",
       "}\n",
       "\n",
       "mpl.figure.prototype._key_event_extra = function(event, name) {\n",
       "    var manager = IPython.notebook.keyboard_manager;\n",
       "    if (!manager)\n",
       "        manager = IPython.keyboard_manager;\n",
       "\n",
       "    // Check for shift+enter\n",
       "    if (event.shiftKey && event.which == 13) {\n",
       "        this.canvas_div.blur();\n",
       "        event.shiftKey = false;\n",
       "        // Send a \"J\" for go to next cell\n",
       "        event.which = 74;\n",
       "        event.keyCode = 74;\n",
       "        manager.command_mode();\n",
       "        manager.handle_keydown(event);\n",
       "    }\n",
       "}\n",
       "\n",
       "mpl.figure.prototype.handle_save = function(fig, msg) {\n",
       "    fig.ondownload(fig, null);\n",
       "}\n",
       "\n",
       "\n",
       "mpl.find_output_cell = function(html_output) {\n",
       "    // Return the cell and output element which can be found *uniquely* in the notebook.\n",
       "    // Note - this is a bit hacky, but it is done because the \"notebook_saving.Notebook\"\n",
       "    // IPython event is triggered only after the cells have been serialised, which for\n",
       "    // our purposes (turning an active figure into a static one), is too late.\n",
       "    var cells = IPython.notebook.get_cells();\n",
       "    var ncells = cells.length;\n",
       "    for (var i=0; i<ncells; i++) {\n",
       "        var cell = cells[i];\n",
       "        if (cell.cell_type === 'code'){\n",
       "            for (var j=0; j<cell.output_area.outputs.length; j++) {\n",
       "                var data = cell.output_area.outputs[j];\n",
       "                if (data.data) {\n",
       "                    // IPython >= 3 moved mimebundle to data attribute of output\n",
       "                    data = data.data;\n",
       "                }\n",
       "                if (data['text/html'] == html_output) {\n",
       "                    return [cell, data, j];\n",
       "                }\n",
       "            }\n",
       "        }\n",
       "    }\n",
       "}\n",
       "\n",
       "// Register the function which deals with the matplotlib target/channel.\n",
       "// The kernel may be null if the page has been refreshed.\n",
       "if (IPython.notebook.kernel != null) {\n",
       "    IPython.notebook.kernel.comm_manager.register_target('matplotlib', mpl.mpl_figure_comm);\n",
       "}\n"
      ],
      "text/plain": [
       "<IPython.core.display.Javascript object>"
      ]
     },
     "metadata": {},
     "output_type": "display_data"
    },
    {
     "data": {
      "text/html": [
       "<img src=\"data:image/png;base64,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\" width=\"912.7272529444423\">"
      ],
      "text/plain": [
       "<IPython.core.display.HTML object>"
      ]
     },
     "metadata": {},
     "output_type": "display_data"
    }
   ],
   "source": [
    "#o_profile.plot()"
   ]
  },
  {
   "cell_type": "code",
   "execution_count": null,
   "metadata": {
    "run_control": {
     "frozen": false,
     "read_only": false
    }
   },
   "outputs": [],
   "source": []
  },
  {
   "cell_type": "code",
   "execution_count": null,
   "metadata": {
    "run_control": {
     "frozen": false,
     "read_only": false
    }
   },
   "outputs": [],
   "source": []
  },
  {
   "cell_type": "code",
   "execution_count": null,
   "metadata": {
    "run_control": {
     "frozen": false,
     "read_only": false
    }
   },
   "outputs": [],
   "source": []
  },
  {
   "cell_type": "code",
   "execution_count": null,
   "metadata": {
    "run_control": {
     "frozen": false,
     "read_only": false
    }
   },
   "outputs": [],
   "source": []
  },
  {
   "cell_type": "markdown",
   "metadata": {
    "run_control": {
     "frozen": false,
     "read_only": false
    }
   },
   "source": [
    "# Calculate Radial Profiles"
   ]
  },
  {
   "cell_type": "code",
   "execution_count": 5,
   "metadata": {
    "run_control": {
     "frozen": false,
     "read_only": false
    }
   },
   "outputs": [
    {
     "ename": "AttributeError",
     "evalue": "'SelectRadialParameters' object has no attribute 'calculate'",
     "output_type": "error",
     "traceback": [
      "\u001b[0;31m---------------------------------------------------------------------------\u001b[0m",
      "\u001b[0;31mAttributeError\u001b[0m                            Traceback (most recent call last)",
      "\u001b[0;32m<ipython-input-5-c3aee648edb3>\u001b[0m in \u001b[0;36m<module>\u001b[0;34m()\u001b[0m\n\u001b[1;32m      1\u001b[0m \u001b[0mcenter\u001b[0m \u001b[0;34m=\u001b[0m \u001b[0mo_select\u001b[0m\u001b[0;34m.\u001b[0m\u001b[0mcenter\u001b[0m\u001b[0;34m\u001b[0m\u001b[0m\n\u001b[1;32m      2\u001b[0m \u001b[0mangle_range\u001b[0m \u001b[0;34m=\u001b[0m \u001b[0mo_select\u001b[0m\u001b[0;34m.\u001b[0m\u001b[0mangle_range\u001b[0m\u001b[0;34m\u001b[0m\u001b[0m\n\u001b[0;32m----> 3\u001b[0;31m \u001b[0mo_select\u001b[0m\u001b[0;34m.\u001b[0m\u001b[0mcalculate\u001b[0m\u001b[0;34m(\u001b[0m\u001b[0mcenter\u001b[0m\u001b[0;34m=\u001b[0m\u001b[0mcenter\u001b[0m\u001b[0;34m,\u001b[0m \u001b[0mangle_range\u001b[0m\u001b[0;34m=\u001b[0m\u001b[0mangle_range\u001b[0m\u001b[0;34m)\u001b[0m\u001b[0;34m\u001b[0m\u001b[0m\n\u001b[0m",
      "\u001b[0;31mAttributeError\u001b[0m: 'SelectRadialParameters' object has no attribute 'calculate'"
     ]
    }
   ],
   "source": [
    "center = o_select.center\n",
    "angle_range = o_select.angle_range\n",
    "o_select.calculate(center=center, angle_range=angle_range)"
   ]
  },
  {
   "cell_type": "markdown",
   "metadata": {
    "run_control": {
     "frozen": false,
     "read_only": false
    }
   },
   "source": [
    "# Display Profile "
   ]
  },
  {
   "cell_type": "code",
   "execution_count": null,
   "metadata": {
    "run_control": {
     "frozen": false,
     "read_only": false
    }
   },
   "outputs": [],
   "source": [
    "o_profile.plot()"
   ]
  },
  {
   "cell_type": "markdown",
   "metadata": {
    "run_control": {
     "frozen": false,
     "read_only": false
    }
   },
   "source": [
    "# Output Result "
   ]
  },
  {
   "cell_type": "markdown",
   "metadata": {
    "run_control": {
     "frozen": false,
     "read_only": false
    }
   },
   "source": [
    "Select output folder"
   ]
  },
  {
   "cell_type": "code",
   "execution_count": null,
   "metadata": {
    "run_control": {
     "frozen": false,
     "read_only": false
    }
   },
   "outputs": [],
   "source": [
    "o_profile.select_export_folder()"
   ]
  },
  {
   "cell_type": "markdown",
   "metadata": {
    "run_control": {
     "frozen": false,
     "read_only": false
    }
   },
   "source": [
    "Export files"
   ]
  },
  {
   "cell_type": "code",
   "execution_count": null,
   "metadata": {
    "run_control": {
     "frozen": false,
     "read_only": false
    }
   },
   "outputs": [],
   "source": [
    "o_profile.export()"
   ]
  },
  {
   "cell_type": "code",
   "execution_count": null,
   "metadata": {
    "run_control": {
     "frozen": false,
     "read_only": false
    }
   },
   "outputs": [],
   "source": []
  }
 ],
 "metadata": {
  "anaconda-cloud": {},
  "kernelspec": {
   "display_name": "Python 3",
   "language": "python",
   "name": "python3"
  },
  "language_info": {
   "codemirror_mode": {
    "name": "ipython",
    "version": 3
   },
   "file_extension": ".py",
   "mimetype": "text/x-python",
   "name": "python",
   "nbconvert_exporter": "python",
   "pygments_lexer": "ipython3",
   "version": "3.6.3"
  },
  "toc": {
   "colors": {
    "hover_highlight": "#DAA520",
    "running_highlight": "#FF0000",
    "selected_highlight": "#FFD700"
   },
   "moveMenuLeft": true,
   "nav_menu": {
    "height": "12px",
    "width": "252px"
   },
   "navigate_menu": true,
   "number_sections": true,
   "sideBar": true,
   "threshold": 4,
   "toc_cell": false,
   "toc_section_display": "block",
   "toc_window_display": false
  }
 },
 "nbformat": 4,
 "nbformat_minor": 1
}
