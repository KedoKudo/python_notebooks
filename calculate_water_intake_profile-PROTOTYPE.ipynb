{
 "cells": [
  {
   "cell_type": "markdown",
   "metadata": {
    "run_control": {
     "frozen": false,
     "read_only": false
    }
   },
   "source": [
    "# Select Your IPTS "
   ]
  },
  {
   "cell_type": "code",
   "execution_count": 1,
   "metadata": {
    "run_control": {
     "frozen": false,
     "read_only": false
    }
   },
   "outputs": [
    {
     "name": "stdout",
     "output_type": "stream",
     "text": [
      "** Using Debugging Mode! **\n"
     ]
    },
    {
     "data": {
      "application/vnd.jupyter.widget-view+json": {
       "model_id": "ccdf41e49ad04e9ba9e20931d8307549",
       "version_major": 2,
       "version_minor": 0
      },
      "text/html": [
       "<p>Failed to display Jupyter Widget of type <code>HBox</code>.</p>\n",
       "<p>\n",
       "  If you're reading this message in Jupyter Notebook or JupyterLab, it may mean\n",
       "  that the widgets JavaScript is still loading. If this message persists, it\n",
       "  likely means that the widgets JavaScript library is either not installed or\n",
       "  not enabled. See the <a href=\"https://ipywidgets.readthedocs.io/en/stable/user_install.html\">Jupyter\n",
       "  Widgets Documentation</a> for setup instructions.\n",
       "</p>\n",
       "<p>\n",
       "  If you're reading this message in another notebook frontend (for example, a static\n",
       "  rendering on GitHub or <a href=\"https://nbviewer.jupyter.org/\">NBViewer</a>),\n",
       "  it may mean that your frontend doesn't currently support widgets.\n",
       "</p>\n"
      ],
      "text/plain": [
       "HBox(children=(Label(value='Select Working Folder', layout=Layout(width='20%')), Select(index=8, options=('BraggEdge', 'Brianne', 'DOE_letters', 'FITSimages', 'IPTS-12534', 'IPTS_13639_resonance_shawn', 'IPTS_14832', 'IPTS_16212', 'IPTS_16259', 'IPTS_16475', 'IPTS_16893', 'IPTS_17099', 'IPTS_17685', 'IPTS_17981', 'IPTS_18806', 'IPTS_19037', 'IPTS_19558', 'IPTS_19626', 'IPTS_test_normalization', 'IPTS_testing_time_spectra', 'ImagesToRegisterForGian', 'Indu', 'Keita_code', 'Pour_ibeatles_video', 'ResonanceImaging', 'SENSITIVE', 'SarmaGUI', 'SphereCoordinates3D', 'TempData', 'iBeatles_debugging'), value='IPTS_16259')))"
      ]
     },
     "metadata": {},
     "output_type": "display_data"
    },
    {
     "data": {
      "text/html": [
       "<style>\n",
       "\n",
       "/* The following CSS has been adapted from\n",
       "   http://nbviewer.ipython.org/github/ketch/teaching-numerics-with-notebooks/blob/master/Styling_notebooks.ipynb\n",
       "   by Aron Ahmadia and David Ketcheson and has been reused under CC BY 4.0\n",
       "   */\n",
       "\n",
       "/* main background */\n",
       "#site { \n",
       "    background: #888;\n",
       "    color: #red; \n",
       "}\n",
       "\n",
       "div.container {\n",
       "    width: 100% ! important;\n",
       "}\n",
       "\n",
       "div.cell { /* set cell width to about 80 chars */\n",
       "    width: 95%;\n",
       "}\n",
       "\n",
       "div #notebook { /* centre the content */\n",
       "/*    background: #fff; /* white background for content */\n",
       "    background: blue;\n",
       "    width: 100%;\n",
       "    margin: auto;\n",
       "    padding-left: 1em;\n",
       "    padding-right: 1em;\n",
       "    background-image: url(\"tile_background.jpg\");\n",
       "}\n",
       "\n",
       "#notebook li { /* More space between bullet points */\n",
       "    margin-top:0.4em;\n",
       "}\n",
       "\n",
       "/* change background color of running cells */\n",
       "div.cell.code_cell.running {\n",
       "/*    background-color: rgba(164,188,194,.75); */\n",
       "    background-color: green;\n",
       "    border-width: 8px\n",
       "    border-style: solid\n",
       "    border-color: #111;\n",
       "}\n",
       "\n",
       "/* Put a solid color box around each cell and its output, visually linking them together */\n",
       "div.cell.code_cell {\n",
       "    background-color: rgba(164,188,194,.25); /* Continuum L Gray with alpha 0.25 */\n",
       "    border-radius: 10px; /* rounded borders */\n",
       "    padding: 1em;\n",
       "    margin-top: 1em;\n",
       "}\n",
       "\n",
       "div.text_cell_render{\n",
       "\tfont-family: Georgia, Times, 'Times New Roman', serif;\n",
       "    line-height: 110%;\n",
       "    font-size: 105%;\n",
       "    width: 95%;\n",
       "    margin-left: auto;\n",
       "    margin-right: auto;\n",
       "}\n",
       "\n",
       "\n",
       "/* Formatting for header cells */\n",
       ".text_cell_render h1 {\n",
       "\tfont-family: Arial, 'Helvetica Neue', Helvetica, sans-serif;\n",
       "    font-weight: 400;\n",
       "    font-size: 30pt;\n",
       "    line-height: 100%;\n",
       "    color: rgb(37,55,70); /* Continuum Blue*/\n",
       "    margin-bottom: 0.1em;\n",
       "    margin-top: 0.1em;\n",
       "    display: block;\n",
       "}\n",
       ".text_cell_render h2 {\n",
       "\tfont-family: Arial, 'Helvetica Neue', Helvetica, sans-serif;\n",
       "    font-weight: 700;\n",
       "    font-size: 22pt;\n",
       "    line-height: 100%;\n",
       "    color: rgb(37,55,70);\n",
       "    margin-bottom: 0.1em;\n",
       "    margin-top: 0.1em;\n",
       "    display: block;\n",
       "}\n",
       "\n",
       ".text_cell_render h3 {\n",
       "\tfont-family: Arial, 'Helvetica Neue', Helvetica, sans-serif;\n",
       "    margin-top:12px;\n",
       "    margin-bottom: 3px;\n",
       "    font-style: italic;\n",
       "    color: rgb(37, 55, 70);\n",
       "}\n",
       "\n",
       ".text_cell_render h4 {\n",
       "\tfont-family: Arial, 'Helvetica Neue', Helvetica, sans-serif;\n",
       "}\n",
       "\n",
       ".text_cell_render h5 {\n",
       "\tfont-family: Arial, 'Helvetica Neue', Helvetica, sans-serif;\n",
       "    font-weight: 300;\n",
       "    font-size: 14pt;\n",
       "    font-style: italic;\n",
       "    margin-bottom: .1em;\n",
       "    margin-top: 0.1em;\n",
       "    display: block;\n",
       "}\n",
       "\n",
       ".text_cell_render h6 {\n",
       "\tfont-family: Arial, 'Helvetica Neue', Helvetica, sans-serif;\n",
       "    font-weight: 300;\n",
       "    font-size: 10pt;\n",
       "    margin-bottom: 1px;\n",
       "    margin-top: 1px;\n",
       "}\n",
       "\n",
       ".CodeMirror{\n",
       "        font-family: \"PT Mono\", fixed;\n",
       "        font-size: 100%;\n",
       "}\n",
       "\n",
       "#notebook_panel { /* main background */\n",
       "    background-image: url(\"tile_background.jpg\");\n",
       "}\n",
       "\n",
       "\n",
       "\n",
       "\n",
       "</style>\n"
      ],
      "text/plain": [
       "<IPython.core.display.HTML object>"
      ]
     },
     "execution_count": 1,
     "metadata": {},
     "output_type": "execute_result"
    }
   ],
   "source": [
    "from __code.calculate_water_intake_profile import CalculateWaterIntakeProfile\n",
    "%matplotlib notebook\n",
    "from IPython.display import IFrame\n",
    "\n",
    "from __code import system\n",
    "system.System.select_working_dir()\n",
    "from __code.__all import custom_style\n",
    "custom_style.style()"
   ]
  },
  {
   "cell_type": "markdown",
   "metadata": {
    "run_control": {
     "frozen": false,
     "read_only": false
    }
   },
   "source": [
    "# Description "
   ]
  },
  {
   "cell_type": "markdown",
   "metadata": {
    "run_control": {
     "frozen": false,
     "read_only": false
    }
   },
   "source": [
    "This notebook will calculate the position of the \"wave\" through the images using the following algorithm."
   ]
  },
  {
   "cell_type": "code",
   "execution_count": 2,
   "metadata": {
    "run_control": {
     "frozen": false,
     "read_only": false
    }
   },
   "outputs": [
    {
     "data": {
      "text/html": [
       "\n",
       "        <iframe\n",
       "            width=\"600\"\n",
       "            height=\"300\"\n",
       "            src=\"__docs/calculate_water_intake_profile/water_intake_calculation.pdf\"\n",
       "            frameborder=\"0\"\n",
       "            allowfullscreen\n",
       "        ></iframe>\n",
       "        "
      ],
      "text/plain": [
       "<IPython.lib.display.IFrame at 0x10c0a94a8>"
      ]
     },
     "execution_count": 2,
     "metadata": {},
     "output_type": "execute_result"
    }
   ],
   "source": [
    "o_cal_profile = CalculateWaterIntakeProfile(working_dir=system.System.get_working_dir())\n",
    "IFrame(o_cal_profile.documentation_path, width=600, height=300)"
   ]
  },
  {
   "cell_type": "markdown",
   "metadata": {
    "run_control": {
     "frozen": false,
     "read_only": false
    }
   },
   "source": [
    "# Import Counts vs Time files "
   ]
  },
  {
   "cell_type": "markdown",
   "metadata": {
    "run_control": {
     "frozen": false,
     "read_only": false
    }
   },
   "source": [
    "Select the files created by the [profile_vs_file_index.ipynb](profile_vs_file_index.ipynb) notebook"
   ]
  },
  {
   "cell_type": "code",
   "execution_count": 3,
   "metadata": {
    "run_control": {
     "frozen": false,
     "read_only": false
    }
   },
   "outputs": [
    {
     "data": {
      "application/vnd.jupyter.widget-view+json": {
       "model_id": "1361e559a65c4463910db5913d636302",
       "version_major": 2,
       "version_minor": 0
      },
      "text/html": [
       "<p>Failed to display Jupyter Widget of type <code>HTML</code>.</p>\n",
       "<p>\n",
       "  If you're reading this message in Jupyter Notebook or JupyterLab, it may mean\n",
       "  that the widgets JavaScript is still loading. If this message persists, it\n",
       "  likely means that the widgets JavaScript library is either not installed or\n",
       "  not enabled. See the <a href=\"https://ipywidgets.readthedocs.io/en/stable/user_install.html\">Jupyter\n",
       "  Widgets Documentation</a> for setup instructions.\n",
       "</p>\n",
       "<p>\n",
       "  If you're reading this message in another notebook frontend (for example, a static\n",
       "  rendering on GitHub or <a href=\"https://nbviewer.jupyter.org/\">NBViewer</a>),\n",
       "  it may mean that your frontend doesn't currently support widgets.\n",
       "</p>\n"
      ],
      "text/plain": [
       "HTML(value='Please wait...')"
      ]
     },
     "metadata": {},
     "output_type": "display_data"
    },
    {
     "data": {
      "text/html": [
       "\n",
       "        <style type=\"text/css\">\n",
       "        .jupyter-widgets select option {font-family: \"Lucida Console\", Monaco, monospace;}\n",
       "        div.output_subarea {padding: 0px;}\n",
       "        div.output_subarea > div {margin: 0.4em;}\n",
       "        </style>\n",
       "        "
      ],
      "text/plain": [
       "<IPython.core.display.HTML object>"
      ]
     },
     "metadata": {},
     "output_type": "display_data"
    },
    {
     "data": {
      "application/vnd.jupyter.widget-view+json": {
       "model_id": "55b4cc3588a24b84919c2d14471746ab",
       "version_major": 2,
       "version_minor": 0
      },
      "text/html": [
       "<p>Failed to display Jupyter Widget of type <code>VBox</code>.</p>\n",
       "<p>\n",
       "  If you're reading this message in Jupyter Notebook or JupyterLab, it may mean\n",
       "  that the widgets JavaScript is still loading. If this message persists, it\n",
       "  likely means that the widgets JavaScript library is either not installed or\n",
       "  not enabled. See the <a href=\"https://ipywidgets.readthedocs.io/en/stable/user_install.html\">Jupyter\n",
       "  Widgets Documentation</a> for setup instructions.\n",
       "</p>\n",
       "<p>\n",
       "  If you're reading this message in another notebook frontend (for example, a static\n",
       "  rendering on GitHub or <a href=\"https://nbviewer.jupyter.org/\">NBViewer</a>),\n",
       "  it may mean that your frontend doesn't currently support widgets.\n",
       "</p>\n"
      ],
      "text/plain": [
       "VBox(children=(Label(value='Select Counts vs Time Files ...', layout=Layout(width='250px')), HBox(children=(HBox(children=(Text(value='/Volumes/my_book_thunderbolt_duo/IPTS/IPTS_16259', description='Location: ', layout=Layout(width='300px'), placeholder=''), Button(description='Jump', layout=Layout(margin='5px 10px', width='100px'), style=ButtonStyle())), layout=Layout(border='1px solid lightgrey', margin='5px 50px 5px 5px', padding='3px')),)), VBox(children=(SelectMultiple(description='Select', layout=Layout(display='flex', flex_flow='column', width='750px'), options=(' .', ' ..', ' .DS_Store                                 |     Tue Dec 12 09:22:15 2017', ' Day_4_CO-8_Uptake                         |     Directory', ' Day_4_CO-8_Uptake_profiles                |     Directory', ' Day_4_CO-8_Uptake_profiles.txt            |     Fri Dec  8 12:58:35 2017', ' Day_4_CO-8_Uptake_profiles_DEBUGGING      |     Directory', ' Day_4_CO-8_Uptake_timestamp_infos.txt     |     Mon Dec  4 16:03:46 2017', ' from_analysis_computer                    |     Directory', ' prototype_profiles                        |     Directory'), value=()), HBox(children=(Button(description='Enter directory', layout=Layout(margin='5px 40px'), style=ButtonStyle()), Button(description='Select', layout=Layout(margin='5px 40px'), style=ButtonStyle())))), layout=Layout(border='1px solid lightgrey', margin='5px', padding='10px'))))"
      ]
     },
     "metadata": {},
     "output_type": "display_data"
    },
    {
     "data": {
      "application/vnd.jupyter.widget-view+json": {
       "model_id": "853094d587854c2b950fc338caf97cdd",
       "version_major": 2,
       "version_minor": 0
      },
      "text/html": [
       "<p>Failed to display Jupyter Widget of type <code>HTML</code>.</p>\n",
       "<p>\n",
       "  If you're reading this message in Jupyter Notebook or JupyterLab, it may mean\n",
       "  that the widgets JavaScript is still loading. If this message persists, it\n",
       "  likely means that the widgets JavaScript library is either not installed or\n",
       "  not enabled. See the <a href=\"https://ipywidgets.readthedocs.io/en/stable/user_install.html\">Jupyter\n",
       "  Widgets Documentation</a> for setup instructions.\n",
       "</p>\n",
       "<p>\n",
       "  If you're reading this message in another notebook frontend (for example, a static\n",
       "  rendering on GitHub or <a href=\"https://nbviewer.jupyter.org/\">NBViewer</a>),\n",
       "  it may mean that your frontend doesn't currently support widgets.\n",
       "</p>\n"
      ],
      "text/plain": [
       "HTML(value='Please wait...')"
      ]
     },
     "metadata": {},
     "output_type": "display_data"
    },
    {
     "data": {
      "text/html": [
       "\n",
       "        <style type=\"text/css\">\n",
       "        .jupyter-widgets select option {font-family: \"Lucida Console\", Monaco, monospace;}\n",
       "        div.output_subarea {padding: 0px;}\n",
       "        div.output_subarea > div {margin: 0.4em;}\n",
       "        </style>\n",
       "        "
      ],
      "text/plain": [
       "<IPython.core.display.HTML object>"
      ]
     },
     "metadata": {},
     "output_type": "display_data"
    },
    {
     "data": {
      "application/vnd.jupyter.widget-view+json": {
       "model_id": "0e045821d6344d689c2f774a94db61a5",
       "version_major": 2,
       "version_minor": 0
      },
      "text/html": [
       "<p>Failed to display Jupyter Widget of type <code>VBox</code>.</p>\n",
       "<p>\n",
       "  If you're reading this message in Jupyter Notebook or JupyterLab, it may mean\n",
       "  that the widgets JavaScript is still loading. If this message persists, it\n",
       "  likely means that the widgets JavaScript library is either not installed or\n",
       "  not enabled. See the <a href=\"https://ipywidgets.readthedocs.io/en/stable/user_install.html\">Jupyter\n",
       "  Widgets Documentation</a> for setup instructions.\n",
       "</p>\n",
       "<p>\n",
       "  If you're reading this message in another notebook frontend (for example, a static\n",
       "  rendering on GitHub or <a href=\"https://nbviewer.jupyter.org/\">NBViewer</a>),\n",
       "  it may mean that your frontend doesn't currently support widgets.\n",
       "</p>\n"
      ],
      "text/plain": [
       "VBox(children=(Label(value='Select Counts vs Time Files ...', layout=Layout(width='250px')), HBox(children=(HBox(children=(Text(value='/Volumes/my_book_thunderbolt_duo/IPTS/IPTS_16259/from_analysis_computer', description='Location: ', layout=Layout(width='300px'), placeholder=''), Button(description='Jump', layout=Layout(margin='5px 10px', width='100px'), style=ButtonStyle())), layout=Layout(border='1px solid lightgrey', margin='5px 50px 5px 5px', padding='3px')),)), VBox(children=(SelectMultiple(description='Select', layout=Layout(display='flex', flex_flow='column', width='750px'), options=(' .', ' ..', ' .DS_Store                    |     Tue Dec 12 09:22:21 2017', ' CO-8_normalization           |     Directory', ' CO-8_profiles                |     Directory', ' CO-8_timestamp_infos.txt     |     Tue Dec 12 09:03:02 2017'), value=()), HBox(children=(Button(description='Enter directory', layout=Layout(margin='5px 40px'), style=ButtonStyle()), Button(description='Select', layout=Layout(margin='5px 40px'), style=ButtonStyle())))), layout=Layout(border='1px solid lightgrey', margin='5px', padding='10px'))))"
      ]
     },
     "metadata": {},
     "output_type": "display_data"
    },
    {
     "data": {
      "application/vnd.jupyter.widget-view+json": {
       "model_id": "01acd7848e124014bbf33bd96fcd0ed1",
       "version_major": 2,
       "version_minor": 0
      },
      "text/html": [
       "<p>Failed to display Jupyter Widget of type <code>HTML</code>.</p>\n",
       "<p>\n",
       "  If you're reading this message in Jupyter Notebook or JupyterLab, it may mean\n",
       "  that the widgets JavaScript is still loading. If this message persists, it\n",
       "  likely means that the widgets JavaScript library is either not installed or\n",
       "  not enabled. See the <a href=\"https://ipywidgets.readthedocs.io/en/stable/user_install.html\">Jupyter\n",
       "  Widgets Documentation</a> for setup instructions.\n",
       "</p>\n",
       "<p>\n",
       "  If you're reading this message in another notebook frontend (for example, a static\n",
       "  rendering on GitHub or <a href=\"https://nbviewer.jupyter.org/\">NBViewer</a>),\n",
       "  it may mean that your frontend doesn't currently support widgets.\n",
       "</p>\n"
      ],
      "text/plain": [
       "HTML(value='Please wait...')"
      ]
     },
     "metadata": {},
     "output_type": "display_data"
    },
    {
     "data": {
      "text/html": [
       "\n",
       "        <style type=\"text/css\">\n",
       "        .jupyter-widgets select option {font-family: \"Lucida Console\", Monaco, monospace;}\n",
       "        div.output_subarea {padding: 0px;}\n",
       "        div.output_subarea > div {margin: 0.4em;}\n",
       "        </style>\n",
       "        "
      ],
      "text/plain": [
       "<IPython.core.display.HTML object>"
      ]
     },
     "metadata": {},
     "output_type": "display_data"
    },
    {
     "data": {
      "application/vnd.jupyter.widget-view+json": {
       "model_id": "58e8e965413d4289b3d56e475432a5ae",
       "version_major": 2,
       "version_minor": 0
      },
      "text/html": [
       "<p>Failed to display Jupyter Widget of type <code>VBox</code>.</p>\n",
       "<p>\n",
       "  If you're reading this message in Jupyter Notebook or JupyterLab, it may mean\n",
       "  that the widgets JavaScript is still loading. If this message persists, it\n",
       "  likely means that the widgets JavaScript library is either not installed or\n",
       "  not enabled. See the <a href=\"https://ipywidgets.readthedocs.io/en/stable/user_install.html\">Jupyter\n",
       "  Widgets Documentation</a> for setup instructions.\n",
       "</p>\n",
       "<p>\n",
       "  If you're reading this message in another notebook frontend (for example, a static\n",
       "  rendering on GitHub or <a href=\"https://nbviewer.jupyter.org/\">NBViewer</a>),\n",
       "  it may mean that your frontend doesn't currently support widgets.\n",
       "</p>\n"
      ],
      "text/plain": [
       "VBox(children=(Label(value='Select Counts vs Time Files ...', layout=Layout(width='250px')), HBox(children=(HBox(children=(Text(value='/Volumes/my_book_thunderbolt_duo/IPTS/IPTS_16259/from_analysis_computer/CO-8_normalization', description='Location: ', layout=Layout(width='300px'), placeholder=''), Button(description='Jump', layout=Layout(margin='5px 10px', width='100px'), style=ButtonStyle())), layout=Layout(border='1px solid lightgrey', margin='5px 50px 5px 5px', padding='3px')),)), VBox(children=(SelectMultiple(description='Select', layout=Layout(display='flex', flex_flow='column', width='750px'), options=(' .', ' ..', ' .DS_Store                        |     Tue Dec 12 12:23:41 2017', ' 20170906_CO-8_0000_0591.tiff     |     Tue Dec 12 09:21:22 2017', ' 20170906_CO-8_0000_0592.tiff     |     Tue Dec 12 09:21:17 2017', ' 20170906_CO-8_0000_0593.tiff     |     Tue Dec 12 09:21:15 2017', ' 20170906_CO-8_0000_0594.tiff     |     Tue Dec 12 09:21:18 2017', ' 20170906_CO-8_0000_0595.tiff     |     Tue Dec 12 09:21:22 2017', ' 20170906_CO-8_0000_0596.tiff     |     Tue Dec 12 09:21:16 2017', ' 20170906_CO-8_0000_0597.tiff     |     Tue Dec 12 09:21:15 2017', ' 20170906_CO-8_0000_0598.tiff     |     Tue Dec 12 09:21:19 2017', ' 20170906_CO-8_0000_0599.tiff     |     Tue Dec 12 09:21:20 2017', ' 20170906_CO-8_0000_0600.tiff     |     Tue Dec 12 09:21:20 2017', ' 20170906_CO-8_0000_0601.tiff     |     Tue Dec 12 09:21:19 2017', ' 20170906_CO-8_0000_0602.tiff     |     Tue Dec 12 09:21:14 2017', ' 20170906_CO-8_0000_0603.tiff     |     Tue Dec 12 09:21:17 2017', ' 20170906_CO-8_0000_0604.tiff     |     Tue Dec 12 09:21:21 2017', ' 20170906_CO-8_0000_0605.tiff     |     Tue Dec 12 09:21:20 2017', ' 20170906_CO-8_0000_0606.tiff     |     Tue Dec 12 09:21:14 2017', ' 20170906_CO-8_0000_0607.tiff     |     Tue Dec 12 09:21:17 2017', ' 20170906_CO-8_0000_0608.tiff     |     Tue Dec 12 09:21:21 2017', ' 20170906_CO-8_0000_0609.tiff     |     Tue Dec 12 09:21:18 2017', ' 20170906_CO-8_0000_0610.tiff     |     Tue Dec 12 09:21:21 2017', ' 20170906_CO-8_0000_0611.tiff     |     Tue Dec 12 09:21:18 2017', ' 20170906_CO-8_0000_0612.tiff     |     Tue Dec 12 09:21:15 2017', ' 20170906_CO-8_0000_0613.tiff     |     Tue Dec 12 09:21:16 2017', ' 20170906_CO-8_0000_0614.tiff     |     Tue Dec 12 09:21:22 2017', ' 20170906_CO-8_0000_0615.tiff     |     Tue Dec 12 09:21:19 2017', ' 20170906_CO-8_0000_0616.tiff     |     Tue Dec 12 09:21:15 2017', ' 20170906_CO-8_0000_0617.tiff     |     Tue Dec 12 09:21:16 2017', ' 20170906_CO-8_0000_0618.tiff     |     Tue Dec 12 09:21:20 2017', ' 20170906_CO-8_0000_0619.tiff     |     Tue Dec 12 09:21:19 2017', ' 20170906_CO-8_0000_0620.tiff     |     Tue Dec 12 09:21:17 2017', ' 20170906_CO-8_0000_0621.tiff     |     Tue Dec 12 09:21:21 2017', ' 20170906_CO-8_0000_0622.tiff     |     Tue Dec 12 09:21:16 2017', ' 20170906_CO-8_0000_0623.tiff     |     Tue Dec 12 09:21:15 2017', ' 20170906_CO-8_0000_0624.tiff     |     Tue Dec 12 09:21:18 2017'), value=()), HBox(children=(Button(description='Enter directory', layout=Layout(margin='5px 40px'), style=ButtonStyle()), Button(description='Select', layout=Layout(margin='5px 40px'), style=ButtonStyle())))), layout=Layout(border='1px solid lightgrey', margin='5px', padding='10px'))))"
      ]
     },
     "metadata": {},
     "output_type": "display_data"
    }
   ],
   "source": [
    "o_cal_profile.select_counts_vs_time_files()"
   ]
  },
  {
   "cell_type": "markdown",
   "metadata": {},
   "source": [
    "# Display Water Intake Peak vs Profile "
   ]
  },
  {
   "cell_type": "code",
   "execution_count": 4,
   "metadata": {
    "scrolled": false
   },
   "outputs": [
    {
     "data": {
      "application/vnd.jupyter.widget-view+json": {
       "model_id": "8af5b039af914001bcd3732796812874",
       "version_major": 2,
       "version_minor": 0
      },
      "text/html": [
       "<p>Failed to display Jupyter Widget of type <code>IntProgress</code>.</p>\n",
       "<p>\n",
       "  If you're reading this message in Jupyter Notebook or JupyterLab, it may mean\n",
       "  that the widgets JavaScript is still loading. If this message persists, it\n",
       "  likely means that the widgets JavaScript library is either not installed or\n",
       "  not enabled. See the <a href=\"https://ipywidgets.readthedocs.io/en/stable/user_install.html\">Jupyter\n",
       "  Widgets Documentation</a> for setup instructions.\n",
       "</p>\n",
       "<p>\n",
       "  If you're reading this message in another notebook frontend (for example, a static\n",
       "  rendering on GitHub or <a href=\"https://nbviewer.jupyter.org/\">NBViewer</a>),\n",
       "  it may mean that your frontend doesn't currently support widgets.\n",
       "</p>\n"
      ],
      "text/plain": [
       "IntProgress(value=0, max=30)"
      ]
     },
     "metadata": {},
     "output_type": "display_data"
    },
    {
     "data": {
      "application/vnd.jupyter.widget-view+json": {
       "model_id": "760e6ab14f084d2fa0077bf5a73d267a",
       "version_major": 2,
       "version_minor": 0
      },
      "text/html": [
       "<p>Failed to display Jupyter Widget of type <code>interactive</code>.</p>\n",
       "<p>\n",
       "  If you're reading this message in Jupyter Notebook or JupyterLab, it may mean\n",
       "  that the widgets JavaScript is still loading. If this message persists, it\n",
       "  likely means that the widgets JavaScript library is either not installed or\n",
       "  not enabled. See the <a href=\"https://ipywidgets.readthedocs.io/en/stable/user_install.html\">Jupyter\n",
       "  Widgets Documentation</a> for setup instructions.\n",
       "</p>\n",
       "<p>\n",
       "  If you're reading this message in another notebook frontend (for example, a static\n",
       "  rendering on GitHub or <a href=\"https://nbviewer.jupyter.org/\">NBViewer</a>),\n",
       "  it may mean that your frontend doesn't currently support widgets.\n",
       "</p>\n"
      ],
      "text/plain": [
       "interactive(children=(IntSlider(value=0, description='File Index', max=29), Output()), _dom_classes=('widget-interact',))"
      ]
     },
     "metadata": {},
     "output_type": "display_data"
    }
   ],
   "source": [
    "o_cal_profile.display_water_intake_vs_profile()"
   ]
  },
  {
   "cell_type": "markdown",
   "metadata": {
    "run_control": {
     "frozen": false,
     "read_only": false
    }
   },
   "source": [
    "# Display of Water Intake Peak "
   ]
  },
  {
   "cell_type": "code",
   "execution_count": 5,
   "metadata": {
    "run_control": {
     "frozen": false,
     "read_only": false
    },
    "scrolled": false
   },
   "outputs": [
    {
     "data": {
      "application/javascript": [
       "/* Put everything inside the global mpl namespace */\n",
       "window.mpl = {};\n",
       "\n",
       "\n",
       "mpl.get_websocket_type = function() {\n",
       "    if (typeof(WebSocket) !== 'undefined') {\n",
       "        return WebSocket;\n",
       "    } else if (typeof(MozWebSocket) !== 'undefined') {\n",
       "        return MozWebSocket;\n",
       "    } else {\n",
       "        alert('Your browser does not have WebSocket support.' +\n",
       "              'Please try Chrome, Safari or Firefox ≥ 6. ' +\n",
       "              'Firefox 4 and 5 are also supported but you ' +\n",
       "              'have to enable WebSockets in about:config.');\n",
       "    };\n",
       "}\n",
       "\n",
       "mpl.figure = function(figure_id, websocket, ondownload, parent_element) {\n",
       "    this.id = figure_id;\n",
       "\n",
       "    this.ws = websocket;\n",
       "\n",
       "    this.supports_binary = (this.ws.binaryType != undefined);\n",
       "\n",
       "    if (!this.supports_binary) {\n",
       "        var warnings = document.getElementById(\"mpl-warnings\");\n",
       "        if (warnings) {\n",
       "            warnings.style.display = 'block';\n",
       "            warnings.textContent = (\n",
       "                \"This browser does not support binary websocket messages. \" +\n",
       "                    \"Performance may be slow.\");\n",
       "        }\n",
       "    }\n",
       "\n",
       "    this.imageObj = new Image();\n",
       "\n",
       "    this.context = undefined;\n",
       "    this.message = undefined;\n",
       "    this.canvas = undefined;\n",
       "    this.rubberband_canvas = undefined;\n",
       "    this.rubberband_context = undefined;\n",
       "    this.format_dropdown = undefined;\n",
       "\n",
       "    this.image_mode = 'full';\n",
       "\n",
       "    this.root = $('<div/>');\n",
       "    this._root_extra_style(this.root)\n",
       "    this.root.attr('style', 'display: inline-block');\n",
       "\n",
       "    $(parent_element).append(this.root);\n",
       "\n",
       "    this._init_header(this);\n",
       "    this._init_canvas(this);\n",
       "    this._init_toolbar(this);\n",
       "\n",
       "    var fig = this;\n",
       "\n",
       "    this.waiting = false;\n",
       "\n",
       "    this.ws.onopen =  function () {\n",
       "            fig.send_message(\"supports_binary\", {value: fig.supports_binary});\n",
       "            fig.send_message(\"send_image_mode\", {});\n",
       "            if (mpl.ratio != 1) {\n",
       "                fig.send_message(\"set_dpi_ratio\", {'dpi_ratio': mpl.ratio});\n",
       "            }\n",
       "            fig.send_message(\"refresh\", {});\n",
       "        }\n",
       "\n",
       "    this.imageObj.onload = function() {\n",
       "            if (fig.image_mode == 'full') {\n",
       "                // Full images could contain transparency (where diff images\n",
       "                // almost always do), so we need to clear the canvas so that\n",
       "                // there is no ghosting.\n",
       "                fig.context.clearRect(0, 0, fig.canvas.width, fig.canvas.height);\n",
       "            }\n",
       "            fig.context.drawImage(fig.imageObj, 0, 0);\n",
       "        };\n",
       "\n",
       "    this.imageObj.onunload = function() {\n",
       "        this.ws.close();\n",
       "    }\n",
       "\n",
       "    this.ws.onmessage = this._make_on_message_function(this);\n",
       "\n",
       "    this.ondownload = ondownload;\n",
       "}\n",
       "\n",
       "mpl.figure.prototype._init_header = function() {\n",
       "    var titlebar = $(\n",
       "        '<div class=\"ui-dialog-titlebar ui-widget-header ui-corner-all ' +\n",
       "        'ui-helper-clearfix\"/>');\n",
       "    var titletext = $(\n",
       "        '<div class=\"ui-dialog-title\" style=\"width: 100%; ' +\n",
       "        'text-align: center; padding: 3px;\"/>');\n",
       "    titlebar.append(titletext)\n",
       "    this.root.append(titlebar);\n",
       "    this.header = titletext[0];\n",
       "}\n",
       "\n",
       "\n",
       "\n",
       "mpl.figure.prototype._canvas_extra_style = function(canvas_div) {\n",
       "\n",
       "}\n",
       "\n",
       "\n",
       "mpl.figure.prototype._root_extra_style = function(canvas_div) {\n",
       "\n",
       "}\n",
       "\n",
       "mpl.figure.prototype._init_canvas = function() {\n",
       "    var fig = this;\n",
       "\n",
       "    var canvas_div = $('<div/>');\n",
       "\n",
       "    canvas_div.attr('style', 'position: relative; clear: both; outline: 0');\n",
       "\n",
       "    function canvas_keyboard_event(event) {\n",
       "        return fig.key_event(event, event['data']);\n",
       "    }\n",
       "\n",
       "    canvas_div.keydown('key_press', canvas_keyboard_event);\n",
       "    canvas_div.keyup('key_release', canvas_keyboard_event);\n",
       "    this.canvas_div = canvas_div\n",
       "    this._canvas_extra_style(canvas_div)\n",
       "    this.root.append(canvas_div);\n",
       "\n",
       "    var canvas = $('<canvas/>');\n",
       "    canvas.addClass('mpl-canvas');\n",
       "    canvas.attr('style', \"left: 0; top: 0; z-index: 0; outline: 0\")\n",
       "\n",
       "    this.canvas = canvas[0];\n",
       "    this.context = canvas[0].getContext(\"2d\");\n",
       "\n",
       "    var backingStore = this.context.backingStorePixelRatio ||\n",
       "\tthis.context.webkitBackingStorePixelRatio ||\n",
       "\tthis.context.mozBackingStorePixelRatio ||\n",
       "\tthis.context.msBackingStorePixelRatio ||\n",
       "\tthis.context.oBackingStorePixelRatio ||\n",
       "\tthis.context.backingStorePixelRatio || 1;\n",
       "\n",
       "    mpl.ratio = (window.devicePixelRatio || 1) / backingStore;\n",
       "\n",
       "    var rubberband = $('<canvas/>');\n",
       "    rubberband.attr('style', \"position: absolute; left: 0; top: 0; z-index: 1;\")\n",
       "\n",
       "    var pass_mouse_events = true;\n",
       "\n",
       "    canvas_div.resizable({\n",
       "        start: function(event, ui) {\n",
       "            pass_mouse_events = false;\n",
       "        },\n",
       "        resize: function(event, ui) {\n",
       "            fig.request_resize(ui.size.width, ui.size.height);\n",
       "        },\n",
       "        stop: function(event, ui) {\n",
       "            pass_mouse_events = true;\n",
       "            fig.request_resize(ui.size.width, ui.size.height);\n",
       "        },\n",
       "    });\n",
       "\n",
       "    function mouse_event_fn(event) {\n",
       "        if (pass_mouse_events)\n",
       "            return fig.mouse_event(event, event['data']);\n",
       "    }\n",
       "\n",
       "    rubberband.mousedown('button_press', mouse_event_fn);\n",
       "    rubberband.mouseup('button_release', mouse_event_fn);\n",
       "    // Throttle sequential mouse events to 1 every 20ms.\n",
       "    rubberband.mousemove('motion_notify', mouse_event_fn);\n",
       "\n",
       "    rubberband.mouseenter('figure_enter', mouse_event_fn);\n",
       "    rubberband.mouseleave('figure_leave', mouse_event_fn);\n",
       "\n",
       "    canvas_div.on(\"wheel\", function (event) {\n",
       "        event = event.originalEvent;\n",
       "        event['data'] = 'scroll'\n",
       "        if (event.deltaY < 0) {\n",
       "            event.step = 1;\n",
       "        } else {\n",
       "            event.step = -1;\n",
       "        }\n",
       "        mouse_event_fn(event);\n",
       "    });\n",
       "\n",
       "    canvas_div.append(canvas);\n",
       "    canvas_div.append(rubberband);\n",
       "\n",
       "    this.rubberband = rubberband;\n",
       "    this.rubberband_canvas = rubberband[0];\n",
       "    this.rubberband_context = rubberband[0].getContext(\"2d\");\n",
       "    this.rubberband_context.strokeStyle = \"#000000\";\n",
       "\n",
       "    this._resize_canvas = function(width, height) {\n",
       "        // Keep the size of the canvas, canvas container, and rubber band\n",
       "        // canvas in synch.\n",
       "        canvas_div.css('width', width)\n",
       "        canvas_div.css('height', height)\n",
       "\n",
       "        canvas.attr('width', width * mpl.ratio);\n",
       "        canvas.attr('height', height * mpl.ratio);\n",
       "        canvas.attr('style', 'width: ' + width + 'px; height: ' + height + 'px;');\n",
       "\n",
       "        rubberband.attr('width', width);\n",
       "        rubberband.attr('height', height);\n",
       "    }\n",
       "\n",
       "    // Set the figure to an initial 600x600px, this will subsequently be updated\n",
       "    // upon first draw.\n",
       "    this._resize_canvas(600, 600);\n",
       "\n",
       "    // Disable right mouse context menu.\n",
       "    $(this.rubberband_canvas).bind(\"contextmenu\",function(e){\n",
       "        return false;\n",
       "    });\n",
       "\n",
       "    function set_focus () {\n",
       "        canvas.focus();\n",
       "        canvas_div.focus();\n",
       "    }\n",
       "\n",
       "    window.setTimeout(set_focus, 100);\n",
       "}\n",
       "\n",
       "mpl.figure.prototype._init_toolbar = function() {\n",
       "    var fig = this;\n",
       "\n",
       "    var nav_element = $('<div/>')\n",
       "    nav_element.attr('style', 'width: 100%');\n",
       "    this.root.append(nav_element);\n",
       "\n",
       "    // Define a callback function for later on.\n",
       "    function toolbar_event(event) {\n",
       "        return fig.toolbar_button_onclick(event['data']);\n",
       "    }\n",
       "    function toolbar_mouse_event(event) {\n",
       "        return fig.toolbar_button_onmouseover(event['data']);\n",
       "    }\n",
       "\n",
       "    for(var toolbar_ind in mpl.toolbar_items) {\n",
       "        var name = mpl.toolbar_items[toolbar_ind][0];\n",
       "        var tooltip = mpl.toolbar_items[toolbar_ind][1];\n",
       "        var image = mpl.toolbar_items[toolbar_ind][2];\n",
       "        var method_name = mpl.toolbar_items[toolbar_ind][3];\n",
       "\n",
       "        if (!name) {\n",
       "            // put a spacer in here.\n",
       "            continue;\n",
       "        }\n",
       "        var button = $('<button/>');\n",
       "        button.addClass('ui-button ui-widget ui-state-default ui-corner-all ' +\n",
       "                        'ui-button-icon-only');\n",
       "        button.attr('role', 'button');\n",
       "        button.attr('aria-disabled', 'false');\n",
       "        button.click(method_name, toolbar_event);\n",
       "        button.mouseover(tooltip, toolbar_mouse_event);\n",
       "\n",
       "        var icon_img = $('<span/>');\n",
       "        icon_img.addClass('ui-button-icon-primary ui-icon');\n",
       "        icon_img.addClass(image);\n",
       "        icon_img.addClass('ui-corner-all');\n",
       "\n",
       "        var tooltip_span = $('<span/>');\n",
       "        tooltip_span.addClass('ui-button-text');\n",
       "        tooltip_span.html(tooltip);\n",
       "\n",
       "        button.append(icon_img);\n",
       "        button.append(tooltip_span);\n",
       "\n",
       "        nav_element.append(button);\n",
       "    }\n",
       "\n",
       "    var fmt_picker_span = $('<span/>');\n",
       "\n",
       "    var fmt_picker = $('<select/>');\n",
       "    fmt_picker.addClass('mpl-toolbar-option ui-widget ui-widget-content');\n",
       "    fmt_picker_span.append(fmt_picker);\n",
       "    nav_element.append(fmt_picker_span);\n",
       "    this.format_dropdown = fmt_picker[0];\n",
       "\n",
       "    for (var ind in mpl.extensions) {\n",
       "        var fmt = mpl.extensions[ind];\n",
       "        var option = $(\n",
       "            '<option/>', {selected: fmt === mpl.default_extension}).html(fmt);\n",
       "        fmt_picker.append(option)\n",
       "    }\n",
       "\n",
       "    // Add hover states to the ui-buttons\n",
       "    $( \".ui-button\" ).hover(\n",
       "        function() { $(this).addClass(\"ui-state-hover\");},\n",
       "        function() { $(this).removeClass(\"ui-state-hover\");}\n",
       "    );\n",
       "\n",
       "    var status_bar = $('<span class=\"mpl-message\"/>');\n",
       "    nav_element.append(status_bar);\n",
       "    this.message = status_bar[0];\n",
       "}\n",
       "\n",
       "mpl.figure.prototype.request_resize = function(x_pixels, y_pixels) {\n",
       "    // Request matplotlib to resize the figure. Matplotlib will then trigger a resize in the client,\n",
       "    // which will in turn request a refresh of the image.\n",
       "    this.send_message('resize', {'width': x_pixels, 'height': y_pixels});\n",
       "}\n",
       "\n",
       "mpl.figure.prototype.send_message = function(type, properties) {\n",
       "    properties['type'] = type;\n",
       "    properties['figure_id'] = this.id;\n",
       "    this.ws.send(JSON.stringify(properties));\n",
       "}\n",
       "\n",
       "mpl.figure.prototype.send_draw_message = function() {\n",
       "    if (!this.waiting) {\n",
       "        this.waiting = true;\n",
       "        this.ws.send(JSON.stringify({type: \"draw\", figure_id: this.id}));\n",
       "    }\n",
       "}\n",
       "\n",
       "\n",
       "mpl.figure.prototype.handle_save = function(fig, msg) {\n",
       "    var format_dropdown = fig.format_dropdown;\n",
       "    var format = format_dropdown.options[format_dropdown.selectedIndex].value;\n",
       "    fig.ondownload(fig, format);\n",
       "}\n",
       "\n",
       "\n",
       "mpl.figure.prototype.handle_resize = function(fig, msg) {\n",
       "    var size = msg['size'];\n",
       "    if (size[0] != fig.canvas.width || size[1] != fig.canvas.height) {\n",
       "        fig._resize_canvas(size[0], size[1]);\n",
       "        fig.send_message(\"refresh\", {});\n",
       "    };\n",
       "}\n",
       "\n",
       "mpl.figure.prototype.handle_rubberband = function(fig, msg) {\n",
       "    var x0 = msg['x0'] / mpl.ratio;\n",
       "    var y0 = (fig.canvas.height - msg['y0']) / mpl.ratio;\n",
       "    var x1 = msg['x1'] / mpl.ratio;\n",
       "    var y1 = (fig.canvas.height - msg['y1']) / mpl.ratio;\n",
       "    x0 = Math.floor(x0) + 0.5;\n",
       "    y0 = Math.floor(y0) + 0.5;\n",
       "    x1 = Math.floor(x1) + 0.5;\n",
       "    y1 = Math.floor(y1) + 0.5;\n",
       "    var min_x = Math.min(x0, x1);\n",
       "    var min_y = Math.min(y0, y1);\n",
       "    var width = Math.abs(x1 - x0);\n",
       "    var height = Math.abs(y1 - y0);\n",
       "\n",
       "    fig.rubberband_context.clearRect(\n",
       "        0, 0, fig.canvas.width, fig.canvas.height);\n",
       "\n",
       "    fig.rubberband_context.strokeRect(min_x, min_y, width, height);\n",
       "}\n",
       "\n",
       "mpl.figure.prototype.handle_figure_label = function(fig, msg) {\n",
       "    // Updates the figure title.\n",
       "    fig.header.textContent = msg['label'];\n",
       "}\n",
       "\n",
       "mpl.figure.prototype.handle_cursor = function(fig, msg) {\n",
       "    var cursor = msg['cursor'];\n",
       "    switch(cursor)\n",
       "    {\n",
       "    case 0:\n",
       "        cursor = 'pointer';\n",
       "        break;\n",
       "    case 1:\n",
       "        cursor = 'default';\n",
       "        break;\n",
       "    case 2:\n",
       "        cursor = 'crosshair';\n",
       "        break;\n",
       "    case 3:\n",
       "        cursor = 'move';\n",
       "        break;\n",
       "    }\n",
       "    fig.rubberband_canvas.style.cursor = cursor;\n",
       "}\n",
       "\n",
       "mpl.figure.prototype.handle_message = function(fig, msg) {\n",
       "    fig.message.textContent = msg['message'];\n",
       "}\n",
       "\n",
       "mpl.figure.prototype.handle_draw = function(fig, msg) {\n",
       "    // Request the server to send over a new figure.\n",
       "    fig.send_draw_message();\n",
       "}\n",
       "\n",
       "mpl.figure.prototype.handle_image_mode = function(fig, msg) {\n",
       "    fig.image_mode = msg['mode'];\n",
       "}\n",
       "\n",
       "mpl.figure.prototype.updated_canvas_event = function() {\n",
       "    // Called whenever the canvas gets updated.\n",
       "    this.send_message(\"ack\", {});\n",
       "}\n",
       "\n",
       "// A function to construct a web socket function for onmessage handling.\n",
       "// Called in the figure constructor.\n",
       "mpl.figure.prototype._make_on_message_function = function(fig) {\n",
       "    return function socket_on_message(evt) {\n",
       "        if (evt.data instanceof Blob) {\n",
       "            /* FIXME: We get \"Resource interpreted as Image but\n",
       "             * transferred with MIME type text/plain:\" errors on\n",
       "             * Chrome.  But how to set the MIME type?  It doesn't seem\n",
       "             * to be part of the websocket stream */\n",
       "            evt.data.type = \"image/png\";\n",
       "\n",
       "            /* Free the memory for the previous frames */\n",
       "            if (fig.imageObj.src) {\n",
       "                (window.URL || window.webkitURL).revokeObjectURL(\n",
       "                    fig.imageObj.src);\n",
       "            }\n",
       "\n",
       "            fig.imageObj.src = (window.URL || window.webkitURL).createObjectURL(\n",
       "                evt.data);\n",
       "            fig.updated_canvas_event();\n",
       "            fig.waiting = false;\n",
       "            return;\n",
       "        }\n",
       "        else if (typeof evt.data === 'string' && evt.data.slice(0, 21) == \"data:image/png;base64\") {\n",
       "            fig.imageObj.src = evt.data;\n",
       "            fig.updated_canvas_event();\n",
       "            fig.waiting = false;\n",
       "            return;\n",
       "        }\n",
       "\n",
       "        var msg = JSON.parse(evt.data);\n",
       "        var msg_type = msg['type'];\n",
       "\n",
       "        // Call the  \"handle_{type}\" callback, which takes\n",
       "        // the figure and JSON message as its only arguments.\n",
       "        try {\n",
       "            var callback = fig[\"handle_\" + msg_type];\n",
       "        } catch (e) {\n",
       "            console.log(\"No handler for the '\" + msg_type + \"' message type: \", msg);\n",
       "            return;\n",
       "        }\n",
       "\n",
       "        if (callback) {\n",
       "            try {\n",
       "                // console.log(\"Handling '\" + msg_type + \"' message: \", msg);\n",
       "                callback(fig, msg);\n",
       "            } catch (e) {\n",
       "                console.log(\"Exception inside the 'handler_\" + msg_type + \"' callback:\", e, e.stack, msg);\n",
       "            }\n",
       "        }\n",
       "    };\n",
       "}\n",
       "\n",
       "// from http://stackoverflow.com/questions/1114465/getting-mouse-location-in-canvas\n",
       "mpl.findpos = function(e) {\n",
       "    //this section is from http://www.quirksmode.org/js/events_properties.html\n",
       "    var targ;\n",
       "    if (!e)\n",
       "        e = window.event;\n",
       "    if (e.target)\n",
       "        targ = e.target;\n",
       "    else if (e.srcElement)\n",
       "        targ = e.srcElement;\n",
       "    if (targ.nodeType == 3) // defeat Safari bug\n",
       "        targ = targ.parentNode;\n",
       "\n",
       "    // jQuery normalizes the pageX and pageY\n",
       "    // pageX,Y are the mouse positions relative to the document\n",
       "    // offset() returns the position of the element relative to the document\n",
       "    var x = e.pageX - $(targ).offset().left;\n",
       "    var y = e.pageY - $(targ).offset().top;\n",
       "\n",
       "    return {\"x\": x, \"y\": y};\n",
       "};\n",
       "\n",
       "/*\n",
       " * return a copy of an object with only non-object keys\n",
       " * we need this to avoid circular references\n",
       " * http://stackoverflow.com/a/24161582/3208463\n",
       " */\n",
       "function simpleKeys (original) {\n",
       "  return Object.keys(original).reduce(function (obj, key) {\n",
       "    if (typeof original[key] !== 'object')\n",
       "        obj[key] = original[key]\n",
       "    return obj;\n",
       "  }, {});\n",
       "}\n",
       "\n",
       "mpl.figure.prototype.mouse_event = function(event, name) {\n",
       "    var canvas_pos = mpl.findpos(event)\n",
       "\n",
       "    if (name === 'button_press')\n",
       "    {\n",
       "        this.canvas.focus();\n",
       "        this.canvas_div.focus();\n",
       "    }\n",
       "\n",
       "    var x = canvas_pos.x * mpl.ratio;\n",
       "    var y = canvas_pos.y * mpl.ratio;\n",
       "\n",
       "    this.send_message(name, {x: x, y: y, button: event.button,\n",
       "                             step: event.step,\n",
       "                             guiEvent: simpleKeys(event)});\n",
       "\n",
       "    /* This prevents the web browser from automatically changing to\n",
       "     * the text insertion cursor when the button is pressed.  We want\n",
       "     * to control all of the cursor setting manually through the\n",
       "     * 'cursor' event from matplotlib */\n",
       "    event.preventDefault();\n",
       "    return false;\n",
       "}\n",
       "\n",
       "mpl.figure.prototype._key_event_extra = function(event, name) {\n",
       "    // Handle any extra behaviour associated with a key event\n",
       "}\n",
       "\n",
       "mpl.figure.prototype.key_event = function(event, name) {\n",
       "\n",
       "    // Prevent repeat events\n",
       "    if (name == 'key_press')\n",
       "    {\n",
       "        if (event.which === this._key)\n",
       "            return;\n",
       "        else\n",
       "            this._key = event.which;\n",
       "    }\n",
       "    if (name == 'key_release')\n",
       "        this._key = null;\n",
       "\n",
       "    var value = '';\n",
       "    if (event.ctrlKey && event.which != 17)\n",
       "        value += \"ctrl+\";\n",
       "    if (event.altKey && event.which != 18)\n",
       "        value += \"alt+\";\n",
       "    if (event.shiftKey && event.which != 16)\n",
       "        value += \"shift+\";\n",
       "\n",
       "    value += 'k';\n",
       "    value += event.which.toString();\n",
       "\n",
       "    this._key_event_extra(event, name);\n",
       "\n",
       "    this.send_message(name, {key: value,\n",
       "                             guiEvent: simpleKeys(event)});\n",
       "    return false;\n",
       "}\n",
       "\n",
       "mpl.figure.prototype.toolbar_button_onclick = function(name) {\n",
       "    if (name == 'download') {\n",
       "        this.handle_save(this, null);\n",
       "    } else {\n",
       "        this.send_message(\"toolbar_button\", {name: name});\n",
       "    }\n",
       "};\n",
       "\n",
       "mpl.figure.prototype.toolbar_button_onmouseover = function(tooltip) {\n",
       "    this.message.textContent = tooltip;\n",
       "};\n",
       "mpl.toolbar_items = [[\"Home\", \"Reset original view\", \"fa fa-home icon-home\", \"home\"], [\"Back\", \"Back to  previous view\", \"fa fa-arrow-left icon-arrow-left\", \"back\"], [\"Forward\", \"Forward to next view\", \"fa fa-arrow-right icon-arrow-right\", \"forward\"], [\"\", \"\", \"\", \"\"], [\"Pan\", \"Pan axes with left mouse, zoom with right\", \"fa fa-arrows icon-move\", \"pan\"], [\"Zoom\", \"Zoom to rectangle\", \"fa fa-square-o icon-check-empty\", \"zoom\"], [\"\", \"\", \"\", \"\"], [\"Download\", \"Download plot\", \"fa fa-floppy-o icon-save\", \"download\"]];\n",
       "\n",
       "mpl.extensions = [\"eps\", \"jpeg\", \"pdf\", \"png\", \"ps\", \"raw\", \"svg\", \"tif\"];\n",
       "\n",
       "mpl.default_extension = \"png\";var comm_websocket_adapter = function(comm) {\n",
       "    // Create a \"websocket\"-like object which calls the given IPython comm\n",
       "    // object with the appropriate methods. Currently this is a non binary\n",
       "    // socket, so there is still some room for performance tuning.\n",
       "    var ws = {};\n",
       "\n",
       "    ws.close = function() {\n",
       "        comm.close()\n",
       "    };\n",
       "    ws.send = function(m) {\n",
       "        //console.log('sending', m);\n",
       "        comm.send(m);\n",
       "    };\n",
       "    // Register the callback with on_msg.\n",
       "    comm.on_msg(function(msg) {\n",
       "        //console.log('receiving', msg['content']['data'], msg);\n",
       "        // Pass the mpl event to the overriden (by mpl) onmessage function.\n",
       "        ws.onmessage(msg['content']['data'])\n",
       "    });\n",
       "    return ws;\n",
       "}\n",
       "\n",
       "mpl.mpl_figure_comm = function(comm, msg) {\n",
       "    // This is the function which gets called when the mpl process\n",
       "    // starts-up an IPython Comm through the \"matplotlib\" channel.\n",
       "\n",
       "    var id = msg.content.data.id;\n",
       "    // Get hold of the div created by the display call when the Comm\n",
       "    // socket was opened in Python.\n",
       "    var element = $(\"#\" + id);\n",
       "    var ws_proxy = comm_websocket_adapter(comm)\n",
       "\n",
       "    function ondownload(figure, format) {\n",
       "        window.open(figure.imageObj.src);\n",
       "    }\n",
       "\n",
       "    var fig = new mpl.figure(id, ws_proxy,\n",
       "                           ondownload,\n",
       "                           element.get(0));\n",
       "\n",
       "    // Call onopen now - mpl needs it, as it is assuming we've passed it a real\n",
       "    // web socket which is closed, not our websocket->open comm proxy.\n",
       "    ws_proxy.onopen();\n",
       "\n",
       "    fig.parent_element = element.get(0);\n",
       "    fig.cell_info = mpl.find_output_cell(\"<div id='\" + id + \"'></div>\");\n",
       "    if (!fig.cell_info) {\n",
       "        console.error(\"Failed to find cell for figure\", id, fig);\n",
       "        return;\n",
       "    }\n",
       "\n",
       "    var output_index = fig.cell_info[2]\n",
       "    var cell = fig.cell_info[0];\n",
       "\n",
       "};\n",
       "\n",
       "mpl.figure.prototype.handle_close = function(fig, msg) {\n",
       "    var width = fig.canvas.width/mpl.ratio\n",
       "    fig.root.unbind('remove')\n",
       "\n",
       "    // Update the output cell to use the data from the current canvas.\n",
       "    fig.push_to_output();\n",
       "    var dataURL = fig.canvas.toDataURL();\n",
       "    // Re-enable the keyboard manager in IPython - without this line, in FF,\n",
       "    // the notebook keyboard shortcuts fail.\n",
       "    IPython.keyboard_manager.enable()\n",
       "    $(fig.parent_element).html('<img src=\"' + dataURL + '\" width=\"' + width + '\">');\n",
       "    fig.close_ws(fig, msg);\n",
       "}\n",
       "\n",
       "mpl.figure.prototype.close_ws = function(fig, msg){\n",
       "    fig.send_message('closing', msg);\n",
       "    // fig.ws.close()\n",
       "}\n",
       "\n",
       "mpl.figure.prototype.push_to_output = function(remove_interactive) {\n",
       "    // Turn the data on the canvas into data in the output cell.\n",
       "    var width = this.canvas.width/mpl.ratio\n",
       "    var dataURL = this.canvas.toDataURL();\n",
       "    this.cell_info[1]['text/html'] = '<img src=\"' + dataURL + '\" width=\"' + width + '\">';\n",
       "}\n",
       "\n",
       "mpl.figure.prototype.updated_canvas_event = function() {\n",
       "    // Tell IPython that the notebook contents must change.\n",
       "    IPython.notebook.set_dirty(true);\n",
       "    this.send_message(\"ack\", {});\n",
       "    var fig = this;\n",
       "    // Wait a second, then push the new image to the DOM so\n",
       "    // that it is saved nicely (might be nice to debounce this).\n",
       "    setTimeout(function () { fig.push_to_output() }, 1000);\n",
       "}\n",
       "\n",
       "mpl.figure.prototype._init_toolbar = function() {\n",
       "    var fig = this;\n",
       "\n",
       "    var nav_element = $('<div/>')\n",
       "    nav_element.attr('style', 'width: 100%');\n",
       "    this.root.append(nav_element);\n",
       "\n",
       "    // Define a callback function for later on.\n",
       "    function toolbar_event(event) {\n",
       "        return fig.toolbar_button_onclick(event['data']);\n",
       "    }\n",
       "    function toolbar_mouse_event(event) {\n",
       "        return fig.toolbar_button_onmouseover(event['data']);\n",
       "    }\n",
       "\n",
       "    for(var toolbar_ind in mpl.toolbar_items){\n",
       "        var name = mpl.toolbar_items[toolbar_ind][0];\n",
       "        var tooltip = mpl.toolbar_items[toolbar_ind][1];\n",
       "        var image = mpl.toolbar_items[toolbar_ind][2];\n",
       "        var method_name = mpl.toolbar_items[toolbar_ind][3];\n",
       "\n",
       "        if (!name) { continue; };\n",
       "\n",
       "        var button = $('<button class=\"btn btn-default\" href=\"#\" title=\"' + name + '\"><i class=\"fa ' + image + ' fa-lg\"></i></button>');\n",
       "        button.click(method_name, toolbar_event);\n",
       "        button.mouseover(tooltip, toolbar_mouse_event);\n",
       "        nav_element.append(button);\n",
       "    }\n",
       "\n",
       "    // Add the status bar.\n",
       "    var status_bar = $('<span class=\"mpl-message\" style=\"text-align:right; float: right;\"/>');\n",
       "    nav_element.append(status_bar);\n",
       "    this.message = status_bar[0];\n",
       "\n",
       "    // Add the close button to the window.\n",
       "    var buttongrp = $('<div class=\"btn-group inline pull-right\"></div>');\n",
       "    var button = $('<button class=\"btn btn-mini btn-primary\" href=\"#\" title=\"Stop Interaction\"><i class=\"fa fa-power-off icon-remove icon-large\"></i></button>');\n",
       "    button.click(function (evt) { fig.handle_close(fig, {}); } );\n",
       "    button.mouseover('Stop Interaction', toolbar_mouse_event);\n",
       "    buttongrp.append(button);\n",
       "    var titlebar = this.root.find($('.ui-dialog-titlebar'));\n",
       "    titlebar.prepend(buttongrp);\n",
       "}\n",
       "\n",
       "mpl.figure.prototype._root_extra_style = function(el){\n",
       "    var fig = this\n",
       "    el.on(\"remove\", function(){\n",
       "\tfig.close_ws(fig, {});\n",
       "    });\n",
       "}\n",
       "\n",
       "mpl.figure.prototype._canvas_extra_style = function(el){\n",
       "    // this is important to make the div 'focusable\n",
       "    el.attr('tabindex', 0)\n",
       "    // reach out to IPython and tell the keyboard manager to turn it's self\n",
       "    // off when our div gets focus\n",
       "\n",
       "    // location in version 3\n",
       "    if (IPython.notebook.keyboard_manager) {\n",
       "        IPython.notebook.keyboard_manager.register_events(el);\n",
       "    }\n",
       "    else {\n",
       "        // location in version 2\n",
       "        IPython.keyboard_manager.register_events(el);\n",
       "    }\n",
       "\n",
       "}\n",
       "\n",
       "mpl.figure.prototype._key_event_extra = function(event, name) {\n",
       "    var manager = IPython.notebook.keyboard_manager;\n",
       "    if (!manager)\n",
       "        manager = IPython.keyboard_manager;\n",
       "\n",
       "    // Check for shift+enter\n",
       "    if (event.shiftKey && event.which == 13) {\n",
       "        this.canvas_div.blur();\n",
       "        // select the cell after this one\n",
       "        var index = IPython.notebook.find_cell_index(this.cell_info[0]);\n",
       "        IPython.notebook.select(index + 1);\n",
       "    }\n",
       "}\n",
       "\n",
       "mpl.figure.prototype.handle_save = function(fig, msg) {\n",
       "    fig.ondownload(fig, null);\n",
       "}\n",
       "\n",
       "\n",
       "mpl.find_output_cell = function(html_output) {\n",
       "    // Return the cell and output element which can be found *uniquely* in the notebook.\n",
       "    // Note - this is a bit hacky, but it is done because the \"notebook_saving.Notebook\"\n",
       "    // IPython event is triggered only after the cells have been serialised, which for\n",
       "    // our purposes (turning an active figure into a static one), is too late.\n",
       "    var cells = IPython.notebook.get_cells();\n",
       "    var ncells = cells.length;\n",
       "    for (var i=0; i<ncells; i++) {\n",
       "        var cell = cells[i];\n",
       "        if (cell.cell_type === 'code'){\n",
       "            for (var j=0; j<cell.output_area.outputs.length; j++) {\n",
       "                var data = cell.output_area.outputs[j];\n",
       "                if (data.data) {\n",
       "                    // IPython >= 3 moved mimebundle to data attribute of output\n",
       "                    data = data.data;\n",
       "                }\n",
       "                if (data['text/html'] == html_output) {\n",
       "                    return [cell, data, j];\n",
       "                }\n",
       "            }\n",
       "        }\n",
       "    }\n",
       "}\n",
       "\n",
       "// Register the function which deals with the matplotlib target/channel.\n",
       "// The kernel may be null if the page has been refreshed.\n",
       "if (IPython.notebook.kernel != null) {\n",
       "    IPython.notebook.kernel.comm_manager.register_target('matplotlib', mpl.mpl_figure_comm);\n",
       "}\n"
      ],
      "text/plain": [
       "<IPython.core.display.Javascript object>"
      ]
     },
     "metadata": {},
     "output_type": "display_data"
    },
    {
     "data": {
      "text/html": [
       "<img src=\"data:image/png;base64,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\" width=\"499.9999891627921\">"
      ],
      "text/plain": [
       "<IPython.core.display.HTML object>"
      ]
     },
     "metadata": {},
     "output_type": "display_data"
    }
   ],
   "source": [
    "o_cal_profile.display_water_intake_peak_in_px()"
   ]
  },
  {
   "cell_type": "code",
   "execution_count": null,
   "metadata": {
    "run_control": {
     "frozen": false,
     "read_only": false
    }
   },
   "outputs": [],
   "source": [
    "o_cal_profile.define_pixel_size()"
   ]
  },
  {
   "cell_type": "code",
   "execution_count": null,
   "metadata": {
    "run_control": {
     "frozen": false,
     "read_only": false
    }
   },
   "outputs": [],
   "source": [
    "o_cal_profile.display_water_intake_peak_in_mm()"
   ]
  },
  {
   "cell_type": "markdown",
   "metadata": {
    "run_control": {
     "frozen": false,
     "read_only": false
    }
   },
   "source": [
    "# Output"
   ]
  },
  {
   "cell_type": "code",
   "execution_count": null,
   "metadata": {
    "run_control": {
     "frozen": false,
     "read_only": false
    }
   },
   "outputs": [],
   "source": [
    "o_cal_profile.select_output_folder()"
   ]
  },
  {
   "cell_type": "code",
   "execution_count": null,
   "metadata": {
    "run_control": {
     "frozen": false,
     "read_only": false
    }
   },
   "outputs": [],
   "source": [
    "o_cal_profile.export()"
   ]
  },
  {
   "cell_type": "code",
   "execution_count": null,
   "metadata": {
    "run_control": {
     "frozen": false,
     "read_only": false
    }
   },
   "outputs": [],
   "source": []
  }
 ],
 "metadata": {
  "anaconda-cloud": {},
  "kernelspec": {
   "display_name": "Python 3",
   "language": "python",
   "name": "python3"
  },
  "language_info": {
   "codemirror_mode": {
    "name": "ipython",
    "version": 3
   },
   "file_extension": ".py",
   "mimetype": "text/x-python",
   "name": "python",
   "nbconvert_exporter": "python",
   "pygments_lexer": "ipython3",
   "version": "3.6.2"
  },
  "toc": {
   "colors": {
    "hover_highlight": "#DAA520",
    "running_highlight": "#FF0000",
    "selected_highlight": "#FFD700"
   },
   "moveMenuLeft": true,
   "nav_menu": {
    "height": "101px",
    "width": "252px"
   },
   "navigate_menu": true,
   "number_sections": true,
   "sideBar": true,
   "threshold": 4,
   "toc_cell": false,
   "toc_section_display": "block",
   "toc_window_display": false
  }
 },
 "nbformat": 4,
 "nbformat_minor": 1
}
