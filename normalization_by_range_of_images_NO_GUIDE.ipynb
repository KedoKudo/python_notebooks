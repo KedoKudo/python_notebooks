{
 "cells": [
  {
   "cell_type": "markdown",
   "metadata": {
    "run_control": {
     "frozen": false,
     "read_only": false
    }
   },
   "source": [
    "This notebook will\n",
    "* allows you to select a range of files. The **average value** of those files will be used as normalization file \n",
    "\n",
    "    $$ I_{0_{average}} $$\n",
    "\n",
    "* Program will calculate the **contrast enhancement** of each images using\n",
    "\n",
    "     $$ I_{enhanced}(i) = I(i) - f*I_{0_{average}}$$\n",
    "\n",
    "where f is by default 0.75 (but can be modified)\n",
    "* export images"
   ]
  },
  {
   "cell_type": "code",
   "execution_count": 6,
   "metadata": {
    "run_control": {
     "frozen": false,
     "read_only": false
    }
   },
   "outputs": [
    {
     "name": "stdout",
     "output_type": "stream",
     "text": [
      "** Using Debugging Mode! **\n"
     ]
    },
    {
     "data": {
      "application/vnd.jupyter.widget-view+json": {
       "model_id": "6ab931a877e94374bbde57f63d4fb9fe",
       "version_major": 2,
       "version_minor": 0
      },
      "text/html": [
       "<p>Failed to display Jupyter Widget of type <code>HBox</code>.</p>\n",
       "<p>\n",
       "  If you're reading this message in Jupyter Notebook or JupyterLab, it may mean\n",
       "  that the widgets JavaScript is still loading. If this message persists, it\n",
       "  likely means that the widgets JavaScript library is either not installed or\n",
       "  not enabled. See the <a href=\"https://ipywidgets.readthedocs.io/en/stable/user_install.html\">Jupyter\n",
       "  Widgets Documentation</a> for setup instructions.\n",
       "</p>\n",
       "<p>\n",
       "  If you're reading this message in another notebook frontend (for example, a static\n",
       "  rendering on GitHub or <a href=\"https://nbviewer.jupyter.org/\">NBViewer</a>),\n",
       "  it may mean that your frontend doesn't currently support widgets.\n",
       "</p>\n"
      ],
      "text/plain": [
       "HBox(children=(Label(value='Select Working Folder', layout=Layout(width='20%')), Select(index=11, options=('BraggEdge', 'Brianne', 'DOE_letters', 'FITSimages', 'IPTS-12534', 'IPTS-16259', 'IPTS_13639_resonance_shawn', 'IPTS_14832', 'IPTS_16212', 'IPTS_16475', 'IPTS_16893', 'IPTS_17099', 'IPTS_17685', 'IPTS_17981', 'IPTS_18806', 'IPTS_19037', 'IPTS_19558', 'IPTS_test_normalization', 'IPTS_testing_time_spectra', 'ImagesToRegisterForGian', 'Indu', 'Keita_code', 'Pour_ibeatles_video', 'ResonanceImaging', 'SENSITIVE', 'SarmaGUI', 'SphereCoordinates3D', 'TempData', 'iBeatles_debugging'), value='IPTS_17099')))"
      ]
     },
     "metadata": {},
     "output_type": "display_data"
    }
   ],
   "source": [
    "from __code import system\n",
    "system.System.select_working_dir() # select IPTS"
   ]
  },
  {
   "cell_type": "code",
   "execution_count": 3,
   "metadata": {
    "run_control": {
     "frozen": false,
     "read_only": false
    }
   },
   "outputs": [
    {
     "data": {
      "text/html": [
       "<style>\n",
       "\n",
       "/* The following CSS has been adapted from\n",
       "   http://nbviewer.ipython.org/github/ketch/teaching-numerics-with-notebooks/blob/master/Styling_notebooks.ipynb\n",
       "   by Aron Ahmadia and David Ketcheson and has been reused under CC BY 4.0\n",
       "   */\n",
       "\n",
       "/* main background */\n",
       "#site { \n",
       "    background: #888;\n",
       "    color: #red; \n",
       "}\n",
       "\n",
       "div.container {\n",
       "    width: 100% ! important;\n",
       "}\n",
       "\n",
       "div.cell { /* set cell width to about 80 chars */\n",
       "    width: 95%;\n",
       "}\n",
       "\n",
       "div #notebook { /* centre the content */\n",
       "/*    background: #fff; /* white background for content */\n",
       "    background: blue;\n",
       "    width: 100%;\n",
       "    margin: auto;\n",
       "    padding-left: 1em;\n",
       "    padding-right: 1em;\n",
       "    background-image: url(\"tile_background.jpg\");\n",
       "}\n",
       "\n",
       "#notebook li { /* More space between bullet points */\n",
       "    margin-top:0.4em;\n",
       "}\n",
       "\n",
       "/* change background color of running cells */\n",
       "div.cell.code_cell.running {\n",
       "/*    background-color: rgba(164,188,194,.75); */\n",
       "    background-color: green;\n",
       "    border-width: 8px\n",
       "    border-style: solid\n",
       "    border-color: #111;\n",
       "}\n",
       "\n",
       "/* Put a solid color box around each cell and its output, visually linking them together */\n",
       "div.cell.code_cell {\n",
       "    background-color: rgba(164,188,194,.25); /* Continuum L Gray with alpha 0.25 */\n",
       "    border-radius: 10px; /* rounded borders */\n",
       "    padding: 1em;\n",
       "    margin-top: 1em;\n",
       "}\n",
       "\n",
       "div.text_cell_render{\n",
       "\tfont-family: Georgia, Times, 'Times New Roman', serif;\n",
       "    line-height: 110%;\n",
       "    font-size: 105%;\n",
       "    width: 95%;\n",
       "    margin-left: auto;\n",
       "    margin-right: auto;\n",
       "}\n",
       "\n",
       "\n",
       "/* Formatting for header cells */\n",
       ".text_cell_render h1 {\n",
       "\tfont-family: Arial, 'Helvetica Neue', Helvetica, sans-serif;\n",
       "    font-weight: 400;\n",
       "    font-size: 30pt;\n",
       "    line-height: 100%;\n",
       "    color: rgb(37,55,70); /* Continuum Blue*/\n",
       "    margin-bottom: 0.1em;\n",
       "    margin-top: 0.1em;\n",
       "    display: block;\n",
       "}\n",
       ".text_cell_render h2 {\n",
       "\tfont-family: Arial, 'Helvetica Neue', Helvetica, sans-serif;\n",
       "    font-weight: 700;\n",
       "    font-size: 22pt;\n",
       "    line-height: 100%;\n",
       "    color: rgb(37,55,70);\n",
       "    margin-bottom: 0.1em;\n",
       "    margin-top: 0.1em;\n",
       "    display: block;\n",
       "}\n",
       "\n",
       ".text_cell_render h3 {\n",
       "\tfont-family: Arial, 'Helvetica Neue', Helvetica, sans-serif;\n",
       "    margin-top:12px;\n",
       "    margin-bottom: 3px;\n",
       "    font-style: italic;\n",
       "    color: rgb(37, 55, 70);\n",
       "}\n",
       "\n",
       ".text_cell_render h4 {\n",
       "\tfont-family: Arial, 'Helvetica Neue', Helvetica, sans-serif;\n",
       "}\n",
       "\n",
       ".text_cell_render h5 {\n",
       "\tfont-family: Arial, 'Helvetica Neue', Helvetica, sans-serif;\n",
       "    font-weight: 300;\n",
       "    font-size: 14pt;\n",
       "    font-style: italic;\n",
       "    margin-bottom: .1em;\n",
       "    margin-top: 0.1em;\n",
       "    display: block;\n",
       "}\n",
       "\n",
       ".text_cell_render h6 {\n",
       "\tfont-family: Arial, 'Helvetica Neue', Helvetica, sans-serif;\n",
       "    font-weight: 300;\n",
       "    font-size: 10pt;\n",
       "    margin-bottom: 1px;\n",
       "    margin-top: 1px;\n",
       "}\n",
       "\n",
       ".CodeMirror{\n",
       "        font-family: \"PT Mono\", fixed;\n",
       "        font-size: 100%;\n",
       "}\n",
       "\n",
       "#notebook_panel { /* main background */\n",
       "    background-image: url(\"tile_background.jpg\");\n",
       "}\n",
       "\n",
       "\n",
       "\n",
       "\n",
       "</style>\n"
      ],
      "text/plain": [
       "<IPython.core.display.HTML object>"
      ]
     },
     "execution_count": 3,
     "metadata": {},
     "output_type": "execute_result"
    }
   ],
   "source": [
    "from __code.__all import custom_style\n",
    "custom_style.style()"
   ]
  },
  {
   "cell_type": "code",
   "execution_count": 4,
   "metadata": {
    "run_control": {
     "frozen": false,
     "read_only": false
    }
   },
   "outputs": [],
   "source": [
    "from __code.normalization_by_range_of_images import NormalizationPerRange"
   ]
  },
  {
   "cell_type": "code",
   "execution_count": 7,
   "metadata": {
    "run_control": {
     "frozen": false,
     "read_only": false
    }
   },
   "outputs": [
    {
     "data": {
      "application/vnd.jupyter.widget-view+json": {
       "model_id": "e6d0b87a8f994870ac8d01fa2e5fde66",
       "version_major": 2,
       "version_minor": 0
      },
      "text/html": [
       "<p>Failed to display Jupyter Widget of type <code>HTML</code>.</p>\n",
       "<p>\n",
       "  If you're reading this message in Jupyter Notebook or JupyterLab, it may mean\n",
       "  that the widgets JavaScript is still loading. If this message persists, it\n",
       "  likely means that the widgets JavaScript library is either not installed or\n",
       "  not enabled. See the <a href=\"https://ipywidgets.readthedocs.io/en/stable/user_install.html\">Jupyter\n",
       "  Widgets Documentation</a> for setup instructions.\n",
       "</p>\n",
       "<p>\n",
       "  If you're reading this message in another notebook frontend (for example, a static\n",
       "  rendering on GitHub or <a href=\"https://nbviewer.jupyter.org/\">NBViewer</a>),\n",
       "  it may mean that your frontend doesn't currently support widgets.\n",
       "</p>\n"
      ],
      "text/plain": [
       "HTML(value='Please wait...')"
      ]
     },
     "metadata": {},
     "output_type": "display_data"
    },
    {
     "data": {
      "text/html": [
       "\n",
       "        <style type=\"text/css\">\n",
       "        .jupyter-widgets select option {font-family: \"Lucida Console\", Monaco, monospace;}\n",
       "        div.output_subarea {padding: 0px;}\n",
       "        div.output_subarea > div {margin: 0.4em;}\n",
       "        </style>\n",
       "        "
      ],
      "text/plain": [
       "<IPython.core.display.HTML object>"
      ]
     },
     "metadata": {},
     "output_type": "display_data"
    },
    {
     "data": {
      "application/vnd.jupyter.widget-view+json": {
       "model_id": "acfa3c7f8fe4483cbc85d343cf161c66",
       "version_major": 2,
       "version_minor": 0
      },
      "text/html": [
       "<p>Failed to display Jupyter Widget of type <code>VBox</code>.</p>\n",
       "<p>\n",
       "  If you're reading this message in Jupyter Notebook or JupyterLab, it may mean\n",
       "  that the widgets JavaScript is still loading. If this message persists, it\n",
       "  likely means that the widgets JavaScript library is either not installed or\n",
       "  not enabled. See the <a href=\"https://ipywidgets.readthedocs.io/en/stable/user_install.html\">Jupyter\n",
       "  Widgets Documentation</a> for setup instructions.\n",
       "</p>\n",
       "<p>\n",
       "  If you're reading this message in another notebook frontend (for example, a static\n",
       "  rendering on GitHub or <a href=\"https://nbviewer.jupyter.org/\">NBViewer</a>),\n",
       "  it may mean that your frontend doesn't currently support widgets.\n",
       "</p>\n"
      ],
      "text/plain": [
       "VBox(children=(Label(value='Select Input Folder', layout=Layout(width='250px')), HBox(children=(HBox(children=(Text(value='/Volumes/my_book_thunderbolt_duo/IPTS/IPTS_17099', description='Location: ', layout=Layout(width='300px'), placeholder=''), Button(description='Jump', layout=Layout(margin='5px 10px', width='100px'), style=ButtonStyle())), layout=Layout(border='1px solid lightgrey', margin='5px 50px 5px 5px', padding='3px')),)), VBox(children=(Select(description='Select', layout=Layout(width='750px'), options=(' .', ' ..', ' .DS_Store                          |     Wed Nov 15 12:51:24 2017', ' cylindrical_geometry_corrected     |     Directory', ' normalized_cropped                 |     Directory', ' ob                                 |     Directory', ' radiographs                        |     Directory', ' right_edge                         |     Directory', ' testing_new_output_format          |     Directory'), value=' .'), HBox(children=(Button(description='Enter directory', layout=Layout(margin='5px 40px'), style=ButtonStyle()), Button(description='Select', layout=Layout(margin='5px 40px'), style=ButtonStyle())))), layout=Layout(border='1px solid lightgrey', margin='5px', padding='10px'))))"
      ]
     },
     "metadata": {},
     "output_type": "display_data"
    }
   ],
   "source": [
    "working_dir = system.System.get_working_dir()\n",
    "o_normalization = NormalizationPerRange(working_dir=working_dir)\n",
    "o_normalization.select_input_folder() # select input folder"
   ]
  },
  {
   "cell_type": "code",
   "execution_count": 8,
   "metadata": {
    "run_control": {
     "frozen": false,
     "read_only": false
    }
   },
   "outputs": [
    {
     "data": {
      "application/vnd.jupyter.widget-view+json": {
       "model_id": "b1af625bae944ddba743bf63ac2dd071",
       "version_major": 2,
       "version_minor": 0
      },
      "text/html": [
       "<p>Failed to display Jupyter Widget of type <code>HBox</code>.</p>\n",
       "<p>\n",
       "  If you're reading this message in Jupyter Notebook or JupyterLab, it may mean\n",
       "  that the widgets JavaScript is still loading. If this message persists, it\n",
       "  likely means that the widgets JavaScript library is either not installed or\n",
       "  not enabled. See the <a href=\"https://ipywidgets.readthedocs.io/en/stable/user_install.html\">Jupyter\n",
       "  Widgets Documentation</a> for setup instructions.\n",
       "</p>\n",
       "<p>\n",
       "  If you're reading this message in another notebook frontend (for example, a static\n",
       "  rendering on GitHub or <a href=\"https://nbviewer.jupyter.org/\">NBViewer</a>),\n",
       "  it may mean that your frontend doesn't currently support widgets.\n",
       "</p>\n"
      ],
      "text/plain": [
       "HBox(children=(Label(value='Loading sample', layout=Layout(width='20%')), IntProgress(value=0, max=741)))"
      ]
     },
     "metadata": {},
     "output_type": "display_data"
    }
   ],
   "source": [
    "o_normalization.load_stack() # load stack"
   ]
  },
  {
   "cell_type": "code",
   "execution_count": 9,
   "metadata": {
    "run_control": {
     "frozen": false,
     "read_only": false
    }
   },
   "outputs": [
    {
     "data": {
      "application/vnd.jupyter.widget-view+json": {
       "model_id": "8c6efe58d4f346d19cce3f14673c049d",
       "version_major": 2,
       "version_minor": 0
      },
      "text/html": [
       "<p>Failed to display Jupyter Widget of type <code>HTML</code>.</p>\n",
       "<p>\n",
       "  If you're reading this message in Jupyter Notebook or JupyterLab, it may mean\n",
       "  that the widgets JavaScript is still loading. If this message persists, it\n",
       "  likely means that the widgets JavaScript library is either not installed or\n",
       "  not enabled. See the <a href=\"https://ipywidgets.readthedocs.io/en/stable/user_install.html\">Jupyter\n",
       "  Widgets Documentation</a> for setup instructions.\n",
       "</p>\n",
       "<p>\n",
       "  If you're reading this message in another notebook frontend (for example, a static\n",
       "  rendering on GitHub or <a href=\"https://nbviewer.jupyter.org/\">NBViewer</a>),\n",
       "  it may mean that your frontend doesn't currently support widgets.\n",
       "</p>\n"
      ],
      "text/plain": [
       "HTML(value='Please wait...')"
      ]
     },
     "metadata": {},
     "output_type": "display_data"
    },
    {
     "data": {
      "text/html": [
       "\n",
       "        <style type=\"text/css\">\n",
       "        .jupyter-widgets select option {font-family: \"Lucida Console\", Monaco, monospace;}\n",
       "        div.output_subarea {padding: 0px;}\n",
       "        div.output_subarea > div {margin: 0.4em;}\n",
       "        </style>\n",
       "        "
      ],
      "text/plain": [
       "<IPython.core.display.HTML object>"
      ]
     },
     "metadata": {},
     "output_type": "display_data"
    },
    {
     "data": {
      "application/vnd.jupyter.widget-view+json": {
       "model_id": "c4f48455fc91404fba5b36a818f83519",
       "version_major": 2,
       "version_minor": 0
      },
      "text/html": [
       "<p>Failed to display Jupyter Widget of type <code>VBox</code>.</p>\n",
       "<p>\n",
       "  If you're reading this message in Jupyter Notebook or JupyterLab, it may mean\n",
       "  that the widgets JavaScript is still loading. If this message persists, it\n",
       "  likely means that the widgets JavaScript library is either not installed or\n",
       "  not enabled. See the <a href=\"https://ipywidgets.readthedocs.io/en/stable/user_install.html\">Jupyter\n",
       "  Widgets Documentation</a> for setup instructions.\n",
       "</p>\n",
       "<p>\n",
       "  If you're reading this message in another notebook frontend (for example, a static\n",
       "  rendering on GitHub or <a href=\"https://nbviewer.jupyter.org/\">NBViewer</a>),\n",
       "  it may mean that your frontend doesn't currently support widgets.\n",
       "</p>\n"
      ],
      "text/plain": [
       "VBox(children=(Label(value='Select Left Image', layout=Layout(width='250px')), HBox(children=(HBox(children=(Text(value='/Volumes/my_book_thunderbolt_duo/IPTS/IPTS_17099/cylindrical_geometry_corrected', description='Location: ', layout=Layout(width='300px'), placeholder=''), Button(description='Jump', layout=Layout(margin='5px 10px', width='100px'), style=ButtonStyle())), layout=Layout(border='1px solid lightgrey', margin='5px 50px 5px 5px', padding='3px')),)), VBox(children=(SelectMultiple(description='Select', layout=Layout(display='flex', flex_flow='column', width='750px'), options=(' .', ' ..', ' 20170113_LLZO_cycling_0120_0000.tiff     |     Fri Mar 10 10:23:48 2017', ' 20170113_LLZO_cycling_0120_0001.tiff     |     Fri Mar 10 10:23:48 2017', ' 20170113_LLZO_cycling_0120_0002.tiff     |     Fri Mar 10 10:23:48 2017', ' 20170113_LLZO_cycling_0120_0003.tiff     |     Fri Mar 10 10:23:48 2017', ' 20170113_LLZO_cycling_0120_0004.tiff     |     Fri Mar 10 10:23:48 2017', ' 20170113_LLZO_cycling_0120_0005.tiff     |     Fri Mar 10 10:23:48 2017', ' 20170113_LLZO_cycling_0120_0006.tiff     |     Fri Mar 10 10:23:48 2017', ' 20170113_LLZO_cycling_0120_0007.tiff     |     Fri Mar 10 10:23:48 2017', ' 20170113_LLZO_cycling_0120_0008.tiff     |     Fri Mar 10 10:23:48 2017', ' 20170113_LLZO_cycling_0120_0009.tiff     |     Fri Mar 10 10:23:48 2017', ' 20170113_LLZO_cycling_0120_0010.tiff     |     Fri Mar 10 10:23:48 2017', ' 20170113_LLZO_cycling_0120_0011.tiff     |     Fri Mar 10 10:23:48 2017', ' 20170113_LLZO_cycling_0120_0012.tiff     |     Fri Mar 10 10:23:48 2017', ' 20170113_LLZO_cycling_0120_0013.tiff     |     Fri Mar 10 10:23:48 2017', ' 20170113_LLZO_cycling_0120_0014.tiff     |     Fri Mar 10 10:23:48 2017', ' 20170113_LLZO_cycling_0120_0015.tiff     |     Fri Mar 10 10:23:48 2017', ' 20170113_LLZO_cycling_0120_0016.tiff     |     Fri Mar 10 10:23:48 2017', ' 20170113_LLZO_cycling_0120_0017.tiff     |     Fri Mar 10 10:23:48 2017', ' 20170113_LLZO_cycling_0120_0018.tiff     |     Fri Mar 10 10:23:48 2017', ' 20170113_LLZO_cycling_0120_0019.tiff     |     Fri Mar 10 10:23:48 2017', ' 20170113_LLZO_cycling_0120_0020.tiff     |     Fri Mar 10 10:23:48 2017', ' 20170113_LLZO_cycling_0120_0021.tiff     |     Fri Mar 10 10:23:48 2017', ' 20170113_LLZO_cycling_0120_0022.tiff     |     Fri Mar 10 10:23:48 2017', ' 20170113_LLZO_cycling_0120_0023.tiff     |     Fri Mar 10 10:23:48 2017', ' 20170113_LLZO_cycling_0120_0024.tiff     |     Fri Mar 10 10:23:48 2017', ' 20170113_LLZO_cycling_0120_0025.tiff     |     Fri Mar 10 10:23:48 2017', ' 20170113_LLZO_cycling_0120_0026.tiff     |     Fri Mar 10 10:23:48 2017', ' 20170113_LLZO_cycling_0120_0027.tiff     |     Fri Mar 10 10:23:48 2017', ' 20170113_LLZO_cycling_0120_0028.tiff     |     Fri Mar 10 10:23:48 2017', ' 20170113_LLZO_cycling_0120_0029.tiff     |     Fri Mar 10 10:23:48 2017', ' 20170113_LLZO_cycling_0120_0030.tiff     |     Fri Mar 10 10:23:48 2017', ' 20170113_LLZO_cycling_0120_0031.tiff     |     Fri Mar 10 10:23:48 2017', ' 20170113_LLZO_cycling_0120_0032.tiff     |     Fri Mar 10 10:23:48 2017', ' 20170113_LLZO_cycling_0120_0033.tiff     |     Fri Mar 10 10:23:48 2017', ' 20170113_LLZO_cycling_0120_0034.tiff     |     Fri Mar 10 10:23:48 2017', ' 20170113_LLZO_cycling_0120_0035.tiff     |     Fri Mar 10 10:23:48 2017', ' 20170113_LLZO_cycling_0120_0036.tiff     |     Fri Mar 10 10:23:48 2017', ' 20170113_LLZO_cycling_0120_0037.tiff     |     Fri Mar 10 10:23:48 2017', ' 20170113_LLZO_cycling_0120_0038.tiff     |     Fri Mar 10 10:23:48 2017', ' 20170113_LLZO_cycling_0120_0039.tiff     |     Fri Mar 10 10:23:48 2017', ' 20170113_LLZO_cycling_0120_0040.tiff     |     Fri Mar 10 10:23:48 2017', ' 20170113_LLZO_cycling_0120_0041.tiff     |     Fri Mar 10 10:23:48 2017', ' 20170113_LLZO_cycling_0120_0042.tiff     |     Fri Mar 10 10:23:48 2017', ' 20170113_LLZO_cycling_0120_0043.tiff     |     Fri Mar 10 10:23:48 2017', ' 20170113_LLZO_cycling_0120_0044.tiff     |     Fri Mar 10 10:23:48 2017', ' 20170113_LLZO_cycling_0120_0045.tiff     |     Fri Mar 10 10:23:48 2017', ' 20170113_LLZO_cycling_0120_0046.tiff     |     Fri Mar 10 10:23:48 2017', ' 20170113_LLZO_cycling_0120_0047.tiff     |     Fri Mar 10 10:23:48 2017', ' 20170113_LLZO_cycling_0120_0048.tiff     |     Fri Mar 10 10:23:48 2017', ' 20170113_LLZO_cycling_0120_0049.tiff     |     Fri Mar 10 10:23:48 2017', ' 20170113_LLZO_cycling_0120_0050.tiff     |     Fri Mar 10 10:23:48 2017', ' 20170113_LLZO_cycling_0120_0051.tiff     |     Fri Mar 10 10:23:48 2017', ' 20170113_LLZO_cycling_0120_0052.tiff     |     Fri Mar 10 10:23:48 2017', ' 20170113_LLZO_cycling_0120_0053.tiff     |     Fri Mar 10 10:23:48 2017', ' 20170113_LLZO_cycling_0120_0054.tiff     |     Fri Mar 10 10:23:48 2017', ' 20170113_LLZO_cycling_0120_0055.tiff     |     Fri Mar 10 10:23:48 2017', ' 20170113_LLZO_cycling_0120_0056.tiff     |     Fri Mar 10 10:23:48 2017', ' 20170113_LLZO_cycling_0120_0057.tiff     |     Fri Mar 10 10:23:48 2017', ' 20170113_LLZO_cycling_0120_0058.tiff     |     Fri Mar 10 10:23:48 2017', ' 20170113_LLZO_cycling_0120_0059.tiff     |     Fri Mar 10 10:23:48 2017', ' 20170113_LLZO_cycling_0120_0060.tiff     |     Fri Mar 10 10:23:48 2017', ' 20170113_LLZO_cycling_0120_0061.tiff     |     Fri Mar 10 10:23:48 2017', ' 20170113_LLZO_cycling_0120_0062.tiff     |     Fri Mar 10 10:23:48 2017', ' 20170113_LLZO_cycling_0120_0063.tiff     |     Fri Mar 10 10:23:48 2017', ' 20170113_LLZO_cycling_0120_0064.tiff     |     Fri Mar 10 10:23:48 2017', ' 20170113_LLZO_cycling_0120_0065.tiff     |     Fri Mar 10 10:23:48 2017', ' 20170113_LLZO_cycling_0120_0066.tiff     |     Fri Mar 10 10:23:48 2017', ' 20170113_LLZO_cycling_0120_0067.tiff     |     Fri Mar 10 10:23:48 2017', ' 20170113_LLZO_cycling_0120_0068.tiff     |     Fri Mar 10 10:23:48 2017', ' 20170113_LLZO_cycling_0120_0069.tiff     |     Fri Mar 10 10:23:48 2017', ' 20170113_LLZO_cycling_0120_0070.tiff     |     Fri Mar 10 10:23:48 2017', ' 20170113_LLZO_cycling_0120_0071.tiff     |     Fri Mar 10 10:23:48 2017', ' 20170113_LLZO_cycling_0120_0072.tiff     |     Fri Mar 10 10:23:48 2017', ' 20170113_LLZO_cycling_0120_0073.tiff     |     Fri Mar 10 10:23:48 2017', ' 20170113_LLZO_cycling_0120_0074.tiff     |     Fri Mar 10 10:23:48 2017', ' 20170113_LLZO_cycling_0120_0075.tiff     |     Fri Mar 10 10:23:48 2017', ' 20170113_LLZO_cycling_0120_0076.tiff     |     Fri Mar 10 10:23:48 2017', ' 20170113_LLZO_cycling_0120_0077.tiff     |     Fri Mar 10 10:23:48 2017', ' 20170113_LLZO_cycling_0120_0078.tiff     |     Fri Mar 10 10:23:48 2017', ' 20170113_LLZO_cycling_0120_0079.tiff     |     Fri Mar 10 10:23:48 2017', ' 20170113_LLZO_cycling_0120_0080.tiff     |     Fri Mar 10 10:23:48 2017', ' 20170113_LLZO_cycling_0120_0081.tiff     |     Fri Mar 10 10:23:48 2017', ' 20170113_LLZO_cycling_0120_0082.tiff     |     Fri Mar 10 10:23:48 2017', ' 20170113_LLZO_cycling_0120_0083.tiff     |     Fri Mar 10 10:23:48 2017', ' 20170113_LLZO_cycling_0120_0084.tiff     |     Fri Mar 10 10:23:48 2017', ' 20170113_LLZO_cycling_0120_0085.tiff     |     Fri Mar 10 10:23:48 2017', ' 20170113_LLZO_cycling_0120_0086.tiff     |     Fri Mar 10 10:23:48 2017', ' 20170113_LLZO_cycling_0120_0087.tiff     |     Fri Mar 10 10:23:48 2017', ' 20170113_LLZO_cycling_0120_0088.tiff     |     Fri Mar 10 10:23:48 2017', ' 20170113_LLZO_cycling_0120_0089.tiff     |     Fri Mar 10 10:23:48 2017', ' 20170113_LLZO_cycling_0120_0090.tiff     |     Fri Mar 10 10:23:48 2017', ' 20170113_LLZO_cycling_0120_0091.tiff     |     Fri Mar 10 10:23:48 2017', ' 20170113_LLZO_cycling_0120_0092.tiff     |     Fri Mar 10 10:23:48 2017', ' 20170113_LLZO_cycling_0120_0093.tiff     |     Fri Mar 10 10:23:48 2017', ' 20170113_LLZO_cycling_0120_0094.tiff     |     Fri Mar 10 10:23:48 2017', ' 20170113_LLZO_cycling_0120_0095.tiff     |     Fri Mar 10 10:23:48 2017', ' 20170113_LLZO_cycling_0120_0096.tiff     |     Fri Mar 10 10:23:48 2017', ' 20170113_LLZO_cycling_0120_0097.tiff     |     Fri Mar 10 10:23:48 2017', ' 20170113_LLZO_cycling_0120_0098.tiff     |     Fri Mar 10 10:23:48 2017', ' 20170113_LLZO_cycling_0120_0099.tiff     |     Fri Mar 10 10:23:48 2017', ' 20170113_LLZO_cycling_0120_0100.tiff     |     Fri Mar 10 10:23:48 2017', ' 20170113_LLZO_cycling_0120_0101.tiff     |     Fri Mar 10 10:23:48 2017', ' 20170113_LLZO_cycling_0120_0102.tiff     |     Fri Mar 10 10:23:48 2017', ' 20170113_LLZO_cycling_0120_0103.tiff     |     Fri Mar 10 10:23:48 2017', ' 20170113_LLZO_cycling_0120_0104.tiff     |     Fri Mar 10 10:23:48 2017', ' 20170113_LLZO_cycling_0120_0105.tiff     |     Fri Mar 10 10:23:48 2017', ' 20170113_LLZO_cycling_0120_0106.tiff     |     Fri Mar 10 10:23:48 2017', ' 20170113_LLZO_cycling_0120_0107.tiff     |     Fri Mar 10 10:23:48 2017', ' 20170113_LLZO_cycling_0120_0108.tiff     |     Fri Mar 10 10:23:48 2017', ' 20170113_LLZO_cycling_0120_0109.tiff     |     Fri Mar 10 10:23:48 2017', ' 20170113_LLZO_cycling_0120_0110.tiff     |     Fri Mar 10 10:23:48 2017', ' 20170113_LLZO_cycling_0120_0111.tiff     |     Fri Mar 10 10:23:48 2017', ' 20170113_LLZO_cycling_0120_0112.tiff     |     Fri Mar 10 10:23:48 2017', ' 20170113_LLZO_cycling_0120_0113.tiff     |     Fri Mar 10 10:23:48 2017', ' 20170113_LLZO_cycling_0120_0114.tiff     |     Fri Mar 10 10:23:48 2017', ' 20170113_LLZO_cycling_0120_0115.tiff     |     Fri Mar 10 10:23:48 2017', ' 20170113_LLZO_cycling_0120_0116.tiff     |     Fri Mar 10 10:23:48 2017', ' 20170113_LLZO_cycling_0120_0117.tiff     |     Fri Mar 10 10:23:48 2017', ' 20170113_LLZO_cycling_0120_0118.tiff     |     Fri Mar 10 10:23:48 2017', ' 20170113_LLZO_cycling_0120_0119.tiff     |     Fri Mar 10 10:23:48 2017', ' 20170113_LLZO_cycling_0120_0120.tiff     |     Fri Mar 10 10:23:48 2017', ' 20170113_LLZO_cycling_0120_0121.tiff     |     Fri Mar 10 10:23:48 2017', ' 20170113_LLZO_cycling_0120_0122.tiff     |     Fri Mar 10 10:23:48 2017', ' 20170113_LLZO_cycling_0120_0123.tiff     |     Fri Mar 10 10:23:48 2017', ' 20170113_LLZO_cycling_0120_0124.tiff     |     Fri Mar 10 10:23:48 2017', ' 20170113_LLZO_cycling_0120_0125.tiff     |     Fri Mar 10 10:23:48 2017', ' 20170113_LLZO_cycling_0120_0126.tiff     |     Fri Mar 10 10:23:48 2017', ' 20170113_LLZO_cycling_0120_0127.tiff     |     Fri Mar 10 10:23:48 2017', ' 20170113_LLZO_cycling_0120_0128.tiff     |     Fri Mar 10 10:23:48 2017', ' 20170113_LLZO_cycling_0120_0129.tiff     |     Fri Mar 10 10:23:48 2017', ' 20170113_LLZO_cycling_0120_0130.tiff     |     Fri Mar 10 10:23:48 2017', ' 20170113_LLZO_cycling_0120_0131.tiff     |     Fri Mar 10 10:23:48 2017', ' 20170113_LLZO_cycling_0120_0132.tiff     |     Fri Mar 10 10:23:48 2017', ' 20170113_LLZO_cycling_0120_0133.tiff     |     Fri Mar 10 10:23:48 2017', ' 20170113_LLZO_cycling_0120_0134.tiff     |     Fri Mar 10 10:23:48 2017', ' 20170113_LLZO_cycling_0120_0135.tiff     |     Fri Mar 10 10:23:48 2017', ' 20170113_LLZO_cycling_0120_0136.tiff     |     Fri Mar 10 10:23:48 2017', ' 20170113_LLZO_cycling_0120_0137.tiff     |     Fri Mar 10 10:23:48 2017', ' 20170113_LLZO_cycling_0120_0138.tiff     |     Fri Mar 10 10:23:48 2017', ' 20170113_LLZO_cycling_0120_0139.tiff     |     Fri Mar 10 10:23:48 2017', ' 20170113_LLZO_cycling_0120_0140.tiff     |     Fri Mar 10 10:23:48 2017', ' 20170113_LLZO_cycling_0120_0141.tiff     |     Fri Mar 10 10:23:48 2017', ' 20170113_LLZO_cycling_0120_0142.tiff     |     Fri Mar 10 10:23:48 2017', ' 20170113_LLZO_cycling_0120_0143.tiff     |     Fri Mar 10 10:23:48 2017', ' 20170113_LLZO_cycling_0120_0144.tiff     |     Fri Mar 10 10:23:48 2017', ' 20170113_LLZO_cycling_0120_0145.tiff     |     Fri Mar 10 10:23:48 2017', ' 20170113_LLZO_cycling_0120_0146.tiff     |     Fri Mar 10 10:23:48 2017', ' 20170113_LLZO_cycling_0120_0147.tiff     |     Fri Mar 10 10:23:48 2017', ' 20170113_LLZO_cycling_0120_0148.tiff     |     Fri Mar 10 10:23:48 2017', ' 20170113_LLZO_cycling_0120_0149.tiff     |     Fri Mar 10 10:23:48 2017', ' 20170113_LLZO_cycling_0120_0150.tiff     |     Fri Mar 10 10:23:48 2017', ' 20170113_LLZO_cycling_0120_0151.tiff     |     Fri Mar 10 10:23:48 2017', ' 20170113_LLZO_cycling_0120_0152.tiff     |     Fri Mar 10 10:23:48 2017', ' 20170113_LLZO_cycling_0120_0153.tiff     |     Fri Mar 10 10:23:48 2017', ' 20170113_LLZO_cycling_0120_0154.tiff     |     Fri Mar 10 10:23:48 2017', ' 20170113_LLZO_cycling_0120_0155.tiff     |     Fri Mar 10 10:23:48 2017', ' 20170113_LLZO_cycling_0120_0156.tiff     |     Fri Mar 10 10:23:48 2017', ' 20170113_LLZO_cycling_0120_0157.tiff     |     Fri Mar 10 10:23:48 2017', ' 20170113_LLZO_cycling_0120_0158.tiff     |     Fri Mar 10 10:23:48 2017', ' 20170113_LLZO_cycling_0120_0159.tiff     |     Fri Mar 10 10:23:48 2017', ' 20170113_LLZO_cycling_0120_0160.tiff     |     Fri Mar 10 10:23:48 2017', ' 20170113_LLZO_cycling_0120_0161.tiff     |     Fri Mar 10 10:23:48 2017', ' 20170113_LLZO_cycling_0120_0162.tiff     |     Fri Mar 10 10:23:48 2017', ' 20170113_LLZO_cycling_0120_0163.tiff     |     Fri Mar 10 10:23:48 2017', ' 20170113_LLZO_cycling_0120_0164.tiff     |     Fri Mar 10 10:23:48 2017', ' 20170113_LLZO_cycling_0120_0165.tiff     |     Fri Mar 10 10:23:48 2017', ' 20170113_LLZO_cycling_0120_0166.tiff     |     Fri Mar 10 10:23:48 2017', ' 20170113_LLZO_cycling_0120_0167.tiff     |     Fri Mar 10 10:23:48 2017', ' 20170113_LLZO_cycling_0120_0168.tiff     |     Fri Mar 10 10:23:48 2017', ' 20170113_LLZO_cycling_0120_0169.tiff     |     Fri Mar 10 10:23:48 2017', ' 20170113_LLZO_cycling_0120_0170.tiff     |     Fri Mar 10 10:23:48 2017', ' 20170113_LLZO_cycling_0120_0171.tiff     |     Fri Mar 10 10:23:48 2017', ' 20170113_LLZO_cycling_0120_0172.tiff     |     Fri Mar 10 10:23:48 2017', ' 20170113_LLZO_cycling_0120_0173.tiff     |     Fri Mar 10 10:23:48 2017', ' 20170113_LLZO_cycling_0120_0174.tiff     |     Fri Mar 10 10:23:48 2017', ' 20170113_LLZO_cycling_0120_0175.tiff     |     Fri Mar 10 10:23:48 2017', ' 20170113_LLZO_cycling_0120_0176.tiff     |     Fri Mar 10 10:23:48 2017', ' 20170113_LLZO_cycling_0120_0177.tiff     |     Fri Mar 10 10:23:48 2017', ' 20170113_LLZO_cycling_0120_0178.tiff     |     Fri Mar 10 10:23:48 2017', ' 20170113_LLZO_cycling_0120_0179.tiff     |     Fri Mar 10 10:23:48 2017', ' 20170113_LLZO_cycling_0120_0180.tiff     |     Fri Mar 10 10:23:48 2017', ' 20170113_LLZO_cycling_0120_0181.tiff     |     Fri Mar 10 10:23:48 2017', ' 20170113_LLZO_cycling_0120_0182.tiff     |     Fri Mar 10 10:23:48 2017', ' 20170113_LLZO_cycling_0120_0183.tiff     |     Fri Mar 10 10:23:48 2017', ' 20170113_LLZO_cycling_0120_0184.tiff     |     Fri Mar 10 10:23:48 2017', ' 20170113_LLZO_cycling_0120_0185.tiff     |     Fri Mar 10 10:23:49 2017', ' 20170113_LLZO_cycling_0120_0186.tiff     |     Fri Mar 10 10:23:49 2017', ' 20170113_LLZO_cycling_0120_0187.tiff     |     Fri Mar 10 10:23:49 2017', ' 20170113_LLZO_cycling_0120_0188.tiff     |     Fri Mar 10 10:23:49 2017', ' 20170113_LLZO_cycling_0120_0189.tiff     |     Fri Mar 10 10:23:49 2017', ' 20170113_LLZO_cycling_0120_0190.tiff     |     Fri Mar 10 10:23:49 2017', ' 20170113_LLZO_cycling_0120_0191.tiff     |     Fri Mar 10 10:23:49 2017', ' 20170113_LLZO_cycling_0120_0192.tiff     |     Fri Mar 10 10:23:49 2017', ' 20170113_LLZO_cycling_0120_0193.tiff     |     Fri Mar 10 10:23:49 2017', ' 20170113_LLZO_cycling_0120_0194.tiff     |     Fri Mar 10 10:23:49 2017', ' 20170113_LLZO_cycling_0120_0195.tiff     |     Fri Mar 10 10:23:49 2017', ' 20170113_LLZO_cycling_0120_0196.tiff     |     Fri Mar 10 10:23:49 2017', ' 20170113_LLZO_cycling_0120_0197.tiff     |     Fri Mar 10 10:23:49 2017', ' 20170113_LLZO_cycling_0120_0198.tiff     |     Fri Mar 10 10:23:49 2017', ' 20170113_LLZO_cycling_0120_0199.tiff     |     Fri Mar 10 10:23:49 2017', ' 20170113_LLZO_cycling_0120_0200.tiff     |     Fri Mar 10 10:23:49 2017', ' 20170114_LLZO_cycling_0120_0201.tiff     |     Fri Mar 10 10:23:49 2017', ' 20170114_LLZO_cycling_0120_0202.tiff     |     Fri Mar 10 10:23:49 2017', ' 20170114_LLZO_cycling_0120_0203.tiff     |     Fri Mar 10 10:23:49 2017', ' 20170114_LLZO_cycling_0120_0204.tiff     |     Fri Mar 10 10:23:49 2017', ' 20170114_LLZO_cycling_0120_0205.tiff     |     Fri Mar 10 10:23:49 2017', ' 20170114_LLZO_cycling_0120_0206.tiff     |     Fri Mar 10 10:23:49 2017', ' 20170114_LLZO_cycling_0120_0207.tiff     |     Fri Mar 10 10:23:49 2017', ' 20170114_LLZO_cycling_0120_0208.tiff     |     Fri Mar 10 10:23:49 2017', ' 20170114_LLZO_cycling_0120_0209.tiff     |     Fri Mar 10 10:23:49 2017', ' 20170114_LLZO_cycling_0120_0210.tiff     |     Fri Mar 10 10:23:49 2017', ' 20170114_LLZO_cycling_0120_0211.tiff     |     Fri Mar 10 10:23:49 2017', ' 20170114_LLZO_cycling_0120_0212.tiff     |     Fri Mar 10 10:23:49 2017', ' 20170114_LLZO_cycling_0120_0213.tiff     |     Fri Mar 10 10:23:49 2017', ' 20170114_LLZO_cycling_0120_0214.tiff     |     Fri Mar 10 10:23:49 2017', ' 20170114_LLZO_cycling_0120_0215.tiff     |     Fri Mar 10 10:23:49 2017', ' 20170114_LLZO_cycling_0120_0216.tiff     |     Fri Mar 10 10:23:49 2017', ' 20170114_LLZO_cycling_0120_0217.tiff     |     Fri Mar 10 10:23:49 2017', ' 20170114_LLZO_cycling_0120_0218.tiff     |     Fri Mar 10 10:23:49 2017', ' 20170114_LLZO_cycling_0120_0219.tiff     |     Fri Mar 10 10:23:49 2017', ' 20170114_LLZO_cycling_0120_0220.tiff     |     Fri Mar 10 10:23:49 2017', ' 20170114_LLZO_cycling_0120_0221.tiff     |     Fri Mar 10 10:23:49 2017', ' 20170114_LLZO_cycling_0120_0222.tiff     |     Fri Mar 10 10:23:49 2017', ' 20170114_LLZO_cycling_0120_0223.tiff     |     Fri Mar 10 10:23:49 2017', ' 20170114_LLZO_cycling_0120_0224.tiff     |     Fri Mar 10 10:23:49 2017', ' 20170114_LLZO_cycling_0120_0225.tiff     |     Fri Mar 10 10:23:49 2017', ' 20170114_LLZO_cycling_0120_0226.tiff     |     Fri Mar 10 10:23:49 2017', ' 20170114_LLZO_cycling_0120_0227.tiff     |     Fri Mar 10 10:23:49 2017', ' 20170114_LLZO_cycling_0120_0228.tiff     |     Fri Mar 10 10:23:49 2017', ' 20170114_LLZO_cycling_0120_0229.tiff     |     Fri Mar 10 10:23:49 2017', ' 20170114_LLZO_cycling_0120_0230.tiff     |     Fri Mar 10 10:23:49 2017', ' 20170114_LLZO_cycling_0120_0231.tiff     |     Fri Mar 10 10:23:49 2017', ' 20170114_LLZO_cycling_0120_0232.tiff     |     Fri Mar 10 10:23:49 2017', ' 20170114_LLZO_cycling_0120_0233.tiff     |     Fri Mar 10 10:23:49 2017', ' 20170114_LLZO_cycling_0120_0234.tiff     |     Fri Mar 10 10:23:49 2017', ' 20170114_LLZO_cycling_0120_0235.tiff     |     Fri Mar 10 10:23:49 2017', ' 20170114_LLZO_cycling_0120_0236.tiff     |     Fri Mar 10 10:23:49 2017', ' 20170114_LLZO_cycling_0120_0237.tiff     |     Fri Mar 10 10:23:49 2017', ' 20170114_LLZO_cycling_0120_0238.tiff     |     Fri Mar 10 10:23:49 2017', ' 20170114_LLZO_cycling_0120_0239.tiff     |     Fri Mar 10 10:23:49 2017', ' 20170114_LLZO_cycling_0120_0240.tiff     |     Fri Mar 10 10:23:49 2017', ' 20170114_LLZO_cycling_0120_0241.tiff     |     Fri Mar 10 10:23:49 2017', ' 20170114_LLZO_cycling_0120_0242.tiff     |     Fri Mar 10 10:23:49 2017', ' 20170114_LLZO_cycling_0120_0243.tiff     |     Fri Mar 10 10:23:49 2017', ' 20170114_LLZO_cycling_0120_0244.tiff     |     Fri Mar 10 10:23:49 2017', ' 20170114_LLZO_cycling_0120_0245.tiff     |     Fri Mar 10 10:23:49 2017', ' 20170114_LLZO_cycling_0120_0246.tiff     |     Fri Mar 10 10:23:49 2017', ' 20170114_LLZO_cycling_0120_0247.tiff     |     Fri Mar 10 10:23:49 2017', ' 20170114_LLZO_cycling_0120_0248.tiff     |     Fri Mar 10 10:23:49 2017', ' 20170114_LLZO_cycling_0120_0249.tiff     |     Fri Mar 10 10:23:49 2017', ' 20170114_LLZO_cycling_0120_0250.tiff     |     Fri Mar 10 10:23:49 2017', ' 20170114_LLZO_cycling_0120_0251.tiff     |     Fri Mar 10 10:23:49 2017', ' 20170114_LLZO_cycling_0120_0252.tiff     |     Fri Mar 10 10:23:49 2017', ' 20170114_LLZO_cycling_0120_0253.tiff     |     Fri Mar 10 10:23:49 2017', ' 20170114_LLZO_cycling_0120_0254.tiff     |     Fri Mar 10 10:23:49 2017', ' 20170114_LLZO_cycling_0120_0255.tiff     |     Fri Mar 10 10:23:49 2017', ' 20170114_LLZO_cycling_0120_0256.tiff     |     Fri Mar 10 10:23:49 2017', ' 20170114_LLZO_cycling_0120_0257.tiff     |     Fri Mar 10 10:23:49 2017', ' 20170114_LLZO_cycling_0120_0258.tiff     |     Fri Mar 10 10:23:49 2017', ' 20170114_LLZO_cycling_0120_0259.tiff     |     Fri Mar 10 10:23:49 2017', ' 20170114_LLZO_cycling_0120_0260.tiff     |     Fri Mar 10 10:23:49 2017', ' 20170114_LLZO_cycling_0120_0261.tiff     |     Fri Mar 10 10:23:49 2017', ' 20170114_LLZO_cycling_0120_0262.tiff     |     Fri Mar 10 10:23:49 2017', ' 20170114_LLZO_cycling_0120_0263.tiff     |     Fri Mar 10 10:23:49 2017', ' 20170114_LLZO_cycling_0120_0264.tiff     |     Fri Mar 10 10:23:49 2017', ' 20170114_LLZO_cycling_0120_0265.tiff     |     Fri Mar 10 10:23:49 2017', ' 20170114_LLZO_cycling_0120_0266.tiff     |     Fri Mar 10 10:23:49 2017', ' 20170114_LLZO_cycling_0120_0267.tiff     |     Fri Mar 10 10:23:49 2017', ' 20170114_LLZO_cycling_0120_0268.tiff     |     Fri Mar 10 10:23:49 2017', ' 20170114_LLZO_cycling_0120_0269.tiff     |     Fri Mar 10 10:23:49 2017', ' 20170114_LLZO_cycling_0120_0270.tiff     |     Fri Mar 10 10:23:49 2017', ' 20170114_LLZO_cycling_0120_0271.tiff     |     Fri Mar 10 10:23:49 2017', ' 20170114_LLZO_cycling_0120_0272.tiff     |     Fri Mar 10 10:23:49 2017', ' 20170114_LLZO_cycling_0120_0273.tiff     |     Fri Mar 10 10:23:49 2017', ' 20170114_LLZO_cycling_0120_0274.tiff     |     Fri Mar 10 10:23:49 2017', ' 20170114_LLZO_cycling_0120_0275.tiff     |     Fri Mar 10 10:23:49 2017', ' 20170114_LLZO_cycling_0120_0276.tiff     |     Fri Mar 10 10:23:49 2017', ' 20170114_LLZO_cycling_0120_0277.tiff     |     Fri Mar 10 10:23:49 2017', ' 20170114_LLZO_cycling_0120_0278.tiff     |     Fri Mar 10 10:23:49 2017', ' 20170114_LLZO_cycling_0120_0279.tiff     |     Fri Mar 10 10:23:49 2017', ' 20170114_LLZO_cycling_0120_0280.tiff     |     Fri Mar 10 10:23:49 2017', ' 20170114_LLZO_cycling_0120_0281.tiff     |     Fri Mar 10 10:23:49 2017', ' 20170114_LLZO_cycling_0120_0282.tiff     |     Fri Mar 10 10:23:49 2017', ' 20170114_LLZO_cycling_0120_0283.tiff     |     Fri Mar 10 10:23:49 2017', ' 20170114_LLZO_cycling_0120_0284.tiff     |     Fri Mar 10 10:23:49 2017', ' 20170114_LLZO_cycling_0120_0285.tiff     |     Fri Mar 10 10:23:49 2017', ' 20170114_LLZO_cycling_0120_0286.tiff     |     Fri Mar 10 10:23:49 2017', ' 20170114_LLZO_cycling_0120_0287.tiff     |     Fri Mar 10 10:23:49 2017', ' 20170114_LLZO_cycling_0120_0288.tiff     |     Fri Mar 10 10:23:49 2017', ' 20170114_LLZO_cycling_0120_0289.tiff     |     Fri Mar 10 10:23:49 2017', ' 20170114_LLZO_cycling_0120_0290.tiff     |     Fri Mar 10 10:23:49 2017', ' 20170114_LLZO_cycling_0120_0291.tiff     |     Fri Mar 10 10:23:49 2017', ' 20170114_LLZO_cycling_0120_0292.tiff     |     Fri Mar 10 10:23:49 2017', ' 20170114_LLZO_cycling_0120_0293.tiff     |     Fri Mar 10 10:23:49 2017', ' 20170114_LLZO_cycling_0120_0294.tiff     |     Fri Mar 10 10:23:49 2017', ' 20170114_LLZO_cycling_0120_0295.tiff     |     Fri Mar 10 10:23:49 2017', ' 20170114_LLZO_cycling_0120_0296.tiff     |     Fri Mar 10 10:23:49 2017', ' 20170114_LLZO_cycling_0120_0297.tiff     |     Fri Mar 10 10:23:49 2017', ' 20170114_LLZO_cycling_0120_0298.tiff     |     Fri Mar 10 10:23:49 2017', ' 20170114_LLZO_cycling_0120_0299.tiff     |     Fri Mar 10 10:23:49 2017', ' 20170114_LLZO_cycling_0120_0300.tiff     |     Fri Mar 10 10:23:49 2017', ' 20170114_LLZO_cycling_0120_0301.tiff     |     Fri Mar 10 10:23:49 2017', ' 20170114_LLZO_cycling_0120_0302.tiff     |     Fri Mar 10 10:23:49 2017', ' 20170114_LLZO_cycling_0120_0303.tiff     |     Fri Mar 10 10:23:49 2017', ' 20170114_LLZO_cycling_0120_0304.tiff     |     Fri Mar 10 10:23:49 2017', ' 20170114_LLZO_cycling_0120_0305.tiff     |     Fri Mar 10 10:23:49 2017', ' 20170114_LLZO_cycling_0120_0306.tiff     |     Fri Mar 10 10:23:49 2017', ' 20170114_LLZO_cycling_0120_0307.tiff     |     Fri Mar 10 10:23:49 2017', ' 20170114_LLZO_cycling_0120_0308.tiff     |     Fri Mar 10 10:23:49 2017', ' 20170114_LLZO_cycling_0120_0309.tiff     |     Fri Mar 10 10:23:49 2017', ' 20170114_LLZO_cycling_0120_0310.tiff     |     Fri Mar 10 10:23:49 2017', ' 20170114_LLZO_cycling_0120_0311.tiff     |     Fri Mar 10 10:23:49 2017', ' 20170114_LLZO_cycling_0120_0312.tiff     |     Fri Mar 10 10:23:49 2017', ' 20170114_LLZO_cycling_0120_0313.tiff     |     Fri Mar 10 10:23:49 2017', ' 20170114_LLZO_cycling_0120_0314.tiff     |     Fri Mar 10 10:23:49 2017', ' 20170114_LLZO_cycling_0120_0315.tiff     |     Fri Mar 10 10:23:49 2017', ' 20170114_LLZO_cycling_0120_0316.tiff     |     Fri Mar 10 10:23:49 2017', ' 20170114_LLZO_cycling_0120_0317.tiff     |     Fri Mar 10 10:23:49 2017', ' 20170114_LLZO_cycling_0120_0318.tiff     |     Fri Mar 10 10:23:49 2017', ' 20170114_LLZO_cycling_0120_0319.tiff     |     Fri Mar 10 10:23:49 2017', ' 20170114_LLZO_cycling_0120_0320.tiff     |     Fri Mar 10 10:23:49 2017', ' 20170114_LLZO_cycling_0120_0321.tiff     |     Fri Mar 10 10:23:49 2017', ' 20170114_LLZO_cycling_0120_0322.tiff     |     Fri Mar 10 10:23:49 2017', ' 20170114_LLZO_cycling_0120_0323.tiff     |     Fri Mar 10 10:23:49 2017', ' 20170114_LLZO_cycling_0120_0324.tiff     |     Fri Mar 10 10:23:49 2017', ' 20170114_LLZO_cycling_0120_0325.tiff     |     Fri Mar 10 10:23:49 2017', ' 20170114_LLZO_cycling_0120_0326.tiff     |     Fri Mar 10 10:23:49 2017', ' 20170114_LLZO_cycling_0120_0327.tiff     |     Fri Mar 10 10:23:49 2017', ' 20170114_LLZO_cycling_0120_0328.tiff     |     Fri Mar 10 10:23:49 2017', ' 20170114_LLZO_cycling_0120_0329.tiff     |     Fri Mar 10 10:23:49 2017', ' 20170114_LLZO_cycling_0120_0330.tiff     |     Fri Mar 10 10:23:49 2017', ' 20170114_LLZO_cycling_0120_0331.tiff     |     Fri Mar 10 10:23:49 2017', ' 20170114_LLZO_cycling_0120_0332.tiff     |     Fri Mar 10 10:23:49 2017', ' 20170114_LLZO_cycling_0120_0333.tiff     |     Fri Mar 10 10:23:49 2017', ' 20170114_LLZO_cycling_0120_0334.tiff     |     Fri Mar 10 10:23:49 2017', ' 20170114_LLZO_cycling_0120_0335.tiff     |     Fri Mar 10 10:23:49 2017', ' 20170114_LLZO_cycling_0120_0336.tiff     |     Fri Mar 10 10:23:49 2017', ' 20170114_LLZO_cycling_0120_0337.tiff     |     Fri Mar 10 10:23:49 2017', ' 20170114_LLZO_cycling_0120_0338.tiff     |     Fri Mar 10 10:23:49 2017', ' 20170114_LLZO_cycling_0120_0339.tiff     |     Fri Mar 10 10:23:49 2017', ' 20170114_LLZO_cycling_0120_0340.tiff     |     Fri Mar 10 10:23:49 2017', ' 20170114_LLZO_cycling_0120_0341.tiff     |     Fri Mar 10 10:23:49 2017', ' 20170114_LLZO_cycling_0120_0342.tiff     |     Fri Mar 10 10:23:49 2017', ' 20170114_LLZO_cycling_0120_0343.tiff     |     Fri Mar 10 10:23:49 2017', ' 20170114_LLZO_cycling_0120_0344.tiff     |     Fri Mar 10 10:23:49 2017', ' 20170114_LLZO_cycling_0120_0345.tiff     |     Fri Mar 10 10:23:49 2017', ' 20170114_LLZO_cycling_0120_0346.tiff     |     Fri Mar 10 10:23:49 2017', ' 20170114_LLZO_cycling_0120_0347.tiff     |     Fri Mar 10 10:23:49 2017', ' 20170114_LLZO_cycling_0120_0348.tiff     |     Fri Mar 10 10:23:49 2017', ' 20170114_LLZO_cycling_0120_0349.tiff     |     Fri Mar 10 10:23:49 2017', ' 20170114_LLZO_cycling_0120_0350.tiff     |     Fri Mar 10 10:23:49 2017', ' 20170114_LLZO_cycling_0120_0351.tiff     |     Fri Mar 10 10:23:49 2017', ' 20170114_LLZO_cycling_0120_0352.tiff     |     Fri Mar 10 10:23:49 2017', ' 20170114_LLZO_cycling_0120_0353.tiff     |     Fri Mar 10 10:23:49 2017', ' 20170114_LLZO_cycling_0120_0354.tiff     |     Fri Mar 10 10:23:49 2017', ' 20170114_LLZO_cycling_0120_0355.tiff     |     Fri Mar 10 10:23:49 2017', ' 20170114_LLZO_cycling_0120_0356.tiff     |     Fri Mar 10 10:23:49 2017', ' 20170114_LLZO_cycling_0120_0357.tiff     |     Fri Mar 10 10:23:49 2017', ' 20170114_LLZO_cycling_0120_0358.tiff     |     Fri Mar 10 10:23:49 2017', ' 20170114_LLZO_cycling_0120_0359.tiff     |     Fri Mar 10 10:23:49 2017', ' 20170114_LLZO_cycling_0120_0360.tiff     |     Fri Mar 10 10:23:49 2017', ' 20170114_LLZO_cycling_0120_0361.tiff     |     Fri Mar 10 10:23:49 2017', ' 20170114_LLZO_cycling_0120_0362.tiff     |     Fri Mar 10 10:23:49 2017', ' 20170114_LLZO_cycling_0120_0363.tiff     |     Fri Mar 10 10:23:49 2017', ' 20170114_LLZO_cycling_0120_0364.tiff     |     Fri Mar 10 10:23:49 2017', ' 20170114_LLZO_cycling_0120_0365.tiff     |     Fri Mar 10 10:23:49 2017', ' 20170114_LLZO_cycling_0120_0366.tiff     |     Fri Mar 10 10:23:49 2017', ' 20170114_LLZO_cycling_0120_0367.tiff     |     Fri Mar 10 10:23:49 2017', ' 20170114_LLZO_cycling_0120_0368.tiff     |     Fri Mar 10 10:23:49 2017', ' 20170114_LLZO_cycling_0120_0369.tiff     |     Fri Mar 10 10:23:49 2017', ' 20170114_LLZO_cycling_0120_0370.tiff     |     Fri Mar 10 10:23:49 2017', ' 20170114_LLZO_cycling_0120_0371.tiff     |     Fri Mar 10 10:23:49 2017', ' 20170114_LLZO_cycling_0120_0372.tiff     |     Fri Mar 10 10:23:49 2017', ' 20170114_LLZO_cycling_0120_0373.tiff     |     Fri Mar 10 10:23:49 2017', ' 20170114_LLZO_cycling_0120_0374.tiff     |     Fri Mar 10 10:23:49 2017', ' 20170114_LLZO_cycling_0120_0375.tiff     |     Fri Mar 10 10:23:49 2017', ' 20170114_LLZO_cycling_0120_0376.tiff     |     Fri Mar 10 10:23:49 2017', ' 20170114_LLZO_cycling_0120_0377.tiff     |     Fri Mar 10 10:23:49 2017', ' 20170114_LLZO_cycling_0120_0378.tiff     |     Fri Mar 10 10:23:49 2017', ' 20170114_LLZO_cycling_0120_0379.tiff     |     Fri Mar 10 10:23:49 2017', ' 20170114_LLZO_cycling_0120_0380.tiff     |     Fri Mar 10 10:23:49 2017', ' 20170114_LLZO_cycling_0120_0381.tiff     |     Fri Mar 10 10:23:49 2017', ' 20170114_LLZO_cycling_0120_0382.tiff     |     Fri Mar 10 10:23:49 2017', ' 20170114_LLZO_cycling_0120_0383.tiff     |     Fri Mar 10 10:23:49 2017', ' 20170114_LLZO_cycling_0120_0384.tiff     |     Fri Mar 10 10:23:49 2017', ' 20170114_LLZO_cycling_0120_0385.tiff     |     Fri Mar 10 10:23:49 2017', ' 20170114_LLZO_cycling_0120_0386.tiff     |     Fri Mar 10 10:23:49 2017', ' 20170114_LLZO_cycling_0120_0387.tiff     |     Fri Mar 10 10:23:49 2017', ' 20170114_LLZO_cycling_0120_0388.tiff     |     Fri Mar 10 10:23:49 2017', ' 20170114_LLZO_cycling_0120_0389.tiff     |     Fri Mar 10 10:23:49 2017', ' 20170114_LLZO_cycling_0120_0390.tiff     |     Fri Mar 10 10:23:49 2017', ' 20170114_LLZO_cycling_0120_0391.tiff     |     Fri Mar 10 10:23:49 2017', ' 20170114_LLZO_cycling_0120_0392.tiff     |     Fri Mar 10 10:23:49 2017', ' 20170114_LLZO_cycling_0120_0393.tiff     |     Fri Mar 10 10:23:49 2017', ' 20170114_LLZO_cycling_0120_0394.tiff     |     Fri Mar 10 10:23:49 2017', ' 20170114_LLZO_cycling_0120_0395.tiff     |     Fri Mar 10 10:23:49 2017', ' 20170114_LLZO_cycling_0120_0396.tiff     |     Fri Mar 10 10:23:49 2017', ' 20170114_LLZO_cycling_0120_0397.tiff     |     Fri Mar 10 10:23:49 2017', ' 20170114_LLZO_cycling_0120_0398.tiff     |     Fri Mar 10 10:23:49 2017', ' 20170114_LLZO_cycling_0120_0399.tiff     |     Fri Mar 10 10:23:49 2017', ' 20170114_LLZO_cycling_0120_0400.tiff     |     Fri Mar 10 10:23:49 2017', ' 20170114_LLZO_cycling_0120_0401.tiff     |     Fri Mar 10 10:23:49 2017', ' 20170114_LLZO_cycling_0120_0402.tiff     |     Fri Mar 10 10:23:49 2017', ' 20170114_LLZO_cycling_0120_0403.tiff     |     Fri Mar 10 10:23:49 2017', ' 20170114_LLZO_cycling_0120_0404.tiff     |     Fri Mar 10 10:23:49 2017', ' 20170114_LLZO_cycling_0120_0405.tiff     |     Fri Mar 10 10:23:49 2017', ' 20170114_LLZO_cycling_0120_0406.tiff     |     Fri Mar 10 10:23:49 2017', ' 20170114_LLZO_cycling_0120_0407.tiff     |     Fri Mar 10 10:23:49 2017', ' 20170114_LLZO_cycling_0120_0408.tiff     |     Fri Mar 10 10:23:49 2017', ' 20170114_LLZO_cycling_0120_0409.tiff     |     Fri Mar 10 10:23:49 2017', ' 20170114_LLZO_cycling_0120_0410.tiff     |     Fri Mar 10 10:23:49 2017', ' 20170114_LLZO_cycling_0120_0411.tiff     |     Fri Mar 10 10:23:49 2017', ' 20170114_LLZO_cycling_0120_0412.tiff     |     Fri Mar 10 10:23:49 2017', ' 20170114_LLZO_cycling_0120_0413.tiff     |     Fri Mar 10 10:23:49 2017', ' 20170114_LLZO_cycling_0120_0414.tiff     |     Fri Mar 10 10:23:49 2017', ' 20170114_LLZO_cycling_0120_0415.tiff     |     Fri Mar 10 10:23:49 2017', ' 20170114_LLZO_cycling_0120_0416.tiff     |     Fri Mar 10 10:23:49 2017', ' 20170114_LLZO_cycling_0120_0417.tiff     |     Fri Mar 10 10:23:49 2017', ' 20170114_LLZO_cycling_0120_0418.tiff     |     Fri Mar 10 10:23:49 2017', ' 20170114_LLZO_cycling_0120_0419.tiff     |     Fri Mar 10 10:23:49 2017', ' 20170114_LLZO_cycling_0120_0420.tiff     |     Fri Mar 10 10:23:49 2017', ' 20170114_LLZO_cycling_0120_0421.tiff     |     Fri Mar 10 10:23:49 2017', ' 20170114_LLZO_cycling_0120_0422.tiff     |     Fri Mar 10 10:23:49 2017', ' 20170114_LLZO_cycling_0120_0423.tiff     |     Fri Mar 10 10:23:49 2017', ' 20170114_LLZO_cycling_0120_0424.tiff     |     Fri Mar 10 10:23:49 2017', ' 20170114_LLZO_cycling_0120_0425.tiff     |     Fri Mar 10 10:23:49 2017', ' 20170114_LLZO_cycling_0120_0426.tiff     |     Fri Mar 10 10:23:49 2017', ' 20170114_LLZO_cycling_0120_0427.tiff     |     Fri Mar 10 10:23:49 2017', ' 20170114_LLZO_cycling_0120_0428.tiff     |     Fri Mar 10 10:23:49 2017', ' 20170114_LLZO_cycling_0120_0429.tiff     |     Fri Mar 10 10:23:49 2017', ' 20170114_LLZO_cycling_0120_0430.tiff     |     Fri Mar 10 10:23:49 2017', ' 20170114_LLZO_cycling_0120_0431.tiff     |     Fri Mar 10 10:23:49 2017', ' 20170114_LLZO_cycling_0120_0432.tiff     |     Fri Mar 10 10:23:49 2017', ' 20170114_LLZO_cycling_0120_0433.tiff     |     Fri Mar 10 10:23:49 2017', ' 20170114_LLZO_cycling_0120_0434.tiff     |     Fri Mar 10 10:23:49 2017', ' 20170114_LLZO_cycling_0120_0435.tiff     |     Fri Mar 10 10:23:49 2017', ' 20170114_LLZO_cycling_0120_0436.tiff     |     Fri Mar 10 10:23:49 2017', ' 20170114_LLZO_cycling_0120_0437.tiff     |     Fri Mar 10 10:23:49 2017', ' 20170114_LLZO_cycling_0120_0438.tiff     |     Fri Mar 10 10:23:49 2017', ' 20170114_LLZO_cycling_0120_0439.tiff     |     Fri Mar 10 10:23:49 2017', ' 20170114_LLZO_cycling_0120_0440.tiff     |     Fri Mar 10 10:23:49 2017', ' 20170114_LLZO_cycling_0120_0441.tiff     |     Fri Mar 10 10:23:49 2017', ' 20170114_LLZO_cycling_0120_0442.tiff     |     Fri Mar 10 10:23:49 2017', ' 20170114_LLZO_cycling_0120_0443.tiff     |     Fri Mar 10 10:23:49 2017', ' 20170114_LLZO_cycling_0120_0444.tiff     |     Fri Mar 10 10:23:49 2017', ' 20170114_LLZO_cycling_0120_0445.tiff     |     Fri Mar 10 10:23:49 2017', ' 20170114_LLZO_cycling_0120_0446.tiff     |     Fri Mar 10 10:23:49 2017', ' 20170114_LLZO_cycling_0120_0447.tiff     |     Fri Mar 10 10:23:49 2017', ' 20170114_LLZO_cycling_0120_0448.tiff     |     Fri Mar 10 10:23:49 2017', ' 20170114_LLZO_cycling_0120_0449.tiff     |     Fri Mar 10 10:23:49 2017', ' 20170114_LLZO_cycling_0120_0450.tiff     |     Fri Mar 10 10:23:49 2017', ' 20170114_LLZO_cycling_0120_0451.tiff     |     Fri Mar 10 10:23:49 2017', ' 20170114_LLZO_cycling_0120_0452.tiff     |     Fri Mar 10 10:23:49 2017', ' 20170114_LLZO_cycling_0120_0453.tiff     |     Fri Mar 10 10:23:49 2017', ' 20170114_LLZO_cycling_0120_0454.tiff     |     Fri Mar 10 10:23:49 2017', ' 20170114_LLZO_cycling_0120_0455.tiff     |     Fri Mar 10 10:23:49 2017', ' 20170114_LLZO_cycling_0120_0456.tiff     |     Fri Mar 10 10:23:49 2017', ' 20170114_LLZO_cycling_0120_0457.tiff     |     Fri Mar 10 10:23:49 2017', ' 20170114_LLZO_cycling_0120_0458.tiff     |     Fri Mar 10 10:23:49 2017', ' 20170114_LLZO_cycling_0120_0459.tiff     |     Fri Mar 10 10:23:49 2017', ' 20170114_LLZO_cycling_0120_0460.tiff     |     Fri Mar 10 10:23:49 2017', ' 20170114_LLZO_cycling_0120_0461.tiff     |     Fri Mar 10 10:23:49 2017', ' 20170114_LLZO_cycling_0120_0462.tiff     |     Fri Mar 10 10:23:49 2017', ' 20170114_LLZO_cycling_0120_0463.tiff     |     Fri Mar 10 10:23:49 2017', ' 20170114_LLZO_cycling_0120_0464.tiff     |     Fri Mar 10 10:23:49 2017', ' 20170114_LLZO_cycling_0120_0465.tiff     |     Fri Mar 10 10:23:49 2017', ' 20170114_LLZO_cycling_0120_0466.tiff     |     Fri Mar 10 10:23:49 2017', ' 20170114_LLZO_cycling_0120_0467.tiff     |     Fri Mar 10 10:23:49 2017', ' 20170114_LLZO_cycling_0120_0468.tiff     |     Fri Mar 10 10:23:49 2017', ' 20170114_LLZO_cycling_0120_0469.tiff     |     Fri Mar 10 10:23:49 2017', ' 20170114_LLZO_cycling_0120_0470.tiff     |     Fri Mar 10 10:23:49 2017', ' 20170114_LLZO_cycling_0120_0471.tiff     |     Fri Mar 10 10:23:49 2017', ' 20170114_LLZO_cycling_0120_0472.tiff     |     Fri Mar 10 10:23:49 2017', ' 20170114_LLZO_cycling_0120_0473.tiff     |     Fri Mar 10 10:23:49 2017', ' 20170114_LLZO_cycling_0120_0474.tiff     |     Fri Mar 10 10:23:49 2017', ' 20170114_LLZO_cycling_0120_0475.tiff     |     Fri Mar 10 10:23:49 2017', ' 20170114_LLZO_cycling_0120_0476.tiff     |     Fri Mar 10 10:23:49 2017', ' 20170114_LLZO_cycling_0120_0477.tiff     |     Fri Mar 10 10:23:49 2017', ' 20170114_LLZO_cycling_0120_0478.tiff     |     Fri Mar 10 10:23:49 2017', ' 20170114_LLZO_cycling_0120_0479.tiff     |     Fri Mar 10 10:23:49 2017', ' 20170114_LLZO_cycling_0120_0480.tiff     |     Fri Mar 10 10:23:49 2017', ' 20170114_LLZO_cycling_0120_0481.tiff     |     Fri Mar 10 10:23:49 2017', ' 20170114_LLZO_cycling_0120_0482.tiff     |     Fri Mar 10 10:23:49 2017', ' 20170114_LLZO_cycling_0120_0483.tiff     |     Fri Mar 10 10:23:49 2017', ' 20170114_LLZO_cycling_0120_0484.tiff     |     Fri Mar 10 10:23:49 2017', ' 20170114_LLZO_cycling_0120_0485.tiff     |     Fri Mar 10 10:23:49 2017', ' 20170114_LLZO_cycling_0120_0486.tiff     |     Fri Mar 10 10:23:49 2017', ' 20170114_LLZO_cycling_0120_0487.tiff     |     Fri Mar 10 10:23:49 2017', ' 20170114_LLZO_cycling_0120_0488.tiff     |     Fri Mar 10 10:23:49 2017', ' 20170114_LLZO_cycling_0120_0489.tiff     |     Fri Mar 10 10:23:49 2017', ' 20170114_LLZO_cycling_0120_0490.tiff     |     Fri Mar 10 10:23:49 2017', ' 20170114_LLZO_cycling_0120_0491.tiff     |     Fri Mar 10 10:23:49 2017', ' 20170114_LLZO_cycling_0120_0492.tiff     |     Fri Mar 10 10:23:49 2017', ' 20170114_LLZO_cycling_0120_0493.tiff     |     Fri Mar 10 10:23:49 2017', ' 20170114_LLZO_cycling_0120_0494.tiff     |     Fri Mar 10 10:23:49 2017', ' 20170114_LLZO_cycling_0120_0495.tiff     |     Fri Mar 10 10:23:49 2017', ' 20170114_LLZO_cycling_0120_0496.tiff     |     Fri Mar 10 10:23:49 2017', ' 20170114_LLZO_cycling_0120_0497.tiff     |     Fri Mar 10 10:23:49 2017', ' 20170114_LLZO_cycling_0120_0498.tiff     |     Fri Mar 10 10:23:49 2017', ' 20170114_LLZO_cycling_0120_0499.tiff     |     Fri Mar 10 10:23:49 2017', ' 20170114_LLZO_cycling_0120_0500.tiff     |     Fri Mar 10 10:23:49 2017', ' 20170114_LLZO_cycling_0120_0501.tiff     |     Fri Mar 10 10:23:49 2017', ' 20170114_LLZO_cycling_0120_0502.tiff     |     Fri Mar 10 10:23:49 2017', ' 20170114_LLZO_cycling_0120_0503.tiff     |     Fri Mar 10 10:23:49 2017', ' 20170114_LLZO_cycling_0120_0504.tiff     |     Fri Mar 10 10:23:49 2017', ' 20170114_LLZO_cycling_0120_0505.tiff     |     Fri Mar 10 10:23:49 2017', ' 20170114_LLZO_cycling_0120_0506.tiff     |     Fri Mar 10 10:23:49 2017', ' 20170114_LLZO_cycling_0120_0507.tiff     |     Fri Mar 10 10:23:49 2017', ' 20170114_LLZO_cycling_0120_0508.tiff     |     Fri Mar 10 10:23:49 2017', ' 20170114_LLZO_cycling_0120_0509.tiff     |     Fri Mar 10 10:23:49 2017', ' 20170114_LLZO_cycling_0120_0510.tiff     |     Fri Mar 10 10:23:49 2017', ' 20170114_LLZO_cycling_0120_0511.tiff     |     Fri Mar 10 10:23:49 2017', ' 20170114_LLZO_cycling_0120_0512.tiff     |     Fri Mar 10 10:23:49 2017', ' 20170114_LLZO_cycling_0120_0513.tiff     |     Fri Mar 10 10:23:49 2017', ' 20170114_LLZO_cycling_0120_0514.tiff     |     Fri Mar 10 10:23:49 2017', ' 20170114_LLZO_cycling_0120_0515.tiff     |     Fri Mar 10 10:23:49 2017', ' 20170114_LLZO_cycling_0120_0516.tiff     |     Fri Mar 10 10:23:49 2017', ' 20170114_LLZO_cycling_0120_0517.tiff     |     Fri Mar 10 10:23:49 2017', ' 20170114_LLZO_cycling_0120_0518.tiff     |     Fri Mar 10 10:23:49 2017', ' 20170114_LLZO_cycling_0120_0519.tiff     |     Fri Mar 10 10:23:49 2017', ' 20170114_LLZO_cycling_0120_0520.tiff     |     Fri Mar 10 10:23:49 2017', ' 20170114_LLZO_cycling_0120_0521.tiff     |     Fri Mar 10 10:23:49 2017', ' 20170114_LLZO_cycling_0120_0522.tiff     |     Fri Mar 10 10:23:49 2017', ' 20170114_LLZO_cycling_0120_0523.tiff     |     Fri Mar 10 10:23:49 2017', ' 20170114_LLZO_cycling_0120_0524.tiff     |     Fri Mar 10 10:23:49 2017', ' 20170114_LLZO_cycling_0120_0525.tiff     |     Fri Mar 10 10:23:49 2017', ' 20170114_LLZO_cycling_0120_0526.tiff     |     Fri Mar 10 10:23:49 2017', ' 20170114_LLZO_cycling_0120_0527.tiff     |     Fri Mar 10 10:23:49 2017', ' 20170114_LLZO_cycling_0120_0528.tiff     |     Fri Mar 10 10:23:49 2017', ' 20170114_LLZO_cycling_0120_0529.tiff     |     Fri Mar 10 10:23:49 2017', ' 20170114_LLZO_cycling_0120_0530.tiff     |     Fri Mar 10 10:23:49 2017', ' 20170114_LLZO_cycling_0120_0531.tiff     |     Fri Mar 10 10:23:49 2017', ' 20170114_LLZO_cycling_0120_0532.tiff     |     Fri Mar 10 10:23:49 2017', ' 20170114_LLZO_cycling_0120_0533.tiff     |     Fri Mar 10 10:23:49 2017', ' 20170114_LLZO_cycling_0120_0534.tiff     |     Fri Mar 10 10:23:49 2017', ' 20170114_LLZO_cycling_0120_0535.tiff     |     Fri Mar 10 10:23:49 2017', ' 20170114_LLZO_cycling_0120_0536.tiff     |     Fri Mar 10 10:23:49 2017', ' 20170114_LLZO_cycling_0120_0537.tiff     |     Fri Mar 10 10:23:49 2017', ' 20170114_LLZO_cycling_0120_0538.tiff     |     Fri Mar 10 10:23:49 2017', ' 20170114_LLZO_cycling_0120_0539.tiff     |     Fri Mar 10 10:23:49 2017', ' 20170114_LLZO_cycling_0120_0540.tiff     |     Fri Mar 10 10:23:49 2017', ' 20170114_LLZO_cycling_0120_0541.tiff     |     Fri Mar 10 10:23:49 2017', ' 20170114_LLZO_cycling_0120_0542.tiff     |     Fri Mar 10 10:23:49 2017', ' 20170114_LLZO_cycling_0120_0543.tiff     |     Fri Mar 10 10:23:49 2017', ' 20170114_LLZO_cycling_0120_0544.tiff     |     Fri Mar 10 10:23:49 2017', ' 20170114_LLZO_cycling_0120_0545.tiff     |     Fri Mar 10 10:23:49 2017', ' 20170114_LLZO_cycling_0120_0546.tiff     |     Fri Mar 10 10:23:49 2017', ' 20170114_LLZO_cycling_0120_0547.tiff     |     Fri Mar 10 10:23:49 2017', ' 20170114_LLZO_cycling_0120_0548.tiff     |     Fri Mar 10 10:23:49 2017', ' 20170114_LLZO_cycling_0120_0549.tiff     |     Fri Mar 10 10:23:49 2017', ' 20170114_LLZO_cycling_0120_0550.tiff     |     Fri Mar 10 10:23:49 2017', ' 20170114_LLZO_cycling_0120_0551.tiff     |     Fri Mar 10 10:23:49 2017', ' 20170114_LLZO_cycling_0120_0552.tiff     |     Fri Mar 10 10:23:49 2017', ' 20170114_LLZO_cycling_0120_0553.tiff     |     Fri Mar 10 10:23:49 2017', ' 20170114_LLZO_cycling_0120_0554.tiff     |     Fri Mar 10 10:23:49 2017', ' 20170114_LLZO_cycling_0120_0555.tiff     |     Fri Mar 10 10:23:49 2017', ' 20170114_LLZO_cycling_0120_0556.tiff     |     Fri Mar 10 10:23:49 2017', ' 20170114_LLZO_cycling_0120_0557.tiff     |     Fri Mar 10 10:23:49 2017', ' 20170114_LLZO_cycling_0120_0558.tiff     |     Fri Mar 10 10:23:49 2017', ' 20170114_LLZO_cycling_0120_0559.tiff     |     Fri Mar 10 10:23:49 2017', ' 20170114_LLZO_cycling_0120_0560.tiff     |     Fri Mar 10 10:23:49 2017', ' 20170114_LLZO_cycling_0120_0561.tiff     |     Fri Mar 10 10:23:49 2017', ' 20170114_LLZO_cycling_0120_0562.tiff     |     Fri Mar 10 10:23:49 2017', ' 20170114_LLZO_cycling_0120_0563.tiff     |     Fri Mar 10 10:23:49 2017', ' 20170114_LLZO_cycling_0120_0564.tiff     |     Fri Mar 10 10:23:49 2017', ' 20170114_LLZO_cycling_0120_0565.tiff     |     Fri Mar 10 10:23:49 2017', ' 20170114_LLZO_cycling_0120_0566.tiff     |     Fri Mar 10 10:23:49 2017', ' 20170114_LLZO_cycling_0120_0567.tiff     |     Fri Mar 10 10:23:49 2017', ' 20170114_LLZO_cycling_0120_0568.tiff     |     Fri Mar 10 10:23:49 2017', ' 20170114_LLZO_cycling_0120_0569.tiff     |     Fri Mar 10 10:23:49 2017', ' 20170114_LLZO_cycling_0120_0570.tiff     |     Fri Mar 10 10:23:49 2017', ' 20170114_LLZO_cycling_0120_0571.tiff     |     Fri Mar 10 10:23:49 2017', ' 20170114_LLZO_cycling_0120_0572.tiff     |     Fri Mar 10 10:23:49 2017', ' 20170114_LLZO_cycling_0120_0573.tiff     |     Fri Mar 10 10:23:49 2017', ' 20170114_LLZO_cycling_0120_0574.tiff     |     Fri Mar 10 10:23:49 2017', ' 20170114_LLZO_cycling_0120_0575.tiff     |     Fri Mar 10 10:23:49 2017', ' 20170114_LLZO_cycling_0120_0576.tiff     |     Fri Mar 10 10:23:49 2017', ' 20170114_LLZO_cycling_0120_0577.tiff     |     Fri Mar 10 10:23:49 2017', ' 20170114_LLZO_cycling_0120_0578.tiff     |     Fri Mar 10 10:23:49 2017', ' 20170114_LLZO_cycling_0120_0579.tiff     |     Fri Mar 10 10:23:49 2017', ' 20170114_LLZO_cycling_0120_0580.tiff     |     Fri Mar 10 10:23:49 2017', ' 20170114_LLZO_cycling_0120_0581.tiff     |     Fri Mar 10 10:23:49 2017', ' 20170114_LLZO_cycling_0120_0582.tiff     |     Fri Mar 10 10:23:49 2017', ' 20170114_LLZO_cycling_0120_0583.tiff     |     Fri Mar 10 10:23:49 2017', ' 20170114_LLZO_cycling_0120_0584.tiff     |     Fri Mar 10 10:23:49 2017', ' 20170114_LLZO_cycling_0120_0585.tiff     |     Fri Mar 10 10:23:49 2017', ' 20170114_LLZO_cycling_0120_0586.tiff     |     Fri Mar 10 10:23:49 2017', ' 20170114_LLZO_cycling_0120_0587.tiff     |     Fri Mar 10 10:23:49 2017', ' 20170114_LLZO_cycling_0120_0588.tiff     |     Fri Mar 10 10:23:49 2017', ' 20170114_LLZO_cycling_0120_0589.tiff     |     Fri Mar 10 10:23:49 2017', ' 20170114_LLZO_cycling_0120_0590.tiff     |     Fri Mar 10 10:23:49 2017', ' 20170114_LLZO_cycling_0120_0591.tiff     |     Fri Mar 10 10:23:49 2017', ' 20170114_LLZO_cycling_0120_0592.tiff     |     Fri Mar 10 10:23:49 2017', ' 20170114_LLZO_cycling_0120_0593.tiff     |     Fri Mar 10 10:23:49 2017', ' 20170114_LLZO_cycling_0120_0594.tiff     |     Fri Mar 10 10:23:49 2017', ' 20170114_LLZO_cycling_0120_0595.tiff     |     Fri Mar 10 10:23:49 2017', ' 20170114_LLZO_cycling_0120_0596.tiff     |     Fri Mar 10 10:23:49 2017', ' 20170114_LLZO_cycling_0120_0597.tiff     |     Fri Mar 10 10:23:49 2017', ' 20170114_LLZO_cycling_0120_0598.tiff     |     Fri Mar 10 10:23:49 2017', ' 20170114_LLZO_cycling_0120_0599.tiff     |     Fri Mar 10 10:23:49 2017', ' 20170114_LLZO_cycling_0120_0600.tiff     |     Fri Mar 10 10:23:49 2017', ' 20170114_LLZO_cycling_0120_0601.tiff     |     Fri Mar 10 10:23:49 2017', ' 20170114_LLZO_cycling_0120_0602.tiff     |     Fri Mar 10 10:23:49 2017', ' 20170114_LLZO_cycling_0120_0603.tiff     |     Fri Mar 10 10:23:49 2017', ' 20170114_LLZO_cycling_0120_0604.tiff     |     Fri Mar 10 10:23:49 2017', ' 20170114_LLZO_cycling_0120_0605.tiff     |     Fri Mar 10 10:23:49 2017', ' 20170114_LLZO_cycling_0120_0606.tiff     |     Fri Mar 10 10:23:49 2017', ' 20170114_LLZO_cycling_0120_0607.tiff     |     Fri Mar 10 10:23:49 2017', ' 20170114_LLZO_cycling_0120_0608.tiff     |     Fri Mar 10 10:23:49 2017', ' 20170114_LLZO_cycling_0120_0609.tiff     |     Fri Mar 10 10:23:49 2017', ' 20170114_LLZO_cycling_0120_0610.tiff     |     Fri Mar 10 10:23:49 2017', ' 20170114_LLZO_cycling_0120_0611.tiff     |     Fri Mar 10 10:23:49 2017', ' 20170114_LLZO_cycling_0120_0612.tiff     |     Fri Mar 10 10:23:49 2017', ' 20170114_LLZO_cycling_0120_0613.tiff     |     Fri Mar 10 10:23:49 2017', ' 20170114_LLZO_cycling_0120_0614.tiff     |     Fri Mar 10 10:23:49 2017', ' 20170114_LLZO_cycling_0120_0615.tiff     |     Fri Mar 10 10:23:49 2017', ' 20170114_LLZO_cycling_0120_0616.tiff     |     Fri Mar 10 10:23:49 2017', ' 20170114_LLZO_cycling_0120_0617.tiff     |     Fri Mar 10 10:23:49 2017', ' 20170114_LLZO_cycling_0120_0618.tiff     |     Fri Mar 10 10:23:49 2017', ' 20170114_LLZO_cycling_0120_0619.tiff     |     Fri Mar 10 10:23:49 2017', ' 20170114_LLZO_cycling_0120_0620.tiff     |     Fri Mar 10 10:23:49 2017', ' 20170114_LLZO_cycling_0120_0621.tiff     |     Fri Mar 10 10:23:49 2017', ' 20170114_LLZO_cycling_0120_0622.tiff     |     Fri Mar 10 10:23:49 2017', ' 20170114_LLZO_cycling_0120_0623.tiff     |     Fri Mar 10 10:23:49 2017', ' 20170114_LLZO_cycling_0120_0624.tiff     |     Fri Mar 10 10:23:49 2017', ' 20170114_LLZO_cycling_0120_0625.tiff     |     Fri Mar 10 10:23:49 2017', ' 20170114_LLZO_cycling_0120_0626.tiff     |     Fri Mar 10 10:23:49 2017', ' 20170114_LLZO_cycling_0120_0627.tiff     |     Fri Mar 10 10:23:49 2017', ' 20170114_LLZO_cycling_0120_0628.tiff     |     Fri Mar 10 10:23:49 2017', ' 20170114_LLZO_cycling_0120_0629.tiff     |     Fri Mar 10 10:23:49 2017', ' 20170114_LLZO_cycling_0120_0630.tiff     |     Fri Mar 10 10:23:49 2017', ' 20170114_LLZO_cycling_0120_0631.tiff     |     Fri Mar 10 10:23:49 2017', ' 20170114_LLZO_cycling_0120_0632.tiff     |     Fri Mar 10 10:23:49 2017', ' 20170114_LLZO_cycling_0120_0633.tiff     |     Fri Mar 10 10:23:49 2017', ' 20170114_LLZO_cycling_0120_0634.tiff     |     Fri Mar 10 10:23:49 2017', ' 20170114_LLZO_cycling_0120_0635.tiff     |     Fri Mar 10 10:23:49 2017', ' 20170114_LLZO_cycling_0120_0636.tiff     |     Fri Mar 10 10:23:49 2017', ' 20170114_LLZO_cycling_0120_0637.tiff     |     Fri Mar 10 10:23:49 2017', ' 20170114_LLZO_cycling_0120_0638.tiff     |     Fri Mar 10 10:23:49 2017', ' 20170114_LLZO_cycling_0120_0639.tiff     |     Fri Mar 10 10:23:49 2017', ' 20170114_LLZO_cycling_0120_0640.tiff     |     Fri Mar 10 10:23:49 2017', ' 20170114_LLZO_cycling_0120_0641.tiff     |     Fri Mar 10 10:23:49 2017', ' 20170114_LLZO_cycling_0120_0642.tiff     |     Fri Mar 10 10:23:49 2017', ' 20170114_LLZO_cycling_0120_0643.tiff     |     Fri Mar 10 10:23:49 2017', ' 20170114_LLZO_cycling_0120_0644.tiff     |     Fri Mar 10 10:23:49 2017', ' 20170114_LLZO_cycling_0120_0645.tiff     |     Fri Mar 10 10:23:49 2017', ' 20170114_LLZO_cycling_0120_0646.tiff     |     Fri Mar 10 10:23:49 2017', ' 20170114_LLZO_cycling_0120_0647.tiff     |     Fri Mar 10 10:23:49 2017', ' 20170114_LLZO_cycling_0120_0648.tiff     |     Fri Mar 10 10:23:49 2017', ' 20170114_LLZO_cycling_0120_0649.tiff     |     Fri Mar 10 10:23:49 2017', ' 20170114_LLZO_cycling_0120_0650.tiff     |     Fri Mar 10 10:23:49 2017', ' 20170114_LLZO_cycling_0120_0651.tiff     |     Fri Mar 10 10:23:49 2017', ' 20170114_LLZO_cycling_0120_0652.tiff     |     Fri Mar 10 10:23:49 2017', ' 20170114_LLZO_cycling_0120_0653.tiff     |     Fri Mar 10 10:23:49 2017', ' 20170114_LLZO_cycling_0120_0654.tiff     |     Fri Mar 10 10:23:49 2017', ' 20170114_LLZO_cycling_0120_0655.tiff     |     Fri Mar 10 10:23:49 2017', ' 20170114_LLZO_cycling_0120_0656.tiff     |     Fri Mar 10 10:23:49 2017', ' 20170114_LLZO_cycling_0120_0657.tiff     |     Fri Mar 10 10:23:49 2017', ' 20170114_LLZO_cycling_0120_0658.tiff     |     Fri Mar 10 10:23:49 2017', ' 20170114_LLZO_cycling_0120_0659.tiff     |     Fri Mar 10 10:23:49 2017', ' 20170114_LLZO_cycling_0120_0660.tiff     |     Fri Mar 10 10:23:49 2017', ' 20170114_LLZO_cycling_0120_0661.tiff     |     Fri Mar 10 10:23:49 2017', ' 20170114_LLZO_cycling_0120_0662.tiff     |     Fri Mar 10 10:23:49 2017', ' 20170114_LLZO_cycling_0120_0663.tiff     |     Fri Mar 10 10:23:49 2017', ' 20170114_LLZO_cycling_0120_0664.tiff     |     Fri Mar 10 10:23:49 2017', ' 20170114_LLZO_cycling_0120_0665.tiff     |     Fri Mar 10 10:23:49 2017', ' 20170114_LLZO_cycling_0120_0666.tiff     |     Fri Mar 10 10:23:49 2017', ' 20170114_LLZO_cycling_0120_0667.tiff     |     Fri Mar 10 10:23:49 2017', ' 20170114_LLZO_cycling_0120_0668.tiff     |     Fri Mar 10 10:23:49 2017', ' 20170114_LLZO_cycling_0120_0669.tiff     |     Fri Mar 10 10:23:49 2017', ' 20170114_LLZO_cycling_0120_0670.tiff     |     Fri Mar 10 10:23:49 2017', ' 20170114_LLZO_cycling_0120_0671.tiff     |     Fri Mar 10 10:23:49 2017', ' 20170114_LLZO_cycling_0120_0672.tiff     |     Fri Mar 10 10:23:49 2017', ' 20170114_LLZO_cycling_0120_0673.tiff     |     Fri Mar 10 10:23:49 2017', ' 20170114_LLZO_cycling_0120_0674.tiff     |     Fri Mar 10 10:23:49 2017', ' 20170114_LLZO_cycling_0120_0675.tiff     |     Fri Mar 10 10:23:49 2017', ' 20170114_LLZO_cycling_0120_0676.tiff     |     Fri Mar 10 10:23:49 2017', ' 20170114_LLZO_cycling_0120_0677.tiff     |     Fri Mar 10 10:23:49 2017', ' 20170114_LLZO_cycling_0120_0678.tiff     |     Fri Mar 10 10:23:49 2017', ' 20170114_LLZO_cycling_0120_0679.tiff     |     Fri Mar 10 10:23:49 2017', ' 20170114_LLZO_cycling_0120_0680.tiff     |     Fri Mar 10 10:23:49 2017', ' 20170114_LLZO_cycling_0120_0681.tiff     |     Fri Mar 10 10:23:49 2017', ' 20170114_LLZO_cycling_0120_0682.tiff     |     Fri Mar 10 10:23:49 2017', ' 20170114_LLZO_cycling_0120_0683.tiff     |     Fri Mar 10 10:23:49 2017', ' 20170114_LLZO_cycling_0120_0684.tiff     |     Fri Mar 10 10:23:49 2017', ' 20170114_LLZO_cycling_0120_0685.tiff     |     Fri Mar 10 10:23:49 2017', ' 20170114_LLZO_cycling_0120_0686.tiff     |     Fri Mar 10 10:23:49 2017', ' 20170114_LLZO_cycling_0120_0687.tiff     |     Fri Mar 10 10:23:49 2017', ' 20170114_LLZO_cycling_0120_0688.tiff     |     Fri Mar 10 10:23:49 2017', ' 20170114_LLZO_cycling_0120_0689.tiff     |     Fri Mar 10 10:23:49 2017', ' 20170114_LLZO_cycling_0120_0690.tiff     |     Fri Mar 10 10:23:49 2017', ' 20170114_LLZO_cycling_0120_0691.tiff     |     Fri Mar 10 10:23:49 2017', ' 20170114_LLZO_cycling_0120_0692.tiff     |     Fri Mar 10 10:23:49 2017', ' 20170114_LLZO_cycling_0120_0693.tiff     |     Fri Mar 10 10:23:49 2017', ' 20170114_LLZO_cycling_0120_0694.tiff     |     Fri Mar 10 10:23:49 2017', ' 20170114_LLZO_cycling_0120_0695.tiff     |     Fri Mar 10 10:23:49 2017', ' 20170114_LLZO_cycling_0120_0696.tiff     |     Fri Mar 10 10:23:49 2017', ' 20170114_LLZO_cycling_0120_0697.tiff     |     Fri Mar 10 10:23:49 2017', ' 20170114_LLZO_cycling_0120_0698.tiff     |     Fri Mar 10 10:23:49 2017', ' 20170114_LLZO_cycling_0120_0699.tiff     |     Fri Mar 10 10:23:49 2017', ' 20170114_LLZO_cycling_0120_0700.tiff     |     Fri Mar 10 10:23:49 2017', ' 20170114_LLZO_cycling_0120_0701.tiff     |     Fri Mar 10 10:23:49 2017', ' 20170114_LLZO_cycling_0120_0702.tiff     |     Fri Mar 10 10:23:49 2017', ' 20170114_LLZO_cycling_0120_0703.tiff     |     Fri Mar 10 10:23:49 2017', ' 20170114_LLZO_cycling_0120_0704.tiff     |     Fri Mar 10 10:23:49 2017', ' 20170114_LLZO_cycling_0120_0705.tiff     |     Fri Mar 10 10:23:49 2017', ' 20170114_LLZO_cycling_0120_0706.tiff     |     Fri Mar 10 10:23:49 2017', ' 20170114_LLZO_cycling_0120_0707.tiff     |     Fri Mar 10 10:23:49 2017', ' 20170114_LLZO_cycling_0120_0708.tiff     |     Fri Mar 10 10:23:49 2017', ' 20170114_LLZO_cycling_0120_0709.tiff     |     Fri Mar 10 10:23:49 2017', ' 20170114_LLZO_cycling_0120_0710.tiff     |     Fri Mar 10 10:23:49 2017', ' 20170114_LLZO_cycling_0120_0711.tiff     |     Fri Mar 10 10:23:49 2017', ' 20170114_LLZO_cycling_0120_0712.tiff     |     Fri Mar 10 10:23:49 2017', ' 20170114_LLZO_cycling_0120_0713.tiff     |     Fri Mar 10 10:23:49 2017', ' 20170114_LLZO_cycling_0120_0714.tiff     |     Fri Mar 10 10:23:49 2017', ' 20170114_LLZO_cycling_0120_0715.tiff     |     Fri Mar 10 10:23:49 2017', ' 20170114_LLZO_cycling_0120_0716.tiff     |     Fri Mar 10 10:23:49 2017', ' 20170114_LLZO_cycling_0120_0717.tiff     |     Fri Mar 10 10:23:49 2017', ' 20170114_LLZO_cycling_0120_0718.tiff     |     Fri Mar 10 10:23:49 2017', ' 20170114_LLZO_cycling_0120_0719.tiff     |     Fri Mar 10 10:23:49 2017', ' 20170114_LLZO_cycling_0120_0720.tiff     |     Fri Mar 10 10:23:49 2017', ' 20170114_LLZO_cycling_0120_0721.tiff     |     Fri Mar 10 10:23:49 2017', ' 20170114_LLZO_cycling_0120_0722.tiff     |     Fri Mar 10 10:23:49 2017', ' 20170114_LLZO_cycling_0120_0723.tiff     |     Fri Mar 10 10:23:49 2017', ' 20170114_LLZO_cycling_0120_0724.tiff     |     Fri Mar 10 10:23:49 2017', ' 20170114_LLZO_cycling_0120_0725.tiff     |     Fri Mar 10 10:23:49 2017', ' 20170114_LLZO_cycling_0120_0726.tiff     |     Fri Mar 10 10:23:49 2017', ' 20170114_LLZO_cycling_0120_0727.tiff     |     Fri Mar 10 10:23:49 2017', ' 20170114_LLZO_cycling_0120_0728.tiff     |     Fri Mar 10 10:23:49 2017', ' 20170114_LLZO_cycling_0120_0729.tiff     |     Fri Mar 10 10:23:49 2017', ' 20170114_LLZO_cycling_0120_0730.tiff     |     Fri Mar 10 10:23:49 2017', ' 20170114_LLZO_cycling_0120_0731.tiff     |     Fri Mar 10 10:23:49 2017', ' 20170114_LLZO_cycling_0120_0732.tiff     |     Fri Mar 10 10:23:49 2017', ' 20170114_LLZO_cycling_0120_0733.tiff     |     Fri Mar 10 10:23:49 2017', ' 20170114_LLZO_cycling_0120_0734.tiff     |     Fri Mar 10 10:23:49 2017', ' 20170114_LLZO_cycling_0120_0735.tiff     |     Fri Mar 10 10:23:49 2017', ' 20170114_LLZO_cycling_0120_0736.tiff     |     Fri Mar 10 10:23:49 2017', ' 20170114_LLZO_cycling_0120_0737.tiff     |     Fri Mar 10 10:23:49 2017', ' 20170114_LLZO_cycling_0120_0738.tiff     |     Fri Mar 10 10:23:49 2017', ' 20170114_LLZO_cycling_0120_0739.tiff     |     Fri Mar 10 10:23:49 2017', ' 20170114_LLZO_cycling_0120_0740.tiff     |     Fri Mar 10 10:23:49 2017'), value=()), HBox(children=(Button(description='Enter directory', layout=Layout(margin='5px 40px'), style=ButtonStyle()), Button(description='Select', layout=Layout(margin='5px 40px'), style=ButtonStyle())))), layout=Layout(border='1px solid lightgrey', margin='5px', padding='10px'))))"
      ]
     },
     "metadata": {},
     "output_type": "display_data"
    }
   ],
   "source": [
    "o_normalization.select_range() # select range"
   ]
  },
  {
   "cell_type": "code",
   "execution_count": 10,
   "metadata": {
    "run_control": {
     "frozen": false,
     "read_only": false
    }
   },
   "outputs": [
    {
     "data": {
      "application/vnd.jupyter.widget-view+json": {
       "model_id": "6e1a67a940ba42519bbf360867bb949e",
       "version_major": 2,
       "version_minor": 0
      },
      "text/html": [
       "<p>Failed to display Jupyter Widget of type <code>HBox</code>.</p>\n",
       "<p>\n",
       "  If you're reading this message in Jupyter Notebook or JupyterLab, it may mean\n",
       "  that the widgets JavaScript is still loading. If this message persists, it\n",
       "  likely means that the widgets JavaScript library is either not installed or\n",
       "  not enabled. See the <a href=\"https://ipywidgets.readthedocs.io/en/stable/user_install.html\">Jupyter\n",
       "  Widgets Documentation</a> for setup instructions.\n",
       "</p>\n",
       "<p>\n",
       "  If you're reading this message in another notebook frontend (for example, a static\n",
       "  rendering on GitHub or <a href=\"https://nbviewer.jupyter.org/\">NBViewer</a>),\n",
       "  it may mean that your frontend doesn't currently support widgets.\n",
       "</p>\n"
      ],
      "text/plain": [
       "HBox(children=(Label(value='Loading sample', layout=Layout(width='20%')), IntProgress(value=0, max=5)))"
      ]
     },
     "metadata": {},
     "output_type": "display_data"
    }
   ],
   "source": [
    "o_normalization.load_and_calculate_mean_frame() # load range and calculate mean frame"
   ]
  },
  {
   "cell_type": "code",
   "execution_count": 11,
   "metadata": {
    "run_control": {
     "frozen": false,
     "read_only": false
    }
   },
   "outputs": [
    {
     "data": {
      "application/vnd.jupyter.widget-view+json": {
       "model_id": "c8b1d22116c94b29a0ed634f9b548d2d",
       "version_major": 2,
       "version_minor": 0
      },
      "text/html": [
       "<p>Failed to display Jupyter Widget of type <code>FloatSlider</code>.</p>\n",
       "<p>\n",
       "  If you're reading this message in Jupyter Notebook or JupyterLab, it may mean\n",
       "  that the widgets JavaScript is still loading. If this message persists, it\n",
       "  likely means that the widgets JavaScript library is either not installed or\n",
       "  not enabled. See the <a href=\"https://ipywidgets.readthedocs.io/en/stable/user_install.html\">Jupyter\n",
       "  Widgets Documentation</a> for setup instructions.\n",
       "</p>\n",
       "<p>\n",
       "  If you're reading this message in another notebook frontend (for example, a static\n",
       "  rendering on GitHub or <a href=\"https://nbviewer.jupyter.org/\">NBViewer</a>),\n",
       "  it may mean that your frontend doesn't currently support widgets.\n",
       "</p>\n"
      ],
      "text/plain": [
       "FloatSlider(value=0.75, description='Factor f', max=1.0, step=0.01)"
      ]
     },
     "metadata": {},
     "output_type": "display_data"
    }
   ],
   "source": [
    "o_normalization.define_contrast_enhancement_factor() # define contrast enhancement factor"
   ]
  },
  {
   "cell_type": "code",
   "execution_count": 12,
   "metadata": {
    "run_control": {
     "frozen": false,
     "read_only": false
    }
   },
   "outputs": [
    {
     "data": {
      "application/vnd.jupyter.widget-view+json": {
       "model_id": "e386bc456e894003aa54b6f86fa4579a",
       "version_major": 2,
       "version_minor": 0
      },
      "text/html": [
       "<p>Failed to display Jupyter Widget of type <code>IntProgress</code>.</p>\n",
       "<p>\n",
       "  If you're reading this message in Jupyter Notebook or JupyterLab, it may mean\n",
       "  that the widgets JavaScript is still loading. If this message persists, it\n",
       "  likely means that the widgets JavaScript library is either not installed or\n",
       "  not enabled. See the <a href=\"https://ipywidgets.readthedocs.io/en/stable/user_install.html\">Jupyter\n",
       "  Widgets Documentation</a> for setup instructions.\n",
       "</p>\n",
       "<p>\n",
       "  If you're reading this message in another notebook frontend (for example, a static\n",
       "  rendering on GitHub or <a href=\"https://nbviewer.jupyter.org/\">NBViewer</a>),\n",
       "  it may mean that your frontend doesn't currently support widgets.\n",
       "</p>\n"
      ],
      "text/plain": [
       "IntProgress(value=0, max=740)"
      ]
     },
     "metadata": {},
     "output_type": "display_data"
    }
   ],
   "source": [
    "o_normalization.calculate_contrast_enhancement_images() # calculate images"
   ]
  },
  {
   "cell_type": "code",
   "execution_count": 13,
   "metadata": {
    "run_control": {
     "frozen": false,
     "read_only": false
    }
   },
   "outputs": [
    {
     "data": {
      "application/vnd.jupyter.widget-view+json": {
       "model_id": "4543f2f9236d4380816e64dbd99e0ea2",
       "version_major": 2,
       "version_minor": 0
      },
      "text/html": [
       "<p>Failed to display Jupyter Widget of type <code>HTML</code>.</p>\n",
       "<p>\n",
       "  If you're reading this message in Jupyter Notebook or JupyterLab, it may mean\n",
       "  that the widgets JavaScript is still loading. If this message persists, it\n",
       "  likely means that the widgets JavaScript library is either not installed or\n",
       "  not enabled. See the <a href=\"https://ipywidgets.readthedocs.io/en/stable/user_install.html\">Jupyter\n",
       "  Widgets Documentation</a> for setup instructions.\n",
       "</p>\n",
       "<p>\n",
       "  If you're reading this message in another notebook frontend (for example, a static\n",
       "  rendering on GitHub or <a href=\"https://nbviewer.jupyter.org/\">NBViewer</a>),\n",
       "  it may mean that your frontend doesn't currently support widgets.\n",
       "</p>\n"
      ],
      "text/plain": [
       "HTML(value='Please wait...')"
      ]
     },
     "metadata": {},
     "output_type": "display_data"
    },
    {
     "data": {
      "text/html": [
       "\n",
       "        <style type=\"text/css\">\n",
       "        .jupyter-widgets select option {font-family: \"Lucida Console\", Monaco, monospace;}\n",
       "        div.output_subarea {padding: 0px;}\n",
       "        div.output_subarea > div {margin: 0.4em;}\n",
       "        </style>\n",
       "        "
      ],
      "text/plain": [
       "<IPython.core.display.HTML object>"
      ]
     },
     "metadata": {},
     "output_type": "display_data"
    },
    {
     "data": {
      "application/vnd.jupyter.widget-view+json": {
       "model_id": "b5deb95f2af246cc8b0342f2b91f352f",
       "version_major": 2,
       "version_minor": 0
      },
      "text/html": [
       "<p>Failed to display Jupyter Widget of type <code>VBox</code>.</p>\n",
       "<p>\n",
       "  If you're reading this message in Jupyter Notebook or JupyterLab, it may mean\n",
       "  that the widgets JavaScript is still loading. If this message persists, it\n",
       "  likely means that the widgets JavaScript library is either not installed or\n",
       "  not enabled. See the <a href=\"https://ipywidgets.readthedocs.io/en/stable/user_install.html\">Jupyter\n",
       "  Widgets Documentation</a> for setup instructions.\n",
       "</p>\n",
       "<p>\n",
       "  If you're reading this message in another notebook frontend (for example, a static\n",
       "  rendering on GitHub or <a href=\"https://nbviewer.jupyter.org/\">NBViewer</a>),\n",
       "  it may mean that your frontend doesn't currently support widgets.\n",
       "</p>\n"
      ],
      "text/plain": [
       "VBox(children=(Label(value='Select Export Folder', layout=Layout(width='250px')), HBox(children=(HBox(children=(Text(value='/Volumes/my_book_thunderbolt_duo/IPTS/IPTS_17099', description='Location: ', layout=Layout(width='300px'), placeholder=''), Button(description='Jump', layout=Layout(margin='5px 10px', width='100px'), style=ButtonStyle())), layout=Layout(border='1px solid lightgrey', margin='5px 50px 5px 5px', padding='3px')),)), VBox(children=(Select(description='Select', layout=Layout(width='750px'), options=(' .', ' ..', ' .DS_Store                          |     Wed Nov 15 12:51:24 2017', ' cylindrical_geometry_corrected     |     Directory', ' normalized_cropped                 |     Directory', ' ob                                 |     Directory', ' radiographs                        |     Directory', ' right_edge                         |     Directory', ' testing_new_output_format          |     Directory'), value=' .'), HBox(children=(Button(description='Enter directory', layout=Layout(margin='5px 40px'), style=ButtonStyle()), Button(description='Select', layout=Layout(margin='5px 40px'), style=ButtonStyle())))), layout=Layout(border='1px solid lightgrey', margin='5px', padding='10px'))))"
      ]
     },
     "metadata": {},
     "output_type": "display_data"
    }
   ],
   "source": [
    "o_normalization.select_export_folder() # select output folder"
   ]
  },
  {
   "cell_type": "code",
   "execution_count": 14,
   "metadata": {
    "run_control": {
     "frozen": false,
     "read_only": false
    }
   },
   "outputs": [
    {
     "data": {
      "application/vnd.jupyter.widget-view+json": {
       "model_id": "4ed4b1cfdef646509667f5546db845dd",
       "version_major": 2,
       "version_minor": 0
      },
      "text/html": [
       "<p>Failed to display Jupyter Widget of type <code>HBox</code>.</p>\n",
       "<p>\n",
       "  If you're reading this message in Jupyter Notebook or JupyterLab, it may mean\n",
       "  that the widgets JavaScript is still loading. If this message persists, it\n",
       "  likely means that the widgets JavaScript library is either not installed or\n",
       "  not enabled. See the <a href=\"https://ipywidgets.readthedocs.io/en/stable/user_install.html\">Jupyter\n",
       "  Widgets Documentation</a> for setup instructions.\n",
       "</p>\n",
       "<p>\n",
       "  If you're reading this message in another notebook frontend (for example, a static\n",
       "  rendering on GitHub or <a href=\"https://nbviewer.jupyter.org/\">NBViewer</a>),\n",
       "  it may mean that your frontend doesn't currently support widgets.\n",
       "</p>\n"
      ],
      "text/plain": [
       "HBox(children=(Label(value='Output Folder Name', layout=Layout(width='15%')), Text(value='cylindrical_geometry_corrected_enhanced_f_0.75', layout=Layout(width='50%'))))"
      ]
     },
     "metadata": {},
     "output_type": "display_data"
    }
   ],
   "source": [
    "o_normalization.define_output_folder_name() # define output folder name"
   ]
  },
  {
   "cell_type": "code",
   "execution_count": 15,
   "metadata": {
    "run_control": {
     "frozen": false,
     "read_only": false
    }
   },
   "outputs": [],
   "source": [
    "o_normalization.export() # export"
   ]
  },
  {
   "cell_type": "code",
   "execution_count": null,
   "metadata": {
    "run_control": {
     "frozen": false,
     "read_only": false
    }
   },
   "outputs": [],
   "source": []
  }
 ],
 "metadata": {
  "anaconda-cloud": {},
  "kernelspec": {
   "display_name": "Python 3",
   "language": "python",
   "name": "python3"
  },
  "language_info": {
   "codemirror_mode": {
    "name": "ipython",
    "version": 3
   },
   "file_extension": ".py",
   "mimetype": "text/x-python",
   "name": "python",
   "nbconvert_exporter": "python",
   "pygments_lexer": "ipython3",
   "version": "3.6.2"
  },
  "toc": {
   "colors": {
    "hover_highlight": "#DAA520",
    "running_highlight": "#FF0000",
    "selected_highlight": "#FFD700"
   },
   "moveMenuLeft": true,
   "nav_menu": {
    "height": "84px",
    "width": "252px"
   },
   "navigate_menu": true,
   "number_sections": true,
   "sideBar": true,
   "threshold": 4,
   "toc_cell": false,
   "toc_section_display": "block",
   "toc_window_display": false
  }
 },
 "nbformat": 4,
 "nbformat_minor": 2
}
