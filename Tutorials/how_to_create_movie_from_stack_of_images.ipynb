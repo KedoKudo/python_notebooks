{
 "cells": [
  {
   "cell_type": "markdown",
   "metadata": {
    "run_control": {
     "frozen": false,
     "read_only": false
    }
   },
   "source": [
    "# Description"
   ]
  },
  {
   "cell_type": "markdown",
   "metadata": {
    "run_control": {
     "frozen": false,
     "read_only": false
    }
   },
   "source": [
    "This guides you step by step in creating a movie (.avi) from a stack of images"
   ]
  },
  {
   "cell_type": "markdown",
   "metadata": {
    "run_control": {
     "frozen": false,
     "read_only": false
    }
   },
   "source": [
    "# Start ImageJ "
   ]
  },
  {
   "cell_type": "markdown",
   "metadata": {
    "run_control": {
     "frozen": false,
     "read_only": false
    }
   },
   "source": [
    "<img src=\"__docs/from_images_to_movie/step1.png\">\n",
    "\n",
    "**click OK** to close the dialog box.\n",
    "\n",
    "<img src=\"__docs/from_images_to_movie/step2.png\">"
   ]
  },
  {
   "cell_type": "markdown",
   "metadata": {
    "run_control": {
     "frozen": false,
     "read_only": false
    }
   },
   "source": [
    "# Load Images "
   ]
  },
  {
   "cell_type": "markdown",
   "metadata": {
    "run_control": {
     "frozen": false,
     "read_only": false
    }
   },
   "source": [
    "**click File>Import>Image Sequence...**\n",
    "<img src=\"__docs/from_images_to_movie/step3.png\">\n",
    "\n",
    "**Move** inside the folder containing your images and **click OK**\n",
    "<img src=\"__docs/from_images_to_movie/step4_1.png\">\n",
    "<img src=\"__docs/from_images_to_movie/step4_2.png\">\n",
    "\n",
    "In the dialog box that shows up, select **Use Virtual stack** then click **OK**\n",
    "<img src=\"__docs/from_images_to_movie/step5.png\">"
   ]
  },
  {
   "cell_type": "markdown",
   "metadata": {
    "run_control": {
     "frozen": false,
     "read_only": false
    }
   },
   "source": [
    "# Preview Images "
   ]
  },
  {
   "cell_type": "markdown",
   "metadata": {
    "run_control": {
     "frozen": false,
     "read_only": false
    }
   },
   "source": [
    "You can slide through the images to make sure they are correctly sorted (sorting is by alphabetical order). If order is wrong, you will need to rename them.\n",
    "<img src=\"__docs/from_images_to_movie/step6.png\">"
   ]
  },
  {
   "cell_type": "markdown",
   "metadata": {
    "run_control": {
     "frozen": false,
     "read_only": false
    }
   },
   "source": [
    "# Make Movie "
   ]
  },
  {
   "cell_type": "markdown",
   "metadata": {
    "run_control": {
     "frozen": false,
     "read_only": false
    }
   },
   "source": [
    "click **File>Save As>AVI...** to create AVI file.\n",
    "<img src=\"__docs/from_images_to_movie/step7.png\">\n",
    "\n",
    "Select the **Frame Per Second (fps)** in the new dialog box, click **OK**\n",
    "<img src=\"__docs/from_images_to_movie/step8.png\">\n",
    "\n",
    "Select where you want to create that file, and rename it if you don't like the default output file name. Click **OK**\n",
    "<img src=\"__docs/from_images_to_movie/step9.png\">\n",
    "\n",
    "Progress bar display the status of the file creation.\n",
    "<img src=\"__docs/from_images_to_movie/step10.png\">"
   ]
  },
  {
   "cell_type": "code",
   "execution_count": null,
   "metadata": {
    "run_control": {
     "frozen": false,
     "read_only": false
    }
   },
   "outputs": [],
   "source": []
  }
 ],
 "metadata": {
  "kernelspec": {
   "display_name": "Python [conda env:py35]",
   "language": "python",
   "name": "conda-env-py35-py"
  },
  "language_info": {
   "codemirror_mode": {
    "name": "ipython",
    "version": 3
   },
   "file_extension": ".py",
   "mimetype": "text/x-python",
   "name": "python",
   "nbconvert_exporter": "python",
   "pygments_lexer": "ipython3",
   "version": "3.5.3"
  },
  "toc": {
   "colors": {
    "hover_highlight": "#DAA520",
    "running_highlight": "#FF0000",
    "selected_highlight": "#FFD700"
   },
   "moveMenuLeft": true,
   "nav_menu": {
    "height": "12px",
    "width": "252px"
   },
   "navigate_menu": true,
   "number_sections": true,
   "sideBar": true,
   "threshold": 4,
   "toc_cell": false,
   "toc_section_display": "block",
   "toc_window_display": false
  }
 },
 "nbformat": 4,
 "nbformat_minor": 2
}
