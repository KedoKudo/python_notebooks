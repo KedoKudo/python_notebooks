{
 "cells": [
  {
   "cell_type": "markdown",
   "metadata": {
    "run_control": {
     "frozen": false,
     "read_only": false
    }
   },
   "source": [
    "This notebook will calculate the edge of a signal for very low statistics data\n",
    "\n",
    "It is recommended that you narrow down the number of files to work on using ImageJ"
   ]
  },
  {
   "cell_type": "markdown",
   "metadata": {
    "run_control": {
     "frozen": false,
     "read_only": false
    }
   },
   "source": [
    "[![Notebook Tutorial](../__code/__all/notebook_tutorial.png)](https://neutronimaging.pages.ornl.gov/en/tutorial/)"
   ]
  },
  {
   "cell_type": "markdown",
   "metadata": {
    "run_control": {
     "frozen": false,
     "read_only": false
    }
   },
   "source": [
    "<img src='../__docs/__all/notebook_rules.png' />"
   ]
  },
  {
   "cell_type": "code",
   "execution_count": null,
   "metadata": {
    "run_control": {
     "frozen": false,
     "read_only": false
    }
   },
   "outputs": [],
   "source": [
    "import glob\n",
    "import os\n",
    "\n",
    "import matplotlib.pyplot as plt\n",
    "import matplotlib.gridspec as gridspec\n",
    "import matplotlib.patches as patches\n",
    "% matplotlib notebook\n",
    "\n",
    "import numpy as np\n",
    "from scipy.ndimage import convolve\n",
    "\n",
    "from ipywidgets import interact, widgets\n",
    "\n",
    "import ipywe.fileselector\n",
    "\n",
    "from NeuNorm.normalization import Normalization\n",
    "\n",
    "import sys\n",
    "sys.path.insert(0, os.path.abspath('..'))\n",
    "from __code import system\n",
    "\n",
    "system.System.select_working_dir()"
   ]
  },
  {
   "cell_type": "markdown",
   "metadata": {
    "run_control": {
     "frozen": false,
     "read_only": false
    }
   },
   "source": [
    "# Define input data files "
   ]
  },
  {
   "cell_type": "markdown",
   "metadata": {
    "run_control": {
     "frozen": false,
     "read_only": false
    }
   },
   "source": [
    "## User input here "
   ]
  },
  {
   "cell_type": "code",
   "execution_count": null,
   "metadata": {
    "run_control": {
     "frozen": false,
     "read_only": false
    }
   },
   "outputs": [],
   "source": [
    "list_files_ui = ipywe.fileselector.FileSelectorPanel(instruction='Select Images...',\n",
    "                                                      multiple=True,\n",
    "                                                      start_dir = system.System.get_working_dir())\n",
    "list_files_ui.show()"
   ]
  },
  {
   "cell_type": "markdown",
   "metadata": {
    "run_control": {
     "frozen": false,
     "read_only": false
    }
   },
   "source": [
    "# Loading and preview of the data "
   ]
  },
  {
   "cell_type": "code",
   "execution_count": null,
   "metadata": {
    "run_control": {
     "frozen": false,
     "read_only": false
    }
   },
   "outputs": [],
   "source": [
    "list_files = list_files_ui.selected\n",
    "\n",
    "o_norm = Normalization()\n",
    "o_norm.load(file=list_files, notebook=True)\n",
    "data = o_norm.data['sample']['data']\n",
    "\n",
    "def plot(index):\n",
    "    fig, ax = plt.subplots(figsize=(5,5))\n",
    "    cax = ax.imshow(data[index], cmap='viridis')\n",
    "    fig.colorbar(cax)\n",
    "interact(plot,\n",
    "        index=widgets.IntSlider(min=0,\n",
    "                         max=len(data)-1,\n",
    "                         value=0,\n",
    "                         continuous_update=False\n",
    "                           ))"
   ]
  },
  {
   "cell_type": "markdown",
   "metadata": {
    "run_control": {
     "frozen": false,
     "read_only": false
    }
   },
   "source": [
    "# Crop "
   ]
  },
  {
   "cell_type": "markdown",
   "metadata": {
    "run_control": {
     "frozen": false,
     "read_only": false
    }
   },
   "source": [
    "## User input here "
   ]
  },
  {
   "cell_type": "code",
   "execution_count": null,
   "metadata": {
    "run_control": {
     "frozen": false,
     "read_only": false
    }
   },
   "outputs": [],
   "source": [
    "x0_crop = 0\n",
    "x1_crop = 460\n",
    "y0_crop = 232\n",
    "y1_crop = 285"
   ]
  },
  {
   "cell_type": "markdown",
   "metadata": {
    "run_control": {
     "frozen": false,
     "read_only": false
    }
   },
   "source": [
    "# Cropping the data "
   ]
  },
  {
   "cell_type": "code",
   "execution_count": null,
   "metadata": {
    "run_control": {
     "frozen": false,
     "read_only": false
    }
   },
   "outputs": [],
   "source": [
    "crop_data = [_data[y0_crop:y1_crop, x0_crop:x1_crop] for _data in data]\n",
    "\n",
    "def plot(index):\n",
    "    fig, ax = plt.subplots(figsize=(12,2))\n",
    "    cax = ax.imshow(crop_data[index], cmap='viridis')\n",
    "    fig.colorbar(cax)\n",
    "interact(plot,\n",
    "        index=widgets.IntSlider(min=0,\n",
    "                         max=len(data)-1,\n",
    "                         value=0,\n",
    "                         continuous_update=False\n",
    "                           ))"
   ]
  },
  {
   "cell_type": "markdown",
   "metadata": {
    "run_control": {
     "frozen": false,
     "read_only": false
    }
   },
   "source": [
    "# Trying to reverse signal\n",
    "\n",
    "Will take the max intensity and reverse all the values\n",
    "\n",
    "```\n",
    "new_pixel = max_value_of_image - old_pixel\n",
    "```"
   ]
  },
  {
   "cell_type": "code",
   "execution_count": null,
   "metadata": {
    "run_control": {
     "frozen": false,
     "read_only": false
    }
   },
   "outputs": [],
   "source": [
    "max_values = [np.max(_data) for _data in crop_data]\n",
    "crop_data_reversed = [(_max_value - _data) for (_data, _max_value) in zip(crop_data, max_values)]\n",
    "\n",
    "def plot(index):\n",
    "    fig, ax = plt.subplots(figsize=(12,2))\n",
    "    cax = ax.imshow(crop_data_reversed[index], cmap='viridis')\n",
    "    fig.colorbar(cax)\n",
    "interact(plot,\n",
    "        index=widgets.IntSlider(min=0,\n",
    "                         max=len(data)-1,\n",
    "                         value=0,\n",
    "                         continuous_update=False\n",
    "                           ))"
   ]
  },
  {
   "cell_type": "markdown",
   "metadata": {
    "run_control": {
     "frozen": false,
     "read_only": false
    }
   },
   "source": [
    "# Basic histogram segmentation "
   ]
  },
  {
   "cell_type": "markdown",
   "metadata": {
    "run_control": {
     "frozen": false,
     "read_only": false
    }
   },
   "source": [
    "## User input here "
   ]
  },
  {
   "cell_type": "code",
   "execution_count": null,
   "metadata": {
    "run_control": {
     "frozen": false,
     "read_only": false
    }
   },
   "outputs": [],
   "source": [
    "# define threshold value\n",
    "threshold = np.array(max_values) - 1  # we remove all the pixels that are below the max value"
   ]
  },
  {
   "cell_type": "markdown",
   "metadata": {
    "run_control": {
     "frozen": false,
     "read_only": false
    }
   },
   "source": [
    "## segmentation "
   ]
  },
  {
   "cell_type": "code",
   "execution_count": null,
   "metadata": {
    "run_control": {
     "frozen": false,
     "read_only": false
    }
   },
   "outputs": [],
   "source": [
    "segmented_data = []\n",
    "for _index, _data in enumerate(crop_data_reversed):\n",
    "    _index = _data <= threshold[_index]\n",
    "    _data[_index] = np.NaN\n",
    "    segmented_data.append(_data)\n",
    "    \n",
    "def plot(index):\n",
    "    fig, ax = plt.subplots(figsize=(12,2))\n",
    "    cax = ax.imshow(segmented_data[index], cmap='viridis')\n",
    "    fig.colorbar(cax)\n",
    "interact(plot,\n",
    "        index=widgets.IntSlider(min=0,\n",
    "                         max=len(data)-1,\n",
    "                         value=0,\n",
    "                         continuous_update=False\n",
    "                           ))"
   ]
  },
  {
   "cell_type": "markdown",
   "metadata": {
    "run_control": {
     "frozen": false,
     "read_only": false
    }
   },
   "source": [
    "# Profile along x-axis "
   ]
  },
  {
   "cell_type": "code",
   "execution_count": null,
   "metadata": {
    "run_control": {
     "frozen": false,
     "read_only": false
    }
   },
   "outputs": [],
   "source": [
    "profiles_x_axis = np.nansum(segmented_data, axis=1)\n",
    "def plot(index):\n",
    "    fig, ax = plt.subplots(figsize=(5,5))\n",
    "    cax = ax.plot(profiles_x_axis[index])\n",
    "    \n",
    "interact(plot,\n",
    "        index=widgets.IntSlider(min=0,\n",
    "                         max=len(data)-1,\n",
    "                         value=0,\n",
    "                         continuous_update=False\n",
    "                           ))"
   ]
  },
  {
   "cell_type": "markdown",
   "metadata": {
    "run_control": {
     "frozen": false,
     "read_only": false
    }
   },
   "source": [
    "NB: This clearly show that we can not use that profile to calculate the water intake pixel position"
   ]
  },
  {
   "cell_type": "markdown",
   "metadata": {
    "run_control": {
     "frozen": false,
     "read_only": false
    }
   },
   "source": [
    "# profile along user defined line \n",
    "\n",
    "* User defines start and end of line (using #6.2)\n",
    "* algorithm will then keep the pixel within a given width (number of pixels) of this line\n",
    "* profile along the line is display\n",
    "\n"
   ]
  },
  {
   "cell_type": "markdown",
   "metadata": {
    "run_control": {
     "frozen": false,
     "read_only": false
    }
   },
   "source": [
    "## User input here\n"
   ]
  },
  {
   "cell_type": "markdown",
   "metadata": {
    "run_control": {
     "frozen": false,
     "read_only": false
    }
   },
   "source": [
    "right and left point position for the linear profile"
   ]
  },
  {
   "cell_type": "code",
   "execution_count": null,
   "metadata": {
    "run_control": {
     "frozen": false,
     "read_only": false
    }
   },
   "outputs": [],
   "source": [
    "x0, y0 = 450, 20\n",
    "x1, y1 = 104, 26"
   ]
  },
  {
   "cell_type": "markdown",
   "metadata": {
    "run_control": {
     "frozen": false,
     "read_only": false
    }
   },
   "source": [
    "## extract data "
   ]
  },
  {
   "cell_type": "code",
   "execution_count": null,
   "metadata": {
    "run_control": {
     "frozen": false,
     "read_only": false
    }
   },
   "outputs": [],
   "source": [
    "%matplotlib inline"
   ]
  },
  {
   "cell_type": "code",
   "execution_count": null,
   "metadata": {
    "run_control": {
     "frozen": false,
     "read_only": false
    }
   },
   "outputs": [],
   "source": [
    "def _intermediates_points(p1, p2):\n",
    "    \"\"\"\"Return a list of nb_points equally spaced points\n",
    "    between p1 and p2\n",
    "\n",
    "    p1 = [x0, y0]\n",
    "    p2 = [x1, y1]\n",
    "    \"\"\"\n",
    "\n",
    "    # nb_points ?\n",
    "    nb_points = np.int(3 * max([np.abs(p1[0] - p2[0]), np.abs(p2[1] - p1[1])]))\n",
    "\n",
    "    x_spacing = (p2[0] - p1[0]) / (nb_points + 1)\n",
    "    y_spacing = (p2[1] - p1[1]) / (nb_points + 1)\n",
    "\n",
    "    full_array = [[np.int(p1[0] + i * x_spacing), np.int(p1[1] + i * y_spacing)]\n",
    "                  for i in range(1, nb_points + 1)]\n",
    "\n",
    "    clean_array = []\n",
    "    for _points in full_array:\n",
    "        if _points in clean_array:\n",
    "            continue\n",
    "        clean_array.append(_points)\n",
    "\n",
    "    return np.array(clean_array)\n",
    "\n",
    "full_line = _intermediates_points([x0,y0], [x1,y1])[::-1]\n",
    "x_axis_line = full_line[:,0]\n",
    "\n",
    "all_profiles_along_line = []\n",
    "width = 1 # 2 pixels on each side\n",
    "for _segmented_data in segmented_data:\n",
    "    _data = []\n",
    "    for _x_y in full_line:\n",
    "        _x, _y = _x_y\n",
    "        _data.append(np.nanmean(_segmented_data[_y-width:_y+width+1, _x]))\n",
    "    all_profiles_along_line.append(_data)\n",
    "\n",
    "def plot(index):\n",
    "    fig, ax = plt.subplots(ncols=1, nrows=3, figsize=(20,20))\n",
    "    cax = ax[0].imshow(segmented_data[index], cmap='viridis')\n",
    "    cax = ax[1].imshow(segmented_data[index], cmap='viridis')\n",
    "    for _x_y in full_line:\n",
    "        _x = _x_y[0]\n",
    "        _y = _x_y[1]\n",
    "        ax[1].scatter([_x], [_y])\n",
    "    \n",
    "    _xaxis = np.arange(len(all_profiles_along_line[index])) + x1\n",
    "    ax[2].plot(_xaxis, all_profiles_along_line[index])\n",
    "    \n",
    "    \n",
    "interact(plot,\n",
    "        index=widgets.IntSlider(min=0,\n",
    "                         max=len(data)-1,\n",
    "                         value=0,\n",
    "                         continuous_update=False\n",
    "                           ))"
   ]
  },
  {
   "cell_type": "markdown",
   "metadata": {
    "run_control": {
     "frozen": false,
     "read_only": false
    }
   },
   "source": [
    "I'm now plotting the length of the line the pixel corresponds to verus pixel poition"
   ]
  },
  {
   "cell_type": "code",
   "execution_count": null,
   "metadata": {
    "run_control": {
     "frozen": false,
     "read_only": false
    }
   },
   "outputs": [],
   "source": [
    "def calculate_length_of_each_segment(profile=[]):\n",
    "\n",
    "    # replace nan values by -2\n",
    "    nan_substitute = -2\n",
    "    profile = np.array(profile)\n",
    "    profile_index = [np.isnan(profile)]\n",
    "    profile[profile_index] = nan_substitute\n",
    "    \n",
    "    x0 = 0\n",
    "    current_value = -1\n",
    "    \n",
    "    dict_segment = {}\n",
    "    \n",
    "    line_number = 0\n",
    "    start_flag = True\n",
    "    start_point = True\n",
    "    end_point = False\n",
    "    _dict = {}\n",
    "    \n",
    "    for _index in np.arange(len(profile)):\n",
    "        _live_value = profile[_index]\n",
    "#         print(\"live_value: {} at index: {}\".format(_live_value, _index))\n",
    "        # not nan value\n",
    "        # we reached an edge of a segment\n",
    "        if _live_value != current_value:\n",
    "#             print(\"live_value is different than current_value (start_point, end_point):({},{})\".format(start_point, end_point))\n",
    "\n",
    "            current_value = _live_value\n",
    "            \n",
    "            if start_flag:\n",
    "#                 print(\"-> starting a new line\")\n",
    "                _dict={}\n",
    "                _dict['start'] = _index\n",
    "                if current_value == nan_substitute:\n",
    "                    _dict['value'] = np.NaN\n",
    "                else:\n",
    "                    _dict['value'] = current_value\n",
    "                start_flag = not start_flag\n",
    "            else:\n",
    "#                 print(\"-> finishing a line\")\n",
    "                _dict['end'] = _index-1           \n",
    "                _dict['length'] = _dict['end'] - _dict['start']\n",
    "                dict_segment[str(line_number)] = _dict\n",
    "                line_number += 1\n",
    "                \n",
    "#                 print(\"-> and starting a new one\")\n",
    "                _dict={}\n",
    "                _dict['start'] = _index\n",
    "                if current_value == nan_substitute:\n",
    "                \n",
    "                    _dict['value'] = np.NaN\n",
    "                else:\n",
    "                    _dict['value'] = current_value\n",
    "                \n",
    "        current_value = _live_value\n",
    "        \n",
    "    _dict['end'] = _index\n",
    "    _dict['length'] = _dict['end'] - _dict['start']\n",
    "    dict_segment[str(line_number)] = _dict\n",
    "        \n",
    "    return dict_segment\n",
    "\n",
    "full_dict_array = []\n",
    "for _profile in all_profiles_along_line:\n",
    "    full_dict_array.append(calculate_length_of_each_segment(profile=_profile))\n",
    "\n",
    "def isolate_length_vs_x(dict_array):\n",
    "    nbr_point = len(dict_array)\n",
    "    x_axis = []\n",
    "    y_axis = []\n",
    "    for _key in dict_array.keys():\n",
    "        _entry = dict_array[_key]\n",
    "#         if not np.isnan(_entry['value']):\n",
    "#             x_axis.append(x1+ np.mean([_entry['start'], _entry['end']]))\n",
    "        _start = _entry['start']\n",
    "        _end = _entry['end']\n",
    "        for _x in np.arange(_start, _end+1):\n",
    "            x_axis.append(_x + x1)\n",
    "            y_axis.append(_entry['length'])\n",
    "    \n",
    "    return (x_axis, y_axis)\n",
    "\n",
    "length_vs_x = {}\n",
    "for index, dict_array in enumerate(full_dict_array):\n",
    "    [x_axis, y_axis] =isolate_length_vs_x(dict_array)\n",
    "    length_vs_x[str(index)] = {'x_axis': x_axis,\n",
    "                               'y_axis': y_axis}\n",
    "\n",
    "# display the length of each\n",
    "def plot(index):\n",
    "\n",
    "    fig, ax = plt.subplots(ncols=1, nrows=3, figsize=(10,10))\n",
    "    \n",
    "    # preview of crop image\n",
    "    cax = ax[0].imshow(segmented_data[index], cmap='viridis')\n",
    "\n",
    "    # display of length of lines\n",
    "    _xaxis = np.arange(len(all_profiles_along_line[index])) + x1\n",
    "    ax[1].plot(_xaxis, all_profiles_along_line[index])\n",
    "    ax[1].set_title(\"lines of continued max value\")\n",
    "    ax[1].set_ylabel(\"Counts\")\n",
    "    \n",
    " # length of lines vs pixel\n",
    "    x_axis = length_vs_x[str(index)]['x_axis']\n",
    "    y_axis = length_vs_x[str(index)]['y_axis']\n",
    "    ax[2].plot(x_axis, y_axis, '*r')\n",
    "    ax[2].set_title(\"length of corresponding lines for each pixel\")\n",
    "    ax[2].set_ylabel(\"Length of correspoonding line\")\n",
    "    ax[2].set_xlabel(\"Pixel\")\n",
    "    \n",
    "interact(plot,\n",
    "        index=widgets.IntSlider(min=0,\n",
    "                         max=len(data)-1,\n",
    "                         value=0,\n",
    "                         continuous_update=False\n",
    "                           ))"
   ]
  },
  {
   "cell_type": "markdown",
   "metadata": {
    "run_control": {
     "frozen": false,
     "read_only": false
    }
   },
   "source": [
    "# Calculate front of signal"
   ]
  },
  {
   "cell_type": "code",
   "execution_count": null,
   "metadata": {
    "run_control": {
     "frozen": false,
     "read_only": false
    }
   },
   "outputs": [],
   "source": [
    "class MeanRangeCalculation():\n",
    "    '''\n",
    "    Mean value of all the counts between left_pixel and right pixel\n",
    "    '''\n",
    "\n",
    "    def __init__(self, data=None):\n",
    "        self.data = data\n",
    "        self.nbr_pixel = len(self.data)\n",
    "\n",
    "    def calculate_left_right_mean(self, pixel=-1):\n",
    "        _data = self.data\n",
    "        _nbr_pixel = self.nbr_pixel\n",
    "\n",
    "        self.left_mean = np.nanmean(_data[0:pixel+1])\n",
    "        self.right_mean = np.nanmean(_data[pixel+1:_nbr_pixel])\n",
    "\n",
    "    def calculate_delta_mean_square(self):\n",
    "        self.delta_square = np.square(self.left_mean - self.right_mean)\n",
    "\n",
    "peak_position = []\n",
    "end_pixel_cutoff = 1\n",
    "full_delta_array = []\n",
    "for _key in length_vs_x.keys():\n",
    "    \n",
    "    x_axis = length_vs_x[_key]['x_axis']\n",
    "    y_axis = length_vs_x[_key]['y_axis']\n",
    "    \n",
    "    o_range = MeanRangeCalculation(data = y_axis)\n",
    "    nbr_pixels = len(x_axis)\n",
    "    delta_array = []\n",
    "    for _pixel in np.arange(0, nbr_pixels-end_pixel_cutoff):\n",
    "        o_range.calculate_left_right_mean(pixel=_pixel)\n",
    "        o_range.calculate_delta_mean_square()\n",
    "        delta_array.append(o_range.delta_square)\n",
    "        \n",
    "    peak_value = delta_array.index(max(delta_array[0: nbr_pixels-end_pixel_cutoff]))\n",
    "    peak_position.append(peak_value+np.min([x0, x1]))\n",
    "    full_delta_array.append(delta_array)\n",
    "\n",
    "def plot(index):\n",
    "    fig, ax = plt.subplots()\n",
    "    ax.plot(x_axis[0: nbr_pixels-end_pixel_cutoff], full_delta_array[index], label='delta_array')\n",
    "    y_axis = length_vs_x[str(index)]['y_axis']\n",
    "    second_x_axis = np.arange(np.min([x0, x1]), np.min([x0, x1]) + len(y_axis))\n",
    "    ax.plot(second_x_axis, y_axis, 'r', label='length of lines')\n",
    "    ax.legend()\n",
    "    \n",
    "interact(plot,\n",
    "        index=widgets.IntSlider(min=0,\n",
    "                         max=len(data)-1,\n",
    "                         value=0,\n",
    "                         continuous_update=False\n",
    "                           ))"
   ]
  },
  {
   "cell_type": "code",
   "execution_count": null,
   "metadata": {
    "run_control": {
     "frozen": false,
     "read_only": false
    }
   },
   "outputs": [],
   "source": [
    "# display the length of each\n",
    "[height, width] = np.shape(segmented_data[0])\n",
    "\n",
    "def plot(index):\n",
    "\n",
    "    fig, ax = plt.subplots(ncols=1, nrows=3, figsize=(10,10))\n",
    "    \n",
    "    # preview of crop image\n",
    "    cax = ax[0].imshow(segmented_data[index], cmap='viridis')\n",
    "    print(peak_position[index])\n",
    "    _peak = patches.Rectangle((peak_position[index], 0),\n",
    "                             1,\n",
    "                             height,\n",
    "                             edgecolor = 'red',\n",
    "                             linewidth=2,\n",
    "                             fill=False)\n",
    "    ax[0].add_patch(_peak)\n",
    "    \n",
    "    # display of length of lines\n",
    "    _xaxis = np.arange(len(all_profiles_along_line[index]))+ np.min([x0, x1])\n",
    "    ax[1].plot(_xaxis, all_profiles_along_line[index])\n",
    "    ax[1].set_title(\"lines of continued max value\")\n",
    "    ax[1].set_ylabel(\"Counts\")\n",
    "    ax[1].axvline(peak_position[index], c='red')\n",
    " # length of lines vs pixel\n",
    "    x_axis = length_vs_x[str(index)]['x_axis']\n",
    "    y_axis = length_vs_x[str(index)]['y_axis']\n",
    "    ax[2].plot(x_axis, y_axis, '*r')\n",
    "    ax[2].set_title(\"length of corresponding lines for each pixel\")\n",
    "    ax[2].set_ylabel(\"Length of correspoonding line\")\n",
    "    ax[2].set_xlabel(\"Pixel\")\n",
    "    ax[2].axvline(peak_position[index], c='blue')\n",
    "    \n",
    "interact(plot,\n",
    "        index=widgets.IntSlider(min=0,\n",
    "                         max=len(data)-1,\n",
    "                         value=0,\n",
    "                         continuous_update=False\n",
    "                           ))"
   ]
  },
  {
   "cell_type": "markdown",
   "metadata": {
    "run_control": {
     "frozen": false,
     "read_only": false
    }
   },
   "source": [
    "# Display evolution of peak signal "
   ]
  },
  {
   "cell_type": "code",
   "execution_count": null,
   "metadata": {
    "run_control": {
     "frozen": false,
     "read_only": false
    }
   },
   "outputs": [],
   "source": [
    "fig, ax = plt.subplots()\n",
    "ax.plot(peak_position, '*')\n",
    "ax.set_ylabel(\"Peak position\")\n",
    "ax.set_xlabel(\"File index\")"
   ]
  },
  {
   "cell_type": "code",
   "execution_count": null,
   "metadata": {
    "run_control": {
     "frozen": false,
     "read_only": false
    }
   },
   "outputs": [],
   "source": []
  }
 ],
 "metadata": {
  "kernelspec": {
   "display_name": "Python 3",
   "language": "python",
   "name": "python3"
  },
  "language_info": {
   "codemirror_mode": {
    "name": "ipython",
    "version": 3
   },
   "file_extension": ".py",
   "mimetype": "text/x-python",
   "name": "python",
   "nbconvert_exporter": "python",
   "pygments_lexer": "ipython3",
   "version": "3.6.2"
  },
  "toc": {
   "colors": {
    "hover_highlight": "#DAA520",
    "running_highlight": "#FF0000",
    "selected_highlight": "#FFD700"
   },
   "moveMenuLeft": true,
   "nav_menu": {
    "height": "138px",
    "width": "252px"
   },
   "navigate_menu": true,
   "number_sections": true,
   "sideBar": true,
   "threshold": 4,
   "toc_cell": false,
   "toc_section_display": "block",
   "toc_window_display": false
  }
 },
 "nbformat": 4,
 "nbformat_minor": 2
}
