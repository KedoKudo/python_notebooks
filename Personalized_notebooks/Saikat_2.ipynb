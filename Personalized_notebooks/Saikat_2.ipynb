{
 "cells": [
  {
   "cell_type": "markdown",
   "metadata": {
    "run_control": {
     "frozen": false,
     "read_only": false
    }
   },
   "source": [
    "[![Notebook Tutorial](../__code/__all/notebook_tutorial.png)](https://neutronimaging.pages.ornl.gov/en/tutorial/)"
   ]
  },
  {
   "cell_type": "markdown",
   "metadata": {
    "run_control": {
     "frozen": false,
     "read_only": false
    }
   },
   "source": [
    "<img src='../__docs/__all/notebook_rules.png' />"
   ]
  },
  {
   "cell_type": "code",
   "execution_count": 1,
   "metadata": {
    "run_control": {
     "frozen": false,
     "read_only": false
    }
   },
   "outputs": [],
   "source": [
    "import glob\n",
    "import os\n",
    "import matplotlib.pyplot as plt\n",
    "import matplotlib.gridspec as gridspec\n",
    "% matplotlib notebook\n",
    "import numpy as np\n",
    "from scipy.ndimage import convolve\n",
    "\n",
    "from ipywidgets import interact, widgets\n",
    "\n",
    "from NeuNorm.normalization import Normalization"
   ]
  },
  {
   "cell_type": "markdown",
   "metadata": {
    "run_control": {
     "frozen": false,
     "read_only": false
    }
   },
   "source": [
    "# Define input data files "
   ]
  },
  {
   "cell_type": "code",
   "execution_count": 2,
   "metadata": {
    "run_control": {
     "frozen": false,
     "read_only": false
    }
   },
   "outputs": [],
   "source": [
    "list_files = glob.glob('/Volumes/my_book_thunderbolt_duo/IPTS/IPTS-Das-Saikat/only_data_of_interest/image_*.tif')\n",
    "for _file in list_files:\n",
    "    assert os.path.exists(_file)"
   ]
  },
  {
   "cell_type": "markdown",
   "metadata": {
    "run_control": {
     "frozen": false,
     "read_only": false
    }
   },
   "source": [
    "# Loading the data "
   ]
  },
  {
   "cell_type": "code",
   "execution_count": 3,
   "metadata": {
    "run_control": {
     "frozen": false,
     "read_only": false
    }
   },
   "outputs": [
    {
     "data": {
      "application/vnd.jupyter.widget-view+json": {
       "model_id": "adc14e814a2a4abebfe5d19c229f127e",
       "version_major": 2,
       "version_minor": 0
      },
      "text/html": [
       "<p>Failed to display Jupyter Widget of type <code>HBox</code>.</p>\n",
       "<p>\n",
       "  If you're reading this message in Jupyter Notebook or JupyterLab, it may mean\n",
       "  that the widgets JavaScript is still loading. If this message persists, it\n",
       "  likely means that the widgets JavaScript library is either not installed or\n",
       "  not enabled. See the <a href=\"https://ipywidgets.readthedocs.io/en/stable/user_install.html\">Jupyter\n",
       "  Widgets Documentation</a> for setup instructions.\n",
       "</p>\n",
       "<p>\n",
       "  If you're reading this message in another notebook frontend (for example, a static\n",
       "  rendering on GitHub or <a href=\"https://nbviewer.jupyter.org/\">NBViewer</a>),\n",
       "  it may mean that your frontend doesn't currently support widgets.\n",
       "</p>\n"
      ],
      "text/plain": [
       "HBox(children=(Label(value='Loading sample', layout=Layout(width='20%')), IntProgress(value=0, max=10), Label(value='Time remaining:', layout=Layout(width='10%')), Label(value=' >> calculating << ')))"
      ]
     },
     "metadata": {},
     "output_type": "display_data"
    }
   ],
   "source": [
    "o_norm = Normalization()\n",
    "o_norm.load(file=list_files, notebook=True)\n",
    "data = o_norm.data['sample']['data']"
   ]
  },
  {
   "cell_type": "markdown",
   "metadata": {
    "run_control": {
     "frozen": false,
     "read_only": false
    }
   },
   "source": [
    "# Preview of data "
   ]
  },
  {
   "cell_type": "code",
   "execution_count": 4,
   "metadata": {
    "run_control": {
     "frozen": false,
     "read_only": false
    }
   },
   "outputs": [
    {
     "data": {
      "application/vnd.jupyter.widget-view+json": {
       "model_id": "51cac76875244f888ca6fb33f87f8102",
       "version_major": 2,
       "version_minor": 0
      },
      "text/html": [
       "<p>Failed to display Jupyter Widget of type <code>interactive</code>.</p>\n",
       "<p>\n",
       "  If you're reading this message in Jupyter Notebook or JupyterLab, it may mean\n",
       "  that the widgets JavaScript is still loading. If this message persists, it\n",
       "  likely means that the widgets JavaScript library is either not installed or\n",
       "  not enabled. See the <a href=\"https://ipywidgets.readthedocs.io/en/stable/user_install.html\">Jupyter\n",
       "  Widgets Documentation</a> for setup instructions.\n",
       "</p>\n",
       "<p>\n",
       "  If you're reading this message in another notebook frontend (for example, a static\n",
       "  rendering on GitHub or <a href=\"https://nbviewer.jupyter.org/\">NBViewer</a>),\n",
       "  it may mean that your frontend doesn't currently support widgets.\n",
       "</p>\n"
      ],
      "text/plain": [
       "interactive(children=(IntSlider(value=0, continuous_update=False, description='index', max=9), Output()), _dom_classes=('widget-interact',))"
      ]
     },
     "metadata": {},
     "output_type": "display_data"
    },
    {
     "data": {
      "text/plain": [
       "<function __main__.plot>"
      ]
     },
     "execution_count": 4,
     "metadata": {},
     "output_type": "execute_result"
    }
   ],
   "source": [
    "def plot(index):\n",
    "    fig, ax = plt.subplots(figsize=(5,5))\n",
    "    cax = ax.imshow(data[index], cmap='viridis')\n",
    "    fig.colorbar(cax)\n",
    "interact(plot,\n",
    "        index=widgets.IntSlider(min=0,\n",
    "                         max=len(data)-1,\n",
    "                         value=0,\n",
    "                         continuous_update=False\n",
    "                           ))"
   ]
  },
  {
   "cell_type": "markdown",
   "metadata": {
    "run_control": {
     "frozen": false,
     "read_only": false
    }
   },
   "source": [
    "# Crop "
   ]
  },
  {
   "cell_type": "code",
   "execution_count": 5,
   "metadata": {
    "run_control": {
     "frozen": false,
     "read_only": false
    }
   },
   "outputs": [
    {
     "data": {
      "application/vnd.jupyter.widget-view+json": {
       "model_id": "1ac902bb538e4446886b0840ac83279b",
       "version_major": 2,
       "version_minor": 0
      },
      "text/html": [
       "<p>Failed to display Jupyter Widget of type <code>interactive</code>.</p>\n",
       "<p>\n",
       "  If you're reading this message in Jupyter Notebook or JupyterLab, it may mean\n",
       "  that the widgets JavaScript is still loading. If this message persists, it\n",
       "  likely means that the widgets JavaScript library is either not installed or\n",
       "  not enabled. See the <a href=\"https://ipywidgets.readthedocs.io/en/stable/user_install.html\">Jupyter\n",
       "  Widgets Documentation</a> for setup instructions.\n",
       "</p>\n",
       "<p>\n",
       "  If you're reading this message in another notebook frontend (for example, a static\n",
       "  rendering on GitHub or <a href=\"https://nbviewer.jupyter.org/\">NBViewer</a>),\n",
       "  it may mean that your frontend doesn't currently support widgets.\n",
       "</p>\n"
      ],
      "text/plain": [
       "interactive(children=(IntSlider(value=0, continuous_update=False, description='index', max=9), Output()), _dom_classes=('widget-interact',))"
      ]
     },
     "metadata": {},
     "output_type": "display_data"
    },
    {
     "data": {
      "text/plain": [
       "<function __main__.plot>"
      ]
     },
     "execution_count": 5,
     "metadata": {},
     "output_type": "execute_result"
    }
   ],
   "source": [
    "x0 = 0\n",
    "x1 = 460\n",
    "y0 = 232\n",
    "y1 = 285\n",
    "\n",
    "crop_data = [_data[y0:y1, x0:x1] for _data in data]\n",
    "\n",
    "def plot(index):\n",
    "    fig, ax = plt.subplots(figsize=(12,2))\n",
    "    cax = ax.imshow(crop_data[index], cmap='viridis')\n",
    "    fig.colorbar(cax)\n",
    "interact(plot,\n",
    "        index=widgets.IntSlider(min=0,\n",
    "                         max=len(data)-1,\n",
    "                         value=0,\n",
    "                         continuous_update=False\n",
    "                           ))"
   ]
  },
  {
   "cell_type": "markdown",
   "metadata": {
    "run_control": {
     "frozen": false,
     "read_only": false
    }
   },
   "source": [
    "# Trying to reverse signal\n",
    "\n",
    "Will take the max intensity and reverse all the values\n",
    "\n",
    "```\n",
    "new_pixel = max_value - old_pixel\n",
    "```"
   ]
  },
  {
   "cell_type": "code",
   "execution_count": 11,
   "metadata": {
    "run_control": {
     "frozen": false,
     "read_only": false
    }
   },
   "outputs": [
    {
     "data": {
      "application/vnd.jupyter.widget-view+json": {
       "model_id": "b376d4279bed47e0b6959f2fa1f879a1",
       "version_major": 2,
       "version_minor": 0
      },
      "text/html": [
       "<p>Failed to display Jupyter Widget of type <code>interactive</code>.</p>\n",
       "<p>\n",
       "  If you're reading this message in Jupyter Notebook or JupyterLab, it may mean\n",
       "  that the widgets JavaScript is still loading. If this message persists, it\n",
       "  likely means that the widgets JavaScript library is either not installed or\n",
       "  not enabled. See the <a href=\"https://ipywidgets.readthedocs.io/en/stable/user_install.html\">Jupyter\n",
       "  Widgets Documentation</a> for setup instructions.\n",
       "</p>\n",
       "<p>\n",
       "  If you're reading this message in another notebook frontend (for example, a static\n",
       "  rendering on GitHub or <a href=\"https://nbviewer.jupyter.org/\">NBViewer</a>),\n",
       "  it may mean that your frontend doesn't currently support widgets.\n",
       "</p>\n"
      ],
      "text/plain": [
       "interactive(children=(IntSlider(value=0, continuous_update=False, description='index', max=9), Output()), _dom_classes=('widget-interact',))"
      ]
     },
     "metadata": {},
     "output_type": "display_data"
    },
    {
     "data": {
      "text/plain": [
       "<function __main__.plot>"
      ]
     },
     "execution_count": 11,
     "metadata": {},
     "output_type": "execute_result"
    }
   ],
   "source": [
    "max_values = [np.max(_data) for _data in crop_data]\n",
    "crop_data_reversed = [(_max_value - _data) for (_data, _max_value) in zip(crop_data, max_values)]\n",
    "\n",
    "def plot(index):\n",
    "    fig, ax = plt.subplots(figsize=(12,2))\n",
    "    cax = ax.imshow(crop_data_reversed[index], cmap='viridis')\n",
    "    fig.colorbar(cax)\n",
    "interact(plot,\n",
    "        index=widgets.IntSlider(min=0,\n",
    "                         max=len(data)-1,\n",
    "                         value=0,\n",
    "                         continuous_update=False\n",
    "                           ))"
   ]
  },
  {
   "cell_type": "markdown",
   "metadata": {
    "run_control": {
     "frozen": false,
     "read_only": false
    }
   },
   "source": [
    "# Basic histogram segmentation "
   ]
  },
  {
   "cell_type": "code",
   "execution_count": 16,
   "metadata": {
    "run_control": {
     "frozen": false,
     "read_only": false
    }
   },
   "outputs": [
    {
     "data": {
      "application/vnd.jupyter.widget-view+json": {
       "model_id": "25c2d342289a49ae8133de3955ad6e83",
       "version_major": 2,
       "version_minor": 0
      },
      "text/html": [
       "<p>Failed to display Jupyter Widget of type <code>interactive</code>.</p>\n",
       "<p>\n",
       "  If you're reading this message in Jupyter Notebook or JupyterLab, it may mean\n",
       "  that the widgets JavaScript is still loading. If this message persists, it\n",
       "  likely means that the widgets JavaScript library is either not installed or\n",
       "  not enabled. See the <a href=\"https://ipywidgets.readthedocs.io/en/stable/user_install.html\">Jupyter\n",
       "  Widgets Documentation</a> for setup instructions.\n",
       "</p>\n",
       "<p>\n",
       "  If you're reading this message in another notebook frontend (for example, a static\n",
       "  rendering on GitHub or <a href=\"https://nbviewer.jupyter.org/\">NBViewer</a>),\n",
       "  it may mean that your frontend doesn't currently support widgets.\n",
       "</p>\n"
      ],
      "text/plain": [
       "interactive(children=(IntSlider(value=0, continuous_update=False, description='index', max=9), Output()), _dom_classes=('widget-interact',))"
      ]
     },
     "metadata": {},
     "output_type": "display_data"
    },
    {
     "data": {
      "text/plain": [
       "<function __main__.plot>"
      ]
     },
     "execution_count": 16,
     "metadata": {},
     "output_type": "execute_result"
    }
   ],
   "source": [
    "threshold = np.array(max_values) - 1\n",
    "segmented_data = []\n",
    "for _index, _data in enumerate(crop_data_reversed):\n",
    "    _index = _data <= threshold[_index]\n",
    "    _data[_index] = np.NaN\n",
    "    segmented_data.append(_data)\n",
    "    \n",
    "def plot(index):\n",
    "    fig, ax = plt.subplots(figsize=(12,2))\n",
    "    cax = ax.imshow(segmented_data[index], cmap='viridis')\n",
    "    fig.colorbar(cax)\n",
    "interact(plot,\n",
    "        index=widgets.IntSlider(min=0,\n",
    "                         max=len(data)-1,\n",
    "                         value=0,\n",
    "                         continuous_update=False\n",
    "                           ))"
   ]
  },
  {
   "cell_type": "markdown",
   "metadata": {},
   "source": [
    "# Profile along x-axis "
   ]
  },
  {
   "cell_type": "code",
   "execution_count": 21,
   "metadata": {},
   "outputs": [
    {
     "data": {
      "application/vnd.jupyter.widget-view+json": {
       "model_id": "69cb7c21ec1b4c41aeb803e0196af574",
       "version_major": 2,
       "version_minor": 0
      },
      "text/html": [
       "<p>Failed to display Jupyter Widget of type <code>interactive</code>.</p>\n",
       "<p>\n",
       "  If you're reading this message in Jupyter Notebook or JupyterLab, it may mean\n",
       "  that the widgets JavaScript is still loading. If this message persists, it\n",
       "  likely means that the widgets JavaScript library is either not installed or\n",
       "  not enabled. See the <a href=\"https://ipywidgets.readthedocs.io/en/stable/user_install.html\">Jupyter\n",
       "  Widgets Documentation</a> for setup instructions.\n",
       "</p>\n",
       "<p>\n",
       "  If you're reading this message in another notebook frontend (for example, a static\n",
       "  rendering on GitHub or <a href=\"https://nbviewer.jupyter.org/\">NBViewer</a>),\n",
       "  it may mean that your frontend doesn't currently support widgets.\n",
       "</p>\n"
      ],
      "text/plain": [
       "interactive(children=(IntSlider(value=0, continuous_update=False, description='index', max=9), Output()), _dom_classes=('widget-interact',))"
      ]
     },
     "metadata": {},
     "output_type": "display_data"
    },
    {
     "data": {
      "text/plain": [
       "<function __main__.plot>"
      ]
     },
     "execution_count": 21,
     "metadata": {},
     "output_type": "execute_result"
    }
   ],
   "source": [
    "profiles_x_axis = np.nansum(segmented_data, axis=1)\n",
    "def plot(index):\n",
    "    fig, ax = plt.subplots(figsize=(5,5))\n",
    "    cax = ax.plot(profiles_x_axis[index])\n",
    "    \n",
    "interact(plot,\n",
    "        index=widgets.IntSlider(min=0,\n",
    "                         max=len(data)-1,\n",
    "                         value=0,\n",
    "                         continuous_update=False\n",
    "                           ))"
   ]
  },
  {
   "cell_type": "markdown",
   "metadata": {},
   "source": [
    "# profile along user defined line \n",
    "\n",
    "* User defines start and end of line (using #6)\n",
    "* algorithm will then keep the pixel within a given width (number of pixels) of this line\n",
    "* profile along the line is display\n",
    "\n"
   ]
  },
  {
   "cell_type": "code",
   "execution_count": 22,
   "metadata": {
    "collapsed": true
   },
   "outputs": [],
   "source": [
    "x0, y0 = 450, 20\n",
    "x1, y1 = 104, 26"
   ]
  },
  {
   "cell_type": "code",
   "execution_count": 34,
   "metadata": {
    "collapsed": true
   },
   "outputs": [],
   "source": [
    "def _intermediates_points(p1, p2):\n",
    "    \"\"\"\"Return a list of nb_points equally spaced points\n",
    "    between p1 and p2\n",
    "\n",
    "    p1 = [x0, y0]\n",
    "    p2 = [x1, y1]\n",
    "    \"\"\"\n",
    "\n",
    "    # nb_points ?\n",
    "    nb_points = np.int(3 * max([np.abs(p1[0] - p2[0]), np.abs(p2[1] - p1[1])]))\n",
    "\n",
    "    x_spacing = (p2[0] - p1[0]) / (nb_points + 1)\n",
    "    y_spacing = (p2[1] - p1[1]) / (nb_points + 1)\n",
    "\n",
    "    full_array = [[np.int(p1[0] + i * x_spacing), np.int(p1[1] + i * y_spacing)]\n",
    "                  for i in range(1, nb_points + 1)]\n",
    "\n",
    "    clean_array = []\n",
    "    for _points in full_array:\n",
    "        if _points in clean_array:\n",
    "            continue\n",
    "        clean_array.append(_points)\n",
    "\n",
    "    return np.array(clean_array)"
   ]
  },
  {
   "cell_type": "code",
   "execution_count": 42,
   "metadata": {
    "collapsed": true
   },
   "outputs": [],
   "source": [
    "full_line = _intermediates_points([x0,y0], [x1,y1])[::-1]\n",
    "x_axis_line = full_line[:,0]"
   ]
  },
  {
   "cell_type": "code",
   "execution_count": 81,
   "metadata": {},
   "outputs": [
    {
     "name": "stderr",
     "output_type": "stream",
     "text": [
      "/Users/j35/anaconda/envs/py36/lib/python3.6/site-packages/ipykernel_launcher.py:7: RuntimeWarning: Mean of empty slice\n",
      "  import sys\n"
     ]
    }
   ],
   "source": [
    "all_profiles_along_line = []\n",
    "width = 1 # 2 pixels on each side\n",
    "for _segmented_data in segmented_data:\n",
    "    _data = []\n",
    "    for _x_y in full_line:\n",
    "        _x, _y = _x_y\n",
    "        _data.append(np.nanmean(_segmented_data[_y-width:_y+width+1, _x]))\n",
    "    all_profiles_along_line.append(_data)"
   ]
  },
  {
   "cell_type": "code",
   "execution_count": 82,
   "metadata": {
    "collapsed": true
   },
   "outputs": [],
   "source": [
    "%matplotlib inline"
   ]
  },
  {
   "cell_type": "code",
   "execution_count": 158,
   "metadata": {},
   "outputs": [
    {
     "data": {
      "application/vnd.jupyter.widget-view+json": {
       "model_id": "4a734f03857d4cc3949c90f267b62b7e",
       "version_major": 2,
       "version_minor": 0
      },
      "text/html": [
       "<p>Failed to display Jupyter Widget of type <code>interactive</code>.</p>\n",
       "<p>\n",
       "  If you're reading this message in Jupyter Notebook or JupyterLab, it may mean\n",
       "  that the widgets JavaScript is still loading. If this message persists, it\n",
       "  likely means that the widgets JavaScript library is either not installed or\n",
       "  not enabled. See the <a href=\"https://ipywidgets.readthedocs.io/en/stable/user_install.html\">Jupyter\n",
       "  Widgets Documentation</a> for setup instructions.\n",
       "</p>\n",
       "<p>\n",
       "  If you're reading this message in another notebook frontend (for example, a static\n",
       "  rendering on GitHub or <a href=\"https://nbviewer.jupyter.org/\">NBViewer</a>),\n",
       "  it may mean that your frontend doesn't currently support widgets.\n",
       "</p>\n"
      ],
      "text/plain": [
       "interactive(children=(IntSlider(value=0, continuous_update=False, description='index', max=9), Output()), _dom_classes=('widget-interact',))"
      ]
     },
     "metadata": {},
     "output_type": "display_data"
    },
    {
     "data": {
      "text/plain": [
       "<function __main__.plot>"
      ]
     },
     "execution_count": 158,
     "metadata": {},
     "output_type": "execute_result"
    }
   ],
   "source": [
    "def plot(index):\n",
    "    fig, ax = plt.subplots(ncols=1, nrows=3, figsize=(20,20))\n",
    "    cax = ax[0].imshow(segmented_data[index], cmap='viridis')\n",
    "    cax = ax[1].imshow(segmented_data[index], cmap='viridis')\n",
    "    for _x_y in full_line:\n",
    "        _x = _x_y[0]\n",
    "        _y = _x_y[1]\n",
    "        ax[1].scatter([_x], [_y])\n",
    "    \n",
    "    _xaxis = np.arange(len(all_profiles_along_line[index])) + x1\n",
    "    ax[2].plot(_xaxis, all_profiles_along_line[index])\n",
    "    \n",
    "    \n",
    "interact(plot,\n",
    "        index=widgets.IntSlider(min=0,\n",
    "                         max=len(data)-1,\n",
    "                         value=0,\n",
    "                         continuous_update=False\n",
    "                           ))"
   ]
  },
  {
   "cell_type": "markdown",
   "metadata": {},
   "source": [
    "I can try to plot the length of each line versus beginning and end coordinates"
   ]
  },
  {
   "cell_type": "code",
   "execution_count": 141,
   "metadata": {},
   "outputs": [],
   "source": [
    "def calculate_length_of_each_segment(profile=[]):\n",
    "\n",
    "    # replace nan values by -2\n",
    "    nan_substitute = -2\n",
    "    profile = np.array(profile)\n",
    "    profile_index = [np.isnan(profile)]\n",
    "    profile[profile_index] = nan_substitute\n",
    "    \n",
    "    x0 = 0\n",
    "    current_value = -1\n",
    "    \n",
    "    dict_segment = {}\n",
    "    \n",
    "    line_number = 0\n",
    "    start_flag = True\n",
    "    start_point = True\n",
    "    end_point = False\n",
    "    _dict = {}\n",
    "    \n",
    "    for _index in np.arange(len(profile)):\n",
    "        _live_value = profile[_index]\n",
    "#         print(\"live_value: {} at index: {}\".format(_live_value, _index))\n",
    "        # not nan value\n",
    "        # we reached an edge of a segment\n",
    "        if _live_value != current_value:\n",
    "#             print(\"live_value is different than current_value (start_point, end_point):({},{})\".format(start_point, end_point))\n",
    "\n",
    "            current_value = _live_value\n",
    "            \n",
    "            if start_flag:\n",
    "#                 print(\"-> starting a new line\")\n",
    "                _dict={}\n",
    "                _dict['start'] = _index\n",
    "                if current_value == nan_substitute:\n",
    "                    _dict['value'] = np.NaN\n",
    "                else:\n",
    "                    _dict['value'] = current_value\n",
    "                start_flag = not start_flag\n",
    "            else:\n",
    "#                 print(\"-> finishing a line\")\n",
    "                _dict['end'] = _index-1           \n",
    "                _dict['length'] = _dict['end'] - _dict['start']\n",
    "                dict_segment[str(line_number)] = _dict\n",
    "                line_number += 1\n",
    "                \n",
    "#                 print(\"-> and starting a new one\")\n",
    "                _dict={}\n",
    "                _dict['start'] = _index\n",
    "                if current_value == nan_substitute:\n",
    "                \n",
    "                    _dict['value'] = np.NaN\n",
    "                else:\n",
    "                    _dict['value'] = current_value\n",
    "                \n",
    "        current_value = _live_value\n",
    "        \n",
    "    _dict['end'] = _index\n",
    "    _dict['length'] = _dict['end'] - _dict['start']\n",
    "    dict_segment[str(line_number)] = _dict\n",
    "        \n",
    "    return dict_segment\n",
    "\n",
    "full_dict_array = []\n",
    "for _profile in all_profiles_along_line:\n",
    "    full_dict_array.append(calculate_length_of_each_segment(profile=_profile))"
   ]
  },
  {
   "cell_type": "code",
   "execution_count": 199,
   "metadata": {
    "scrolled": false
   },
   "outputs": [],
   "source": [
    "def isolate_length_vs_x(dict_array):\n",
    "    nbr_point = len(dict_array)\n",
    "    x_axis = []\n",
    "    y_axis = []\n",
    "    for _key in dict_array.keys():\n",
    "        _entry = dict_array[_key]\n",
    "        if not np.isnan(_entry['value']):\n",
    "#             x_axis.append(x1+ np.mean([_entry['start'], _entry['end']]))\n",
    "            _start = _entry['start']\n",
    "            _end = _entry['end']\n",
    "            for _x in np.arange(_start, _end+1):\n",
    "                x_axis.append(_x + x1)\n",
    "                y_axis.append(_entry['length'])\n",
    "    \n",
    "    return (x_axis, y_axis)\n",
    "\n",
    "length_vs_x = {}\n",
    "for index, dict_array in enumerate(full_dict_array):\n",
    "    [x_axis, y_axis] =isolate_length_vs_x(dict_array)\n",
    "    length_vs_x[str(index)] = {'x_axis': x_axis,\n",
    "                               'y_axis': y_axis}"
   ]
  },
  {
   "cell_type": "code",
   "execution_count": 200,
   "metadata": {
    "scrolled": false
   },
   "outputs": [
    {
     "data": {
      "application/vnd.jupyter.widget-view+json": {
       "model_id": "0ec0271c18e64ffa8547ce55a8f67047",
       "version_major": 2,
       "version_minor": 0
      },
      "text/html": [
       "<p>Failed to display Jupyter Widget of type <code>interactive</code>.</p>\n",
       "<p>\n",
       "  If you're reading this message in Jupyter Notebook or JupyterLab, it may mean\n",
       "  that the widgets JavaScript is still loading. If this message persists, it\n",
       "  likely means that the widgets JavaScript library is either not installed or\n",
       "  not enabled. See the <a href=\"https://ipywidgets.readthedocs.io/en/stable/user_install.html\">Jupyter\n",
       "  Widgets Documentation</a> for setup instructions.\n",
       "</p>\n",
       "<p>\n",
       "  If you're reading this message in another notebook frontend (for example, a static\n",
       "  rendering on GitHub or <a href=\"https://nbviewer.jupyter.org/\">NBViewer</a>),\n",
       "  it may mean that your frontend doesn't currently support widgets.\n",
       "</p>\n"
      ],
      "text/plain": [
       "interactive(children=(IntSlider(value=0, continuous_update=False, description='index', max=9), Output()), _dom_classes=('widget-interact',))"
      ]
     },
     "metadata": {},
     "output_type": "display_data"
    },
    {
     "data": {
      "text/plain": [
       "<function __main__.plot>"
      ]
     },
     "execution_count": 200,
     "metadata": {},
     "output_type": "execute_result"
    }
   ],
   "source": [
    "# display the length of each\n",
    "def plot(index):\n",
    "\n",
    "    fig, ax = plt.subplots(ncols=1, nrows=3, figsize=(10,10))\n",
    "    \n",
    "    # preview of crop image\n",
    "    cax = ax[0].imshow(segmented_data[index], cmap='viridis')\n",
    "\n",
    "    # display of length of lines\n",
    "    _xaxis = np.arange(len(all_profiles_along_line[index])) + x1\n",
    "    ax[1].plot(_xaxis, all_profiles_along_line[index])\n",
    "    ax[1].set_title(\"lines of continued max value\")\n",
    "    ax[1].set_ylabel(\"Counts\")\n",
    "    \n",
    " # length of lines vs pixel\n",
    "    x_axis = length_vs_x[str(index)]['x_axis']\n",
    "    y_axis = length_vs_x[str(index)]['y_axis']\n",
    "    ax[2].plot(x_axis, y_axis, '*r')\n",
    "    ax[2].set_title(\"length of corresponding lines for each pixel\")\n",
    "    ax[2].set_ylabel(\"Length of correspoonding line\")\n",
    "    ax[2].set_xlabel(\"Pixel\")\n",
    "    \n",
    "interact(plot,\n",
    "        index=widgets.IntSlider(min=0,\n",
    "                         max=len(data)-1,\n",
    "                         value=0,\n",
    "                         continuous_update=False\n",
    "                           ))"
   ]
  },
  {
   "cell_type": "code",
   "execution_count": null,
   "metadata": {
    "collapsed": true
   },
   "outputs": [],
   "source": []
  }
 ],
 "metadata": {
  "kernelspec": {
   "display_name": "Python 3",
   "language": "python",
   "name": "python3"
  },
  "language_info": {
   "codemirror_mode": {
    "name": "ipython",
    "version": 3
   },
   "file_extension": ".py",
   "mimetype": "text/x-python",
   "name": "python",
   "nbconvert_exporter": "python",
   "pygments_lexer": "ipython3",
   "version": "3.6.2"
  },
  "toc": {
   "colors": {
    "hover_highlight": "#DAA520",
    "running_highlight": "#FF0000",
    "selected_highlight": "#FFD700"
   },
   "moveMenuLeft": true,
   "nav_menu": {
    "height": "138px",
    "width": "252px"
   },
   "navigate_menu": true,
   "number_sections": true,
   "sideBar": true,
   "threshold": 4,
   "toc_cell": false,
   "toc_section_display": "block",
   "toc_window_display": false
  }
 },
 "nbformat": 4,
 "nbformat_minor": 2
}
