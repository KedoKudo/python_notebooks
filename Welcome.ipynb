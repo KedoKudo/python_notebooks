{
 "cells": [
  {
   "cell_type": "markdown",
   "metadata": {
    "run_control": {
     "frozen": false,
     "read_only": false
    }
   },
   "source": [
    "# Description of Notebooks "
   ]
  },
  {
   "cell_type": "markdown",
   "metadata": {
    "heading_collapsed": true,
    "run_control": {
     "frozen": false,
     "read_only": false
    }
   },
   "source": [
    "## Split all the images into various folders according to their name ([deal_files](deal_files.ipynb))"
   ]
  },
  {
   "cell_type": "markdown",
   "metadata": {
    "hidden": true,
    "run_control": {
     "frozen": false,
     "read_only": false
    }
   },
   "source": [
    "This notebook allows to deal (distribute) files (images for exmaple) from a folder into different folders\n",
    "\n",
    "\n",
    "**INPUT**\n",
    "\n",
    "```\n",
    "image001_000.tif\n",
    "image001_001.tif\n",
    "image001_002.tif\n",
    "   ....\n",
    "image001_100.tif\n",
    "image002_000.tif\n",
    "image002_001.tif\n",
    "image002_002.tif\n",
    "   ....\n",
    "image002_100.tif\n",
    "image003_000.tif\n",
    "image003_001.tif\n",
    "image003_002.tif\n",
    "   ....\n",
    "image003_100.tif\n",
    "...    \n",
    "    \n",
    "    \n",
    "```\n",
    "**OUTPUT**\n",
    "\n",
    "```\n",
    "image001\n",
    "    image000.tif\n",
    "    image001.tif\n",
    "    image002.tif\n",
    "    ...\n",
    "    image100.tif\n",
    "\n",
    "image002\n",
    "    image000.tif\n",
    "    image001.tif\n",
    "    image002.tif\n",
    "    ...\n",
    "    image100.tif\n",
    "\n",
    "image003\n",
    "    image000.tif\n",
    "    image001.tif\n",
    "    image002.tif\n",
    "    ...\n",
    "    image100.tif\n",
    "    \n",
    "```\n",
    "\n"
   ]
  },
  {
   "cell_type": "markdown",
   "metadata": {
    "heading_collapsed": true,
    "run_control": {
     "frozen": false,
     "read_only": false
    }
   },
   "source": [
    "## Display the average counts of a ROI from a stack of images ([display_counts_of_region_vs_stack](display_counts_of_region_vs_stack.ipynb))"
   ]
  },
  {
   "cell_type": "markdown",
   "metadata": {
    "hidden": true,
    "run_control": {
     "frozen": false,
     "read_only": false
    }
   },
   "source": [
    "The user selects a folder that contains TIFF or FITS images. A UI will then pop up showing the integrated signal. User can select a ROI and the average counts of this region vs file index, TOF or lambda are displayed. \n",
    "\n",
    "In order to have access to the TOF and lambda axis, a **time spectra** file must be provided, as well as the **distance source detector** and **detector offset**.\n",
    "\n",
    "<img src=\"__docs/display_counts_of_region_vs_stack/display_counts_of_region_vs_stack.png\">"
   ]
  },
  {
   "cell_type": "markdown",
   "metadata": {
    "heading_collapsed": true,
    "run_control": {
     "frozen": false,
     "read_only": false
    }
   },
   "source": [
    "## Display integrated stack of images ([display_integrated_stack_of_images](display_integrated_stack_of_images.ipynb)) "
   ]
  },
  {
   "cell_type": "markdown",
   "metadata": {
    "hidden": true,
    "run_control": {
     "frozen": false,
     "read_only": false
    }
   },
   "source": [
    "Select an input folder that contains FITS files. Integrated signal will then be displayed in the notebook.\n",
    "\n",
    "<img src=\"__docs/display_integrated_stack_of_images/display_integrated_stack_of_images.png\">"
   ]
  },
  {
   "cell_type": "markdown",
   "metadata": {
    "run_control": {
     "frozen": false,
     "read_only": false
    }
   },
   "source": [
    "## List and export metadata from list of TIFF files ([list_tiff_metadata.ipynb](list_tiff_metadata.ipynb)))"
   ]
  },
  {
   "cell_type": "markdown",
   "metadata": {
    "collapsed": true,
    "run_control": {
     "frozen": false,
     "read_only": false
    }
   },
   "source": [
    "User select a list of TIFF files. Then the list of metadata available will be offered. Once a metadata tag has been selected, the metadata of this tag for all the files selected are displayed. \n",
    "User can also export the metadata as a file\n",
    "\n",
    "For example\n",
    "*16V_05M_LiCl_in_D2O_Sept24_2016_metadata#65000.txt*\n",
    "\n",
    "```\n",
    "#Metadata: 65000\n",
    "20160924_16V_05M_LiCl_in_D2O_24Sep2016_0050_0001.tiff (843575936.9470825,)\n",
    "20160924_16V_05M_LiCl_in_D2O_24Sep2016_0050_0002.tiff (843575991.8615342,)\n",
    "20160924_16V_05M_LiCl_in_D2O_24Sep2016_0050_0003.tiff (843576046.7767457,)\n",
    "20160924_16V_05M_LiCl_in_D2O_24Sep2016_0050_0004.tiff (843576101.6328596,)\n",
    "20160924_16V_05M_LiCl_in_D2O_24Sep2016_0050_0005.tiff (843576156.498244,)\n",
    "20160924_16V_05M_LiCl_in_D2O_24Sep2016_0050_0006.tiff (843576211.3977013,)\n",
    "20160924_16V_05M_LiCl_in_D2O_24Sep2016_0050_0007.tiff (843576266.2620872,)\n",
    "20160924_16V_05M_LiCl_in_D2O_24Sep2016_0050_0008.tiff (843576321.167948,)\n",
    "20160924_16V_05M_LiCl_in_D2O_24Sep2016_0050_0009.tiff (843576376.0257802,)\n",
    "20160924_16V_05M_LiCl_in_D2O_24Sep2016_0050_0010.tiff (843576430.9396727,)\n",
    "```"
   ]
  },
  {
   "cell_type": "markdown",
   "metadata": {},
   "source": [
    "## Format filename index ([format_filename_index.ipynb](format_filename_index.ipynb)) "
   ]
  },
  {
   "cell_type": "markdown",
   "metadata": {},
   "source": [
    "This notebook correctly formats the file name index of the file selected. This allows the sorting of the file name to works all the time. For example, there are many cases where the images are saved using the following convention\n",
    "\n",
    "**Wrong filename index**\n",
    "\n",
    "```\n",
    "image_1.tif\n",
    "image_2.tif\n",
    "image_3.tif\n",
    "image_4.tif\n",
    "...\n",
    "image_10.tif\n",
    "image_11.tif\n",
    "...\n",
    "image_100.tif\n",
    "```\n",
    "\n",
    "Using this convention, any sorting algorithm will sort them as followed\n",
    "\n",
    "**Wrong sorting**\n",
    "```\n",
    "image_1.tif\n",
    "image_10.tif\n",
    "image_100.tif\n",
    "...\n",
    "```\n",
    "\n",
    "So this notebook will fix this issue by renaming the files\n",
    "\n",
    "**correct filename index**\n",
    "\n",
    "```\n",
    "image_001.tif\n",
    "image_002.tif\n",
    "image_003.tif\n",
    "image_004.tif\n",
    "...\n",
    "image_010.tif\n",
    "image_011.tif\n",
    "...\n",
    "image_100.tif\n",
    "```\n"
   ]
  },
  {
   "cell_type": "code",
   "execution_count": null,
   "metadata": {
    "collapsed": true
   },
   "outputs": [],
   "source": []
  }
 ],
 "metadata": {
  "anaconda-cloud": {},
  "kernelspec": {
   "display_name": "Python [default]",
   "language": "python",
   "name": "python3"
  },
  "language_info": {
   "codemirror_mode": {
    "name": "ipython",
    "version": 3
   },
   "file_extension": ".py",
   "mimetype": "text/x-python",
   "name": "python",
   "nbconvert_exporter": "python",
   "pygments_lexer": "ipython3",
   "version": "3.5.3"
  },
  "toc": {
   "colors": {
    "hover_highlight": "#DAA520",
    "running_highlight": "#FF0000",
    "selected_highlight": "#FFD700"
   },
   "moveMenuLeft": true,
   "nav_menu": {
    "height": "156px",
    "width": "252px"
   },
   "navigate_menu": true,
   "number_sections": true,
   "sideBar": true,
   "threshold": 4,
   "toc_cell": false,
   "toc_section_display": "block",
   "toc_window_display": false
  }
 },
 "nbformat": 4,
 "nbformat_minor": 1
}
