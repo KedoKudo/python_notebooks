{
 "cells": [
  {
   "cell_type": "markdown",
   "metadata": {
    "run_control": {
     "frozen": false,
     "read_only": false
    }
   },
   "source": [
    "# Description of Notebooks "
   ]
  },
  {
   "cell_type": "markdown",
   "metadata": {
    "heading_collapsed": true,
    "run_control": {
     "frozen": false,
     "read_only": false
    }
   },
   "source": [
    "## Split all the images into various folders according to their name ([deal_files](deal_files.ipynb))"
   ]
  },
  {
   "cell_type": "markdown",
   "metadata": {
    "hidden": true,
    "run_control": {
     "frozen": false,
     "read_only": false
    }
   },
   "source": [
    "This notebook allows to deal (distribute) files (images for exmaple) from a folder into different folders\n",
    "\n",
    "\n",
    "**INPUT**\n",
    "\n",
    "```\n",
    "image001_000.tif\n",
    "image001_001.tif\n",
    "image001_002.tif\n",
    "   ....\n",
    "image001_100.tif\n",
    "image002_000.tif\n",
    "image002_001.tif\n",
    "image002_002.tif\n",
    "   ....\n",
    "image002_100.tif\n",
    "image003_000.tif\n",
    "image003_001.tif\n",
    "image003_002.tif\n",
    "   ....\n",
    "image003_100.tif\n",
    "...    \n",
    "    \n",
    "    \n",
    "```\n",
    "**OUTPUT**\n",
    "\n",
    "```\n",
    "image001\n",
    "    image000.tif\n",
    "    image001.tif\n",
    "    image002.tif\n",
    "    ...\n",
    "    image100.tif\n",
    "\n",
    "image002\n",
    "    image000.tif\n",
    "    image001.tif\n",
    "    image002.tif\n",
    "    ...\n",
    "    image100.tif\n",
    "\n",
    "image003\n",
    "    image000.tif\n",
    "    image001.tif\n",
    "    image002.tif\n",
    "    ...\n",
    "    image100.tif\n",
    "    \n",
    "```\n",
    "\n"
   ]
  },
  {
   "cell_type": "markdown",
   "metadata": {
    "heading_collapsed": true,
    "run_control": {
     "frozen": false,
     "read_only": false
    }
   },
   "source": [
    "## Display the average counts of a ROI from a stack of images ([display_counts_of_region_vs_stack](display_counts_of_region_vs_stack.ipynb))"
   ]
  },
  {
   "cell_type": "markdown",
   "metadata": {
    "hidden": true,
    "run_control": {
     "frozen": false,
     "read_only": false
    }
   },
   "source": [
    "The user selects a folder that contains TIFF or FITS images. A UI will then pop up showing the integrated signal. User can select a ROI and the average counts of this region vs file index, TOF or lambda are displayed. \n",
    "\n",
    "In order to have access to the TOF and lambda axis, a **time spectra** file must be provided, as well as the **distance source detector** and **detector offset**.\n",
    "\n",
    "<img src=\"__docs/display_counts_of_region_vs_stack/display_counts_of_region_vs_stack.png\">"
   ]
  },
  {
   "cell_type": "markdown",
   "metadata": {
    "heading_collapsed": true,
    "run_control": {
     "frozen": false,
     "read_only": false
    }
   },
   "source": [
    "## Display integrated stack of images ([display_integrated_stack_of_images](display_integrated_stack_of_images.ipynb)) "
   ]
  },
  {
   "cell_type": "markdown",
   "metadata": {
    "hidden": true,
    "run_control": {
     "frozen": false,
     "read_only": false
    }
   },
   "source": [
    "Select an input folder that contains FITS files. Integrated signal will then be displayed in the notebook.\n",
    "\n",
    "<img src=\"__docs/display_integrated_stack_of_images/display_integrated_stack_of_images.png\">"
   ]
  },
  {
   "cell_type": "markdown",
   "metadata": {
    "heading_collapsed": true,
    "run_control": {
     "frozen": false,
     "read_only": false
    }
   },
   "source": [
    "## List and export metadata from list of TIFF files ([list_tiff_metadata.ipynb](list_tiff_metadata.ipynb)))"
   ]
  },
  {
   "cell_type": "markdown",
   "metadata": {
    "collapsed": true,
    "hidden": true,
    "run_control": {
     "frozen": false,
     "read_only": false
    }
   },
   "source": [
    "User select a list of TIFF files. Then the list of metadata available will be offered. Once a metadata tag has been selected, the metadata of this tag for all the files selected are displayed. \n",
    "User can also export the metadata as a file\n",
    "\n",
    "For example\n",
    "*16V_05M_LiCl_in_D2O_Sept24_2016_metadata#65000.txt*\n",
    "\n",
    "```\n",
    "#Metadata: 65000\n",
    "20160924_16V_05M_LiCl_in_D2O_24Sep2016_0050_0001.tiff (843575936.9470825,)\n",
    "20160924_16V_05M_LiCl_in_D2O_24Sep2016_0050_0002.tiff (843575991.8615342,)\n",
    "20160924_16V_05M_LiCl_in_D2O_24Sep2016_0050_0003.tiff (843576046.7767457,)\n",
    "20160924_16V_05M_LiCl_in_D2O_24Sep2016_0050_0004.tiff (843576101.6328596,)\n",
    "20160924_16V_05M_LiCl_in_D2O_24Sep2016_0050_0005.tiff (843576156.498244,)\n",
    "20160924_16V_05M_LiCl_in_D2O_24Sep2016_0050_0006.tiff (843576211.3977013,)\n",
    "20160924_16V_05M_LiCl_in_D2O_24Sep2016_0050_0007.tiff (843576266.2620872,)\n",
    "20160924_16V_05M_LiCl_in_D2O_24Sep2016_0050_0008.tiff (843576321.167948,)\n",
    "20160924_16V_05M_LiCl_in_D2O_24Sep2016_0050_0009.tiff (843576376.0257802,)\n",
    "20160924_16V_05M_LiCl_in_D2O_24Sep2016_0050_0010.tiff (843576430.9396727,)\n",
    "```"
   ]
  },
  {
   "cell_type": "markdown",
   "metadata": {
    "heading_collapsed": true,
    "run_control": {
     "frozen": false,
     "read_only": false
    }
   },
   "source": [
    "## Format filename index ([format_filename_index.ipynb](format_filename_index.ipynb)) "
   ]
  },
  {
   "cell_type": "markdown",
   "metadata": {
    "hidden": true,
    "run_control": {
     "frozen": false,
     "read_only": false
    }
   },
   "source": [
    "This notebook correctly formats the file name index of the file selected. This allows the sorting of the file name to works all the time. For example, there are many cases where the images are saved using the following convention\n",
    "\n",
    "**Wrong filename index**\n",
    "\n",
    "```\n",
    "image_1.tif\n",
    "image_2.tif\n",
    "image_3.tif\n",
    "image_4.tif\n",
    "...\n",
    "image_10.tif\n",
    "image_11.tif\n",
    "...\n",
    "image_100.tif\n",
    "```\n",
    "\n",
    "Using this convention, any sorting algorithm will sort them as followed\n",
    "\n",
    "**Wrong sorting**\n",
    "```\n",
    "image_1.tif\n",
    "image_10.tif\n",
    "image_100.tif\n",
    "...\n",
    "```\n",
    "\n",
    "So this notebook will fix this issue by renaming the files\n",
    "\n",
    "**correct filename index**\n",
    "\n",
    "```\n",
    "image_001.tif\n",
    "image_002.tif\n",
    "image_003.tif\n",
    "image_004.tif\n",
    "...\n",
    "image_010.tif\n",
    "image_011.tif\n",
    "...\n",
    "image_100.tif\n",
    "```\n"
   ]
  },
  {
   "cell_type": "markdown",
   "metadata": {
    "heading_collapsed": true,
    "run_control": {
     "frozen": false,
     "read_only": false
    }
   },
   "source": [
    "## File name vs time stamp using .dsc file ([from_dsc_time_info_to_ascii_file_vs_time.ipynb](from_dsc_time_info_to_ascii_file_vs_time.ipynb)) "
   ]
  },
  {
   "cell_type": "markdown",
   "metadata": {
    "hidden": true,
    "run_control": {
     "frozen": false,
     "read_only": false
    }
   },
   "source": [
    "This notebook will use all the *.dsc files from the folder selected to retrieve the time stamp metadata and will create an output ascii file of **file_name vs time_stamp**\n",
    "\n",
    "**INPUT**\n",
    "\n",
    "*folder containing .dsc files*\n",
    "\n",
    "**OUTPUT**\n",
    "\n",
    "filename_vs_timestamp.txt\n",
    "```\n",
    "Filename, acquisition_time(os_format), acquisition_time(user_format), acquisition_duration(s)\n",
    "image_0001_rot_3.tiff, 1488683239.615014 , Sat Mar 04 22:07:19.615013 2017, 0.529768 \n",
    "image_0002_rot_3.tiff, 1488683240.269747 , Sat Mar 04 22:07:20.269746 2017, 0.529931 \n",
    "image_0003_rot_3.tiff, 1488683240.930297 , Sat Mar 04 22:07:20.930297 2017, 0.524531 \n",
    "image_0004_rot_3.tiff, 1488683241.598706 , Sat Mar 04 22:07:21.598706 2017, 0.526961 \n",
    "image_0005_rot_3.tiff, 1488683242.251524 , Sat Mar 04 22:07:22.251523 2017, 0.529326 \n",
    "image_0006_rot_3.tiff, 1488683242.900124 , Sat Mar 04 22:07:22.900124 2017, 0.520301 \n",
    "image_0007_rot_3.tiff, 1488683243.525980 , Sat Mar 04 22:07:23.525979 2017, 0.518442 \n",
    "image_0008_rot_3.tiff, 1488683244.149923 , Sat Mar 04 22:07:24.149923 2017, 0.518517 \n",
    "image_0009_rot_3.tiff, 1488683244.797370 , Sat Mar 04 22:07:24.797369 2017, 0.526273 \n",
    "image_0010_rot_3.tiff, 1488683245.469181 , Sat Mar 04 22:07:25.469180 2017, 0.525207 \n",
    "image_0011_rot_3.tiff, 1488683246.120759 , Sat Mar 04 22:07:26.120758 2017, 0.528812 \n",
    "image_0012_rot_3.tiff, 1488683246.778907 , Sat Mar 04 22:07:26.778906 2017, 0.525858 \n",
    "image_0013_rot_3.tiff, 1488683247.442255 , Sat Mar 04 22:07:27.442255 2017, 0.517722 \n",
    "image_0014_rot_3.tiff, 1488683248.071545 , Sat Mar 04 22:07:28.071544 2017, 0.527950 \n",
    "\n",
    "```"
   ]
  },
  {
   "cell_type": "markdown",
   "metadata": {
    "heading_collapsed": true,
    "run_control": {
     "frozen": false,
     "read_only": false
    }
   },
   "source": [
    "## Merge folders ([merge_folders.ipynb](merge_folders.ipynb))"
   ]
  },
  {
   "cell_type": "markdown",
   "metadata": {
    "hidden": true,
    "run_control": {
     "frozen": false,
     "read_only": false
    }
   },
   "source": [
    "This notebook allows to combine (**add** or **mean**) images from different folders\n",
    "\n",
    "\n",
    "**INPUT**\n",
    "\n",
    "```\n",
    "folder_1\n",
    "   image001.fits\n",
    "   image002.fits\n",
    "   image003.fits\n",
    "   ....\n",
    "   \n",
    "folder_2\n",
    "    image001.fits\n",
    "    image002.fits\n",
    "    image003.fits\n",
    "    ...\n",
    "    \n",
    "...    \n",
    "    \n",
    "```\n",
    "**OUTPUT**\n",
    "\n",
    "```\n",
    "folder_combine\n",
    "    image001.fits\n",
    "    image002.fits\n",
    "    image003.fits\n",
    "    ...\n",
    "```\n",
    "\n"
   ]
  },
  {
   "cell_type": "markdown",
   "metadata": {
    "collapsed": true,
    "heading_collapsed": true,
    "run_control": {
     "frozen": false,
     "read_only": false
    }
   },
   "source": [
    "## Normalization ([normalization.ipynb](normalization.ipynb)) "
   ]
  },
  {
   "cell_type": "markdown",
   "metadata": {
    "hidden": true,
    "run_control": {
     "frozen": false,
     "read_only": false
    }
   },
   "source": [
    "This notebook performs the normalization of a set of images (tiff or fits) by OBs. \n",
    "\n",
    "The steps are:\n",
    " - select your **sample images**\n",
    " - select your **ob images**\n",
    " - all the data will be loaded\n",
    " - preview of the sample and ob\n",
    " - selection of a **background** region in the sample data\n",
    " - normalization is performed\n",
    " - export of the normalized data\n",
    " \n",
    " \n",
    " <img src=\"__docs/normalization/normalization.png\">"
   ]
  },
  {
   "cell_type": "markdown",
   "metadata": {
    "heading_collapsed": true,
    "run_control": {
     "frozen": false,
     "read_only": false
    }
   },
   "source": [
    "## Radial profile ([radial_profile.ipynb](radial_profile.ipynb)) "
   ]
  },
  {
   "cell_type": "markdown",
   "metadata": {
    "hidden": true,
    "run_control": {
     "frozen": false,
     "read_only": false
    }
   },
   "source": [
    "This notebook will perform sectorized (range of angle pre-defined) radial profile over a set of files selected using same settings for all images. To get a better description of the algorithm, check the library documentation [in the github repository](https://github.com/JeanBilheux/SectorizedRadialProfile)\n",
    "\n",
    " <img src=\"__docs/radial_profile/radial_profile.png\">"
   ]
  },
  {
   "cell_type": "markdown",
   "metadata": {
    "run_control": {
     "frozen": false,
     "read_only": false
    }
   },
   "source": [
    "## Resonance Imaging Experiment vs theory ([resonance_imaging_experiment_vs_theory.ipynb](resonance_imaging_experiment_vs_theory.ipynb)) "
   ]
  },
  {
   "cell_type": "markdown",
   "metadata": {
    "run_control": {
     "frozen": false,
     "read_only": false
    }
   },
   "source": [
    "Steps are:\n",
    " - load a stack of images\n",
    " - define your sample\n",
    " \n",
    "=> the average counts of the region vs the stack (index, TOF or lambda) will be displayed\n",
    "compared to the theory signal of a given set of layers."
   ]
  },
  {
   "cell_type": "markdown",
   "metadata": {
    "run_control": {
     "frozen": false,
     "read_only": false
    }
   },
   "source": [
    "<img src=\"__docs/resonance_imaging_experiment_vs_theory/define_sample.png\">"
   ]
  },
  {
   "cell_type": "markdown",
   "metadata": {
    "run_control": {
     "frozen": false,
     "read_only": false
    }
   },
   "source": [
    "<img src=\"__docs/resonance_imaging_experiment_vs_theory/display_counts.png\">"
   ]
  },
  {
   "cell_type": "markdown",
   "metadata": {
    "run_control": {
     "frozen": false,
     "read_only": false
    }
   },
   "source": [
    "## Rotate and Crop images ([rotate_and_crop_images.ipynb](rotate_and_crop_images.ipynb)) "
   ]
  },
  {
   "cell_type": "markdown",
   "metadata": {
    "run_control": {
     "frozen": false,
     "read_only": false
    }
   },
   "source": [
    "Select one or more images, select a crop region, a rotation angle and the program will create a TIFF file(s) of your image(s) cropped and rotated."
   ]
  },
  {
   "cell_type": "markdown",
   "metadata": {},
   "source": [
    "<img src=\"__docs/rotate_and_crop_images/rotate_and_crop_images.png\">"
   ]
  },
  {
   "cell_type": "code",
   "execution_count": null,
   "metadata": {
    "collapsed": true
   },
   "outputs": [],
   "source": []
  }
 ],
 "metadata": {
  "anaconda-cloud": {},
  "kernelspec": {
   "display_name": "Python [default]",
   "language": "python",
   "name": "python3"
  },
  "language_info": {
   "codemirror_mode": {
    "name": "ipython",
    "version": 3
   },
   "file_extension": ".py",
   "mimetype": "text/x-python",
   "name": "python",
   "nbconvert_exporter": "python",
   "pygments_lexer": "ipython3",
   "version": "3.5.3"
  },
  "toc": {
   "colors": {
    "hover_highlight": "#DAA520",
    "running_highlight": "#FF0000",
    "selected_highlight": "#FFD700"
   },
   "moveMenuLeft": true,
   "nav_menu": {
    "height": "156px",
    "width": "252px"
   },
   "navigate_menu": true,
   "number_sections": true,
   "sideBar": true,
   "threshold": 4,
   "toc_cell": false,
   "toc_section_display": "block",
   "toc_window_display": false
  }
 },
 "nbformat": 4,
 "nbformat_minor": 1
}
