{
 "cells": [
  {
   "cell_type": "markdown",
   "metadata": {
    "run_control": {
     "frozen": false,
     "read_only": false
    }
   },
   "source": [
    "# Notebooks "
   ]
  },
  {
   "cell_type": "markdown",
   "metadata": {
    "heading_collapsed": true,
    "run_control": {
     "frozen": false,
     "read_only": false
    }
   },
   "source": [
    "## bin images ([bin_images](bin_images.ipynb)) "
   ]
  },
  {
   "cell_type": "markdown",
   "metadata": {
    "heading_collapsed": true,
    "run_control": {
     "frozen": false,
     "read_only": false
    }
   },
   "source": [
    "## Combine folders ([combine_folders](combine_folders.ipynb))"
   ]
  },
  {
   "cell_type": "markdown",
   "metadata": {
    "hidden": true,
    "run_control": {
     "frozen": false,
     "read_only": false
    }
   },
   "source": [
    "This notebook allows to combine (**add** or **mean**) images from different folders\n",
    "\n",
    "\n",
    "**INPUT**\n",
    "\n",
    "```\n",
    "folder_1\n",
    "   image001.fits\n",
    "   image002.fits\n",
    "   image003.fits\n",
    "   ....\n",
    "   \n",
    "folder_2\n",
    "    image001.fits\n",
    "    image002.fits\n",
    "    image003.fits\n",
    "    ...\n",
    "    \n",
    "...    \n",
    "    \n",
    "```\n",
    "**OUTPUT**\n",
    "\n",
    "```\n",
    "folder_combine\n",
    "    image001.fits\n",
    "    image002.fits\n",
    "    image003.fits\n",
    "    ...\n",
    "```\n",
    "\n",
    "<img src=\"__docs/combine_folders/combine_folders_1.png\">"
   ]
  },
  {
   "cell_type": "markdown",
   "metadata": {
    "hidden": true,
    "run_control": {
     "frozen": false,
     "read_only": false
    }
   },
   "source": [
    "This notebook rebin an image, or a set of images\n",
    "example:\n",
    " - original image is 1024 x 1024\n",
    " rebin by 2 (width and height are now divided by 2)\n",
    " - new image is 512 x 512\n",
    "The algorithm used to rebin is either the sum of the pixels, or the mean value"
   ]
  },
  {
   "cell_type": "markdown",
   "metadata": {
    "heading_collapsed": true,
    "run_control": {
     "frozen": false,
     "read_only": false
    }
   },
   "source": [
    "## Combine Images ([combine_images](combine_images.ipynb)) "
   ]
  },
  {
   "cell_type": "markdown",
   "metadata": {
    "hidden": true,
    "run_control": {
     "frozen": false,
     "read_only": false
    }
   },
   "source": [
    "This notebook allows to combine (**add** or **mean**) the images selected\n",
    "\n",
    "\n",
    "**INPUT**\n",
    "\n",
    "```\n",
    "   image001.fits\n",
    "   image002.fits\n",
    "   image003.fits  \n",
    "```\n",
    "**OUTPUT**\n",
    "\n",
    "```\n",
    "    image001_image002_image003.fits\n",
    "```\n"
   ]
  },
  {
   "cell_type": "markdown",
   "metadata": {
    "heading_collapsed": true,
    "run_control": {
     "frozen": false,
     "read_only": false
    }
   },
   "source": [
    "## Display the average counts of a ROI from a stack of images ([display_counts_of_region_vs_stack](display_counts_of_region_vs_stack.ipynb))"
   ]
  },
  {
   "cell_type": "markdown",
   "metadata": {
    "hidden": true,
    "run_control": {
     "frozen": false,
     "read_only": false
    }
   },
   "source": [
    "The user selects a folder that contains TIFF or FITS images. A UI will then pop up showing the integrated signal. User can select a ROI and the average counts of this region vs file index, TOF or lambda are displayed. \n",
    "\n",
    "In order to have access to the TOF and lambda axis, a **time spectra** file must be provided, as well as the **distance source detector** and **detector offset**.\n",
    "\n",
    "<img src=\"__docs/display_counts_of_region_vs_stack/display_counts_of_region_vs_stack.png\">"
   ]
  },
  {
   "cell_type": "markdown",
   "metadata": {
    "heading_collapsed": true,
    "run_control": {
     "frozen": false,
     "read_only": false
    }
   },
   "source": [
    "## Display and Export Images with Metadata profile ([display_and_export_images_with_metadata_profile](display_and_export_images_with_metadata_profile.ipynb))"
   ]
  },
  {
   "cell_type": "markdown",
   "metadata": {
    "hidden": true,
    "run_control": {
     "frozen": false,
     "read_only": false
    }
   },
   "source": [
    "This notebook displays and save the images with the metadata profile calculated by the notebook [file_name_and_metadata_vs_time_stamp](file_name_and_metadata_vs_time_stamp.ipynb).\n",
    "\n",
    "<img src=\"__docs/display_images_with_metadata_profile_images/preview_1.png\">"
   ]
  },
  {
   "cell_type": "markdown",
   "metadata": {
    "heading_collapsed": true,
    "run_control": {
     "frozen": false,
     "read_only": false
    }
   },
   "source": [
    "## Display Images with timestamps ([display_and_export_images_with_timestamp](display_and_export_images_with_timestamp.ipynb))"
   ]
  },
  {
   "cell_type": "markdown",
   "metadata": {
    "hidden": true,
    "run_control": {
     "frozen": false,
     "read_only": false
    }
   },
   "source": [
    "This notebook will display (and save) the images with the **absolute** or **relative** time stamp.\n",
    "\n",
    "Then you will also have the option to export all the images to create for example a movie out of it.\n",
    "\n",
    "<img src='__docs/display_and_export_images_with_timestamp/preview.png'>"
   ]
  },
  {
   "cell_type": "markdown",
   "metadata": {
    "heading_collapsed": true,
    "run_control": {
     "frozen": false,
     "read_only": false
    }
   },
   "source": [
    "## Display integrated stack of images ([display_integrated_stack_of_images](display_integrated_stack_of_images.ipynb)) "
   ]
  },
  {
   "cell_type": "markdown",
   "metadata": {
    "hidden": true,
    "run_control": {
     "frozen": false,
     "read_only": false
    }
   },
   "source": [
    "Select an input folder that contains FITS files. Integrated signal will then be displayed in the notebook.\n",
    "\n",
    "<img src=\"__docs/display_integrated_stack_of_images/display_integrated_stack_of_images.png\">"
   ]
  },
  {
   "cell_type": "markdown",
   "metadata": {
    "heading_collapsed": true,
    "run_control": {
     "frozen": false,
     "read_only": false
    }
   },
   "source": [
    "## Create File Name vs time stamp ([create_list_of_file_name_vs_time_stamp](create_list_of_file_name_vs_time_stamp.ipynb)) "
   ]
  },
  {
   "cell_type": "markdown",
   "metadata": {
    "hidden": true,
    "run_control": {
     "frozen": false,
     "read_only": false
    }
   },
   "source": [
    "This notebook will create an ascii file of the file_name vs the time_stamp of the file. This file will be\n",
    "used in the following notbooks to give a time definition to each data file.\n",
    "\n",
    "for example:\n",
    "\n",
    "**NAP-13_time_stamp.txt**\n",
    "```\n",
    "#FileName, timeStamps_s, timeOffset_ms\n",
    "20160922_NAP-13-uptake_0000_0016.tiff, 1474583570.0971272, 0\n",
    "20160922_NAP-13-uptake_0000_0017.tiff, 1474583570.1300254, 32.8981876373291\n",
    "20160922_NAP-13-uptake_0000_0018.tiff, 1474583570.1628537, 65.72651863098145\n",
    "20160922_NAP-13-uptake_0000_0019.tiff, 1474583570.1959777, 98.85048866271973\n",
    "20160922_NAP-13-uptake_0000_0020.tiff, 1474583570.2290256, 131.8984031677246\n",
    "20160922_NAP-13-uptake_0000_0021.tiff, 1474583570.261871, 164.74390029907227\n",
    "20160922_NAP-13-uptake_0000_0022.tiff, 1474583570.294688, 197.56078720092773\n",
    "20160922_NAP-13-uptake_0000_0023.tiff, 1474583570.3276916, 230.56435585021973\n",
    "20160922_NAP-13-uptake_0000_0024.tiff, 1474583570.360722, 263.5948657989502\n",
    "20160922_NAP-13-uptake_0000_0025.tiff, 1474583570.3936968, 296.5695858001709\n",
    "```"
   ]
  },
  {
   "cell_type": "markdown",
   "metadata": {
    "run_control": {
     "frozen": false,
     "read_only": false
    }
   },
   "source": [
    "## Create File Name vs Metadata ascii file ([file_name_and_metadata_vs_time_stamp](file_name_and_metadata_vs_time_stamp.ipynb)) "
   ]
  },
  {
   "cell_type": "markdown",
   "metadata": {
    "run_control": {
     "frozen": false,
     "read_only": false
    }
   },
   "source": [
    "This notebook will create an ascii file that list the file_name vs the metadata value.\n",
    "\n",
    "To do so, the user will have to select the **raw images folder**, the the **metadata file**.\n",
    "The program will use the time stamp of the files and metadata to find the best match. An text file will then be produced with the following format\n",
    "\n",
    "output.txt\n",
    "```\n",
    ",file_name,Metadata,time\n",
    "0,Image000_00000.fits,79.9090909090909,1441276190.0\n",
    "1,Image001_00000.fits,148.28571428571428,1441276602.0\n",
    "2,Image002_00000.fits,200.0,1441277010.0\n",
    "3,Image003_00000.fits,254.0952380952381,1441277424.0\n",
    "4,Image004_00464.fits,301.3636363636364,1441277836.0\n",
    "5,Image005_00531.fits,357.57142857142856,1441278254.0\n",
    "6,Image006_01250.fits,409.0,1441278666.0\n",
    "7,Image007_00671.fits,466.2857142857143,1441279078.0\n",
    "8,Image009_00061.fits,580.1818181818181,1441279910.0\n",
    "9,Image010_00071.fits,632.1818181818181,1441280322.0\n",
    "10,Image011_00076.fits,689.7142857142857,1441280738.0\n",
    "11,Image012_00139.fits,749.3333333333334,1441281154.0\n",
    "12,Image013_00170.fits,807.0454545454545,1441281574.0\n",
    "13,Image014_00200.fits,838.4545454545455,1441281980.0\n",
    "```\n",
    "\n",
    "Preview of the metadata vs file_index, and relative time offset will be displayed.\n",
    "\n",
    "<img src=\"__docs/file_name_and_metadata_vs_time_stamp_images/preview1.png\">\n",
    "<img src=\"__docs/file_name_and_metadata_vs_time_stamp_images/preview2.png\">\n"
   ]
  },
  {
   "cell_type": "markdown",
   "metadata": {},
   "source": [
    "## Fix images ([fix_images](fix_images.ipynb)) "
   ]
  },
  {
   "cell_type": "markdown",
   "metadata": {},
   "source": [
    "This notebook will first gives you some statistics about the selected images, such as\n",
    " * number of NaN values\n",
    " * number of inf values\n",
    " * number of negative values\n",
    " \n",
    "Then you will be able to fix it by replacing each of those by either **0** or **NaN**\n",
    "\n",
    "<img src=\"__docs/fix_images/preview.png\">\n"
   ]
  },
  {
   "cell_type": "markdown",
   "metadata": {
    "heading_collapsed": true,
    "run_control": {
     "frozen": false,
     "read_only": false
    }
   },
   "source": [
    "## Format filename index ([format_filename_index](format_filename_index.ipynb)) "
   ]
  },
  {
   "cell_type": "markdown",
   "metadata": {
    "hidden": true,
    "run_control": {
     "frozen": false,
     "read_only": false
    }
   },
   "source": [
    "This notebook correctly formats the file name index of the file selected. This allows the sorting of the file name to works all the time. For example, there are many cases where the images are saved using the following convention\n",
    "\n",
    "**Wrong filename index**\n",
    "\n",
    "```\n",
    "image_1.tif\n",
    "image_2.tif\n",
    "image_3.tif\n",
    "image_4.tif\n",
    "...\n",
    "image_10.tif\n",
    "image_11.tif\n",
    "...\n",
    "image_100.tif\n",
    "```\n",
    "\n",
    "Using this convention, any sorting algorithm will sort them as followed\n",
    "\n",
    "**Wrong sorting**\n",
    "```\n",
    "image_1.tif\n",
    "image_10.tif\n",
    "image_100.tif\n",
    "...\n",
    "```\n",
    "\n",
    "So this notebook will fix this issue by renaming the files\n",
    "\n",
    "**correct filename index**\n",
    "\n",
    "```\n",
    "image_001.tif\n",
    "image_002.tif\n",
    "image_003.tif\n",
    "image_004.tif\n",
    "...\n",
    "image_010.tif\n",
    "image_011.tif\n",
    "...\n",
    "image_100.tif\n",
    "```\n"
   ]
  },
  {
   "cell_type": "markdown",
   "metadata": {
    "heading_collapsed": true,
    "run_control": {
     "frozen": false,
     "read_only": false
    }
   },
   "source": [
    "## File name vs time stamp using .dsc file ([from_dsc_time_info_to_ascii_file_vs_time](from_dsc_time_info_to_ascii_file_vs_time.ipynb)) "
   ]
  },
  {
   "cell_type": "markdown",
   "metadata": {
    "hidden": true,
    "run_control": {
     "frozen": false,
     "read_only": false
    }
   },
   "source": [
    "This notebook will use all the *.dsc files from the folder selected to retrieve the time stamp metadata and will create an output ascii file of **file_name vs time_stamp**\n",
    "\n",
    "**INPUT**\n",
    "\n",
    "*folder containing .dsc files*\n",
    "\n",
    "**OUTPUT**\n",
    "\n",
    "filename_vs_timestamp.txt\n",
    "```\n",
    "Filename, acquisition_time(os_format), acquisition_time(user_format), acquisition_duration(s)\n",
    "image_0001_rot_3.tiff, 1488683239.615014 , Sat Mar 04 22:07:19.615013 2017, 0.529768 \n",
    "image_0002_rot_3.tiff, 1488683240.269747 , Sat Mar 04 22:07:20.269746 2017, 0.529931 \n",
    "image_0003_rot_3.tiff, 1488683240.930297 , Sat Mar 04 22:07:20.930297 2017, 0.524531 \n",
    "image_0004_rot_3.tiff, 1488683241.598706 , Sat Mar 04 22:07:21.598706 2017, 0.526961 \n",
    "image_0005_rot_3.tiff, 1488683242.251524 , Sat Mar 04 22:07:22.251523 2017, 0.529326 \n",
    "image_0006_rot_3.tiff, 1488683242.900124 , Sat Mar 04 22:07:22.900124 2017, 0.520301 \n",
    "image_0007_rot_3.tiff, 1488683243.525980 , Sat Mar 04 22:07:23.525979 2017, 0.518442 \n",
    "image_0008_rot_3.tiff, 1488683244.149923 , Sat Mar 04 22:07:24.149923 2017, 0.518517 \n",
    "image_0009_rot_3.tiff, 1488683244.797370 , Sat Mar 04 22:07:24.797369 2017, 0.526273 \n",
    "image_0010_rot_3.tiff, 1488683245.469181 , Sat Mar 04 22:07:25.469180 2017, 0.525207 \n",
    "image_0011_rot_3.tiff, 1488683246.120759 , Sat Mar 04 22:07:26.120758 2017, 0.528812 \n",
    "image_0012_rot_3.tiff, 1488683246.778907 , Sat Mar 04 22:07:26.778906 2017, 0.525858 \n",
    "image_0013_rot_3.tiff, 1488683247.442255 , Sat Mar 04 22:07:27.442255 2017, 0.517722 \n",
    "image_0014_rot_3.tiff, 1488683248.071545 , Sat Mar 04 22:07:28.071544 2017, 0.527950 \n",
    "\n",
    "```"
   ]
  },
  {
   "cell_type": "markdown",
   "metadata": {
    "heading_collapsed": true,
    "run_control": {
     "frozen": false,
     "read_only": false
    }
   },
   "source": [
    "## List and export metadata from list of TIFF files ([list_tiff_metadata](list_tiff_metadata.ipynb)))"
   ]
  },
  {
   "cell_type": "markdown",
   "metadata": {
    "hidden": true,
    "run_control": {
     "frozen": false,
     "read_only": false
    }
   },
   "source": [
    "User select a list of TIFF files. Then the list of metadata available will be offered. Once a metadata tag has been selected, the metadata of this tag for all the files selected are displayed. \n",
    "User can also export the metadata as a file\n",
    "\n",
    "For example\n",
    "*16V_05M_LiCl_in_D2O_Sept24_2016_metadata#65000.txt*\n",
    "\n",
    "```\n",
    "#Metadata: 65000\n",
    "20160924_16V_05M_LiCl_in_D2O_24Sep2016_0050_0001.tiff (843575936.9470825,)\n",
    "20160924_16V_05M_LiCl_in_D2O_24Sep2016_0050_0002.tiff (843575991.8615342,)\n",
    "20160924_16V_05M_LiCl_in_D2O_24Sep2016_0050_0003.tiff (843576046.7767457,)\n",
    "20160924_16V_05M_LiCl_in_D2O_24Sep2016_0050_0004.tiff (843576101.6328596,)\n",
    "20160924_16V_05M_LiCl_in_D2O_24Sep2016_0050_0005.tiff (843576156.498244,)\n",
    "20160924_16V_05M_LiCl_in_D2O_24Sep2016_0050_0006.tiff (843576211.3977013,)\n",
    "20160924_16V_05M_LiCl_in_D2O_24Sep2016_0050_0007.tiff (843576266.2620872,)\n",
    "20160924_16V_05M_LiCl_in_D2O_24Sep2016_0050_0008.tiff (843576321.167948,)\n",
    "20160924_16V_05M_LiCl_in_D2O_24Sep2016_0050_0009.tiff (843576376.0257802,)\n",
    "20160924_16V_05M_LiCl_in_D2O_24Sep2016_0050_0010.tiff (843576430.9396727,)\n",
    "```"
   ]
  },
  {
   "cell_type": "markdown",
   "metadata": {
    "heading_collapsed": true,
    "run_control": {
     "frozen": false,
     "read_only": false
    }
   },
   "source": [
    "## Normalization ([normalization](normalization.ipynb)) "
   ]
  },
  {
   "cell_type": "markdown",
   "metadata": {
    "hidden": true,
    "run_control": {
     "frozen": false,
     "read_only": false
    }
   },
   "source": [
    "This notebook performs the normalization of a set of images (tiff or fits) by OBs. \n",
    "\n",
    "The steps are:\n",
    " - select your **sample images**\n",
    " - select your **ob images**\n",
    " - select your **df images** (optional)\n",
    " - all the data will be loaded\n",
    " - preview of the sample and ob\n",
    " - selection of a **background** region in the sample data (OPTIONAL)\n",
    " - normalization is performed\n",
    " - export of the normalized data\n",
    " \n",
    " <img src=\"__docs/normalization/roi_selection_tool.png\">"
   ]
  },
  {
   "cell_type": "markdown",
   "metadata": {
    "heading_collapsed": true,
    "run_control": {
     "frozen": false,
     "read_only": false
    }
   },
   "source": [
    "## normalization by first image ([normalization_by_first_image](normalization_by_first_image.ipynb)) "
   ]
  },
  {
   "cell_type": "markdown",
   "metadata": {
    "hidden": true,
    "run_control": {
     "frozen": false,
     "read_only": false
    }
   },
   "source": [
    "This notebook will normalized all the images loaded by dividing their signal by the first image loaded."
   ]
  },
  {
   "cell_type": "markdown",
   "metadata": {
    "heading_collapsed": true,
    "run_control": {
     "frozen": false,
     "read_only": false
    }
   },
   "source": [
    "## Radial profile ([radial_profile](radial_profile.ipynb)) "
   ]
  },
  {
   "cell_type": "markdown",
   "metadata": {
    "hidden": true,
    "run_control": {
     "frozen": false,
     "read_only": false
    }
   },
   "source": [
    "This notebook will perform sectorized (range of angle pre-defined) radial profile over a set of files selected using same settings for all images. To get a better description of the algorithm, check the library documentation [in the github repository](https://github.com/JeanBilheux/SectorizedRadialProfile)\n",
    "\n",
    " <img src=\"__docs/radial_profile/radial_profile.png\">"
   ]
  },
  {
   "cell_type": "markdown",
   "metadata": {
    "heading_collapsed": true,
    "run_control": {
     "frozen": false,
     "read_only": false
    }
   },
   "source": [
    "## Resonance Imaging Experiment vs theory ([resonance_imaging_experiment_vs_theory](resonance_imaging_experiment_vs_theory.ipynb)) "
   ]
  },
  {
   "cell_type": "markdown",
   "metadata": {
    "hidden": true,
    "run_control": {
     "frozen": false,
     "read_only": false
    }
   },
   "source": [
    "Steps are:\n",
    " - load a stack of images\n",
    " - define your sample\n",
    " \n",
    "=> the average counts of the region vs the stack (index, TOF or lambda) will be displayed\n",
    "compared to the theory signal of a given set of layers."
   ]
  },
  {
   "cell_type": "markdown",
   "metadata": {
    "hidden": true,
    "run_control": {
     "frozen": false,
     "read_only": false
    }
   },
   "source": [
    "<img src=\"__docs/resonance_imaging_experiment_vs_theory/define_sample.png\">"
   ]
  },
  {
   "cell_type": "markdown",
   "metadata": {
    "hidden": true,
    "run_control": {
     "frozen": false,
     "read_only": false
    }
   },
   "source": [
    "<img src=\"__docs/resonance_imaging_experiment_vs_theory/display_counts.png\">"
   ]
  },
  {
   "cell_type": "markdown",
   "metadata": {
    "heading_collapsed": true,
    "run_control": {
     "frozen": false,
     "read_only": false
    }
   },
   "source": [
    "## Rotate and Crop images ([rotate_and_crop_images](rotate_and_crop_images.ipynb)) "
   ]
  },
  {
   "cell_type": "markdown",
   "metadata": {
    "hidden": true,
    "run_control": {
     "frozen": false,
     "read_only": false
    }
   },
   "source": [
    "Select one or more images, select a crop region, a rotation angle and the program will create a TIFF file(s) of your image(s) cropped and rotated."
   ]
  },
  {
   "cell_type": "markdown",
   "metadata": {
    "hidden": true,
    "run_control": {
     "frozen": false,
     "read_only": false
    }
   },
   "source": [
    "<img src=\"__docs/rotate_and_crop_images/rotate_and_crop_images.png\">"
   ]
  },
  {
   "cell_type": "markdown",
   "metadata": {
    "heading_collapsed": true,
    "run_control": {
     "frozen": false,
     "read_only": false
    }
   },
   "source": [
    "## Split all the images into various folders according to their name ([deal_files](deal_files.ipynb))"
   ]
  },
  {
   "cell_type": "markdown",
   "metadata": {
    "hidden": true,
    "run_control": {
     "frozen": false,
     "read_only": false
    }
   },
   "source": [
    "This notebook allows to deal (distribute) files (images for exmaple) from a folder into different folders\n",
    "\n",
    "\n",
    "**INPUT**\n",
    "\n",
    "```\n",
    "image001_000.tif\n",
    "image001_001.tif\n",
    "image001_002.tif\n",
    "   ....\n",
    "image001_100.tif\n",
    "image002_000.tif\n",
    "image002_001.tif\n",
    "image002_002.tif\n",
    "   ....\n",
    "image002_100.tif\n",
    "image003_000.tif\n",
    "image003_001.tif\n",
    "image003_002.tif\n",
    "   ....\n",
    "image003_100.tif\n",
    "...    \n",
    "    \n",
    "    \n",
    "```\n",
    "**OUTPUT**\n",
    "\n",
    "```\n",
    "image001\n",
    "    image000.tif\n",
    "    image001.tif\n",
    "    image002.tif\n",
    "    ...\n",
    "    image100.tif\n",
    "\n",
    "image002\n",
    "    image000.tif\n",
    "    image001.tif\n",
    "    image002.tif\n",
    "    ...\n",
    "    image100.tif\n",
    "\n",
    "image003\n",
    "    image000.tif\n",
    "    image001.tif\n",
    "    image002.tif\n",
    "    ...\n",
    "    image100.tif\n",
    "    \n",
    "```\n",
    "\n"
   ]
  },
  {
   "cell_type": "markdown",
   "metadata": {
    "heading_collapsed": true,
    "run_control": {
     "frozen": false,
     "read_only": false
    }
   },
   "source": [
    "# Tutorials "
   ]
  },
  {
   "cell_type": "markdown",
   "metadata": {
    "heading_collapsed": true,
    "hidden": true,
    "run_control": {
     "frozen": false,
     "read_only": false
    }
   },
   "source": [
    "## Make movie from a stack of images ([how_to_create_movie_from_stack_of_images](Tutorials/how_to_create_movie_from_stack_of_images.ipynb))"
   ]
  },
  {
   "cell_type": "markdown",
   "metadata": {
    "hidden": true,
    "run_control": {
     "frozen": false,
     "read_only": false
    }
   },
   "source": [
    "This notebook guides you step by step in creating a movie (*.avi) from a stack of images\n",
    "\n",
    "<img src=\"Tutorials/__docs/from_images_to_movie/preview.png\">"
   ]
  }
 ],
 "metadata": {
  "anaconda-cloud": {},
  "kernelspec": {
   "display_name": "Python 3",
   "language": "python",
   "name": "python3"
  },
  "language_info": {
   "codemirror_mode": {
    "name": "ipython",
    "version": 3
   },
   "file_extension": ".py",
   "mimetype": "text/x-python",
   "name": "python",
   "nbconvert_exporter": "python",
   "pygments_lexer": "ipython3",
   "version": "3.6.2"
  },
  "toc": {
   "colors": {
    "hover_highlight": "#DAA520",
    "running_highlight": "#FF0000",
    "selected_highlight": "#FFD700"
   },
   "moveMenuLeft": true,
   "nav_menu": {
    "height": "156px",
    "width": "252px"
   },
   "navigate_menu": true,
   "number_sections": true,
   "sideBar": true,
   "threshold": 4,
   "toc_cell": false,
   "toc_section_display": "block",
   "toc_window_display": false
  }
 },
 "nbformat": 4,
 "nbformat_minor": 1
}
