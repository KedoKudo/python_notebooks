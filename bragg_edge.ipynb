{
 "cells": [
  {
   "cell_type": "markdown",
   "metadata": {
    "run_control": {
     "frozen": false,
     "read_only": false
    }
   },
   "source": [
    "[![Notebook Tutorial](__code/__all/notebook_tutorial.png)](https://neutronimaging.pages.ornl.gov/en/tutorial/notebooks/bragg_edge)\n",
    "\n",
    "<img src='__docs/__all/notebook_rules.png' />"
   ]
  },
  {
   "cell_type": "code",
   "execution_count": 1,
   "metadata": {
    "run_control": {
     "frozen": false,
     "read_only": false
    }
   },
   "outputs": [],
   "source": [
    "%gui qt"
   ]
  },
  {
   "cell_type": "markdown",
   "metadata": {
    "run_control": {
     "frozen": false,
     "read_only": false
    }
   },
   "source": [
    "# Select Your IPTS "
   ]
  },
  {
   "cell_type": "code",
   "execution_count": 8,
   "metadata": {
    "run_control": {
     "frozen": false,
     "read_only": false
    }
   },
   "outputs": [
    {
     "data": {
      "text/html": [
       "\n",
       "<style type=\"text/css\">\n",
       ".jupyter-widgets select option {font-family: \"Lucida Console\", Monaco, monospace;}\n",
       ".jupyter-widgets select {width: 98%;}\n",
       "div.output_subarea {padding: 0px;}\n",
       "div.output_subarea > div {margin: 0.4em;}\n",
       "</style>\n"
      ],
      "text/plain": [
       "<IPython.core.display.HTML object>"
      ]
     },
     "metadata": {},
     "output_type": "display_data"
    },
    {
     "data": {
      "text/html": [
       "\n",
       "<style type=\"text/css\">\n",
       ".jupyter-widgets select option {font-family: \"Lucida Console\", Monaco, monospace;}\n",
       "div.output_subarea {padding: 0px;}\n",
       "div.output_subarea > div {margin: 0.4em;}\n",
       "</style>\n"
      ],
      "text/plain": [
       "<IPython.core.display.HTML object>"
      ]
     },
     "metadata": {},
     "output_type": "display_data"
    },
    {
     "name": "stdout",
     "output_type": "stream",
     "text": [
      "Warning: QApplication was created before pyqtgraph was imported; there may be problems (to avoid bugs, call QApplication.setGraphicsSystem(\"raster\") before the QApplication is created).\n"
     ]
    },
    {
     "data": {
      "text/html": [
       "\n",
       "                       <style>\n",
       "                       .result_label {\n",
       "                          font-style: bold;\n",
       "                          color: red;\n",
       "                          font-size: 18px;\n",
       "                       }\n",
       "                       </style>\n",
       "                       "
      ],
      "text/plain": [
       "<IPython.core.display.HTML object>"
      ]
     },
     "metadata": {},
     "output_type": "display_data"
    },
    {
     "name": "stdout",
     "output_type": "stream",
     "text": [
      "** Using Debugging Mode! **\n"
     ]
    },
    {
     "data": {
      "application/vnd.jupyter.widget-view+json": {
       "model_id": "4523dcac9ca845d2aff701e30a0cb2e9",
       "version_major": 2,
       "version_minor": 0
      },
      "text/html": [
       "<p>Failed to display Jupyter Widget of type <code>VBox</code>.</p>\n",
       "<p>\n",
       "  If you're reading this message in Jupyter Notebook or JupyterLab, it may mean\n",
       "  that the widgets JavaScript is still loading. If this message persists, it\n",
       "  likely means that the widgets JavaScript library is either not installed or\n",
       "  not enabled. See the <a href=\"https://ipywidgets.readthedocs.io/en/stable/user_install.html\">Jupyter\n",
       "  Widgets Documentation</a> for setup instructions.\n",
       "</p>\n",
       "<p>\n",
       "  If you're reading this message in another notebook frontend (for example, a static\n",
       "  rendering on GitHub or <a href=\"https://nbviewer.jupyter.org/\">NBViewer</a>),\n",
       "  it may mean that your frontend doesn't currently support widgets.\n",
       "</p>\n"
      ],
      "text/plain": [
       "VBox(children=(HBox(children=(Label(value='IPTS-'), Text(value='', layout=Layout(width='10%')), Label(value='DOES NOT EXIST!', layout=Layout(width='20%'), _dom_classes=('result_label',)))), Label(value='OR'), HBox(children=(Label(value='Select Folder', layout=Layout(width='20%')), Select(layout=Layout(height='300px'), options=('BraggEdge', 'Brianne', 'DOE_letters', 'FITSimages', 'IPTS-12534', 'IPTS-13639_resonance_shawn', 'IPTS-14832', 'IPTS-15177-joanna', 'IPTS-16212', 'IPTS-16259', 'IPTS-16475', 'IPTS-16893', 'IPTS-17099', 'IPTS-17685-Siddharth', 'IPTS-17981', 'IPTS-18580', 'IPTS-18806', 'IPTS-18813', 'IPTS-19037', 'IPTS-19213', 'IPTS-19558', 'IPTS-19621-CLOCK', 'IPTS-19626', 'IPTS-19733', 'IPTS-19799', 'IPTS-19921-Charles', 'IPTS-19943-kashif', 'IPTS-20139-Hao-Liu', 'IPTS-20209-TOPAZ', 'IPTS-20444-Regina', 'IPTS-21115-Diapers', 'IPTS-Das-Saikat', 'IPTS-Richard', 'IPTS-raw', 'IPTS_test_normalization', 'IPTS_testing_time_spectra', 'ImagesToRegisterForGian', 'Indu', 'Keita_code', 'Pour_ibeatles_video', 'ResonanceImaging', 'SENSITIVE', 'SarmaGUI', 'SphereCoordinates3D', 'TempData', 'gian', 'iBeatles_debugging', 'shared', 'testing_Ed_algo_water_intake', 'william'), value='BraggEdge'))), Button(button_style='info', description='HELP', style=ButtonStyle())))"
      ]
     },
     "metadata": {},
     "output_type": "display_data"
    },
    {
     "data": {
      "text/html": [
       "<style>\n",
       "\n",
       "/* The following CSS has been adapted from\n",
       "   http://nbviewer.ipython.org/github/ketch/teaching-numerics-with-notebooks/blob/master/Styling_notebooks.ipynb\n",
       "   by Aron Ahmadia and David Ketcheson and has been reused under CC BY 4.0\n",
       "   */\n",
       "\n",
       "/* main background */\n",
       "#site { \n",
       "    background: #888;\n",
       "    color: #red; \n",
       "}\n",
       "\n",
       "div.container {\n",
       "    width: 100% ! important;\n",
       "}\n",
       "\n",
       "div.cell { /* set cell width to about 80 chars */\n",
       "    width: 95%;\n",
       "}\n",
       "\n",
       "div #notebook { /* centre the content */\n",
       "/*    background: #fff; /* white background for content */\n",
       "    background: blue;\n",
       "    width: 100%;\n",
       "    margin: auto;\n",
       "    padding-left: 1em;\n",
       "    padding-right: 1em;\n",
       "    background-image: url(\"tile_background.jpg\");\n",
       "}\n",
       "\n",
       "#notebook li { /* More space between bullet points */\n",
       "    margin-top:0.4em;\n",
       "}\n",
       "\n",
       "/* change background color of running cells */\n",
       "div.cell.code_cell.running {\n",
       "/*    background-color: rgba(164,188,194,.75); */\n",
       "    background-color: green;\n",
       "    border-width: 8px\n",
       "    border-style: solid\n",
       "    border-color: #111;\n",
       "}\n",
       "\n",
       "/* Put a solid color box around each cell and its output, visually linking them together */\n",
       "div.cell.code_cell {\n",
       "    background-color: rgba(164,188,194,.25); /* Continuum L Gray with alpha 0.25 */\n",
       "    border-radius: 10px; /* rounded borders */\n",
       "    padding: 1em;\n",
       "    margin-top: 1em;\n",
       "}\n",
       "\n",
       "div.text_cell_render{\n",
       "\tfont-family: Georgia, Times, 'Times New Roman', serif;\n",
       "    line-height: 110%;\n",
       "    font-size: 105%;\n",
       "    width: 95%;\n",
       "    margin-left: auto;\n",
       "    margin-right: auto;\n",
       "}\n",
       "\n",
       "\n",
       "/* Formatting for header cells */\n",
       ".text_cell_render h1 {\n",
       "\tfont-family: Arial, 'Helvetica Neue', Helvetica, sans-serif;\n",
       "    font-weight: 400;\n",
       "    font-size: 30pt;\n",
       "    line-height: 100%;\n",
       "    color: rgb(37,55,70); /* Continuum Blue*/\n",
       "    margin-bottom: 0.1em;\n",
       "    margin-top: 0.1em;\n",
       "    display: block;\n",
       "}\n",
       ".text_cell_render h2 {\n",
       "\tfont-family: Arial, 'Helvetica Neue', Helvetica, sans-serif;\n",
       "    font-weight: 700;\n",
       "    font-size: 22pt;\n",
       "    line-height: 100%;\n",
       "    color: rgb(37,55,70);\n",
       "    margin-bottom: 0.1em;\n",
       "    margin-top: 0.1em;\n",
       "    display: block;\n",
       "}\n",
       "\n",
       ".text_cell_render h3 {\n",
       "\tfont-family: Arial, 'Helvetica Neue', Helvetica, sans-serif;\n",
       "    margin-top:12px;\n",
       "    margin-bottom: 3px;\n",
       "    font-style: italic;\n",
       "    color: rgb(37, 55, 70);\n",
       "}\n",
       "\n",
       ".text_cell_render h4 {\n",
       "\tfont-family: Arial, 'Helvetica Neue', Helvetica, sans-serif;\n",
       "}\n",
       "\n",
       ".text_cell_render h5 {\n",
       "\tfont-family: Arial, 'Helvetica Neue', Helvetica, sans-serif;\n",
       "    font-weight: 300;\n",
       "    font-size: 14pt;\n",
       "    font-style: italic;\n",
       "    margin-bottom: .1em;\n",
       "    margin-top: 0.1em;\n",
       "    display: block;\n",
       "}\n",
       "\n",
       ".text_cell_render h6 {\n",
       "\tfont-family: Arial, 'Helvetica Neue', Helvetica, sans-serif;\n",
       "    font-weight: 300;\n",
       "    font-size: 10pt;\n",
       "    margin-bottom: 1px;\n",
       "    margin-top: 1px;\n",
       "}\n",
       "\n",
       ".CodeMirror{\n",
       "        font-family: \"PT Mono\", fixed;\n",
       "        font-size: 100%;\n",
       "}\n",
       "\n",
       "#notebook_panel { /* main background */\n",
       "    background-image: url(\"tile_background.jpg\");\n",
       "}\n",
       "\n",
       "\n",
       "\n",
       "\n",
       "</style>\n"
      ],
      "text/plain": [
       "<IPython.core.display.HTML object>"
      ]
     },
     "execution_count": 8,
     "metadata": {},
     "output_type": "execute_result"
    }
   ],
   "source": [
    "from __code import system\n",
    "from __code.bragg_edge import BraggEdge, Interface\n",
    "\n",
    "system.System.select_working_dir(facility='SNS', instrument='SNAP')\n",
    "from __code.__all import custom_style\n",
    "custom_style.style()"
   ]
  },
  {
   "cell_type": "markdown",
   "metadata": {
    "run_control": {
     "frozen": false,
     "read_only": false
    }
   },
   "source": [
    "# Define Experiment Setup"
   ]
  },
  {
   "cell_type": "code",
   "execution_count": 9,
   "metadata": {
    "run_control": {
     "frozen": false,
     "read_only": false
    }
   },
   "outputs": [
    {
     "data": {
      "application/vnd.jupyter.widget-view+json": {
       "model_id": "d57300e37f6044e7826446a0a8ff380e",
       "version_major": 2,
       "version_minor": 0
      },
      "text/html": [
       "<p>Failed to display Jupyter Widget of type <code>VBox</code>.</p>\n",
       "<p>\n",
       "  If you're reading this message in Jupyter Notebook or JupyterLab, it may mean\n",
       "  that the widgets JavaScript is still loading. If this message persists, it\n",
       "  likely means that the widgets JavaScript library is either not installed or\n",
       "  not enabled. See the <a href=\"https://ipywidgets.readthedocs.io/en/stable/user_install.html\">Jupyter\n",
       "  Widgets Documentation</a> for setup instructions.\n",
       "</p>\n",
       "<p>\n",
       "  If you're reading this message in another notebook frontend (for example, a static\n",
       "  rendering on GitHub or <a href=\"https://nbviewer.jupyter.org/\">NBViewer</a>),\n",
       "  it may mean that your frontend doesn't currently support widgets.\n",
       "</p>\n"
      ],
      "text/plain": [
       "VBox(children=(HBox(children=(Label(value='Default directory', layout=Layout(width='15%')), Text(value='/Volumes/my_book_thunderbolt_duo/IPTS/BraggEdge', layout=Layout(width='85%')))), HBox(children=(Label(value='dSD (m)', layout=Layout(width='15%')), Text(value='15.89', layout=Layout(width='20%')))), HBox(children=(Label(value='detector offset (microns)', layout=Layout(width='15%')), Text(value='4200', layout=Layout(width='20%')))), HBox(children=(Label(value='List of elements', layout=Layout(width='15%')), Text(value='Fe', layout=Layout(width='20%')))), HBox(children=(Label(value='Nbr Bragg Edges', layout=Layout(width='15%')), Text(value='8', layout=Layout(width='20%'))))))"
      ]
     },
     "metadata": {},
     "output_type": "display_data"
    }
   ],
   "source": [
    "o_bragg = BraggEdge(working_dir=system.System.get_working_dir())\n",
    "o_bragg.exp_setup()"
   ]
  },
  {
   "cell_type": "markdown",
   "metadata": {
    "run_control": {
     "frozen": false,
     "read_only": false
    }
   },
   "source": [
    "#  Powder Bragg Edges "
   ]
  },
  {
   "cell_type": "code",
   "execution_count": 10,
   "metadata": {
    "run_control": {
     "frozen": false,
     "read_only": false
    }
   },
   "outputs": [
    {
     "name": "stdout",
     "output_type": "stream",
     "text": [
      "config file (/Users/j35/anaconda/envs/py36/lib/python3.6/site-packages/neutronbraggedge/config.cfg) exists? True\n",
      "=============================================\n",
      "Material: Si\n",
      "Lattice : 5.4316Å\n",
      "Crystal Structure: FCC\n",
      "Using local metadata Table: True\n",
      "=============================================\n",
      " h | k | l |\t d (Å)  |\t BraggEdge\n",
      "---------------------------------------------\n",
      " 1 | 1 | 1 |\t 3.13593 |\t 6.27186\n",
      " 2 | 0 | 0 |\t 2.71580 |\t 5.43159\n",
      " 2 | 2 | 0 |\t 1.92036 |\t 3.84071\n",
      " 2 | 2 | 2 |\t 1.56797 |\t 3.13593\n",
      " 3 | 1 | 1 |\t 1.63769 |\t 3.27537\n",
      " 3 | 3 | 1 |\t 1.24609 |\t 2.49218\n",
      " 3 | 3 | 3 |\t 1.04531 |\t 2.09062\n",
      " 4 | 0 | 0 |\t 1.35790 |\t 2.71580\n",
      "=============================================\n",
      "\n"
     ]
    }
   ],
   "source": [
    "o_bragg.list_powder_bragg_edges()"
   ]
  },
  {
   "cell_type": "markdown",
   "metadata": {
    "run_control": {
     "frozen": false,
     "read_only": false
    }
   },
   "source": [
    "# Select Normalized Data Set"
   ]
  },
  {
   "cell_type": "code",
   "execution_count": 5,
   "metadata": {
    "run_control": {
     "frozen": false,
     "read_only": false
    }
   },
   "outputs": [
    {
     "data": {
      "application/vnd.jupyter.widget-view+json": {
       "model_id": "d1ad8a05e71945ef8ada2dad585e38b8",
       "version_major": 2,
       "version_minor": 0
      },
      "text/html": [
       "<p>Failed to display Jupyter Widget of type <code>Button</code>.</p>\n",
       "<p>\n",
       "  If you're reading this message in Jupyter Notebook or JupyterLab, it may mean\n",
       "  that the widgets JavaScript is still loading. If this message persists, it\n",
       "  likely means that the widgets JavaScript library is either not installed or\n",
       "  not enabled. See the <a href=\"https://ipywidgets.readthedocs.io/en/stable/user_install.html\">Jupyter\n",
       "  Widgets Documentation</a> for setup instructions.\n",
       "</p>\n",
       "<p>\n",
       "  If you're reading this message in another notebook frontend (for example, a static\n",
       "  rendering on GitHub or <a href=\"https://nbviewer.jupyter.org/\">NBViewer</a>),\n",
       "  it may mean that your frontend doesn't currently support widgets.\n",
       "</p>\n"
      ],
      "text/plain": [
       "Button(button_style='info', description='HELP', style=ButtonStyle())"
      ]
     },
     "metadata": {},
     "output_type": "display_data"
    },
    {
     "data": {
      "application/vnd.jupyter.widget-view+json": {
       "model_id": "8860084c82dc47ddb7ca023ed8faafcf",
       "version_major": 2,
       "version_minor": 0
      },
      "text/html": [
       "<p>Failed to display Jupyter Widget of type <code>VBox</code>.</p>\n",
       "<p>\n",
       "  If you're reading this message in Jupyter Notebook or JupyterLab, it may mean\n",
       "  that the widgets JavaScript is still loading. If this message persists, it\n",
       "  likely means that the widgets JavaScript library is either not installed or\n",
       "  not enabled. See the <a href=\"https://ipywidgets.readthedocs.io/en/stable/user_install.html\">Jupyter\n",
       "  Widgets Documentation</a> for setup instructions.\n",
       "</p>\n",
       "<p>\n",
       "  If you're reading this message in another notebook frontend (for example, a static\n",
       "  rendering on GitHub or <a href=\"https://nbviewer.jupyter.org/\">NBViewer</a>),\n",
       "  it may mean that your frontend doesn't currently support widgets.\n",
       "</p>\n"
      ],
      "text/plain": [
       "VBox(children=(Label(value='Select Images ...', layout=Layout(width='250px')), VBox(children=(HBox(children=(HBox(children=(Text(value='/Volumes/my_book_thunderbolt_duo/IPTS/iBeatles_debugging', description='Location: ', layout=Layout(width='100%'), placeholder=''), Button(description='Jump', layout=Layout(border='1px solid gray', margin='5px 10px', width='100px'), style=ButtonStyle())), layout=Layout(border='1px solid lightgrey', margin='5px 50px 5px 5px', padding='3px', width='100%')),)), HBox(children=(VBox(children=(HBox(children=(Label(value='Search:'), Text(value='', layout=Layout(width='50%'))), layout=Layout(justify_content='flex-end')), SelectMultiple(description='Select', layout=Layout(height='260px', width='99%'), options=(' .', ' ..', ' .DS_Store            |     Fri Oct  5 14:06:56 2018', ' DATA                 |     Directory', ' Matt_data_set        |     Directory', ' OB                   |     Directory', ' normalized           |     Directory', ' normalized_light     |     Directory'), value=())), layout=Layout(width='80%')), VBox(children=(Button(description='Change directory', layout=Layout(border='1px solid gray', margin='5px 40px'), style=ButtonStyle()), Button(description='Select', layout=Layout(border='1px solid blue', margin='auto 40px 5px'), style=ButtonStyle())))), layout=Layout(border='1px solid lightgrey', margin='5px', padding='10px')))), HTML(value='')))"
      ]
     },
     "metadata": {},
     "output_type": "display_data"
    },
    {
     "data": {
      "application/vnd.jupyter.widget-view+json": {
       "model_id": "f988b74d558b407ba036b8cb89784928",
       "version_major": 2,
       "version_minor": 0
      },
      "text/html": [
       "<p>Failed to display Jupyter Widget of type <code>HBox</code>.</p>\n",
       "<p>\n",
       "  If you're reading this message in Jupyter Notebook or JupyterLab, it may mean\n",
       "  that the widgets JavaScript is still loading. If this message persists, it\n",
       "  likely means that the widgets JavaScript library is either not installed or\n",
       "  not enabled. See the <a href=\"https://ipywidgets.readthedocs.io/en/stable/user_install.html\">Jupyter\n",
       "  Widgets Documentation</a> for setup instructions.\n",
       "</p>\n",
       "<p>\n",
       "  If you're reading this message in another notebook frontend (for example, a static\n",
       "  rendering on GitHub or <a href=\"https://nbviewer.jupyter.org/\">NBViewer</a>),\n",
       "  it may mean that your frontend doesn't currently support widgets.\n",
       "</p>\n"
      ],
      "text/plain": [
       "HBox(children=(Label(value='Loading sample', layout=Layout(width='20%')), IntProgress(value=0, max=32), Label(value='Time remaining:', layout=Layout(width='10%')), Label(value=' >> calculating << ')))"
      ]
     },
     "metadata": {},
     "output_type": "display_data"
    }
   ],
   "source": [
    "o_bragg.select_normalized_data_set()"
   ]
  },
  {
   "cell_type": "markdown",
   "metadata": {
    "run_control": {
     "frozen": false,
     "read_only": false
    }
   },
   "source": [
    "# Select Time Spectra File"
   ]
  },
  {
   "cell_type": "code",
   "execution_count": 6,
   "metadata": {
    "run_control": {
     "frozen": false,
     "read_only": false
    }
   },
   "outputs": [
    {
     "data": {
      "application/vnd.jupyter.widget-view+json": {
       "model_id": "1e62e9526a2b493d9d766a01fe6bd758",
       "version_major": 2,
       "version_minor": 0
      },
      "text/html": [
       "<p>Failed to display Jupyter Widget of type <code>VBox</code>.</p>\n",
       "<p>\n",
       "  If you're reading this message in Jupyter Notebook or JupyterLab, it may mean\n",
       "  that the widgets JavaScript is still loading. If this message persists, it\n",
       "  likely means that the widgets JavaScript library is either not installed or\n",
       "  not enabled. See the <a href=\"https://ipywidgets.readthedocs.io/en/stable/user_install.html\">Jupyter\n",
       "  Widgets Documentation</a> for setup instructions.\n",
       "</p>\n",
       "<p>\n",
       "  If you're reading this message in another notebook frontend (for example, a static\n",
       "  rendering on GitHub or <a href=\"https://nbviewer.jupyter.org/\">NBViewer</a>),\n",
       "  it may mean that your frontend doesn't currently support widgets.\n",
       "</p>\n"
      ],
      "text/plain": [
       "VBox(children=(Label(value='Select Time Spectra File ...', layout=Layout(width='250px')), VBox(children=(HBox(children=(HBox(children=(Text(value='/Volumes/my_book_thunderbolt_duo/IPTS/iBeatles_debugging/normalized_light', description='Location: ', layout=Layout(width='100%'), placeholder=''), Button(description='Jump', layout=Layout(border='1px solid gray', margin='5px 10px', width='100px'), style=ButtonStyle())), layout=Layout(border='1px solid lightgrey', margin='5px 50px 5px 5px', padding='3px', width='100%')),)), HBox(children=(VBox(children=(HBox(children=(Label(value='Search:'), Text(value='', layout=Layout(width='50%')), Dropdown(index=1, layout=Layout(align_self='flex-end', width='15%'), options={'spectra_file': '*_Spectra.txt', 'All': ['*.*']}, value=['*.*'])), layout=Layout(justify_content='flex-end')), Select(description='Select', layout=Layout(height='260px', width='99%'), options=(' .', ' ..', ' DATA_Spectra.txt        |     Fri Oct  5 14:08:00 2018', ' Image019_01263.fits     |     Mon Apr 17 12:37:53 2017', ' Image019_01264.fits     |     Mon Apr 17 12:37:53 2017', ' Image019_01265.fits     |     Mon Apr 17 12:37:53 2017', ' Image019_01266.fits     |     Mon Apr 17 12:37:53 2017', ' Image019_01267.fits     |     Mon Apr 17 12:37:53 2017', ' Image019_01268.fits     |     Mon Apr 17 12:37:53 2017', ' Image019_01269.fits     |     Mon Apr 17 12:37:53 2017', ' Image019_01270.fits     |     Mon Apr 17 12:37:53 2017', ' Image019_01271.fits     |     Mon Apr 17 12:37:53 2017', ' Image019_01272.fits     |     Mon Apr 17 12:37:53 2017', ' Image019_01273.fits     |     Mon Apr 17 12:37:53 2017', ' Image019_01274.fits     |     Mon Apr 17 12:37:53 2017', ' Image019_01275.fits     |     Mon Apr 17 12:37:53 2017', ' Image019_01276.fits     |     Mon Apr 17 12:37:53 2017', ' Image019_01277.fits     |     Mon Apr 17 12:37:53 2017', ' Image019_01278.fits     |     Mon Apr 17 12:37:53 2017', ' Image019_01279.fits     |     Mon Apr 17 12:37:53 2017', ' Image019_01280.fits     |     Mon Apr 17 12:37:53 2017', ' Image019_01281.fits     |     Mon Apr 17 12:37:53 2017', ' Image019_01282.fits     |     Mon Apr 17 12:37:53 2017', ' Image019_01283.fits     |     Mon Apr 17 12:37:53 2017', ' Image019_01284.fits     |     Mon Apr 17 12:37:53 2017', ' Image019_01285.fits     |     Mon Apr 17 12:37:53 2017', ' Image019_01286.fits     |     Mon Apr 17 12:37:53 2017', ' Image019_01287.fits     |     Mon Apr 17 12:37:53 2017', ' Image019_01288.fits     |     Mon Apr 17 12:37:53 2017', ' Image019_01289.fits     |     Mon Apr 17 12:37:53 2017', ' Image019_01290.fits     |     Mon Apr 17 12:37:53 2017', ' Image019_01291.fits     |     Mon Apr 17 12:37:53 2017', ' Image019_01292.fits     |     Mon Apr 17 12:37:53 2017', ' Image019_01293.fits     |     Mon Apr 17 12:37:53 2017', ' Image019_01294.fits     |     Mon Apr 17 12:37:53 2017'), value=' .')), layout=Layout(width='80%')), VBox(children=(Button(description='Change directory', layout=Layout(border='1px solid gray', margin='5px 40px'), style=ButtonStyle()), Button(description='Select', layout=Layout(border='1px solid blue', margin='auto 40px 5px'), style=ButtonStyle())))), layout=Layout(border='1px solid lightgrey', margin='5px', padding='10px')))), HTML(value='')))"
      ]
     },
     "metadata": {},
     "output_type": "display_data"
    }
   ],
   "source": [
    "o_bragg.select_time_spectra_file()"
   ]
  },
  {
   "cell_type": "markdown",
   "metadata": {
    "run_control": {
     "frozen": false,
     "read_only": false
    }
   },
   "source": [
    "# Define Sample "
   ]
  },
  {
   "cell_type": "markdown",
   "metadata": {
    "run_control": {
     "frozen": false,
     "read_only": false
    }
   },
   "source": [
    "## Select how many file to use"
   ]
  },
  {
   "cell_type": "code",
   "execution_count": 7,
   "metadata": {
    "run_control": {
     "frozen": false,
     "read_only": false
    }
   },
   "outputs": [
    {
     "data": {
      "application/vnd.jupyter.widget-view+json": {
       "model_id": "27044efb793e48a2a2b953a24b227502",
       "version_major": 2,
       "version_minor": 0
      },
      "text/html": [
       "<p>Failed to display Jupyter Widget of type <code>VBox</code>.</p>\n",
       "<p>\n",
       "  If you're reading this message in Jupyter Notebook or JupyterLab, it may mean\n",
       "  that the widgets JavaScript is still loading. If this message persists, it\n",
       "  likely means that the widgets JavaScript library is either not installed or\n",
       "  not enabled. See the <a href=\"https://ipywidgets.readthedocs.io/en/stable/user_install.html\">Jupyter\n",
       "  Widgets Documentation</a> for setup instructions.\n",
       "</p>\n",
       "<p>\n",
       "  If you're reading this message in another notebook frontend (for example, a static\n",
       "  rendering on GitHub or <a href=\"https://nbviewer.jupyter.org/\">NBViewer</a>),\n",
       "  it may mean that your frontend doesn't currently support widgets.\n",
       "</p>\n"
      ],
      "text/plain": [
       "VBox(children=(HBox(children=(Label(value='Nbr of images to use:', layout=Layout(width='15')), IntSlider(value=3, layout=Layout(width='50%'), max=32, min=1))), Label(value='(The more you select, the longer it will take to display the preview!)')))"
      ]
     },
     "metadata": {},
     "output_type": "display_data"
    }
   ],
   "source": [
    "o_bragg.how_many_data_to_use_to_select_sample_roi()"
   ]
  },
  {
   "cell_type": "markdown",
   "metadata": {
    "run_control": {
     "frozen": false,
     "read_only": false
    }
   },
   "source": [
    "## Select location of sample on integrated image"
   ]
  },
  {
   "cell_type": "code",
   "execution_count": 8,
   "metadata": {
    "run_control": {
     "frozen": false,
     "read_only": false
    }
   },
   "outputs": [
    {
     "data": {
      "text/html": [
       "<span style=\"font-size: 20px; color:blue\">Check UI that poped up             (maybe hidden behind this browser!)</span>"
      ],
      "text/plain": [
       "<IPython.core.display.HTML object>"
      ]
     },
     "metadata": {},
     "output_type": "display_data"
    },
    {
     "name": "stdout",
     "output_type": "stream",
     "text": [
      "Leaving Parameters Selection UI\n"
     ]
    }
   ],
   "source": [
    "o_bragg.define_sample_roi()\n",
    "o_interface = Interface(data=o_bragg.final_image)\n",
    "o_interface.show()"
   ]
  },
  {
   "cell_type": "markdown",
   "metadata": {
    "run_control": {
     "frozen": false,
     "read_only": false
    }
   },
   "source": [
    "## Extract sample from images "
   ]
  },
  {
   "cell_type": "code",
   "execution_count": 9,
   "metadata": {
    "run_control": {
     "frozen": false,
     "read_only": false
    }
   },
   "outputs": [],
   "source": [
    "o_bragg.calculate_counts_vs_file_index_of_regions_selected(list_roi=o_interface.list_roi)"
   ]
  },
  {
   "cell_type": "code",
   "execution_count": 1,
   "metadata": {
    "run_control": {
     "frozen": false,
     "read_only": false
    }
   },
   "outputs": [
    {
     "name": "stderr",
     "output_type": "stream",
     "text": [
      "IOPub data rate exceeded.\n",
      "The notebook server will temporarily stop sending output\n",
      "to the client in order to avoid crashing it.\n",
      "To change this limit, set the config variable\n",
      "`--NotebookApp.iopub_data_rate_limit`.\n"
     ]
    }
   ],
   "source": [
    "from plotly.offline import plot, init_notebook_mode, iplot\n",
    "init_notebook_mode()\n",
    "import plotly.plotly as py\n",
    "import plotly.graph_objs as go\n",
    "from plotly import tools\n",
    "from ipywidgets.widgets import interact\n",
    "from ipywidgets import widgets\n"
   ]
  },
  {
   "cell_type": "code",
   "execution_count": null,
   "metadata": {
    "collapsed": true
   },
   "outputs": [],
   "source": []
  },
  {
   "cell_type": "code",
   "execution_count": 22,
   "metadata": {
    "run_control": {
     "frozen": false,
     "read_only": false
    },
    "scrolled": false
   },
   "outputs": [
    {
     "data": {
      "application/vnd.plotly.v1+json": {
       "data": [
        {
         "mode": "markers",
         "type": "scatter",
         "x": [
          1.2421896999475917,
          1.244739088762261,
          1.24728847757693,
          1.2498378663915994,
          1.2523872552062687,
          1.254936644020938,
          1.2574860328356072,
          1.2600354216502765,
          1.2625848104649455,
          1.2651341992796148,
          1.267683588094284,
          1.2702329769089535,
          1.2727823657236226,
          1.275331754538292,
          1.2778811433529613,
          1.2804305321676304,
          1.2829799209822996,
          1.2855293097969689,
          1.288078698611638,
          1.2906280874263074,
          1.2931774762409767,
          1.2957268650556462,
          1.2982762538703152,
          1.3008256426849845,
          1.3033750314996537,
          1.3059244203143228,
          1.308473809128992,
          1.3110231979436615,
          1.3135725867583308,
          1.316121975573,
          1.3186713643876693,
          1.3212207532023383
         ],
         "y": [
          0.7227485515360762,
          0.6944340968814294,
          0.6873117857724471,
          0.7053110469196698,
          0.6941520181911344,
          0.6989709224584856,
          0.7104891470944344,
          0.710153620566708,
          0.7059522932321709,
          0.7064624663019379,
          0.7024202709790677,
          0.6979267656737338,
          0.7001807226173629,
          0.7172948308639671,
          0.7330931484203115,
          0.7145704563578286,
          0.7222329692758491,
          0.7021004246502174,
          0.7149183755554882,
          0.7025402934326239,
          0.702035140604128,
          0.6998527696045779,
          0.7082051196106508,
          0.6998012364735773,
          0.7297795030930715,
          0.7020361176768232,
          0.7178337078455739,
          0.7140792458442564,
          0.7149436139949601,
          0.6882773452368746,
          0.723163764773356,
          0.7130637808797032
         ]
        }
       ],
       "layout": {
        "annotations": [
         {
          "arrowhead": 3,
          "ax": 0,
          "ay": -25,
          "font": {
           "color": "rgb(150,50,50)",
           "family": "Arial",
           "size": 16
          },
          "showarrow": true,
          "text": "Fe\n1,1,0",
          "x": 4.053701755186239,
          "y": 1,
          "yref": "paper"
         },
         {
          "arrowhead": 3,
          "ax": 0,
          "ay": -25,
          "font": {
           "color": "rgb(150,50,50)",
           "family": "Arial",
           "size": 16
          },
          "showarrow": true,
          "text": "Fe\n2,0,0",
          "x": 2.8664,
          "y": 1,
          "yref": "paper"
         },
         {
          "arrowhead": 3,
          "ax": 0,
          "ay": -25,
          "font": {
           "color": "rgb(150,50,50)",
           "family": "Arial",
           "size": 16
          },
          "showarrow": true,
          "text": "Fe\n2,1,1",
          "x": 2.340405799571234,
          "y": 1,
          "yref": "paper"
         },
         {
          "arrowhead": 3,
          "ax": 0,
          "ay": -25,
          "font": {
           "color": "rgb(150,50,50)",
           "family": "Arial",
           "size": 16
          },
          "showarrow": true,
          "text": "Fe\n2,2,0",
          "x": 2.0268508775931195,
          "y": 1,
          "yref": "paper"
         },
         {
          "arrowhead": 3,
          "ax": 0,
          "ay": -25,
          "font": {
           "color": "rgb(150,50,50)",
           "family": "Arial",
           "size": 16
          },
          "showarrow": true,
          "text": "Fe\n2,2,2",
          "x": 1.6549168116051434,
          "y": 1,
          "yref": "paper"
         },
         {
          "arrowhead": 3,
          "ax": 0,
          "ay": -25,
          "font": {
           "color": "rgb(150,50,50)",
           "family": "Arial",
           "size": 16
          },
          "showarrow": true,
          "text": "Fe\n3,1,0",
          "x": 1.8128705370213285,
          "y": 1,
          "yref": "paper"
         },
         {
          "arrowhead": 3,
          "ax": 0,
          "ay": -25,
          "font": {
           "color": "rgb(150,50,50)",
           "family": "Arial",
           "size": 16
          },
          "showarrow": true,
          "text": "Fe\n3,2,1",
          "x": 1.5321552476355467,
          "y": 1,
          "yref": "paper"
         },
         {
          "arrowhead": 3,
          "ax": 0,
          "ay": -25,
          "font": {
           "color": "rgb(150,50,50)",
           "family": "Arial",
           "size": 16
          },
          "showarrow": true,
          "text": "Fe\n3,3,0",
          "x": 1.3512339183954134,
          "y": 1,
          "yref": "paper"
         }
        ],
        "height": 500,
        "shapes": [
         {
          "line": {
           "color": "rgb(255, 0, 0)",
           "width": 1
          },
          "type": "line",
          "x0": 4.053701755186239,
          "x1": 4.053701755186239,
          "y0": 0,
          "y1": 1,
          "yref": "paper"
         },
         {
          "line": {
           "color": "rgb(255, 0, 0)",
           "width": 1
          },
          "type": "line",
          "x0": 2.8664,
          "x1": 2.8664,
          "y0": 0,
          "y1": 1,
          "yref": "paper"
         },
         {
          "line": {
           "color": "rgb(255, 0, 0)",
           "width": 1
          },
          "type": "line",
          "x0": 2.340405799571234,
          "x1": 2.340405799571234,
          "y0": 0,
          "y1": 1,
          "yref": "paper"
         },
         {
          "line": {
           "color": "rgb(255, 0, 0)",
           "width": 1
          },
          "type": "line",
          "x0": 2.0268508775931195,
          "x1": 2.0268508775931195,
          "y0": 0,
          "y1": 1,
          "yref": "paper"
         },
         {
          "line": {
           "color": "rgb(255, 0, 0)",
           "width": 1
          },
          "type": "line",
          "x0": 1.6549168116051434,
          "x1": 1.6549168116051434,
          "y0": 0,
          "y1": 1,
          "yref": "paper"
         },
         {
          "line": {
           "color": "rgb(255, 0, 0)",
           "width": 1
          },
          "type": "line",
          "x0": 1.8128705370213285,
          "x1": 1.8128705370213285,
          "y0": 0,
          "y1": 1,
          "yref": "paper"
         },
         {
          "line": {
           "color": "rgb(255, 0, 0)",
           "width": 1
          },
          "type": "line",
          "x0": 1.5321552476355467,
          "x1": 1.5321552476355467,
          "y0": 0,
          "y1": 1,
          "yref": "paper"
         },
         {
          "line": {
           "color": "rgb(255, 0, 0)",
           "width": 1
          },
          "type": "line",
          "x0": 1.3512339183954134,
          "x1": 1.3512339183954134,
          "y0": 0,
          "y1": 1,
          "yref": "paper"
         }
        ],
        "title": "Sum Counts vs TOF",
        "width": "100%",
        "xaxis": {
         "title": "Lambda (Angstroms)"
        },
        "yaxis": {
         "title": "Sum Counts"
        }
       }
      },
      "text/html": [
       "<div id=\"e8a219bd-79b7-4b60-acf3-1eb973149bc5\" style=\"height: 500px; width: 100%;\" class=\"plotly-graph-div\"></div><script type=\"text/javascript\">require([\"plotly\"], function(Plotly) { window.PLOTLYENV=window.PLOTLYENV || {};window.PLOTLYENV.BASE_URL=\"https://plot.ly\";Plotly.newPlot(\"e8a219bd-79b7-4b60-acf3-1eb973149bc5\", [{\"type\": \"scatter\", \"x\": [1.2421896999475917, 1.244739088762261, 1.24728847757693, 1.2498378663915994, 1.2523872552062687, 1.254936644020938, 1.2574860328356072, 1.2600354216502765, 1.2625848104649455, 1.2651341992796148, 1.267683588094284, 1.2702329769089535, 1.2727823657236226, 1.275331754538292, 1.2778811433529613, 1.2804305321676304, 1.2829799209822996, 1.2855293097969689, 1.288078698611638, 1.2906280874263074, 1.2931774762409767, 1.2957268650556462, 1.2982762538703152, 1.3008256426849845, 1.3033750314996537, 1.3059244203143228, 1.308473809128992, 1.3110231979436615, 1.3135725867583308, 1.316121975573, 1.3186713643876693, 1.3212207532023383], \"y\": [0.7227485515360762, 0.6944340968814294, 0.6873117857724471, 0.7053110469196698, 0.6941520181911344, 0.6989709224584856, 0.7104891470944344, 0.710153620566708, 0.7059522932321709, 0.7064624663019379, 0.7024202709790677, 0.6979267656737338, 0.7001807226173629, 0.7172948308639671, 0.7330931484203115, 0.7145704563578286, 0.7222329692758491, 0.7021004246502174, 0.7149183755554882, 0.7025402934326239, 0.702035140604128, 0.6998527696045779, 0.7082051196106508, 0.6998012364735773, 0.7297795030930715, 0.7020361176768232, 0.7178337078455739, 0.7140792458442564, 0.7149436139949601, 0.6882773452368746, 0.723163764773356, 0.7130637808797032], \"mode\": \"markers\"}], {\"width\": \"100%\", \"height\": 500, \"title\": \"Sum Counts vs TOF\", \"xaxis\": {\"title\": \"Lambda (Angstroms)\"}, \"yaxis\": {\"title\": \"Sum Counts\"}, \"shapes\": [{\"type\": \"line\", \"x0\": 4.053701755186239, \"x1\": 4.053701755186239, \"yref\": \"paper\", \"y0\": 0, \"y1\": 1, \"line\": {\"color\": \"rgb(255, 0, 0)\", \"width\": 1}}, {\"type\": \"line\", \"x0\": 2.8664, \"x1\": 2.8664, \"yref\": \"paper\", \"y0\": 0, \"y1\": 1, \"line\": {\"color\": \"rgb(255, 0, 0)\", \"width\": 1}}, {\"type\": \"line\", \"x0\": 2.340405799571234, \"x1\": 2.340405799571234, \"yref\": \"paper\", \"y0\": 0, \"y1\": 1, \"line\": {\"color\": \"rgb(255, 0, 0)\", \"width\": 1}}, {\"type\": \"line\", \"x0\": 2.0268508775931195, \"x1\": 2.0268508775931195, \"yref\": \"paper\", \"y0\": 0, \"y1\": 1, \"line\": {\"color\": \"rgb(255, 0, 0)\", \"width\": 1}}, {\"type\": \"line\", \"x0\": 1.6549168116051434, \"x1\": 1.6549168116051434, \"yref\": \"paper\", \"y0\": 0, \"y1\": 1, \"line\": {\"color\": \"rgb(255, 0, 0)\", \"width\": 1}}, {\"type\": \"line\", \"x0\": 1.8128705370213285, \"x1\": 1.8128705370213285, \"yref\": \"paper\", \"y0\": 0, \"y1\": 1, \"line\": {\"color\": \"rgb(255, 0, 0)\", \"width\": 1}}, {\"type\": \"line\", \"x0\": 1.5321552476355467, \"x1\": 1.5321552476355467, \"yref\": \"paper\", \"y0\": 0, \"y1\": 1, \"line\": {\"color\": \"rgb(255, 0, 0)\", \"width\": 1}}, {\"type\": \"line\", \"x0\": 1.3512339183954134, \"x1\": 1.3512339183954134, \"yref\": \"paper\", \"y0\": 0, \"y1\": 1, \"line\": {\"color\": \"rgb(255, 0, 0)\", \"width\": 1}}], \"annotations\": [{\"x\": 4.053701755186239, \"y\": 1.0, \"text\": \"Fe\\n1,1,0\", \"yref\": \"paper\", \"font\": {\"family\": \"Arial\", \"size\": 16, \"color\": \"rgb(150,50,50)\"}, \"showarrow\": true, \"arrowhead\": 3, \"ax\": 0, \"ay\": -25}, {\"x\": 2.8664, \"y\": 1.0, \"text\": \"Fe\\n2,0,0\", \"yref\": \"paper\", \"font\": {\"family\": \"Arial\", \"size\": 16, \"color\": \"rgb(150,50,50)\"}, \"showarrow\": true, \"arrowhead\": 3, \"ax\": 0, \"ay\": -25}, {\"x\": 2.340405799571234, \"y\": 1.0, \"text\": \"Fe\\n2,1,1\", \"yref\": \"paper\", \"font\": {\"family\": \"Arial\", \"size\": 16, \"color\": \"rgb(150,50,50)\"}, \"showarrow\": true, \"arrowhead\": 3, \"ax\": 0, \"ay\": -25}, {\"x\": 2.0268508775931195, \"y\": 1.0, \"text\": \"Fe\\n2,2,0\", \"yref\": \"paper\", \"font\": {\"family\": \"Arial\", \"size\": 16, \"color\": \"rgb(150,50,50)\"}, \"showarrow\": true, \"arrowhead\": 3, \"ax\": 0, \"ay\": -25}, {\"x\": 1.6549168116051434, \"y\": 1.0, \"text\": \"Fe\\n2,2,2\", \"yref\": \"paper\", \"font\": {\"family\": \"Arial\", \"size\": 16, \"color\": \"rgb(150,50,50)\"}, \"showarrow\": true, \"arrowhead\": 3, \"ax\": 0, \"ay\": -25}, {\"x\": 1.8128705370213285, \"y\": 1.0, \"text\": \"Fe\\n3,1,0\", \"yref\": \"paper\", \"font\": {\"family\": \"Arial\", \"size\": 16, \"color\": \"rgb(150,50,50)\"}, \"showarrow\": true, \"arrowhead\": 3, \"ax\": 0, \"ay\": -25}, {\"x\": 1.5321552476355467, \"y\": 1.0, \"text\": \"Fe\\n3,2,1\", \"yref\": \"paper\", \"font\": {\"family\": \"Arial\", \"size\": 16, \"color\": \"rgb(150,50,50)\"}, \"showarrow\": true, \"arrowhead\": 3, \"ax\": 0, \"ay\": -25}, {\"x\": 1.3512339183954134, \"y\": 1.0, \"text\": \"Fe\\n3,3,0\", \"yref\": \"paper\", \"font\": {\"family\": \"Arial\", \"size\": 16, \"color\": \"rgb(150,50,50)\"}, \"showarrow\": true, \"arrowhead\": 3, \"ax\": 0, \"ay\": -25}]}, {\"showLink\": true, \"linkText\": \"Export to plot.ly\"})});</script>"
      ],
      "text/vnd.plotly.v1+html": [
       "<div id=\"e8a219bd-79b7-4b60-acf3-1eb973149bc5\" style=\"height: 500px; width: 100%;\" class=\"plotly-graph-div\"></div><script type=\"text/javascript\">require([\"plotly\"], function(Plotly) { window.PLOTLYENV=window.PLOTLYENV || {};window.PLOTLYENV.BASE_URL=\"https://plot.ly\";Plotly.newPlot(\"e8a219bd-79b7-4b60-acf3-1eb973149bc5\", [{\"type\": \"scatter\", \"x\": [1.2421896999475917, 1.244739088762261, 1.24728847757693, 1.2498378663915994, 1.2523872552062687, 1.254936644020938, 1.2574860328356072, 1.2600354216502765, 1.2625848104649455, 1.2651341992796148, 1.267683588094284, 1.2702329769089535, 1.2727823657236226, 1.275331754538292, 1.2778811433529613, 1.2804305321676304, 1.2829799209822996, 1.2855293097969689, 1.288078698611638, 1.2906280874263074, 1.2931774762409767, 1.2957268650556462, 1.2982762538703152, 1.3008256426849845, 1.3033750314996537, 1.3059244203143228, 1.308473809128992, 1.3110231979436615, 1.3135725867583308, 1.316121975573, 1.3186713643876693, 1.3212207532023383], \"y\": [0.7227485515360762, 0.6944340968814294, 0.6873117857724471, 0.7053110469196698, 0.6941520181911344, 0.6989709224584856, 0.7104891470944344, 0.710153620566708, 0.7059522932321709, 0.7064624663019379, 0.7024202709790677, 0.6979267656737338, 0.7001807226173629, 0.7172948308639671, 0.7330931484203115, 0.7145704563578286, 0.7222329692758491, 0.7021004246502174, 0.7149183755554882, 0.7025402934326239, 0.702035140604128, 0.6998527696045779, 0.7082051196106508, 0.6998012364735773, 0.7297795030930715, 0.7020361176768232, 0.7178337078455739, 0.7140792458442564, 0.7149436139949601, 0.6882773452368746, 0.723163764773356, 0.7130637808797032], \"mode\": \"markers\"}], {\"width\": \"100%\", \"height\": 500, \"title\": \"Sum Counts vs TOF\", \"xaxis\": {\"title\": \"Lambda (Angstroms)\"}, \"yaxis\": {\"title\": \"Sum Counts\"}, \"shapes\": [{\"type\": \"line\", \"x0\": 4.053701755186239, \"x1\": 4.053701755186239, \"yref\": \"paper\", \"y0\": 0, \"y1\": 1, \"line\": {\"color\": \"rgb(255, 0, 0)\", \"width\": 1}}, {\"type\": \"line\", \"x0\": 2.8664, \"x1\": 2.8664, \"yref\": \"paper\", \"y0\": 0, \"y1\": 1, \"line\": {\"color\": \"rgb(255, 0, 0)\", \"width\": 1}}, {\"type\": \"line\", \"x0\": 2.340405799571234, \"x1\": 2.340405799571234, \"yref\": \"paper\", \"y0\": 0, \"y1\": 1, \"line\": {\"color\": \"rgb(255, 0, 0)\", \"width\": 1}}, {\"type\": \"line\", \"x0\": 2.0268508775931195, \"x1\": 2.0268508775931195, \"yref\": \"paper\", \"y0\": 0, \"y1\": 1, \"line\": {\"color\": \"rgb(255, 0, 0)\", \"width\": 1}}, {\"type\": \"line\", \"x0\": 1.6549168116051434, \"x1\": 1.6549168116051434, \"yref\": \"paper\", \"y0\": 0, \"y1\": 1, \"line\": {\"color\": \"rgb(255, 0, 0)\", \"width\": 1}}, {\"type\": \"line\", \"x0\": 1.8128705370213285, \"x1\": 1.8128705370213285, \"yref\": \"paper\", \"y0\": 0, \"y1\": 1, \"line\": {\"color\": \"rgb(255, 0, 0)\", \"width\": 1}}, {\"type\": \"line\", \"x0\": 1.5321552476355467, \"x1\": 1.5321552476355467, \"yref\": \"paper\", \"y0\": 0, \"y1\": 1, \"line\": {\"color\": \"rgb(255, 0, 0)\", \"width\": 1}}, {\"type\": \"line\", \"x0\": 1.3512339183954134, \"x1\": 1.3512339183954134, \"yref\": \"paper\", \"y0\": 0, \"y1\": 1, \"line\": {\"color\": \"rgb(255, 0, 0)\", \"width\": 1}}], \"annotations\": [{\"x\": 4.053701755186239, \"y\": 1.0, \"text\": \"Fe\\n1,1,0\", \"yref\": \"paper\", \"font\": {\"family\": \"Arial\", \"size\": 16, \"color\": \"rgb(150,50,50)\"}, \"showarrow\": true, \"arrowhead\": 3, \"ax\": 0, \"ay\": -25}, {\"x\": 2.8664, \"y\": 1.0, \"text\": \"Fe\\n2,0,0\", \"yref\": \"paper\", \"font\": {\"family\": \"Arial\", \"size\": 16, \"color\": \"rgb(150,50,50)\"}, \"showarrow\": true, \"arrowhead\": 3, \"ax\": 0, \"ay\": -25}, {\"x\": 2.340405799571234, \"y\": 1.0, \"text\": \"Fe\\n2,1,1\", \"yref\": \"paper\", \"font\": {\"family\": \"Arial\", \"size\": 16, \"color\": \"rgb(150,50,50)\"}, \"showarrow\": true, \"arrowhead\": 3, \"ax\": 0, \"ay\": -25}, {\"x\": 2.0268508775931195, \"y\": 1.0, \"text\": \"Fe\\n2,2,0\", \"yref\": \"paper\", \"font\": {\"family\": \"Arial\", \"size\": 16, \"color\": \"rgb(150,50,50)\"}, \"showarrow\": true, \"arrowhead\": 3, \"ax\": 0, \"ay\": -25}, {\"x\": 1.6549168116051434, \"y\": 1.0, \"text\": \"Fe\\n2,2,2\", \"yref\": \"paper\", \"font\": {\"family\": \"Arial\", \"size\": 16, \"color\": \"rgb(150,50,50)\"}, \"showarrow\": true, \"arrowhead\": 3, \"ax\": 0, \"ay\": -25}, {\"x\": 1.8128705370213285, \"y\": 1.0, \"text\": \"Fe\\n3,1,0\", \"yref\": \"paper\", \"font\": {\"family\": \"Arial\", \"size\": 16, \"color\": \"rgb(150,50,50)\"}, \"showarrow\": true, \"arrowhead\": 3, \"ax\": 0, \"ay\": -25}, {\"x\": 1.5321552476355467, \"y\": 1.0, \"text\": \"Fe\\n3,2,1\", \"yref\": \"paper\", \"font\": {\"family\": \"Arial\", \"size\": 16, \"color\": \"rgb(150,50,50)\"}, \"showarrow\": true, \"arrowhead\": 3, \"ax\": 0, \"ay\": -25}, {\"x\": 1.3512339183954134, \"y\": 1.0, \"text\": \"Fe\\n3,3,0\", \"yref\": \"paper\", \"font\": {\"family\": \"Arial\", \"size\": 16, \"color\": \"rgb(150,50,50)\"}, \"showarrow\": true, \"arrowhead\": 3, \"ax\": 0, \"ay\": -25}]}, {\"showLink\": true, \"linkText\": \"Export to plot.ly\"})});</script>"
      ]
     },
     "metadata": {},
     "output_type": "display_data"
    }
   ],
   "source": [
    "bragg_edges = o_bragg.bragg_edges\n",
    "hkl = o_bragg.hkl\n",
    "lambda_array = o_bragg.lambda_array\n",
    "sum_cropped_data = o_bragg.final_image\n",
    "\n",
    "# format hkl labels\n",
    "_hkl_formated = {}\n",
    "for _material in hkl:\n",
    "    _hkl_string = []\n",
    "    for _hkl in hkl[_material]:\n",
    "        _hkl_s = \",\".join(str(x) for x in _hkl)\n",
    "        _hkl_s = _material + \"\\n\" + _hkl_s\n",
    "        _hkl_string.append(_hkl_s)\n",
    "    _hkl_formated[_material] = _hkl_string\n",
    "    \n",
    "trace = go.Scatter(\n",
    "    x = o_bragg.lambda_array,\n",
    "    y = o_bragg.counts_vs_file_index,\n",
    "    mode = 'markers')\n",
    "\n",
    "layout = go.Layout(\n",
    "    width = \"100%\",\n",
    "    height = 500,\n",
    "    title = \"Sum Counts vs TOF\",\n",
    "    xaxis = dict(\n",
    "        title = \"Lambda (Angstroms)\"\n",
    "                ),\n",
    "    yaxis = dict(\n",
    "        title = \"Sum Counts\"\n",
    "                ),\n",
    "    )\n",
    "\n",
    "max_x = 6\n",
    "y_off = 1\n",
    "\n",
    "for y_index, _material in enumerate(bragg_edges):\n",
    "    for _index, _value in enumerate(bragg_edges[_material]):\n",
    "        if _value > max_x:\n",
    "            continue\n",
    "        bragg_line = {\"type\": \"line\",\n",
    "                    'x0': _value,\n",
    "                    'x1': _value,\n",
    "                     'yref': \"paper\",\n",
    "                     'y0': 0,\n",
    "                     'y1': 1,\n",
    "                     'line': {\n",
    "                        'color': 'rgb(255, 0, 0)',\n",
    "                        'width': 1\n",
    "            }}\n",
    "        layout.shapes.append(bragg_line)\n",
    "        y_off = 1 - 0.25 * y_index\n",
    "    \n",
    "        # add labels to plots\n",
    "        _annot = dict(\n",
    "                    x=_value,\n",
    "                    y= y_off,\n",
    "                    text = _hkl_formated[_material][_index],\n",
    "                    yref=\"paper\",\n",
    "                    font=dict(\n",
    "                        family=\"Arial\",\n",
    "                        size=16,\n",
    "                        color=\"rgb(150,50,50)\"\n",
    "                    ),\n",
    "                    showarrow=True,\n",
    "                    arrowhead=3,\n",
    "                    ax=0,\n",
    "                    ay=-25)\n",
    "                \n",
    "        layout.annotations.append(_annot)\n",
    "        \n",
    "data = [trace]\n",
    "\n",
    "figure = go.Figure(data=data, layout=layout)\n",
    "iplot(figure)\n",
    "\n",
    "# resize = interact(plot_final_image,\n",
    "#         x_left = widgets.FloatSlider(min=lambda_array[0], max=lambda_array[-1], \n",
    "#                                      description = 'Lambda min (Angstroms)',\n",
    "#                                      step=0.01, value=lambda_array[0]),\n",
    "#         x_right = widgets.FloatSlider(min=lambda_array[0], max=lambda_array[-1], \n",
    "#                                       description = 'Lambda max (Angstroms)',\n",
    "#                                       step=0.01, value=lambda_array[-1]),\n",
    "#         y_top = widgets.FloatSlider(min=np.min(sum_cropped_data), max=max(sum_cropped_data),\n",
    "#                                         description = 'Max Counts',\n",
    "#                                        step=0.01, value=np.max(sum_cropped_data)),\n",
    "#         y_bottom = widgets.FloatSlider(min=np.min(sum_cropped_data), max=max(sum_cropped_data),\n",
    "#                                         description = 'Min Counts',\n",
    "#                                        step=0.01, value=np.min(sum_cropped_data)))"
   ]
  },
  {
   "cell_type": "code",
   "execution_count": 7,
   "metadata": {
    "run_control": {
     "frozen": false,
     "read_only": false
    }
   },
   "outputs": [
    {
     "data": {
      "application/vnd.plotly.v1+json": {
       "data": [
        {
         "mode": "markers",
         "type": "scatter",
         "x": [
          0,
          1,
          2,
          3,
          4,
          5,
          6,
          7,
          8,
          9
         ],
         "y": [
          0,
          1,
          2,
          3,
          4,
          5,
          6,
          7,
          8,
          9
         ]
        }
       ],
       "layout": {}
      },
      "text/html": [
       "<div id=\"f2f0571c-085c-4c93-9fe3-fb2d067d2844\" style=\"height: 525px; width: 100%;\" class=\"plotly-graph-div\"></div><script type=\"text/javascript\">require([\"plotly\"], function(Plotly) { window.PLOTLYENV=window.PLOTLYENV || {};window.PLOTLYENV.BASE_URL=\"https://plot.ly\";Plotly.newPlot(\"f2f0571c-085c-4c93-9fe3-fb2d067d2844\", [{\"type\": \"scatter\", \"x\": [0, 1, 2, 3, 4, 5, 6, 7, 8, 9], \"y\": [0, 1, 2, 3, 4, 5, 6, 7, 8, 9], \"mode\": \"markers\"}], {}, {\"showLink\": true, \"linkText\": \"Export to plot.ly\"})});</script>"
      ],
      "text/vnd.plotly.v1+html": [
       "<div id=\"f2f0571c-085c-4c93-9fe3-fb2d067d2844\" style=\"height: 525px; width: 100%;\" class=\"plotly-graph-div\"></div><script type=\"text/javascript\">require([\"plotly\"], function(Plotly) { window.PLOTLYENV=window.PLOTLYENV || {};window.PLOTLYENV.BASE_URL=\"https://plot.ly\";Plotly.newPlot(\"f2f0571c-085c-4c93-9fe3-fb2d067d2844\", [{\"type\": \"scatter\", \"x\": [0, 1, 2, 3, 4, 5, 6, 7, 8, 9], \"y\": [0, 1, 2, 3, 4, 5, 6, 7, 8, 9], \"mode\": \"markers\"}], {}, {\"showLink\": true, \"linkText\": \"Export to plot.ly\"})});</script>"
      ]
     },
     "metadata": {},
     "output_type": "display_data"
    }
   ],
   "source": [
    "trace = trace = go.Scatter(\n",
    "            x = np.arange(10),\n",
    "            y = np.arange(10),\n",
    "            mode = 'markers')\n",
    "data = [trace]\n",
    "figure = go.Figure(data=data)\n",
    "iplot(figure)"
   ]
  },
  {
   "cell_type": "code",
   "execution_count": null,
   "metadata": {
    "collapsed": true
   },
   "outputs": [],
   "source": []
  }
 ],
 "metadata": {
  "kernelspec": {
   "display_name": "Python 3",
   "language": "python",
   "name": "python3"
  },
  "language_info": {
   "codemirror_mode": {
    "name": "ipython",
    "version": 3
   },
   "file_extension": ".py",
   "mimetype": "text/x-python",
   "name": "python",
   "nbconvert_exporter": "python",
   "pygments_lexer": "ipython3",
   "version": "3.6.3"
  },
  "toc": {
   "colors": {
    "hover_highlight": "#DAA520",
    "running_highlight": "#FF0000",
    "selected_highlight": "#FFD700"
   },
   "moveMenuLeft": true,
   "nav_menu": {
    "height": "48px",
    "width": "252px"
   },
   "navigate_menu": true,
   "number_sections": true,
   "sideBar": true,
   "threshold": 4,
   "toc_cell": false,
   "toc_section_display": "block",
   "toc_window_display": false
  }
 },
 "nbformat": 4,
 "nbformat_minor": 2
}
