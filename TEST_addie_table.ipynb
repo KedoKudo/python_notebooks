{
 "cells": [
  {
   "cell_type": "markdown",
   "metadata": {
    "run_control": {
     "frozen": false,
     "read_only": false
    }
   },
   "source": [
    "# Build UI and Import Libraries"
   ]
  },
  {
   "cell_type": "code",
   "execution_count": 1,
   "metadata": {
    "run_control": {
     "frozen": false,
     "read_only": false
    }
   },
   "outputs": [
    {
     "name": "stdout",
     "output_type": "stream",
     "text": [
      "pyuic5 /Volumes/my_book_thunderbolt_duo/git/IPTS/python_notebooks/ui/ui_addie.ui -o /Volumes/my_book_thunderbolt_duo/git/IPTS/python_notebooks/__code/ui_addie.py\n",
      "pyuic5 /Volumes/my_book_thunderbolt_duo/git/IPTS/python_notebooks/ui/ui_addie_save_config.ui -o /Volumes/my_book_thunderbolt_duo/git/IPTS/python_notebooks/__code/ui_addie_save_config.py\n"
     ]
    }
   ],
   "source": [
    "import warnings\n",
    "warnings.filterwarnings('ignore')\n",
    "\n",
    "from __code.ui_builder import UiBuilder\n",
    "o_builder = UiBuilder(ui_name = 'ui_addie.ui')\n",
    "o_builder = UiBuilder(ui_name = 'ui_addie_save_config.ui')\n",
    "\n",
    "from __code.addie import Interface\n",
    "\n",
    "# from __code.__all import custom_style\n",
    "# custom_style.style()"
   ]
  },
  {
   "cell_type": "code",
   "execution_count": 2,
   "metadata": {
    "run_control": {
     "frozen": false,
     "read_only": false
    }
   },
   "outputs": [],
   "source": [
    "%gui qt"
   ]
  },
  {
   "cell_type": "markdown",
   "metadata": {
    "run_control": {
     "frozen": false,
     "read_only": false
    }
   },
   "source": [
    "# Launch UI"
   ]
  },
  {
   "cell_type": "code",
   "execution_count": 3,
   "metadata": {
    "run_control": {
     "frozen": false,
     "read_only": false
    },
    "scrolled": false
   },
   "outputs": [
    {
     "name": "stdout",
     "output_type": "stream",
     "text": [
      "previous config in right click\n",
      "OrderedDict([('adf', OrderedDict([('table', {'h1': {0: {'width': 90, 'visible': True}, 1: {'width': 990, 'visible': True}, 2: {'width': 990, 'visible': True}}, 'h2': {0: {'width': 90, 'visible': True}, 1: {'width': 90, 'visible': True}, 2: {'width': 180, 'visible': True}, 3: {'width': 90, 'visible': True}, 4: {'width': 90, 'visible': True}, 5: {'width': 270, 'visible': True}, 6: {'width': 90, 'visible': True}, 7: {'width': 90, 'visible': True}, 8: {'width': 90, 'visible': True}, 9: {'width': 90, 'visible': True}, 10: {'width': 180, 'visible': True}, 11: {'width': 90, 'visible': True}, 12: {'width': 90, 'visible': True}, 13: {'width': 270, 'visible': True}, 14: {'width': 90, 'visible': True}, 15: {'width': 90, 'visible': True}, 16: {'width': 90, 'visible': True}}, 'h3': {0: {'width': 90, 'visible': True}, 1: {'width': 90, 'visible': True}, 2: {'width': 90, 'visible': True}, 3: {'width': 90, 'visible': True}, 4: {'width': 90, 'visible': True}, 5: {'width': 90, 'visible': True}, 6: {'width': 90, 'visible': True}, 7: {'width': 90, 'visible': True}, 8: {'width': 90, 'visible': True}, 9: {'width': 90, 'visible': True}, 10: {'width': 90, 'visible': True}, 11: {'width': 90, 'visible': True}, 12: {'width': 90, 'visible': True}, 13: {'width': 90, 'visible': True}, 14: {'width': 90, 'visible': True}, 15: {'width': 90, 'visible': True}, 16: {'width': 90, 'visible': True}, 17: {'width': 90, 'visible': True}, 18: {'width': 90, 'visible': True}, 19: {'width': 90, 'visible': True}, 20: {'width': 90, 'visible': True}, 21: {'width': 90, 'visible': True}, 22: {'width': 90, 'visible': True}}}), ('active', False), ('activet', False)])), ('qqqqqq', OrderedDict([('table', {'h1': {0: {'width': 90, 'visible': True}, 1: {'width': 990, 'visible': True}, 2: {'width': 990, 'visible': True}}, 'h2': {0: {'width': 90, 'visible': True}, 1: {'width': 90, 'visible': True}, 2: {'width': 180, 'visible': True}, 3: {'width': 90, 'visible': True}, 4: {'width': 90, 'visible': True}, 5: {'width': 270, 'visible': True}, 6: {'width': 90, 'visible': True}, 7: {'width': 90, 'visible': True}, 8: {'width': 90, 'visible': True}, 9: {'width': 90, 'visible': True}, 10: {'width': 180, 'visible': True}, 11: {'width': 90, 'visible': True}, 12: {'width': 90, 'visible': True}, 13: {'width': 270, 'visible': True}, 14: {'width': 90, 'visible': True}, 15: {'width': 90, 'visible': True}, 16: {'width': 90, 'visible': True}}, 'h3': {0: {'width': 90, 'visible': True}, 1: {'width': 90, 'visible': True}, 2: {'width': 90, 'visible': True}, 3: {'width': 90, 'visible': True}, 4: {'width': 90, 'visible': True}, 5: {'width': 90, 'visible': True}, 6: {'width': 90, 'visible': True}, 7: {'width': 90, 'visible': True}, 8: {'width': 90, 'visible': True}, 9: {'width': 90, 'visible': True}, 10: {'width': 90, 'visible': True}, 11: {'width': 90, 'visible': True}, 12: {'width': 90, 'visible': True}, 13: {'width': 90, 'visible': True}, 14: {'width': 90, 'visible': True}, 15: {'width': 90, 'visible': True}, 16: {'width': 90, 'visible': True}, 17: {'width': 90, 'visible': True}, 18: {'width': 90, 'visible': True}, 19: {'width': 90, 'visible': True}, 20: {'width': 90, 'visible': True}, 21: {'width': 90, 'visible': True}, 22: {'width': 90, 'visible': True}}}), ('active', False)])), ('eeee', OrderedDict([('table', {'h1': {0: {'width': 90, 'visible': True}, 1: {'width': 990, 'visible': True}, 2: {'width': 990, 'visible': True}}, 'h2': {0: {'width': 90, 'visible': True}, 1: {'width': 90, 'visible': True}, 2: {'width': 180, 'visible': True}, 3: {'width': 90, 'visible': True}, 4: {'width': 90, 'visible': True}, 5: {'width': 270, 'visible': True}, 6: {'width': 90, 'visible': True}, 7: {'width': 90, 'visible': True}, 8: {'width': 90, 'visible': True}, 9: {'width': 90, 'visible': True}, 10: {'width': 180, 'visible': True}, 11: {'width': 90, 'visible': True}, 12: {'width': 90, 'visible': True}, 13: {'width': 270, 'visible': True}, 14: {'width': 90, 'visible': True}, 15: {'width': 90, 'visible': True}, 16: {'width': 90, 'visible': True}}, 'h3': {0: {'width': 90, 'visible': True}, 1: {'width': 90, 'visible': True}, 2: {'width': 90, 'visible': True}, 3: {'width': 90, 'visible': True}, 4: {'width': 90, 'visible': True}, 5: {'width': 90, 'visible': True}, 6: {'width': 90, 'visible': True}, 7: {'width': 90, 'visible': True}, 8: {'width': 90, 'visible': True}, 9: {'width': 90, 'visible': True}, 10: {'width': 90, 'visible': True}, 11: {'width': 90, 'visible': True}, 12: {'width': 90, 'visible': True}, 13: {'width': 90, 'visible': True}, 14: {'width': 90, 'visible': True}, 15: {'width': 90, 'visible': True}, 16: {'width': 90, 'visible': True}, 17: {'width': 90, 'visible': True}, 18: {'width': 90, 'visible': True}, 19: {'width': 90, 'visible': True}, 20: {'width': 90, 'visible': True}, 21: {'width': 90, 'visible': True}, 22: {'width': 90, 'visible': True}}}), ('active', True)]))])\n",
      "signal # 0\n"
     ]
    }
   ],
   "source": [
    "o_interface = Interface()\n",
    "o_interface.show()"
   ]
  },
  {
   "cell_type": "code",
   "execution_count": null,
   "metadata": {},
   "outputs": [],
   "source": []
  }
 ],
 "metadata": {
  "anaconda-cloud": {},
  "kernelspec": {
   "display_name": "Python 3",
   "language": "python",
   "name": "python3"
  },
  "language_info": {
   "codemirror_mode": {
    "name": "ipython",
    "version": 3
   },
   "file_extension": ".py",
   "mimetype": "text/x-python",
   "name": "python",
   "nbconvert_exporter": "python",
   "pygments_lexer": "ipython3",
   "version": "3.7.0"
  },
  "toc": {
   "colors": {
    "hover_highlight": "#DAA520",
    "running_highlight": "#FF0000",
    "selected_highlight": "#FFD700"
   },
   "moveMenuLeft": true,
   "nav_menu": {
    "height": "12px",
    "width": "252px"
   },
   "navigate_menu": true,
   "number_sections": true,
   "sideBar": true,
   "threshold": 4,
   "toc_cell": false,
   "toc_section_display": "block",
   "toc_window_display": false
  }
 },
 "nbformat": 4,
 "nbformat_minor": 1
}
