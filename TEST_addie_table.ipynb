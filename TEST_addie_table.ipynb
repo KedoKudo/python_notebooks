{
 "cells": [
  {
   "cell_type": "markdown",
   "metadata": {
    "run_control": {
     "frozen": false,
     "read_only": false
    }
   },
   "source": [
    "# Build UI and Import Libraries"
   ]
  },
  {
   "cell_type": "code",
   "execution_count": 1,
   "metadata": {
    "run_control": {
     "frozen": false,
     "read_only": false
    }
   },
   "outputs": [
    {
     "name": "stdout",
     "output_type": "stream",
     "text": [
      "pyuic5 /Volumes/my_book_thunderbolt_duo/git/IPTS/python_notebooks/ui/ui_addie.ui -o /Volumes/my_book_thunderbolt_duo/git/IPTS/python_notebooks/__code/ui_addie.py\n"
     ]
    }
   ],
   "source": [
    "import warnings\n",
    "warnings.filterwarnings('ignore')\n",
    "\n",
    "from __code.ui_builder import UiBuilder\n",
    "o_builder = UiBuilder(ui_name = 'ui_addie.ui')\n",
    "\n",
    "from __code.addie import Interface\n",
    "\n",
    "# from __code.__all import custom_style\n",
    "# custom_style.style()"
   ]
  },
  {
   "cell_type": "code",
   "execution_count": 2,
   "metadata": {
    "run_control": {
     "frozen": false,
     "read_only": false
    }
   },
   "outputs": [],
   "source": [
    "%gui qt"
   ]
  },
  {
   "cell_type": "markdown",
   "metadata": {
    "run_control": {
     "frozen": false,
     "read_only": false
    }
   },
   "source": [
    "# Launch UI"
   ]
  },
  {
   "cell_type": "code",
   "execution_count": 3,
   "metadata": {
    "run_control": {
     "frozen": false,
     "read_only": false
    }
   },
   "outputs": [
    {
     "data": {
      "text/html": [
       "<span style=\"font-size: 20px; color:blue\">Check UI that poped up             (maybe hidden behind this browser!)</span>"
      ],
      "text/plain": [
       "<IPython.core.display.HTML object>"
      ]
     },
     "metadata": {},
     "output_type": "display_data"
    },
    {
     "name": "stdout",
     "output_type": "stream",
     "text": [
      "name of item is: sample_geometry\n",
      "{'h1': [],\n",
      " 'h2': [5],\n",
      " 'h3': [6, 7, 8],\n",
      " 'list_parent_ui': [<PyQt5.QtWidgets.QTreeWidgetItem object at 0x117934ee8>],\n",
      " 'list_tree_ui': [<PyQt5.QtWidgets.QTreeWidgetItem object at 0x1179593a8>,\n",
      "                  <PyQt5.QtWidgets.QTreeWidgetItem object at 0x117959438>,\n",
      "                  <PyQt5.QtWidgets.QTreeWidgetItem object at 0x1179594c8>,\n",
      "                  <PyQt5.QtWidgets.QTreeWidgetItem object at 0x117959318>]}\n",
      "name of item is: sample\n",
      "{'h1': [1],\n",
      " 'h2': [1, 2, 3, 4, 5, 6],\n",
      " 'h3': [1, 2, 3, 4, 5, 6, 7, 8, 9, 10, 11],\n",
      " 'list_parent_ui': [],\n",
      " 'list_tree_ui': [<PyQt5.QtWidgets.QTreeWidgetItem object at 0x117934f78>,\n",
      "                  <PyQt5.QtWidgets.QTreeWidgetItem object at 0x117959048>,\n",
      "                  <PyQt5.QtWidgets.QTreeWidgetItem object at 0x1179590d8>,\n",
      "                  <PyQt5.QtWidgets.QTreeWidgetItem object at 0x117959168>,\n",
      "                  <PyQt5.QtWidgets.QTreeWidgetItem object at 0x1179591f8>,\n",
      "                  <PyQt5.QtWidgets.QTreeWidgetItem object at 0x117959288>,\n",
      "                  <PyQt5.QtWidgets.QTreeWidgetItem object at 0x117959318>,\n",
      "                  <PyQt5.QtWidgets.QTreeWidgetItem object at 0x1179593a8>,\n",
      "                  <PyQt5.QtWidgets.QTreeWidgetItem object at 0x117959438>,\n",
      "                  <PyQt5.QtWidgets.QTreeWidgetItem object at 0x1179594c8>,\n",
      "                  <PyQt5.QtWidgets.QTreeWidgetItem object at 0x117959558>,\n",
      "                  <PyQt5.QtWidgets.QTreeWidgetItem object at 0x1179595e8>,\n",
      "                  <PyQt5.QtWidgets.QTreeWidgetItem object at 0x117959678>]}\n",
      "name of item is: sample_geometry_shape\n",
      "{'h1': [],\n",
      " 'h2': [],\n",
      " 'h3': [6],\n",
      " 'list_parent_ui': [<PyQt5.QtWidgets.QTreeWidgetItem object at 0x117934ee8>,\n",
      "                    <PyQt5.QtWidgets.QTreeWidgetItem object at 0x117959318>],\n",
      " 'list_tree_ui': []}\n",
      "name of item is: sample_background_background\n",
      "{'h1': [],\n",
      " 'h2': [],\n",
      " 'h3': [3],\n",
      " 'list_parent_ui': [<PyQt5.QtWidgets.QTreeWidgetItem object at 0x117934ee8>,\n",
      "                    <PyQt5.QtWidgets.QTreeWidgetItem object at 0x117959048>],\n",
      " 'list_tree_ui': []}\n",
      "name of item is: sample_background_runs\n",
      "{'h1': [],\n",
      " 'h2': [],\n",
      " 'h3': [2],\n",
      " 'list_parent_ui': [<PyQt5.QtWidgets.QTreeWidgetItem object at 0x117934ee8>,\n",
      "                    <PyQt5.QtWidgets.QTreeWidgetItem object at 0x117959048>],\n",
      " 'list_tree_ui': []}\n",
      "name of item is: sample_background_runs\n",
      "{'h1': [],\n",
      " 'h2': [],\n",
      " 'h3': [2],\n",
      " 'list_parent_ui': [<PyQt5.QtWidgets.QTreeWidgetItem object at 0x117934ee8>,\n",
      "                    <PyQt5.QtWidgets.QTreeWidgetItem object at 0x117959048>],\n",
      " 'list_tree_ui': []}\n",
      "name of item is: sample_background_background\n",
      "{'h1': [],\n",
      " 'h2': [],\n",
      " 'h3': [3],\n",
      " 'list_parent_ui': [<PyQt5.QtWidgets.QTreeWidgetItem object at 0x117934ee8>,\n",
      "                    <PyQt5.QtWidgets.QTreeWidgetItem object at 0x117959048>],\n",
      " 'list_tree_ui': []}\n",
      "Leaving Parameters Selection UI\n"
     ]
    }
   ],
   "source": [
    "o_interface = Interface()\n",
    "o_interface.show()"
   ]
  },
  {
   "cell_type": "code",
   "execution_count": null,
   "metadata": {
    "run_control": {
     "frozen": false,
     "read_only": false
    }
   },
   "outputs": [],
   "source": []
  },
  {
   "cell_type": "code",
   "execution_count": null,
   "metadata": {
    "run_control": {
     "frozen": false,
     "read_only": false
    }
   },
   "outputs": [],
   "source": []
  }
 ],
 "metadata": {
  "anaconda-cloud": {},
  "kernelspec": {
   "display_name": "Python 3",
   "language": "python",
   "name": "python3"
  },
  "language_info": {
   "codemirror_mode": {
    "name": "ipython",
    "version": 3
   },
   "file_extension": ".py",
   "mimetype": "text/x-python",
   "name": "python",
   "nbconvert_exporter": "python",
   "pygments_lexer": "ipython3",
   "version": "3.6.3"
  },
  "toc": {
   "colors": {
    "hover_highlight": "#DAA520",
    "running_highlight": "#FF0000",
    "selected_highlight": "#FFD700"
   },
   "moveMenuLeft": true,
   "nav_menu": {
    "height": "12px",
    "width": "252px"
   },
   "navigate_menu": true,
   "number_sections": true,
   "sideBar": true,
   "threshold": 4,
   "toc_cell": false,
   "toc_section_display": "block",
   "toc_window_display": false
  }
 },
 "nbformat": 4,
 "nbformat_minor": 1
}
