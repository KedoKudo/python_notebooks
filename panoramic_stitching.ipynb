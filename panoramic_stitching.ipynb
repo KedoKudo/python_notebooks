{
 "cells": [
  {
   "cell_type": "markdown",
   "metadata": {},
   "source": [
    "[![Notebook Tutorial](__code/__all/notebook_tutorial.png)](https://neutronimaging.pages.ornl.gov/en/tutorial/notebooks/panoramic_stitching)\n",
    "\n",
    "<img src='__docs/__all/notebook_rules.png' />"
   ]
  },
  {
   "cell_type": "markdown",
   "metadata": {
    "run_control": {
     "frozen": false,
     "read_only": false
    }
   },
   "source": [
    "# Select Your IPTS"
   ]
  },
  {
   "cell_type": "code",
   "execution_count": null,
   "metadata": {
    "run_control": {
     "frozen": false,
     "read_only": false
    }
   },
   "outputs": [],
   "source": [
    "import warnings\n",
    "warnings.filterwarnings('ignore')\n",
    "\n",
    "from __code.ui_builder import UiBuilder\n",
    "o_builder = UiBuilder(ui_name = 'ui_panoramic_stitching.ui')\n",
    "\n",
    "from __code.panoramic_stitching import Interface, InterfaceHandler\n",
    "\n",
    "from __code import system\n",
    "system.System.select_working_dir()\n",
    "from __code.__all import custom_style\n",
    "custom_style.style()"
   ]
  },
  {
   "cell_type": "code",
   "execution_count": null,
   "metadata": {
    "run_control": {
     "frozen": false,
     "read_only": false
    }
   },
   "outputs": [],
   "source": [
    "%gui qt"
   ]
  },
  {
   "cell_type": "markdown",
   "metadata": {
    "run_control": {
     "frozen": false,
     "read_only": false
    }
   },
   "source": [
    "# Select Images"
   ]
  },
  {
   "cell_type": "code",
   "execution_count": null,
   "metadata": {
    "run_control": {
     "frozen": false,
     "read_only": false
    }
   },
   "outputs": [],
   "source": [
    "o_template = InterfaceHandler(working_dir=system.System.get_working_dir())\n",
    "o_template.select_images(instruction='Select tiff or Fits Images ...')"
   ]
  },
  {
   "cell_type": "markdown",
   "metadata": {
    "run_control": {
     "frozen": false,
     "read_only": false
    }
   },
   "source": [
    "# Display Images"
   ]
  },
  {
   "cell_type": "code",
   "execution_count": null,
   "metadata": {
    "run_control": {
     "frozen": false,
     "read_only": false
    }
   },
   "outputs": [],
   "source": [
    "o_template.load()\n",
    "o_interface = Interface(o_norm=o_template.o_norm)\n",
    "o_interface.show()"
   ]
  },
  {
   "cell_type": "markdown",
   "metadata": {
    "run_control": {
     "frozen": false,
     "read_only": false
    }
   },
   "source": [
    "# FOR DEBUGGING"
   ]
  },
  {
   "cell_type": "code",
   "execution_count": 1,
   "metadata": {},
   "outputs": [
    {
     "name": "stdout",
     "output_type": "stream",
     "text": [
      "pyuic5 /Users/j35/git/python_notebooks/ui/ui_panoramic_stitching.ui -o /Users/j35/git/python_notebooks/__code/ui_panoramic_stitching.py\n"
     ]
    },
    {
     "data": {
      "text/html": [
       "\n",
       "<style type=\"text/css\">\n",
       ".jupyter-widgets select option {font-family: \"Lucida Console\", Monaco, monospace;}\n",
       ".jupyter-widgets select {width: 98%;}\n",
       "div.output_subarea {padding: 0px;}\n",
       "div.output_subarea > div {margin: 0.4em;}\n",
       "</style>\n"
      ],
      "text/plain": [
       "<IPython.core.display.HTML object>"
      ]
     },
     "metadata": {},
     "output_type": "display_data"
    },
    {
     "data": {
      "application/vnd.jupyter.widget-view+json": {
       "model_id": "",
       "version_major": 2,
       "version_minor": 0
      },
      "text/plain": [
       "HBox(children=(Label(value='Loading sample', layout=Layout(width='20%')), IntProgress(value=0, max=4), Label(v…"
      ]
     },
     "metadata": {},
     "output_type": "display_data"
    }
   ],
   "source": [
    "from __code.ui_builder import UiBuilder\n",
    "o_builder = UiBuilder(ui_name = 'ui_panoramic_stitching.ui')\n",
    "\n",
    "import glob\n",
    "from NeuNorm.normalization import Normalization\n",
    "from __code.panoramic_stitching import Interface, InterfaceHandler\n",
    "\n",
    "list_of_images = glob.glob(\"/Users/j35/IPTS/IPTS-21632/4_images_to_stitch/*.tiff\")\n",
    "# list_of_images = glob.glob(\"/Users/j35/IPTS/IPTS-21632/fake_data/*.tiff\")\n",
    "list_of_images.sort()\n",
    "o_norm = Normalization()\n",
    "o_norm.load(file=list_of_images, notebook=True)\n",
    "\n",
    "from __code import system\n",
    "# system.System.select_working_dir()\n",
    "\n",
    "o_template = InterfaceHandler()\n",
    "o_template.o_norm = o_norm\n",
    "\n",
    "configuration_roi = {}"
   ]
  },
  {
   "cell_type": "code",
   "execution_count": 2,
   "metadata": {},
   "outputs": [],
   "source": [
    "%gui qt"
   ]
  },
  {
   "cell_type": "code",
   "execution_count": 3,
   "metadata": {},
   "outputs": [
    {
     "data": {
      "text/html": [
       "<span style=\"font-size: 20px; color:blue\">Check UI that poped up             (maybe hidden behind this browser!)</span>"
      ],
      "text/plain": [
       "<IPython.core.display.HTML object>"
      ]
     },
     "metadata": {},
     "output_type": "display_data"
    },
    {
     "name": "stderr",
     "output_type": "stream",
     "text": [
      "//miniconda3/envs/py36/lib/python3.6/site-packages/pyqtgraph/imageview/ImageView.py:588: FutureWarning: Using a non-tuple sequence for multidimensional indexing is deprecated; use `arr[tuple(seq)]` instead of `arr[seq]`. In the future this will be interpreted as an array index, `arr[np.array(seq)]`, which will result either in an error or a different result.\n",
      "  data = data[sl]\n"
     ]
    }
   ],
   "source": [
    "o_interface = Interface(o_norm=o_template.o_norm, configuration_roi=configuration_roi)\n",
    "o_interface.show()"
   ]
  },
  {
   "cell_type": "code",
   "execution_count": null,
   "metadata": {},
   "outputs": [],
   "source": []
  },
  {
   "cell_type": "code",
   "execution_count": null,
   "metadata": {},
   "outputs": [],
   "source": []
  }
 ],
 "metadata": {
  "anaconda-cloud": {},
  "kernelspec": {
   "display_name": "Python 3",
   "language": "python",
   "name": "python3"
  },
  "language_info": {
   "codemirror_mode": {
    "name": "ipython",
    "version": 3
   },
   "file_extension": ".py",
   "mimetype": "text/x-python",
   "name": "python",
   "nbconvert_exporter": "python",
   "pygments_lexer": "ipython3",
   "version": "3.6.9"
  },
  "toc": {
   "colors": {
    "hover_highlight": "#DAA520",
    "running_highlight": "#FF0000",
    "selected_highlight": "#FFD700"
   },
   "moveMenuLeft": true,
   "nav_menu": {
    "height": "12px",
    "width": "252px"
   },
   "navigate_menu": true,
   "number_sections": true,
   "sideBar": true,
   "threshold": 4,
   "toc_cell": false,
   "toc_section_display": "block",
   "toc_window_display": false
  }
 },
 "nbformat": 4,
 "nbformat_minor": 1
}
