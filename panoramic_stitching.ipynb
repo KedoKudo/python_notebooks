{
 "cells": [
  {
   "cell_type": "markdown",
   "metadata": {},
   "source": [
    "[![Notebook Tutorial](__code/__all/notebook_tutorial.png)](https://neutronimaging.pages.ornl.gov/en/tutorial/notebooks/panoramic_stitching)\n",
    "\n",
    "<img src='__docs/__all/notebook_rules.png' />"
   ]
  },
  {
   "cell_type": "markdown",
   "metadata": {
    "run_control": {
     "frozen": false,
     "read_only": false
    }
   },
   "source": [
    "# Select Your IPTS"
   ]
  },
  {
   "cell_type": "code",
   "execution_count": null,
   "metadata": {
    "run_control": {
     "frozen": false,
     "read_only": false
    }
   },
   "outputs": [],
   "source": [
    "import warnings\n",
    "warnings.filterwarnings('ignore')\n",
    "\n",
    "from __code.ui_builder import UiBuilder\n",
    "o_builder = UiBuilder(ui_name = 'ui_panoramic_stitching.ui')\n",
    "\n",
    "from __code.panoramic_stitching import Interface, InterfaceHandler\n",
    "\n",
    "from __code import system\n",
    "system.System.select_working_dir()\n",
    "from __code.__all import custom_style\n",
    "custom_style.style()"
   ]
  },
  {
   "cell_type": "code",
   "execution_count": null,
   "metadata": {
    "run_control": {
     "frozen": false,
     "read_only": false
    }
   },
   "outputs": [],
   "source": [
    "%gui qt"
   ]
  },
  {
   "cell_type": "markdown",
   "metadata": {
    "run_control": {
     "frozen": false,
     "read_only": false
    }
   },
   "source": [
    "# Select Images"
   ]
  },
  {
   "cell_type": "code",
   "execution_count": null,
   "metadata": {
    "run_control": {
     "frozen": false,
     "read_only": false
    }
   },
   "outputs": [],
   "source": [
    "o_template = InterfaceHandler(working_dir=system.System.get_working_dir())\n",
    "o_template.select_images(instruction='Select tiff or Fits Images ...')"
   ]
  },
  {
   "cell_type": "markdown",
   "metadata": {
    "run_control": {
     "frozen": false,
     "read_only": false
    }
   },
   "source": [
    "# Display Images"
   ]
  },
  {
   "cell_type": "code",
   "execution_count": null,
   "metadata": {
    "run_control": {
     "frozen": false,
     "read_only": false
    }
   },
   "outputs": [],
   "source": [
    "o_template.load()\n",
    "o_interface = Interface(o_norm=o_template.o_norm)\n",
    "o_interface.show()"
   ]
  },
  {
   "cell_type": "markdown",
   "metadata": {
    "run_control": {
     "frozen": false,
     "read_only": false
    }
   },
   "source": [
    "# FOR DEBUGGING"
   ]
  },
  {
   "cell_type": "code",
   "execution_count": null,
   "metadata": {},
   "outputs": [],
   "source": [
    "from __code.ui_builder import UiBuilder\n",
    "o_builder = UiBuilder(ui_name = 'ui_panoramic_stitching.ui')\n",
    "\n",
    "import glob\n",
    "from NeuNorm.normalization import Normalization\n",
    "from __code.panoramic_stitching import Interface, InterfaceHandler\n",
    "\n",
    "IPTS_folder = '/Volumes/my_book_thunderbolt_duo/IPTS/IPTS-21632-Ed-Jeff-Katie/'\n",
    "#IPTS_folder = '/Users/j35/IPTS/IPTS-21632/'\n",
    "\n",
    "list_of_images = glob.glob(IPTS_folder + \"4_images_to_stitch/*.tiff\")\n",
    "list_of_images.sort()\n",
    "configuration = IPTS_folder + 'roi.txt'\n",
    "o_norm = Normalization()\n",
    "o_norm.load(file=list_of_images, notebook=True)\n",
    "\n",
    "from __code import system\n",
    "# system.System.select_working_dir()\n",
    "\n",
    "o_template = InterfaceHandler()\n",
    "o_template.o_norm = o_norm"
   ]
  },
  {
   "cell_type": "code",
   "execution_count": 2,
   "metadata": {},
   "outputs": [],
   "source": [
    "%gui qt"
   ]
  },
  {
   "cell_type": "code",
   "execution_count": 3,
   "metadata": {},
   "outputs": [
    {
     "data": {
      "text/html": [
       "<span style=\"font-size: 20px; color:blue\">Check UI that poped up             (maybe hidden behind this browser!)</span>"
      ],
      "text/plain": [
       "<IPython.core.display.HTML object>"
      ]
     },
     "metadata": {},
     "output_type": "display_data"
    },
    {
     "name": "stdout",
     "output_type": "stream",
     "text": [
      "loading configuration\n",
      "(\"master_dict: OrderedDict([(0, {'associated_with_file_index': 0, \"\n",
      " \"'reference_combobox_file_index': 0, 'reference_roi': {'x0': 1719, 'y0': 147, \"\n",
      " \"'width': 196, 'height': 239}, 'target_combobox_file_index': 0, 'target_roi': \"\n",
      " \"{'x0': 1670, 'y0': 1675, 'width': 295, 'height': 360}, 'status': ''}), (1, \"\n",
      " \"{'associated_with_file_index': 0, 'reference_combobox_file_index': 0, \"\n",
      " \"'reference_roi': {'x0': 0, 'y0': 50, 'width': 75, 'height': 250}, \"\n",
      " \"'target_combobox_file_index': 0, 'target_roi': {'x0': 0, 'y0': 50, 'width': \"\n",
      " \"112.5, 'height': 375.0}, 'status': ''}), (2, {'associated_with_file_index': \"\n",
      " \"0, 'reference_combobox_file_index': 0, 'reference_roi': {'x0': 0, 'y0': 50, \"\n",
      " \"'width': 75, 'height': 250}, 'target_combobox_file_index': 0, 'target_roi': \"\n",
      " \"{'x0': 0, 'y0': 50, 'width': 112.5, 'height': 375.0}, 'status': ''}), (3, \"\n",
      " \"{'associated_with_file_index': 0, 'reference_combobox_file_index': 0, \"\n",
      " \"'reference_roi': {'x0': 0, 'y0': 50, 'width': 75, 'height': 250}, \"\n",
      " \"'target_combobox_file_index': 0, 'target_roi': {'x0': 0, 'y0': 50, 'width': \"\n",
      " \"112.5, 'height': 375.0}, 'status': ''}), ('reference_combobox_file_index', \"\n",
      " \"0), ('target_combobox_file_index', 1)])\")\n",
      "(\"master_dict: OrderedDict([(0, {'associated_with_file_index': 0, \"\n",
      " \"'reference_combobox_file_index': 0, 'reference_roi': {'x0': 1719, 'y0': 147, \"\n",
      " \"'width': 196, 'height': 239}, 'target_combobox_file_index': 0, 'target_roi': \"\n",
      " \"{'x0': 1670, 'y0': 1675, 'width': 295, 'height': 360}, 'status': ''}), (1, \"\n",
      " \"{'associated_with_file_index': 0, 'reference_combobox_file_index': 0, \"\n",
      " \"'reference_roi': {'x0': 143, 'y0': 1671, 'width': 204, 'height': 203}, \"\n",
      " \"'target_combobox_file_index': 0, 'target_roi': {'x0': 1726, 'y0': 1618, \"\n",
      " \"'width': 307, 'height': 305}, 'status': ''}), (2, \"\n",
      " \"{'associated_with_file_index': 0, 'reference_combobox_file_index': 0, \"\n",
      " \"'reference_roi': {'x0': 0, 'y0': 50, 'width': 75, 'height': 250}, \"\n",
      " \"'target_combobox_file_index': 0, 'target_roi': {'x0': 0, 'y0': 50, 'width': \"\n",
      " \"112.5, 'height': 375.0}, 'status': ''}), (3, {'associated_with_file_index': \"\n",
      " \"0, 'reference_combobox_file_index': 0, 'reference_roi': {'x0': 0, 'y0': 50, \"\n",
      " \"'width': 75, 'height': 250}, 'target_combobox_file_index': 0, 'target_roi': \"\n",
      " \"{'x0': 0, 'y0': 50, 'width': 112.5, 'height': 375.0}, 'status': ''}), \"\n",
      " \"('reference_combobox_file_index', 0), ('target_combobox_file_index', 3)])\")\n",
      "(\"master_dict: OrderedDict([(0, {'associated_with_file_index': 0, \"\n",
      " \"'reference_combobox_file_index': 0, 'reference_roi': {'x0': 1719, 'y0': 147, \"\n",
      " \"'width': 196, 'height': 239}, 'target_combobox_file_index': 0, 'target_roi': \"\n",
      " \"{'x0': 1670, 'y0': 1675, 'width': 295, 'height': 360}, 'status': ''}), (1, \"\n",
      " \"{'associated_with_file_index': 0, 'reference_combobox_file_index': 0, \"\n",
      " \"'reference_roi': {'x0': 143, 'y0': 1671, 'width': 204, 'height': 203}, \"\n",
      " \"'target_combobox_file_index': 0, 'target_roi': {'x0': 1726, 'y0': 1618, \"\n",
      " \"'width': 307, 'height': 305}, 'status': ''}), (2, \"\n",
      " \"{'associated_with_file_index': 0, 'reference_combobox_file_index': 0, \"\n",
      " \"'reference_roi': {'x0': 275, 'y0': 149, 'width': 217, 'height': 212}, \"\n",
      " \"'target_combobox_file_index': 0, 'target_roi': {'x0': 227, 'y0': 1719, \"\n",
      " \"'width': 326, 'height': 319}, 'status': ''}), (3, \"\n",
      " \"{'associated_with_file_index': 0, 'reference_combobox_file_index': 0, \"\n",
      " \"'reference_roi': {'x0': 0, 'y0': 50, 'width': 75, 'height': 250}, \"\n",
      " \"'target_combobox_file_index': 0, 'target_roi': {'x0': 0, 'y0': 50, 'width': \"\n",
      " \"112.5, 'height': 375.0}, 'status': ''}), ('reference_combobox_file_index', \"\n",
      " \"3), ('target_combobox_file_index', 2)])\")\n",
      "for row: 0\n",
      "-> reference index: 0\n",
      "-> target index: 0\n",
      "for row: 1\n",
      "-> reference index: 0\n",
      "-> target index: 0\n",
      "for row: 2\n",
      "-> reference index: 0\n",
      "-> target index: 0\n"
     ]
    }
   ],
   "source": [
    "o_interface = Interface(o_norm=o_template.o_norm, configuration=configuration)\n",
    "o_interface.show()"
   ]
  },
  {
   "cell_type": "code",
   "execution_count": null,
   "metadata": {},
   "outputs": [],
   "source": []
  }
 ],
 "metadata": {
  "anaconda-cloud": {},
  "kernelspec": {
   "display_name": "Python 3",
   "language": "python",
   "name": "python3"
  },
  "language_info": {
   "codemirror_mode": {
    "name": "ipython",
    "version": 3
   },
   "file_extension": ".py",
   "mimetype": "text/x-python",
   "name": "python",
   "nbconvert_exporter": "python",
   "pygments_lexer": "ipython3",
   "version": "3.6.7"
  },
  "toc": {
   "colors": {
    "hover_highlight": "#DAA520",
    "running_highlight": "#FF0000",
    "selected_highlight": "#FFD700"
   },
   "moveMenuLeft": true,
   "nav_menu": {
    "height": "12px",
    "width": "252px"
   },
   "navigate_menu": true,
   "number_sections": true,
   "sideBar": true,
   "threshold": 4,
   "toc_cell": false,
   "toc_section_display": "block",
   "toc_window_display": false
  }
 },
 "nbformat": 4,
 "nbformat_minor": 1
}
