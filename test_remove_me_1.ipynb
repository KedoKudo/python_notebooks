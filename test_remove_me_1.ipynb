{
 "cells": [
  {
   "cell_type": "code",
   "execution_count": 1,
   "metadata": {
    "run_control": {
     "frozen": false,
     "read_only": false
    }
   },
   "outputs": [
    {
     "name": "stdout",
     "output_type": "stream",
     "text": [
      "<pyqtgraph.graphicsItems.InfiniteLine.InfiniteLine object at 0x11bf55438>\n",
      "184.33332613529197\n",
      "<pyqtgraph.graphicsItems.InfiniteLine.InfiniteLine object at 0x11bf55438>\n",
      "163.12374710725447\n",
      "<pyqtgraph.graphicsItems.InfiniteLine.InfiniteLine object at 0x11bf55438>\n",
      "145.95408789408125\n",
      "<pyqtgraph.graphicsItems.InfiniteLine.InfiniteLine object at 0x11bf55438>\n",
      "134.50764841863244\n",
      "<pyqtgraph.graphicsItems.InfiniteLine.InfiniteLine object at 0x11bf55438>\n",
      "127.1011287580479\n",
      "<pyqtgraph.graphicsItems.InfiniteLine.InfiniteLine object at 0x11bf55438>\n",
      "123.39786892775567\n",
      "<pyqtgraph.graphicsItems.InfiniteLine.InfiniteLine object at 0x11bf55438>\n",
      "122.38788897403958\n",
      "<pyqtgraph.graphicsItems.InfiniteLine.InfiniteLine object at 0x11bf55438>\n",
      "121.3779090203235\n",
      "<pyqtgraph.graphicsItems.InfiniteLine.InfiniteLine object at 0x11bf55438>\n",
      "102.8616098688622\n"
     ]
    },
    {
     "ename": "IndexError",
     "evalue": "tuple index out of range",
     "output_type": "error",
     "traceback": [
      "\u001b[0;31m---------------------------------------------------------------------------\u001b[0m",
      "\u001b[0;31mIndexError\u001b[0m                                Traceback (most recent call last)",
      "\u001b[0;32m<ipython-input-1-ed3a6fc68b5d>\u001b[0m in \u001b[0;36mmouseMoved\u001b[0;34m(evt)\u001b[0m\n\u001b[1;32m     81\u001b[0m         \u001b[0mindex\u001b[0m \u001b[0;34m=\u001b[0m \u001b[0mint\u001b[0m\u001b[0;34m(\u001b[0m\u001b[0mmousePoint\u001b[0m\u001b[0;34m.\u001b[0m\u001b[0mx\u001b[0m\u001b[0;34m(\u001b[0m\u001b[0;34m)\u001b[0m\u001b[0;34m)\u001b[0m\u001b[0;34m\u001b[0m\u001b[0m\n\u001b[1;32m     82\u001b[0m         \u001b[0;32mif\u001b[0m \u001b[0mindex\u001b[0m \u001b[0;34m>\u001b[0m \u001b[0;36m0\u001b[0m \u001b[0;32mand\u001b[0m \u001b[0mindex\u001b[0m \u001b[0;34m<\u001b[0m \u001b[0mlen\u001b[0m\u001b[0;34m(\u001b[0m\u001b[0mdata\u001b[0m\u001b[0;34m)\u001b[0m\u001b[0;34m:\u001b[0m\u001b[0;34m\u001b[0m\u001b[0m\n\u001b[0;32m---> 83\u001b[0;31m             \u001b[0mprint\u001b[0m\u001b[0;34m(\u001b[0m\u001b[0;34m\"{} and {}\"\u001b[0m\u001b[0;34m.\u001b[0m\u001b[0mformat\u001b[0m\u001b[0;34m(\u001b[0m\u001b[0;34m(\u001b[0m\u001b[0mmousePoint\u001b[0m\u001b[0;34m.\u001b[0m\u001b[0mx\u001b[0m\u001b[0;34m(\u001b[0m\u001b[0;34m)\u001b[0m\u001b[0;34m,\u001b[0m \u001b[0mdata\u001b[0m\u001b[0;34m[\u001b[0m\u001b[0mindex\u001b[0m\u001b[0;34m]\u001b[0m\u001b[0;34m)\u001b[0m\u001b[0;34m)\u001b[0m\u001b[0;34m)\u001b[0m\u001b[0;34m\u001b[0m\u001b[0m\n\u001b[0m\u001b[1;32m     84\u001b[0m         \u001b[0mvLine\u001b[0m\u001b[0;34m.\u001b[0m\u001b[0msetPos\u001b[0m\u001b[0;34m(\u001b[0m\u001b[0mmousePoint\u001b[0m\u001b[0;34m.\u001b[0m\u001b[0mx\u001b[0m\u001b[0;34m(\u001b[0m\u001b[0;34m)\u001b[0m\u001b[0;34m)\u001b[0m\u001b[0;34m\u001b[0m\u001b[0m\n\u001b[1;32m     85\u001b[0m         \u001b[0mhLine\u001b[0m\u001b[0;34m.\u001b[0m\u001b[0msetPos\u001b[0m\u001b[0;34m(\u001b[0m\u001b[0mmousePoint\u001b[0m\u001b[0;34m.\u001b[0m\u001b[0my\u001b[0m\u001b[0;34m(\u001b[0m\u001b[0;34m)\u001b[0m\u001b[0;34m)\u001b[0m\u001b[0;34m\u001b[0m\u001b[0m\n",
      "\u001b[0;31mIndexError\u001b[0m: tuple index out of range"
     ]
    },
    {
     "ename": "IndexError",
     "evalue": "tuple index out of range",
     "output_type": "error",
     "traceback": [
      "\u001b[0;31m---------------------------------------------------------------------------\u001b[0m",
      "\u001b[0;31mIndexError\u001b[0m                                Traceback (most recent call last)",
      "\u001b[0;32m<ipython-input-1-ed3a6fc68b5d>\u001b[0m in \u001b[0;36mmouseMoved\u001b[0;34m(evt)\u001b[0m\n\u001b[1;32m     81\u001b[0m         \u001b[0mindex\u001b[0m \u001b[0;34m=\u001b[0m \u001b[0mint\u001b[0m\u001b[0;34m(\u001b[0m\u001b[0mmousePoint\u001b[0m\u001b[0;34m.\u001b[0m\u001b[0mx\u001b[0m\u001b[0;34m(\u001b[0m\u001b[0;34m)\u001b[0m\u001b[0;34m)\u001b[0m\u001b[0;34m\u001b[0m\u001b[0m\n\u001b[1;32m     82\u001b[0m         \u001b[0;32mif\u001b[0m \u001b[0mindex\u001b[0m \u001b[0;34m>\u001b[0m \u001b[0;36m0\u001b[0m \u001b[0;32mand\u001b[0m \u001b[0mindex\u001b[0m \u001b[0;34m<\u001b[0m \u001b[0mlen\u001b[0m\u001b[0;34m(\u001b[0m\u001b[0mdata\u001b[0m\u001b[0;34m)\u001b[0m\u001b[0;34m:\u001b[0m\u001b[0;34m\u001b[0m\u001b[0m\n\u001b[0;32m---> 83\u001b[0;31m             \u001b[0mprint\u001b[0m\u001b[0;34m(\u001b[0m\u001b[0;34m\"{} and {}\"\u001b[0m\u001b[0;34m.\u001b[0m\u001b[0mformat\u001b[0m\u001b[0;34m(\u001b[0m\u001b[0;34m(\u001b[0m\u001b[0mmousePoint\u001b[0m\u001b[0;34m.\u001b[0m\u001b[0mx\u001b[0m\u001b[0;34m(\u001b[0m\u001b[0;34m)\u001b[0m\u001b[0;34m,\u001b[0m \u001b[0mdata\u001b[0m\u001b[0;34m[\u001b[0m\u001b[0mindex\u001b[0m\u001b[0;34m]\u001b[0m\u001b[0;34m)\u001b[0m\u001b[0;34m)\u001b[0m\u001b[0;34m)\u001b[0m\u001b[0;34m\u001b[0m\u001b[0m\n\u001b[0m\u001b[1;32m     84\u001b[0m         \u001b[0mvLine\u001b[0m\u001b[0;34m.\u001b[0m\u001b[0msetPos\u001b[0m\u001b[0;34m(\u001b[0m\u001b[0mmousePoint\u001b[0m\u001b[0;34m.\u001b[0m\u001b[0mx\u001b[0m\u001b[0;34m(\u001b[0m\u001b[0;34m)\u001b[0m\u001b[0;34m)\u001b[0m\u001b[0;34m\u001b[0m\u001b[0m\n\u001b[1;32m     85\u001b[0m         \u001b[0mhLine\u001b[0m\u001b[0;34m.\u001b[0m\u001b[0msetPos\u001b[0m\u001b[0;34m(\u001b[0m\u001b[0mmousePoint\u001b[0m\u001b[0;34m.\u001b[0m\u001b[0my\u001b[0m\u001b[0;34m(\u001b[0m\u001b[0;34m)\u001b[0m\u001b[0;34m)\u001b[0m\u001b[0;34m\u001b[0m\u001b[0m\n",
      "\u001b[0;31mIndexError\u001b[0m: tuple index out of range"
     ]
    },
    {
     "ename": "IndexError",
     "evalue": "tuple index out of range",
     "output_type": "error",
     "traceback": [
      "\u001b[0;31m---------------------------------------------------------------------------\u001b[0m",
      "\u001b[0;31mIndexError\u001b[0m                                Traceback (most recent call last)",
      "\u001b[0;32m<ipython-input-1-ed3a6fc68b5d>\u001b[0m in \u001b[0;36mmouseMoved\u001b[0;34m(evt)\u001b[0m\n\u001b[1;32m     81\u001b[0m         \u001b[0mindex\u001b[0m \u001b[0;34m=\u001b[0m \u001b[0mint\u001b[0m\u001b[0;34m(\u001b[0m\u001b[0mmousePoint\u001b[0m\u001b[0;34m.\u001b[0m\u001b[0mx\u001b[0m\u001b[0;34m(\u001b[0m\u001b[0;34m)\u001b[0m\u001b[0;34m)\u001b[0m\u001b[0;34m\u001b[0m\u001b[0m\n\u001b[1;32m     82\u001b[0m         \u001b[0;32mif\u001b[0m \u001b[0mindex\u001b[0m \u001b[0;34m>\u001b[0m \u001b[0;36m0\u001b[0m \u001b[0;32mand\u001b[0m \u001b[0mindex\u001b[0m \u001b[0;34m<\u001b[0m \u001b[0mlen\u001b[0m\u001b[0;34m(\u001b[0m\u001b[0mdata\u001b[0m\u001b[0;34m)\u001b[0m\u001b[0;34m:\u001b[0m\u001b[0;34m\u001b[0m\u001b[0m\n\u001b[0;32m---> 83\u001b[0;31m             \u001b[0mprint\u001b[0m\u001b[0;34m(\u001b[0m\u001b[0;34m\"{} and {}\"\u001b[0m\u001b[0;34m.\u001b[0m\u001b[0mformat\u001b[0m\u001b[0;34m(\u001b[0m\u001b[0;34m(\u001b[0m\u001b[0mmousePoint\u001b[0m\u001b[0;34m.\u001b[0m\u001b[0mx\u001b[0m\u001b[0;34m(\u001b[0m\u001b[0;34m)\u001b[0m\u001b[0;34m,\u001b[0m \u001b[0mdata\u001b[0m\u001b[0;34m[\u001b[0m\u001b[0mindex\u001b[0m\u001b[0;34m]\u001b[0m\u001b[0;34m)\u001b[0m\u001b[0;34m)\u001b[0m\u001b[0;34m)\u001b[0m\u001b[0;34m\u001b[0m\u001b[0m\n\u001b[0m\u001b[1;32m     84\u001b[0m         \u001b[0mvLine\u001b[0m\u001b[0;34m.\u001b[0m\u001b[0msetPos\u001b[0m\u001b[0;34m(\u001b[0m\u001b[0mmousePoint\u001b[0m\u001b[0;34m.\u001b[0m\u001b[0mx\u001b[0m\u001b[0;34m(\u001b[0m\u001b[0;34m)\u001b[0m\u001b[0;34m)\u001b[0m\u001b[0;34m\u001b[0m\u001b[0m\n\u001b[1;32m     85\u001b[0m         \u001b[0mhLine\u001b[0m\u001b[0;34m.\u001b[0m\u001b[0msetPos\u001b[0m\u001b[0;34m(\u001b[0m\u001b[0mmousePoint\u001b[0m\u001b[0;34m.\u001b[0m\u001b[0my\u001b[0m\u001b[0;34m(\u001b[0m\u001b[0;34m)\u001b[0m\u001b[0;34m)\u001b[0m\u001b[0;34m\u001b[0m\u001b[0m\n",
      "\u001b[0;31mIndexError\u001b[0m: tuple index out of range"
     ]
    },
    {
     "ename": "IndexError",
     "evalue": "tuple index out of range",
     "output_type": "error",
     "traceback": [
      "\u001b[0;31m---------------------------------------------------------------------------\u001b[0m",
      "\u001b[0;31mIndexError\u001b[0m                                Traceback (most recent call last)",
      "\u001b[0;32m<ipython-input-1-ed3a6fc68b5d>\u001b[0m in \u001b[0;36mmouseMoved\u001b[0;34m(evt)\u001b[0m\n\u001b[1;32m     81\u001b[0m         \u001b[0mindex\u001b[0m \u001b[0;34m=\u001b[0m \u001b[0mint\u001b[0m\u001b[0;34m(\u001b[0m\u001b[0mmousePoint\u001b[0m\u001b[0;34m.\u001b[0m\u001b[0mx\u001b[0m\u001b[0;34m(\u001b[0m\u001b[0;34m)\u001b[0m\u001b[0;34m)\u001b[0m\u001b[0;34m\u001b[0m\u001b[0m\n\u001b[1;32m     82\u001b[0m         \u001b[0;32mif\u001b[0m \u001b[0mindex\u001b[0m \u001b[0;34m>\u001b[0m \u001b[0;36m0\u001b[0m \u001b[0;32mand\u001b[0m \u001b[0mindex\u001b[0m \u001b[0;34m<\u001b[0m \u001b[0mlen\u001b[0m\u001b[0;34m(\u001b[0m\u001b[0mdata\u001b[0m\u001b[0;34m)\u001b[0m\u001b[0;34m:\u001b[0m\u001b[0;34m\u001b[0m\u001b[0m\n\u001b[0;32m---> 83\u001b[0;31m             \u001b[0mprint\u001b[0m\u001b[0;34m(\u001b[0m\u001b[0;34m\"{} and {}\"\u001b[0m\u001b[0;34m.\u001b[0m\u001b[0mformat\u001b[0m\u001b[0;34m(\u001b[0m\u001b[0;34m(\u001b[0m\u001b[0mmousePoint\u001b[0m\u001b[0;34m.\u001b[0m\u001b[0mx\u001b[0m\u001b[0;34m(\u001b[0m\u001b[0;34m)\u001b[0m\u001b[0;34m,\u001b[0m \u001b[0mdata\u001b[0m\u001b[0;34m[\u001b[0m\u001b[0mindex\u001b[0m\u001b[0;34m]\u001b[0m\u001b[0;34m)\u001b[0m\u001b[0;34m)\u001b[0m\u001b[0;34m)\u001b[0m\u001b[0;34m\u001b[0m\u001b[0m\n\u001b[0m\u001b[1;32m     84\u001b[0m         \u001b[0mvLine\u001b[0m\u001b[0;34m.\u001b[0m\u001b[0msetPos\u001b[0m\u001b[0;34m(\u001b[0m\u001b[0mmousePoint\u001b[0m\u001b[0;34m.\u001b[0m\u001b[0mx\u001b[0m\u001b[0;34m(\u001b[0m\u001b[0;34m)\u001b[0m\u001b[0;34m)\u001b[0m\u001b[0;34m\u001b[0m\u001b[0m\n\u001b[1;32m     85\u001b[0m         \u001b[0mhLine\u001b[0m\u001b[0;34m.\u001b[0m\u001b[0msetPos\u001b[0m\u001b[0;34m(\u001b[0m\u001b[0mmousePoint\u001b[0m\u001b[0;34m.\u001b[0m\u001b[0my\u001b[0m\u001b[0;34m(\u001b[0m\u001b[0;34m)\u001b[0m\u001b[0;34m)\u001b[0m\u001b[0;34m\u001b[0m\u001b[0m\n",
      "\u001b[0;31mIndexError\u001b[0m: tuple index out of range"
     ]
    },
    {
     "name": "stdout",
     "output_type": "stream",
     "text": [
      "<pyqtgraph.graphicsItems.InfiniteLine.InfiniteLine object at 0x11bf55438>\n",
      "0.5169745589669592\n",
      "<pyqtgraph.graphicsItems.InfiniteLine.InfiniteLine object at 0x11bf55438>\n",
      "-4.869585194185422\n",
      "<pyqtgraph.graphicsItems.InfiniteLine.InfiniteLine object at 0x11bf55438>\n",
      "-8.909505009049708\n",
      "<pyqtgraph.graphicsItems.InfiniteLine.InfiniteLine object at 0x11bf55438>\n",
      "-9.919484962765779\n",
      "<pyqtgraph.graphicsItems.InfiniteLine.InfiniteLine object at 0x11bf55438>\n",
      "-10.592804931909829\n"
     ]
    }
   ],
   "source": [
    "# -*- coding: utf-8 -*-\n",
    "\"\"\"\n",
    "This example demonstrates the use of ImageView, which is a high-level widget for \n",
    "displaying and analyzing 2D and 3D data. ImageView provides:\n",
    "\n",
    "  1. A zoomable region (ViewBox) for displaying the image\n",
    "  2. A combination histogram and gradient editor (HistogramLUTItem) for\n",
    "     controlling the visual appearance of the image\n",
    "  3. A timeline for selecting the currently displayed frame (for 3D data only).\n",
    "  4. Tools for very basic analysis of image data (see ROI and Norm buttons)\n",
    "\n",
    "\"\"\"\n",
    "## Add path to library (just for examples; you do not need this)\n",
    "#import initExample\n",
    "\n",
    "import numpy as np\n",
    "from pyqtgraph.Qt import QtCore, QtGui\n",
    "import pyqtgraph as pg\n",
    "\n",
    "# Interpret image data as row-major instead of col-major\n",
    "pg.setConfigOptions(imageAxisOrder='row-major')\n",
    "\n",
    "app = QtGui.QApplication([])\n",
    "\n",
    "## Create window with ImageView widget\n",
    "win = QtGui.QMainWindow()\n",
    "win.resize(800,800)\n",
    "\n",
    "imv = pg.ImageView(view=pg.PlotItem())\n",
    "win.setCentralWidget(imv)\n",
    "win.show()\n",
    "win.setWindowTitle('pyqtgraph example: ImageView')\n",
    "\n",
    "## Create random 3D data set with noisy signals\n",
    "img = pg.gaussianFilter(np.random.normal(size=(200, 200)), (5, 5)) * 20 + 100\n",
    "img = img[np.newaxis,:,:]\n",
    "decay = np.exp(-np.linspace(0,0.3,100))[:,np.newaxis,np.newaxis]\n",
    "data = np.random.normal(size=(100, 200, 200))\n",
    "data += img * decay\n",
    "data += 2\n",
    "\n",
    "## Add time-varying signal\n",
    "sig = np.zeros(data.shape[0])\n",
    "sig[30:] += np.exp(-np.linspace(1,10, 70))\n",
    "sig[40:] += np.exp(-np.linspace(1,10, 60))\n",
    "sig[70:] += np.exp(-np.linspace(1,10, 30))\n",
    "\n",
    "sig = sig[:,np.newaxis,np.newaxis] * 3\n",
    "data[:,50:60,30:40] += sig\n",
    "\n",
    "vLine = pg.InfiniteLine(angle=90, movable=False)\n",
    "hLine = pg.InfiniteLine(angle=0, movable=False)\n",
    "v2Line = pg.InfiniteLine(angle=45, movable=False)\n",
    "imv.addItem(vLine, ignoreBounds=True)\n",
    "imv.addItem(hLine, ignoreBounds=True)\n",
    "imv.addItem(v2Line, ignoreBounds=True)\n",
    "\n",
    "\n",
    "\n",
    "## Display the data and assign each frame a time value from 1.0 to 3.0\n",
    "imv.setImage(data, xvals=np.linspace(1., 3., data.shape[0]))\n",
    "\n",
    "## Set a custom color map\n",
    "colors = [\n",
    "    (0, 0, 0),\n",
    "    (45, 5, 61),\n",
    "    (84, 42, 55),\n",
    "    (150, 87, 60),\n",
    "    (208, 171, 141),\n",
    "    (255, 255, 255)\n",
    "]\n",
    "cmap = pg.ColorMap(pos=np.linspace(0.0, 1.0, 6), color=colors)\n",
    "imv.setColorMap(cmap)\n",
    "\n",
    "def mouseMoved(evt):\n",
    "    global data\n",
    "    global imv\n",
    "    pos = evt[0]  ## using signal proxy turns original arguments into a tuple\n",
    "    if imv.view.sceneBoundingRect().contains(pos):\n",
    "        mousePoint = imv.view.getViewBox().mapSceneToView(pos)\n",
    "        index = int(mousePoint.x())\n",
    "        if index > 0 and index < len(data):\n",
    "            print(\"{} and {}\".format((mousePoint.x(), data[index])))\n",
    "        vLine.setPos(mousePoint.x())\n",
    "        hLine.setPos(mousePoint.y())\n",
    "        print(vLine)\n",
    "        print(mousePoint.x())\n",
    "\n",
    "\n",
    "proxy = pg.SignalProxy(imv.view.scene().sigMouseMoved, rateLimit=60, slot=mouseMoved)\n",
    "\n",
    "\n",
    "\n",
    "\n",
    "## Start Qt event loop unless running in interactive mode.\n",
    "if __name__ == '__main__':\n",
    "    import sys\n",
    "    if (sys.flags.interactive != 1) or not hasattr(QtCore, 'PYQT_VERSION'):\n",
    "        QtGui.QApplication.instance().exec_()\n"
   ]
  },
  {
   "cell_type": "code",
   "execution_count": null,
   "metadata": {
    "run_control": {
     "frozen": false,
     "read_only": false
    }
   },
   "outputs": [],
   "source": []
  }
 ],
 "metadata": {
  "kernelspec": {
   "display_name": "Python 3",
   "language": "python",
   "name": "python3"
  },
  "language_info": {
   "codemirror_mode": {
    "name": "ipython",
    "version": 3
   },
   "file_extension": ".py",
   "mimetype": "text/x-python",
   "name": "python",
   "nbconvert_exporter": "python",
   "pygments_lexer": "ipython3",
   "version": "3.6.2"
  },
  "toc": {
   "colors": {
    "hover_highlight": "#DAA520",
    "running_highlight": "#FF0000",
    "selected_highlight": "#FFD700"
   },
   "moveMenuLeft": true,
   "nav_menu": {
    "height": "12px",
    "width": "252px"
   },
   "navigate_menu": true,
   "number_sections": true,
   "sideBar": true,
   "threshold": 4,
   "toc_cell": false,
   "toc_section_display": "block",
   "toc_window_display": false
  }
 },
 "nbformat": 4,
 "nbformat_minor": 2
}
