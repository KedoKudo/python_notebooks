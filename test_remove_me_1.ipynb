{
 "cells": [
  {
   "cell_type": "code",
   "execution_count": 1,
   "metadata": {
    "run_control": {
     "frozen": false,
     "read_only": false
    }
   },
   "outputs": [],
   "source": [
    "# -*- coding: utf-8 -*-\n",
    "\"\"\"\n",
    "This example demonstrates the use of ImageView, which is a high-level widget for \n",
    "displaying and analyzing 2D and 3D data. ImageView provides:\n",
    "\n",
    "  1. A zoomable region (ViewBox) for displaying the image\n",
    "  2. A combination histogram and gradient editor (HistogramLUTItem) for\n",
    "     controlling the visual appearance of the image\n",
    "  3. A timeline for selecting the currently displayed frame (for 3D data only).\n",
    "  4. Tools for very basic analysis of image data (see ROI and Norm buttons)\n",
    "\n",
    "\"\"\"\n",
    "## Add path to library (just for examples; you do not need this)\n",
    "#import initExample\n",
    "\n",
    "import numpy as np\n",
    "from pyqtgraph.Qt import QtCore, QtGui\n",
    "import pyqtgraph as pg\n",
    "\n",
    "# Interpret image data as row-major instead of col-major\n",
    "pg.setConfigOptions(imageAxisOrder='row-major')\n",
    "\n",
    "app = QtGui.QApplication([])\n",
    "\n",
    "## Create window with ImageView widget\n",
    "win = QtGui.QMainWindow()\n",
    "win.resize(800,800)\n",
    "\n",
    "imv = pg.ImageView(view=pg.PlotItem())\n",
    "win.setCentralWidget(imv)\n",
    "win.show()\n",
    "win.setWindowTitle('pyqtgraph example: ImageView')\n",
    "\n",
    "## Create random 3D data set with noisy signals\n",
    "img = pg.gaussianFilter(np.random.normal(size=(200, 200)), (5, 5)) * 20 + 100\n",
    "img = img[np.newaxis,:,:]\n",
    "decay = np.exp(-np.linspace(0,0.3,100))[:,np.newaxis,np.newaxis]\n",
    "data = np.random.normal(size=(100, 200, 200))\n",
    "data += img * decay\n",
    "data += 2\n",
    "\n",
    "## Add time-varying signal\n",
    "sig = np.zeros(data.shape[0])\n",
    "sig[30:] += np.exp(-np.linspace(1,10, 70))\n",
    "sig[40:] += np.exp(-np.linspace(1,10, 60))\n",
    "sig[70:] += np.exp(-np.linspace(1,10, 30))\n",
    "\n",
    "sig = sig[:,np.newaxis,np.newaxis] * 3\n",
    "data[:,50:60,30:40] += sig\n",
    "\n",
    "vLine = pg.InfiniteLine(angle=90, movable=False)\n",
    "hLine = pg.InfiniteLine(angle=0, movable=False)\n",
    "imv.addItem(vLine, ignoreBounds=True)\n",
    "imv.addItem(hLine, ignoreBounds=True)\n",
    "\n",
    "## Display the data and assign each frame a time value from 1.0 to 3.0\n",
    "imv.setImage(data, xvals=np.linspace(1., 3., data.shape[0]))\n",
    "\n",
    "## Set a custom color map\n",
    "colors = [\n",
    "    (0, 0, 0),\n",
    "    (45, 5, 61),\n",
    "    (84, 42, 55),\n",
    "    (150, 87, 60),\n",
    "    (208, 171, 141),\n",
    "    (255, 255, 255)\n",
    "]\n",
    "cmap = pg.ColorMap(pos=np.linspace(0.0, 1.0, 6), color=colors)\n",
    "imv.setColorMap(cmap)\n",
    "\n",
    "def mouseMoved(evt):\n",
    "    global data\n",
    "    global imv\n",
    "    \n",
    "    pos = evt[0]  ## using signal proxy turns original arguments into a tuple\n",
    "    if imv.view.sceneBoundingRect().contains(pos):\n",
    "        mousePoint = imv.view.getViewBox().mapSceneToView(pos)\n",
    "        index = int(mousePoint.x())\n",
    "#         if index > 0 and index < len(data):\n",
    "#             print(\"{} and {}\".format((mousePoint.x(), data[index])))\n",
    "        vLine.setPos(mousePoint.x())\n",
    "        hLine.setPos(mousePoint.y())\n",
    "\n",
    "\n",
    "proxy = pg.SignalProxy(imv.view.scene().sigMouseMoved, rateLimit=60, slot=mouseMoved)\n",
    "\n",
    "\n",
    "\n",
    "\n",
    "## Start Qt event loop unless running in interactive mode.\n",
    "if __name__ == '__main__':\n",
    "    import sys\n",
    "    if (sys.flags.interactive != 1) or not hasattr(QtCore, 'PYQT_VERSION'):\n",
    "        QtGui.QApplication.instance().exec_()\n"
   ]
  },
  {
   "cell_type": "code",
   "execution_count": 3,
   "metadata": {
    "run_control": {
     "frozen": false,
     "read_only": false
    }
   },
   "outputs": [
    {
     "data": {
      "text/plain": [
       "<pyqtgraph.graphicsItems.PlotItem.PlotItem.PlotItem at 0x116ae71f8>"
      ]
     },
     "execution_count": 3,
     "metadata": {},
     "output_type": "execute_result"
    }
   ],
   "source": [
    "imv.view"
   ]
  },
  {
   "cell_type": "code",
   "execution_count": null,
   "metadata": {
    "collapsed": true
   },
   "outputs": [],
   "source": []
  }
 ],
 "metadata": {
  "kernelspec": {
   "display_name": "Python 3",
   "language": "python",
   "name": "python3"
  },
  "language_info": {
   "codemirror_mode": {
    "name": "ipython",
    "version": 3
   },
   "file_extension": ".py",
   "mimetype": "text/x-python",
   "name": "python",
   "nbconvert_exporter": "python",
   "pygments_lexer": "ipython3",
   "version": "3.6.2"
  },
  "toc": {
   "colors": {
    "hover_highlight": "#DAA520",
    "running_highlight": "#FF0000",
    "selected_highlight": "#FFD700"
   },
   "moveMenuLeft": true,
   "nav_menu": {
    "height": "12px",
    "width": "252px"
   },
   "navigate_menu": true,
   "number_sections": true,
   "sideBar": true,
   "threshold": 4,
   "toc_cell": false,
   "toc_section_display": "block",
   "toc_window_display": false
  }
 },
 "nbformat": 4,
 "nbformat_minor": 2
}
