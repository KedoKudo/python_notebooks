{
 "cells": [
  {
   "cell_type": "markdown",
   "metadata": {
    "run_control": {
     "frozen": false,
     "read_only": false
    }
   },
   "source": [
    "# Select your IPTS "
   ]
  },
  {
   "cell_type": "code",
   "execution_count": null,
   "metadata": {
    "run_control": {
     "frozen": false,
     "read_only": false
    }
   },
   "outputs": [],
   "source": [
    "from __code import system\n",
    "system.System.select_working_dir()\n",
    "from __code.__all import custom_style\n",
    "custom_style.style()"
   ]
  },
  {
   "cell_type": "markdown",
   "metadata": {
    "run_control": {
     "frozen": false,
     "read_only": false
    }
   },
   "source": [
    "# Description "
   ]
  },
  {
   "cell_type": "markdown",
   "metadata": {
    "run_control": {
     "frozen": false,
     "read_only": false
    }
   },
   "source": [
    "This notebook will create an ascii file of the file_name vs the time_stamp of the file. This file will be\n",
    "used in the following notbooks to give a time definition to each data file.\n",
    "\n",
    "for example:\n",
    "\n",
    "**NAP-13_time_stamp.txt**\n",
    "```\n",
    "#FileName, timeStamps_s, timeOffset_ms\n",
    "20160922_NAP-13-uptake_0000_0016.tiff, 1474583570.0971272, 0\n",
    "20160922_NAP-13-uptake_0000_0017.tiff, 1474583570.1300254, 32.8981876373291\n",
    "20160922_NAP-13-uptake_0000_0018.tiff, 1474583570.1628537, 65.72651863098145\n",
    "20160922_NAP-13-uptake_0000_0019.tiff, 1474583570.1959777, 98.85048866271973\n",
    "20160922_NAP-13-uptake_0000_0020.tiff, 1474583570.2290256, 131.8984031677246\n",
    "20160922_NAP-13-uptake_0000_0021.tiff, 1474583570.261871, 164.74390029907227\n",
    "20160922_NAP-13-uptake_0000_0022.tiff, 1474583570.294688, 197.56078720092773\n",
    "20160922_NAP-13-uptake_0000_0023.tiff, 1474583570.3276916, 230.56435585021973\n",
    "20160922_NAP-13-uptake_0000_0024.tiff, 1474583570.360722, 263.5948657989502\n",
    "20160922_NAP-13-uptake_0000_0025.tiff, 1474583570.3936968, 296.5695858001709\n",
    "```"
   ]
  },
  {
   "cell_type": "markdown",
   "metadata": {
    "run_control": {
     "frozen": false,
     "read_only": false
    }
   },
   "source": [
    "# Python Import "
   ]
  },
  {
   "cell_type": "code",
   "execution_count": null,
   "metadata": {
    "run_control": {
     "frozen": false,
     "read_only": false
    }
   },
   "outputs": [],
   "source": [
    "from __code.create_list_of_file_name_vs_time_stamp import CreateListFileName"
   ]
  },
  {
   "cell_type": "markdown",
   "metadata": {
    "run_control": {
     "frozen": false,
     "read_only": false
    }
   },
   "source": [
    "# Select Image Folder "
   ]
  },
  {
   "cell_type": "code",
   "execution_count": null,
   "metadata": {
    "run_control": {
     "frozen": false,
     "read_only": false
    }
   },
   "outputs": [],
   "source": [
    "working_dir = system.System.get_working_dir()\n",
    "o_file_time_stamp = CreateListFileName(working_dir=working_dir)\n",
    "o_file_time_stamp.select_image_folder()"
   ]
  },
  {
   "cell_type": "markdown",
   "metadata": {
    "run_control": {
     "frozen": false,
     "read_only": false
    }
   },
   "source": [
    "# Select Output Folder "
   ]
  },
  {
   "cell_type": "code",
   "execution_count": null,
   "metadata": {
    "run_control": {
     "frozen": false,
     "read_only": false
    }
   },
   "outputs": [],
   "source": [
    "o_file_time_stamp.select_export_folder()"
   ]
  },
  {
   "cell_type": "code",
   "execution_count": null,
   "metadata": {
    "run_control": {
     "frozen": false,
     "read_only": false
    }
   },
   "outputs": [],
   "source": [
    "o_file_time_stamp.export()"
   ]
  },
  {
   "cell_type": "code",
   "execution_count": null,
   "metadata": {
    "run_control": {
     "frozen": false,
     "read_only": false
    }
   },
   "outputs": [],
   "source": []
  }
 ],
 "metadata": {
  "kernelspec": {
   "display_name": "Python 3",
   "language": "python",
   "name": "python3"
  },
  "language_info": {
   "codemirror_mode": {
    "name": "ipython",
    "version": 3
   },
   "file_extension": ".py",
   "mimetype": "text/x-python",
   "name": "python",
   "nbconvert_exporter": "python",
   "pygments_lexer": "ipython3",
   "version": "3.6.2"
  },
  "toc": {
   "colors": {
    "hover_highlight": "#DAA520",
    "running_highlight": "#FF0000",
    "selected_highlight": "#FFD700"
   },
   "moveMenuLeft": true,
   "nav_menu": {
    "height": "138px",
    "width": "252px"
   },
   "navigate_menu": true,
   "number_sections": true,
   "sideBar": true,
   "threshold": 4,
   "toc_cell": false,
   "toc_section_display": "block",
   "toc_window_display": false
  }
 },
 "nbformat": 4,
 "nbformat_minor": 2
}
