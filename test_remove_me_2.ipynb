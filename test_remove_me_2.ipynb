{
 "cells": [
  {
   "cell_type": "code",
   "execution_count": 1,
   "metadata": {
    "run_control": {
     "frozen": false,
     "read_only": false
    }
   },
   "outputs": [],
   "source": [
    "\"\"\"\n",
    "Demonstrates some customized mouse interaction by drawing a crosshair that follows \n",
    "the mouse.\n",
    "\n",
    "\n",
    "\"\"\"\n",
    "\n",
    "#import initExample ## Add path to library (just for examples; you do not need this)\n",
    "import numpy as np\n",
    "import pyqtgraph as pg\n",
    "from pyqtgraph.Qt import QtGui, QtCore\n",
    "from pyqtgraph.Point import Point\n",
    "\n",
    "#generate layout\n",
    "app = QtGui.QApplication([])\n",
    "win = pg.GraphicsWindow()\n",
    "win.setWindowTitle('pyqtgraph example: crosshair')\n",
    "label = pg.LabelItem(justify='right')\n",
    "win.addItem(label)\n",
    "p1 = win.addPlot(row=1, col=0)\n",
    "p2 = win.addPlot(row=2, col=0)\n",
    "\n",
    "region = pg.LinearRegionItem()\n",
    "region.setZValue(10)\n",
    "# Add the LinearRegionItem to the ViewBox, but tell the ViewBox to exclude this \n",
    "# item when doing auto-range calculations.\n",
    "p2.addItem(region, ignoreBounds=True)\n",
    "\n",
    "#pg.dbg()\n",
    "p1.setAutoVisible(y=True)\n",
    "\n",
    "\n",
    "#create numpy arrays\n",
    "#make the numbers large to show that the xrange shows data from 10000 to all the way 0\n",
    "data1 = 10000 + 15000 * pg.gaussianFilter(np.random.random(size=10000), 10) + 3000 * np.random.random(size=10000)\n",
    "data2 = 15000 + 15000 * pg.gaussianFilter(np.random.random(size=10000), 10) + 3000 * np.random.random(size=10000)\n",
    "\n",
    "p1.plot(data1, pen=\"r\")\n",
    "p1.plot(data2, pen=\"g\")\n",
    "\n",
    "p2.plot(data1, pen=\"w\")\n",
    "\n",
    "def update():\n",
    "    region.setZValue(10)\n",
    "    minX, maxX = region.getRegion()\n",
    "    p1.setXRange(minX, maxX, padding=0)    \n",
    "\n",
    "region.sigRegionChanged.connect(update)\n",
    "\n",
    "def updateRegion(window, viewRange):\n",
    "    rgn = viewRange[0]\n",
    "    region.setRegion(rgn)\n",
    "\n",
    "p1.sigRangeChanged.connect(updateRegion)\n",
    "\n",
    "region.setRegion([1000, 2000])\n",
    "\n",
    "#cross hair\n",
    "vLine = pg.InfiniteLine(angle=90, movable=False)\n",
    "hLine = pg.InfiniteLine(angle=0, movable=False)\n",
    "p1.addItem(vLine, ignoreBounds=True)\n",
    "p1.addItem(hLine, ignoreBounds=True)\n",
    "\n",
    "\n",
    "vb = p1.vb\n",
    "\n",
    "def mouseMoved(evt):\n",
    "    pos = evt[0]  ## using signal proxy turns original arguments into a tuple\n",
    "    if p1.sceneBoundingRect().contains(pos):\n",
    "        mousePoint = vb.mapSceneToView(pos)\n",
    "        index = int(mousePoint.x())\n",
    "        if index > 0 and index < len(data1):\n",
    "            label.setText(\"<span style='font-size: 12pt'>x=%0.1f,   <span style='color: red'>y1=%0.1f</span>,   <span style='color: green'>y2=%0.1f</span>\" % (mousePoint.x(), data1[index], data2[index]))\n",
    "        vLine.setPos(mousePoint.x())\n",
    "        hLine.setPos(mousePoint.y())\n",
    "\n",
    "\n",
    "\n",
    "proxy = pg.SignalProxy(p1.scene().sigMouseMoved, rateLimit=60, slot=mouseMoved)\n",
    "#p1.scene().sigMouseMoved.connect(mouseMoved)\n",
    "\n",
    "\n",
    "## Start Qt event loop unless running in interactive mode or using pyside.\n",
    "if __name__ == '__main__':\n",
    "    import sys\n",
    "    if (sys.flags.interactive != 1) or not hasattr(QtCore, 'PYQT_VERSION'):\n",
    "        QtGui.QApplication.instance().exec_()\n"
   ]
  },
  {
   "cell_type": "code",
   "execution_count": 2,
   "metadata": {},
   "outputs": [
    {
     "data": {
      "text/plain": [
       "<pyqtgraph.graphicsItems.PlotItem.PlotItem.PlotItem at 0x11840a4c8>"
      ]
     },
     "execution_count": 2,
     "metadata": {},
     "output_type": "execute_result"
    }
   ],
   "source": [
    "p1\n"
   ]
  },
  {
   "cell_type": "code",
   "execution_count": null,
   "metadata": {
    "collapsed": true
   },
   "outputs": [],
   "source": []
  }
 ],
 "metadata": {
  "kernelspec": {
   "display_name": "Python 3",
   "language": "python",
   "name": "python3"
  },
  "language_info": {
   "codemirror_mode": {
    "name": "ipython",
    "version": 3
   },
   "file_extension": ".py",
   "mimetype": "text/x-python",
   "name": "python",
   "nbconvert_exporter": "python",
   "pygments_lexer": "ipython3",
   "version": "3.6.2"
  },
  "toc": {
   "colors": {
    "hover_highlight": "#DAA520",
    "running_highlight": "#FF0000",
    "selected_highlight": "#FFD700"
   },
   "moveMenuLeft": true,
   "nav_menu": {
    "height": "12px",
    "width": "252px"
   },
   "navigate_menu": true,
   "number_sections": true,
   "sideBar": true,
   "threshold": 4,
   "toc_cell": false,
   "toc_section_display": "block",
   "toc_window_display": false
  }
 },
 "nbformat": 4,
 "nbformat_minor": 2
}
