{
 "cells": [
  {
   "cell_type": "code",
   "execution_count": 1,
   "metadata": {},
   "outputs": [
    {
     "data": {
      "text/html": [
       "\n",
       "<style type=\"text/css\">\n",
       ".jupyter-widgets select option {font-family: \"Lucida Console\", Monaco, monospace;}\n",
       ".jupyter-widgets select {width: 98%;}\n",
       "div.output_subarea {padding: 0px;}\n",
       "div.output_subarea > div {margin: 0.4em;}\n",
       "</style>\n"
      ],
      "text/plain": [
       "<IPython.core.display.HTML object>"
      ]
     },
     "metadata": {},
     "output_type": "display_data"
    }
   ],
   "source": [
    "import os\n",
    "import numpy as np\n",
    "import pprint\n",
    "\n",
    "import matplotlib.pyplot as plt\n",
    "import time\n",
    "import datetime\n",
    "\n",
    "import pandas as pd\n",
    "from __code import time_utility\n",
    "\n",
    "from __code.images_and_metadata_extrapolation_matcher import ImagesAndMetadataExtrapolationMatcher"
   ]
  },
  {
   "cell_type": "markdown",
   "metadata": {},
   "source": [
    "# Case 1 - file name information in both files"
   ]
  },
  {
   "cell_type": "code",
   "execution_count": 2,
   "metadata": {},
   "outputs": [],
   "source": [
    "ascii1 = '/Volumes/my_book_thunderbolt_duo/IPTS/IPTS-20444-Regina/TESTING_SET/images_timestamp_infos.txt'\n",
    "ascii2 = '/Volumes/my_book_thunderbolt_duo/IPTS/IPTS-20444-Regina/TESTING_SET/Sep_17_metadata_report_from_oncat.txt'"
   ]
  },
  {
   "cell_type": "code",
   "execution_count": 3,
   "metadata": {},
   "outputs": [],
   "source": [
    "o_matcher = ImagesAndMetadataExtrapolationMatcher(ascii_file_1=ascii1, ascii_file_2=ascii2)"
   ]
  },
  {
   "cell_type": "code",
   "execution_count": 4,
   "metadata": {},
   "outputs": [],
   "source": [
    "# pprint.pprint(\"ascii1\")\n",
    "# pprint.pprint(o_matcher.ascii_file_1_dataframe)\n",
    "\n",
    "# print(\"\")\n",
    "\n",
    "# pprint.pprint(\"ascii2\")\n",
    "# pprint.pprint(o_matcher.ascii_file_2_dataframe)"
   ]
  },
  {
   "cell_type": "code",
   "execution_count": 5,
   "metadata": {},
   "outputs": [
    {
     "name": "stdout",
     "output_type": "stream",
     "text": [
      "'Data merged'\n",
      "                                           #filename  timestamp(s)  \\\n",
      "0  /Volumes/my_book_thunderbolt_duo/IPTS/IPTS-204...  1.537287e+09   \n",
      "1  /Volumes/my_book_thunderbolt_duo/IPTS/IPTS-204...  1.537287e+09   \n",
      "2  /Volumes/my_book_thunderbolt_duo/IPTS/IPTS-204...  1.537287e+09   \n",
      "3  /Volumes/my_book_thunderbolt_duo/IPTS/IPTS-204...  1.537287e+09   \n",
      "4  /Volumes/my_book_thunderbolt_duo/IPTS/IPTS-204...  1.537287e+09   \n",
      "5  /Volumes/my_book_thunderbolt_duo/IPTS/IPTS-204...  1.537287e+09   \n",
      "6  /Volumes/my_book_thunderbolt_duo/IPTS/IPTS-204...  1.537287e+09   \n",
      "7  /Volumes/my_book_thunderbolt_duo/IPTS/IPTS-204...  1.537287e+09   \n",
      "8  /Volumes/my_book_thunderbolt_duo/IPTS/IPTS-204...  1.537287e+09   \n",
      "\n",
      "  timestamp_user_format_x  timeoffset(s) timestamp_user_format_y  \\\n",
      "0     2018-09-18 12:12:33            0.0     2018-09-17 21:50:51   \n",
      "1     2018-09-18 12:12:57           24.0     2018-09-17 22:10:56   \n",
      "2     2018-09-18 12:13:07           34.0     2018-09-17 22:50:55   \n",
      "3     2018-09-18 12:13:11           38.0     2018-09-17 22:50:56   \n",
      "4     2018-09-18 12:13:25           52.0     2018-09-17 22:50:58   \n",
      "5     2018-09-18 12:13:45           72.0     2018-09-17 23:41:00   \n",
      "6     2018-09-18 12:14:05           92.0     2018-09-18 00:50:52   \n",
      "7     2018-09-18 12:14:15          102.0     2018-09-18 01:40:57   \n",
      "8     2018-09-18 12:14:20          116.0     2018-09-18 02:00:55   \n",
      "\n",
      "   MotCameraVert  MotCameraVert_RBV  MotDetTable  MotDetTable_RBV  \n",
      "0     -51.699796         -51.699796        200.0            200.0  \n",
      "1     -51.699796         -51.699796        200.0            200.0  \n",
      "2     -51.699796         -51.699796        200.0            200.0  \n",
      "3     -51.699796         -51.699796        200.0            200.0  \n",
      "4     -51.699796         -51.699796        200.0            200.0  \n",
      "5     -51.699796         -51.699796        200.0            200.0  \n",
      "6     -51.699796         -51.699796        200.0            200.0  \n",
      "7     -51.699796         -51.699796        200.0            200.0  \n",
      "8     -51.699796         -51.699796        200.0            200.0  \n"
     ]
    }
   ],
   "source": [
    "pprint.pprint(\"Data merged\")\n",
    "pprint.pprint(o_matcher.get_merged_dataframe())"
   ]
  },
  {
   "cell_type": "markdown",
   "metadata": {},
   "source": [
    "# Case 2 - No filename information in one of the metadata"
   ]
  },
  {
   "cell_type": "code",
   "execution_count": 2,
   "metadata": {},
   "outputs": [],
   "source": [
    "ascii1 = '/Volumes/my_book_thunderbolt_duo/IPTS/IPTS-20444-Regina/TESTING_SET/images_timestamp_infos.txt'\n",
    "ascii3 = '/Volumes/my_book_thunderbolt_duo/IPTS/IPTS-20444-Regina/TESTING_SET/A49_3_at80C_4p1mm_120s_2_03_OCV_C03_2columns.txt'\n"
   ]
  },
  {
   "cell_type": "code",
   "execution_count": 3,
   "metadata": {},
   "outputs": [],
   "source": [
    "o_matcher = ImagesAndMetadataExtrapolationMatcher(ascii_file_1=ascii1, ascii_file_2=ascii3)"
   ]
  },
  {
   "cell_type": "code",
   "execution_count": 11,
   "metadata": {},
   "outputs": [],
   "source": [
    "# print(\"ascii1\")\n",
    "# print(o_matcher.ascii_file_1_dataframe)"
   ]
  },
  {
   "cell_type": "code",
   "execution_count": 12,
   "metadata": {},
   "outputs": [],
   "source": [
    "# print(\"\\nascii2\")\n",
    "# print(o_matcher.ascii_file_2_dataframe)"
   ]
  },
  {
   "cell_type": "code",
   "execution_count": 14,
   "metadata": {},
   "outputs": [],
   "source": [
    "ascii_file_1_dataframe = o_matcher.ascii_file_1_dataframe\n",
    "ascii_file_1_dataframe.set_index('timestamp_user_format')\n",
    "\n",
    "ascii_file_2_dataframe = o_matcher.ascii_file_2_dataframe\n",
    "ascii_file_2_dataframe.set_index(\"timestamp_user_format\");"
   ]
  },
  {
   "cell_type": "code",
   "execution_count": 15,
   "metadata": {},
   "outputs": [
    {
     "data": {
      "text/html": [
       "<div>\n",
       "<style scoped>\n",
       "    .dataframe tbody tr th:only-of-type {\n",
       "        vertical-align: middle;\n",
       "    }\n",
       "\n",
       "    .dataframe tbody tr th {\n",
       "        vertical-align: top;\n",
       "    }\n",
       "\n",
       "    .dataframe thead th {\n",
       "        text-align: right;\n",
       "    }\n",
       "</style>\n",
       "<table border=\"1\" class=\"dataframe\">\n",
       "  <thead>\n",
       "    <tr style=\"text-align: right;\">\n",
       "      <th></th>\n",
       "      <th>#filename</th>\n",
       "      <th>timestamp(s)</th>\n",
       "      <th>timestamp_user_format</th>\n",
       "      <th>timeoffset(s)</th>\n",
       "      <th>Unnamed: 0</th>\n",
       "      <th>TimeStamp</th>\n",
       "      <th>Voltage</th>\n",
       "    </tr>\n",
       "  </thead>\n",
       "  <tbody>\n",
       "    <tr>\n",
       "      <th>0</th>\n",
       "      <td>NaN</td>\n",
       "      <td>NaN</td>\n",
       "      <td>2018-09-18 12:10:35</td>\n",
       "      <td>NaN</td>\n",
       "      <td>0.0</td>\n",
       "      <td>1.536357e+09</td>\n",
       "      <td>1.0</td>\n",
       "    </tr>\n",
       "    <tr>\n",
       "      <th>1</th>\n",
       "      <td>NaN</td>\n",
       "      <td>NaN</td>\n",
       "      <td>2018-09-18 12:10:45</td>\n",
       "      <td>NaN</td>\n",
       "      <td>1.0</td>\n",
       "      <td>1.536357e+09</td>\n",
       "      <td>2.0</td>\n",
       "    </tr>\n",
       "    <tr>\n",
       "      <th>2</th>\n",
       "      <td>/Volumes/my_book_thunderbolt_duo/IPTS/IPTS-204...</td>\n",
       "      <td>1.537287e+09</td>\n",
       "      <td>2018-09-18 12:12:33</td>\n",
       "      <td>0.0</td>\n",
       "      <td>NaN</td>\n",
       "      <td>NaN</td>\n",
       "      <td>NaN</td>\n",
       "    </tr>\n",
       "    <tr>\n",
       "      <th>3</th>\n",
       "      <td>NaN</td>\n",
       "      <td>NaN</td>\n",
       "      <td>2018-09-18 12:12:40</td>\n",
       "      <td>NaN</td>\n",
       "      <td>2.0</td>\n",
       "      <td>1.536357e+09</td>\n",
       "      <td>3.0</td>\n",
       "    </tr>\n",
       "    <tr>\n",
       "      <th>4</th>\n",
       "      <td>/Volumes/my_book_thunderbolt_duo/IPTS/IPTS-204...</td>\n",
       "      <td>1.537287e+09</td>\n",
       "      <td>2018-09-18 12:12:57</td>\n",
       "      <td>24.0</td>\n",
       "      <td>NaN</td>\n",
       "      <td>NaN</td>\n",
       "      <td>NaN</td>\n",
       "    </tr>\n",
       "    <tr>\n",
       "      <th>5</th>\n",
       "      <td>NaN</td>\n",
       "      <td>NaN</td>\n",
       "      <td>2018-09-18 12:13:00</td>\n",
       "      <td>NaN</td>\n",
       "      <td>3.0</td>\n",
       "      <td>1.536357e+09</td>\n",
       "      <td>4.0</td>\n",
       "    </tr>\n",
       "    <tr>\n",
       "      <th>6</th>\n",
       "      <td>/Volumes/my_book_thunderbolt_duo/IPTS/IPTS-204...</td>\n",
       "      <td>1.537287e+09</td>\n",
       "      <td>2018-09-18 12:13:07</td>\n",
       "      <td>34.0</td>\n",
       "      <td>NaN</td>\n",
       "      <td>NaN</td>\n",
       "      <td>NaN</td>\n",
       "    </tr>\n",
       "    <tr>\n",
       "      <th>7</th>\n",
       "      <td>NaN</td>\n",
       "      <td>NaN</td>\n",
       "      <td>2018-09-18 12:13:09</td>\n",
       "      <td>NaN</td>\n",
       "      <td>4.0</td>\n",
       "      <td>1.536357e+09</td>\n",
       "      <td>5.0</td>\n",
       "    </tr>\n",
       "    <tr>\n",
       "      <th>8</th>\n",
       "      <td>/Volumes/my_book_thunderbolt_duo/IPTS/IPTS-204...</td>\n",
       "      <td>1.537287e+09</td>\n",
       "      <td>2018-09-18 12:13:11</td>\n",
       "      <td>38.0</td>\n",
       "      <td>NaN</td>\n",
       "      <td>NaN</td>\n",
       "      <td>NaN</td>\n",
       "    </tr>\n",
       "    <tr>\n",
       "      <th>9</th>\n",
       "      <td>NaN</td>\n",
       "      <td>NaN</td>\n",
       "      <td>2018-09-18 12:13:14</td>\n",
       "      <td>NaN</td>\n",
       "      <td>5.0</td>\n",
       "      <td>1.536357e+09</td>\n",
       "      <td>6.0</td>\n",
       "    </tr>\n",
       "    <tr>\n",
       "      <th>10</th>\n",
       "      <td>NaN</td>\n",
       "      <td>NaN</td>\n",
       "      <td>2018-09-18 12:13:20</td>\n",
       "      <td>NaN</td>\n",
       "      <td>6.0</td>\n",
       "      <td>1.536357e+09</td>\n",
       "      <td>7.0</td>\n",
       "    </tr>\n",
       "    <tr>\n",
       "      <th>11</th>\n",
       "      <td>NaN</td>\n",
       "      <td>NaN</td>\n",
       "      <td>2018-09-18 12:13:22</td>\n",
       "      <td>NaN</td>\n",
       "      <td>7.0</td>\n",
       "      <td>1.536357e+09</td>\n",
       "      <td>8.0</td>\n",
       "    </tr>\n",
       "    <tr>\n",
       "      <th>12</th>\n",
       "      <td>/Volumes/my_book_thunderbolt_duo/IPTS/IPTS-204...</td>\n",
       "      <td>1.537287e+09</td>\n",
       "      <td>2018-09-18 12:13:25</td>\n",
       "      <td>52.0</td>\n",
       "      <td>NaN</td>\n",
       "      <td>NaN</td>\n",
       "      <td>NaN</td>\n",
       "    </tr>\n",
       "    <tr>\n",
       "      <th>13</th>\n",
       "      <td>NaN</td>\n",
       "      <td>NaN</td>\n",
       "      <td>2018-09-18 12:13:40</td>\n",
       "      <td>NaN</td>\n",
       "      <td>8.0</td>\n",
       "      <td>1.536357e+09</td>\n",
       "      <td>9.0</td>\n",
       "    </tr>\n",
       "    <tr>\n",
       "      <th>14</th>\n",
       "      <td>/Volumes/my_book_thunderbolt_duo/IPTS/IPTS-204...</td>\n",
       "      <td>1.537287e+09</td>\n",
       "      <td>2018-09-18 12:13:45</td>\n",
       "      <td>72.0</td>\n",
       "      <td>NaN</td>\n",
       "      <td>NaN</td>\n",
       "      <td>NaN</td>\n",
       "    </tr>\n",
       "    <tr>\n",
       "      <th>15</th>\n",
       "      <td>NaN</td>\n",
       "      <td>NaN</td>\n",
       "      <td>2018-09-18 12:13:50</td>\n",
       "      <td>NaN</td>\n",
       "      <td>9.0</td>\n",
       "      <td>1.536357e+09</td>\n",
       "      <td>10.0</td>\n",
       "    </tr>\n",
       "    <tr>\n",
       "      <th>16</th>\n",
       "      <td>/Volumes/my_book_thunderbolt_duo/IPTS/IPTS-204...</td>\n",
       "      <td>1.537287e+09</td>\n",
       "      <td>2018-09-18 12:14:05</td>\n",
       "      <td>92.0</td>\n",
       "      <td>NaN</td>\n",
       "      <td>NaN</td>\n",
       "      <td>NaN</td>\n",
       "    </tr>\n",
       "    <tr>\n",
       "      <th>17</th>\n",
       "      <td>NaN</td>\n",
       "      <td>NaN</td>\n",
       "      <td>2018-09-18 12:14:06</td>\n",
       "      <td>NaN</td>\n",
       "      <td>10.0</td>\n",
       "      <td>1.536357e+09</td>\n",
       "      <td>11.0</td>\n",
       "    </tr>\n",
       "    <tr>\n",
       "      <th>18</th>\n",
       "      <td>/Volumes/my_book_thunderbolt_duo/IPTS/IPTS-204...</td>\n",
       "      <td>1.537287e+09</td>\n",
       "      <td>2018-09-18 12:14:15</td>\n",
       "      <td>102.0</td>\n",
       "      <td>11.0</td>\n",
       "      <td>1.536357e+09</td>\n",
       "      <td>12.0</td>\n",
       "    </tr>\n",
       "    <tr>\n",
       "      <th>19</th>\n",
       "      <td>/Volumes/my_book_thunderbolt_duo/IPTS/IPTS-204...</td>\n",
       "      <td>1.537287e+09</td>\n",
       "      <td>2018-09-18 12:14:20</td>\n",
       "      <td>116.0</td>\n",
       "      <td>NaN</td>\n",
       "      <td>NaN</td>\n",
       "      <td>NaN</td>\n",
       "    </tr>\n",
       "    <tr>\n",
       "      <th>20</th>\n",
       "      <td>NaN</td>\n",
       "      <td>NaN</td>\n",
       "      <td>2018-09-18 12:14:28</td>\n",
       "      <td>NaN</td>\n",
       "      <td>12.0</td>\n",
       "      <td>1.536357e+09</td>\n",
       "      <td>13.0</td>\n",
       "    </tr>\n",
       "  </tbody>\n",
       "</table>\n",
       "</div>"
      ],
      "text/plain": [
       "                                            #filename  timestamp(s)  \\\n",
       "0                                                 NaN           NaN   \n",
       "1                                                 NaN           NaN   \n",
       "2   /Volumes/my_book_thunderbolt_duo/IPTS/IPTS-204...  1.537287e+09   \n",
       "3                                                 NaN           NaN   \n",
       "4   /Volumes/my_book_thunderbolt_duo/IPTS/IPTS-204...  1.537287e+09   \n",
       "5                                                 NaN           NaN   \n",
       "6   /Volumes/my_book_thunderbolt_duo/IPTS/IPTS-204...  1.537287e+09   \n",
       "7                                                 NaN           NaN   \n",
       "8   /Volumes/my_book_thunderbolt_duo/IPTS/IPTS-204...  1.537287e+09   \n",
       "9                                                 NaN           NaN   \n",
       "10                                                NaN           NaN   \n",
       "11                                                NaN           NaN   \n",
       "12  /Volumes/my_book_thunderbolt_duo/IPTS/IPTS-204...  1.537287e+09   \n",
       "13                                                NaN           NaN   \n",
       "14  /Volumes/my_book_thunderbolt_duo/IPTS/IPTS-204...  1.537287e+09   \n",
       "15                                                NaN           NaN   \n",
       "16  /Volumes/my_book_thunderbolt_duo/IPTS/IPTS-204...  1.537287e+09   \n",
       "17                                                NaN           NaN   \n",
       "18  /Volumes/my_book_thunderbolt_duo/IPTS/IPTS-204...  1.537287e+09   \n",
       "19  /Volumes/my_book_thunderbolt_duo/IPTS/IPTS-204...  1.537287e+09   \n",
       "20                                                NaN           NaN   \n",
       "\n",
       "   timestamp_user_format  timeoffset(s)  Unnamed: 0     TimeStamp  Voltage  \n",
       "0    2018-09-18 12:10:35            NaN         0.0  1.536357e+09      1.0  \n",
       "1    2018-09-18 12:10:45            NaN         1.0  1.536357e+09      2.0  \n",
       "2    2018-09-18 12:12:33            0.0         NaN           NaN      NaN  \n",
       "3    2018-09-18 12:12:40            NaN         2.0  1.536357e+09      3.0  \n",
       "4    2018-09-18 12:12:57           24.0         NaN           NaN      NaN  \n",
       "5    2018-09-18 12:13:00            NaN         3.0  1.536357e+09      4.0  \n",
       "6    2018-09-18 12:13:07           34.0         NaN           NaN      NaN  \n",
       "7    2018-09-18 12:13:09            NaN         4.0  1.536357e+09      5.0  \n",
       "8    2018-09-18 12:13:11           38.0         NaN           NaN      NaN  \n",
       "9    2018-09-18 12:13:14            NaN         5.0  1.536357e+09      6.0  \n",
       "10   2018-09-18 12:13:20            NaN         6.0  1.536357e+09      7.0  \n",
       "11   2018-09-18 12:13:22            NaN         7.0  1.536357e+09      8.0  \n",
       "12   2018-09-18 12:13:25           52.0         NaN           NaN      NaN  \n",
       "13   2018-09-18 12:13:40            NaN         8.0  1.536357e+09      9.0  \n",
       "14   2018-09-18 12:13:45           72.0         NaN           NaN      NaN  \n",
       "15   2018-09-18 12:13:50            NaN         9.0  1.536357e+09     10.0  \n",
       "16   2018-09-18 12:14:05           92.0         NaN           NaN      NaN  \n",
       "17   2018-09-18 12:14:06            NaN        10.0  1.536357e+09     11.0  \n",
       "18   2018-09-18 12:14:15          102.0        11.0  1.536357e+09     12.0  \n",
       "19   2018-09-18 12:14:20          116.0         NaN           NaN      NaN  \n",
       "20   2018-09-18 12:14:28            NaN        12.0  1.536357e+09     13.0  "
      ]
     },
     "execution_count": 15,
     "metadata": {},
     "output_type": "execute_result"
    }
   ],
   "source": [
    "merged_dataframe = pd.merge(ascii_file_1_dataframe, ascii_file_2_dataframe, on=\"timestamp_user_format\", how=\"outer\")\n",
    "merged_dataframe.sort_values(by='timestamp_user_format', inplace=True)\n",
    "merged_dataframe = merged_dataframe.reset_index(drop=True)\n",
    "merged_dataframe\n"
   ]
  },
  {
   "cell_type": "markdown",
   "metadata": {},
   "source": [
    "Ask which columns the user wants to extrapolate"
   ]
  },
  {
   "cell_type": "code",
   "execution_count": 16,
   "metadata": {},
   "outputs": [
    {
     "data": {
      "text/plain": [
       "Index(['#filename', 'timestamp(s)', 'timestamp_user_format', 'timeoffset(s)',\n",
       "       'Unnamed: 0', 'TimeStamp', 'Voltage'],\n",
       "      dtype='object')"
      ]
     },
     "execution_count": 16,
     "metadata": {},
     "output_type": "execute_result"
    }
   ],
   "source": [
    "list_columns = merged_dataframe.columns\n",
    "list_columns"
   ]
  },
  {
   "cell_type": "code",
   "execution_count": 18,
   "metadata": {},
   "outputs": [],
   "source": [
    "def get_first_metadata_and_index_value(index=-1, metadata_array=[], direction='left'):\n",
    "    if direction == 'left':\n",
    "        coeff = -1\n",
    "    else:\n",
    "        coeff = +1\n",
    "        \n",
    "    while (np.isnan(metadata_array[index])):\n",
    "        index += coeff\n",
    "        \n",
    "        # if last file timestamp is > last metadata recorded, raise error\n",
    "        if index >= len(metadata_array):\n",
    "            raise ValueError(\"Not enough metadata to extrapolate value!\")\n",
    "        \n",
    "    return [metadata_array[index], index]"
   ]
  },
  {
   "cell_type": "code",
   "execution_count": 31,
   "metadata": {},
   "outputs": [],
   "source": [
    "import time\n",
    "def convert_to_second(timestamp_value, timestamp_format=\"%Y-%m-%d %I:%M:%S\"):\n",
    "    d = datetime.datetime.strptime(timestamp_value, timestamp_format )\n",
    "    return time.mktime(d.timetuple())    "
   ]
  },
  {
   "cell_type": "code",
   "execution_count": 120,
   "metadata": {},
   "outputs": [],
   "source": [
    "def calculate_extrapolated_metadata(global_index=-1, metadata_array=[], timestamp_array=[]):\n",
    "    \n",
    "#     print(\"calculate_extrapolated_metadata\")\n",
    "#     print(\"metadata_array: {}\".format(metadata_array))\n",
    "#     print(\"timestamp_array: {}\".format(timestamp_array))\n",
    "    \n",
    "    [left_metadata_value, left_index] = get_first_metadata_and_index_value(index=global_index, \n",
    "                                                                           metadata_array=metadata_array,\n",
    "                                                                           direction='left')\n",
    "    [right_metadata_value, right_index] = get_first_metadata_and_index_value(index=global_index,\n",
    "                                                                             metadata_array=metadata_array,\n",
    "                                                                             direction='right')\n",
    "    \n",
    "#     print(\"-> left_metadata_value: {}\".format(left_metadata_value))\n",
    "#     print(\"-> left_index: {}\".format(left_index))\n",
    "#     print(\"-> right_metadata_value: {}\".format(right_metadata_value))\n",
    "#     print(\"-> right_index: {}\".format(right_index))   \n",
    "    \n",
    "    left_timestamp_s_format = convert_to_second(timestamp_array[left_index])\n",
    "    right_timestamp_s_format = convert_to_second(timestamp_array[right_index])\n",
    "    \n",
    "    x_timestamp_s_format = convert_to_second(timestamp_array[global_index])\n",
    "    \n",
    "    extra_value = extrapolate_value(x=x_timestamp_s_format,\n",
    "                                   x_left=left_timestamp_s_format,\n",
    "                                   x_right=right_timestamp_s_format,\n",
    "                                   y_left=left_metadata_value,\n",
    "                                   y_right=right_metadata_value)\n",
    "    return extra_value\n",
    "    "
   ]
  },
  {
   "cell_type": "code",
   "execution_count": 121,
   "metadata": {},
   "outputs": [],
   "source": [
    "def extrapolate_value(x=1, x_left=1, x_right=1, y_left=1, y_right=1):\n",
    "    \n",
    "#     print(\"in extrapolate_value\")\n",
    "#     print(\"--> x: {}\".format(x))\n",
    "#     print(\"--> x_left: {}\".format(x_left))\n",
    "#     print(\"--> x_right: {}\".format(x_right))\n",
    "#     print(\"--> y_left: {}\".format(y_left))\n",
    "#     print(\"--> y_right: {}\".format(y_right))\n",
    "    \n",
    "    coeff = (float(y_right) - float(y_left)) / (float(x_right) - float(x_left))\n",
    "#     print(\"---> coeff: {}\".format(coeff))\n",
    "    part1 = coeff * (float(x) - float(x_left))\n",
    "#     print(\"--> part1: {}\".format(part1))\n",
    "#     print(\"--> part1 + float(y_left): {}\".format(part1 + float(y_left)))\n",
    "    return part1 + float(y_left)"
   ]
  },
  {
   "cell_type": "code",
   "execution_count": 132,
   "metadata": {
    "scrolled": false
   },
   "outputs": [
    {
     "name": "stdout",
     "output_type": "stream",
     "text": [
      "'metadata array'\n",
      "0      1.0\n",
      "1      2.0\n",
      "2      NaN\n",
      "3      3.0\n",
      "4      NaN\n",
      "5      4.0\n",
      "6      NaN\n",
      "7      5.0\n",
      "8      NaN\n",
      "9      6.0\n",
      "10     7.0\n",
      "11     8.0\n",
      "12     NaN\n",
      "13     9.0\n",
      "14     NaN\n",
      "15    10.0\n",
      "16     NaN\n",
      "17    11.0\n",
      "18    12.0\n",
      "19     NaN\n",
      "20    13.0\n",
      "Name: Voltage, dtype: float64\n",
      "2\n",
      "4\n",
      "6\n",
      "8\n",
      "12\n",
      "14\n",
      "16\n",
      "19\n"
     ]
    }
   ],
   "source": [
    "# let's pretend user selected \n",
    "columns_name_to_extrapolate = \"Voltage\"\n",
    "\n",
    "metadata_array = merged_dataframe['Voltage']\n",
    "timestamp_array = merged_dataframe['timestamp_user_format']\n",
    "\n",
    "# pprint.pprint(\"metadata array\")\n",
    "# pprint.pprint(metadata_array)\n",
    "\n",
    "new_metadata_array = []\n",
    "voltage_extrapolated_array = []\n",
    "for _index in np.arange(len(metadata_array)):\n",
    "    \n",
    "    _metadata_value = metadata_array[_index]\n",
    "    if np.isnan(_metadata_value):\n",
    "        _new_value = calculate_extrapolated_metadata(global_index=_index,\n",
    "                                                    metadata_array=metadata_array,\n",
    "                                                    timestamp_array=timestamp_array)\n",
    "        voltage_extrapolated_array.append(_new_value)\n",
    "    else:\n",
    "        _new_value = _metadata_value\n",
    "        \n",
    "    new_metadata_array.append(_new_value)\n",
    "   \n",
    "# pprint.pprint(\"new metadata_array\")\n",
    "# pprint.pprint(new_metadata_array)\n",
    "   "
   ]
  },
  {
   "cell_type": "code",
   "execution_count": 123,
   "metadata": {},
   "outputs": [],
   "source": [
    "time_column = timestamp_array\n",
    "time_column_s = [convert_to_second(_time, timestamp_format=\"%Y-%m-%d %I:%M:%S\") for _time in time_column]"
   ]
  },
  {
   "cell_type": "code",
   "execution_count": 124,
   "metadata": {},
   "outputs": [],
   "source": [
    "%matplotlib notebook"
   ]
  },
  {
   "cell_type": "code",
   "execution_count": 125,
   "metadata": {},
   "outputs": [],
   "source": [
    "# voltage (metadata file)"
   ]
  },
  {
   "cell_type": "code",
   "execution_count": 126,
   "metadata": {},
   "outputs": [],
   "source": [
    "timestamp_with_voltage_known = ascii_file_2_dataframe['timestamp_user_format']\n",
    "time_column_voltage_known = timestamp_with_voltage_known\n",
    "time_column_s_known = [convert_to_second(_time, timestamp_format=\"%Y-%m-%d %I:%M:%S\") for _time in time_column_voltage_known]\n",
    "voltage_column = ascii_file_2_dataframe['Voltage']"
   ]
  },
  {
   "cell_type": "code",
   "execution_count": 127,
   "metadata": {},
   "outputs": [],
   "source": [
    "# time stamp vs file name file"
   ]
  },
  {
   "cell_type": "code",
   "execution_count": 153,
   "metadata": {
    "scrolled": true
   },
   "outputs": [],
   "source": [
    "list_index = list(np.where(np.isnan(merged_dataframe['Voltage'])))\n",
    "time_column_voltage_unknown = np.array(timestamp_array)[list_index]"
   ]
  },
  {
   "cell_type": "code",
   "execution_count": 158,
   "metadata": {},
   "outputs": [],
   "source": [
    "#time_column_voltage_unknown = ascii_file_1_dataframe['timestamp_user_format']\n",
    "#time_column_voltage_unknown = time_column_voltage_unknown\n",
    "time_column_s_unknown = [convert_to_second(_time, timestamp_format=\"%Y-%m-%d %I:%M:%S\") for _time in time_column_voltage_unknown]\n"
   ]
  },
  {
   "cell_type": "code",
   "execution_count": 1,
   "metadata": {},
   "outputs": [
    {
     "ename": "NameError",
     "evalue": "name 'plt' is not defined",
     "output_type": "error",
     "traceback": [
      "\u001b[0;31m---------------------------------------------------------------------------\u001b[0m",
      "\u001b[0;31mNameError\u001b[0m                                 Traceback (most recent call last)",
      "\u001b[0;32m<ipython-input-1-c0d542f86969>\u001b[0m in \u001b[0;36m<module>\u001b[0;34m\u001b[0m\n\u001b[0;32m----> 1\u001b[0;31m \u001b[0mfig\u001b[0m\u001b[0;34m,\u001b[0m \u001b[0max\u001b[0m \u001b[0;34m=\u001b[0m \u001b[0mplt\u001b[0m\u001b[0;34m.\u001b[0m\u001b[0msubplots\u001b[0m\u001b[0;34m(\u001b[0m\u001b[0;34m)\u001b[0m\u001b[0;34m\u001b[0m\u001b[0;34m\u001b[0m\u001b[0m\n\u001b[0m\u001b[1;32m      2\u001b[0m \u001b[0max\u001b[0m\u001b[0;34m.\u001b[0m\u001b[0mplot\u001b[0m\u001b[0;34m(\u001b[0m\u001b[0mtime_column_s_known\u001b[0m\u001b[0;34m,\u001b[0m \u001b[0mvoltage_column\u001b[0m\u001b[0;34m,\u001b[0m \u001b[0;34m'+'\u001b[0m\u001b[0;34m,\u001b[0m \u001b[0mlabel\u001b[0m\u001b[0;34m=\u001b[0m\u001b[0;34m'Time Stamp vs File Name'\u001b[0m\u001b[0;34m)\u001b[0m\u001b[0;34m\u001b[0m\u001b[0;34m\u001b[0m\u001b[0m\n\u001b[1;32m      3\u001b[0m \u001b[0max\u001b[0m\u001b[0;34m.\u001b[0m\u001b[0mset_xlabel\u001b[0m\u001b[0;34m(\u001b[0m\u001b[0;34m\"Time (s)\"\u001b[0m\u001b[0;34m)\u001b[0m\u001b[0;34m\u001b[0m\u001b[0;34m\u001b[0m\u001b[0m\n\u001b[1;32m      4\u001b[0m \u001b[0max\u001b[0m\u001b[0;34m.\u001b[0m\u001b[0mset_ylabel\u001b[0m\u001b[0;34m(\u001b[0m\u001b[0;34m\"Voltage\"\u001b[0m\u001b[0;34m)\u001b[0m\u001b[0;34m\u001b[0m\u001b[0;34m\u001b[0m\u001b[0m\n\u001b[1;32m      5\u001b[0m \u001b[0;34m\u001b[0m\u001b[0m\n",
      "\u001b[0;31mNameError\u001b[0m: name 'plt' is not defined"
     ]
    }
   ],
   "source": [
    "fig, ax = plt.subplots()\n",
    "ax.plot(time_column_s_known, voltage_column, '+', label='Time Stamp vs File Name')\n",
    "ax.set_xlabel(\"Time (s)\")\n",
    "ax.set_ylabel(\"Voltage\")\n",
    "\n",
    "for _vl in time_column_s_unknown:\n",
    "    ax.axvline(x=_vl, color='r', linestyle='--')\n",
    "\n",
    "ax.plot(time_column_s_unknown, voltage_extrapolated_array, '*g', label='Extrapolated metadata')\n",
    "#ax.axvline(x=time_column_s_unknown[0], color='r', linestyle='--', label=\"Regina's metadata\")\n",
    "\n",
    "ax.legend()"
   ]
  },
  {
   "cell_type": "code",
   "execution_count": null,
   "metadata": {},
   "outputs": [],
   "source": []
  },
  {
   "cell_type": "code",
   "execution_count": null,
   "metadata": {},
   "outputs": [],
   "source": []
  },
  {
   "cell_type": "code",
   "execution_count": null,
   "metadata": {},
   "outputs": [],
   "source": []
  },
  {
   "cell_type": "code",
   "execution_count": null,
   "metadata": {},
   "outputs": [],
   "source": []
  },
  {
   "cell_type": "code",
   "execution_count": null,
   "metadata": {},
   "outputs": [],
   "source": []
  },
  {
   "cell_type": "code",
   "execution_count": null,
   "metadata": {},
   "outputs": [],
   "source": []
  },
  {
   "cell_type": "code",
   "execution_count": null,
   "metadata": {},
   "outputs": [],
   "source": []
  },
  {
   "cell_type": "code",
   "execution_count": null,
   "metadata": {},
   "outputs": [],
   "source": []
  },
  {
   "cell_type": "markdown",
   "metadata": {},
   "source": [
    "Metadata from Regina's data set retrieve"
   ]
  },
  {
   "cell_type": "code",
   "execution_count": 99,
   "metadata": {},
   "outputs": [
    {
     "ename": "TypeError",
     "evalue": "tuple indices must be integers or slices, not str",
     "output_type": "error",
     "traceback": [
      "\u001b[0;31m---------------------------------------------------------------------------\u001b[0m",
      "\u001b[0;31mTypeError\u001b[0m                                 Traceback (most recent call last)",
      "\u001b[0;32m<ipython-input-99-6bf6cbb7ffe4>\u001b[0m in \u001b[0;36m<module>\u001b[0;34m\u001b[0m\n\u001b[1;32m      6\u001b[0m \u001b[0mdata_column_ascii1\u001b[0m \u001b[0;34m=\u001b[0m \u001b[0mnp\u001b[0m\u001b[0;34m.\u001b[0m\u001b[0masarray\u001b[0m\u001b[0;34m(\u001b[0m\u001b[0m_dataframe3\u001b[0m\u001b[0;34m[\u001b[0m\u001b[0;34m'Voltage'\u001b[0m\u001b[0;34m]\u001b[0m\u001b[0;34m)\u001b[0m\u001b[0;34m\u001b[0m\u001b[0;34m\u001b[0m\u001b[0m\n\u001b[1;32m      7\u001b[0m \u001b[0;31m#time_column\u001b[0m\u001b[0;34m\u001b[0m\u001b[0;34m\u001b[0m\u001b[0;34m\u001b[0m\u001b[0m\n\u001b[0;32m----> 8\u001b[0;31m \u001b[0mtime_column_ascii1\u001b[0m \u001b[0;34m=\u001b[0m \u001b[0;34m[\u001b[0m\u001b[0mget_seconds\u001b[0m\u001b[0;34m(\u001b[0m\u001b[0m_time\u001b[0m\u001b[0;34m)\u001b[0m \u001b[0;32mfor\u001b[0m \u001b[0m_time\u001b[0m \u001b[0;32min\u001b[0m \u001b[0mtime_column\u001b[0m\u001b[0;34m]\u001b[0m\u001b[0;34m\u001b[0m\u001b[0;34m\u001b[0m\u001b[0m\n\u001b[0m\u001b[1;32m      9\u001b[0m \u001b[0;34m\u001b[0m\u001b[0m\n",
      "\u001b[0;32m<ipython-input-99-6bf6cbb7ffe4>\u001b[0m in \u001b[0;36m<listcomp>\u001b[0;34m(.0)\u001b[0m\n\u001b[1;32m      6\u001b[0m \u001b[0mdata_column_ascii1\u001b[0m \u001b[0;34m=\u001b[0m \u001b[0mnp\u001b[0m\u001b[0;34m.\u001b[0m\u001b[0masarray\u001b[0m\u001b[0;34m(\u001b[0m\u001b[0m_dataframe3\u001b[0m\u001b[0;34m[\u001b[0m\u001b[0;34m'Voltage'\u001b[0m\u001b[0;34m]\u001b[0m\u001b[0;34m)\u001b[0m\u001b[0;34m\u001b[0m\u001b[0;34m\u001b[0m\u001b[0m\n\u001b[1;32m      7\u001b[0m \u001b[0;31m#time_column\u001b[0m\u001b[0;34m\u001b[0m\u001b[0;34m\u001b[0m\u001b[0;34m\u001b[0m\u001b[0m\n\u001b[0;32m----> 8\u001b[0;31m \u001b[0mtime_column_ascii1\u001b[0m \u001b[0;34m=\u001b[0m \u001b[0;34m[\u001b[0m\u001b[0mget_seconds\u001b[0m\u001b[0;34m(\u001b[0m\u001b[0m_time\u001b[0m\u001b[0;34m)\u001b[0m \u001b[0;32mfor\u001b[0m \u001b[0m_time\u001b[0m \u001b[0;32min\u001b[0m \u001b[0mtime_column\u001b[0m\u001b[0;34m]\u001b[0m\u001b[0;34m\u001b[0m\u001b[0;34m\u001b[0m\u001b[0m\n\u001b[0m\u001b[1;32m      9\u001b[0m \u001b[0;34m\u001b[0m\u001b[0m\n",
      "\u001b[0;32m<ipython-input-98-37d4f0733062>\u001b[0m in \u001b[0;36mget_seconds\u001b[0;34m(time_string, time_format)\u001b[0m\n\u001b[1;32m      2\u001b[0m     \u001b[0;31m# time_string = 09/18/2018 12:00:35\u001b[0m\u001b[0;34m\u001b[0m\u001b[0;34m\u001b[0m\u001b[0;34m\u001b[0m\u001b[0m\n\u001b[1;32m      3\u001b[0m     \u001b[0mx\u001b[0m \u001b[0;34m=\u001b[0m \u001b[0mtime\u001b[0m\u001b[0;34m.\u001b[0m\u001b[0mstrptime\u001b[0m\u001b[0;34m(\u001b[0m\u001b[0mtime_string\u001b[0m\u001b[0;34m.\u001b[0m\u001b[0mstrip\u001b[0m\u001b[0;34m(\u001b[0m\u001b[0;34m)\u001b[0m\u001b[0;34m,\u001b[0m \u001b[0mtime_format\u001b[0m\u001b[0;34m)\u001b[0m\u001b[0;34m\u001b[0m\u001b[0;34m\u001b[0m\u001b[0m\n\u001b[0;32m----> 4\u001b[0;31m     \u001b[0mprint\u001b[0m\u001b[0;34m(\u001b[0m\u001b[0mx\u001b[0m\u001b[0;34m[\u001b[0m\u001b[0;34m'tm_min'\u001b[0m\u001b[0;34m]\u001b[0m\u001b[0;34m)\u001b[0m\u001b[0;34m\u001b[0m\u001b[0;34m\u001b[0m\u001b[0m\n\u001b[0m\u001b[1;32m      5\u001b[0m     \u001b[0;32mreturn\u001b[0m \u001b[0mdatetime\u001b[0m\u001b[0;34m.\u001b[0m\u001b[0mtimedelta\u001b[0m\u001b[0;34m(\u001b[0m\u001b[0mhours\u001b[0m\u001b[0;34m=\u001b[0m\u001b[0mx\u001b[0m\u001b[0;34m.\u001b[0m\u001b[0mtm_hour\u001b[0m\u001b[0;34m,\u001b[0m \u001b[0mminutes\u001b[0m\u001b[0;34m=\u001b[0m\u001b[0mx\u001b[0m\u001b[0;34m.\u001b[0m\u001b[0mtm_min\u001b[0m\u001b[0;34m,\u001b[0m \u001b[0mseconds\u001b[0m\u001b[0;34m=\u001b[0m\u001b[0mx\u001b[0m\u001b[0;34m.\u001b[0m\u001b[0mtm_sec\u001b[0m\u001b[0;34m)\u001b[0m\u001b[0;34m.\u001b[0m\u001b[0mtotal_seconds\u001b[0m\u001b[0;34m(\u001b[0m\u001b[0;34m)\u001b[0m\u001b[0;34m\u001b[0m\u001b[0;34m\u001b[0m\u001b[0m\n",
      "\u001b[0;31mTypeError\u001b[0m: tuple indices must be integers or slices, not str"
     ]
    }
   ],
   "source": [
    "_dataframe3 = pd.read_csv(ascii3)\n",
    "#_dataframe.set_index(INDEX)\n",
    "_dataframe3\n",
    "\n",
    "time_column = np.asarray(_dataframe3['time_user_format'])\n",
    "data_column_ascii1 = np.asarray(_dataframe3['Voltage'])\n",
    "#time_column\n",
    "time_column_ascii1 = [get_seconds(_time) for _time in time_column]\n"
   ]
  },
  {
   "cell_type": "markdown",
   "metadata": {},
   "source": [
    "Data coming from file_name vs time stamp"
   ]
  },
  {
   "cell_type": "code",
   "execution_count": 39,
   "metadata": {},
   "outputs": [
    {
     "data": {
      "text/html": [
       "<div>\n",
       "<style scoped>\n",
       "    .dataframe tbody tr th:only-of-type {\n",
       "        vertical-align: middle;\n",
       "    }\n",
       "\n",
       "    .dataframe tbody tr th {\n",
       "        vertical-align: top;\n",
       "    }\n",
       "\n",
       "    .dataframe thead th {\n",
       "        text-align: right;\n",
       "    }\n",
       "</style>\n",
       "<table border=\"1\" class=\"dataframe\">\n",
       "  <thead>\n",
       "    <tr style=\"text-align: right;\">\n",
       "      <th></th>\n",
       "      <th>#filename</th>\n",
       "      <th>timestamp(s)</th>\n",
       "      <th>timestamp_user_format</th>\n",
       "      <th>timeoffset(s)</th>\n",
       "    </tr>\n",
       "  </thead>\n",
       "  <tbody>\n",
       "    <tr>\n",
       "      <th>0</th>\n",
       "      <td>/Volumes/my_book_thunderbolt_duo/IPTS/IPTS-204...</td>\n",
       "      <td>1.537287e+09</td>\n",
       "      <td>2018-09-18 12:12:33</td>\n",
       "      <td>0.0</td>\n",
       "    </tr>\n",
       "    <tr>\n",
       "      <th>1</th>\n",
       "      <td>/Volumes/my_book_thunderbolt_duo/IPTS/IPTS-204...</td>\n",
       "      <td>1.537287e+09</td>\n",
       "      <td>2018-09-18 12:12:57</td>\n",
       "      <td>24.0</td>\n",
       "    </tr>\n",
       "    <tr>\n",
       "      <th>2</th>\n",
       "      <td>/Volumes/my_book_thunderbolt_duo/IPTS/IPTS-204...</td>\n",
       "      <td>1.537287e+09</td>\n",
       "      <td>2018-09-18 12:13:07</td>\n",
       "      <td>34.0</td>\n",
       "    </tr>\n",
       "    <tr>\n",
       "      <th>3</th>\n",
       "      <td>/Volumes/my_book_thunderbolt_duo/IPTS/IPTS-204...</td>\n",
       "      <td>1.537287e+09</td>\n",
       "      <td>2018-09-18 12:13:11</td>\n",
       "      <td>38.0</td>\n",
       "    </tr>\n",
       "    <tr>\n",
       "      <th>4</th>\n",
       "      <td>/Volumes/my_book_thunderbolt_duo/IPTS/IPTS-204...</td>\n",
       "      <td>1.537287e+09</td>\n",
       "      <td>2018-09-18 12:13:25</td>\n",
       "      <td>52.0</td>\n",
       "    </tr>\n",
       "    <tr>\n",
       "      <th>5</th>\n",
       "      <td>/Volumes/my_book_thunderbolt_duo/IPTS/IPTS-204...</td>\n",
       "      <td>1.537287e+09</td>\n",
       "      <td>2018-09-18 12:13:45</td>\n",
       "      <td>72.0</td>\n",
       "    </tr>\n",
       "    <tr>\n",
       "      <th>6</th>\n",
       "      <td>/Volumes/my_book_thunderbolt_duo/IPTS/IPTS-204...</td>\n",
       "      <td>1.537287e+09</td>\n",
       "      <td>2018-09-18 12:14:05</td>\n",
       "      <td>92.0</td>\n",
       "    </tr>\n",
       "    <tr>\n",
       "      <th>7</th>\n",
       "      <td>/Volumes/my_book_thunderbolt_duo/IPTS/IPTS-204...</td>\n",
       "      <td>1.537287e+09</td>\n",
       "      <td>2018-09-18 12:14:15</td>\n",
       "      <td>102.0</td>\n",
       "    </tr>\n",
       "    <tr>\n",
       "      <th>8</th>\n",
       "      <td>/Volumes/my_book_thunderbolt_duo/IPTS/IPTS-204...</td>\n",
       "      <td>1.537287e+09</td>\n",
       "      <td>2018-09-18 12:14:29</td>\n",
       "      <td>116.0</td>\n",
       "    </tr>\n",
       "  </tbody>\n",
       "</table>\n",
       "</div>"
      ],
      "text/plain": [
       "                                           #filename   timestamp(s)  \\\n",
       "0  /Volumes/my_book_thunderbolt_duo/IPTS/IPTS-204...   1.537287e+09   \n",
       "1  /Volumes/my_book_thunderbolt_duo/IPTS/IPTS-204...   1.537287e+09   \n",
       "2  /Volumes/my_book_thunderbolt_duo/IPTS/IPTS-204...   1.537287e+09   \n",
       "3  /Volumes/my_book_thunderbolt_duo/IPTS/IPTS-204...   1.537287e+09   \n",
       "4  /Volumes/my_book_thunderbolt_duo/IPTS/IPTS-204...   1.537287e+09   \n",
       "5  /Volumes/my_book_thunderbolt_duo/IPTS/IPTS-204...   1.537287e+09   \n",
       "6  /Volumes/my_book_thunderbolt_duo/IPTS/IPTS-204...   1.537287e+09   \n",
       "7  /Volumes/my_book_thunderbolt_duo/IPTS/IPTS-204...   1.537287e+09   \n",
       "8  /Volumes/my_book_thunderbolt_duo/IPTS/IPTS-204...   1.537287e+09   \n",
       "\n",
       "   timestamp_user_format   timeoffset(s)  \n",
       "0    2018-09-18 12:12:33             0.0  \n",
       "1    2018-09-18 12:12:57            24.0  \n",
       "2    2018-09-18 12:13:07            34.0  \n",
       "3    2018-09-18 12:13:11            38.0  \n",
       "4    2018-09-18 12:13:25            52.0  \n",
       "5    2018-09-18 12:13:45            72.0  \n",
       "6    2018-09-18 12:14:05            92.0  \n",
       "7    2018-09-18 12:14:15           102.0  \n",
       "8    2018-09-18 12:14:29           116.0  "
      ]
     },
     "execution_count": 39,
     "metadata": {},
     "output_type": "execute_result"
    }
   ],
   "source": [
    "_dataframe1 = pd.read_csv(ascii1)\n",
    "#_dataframe.set_index(INDEX)\n",
    "_dataframe1"
   ]
  },
  {
   "cell_type": "code",
   "execution_count": 6,
   "metadata": {},
   "outputs": [],
   "source": [
    "time_column = np.asarray(_dataframe1[' timestamp_user_format'])\n",
    "time_column_s = [get_seconds(_time, time_format=\"%Y-%m-%d %I:%M:%S\") for _time in time_column]"
   ]
  },
  {
   "cell_type": "code",
   "execution_count": 62,
   "metadata": {},
   "outputs": [
    {
     "data": {
      "text/plain": [
       "<matplotlib.legend.Legend at 0x1180745c0>"
      ]
     },
     "execution_count": 62,
     "metadata": {},
     "output_type": "execute_result"
    },
    {
     "data": {
      "image/png": "[encoded data removed]",
      "text/plain": [
       "<Figure size 432x288 with 1 Axes>"
      ]
     },
     "metadata": {
      "needs_background": "light"
     },
     "output_type": "display_data"
    }
   ],
   "source": [
    "fig, ax = plt.subplots()\n",
    "ax.plot(time_column_ascii1, data_column_ascii1, '*-', label='Time Stamp vs File Name')\n",
    "ax.set_xlabel(\"Time (s)\")\n",
    "ax.set_ylabel(\"Voltage\")\n",
    "\n",
    "for _vl in time_column_s[1:]:\n",
    "    ax.axvline(x=_vl, color='r', linestyle='--')\n",
    "\n",
    "ax.axvline(x=time_column_s[0], color='r', linestyle='--', label=\"Regina's metadata\")\n",
    "\n",
    "ax.legend()\n"
   ]
  },
  {
   "cell_type": "markdown",
   "metadata": {},
   "source": [
    "Checking the conversion of time/date units"
   ]
  },
  {
   "cell_type": "code",
   "execution_count": 60,
   "metadata": {},
   "outputs": [],
   "source": [
    "format1 = \"2018-09-18 12:12:7\"\n",
    "format1_reader = \"%Y-%m-%d %I:%M:%S\"\n",
    "format2 = \"09/18/2018 12:10:35\"\n",
    "format2_reader = \"%m/%d/%Y %I:%M:%S\""
   ]
  },
  {
   "cell_type": "code",
   "execution_count": 96,
   "metadata": {},
   "outputs": [
    {
     "data": {
      "text/plain": [
       "False"
      ]
     },
     "execution_count": 96,
     "metadata": {},
     "output_type": "execute_result"
    }
   ],
   "source": [
    "a=\"dfdfdf\"\n",
    "type(a) is list"
   ]
  },
  {
   "cell_type": "code",
   "execution_count": 82,
   "metadata": {},
   "outputs": [
    {
     "name": "stdout",
     "output_type": "stream",
     "text": [
      "2018-09-18 12:12:7 -> 2018/9/18 0:12:7\n"
     ]
    }
   ],
   "source": [
    "global_format = time.strptime(format1.strip(), format1_reader)\n",
    "\n",
    "new_format = \"{}/{}/{} {}:{}:{:}\".format(global_format.tm_year,\n",
    "                                        global_format.tm_mon,\n",
    "                                        global_format.tm_mday,\n",
    "                                        global_format.tm_hour,\n",
    "                                        global_format.tm_min,\n",
    "                                        global_format.tm_sec)\n",
    "print(\"{} -> {}\".format(format1, new_format))"
   ]
  },
  {
   "cell_type": "code",
   "execution_count": 83,
   "metadata": {},
   "outputs": [],
   "source": [
    "# global_format = time.strptime(format2.strip(), format2_reader)\n",
    "\n",
    "# new_format = \"{}/{}/{} {}:{}:{}\".format(global_format.tm_year,\n",
    "#                                         global_format.tm_mon,\n",
    "#                                         global_format.tm_mday,\n",
    "#                                         global_format.tm_hour,\n",
    "#                                         global_format.tm_min,\n",
    "#                                         global_format.tm_sec)\n",
    "# print(\"{} -> {}\".format(format2, new_format))"
   ]
  },
  {
   "cell_type": "code",
   "execution_count": null,
   "metadata": {},
   "outputs": [],
   "source": []
  },
  {
   "cell_type": "code",
   "execution_count": 84,
   "metadata": {},
   "outputs": [
    {
     "data": {
      "text/html": [
       "<div>\n",
       "<style scoped>\n",
       "    .dataframe tbody tr th:only-of-type {\n",
       "        vertical-align: middle;\n",
       "    }\n",
       "\n",
       "    .dataframe tbody tr th {\n",
       "        vertical-align: top;\n",
       "    }\n",
       "\n",
       "    .dataframe thead th {\n",
       "        text-align: right;\n",
       "    }\n",
       "</style>\n",
       "<table border=\"1\" class=\"dataframe\">\n",
       "  <thead>\n",
       "    <tr style=\"text-align: right;\">\n",
       "      <th></th>\n",
       "      <th>#filename</th>\n",
       "      <th>timestamp(s)</th>\n",
       "      <th>timestamp_user_format</th>\n",
       "      <th>timeoffset(s)</th>\n",
       "    </tr>\n",
       "  </thead>\n",
       "  <tbody>\n",
       "    <tr>\n",
       "      <th>0</th>\n",
       "      <td>/Volumes/my_book_thunderbolt_duo/IPTS/IPTS-204...</td>\n",
       "      <td>1.537287e+09</td>\n",
       "      <td>2018/9/18 0:12:33</td>\n",
       "      <td>0.0</td>\n",
       "    </tr>\n",
       "    <tr>\n",
       "      <th>1</th>\n",
       "      <td>/Volumes/my_book_thunderbolt_duo/IPTS/IPTS-204...</td>\n",
       "      <td>1.537287e+09</td>\n",
       "      <td>2018/9/18 0:12:57</td>\n",
       "      <td>24.0</td>\n",
       "    </tr>\n",
       "    <tr>\n",
       "      <th>2</th>\n",
       "      <td>/Volumes/my_book_thunderbolt_duo/IPTS/IPTS-204...</td>\n",
       "      <td>1.537287e+09</td>\n",
       "      <td>2018/9/18 0:13:7</td>\n",
       "      <td>34.0</td>\n",
       "    </tr>\n",
       "    <tr>\n",
       "      <th>3</th>\n",
       "      <td>/Volumes/my_book_thunderbolt_duo/IPTS/IPTS-204...</td>\n",
       "      <td>1.537287e+09</td>\n",
       "      <td>2018/9/18 0:13:11</td>\n",
       "      <td>38.0</td>\n",
       "    </tr>\n",
       "    <tr>\n",
       "      <th>4</th>\n",
       "      <td>/Volumes/my_book_thunderbolt_duo/IPTS/IPTS-204...</td>\n",
       "      <td>1.537287e+09</td>\n",
       "      <td>2018/9/18 0:13:25</td>\n",
       "      <td>52.0</td>\n",
       "    </tr>\n",
       "    <tr>\n",
       "      <th>5</th>\n",
       "      <td>/Volumes/my_book_thunderbolt_duo/IPTS/IPTS-204...</td>\n",
       "      <td>1.537287e+09</td>\n",
       "      <td>2018/9/18 0:13:45</td>\n",
       "      <td>72.0</td>\n",
       "    </tr>\n",
       "    <tr>\n",
       "      <th>6</th>\n",
       "      <td>/Volumes/my_book_thunderbolt_duo/IPTS/IPTS-204...</td>\n",
       "      <td>1.537287e+09</td>\n",
       "      <td>2018/9/18 0:14:5</td>\n",
       "      <td>92.0</td>\n",
       "    </tr>\n",
       "    <tr>\n",
       "      <th>7</th>\n",
       "      <td>/Volumes/my_book_thunderbolt_duo/IPTS/IPTS-204...</td>\n",
       "      <td>1.537287e+09</td>\n",
       "      <td>2018/9/18 0:14:15</td>\n",
       "      <td>102.0</td>\n",
       "    </tr>\n",
       "    <tr>\n",
       "      <th>8</th>\n",
       "      <td>/Volumes/my_book_thunderbolt_duo/IPTS/IPTS-204...</td>\n",
       "      <td>1.537287e+09</td>\n",
       "      <td>2018/9/18 0:14:29</td>\n",
       "      <td>116.0</td>\n",
       "    </tr>\n",
       "  </tbody>\n",
       "</table>\n",
       "</div>"
      ],
      "text/plain": [
       "                                           #filename   timestamp(s)  \\\n",
       "0  /Volumes/my_book_thunderbolt_duo/IPTS/IPTS-204...   1.537287e+09   \n",
       "1  /Volumes/my_book_thunderbolt_duo/IPTS/IPTS-204...   1.537287e+09   \n",
       "2  /Volumes/my_book_thunderbolt_duo/IPTS/IPTS-204...   1.537287e+09   \n",
       "3  /Volumes/my_book_thunderbolt_duo/IPTS/IPTS-204...   1.537287e+09   \n",
       "4  /Volumes/my_book_thunderbolt_duo/IPTS/IPTS-204...   1.537287e+09   \n",
       "5  /Volumes/my_book_thunderbolt_duo/IPTS/IPTS-204...   1.537287e+09   \n",
       "6  /Volumes/my_book_thunderbolt_duo/IPTS/IPTS-204...   1.537287e+09   \n",
       "7  /Volumes/my_book_thunderbolt_duo/IPTS/IPTS-204...   1.537287e+09   \n",
       "8  /Volumes/my_book_thunderbolt_duo/IPTS/IPTS-204...   1.537287e+09   \n",
       "\n",
       "   timestamp_user_format   timeoffset(s)  \n",
       "0      2018/9/18 0:12:33             0.0  \n",
       "1      2018/9/18 0:12:57            24.0  \n",
       "2       2018/9/18 0:13:7            34.0  \n",
       "3      2018/9/18 0:13:11            38.0  \n",
       "4      2018/9/18 0:13:25            52.0  \n",
       "5      2018/9/18 0:13:45            72.0  \n",
       "6       2018/9/18 0:14:5            92.0  \n",
       "7      2018/9/18 0:14:15           102.0  \n",
       "8      2018/9/18 0:14:29           116.0  "
      ]
     },
     "execution_count": 84,
     "metadata": {},
     "output_type": "execute_result"
    }
   ],
   "source": [
    "_dataframe1"
   ]
  },
  {
   "cell_type": "code",
   "execution_count": 85,
   "metadata": {},
   "outputs": [],
   "source": [
    "def format_time(old_format):\n",
    "    global_format = time.strptime(old_format.strip(), format1_reader)\n",
    "    new_format = \"{}/{}/{} {}:{}:{:02d}\".format(global_format.tm_year,\n",
    "                                        global_format.tm_mon,\n",
    "                                        global_format.tm_mday,\n",
    "                                        global_format.tm_hour,\n",
    "                                        global_format.tm_min,\n",
    "                                        global_format.tm_sec)\n",
    "    return new_format"
   ]
  },
  {
   "cell_type": "code",
   "execution_count": 86,
   "metadata": {
    "scrolled": true
   },
   "outputs": [
    {
     "data": {
      "text/plain": [
       "0    2018/9/18 0:12:33\n",
       "1    2018/9/18 0:12:57\n",
       "2     2018/9/18 0:13:7\n",
       "3    2018/9/18 0:13:11\n",
       "4    2018/9/18 0:13:25\n",
       "5    2018/9/18 0:13:45\n",
       "6     2018/9/18 0:14:5\n",
       "7    2018/9/18 0:14:15\n",
       "8    2018/9/18 0:14:29\n",
       "Name:  timestamp_user_format, dtype: object"
      ]
     },
     "execution_count": 86,
     "metadata": {},
     "output_type": "execute_result"
    }
   ],
   "source": [
    "data1_dt = _dataframe1[' timestamp_user_format']\n",
    "data1_dt"
   ]
  },
  {
   "cell_type": "code",
   "execution_count": 89,
   "metadata": {},
   "outputs": [
    {
     "data": {
      "text/html": [
       "<div>\n",
       "<style scoped>\n",
       "    .dataframe tbody tr th:only-of-type {\n",
       "        vertical-align: middle;\n",
       "    }\n",
       "\n",
       "    .dataframe tbody tr th {\n",
       "        vertical-align: top;\n",
       "    }\n",
       "\n",
       "    .dataframe thead th {\n",
       "        text-align: right;\n",
       "    }\n",
       "</style>\n",
       "<table border=\"1\" class=\"dataframe\">\n",
       "  <thead>\n",
       "    <tr style=\"text-align: right;\">\n",
       "      <th></th>\n",
       "      <th>#filename</th>\n",
       "      <th>timestamp(s)</th>\n",
       "      <th>timestamp_user_format</th>\n",
       "      <th>timeoffset(s)</th>\n",
       "    </tr>\n",
       "  </thead>\n",
       "  <tbody>\n",
       "    <tr>\n",
       "      <th>0</th>\n",
       "      <td>/Volumes/my_book_thunderbolt_duo/IPTS/IPTS-204...</td>\n",
       "      <td>1.537287e+09</td>\n",
       "      <td>2018/9/18 0:12:33</td>\n",
       "      <td>0.0</td>\n",
       "    </tr>\n",
       "    <tr>\n",
       "      <th>1</th>\n",
       "      <td>/Volumes/my_book_thunderbolt_duo/IPTS/IPTS-204...</td>\n",
       "      <td>1.537287e+09</td>\n",
       "      <td>2018/9/18 0:12:57</td>\n",
       "      <td>24.0</td>\n",
       "    </tr>\n",
       "    <tr>\n",
       "      <th>2</th>\n",
       "      <td>/Volumes/my_book_thunderbolt_duo/IPTS/IPTS-204...</td>\n",
       "      <td>1.537287e+09</td>\n",
       "      <td>2018/9/18 0:13:7</td>\n",
       "      <td>34.0</td>\n",
       "    </tr>\n",
       "    <tr>\n",
       "      <th>3</th>\n",
       "      <td>/Volumes/my_book_thunderbolt_duo/IPTS/IPTS-204...</td>\n",
       "      <td>1.537287e+09</td>\n",
       "      <td>2018/9/18 0:13:11</td>\n",
       "      <td>38.0</td>\n",
       "    </tr>\n",
       "    <tr>\n",
       "      <th>4</th>\n",
       "      <td>/Volumes/my_book_thunderbolt_duo/IPTS/IPTS-204...</td>\n",
       "      <td>1.537287e+09</td>\n",
       "      <td>2018/9/18 0:13:25</td>\n",
       "      <td>52.0</td>\n",
       "    </tr>\n",
       "    <tr>\n",
       "      <th>5</th>\n",
       "      <td>/Volumes/my_book_thunderbolt_duo/IPTS/IPTS-204...</td>\n",
       "      <td>1.537287e+09</td>\n",
       "      <td>2018/9/18 0:13:45</td>\n",
       "      <td>72.0</td>\n",
       "    </tr>\n",
       "    <tr>\n",
       "      <th>6</th>\n",
       "      <td>/Volumes/my_book_thunderbolt_duo/IPTS/IPTS-204...</td>\n",
       "      <td>1.537287e+09</td>\n",
       "      <td>2018/9/18 0:14:5</td>\n",
       "      <td>92.0</td>\n",
       "    </tr>\n",
       "    <tr>\n",
       "      <th>7</th>\n",
       "      <td>/Volumes/my_book_thunderbolt_duo/IPTS/IPTS-204...</td>\n",
       "      <td>1.537287e+09</td>\n",
       "      <td>2018/9/18 0:14:15</td>\n",
       "      <td>102.0</td>\n",
       "    </tr>\n",
       "    <tr>\n",
       "      <th>8</th>\n",
       "      <td>/Volumes/my_book_thunderbolt_duo/IPTS/IPTS-204...</td>\n",
       "      <td>1.537287e+09</td>\n",
       "      <td>2018/9/18 0:14:29</td>\n",
       "      <td>116.0</td>\n",
       "    </tr>\n",
       "  </tbody>\n",
       "</table>\n",
       "</div>"
      ],
      "text/plain": [
       "                                           #filename   timestamp(s)  \\\n",
       "0  /Volumes/my_book_thunderbolt_duo/IPTS/IPTS-204...   1.537287e+09   \n",
       "1  /Volumes/my_book_thunderbolt_duo/IPTS/IPTS-204...   1.537287e+09   \n",
       "2  /Volumes/my_book_thunderbolt_duo/IPTS/IPTS-204...   1.537287e+09   \n",
       "3  /Volumes/my_book_thunderbolt_duo/IPTS/IPTS-204...   1.537287e+09   \n",
       "4  /Volumes/my_book_thunderbolt_duo/IPTS/IPTS-204...   1.537287e+09   \n",
       "5  /Volumes/my_book_thunderbolt_duo/IPTS/IPTS-204...   1.537287e+09   \n",
       "6  /Volumes/my_book_thunderbolt_duo/IPTS/IPTS-204...   1.537287e+09   \n",
       "7  /Volumes/my_book_thunderbolt_duo/IPTS/IPTS-204...   1.537287e+09   \n",
       "8  /Volumes/my_book_thunderbolt_duo/IPTS/IPTS-204...   1.537287e+09   \n",
       "\n",
       "   timestamp_user_format   timeoffset(s)  \n",
       "0      2018/9/18 0:12:33             0.0  \n",
       "1      2018/9/18 0:12:57            24.0  \n",
       "2       2018/9/18 0:13:7            34.0  \n",
       "3      2018/9/18 0:13:11            38.0  \n",
       "4      2018/9/18 0:13:25            52.0  \n",
       "5      2018/9/18 0:13:45            72.0  \n",
       "6       2018/9/18 0:14:5            92.0  \n",
       "7      2018/9/18 0:14:15           102.0  \n",
       "8      2018/9/18 0:14:29           116.0  "
      ]
     },
     "execution_count": 89,
     "metadata": {},
     "output_type": "execute_result"
    }
   ],
   "source": [
    "_dataframe1"
   ]
  },
  {
   "cell_type": "code",
   "execution_count": 87,
   "metadata": {},
   "outputs": [
    {
     "ename": "ValueError",
     "evalue": "time data '2018/9/18 0:12:33' does not match format '%Y-%m-%d %I:%M:%S'",
     "output_type": "error",
     "traceback": [
      "\u001b[0;31m---------------------------------------------------------------------------\u001b[0m",
      "\u001b[0;31mValueError\u001b[0m                                Traceback (most recent call last)",
      "\u001b[0;32m<ipython-input-87-0b9fb09855c5>\u001b[0m in \u001b[0;36m<module>\u001b[0;34m\u001b[0m\n\u001b[1;32m      1\u001b[0m \u001b[0;32mfor\u001b[0m \u001b[0m_index\u001b[0m\u001b[0;34m,\u001b[0m \u001b[0m_date\u001b[0m \u001b[0;32min\u001b[0m \u001b[0menumerate\u001b[0m\u001b[0;34m(\u001b[0m\u001b[0mdata1_dt\u001b[0m\u001b[0;34m)\u001b[0m\u001b[0;34m:\u001b[0m\u001b[0;34m\u001b[0m\u001b[0;34m\u001b[0m\u001b[0m\n\u001b[0;32m----> 2\u001b[0;31m     \u001b[0mnew_format\u001b[0m \u001b[0;34m=\u001b[0m \u001b[0mformat_time\u001b[0m\u001b[0;34m(\u001b[0m\u001b[0m_date\u001b[0m\u001b[0;34m)\u001b[0m\u001b[0;34m\u001b[0m\u001b[0;34m\u001b[0m\u001b[0m\n\u001b[0m\u001b[1;32m      3\u001b[0m     \u001b[0mdata1_dt\u001b[0m\u001b[0;34m[\u001b[0m\u001b[0m_index\u001b[0m\u001b[0;34m]\u001b[0m \u001b[0;34m=\u001b[0m \u001b[0mnew_format\u001b[0m\u001b[0;34m\u001b[0m\u001b[0;34m\u001b[0m\u001b[0m\n",
      "\u001b[0;32m<ipython-input-85-1a531c310a43>\u001b[0m in \u001b[0;36mformat_time\u001b[0;34m(old_format)\u001b[0m\n\u001b[1;32m      1\u001b[0m \u001b[0;32mdef\u001b[0m \u001b[0mformat_time\u001b[0m\u001b[0;34m(\u001b[0m\u001b[0mold_format\u001b[0m\u001b[0;34m)\u001b[0m\u001b[0;34m:\u001b[0m\u001b[0;34m\u001b[0m\u001b[0;34m\u001b[0m\u001b[0m\n\u001b[0;32m----> 2\u001b[0;31m     \u001b[0mglobal_format\u001b[0m \u001b[0;34m=\u001b[0m \u001b[0mtime\u001b[0m\u001b[0;34m.\u001b[0m\u001b[0mstrptime\u001b[0m\u001b[0;34m(\u001b[0m\u001b[0mold_format\u001b[0m\u001b[0;34m.\u001b[0m\u001b[0mstrip\u001b[0m\u001b[0;34m(\u001b[0m\u001b[0;34m)\u001b[0m\u001b[0;34m,\u001b[0m \u001b[0mformat1_reader\u001b[0m\u001b[0;34m)\u001b[0m\u001b[0;34m\u001b[0m\u001b[0;34m\u001b[0m\u001b[0m\n\u001b[0m\u001b[1;32m      3\u001b[0m     new_format = \"{}/{}/{} {}:{}:{:02d}\".format(global_format.tm_year,\n\u001b[1;32m      4\u001b[0m                                         \u001b[0mglobal_format\u001b[0m\u001b[0;34m.\u001b[0m\u001b[0mtm_mon\u001b[0m\u001b[0;34m,\u001b[0m\u001b[0;34m\u001b[0m\u001b[0;34m\u001b[0m\u001b[0m\n\u001b[1;32m      5\u001b[0m                                         \u001b[0mglobal_format\u001b[0m\u001b[0;34m.\u001b[0m\u001b[0mtm_mday\u001b[0m\u001b[0;34m,\u001b[0m\u001b[0;34m\u001b[0m\u001b[0;34m\u001b[0m\u001b[0m\n",
      "\u001b[0;32m~/anaconda3/envs/py36/lib/python3.6/_strptime.py\u001b[0m in \u001b[0;36m_strptime_time\u001b[0;34m(data_string, format)\u001b[0m\n\u001b[1;32m    557\u001b[0m     \"\"\"Return a time struct based on the input string and the\n\u001b[1;32m    558\u001b[0m     format string.\"\"\"\n\u001b[0;32m--> 559\u001b[0;31m     \u001b[0mtt\u001b[0m \u001b[0;34m=\u001b[0m \u001b[0m_strptime\u001b[0m\u001b[0;34m(\u001b[0m\u001b[0mdata_string\u001b[0m\u001b[0;34m,\u001b[0m \u001b[0mformat\u001b[0m\u001b[0;34m)\u001b[0m\u001b[0;34m[\u001b[0m\u001b[0;36m0\u001b[0m\u001b[0;34m]\u001b[0m\u001b[0;34m\u001b[0m\u001b[0;34m\u001b[0m\u001b[0m\n\u001b[0m\u001b[1;32m    560\u001b[0m     \u001b[0;32mreturn\u001b[0m \u001b[0mtime\u001b[0m\u001b[0;34m.\u001b[0m\u001b[0mstruct_time\u001b[0m\u001b[0;34m(\u001b[0m\u001b[0mtt\u001b[0m\u001b[0;34m[\u001b[0m\u001b[0;34m:\u001b[0m\u001b[0mtime\u001b[0m\u001b[0;34m.\u001b[0m\u001b[0m_STRUCT_TM_ITEMS\u001b[0m\u001b[0;34m]\u001b[0m\u001b[0;34m)\u001b[0m\u001b[0;34m\u001b[0m\u001b[0;34m\u001b[0m\u001b[0m\n\u001b[1;32m    561\u001b[0m \u001b[0;34m\u001b[0m\u001b[0m\n",
      "\u001b[0;32m~/anaconda3/envs/py36/lib/python3.6/_strptime.py\u001b[0m in \u001b[0;36m_strptime\u001b[0;34m(data_string, format)\u001b[0m\n\u001b[1;32m    360\u001b[0m     \u001b[0;32mif\u001b[0m \u001b[0;32mnot\u001b[0m \u001b[0mfound\u001b[0m\u001b[0;34m:\u001b[0m\u001b[0;34m\u001b[0m\u001b[0;34m\u001b[0m\u001b[0m\n\u001b[1;32m    361\u001b[0m         raise ValueError(\"time data %r does not match format %r\" %\n\u001b[0;32m--> 362\u001b[0;31m                          (data_string, format))\n\u001b[0m\u001b[1;32m    363\u001b[0m     \u001b[0;32mif\u001b[0m \u001b[0mlen\u001b[0m\u001b[0;34m(\u001b[0m\u001b[0mdata_string\u001b[0m\u001b[0;34m)\u001b[0m \u001b[0;34m!=\u001b[0m \u001b[0mfound\u001b[0m\u001b[0;34m.\u001b[0m\u001b[0mend\u001b[0m\u001b[0;34m(\u001b[0m\u001b[0;34m)\u001b[0m\u001b[0;34m:\u001b[0m\u001b[0;34m\u001b[0m\u001b[0;34m\u001b[0m\u001b[0m\n\u001b[1;32m    364\u001b[0m         raise ValueError(\"unconverted data remains: %s\" %\n",
      "\u001b[0;31mValueError\u001b[0m: time data '2018/9/18 0:12:33' does not match format '%Y-%m-%d %I:%M:%S'"
     ]
    }
   ],
   "source": [
    "for _index, _date in enumerate(data1_dt):\n",
    "    new_format = format_time(_date)\n",
    "    data1_dt[_index] = new_format"
   ]
  },
  {
   "cell_type": "code",
   "execution_count": 88,
   "metadata": {},
   "outputs": [
    {
     "data": {
      "text/plain": [
       "0    2018/9/18 0:12:33\n",
       "1    2018/9/18 0:12:57\n",
       "2     2018/9/18 0:13:7\n",
       "3    2018/9/18 0:13:11\n",
       "4    2018/9/18 0:13:25\n",
       "5    2018/9/18 0:13:45\n",
       "6     2018/9/18 0:14:5\n",
       "7    2018/9/18 0:14:15\n",
       "8    2018/9/18 0:14:29\n",
       "Name:  timestamp_user_format, dtype: object"
      ]
     },
     "execution_count": 88,
     "metadata": {},
     "output_type": "execute_result"
    }
   ],
   "source": [
    "data1_dt"
   ]
  },
  {
   "cell_type": "code",
   "execution_count": 91,
   "metadata": {},
   "outputs": [],
   "source": [
    "if \"##filename\" in _dataframe:\n",
    "    print(\"yes\")"
   ]
  },
  {
   "cell_type": "code",
   "execution_count": 8,
   "metadata": {},
   "outputs": [],
   "source": [
    "o_matcher = ImagesAndMetadataExtrapolationMatcher(filename_vs_timestamp=ascii1,\n",
    "                                                  metadata_ascii_file=ascii2)"
   ]
  },
  {
   "cell_type": "markdown",
   "metadata": {},
   "source": [
    "output file"
   ]
  },
  {
   "cell_type": "code",
   "execution_count": 5,
   "metadata": {},
   "outputs": [
    {
     "data": {
      "application/vnd.jupyter.widget-view+json": {
       "model_id": "",
       "version_major": 2,
       "version_minor": 0
      },
      "text/plain": [
       "VBox(children=(Label(value='Select Output Folder ...', layout=Layout(width='250px')), VBox(children=(HBox(chil…"
      ]
     },
     "metadata": {},
     "output_type": "display_data"
    },
    {
     "data": {
      "text/html": [
       "<span style=\"font-size: 15px; color:blue\">Output folder name: <span style=\"color:black\"> /Volumes/my_book_thunderbolt_duo/IPTS/BraggEdge</span>"
      ],
      "text/plain": [
       "<IPython.core.display.HTML object>"
      ]
     },
     "metadata": {},
     "output_type": "display_data"
    },
    {
     "data": {
      "text/html": [
       "<span style=\"font-size: 15px; color:blue\">Output file name: <span style=\"color:black\"> images_timestamp_infos_combined_with_Sep_17_metadata_report_from_oncat.txt</span>"
      ],
      "text/plain": [
       "<IPython.core.display.HTML object>"
      ]
     },
     "metadata": {},
     "output_type": "display_data"
    },
    {
     "data": {
      "text/html": [
       "<span style=\"font-size: 15px; color:black\">File Created with Success!: <span style=\"color:black\"> </span>"
      ],
      "text/plain": [
       "<IPython.core.display.HTML object>"
      ]
     },
     "metadata": {},
     "output_type": "display_data"
    }
   ],
   "source": [
    "o_folder = SelectFolder(system=system, next_function=o_matcher.export_ascii)"
   ]
  },
  {
   "cell_type": "code",
   "execution_count": null,
   "metadata": {},
   "outputs": [],
   "source": []
  },
  {
   "cell_type": "code",
   "execution_count": null,
   "metadata": {},
   "outputs": [],
   "source": []
  },
  {
   "cell_type": "code",
   "execution_count": null,
   "metadata": {},
   "outputs": [],
   "source": []
  },
  {
   "cell_type": "code",
   "execution_count": 6,
   "metadata": {},
   "outputs": [],
   "source": [
    "import pandas as pd"
   ]
  },
  {
   "cell_type": "code",
   "execution_count": 7,
   "metadata": {},
   "outputs": [],
   "source": [
    "pd_ascii1 = pd.read_csv(ascii1)\n",
    "pd_ascii2 = pd.read_csv(ascii2)"
   ]
  },
  {
   "cell_type": "code",
   "execution_count": 44,
   "metadata": {},
   "outputs": [
    {
     "data": {
      "text/html": [
       "<div>\n",
       "<style scoped>\n",
       "    .dataframe tbody tr th:only-of-type {\n",
       "        vertical-align: middle;\n",
       "    }\n",
       "\n",
       "    .dataframe tbody tr th {\n",
       "        vertical-align: top;\n",
       "    }\n",
       "\n",
       "    .dataframe thead th {\n",
       "        text-align: right;\n",
       "    }\n",
       "</style>\n",
       "<table border=\"1\" class=\"dataframe\">\n",
       "  <thead>\n",
       "    <tr style=\"text-align: right;\">\n",
       "      <th></th>\n",
       "      <th>timestamp(s)</th>\n",
       "      <th>timestamp_user_format</th>\n",
       "      <th>timeoffset(s)</th>\n",
       "    </tr>\n",
       "    <tr>\n",
       "      <th>#filename</th>\n",
       "      <th></th>\n",
       "      <th></th>\n",
       "      <th></th>\n",
       "    </tr>\n",
       "  </thead>\n",
       "  <tbody>\n",
       "    <tr>\n",
       "      <th>/Volumes/my_book_thunderbolt_duo/IPTS/IPTS-20444-Regina/images/20180917_A49_4_at80C_4p1_120s_0120_5.tiff</th>\n",
       "      <td>1.537287e+09</td>\n",
       "      <td>2018-09-18 12:12:33</td>\n",
       "      <td>0.0</td>\n",
       "    </tr>\n",
       "    <tr>\n",
       "      <th>/Volumes/my_book_thunderbolt_duo/IPTS/IPTS-20444-Regina/images/20180917_A49_4_at80C_4p1_120s_0120_12.tiff</th>\n",
       "      <td>1.537287e+09</td>\n",
       "      <td>2018-09-18 12:12:57</td>\n",
       "      <td>24.0</td>\n",
       "    </tr>\n",
       "    <tr>\n",
       "      <th>/Volumes/my_book_thunderbolt_duo/IPTS/IPTS-20444-Regina/images/20180917_A49_4_at80C_4p1_120s_0120_8.tiff</th>\n",
       "      <td>1.537287e+09</td>\n",
       "      <td>2018-09-18 12:13:07</td>\n",
       "      <td>34.0</td>\n",
       "    </tr>\n",
       "    <tr>\n",
       "      <th>/Volumes/my_book_thunderbolt_duo/IPTS/IPTS-20444-Regina/images/20180917_A49_4_at80C_4p1_120s_0120_11.tiff</th>\n",
       "      <td>1.537287e+09</td>\n",
       "      <td>2018-09-18 12:13:11</td>\n",
       "      <td>38.0</td>\n",
       "    </tr>\n",
       "    <tr>\n",
       "      <th>/Volumes/my_book_thunderbolt_duo/IPTS/IPTS-20444-Regina/images/20180917_A49_4_at80C_4p1_120s_0120_9.tiff</th>\n",
       "      <td>1.537287e+09</td>\n",
       "      <td>2018-09-18 12:13:25</td>\n",
       "      <td>52.0</td>\n",
       "    </tr>\n",
       "    <tr>\n",
       "      <th>/Volumes/my_book_thunderbolt_duo/IPTS/IPTS-20444-Regina/images/20180917_A49_4_at80C_4p1_120s_0120_13.tiff</th>\n",
       "      <td>1.537287e+09</td>\n",
       "      <td>2018-09-18 12:13:45</td>\n",
       "      <td>72.0</td>\n",
       "    </tr>\n",
       "    <tr>\n",
       "      <th>/Volumes/my_book_thunderbolt_duo/IPTS/IPTS-20444-Regina/images/20180917_A49_4_at80C_4p1_120s_0120_7.tiff</th>\n",
       "      <td>1.537287e+09</td>\n",
       "      <td>2018-09-18 12:14:05</td>\n",
       "      <td>92.0</td>\n",
       "    </tr>\n",
       "    <tr>\n",
       "      <th>/Volumes/my_book_thunderbolt_duo/IPTS/IPTS-20444-Regina/images/20180917_A49_4_at80C_4p1_120s_0120_6.tiff</th>\n",
       "      <td>1.537287e+09</td>\n",
       "      <td>2018-09-18 12:14:15</td>\n",
       "      <td>102.0</td>\n",
       "    </tr>\n",
       "    <tr>\n",
       "      <th>/Volumes/my_book_thunderbolt_duo/IPTS/IPTS-20444-Regina/images/20180917_A49_4_at80C_4p1_120s_0120_10.tiff</th>\n",
       "      <td>1.537287e+09</td>\n",
       "      <td>2018-09-18 12:14:29</td>\n",
       "      <td>116.0</td>\n",
       "    </tr>\n",
       "  </tbody>\n",
       "</table>\n",
       "</div>"
      ],
      "text/plain": [
       "                                                     timestamp(s)  \\\n",
       "#filename                                                           \n",
       "/Volumes/my_book_thunderbolt_duo/IPTS/IPTS-2044...   1.537287e+09   \n",
       "/Volumes/my_book_thunderbolt_duo/IPTS/IPTS-2044...   1.537287e+09   \n",
       "/Volumes/my_book_thunderbolt_duo/IPTS/IPTS-2044...   1.537287e+09   \n",
       "/Volumes/my_book_thunderbolt_duo/IPTS/IPTS-2044...   1.537287e+09   \n",
       "/Volumes/my_book_thunderbolt_duo/IPTS/IPTS-2044...   1.537287e+09   \n",
       "/Volumes/my_book_thunderbolt_duo/IPTS/IPTS-2044...   1.537287e+09   \n",
       "/Volumes/my_book_thunderbolt_duo/IPTS/IPTS-2044...   1.537287e+09   \n",
       "/Volumes/my_book_thunderbolt_duo/IPTS/IPTS-2044...   1.537287e+09   \n",
       "/Volumes/my_book_thunderbolt_duo/IPTS/IPTS-2044...   1.537287e+09   \n",
       "\n",
       "                                                    timestamp_user_format  \\\n",
       "#filename                                                                   \n",
       "/Volumes/my_book_thunderbolt_duo/IPTS/IPTS-2044...    2018-09-18 12:12:33   \n",
       "/Volumes/my_book_thunderbolt_duo/IPTS/IPTS-2044...    2018-09-18 12:12:57   \n",
       "/Volumes/my_book_thunderbolt_duo/IPTS/IPTS-2044...    2018-09-18 12:13:07   \n",
       "/Volumes/my_book_thunderbolt_duo/IPTS/IPTS-2044...    2018-09-18 12:13:11   \n",
       "/Volumes/my_book_thunderbolt_duo/IPTS/IPTS-2044...    2018-09-18 12:13:25   \n",
       "/Volumes/my_book_thunderbolt_duo/IPTS/IPTS-2044...    2018-09-18 12:13:45   \n",
       "/Volumes/my_book_thunderbolt_duo/IPTS/IPTS-2044...    2018-09-18 12:14:05   \n",
       "/Volumes/my_book_thunderbolt_duo/IPTS/IPTS-2044...    2018-09-18 12:14:15   \n",
       "/Volumes/my_book_thunderbolt_duo/IPTS/IPTS-2044...    2018-09-18 12:14:29   \n",
       "\n",
       "                                                     timeoffset(s)  \n",
       "#filename                                                           \n",
       "/Volumes/my_book_thunderbolt_duo/IPTS/IPTS-2044...             0.0  \n",
       "/Volumes/my_book_thunderbolt_duo/IPTS/IPTS-2044...            24.0  \n",
       "/Volumes/my_book_thunderbolt_duo/IPTS/IPTS-2044...            34.0  \n",
       "/Volumes/my_book_thunderbolt_duo/IPTS/IPTS-2044...            38.0  \n",
       "/Volumes/my_book_thunderbolt_duo/IPTS/IPTS-2044...            52.0  \n",
       "/Volumes/my_book_thunderbolt_duo/IPTS/IPTS-2044...            72.0  \n",
       "/Volumes/my_book_thunderbolt_duo/IPTS/IPTS-2044...            92.0  \n",
       "/Volumes/my_book_thunderbolt_duo/IPTS/IPTS-2044...           102.0  \n",
       "/Volumes/my_book_thunderbolt_duo/IPTS/IPTS-2044...           116.0  "
      ]
     },
     "execution_count": 44,
     "metadata": {},
     "output_type": "execute_result"
    }
   ],
   "source": [
    "pd_ascii1.set_index(\"#filename\")"
   ]
  },
  {
   "cell_type": "code",
   "execution_count": 45,
   "metadata": {},
   "outputs": [
    {
     "data": {
      "text/html": [
       "<div>\n",
       "<style scoped>\n",
       "    .dataframe tbody tr th:only-of-type {\n",
       "        vertical-align: middle;\n",
       "    }\n",
       "\n",
       "    .dataframe tbody tr th {\n",
       "        vertical-align: top;\n",
       "    }\n",
       "\n",
       "    .dataframe thead th {\n",
       "        text-align: right;\n",
       "    }\n",
       "</style>\n",
       "<table border=\"1\" class=\"dataframe\">\n",
       "  <thead>\n",
       "    <tr style=\"text-align: right;\">\n",
       "      <th></th>\n",
       "      <th>timestamp</th>\n",
       "      <th>MotCameraVert</th>\n",
       "      <th>MotCameraVert_RBV</th>\n",
       "      <th>MotDetTable</th>\n",
       "      <th>MotDetTable_RBV</th>\n",
       "    </tr>\n",
       "    <tr>\n",
       "      <th>#filename</th>\n",
       "      <th></th>\n",
       "      <th></th>\n",
       "      <th></th>\n",
       "      <th></th>\n",
       "      <th></th>\n",
       "    </tr>\n",
       "  </thead>\n",
       "  <tbody>\n",
       "    <tr>\n",
       "      <th>/Volumes/my_book_thunderbolt_duo/IPTS/IPTS-20444-Regina/images/20180917_A49_4_at80C_4p1_120s_0120_5.tiff</th>\n",
       "      <td>2018-09-17T21:50:50.978000-04:00</td>\n",
       "      <td>-51.699796</td>\n",
       "      <td>-51.699796</td>\n",
       "      <td>200.0</td>\n",
       "      <td>200.0</td>\n",
       "    </tr>\n",
       "    <tr>\n",
       "      <th>/Volumes/my_book_thunderbolt_duo/IPTS/IPTS-20444-Regina/images/20180917_A49_4_at80C_4p1_120s_0120_12.tiff</th>\n",
       "      <td>2018-09-17T14:10:56.662000-04:00</td>\n",
       "      <td>-51.699796</td>\n",
       "      <td>-51.699796</td>\n",
       "      <td>200.0</td>\n",
       "      <td>200.0</td>\n",
       "    </tr>\n",
       "    <tr>\n",
       "      <th>/Volumes/my_book_thunderbolt_duo/IPTS/IPTS-20444-Regina/images/20180917_A49_4_at80C_4p1_120s_0120_8.tiff</th>\n",
       "      <td>2018-09-17T22:50:55.203000-04:00</td>\n",
       "      <td>-51.699796</td>\n",
       "      <td>-51.699796</td>\n",
       "      <td>200.0</td>\n",
       "      <td>200.0</td>\n",
       "    </tr>\n",
       "    <tr>\n",
       "      <th>/Volumes/my_book_thunderbolt_duo/IPTS/IPTS-20444-Regina/images/20180917_A49_4_at80C_4p1_120s_0120_11.tiff</th>\n",
       "      <td>2018-09-17T22:50:56.283000-04:00</td>\n",
       "      <td>-51.699796</td>\n",
       "      <td>-51.699796</td>\n",
       "      <td>200.0</td>\n",
       "      <td>200.0</td>\n",
       "    </tr>\n",
       "    <tr>\n",
       "      <th>/Volumes/my_book_thunderbolt_duo/IPTS/IPTS-20444-Regina/images/20180917_A49_4_at80C_4p1_120s_0120_9.tiff</th>\n",
       "      <td>2018-09-17T18:50:58.244000-04:00</td>\n",
       "      <td>-51.699796</td>\n",
       "      <td>-51.699796</td>\n",
       "      <td>200.0</td>\n",
       "      <td>200.0</td>\n",
       "    </tr>\n",
       "    <tr>\n",
       "      <th>/Volumes/my_book_thunderbolt_duo/IPTS/IPTS-20444-Regina/images/20180917_A49_4_at80C_4p1_120s_0120_13.tiff</th>\n",
       "      <td>2018-09-17T15:41:00.793000-04:00</td>\n",
       "      <td>-51.699796</td>\n",
       "      <td>-51.699796</td>\n",
       "      <td>200.0</td>\n",
       "      <td>200.0</td>\n",
       "    </tr>\n",
       "    <tr>\n",
       "      <th>/Volumes/my_book_thunderbolt_duo/IPTS/IPTS-20444-Regina/images/20180917_A49_4_at80C_4p1_120s_0120_7.tiff</th>\n",
       "      <td>2018-09-17T20:50:52.539000-04:00</td>\n",
       "      <td>-51.699796</td>\n",
       "      <td>-51.699796</td>\n",
       "      <td>200.0</td>\n",
       "      <td>200.0</td>\n",
       "    </tr>\n",
       "    <tr>\n",
       "      <th>/Volumes/my_book_thunderbolt_duo/IPTS/IPTS-20444-Regina/images/20180917_A49_4_at80C_4p1_120s_0120_6.tiff</th>\n",
       "      <td>2018-09-17T16:40:57.966000-04:00</td>\n",
       "      <td>-51.699796</td>\n",
       "      <td>-51.699796</td>\n",
       "      <td>200.0</td>\n",
       "      <td>200.0</td>\n",
       "    </tr>\n",
       "    <tr>\n",
       "      <th>/Volumes/my_book_thunderbolt_duo/IPTS/IPTS-20444-Regina/images/20180917_A49_4_at80C_4p1_120s_0120_10.tiff</th>\n",
       "      <td>2018-09-17T15:00:55.624000-04:00</td>\n",
       "      <td>-51.699796</td>\n",
       "      <td>-51.699796</td>\n",
       "      <td>200.0</td>\n",
       "      <td>200.0</td>\n",
       "    </tr>\n",
       "  </tbody>\n",
       "</table>\n",
       "</div>"
      ],
      "text/plain": [
       "                                                                            timestamp  \\\n",
       "#filename                                                                               \n",
       "/Volumes/my_book_thunderbolt_duo/IPTS/IPTS-2044...   2018-09-17T21:50:50.978000-04:00   \n",
       "/Volumes/my_book_thunderbolt_duo/IPTS/IPTS-2044...   2018-09-17T14:10:56.662000-04:00   \n",
       "/Volumes/my_book_thunderbolt_duo/IPTS/IPTS-2044...   2018-09-17T22:50:55.203000-04:00   \n",
       "/Volumes/my_book_thunderbolt_duo/IPTS/IPTS-2044...   2018-09-17T22:50:56.283000-04:00   \n",
       "/Volumes/my_book_thunderbolt_duo/IPTS/IPTS-2044...   2018-09-17T18:50:58.244000-04:00   \n",
       "/Volumes/my_book_thunderbolt_duo/IPTS/IPTS-2044...   2018-09-17T15:41:00.793000-04:00   \n",
       "/Volumes/my_book_thunderbolt_duo/IPTS/IPTS-2044...   2018-09-17T20:50:52.539000-04:00   \n",
       "/Volumes/my_book_thunderbolt_duo/IPTS/IPTS-2044...   2018-09-17T16:40:57.966000-04:00   \n",
       "/Volumes/my_book_thunderbolt_duo/IPTS/IPTS-2044...   2018-09-17T15:00:55.624000-04:00   \n",
       "\n",
       "                                                     MotCameraVert  \\\n",
       "#filename                                                            \n",
       "/Volumes/my_book_thunderbolt_duo/IPTS/IPTS-2044...      -51.699796   \n",
       "/Volumes/my_book_thunderbolt_duo/IPTS/IPTS-2044...      -51.699796   \n",
       "/Volumes/my_book_thunderbolt_duo/IPTS/IPTS-2044...      -51.699796   \n",
       "/Volumes/my_book_thunderbolt_duo/IPTS/IPTS-2044...      -51.699796   \n",
       "/Volumes/my_book_thunderbolt_duo/IPTS/IPTS-2044...      -51.699796   \n",
       "/Volumes/my_book_thunderbolt_duo/IPTS/IPTS-2044...      -51.699796   \n",
       "/Volumes/my_book_thunderbolt_duo/IPTS/IPTS-2044...      -51.699796   \n",
       "/Volumes/my_book_thunderbolt_duo/IPTS/IPTS-2044...      -51.699796   \n",
       "/Volumes/my_book_thunderbolt_duo/IPTS/IPTS-2044...      -51.699796   \n",
       "\n",
       "                                                     MotCameraVert_RBV  \\\n",
       "#filename                                                                \n",
       "/Volumes/my_book_thunderbolt_duo/IPTS/IPTS-2044...          -51.699796   \n",
       "/Volumes/my_book_thunderbolt_duo/IPTS/IPTS-2044...          -51.699796   \n",
       "/Volumes/my_book_thunderbolt_duo/IPTS/IPTS-2044...          -51.699796   \n",
       "/Volumes/my_book_thunderbolt_duo/IPTS/IPTS-2044...          -51.699796   \n",
       "/Volumes/my_book_thunderbolt_duo/IPTS/IPTS-2044...          -51.699796   \n",
       "/Volumes/my_book_thunderbolt_duo/IPTS/IPTS-2044...          -51.699796   \n",
       "/Volumes/my_book_thunderbolt_duo/IPTS/IPTS-2044...          -51.699796   \n",
       "/Volumes/my_book_thunderbolt_duo/IPTS/IPTS-2044...          -51.699796   \n",
       "/Volumes/my_book_thunderbolt_duo/IPTS/IPTS-2044...          -51.699796   \n",
       "\n",
       "                                                     MotDetTable  \\\n",
       "#filename                                                          \n",
       "/Volumes/my_book_thunderbolt_duo/IPTS/IPTS-2044...         200.0   \n",
       "/Volumes/my_book_thunderbolt_duo/IPTS/IPTS-2044...         200.0   \n",
       "/Volumes/my_book_thunderbolt_duo/IPTS/IPTS-2044...         200.0   \n",
       "/Volumes/my_book_thunderbolt_duo/IPTS/IPTS-2044...         200.0   \n",
       "/Volumes/my_book_thunderbolt_duo/IPTS/IPTS-2044...         200.0   \n",
       "/Volumes/my_book_thunderbolt_duo/IPTS/IPTS-2044...         200.0   \n",
       "/Volumes/my_book_thunderbolt_duo/IPTS/IPTS-2044...         200.0   \n",
       "/Volumes/my_book_thunderbolt_duo/IPTS/IPTS-2044...         200.0   \n",
       "/Volumes/my_book_thunderbolt_duo/IPTS/IPTS-2044...         200.0   \n",
       "\n",
       "                                                     MotDetTable_RBV  \n",
       "#filename                                                             \n",
       "/Volumes/my_book_thunderbolt_duo/IPTS/IPTS-2044...             200.0  \n",
       "/Volumes/my_book_thunderbolt_duo/IPTS/IPTS-2044...             200.0  \n",
       "/Volumes/my_book_thunderbolt_duo/IPTS/IPTS-2044...             200.0  \n",
       "/Volumes/my_book_thunderbolt_duo/IPTS/IPTS-2044...             200.0  \n",
       "/Volumes/my_book_thunderbolt_duo/IPTS/IPTS-2044...             200.0  \n",
       "/Volumes/my_book_thunderbolt_duo/IPTS/IPTS-2044...             200.0  \n",
       "/Volumes/my_book_thunderbolt_duo/IPTS/IPTS-2044...             200.0  \n",
       "/Volumes/my_book_thunderbolt_duo/IPTS/IPTS-2044...             200.0  \n",
       "/Volumes/my_book_thunderbolt_duo/IPTS/IPTS-2044...             200.0  "
      ]
     },
     "execution_count": 45,
     "metadata": {},
     "output_type": "execute_result"
    }
   ],
   "source": [
    "pd_ascii2.set_index(\"#filename\")"
   ]
  },
  {
   "cell_type": "code",
   "execution_count": 95,
   "metadata": {},
   "outputs": [
    {
     "data": {
      "text/html": [
       "<div>\n",
       "<style scoped>\n",
       "    .dataframe tbody tr th:only-of-type {\n",
       "        vertical-align: middle;\n",
       "    }\n",
       "\n",
       "    .dataframe tbody tr th {\n",
       "        vertical-align: top;\n",
       "    }\n",
       "\n",
       "    .dataframe thead th {\n",
       "        text-align: right;\n",
       "    }\n",
       "</style>\n",
       "<table border=\"1\" class=\"dataframe\">\n",
       "  <thead>\n",
       "    <tr style=\"text-align: right;\">\n",
       "      <th></th>\n",
       "      <th>#filename</th>\n",
       "      <th>timestamp(s)</th>\n",
       "      <th>timestamp_user_format</th>\n",
       "      <th>timeoffset(s)</th>\n",
       "      <th>timestamp</th>\n",
       "      <th>MotCameraVert</th>\n",
       "      <th>MotCameraVert_RBV</th>\n",
       "      <th>MotDetTable</th>\n",
       "      <th>MotDetTable_RBV</th>\n",
       "    </tr>\n",
       "  </thead>\n",
       "  <tbody>\n",
       "    <tr>\n",
       "      <th>0</th>\n",
       "      <td>/Volumes/my_book_thunderbolt_duo/IPTS/IPTS-204...</td>\n",
       "      <td>1.537287e+09</td>\n",
       "      <td>2018-09-18 12:12:33</td>\n",
       "      <td>0.0</td>\n",
       "      <td>2018-09-17T21:50:50.978000-04:00</td>\n",
       "      <td>-51.699796</td>\n",
       "      <td>-51.699796</td>\n",
       "      <td>200.0</td>\n",
       "      <td>200.0</td>\n",
       "    </tr>\n",
       "    <tr>\n",
       "      <th>1</th>\n",
       "      <td>/Volumes/my_book_thunderbolt_duo/IPTS/IPTS-204...</td>\n",
       "      <td>1.537287e+09</td>\n",
       "      <td>2018-09-18 12:12:57</td>\n",
       "      <td>24.0</td>\n",
       "      <td>2018-09-17T14:10:56.662000-04:00</td>\n",
       "      <td>-51.699796</td>\n",
       "      <td>-51.699796</td>\n",
       "      <td>200.0</td>\n",
       "      <td>200.0</td>\n",
       "    </tr>\n",
       "    <tr>\n",
       "      <th>2</th>\n",
       "      <td>/Volumes/my_book_thunderbolt_duo/IPTS/IPTS-204...</td>\n",
       "      <td>1.537287e+09</td>\n",
       "      <td>2018-09-18 12:13:07</td>\n",
       "      <td>34.0</td>\n",
       "      <td>2018-09-17T22:50:55.203000-04:00</td>\n",
       "      <td>-51.699796</td>\n",
       "      <td>-51.699796</td>\n",
       "      <td>200.0</td>\n",
       "      <td>200.0</td>\n",
       "    </tr>\n",
       "    <tr>\n",
       "      <th>3</th>\n",
       "      <td>/Volumes/my_book_thunderbolt_duo/IPTS/IPTS-204...</td>\n",
       "      <td>1.537287e+09</td>\n",
       "      <td>2018-09-18 12:13:11</td>\n",
       "      <td>38.0</td>\n",
       "      <td>2018-09-17T22:50:56.283000-04:00</td>\n",
       "      <td>-51.699796</td>\n",
       "      <td>-51.699796</td>\n",
       "      <td>200.0</td>\n",
       "      <td>200.0</td>\n",
       "    </tr>\n",
       "    <tr>\n",
       "      <th>4</th>\n",
       "      <td>/Volumes/my_book_thunderbolt_duo/IPTS/IPTS-204...</td>\n",
       "      <td>1.537287e+09</td>\n",
       "      <td>2018-09-18 12:13:25</td>\n",
       "      <td>52.0</td>\n",
       "      <td>2018-09-17T18:50:58.244000-04:00</td>\n",
       "      <td>-51.699796</td>\n",
       "      <td>-51.699796</td>\n",
       "      <td>200.0</td>\n",
       "      <td>200.0</td>\n",
       "    </tr>\n",
       "    <tr>\n",
       "      <th>5</th>\n",
       "      <td>/Volumes/my_book_thunderbolt_duo/IPTS/IPTS-204...</td>\n",
       "      <td>1.537287e+09</td>\n",
       "      <td>2018-09-18 12:13:45</td>\n",
       "      <td>72.0</td>\n",
       "      <td>2018-09-17T15:41:00.793000-04:00</td>\n",
       "      <td>-51.699796</td>\n",
       "      <td>-51.699796</td>\n",
       "      <td>200.0</td>\n",
       "      <td>200.0</td>\n",
       "    </tr>\n",
       "    <tr>\n",
       "      <th>6</th>\n",
       "      <td>/Volumes/my_book_thunderbolt_duo/IPTS/IPTS-204...</td>\n",
       "      <td>1.537287e+09</td>\n",
       "      <td>2018-09-18 12:14:05</td>\n",
       "      <td>92.0</td>\n",
       "      <td>2018-09-17T20:50:52.539000-04:00</td>\n",
       "      <td>-51.699796</td>\n",
       "      <td>-51.699796</td>\n",
       "      <td>200.0</td>\n",
       "      <td>200.0</td>\n",
       "    </tr>\n",
       "    <tr>\n",
       "      <th>7</th>\n",
       "      <td>/Volumes/my_book_thunderbolt_duo/IPTS/IPTS-204...</td>\n",
       "      <td>1.537287e+09</td>\n",
       "      <td>2018-09-18 12:14:15</td>\n",
       "      <td>102.0</td>\n",
       "      <td>2018-09-17T16:40:57.966000-04:00</td>\n",
       "      <td>-51.699796</td>\n",
       "      <td>-51.699796</td>\n",
       "      <td>200.0</td>\n",
       "      <td>200.0</td>\n",
       "    </tr>\n",
       "    <tr>\n",
       "      <th>8</th>\n",
       "      <td>/Volumes/my_book_thunderbolt_duo/IPTS/IPTS-204...</td>\n",
       "      <td>1.537287e+09</td>\n",
       "      <td>2018-09-18 12:14:29</td>\n",
       "      <td>116.0</td>\n",
       "      <td>2018-09-17T15:00:55.624000-04:00</td>\n",
       "      <td>-51.699796</td>\n",
       "      <td>-51.699796</td>\n",
       "      <td>200.0</td>\n",
       "      <td>200.0</td>\n",
       "    </tr>\n",
       "  </tbody>\n",
       "</table>\n",
       "</div>"
      ],
      "text/plain": [
       "                                           #filename   timestamp(s)  \\\n",
       "0  /Volumes/my_book_thunderbolt_duo/IPTS/IPTS-204...   1.537287e+09   \n",
       "1  /Volumes/my_book_thunderbolt_duo/IPTS/IPTS-204...   1.537287e+09   \n",
       "2  /Volumes/my_book_thunderbolt_duo/IPTS/IPTS-204...   1.537287e+09   \n",
       "3  /Volumes/my_book_thunderbolt_duo/IPTS/IPTS-204...   1.537287e+09   \n",
       "4  /Volumes/my_book_thunderbolt_duo/IPTS/IPTS-204...   1.537287e+09   \n",
       "5  /Volumes/my_book_thunderbolt_duo/IPTS/IPTS-204...   1.537287e+09   \n",
       "6  /Volumes/my_book_thunderbolt_duo/IPTS/IPTS-204...   1.537287e+09   \n",
       "7  /Volumes/my_book_thunderbolt_duo/IPTS/IPTS-204...   1.537287e+09   \n",
       "8  /Volumes/my_book_thunderbolt_duo/IPTS/IPTS-204...   1.537287e+09   \n",
       "\n",
       "   timestamp_user_format   timeoffset(s)                          timestamp  \\\n",
       "0    2018-09-18 12:12:33             0.0   2018-09-17T21:50:50.978000-04:00   \n",
       "1    2018-09-18 12:12:57            24.0   2018-09-17T14:10:56.662000-04:00   \n",
       "2    2018-09-18 12:13:07            34.0   2018-09-17T22:50:55.203000-04:00   \n",
       "3    2018-09-18 12:13:11            38.0   2018-09-17T22:50:56.283000-04:00   \n",
       "4    2018-09-18 12:13:25            52.0   2018-09-17T18:50:58.244000-04:00   \n",
       "5    2018-09-18 12:13:45            72.0   2018-09-17T15:41:00.793000-04:00   \n",
       "6    2018-09-18 12:14:05            92.0   2018-09-17T20:50:52.539000-04:00   \n",
       "7    2018-09-18 12:14:15           102.0   2018-09-17T16:40:57.966000-04:00   \n",
       "8    2018-09-18 12:14:29           116.0   2018-09-17T15:00:55.624000-04:00   \n",
       "\n",
       "    MotCameraVert   MotCameraVert_RBV   MotDetTable   MotDetTable_RBV  \n",
       "0      -51.699796          -51.699796         200.0             200.0  \n",
       "1      -51.699796          -51.699796         200.0             200.0  \n",
       "2      -51.699796          -51.699796         200.0             200.0  \n",
       "3      -51.699796          -51.699796         200.0             200.0  \n",
       "4      -51.699796          -51.699796         200.0             200.0  \n",
       "5      -51.699796          -51.699796         200.0             200.0  \n",
       "6      -51.699796          -51.699796         200.0             200.0  \n",
       "7      -51.699796          -51.699796         200.0             200.0  \n",
       "8      -51.699796          -51.699796         200.0             200.0  "
      ]
     },
     "execution_count": 95,
     "metadata": {},
     "output_type": "execute_result"
    }
   ],
   "source": [
    "merging_ascii = pd.merge(pd_ascii1, pd_ascii2, on='#filename', how='outer')\n",
    "merging_ascii"
   ]
  },
  {
   "cell_type": "code",
   "execution_count": 1,
   "metadata": {},
   "outputs": [],
   "source": [
    "timestamp1 = \"2018-09-18 12:13:14\"\n",
    "timestamp2 = \"2018/09/18 12:13:14\"\n",
    "timestamp3 = \"18/09/2018 12:13:14\"\n"
   ]
  },
  {
   "cell_type": "code",
   "execution_count": 3,
   "metadata": {},
   "outputs": [],
   "source": [
    "o_time = time_utility.TimestampFormatter(timestamp=timestamp3)"
   ]
  },
  {
   "cell_type": "code",
   "execution_count": 4,
   "metadata": {
    "scrolled": true
   },
   "outputs": [
    {
     "name": "stdout",
     "output_type": "stream",
     "text": [
      "timestamp: 18/09/2018 12:13:14\n",
      "input_time_format: %m/%d/%Y %I:%M:%S\n",
      "timestamp: 18/09/2018 12:13:14\n",
      "input_time_format: %Y-%m-%d %I:%M:%S\n",
      "timestamp: 18/09/2018 12:13:14\n",
      "input_time_format: %d/%m/%Y %I:%M:%S\n",
      "time_dict: time.struct_time(tm_year=2018, tm_mon=9, tm_mday=18, tm_hour=0, tm_min=13, tm_sec=14, tm_wday=1, tm_yday=261, tm_isdst=-1)\n",
      "\n"
     ]
    },
    {
     "data": {
      "text/plain": [
       "'2018-09-18 00:13:14'"
      ]
     },
     "execution_count": 4,
     "metadata": {},
     "output_type": "execute_result"
    }
   ],
   "source": [
    "o_time.format()"
   ]
  },
  {
   "cell_type": "markdown",
   "metadata": {},
   "source": [
    "# Select Metadata Info to Keep "
   ]
  },
  {
   "cell_type": "markdown",
   "metadata": {
    "run_control": {
     "frozen": false,
     "read_only": false
    }
   },
   "source": [
    "**Allow users to define:**\n",
    "\n",
    " * reference_line_showing_end_of_metadata\n",
    " * start_of_data_after_how_many_lines_from_reference_line\n",
    " * index or label of time info column in big table"
   ]
  },
  {
   "cell_type": "code",
   "execution_count": null,
   "metadata": {
    "run_control": {
     "frozen": false,
     "read_only": false
    }
   },
   "outputs": [],
   "source": [
    "o_meta = MetadataFileParser(filename=o_file.metadata_file, \n",
    "                            meta_type='mpt',\n",
    "                            time_label='time/s',\n",
    "                            reference_line_showing_end_of_metadata='Number of loops',\n",
    "                            end_of_metadata_after_how_many_lines_from_reference_line=1)\n",
    "o_meta.parse()\n",
    "\n",
    "o_meta.select_data_to_keep()"
   ]
  },
  {
   "cell_type": "markdown",
   "metadata": {},
   "source": [
    "# Select Output Folder and Filename of new Formated Metadata File"
   ]
  },
  {
   "cell_type": "code",
   "execution_count": null,
   "metadata": {},
   "outputs": [],
   "source": [
    "o_meta.keep_only_columns_of_data_of_interest()\n",
    "o_meta.select_output_location()"
   ]
  },
  {
   "cell_type": "markdown",
   "metadata": {},
   "source": [
    "# Where to go Next "
   ]
  },
  {
   "cell_type": "markdown",
   "metadata": {},
   "source": [
    "Now, you probably want to run [this metadata_ascii_parser](./metadata_ascii_parser.ipynb) notebook in order to create a list of file names and their exact metadata values."
   ]
  },
  {
   "cell_type": "code",
   "execution_count": null,
   "metadata": {},
   "outputs": [],
   "source": []
  }
 ],
 "metadata": {
  "kernelspec": {
   "display_name": "Python 3",
   "language": "python",
   "name": "python3"
  },
  "language_info": {
   "codemirror_mode": {
    "name": "ipython",
    "version": 3
   },
   "file_extension": ".py",
   "mimetype": "text/x-python",
   "name": "python",
   "nbconvert_exporter": "python",
   "pygments_lexer": "ipython3",
   "version": "3.6.7"
  },
  "toc": {
   "colors": {
    "hover_highlight": "#DAA520",
    "running_highlight": "#FF0000",
    "selected_highlight": "#FFD700"
   },
   "moveMenuLeft": true,
   "nav_menu": {
    "height": "66px",
    "width": "252px"
   },
   "navigate_menu": true,
   "number_sections": true,
   "sideBar": true,
   "threshold": 4,
   "toc_cell": false,
   "toc_section_display": "block",
   "toc_window_display": false
  }
 },
 "nbformat": 4,
 "nbformat_minor": 2
}
