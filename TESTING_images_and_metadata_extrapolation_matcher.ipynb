{
 "cells": [
  {
   "cell_type": "markdown",
   "metadata": {},
   "source": [
    "[![Notebook Tutorial](__code/__all/notebook_tutorial.png)](https://neutronimaging.pages.ornl.gov/en/tutorial/notebooks/images_metadata_matcher/)\n",
    "\n",
    "<img src='__docs/__all/notebook_rules.png' />"
   ]
  },
  {
   "cell_type": "markdown",
   "metadata": {},
   "source": [
    "# Select your IPTS"
   ]
  },
  {
   "cell_type": "code",
   "execution_count": null,
   "metadata": {},
   "outputs": [],
   "source": [
    "from __code.select_files_and_folders import SelectAsciiFile, SelectFolder\n",
    "from __code.images_and_metadata_extrapolation_matcher import ImagesAndMetadataExtrapolationMatcher\n",
    "\n",
    "# from __code import system\n",
    "# system.System.select_working_dir()\n",
    "# from __code.__all import custom_style\n",
    "# custom_style.style()"
   ]
  },
  {
   "cell_type": "markdown",
   "metadata": {
    "run_control": {
     "frozen": false,
     "read_only": false
    }
   },
   "source": [
    "# Select the File Name vs Time Stamp ASCII File"
   ]
  },
  {
   "cell_type": "markdown",
   "metadata": {},
   "source": [
    "This file created by running [create_list_of_file_name_vs_time_stamp](create_list_of_file_name_vs_time_stamp.ipynb) notebook!"
   ]
  },
  {
   "cell_type": "code",
   "execution_count": null,
   "metadata": {},
   "outputs": [],
   "source": [
    "#o_select_ascii1 = SelectAsciiFile(system=system)"
   ]
  },
  {
   "cell_type": "markdown",
   "metadata": {},
   "source": [
    "# Select Metadata vs Time Stamp ASCII File "
   ]
  },
  {
   "cell_type": "markdown",
   "metadata": {},
   "source": [
    "File creatd by either\n",
    "\n",
    "- [metadata_ascii_parser](metadata_ascii_parser.ipynb)\n",
    "\n",
    "**or/and**\n",
    "\n",
    "- [list_metadata_and_time_with_oncat](list_metadata_and_time_with_oncat.ipynb)"
   ]
  },
  {
   "cell_type": "code",
   "execution_count": null,
   "metadata": {},
   "outputs": [],
   "source": [
    "#o_select_ascii2 = SelectAsciiFile(system=system)"
   ]
  },
  {
   "cell_type": "markdown",
   "metadata": {},
   "source": [
    "# Merging "
   ]
  },
  {
   "cell_type": "code",
   "execution_count": null,
   "metadata": {},
   "outputs": [],
   "source": [
    "# o_matcher = ImagesAndMetadataExtrapolationMatcher(filename_vs_timestamp=o_select_ascii1.ascii_file,\n",
    "#                                                   metadata_ascii_file=o_select_ascii2.ascii_file)"
   ]
  },
  {
   "cell_type": "markdown",
   "metadata": {},
   "source": [
    "# Select Output Folder "
   ]
  },
  {
   "cell_type": "code",
   "execution_count": null,
   "metadata": {},
   "outputs": [],
   "source": [
    "#o_folder = SelectFolder(system=system, next_function=o_matcher.export_ascii)"
   ]
  },
  {
   "cell_type": "markdown",
   "metadata": {},
   "source": [
    "# DEBUGGING "
   ]
  },
  {
   "cell_type": "code",
   "execution_count": null,
   "metadata": {},
   "outputs": [],
   "source": [
    "import os\n",
    "import numpy as np\n",
    "\n",
    "import matplotlib.pyplot as plt\n",
    "import time\n",
    "import datetime\n",
    "\n",
    "import pandas as pd\n",
    "from __code import time_utility\n",
    "\n",
    "from __code.images_and_metadata_extrapolation_matcher import ImagesAndMetadataExtrapolationMatcher"
   ]
  },
  {
   "cell_type": "code",
   "execution_count": null,
   "metadata": {},
   "outputs": [],
   "source": [
    "ascii1 = '/Volumes/my_book_thunderbolt_duo/IPTS/IPTS-20444-Regina/TESTING_SET/images_timestamp_infos.txt'\n",
    "ascii2 = '/Volumes/my_book_thunderbolt_duo/IPTS/IPTS-20444-Regina/TESTING_SET/Sep_17_metadata_report_from_oncat.txt'\n",
    "ascii3 = '/Volumes/my_book_thunderbolt_duo/IPTS/IPTS-20444-Regina/TESTING_SET/A49_3_at80C_4p1mm_120s_2_03_OCV_C03_2columns.txt'"
   ]
  },
  {
   "cell_type": "code",
   "execution_count": null,
   "metadata": {},
   "outputs": [],
   "source": [
    "o_matcher = ImagesAndMetadataExtrapolationMatcher(ascii_file_1=ascii1, ascii_file_2=ascii2)\n",
    "print(o_matcher.ascii_file_2_dataframe)"
   ]
  },
  {
   "cell_type": "code",
   "execution_count": null,
   "metadata": {},
   "outputs": [],
   "source": []
  },
  {
   "cell_type": "code",
   "execution_count": null,
   "metadata": {},
   "outputs": [],
   "source": []
  },
  {
   "cell_type": "code",
   "execution_count": null,
   "metadata": {},
   "outputs": [],
   "source": []
  },
  {
   "cell_type": "code",
   "execution_count": null,
   "metadata": {},
   "outputs": [],
   "source": []
  },
  {
   "cell_type": "code",
   "execution_count": null,
   "metadata": {},
   "outputs": [],
   "source": []
  },
  {
   "cell_type": "code",
   "execution_count": null,
   "metadata": {},
   "outputs": [],
   "source": []
  },
  {
   "cell_type": "code",
   "execution_count": null,
   "metadata": {},
   "outputs": [],
   "source": [
    "_dataframe3 = pd.read_csv(ascii3)\n",
    "_dataframe3.set_index('time_user_format')\n",
    "# format time_user_format\n",
    "time_user_format = list(_dataframe3['time_user_format'])\n",
    "\n",
    "o_time = time_utility.TimestampFormatter(timestamp=time_user_format)\n",
    "new_time_user_format = o_time.format()\n",
    "_dataframe3['time_user_format'] = new_time_user_format\n",
    "\n",
    "print(_dataframe3)\n"
   ]
  },
  {
   "cell_type": "code",
   "execution_count": null,
   "metadata": {},
   "outputs": [],
   "source": [
    "def get_seconds(time_string, time_format='%m/%d/%Y %I:%M:%S'):\n",
    "    # time_string = 09/18/2018 12:00:35\n",
    "    x = time.strptime(time_string.strip(), time_format)\n",
    "    return datetime.timedelta(hours=x.tm_hour, minutes=x.tm_min, seconds=x.tm_sec).total_seconds()"
   ]
  },
  {
   "cell_type": "markdown",
   "metadata": {},
   "source": [
    "Metadata from Regina's data set retrieve"
   ]
  },
  {
   "cell_type": "code",
   "execution_count": null,
   "metadata": {},
   "outputs": [],
   "source": [
    "_dataframe3 = pd.read_csv(ascii3)\n",
    "#_dataframe.set_index(INDEX)\n",
    "_dataframe3\n",
    "\n",
    "time_column = np.asarray(_dataframe3['time_user_format'])\n",
    "data_column_ascii1 = np.asarray(_dataframe3['Voltage'])\n",
    "#time_column\n",
    "time_column_ascii1 = [get_seconds(_time) for _time in time_column]\n",
    "\n"
   ]
  },
  {
   "cell_type": "markdown",
   "metadata": {},
   "source": [
    "Data coming from file_name vs time stamp"
   ]
  },
  {
   "cell_type": "code",
   "execution_count": null,
   "metadata": {},
   "outputs": [],
   "source": [
    "_dataframe1 = pd.read_csv(ascii1)\n",
    "#_dataframe.set_index(INDEX)\n",
    "_dataframe1"
   ]
  },
  {
   "cell_type": "code",
   "execution_count": null,
   "metadata": {},
   "outputs": [],
   "source": [
    "time_column = np.asarray(_dataframe1[' timestamp_user_format'])\n",
    "time_column_s = [get_seconds(_time, time_format=\"%Y-%m-%d %I:%M:%S\") for _time in time_column]"
   ]
  },
  {
   "cell_type": "code",
   "execution_count": null,
   "metadata": {},
   "outputs": [],
   "source": [
    "fig, ax = plt.subplots()\n",
    "ax.plot(time_column_ascii1, data_column_ascii1, '*-', label='Time Stamp vs File Name')\n",
    "ax.set_xlabel(\"Time (s)\")\n",
    "ax.set_ylabel(\"Voltage\")\n",
    "\n",
    "for _vl in time_column_s[1:]:\n",
    "    ax.axvline(x=_vl, color='r', linestyle='--')\n",
    "\n",
    "ax.axvline(x=time_column_s[0], color='r', linestyle='--', label=\"Regina's metadata\")\n",
    "\n",
    "ax.legend()\n"
   ]
  },
  {
   "cell_type": "markdown",
   "metadata": {},
   "source": [
    "Checking the conversion of time/date units"
   ]
  },
  {
   "cell_type": "code",
   "execution_count": null,
   "metadata": {},
   "outputs": [],
   "source": [
    "format1 = \"2018-09-18 12:12:7\"\n",
    "format1_reader = \"%Y-%m-%d %I:%M:%S\"\n",
    "format2 = \"09/18/2018 12:10:35\"\n",
    "format2_reader = \"%m/%d/%Y %I:%M:%S\""
   ]
  },
  {
   "cell_type": "code",
   "execution_count": null,
   "metadata": {},
   "outputs": [],
   "source": [
    "a=\"dfdfdf\"\n",
    "type(a) is list"
   ]
  },
  {
   "cell_type": "code",
   "execution_count": null,
   "metadata": {},
   "outputs": [],
   "source": [
    "global_format = time.strptime(format1.strip(), format1_reader)\n",
    "\n",
    "new_format = \"{}/{}/{} {}:{}:{:}\".format(global_format.tm_year,\n",
    "                                        global_format.tm_mon,\n",
    "                                        global_format.tm_mday,\n",
    "                                        global_format.tm_hour,\n",
    "                                        global_format.tm_min,\n",
    "                                        global_format.tm_sec)\n",
    "print(\"{} -> {}\".format(format1, new_format))"
   ]
  },
  {
   "cell_type": "code",
   "execution_count": null,
   "metadata": {},
   "outputs": [],
   "source": [
    "# global_format = time.strptime(format2.strip(), format2_reader)\n",
    "\n",
    "# new_format = \"{}/{}/{} {}:{}:{}\".format(global_format.tm_year,\n",
    "#                                         global_format.tm_mon,\n",
    "#                                         global_format.tm_mday,\n",
    "#                                         global_format.tm_hour,\n",
    "#                                         global_format.tm_min,\n",
    "#                                         global_format.tm_sec)\n",
    "# print(\"{} -> {}\".format(format2, new_format))"
   ]
  },
  {
   "cell_type": "code",
   "execution_count": null,
   "metadata": {},
   "outputs": [],
   "source": []
  },
  {
   "cell_type": "code",
   "execution_count": null,
   "metadata": {},
   "outputs": [],
   "source": [
    "_dataframe1"
   ]
  },
  {
   "cell_type": "code",
   "execution_count": null,
   "metadata": {},
   "outputs": [],
   "source": [
    "def format_time(old_format):\n",
    "    global_format = time.strptime(old_format.strip(), format1_reader)\n",
    "    new_format = \"{}/{}/{} {}:{}:{:02d}\".format(global_format.tm_year,\n",
    "                                        global_format.tm_mon,\n",
    "                                        global_format.tm_mday,\n",
    "                                        global_format.tm_hour,\n",
    "                                        global_format.tm_min,\n",
    "                                        global_format.tm_sec)\n",
    "    return new_format"
   ]
  },
  {
   "cell_type": "code",
   "execution_count": null,
   "metadata": {},
   "outputs": [],
   "source": [
    "data1_dt = _dataframe1[' timestamp_user_format']\n",
    "data1_dt"
   ]
  },
  {
   "cell_type": "code",
   "execution_count": null,
   "metadata": {},
   "outputs": [],
   "source": [
    "_dataframe1"
   ]
  },
  {
   "cell_type": "code",
   "execution_count": null,
   "metadata": {},
   "outputs": [],
   "source": [
    "for _index, _date in enumerate(data1_dt):\n",
    "    new_format = format_time(_date)\n",
    "    data1_dt[_index] = new_format"
   ]
  },
  {
   "cell_type": "code",
   "execution_count": null,
   "metadata": {},
   "outputs": [],
   "source": [
    "data1_dt"
   ]
  },
  {
   "cell_type": "code",
   "execution_count": null,
   "metadata": {},
   "outputs": [],
   "source": [
    "if \"##filename\" in _dataframe:\n",
    "    print(\"yes\")"
   ]
  },
  {
   "cell_type": "code",
   "execution_count": null,
   "metadata": {},
   "outputs": [],
   "source": [
    "o_matcher = ImagesAndMetadataExtrapolationMatcher(filename_vs_timestamp=ascii1,\n",
    "                                                  metadata_ascii_file=ascii2)"
   ]
  },
  {
   "cell_type": "markdown",
   "metadata": {},
   "source": [
    "output file"
   ]
  },
  {
   "cell_type": "code",
   "execution_count": null,
   "metadata": {},
   "outputs": [],
   "source": [
    "o_folder = SelectFolder(system=system, next_function=o_matcher.export_ascii)"
   ]
  },
  {
   "cell_type": "code",
   "execution_count": null,
   "metadata": {},
   "outputs": [],
   "source": []
  },
  {
   "cell_type": "code",
   "execution_count": null,
   "metadata": {},
   "outputs": [],
   "source": []
  },
  {
   "cell_type": "code",
   "execution_count": null,
   "metadata": {},
   "outputs": [],
   "source": []
  },
  {
   "cell_type": "code",
   "execution_count": null,
   "metadata": {},
   "outputs": [],
   "source": [
    "import pandas as pd"
   ]
  },
  {
   "cell_type": "code",
   "execution_count": null,
   "metadata": {},
   "outputs": [],
   "source": [
    "pd_ascii1 = pd.read_csv(ascii1)\n",
    "pd_ascii2 = pd.read_csv(ascii2)"
   ]
  },
  {
   "cell_type": "code",
   "execution_count": null,
   "metadata": {},
   "outputs": [],
   "source": [
    "pd_ascii1.set_index(\"#filename\")"
   ]
  },
  {
   "cell_type": "code",
   "execution_count": null,
   "metadata": {},
   "outputs": [],
   "source": [
    "pd_ascii2.set_index(\"#filename\")"
   ]
  },
  {
   "cell_type": "code",
   "execution_count": null,
   "metadata": {},
   "outputs": [],
   "source": [
    "merging_ascii = pd.merge(pd_ascii1, pd_ascii2, on='#filename', how='outer')\n",
    "merging_ascii"
   ]
  },
  {
   "cell_type": "code",
   "execution_count": null,
   "metadata": {},
   "outputs": [],
   "source": [
    "timestamp1 = \"2018-09-18 12:13:14\"\n",
    "timestamp2 = \"2018/09/18 12:13:14\"\n",
    "timestamp3 = \"18/09/2018 12:13:14\"\n"
   ]
  },
  {
   "cell_type": "code",
   "execution_count": null,
   "metadata": {},
   "outputs": [],
   "source": [
    "o_time = time_utility.TimestampFormatter(timestamp=timestamp3)"
   ]
  },
  {
   "cell_type": "code",
   "execution_count": null,
   "metadata": {},
   "outputs": [],
   "source": [
    "o_time.format()"
   ]
  },
  {
   "cell_type": "markdown",
   "metadata": {},
   "source": [
    "# Select Metadata Info to Keep "
   ]
  },
  {
   "cell_type": "markdown",
   "metadata": {
    "run_control": {
     "frozen": false,
     "read_only": false
    }
   },
   "source": [
    "**Allow users to define:**\n",
    "\n",
    " * reference_line_showing_end_of_metadata\n",
    " * start_of_data_after_how_many_lines_from_reference_line\n",
    " * index or label of time info column in big table"
   ]
  },
  {
   "cell_type": "code",
   "execution_count": null,
   "metadata": {
    "run_control": {
     "frozen": false,
     "read_only": false
    }
   },
   "outputs": [],
   "source": [
    "o_meta = MetadataFileParser(filename=o_file.metadata_file, \n",
    "                            meta_type='mpt',\n",
    "                            time_label='time/s',\n",
    "                            reference_line_showing_end_of_metadata='Number of loops',\n",
    "                            end_of_metadata_after_how_many_lines_from_reference_line=1)\n",
    "o_meta.parse()\n",
    "\n",
    "o_meta.select_data_to_keep()"
   ]
  },
  {
   "cell_type": "markdown",
   "metadata": {},
   "source": [
    "# Select Output Folder and Filename of new Formated Metadata File"
   ]
  },
  {
   "cell_type": "code",
   "execution_count": null,
   "metadata": {},
   "outputs": [],
   "source": [
    "o_meta.keep_only_columns_of_data_of_interest()\n",
    "o_meta.select_output_location()"
   ]
  },
  {
   "cell_type": "markdown",
   "metadata": {},
   "source": [
    "# Where to go Next "
   ]
  },
  {
   "cell_type": "markdown",
   "metadata": {},
   "source": [
    "Now, you probably want to run [this metadata_ascii_parser](./metadata_ascii_parser.ipynb) notebook in order to create a list of file names and their exact metadata values."
   ]
  },
  {
   "cell_type": "code",
   "execution_count": null,
   "metadata": {},
   "outputs": [],
   "source": []
  }
 ],
 "metadata": {
  "kernelspec": {
   "display_name": "Python 3",
   "language": "python",
   "name": "python3"
  },
  "language_info": {
   "codemirror_mode": {
    "name": "ipython",
    "version": 3
   },
   "file_extension": ".py",
   "mimetype": "text/x-python",
   "name": "python",
   "nbconvert_exporter": "python",
   "pygments_lexer": "ipython3",
   "version": "3.6.7"
  },
  "toc": {
   "colors": {
    "hover_highlight": "#DAA520",
    "running_highlight": "#FF0000",
    "selected_highlight": "#FFD700"
   },
   "moveMenuLeft": true,
   "nav_menu": {
    "height": "66px",
    "width": "252px"
   },
   "navigate_menu": true,
   "number_sections": true,
   "sideBar": true,
   "threshold": 4,
   "toc_cell": false,
   "toc_section_display": "block",
   "toc_window_display": false
  }
 },
 "nbformat": 4,
 "nbformat_minor": 2
}
