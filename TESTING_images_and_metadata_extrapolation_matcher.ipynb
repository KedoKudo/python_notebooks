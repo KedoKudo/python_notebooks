{
 "cells": [
  {
   "cell_type": "markdown",
   "metadata": {},
   "source": [
    "[![Notebook Tutorial](__code/__all/notebook_tutorial.png)](https://neutronimaging.pages.ornl.gov/en/tutorial/notebooks/images_metadata_matcher/)\n",
    "\n",
    "<img src='__docs/__all/notebook_rules.png' />"
   ]
  },
  {
   "cell_type": "markdown",
   "metadata": {},
   "source": [
    "# Select your IPTS"
   ]
  },
  {
   "cell_type": "code",
   "execution_count": 1,
   "metadata": {},
   "outputs": [
    {
     "data": {
      "text/html": [
       "\n",
       "<style type=\"text/css\">\n",
       ".jupyter-widgets select option {font-family: \"Lucida Console\", Monaco, monospace;}\n",
       ".jupyter-widgets select {width: 98%;}\n",
       "div.output_subarea {padding: 0px;}\n",
       "div.output_subarea > div {margin: 0.4em;}\n",
       "</style>\n"
      ],
      "text/plain": [
       "<IPython.core.display.HTML object>"
      ]
     },
     "metadata": {},
     "output_type": "display_data"
    },
    {
     "data": {
      "text/html": [
       "\n",
       "                       <style>\n",
       "                       .result_label {\n",
       "                          font-style: bold;\n",
       "                          color: red;\n",
       "                          font-size: 18px;\n",
       "                       }\n",
       "                       </style>\n",
       "                       "
      ],
      "text/plain": [
       "<IPython.core.display.HTML object>"
      ]
     },
     "metadata": {},
     "output_type": "display_data"
    },
    {
     "name": "stdout",
     "output_type": "stream",
     "text": [
      "** Using Debugging Mode! **\n"
     ]
    },
    {
     "data": {
      "application/vnd.jupyter.widget-view+json": {
       "model_id": "168b59e1efee44b6b0a753454f45cd49",
       "version_major": 2,
       "version_minor": 0
      },
      "text/plain": [
       "VBox(children=(HBox(children=(Label(value='Select Instrument', layout=Layout(width='20%')), Select(layout=Layo…"
      ]
     },
     "metadata": {},
     "output_type": "display_data"
    },
    {
     "data": {
      "text/html": [
       "<style>\n",
       "\n",
       "/* The following CSS has been adapted from\n",
       "   http://nbviewer.ipython.org/github/ketch/teaching-numerics-with-notebooks/blob/master/Styling_notebooks.ipynb\n",
       "   by Aron Ahmadia and David Ketcheson and has been reused under CC BY 4.0\n",
       "   */\n",
       "\n",
       "/* main background */\n",
       "#site { \n",
       "    background: #888;\n",
       "    color: #red; \n",
       "}\n",
       "\n",
       "div.container {\n",
       "    width: 100% ! important;\n",
       "}\n",
       "\n",
       "div.cell { /* set cell width to about 80 chars */\n",
       "    width: 95%;\n",
       "}\n",
       "\n",
       "div #notebook { /* centre the content */\n",
       "/*    background: #fff; /* white background for content */\n",
       "    background: blue;\n",
       "    width: 100%;\n",
       "    margin: auto;\n",
       "    padding-left: 1em;\n",
       "    padding-right: 1em;\n",
       "    background-image: url(\"tile_background.jpg\");\n",
       "}\n",
       "\n",
       "#notebook li { /* More space between bullet points */\n",
       "    margin-top:0.4em;\n",
       "}\n",
       "\n",
       "/* change background color of running cells */\n",
       "div.cell.code_cell.running {\n",
       "/*    background-color: rgba(164,188,194,.75); */\n",
       "    background-color: green;\n",
       "    border-width: 8px\n",
       "    border-style: solid\n",
       "    border-color: #111;\n",
       "}\n",
       "\n",
       "/* Put a solid color box around each cell and its output, visually linking them together */\n",
       "div.cell.code_cell {\n",
       "    background-color: rgba(164,188,194,.25); /* Continuum L Gray with alpha 0.25 */\n",
       "    border-radius: 10px; /* rounded borders */\n",
       "    padding: 1em;\n",
       "    margin-top: 1em;\n",
       "}\n",
       "\n",
       "div.text_cell_render{\n",
       "\tfont-family: Georgia, Times, 'Times New Roman', serif;\n",
       "    line-height: 110%;\n",
       "    font-size: 105%;\n",
       "    width: 95%;\n",
       "    margin-left: auto;\n",
       "    margin-right: auto;\n",
       "}\n",
       "\n",
       "\n",
       "/* Formatting for header cells */\n",
       ".text_cell_render h1 {\n",
       "\tfont-family: Arial, 'Helvetica Neue', Helvetica, sans-serif;\n",
       "    font-weight: 400;\n",
       "    font-size: 30pt;\n",
       "    line-height: 100%;\n",
       "    color: rgb(37,55,70); /* Continuum Blue*/\n",
       "    margin-bottom: 0.1em;\n",
       "    margin-top: 0.1em;\n",
       "    display: block;\n",
       "}\n",
       ".text_cell_render h2 {\n",
       "\tfont-family: Arial, 'Helvetica Neue', Helvetica, sans-serif;\n",
       "    font-weight: 700;\n",
       "    font-size: 22pt;\n",
       "    line-height: 100%;\n",
       "    color: rgb(37,55,70);\n",
       "    margin-bottom: 0.1em;\n",
       "    margin-top: 0.1em;\n",
       "    display: block;\n",
       "}\n",
       "\n",
       ".text_cell_render h3 {\n",
       "\tfont-family: Arial, 'Helvetica Neue', Helvetica, sans-serif;\n",
       "    margin-top:12px;\n",
       "    margin-bottom: 3px;\n",
       "    font-style: italic;\n",
       "    color: rgb(37, 55, 70);\n",
       "}\n",
       "\n",
       ".text_cell_render h4 {\n",
       "\tfont-family: Arial, 'Helvetica Neue', Helvetica, sans-serif;\n",
       "}\n",
       "\n",
       ".text_cell_render h5 {\n",
       "\tfont-family: Arial, 'Helvetica Neue', Helvetica, sans-serif;\n",
       "    font-weight: 300;\n",
       "    font-size: 14pt;\n",
       "    font-style: italic;\n",
       "    margin-bottom: .1em;\n",
       "    margin-top: 0.1em;\n",
       "    display: block;\n",
       "}\n",
       "\n",
       ".text_cell_render h6 {\n",
       "\tfont-family: Arial, 'Helvetica Neue', Helvetica, sans-serif;\n",
       "    font-weight: 300;\n",
       "    font-size: 10pt;\n",
       "    margin-bottom: 1px;\n",
       "    margin-top: 1px;\n",
       "}\n",
       "\n",
       ".CodeMirror{\n",
       "        font-family: \"PT Mono\", fixed;\n",
       "        font-size: 100%;\n",
       "}\n",
       "\n",
       "#notebook_panel { /* main background */\n",
       "    background-image: url(\"tile_background.jpg\");\n",
       "}\n",
       "\n",
       "\n",
       "\n",
       "\n",
       "</style>\n"
      ],
      "text/plain": [
       "<IPython.core.display.HTML object>"
      ]
     },
     "execution_count": 1,
     "metadata": {},
     "output_type": "execute_result"
    }
   ],
   "source": [
    "from __code.select_files_and_folders import SelectAsciiFile, SelectFolder\n",
    "from __code.images_and_metadata_extrapolation_matcher import ImagesAndMetadataExtrapolationMatcher\n",
    "\n",
    "# from __code import system\n",
    "# system.System.select_working_dir()\n",
    "# from __code.__all import custom_style\n",
    "# custom_style.style()"
   ]
  },
  {
   "cell_type": "markdown",
   "metadata": {
    "run_control": {
     "frozen": false,
     "read_only": false
    }
   },
   "source": [
    "# Select the File Name vs Time Stamp ASCII File"
   ]
  },
  {
   "cell_type": "markdown",
   "metadata": {},
   "source": [
    "This file created by running [create_list_of_file_name_vs_time_stamp](create_list_of_file_name_vs_time_stamp.ipynb) notebook!"
   ]
  },
  {
   "cell_type": "code",
   "execution_count": 1,
   "metadata": {},
   "outputs": [],
   "source": [
    "#o_select_ascii1 = SelectAsciiFile(system=system)"
   ]
  },
  {
   "cell_type": "markdown",
   "metadata": {},
   "source": [
    "# Select Metadata vs Time Stamp ASCII File "
   ]
  },
  {
   "cell_type": "markdown",
   "metadata": {},
   "source": [
    "File creatd by either\n",
    "\n",
    "- [metadata_ascii_parser](metadata_ascii_parser.ipynb)\n",
    "\n",
    "**or/and**\n",
    "\n",
    "- [list_metadata_and_time_with_oncat](list_metadata_and_time_with_oncat.ipynb)"
   ]
  },
  {
   "cell_type": "code",
   "execution_count": 2,
   "metadata": {},
   "outputs": [],
   "source": [
    "#o_select_ascii2 = SelectAsciiFile(system=system)"
   ]
  },
  {
   "cell_type": "markdown",
   "metadata": {},
   "source": [
    "# Merging "
   ]
  },
  {
   "cell_type": "code",
   "execution_count": 4,
   "metadata": {},
   "outputs": [],
   "source": [
    "# o_matcher = ImagesAndMetadataExtrapolationMatcher(filename_vs_timestamp=o_select_ascii1.ascii_file,\n",
    "#                                                   metadata_ascii_file=o_select_ascii2.ascii_file)"
   ]
  },
  {
   "cell_type": "markdown",
   "metadata": {},
   "source": [
    "# Select Output Folder "
   ]
  },
  {
   "cell_type": "code",
   "execution_count": 3,
   "metadata": {},
   "outputs": [],
   "source": [
    "#o_folder = SelectFolder(system=system, next_function=o_matcher.export_ascii)"
   ]
  },
  {
   "cell_type": "markdown",
   "metadata": {},
   "source": [
    "# DEBUGGING "
   ]
  },
  {
   "cell_type": "code",
   "execution_count": 1,
   "metadata": {},
   "outputs": [
    {
     "data": {
      "text/html": [
       "\n",
       "<style type=\"text/css\">\n",
       ".jupyter-widgets select option {font-family: \"Lucida Console\", Monaco, monospace;}\n",
       ".jupyter-widgets select {width: 98%;}\n",
       "div.output_subarea {padding: 0px;}\n",
       "div.output_subarea > div {margin: 0.4em;}\n",
       "</style>\n"
      ],
      "text/plain": [
       "<IPython.core.display.HTML object>"
      ]
     },
     "metadata": {},
     "output_type": "display_data"
    }
   ],
   "source": [
    "import os\n",
    "import numpy as np\n",
    "\n",
    "import matplotlib.pyplot as plt\n",
    "import time\n",
    "import datetime\n",
    "\n",
    "import pandas as pd\n",
    "from __code import time_utility\n",
    "\n",
    "from __code.images_and_metadata_extrapolation_matcher import ImagesAndMetadataExtrapolationMatcher"
   ]
  },
  {
   "cell_type": "code",
   "execution_count": 2,
   "metadata": {},
   "outputs": [],
   "source": [
    "ascii1 = '/Volumes/my_book_thunderbolt_duo/IPTS/IPTS-20444-Regina/TESTING_SET/images_timestamp_infos.txt'\n",
    "ascii2 = '/Volumes/my_book_thunderbolt_duo/IPTS/IPTS-20444-Regina/TESTING_SET/Sep_17_metadata_report_from_oncat.txt'\n",
    "ascii3 = '/Volumes/my_book_thunderbolt_duo/IPTS/IPTS-20444-Regina/TESTING_SET/A49_3_at80C_4p1mm_120s_2_03_OCV_C03_2columns.txt'"
   ]
  },
  {
   "cell_type": "code",
   "execution_count": 5,
   "metadata": {},
   "outputs": [
    {
     "name": "stdout",
     "output_type": "stream",
     "text": [
      "                                           #filename  \\\n",
      "0  /Volumes/my_book_thunderbolt_duo/IPTS/IPTS-204...   \n",
      "1  /Volumes/my_book_thunderbolt_duo/IPTS/IPTS-204...   \n",
      "2  /Volumes/my_book_thunderbolt_duo/IPTS/IPTS-204...   \n",
      "3  /Volumes/my_book_thunderbolt_duo/IPTS/IPTS-204...   \n",
      "4  /Volumes/my_book_thunderbolt_duo/IPTS/IPTS-204...   \n",
      "5  /Volumes/my_book_thunderbolt_duo/IPTS/IPTS-204...   \n",
      "6  /Volumes/my_book_thunderbolt_duo/IPTS/IPTS-204...   \n",
      "7  /Volumes/my_book_thunderbolt_duo/IPTS/IPTS-204...   \n",
      "8  /Volumes/my_book_thunderbolt_duo/IPTS/IPTS-204...   \n",
      "\n",
      "               timestamp_user_format  MotCameraVert  MotCameraVert_RBV  \\\n",
      "0   2018-09-17T21:50:50.978000-04:00     -51.699796         -51.699796   \n",
      "1   2018-09-17T14:10:56.662000-04:00     -51.699796         -51.699796   \n",
      "2   2018-09-17T22:50:55.203000-04:00     -51.699796         -51.699796   \n",
      "3   2018-09-17T22:50:56.283000-04:00     -51.699796         -51.699796   \n",
      "4   2018-09-17T18:50:58.244000-04:00     -51.699796         -51.699796   \n",
      "5   2018-09-17T15:41:00.793000-04:00     -51.699796         -51.699796   \n",
      "6   2018-09-17T20:50:52.539000-04:00     -51.699796         -51.699796   \n",
      "7   2018-09-17T16:40:57.966000-04:00     -51.699796         -51.699796   \n",
      "8   2018-09-17T15:00:55.624000-04:00     -51.699796         -51.699796   \n",
      "\n",
      "   MotDetTable  MotDetTable_RBV  \n",
      "0        200.0            200.0  \n",
      "1        200.0            200.0  \n",
      "2        200.0            200.0  \n",
      "3        200.0            200.0  \n",
      "4        200.0            200.0  \n",
      "5        200.0            200.0  \n",
      "6        200.0            200.0  \n",
      "7        200.0            200.0  \n",
      "8        200.0            200.0  \n"
     ]
    }
   ],
   "source": [
    "o_matcher = ImagesAndMetadataExtrapolationMatcher(ascii_file_1=ascii1, ascii_file_2=ascii2)\n",
    "print(o_matcher.ascii_file_2_dataframe)"
   ]
  },
  {
   "cell_type": "code",
   "execution_count": null,
   "metadata": {},
   "outputs": [],
   "source": []
  },
  {
   "cell_type": "code",
   "execution_count": null,
   "metadata": {},
   "outputs": [],
   "source": []
  },
  {
   "cell_type": "code",
   "execution_count": null,
   "metadata": {},
   "outputs": [],
   "source": []
  },
  {
   "cell_type": "code",
   "execution_count": null,
   "metadata": {},
   "outputs": [],
   "source": []
  },
  {
   "cell_type": "code",
   "execution_count": null,
   "metadata": {},
   "outputs": [],
   "source": []
  },
  {
   "cell_type": "code",
   "execution_count": null,
   "metadata": {},
   "outputs": [],
   "source": []
  },
  {
   "cell_type": "code",
   "execution_count": 23,
   "metadata": {},
   "outputs": [
    {
     "name": "stdout",
     "output_type": "stream",
     "text": [
      "    Unnamed: 0     TimeStamp  Voltage     time_user_format\n",
      "0            0  1.536357e+09        1  2018-09-18 00:10:35\n",
      "1            1  1.536357e+09        2  2018-09-18 00:10:45\n",
      "2            2  1.536357e+09        3  2018-09-18 00:12:40\n",
      "3            3  1.536357e+09        4  2018-09-18 00:13:00\n",
      "4            4  1.536357e+09        5  2018-09-18 00:13:09\n",
      "5            5  1.536357e+09        6  2018-09-18 00:13:14\n",
      "6            6  1.536357e+09        7  2018-09-18 00:13:20\n",
      "7            7  1.536357e+09        8  2018-09-18 00:13:22\n",
      "8            8  1.536357e+09        9  2018-09-18 00:13:40\n",
      "9            9  1.536357e+09       10  2018-09-18 00:13:50\n",
      "10          10  1.536357e+09       11  2018-09-18 00:14:06\n",
      "11          11  1.536357e+09       12  2018-09-18 00:14:15\n",
      "12          12  1.536357e+09       13  2018-09-18 00:14:28\n"
     ]
    }
   ],
   "source": [
    "_dataframe3 = pd.read_csv(ascii3)\n",
    "_dataframe3.set_index('time_user_format')\n",
    "# format time_user_format\n",
    "time_user_format = list(_dataframe3['time_user_format'])\n",
    "\n",
    "o_time = time_utility.TimestampFormatter(timestamp=time_user_format)\n",
    "new_time_user_format = o_time.format()\n",
    "_dataframe3['time_user_format'] = new_time_user_format\n",
    "\n",
    "print(_dataframe3)\n"
   ]
  },
  {
   "cell_type": "code",
   "execution_count": 98,
   "metadata": {},
   "outputs": [],
   "source": [
    "def get_seconds(time_string, time_format='%m/%d/%Y %I:%M:%S'):\n",
    "    # time_string = 09/18/2018 12:00:35\n",
    "    x = time.strptime(time_string.strip(), time_format)\n",
    "    return datetime.timedelta(hours=x.tm_hour, minutes=x.tm_min, seconds=x.tm_sec).total_seconds()"
   ]
  },
  {
   "cell_type": "markdown",
   "metadata": {},
   "source": [
    "Metadata from Regina's data set retrieve"
   ]
  },
  {
   "cell_type": "code",
   "execution_count": 99,
   "metadata": {},
   "outputs": [
    {
     "ename": "TypeError",
     "evalue": "tuple indices must be integers or slices, not str",
     "output_type": "error",
     "traceback": [
      "\u001b[0;31m---------------------------------------------------------------------------\u001b[0m",
      "\u001b[0;31mTypeError\u001b[0m                                 Traceback (most recent call last)",
      "\u001b[0;32m<ipython-input-99-6bf6cbb7ffe4>\u001b[0m in \u001b[0;36m<module>\u001b[0;34m\u001b[0m\n\u001b[1;32m      6\u001b[0m \u001b[0mdata_column_ascii1\u001b[0m \u001b[0;34m=\u001b[0m \u001b[0mnp\u001b[0m\u001b[0;34m.\u001b[0m\u001b[0masarray\u001b[0m\u001b[0;34m(\u001b[0m\u001b[0m_dataframe3\u001b[0m\u001b[0;34m[\u001b[0m\u001b[0;34m'Voltage'\u001b[0m\u001b[0;34m]\u001b[0m\u001b[0;34m)\u001b[0m\u001b[0;34m\u001b[0m\u001b[0;34m\u001b[0m\u001b[0m\n\u001b[1;32m      7\u001b[0m \u001b[0;31m#time_column\u001b[0m\u001b[0;34m\u001b[0m\u001b[0;34m\u001b[0m\u001b[0;34m\u001b[0m\u001b[0m\n\u001b[0;32m----> 8\u001b[0;31m \u001b[0mtime_column_ascii1\u001b[0m \u001b[0;34m=\u001b[0m \u001b[0;34m[\u001b[0m\u001b[0mget_seconds\u001b[0m\u001b[0;34m(\u001b[0m\u001b[0m_time\u001b[0m\u001b[0;34m)\u001b[0m \u001b[0;32mfor\u001b[0m \u001b[0m_time\u001b[0m \u001b[0;32min\u001b[0m \u001b[0mtime_column\u001b[0m\u001b[0;34m]\u001b[0m\u001b[0;34m\u001b[0m\u001b[0;34m\u001b[0m\u001b[0m\n\u001b[0m\u001b[1;32m      9\u001b[0m \u001b[0;34m\u001b[0m\u001b[0m\n",
      "\u001b[0;32m<ipython-input-99-6bf6cbb7ffe4>\u001b[0m in \u001b[0;36m<listcomp>\u001b[0;34m(.0)\u001b[0m\n\u001b[1;32m      6\u001b[0m \u001b[0mdata_column_ascii1\u001b[0m \u001b[0;34m=\u001b[0m \u001b[0mnp\u001b[0m\u001b[0;34m.\u001b[0m\u001b[0masarray\u001b[0m\u001b[0;34m(\u001b[0m\u001b[0m_dataframe3\u001b[0m\u001b[0;34m[\u001b[0m\u001b[0;34m'Voltage'\u001b[0m\u001b[0;34m]\u001b[0m\u001b[0;34m)\u001b[0m\u001b[0;34m\u001b[0m\u001b[0;34m\u001b[0m\u001b[0m\n\u001b[1;32m      7\u001b[0m \u001b[0;31m#time_column\u001b[0m\u001b[0;34m\u001b[0m\u001b[0;34m\u001b[0m\u001b[0;34m\u001b[0m\u001b[0m\n\u001b[0;32m----> 8\u001b[0;31m \u001b[0mtime_column_ascii1\u001b[0m \u001b[0;34m=\u001b[0m \u001b[0;34m[\u001b[0m\u001b[0mget_seconds\u001b[0m\u001b[0;34m(\u001b[0m\u001b[0m_time\u001b[0m\u001b[0;34m)\u001b[0m \u001b[0;32mfor\u001b[0m \u001b[0m_time\u001b[0m \u001b[0;32min\u001b[0m \u001b[0mtime_column\u001b[0m\u001b[0;34m]\u001b[0m\u001b[0;34m\u001b[0m\u001b[0;34m\u001b[0m\u001b[0m\n\u001b[0m\u001b[1;32m      9\u001b[0m \u001b[0;34m\u001b[0m\u001b[0m\n",
      "\u001b[0;32m<ipython-input-98-37d4f0733062>\u001b[0m in \u001b[0;36mget_seconds\u001b[0;34m(time_string, time_format)\u001b[0m\n\u001b[1;32m      2\u001b[0m     \u001b[0;31m# time_string = 09/18/2018 12:00:35\u001b[0m\u001b[0;34m\u001b[0m\u001b[0;34m\u001b[0m\u001b[0;34m\u001b[0m\u001b[0m\n\u001b[1;32m      3\u001b[0m     \u001b[0mx\u001b[0m \u001b[0;34m=\u001b[0m \u001b[0mtime\u001b[0m\u001b[0;34m.\u001b[0m\u001b[0mstrptime\u001b[0m\u001b[0;34m(\u001b[0m\u001b[0mtime_string\u001b[0m\u001b[0;34m.\u001b[0m\u001b[0mstrip\u001b[0m\u001b[0;34m(\u001b[0m\u001b[0;34m)\u001b[0m\u001b[0;34m,\u001b[0m \u001b[0mtime_format\u001b[0m\u001b[0;34m)\u001b[0m\u001b[0;34m\u001b[0m\u001b[0;34m\u001b[0m\u001b[0m\n\u001b[0;32m----> 4\u001b[0;31m     \u001b[0mprint\u001b[0m\u001b[0;34m(\u001b[0m\u001b[0mx\u001b[0m\u001b[0;34m[\u001b[0m\u001b[0;34m'tm_min'\u001b[0m\u001b[0;34m]\u001b[0m\u001b[0;34m)\u001b[0m\u001b[0;34m\u001b[0m\u001b[0;34m\u001b[0m\u001b[0m\n\u001b[0m\u001b[1;32m      5\u001b[0m     \u001b[0;32mreturn\u001b[0m \u001b[0mdatetime\u001b[0m\u001b[0;34m.\u001b[0m\u001b[0mtimedelta\u001b[0m\u001b[0;34m(\u001b[0m\u001b[0mhours\u001b[0m\u001b[0;34m=\u001b[0m\u001b[0mx\u001b[0m\u001b[0;34m.\u001b[0m\u001b[0mtm_hour\u001b[0m\u001b[0;34m,\u001b[0m \u001b[0mminutes\u001b[0m\u001b[0;34m=\u001b[0m\u001b[0mx\u001b[0m\u001b[0;34m.\u001b[0m\u001b[0mtm_min\u001b[0m\u001b[0;34m,\u001b[0m \u001b[0mseconds\u001b[0m\u001b[0;34m=\u001b[0m\u001b[0mx\u001b[0m\u001b[0;34m.\u001b[0m\u001b[0mtm_sec\u001b[0m\u001b[0;34m)\u001b[0m\u001b[0;34m.\u001b[0m\u001b[0mtotal_seconds\u001b[0m\u001b[0;34m(\u001b[0m\u001b[0;34m)\u001b[0m\u001b[0;34m\u001b[0m\u001b[0;34m\u001b[0m\u001b[0m\n",
      "\u001b[0;31mTypeError\u001b[0m: tuple indices must be integers or slices, not str"
     ]
    }
   ],
   "source": [
    "_dataframe3 = pd.read_csv(ascii3)\n",
    "#_dataframe.set_index(INDEX)\n",
    "_dataframe3\n",
    "\n",
    "time_column = np.asarray(_dataframe3['time_user_format'])\n",
    "data_column_ascii1 = np.asarray(_dataframe3['Voltage'])\n",
    "#time_column\n",
    "time_column_ascii1 = [get_seconds(_time) for _time in time_column]\n",
    "\n"
   ]
  },
  {
   "cell_type": "markdown",
   "metadata": {},
   "source": [
    "Data coming from file_name vs time stamp"
   ]
  },
  {
   "cell_type": "code",
   "execution_count": 39,
   "metadata": {},
   "outputs": [
    {
     "data": {
      "text/html": [
       "<div>\n",
       "<style scoped>\n",
       "    .dataframe tbody tr th:only-of-type {\n",
       "        vertical-align: middle;\n",
       "    }\n",
       "\n",
       "    .dataframe tbody tr th {\n",
       "        vertical-align: top;\n",
       "    }\n",
       "\n",
       "    .dataframe thead th {\n",
       "        text-align: right;\n",
       "    }\n",
       "</style>\n",
       "<table border=\"1\" class=\"dataframe\">\n",
       "  <thead>\n",
       "    <tr style=\"text-align: right;\">\n",
       "      <th></th>\n",
       "      <th>#filename</th>\n",
       "      <th>timestamp(s)</th>\n",
       "      <th>timestamp_user_format</th>\n",
       "      <th>timeoffset(s)</th>\n",
       "    </tr>\n",
       "  </thead>\n",
       "  <tbody>\n",
       "    <tr>\n",
       "      <th>0</th>\n",
       "      <td>/Volumes/my_book_thunderbolt_duo/IPTS/IPTS-204...</td>\n",
       "      <td>1.537287e+09</td>\n",
       "      <td>2018-09-18 12:12:33</td>\n",
       "      <td>0.0</td>\n",
       "    </tr>\n",
       "    <tr>\n",
       "      <th>1</th>\n",
       "      <td>/Volumes/my_book_thunderbolt_duo/IPTS/IPTS-204...</td>\n",
       "      <td>1.537287e+09</td>\n",
       "      <td>2018-09-18 12:12:57</td>\n",
       "      <td>24.0</td>\n",
       "    </tr>\n",
       "    <tr>\n",
       "      <th>2</th>\n",
       "      <td>/Volumes/my_book_thunderbolt_duo/IPTS/IPTS-204...</td>\n",
       "      <td>1.537287e+09</td>\n",
       "      <td>2018-09-18 12:13:07</td>\n",
       "      <td>34.0</td>\n",
       "    </tr>\n",
       "    <tr>\n",
       "      <th>3</th>\n",
       "      <td>/Volumes/my_book_thunderbolt_duo/IPTS/IPTS-204...</td>\n",
       "      <td>1.537287e+09</td>\n",
       "      <td>2018-09-18 12:13:11</td>\n",
       "      <td>38.0</td>\n",
       "    </tr>\n",
       "    <tr>\n",
       "      <th>4</th>\n",
       "      <td>/Volumes/my_book_thunderbolt_duo/IPTS/IPTS-204...</td>\n",
       "      <td>1.537287e+09</td>\n",
       "      <td>2018-09-18 12:13:25</td>\n",
       "      <td>52.0</td>\n",
       "    </tr>\n",
       "    <tr>\n",
       "      <th>5</th>\n",
       "      <td>/Volumes/my_book_thunderbolt_duo/IPTS/IPTS-204...</td>\n",
       "      <td>1.537287e+09</td>\n",
       "      <td>2018-09-18 12:13:45</td>\n",
       "      <td>72.0</td>\n",
       "    </tr>\n",
       "    <tr>\n",
       "      <th>6</th>\n",
       "      <td>/Volumes/my_book_thunderbolt_duo/IPTS/IPTS-204...</td>\n",
       "      <td>1.537287e+09</td>\n",
       "      <td>2018-09-18 12:14:05</td>\n",
       "      <td>92.0</td>\n",
       "    </tr>\n",
       "    <tr>\n",
       "      <th>7</th>\n",
       "      <td>/Volumes/my_book_thunderbolt_duo/IPTS/IPTS-204...</td>\n",
       "      <td>1.537287e+09</td>\n",
       "      <td>2018-09-18 12:14:15</td>\n",
       "      <td>102.0</td>\n",
       "    </tr>\n",
       "    <tr>\n",
       "      <th>8</th>\n",
       "      <td>/Volumes/my_book_thunderbolt_duo/IPTS/IPTS-204...</td>\n",
       "      <td>1.537287e+09</td>\n",
       "      <td>2018-09-18 12:14:29</td>\n",
       "      <td>116.0</td>\n",
       "    </tr>\n",
       "  </tbody>\n",
       "</table>\n",
       "</div>"
      ],
      "text/plain": [
       "                                           #filename   timestamp(s)  \\\n",
       "0  /Volumes/my_book_thunderbolt_duo/IPTS/IPTS-204...   1.537287e+09   \n",
       "1  /Volumes/my_book_thunderbolt_duo/IPTS/IPTS-204...   1.537287e+09   \n",
       "2  /Volumes/my_book_thunderbolt_duo/IPTS/IPTS-204...   1.537287e+09   \n",
       "3  /Volumes/my_book_thunderbolt_duo/IPTS/IPTS-204...   1.537287e+09   \n",
       "4  /Volumes/my_book_thunderbolt_duo/IPTS/IPTS-204...   1.537287e+09   \n",
       "5  /Volumes/my_book_thunderbolt_duo/IPTS/IPTS-204...   1.537287e+09   \n",
       "6  /Volumes/my_book_thunderbolt_duo/IPTS/IPTS-204...   1.537287e+09   \n",
       "7  /Volumes/my_book_thunderbolt_duo/IPTS/IPTS-204...   1.537287e+09   \n",
       "8  /Volumes/my_book_thunderbolt_duo/IPTS/IPTS-204...   1.537287e+09   \n",
       "\n",
       "   timestamp_user_format   timeoffset(s)  \n",
       "0    2018-09-18 12:12:33             0.0  \n",
       "1    2018-09-18 12:12:57            24.0  \n",
       "2    2018-09-18 12:13:07            34.0  \n",
       "3    2018-09-18 12:13:11            38.0  \n",
       "4    2018-09-18 12:13:25            52.0  \n",
       "5    2018-09-18 12:13:45            72.0  \n",
       "6    2018-09-18 12:14:05            92.0  \n",
       "7    2018-09-18 12:14:15           102.0  \n",
       "8    2018-09-18 12:14:29           116.0  "
      ]
     },
     "execution_count": 39,
     "metadata": {},
     "output_type": "execute_result"
    }
   ],
   "source": [
    "_dataframe1 = pd.read_csv(ascii1)\n",
    "#_dataframe.set_index(INDEX)\n",
    "_dataframe1"
   ]
  },
  {
   "cell_type": "code",
   "execution_count": 6,
   "metadata": {},
   "outputs": [],
   "source": [
    "time_column = np.asarray(_dataframe1[' timestamp_user_format'])\n",
    "time_column_s = [get_seconds(_time, time_format=\"%Y-%m-%d %I:%M:%S\") for _time in time_column]"
   ]
  },
  {
   "cell_type": "code",
   "execution_count": 62,
   "metadata": {},
   "outputs": [
    {
     "data": {
      "text/plain": [
       "<matplotlib.legend.Legend at 0x1180745c0>"
      ]
     },
     "execution_count": 62,
     "metadata": {},
     "output_type": "execute_result"
    },
    {
     "data": {
      "image/png": "[encoded data removed]",
      "text/plain": [
       "<Figure size 432x288 with 1 Axes>"
      ]
     },
     "metadata": {
      "needs_background": "light"
     },
     "output_type": "display_data"
    }
   ],
   "source": [
    "fig, ax = plt.subplots()\n",
    "ax.plot(time_column_ascii1, data_column_ascii1, '*-', label='Time Stamp vs File Name')\n",
    "ax.set_xlabel(\"Time (s)\")\n",
    "ax.set_ylabel(\"Voltage\")\n",
    "\n",
    "for _vl in time_column_s[1:]:\n",
    "    ax.axvline(x=_vl, color='r', linestyle='--')\n",
    "\n",
    "ax.axvline(x=time_column_s[0], color='r', linestyle='--', label=\"Regina's metadata\")\n",
    "\n",
    "ax.legend()\n"
   ]
  },
  {
   "cell_type": "markdown",
   "metadata": {},
   "source": [
    "Checking the conversion of time/date units"
   ]
  },
  {
   "cell_type": "code",
   "execution_count": 60,
   "metadata": {},
   "outputs": [],
   "source": [
    "format1 = \"2018-09-18 12:12:7\"\n",
    "format1_reader = \"%Y-%m-%d %I:%M:%S\"\n",
    "format2 = \"09/18/2018 12:10:35\"\n",
    "format2_reader = \"%m/%d/%Y %I:%M:%S\""
   ]
  },
  {
   "cell_type": "code",
   "execution_count": 96,
   "metadata": {},
   "outputs": [
    {
     "data": {
      "text/plain": [
       "False"
      ]
     },
     "execution_count": 96,
     "metadata": {},
     "output_type": "execute_result"
    }
   ],
   "source": [
    "a=\"dfdfdf\"\n",
    "type(a) is list"
   ]
  },
  {
   "cell_type": "code",
   "execution_count": 82,
   "metadata": {},
   "outputs": [
    {
     "name": "stdout",
     "output_type": "stream",
     "text": [
      "2018-09-18 12:12:7 -> 2018/9/18 0:12:7\n"
     ]
    }
   ],
   "source": [
    "global_format = time.strptime(format1.strip(), format1_reader)\n",
    "\n",
    "new_format = \"{}/{}/{} {}:{}:{:}\".format(global_format.tm_year,\n",
    "                                        global_format.tm_mon,\n",
    "                                        global_format.tm_mday,\n",
    "                                        global_format.tm_hour,\n",
    "                                        global_format.tm_min,\n",
    "                                        global_format.tm_sec)\n",
    "print(\"{} -> {}\".format(format1, new_format))"
   ]
  },
  {
   "cell_type": "code",
   "execution_count": 83,
   "metadata": {},
   "outputs": [],
   "source": [
    "# global_format = time.strptime(format2.strip(), format2_reader)\n",
    "\n",
    "# new_format = \"{}/{}/{} {}:{}:{}\".format(global_format.tm_year,\n",
    "#                                         global_format.tm_mon,\n",
    "#                                         global_format.tm_mday,\n",
    "#                                         global_format.tm_hour,\n",
    "#                                         global_format.tm_min,\n",
    "#                                         global_format.tm_sec)\n",
    "# print(\"{} -> {}\".format(format2, new_format))"
   ]
  },
  {
   "cell_type": "code",
   "execution_count": null,
   "metadata": {},
   "outputs": [],
   "source": []
  },
  {
   "cell_type": "code",
   "execution_count": 84,
   "metadata": {},
   "outputs": [
    {
     "data": {
      "text/html": [
       "<div>\n",
       "<style scoped>\n",
       "    .dataframe tbody tr th:only-of-type {\n",
       "        vertical-align: middle;\n",
       "    }\n",
       "\n",
       "    .dataframe tbody tr th {\n",
       "        vertical-align: top;\n",
       "    }\n",
       "\n",
       "    .dataframe thead th {\n",
       "        text-align: right;\n",
       "    }\n",
       "</style>\n",
       "<table border=\"1\" class=\"dataframe\">\n",
       "  <thead>\n",
       "    <tr style=\"text-align: right;\">\n",
       "      <th></th>\n",
       "      <th>#filename</th>\n",
       "      <th>timestamp(s)</th>\n",
       "      <th>timestamp_user_format</th>\n",
       "      <th>timeoffset(s)</th>\n",
       "    </tr>\n",
       "  </thead>\n",
       "  <tbody>\n",
       "    <tr>\n",
       "      <th>0</th>\n",
       "      <td>/Volumes/my_book_thunderbolt_duo/IPTS/IPTS-204...</td>\n",
       "      <td>1.537287e+09</td>\n",
       "      <td>2018/9/18 0:12:33</td>\n",
       "      <td>0.0</td>\n",
       "    </tr>\n",
       "    <tr>\n",
       "      <th>1</th>\n",
       "      <td>/Volumes/my_book_thunderbolt_duo/IPTS/IPTS-204...</td>\n",
       "      <td>1.537287e+09</td>\n",
       "      <td>2018/9/18 0:12:57</td>\n",
       "      <td>24.0</td>\n",
       "    </tr>\n",
       "    <tr>\n",
       "      <th>2</th>\n",
       "      <td>/Volumes/my_book_thunderbolt_duo/IPTS/IPTS-204...</td>\n",
       "      <td>1.537287e+09</td>\n",
       "      <td>2018/9/18 0:13:7</td>\n",
       "      <td>34.0</td>\n",
       "    </tr>\n",
       "    <tr>\n",
       "      <th>3</th>\n",
       "      <td>/Volumes/my_book_thunderbolt_duo/IPTS/IPTS-204...</td>\n",
       "      <td>1.537287e+09</td>\n",
       "      <td>2018/9/18 0:13:11</td>\n",
       "      <td>38.0</td>\n",
       "    </tr>\n",
       "    <tr>\n",
       "      <th>4</th>\n",
       "      <td>/Volumes/my_book_thunderbolt_duo/IPTS/IPTS-204...</td>\n",
       "      <td>1.537287e+09</td>\n",
       "      <td>2018/9/18 0:13:25</td>\n",
       "      <td>52.0</td>\n",
       "    </tr>\n",
       "    <tr>\n",
       "      <th>5</th>\n",
       "      <td>/Volumes/my_book_thunderbolt_duo/IPTS/IPTS-204...</td>\n",
       "      <td>1.537287e+09</td>\n",
       "      <td>2018/9/18 0:13:45</td>\n",
       "      <td>72.0</td>\n",
       "    </tr>\n",
       "    <tr>\n",
       "      <th>6</th>\n",
       "      <td>/Volumes/my_book_thunderbolt_duo/IPTS/IPTS-204...</td>\n",
       "      <td>1.537287e+09</td>\n",
       "      <td>2018/9/18 0:14:5</td>\n",
       "      <td>92.0</td>\n",
       "    </tr>\n",
       "    <tr>\n",
       "      <th>7</th>\n",
       "      <td>/Volumes/my_book_thunderbolt_duo/IPTS/IPTS-204...</td>\n",
       "      <td>1.537287e+09</td>\n",
       "      <td>2018/9/18 0:14:15</td>\n",
       "      <td>102.0</td>\n",
       "    </tr>\n",
       "    <tr>\n",
       "      <th>8</th>\n",
       "      <td>/Volumes/my_book_thunderbolt_duo/IPTS/IPTS-204...</td>\n",
       "      <td>1.537287e+09</td>\n",
       "      <td>2018/9/18 0:14:29</td>\n",
       "      <td>116.0</td>\n",
       "    </tr>\n",
       "  </tbody>\n",
       "</table>\n",
       "</div>"
      ],
      "text/plain": [
       "                                           #filename   timestamp(s)  \\\n",
       "0  /Volumes/my_book_thunderbolt_duo/IPTS/IPTS-204...   1.537287e+09   \n",
       "1  /Volumes/my_book_thunderbolt_duo/IPTS/IPTS-204...   1.537287e+09   \n",
       "2  /Volumes/my_book_thunderbolt_duo/IPTS/IPTS-204...   1.537287e+09   \n",
       "3  /Volumes/my_book_thunderbolt_duo/IPTS/IPTS-204...   1.537287e+09   \n",
       "4  /Volumes/my_book_thunderbolt_duo/IPTS/IPTS-204...   1.537287e+09   \n",
       "5  /Volumes/my_book_thunderbolt_duo/IPTS/IPTS-204...   1.537287e+09   \n",
       "6  /Volumes/my_book_thunderbolt_duo/IPTS/IPTS-204...   1.537287e+09   \n",
       "7  /Volumes/my_book_thunderbolt_duo/IPTS/IPTS-204...   1.537287e+09   \n",
       "8  /Volumes/my_book_thunderbolt_duo/IPTS/IPTS-204...   1.537287e+09   \n",
       "\n",
       "   timestamp_user_format   timeoffset(s)  \n",
       "0      2018/9/18 0:12:33             0.0  \n",
       "1      2018/9/18 0:12:57            24.0  \n",
       "2       2018/9/18 0:13:7            34.0  \n",
       "3      2018/9/18 0:13:11            38.0  \n",
       "4      2018/9/18 0:13:25            52.0  \n",
       "5      2018/9/18 0:13:45            72.0  \n",
       "6       2018/9/18 0:14:5            92.0  \n",
       "7      2018/9/18 0:14:15           102.0  \n",
       "8      2018/9/18 0:14:29           116.0  "
      ]
     },
     "execution_count": 84,
     "metadata": {},
     "output_type": "execute_result"
    }
   ],
   "source": [
    "_dataframe1"
   ]
  },
  {
   "cell_type": "code",
   "execution_count": 85,
   "metadata": {},
   "outputs": [],
   "source": [
    "def format_time(old_format):\n",
    "    global_format = time.strptime(old_format.strip(), format1_reader)\n",
    "    new_format = \"{}/{}/{} {}:{}:{:02d}\".format(global_format.tm_year,\n",
    "                                        global_format.tm_mon,\n",
    "                                        global_format.tm_mday,\n",
    "                                        global_format.tm_hour,\n",
    "                                        global_format.tm_min,\n",
    "                                        global_format.tm_sec)\n",
    "    return new_format"
   ]
  },
  {
   "cell_type": "code",
   "execution_count": 86,
   "metadata": {
    "scrolled": true
   },
   "outputs": [
    {
     "data": {
      "text/plain": [
       "0    2018/9/18 0:12:33\n",
       "1    2018/9/18 0:12:57\n",
       "2     2018/9/18 0:13:7\n",
       "3    2018/9/18 0:13:11\n",
       "4    2018/9/18 0:13:25\n",
       "5    2018/9/18 0:13:45\n",
       "6     2018/9/18 0:14:5\n",
       "7    2018/9/18 0:14:15\n",
       "8    2018/9/18 0:14:29\n",
       "Name:  timestamp_user_format, dtype: object"
      ]
     },
     "execution_count": 86,
     "metadata": {},
     "output_type": "execute_result"
    }
   ],
   "source": [
    "data1_dt = _dataframe1[' timestamp_user_format']\n",
    "data1_dt"
   ]
  },
  {
   "cell_type": "code",
   "execution_count": 89,
   "metadata": {},
   "outputs": [
    {
     "data": {
      "text/html": [
       "<div>\n",
       "<style scoped>\n",
       "    .dataframe tbody tr th:only-of-type {\n",
       "        vertical-align: middle;\n",
       "    }\n",
       "\n",
       "    .dataframe tbody tr th {\n",
       "        vertical-align: top;\n",
       "    }\n",
       "\n",
       "    .dataframe thead th {\n",
       "        text-align: right;\n",
       "    }\n",
       "</style>\n",
       "<table border=\"1\" class=\"dataframe\">\n",
       "  <thead>\n",
       "    <tr style=\"text-align: right;\">\n",
       "      <th></th>\n",
       "      <th>#filename</th>\n",
       "      <th>timestamp(s)</th>\n",
       "      <th>timestamp_user_format</th>\n",
       "      <th>timeoffset(s)</th>\n",
       "    </tr>\n",
       "  </thead>\n",
       "  <tbody>\n",
       "    <tr>\n",
       "      <th>0</th>\n",
       "      <td>/Volumes/my_book_thunderbolt_duo/IPTS/IPTS-204...</td>\n",
       "      <td>1.537287e+09</td>\n",
       "      <td>2018/9/18 0:12:33</td>\n",
       "      <td>0.0</td>\n",
       "    </tr>\n",
       "    <tr>\n",
       "      <th>1</th>\n",
       "      <td>/Volumes/my_book_thunderbolt_duo/IPTS/IPTS-204...</td>\n",
       "      <td>1.537287e+09</td>\n",
       "      <td>2018/9/18 0:12:57</td>\n",
       "      <td>24.0</td>\n",
       "    </tr>\n",
       "    <tr>\n",
       "      <th>2</th>\n",
       "      <td>/Volumes/my_book_thunderbolt_duo/IPTS/IPTS-204...</td>\n",
       "      <td>1.537287e+09</td>\n",
       "      <td>2018/9/18 0:13:7</td>\n",
       "      <td>34.0</td>\n",
       "    </tr>\n",
       "    <tr>\n",
       "      <th>3</th>\n",
       "      <td>/Volumes/my_book_thunderbolt_duo/IPTS/IPTS-204...</td>\n",
       "      <td>1.537287e+09</td>\n",
       "      <td>2018/9/18 0:13:11</td>\n",
       "      <td>38.0</td>\n",
       "    </tr>\n",
       "    <tr>\n",
       "      <th>4</th>\n",
       "      <td>/Volumes/my_book_thunderbolt_duo/IPTS/IPTS-204...</td>\n",
       "      <td>1.537287e+09</td>\n",
       "      <td>2018/9/18 0:13:25</td>\n",
       "      <td>52.0</td>\n",
       "    </tr>\n",
       "    <tr>\n",
       "      <th>5</th>\n",
       "      <td>/Volumes/my_book_thunderbolt_duo/IPTS/IPTS-204...</td>\n",
       "      <td>1.537287e+09</td>\n",
       "      <td>2018/9/18 0:13:45</td>\n",
       "      <td>72.0</td>\n",
       "    </tr>\n",
       "    <tr>\n",
       "      <th>6</th>\n",
       "      <td>/Volumes/my_book_thunderbolt_duo/IPTS/IPTS-204...</td>\n",
       "      <td>1.537287e+09</td>\n",
       "      <td>2018/9/18 0:14:5</td>\n",
       "      <td>92.0</td>\n",
       "    </tr>\n",
       "    <tr>\n",
       "      <th>7</th>\n",
       "      <td>/Volumes/my_book_thunderbolt_duo/IPTS/IPTS-204...</td>\n",
       "      <td>1.537287e+09</td>\n",
       "      <td>2018/9/18 0:14:15</td>\n",
       "      <td>102.0</td>\n",
       "    </tr>\n",
       "    <tr>\n",
       "      <th>8</th>\n",
       "      <td>/Volumes/my_book_thunderbolt_duo/IPTS/IPTS-204...</td>\n",
       "      <td>1.537287e+09</td>\n",
       "      <td>2018/9/18 0:14:29</td>\n",
       "      <td>116.0</td>\n",
       "    </tr>\n",
       "  </tbody>\n",
       "</table>\n",
       "</div>"
      ],
      "text/plain": [
       "                                           #filename   timestamp(s)  \\\n",
       "0  /Volumes/my_book_thunderbolt_duo/IPTS/IPTS-204...   1.537287e+09   \n",
       "1  /Volumes/my_book_thunderbolt_duo/IPTS/IPTS-204...   1.537287e+09   \n",
       "2  /Volumes/my_book_thunderbolt_duo/IPTS/IPTS-204...   1.537287e+09   \n",
       "3  /Volumes/my_book_thunderbolt_duo/IPTS/IPTS-204...   1.537287e+09   \n",
       "4  /Volumes/my_book_thunderbolt_duo/IPTS/IPTS-204...   1.537287e+09   \n",
       "5  /Volumes/my_book_thunderbolt_duo/IPTS/IPTS-204...   1.537287e+09   \n",
       "6  /Volumes/my_book_thunderbolt_duo/IPTS/IPTS-204...   1.537287e+09   \n",
       "7  /Volumes/my_book_thunderbolt_duo/IPTS/IPTS-204...   1.537287e+09   \n",
       "8  /Volumes/my_book_thunderbolt_duo/IPTS/IPTS-204...   1.537287e+09   \n",
       "\n",
       "   timestamp_user_format   timeoffset(s)  \n",
       "0      2018/9/18 0:12:33             0.0  \n",
       "1      2018/9/18 0:12:57            24.0  \n",
       "2       2018/9/18 0:13:7            34.0  \n",
       "3      2018/9/18 0:13:11            38.0  \n",
       "4      2018/9/18 0:13:25            52.0  \n",
       "5      2018/9/18 0:13:45            72.0  \n",
       "6       2018/9/18 0:14:5            92.0  \n",
       "7      2018/9/18 0:14:15           102.0  \n",
       "8      2018/9/18 0:14:29           116.0  "
      ]
     },
     "execution_count": 89,
     "metadata": {},
     "output_type": "execute_result"
    }
   ],
   "source": [
    "_dataframe1"
   ]
  },
  {
   "cell_type": "code",
   "execution_count": 87,
   "metadata": {},
   "outputs": [
    {
     "ename": "ValueError",
     "evalue": "time data '2018/9/18 0:12:33' does not match format '%Y-%m-%d %I:%M:%S'",
     "output_type": "error",
     "traceback": [
      "\u001b[0;31m---------------------------------------------------------------------------\u001b[0m",
      "\u001b[0;31mValueError\u001b[0m                                Traceback (most recent call last)",
      "\u001b[0;32m<ipython-input-87-0b9fb09855c5>\u001b[0m in \u001b[0;36m<module>\u001b[0;34m\u001b[0m\n\u001b[1;32m      1\u001b[0m \u001b[0;32mfor\u001b[0m \u001b[0m_index\u001b[0m\u001b[0;34m,\u001b[0m \u001b[0m_date\u001b[0m \u001b[0;32min\u001b[0m \u001b[0menumerate\u001b[0m\u001b[0;34m(\u001b[0m\u001b[0mdata1_dt\u001b[0m\u001b[0;34m)\u001b[0m\u001b[0;34m:\u001b[0m\u001b[0;34m\u001b[0m\u001b[0;34m\u001b[0m\u001b[0m\n\u001b[0;32m----> 2\u001b[0;31m     \u001b[0mnew_format\u001b[0m \u001b[0;34m=\u001b[0m \u001b[0mformat_time\u001b[0m\u001b[0;34m(\u001b[0m\u001b[0m_date\u001b[0m\u001b[0;34m)\u001b[0m\u001b[0;34m\u001b[0m\u001b[0;34m\u001b[0m\u001b[0m\n\u001b[0m\u001b[1;32m      3\u001b[0m     \u001b[0mdata1_dt\u001b[0m\u001b[0;34m[\u001b[0m\u001b[0m_index\u001b[0m\u001b[0;34m]\u001b[0m \u001b[0;34m=\u001b[0m \u001b[0mnew_format\u001b[0m\u001b[0;34m\u001b[0m\u001b[0;34m\u001b[0m\u001b[0m\n",
      "\u001b[0;32m<ipython-input-85-1a531c310a43>\u001b[0m in \u001b[0;36mformat_time\u001b[0;34m(old_format)\u001b[0m\n\u001b[1;32m      1\u001b[0m \u001b[0;32mdef\u001b[0m \u001b[0mformat_time\u001b[0m\u001b[0;34m(\u001b[0m\u001b[0mold_format\u001b[0m\u001b[0;34m)\u001b[0m\u001b[0;34m:\u001b[0m\u001b[0;34m\u001b[0m\u001b[0;34m\u001b[0m\u001b[0m\n\u001b[0;32m----> 2\u001b[0;31m     \u001b[0mglobal_format\u001b[0m \u001b[0;34m=\u001b[0m \u001b[0mtime\u001b[0m\u001b[0;34m.\u001b[0m\u001b[0mstrptime\u001b[0m\u001b[0;34m(\u001b[0m\u001b[0mold_format\u001b[0m\u001b[0;34m.\u001b[0m\u001b[0mstrip\u001b[0m\u001b[0;34m(\u001b[0m\u001b[0;34m)\u001b[0m\u001b[0;34m,\u001b[0m \u001b[0mformat1_reader\u001b[0m\u001b[0;34m)\u001b[0m\u001b[0;34m\u001b[0m\u001b[0;34m\u001b[0m\u001b[0m\n\u001b[0m\u001b[1;32m      3\u001b[0m     new_format = \"{}/{}/{} {}:{}:{:02d}\".format(global_format.tm_year,\n\u001b[1;32m      4\u001b[0m                                         \u001b[0mglobal_format\u001b[0m\u001b[0;34m.\u001b[0m\u001b[0mtm_mon\u001b[0m\u001b[0;34m,\u001b[0m\u001b[0;34m\u001b[0m\u001b[0;34m\u001b[0m\u001b[0m\n\u001b[1;32m      5\u001b[0m                                         \u001b[0mglobal_format\u001b[0m\u001b[0;34m.\u001b[0m\u001b[0mtm_mday\u001b[0m\u001b[0;34m,\u001b[0m\u001b[0;34m\u001b[0m\u001b[0;34m\u001b[0m\u001b[0m\n",
      "\u001b[0;32m~/anaconda3/envs/py36/lib/python3.6/_strptime.py\u001b[0m in \u001b[0;36m_strptime_time\u001b[0;34m(data_string, format)\u001b[0m\n\u001b[1;32m    557\u001b[0m     \"\"\"Return a time struct based on the input string and the\n\u001b[1;32m    558\u001b[0m     format string.\"\"\"\n\u001b[0;32m--> 559\u001b[0;31m     \u001b[0mtt\u001b[0m \u001b[0;34m=\u001b[0m \u001b[0m_strptime\u001b[0m\u001b[0;34m(\u001b[0m\u001b[0mdata_string\u001b[0m\u001b[0;34m,\u001b[0m \u001b[0mformat\u001b[0m\u001b[0;34m)\u001b[0m\u001b[0;34m[\u001b[0m\u001b[0;36m0\u001b[0m\u001b[0;34m]\u001b[0m\u001b[0;34m\u001b[0m\u001b[0;34m\u001b[0m\u001b[0m\n\u001b[0m\u001b[1;32m    560\u001b[0m     \u001b[0;32mreturn\u001b[0m \u001b[0mtime\u001b[0m\u001b[0;34m.\u001b[0m\u001b[0mstruct_time\u001b[0m\u001b[0;34m(\u001b[0m\u001b[0mtt\u001b[0m\u001b[0;34m[\u001b[0m\u001b[0;34m:\u001b[0m\u001b[0mtime\u001b[0m\u001b[0;34m.\u001b[0m\u001b[0m_STRUCT_TM_ITEMS\u001b[0m\u001b[0;34m]\u001b[0m\u001b[0;34m)\u001b[0m\u001b[0;34m\u001b[0m\u001b[0;34m\u001b[0m\u001b[0m\n\u001b[1;32m    561\u001b[0m \u001b[0;34m\u001b[0m\u001b[0m\n",
      "\u001b[0;32m~/anaconda3/envs/py36/lib/python3.6/_strptime.py\u001b[0m in \u001b[0;36m_strptime\u001b[0;34m(data_string, format)\u001b[0m\n\u001b[1;32m    360\u001b[0m     \u001b[0;32mif\u001b[0m \u001b[0;32mnot\u001b[0m \u001b[0mfound\u001b[0m\u001b[0;34m:\u001b[0m\u001b[0;34m\u001b[0m\u001b[0;34m\u001b[0m\u001b[0m\n\u001b[1;32m    361\u001b[0m         raise ValueError(\"time data %r does not match format %r\" %\n\u001b[0;32m--> 362\u001b[0;31m                          (data_string, format))\n\u001b[0m\u001b[1;32m    363\u001b[0m     \u001b[0;32mif\u001b[0m \u001b[0mlen\u001b[0m\u001b[0;34m(\u001b[0m\u001b[0mdata_string\u001b[0m\u001b[0;34m)\u001b[0m \u001b[0;34m!=\u001b[0m \u001b[0mfound\u001b[0m\u001b[0;34m.\u001b[0m\u001b[0mend\u001b[0m\u001b[0;34m(\u001b[0m\u001b[0;34m)\u001b[0m\u001b[0;34m:\u001b[0m\u001b[0;34m\u001b[0m\u001b[0;34m\u001b[0m\u001b[0m\n\u001b[1;32m    364\u001b[0m         raise ValueError(\"unconverted data remains: %s\" %\n",
      "\u001b[0;31mValueError\u001b[0m: time data '2018/9/18 0:12:33' does not match format '%Y-%m-%d %I:%M:%S'"
     ]
    }
   ],
   "source": [
    "for _index, _date in enumerate(data1_dt):\n",
    "    new_format = format_time(_date)\n",
    "    data1_dt[_index] = new_format"
   ]
  },
  {
   "cell_type": "code",
   "execution_count": 88,
   "metadata": {},
   "outputs": [
    {
     "data": {
      "text/plain": [
       "0    2018/9/18 0:12:33\n",
       "1    2018/9/18 0:12:57\n",
       "2     2018/9/18 0:13:7\n",
       "3    2018/9/18 0:13:11\n",
       "4    2018/9/18 0:13:25\n",
       "5    2018/9/18 0:13:45\n",
       "6     2018/9/18 0:14:5\n",
       "7    2018/9/18 0:14:15\n",
       "8    2018/9/18 0:14:29\n",
       "Name:  timestamp_user_format, dtype: object"
      ]
     },
     "execution_count": 88,
     "metadata": {},
     "output_type": "execute_result"
    }
   ],
   "source": [
    "data1_dt"
   ]
  },
  {
   "cell_type": "code",
   "execution_count": 91,
   "metadata": {},
   "outputs": [],
   "source": [
    "if \"##filename\" in _dataframe:\n",
    "    print(\"yes\")"
   ]
  },
  {
   "cell_type": "code",
   "execution_count": 8,
   "metadata": {},
   "outputs": [],
   "source": [
    "o_matcher = ImagesAndMetadataExtrapolationMatcher(filename_vs_timestamp=ascii1,\n",
    "                                                  metadata_ascii_file=ascii2)"
   ]
  },
  {
   "cell_type": "markdown",
   "metadata": {},
   "source": [
    "output file"
   ]
  },
  {
   "cell_type": "code",
   "execution_count": 5,
   "metadata": {},
   "outputs": [
    {
     "data": {
      "application/vnd.jupyter.widget-view+json": {
       "model_id": "",
       "version_major": 2,
       "version_minor": 0
      },
      "text/plain": [
       "VBox(children=(Label(value='Select Output Folder ...', layout=Layout(width='250px')), VBox(children=(HBox(chil…"
      ]
     },
     "metadata": {},
     "output_type": "display_data"
    },
    {
     "data": {
      "text/html": [
       "<span style=\"font-size: 15px; color:blue\">Output folder name: <span style=\"color:black\"> /Volumes/my_book_thunderbolt_duo/IPTS/BraggEdge</span>"
      ],
      "text/plain": [
       "<IPython.core.display.HTML object>"
      ]
     },
     "metadata": {},
     "output_type": "display_data"
    },
    {
     "data": {
      "text/html": [
       "<span style=\"font-size: 15px; color:blue\">Output file name: <span style=\"color:black\"> images_timestamp_infos_combined_with_Sep_17_metadata_report_from_oncat.txt</span>"
      ],
      "text/plain": [
       "<IPython.core.display.HTML object>"
      ]
     },
     "metadata": {},
     "output_type": "display_data"
    },
    {
     "data": {
      "text/html": [
       "<span style=\"font-size: 15px; color:black\">File Created with Success!: <span style=\"color:black\"> </span>"
      ],
      "text/plain": [
       "<IPython.core.display.HTML object>"
      ]
     },
     "metadata": {},
     "output_type": "display_data"
    }
   ],
   "source": [
    "o_folder = SelectFolder(system=system, next_function=o_matcher.export_ascii)"
   ]
  },
  {
   "cell_type": "code",
   "execution_count": null,
   "metadata": {},
   "outputs": [],
   "source": []
  },
  {
   "cell_type": "code",
   "execution_count": null,
   "metadata": {},
   "outputs": [],
   "source": []
  },
  {
   "cell_type": "code",
   "execution_count": null,
   "metadata": {},
   "outputs": [],
   "source": []
  },
  {
   "cell_type": "code",
   "execution_count": 6,
   "metadata": {},
   "outputs": [],
   "source": [
    "import pandas as pd"
   ]
  },
  {
   "cell_type": "code",
   "execution_count": 7,
   "metadata": {},
   "outputs": [],
   "source": [
    "pd_ascii1 = pd.read_csv(ascii1)\n",
    "pd_ascii2 = pd.read_csv(ascii2)"
   ]
  },
  {
   "cell_type": "code",
   "execution_count": 44,
   "metadata": {},
   "outputs": [
    {
     "data": {
      "text/html": [
       "<div>\n",
       "<style scoped>\n",
       "    .dataframe tbody tr th:only-of-type {\n",
       "        vertical-align: middle;\n",
       "    }\n",
       "\n",
       "    .dataframe tbody tr th {\n",
       "        vertical-align: top;\n",
       "    }\n",
       "\n",
       "    .dataframe thead th {\n",
       "        text-align: right;\n",
       "    }\n",
       "</style>\n",
       "<table border=\"1\" class=\"dataframe\">\n",
       "  <thead>\n",
       "    <tr style=\"text-align: right;\">\n",
       "      <th></th>\n",
       "      <th>timestamp(s)</th>\n",
       "      <th>timestamp_user_format</th>\n",
       "      <th>timeoffset(s)</th>\n",
       "    </tr>\n",
       "    <tr>\n",
       "      <th>#filename</th>\n",
       "      <th></th>\n",
       "      <th></th>\n",
       "      <th></th>\n",
       "    </tr>\n",
       "  </thead>\n",
       "  <tbody>\n",
       "    <tr>\n",
       "      <th>/Volumes/my_book_thunderbolt_duo/IPTS/IPTS-20444-Regina/images/20180917_A49_4_at80C_4p1_120s_0120_5.tiff</th>\n",
       "      <td>1.537287e+09</td>\n",
       "      <td>2018-09-18 12:12:33</td>\n",
       "      <td>0.0</td>\n",
       "    </tr>\n",
       "    <tr>\n",
       "      <th>/Volumes/my_book_thunderbolt_duo/IPTS/IPTS-20444-Regina/images/20180917_A49_4_at80C_4p1_120s_0120_12.tiff</th>\n",
       "      <td>1.537287e+09</td>\n",
       "      <td>2018-09-18 12:12:57</td>\n",
       "      <td>24.0</td>\n",
       "    </tr>\n",
       "    <tr>\n",
       "      <th>/Volumes/my_book_thunderbolt_duo/IPTS/IPTS-20444-Regina/images/20180917_A49_4_at80C_4p1_120s_0120_8.tiff</th>\n",
       "      <td>1.537287e+09</td>\n",
       "      <td>2018-09-18 12:13:07</td>\n",
       "      <td>34.0</td>\n",
       "    </tr>\n",
       "    <tr>\n",
       "      <th>/Volumes/my_book_thunderbolt_duo/IPTS/IPTS-20444-Regina/images/20180917_A49_4_at80C_4p1_120s_0120_11.tiff</th>\n",
       "      <td>1.537287e+09</td>\n",
       "      <td>2018-09-18 12:13:11</td>\n",
       "      <td>38.0</td>\n",
       "    </tr>\n",
       "    <tr>\n",
       "      <th>/Volumes/my_book_thunderbolt_duo/IPTS/IPTS-20444-Regina/images/20180917_A49_4_at80C_4p1_120s_0120_9.tiff</th>\n",
       "      <td>1.537287e+09</td>\n",
       "      <td>2018-09-18 12:13:25</td>\n",
       "      <td>52.0</td>\n",
       "    </tr>\n",
       "    <tr>\n",
       "      <th>/Volumes/my_book_thunderbolt_duo/IPTS/IPTS-20444-Regina/images/20180917_A49_4_at80C_4p1_120s_0120_13.tiff</th>\n",
       "      <td>1.537287e+09</td>\n",
       "      <td>2018-09-18 12:13:45</td>\n",
       "      <td>72.0</td>\n",
       "    </tr>\n",
       "    <tr>\n",
       "      <th>/Volumes/my_book_thunderbolt_duo/IPTS/IPTS-20444-Regina/images/20180917_A49_4_at80C_4p1_120s_0120_7.tiff</th>\n",
       "      <td>1.537287e+09</td>\n",
       "      <td>2018-09-18 12:14:05</td>\n",
       "      <td>92.0</td>\n",
       "    </tr>\n",
       "    <tr>\n",
       "      <th>/Volumes/my_book_thunderbolt_duo/IPTS/IPTS-20444-Regina/images/20180917_A49_4_at80C_4p1_120s_0120_6.tiff</th>\n",
       "      <td>1.537287e+09</td>\n",
       "      <td>2018-09-18 12:14:15</td>\n",
       "      <td>102.0</td>\n",
       "    </tr>\n",
       "    <tr>\n",
       "      <th>/Volumes/my_book_thunderbolt_duo/IPTS/IPTS-20444-Regina/images/20180917_A49_4_at80C_4p1_120s_0120_10.tiff</th>\n",
       "      <td>1.537287e+09</td>\n",
       "      <td>2018-09-18 12:14:29</td>\n",
       "      <td>116.0</td>\n",
       "    </tr>\n",
       "  </tbody>\n",
       "</table>\n",
       "</div>"
      ],
      "text/plain": [
       "                                                     timestamp(s)  \\\n",
       "#filename                                                           \n",
       "/Volumes/my_book_thunderbolt_duo/IPTS/IPTS-2044...   1.537287e+09   \n",
       "/Volumes/my_book_thunderbolt_duo/IPTS/IPTS-2044...   1.537287e+09   \n",
       "/Volumes/my_book_thunderbolt_duo/IPTS/IPTS-2044...   1.537287e+09   \n",
       "/Volumes/my_book_thunderbolt_duo/IPTS/IPTS-2044...   1.537287e+09   \n",
       "/Volumes/my_book_thunderbolt_duo/IPTS/IPTS-2044...   1.537287e+09   \n",
       "/Volumes/my_book_thunderbolt_duo/IPTS/IPTS-2044...   1.537287e+09   \n",
       "/Volumes/my_book_thunderbolt_duo/IPTS/IPTS-2044...   1.537287e+09   \n",
       "/Volumes/my_book_thunderbolt_duo/IPTS/IPTS-2044...   1.537287e+09   \n",
       "/Volumes/my_book_thunderbolt_duo/IPTS/IPTS-2044...   1.537287e+09   \n",
       "\n",
       "                                                    timestamp_user_format  \\\n",
       "#filename                                                                   \n",
       "/Volumes/my_book_thunderbolt_duo/IPTS/IPTS-2044...    2018-09-18 12:12:33   \n",
       "/Volumes/my_book_thunderbolt_duo/IPTS/IPTS-2044...    2018-09-18 12:12:57   \n",
       "/Volumes/my_book_thunderbolt_duo/IPTS/IPTS-2044...    2018-09-18 12:13:07   \n",
       "/Volumes/my_book_thunderbolt_duo/IPTS/IPTS-2044...    2018-09-18 12:13:11   \n",
       "/Volumes/my_book_thunderbolt_duo/IPTS/IPTS-2044...    2018-09-18 12:13:25   \n",
       "/Volumes/my_book_thunderbolt_duo/IPTS/IPTS-2044...    2018-09-18 12:13:45   \n",
       "/Volumes/my_book_thunderbolt_duo/IPTS/IPTS-2044...    2018-09-18 12:14:05   \n",
       "/Volumes/my_book_thunderbolt_duo/IPTS/IPTS-2044...    2018-09-18 12:14:15   \n",
       "/Volumes/my_book_thunderbolt_duo/IPTS/IPTS-2044...    2018-09-18 12:14:29   \n",
       "\n",
       "                                                     timeoffset(s)  \n",
       "#filename                                                           \n",
       "/Volumes/my_book_thunderbolt_duo/IPTS/IPTS-2044...             0.0  \n",
       "/Volumes/my_book_thunderbolt_duo/IPTS/IPTS-2044...            24.0  \n",
       "/Volumes/my_book_thunderbolt_duo/IPTS/IPTS-2044...            34.0  \n",
       "/Volumes/my_book_thunderbolt_duo/IPTS/IPTS-2044...            38.0  \n",
       "/Volumes/my_book_thunderbolt_duo/IPTS/IPTS-2044...            52.0  \n",
       "/Volumes/my_book_thunderbolt_duo/IPTS/IPTS-2044...            72.0  \n",
       "/Volumes/my_book_thunderbolt_duo/IPTS/IPTS-2044...            92.0  \n",
       "/Volumes/my_book_thunderbolt_duo/IPTS/IPTS-2044...           102.0  \n",
       "/Volumes/my_book_thunderbolt_duo/IPTS/IPTS-2044...           116.0  "
      ]
     },
     "execution_count": 44,
     "metadata": {},
     "output_type": "execute_result"
    }
   ],
   "source": [
    "pd_ascii1.set_index(\"#filename\")"
   ]
  },
  {
   "cell_type": "code",
   "execution_count": 45,
   "metadata": {},
   "outputs": [
    {
     "data": {
      "text/html": [
       "<div>\n",
       "<style scoped>\n",
       "    .dataframe tbody tr th:only-of-type {\n",
       "        vertical-align: middle;\n",
       "    }\n",
       "\n",
       "    .dataframe tbody tr th {\n",
       "        vertical-align: top;\n",
       "    }\n",
       "\n",
       "    .dataframe thead th {\n",
       "        text-align: right;\n",
       "    }\n",
       "</style>\n",
       "<table border=\"1\" class=\"dataframe\">\n",
       "  <thead>\n",
       "    <tr style=\"text-align: right;\">\n",
       "      <th></th>\n",
       "      <th>timestamp</th>\n",
       "      <th>MotCameraVert</th>\n",
       "      <th>MotCameraVert_RBV</th>\n",
       "      <th>MotDetTable</th>\n",
       "      <th>MotDetTable_RBV</th>\n",
       "    </tr>\n",
       "    <tr>\n",
       "      <th>#filename</th>\n",
       "      <th></th>\n",
       "      <th></th>\n",
       "      <th></th>\n",
       "      <th></th>\n",
       "      <th></th>\n",
       "    </tr>\n",
       "  </thead>\n",
       "  <tbody>\n",
       "    <tr>\n",
       "      <th>/Volumes/my_book_thunderbolt_duo/IPTS/IPTS-20444-Regina/images/20180917_A49_4_at80C_4p1_120s_0120_5.tiff</th>\n",
       "      <td>2018-09-17T21:50:50.978000-04:00</td>\n",
       "      <td>-51.699796</td>\n",
       "      <td>-51.699796</td>\n",
       "      <td>200.0</td>\n",
       "      <td>200.0</td>\n",
       "    </tr>\n",
       "    <tr>\n",
       "      <th>/Volumes/my_book_thunderbolt_duo/IPTS/IPTS-20444-Regina/images/20180917_A49_4_at80C_4p1_120s_0120_12.tiff</th>\n",
       "      <td>2018-09-17T14:10:56.662000-04:00</td>\n",
       "      <td>-51.699796</td>\n",
       "      <td>-51.699796</td>\n",
       "      <td>200.0</td>\n",
       "      <td>200.0</td>\n",
       "    </tr>\n",
       "    <tr>\n",
       "      <th>/Volumes/my_book_thunderbolt_duo/IPTS/IPTS-20444-Regina/images/20180917_A49_4_at80C_4p1_120s_0120_8.tiff</th>\n",
       "      <td>2018-09-17T22:50:55.203000-04:00</td>\n",
       "      <td>-51.699796</td>\n",
       "      <td>-51.699796</td>\n",
       "      <td>200.0</td>\n",
       "      <td>200.0</td>\n",
       "    </tr>\n",
       "    <tr>\n",
       "      <th>/Volumes/my_book_thunderbolt_duo/IPTS/IPTS-20444-Regina/images/20180917_A49_4_at80C_4p1_120s_0120_11.tiff</th>\n",
       "      <td>2018-09-17T22:50:56.283000-04:00</td>\n",
       "      <td>-51.699796</td>\n",
       "      <td>-51.699796</td>\n",
       "      <td>200.0</td>\n",
       "      <td>200.0</td>\n",
       "    </tr>\n",
       "    <tr>\n",
       "      <th>/Volumes/my_book_thunderbolt_duo/IPTS/IPTS-20444-Regina/images/20180917_A49_4_at80C_4p1_120s_0120_9.tiff</th>\n",
       "      <td>2018-09-17T18:50:58.244000-04:00</td>\n",
       "      <td>-51.699796</td>\n",
       "      <td>-51.699796</td>\n",
       "      <td>200.0</td>\n",
       "      <td>200.0</td>\n",
       "    </tr>\n",
       "    <tr>\n",
       "      <th>/Volumes/my_book_thunderbolt_duo/IPTS/IPTS-20444-Regina/images/20180917_A49_4_at80C_4p1_120s_0120_13.tiff</th>\n",
       "      <td>2018-09-17T15:41:00.793000-04:00</td>\n",
       "      <td>-51.699796</td>\n",
       "      <td>-51.699796</td>\n",
       "      <td>200.0</td>\n",
       "      <td>200.0</td>\n",
       "    </tr>\n",
       "    <tr>\n",
       "      <th>/Volumes/my_book_thunderbolt_duo/IPTS/IPTS-20444-Regina/images/20180917_A49_4_at80C_4p1_120s_0120_7.tiff</th>\n",
       "      <td>2018-09-17T20:50:52.539000-04:00</td>\n",
       "      <td>-51.699796</td>\n",
       "      <td>-51.699796</td>\n",
       "      <td>200.0</td>\n",
       "      <td>200.0</td>\n",
       "    </tr>\n",
       "    <tr>\n",
       "      <th>/Volumes/my_book_thunderbolt_duo/IPTS/IPTS-20444-Regina/images/20180917_A49_4_at80C_4p1_120s_0120_6.tiff</th>\n",
       "      <td>2018-09-17T16:40:57.966000-04:00</td>\n",
       "      <td>-51.699796</td>\n",
       "      <td>-51.699796</td>\n",
       "      <td>200.0</td>\n",
       "      <td>200.0</td>\n",
       "    </tr>\n",
       "    <tr>\n",
       "      <th>/Volumes/my_book_thunderbolt_duo/IPTS/IPTS-20444-Regina/images/20180917_A49_4_at80C_4p1_120s_0120_10.tiff</th>\n",
       "      <td>2018-09-17T15:00:55.624000-04:00</td>\n",
       "      <td>-51.699796</td>\n",
       "      <td>-51.699796</td>\n",
       "      <td>200.0</td>\n",
       "      <td>200.0</td>\n",
       "    </tr>\n",
       "  </tbody>\n",
       "</table>\n",
       "</div>"
      ],
      "text/plain": [
       "                                                                            timestamp  \\\n",
       "#filename                                                                               \n",
       "/Volumes/my_book_thunderbolt_duo/IPTS/IPTS-2044...   2018-09-17T21:50:50.978000-04:00   \n",
       "/Volumes/my_book_thunderbolt_duo/IPTS/IPTS-2044...   2018-09-17T14:10:56.662000-04:00   \n",
       "/Volumes/my_book_thunderbolt_duo/IPTS/IPTS-2044...   2018-09-17T22:50:55.203000-04:00   \n",
       "/Volumes/my_book_thunderbolt_duo/IPTS/IPTS-2044...   2018-09-17T22:50:56.283000-04:00   \n",
       "/Volumes/my_book_thunderbolt_duo/IPTS/IPTS-2044...   2018-09-17T18:50:58.244000-04:00   \n",
       "/Volumes/my_book_thunderbolt_duo/IPTS/IPTS-2044...   2018-09-17T15:41:00.793000-04:00   \n",
       "/Volumes/my_book_thunderbolt_duo/IPTS/IPTS-2044...   2018-09-17T20:50:52.539000-04:00   \n",
       "/Volumes/my_book_thunderbolt_duo/IPTS/IPTS-2044...   2018-09-17T16:40:57.966000-04:00   \n",
       "/Volumes/my_book_thunderbolt_duo/IPTS/IPTS-2044...   2018-09-17T15:00:55.624000-04:00   \n",
       "\n",
       "                                                     MotCameraVert  \\\n",
       "#filename                                                            \n",
       "/Volumes/my_book_thunderbolt_duo/IPTS/IPTS-2044...      -51.699796   \n",
       "/Volumes/my_book_thunderbolt_duo/IPTS/IPTS-2044...      -51.699796   \n",
       "/Volumes/my_book_thunderbolt_duo/IPTS/IPTS-2044...      -51.699796   \n",
       "/Volumes/my_book_thunderbolt_duo/IPTS/IPTS-2044...      -51.699796   \n",
       "/Volumes/my_book_thunderbolt_duo/IPTS/IPTS-2044...      -51.699796   \n",
       "/Volumes/my_book_thunderbolt_duo/IPTS/IPTS-2044...      -51.699796   \n",
       "/Volumes/my_book_thunderbolt_duo/IPTS/IPTS-2044...      -51.699796   \n",
       "/Volumes/my_book_thunderbolt_duo/IPTS/IPTS-2044...      -51.699796   \n",
       "/Volumes/my_book_thunderbolt_duo/IPTS/IPTS-2044...      -51.699796   \n",
       "\n",
       "                                                     MotCameraVert_RBV  \\\n",
       "#filename                                                                \n",
       "/Volumes/my_book_thunderbolt_duo/IPTS/IPTS-2044...          -51.699796   \n",
       "/Volumes/my_book_thunderbolt_duo/IPTS/IPTS-2044...          -51.699796   \n",
       "/Volumes/my_book_thunderbolt_duo/IPTS/IPTS-2044...          -51.699796   \n",
       "/Volumes/my_book_thunderbolt_duo/IPTS/IPTS-2044...          -51.699796   \n",
       "/Volumes/my_book_thunderbolt_duo/IPTS/IPTS-2044...          -51.699796   \n",
       "/Volumes/my_book_thunderbolt_duo/IPTS/IPTS-2044...          -51.699796   \n",
       "/Volumes/my_book_thunderbolt_duo/IPTS/IPTS-2044...          -51.699796   \n",
       "/Volumes/my_book_thunderbolt_duo/IPTS/IPTS-2044...          -51.699796   \n",
       "/Volumes/my_book_thunderbolt_duo/IPTS/IPTS-2044...          -51.699796   \n",
       "\n",
       "                                                     MotDetTable  \\\n",
       "#filename                                                          \n",
       "/Volumes/my_book_thunderbolt_duo/IPTS/IPTS-2044...         200.0   \n",
       "/Volumes/my_book_thunderbolt_duo/IPTS/IPTS-2044...         200.0   \n",
       "/Volumes/my_book_thunderbolt_duo/IPTS/IPTS-2044...         200.0   \n",
       "/Volumes/my_book_thunderbolt_duo/IPTS/IPTS-2044...         200.0   \n",
       "/Volumes/my_book_thunderbolt_duo/IPTS/IPTS-2044...         200.0   \n",
       "/Volumes/my_book_thunderbolt_duo/IPTS/IPTS-2044...         200.0   \n",
       "/Volumes/my_book_thunderbolt_duo/IPTS/IPTS-2044...         200.0   \n",
       "/Volumes/my_book_thunderbolt_duo/IPTS/IPTS-2044...         200.0   \n",
       "/Volumes/my_book_thunderbolt_duo/IPTS/IPTS-2044...         200.0   \n",
       "\n",
       "                                                     MotDetTable_RBV  \n",
       "#filename                                                             \n",
       "/Volumes/my_book_thunderbolt_duo/IPTS/IPTS-2044...             200.0  \n",
       "/Volumes/my_book_thunderbolt_duo/IPTS/IPTS-2044...             200.0  \n",
       "/Volumes/my_book_thunderbolt_duo/IPTS/IPTS-2044...             200.0  \n",
       "/Volumes/my_book_thunderbolt_duo/IPTS/IPTS-2044...             200.0  \n",
       "/Volumes/my_book_thunderbolt_duo/IPTS/IPTS-2044...             200.0  \n",
       "/Volumes/my_book_thunderbolt_duo/IPTS/IPTS-2044...             200.0  \n",
       "/Volumes/my_book_thunderbolt_duo/IPTS/IPTS-2044...             200.0  \n",
       "/Volumes/my_book_thunderbolt_duo/IPTS/IPTS-2044...             200.0  \n",
       "/Volumes/my_book_thunderbolt_duo/IPTS/IPTS-2044...             200.0  "
      ]
     },
     "execution_count": 45,
     "metadata": {},
     "output_type": "execute_result"
    }
   ],
   "source": [
    "pd_ascii2.set_index(\"#filename\")"
   ]
  },
  {
   "cell_type": "code",
   "execution_count": 95,
   "metadata": {},
   "outputs": [
    {
     "data": {
      "text/html": [
       "<div>\n",
       "<style scoped>\n",
       "    .dataframe tbody tr th:only-of-type {\n",
       "        vertical-align: middle;\n",
       "    }\n",
       "\n",
       "    .dataframe tbody tr th {\n",
       "        vertical-align: top;\n",
       "    }\n",
       "\n",
       "    .dataframe thead th {\n",
       "        text-align: right;\n",
       "    }\n",
       "</style>\n",
       "<table border=\"1\" class=\"dataframe\">\n",
       "  <thead>\n",
       "    <tr style=\"text-align: right;\">\n",
       "      <th></th>\n",
       "      <th>#filename</th>\n",
       "      <th>timestamp(s)</th>\n",
       "      <th>timestamp_user_format</th>\n",
       "      <th>timeoffset(s)</th>\n",
       "      <th>timestamp</th>\n",
       "      <th>MotCameraVert</th>\n",
       "      <th>MotCameraVert_RBV</th>\n",
       "      <th>MotDetTable</th>\n",
       "      <th>MotDetTable_RBV</th>\n",
       "    </tr>\n",
       "  </thead>\n",
       "  <tbody>\n",
       "    <tr>\n",
       "      <th>0</th>\n",
       "      <td>/Volumes/my_book_thunderbolt_duo/IPTS/IPTS-204...</td>\n",
       "      <td>1.537287e+09</td>\n",
       "      <td>2018-09-18 12:12:33</td>\n",
       "      <td>0.0</td>\n",
       "      <td>2018-09-17T21:50:50.978000-04:00</td>\n",
       "      <td>-51.699796</td>\n",
       "      <td>-51.699796</td>\n",
       "      <td>200.0</td>\n",
       "      <td>200.0</td>\n",
       "    </tr>\n",
       "    <tr>\n",
       "      <th>1</th>\n",
       "      <td>/Volumes/my_book_thunderbolt_duo/IPTS/IPTS-204...</td>\n",
       "      <td>1.537287e+09</td>\n",
       "      <td>2018-09-18 12:12:57</td>\n",
       "      <td>24.0</td>\n",
       "      <td>2018-09-17T14:10:56.662000-04:00</td>\n",
       "      <td>-51.699796</td>\n",
       "      <td>-51.699796</td>\n",
       "      <td>200.0</td>\n",
       "      <td>200.0</td>\n",
       "    </tr>\n",
       "    <tr>\n",
       "      <th>2</th>\n",
       "      <td>/Volumes/my_book_thunderbolt_duo/IPTS/IPTS-204...</td>\n",
       "      <td>1.537287e+09</td>\n",
       "      <td>2018-09-18 12:13:07</td>\n",
       "      <td>34.0</td>\n",
       "      <td>2018-09-17T22:50:55.203000-04:00</td>\n",
       "      <td>-51.699796</td>\n",
       "      <td>-51.699796</td>\n",
       "      <td>200.0</td>\n",
       "      <td>200.0</td>\n",
       "    </tr>\n",
       "    <tr>\n",
       "      <th>3</th>\n",
       "      <td>/Volumes/my_book_thunderbolt_duo/IPTS/IPTS-204...</td>\n",
       "      <td>1.537287e+09</td>\n",
       "      <td>2018-09-18 12:13:11</td>\n",
       "      <td>38.0</td>\n",
       "      <td>2018-09-17T22:50:56.283000-04:00</td>\n",
       "      <td>-51.699796</td>\n",
       "      <td>-51.699796</td>\n",
       "      <td>200.0</td>\n",
       "      <td>200.0</td>\n",
       "    </tr>\n",
       "    <tr>\n",
       "      <th>4</th>\n",
       "      <td>/Volumes/my_book_thunderbolt_duo/IPTS/IPTS-204...</td>\n",
       "      <td>1.537287e+09</td>\n",
       "      <td>2018-09-18 12:13:25</td>\n",
       "      <td>52.0</td>\n",
       "      <td>2018-09-17T18:50:58.244000-04:00</td>\n",
       "      <td>-51.699796</td>\n",
       "      <td>-51.699796</td>\n",
       "      <td>200.0</td>\n",
       "      <td>200.0</td>\n",
       "    </tr>\n",
       "    <tr>\n",
       "      <th>5</th>\n",
       "      <td>/Volumes/my_book_thunderbolt_duo/IPTS/IPTS-204...</td>\n",
       "      <td>1.537287e+09</td>\n",
       "      <td>2018-09-18 12:13:45</td>\n",
       "      <td>72.0</td>\n",
       "      <td>2018-09-17T15:41:00.793000-04:00</td>\n",
       "      <td>-51.699796</td>\n",
       "      <td>-51.699796</td>\n",
       "      <td>200.0</td>\n",
       "      <td>200.0</td>\n",
       "    </tr>\n",
       "    <tr>\n",
       "      <th>6</th>\n",
       "      <td>/Volumes/my_book_thunderbolt_duo/IPTS/IPTS-204...</td>\n",
       "      <td>1.537287e+09</td>\n",
       "      <td>2018-09-18 12:14:05</td>\n",
       "      <td>92.0</td>\n",
       "      <td>2018-09-17T20:50:52.539000-04:00</td>\n",
       "      <td>-51.699796</td>\n",
       "      <td>-51.699796</td>\n",
       "      <td>200.0</td>\n",
       "      <td>200.0</td>\n",
       "    </tr>\n",
       "    <tr>\n",
       "      <th>7</th>\n",
       "      <td>/Volumes/my_book_thunderbolt_duo/IPTS/IPTS-204...</td>\n",
       "      <td>1.537287e+09</td>\n",
       "      <td>2018-09-18 12:14:15</td>\n",
       "      <td>102.0</td>\n",
       "      <td>2018-09-17T16:40:57.966000-04:00</td>\n",
       "      <td>-51.699796</td>\n",
       "      <td>-51.699796</td>\n",
       "      <td>200.0</td>\n",
       "      <td>200.0</td>\n",
       "    </tr>\n",
       "    <tr>\n",
       "      <th>8</th>\n",
       "      <td>/Volumes/my_book_thunderbolt_duo/IPTS/IPTS-204...</td>\n",
       "      <td>1.537287e+09</td>\n",
       "      <td>2018-09-18 12:14:29</td>\n",
       "      <td>116.0</td>\n",
       "      <td>2018-09-17T15:00:55.624000-04:00</td>\n",
       "      <td>-51.699796</td>\n",
       "      <td>-51.699796</td>\n",
       "      <td>200.0</td>\n",
       "      <td>200.0</td>\n",
       "    </tr>\n",
       "  </tbody>\n",
       "</table>\n",
       "</div>"
      ],
      "text/plain": [
       "                                           #filename   timestamp(s)  \\\n",
       "0  /Volumes/my_book_thunderbolt_duo/IPTS/IPTS-204...   1.537287e+09   \n",
       "1  /Volumes/my_book_thunderbolt_duo/IPTS/IPTS-204...   1.537287e+09   \n",
       "2  /Volumes/my_book_thunderbolt_duo/IPTS/IPTS-204...   1.537287e+09   \n",
       "3  /Volumes/my_book_thunderbolt_duo/IPTS/IPTS-204...   1.537287e+09   \n",
       "4  /Volumes/my_book_thunderbolt_duo/IPTS/IPTS-204...   1.537287e+09   \n",
       "5  /Volumes/my_book_thunderbolt_duo/IPTS/IPTS-204...   1.537287e+09   \n",
       "6  /Volumes/my_book_thunderbolt_duo/IPTS/IPTS-204...   1.537287e+09   \n",
       "7  /Volumes/my_book_thunderbolt_duo/IPTS/IPTS-204...   1.537287e+09   \n",
       "8  /Volumes/my_book_thunderbolt_duo/IPTS/IPTS-204...   1.537287e+09   \n",
       "\n",
       "   timestamp_user_format   timeoffset(s)                          timestamp  \\\n",
       "0    2018-09-18 12:12:33             0.0   2018-09-17T21:50:50.978000-04:00   \n",
       "1    2018-09-18 12:12:57            24.0   2018-09-17T14:10:56.662000-04:00   \n",
       "2    2018-09-18 12:13:07            34.0   2018-09-17T22:50:55.203000-04:00   \n",
       "3    2018-09-18 12:13:11            38.0   2018-09-17T22:50:56.283000-04:00   \n",
       "4    2018-09-18 12:13:25            52.0   2018-09-17T18:50:58.244000-04:00   \n",
       "5    2018-09-18 12:13:45            72.0   2018-09-17T15:41:00.793000-04:00   \n",
       "6    2018-09-18 12:14:05            92.0   2018-09-17T20:50:52.539000-04:00   \n",
       "7    2018-09-18 12:14:15           102.0   2018-09-17T16:40:57.966000-04:00   \n",
       "8    2018-09-18 12:14:29           116.0   2018-09-17T15:00:55.624000-04:00   \n",
       "\n",
       "    MotCameraVert   MotCameraVert_RBV   MotDetTable   MotDetTable_RBV  \n",
       "0      -51.699796          -51.699796         200.0             200.0  \n",
       "1      -51.699796          -51.699796         200.0             200.0  \n",
       "2      -51.699796          -51.699796         200.0             200.0  \n",
       "3      -51.699796          -51.699796         200.0             200.0  \n",
       "4      -51.699796          -51.699796         200.0             200.0  \n",
       "5      -51.699796          -51.699796         200.0             200.0  \n",
       "6      -51.699796          -51.699796         200.0             200.0  \n",
       "7      -51.699796          -51.699796         200.0             200.0  \n",
       "8      -51.699796          -51.699796         200.0             200.0  "
      ]
     },
     "execution_count": 95,
     "metadata": {},
     "output_type": "execute_result"
    }
   ],
   "source": [
    "merging_ascii = pd.merge(pd_ascii1, pd_ascii2, on='#filename', how='outer')\n",
    "merging_ascii"
   ]
  },
  {
   "cell_type": "code",
   "execution_count": 1,
   "metadata": {},
   "outputs": [],
   "source": [
    "timestamp1 = \"2018-09-18 12:13:14\"\n",
    "timestamp2 = \"2018/09/18 12:13:14\"\n",
    "timestamp3 = \"18/09/2018 12:13:14\"\n"
   ]
  },
  {
   "cell_type": "code",
   "execution_count": 3,
   "metadata": {},
   "outputs": [],
   "source": [
    "o_time = time_utility.TimestampFormatter(timestamp=timestamp3)"
   ]
  },
  {
   "cell_type": "code",
   "execution_count": 4,
   "metadata": {
    "scrolled": true
   },
   "outputs": [
    {
     "name": "stdout",
     "output_type": "stream",
     "text": [
      "timestamp: 18/09/2018 12:13:14\n",
      "input_time_format: %m/%d/%Y %I:%M:%S\n",
      "timestamp: 18/09/2018 12:13:14\n",
      "input_time_format: %Y-%m-%d %I:%M:%S\n",
      "timestamp: 18/09/2018 12:13:14\n",
      "input_time_format: %d/%m/%Y %I:%M:%S\n",
      "time_dict: time.struct_time(tm_year=2018, tm_mon=9, tm_mday=18, tm_hour=0, tm_min=13, tm_sec=14, tm_wday=1, tm_yday=261, tm_isdst=-1)\n",
      "\n"
     ]
    },
    {
     "data": {
      "text/plain": [
       "'2018-09-18 00:13:14'"
      ]
     },
     "execution_count": 4,
     "metadata": {},
     "output_type": "execute_result"
    }
   ],
   "source": [
    "o_time.format()"
   ]
  },
  {
   "cell_type": "markdown",
   "metadata": {},
   "source": [
    "# Select Metadata Info to Keep "
   ]
  },
  {
   "cell_type": "markdown",
   "metadata": {
    "run_control": {
     "frozen": false,
     "read_only": false
    }
   },
   "source": [
    "**Allow users to define:**\n",
    "\n",
    " * reference_line_showing_end_of_metadata\n",
    " * start_of_data_after_how_many_lines_from_reference_line\n",
    " * index or label of time info column in big table"
   ]
  },
  {
   "cell_type": "code",
   "execution_count": null,
   "metadata": {
    "run_control": {
     "frozen": false,
     "read_only": false
    }
   },
   "outputs": [],
   "source": [
    "o_meta = MetadataFileParser(filename=o_file.metadata_file, \n",
    "                            meta_type='mpt',\n",
    "                            time_label='time/s',\n",
    "                            reference_line_showing_end_of_metadata='Number of loops',\n",
    "                            end_of_metadata_after_how_many_lines_from_reference_line=1)\n",
    "o_meta.parse()\n",
    "\n",
    "o_meta.select_data_to_keep()"
   ]
  },
  {
   "cell_type": "markdown",
   "metadata": {},
   "source": [
    "# Select Output Folder and Filename of new Formated Metadata File"
   ]
  },
  {
   "cell_type": "code",
   "execution_count": null,
   "metadata": {},
   "outputs": [],
   "source": [
    "o_meta.keep_only_columns_of_data_of_interest()\n",
    "o_meta.select_output_location()"
   ]
  },
  {
   "cell_type": "markdown",
   "metadata": {},
   "source": [
    "# Where to go Next "
   ]
  },
  {
   "cell_type": "markdown",
   "metadata": {},
   "source": [
    "Now, you probably want to run [this metadata_ascii_parser](./metadata_ascii_parser.ipynb) notebook in order to create a list of file names and their exact metadata values."
   ]
  },
  {
   "cell_type": "code",
   "execution_count": null,
   "metadata": {},
   "outputs": [],
   "source": []
  }
 ],
 "metadata": {
  "kernelspec": {
   "display_name": "Python 3",
   "language": "python",
   "name": "python3"
  },
  "language_info": {
   "codemirror_mode": {
    "name": "ipython",
    "version": 3
   },
   "file_extension": ".py",
   "mimetype": "text/x-python",
   "name": "python",
   "nbconvert_exporter": "python",
   "pygments_lexer": "ipython3",
   "version": "3.6.7"
  },
  "toc": {
   "colors": {
    "hover_highlight": "#DAA520",
    "running_highlight": "#FF0000",
    "selected_highlight": "#FFD700"
   },
   "moveMenuLeft": true,
   "nav_menu": {
    "height": "66px",
    "width": "252px"
   },
   "navigate_menu": true,
   "number_sections": true,
   "sideBar": true,
   "threshold": 4,
   "toc_cell": false,
   "toc_section_display": "block",
   "toc_window_display": false
  }
 },
 "nbformat": 4,
 "nbformat_minor": 2
}
