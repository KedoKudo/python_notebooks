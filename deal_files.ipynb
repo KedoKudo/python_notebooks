{
 "cells": [
  {
   "cell_type": "code",
   "execution_count": null,
   "metadata": {
    "run_control": {
     "frozen": false,
     "read_only": false
    }
   },
   "outputs": [],
   "source": [
    "debugging = False"
   ]
  },
  {
   "cell_type": "markdown",
   "metadata": {
    "run_control": {
     "frozen": false,
     "read_only": false
    }
   },
   "source": [
    "# Description"
   ]
  },
  {
   "cell_type": "markdown",
   "metadata": {
    "run_control": {
     "frozen": false,
     "read_only": false
    }
   },
   "source": [
    "This notebook allows to deal (distribute) images from a folder into different folder\n",
    "\n",
    "\n",
    "**INPUT**\n",
    "\n",
    "```\n",
    "image001_000.tif\n",
    "image001_001.tif\n",
    "image001_002.tif\n",
    "   ....\n",
    "image001_100.tif\n",
    "image002_000.tif\n",
    "image002_001.tif\n",
    "image002_002.tif\n",
    "   ....\n",
    "image002_100.tif\n",
    "image003_000.tif\n",
    "image003_001.tif\n",
    "image003_002.tif\n",
    "   ....\n",
    "image003_100.tif\n",
    "...    \n",
    "    \n",
    "    \n",
    "```\n",
    "**OUTPUT**\n",
    "\n",
    "```\n",
    "image001\n",
    "    image000.tif\n",
    "    image001.tif\n",
    "    image002.tif\n",
    "    ...\n",
    "    image100.tif\n",
    "\n",
    "image002\n",
    "    image000.tif\n",
    "    image001.tif\n",
    "    image002.tif\n",
    "    ...\n",
    "    image100.tif\n",
    "\n",
    "image003\n",
    "    image000.tif\n",
    "    image001.tif\n",
    "    image002.tif\n",
    "    ...\n",
    "    image100.tif\n",
    "    \n",
    "```\n",
    "\n"
   ]
  },
  {
   "cell_type": "markdown",
   "metadata": {
    "run_control": {
     "frozen": false,
     "read_only": false
    }
   },
   "source": [
    "# Python Import"
   ]
  },
  {
   "cell_type": "code",
   "execution_count": null,
   "metadata": {
    "run_control": {
     "frozen": false,
     "read_only": false
    }
   },
   "outputs": [],
   "source": [
    "from __code.__all import custom_style\n",
    "custom_style.style()"
   ]
  },
  {
   "cell_type": "code",
   "execution_count": null,
   "metadata": {
    "run_control": {
     "frozen": false,
     "read_only": false
    }
   },
   "outputs": [],
   "source": [
    "%gui qt"
   ]
  },
  {
   "cell_type": "code",
   "execution_count": null,
   "metadata": {
    "run_control": {
     "frozen": false,
     "read_only": false
    }
   },
   "outputs": [],
   "source": [
    "from __code import utilities, gui_widgets, deal\n",
    "\n",
    "ipts = utilities.get_ipts()\n",
    "working_dir = utilities.get_working_dir(ipts=ipts)\n",
    "if debugging:\n",
    "    working_dir = '/Volumes/my_book_thunderbolt_duo/IPTS/IPTS_19037'"
   ]
  },
  {
   "cell_type": "markdown",
   "metadata": {
    "run_control": {
     "frozen": false,
     "read_only": false
    }
   },
   "source": [
    "# Images to Distribute"
   ]
  },
  {
   "cell_type": "markdown",
   "metadata": {
    "run_control": {
     "frozen": false,
     "read_only": false
    }
   },
   "source": [
    "## Select All Images to Distribute "
   ]
  },
  {
   "cell_type": "code",
   "execution_count": null,
   "metadata": {
    "run_control": {
     "frozen": false,
     "read_only": false
    }
   },
   "outputs": [],
   "source": [
    "list_images = gui_widgets.gui_fimage(dir=working_dir, message='Select images to distribute')[0]"
   ]
  },
  {
   "cell_type": "markdown",
   "metadata": {
    "run_control": {
     "frozen": false,
     "read_only": false
    }
   },
   "source": [
    "## Select Output Folder "
   ]
  },
  {
   "cell_type": "code",
   "execution_count": null,
   "metadata": {
    "run_control": {
     "frozen": false,
     "read_only": false
    }
   },
   "outputs": [],
   "source": [
    "working_dir = os.path.dirname(list_images[0])\n",
    "output_folder = gui_widgets.gui_dname(dir=working_dir, message='Select output folder')"
   ]
  },
  {
   "cell_type": "markdown",
   "metadata": {
    "run_control": {
     "frozen": false,
     "read_only": false
    }
   },
   "source": [
    "## Performing the split"
   ]
  },
  {
   "cell_type": "code",
   "execution_count": null,
   "metadata": {
    "run_control": {
     "frozen": false,
     "read_only": false
    }
   },
   "outputs": [],
   "source": [
    "result_dict = deal.split(list_images=list_images)\n",
    "\n",
    "nbr_images_per_folder = result_dict['nbr_images_per_folder']\n",
    "nbr_folders = result_dict['nbr_folders']\n",
    "output_folder_dict = result_dict['output_folder_dict']"
   ]
  },
  {
   "cell_type": "code",
   "execution_count": null,
   "metadata": {
    "run_control": {
     "frozen": false,
     "read_only": false
    }
   },
   "outputs": [],
   "source": [
    "deal.deal(nbr_images_per_folder=nbr_images_per_folder, nbr_folders=nbr_folders, output_folder=output_folder, output_folder_dict=output_folder_dict)"
   ]
  },
  {
   "cell_type": "code",
   "execution_count": null,
   "metadata": {
    "run_control": {
     "frozen": false,
     "read_only": false
    }
   },
   "outputs": [],
   "source": []
  }
 ],
 "metadata": {
  "anaconda-cloud": {},
  "kernelspec": {
   "display_name": "Python 3",
   "language": "python",
   "name": "python3"
  },
  "language_info": {
   "codemirror_mode": {
    "name": "ipython",
    "version": 3
   },
   "file_extension": ".py",
   "mimetype": "text/x-python",
   "name": "python",
   "nbconvert_exporter": "python",
   "pygments_lexer": "ipython3",
   "version": "3.6.1"
  },
  "toc": {
   "colors": {
    "hover_highlight": "#DAA520",
    "running_highlight": "#FF0000",
    "selected_highlight": "#FFD700"
   },
   "moveMenuLeft": true,
   "nav_menu": {
    "height": "210px",
    "width": "252px"
   },
   "navigate_menu": true,
   "number_sections": true,
   "sideBar": true,
   "threshold": 4,
   "toc_cell": false,
   "toc_section_display": "block",
   "toc_window_display": false
  }
 },
 "nbformat": 4,
 "nbformat_minor": 1
}
