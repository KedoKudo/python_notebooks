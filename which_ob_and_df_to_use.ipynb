{
 "cells": [
  {
   "cell_type": "markdown",
   "metadata": {},
   "source": [
    "[![Notebook Tutorial](__code/__all/notebook_tutorial.png)](https://neutronimaging.pages.ornl.gov/en/tutorial/notebooks/which_ob_and_df_to_use)\n",
    "\n",
    "<img src='__docs/__all/notebook_rules.png' />"
   ]
  },
  {
   "cell_type": "markdown",
   "metadata": {
    "run_control": {
     "frozen": false,
     "read_only": false
    }
   },
   "source": [
    "# Select Your IPTS "
   ]
  },
  {
   "cell_type": "code",
   "execution_count": 1,
   "metadata": {
    "run_control": {
     "frozen": false,
     "read_only": false
    }
   },
   "outputs": [
    {
     "data": {
      "text/html": [
       "\n",
       "<style type=\"text/css\">\n",
       ".jupyter-widgets select option {font-family: \"Lucida Console\", Monaco, monospace;}\n",
       ".jupyter-widgets select {width: 98%;}\n",
       "div.output_subarea {padding: 0px;}\n",
       "div.output_subarea > div {margin: 0.4em;}\n",
       "</style>\n"
      ],
      "text/plain": [
       "<IPython.core.display.HTML object>"
      ]
     },
     "metadata": {},
     "output_type": "display_data"
    },
    {
     "data": {
      "text/html": [
       "\n",
       "                       <style>\n",
       "                       .result_label {\n",
       "                          font-style: bold;\n",
       "                          color: red;\n",
       "                          font-size: 18px;\n",
       "                       }\n",
       "                       </style>\n",
       "                       "
      ],
      "text/plain": [
       "<IPython.core.display.HTML object>"
      ]
     },
     "metadata": {},
     "output_type": "display_data"
    },
    {
     "name": "stdout",
     "output_type": "stream",
     "text": [
      "** Using Debugging Mode! **\n"
     ]
    },
    {
     "data": {
      "application/vnd.jupyter.widget-view+json": {
       "model_id": "843d28122f0048828c0923adb1c6653b",
       "version_major": 2,
       "version_minor": 0
      },
      "text/plain": [
       "VBox(children=(HBox(children=(Label(value='Select Instrument', layout=Layout(width='20%')), Select(layout=Layo…"
      ]
     },
     "metadata": {},
     "output_type": "display_data"
    },
    {
     "data": {
      "text/html": [
       "<style>\n",
       "\n",
       "/* The following CSS has been adapted from\n",
       "   http://nbviewer.ipython.org/github/ketch/teaching-numerics-with-notebooks/blob/master/Styling_notebooks.ipynb\n",
       "   by Aron Ahmadia and David Ketcheson and has been reused under CC BY 4.0\n",
       "   */\n",
       "\n",
       "/* main background */\n",
       "#site { \n",
       "    background: #888;\n",
       "    color: #red; \n",
       "}\n",
       "\n",
       "div.container {\n",
       "    width: 100% ! important;\n",
       "}\n",
       "\n",
       "div.cell { /* set cell width to about 80 chars */\n",
       "    width: 95%;\n",
       "}\n",
       "\n",
       "div #notebook { /* centre the content */\n",
       "/*    background: #fff; /* white background for content */\n",
       "    background: blue;\n",
       "    width: 100%;\n",
       "    margin: auto;\n",
       "    padding-left: 1em;\n",
       "    padding-right: 1em;\n",
       "    background-image: url(\"tile_background.jpg\");\n",
       "}\n",
       "\n",
       "#notebook li { /* More space between bullet points */\n",
       "    margin-top:0.4em;\n",
       "}\n",
       "\n",
       "/* change background color of running cells */\n",
       "div.cell.code_cell.running {\n",
       "/*    background-color: rgba(164,188,194,.75); */\n",
       "    background-color: green;\n",
       "    border-width: 8px\n",
       "    border-style: solid\n",
       "    border-color: #111;\n",
       "}\n",
       "\n",
       "/* Put a solid color box around each cell and its output, visually linking them together */\n",
       "div.cell.code_cell {\n",
       "    background-color: rgba(164,188,194,.25); /* Continuum L Gray with alpha 0.25 */\n",
       "    border-radius: 10px; /* rounded borders */\n",
       "    padding: 1em;\n",
       "    margin-top: 1em;\n",
       "}\n",
       "\n",
       "div.text_cell_render{\n",
       "\tfont-family: Georgia, Times, 'Times New Roman', serif;\n",
       "    line-height: 110%;\n",
       "    font-size: 105%;\n",
       "    width: 95%;\n",
       "    margin-left: auto;\n",
       "    margin-right: auto;\n",
       "}\n",
       "\n",
       "\n",
       "/* Formatting for header cells */\n",
       ".text_cell_render h1 {\n",
       "\tfont-family: Arial, 'Helvetica Neue', Helvetica, sans-serif;\n",
       "    font-weight: 400;\n",
       "    font-size: 30pt;\n",
       "    line-height: 100%;\n",
       "    color: rgb(37,55,70); /* Continuum Blue*/\n",
       "    margin-bottom: 0.1em;\n",
       "    margin-top: 0.1em;\n",
       "    display: block;\n",
       "}\n",
       ".text_cell_render h2 {\n",
       "\tfont-family: Arial, 'Helvetica Neue', Helvetica, sans-serif;\n",
       "    font-weight: 700;\n",
       "    font-size: 22pt;\n",
       "    line-height: 100%;\n",
       "    color: rgb(37,55,70);\n",
       "    margin-bottom: 0.1em;\n",
       "    margin-top: 0.1em;\n",
       "    display: block;\n",
       "}\n",
       "\n",
       ".text_cell_render h3 {\n",
       "\tfont-family: Arial, 'Helvetica Neue', Helvetica, sans-serif;\n",
       "    margin-top:12px;\n",
       "    margin-bottom: 3px;\n",
       "    font-style: italic;\n",
       "    color: rgb(37, 55, 70);\n",
       "}\n",
       "\n",
       ".text_cell_render h4 {\n",
       "\tfont-family: Arial, 'Helvetica Neue', Helvetica, sans-serif;\n",
       "}\n",
       "\n",
       ".text_cell_render h5 {\n",
       "\tfont-family: Arial, 'Helvetica Neue', Helvetica, sans-serif;\n",
       "    font-weight: 300;\n",
       "    font-size: 14pt;\n",
       "    font-style: italic;\n",
       "    margin-bottom: .1em;\n",
       "    margin-top: 0.1em;\n",
       "    display: block;\n",
       "}\n",
       "\n",
       ".text_cell_render h6 {\n",
       "\tfont-family: Arial, 'Helvetica Neue', Helvetica, sans-serif;\n",
       "    font-weight: 300;\n",
       "    font-size: 10pt;\n",
       "    margin-bottom: 1px;\n",
       "    margin-top: 1px;\n",
       "}\n",
       "\n",
       ".CodeMirror{\n",
       "        font-family: \"PT Mono\", fixed;\n",
       "        font-size: 100%;\n",
       "}\n",
       "\n",
       "#notebook_panel { /* main background */\n",
       "    background-image: url(\"tile_background.jpg\");\n",
       "}\n",
       "\n",
       "\n",
       "\n",
       "\n",
       "</style>\n"
      ],
      "text/plain": [
       "<IPython.core.display.HTML object>"
      ]
     },
     "execution_count": 1,
     "metadata": {},
     "output_type": "execute_result"
    }
   ],
   "source": [
    "from __code.which_ob_and_df_to_use import WhichOBandDFtoUse\n",
    "from __code import system\n",
    "system.System.select_working_dir()\n",
    "from __code.__all import custom_style\n",
    "custom_style.style()"
   ]
  },
  {
   "cell_type": "markdown",
   "metadata": {
    "run_control": {
     "frozen": false,
     "read_only": false
    }
   },
   "source": [
    "# Select List of Images to Normalize "
   ]
  },
  {
   "cell_type": "markdown",
   "metadata": {},
   "source": [
    "!! Make sure they have the same **acquisition time** as the info of the first image only will be used"
   ]
  },
  {
   "cell_type": "code",
   "execution_count": 2,
   "metadata": {
    "run_control": {
     "frozen": false,
     "read_only": false
    }
   },
   "outputs": [
    {
     "data": {
      "application/vnd.jupyter.widget-view+json": {
       "model_id": "",
       "version_major": 2,
       "version_minor": 0
      },
      "text/plain": [
       "VBox(children=(Label(value='select imagesto normalize', layout=Layout(width='250px')), VBox(children=(HBox(chi…"
      ]
     },
     "metadata": {},
     "output_type": "display_data"
    },
    {
     "data": {
      "application/vnd.jupyter.widget-view+json": {
       "model_id": "",
       "version_major": 2,
       "version_minor": 0
      },
      "text/plain": [
       "HBox(children=(Label(value='Retrieving Time Stamp', layout=Layout(width='20%')), IntProgress(value=0, layout=L…"
      ]
     },
     "metadata": {},
     "output_type": "display_data"
    },
    {
     "data": {
      "text/html": [
       "<span style=\"font-size: 20px; color:blue\">Nbr of images: 10</span"
      ],
      "text/plain": [
       "<IPython.core.display.HTML object>"
      ]
     },
     "metadata": {},
     "output_type": "display_data"
    },
    {
     "data": {
      "text/html": [
       "<span style=\"font-size: 20px; color:blue\">First image was taken at : 2019-11-18 16:08:47</span>"
      ],
      "text/plain": [
       "<IPython.core.display.HTML object>"
      ]
     },
     "metadata": {},
     "output_type": "display_data"
    },
    {
     "data": {
      "text/html": [
       "<span style=\"font-size: 20px; color:blue\">Last image was taken at : 2019-11-18 18:59:48</span>"
      ],
      "text/plain": [
       "<IPython.core.display.HTML object>"
      ]
     },
     "metadata": {},
     "output_type": "display_data"
    },
    {
     "data": {
      "application/vnd.jupyter.widget-view+json": {
       "model_id": "",
       "version_major": 2,
       "version_minor": 0
      },
      "text/plain": [
       "HBox(children=(Label(value='Retrieving Time Stamp', layout=Layout(width='20%')), IntProgress(value=0, layout=L…"
      ]
     },
     "metadata": {},
     "output_type": "display_data"
    },
    {
     "data": {
      "text/html": [
       "<span style=\"font-size: 20px; color:blue\">Nbr of images: 23</span"
      ],
      "text/plain": [
       "<IPython.core.display.HTML object>"
      ]
     },
     "metadata": {},
     "output_type": "display_data"
    },
    {
     "data": {
      "text/html": [
       "<span style=\"font-size: 20px; color:blue\">First image was taken at : 2019-11-18 13:10:55</span>"
      ],
      "text/plain": [
       "<IPython.core.display.HTML object>"
      ]
     },
     "metadata": {},
     "output_type": "display_data"
    },
    {
     "data": {
      "text/html": [
       "<span style=\"font-size: 20px; color:blue\">Last image was taken at : 2019-11-18 15:06:12</span>"
      ],
      "text/plain": [
       "<IPython.core.display.HTML object>"
      ]
     },
     "metadata": {},
     "output_type": "display_data"
    },
    {
     "data": {
      "application/vnd.jupyter.widget-view+json": {
       "model_id": "",
       "version_major": 2,
       "version_minor": 0
      },
      "text/plain": [
       "HBox(children=(Label(value='Retrieving Time Stamp', layout=Layout(width='20%')), IntProgress(value=0, layout=L…"
      ]
     },
     "metadata": {},
     "output_type": "display_data"
    },
    {
     "data": {
      "text/html": [
       "<span style=\"font-size: 20px; color:blue\">Nbr of images: 10</span"
      ],
      "text/plain": [
       "<IPython.core.display.HTML object>"
      ]
     },
     "metadata": {},
     "output_type": "display_data"
    },
    {
     "data": {
      "text/html": [
       "<span style=\"font-size: 20px; color:blue\">First image was taken at : 2019-11-18 09:59:31</span>"
      ],
      "text/plain": [
       "<IPython.core.display.HTML object>"
      ]
     },
     "metadata": {},
     "output_type": "display_data"
    },
    {
     "data": {
      "text/html": [
       "<span style=\"font-size: 20px; color:blue\">Last image was taken at : 2019-11-18 09:58:31</span>"
      ],
      "text/plain": [
       "<IPython.core.display.HTML object>"
      ]
     },
     "metadata": {},
     "output_type": "display_data"
    },
    {
     "name": "stdout",
     "output_type": "stream",
     "text": [
      "_final_full_master_dict: OrderedDict([(55.0, {'config0': {'list_sample': [{'filename': '/Users/j35/IPTS/IPTS-21632/raw/Nov18_2019/20191118_samples_2_3_10_run1_0055_0081.tiff', 'time_stamp': 1574111327.8934236, 'time_stamp_user_format': '2019-11-18 16:08:47', 65027: {'value': 55.0, 'name': 'EXPOSURE_TIME'}, 65026: {'value': 'Andor', 'name': 'DETECTOR_MANUFACTURER'}, 65068: {'value': 40.0, 'name': 'APERTURE_HR'}, 65070: {'value': 41.448156, 'name': 'APERTURE_HL'}, 65066: {'value': 40.0, 'name': 'APERTURE_VT'}, 65064: {'value': 40.0, 'name': 'APERTURE_VB'}}, {'filename': '/Users/j35/IPTS/IPTS-21632/raw/Nov18_2019/20191118_samples_2_3_10_run1_0055_0082.tiff', 'time_stamp': 1574111774.383038, 'time_stamp_user_format': '2019-11-18 16:16:14', 65027: {'value': 55.0, 'name': 'EXPOSURE_TIME'}, 65026: {'value': 'Andor', 'name': 'DETECTOR_MANUFACTURER'}, 65068: {'value': 40.0, 'name': 'APERTURE_HR'}, 65070: {'value': 41.448156, 'name': 'APERTURE_HL'}, 65066: {'value': 40.0, 'name': 'APERTURE_VT'}, 65064: {'value': 40.0, 'name': 'APERTURE_VB'}}, {'filename': '/Users/j35/IPTS/IPTS-21632/raw/Nov18_2019/20191118_samples_2_3_10_run1_0055_0083.tiff', 'time_stamp': 1574112024.918964, 'time_stamp_user_format': '2019-11-18 16:20:24', 65027: {'value': 55.0, 'name': 'EXPOSURE_TIME'}, 65026: {'value': 'Andor', 'name': 'DETECTOR_MANUFACTURER'}, 65068: {'value': 40.0, 'name': 'APERTURE_HR'}, 65070: {'value': 41.448156, 'name': 'APERTURE_HL'}, 65066: {'value': 40.0, 'name': 'APERTURE_VT'}, 65064: {'value': 40.0, 'name': 'APERTURE_VB'}}, {'filename': '/Users/j35/IPTS/IPTS-21632/raw/Nov18_2019/20191118_samples_2_3_10_run1_0055_0084.tiff', 'time_stamp': 1574112351.0322785, 'time_stamp_user_format': '2019-11-18 16:25:51', 65027: {'value': 55.0, 'name': 'EXPOSURE_TIME'}, 65026: {'value': 'Andor', 'name': 'DETECTOR_MANUFACTURER'}, 65068: {'value': 40.0, 'name': 'APERTURE_HR'}, 65070: {'value': 41.448156, 'name': 'APERTURE_HL'}, 65066: {'value': 40.0, 'name': 'APERTURE_VT'}, 65064: {'value': 40.0, 'name': 'APERTURE_VB'}}, {'filename': '/Users/j35/IPTS/IPTS-21632/raw/Nov18_2019/20191118_samples_2_3_10_run1_0055_0085.tiff', 'time_stamp': 1574112411.0619733, 'time_stamp_user_format': '2019-11-18 16:26:51', 65027: {'value': 55.0, 'name': 'EXPOSURE_TIME'}, 65026: {'value': 'Andor', 'name': 'DETECTOR_MANUFACTURER'}, 65068: {'value': 40.0, 'name': 'APERTURE_HR'}, 65070: {'value': 41.448156, 'name': 'APERTURE_HL'}, 65066: {'value': 40.0, 'name': 'APERTURE_VT'}, 65064: {'value': 40.0, 'name': 'APERTURE_VB'}}, {'filename': '/Users/j35/IPTS/IPTS-21632/raw/Nov18_2019/20191118_samples_2_3_10_run1_0055_0086.tiff', 'time_stamp': 1574113334.6898654, 'time_stamp_user_format': '2019-11-18 16:42:14', 65027: {'value': 55.0, 'name': 'EXPOSURE_TIME'}, 65026: {'value': 'Andor', 'name': 'DETECTOR_MANUFACTURER'}, 65068: {'value': 40.0, 'name': 'APERTURE_HR'}, 65070: {'value': 41.448156, 'name': 'APERTURE_HL'}, 65066: {'value': 40.0, 'name': 'APERTURE_VT'}, 65064: {'value': 40.0, 'name': 'APERTURE_VB'}}, {'filename': '/Users/j35/IPTS/IPTS-21632/raw/Nov18_2019/20191118_samples_2_3_10_run2_0055_0207.tiff', 'time_stamp': 1574121408.0080745, 'time_stamp_user_format': '2019-11-18 18:56:48', 65027: {'value': 55.0, 'name': 'EXPOSURE_TIME'}, 65026: {'value': 'Andor', 'name': 'DETECTOR_MANUFACTURER'}, 65068: {'value': 40.0, 'name': 'APERTURE_HR'}, 65070: {'value': 41.448156, 'name': 'APERTURE_HL'}, 65066: {'value': 40.0, 'name': 'APERTURE_VT'}, 65064: {'value': 40.0, 'name': 'APERTURE_VB'}}, {'filename': '/Users/j35/IPTS/IPTS-21632/raw/Nov18_2019/20191118_samples_2_3_10_run2_0055_0208.tiff', 'time_stamp': 1574121468.0083237, 'time_stamp_user_format': '2019-11-18 18:57:48', 65027: {'value': 55.0, 'name': 'EXPOSURE_TIME'}, 65026: {'value': 'Andor', 'name': 'DETECTOR_MANUFACTURER'}, 65068: {'value': 40.0, 'name': 'APERTURE_HR'}, 65070: {'value': 41.448156, 'name': 'APERTURE_HL'}, 65066: {'value': 40.0, 'name': 'APERTURE_VT'}, 65064: {'value': 40.0, 'name': 'APERTURE_VB'}}, {'filename': '/Users/j35/IPTS/IPTS-21632/raw/Nov18_2019/20191118_samples_2_3_10_run2_0055_0209.tiff', 'time_stamp': 1574121528.0313356, 'time_stamp_user_format': '2019-11-18 18:58:48', 65027: {'value': 55.0, 'name': 'EXPOSURE_TIME'}, 65026: {'value': 'Andor', 'name': 'DETECTOR_MANUFACTURER'}, 65068: {'value': 40.0, 'name': 'APERTURE_HR'}, 65070: {'value': 41.448156, 'name': 'APERTURE_HL'}, 65066: {'value': 40.0, 'name': 'APERTURE_VT'}, 65064: {'value': 40.0, 'name': 'APERTURE_VB'}}, {'filename': '/Users/j35/IPTS/IPTS-21632/raw/Nov18_2019/20191118_samples_2_3_10_run2_0055_0210.tiff', 'time_stamp': 1574121588.0509658, 'time_stamp_user_format': '2019-11-18 18:59:48', 65027: {'value': 55.0, 'name': 'EXPOSURE_TIME'}, 65026: {'value': 'Andor', 'name': 'DETECTOR_MANUFACTURER'}, 65068: {'value': 40.0, 'name': 'APERTURE_HR'}, 65070: {'value': 41.448156, 'name': 'APERTURE_HL'}, 65066: {'value': 40.0, 'name': 'APERTURE_VT'}, 65064: {'value': 40.0, 'name': 'APERTURE_VB'}}], 'first_images': {'sample': {'filename': '/Users/j35/IPTS/IPTS-21632/raw/Nov18_2019/20191118_samples_2_3_10_run1_0055_0081.tiff', 'time_stamp': 1574111327.8934236, 'time_stamp_user_format': '2019-11-18 16:08:47', 65027: {'value': 55.0, 'name': 'EXPOSURE_TIME'}, 65026: {'value': 'Andor', 'name': 'DETECTOR_MANUFACTURER'}, 65068: {'value': 40.0, 'name': 'APERTURE_HR'}, 65070: {'value': 41.448156, 'name': 'APERTURE_HL'}, 65066: {'value': 40.0, 'name': 'APERTURE_VT'}, 65064: {'value': 40.0, 'name': 'APERTURE_VB'}}, 'ob': {'filename': '/Users/j35/IPTS/IPTS-21632/raw/ob/Nov18_2019/20191118_OB_0055_0056.tiff', 'time_stamp': 1574100115.9922318, 'time_stamp_user_format': '2019-11-18 13:01:55', 65027: {'value': 55.0, 'name': 'EXPOSURE_TIME'}, 65026: {'value': 'Andor', 'name': 'DETECTOR_MANUFACTURER'}, 65068: {'value': 40.0, 'name': 'APERTURE_HR'}, 65070: {'value': 41.448156, 'name': 'APERTURE_HL'}, 65066: {'value': 40.0, 'name': 'APERTURE_VT'}, 65064: {'value': 40.0, 'name': 'APERTURE_VB'}}, 'df': {}}, 'last_images': {'sample': {'filename': '/Users/j35/IPTS/IPTS-21632/raw/Nov18_2019/20191118_samples_2_3_10_run2_0055_0210.tiff', 'time_stamp': 1574121588.0509658, 'time_stamp_user_format': '2019-11-18 18:59:48', 65027: {'value': 55.0, 'name': 'EXPOSURE_TIME'}, 65026: {'value': 'Andor', 'name': 'DETECTOR_MANUFACTURER'}, 65068: {'value': 40.0, 'name': 'APERTURE_HR'}, 65070: {'value': 41.448156, 'name': 'APERTURE_HL'}, 65066: {'value': 40.0, 'name': 'APERTURE_VT'}, 65064: {'value': 40.0, 'name': 'APERTURE_VB'}}, 'ob': {'filename': '/Users/j35/IPTS/IPTS-21632/raw/ob/Nov18_2019/20191118_OB_0055_0065.tiff', 'time_stamp': 1574100655.3735714, 'time_stamp_user_format': '2019-11-18 13:10:55', 65027: {'value': 55.0, 'name': 'EXPOSURE_TIME'}, 65026: {'value': 'Andor', 'name': 'DETECTOR_MANUFACTURER'}, 65068: {'value': 40.0, 'name': 'APERTURE_HR'}, 65070: {'value': 41.448156, 'name': 'APERTURE_HL'}, 65066: {'value': 40.0, 'name': 'APERTURE_VT'}, 65064: {'value': 40.0, 'name': 'APERTURE_VB'}}, 'df': {}}, 'list_ob': [{'filename': '/Users/j35/IPTS/IPTS-21632/raw/ob/Nov18_2019/20191118_OB_0055_0065.tiff', 'time_stamp': 1574100655.3735714, 'time_stamp_user_format': '2019-11-18 13:10:55', 65027: {'value': 55.0, 'name': 'EXPOSURE_TIME'}, 65026: {'value': 'Andor', 'name': 'DETECTOR_MANUFACTURER'}, 65068: {'value': 40.0, 'name': 'APERTURE_HR'}, 65070: {'value': 41.448156, 'name': 'APERTURE_HL'}, 65066: {'value': 40.0, 'name': 'APERTURE_VT'}, 65064: {'value': 40.0, 'name': 'APERTURE_VB'}}, {'filename': '/Users/j35/IPTS/IPTS-21632/raw/ob/Nov18_2019/20191118_OB_0055_0064.tiff', 'time_stamp': 1574100595.509409, 'time_stamp_user_format': '2019-11-18 13:09:55', 65027: {'value': 55.0, 'name': 'EXPOSURE_TIME'}, 65026: {'value': 'Andor', 'name': 'DETECTOR_MANUFACTURER'}, 65068: {'value': 40.0, 'name': 'APERTURE_HR'}, 65070: {'value': 41.448156, 'name': 'APERTURE_HL'}, 65066: {'value': 40.0, 'name': 'APERTURE_VT'}, 65064: {'value': 40.0, 'name': 'APERTURE_VB'}}, {'filename': '/Users/j35/IPTS/IPTS-21632/raw/ob/Nov18_2019/20191118_OB_0055_0059.tiff', 'time_stamp': 1574100295.9070296, 'time_stamp_user_format': '2019-11-18 13:04:55', 65027: {'value': 55.0, 'name': 'EXPOSURE_TIME'}, 65026: {'value': 'Andor', 'name': 'DETECTOR_MANUFACTURER'}, 65068: {'value': 40.0, 'name': 'APERTURE_HR'}, 65070: {'value': 41.448156, 'name': 'APERTURE_HL'}, 65066: {'value': 40.0, 'name': 'APERTURE_VT'}, 65064: {'value': 40.0, 'name': 'APERTURE_VB'}}, {'filename': '/Users/j35/IPTS/IPTS-21632/raw/ob/Nov18_2019/20191118_OB_0055_0063.tiff', 'time_stamp': 1574100535.643044, 'time_stamp_user_format': '2019-11-18 13:08:55', 65027: {'value': 55.0, 'name': 'EXPOSURE_TIME'}, 65026: {'value': 'Andor', 'name': 'DETECTOR_MANUFACTURER'}, 65068: {'value': 40.0, 'name': 'APERTURE_HR'}, 65070: {'value': 41.448156, 'name': 'APERTURE_HL'}, 65066: {'value': 40.0, 'name': 'APERTURE_VT'}, 65064: {'value': 40.0, 'name': 'APERTURE_VB'}}, {'filename': '/Users/j35/IPTS/IPTS-21632/raw/ob/Nov18_2019/20191118_OB_0055_0062.tiff', 'time_stamp': 1574100475.7787356, 'time_stamp_user_format': '2019-11-18 13:07:55', 65027: {'value': 55.0, 'name': 'EXPOSURE_TIME'}, 65026: {'value': 'Andor', 'name': 'DETECTOR_MANUFACTURER'}, 65068: {'value': 40.0, 'name': 'APERTURE_HR'}, 65070: {'value': 41.448156, 'name': 'APERTURE_HL'}, 65066: {'value': 40.0, 'name': 'APERTURE_VT'}, 65064: {'value': 40.0, 'name': 'APERTURE_VB'}}, {'filename': '/Users/j35/IPTS/IPTS-21632/raw/ob/Nov18_2019/20191118_OB_0055_0058.tiff', 'time_stamp': 1574100235.891216, 'time_stamp_user_format': '2019-11-18 13:03:55', 65027: {'value': 55.0, 'name': 'EXPOSURE_TIME'}, 65026: {'value': 'Andor', 'name': 'DETECTOR_MANUFACTURER'}, 65068: {'value': 40.0, 'name': 'APERTURE_HR'}, 65070: {'value': 41.448156, 'name': 'APERTURE_HL'}, 65066: {'value': 40.0, 'name': 'APERTURE_VT'}, 65064: {'value': 40.0, 'name': 'APERTURE_VB'}}, {'filename': '/Users/j35/IPTS/IPTS-21632/raw/ob/Nov18_2019/20191118_OB_0055_0057.tiff', 'time_stamp': 1574100175.858251, 'time_stamp_user_format': '2019-11-18 13:02:55', 65027: {'value': 55.0, 'name': 'EXPOSURE_TIME'}, 65026: {'value': 'Andor', 'name': 'DETECTOR_MANUFACTURER'}, 65068: {'value': 40.0, 'name': 'APERTURE_HR'}, 65070: {'value': 41.448156, 'name': 'APERTURE_HL'}, 65066: {'value': 40.0, 'name': 'APERTURE_VT'}, 65064: {'value': 40.0, 'name': 'APERTURE_VB'}}, {'filename': '/Users/j35/IPTS/IPTS-21632/raw/ob/Nov18_2019/20191118_OB_0055_0061.tiff', 'time_stamp': 1574100415.765458, 'time_stamp_user_format': '2019-11-18 13:06:55', 65027: {'value': 55.0, 'name': 'EXPOSURE_TIME'}, 65026: {'value': 'Andor', 'name': 'DETECTOR_MANUFACTURER'}, 65068: {'value': 40.0, 'name': 'APERTURE_HR'}, 65070: {'value': 41.448156, 'name': 'APERTURE_HL'}, 65066: {'value': 40.0, 'name': 'APERTURE_VT'}, 65064: {'value': 40.0, 'name': 'APERTURE_VB'}}, {'filename': '/Users/j35/IPTS/IPTS-21632/raw/ob/Nov18_2019/20191118_OB_0055_0060.tiff', 'time_stamp': 1574100355.902213, 'time_stamp_user_format': '2019-11-18 13:05:55', 65027: {'value': 55.0, 'name': 'EXPOSURE_TIME'}, 65026: {'value': 'Andor', 'name': 'DETECTOR_MANUFACTURER'}, 65068: {'value': 40.0, 'name': 'APERTURE_HR'}, 65070: {'value': 41.448156, 'name': 'APERTURE_HL'}, 65066: {'value': 40.0, 'name': 'APERTURE_VT'}, 65064: {'value': 40.0, 'name': 'APERTURE_VB'}}, {'filename': '/Users/j35/IPTS/IPTS-21632/raw/ob/Nov18_2019/20191118_OB_0055_0056.tiff', 'time_stamp': 1574100115.9922318, 'time_stamp_user_format': '2019-11-18 13:01:55', 65027: {'value': 55.0, 'name': 'EXPOSURE_TIME'}, 65026: {'value': 'Andor', 'name': 'DETECTOR_MANUFACTURER'}, 65068: {'value': 40.0, 'name': 'APERTURE_HR'}, 65070: {'value': 41.448156, 'name': 'APERTURE_HL'}, 65066: {'value': 40.0, 'name': 'APERTURE_VT'}, 65064: {'value': 40.0, 'name': 'APERTURE_VB'}}], 'list_df': [{'filename': '/Users/j35/IPTS/IPTS-21632/raw/df/Nov18_2019/20191118_DF_0055_0006.tiff', 'time_stamp': 1574089171.014841, 'time_stamp_user_format': '2019-11-18 09:59:31', 65027: {'value': 55.0, 'name': 'EXPOSURE_TIME'}, 65026: {'value': 'Andor', 'name': 'DETECTOR_MANUFACTURER'}, 65068: {'value': 40.0, 'name': 'APERTURE_HR'}, 65070: {'value': 41.448156, 'name': 'APERTURE_HL'}, 65066: {'value': 40.0, 'name': 'APERTURE_VT'}, 65064: {'value': 40.0, 'name': 'APERTURE_VB'}}, {'filename': '/Users/j35/IPTS/IPTS-21632/raw/df/Nov18_2019/20191118_DF_0055_0010.tiff', 'time_stamp': 1574089410.9464936, 'time_stamp_user_format': '2019-11-18 10:03:30', 65027: {'value': 55.0, 'name': 'EXPOSURE_TIME'}, 65026: {'value': 'Andor', 'name': 'DETECTOR_MANUFACTURER'}, 65068: {'value': 40.0, 'name': 'APERTURE_HR'}, 65070: {'value': 41.448156, 'name': 'APERTURE_HL'}, 65066: {'value': 40.0, 'name': 'APERTURE_VT'}, 65064: {'value': 40.0, 'name': 'APERTURE_VB'}}, {'filename': '/Users/j35/IPTS/IPTS-21632/raw/df/Nov18_2019/20191118_DF_0055_0007.tiff', 'time_stamp': 1574089231.0294828, 'time_stamp_user_format': '2019-11-18 10:00:31', 65027: {'value': 55.0, 'name': 'EXPOSURE_TIME'}, 65026: {'value': 'Andor', 'name': 'DETECTOR_MANUFACTURER'}, 65068: {'value': 40.0, 'name': 'APERTURE_HR'}, 65070: {'value': 41.448156, 'name': 'APERTURE_HL'}, 65066: {'value': 40.0, 'name': 'APERTURE_VT'}, 65064: {'value': 40.0, 'name': 'APERTURE_VB'}}, {'filename': '/Users/j35/IPTS/IPTS-21632/raw/df/Nov18_2019/20191118_DF_0055_0001.tiff', 'time_stamp': 1574088871.1028962, 'time_stamp_user_format': '2019-11-18 09:54:31', 65027: {'value': 55.0, 'name': 'EXPOSURE_TIME'}, 65026: {'value': 'Andor', 'name': 'DETECTOR_MANUFACTURER'}, 65068: {'value': 40.0, 'name': 'APERTURE_HR'}, 65070: {'value': 41.448156, 'name': 'APERTURE_HL'}, 65066: {'value': 40.0, 'name': 'APERTURE_VT'}, 65064: {'value': 40.0, 'name': 'APERTURE_VB'}}, {'filename': '/Users/j35/IPTS/IPTS-21632/raw/df/Nov18_2019/20191118_DF_0055_0002.tiff', 'time_stamp': 1574088931.1132765, 'time_stamp_user_format': '2019-11-18 09:55:31', 65027: {'value': 55.0, 'name': 'EXPOSURE_TIME'}, 65026: {'value': 'Andor', 'name': 'DETECTOR_MANUFACTURER'}, 65068: {'value': 40.0, 'name': 'APERTURE_HR'}, 65070: {'value': 41.448156, 'name': 'APERTURE_HL'}, 65066: {'value': 40.0, 'name': 'APERTURE_VT'}, 65064: {'value': 40.0, 'name': 'APERTURE_VB'}}, {'filename': '/Users/j35/IPTS/IPTS-21632/raw/df/Nov18_2019/20191118_DF_0055_0003.tiff', 'time_stamp': 1574088991.1025143, 'time_stamp_user_format': '2019-11-18 09:56:31', 65027: {'value': 55.0, 'name': 'EXPOSURE_TIME'}, 65026: {'value': 'Andor', 'name': 'DETECTOR_MANUFACTURER'}, 65068: {'value': 40.0, 'name': 'APERTURE_HR'}, 65070: {'value': 41.448156, 'name': 'APERTURE_HL'}, 65066: {'value': 40.0, 'name': 'APERTURE_VT'}, 65064: {'value': 40.0, 'name': 'APERTURE_VB'}}, {'filename': '/Users/j35/IPTS/IPTS-21632/raw/df/Nov18_2019/20191118_DF_0055_0004.tiff', 'time_stamp': 1574089051.1382728, 'time_stamp_user_format': '2019-11-18 09:57:31', 65027: {'value': 55.0, 'name': 'EXPOSURE_TIME'}, 65026: {'value': 'Andor', 'name': 'DETECTOR_MANUFACTURER'}, 65068: {'value': 40.0, 'name': 'APERTURE_HR'}, 65070: {'value': 41.448156, 'name': 'APERTURE_HL'}, 65066: {'value': 40.0, 'name': 'APERTURE_VT'}, 65064: {'value': 40.0, 'name': 'APERTURE_VB'}}, {'filename': '/Users/j35/IPTS/IPTS-21632/raw/df/Nov18_2019/20191118_DF_0055_0008.tiff', 'time_stamp': 1574089290.894631, 'time_stamp_user_format': '2019-11-18 10:01:30', 65027: {'value': 55.0, 'name': 'EXPOSURE_TIME'}, 65026: {'value': 'Andor', 'name': 'DETECTOR_MANUFACTURER'}, 65068: {'value': 40.0, 'name': 'APERTURE_HR'}, 65070: {'value': 41.448156, 'name': 'APERTURE_HL'}, 65066: {'value': 40.0, 'name': 'APERTURE_VT'}, 65064: {'value': 40.0, 'name': 'APERTURE_VB'}}, {'filename': '/Users/j35/IPTS/IPTS-21632/raw/df/Nov18_2019/20191118_DF_0055_0009.tiff', 'time_stamp': 1574089350.9308722, 'time_stamp_user_format': '2019-11-18 10:02:30', 65027: {'value': 55.0, 'name': 'EXPOSURE_TIME'}, 65026: {'value': 'Andor', 'name': 'DETECTOR_MANUFACTURER'}, 65068: {'value': 40.0, 'name': 'APERTURE_HR'}, 65070: {'value': 41.448156, 'name': 'APERTURE_HL'}, 65066: {'value': 40.0, 'name': 'APERTURE_VT'}, 65064: {'value': 40.0, 'name': 'APERTURE_VB'}}, {'filename': '/Users/j35/IPTS/IPTS-21632/raw/df/Nov18_2019/20191118_DF_0055_0005.tiff', 'time_stamp': 1574089111.0018115, 'time_stamp_user_format': '2019-11-18 09:58:31', 65027: {'value': 55.0, 'name': 'EXPOSURE_TIME'}, 65026: {'value': 'Andor', 'name': 'DETECTOR_MANUFACTURER'}, 65068: {'value': 40.0, 'name': 'APERTURE_HR'}, 65070: {'value': 41.448156, 'name': 'APERTURE_HL'}, 65066: {'value': 40.0, 'name': 'APERTURE_VT'}, 65064: {'value': 40.0, 'name': 'APERTURE_VB'}}], 'time_range_s_selected': {'before': nan, 'after': nan}, 'time_range_s': {'before': 11211.901191711426, 'after': 0}, 'metadata_infos': {65026: {'value': 'Andor', 'name': 'DETECTOR_MANUFACTURER'}, 65068: {'value': 40.0, 'name': 'APERTURE_HR'}, 65070: {'value': 41.448156, 'name': 'APERTURE_HL'}, 65066: {'value': 40.0, 'name': 'APERTURE_VT'}, 65064: {'value': 40.0, 'name': 'APERTURE_VB'}}}})])\n"
     ]
    },
    {
     "data": {
      "application/vnd.jupyter.widget-view+json": {
       "model_id": "e2e4713cc4514a0c88295db5dcd06aa5",
       "version_major": 2,
       "version_minor": 0
      },
      "text/plain": [
       "Tab(children=(Tab(children=(VBox(children=(HBox(children=(Checkbox(value=False, description='Use custom time r…"
      ]
     },
     "metadata": {},
     "output_type": "display_data"
    }
   ],
   "source": [
    "o_which = WhichOBandDFtoUse(working_dir=system.System.get_working_dir())\n",
    "o_which.select_sample_images_and_create_configuration()"
   ]
  },
  {
   "cell_type": "code",
   "execution_count": null,
   "metadata": {},
   "outputs": [],
   "source": []
  },
  {
   "cell_type": "code",
   "execution_count": null,
   "metadata": {},
   "outputs": [],
   "source": []
  },
  {
   "cell_type": "code",
   "execution_count": null,
   "metadata": {},
   "outputs": [],
   "source": []
  },
  {
   "cell_type": "code",
   "execution_count": null,
   "metadata": {},
   "outputs": [],
   "source": []
  },
  {
   "cell_type": "markdown",
   "metadata": {},
   "source": [
    "# FOR DEBUGGING ONLY"
   ]
  },
  {
   "cell_type": "code",
   "execution_count": null,
   "metadata": {},
   "outputs": [],
   "source": [
    "from __code.which_ob_and_df_to_use import WhichOBandDFtoUse\n",
    "import glob \n",
    "import os\n",
    "\n",
    "folder_selected = '/Users/j35/IPTS/IPTS-21632/Nov18_2019/'\n",
    "list_of_images = glob.glob(folder_selected + '*.tiff')\n",
    "list_of_images.sort()\n",
    "list_of_images = list_of_images[:20]\n",
    "o_which = WhichOBandDFtoUse(working_dir='/Users/j35/IPTS/IPTS-21632')\n",
    "o_which.retrieve_sample_metadata(list_of_images)"
   ]
  },
  {
   "cell_type": "code",
   "execution_count": null,
   "metadata": {},
   "outputs": [],
   "source": [
    "#o_which.select_ob_folder()\n",
    "ob_folder = '/Users/j35/IPTS/IPTS-21632/OB/Nov18_2019/'\n",
    "os.path.exists(ob_folder)\n",
    "o_which.retrieve_ob_metadata(ob_folder)"
   ]
  },
  {
   "cell_type": "code",
   "execution_count": null,
   "metadata": {},
   "outputs": [],
   "source": [
    "#o_which.select_df_folder()\n",
    "df_folder = '/Users/j35/IPTS/IPTS-21632/DF/Nov18_2019/'\n",
    "o_which.retrieve_df_metadata(df_folder)"
   ]
  },
  {
   "cell_type": "code",
   "execution_count": null,
   "metadata": {},
   "outputs": [],
   "source": [
    "o_which.match_files()\n",
    "o_which.calculate_first_and_last_ob()\n",
    "o_which.calculate_time_range()\n",
    "o_which.calculate_time_range()\n",
    "o_which.display_time_range_selection_widgets()"
   ]
  },
  {
   "cell_type": "code",
   "execution_count": null,
   "metadata": {},
   "outputs": [],
   "source": [
    "o_which.create_final_json()"
   ]
  },
  {
   "cell_type": "markdown",
   "metadata": {},
   "source": [
    "# DEBUGGING ONLY"
   ]
  },
  {
   "cell_type": "markdown",
   "metadata": {},
   "source": [
    "# using json"
   ]
  },
  {
   "cell_type": "code",
   "execution_count": 1,
   "metadata": {},
   "outputs": [
    {
     "data": {
      "text/html": [
       "\n",
       "<style type=\"text/css\">\n",
       ".jupyter-widgets select option {font-family: \"Lucida Console\", Monaco, monospace;}\n",
       ".jupyter-widgets select {width: 98%;}\n",
       "div.output_subarea {padding: 0px;}\n",
       "div.output_subarea > div {margin: 0.4em;}\n",
       "</style>\n"
      ],
      "text/plain": [
       "<IPython.core.display.HTML object>"
      ]
     },
     "metadata": {},
     "output_type": "display_data"
    }
   ],
   "source": [
    "from __code.which_ob_and_df_to_use import WhichOBandDFtoUse\n",
    "\n",
    "import json\n",
    "\n",
    "with open('./__code/test/data/which_ob_and_df_to_use.json') as json_file:\n",
    "    data = json.load(json_file)\n",
    "\n",
    "o_which = WhichOBandDFtoUse(working_dir='/Users/j35/IPTS/IPTS-21632')\n",
    "o_which.final_full_master_dict = data"
   ]
  },
  {
   "cell_type": "code",
   "execution_count": 2,
   "metadata": {},
   "outputs": [
    {
     "data": {
      "application/vnd.jupyter.widget-view+json": {
       "model_id": "7b964bd6d61e4ab8a7b696f1669d505b",
       "version_major": 2,
       "version_minor": 0
      },
      "text/plain": [
       "Tab(children=(Tab(children=(VBox(children=(HBox(children=(Checkbox(value=False, description='Use custom time r…"
      ]
     },
     "metadata": {},
     "output_type": "display_data"
    }
   ],
   "source": [
    "o_which.match_files()\n",
    "o_which.calculate_first_and_last_ob()\n",
    "o_which.calculate_time_range()\n",
    "o_which.display_time_range_selection_widgets()"
   ]
  },
  {
   "cell_type": "markdown",
   "metadata": {},
   "source": [
    "FIXME: Create a method that check if all the acquisition and config have at least the minimum requirements to run a normalization (1 OB)"
   ]
  },
  {
   "cell_type": "code",
   "execution_count": 3,
   "metadata": {
    "scrolled": false
   },
   "outputs": [],
   "source": [
    "o_which.create_final_json()"
   ]
  },
  {
   "cell_type": "code",
   "execution_count": 4,
   "metadata": {
    "scrolled": false
   },
   "outputs": [
    {
     "data": {
      "application/vnd.jupyter.widget-view+json": {
       "model_id": "cb620e2725c04f27a8c382f9a8f1bee8",
       "version_major": 2,
       "version_minor": 0
      },
      "text/plain": [
       "HTML(value=\"<table style='width:50%;border:1px solid black'><tr style='background-color:#eee'><th>Acquisition …"
      ]
     },
     "metadata": {},
     "output_type": "display_data"
    }
   ],
   "source": [
    "o_which.normalization_recap()"
   ]
  },
  {
   "cell_type": "code",
   "execution_count": 5,
   "metadata": {},
   "outputs": [
    {
     "data": {
      "application/vnd.jupyter.widget-view+json": {
       "model_id": "",
       "version_major": 2,
       "version_minor": 0
      },
      "text/plain": [
       "VBox(children=(Label(value='select where to create the normalized folders', layout=Layout(width='250px')), VBo…"
      ]
     },
     "metadata": {},
     "output_type": "display_data"
    },
    {
     "data": {
      "application/vnd.jupyter.widget-view+json": {
       "model_id": "7741a17e8d9d4006900d65049c4d1376",
       "version_major": 2,
       "version_minor": 0
      },
      "text/plain": [
       "HBox(children=(Label(value='Normalization progress', layout=Layout(width='20%')), IntProgress(value=0, layout=…"
      ]
     },
     "metadata": {},
     "output_type": "display_data"
    },
    {
     "data": {
      "text/html": [
       "<span style=\"font-size: 20px; color:blue\">Message here</span>"
      ],
      "text/plain": [
       "<IPython.core.display.HTML object>"
      ]
     },
     "metadata": {},
     "output_type": "display_data"
    }
   ],
   "source": [
    "o_which.select_output_folder()"
   ]
  },
  {
   "cell_type": "code",
   "execution_count": null,
   "metadata": {},
   "outputs": [],
   "source": []
  },
  {
   "cell_type": "code",
   "execution_count": 6,
   "metadata": {},
   "outputs": [],
   "source": [
    "import os"
   ]
  },
  {
   "cell_type": "code",
   "execution_count": 11,
   "metadata": {},
   "outputs": [
    {
     "name": "stdout",
     "output_type": "stream",
     "text": [
      "/Users/j35/IPTS/IPTS-21632/.DS_Store\n",
      "/Users/j35/IPTS/IPTS-21632/DF/.DS_Store\n",
      "/Users/j35/IPTS/IPTS-21632/DF/Nov18_2019/20191118_DF_0055_0006.tiff\n",
      "/Users/j35/IPTS/IPTS-21632/DF/Nov18_2019/20191118_DF_0055_0010.tiff\n",
      "/Users/j35/IPTS/IPTS-21632/DF/Nov18_2019/20191118_DF_0055_0007.tiff\n",
      "/Users/j35/IPTS/IPTS-21632/DF/Nov18_2019/20191118_DF_0055_0001.tiff\n",
      "/Users/j35/IPTS/IPTS-21632/DF/Nov18_2019/20191118_DF_0055_0002.tiff\n",
      "/Users/j35/IPTS/IPTS-21632/DF/Nov18_2019/20191118_DF_0055_0003.tiff\n",
      "/Users/j35/IPTS/IPTS-21632/DF/Nov18_2019/20191118_DF_0055_0004.tiff\n",
      "/Users/j35/IPTS/IPTS-21632/DF/Nov18_2019/20191118_DF_0055_0008.tiff\n",
      "/Users/j35/IPTS/IPTS-21632/DF/Nov18_2019/20191118_DF_0055_0009.tiff\n",
      "/Users/j35/IPTS/IPTS-21632/DF/Nov18_2019/20191118_DF_0055_0005.tiff\n",
      "/Users/j35/IPTS/IPTS-21632/OB/.DS_Store\n",
      "/Users/j35/IPTS/IPTS-21632/OB/Nov18_2019/20191118_OB_0055_0065.tiff\n",
      "/Users/j35/IPTS/IPTS-21632/OB/Nov18_2019/20191118_test_scan_0001_0077.tiff\n",
      "/Users/j35/IPTS/IPTS-21632/OB/Nov18_2019/20191118_test_scan_0001_0076.tiff\n",
      "/Users/j35/IPTS/IPTS-21632/OB/Nov18_2019/20191118_OB_0055_0064.tiff\n",
      "/Users/j35/IPTS/IPTS-21632/OB/Nov18_2019/20191118_test_scan_0001_0071.tiff\n",
      "/Users/j35/IPTS/IPTS-21632/OB/Nov18_2019/20191118_test_scan_0001_0067.tiff\n",
      "/Users/j35/IPTS/IPTS-21632/OB/Nov18_2019/20191118_OB_0055_0059.tiff\n",
      "/Users/j35/IPTS/IPTS-21632/OB/Nov18_2019/20191118_OB_0055_0063.tiff\n",
      "/Users/j35/IPTS/IPTS-21632/OB/Nov18_2019/20191118_OB_0055_0062.tiff\n",
      "/Users/j35/IPTS/IPTS-21632/OB/Nov18_2019/20191118_OB_0055_0058.tiff\n",
      "/Users/j35/IPTS/IPTS-21632/OB/Nov18_2019/20191118_test_scan_0001_0066.tiff\n",
      "/Users/j35/IPTS/IPTS-21632/OB/Nov18_2019/20191118_test_scan_0001_0070.tiff\n",
      "/Users/j35/IPTS/IPTS-21632/OB/Nov18_2019/20191118_test_scan_0001_0073.tiff\n",
      "/Users/j35/IPTS/IPTS-21632/OB/Nov18_2019/20191118_OB_0055_0057.tiff\n",
      "/Users/j35/IPTS/IPTS-21632/OB/Nov18_2019/20191118_test_scan_0001_0069.tiff\n",
      "/Users/j35/IPTS/IPTS-21632/OB/Nov18_2019/20191118_OB_0055_0061.tiff\n",
      "/Users/j35/IPTS/IPTS-21632/OB/Nov18_2019/20191118_OB_0055_0060.tiff\n",
      "/Users/j35/IPTS/IPTS-21632/OB/Nov18_2019/20191118_test_scan_0001_0068.tiff\n",
      "/Users/j35/IPTS/IPTS-21632/OB/Nov18_2019/20191118_OB_0055_0056.tiff\n",
      "/Users/j35/IPTS/IPTS-21632/OB/Nov18_2019/20191118_test_scan_0001_0072.tiff\n",
      "/Users/j35/IPTS/IPTS-21632/OB/Nov18_2019/20191118_test_scan_0001_0075.tiff\n",
      "/Users/j35/IPTS/IPTS-21632/OB/Nov18_2019/20191118_test_scan_0001_0074.tiff\n",
      "/Users/j35/IPTS/IPTS-21632/OB/Nov18_2019/20191118_test_scan_0001_0078.tiff\n",
      "/Users/j35/IPTS/IPTS-21632/Nov18_2019/20191118_samples_2_3_10_run1_0055_0085.tiff\n",
      "/Users/j35/IPTS/IPTS-21632/Nov18_2019/20191118_samples_2_3_10_run2_0055_0220.tiff\n",
      "/Users/j35/IPTS/IPTS-21632/Nov18_2019/20191118_samples_2_3_10_run2_0055_0216.tiff\n",
      "/Users/j35/IPTS/IPTS-21632/Nov18_2019/.DS_Store\n",
      "/Users/j35/IPTS/IPTS-21632/Nov18_2019/20191118_samples_2_3_10_run2_0055_0217.tiff\n",
      "/Users/j35/IPTS/IPTS-21632/Nov18_2019/20191118_samples_2_3_10_run1_0055_0084.tiff\n",
      "/Users/j35/IPTS/IPTS-21632/Nov18_2019/20191118_samples_2_3_10_run2_0055_0221.tiff\n",
      "/Users/j35/IPTS/IPTS-21632/Nov18_2019/20191118_samples_2_3_10_run2_0055_0210.tiff\n",
      "/Users/j35/IPTS/IPTS-21632/Nov18_2019/20191118_samples_2_3_10_run1_0055_0083.tiff\n",
      "/Users/j35/IPTS/IPTS-21632/Nov18_2019/20191118_samples_2_3_10_run1_0055_0082.tiff\n",
      "/Users/j35/IPTS/IPTS-21632/Nov18_2019/20191118_samples_2_3_10_run2_0055_0207.tiff\n",
      "/Users/j35/IPTS/IPTS-21632/Nov18_2019/20191118_samples_2_3_10_run2_0055_0211.tiff\n",
      "/Users/j35/IPTS/IPTS-21632/Nov18_2019/20191118_samples_2_3_10_run2_0055_0212.tiff\n",
      "/Users/j35/IPTS/IPTS-21632/Nov18_2019/20191118_samples_2_3_10_run1_0055_0081.tiff\n",
      "/Users/j35/IPTS/IPTS-21632/Nov18_2019/20191118_samples_2_3_10_run2_0055_0208.tiff\n",
      "/Users/j35/IPTS/IPTS-21632/Nov18_2019/20191118_samples_2_3_10_run2_0055_0209.tiff\n",
      "/Users/j35/IPTS/IPTS-21632/Nov18_2019/20191118_samples_2_3_10_run2_0055_0213.tiff\n",
      "/Users/j35/IPTS/IPTS-21632/Nov18_2019/20191118_samples_2_3_10_run2_0055_0218.tiff\n",
      "/Users/j35/IPTS/IPTS-21632/Nov18_2019/20191118_samples_2_3_10_run2_0055_0214.tiff\n",
      "/Users/j35/IPTS/IPTS-21632/Nov18_2019/20191118_samples_2_3_10_run2_0055_0215.tiff\n",
      "/Users/j35/IPTS/IPTS-21632/Nov18_2019/20191118_samples_2_3_10_run2_0055_0219.tiff\n",
      "/Users/j35/IPTS/IPTS-21632/Nov18_2019/20191118_samples_2_3_10_run1_0055_0086.tiff\n",
      "/Users/j35/IPTS/IPTS-21632/Nov18_2019  raw/20191119_samples_2_3_10_run4_0055_0525.tiff\n",
      "/Users/j35/IPTS/IPTS-21632/Nov18_2019  raw/20191118_samples_2_3_10_run3_0055_0431.tiff\n",
      "/Users/j35/IPTS/IPTS-21632/Nov18_2019  raw/20191118_samples_2_3_10_run4_0055_0485.tiff\n",
      "/Users/j35/IPTS/IPTS-21632/Nov18_2019  raw/20191118_samples_2_3_10_run3_0055_0348.tiff\n",
      "/Users/j35/IPTS/IPTS-21632/Nov18_2019  raw/20191118_samples_2_3_10_run2_0055_0308.tiff\n",
      "/Users/j35/IPTS/IPTS-21632/Nov18_2019  raw/20191118_samples_2_3_10_run3_0055_0427.tiff\n",
      "/Users/j35/IPTS/IPTS-21632/Nov18_2019  raw/20191119_samples_2_3_10_run4_0055_0564.tiff\n",
      "/Users/j35/IPTS/IPTS-21632/Nov18_2019  raw/20191119_samples_2_3_10_run5_0055_0573.tiff\n",
      "/Users/j35/IPTS/IPTS-21632/Nov18_2019  raw/20191119_samples_2_3_10_run4_0055_0533.tiff\n",
      "/Users/j35/IPTS/IPTS-21632/Nov18_2019  raw/20191119_samples_2_3_10_run4_0055_0499.tiff\n",
      "/Users/j35/IPTS/IPTS-21632/Nov18_2019  raw/20191119_samples_2_3_10_run5_0055_0621.tiff\n",
      "/Users/j35/IPTS/IPTS-21632/Nov18_2019  raw/20191118_samples_2_3_10_run4_0055_0450.tiff\n",
      "/Users/j35/IPTS/IPTS-21632/Nov18_2019  raw/20191119_samples_2_3_10_run4_0055_0548.tiff\n",
      "/Users/j35/IPTS/IPTS-21632/Nov18_2019  raw/20191118_samples_2_3_10_run2_0055_0298.tiff\n",
      "/Users/j35/IPTS/IPTS-21632/Nov18_2019  raw/20191118_samples_2_3_10_run2_0055_0277.tiff\n",
      "/Users/j35/IPTS/IPTS-21632/Nov18_2019  raw/20191118_samples_2_3_10_run3_0055_0372.tiff\n",
      "/Users/j35/IPTS/IPTS-21632/Nov18_2019  raw/20191119_samples_2_3_10_run5_0055_0676.tiff\n",
      "/Users/j35/IPTS/IPTS-21632/Nov18_2019  raw/20191118_samples_2_3_10_run1_0055_0085.tiff\n",
      "/Users/j35/IPTS/IPTS-21632/Nov18_2019  raw/20191118_samples_2_3_10_run2_0055_0220.tiff\n",
      "/Users/j35/IPTS/IPTS-21632/Nov18_2019  raw/20191119_samples_2_3_10_run5_0055_0660.tiff\n",
      "/Users/j35/IPTS/IPTS-21632/Nov18_2019  raw/20191119_samples_2_3_10_run4_0055_0509.tiff\n",
      "/Users/j35/IPTS/IPTS-21632/Nov18_2019  raw/20191118_samples_2_3_10_run2_0055_0236.tiff\n",
      "/Users/j35/IPTS/IPTS-21632/Nov18_2019  raw/20191118_samples_2_3_10_run3_0055_0333.tiff\n",
      "/Users/j35/IPTS/IPTS-21632/Nov18_2019  raw/20191119_samples_2_3_10_run5_0055_0637.tiff\n",
      "/Users/j35/IPTS/IPTS-21632/Nov18_2019  raw/20191118_samples_2_3_10_run2_0055_0324.tiff\n",
      "/Users/j35/IPTS/IPTS-21632/Nov18_2019  raw/20191118_samples_2_3_10_run3_0055_0364.tiff\n",
      "/Users/j35/IPTS/IPTS-21632/Nov18_2019  raw/20191118_samples_2_3_10_run2_0055_0261.tiff\n",
      "/Users/j35/IPTS/IPTS-21632/Nov18_2019  raw/20191118_samples_2_3_10_run2_0055_0216.tiff\n",
      "/Users/j35/IPTS/IPTS-21632/Nov18_2019  raw/20191119_samples_2_3_10_run5_0055_0569.tiff\n",
      "/Users/j35/IPTS/IPTS-21632/Nov18_2019  raw/20191119_samples_2_3_10_run4_0055_0529.tiff\n",
      "/Users/j35/IPTS/IPTS-21632/Nov18_2019  raw/20191119_samples_2_3_10_run5_0055_0586.tiff\n",
      "/Users/j35/IPTS/IPTS-21632/Nov18_2019  raw/20191119_samples_2_3_10_run5_0055_0640.tiff\n",
      "/Users/j35/IPTS/IPTS-21632/Nov18_2019  raw/20191118_samples_2_3_10_run3_0055_0344.tiff\n",
      "/Users/j35/IPTS/IPTS-21632/Nov18_2019  raw/20191118_samples_2_3_10_run2_0055_0241.tiff\n",
      "/Users/j35/IPTS/IPTS-21632/Nov18_2019  raw/20191118_samples_2_3_10_run2_0055_0304.tiff\n",
      "/Users/j35/IPTS/IPTS-21632/Nov18_2019  raw/20191118_samples_2_3_10_run4_0055_0466.tiff\n",
      "/Users/j35/IPTS/IPTS-21632/Nov18_2019  raw/20191119_samples_2_3_10_run5_0055_0617.tiff\n",
      "/Users/j35/IPTS/IPTS-21632/Nov18_2019  raw/20191118_samples_2_3_10_run2_0055_0257.tiff\n",
      "/Users/j35/IPTS/IPTS-21632/Nov18_2019  raw/20191118_samples_2_3_10_run3_0055_0352.tiff\n",
      "/Users/j35/IPTS/IPTS-21632/Nov18_2019  raw/20191118_samples_2_3_10_run2_0055_0312.tiff\n",
      "/Users/j35/IPTS/IPTS-21632/Nov18_2019  raw/20191118_samples_2_3_10_run4_0055_0470.tiff\n",
      "/Users/j35/IPTS/IPTS-21632/Nov18_2019  raw/20191119_samples_2_3_10_run5_0055_0601.tiff\n",
      "/Users/j35/IPTS/IPTS-21632/Nov18_2019  raw/20191119_samples_2_3_10_run5_0055_0590.tiff\n",
      "/Users/j35/IPTS/IPTS-21632/Nov18_2019  raw/20191119_samples_2_3_10_run4_0055_0495.tiff\n",
      "/Users/j35/IPTS/IPTS-21632/Nov18_2019  raw/20191119_samples_2_3_10_run5_0055_0656.tiff\n",
      "/Users/j35/IPTS/IPTS-21632/Nov18_2019  raw/20191118_samples_2_3_10_run2_0055_0294.tiff\n",
      "/Users/j35/IPTS/IPTS-21632/Nov18_2019  raw/20191119_samples_2_3_10_run4_0055_0544.tiff\n",
      "/Users/j35/IPTS/IPTS-21632/Nov18_2019  raw/20191118_samples_2_3_10_run3_0055_0391.tiff\n",
      "/Users/j35/IPTS/IPTS-21632/Nov18_2019  raw/20191118_samples_2_3_10_run3_0055_0407.tiff\n",
      "/Users/j35/IPTS/IPTS-21632/Nov18_2019  raw/20191119_samples_2_3_10_run4_0055_0513.tiff\n",
      "/Users/j35/IPTS/IPTS-21632/Nov18_2019  raw/20191118_samples_2_3_10_run3_0055_0329.tiff\n",
      "/Users/j35/IPTS/IPTS-21632/Nov18_2019  raw/20191119_samples_2_3_10_run4_0055_0505.tiff\n",
      "/Users/j35/IPTS/IPTS-21632/Nov18_2019  raw/20191118_samples_2_3_10_run3_0055_0446.tiff\n",
      "/Users/j35/IPTS/IPTS-21632/Nov18_2019  raw/20191119_samples_2_3_10_run5_0055_0683.tiff\n",
      "/Users/j35/IPTS/IPTS-21632/Nov18_2019  raw/20191118_samples_2_3_10_run3_0055_0387.tiff\n",
      "/Users/j35/IPTS/IPTS-21632/Nov18_2019  raw/20191119_samples_2_3_10_run4_0055_0552.tiff\n",
      "/Users/j35/IPTS/IPTS-21632/Nov18_2019  raw/20191118_samples_2_3_10_run2_0055_0282.tiff\n",
      "/Users/j35/IPTS/IPTS-21632/Nov18_2019  raw/20191118_samples_2_3_10_run3_0055_0368.tiff\n",
      "/Users/j35/IPTS/IPTS-21632/Nov18_2019  raw/20191118_samples_2_3_10_run3_0055_0411.tiff\n",
      "/Users/j35/IPTS/IPTS-21632/Nov18_2019  raw/20191118_samples_2_3_10_run3_0055_0410.tiff\n",
      "/Users/j35/IPTS/IPTS-21632/Nov18_2019  raw/20191119_samples_2_3_10_run4_0055_0553.tiff\n",
      "/Users/j35/IPTS/IPTS-21632/Nov18_2019  raw/20191118_samples_2_3_10_run3_0055_0386.tiff\n",
      "/Users/j35/IPTS/IPTS-21632/Nov18_2019  raw/20191118_samples_2_3_10_run2_0055_0283.tiff\n",
      "/Users/j35/IPTS/IPTS-21632/Nov18_2019  raw/20191118_samples_2_3_10_run3_0055_0369.tiff\n",
      "/Users/j35/IPTS/IPTS-21632/Nov18_2019  raw/20191119_samples_2_3_10_run5_0055_0682.tiff\n",
      "/Users/j35/IPTS/IPTS-21632/Nov18_2019  raw/20191119_samples_2_3_10_run4_0055_0504.tiff\n",
      "/Users/j35/IPTS/IPTS-21632/Nov18_2019  raw/20191119_samples_2_3_10_run4_0055_0512.tiff\n",
      "/Users/j35/IPTS/IPTS-21632/Nov18_2019  raw/20191118_samples_2_3_10_run3_0055_0328.tiff\n",
      "/Users/j35/IPTS/IPTS-21632/Nov18_2019  raw/20191118_samples_2_3_10_run3_0055_0406.tiff\n",
      "/Users/j35/IPTS/IPTS-21632/Nov18_2019  raw/.DS_Store\n",
      "/Users/j35/IPTS/IPTS-21632/Nov18_2019  raw/20191118_samples_2_3_10_run2_0055_0295.tiff\n",
      "/Users/j35/IPTS/IPTS-21632/Nov18_2019  raw/20191118_samples_2_3_10_run3_0055_0390.tiff\n",
      "/Users/j35/IPTS/IPTS-21632/Nov18_2019  raw/20191119_samples_2_3_10_run4_0055_0545.tiff\n",
      "/Users/j35/IPTS/IPTS-21632/Nov18_2019  raw/20191119_samples_2_3_10_run5_0055_0657.tiff\n",
      "/Users/j35/IPTS/IPTS-21632/Nov18_2019  raw/20191119_samples_2_3_10_run5_0055_0591.tiff\n",
      "/Users/j35/IPTS/IPTS-21632/Nov18_2019  raw/20191119_samples_2_3_10_run4_0055_0494.tiff\n",
      "/Users/j35/IPTS/IPTS-21632/Nov18_2019  raw/20191118_samples_2_3_10_run4_0055_0471.tiff\n",
      "/Users/j35/IPTS/IPTS-21632/Nov18_2019  raw/20191119_samples_2_3_10_run5_0055_0600.tiff\n",
      "/Users/j35/IPTS/IPTS-21632/Nov18_2019  raw/20191118_samples_2_3_10_run2_0055_0256.tiff\n",
      "/Users/j35/IPTS/IPTS-21632/Nov18_2019  raw/20191118_samples_2_3_10_run3_0055_0353.tiff\n",
      "/Users/j35/IPTS/IPTS-21632/Nov18_2019  raw/20191118_samples_2_3_10_run2_0055_0313.tiff\n",
      "/Users/j35/IPTS/IPTS-21632/Nov18_2019  raw/20191118_samples_2_3_10_run4_0055_0467.tiff\n",
      "/Users/j35/IPTS/IPTS-21632/Nov18_2019  raw/20191119_samples_2_3_10_run5_0055_0616.tiff\n",
      "/Users/j35/IPTS/IPTS-21632/Nov18_2019  raw/20191118_samples_2_3_10_run3_0055_0345.tiff\n",
      "/Users/j35/IPTS/IPTS-21632/Nov18_2019  raw/20191118_samples_2_3_10_run2_0055_0240.tiff\n",
      "/Users/j35/IPTS/IPTS-21632/Nov18_2019  raw/20191118_samples_2_3_10_run2_0055_0305.tiff\n",
      "/Users/j35/IPTS/IPTS-21632/Nov18_2019  raw/20191119_samples_2_3_10_run5_0055_0641.tiff\n",
      "/Users/j35/IPTS/IPTS-21632/Nov18_2019  raw/20191118_samples_2_3_10_run2_0055_0217.tiff\n",
      "/Users/j35/IPTS/IPTS-21632/Nov18_2019  raw/20191119_samples_2_3_10_run5_0055_0568.tiff\n",
      "/Users/j35/IPTS/IPTS-21632/Nov18_2019  raw/20191119_samples_2_3_10_run4_0055_0528.tiff\n",
      "/Users/j35/IPTS/IPTS-21632/Nov18_2019  raw/20191119_samples_2_3_10_run5_0055_0587.tiff\n",
      "/Users/j35/IPTS/IPTS-21632/Nov18_2019  raw/20191118_samples_2_3_10_run2_0055_0325.tiff\n",
      "/Users/j35/IPTS/IPTS-21632/Nov18_2019  raw/20191118_samples_2_3_10_run3_0055_0365.tiff\n",
      "/Users/j35/IPTS/IPTS-21632/Nov18_2019  raw/20191118_samples_2_3_10_run2_0055_0260.tiff\n",
      "/Users/j35/IPTS/IPTS-21632/Nov18_2019  raw/20191119_samples_2_3_10_run5_0055_0636.tiff\n",
      "/Users/j35/IPTS/IPTS-21632/Nov18_2019  raw/20191118_samples_2_3_10_run4_0055_0447.tiff\n",
      "/Users/j35/IPTS/IPTS-21632/Nov18_2019  raw/20191119_samples_2_3_10_run4_0055_0508.tiff\n",
      "/Users/j35/IPTS/IPTS-21632/Nov18_2019  raw/20191118_samples_2_3_10_run2_0055_0237.tiff\n",
      "/Users/j35/IPTS/IPTS-21632/Nov18_2019  raw/20191118_samples_2_3_10_run3_0055_0332.tiff\n",
      "/Users/j35/IPTS/IPTS-21632/Nov18_2019  raw/20191119_samples_2_3_10_run5_0055_0661.tiff\n",
      "/Users/j35/IPTS/IPTS-21632/Nov18_2019  raw/20191118_samples_2_3_10_run1_0055_0084.tiff\n",
      "/Users/j35/IPTS/IPTS-21632/Nov18_2019  raw/20191118_samples_2_3_10_run2_0055_0221.tiff\n",
      "/Users/j35/IPTS/IPTS-21632/Nov18_2019  raw/20191119_samples_2_3_10_run5_0055_0677.tiff\n",
      "/Users/j35/IPTS/IPTS-21632/Nov18_2019  raw/20191119_samples_2_3_10_run4_0055_0549.tiff\n",
      "/Users/j35/IPTS/IPTS-21632/Nov18_2019  raw/20191118_samples_2_3_10_run2_0055_0299.tiff\n",
      "/Users/j35/IPTS/IPTS-21632/Nov18_2019  raw/20191118_samples_2_3_10_run2_0055_0276.tiff\n",
      "/Users/j35/IPTS/IPTS-21632/Nov18_2019  raw/20191118_samples_2_3_10_run3_0055_0373.tiff\n",
      "/Users/j35/IPTS/IPTS-21632/Nov18_2019  raw/20191119_samples_2_3_10_run5_0055_0620.tiff\n",
      "/Users/j35/IPTS/IPTS-21632/Nov18_2019  raw/20191118_samples_2_3_10_run4_0055_0451.tiff\n",
      "/Users/j35/IPTS/IPTS-21632/Nov18_2019  raw/20191119_samples_2_3_10_run5_0055_0572.tiff\n",
      "/Users/j35/IPTS/IPTS-21632/Nov18_2019  raw/20191119_samples_2_3_10_run4_0055_0532.tiff\n",
      "/Users/j35/IPTS/IPTS-21632/Nov18_2019  raw/20191119_samples_2_3_10_run4_0055_0498.tiff\n",
      "/Users/j35/IPTS/IPTS-21632/Nov18_2019  raw/20191119_samples_2_3_10_run4_0055_0565.tiff\n",
      "/Users/j35/IPTS/IPTS-21632/Nov18_2019  raw/20191118_samples_2_3_10_run3_0055_0426.tiff\n",
      "/Users/j35/IPTS/IPTS-21632/Nov18_2019  raw/20191118_samples_2_3_10_run3_0055_0349.tiff\n",
      "/Users/j35/IPTS/IPTS-21632/Nov18_2019  raw/20191118_samples_2_3_10_run2_0055_0309.tiff\n",
      "/Users/j35/IPTS/IPTS-21632/Nov18_2019  raw/20191118_samples_2_3_10_run4_0055_0484.tiff\n",
      "/Users/j35/IPTS/IPTS-21632/Nov18_2019  raw/20191118_samples_2_3_10_run3_0055_0430.tiff\n",
      "/Users/j35/IPTS/IPTS-21632/Nov18_2019  raw/20191119_samples_2_3_10_run4_0055_0524.tiff\n",
      "/Users/j35/IPTS/IPTS-21632/Nov18_2019  raw/20191118_samples_2_3_10_run2_0055_0210.tiff\n",
      "/Users/j35/IPTS/IPTS-21632/Nov18_2019  raw/20191119_samples_2_3_10_run5_0055_0580.tiff\n",
      "/Users/j35/IPTS/IPTS-21632/Nov18_2019  raw/20191119_samples_2_3_10_run5_0055_0646.tiff\n",
      "/Users/j35/IPTS/IPTS-21632/Nov18_2019  raw/20191118_samples_2_3_10_run2_0055_0247.tiff\n",
      "/Users/j35/IPTS/IPTS-21632/Nov18_2019  raw/20191118_samples_2_3_10_run3_0055_0342.tiff\n",
      "/Users/j35/IPTS/IPTS-21632/Nov18_2019  raw/20191118_samples_2_3_10_run2_0055_0302.tiff\n",
      "/Users/j35/IPTS/IPTS-21632/Nov18_2019  raw/20191118_samples_2_3_10_run4_0055_0460.tiff\n",
      "/Users/j35/IPTS/IPTS-21632/Nov18_2019  raw/20191119_samples_2_3_10_run5_0055_0611.tiff\n",
      "/Users/j35/IPTS/IPTS-21632/Nov18_2019  raw/20191118_samples_2_3_10_run3_0055_0354.tiff\n",
      "/Users/j35/IPTS/IPTS-21632/Nov18_2019  raw/20191118_samples_2_3_10_run2_0055_0251.tiff\n",
      "/Users/j35/IPTS/IPTS-21632/Nov18_2019  raw/20191118_samples_2_3_10_run2_0055_0314.tiff\n",
      "/Users/j35/IPTS/IPTS-21632/Nov18_2019  raw/20191118_samples_2_3_10_run4_0055_0476.tiff\n",
      "/Users/j35/IPTS/IPTS-21632/Nov18_2019  raw/20191119_samples_2_3_10_run5_0055_0607.tiff\n",
      "/Users/j35/IPTS/IPTS-21632/Nov18_2019  raw/20191119_samples_2_3_10_run5_0055_0579.tiff\n",
      "/Users/j35/IPTS/IPTS-21632/Nov18_2019  raw/20191119_samples_2_3_10_run4_0055_0493.tiff\n",
      "/Users/j35/IPTS/IPTS-21632/Nov18_2019  raw/20191119_samples_2_3_10_run4_0055_0539.tiff\n",
      "/Users/j35/IPTS/IPTS-21632/Nov18_2019  raw/20191119_samples_2_3_10_run5_0055_0596.tiff\n",
      "/Users/j35/IPTS/IPTS-21632/Nov18_2019  raw/20191119_samples_2_3_10_run5_0055_0650.tiff\n",
      "/Users/j35/IPTS/IPTS-21632/Nov18_2019  raw/20191119_samples_2_3_10_run4_0055_0542.tiff\n",
      "/Users/j35/IPTS/IPTS-21632/Nov18_2019  raw/20191118_samples_2_3_10_run3_0055_0397.tiff\n",
      "/Users/j35/IPTS/IPTS-21632/Nov18_2019  raw/20191118_samples_2_3_10_run2_0055_0292.tiff\n",
      "/Users/j35/IPTS/IPTS-21632/Nov18_2019  raw/20191118_samples_2_3_10_run3_0055_0378.tiff\n",
      "/Users/j35/IPTS/IPTS-21632/Nov18_2019  raw/20191118_samples_2_3_10_run3_0055_0401.tiff\n",
      "/Users/j35/IPTS/IPTS-21632/Nov18_2019  raw/20191119_samples_2_3_10_run4_0055_0515.tiff\n",
      "/Users/j35/IPTS/IPTS-21632/Nov18_2019  raw/20191119_samples_2_3_10_run4_0055_0503.tiff\n",
      "/Users/j35/IPTS/IPTS-21632/Nov18_2019  raw/20191118_samples_2_3_10_run3_0055_0339.tiff\n",
      "/Users/j35/IPTS/IPTS-21632/Nov18_2019  raw/20191118_samples_2_3_10_run3_0055_0440.tiff\n",
      "/Users/j35/IPTS/IPTS-21632/Nov18_2019  raw/20191119_samples_2_3_10_run5_0055_0685.tiff\n",
      "/Users/j35/IPTS/IPTS-21632/Nov18_2019  raw/20191118_samples_2_3_10_run2_0055_0284.tiff\n",
      "/Users/j35/IPTS/IPTS-21632/Nov18_2019  raw/20191118_samples_2_3_10_run3_0055_0381.tiff\n",
      "/Users/j35/IPTS/IPTS-21632/Nov18_2019  raw/20191119_samples_2_3_10_run4_0055_0554.tiff\n",
      "/Users/j35/IPTS/IPTS-21632/Nov18_2019  raw/20191118_samples_2_3_10_run3_0055_0417.tiff\n",
      "/Users/j35/IPTS/IPTS-21632/Nov18_2019  raw/20191119_samples_2_3_10_run4_0055_0489.tiff\n",
      "/Users/j35/IPTS/IPTS-21632/Nov18_2019  raw/20191119_samples_2_3_10_run4_0055_0523.tiff\n",
      "/Users/j35/IPTS/IPTS-21632/Nov18_2019  raw/20191118_samples_2_3_10_run3_0055_0437.tiff\n",
      "/Users/j35/IPTS/IPTS-21632/Nov18_2019  raw/20191118_samples_2_3_10_run4_0055_0483.tiff\n",
      "/Users/j35/IPTS/IPTS-21632/Nov18_2019  raw/20191118_samples_2_3_10_run3_0055_0421.tiff\n",
      "/Users/j35/IPTS/IPTS-21632/Nov18_2019  raw/20191118_samples_2_3_10_run3_0055_0358.tiff\n",
      "/Users/j35/IPTS/IPTS-21632/Nov18_2019  raw/20191119_samples_2_3_10_run4_0055_0562.tiff\n",
      "/Users/j35/IPTS/IPTS-21632/Nov18_2019  raw/20191118_samples_2_3_10_run2_0055_0318.tiff\n",
      "/Users/j35/IPTS/IPTS-21632/Nov18_2019  raw/20191119_samples_2_3_10_run5_0055_0575.tiff\n",
      "/Users/j35/IPTS/IPTS-21632/Nov18_2019  raw/20191119_samples_2_3_10_run4_0055_0535.tiff\n",
      "/Users/j35/IPTS/IPTS-21632/Nov18_2019  raw/20191119_samples_2_3_10_run5_0055_0627.tiff\n",
      "/Users/j35/IPTS/IPTS-21632/Nov18_2019  raw/20191118_samples_2_3_10_run4_0055_0456.tiff\n",
      "/Users/j35/IPTS/IPTS-21632/Nov18_2019  raw/20191118_samples_2_3_10_run3_0055_0374.tiff\n",
      "/Users/j35/IPTS/IPTS-21632/Nov18_2019  raw/20191118_samples_2_3_10_run2_0055_0271.tiff\n",
      "/Users/j35/IPTS/IPTS-21632/Nov18_2019  raw/20191119_samples_2_3_10_run5_0055_0670.tiff\n",
      "/Users/j35/IPTS/IPTS-21632/Nov18_2019  raw/20191118_samples_2_3_10_run1_0055_0083.tiff\n",
      "/Users/j35/IPTS/IPTS-21632/Nov18_2019  raw/20191119_samples_2_3_10_run4_0055_0519.tiff\n",
      "/Users/j35/IPTS/IPTS-21632/Nov18_2019  raw/20191118_samples_2_3_10_run2_0055_0226.tiff\n",
      "/Users/j35/IPTS/IPTS-21632/Nov18_2019  raw/20191119_samples_2_3_10_run5_0055_0666.tiff\n",
      "/Users/j35/IPTS/IPTS-21632/Nov18_2019  raw/20191118_samples_2_3_10_run3_0055_0335.tiff\n",
      "/Users/j35/IPTS/IPTS-21632/Nov18_2019  raw/20191118_samples_2_3_10_run2_0055_0230.tiff\n",
      "/Users/j35/IPTS/IPTS-21632/Nov18_2019  raw/20191119_samples_2_3_10_run5_0055_0631.tiff\n",
      "/Users/j35/IPTS/IPTS-21632/Nov18_2019  raw/20191119_samples_2_3_10_run4_0055_0558.tiff\n",
      "/Users/j35/IPTS/IPTS-21632/Nov18_2019  raw/20191118_samples_2_3_10_run2_0055_0288.tiff\n",
      "/Users/j35/IPTS/IPTS-21632/Nov18_2019  raw/20191118_samples_2_3_10_run2_0055_0322.tiff\n",
      "/Users/j35/IPTS/IPTS-21632/Nov18_2019  raw/20191118_samples_2_3_10_run2_0055_0267.tiff\n",
      "/Users/j35/IPTS/IPTS-21632/Nov18_2019  raw/20191118_samples_2_3_10_run3_0055_0362.tiff\n",
      "/Users/j35/IPTS/IPTS-21632/Nov18_2019  raw/20191119_samples_2_3_10_run4_0055_0559.tiff\n",
      "/Users/j35/IPTS/IPTS-21632/Nov18_2019  raw/20191118_samples_2_3_10_run2_0055_0289.tiff\n",
      "/Users/j35/IPTS/IPTS-21632/Nov18_2019  raw/20191118_samples_2_3_10_run2_0055_0323.tiff\n",
      "/Users/j35/IPTS/IPTS-21632/Nov18_2019  raw/20191118_samples_2_3_10_run2_0055_0266.tiff\n",
      "/Users/j35/IPTS/IPTS-21632/Nov18_2019  raw/20191118_samples_2_3_10_run3_0055_0363.tiff\n",
      "/Users/j35/IPTS/IPTS-21632/Nov18_2019  raw/20191119_samples_2_3_10_run5_0055_0630.tiff\n",
      "/Users/j35/IPTS/IPTS-21632/Nov18_2019  raw/20191118_samples_2_3_10_run3_0055_0334.tiff\n",
      "/Users/j35/IPTS/IPTS-21632/Nov18_2019  raw/20191118_samples_2_3_10_run2_0055_0231.tiff\n",
      "/Users/j35/IPTS/IPTS-21632/Nov18_2019  raw/20191119_samples_2_3_10_run5_0055_0667.tiff\n",
      "/Users/j35/IPTS/IPTS-21632/Nov18_2019  raw/20191119_samples_2_3_10_run4_0055_0518.tiff\n",
      "/Users/j35/IPTS/IPTS-21632/Nov18_2019  raw/20191118_samples_2_3_10_run1_0055_0082.tiff\n",
      "/Users/j35/IPTS/IPTS-21632/Nov18_2019  raw/20191118_samples_2_3_10_run2_0055_0227.tiff\n",
      "/Users/j35/IPTS/IPTS-21632/Nov18_2019  raw/20191119_samples_2_3_10_run5_0055_0671.tiff\n",
      "/Users/j35/IPTS/IPTS-21632/Nov18_2019  raw/20191118_samples_2_3_10_run3_0055_0375.tiff\n",
      "/Users/j35/IPTS/IPTS-21632/Nov18_2019  raw/20191118_samples_2_3_10_run2_0055_0270.tiff\n",
      "/Users/j35/IPTS/IPTS-21632/Nov18_2019  raw/20191119_samples_2_3_10_run5_0055_0626.tiff\n",
      "/Users/j35/IPTS/IPTS-21632/Nov18_2019  raw/20191118_samples_2_3_10_run4_0055_0457.tiff\n",
      "/Users/j35/IPTS/IPTS-21632/Nov18_2019  raw/20191119_samples_2_3_10_run5_0055_0574.tiff\n",
      "/Users/j35/IPTS/IPTS-21632/Nov18_2019  raw/20191119_samples_2_3_10_run4_0055_0534.tiff\n",
      "/Users/j35/IPTS/IPTS-21632/Nov18_2019  raw/20191118_samples_2_3_10_run3_0055_0359.tiff\n",
      "/Users/j35/IPTS/IPTS-21632/Nov18_2019  raw/20191119_samples_2_3_10_run4_0055_0563.tiff\n",
      "/Users/j35/IPTS/IPTS-21632/Nov18_2019  raw/20191118_samples_2_3_10_run2_0055_0319.tiff\n",
      "/Users/j35/IPTS/IPTS-21632/Nov18_2019  raw/20191118_samples_2_3_10_run3_0055_0420.tiff\n",
      "/Users/j35/IPTS/IPTS-21632/Nov18_2019  raw/20191118_samples_2_3_10_run4_0055_0482.tiff\n",
      "/Users/j35/IPTS/IPTS-21632/Nov18_2019  raw/20191118_samples_2_3_10_run3_0055_0436.tiff\n",
      "/Users/j35/IPTS/IPTS-21632/Nov18_2019  raw/20191119_samples_2_3_10_run4_0055_0488.tiff\n",
      "/Users/j35/IPTS/IPTS-21632/Nov18_2019  raw/20191119_samples_2_3_10_run4_0055_0522.tiff\n",
      "/Users/j35/IPTS/IPTS-21632/Nov18_2019  raw/20191118_samples_2_3_10_run3_0055_0416.tiff\n",
      "/Users/j35/IPTS/IPTS-21632/Nov18_2019  raw/20191118_samples_2_3_10_run2_0055_0285.tiff\n",
      "/Users/j35/IPTS/IPTS-21632/Nov18_2019  raw/20191119_samples_2_3_10_run4_0055_0555.tiff\n",
      "/Users/j35/IPTS/IPTS-21632/Nov18_2019  raw/20191118_samples_2_3_10_run3_0055_0380.tiff\n",
      "/Users/j35/IPTS/IPTS-21632/Nov18_2019  raw/20191118_samples_2_3_10_run3_0055_0441.tiff\n",
      "/Users/j35/IPTS/IPTS-21632/Nov18_2019  raw/20191119_samples_2_3_10_run5_0055_0684.tiff\n",
      "/Users/j35/IPTS/IPTS-21632/Nov18_2019  raw/20191119_samples_2_3_10_run4_0055_0502.tiff\n",
      "/Users/j35/IPTS/IPTS-21632/Nov18_2019  raw/20191118_samples_2_3_10_run3_0055_0338.tiff\n",
      "/Users/j35/IPTS/IPTS-21632/Nov18_2019  raw/20191119_samples_2_3_10_run4_0055_0514.tiff\n",
      "/Users/j35/IPTS/IPTS-21632/Nov18_2019  raw/20191118_samples_2_3_10_run3_0055_0400.tiff\n",
      "/Users/j35/IPTS/IPTS-21632/Nov18_2019  raw/20191118_samples_2_3_10_run3_0055_0396.tiff\n",
      "/Users/j35/IPTS/IPTS-21632/Nov18_2019  raw/20191119_samples_2_3_10_run4_0055_0543.tiff\n",
      "/Users/j35/IPTS/IPTS-21632/Nov18_2019  raw/20191118_samples_2_3_10_run2_0055_0293.tiff\n",
      "/Users/j35/IPTS/IPTS-21632/Nov18_2019  raw/20191118_samples_2_3_10_run3_0055_0379.tiff\n",
      "/Users/j35/IPTS/IPTS-21632/Nov18_2019  raw/20191119_samples_2_3_10_run5_0055_0651.tiff\n",
      "/Users/j35/IPTS/IPTS-21632/Nov18_2019  raw/20191119_samples_2_3_10_run5_0055_0578.tiff\n",
      "/Users/j35/IPTS/IPTS-21632/Nov18_2019  raw/20191118_samples_2_3_10_run2_0055_0207.tiff\n",
      "/Users/j35/IPTS/IPTS-21632/Nov18_2019  raw/20191119_samples_2_3_10_run4_0055_0492.tiff\n",
      "/Users/j35/IPTS/IPTS-21632/Nov18_2019  raw/20191119_samples_2_3_10_run4_0055_0538.tiff\n",
      "/Users/j35/IPTS/IPTS-21632/Nov18_2019  raw/20191119_samples_2_3_10_run5_0055_0597.tiff\n",
      "/Users/j35/IPTS/IPTS-21632/Nov18_2019  raw/20191118_samples_2_3_10_run4_0055_0477.tiff\n",
      "/Users/j35/IPTS/IPTS-21632/Nov18_2019  raw/20191119_samples_2_3_10_run5_0055_0606.tiff\n",
      "/Users/j35/IPTS/IPTS-21632/Nov18_2019  raw/20191118_samples_2_3_10_run3_0055_0355.tiff\n",
      "/Users/j35/IPTS/IPTS-21632/Nov18_2019  raw/20191118_samples_2_3_10_run2_0055_0250.tiff\n",
      "/Users/j35/IPTS/IPTS-21632/Nov18_2019  raw/20191118_samples_2_3_10_run2_0055_0315.tiff\n",
      "/Users/j35/IPTS/IPTS-21632/Nov18_2019  raw/20191118_samples_2_3_10_run4_0055_0461.tiff\n",
      "/Users/j35/IPTS/IPTS-21632/Nov18_2019  raw/20191119_samples_2_3_10_run5_0055_0610.tiff\n",
      "/Users/j35/IPTS/IPTS-21632/Nov18_2019  raw/20191118_samples_2_3_10_run2_0055_0246.tiff\n",
      "/Users/j35/IPTS/IPTS-21632/Nov18_2019  raw/20191118_samples_2_3_10_run3_0055_0343.tiff\n",
      "/Users/j35/IPTS/IPTS-21632/Nov18_2019  raw/20191118_samples_2_3_10_run2_0055_0303.tiff\n",
      "/Users/j35/IPTS/IPTS-21632/Nov18_2019  raw/20191119_samples_2_3_10_run5_0055_0647.tiff\n",
      "/Users/j35/IPTS/IPTS-21632/Nov18_2019  raw/20191118_samples_2_3_10_run2_0055_0211.tiff\n",
      "/Users/j35/IPTS/IPTS-21632/Nov18_2019  raw/20191119_samples_2_3_10_run5_0055_0581.tiff\n",
      "/Users/j35/IPTS/IPTS-21632/Nov18_2019  raw/20191118_samples_2_3_10_run3_0055_0415.tiff\n",
      "/Users/j35/IPTS/IPTS-21632/Nov18_2019  raw/20191118_samples_2_3_10_run2_0055_0269.tiff\n",
      "/Users/j35/IPTS/IPTS-21632/Nov18_2019  raw/20191119_samples_2_3_10_run4_0055_0556.tiff\n",
      "/Users/j35/IPTS/IPTS-21632/Nov18_2019  raw/20191118_samples_2_3_10_run3_0055_0383.tiff\n",
      "/Users/j35/IPTS/IPTS-21632/Nov18_2019  raw/20191118_samples_2_3_10_run2_0055_0286.tiff\n",
      "/Users/j35/IPTS/IPTS-21632/Nov18_2019  raw/20191118_samples_2_3_10_run3_0055_0442.tiff\n",
      "/Users/j35/IPTS/IPTS-21632/Nov18_2019  raw/20191119_samples_2_3_10_run5_0055_0668.tiff\n",
      "/Users/j35/IPTS/IPTS-21632/Nov18_2019  raw/20191119_samples_2_3_10_run4_0055_0501.tiff\n",
      "/Users/j35/IPTS/IPTS-21632/Nov18_2019  raw/20191118_samples_2_3_10_run2_0055_0228.tiff\n",
      "/Users/j35/IPTS/IPTS-21632/Nov18_2019  raw/20191119_samples_2_3_10_run4_0055_0517.tiff\n",
      "/Users/j35/IPTS/IPTS-21632/Nov18_2019  raw/20191118_samples_2_3_10_run4_0055_0458.tiff\n",
      "/Users/j35/IPTS/IPTS-21632/Nov18_2019  raw/20191118_samples_2_3_10_run3_0055_0403.tiff\n",
      "/Users/j35/IPTS/IPTS-21632/Nov18_2019  raw/20191119_samples_2_3_10_run5_0055_0629.tiff\n",
      "/Users/j35/IPTS/IPTS-21632/Nov18_2019  raw/20191118_samples_2_3_10_run2_0055_0290.tiff\n",
      "/Users/j35/IPTS/IPTS-21632/Nov18_2019  raw/20191118_samples_2_3_10_run3_0055_0395.tiff\n",
      "/Users/j35/IPTS/IPTS-21632/Nov18_2019  raw/20191119_samples_2_3_10_run4_0055_0540.tiff\n",
      "/Users/j35/IPTS/IPTS-21632/Nov18_2019  raw/20191119_samples_2_3_10_run5_0055_0652.tiff\n",
      "/Users/j35/IPTS/IPTS-21632/Nov18_2019  raw/20191119_samples_2_3_10_run5_0055_0594.tiff\n",
      "/Users/j35/IPTS/IPTS-21632/Nov18_2019  raw/20191119_samples_2_3_10_run4_0055_0491.tiff\n",
      "/Users/j35/IPTS/IPTS-21632/Nov18_2019  raw/20191119_samples_2_3_10_run5_0055_0605.tiff\n",
      "/Users/j35/IPTS/IPTS-21632/Nov18_2019  raw/20191118_samples_2_3_10_run4_0055_0474.tiff\n",
      "/Users/j35/IPTS/IPTS-21632/Nov18_2019  raw/20191118_samples_2_3_10_run2_0055_0316.tiff\n",
      "/Users/j35/IPTS/IPTS-21632/Nov18_2019  raw/20191118_samples_2_3_10_run2_0055_0253.tiff\n",
      "/Users/j35/IPTS/IPTS-21632/Nov18_2019  raw/20191118_samples_2_3_10_run3_0055_0356.tiff\n",
      "/Users/j35/IPTS/IPTS-21632/Nov18_2019  raw/20191118_samples_2_3_10_run3_0055_0439.tiff\n",
      "/Users/j35/IPTS/IPTS-21632/Nov18_2019  raw/20191119_samples_2_3_10_run5_0055_0613.tiff\n",
      "/Users/j35/IPTS/IPTS-21632/Nov18_2019  raw/20191118_samples_2_3_10_run4_0055_0462.tiff\n",
      "/Users/j35/IPTS/IPTS-21632/Nov18_2019  raw/20191118_samples_2_3_10_run2_0055_0300.tiff\n",
      "/Users/j35/IPTS/IPTS-21632/Nov18_2019  raw/20191118_samples_2_3_10_run3_0055_0340.tiff\n",
      "/Users/j35/IPTS/IPTS-21632/Nov18_2019  raw/20191118_samples_2_3_10_run2_0055_0245.tiff\n",
      "/Users/j35/IPTS/IPTS-21632/Nov18_2019  raw/20191119_samples_2_3_10_run5_0055_0644.tiff\n",
      "/Users/j35/IPTS/IPTS-21632/Nov18_2019  raw/20191119_samples_2_3_10_run4_0055_0487.tiff\n",
      "/Users/j35/IPTS/IPTS-21632/Nov18_2019  raw/20191119_samples_2_3_10_run5_0055_0582.tiff\n",
      "/Users/j35/IPTS/IPTS-21632/Nov18_2019  raw/20191118_samples_2_3_10_run2_0055_0212.tiff\n",
      "/Users/j35/IPTS/IPTS-21632/Nov18_2019  raw/20191118_samples_2_3_10_run3_0055_0360.tiff\n",
      "/Users/j35/IPTS/IPTS-21632/Nov18_2019  raw/20191118_samples_2_3_10_run2_0055_0265.tiff\n",
      "/Users/j35/IPTS/IPTS-21632/Nov18_2019  raw/20191118_samples_2_3_10_run2_0055_0320.tiff\n",
      "/Users/j35/IPTS/IPTS-21632/Nov18_2019  raw/20191118_samples_2_3_10_run3_0055_0419.tiff\n",
      "/Users/j35/IPTS/IPTS-21632/Nov18_2019  raw/20191119_samples_2_3_10_run5_0055_0633.tiff\n",
      "/Users/j35/IPTS/IPTS-21632/Nov18_2019  raw/20191118_samples_2_3_10_run2_0055_0232.tiff\n",
      "/Users/j35/IPTS/IPTS-21632/Nov18_2019  raw/20191118_samples_2_3_10_run3_0055_0337.tiff\n",
      "/Users/j35/IPTS/IPTS-21632/Nov18_2019  raw/20191119_samples_2_3_10_run5_0055_0664.tiff\n",
      "/Users/j35/IPTS/IPTS-21632/Nov18_2019  raw/20191118_samples_2_3_10_run2_0055_0224.tiff\n",
      "/Users/j35/IPTS/IPTS-21632/Nov18_2019  raw/20191118_samples_2_3_10_run1_0055_0081.tiff\n",
      "/Users/j35/IPTS/IPTS-21632/Nov18_2019  raw/20191119_samples_2_3_10_run5_0055_0672.tiff\n",
      "/Users/j35/IPTS/IPTS-21632/Nov18_2019  raw/20191118_samples_2_3_10_run2_0055_0273.tiff\n",
      "/Users/j35/IPTS/IPTS-21632/Nov18_2019  raw/20191118_samples_2_3_10_run3_0055_0376.tiff\n",
      "/Users/j35/IPTS/IPTS-21632/Nov18_2019  raw/20191118_samples_2_3_10_run3_0055_0399.tiff\n",
      "/Users/j35/IPTS/IPTS-21632/Nov18_2019  raw/20191118_samples_2_3_10_run4_0055_0454.tiff\n",
      "/Users/j35/IPTS/IPTS-21632/Nov18_2019  raw/20191119_samples_2_3_10_run5_0055_0625.tiff\n",
      "/Users/j35/IPTS/IPTS-21632/Nov18_2019  raw/20191119_samples_2_3_10_run4_0055_0537.tiff\n",
      "/Users/j35/IPTS/IPTS-21632/Nov18_2019  raw/20191119_samples_2_3_10_run5_0055_0598.tiff\n",
      "/Users/j35/IPTS/IPTS-21632/Nov18_2019  raw/20191118_samples_2_3_10_run2_0055_0208.tiff\n",
      "/Users/j35/IPTS/IPTS-21632/Nov18_2019  raw/20191119_samples_2_3_10_run5_0055_0577.tiff\n",
      "/Users/j35/IPTS/IPTS-21632/Nov18_2019  raw/20191119_samples_2_3_10_run4_0055_0560.tiff\n",
      "/Users/j35/IPTS/IPTS-21632/Nov18_2019  raw/20191118_samples_2_3_10_run3_0055_0423.tiff\n",
      "/Users/j35/IPTS/IPTS-21632/Nov18_2019  raw/20191119_samples_2_3_10_run5_0055_0609.tiff\n",
      "/Users/j35/IPTS/IPTS-21632/Nov18_2019  raw/20191118_samples_2_3_10_run4_0055_0478.tiff\n",
      "/Users/j35/IPTS/IPTS-21632/Nov18_2019  raw/20191118_samples_2_3_10_run2_0055_0249.tiff\n",
      "/Users/j35/IPTS/IPTS-21632/Nov18_2019  raw/20191118_samples_2_3_10_run4_0055_0481.tiff\n",
      "/Users/j35/IPTS/IPTS-21632/Nov18_2019  raw/20191118_samples_2_3_10_run3_0055_0435.tiff\n",
      "/Users/j35/IPTS/IPTS-21632/Nov18_2019  raw/20191119_samples_2_3_10_run4_0055_0521.tiff\n",
      "/Users/j35/IPTS/IPTS-21632/Nov18_2019  raw/20191119_samples_2_3_10_run5_0055_0648.tiff\n",
      "/Users/j35/IPTS/IPTS-21632/Nov18_2019  raw/20191119_samples_2_3_10_run5_0055_0649.tiff\n",
      "/Users/j35/IPTS/IPTS-21632/Nov18_2019  raw/20191119_samples_2_3_10_run4_0055_0520.tiff\n",
      "/Users/j35/IPTS/IPTS-21632/Nov18_2019  raw/20191118_samples_2_3_10_run3_0055_0434.tiff\n",
      "/Users/j35/IPTS/IPTS-21632/Nov18_2019  raw/20191118_samples_2_3_10_run4_0055_0480.tiff\n",
      "/Users/j35/IPTS/IPTS-21632/Nov18_2019  raw/20191118_samples_2_3_10_run2_0055_0248.tiff\n",
      "/Users/j35/IPTS/IPTS-21632/Nov18_2019  raw/20191118_samples_2_3_10_run3_0055_0422.tiff\n",
      "/Users/j35/IPTS/IPTS-21632/Nov18_2019  raw/20191119_samples_2_3_10_run5_0055_0608.tiff\n",
      "/Users/j35/IPTS/IPTS-21632/Nov18_2019  raw/20191118_samples_2_3_10_run4_0055_0479.tiff\n",
      "/Users/j35/IPTS/IPTS-21632/Nov18_2019  raw/20191119_samples_2_3_10_run4_0055_0561.tiff\n",
      "/Users/j35/IPTS/IPTS-21632/Nov18_2019  raw/20191119_samples_2_3_10_run4_0055_0536.tiff\n",
      "/Users/j35/IPTS/IPTS-21632/Nov18_2019  raw/20191119_samples_2_3_10_run5_0055_0599.tiff\n",
      "/Users/j35/IPTS/IPTS-21632/Nov18_2019  raw/20191118_samples_2_3_10_run2_0055_0209.tiff\n",
      "/Users/j35/IPTS/IPTS-21632/Nov18_2019  raw/20191119_samples_2_3_10_run5_0055_0576.tiff\n",
      "/Users/j35/IPTS/IPTS-21632/Nov18_2019  raw/20191118_samples_2_3_10_run4_0055_0455.tiff\n",
      "/Users/j35/IPTS/IPTS-21632/Nov18_2019  raw/20191119_samples_2_3_10_run5_0055_0624.tiff\n",
      "/Users/j35/IPTS/IPTS-21632/Nov18_2019  raw/20191118_samples_2_3_10_run2_0055_0272.tiff\n",
      "/Users/j35/IPTS/IPTS-21632/Nov18_2019  raw/20191118_samples_2_3_10_run3_0055_0377.tiff\n",
      "/Users/j35/IPTS/IPTS-21632/Nov18_2019  raw/20191118_samples_2_3_10_run3_0055_0398.tiff\n",
      "/Users/j35/IPTS/IPTS-21632/Nov18_2019  raw/20191119_samples_2_3_10_run5_0055_0673.tiff\n",
      "/Users/j35/IPTS/IPTS-21632/Nov18_2019  raw/20191118_samples_2_3_10_run2_0055_0225.tiff\n",
      "/Users/j35/IPTS/IPTS-21632/Nov18_2019  raw/20191119_samples_2_3_10_run5_0055_0665.tiff\n",
      "/Users/j35/IPTS/IPTS-21632/Nov18_2019  raw/20191118_samples_2_3_10_run2_0055_0233.tiff\n",
      "/Users/j35/IPTS/IPTS-21632/Nov18_2019  raw/20191118_samples_2_3_10_run3_0055_0336.tiff\n",
      "/Users/j35/IPTS/IPTS-21632/Nov18_2019  raw/20191118_samples_2_3_10_run3_0055_0418.tiff\n",
      "/Users/j35/IPTS/IPTS-21632/Nov18_2019  raw/20191119_samples_2_3_10_run5_0055_0632.tiff\n",
      "/Users/j35/IPTS/IPTS-21632/Nov18_2019  raw/20191118_samples_2_3_10_run3_0055_0361.tiff\n",
      "/Users/j35/IPTS/IPTS-21632/Nov18_2019  raw/20191118_samples_2_3_10_run2_0055_0264.tiff\n",
      "/Users/j35/IPTS/IPTS-21632/Nov18_2019  raw/20191118_samples_2_3_10_run2_0055_0321.tiff\n",
      "/Users/j35/IPTS/IPTS-21632/Nov18_2019  raw/20191119_samples_2_3_10_run5_0055_0583.tiff\n",
      "/Users/j35/IPTS/IPTS-21632/Nov18_2019  raw/20191118_samples_2_3_10_run2_0055_0213.tiff\n",
      "/Users/j35/IPTS/IPTS-21632/Nov18_2019  raw/20191119_samples_2_3_10_run5_0055_0645.tiff\n",
      "/Users/j35/IPTS/IPTS-21632/Nov18_2019  raw/20191118_samples_2_3_10_run2_0055_0301.tiff\n",
      "/Users/j35/IPTS/IPTS-21632/Nov18_2019  raw/20191118_samples_2_3_10_run3_0055_0341.tiff\n",
      "/Users/j35/IPTS/IPTS-21632/Nov18_2019  raw/20191118_samples_2_3_10_run2_0055_0244.tiff\n",
      "/Users/j35/IPTS/IPTS-21632/Nov18_2019  raw/20191118_samples_2_3_10_run3_0055_0438.tiff\n",
      "/Users/j35/IPTS/IPTS-21632/Nov18_2019  raw/20191119_samples_2_3_10_run5_0055_0612.tiff\n",
      "/Users/j35/IPTS/IPTS-21632/Nov18_2019  raw/20191118_samples_2_3_10_run4_0055_0463.tiff\n",
      "/Users/j35/IPTS/IPTS-21632/Nov18_2019  raw/20191118_samples_2_3_10_run2_0055_0317.tiff\n",
      "/Users/j35/IPTS/IPTS-21632/Nov18_2019  raw/20191118_samples_2_3_10_run2_0055_0252.tiff\n",
      "/Users/j35/IPTS/IPTS-21632/Nov18_2019  raw/20191118_samples_2_3_10_run3_0055_0357.tiff\n",
      "/Users/j35/IPTS/IPTS-21632/Nov18_2019  raw/20191119_samples_2_3_10_run5_0055_0604.tiff\n",
      "/Users/j35/IPTS/IPTS-21632/Nov18_2019  raw/20191118_samples_2_3_10_run4_0055_0475.tiff\n",
      "/Users/j35/IPTS/IPTS-21632/Nov18_2019  raw/20191119_samples_2_3_10_run5_0055_0595.tiff\n",
      "/Users/j35/IPTS/IPTS-21632/Nov18_2019  raw/20191119_samples_2_3_10_run4_0055_0490.tiff\n",
      "/Users/j35/IPTS/IPTS-21632/Nov18_2019  raw/20191119_samples_2_3_10_run5_0055_0653.tiff\n",
      "/Users/j35/IPTS/IPTS-21632/Nov18_2019  raw/20191118_samples_2_3_10_run2_0055_0291.tiff\n",
      "/Users/j35/IPTS/IPTS-21632/Nov18_2019  raw/20191119_samples_2_3_10_run4_0055_0541.tiff\n",
      "/Users/j35/IPTS/IPTS-21632/Nov18_2019  raw/20191118_samples_2_3_10_run3_0055_0394.tiff\n",
      "/Users/j35/IPTS/IPTS-21632/Nov18_2019  raw/20191118_samples_2_3_10_run4_0055_0459.tiff\n",
      "/Users/j35/IPTS/IPTS-21632/Nov18_2019  raw/20191118_samples_2_3_10_run3_0055_0402.tiff\n",
      "/Users/j35/IPTS/IPTS-21632/Nov18_2019  raw/20191119_samples_2_3_10_run5_0055_0628.tiff\n",
      "/Users/j35/IPTS/IPTS-21632/Nov18_2019  raw/20191118_samples_2_3_10_run2_0055_0229.tiff\n",
      "/Users/j35/IPTS/IPTS-21632/Nov18_2019  raw/20191119_samples_2_3_10_run4_0055_0516.tiff\n",
      "/Users/j35/IPTS/IPTS-21632/Nov18_2019  raw/20191119_samples_2_3_10_run4_0055_0500.tiff\n",
      "/Users/j35/IPTS/IPTS-21632/Nov18_2019  raw/20191119_samples_2_3_10_run5_0055_0686.tiff\n",
      "/Users/j35/IPTS/IPTS-21632/Nov18_2019  raw/20191118_samples_2_3_10_run3_0055_0443.tiff\n",
      "/Users/j35/IPTS/IPTS-21632/Nov18_2019  raw/20191119_samples_2_3_10_run5_0055_0669.tiff\n",
      "/Users/j35/IPTS/IPTS-21632/Nov18_2019  raw/20191118_samples_2_3_10_run2_0055_0268.tiff\n",
      "/Users/j35/IPTS/IPTS-21632/Nov18_2019  raw/20191118_samples_2_3_10_run3_0055_0382.tiff\n",
      "/Users/j35/IPTS/IPTS-21632/Nov18_2019  raw/20191119_samples_2_3_10_run4_0055_0557.tiff\n",
      "/Users/j35/IPTS/IPTS-21632/Nov18_2019  raw/20191118_samples_2_3_10_run2_0055_0287.tiff\n",
      "/Users/j35/IPTS/IPTS-21632/Nov18_2019  raw/20191118_samples_2_3_10_run3_0055_0414.tiff\n",
      "/Users/j35/IPTS/IPTS-21632/Nov18_2019  raw/20191118_samples_2_3_10_run2_0055_0263.tiff\n",
      "/Users/j35/IPTS/IPTS-21632/Nov18_2019  raw/20191118_samples_2_3_10_run3_0055_0366.tiff\n",
      "/Users/j35/IPTS/IPTS-21632/Nov18_2019  raw/20191118_samples_2_3_10_run3_0055_0389.tiff\n",
      "/Users/j35/IPTS/IPTS-21632/Nov18_2019  raw/20191118_samples_2_3_10_run2_0055_0326.tiff\n",
      "/Users/j35/IPTS/IPTS-21632/Nov18_2019  raw/20191119_samples_2_3_10_run5_0055_0635.tiff\n",
      "/Users/j35/IPTS/IPTS-21632/Nov18_2019  raw/20191118_samples_2_3_10_run3_0055_0331.tiff\n",
      "/Users/j35/IPTS/IPTS-21632/Nov18_2019  raw/20191118_samples_2_3_10_run2_0055_0234.tiff\n",
      "/Users/j35/IPTS/IPTS-21632/Nov18_2019  raw/20191119_samples_2_3_10_run5_0055_0662.tiff\n",
      "/Users/j35/IPTS/IPTS-21632/Nov18_2019  raw/20191118_samples_2_3_10_run2_0055_0222.tiff\n",
      "/Users/j35/IPTS/IPTS-21632/Nov18_2019  raw/20191118_samples_2_3_10_run3_0055_0327.tiff\n",
      "/Users/j35/IPTS/IPTS-21632/Nov18_2019  raw/20191119_samples_2_3_10_run5_0055_0674.tiff\n",
      "/Users/j35/IPTS/IPTS-21632/Nov18_2019  raw/20191118_samples_2_3_10_run3_0055_0370.tiff\n",
      "/Users/j35/IPTS/IPTS-21632/Nov18_2019  raw/20191118_samples_2_3_10_run2_0055_0275.tiff\n",
      "/Users/j35/IPTS/IPTS-21632/Nov18_2019  raw/20191118_samples_2_3_10_run4_0055_0452.tiff\n",
      "/Users/j35/IPTS/IPTS-21632/Nov18_2019  raw/20191118_samples_2_3_10_run3_0055_0409.tiff\n",
      "/Users/j35/IPTS/IPTS-21632/Nov18_2019  raw/20191119_samples_2_3_10_run5_0055_0623.tiff\n",
      "/Users/j35/IPTS/IPTS-21632/Nov18_2019  raw/20191119_samples_2_3_10_run4_0055_0531.tiff\n",
      "/Users/j35/IPTS/IPTS-21632/Nov18_2019  raw/20191119_samples_2_3_10_run5_0055_0571.tiff\n",
      "/Users/j35/IPTS/IPTS-21632/Nov18_2019  raw/20191119_samples_2_3_10_run5_0055_0658.tiff\n",
      "/Users/j35/IPTS/IPTS-21632/Nov18_2019  raw/20191119_samples_2_3_10_run4_0055_0566.tiff\n",
      "/Users/j35/IPTS/IPTS-21632/Nov18_2019  raw/20191118_samples_2_3_10_run2_0055_0259.tiff\n",
      "/Users/j35/IPTS/IPTS-21632/Nov18_2019  raw/20191118_samples_2_3_10_run3_0055_0425.tiff\n",
      "/Users/j35/IPTS/IPTS-21632/Nov18_2019  raw/20191118_samples_2_3_10_run3_0055_0433.tiff\n",
      "/Users/j35/IPTS/IPTS-21632/Nov18_2019  raw/20191119_samples_2_3_10_run5_0055_0619.tiff\n",
      "/Users/j35/IPTS/IPTS-21632/Nov18_2019  raw/20191118_samples_2_3_10_run4_0055_0468.tiff\n",
      "/Users/j35/IPTS/IPTS-21632/Nov18_2019  raw/20191119_samples_2_3_10_run4_0055_0527.tiff\n",
      "/Users/j35/IPTS/IPTS-21632/Nov18_2019  raw/20191119_samples_2_3_10_run5_0055_0588.tiff\n",
      "/Users/j35/IPTS/IPTS-21632/Nov18_2019  raw/20191119_samples_2_3_10_run5_0055_0567.tiff\n",
      "/Users/j35/IPTS/IPTS-21632/Nov18_2019  raw/20191118_samples_2_3_10_run2_0055_0218.tiff\n",
      "/Users/j35/IPTS/IPTS-21632/Nov18_2019  raw/20191118_samples_2_3_10_run4_0055_0448.tiff\n",
      "/Users/j35/IPTS/IPTS-21632/Nov18_2019  raw/20191118_samples_2_3_10_run3_0055_0413.tiff\n",
      "/Users/j35/IPTS/IPTS-21632/Nov18_2019  raw/20191119_samples_2_3_10_run5_0055_0639.tiff\n",
      "/Users/j35/IPTS/IPTS-21632/Nov18_2019  raw/20191118_samples_2_3_10_run2_0055_0280.tiff\n",
      "/Users/j35/IPTS/IPTS-21632/Nov18_2019  raw/20191119_samples_2_3_10_run4_0055_0550.tiff\n",
      "/Users/j35/IPTS/IPTS-21632/Nov18_2019  raw/20191118_samples_2_3_10_run3_0055_0385.tiff\n",
      "/Users/j35/IPTS/IPTS-21632/Nov18_2019  raw/20191119_samples_2_3_10_run5_0055_0681.tiff\n",
      "/Users/j35/IPTS/IPTS-21632/Nov18_2019  raw/20191118_samples_2_3_10_run3_0055_0444.tiff\n",
      "/Users/j35/IPTS/IPTS-21632/Nov18_2019  raw/20191118_samples_2_3_10_run2_0055_0238.tiff\n",
      "/Users/j35/IPTS/IPTS-21632/Nov18_2019  raw/20191119_samples_2_3_10_run4_0055_0507.tiff\n",
      "/Users/j35/IPTS/IPTS-21632/Nov18_2019  raw/20191119_samples_2_3_10_run5_0055_0678.tiff\n",
      "/Users/j35/IPTS/IPTS-21632/Nov18_2019  raw/20191119_samples_2_3_10_run4_0055_0511.tiff\n",
      "/Users/j35/IPTS/IPTS-21632/Nov18_2019  raw/20191118_samples_2_3_10_run3_0055_0405.tiff\n",
      "/Users/j35/IPTS/IPTS-21632/Nov18_2019  raw/20191118_samples_2_3_10_run2_0055_0279.tiff\n",
      "/Users/j35/IPTS/IPTS-21632/Nov18_2019  raw/20191118_samples_2_3_10_run3_0055_0393.tiff\n",
      "/Users/j35/IPTS/IPTS-21632/Nov18_2019  raw/20191119_samples_2_3_10_run4_0055_0546.tiff\n",
      "/Users/j35/IPTS/IPTS-21632/Nov18_2019  raw/20191118_samples_2_3_10_run2_0055_0296.tiff\n",
      "/Users/j35/IPTS/IPTS-21632/Nov18_2019  raw/20191119_samples_2_3_10_run5_0055_0654.tiff\n",
      "/Users/j35/IPTS/IPTS-21632/Nov18_2019  raw/20191119_samples_2_3_10_run4_0055_0497.tiff\n",
      "/Users/j35/IPTS/IPTS-21632/Nov18_2019  raw/20191119_samples_2_3_10_run5_0055_0592.tiff\n",
      "/Users/j35/IPTS/IPTS-21632/Nov18_2019  raw/20191118_samples_2_3_10_run3_0055_0429.tiff\n",
      "/Users/j35/IPTS/IPTS-21632/Nov18_2019  raw/20191119_samples_2_3_10_run5_0055_0603.tiff\n",
      "/Users/j35/IPTS/IPTS-21632/Nov18_2019  raw/20191118_samples_2_3_10_run4_0055_0472.tiff\n",
      "/Users/j35/IPTS/IPTS-21632/Nov18_2019  raw/20191118_samples_2_3_10_run2_0055_0310.tiff\n",
      "/Users/j35/IPTS/IPTS-21632/Nov18_2019  raw/20191118_samples_2_3_10_run3_0055_0350.tiff\n",
      "/Users/j35/IPTS/IPTS-21632/Nov18_2019  raw/20191118_samples_2_3_10_run2_0055_0255.tiff\n",
      "/Users/j35/IPTS/IPTS-21632/Nov18_2019  raw/20191119_samples_2_3_10_run5_0055_0615.tiff\n",
      "/Users/j35/IPTS/IPTS-21632/Nov18_2019  raw/20191118_samples_2_3_10_run4_0055_0464.tiff\n",
      "/Users/j35/IPTS/IPTS-21632/Nov18_2019  raw/20191118_samples_2_3_10_run2_0055_0306.tiff\n",
      "/Users/j35/IPTS/IPTS-21632/Nov18_2019  raw/20191118_samples_2_3_10_run2_0055_0243.tiff\n",
      "/Users/j35/IPTS/IPTS-21632/Nov18_2019  raw/20191118_samples_2_3_10_run3_0055_0346.tiff\n",
      "/Users/j35/IPTS/IPTS-21632/Nov18_2019  raw/20191119_samples_2_3_10_run5_0055_0642.tiff\n",
      "/Users/j35/IPTS/IPTS-21632/Nov18_2019  raw/20191119_samples_2_3_10_run5_0055_0584.tiff\n",
      "/Users/j35/IPTS/IPTS-21632/Nov18_2019  raw/20191118_samples_2_3_10_run2_0055_0214.tiff\n",
      "/Users/j35/IPTS/IPTS-21632/Nov18_2019  raw/20191119_samples_2_3_10_run5_0055_0585.tiff\n",
      "/Users/j35/IPTS/IPTS-21632/Nov18_2019  raw/20191118_samples_2_3_10_run2_0055_0215.tiff\n",
      "/Users/j35/IPTS/IPTS-21632/Nov18_2019  raw/20191119_samples_2_3_10_run5_0055_0643.tiff\n",
      "/Users/j35/IPTS/IPTS-21632/Nov18_2019  raw/20191118_samples_2_3_10_run2_0055_0307.tiff\n",
      "/Users/j35/IPTS/IPTS-21632/Nov18_2019  raw/20191118_samples_2_3_10_run2_0055_0242.tiff\n",
      "/Users/j35/IPTS/IPTS-21632/Nov18_2019  raw/20191118_samples_2_3_10_run3_0055_0347.tiff\n",
      "/Users/j35/IPTS/IPTS-21632/Nov18_2019  raw/20191119_samples_2_3_10_run5_0055_0614.tiff\n",
      "/Users/j35/IPTS/IPTS-21632/Nov18_2019  raw/20191118_samples_2_3_10_run4_0055_0465.tiff\n",
      "/Users/j35/IPTS/IPTS-21632/Nov18_2019  raw/20191118_samples_2_3_10_run2_0055_0311.tiff\n",
      "/Users/j35/IPTS/IPTS-21632/Nov18_2019  raw/20191118_samples_2_3_10_run3_0055_0351.tiff\n",
      "/Users/j35/IPTS/IPTS-21632/Nov18_2019  raw/20191118_samples_2_3_10_run2_0055_0254.tiff\n",
      "/Users/j35/IPTS/IPTS-21632/Nov18_2019  raw/20191118_samples_2_3_10_run3_0055_0428.tiff\n",
      "/Users/j35/IPTS/IPTS-21632/Nov18_2019  raw/20191119_samples_2_3_10_run5_0055_0602.tiff\n",
      "/Users/j35/IPTS/IPTS-21632/Nov18_2019  raw/20191118_samples_2_3_10_run4_0055_0473.tiff\n",
      "/Users/j35/IPTS/IPTS-21632/Nov18_2019  raw/20191119_samples_2_3_10_run4_0055_0496.tiff\n",
      "/Users/j35/IPTS/IPTS-21632/Nov18_2019  raw/20191119_samples_2_3_10_run5_0055_0593.tiff\n",
      "/Users/j35/IPTS/IPTS-21632/Nov18_2019  raw/20191119_samples_2_3_10_run5_0055_0655.tiff\n",
      "/Users/j35/IPTS/IPTS-21632/Nov18_2019  raw/20191118_samples_2_3_10_run2_0055_0278.tiff\n",
      "/Users/j35/IPTS/IPTS-21632/Nov18_2019  raw/20191119_samples_2_3_10_run4_0055_0547.tiff\n",
      "/Users/j35/IPTS/IPTS-21632/Nov18_2019  raw/20191118_samples_2_3_10_run3_0055_0392.tiff\n",
      "/Users/j35/IPTS/IPTS-21632/Nov18_2019  raw/20191118_samples_2_3_10_run2_0055_0297.tiff\n",
      "/Users/j35/IPTS/IPTS-21632/Nov18_2019  raw/20191118_samples_2_3_10_run3_0055_0404.tiff\n",
      "/Users/j35/IPTS/IPTS-21632/Nov18_2019  raw/20191119_samples_2_3_10_run4_0055_0510.tiff\n",
      "/Users/j35/IPTS/IPTS-21632/Nov18_2019  raw/20191119_samples_2_3_10_run5_0055_0679.tiff\n",
      "/Users/j35/IPTS/IPTS-21632/Nov18_2019  raw/20191118_samples_2_3_10_run2_0055_0239.tiff\n",
      "/Users/j35/IPTS/IPTS-21632/Nov18_2019  raw/20191119_samples_2_3_10_run4_0055_0506.tiff\n",
      "/Users/j35/IPTS/IPTS-21632/Nov18_2019  raw/20191119_samples_2_3_10_run5_0055_0680.tiff\n",
      "/Users/j35/IPTS/IPTS-21632/Nov18_2019  raw/20191118_samples_2_3_10_run3_0055_0445.tiff\n",
      "/Users/j35/IPTS/IPTS-21632/Nov18_2019  raw/20191118_samples_2_3_10_run2_0055_0281.tiff\n",
      "/Users/j35/IPTS/IPTS-21632/Nov18_2019  raw/20191118_samples_2_3_10_run3_0055_0384.tiff\n",
      "/Users/j35/IPTS/IPTS-21632/Nov18_2019  raw/20191119_samples_2_3_10_run4_0055_0551.tiff\n",
      "/Users/j35/IPTS/IPTS-21632/Nov18_2019  raw/20191118_samples_2_3_10_run4_0055_0449.tiff\n",
      "/Users/j35/IPTS/IPTS-21632/Nov18_2019  raw/20191118_samples_2_3_10_run3_0055_0412.tiff\n",
      "/Users/j35/IPTS/IPTS-21632/Nov18_2019  raw/20191119_samples_2_3_10_run5_0055_0638.tiff\n",
      "/Users/j35/IPTS/IPTS-21632/Nov18_2019  raw/20191119_samples_2_3_10_run4_0055_0526.tiff\n",
      "/Users/j35/IPTS/IPTS-21632/Nov18_2019  raw/20191119_samples_2_3_10_run5_0055_0589.tiff\n",
      "/Users/j35/IPTS/IPTS-21632/Nov18_2019  raw/20191118_samples_2_3_10_run2_0055_0219.tiff\n",
      "/Users/j35/IPTS/IPTS-21632/Nov18_2019  raw/20191118_samples_2_3_10_run3_0055_0432.tiff\n",
      "/Users/j35/IPTS/IPTS-21632/Nov18_2019  raw/20191118_samples_2_3_10_run4_0055_0486.tiff\n",
      "/Users/j35/IPTS/IPTS-21632/Nov18_2019  raw/20191119_samples_2_3_10_run5_0055_0618.tiff\n",
      "/Users/j35/IPTS/IPTS-21632/Nov18_2019  raw/20191118_samples_2_3_10_run4_0055_0469.tiff\n",
      "/Users/j35/IPTS/IPTS-21632/Nov18_2019  raw/20191118_samples_2_3_10_run3_0055_0424.tiff\n",
      "/Users/j35/IPTS/IPTS-21632/Nov18_2019  raw/20191118_samples_2_3_10_run2_0055_0258.tiff\n",
      "/Users/j35/IPTS/IPTS-21632/Nov18_2019  raw/20191119_samples_2_3_10_run5_0055_0659.tiff\n",
      "/Users/j35/IPTS/IPTS-21632/Nov18_2019  raw/20191119_samples_2_3_10_run4_0055_0530.tiff\n",
      "/Users/j35/IPTS/IPTS-21632/Nov18_2019  raw/20191119_samples_2_3_10_run5_0055_0570.tiff\n",
      "/Users/j35/IPTS/IPTS-21632/Nov18_2019  raw/20191118_samples_2_3_10_run4_0055_0453.tiff\n",
      "/Users/j35/IPTS/IPTS-21632/Nov18_2019  raw/20191118_samples_2_3_10_run3_0055_0408.tiff\n",
      "/Users/j35/IPTS/IPTS-21632/Nov18_2019  raw/20191119_samples_2_3_10_run5_0055_0622.tiff\n",
      "/Users/j35/IPTS/IPTS-21632/Nov18_2019  raw/20191118_samples_2_3_10_run3_0055_0371.tiff\n",
      "/Users/j35/IPTS/IPTS-21632/Nov18_2019  raw/20191118_samples_2_3_10_run2_0055_0274.tiff\n",
      "/Users/j35/IPTS/IPTS-21632/Nov18_2019  raw/20191119_samples_2_3_10_run5_0055_0675.tiff\n",
      "/Users/j35/IPTS/IPTS-21632/Nov18_2019  raw/20191118_samples_2_3_10_run2_0055_0223.tiff\n",
      "/Users/j35/IPTS/IPTS-21632/Nov18_2019  raw/20191118_samples_2_3_10_run1_0055_0086.tiff\n",
      "/Users/j35/IPTS/IPTS-21632/Nov18_2019  raw/20191119_samples_2_3_10_run5_0055_0663.tiff\n",
      "/Users/j35/IPTS/IPTS-21632/Nov18_2019  raw/20191118_samples_2_3_10_run3_0055_0330.tiff\n",
      "/Users/j35/IPTS/IPTS-21632/Nov18_2019  raw/20191118_samples_2_3_10_run2_0055_0235.tiff\n",
      "/Users/j35/IPTS/IPTS-21632/Nov18_2019  raw/20191119_samples_2_3_10_run5_0055_0634.tiff\n",
      "/Users/j35/IPTS/IPTS-21632/Nov18_2019  raw/20191118_samples_2_3_10_run2_0055_0262.tiff\n",
      "/Users/j35/IPTS/IPTS-21632/Nov18_2019  raw/20191118_samples_2_3_10_run3_0055_0367.tiff\n",
      "/Users/j35/IPTS/IPTS-21632/Nov18_2019  raw/20191118_samples_2_3_10_run3_0055_0388.tiff\n"
     ]
    }
   ],
   "source": [
    "for path, subdirs, files in os.walk(\"/Users/j35/IPTS/IPTS-21632/\"):\n",
    "    for name in files:\n",
    "        print(os.path.join(path, name))"
   ]
  },
  {
   "cell_type": "markdown",
   "metadata": {},
   "source": [
    "# using glob "
   ]
  },
  {
   "cell_type": "code",
   "execution_count": null,
   "metadata": {},
   "outputs": [],
   "source": [
    "from __code.which_ob_and_df_to_use import WhichOBandDFtoUse, MetadataName\n",
    "\n",
    "o_which = WhichOBandDFtoUse(working_dir='/Users/j35/IPTS/IPTS-21632')\n",
    "\n",
    "import glob\n",
    "list_files = glob.glob(\"/Users/j35/IPTS/IPTS-21632/Nov18_2019/*.tiff\") \n",
    "\n",
    "o_which.retrieve_sample_metadata(list_files)\n",
    "\n",
    "ob_folder = \"/Users/j35/IPTS/IPTS-21632/OB/Nov18_2019/\"\n",
    "o_which.retrieve_ob_metadata(ob_folder)\n",
    "\n",
    "df_folder = \"/Users/j35/IPTS/IPTS-21632/DF/Nov18_2019/\"\n",
    "o_which.retrieve_df_metadata(df_folder)"
   ]
  },
  {
   "cell_type": "code",
   "execution_count": null,
   "metadata": {},
   "outputs": [],
   "source": [
    "o_which.match_files()\n",
    "o_which.calculate_first_and_last_ob()\n",
    "o_which.calculate_time_range()\n",
    "o_which.display_time_range_selection_widgets()"
   ]
  },
  {
   "cell_type": "code",
   "execution_count": null,
   "metadata": {},
   "outputs": [],
   "source": [
    "o_which.create_final_json()"
   ]
  },
  {
   "cell_type": "markdown",
   "metadata": {},
   "source": [
    "# Select the maximum time range to use to consider the open beams"
   ]
  },
  {
   "cell_type": "markdown",
   "metadata": {},
   "source": [
    "Select how many hours before the first run, and after the last run, you want to accept the OB"
   ]
  },
  {
   "cell_type": "code",
   "execution_count": null,
   "metadata": {},
   "outputs": [],
   "source": [
    "o_which.ob_time_stamp_dict"
   ]
  },
  {
   "cell_type": "code",
   "execution_count": null,
   "metadata": {},
   "outputs": [],
   "source": [
    "o_which.select_time_range()"
   ]
  },
  {
   "cell_type": "markdown",
   "metadata": {},
   "source": [
    "New requirements:\n",
    " * no need to check for time range of DF, just pick all the DF with the same acquisition time from the DF folder + check that total counts is < 900 counts. Provide the option to look into another IPTS\n",
    " * OB: make sure the following matches\n",
    "     * check for acquisition time\n",
    "     * detector type\n",
    "     * slits position\n",
    "     * aperture value\n",
    " "
   ]
  },
  {
   "cell_type": "code",
   "execution_count": null,
   "metadata": {},
   "outputs": [],
   "source": [
    "import ipywidgets as widgets"
   ]
  },
  {
   "cell_type": "code",
   "execution_count": null,
   "metadata": {},
   "outputs": [],
   "source": [
    "\n",
    "tab_contents = ['P0', 'P1', 'P2', 'P3', 'P4']\n",
    "children = [widgets.Text(description=name) for name in tab_contents]\n",
    "tab = widgets.Tab()\n",
    "tab.children = children\n",
    "for i in range(len(children)):\n",
    "    tab.set_title(i, str(i))\n",
    "tab.children = tab.children + (widgets.Text(\"ddfdfdfdf\"),)\n",
    "tab.set_title(5, \"yo\")\n",
    "tab"
   ]
  },
  {
   "cell_type": "code",
   "execution_count": null,
   "metadata": {},
   "outputs": [],
   "source": [
    "tab.children"
   ]
  },
  {
   "cell_type": "code",
   "execution_count": null,
   "metadata": {},
   "outputs": [],
   "source": []
  }
 ],
 "metadata": {
  "anaconda-cloud": {},
  "kernelspec": {
   "display_name": "Python 3",
   "language": "python",
   "name": "python3"
  },
  "language_info": {
   "codemirror_mode": {
    "name": "ipython",
    "version": 3
   },
   "file_extension": ".py",
   "mimetype": "text/x-python",
   "name": "python",
   "nbconvert_exporter": "python",
   "pygments_lexer": "ipython3",
   "version": "3.6.9"
  },
  "toc": {
   "colors": {
    "hover_highlight": "#DAA520",
    "running_highlight": "#FF0000",
    "selected_highlight": "#FFD700"
   },
   "moveMenuLeft": true,
   "nav_menu": {
    "height": "210px",
    "width": "252px"
   },
   "navigate_menu": true,
   "number_sections": true,
   "sideBar": true,
   "threshold": 4,
   "toc_cell": false,
   "toc_section_display": "block",
   "toc_window_display": false
  }
 },
 "nbformat": 4,
 "nbformat_minor": 1
}
