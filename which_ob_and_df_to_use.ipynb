{
 "cells": [
  {
   "cell_type": "markdown",
   "metadata": {},
   "source": [
    "[![Notebook Tutorial](__code/__all/notebook_tutorial.png)](https://neutronimaging.pages.ornl.gov/en/tutorial/notebooks/which_ob_and_df_to_use)\n",
    "\n",
    "<img src='__docs/__all/notebook_rules.png' />"
   ]
  },
  {
   "cell_type": "markdown",
   "metadata": {
    "run_control": {
     "frozen": false,
     "read_only": false
    }
   },
   "source": [
    "# Select Your IPTS "
   ]
  },
  {
   "cell_type": "code",
   "execution_count": 1,
   "metadata": {
    "run_control": {
     "frozen": false,
     "read_only": false
    }
   },
   "outputs": [
    {
     "data": {
      "text/html": [
       "\n",
       "<style type=\"text/css\">\n",
       ".jupyter-widgets select option {font-family: \"Lucida Console\", Monaco, monospace;}\n",
       ".jupyter-widgets select {width: 98%;}\n",
       "div.output_subarea {padding: 0px;}\n",
       "div.output_subarea > div {margin: 0.4em;}\n",
       "</style>\n"
      ],
      "text/plain": [
       "<IPython.core.display.HTML object>"
      ]
     },
     "metadata": {},
     "output_type": "display_data"
    },
    {
     "data": {
      "text/html": [
       "\n",
       "                       <style>\n",
       "                       .result_label {\n",
       "                          font-style: bold;\n",
       "                          color: red;\n",
       "                          font-size: 18px;\n",
       "                       }\n",
       "                       </style>\n",
       "                       "
      ],
      "text/plain": [
       "<IPython.core.display.HTML object>"
      ]
     },
     "metadata": {},
     "output_type": "display_data"
    },
    {
     "name": "stdout",
     "output_type": "stream",
     "text": [
      "** Using Debugging Mode! **\n"
     ]
    },
    {
     "data": {
      "application/vnd.jupyter.widget-view+json": {
       "model_id": "d7c0eec9092a4ed894abcef3cacc6b3f",
       "version_major": 2,
       "version_minor": 0
      },
      "text/plain": [
       "VBox(children=(HBox(children=(Label(value='Select Instrument', layout=Layout(width='20%')), Select(layout=Layo…"
      ]
     },
     "metadata": {},
     "output_type": "display_data"
    },
    {
     "data": {
      "text/html": [
       "<style>\n",
       "\n",
       "/* The following CSS has been adapted from\n",
       "   http://nbviewer.ipython.org/github/ketch/teaching-numerics-with-notebooks/blob/master/Styling_notebooks.ipynb\n",
       "   by Aron Ahmadia and David Ketcheson and has been reused under CC BY 4.0\n",
       "   */\n",
       "\n",
       "/* main background */\n",
       "#site { \n",
       "    background: #888;\n",
       "    color: #red; \n",
       "}\n",
       "\n",
       "div.container {\n",
       "    width: 100% ! important;\n",
       "}\n",
       "\n",
       "div.cell { /* set cell width to about 80 chars */\n",
       "    width: 95%;\n",
       "}\n",
       "\n",
       "div #notebook { /* centre the content */\n",
       "/*    background: #fff; /* white background for content */\n",
       "    background: blue;\n",
       "    width: 100%;\n",
       "    margin: auto;\n",
       "    padding-left: 1em;\n",
       "    padding-right: 1em;\n",
       "    background-image: url(\"tile_background.jpg\");\n",
       "}\n",
       "\n",
       "#notebook li { /* More space between bullet points */\n",
       "    margin-top:0.4em;\n",
       "}\n",
       "\n",
       "/* change background color of running cells */\n",
       "div.cell.code_cell.running {\n",
       "/*    background-color: rgba(164,188,194,.75); */\n",
       "    background-color: green;\n",
       "    border-width: 8px\n",
       "    border-style: solid\n",
       "    border-color: #111;\n",
       "}\n",
       "\n",
       "/* Put a solid color box around each cell and its output, visually linking them together */\n",
       "div.cell.code_cell {\n",
       "    background-color: rgba(164,188,194,.25); /* Continuum L Gray with alpha 0.25 */\n",
       "    border-radius: 10px; /* rounded borders */\n",
       "    padding: 1em;\n",
       "    margin-top: 1em;\n",
       "}\n",
       "\n",
       "div.text_cell_render{\n",
       "\tfont-family: Georgia, Times, 'Times New Roman', serif;\n",
       "    line-height: 110%;\n",
       "    font-size: 105%;\n",
       "    width: 95%;\n",
       "    margin-left: auto;\n",
       "    margin-right: auto;\n",
       "}\n",
       "\n",
       "\n",
       "/* Formatting for header cells */\n",
       ".text_cell_render h1 {\n",
       "\tfont-family: Arial, 'Helvetica Neue', Helvetica, sans-serif;\n",
       "    font-weight: 400;\n",
       "    font-size: 30pt;\n",
       "    line-height: 100%;\n",
       "    color: rgb(37,55,70); /* Continuum Blue*/\n",
       "    margin-bottom: 0.1em;\n",
       "    margin-top: 0.1em;\n",
       "    display: block;\n",
       "}\n",
       ".text_cell_render h2 {\n",
       "\tfont-family: Arial, 'Helvetica Neue', Helvetica, sans-serif;\n",
       "    font-weight: 700;\n",
       "    font-size: 22pt;\n",
       "    line-height: 100%;\n",
       "    color: rgb(37,55,70);\n",
       "    margin-bottom: 0.1em;\n",
       "    margin-top: 0.1em;\n",
       "    display: block;\n",
       "}\n",
       "\n",
       ".text_cell_render h3 {\n",
       "\tfont-family: Arial, 'Helvetica Neue', Helvetica, sans-serif;\n",
       "    margin-top:12px;\n",
       "    margin-bottom: 3px;\n",
       "    font-style: italic;\n",
       "    color: rgb(37, 55, 70);\n",
       "}\n",
       "\n",
       ".text_cell_render h4 {\n",
       "\tfont-family: Arial, 'Helvetica Neue', Helvetica, sans-serif;\n",
       "}\n",
       "\n",
       ".text_cell_render h5 {\n",
       "\tfont-family: Arial, 'Helvetica Neue', Helvetica, sans-serif;\n",
       "    font-weight: 300;\n",
       "    font-size: 14pt;\n",
       "    font-style: italic;\n",
       "    margin-bottom: .1em;\n",
       "    margin-top: 0.1em;\n",
       "    display: block;\n",
       "}\n",
       "\n",
       ".text_cell_render h6 {\n",
       "\tfont-family: Arial, 'Helvetica Neue', Helvetica, sans-serif;\n",
       "    font-weight: 300;\n",
       "    font-size: 10pt;\n",
       "    margin-bottom: 1px;\n",
       "    margin-top: 1px;\n",
       "}\n",
       "\n",
       ".CodeMirror{\n",
       "        font-family: \"PT Mono\", fixed;\n",
       "        font-size: 100%;\n",
       "}\n",
       "\n",
       "#notebook_panel { /* main background */\n",
       "    background-image: url(\"tile_background.jpg\");\n",
       "}\n",
       "\n",
       "\n",
       "\n",
       "\n",
       "</style>\n"
      ],
      "text/plain": [
       "<IPython.core.display.HTML object>"
      ]
     },
     "execution_count": 1,
     "metadata": {},
     "output_type": "execute_result"
    }
   ],
   "source": [
    "from __code.which_ob_and_df_to_use import WhichOBandDFtoUse\n",
    "from __code import system\n",
    "system.System.select_working_dir()\n",
    "from __code.__all import custom_style\n",
    "custom_style.style()"
   ]
  },
  {
   "cell_type": "markdown",
   "metadata": {
    "run_control": {
     "frozen": false,
     "read_only": false
    }
   },
   "source": [
    "# Select List of Images to Normalize "
   ]
  },
  {
   "cell_type": "markdown",
   "metadata": {},
   "source": [
    "!! Make sure they have the same **acquisition time** as the info of the first image only will be used"
   ]
  },
  {
   "cell_type": "code",
   "execution_count": 2,
   "metadata": {
    "run_control": {
     "frozen": false,
     "read_only": false
    }
   },
   "outputs": [
    {
     "data": {
      "application/vnd.jupyter.widget-view+json": {
       "model_id": "",
       "version_major": 2,
       "version_minor": 0
      },
      "text/plain": [
       "VBox(children=(Label(value='select folder of datato normalize', layout=Layout(width='250px')), VBox(children=(…"
      ]
     },
     "metadata": {},
     "output_type": "display_data"
    },
    {
     "data": {
      "text/html": [
       "<script>alert('Please select file(s)');</script>"
      ],
      "text/plain": [
       "<IPython.core.display.HTML object>"
      ]
     },
     "metadata": {},
     "output_type": "display_data"
    },
    {
     "data": {
      "application/vnd.jupyter.widget-view+json": {
       "model_id": "",
       "version_major": 2,
       "version_minor": 0
      },
      "text/plain": [
       "HBox(children=(Label(value='Retrieving Time Stamp', layout=Layout(width='20%')), IntProgress(value=0, layout=L…"
      ]
     },
     "metadata": {},
     "output_type": "display_data"
    },
    {
     "data": {
      "text/html": [
       "<span style=\"font-size: 20px; color:blue\">Nbr of images: 21</span"
      ],
      "text/plain": [
       "<IPython.core.display.HTML object>"
      ]
     },
     "metadata": {},
     "output_type": "display_data"
    },
    {
     "data": {
      "text/html": [
       "<span style=\"font-size: 20px; color:blue\">First image was taken at : 2019-11-18 16:08:47</span>"
      ],
      "text/plain": [
       "<IPython.core.display.HTML object>"
      ]
     },
     "metadata": {},
     "output_type": "display_data"
    },
    {
     "data": {
      "text/html": [
       "<span style=\"font-size: 20px; color:blue\">Last image was taken at : 2019-11-18 19:12:05</span>"
      ],
      "text/plain": [
       "<IPython.core.display.HTML object>"
      ]
     },
     "metadata": {},
     "output_type": "display_data"
    }
   ],
   "source": [
    "o_which = WhichOBandDFtoUse(working_dir=system.System.get_working_dir())\n",
    "o_which.select_images()"
   ]
  },
  {
   "cell_type": "markdown",
   "metadata": {},
   "source": [
    "# FOR DEBUGGING ONLY"
   ]
  },
  {
   "cell_type": "code",
   "execution_count": 10,
   "metadata": {},
   "outputs": [
    {
     "data": {
      "application/vnd.jupyter.widget-view+json": {
       "model_id": "",
       "version_major": 2,
       "version_minor": 0
      },
      "text/plain": [
       "HBox(children=(Label(value='Retrieving Time Stamp', layout=Layout(width='20%')), IntProgress(value=0, layout=L…"
      ]
     },
     "metadata": {},
     "output_type": "display_data"
    },
    {
     "data": {
      "text/html": [
       "<span style=\"font-size: 20px; color:blue\">Nbr of images: 20</span"
      ],
      "text/plain": [
       "<IPython.core.display.HTML object>"
      ]
     },
     "metadata": {},
     "output_type": "display_data"
    },
    {
     "data": {
      "text/html": [
       "<span style=\"font-size: 20px; color:blue\">First image was taken at : 2019-11-18 16:08:47</span>"
      ],
      "text/plain": [
       "<IPython.core.display.HTML object>"
      ]
     },
     "metadata": {},
     "output_type": "display_data"
    },
    {
     "data": {
      "text/html": [
       "<span style=\"font-size: 20px; color:blue\">Last image was taken at : 2019-11-18 19:11:05</span>"
      ],
      "text/plain": [
       "<IPython.core.display.HTML object>"
      ]
     },
     "metadata": {},
     "output_type": "display_data"
    }
   ],
   "source": [
    "from __code.which_ob_and_df_to_use import WhichOBandDFtoUse\n",
    "import glob \n",
    "import os\n",
    "\n",
    "folder_selected = '/Users/j35/IPTS/IPTS-21632/Nov18_2019/'\n",
    "list_of_images = glob.glob(folder_selected + '*.tiff')\n",
    "list_of_images.sort()\n",
    "list_of_images = list_of_images[:20]\n",
    "o_which = WhichOBandDFtoUse(working_dir='/Users/j35/IPTS/IPTS-21632')\n",
    "o_which.retrieve_sample_metadata(list_of_images)"
   ]
  },
  {
   "cell_type": "code",
   "execution_count": 11,
   "metadata": {},
   "outputs": [
    {
     "data": {
      "application/vnd.jupyter.widget-view+json": {
       "model_id": "",
       "version_major": 2,
       "version_minor": 0
      },
      "text/plain": [
       "HBox(children=(Label(value='Retrieving Time Stamp', layout=Layout(width='20%')), IntProgress(value=0, layout=L…"
      ]
     },
     "metadata": {},
     "output_type": "display_data"
    },
    {
     "data": {
      "text/html": [
       "<span style=\"font-size: 20px; color:blue\">Nbr of images: 23</span"
      ],
      "text/plain": [
       "<IPython.core.display.HTML object>"
      ]
     },
     "metadata": {},
     "output_type": "display_data"
    },
    {
     "data": {
      "text/html": [
       "<span style=\"font-size: 20px; color:blue\">First image was taken at : 2019-11-18 13:01:55</span>"
      ],
      "text/plain": [
       "<IPython.core.display.HTML object>"
      ]
     },
     "metadata": {},
     "output_type": "display_data"
    },
    {
     "data": {
      "text/html": [
       "<span style=\"font-size: 20px; color:blue\">Last image was taken at : 2019-11-18 15:06:12</span>"
      ],
      "text/plain": [
       "<IPython.core.display.HTML object>"
      ]
     },
     "metadata": {},
     "output_type": "display_data"
    }
   ],
   "source": [
    "#o_which.select_ob_folder()\n",
    "ob_folder = '/Users/j35/IPTS/IPTS-21632/OB/Nov18_2019/'\n",
    "os.path.exists(ob_folder)\n",
    "o_which.retrieve_ob_metadata(ob_folder)"
   ]
  },
  {
   "cell_type": "code",
   "execution_count": 12,
   "metadata": {},
   "outputs": [
    {
     "data": {
      "application/vnd.jupyter.widget-view+json": {
       "model_id": "",
       "version_major": 2,
       "version_minor": 0
      },
      "text/plain": [
       "HBox(children=(Label(value='Retrieving Time Stamp', layout=Layout(width='20%')), IntProgress(value=0, layout=L…"
      ]
     },
     "metadata": {},
     "output_type": "display_data"
    },
    {
     "data": {
      "text/html": [
       "<span style=\"font-size: 20px; color:blue\">Nbr of images: 10</span"
      ],
      "text/plain": [
       "<IPython.core.display.HTML object>"
      ]
     },
     "metadata": {},
     "output_type": "display_data"
    },
    {
     "data": {
      "text/html": [
       "<span style=\"font-size: 20px; color:blue\">First image was taken at : 2019-11-18 09:54:31</span>"
      ],
      "text/plain": [
       "<IPython.core.display.HTML object>"
      ]
     },
     "metadata": {},
     "output_type": "display_data"
    },
    {
     "data": {
      "text/html": [
       "<span style=\"font-size: 20px; color:blue\">Last image was taken at : 2019-11-18 10:03:30</span>"
      ],
      "text/plain": [
       "<IPython.core.display.HTML object>"
      ]
     },
     "metadata": {},
     "output_type": "display_data"
    }
   ],
   "source": [
    "#o_which.select_df_folder()\n",
    "df_folder = '/Users/j35/IPTS/IPTS-21632/DF/Nov18_2019/'\n",
    "o_which.retrieve_df_metadata(df_folder)"
   ]
  },
  {
   "cell_type": "code",
   "execution_count": 13,
   "metadata": {},
   "outputs": [
    {
     "data": {
      "application/vnd.jupyter.widget-view+json": {
       "model_id": "71668cbc18ca4addaf0742357d9429b4",
       "version_major": 2,
       "version_minor": 0
      },
      "text/plain": [
       "Tab(children=(Tab(children=(VBox(children=(HBox(children=(Checkbox(value=False, description='Use custom time r…"
      ]
     },
     "metadata": {},
     "output_type": "display_data"
    }
   ],
   "source": [
    "o_which.match_files()\n",
    "o_which.calculate_first_and_last_ob()\n",
    "o_which.calculate_time_range()\n",
    "o_which.calculate_time_range()\n",
    "o_which.display_time_range_selection_widgets()"
   ]
  },
  {
   "cell_type": "code",
   "execution_count": 5,
   "metadata": {
    "scrolled": false
   },
   "outputs": [
    {
     "name": "stdout",
     "output_type": "stream",
     "text": [
      "working on acquisition: 55.0\n",
      "working on this config: config0\n"
     ]
    }
   ],
   "source": [
    "o_which.create_final_json()"
   ]
  },
  {
   "cell_type": "markdown",
   "metadata": {},
   "source": [
    "# DEBUGGING ONLY"
   ]
  },
  {
   "cell_type": "markdown",
   "metadata": {},
   "source": [
    "# using json"
   ]
  },
  {
   "cell_type": "code",
   "execution_count": 1,
   "metadata": {},
   "outputs": [
    {
     "data": {
      "text/html": [
       "\n",
       "<style type=\"text/css\">\n",
       ".jupyter-widgets select option {font-family: \"Lucida Console\", Monaco, monospace;}\n",
       ".jupyter-widgets select {width: 98%;}\n",
       "div.output_subarea {padding: 0px;}\n",
       "div.output_subarea > div {margin: 0.4em;}\n",
       "</style>\n"
      ],
      "text/plain": [
       "<IPython.core.display.HTML object>"
      ]
     },
     "metadata": {},
     "output_type": "display_data"
    }
   ],
   "source": [
    "from __code.which_ob_and_df_to_use import WhichOBandDFtoUse\n",
    "\n",
    "import json\n",
    "\n",
    "with open('./__code/test/data/which_ob_and_df_to_use.json') as json_file:\n",
    "    data = json.load(json_file)\n",
    "\n",
    "o_which = WhichOBandDFtoUse(working_dir='/Users/j35/IPTS/IPTS-21632')\n",
    "o_which.final_full_master_dict = data"
   ]
  },
  {
   "cell_type": "code",
   "execution_count": 2,
   "metadata": {
    "scrolled": false
   },
   "outputs": [
    {
     "data": {
      "application/vnd.jupyter.widget-view+json": {
       "model_id": "9b5842b2a4f04846a51a2d3ffd244f20",
       "version_major": 2,
       "version_minor": 0
      },
      "text/plain": [
       "Tab(children=(Tab(children=(VBox(children=(HBox(children=(Checkbox(value=False, description='Use custom time r…"
      ]
     },
     "metadata": {},
     "output_type": "display_data"
    }
   ],
   "source": [
    "o_which.match_files()\n",
    "o_which.calculate_first_and_last_ob()\n",
    "o_which.calculate_time_range()\n",
    "o_which.display_time_range_selection_widgets()"
   ]
  },
  {
   "cell_type": "markdown",
   "metadata": {},
   "source": [
    "FIXME: Create a method that check if all the acquisition and config have at least the minimum requirements to run a normalization (1 OB)"
   ]
  },
  {
   "cell_type": "code",
   "execution_count": 4,
   "metadata": {},
   "outputs": [
    {
     "name": "stdout",
     "output_type": "stream",
     "text": [
      "{'200': {'config0': {'list_df': ['/Users/j35/IPTS/IPTS-21632/DF/Nov18_2019/20191118_DF_0055_0001.tiff',\n",
      "                                 '/Users/j35/IPTS/IPTS-21632/DF/Nov18_2019/20191118_DF_0055_0002.tiff',\n",
      "                                 '/Users/j35/IPTS/IPTS-21632/DF/Nov18_2019/20191118_DF_0055_0003.tiff',\n",
      "                                 '/Users/j35/IPTS/IPTS-21632/DF/Nov18_2019/20191118_DF_0055_0004.tiff',\n",
      "                                 '/Users/j35/IPTS/IPTS-21632/DF/Nov18_2019/20191118_DF_0055_0005.tiff',\n",
      "                                 '/Users/j35/IPTS/IPTS-21632/DF/Nov18_2019/20191118_DF_0055_0006.tiff',\n",
      "                                 '/Users/j35/IPTS/IPTS-21632/DF/Nov18_2019/20191118_DF_0055_0007.tiff',\n",
      "                                 '/Users/j35/IPTS/IPTS-21632/DF/Nov18_2019/20191118_DF_0055_0008.tiff',\n",
      "                                 '/Users/j35/IPTS/IPTS-21632/DF/Nov18_2019/20191118_DF_0055_0009.tiff',\n",
      "                                 '/Users/j35/IPTS/IPTS-21632/DF/Nov18_2019/20191118_DF_0055_0010.tiff'],\n",
      "                     'list_ob': [],\n",
      "                     'list_sample': ['/Users/j35/IPTS/IPTS-21632/Nov18_2019/20191118_samples_2_3_10_run1_0055_0081.tiff',\n",
      "                                     '/Users/j35/IPTS/IPTS-21632/Nov18_2019/20191118_samples_2_3_10_run1_0055_0082.tiff',\n",
      "                                     '/Users/j35/IPTS/IPTS-21632/Nov18_2019/20191118_samples_2_3_10_run1_0055_0083.tiff',\n",
      "                                     '/Users/j35/IPTS/IPTS-21632/Nov18_2019/20191118_samples_2_3_10_run1_0055_0084.tiff',\n",
      "                                     '/Users/j35/IPTS/IPTS-21632/Nov18_2019/20191118_samples_2_3_10_run1_0055_0085.tiff',\n",
      "                                     '/Users/j35/IPTS/IPTS-21632/Nov18_2019/20191118_samples_2_3_10_run1_0055_0086.tiff',\n",
      "                                     '/Users/j35/IPTS/IPTS-21632/Nov18_2019/20191118_samples_2_3_10_run2_0055_0207.tiff',\n",
      "                                     '/Users/j35/IPTS/IPTS-21632/Nov18_2019/20191118_samples_2_3_10_run2_0055_0208.tiff',\n",
      "                                     '/Users/j35/IPTS/IPTS-21632/Nov18_2019/20191118_samples_2_3_10_run2_0055_0209.tiff',\n",
      "                                     '/Users/j35/IPTS/IPTS-21632/Nov18_2019/20191118_samples_2_3_10_run2_0055_0210.tiff',\n",
      "                                     '/Users/j35/IPTS/IPTS-21632/Nov18_2019/20191118_samples_2_3_10_run2_0055_0211.tiff',\n",
      "                                     '/Users/j35/IPTS/IPTS-21632/Nov18_2019/20191118_samples_2_3_10_run2_0055_0212.tiff',\n",
      "                                     '/Users/j35/IPTS/IPTS-21632/Nov18_2019/20191118_samples_2_3_10_run2_0055_0213.tiff',\n",
      "                                     '/Users/j35/IPTS/IPTS-21632/Nov18_2019/20191118_samples_2_3_10_run2_0055_0214.tiff',\n",
      "                                     '/Users/j35/IPTS/IPTS-21632/Nov18_2019/20191118_samples_2_3_10_run2_0055_0215.tiff',\n",
      "                                     '/Users/j35/IPTS/IPTS-21632/Nov18_2019/20191118_samples_2_3_10_run2_0055_0216.tiff',\n",
      "                                     '/Users/j35/IPTS/IPTS-21632/Nov18_2019/20191118_samples_2_3_10_run2_0055_0217.tiff',\n",
      "                                     '/Users/j35/IPTS/IPTS-21632/Nov18_2019/20191118_samples_2_3_10_run2_0055_0218.tiff',\n",
      "                                     '/Users/j35/IPTS/IPTS-21632/Nov18_2019/20191118_samples_2_3_10_run2_0055_0219.tiff',\n",
      "                                     '/Users/j35/IPTS/IPTS-21632/Nov18_2019/20191118_samples_2_3_10_run2_0055_0220.tiff']},\n",
      "         'config1': {'list_df': ['/Users/j35/IPTS/IPTS-21632/DF/Nov18_2019/20191118_DF_0055_0001.tiff',\n",
      "                                 '/Users/j35/IPTS/IPTS-21632/DF/Nov18_2019/20191118_DF_0055_0002.tiff',\n",
      "                                 '/Users/j35/IPTS/IPTS-21632/DF/Nov18_2019/20191118_DF_0055_0003.tiff',\n",
      "                                 '/Users/j35/IPTS/IPTS-21632/DF/Nov18_2019/20191118_DF_0055_0004.tiff',\n",
      "                                 '/Users/j35/IPTS/IPTS-21632/DF/Nov18_2019/20191118_DF_0055_0005.tiff',\n",
      "                                 '/Users/j35/IPTS/IPTS-21632/DF/Nov18_2019/20191118_DF_0055_0006.tiff',\n",
      "                                 '/Users/j35/IPTS/IPTS-21632/DF/Nov18_2019/20191118_DF_0055_0007.tiff',\n",
      "                                 '/Users/j35/IPTS/IPTS-21632/DF/Nov18_2019/20191118_DF_0055_0008.tiff',\n",
      "                                 '/Users/j35/IPTS/IPTS-21632/DF/Nov18_2019/20191118_DF_0055_0009.tiff',\n",
      "                                 '/Users/j35/IPTS/IPTS-21632/DF/Nov18_2019/20191118_DF_0055_0010.tiff'],\n",
      "                     'list_ob': ['/Users/j35/IPTS/IPTS-21632/OB/Nov18_2019/20191118_OB_0055_0056.tiff',\n",
      "                                 '/Users/j35/IPTS/IPTS-21632/OB/Nov18_2019/20191118_OB_0055_0057.tiff',\n",
      "                                 '/Users/j35/IPTS/IPTS-21632/OB/Nov18_2019/20191118_OB_0055_0058.tiff',\n",
      "                                 '/Users/j35/IPTS/IPTS-21632/OB/Nov18_2019/20191118_OB_0055_0059.tiff',\n",
      "                                 '/Users/j35/IPTS/IPTS-21632/OB/Nov18_2019/20191118_OB_0055_0060.tiff',\n",
      "                                 '/Users/j35/IPTS/IPTS-21632/OB/Nov18_2019/20191118_OB_0055_0061.tiff',\n",
      "                                 '/Users/j35/IPTS/IPTS-21632/OB/Nov18_2019/20191118_OB_0055_0062.tiff',\n",
      "                                 '/Users/j35/IPTS/IPTS-21632/OB/Nov18_2019/20191118_OB_0055_0063.tiff',\n",
      "                                 '/Users/j35/IPTS/IPTS-21632/OB/Nov18_2019/20191118_OB_0055_0064.tiff',\n",
      "                                 '/Users/j35/IPTS/IPTS-21632/OB/Nov18_2019/20191118_OB_0055_0065.tiff'],\n",
      "                     'list_sample': ['/Users/j35/IPTS/IPTS-21632/Nov18_2019/20191118_samples_2_3_10_run1_0055_0081.tiff',\n",
      "                                     '/Users/j35/IPTS/IPTS-21632/Nov18_2019/20191118_samples_2_3_10_run1_0055_0082.tiff',\n",
      "                                     '/Users/j35/IPTS/IPTS-21632/Nov18_2019/20191118_samples_2_3_10_run1_0055_0083.tiff',\n",
      "                                     '/Users/j35/IPTS/IPTS-21632/Nov18_2019/20191118_samples_2_3_10_run1_0055_0084.tiff',\n",
      "                                     '/Users/j35/IPTS/IPTS-21632/Nov18_2019/20191118_samples_2_3_10_run1_0055_0085.tiff',\n",
      "                                     '/Users/j35/IPTS/IPTS-21632/Nov18_2019/20191118_samples_2_3_10_run1_0055_0086.tiff',\n",
      "                                     '/Users/j35/IPTS/IPTS-21632/Nov18_2019/20191118_samples_2_3_10_run2_0055_0207.tiff',\n",
      "                                     '/Users/j35/IPTS/IPTS-21632/Nov18_2019/20191118_samples_2_3_10_run2_0055_0208.tiff',\n",
      "                                     '/Users/j35/IPTS/IPTS-21632/Nov18_2019/20191118_samples_2_3_10_run2_0055_0209.tiff',\n",
      "                                     '/Users/j35/IPTS/IPTS-21632/Nov18_2019/20191118_samples_2_3_10_run2_0055_0210.tiff',\n",
      "                                     '/Users/j35/IPTS/IPTS-21632/Nov18_2019/20191118_samples_2_3_10_run2_0055_0211.tiff',\n",
      "                                     '/Users/j35/IPTS/IPTS-21632/Nov18_2019/20191118_samples_2_3_10_run2_0055_0212.tiff',\n",
      "                                     '/Users/j35/IPTS/IPTS-21632/Nov18_2019/20191118_samples_2_3_10_run2_0055_0213.tiff',\n",
      "                                     '/Users/j35/IPTS/IPTS-21632/Nov18_2019/20191118_samples_2_3_10_run2_0055_0214.tiff',\n",
      "                                     '/Users/j35/IPTS/IPTS-21632/Nov18_2019/20191118_samples_2_3_10_run2_0055_0215.tiff',\n",
      "                                     '/Users/j35/IPTS/IPTS-21632/Nov18_2019/20191118_samples_2_3_10_run2_0055_0216.tiff',\n",
      "                                     '/Users/j35/IPTS/IPTS-21632/Nov18_2019/20191118_samples_2_3_10_run2_0055_0217.tiff',\n",
      "                                     '/Users/j35/IPTS/IPTS-21632/Nov18_2019/20191118_samples_2_3_10_run2_0055_0218.tiff',\n",
      "                                     '/Users/j35/IPTS/IPTS-21632/Nov18_2019/20191118_samples_2_3_10_run2_0055_0219.tiff',\n",
      "                                     '/Users/j35/IPTS/IPTS-21632/Nov18_2019/20191118_samples_2_3_10_run2_0055_0220.tiff']},\n",
      "         'config3': {'list_df': ['/Users/j35/IPTS/IPTS-21632/DF/Nov18_2019/20191118_DF_0055_0001.tiff',\n",
      "                                 '/Users/j35/IPTS/IPTS-21632/DF/Nov18_2019/20191118_DF_0055_0002.tiff',\n",
      "                                 '/Users/j35/IPTS/IPTS-21632/DF/Nov18_2019/20191118_DF_0055_0003.tiff',\n",
      "                                 '/Users/j35/IPTS/IPTS-21632/DF/Nov18_2019/20191118_DF_0055_0004.tiff',\n",
      "                                 '/Users/j35/IPTS/IPTS-21632/DF/Nov18_2019/20191118_DF_0055_0005.tiff',\n",
      "                                 '/Users/j35/IPTS/IPTS-21632/DF/Nov18_2019/20191118_DF_0055_0006.tiff',\n",
      "                                 '/Users/j35/IPTS/IPTS-21632/DF/Nov18_2019/20191118_DF_0055_0007.tiff',\n",
      "                                 '/Users/j35/IPTS/IPTS-21632/DF/Nov18_2019/20191118_DF_0055_0008.tiff',\n",
      "                                 '/Users/j35/IPTS/IPTS-21632/DF/Nov18_2019/20191118_DF_0055_0009.tiff',\n",
      "                                 '/Users/j35/IPTS/IPTS-21632/DF/Nov18_2019/20191118_DF_0055_0010.tiff'],\n",
      "                     'list_ob': ['/Users/j35/IPTS/IPTS-21632/OB/Nov18_2019/20191118_OB_0055_0056.tiff',\n",
      "                                 '/Users/j35/IPTS/IPTS-21632/OB/Nov18_2019/20191118_OB_0055_0057.tiff',\n",
      "                                 '/Users/j35/IPTS/IPTS-21632/OB/Nov18_2019/20191118_OB_0055_0058.tiff',\n",
      "                                 '/Users/j35/IPTS/IPTS-21632/OB/Nov18_2019/20191118_OB_0055_0059.tiff',\n",
      "                                 '/Users/j35/IPTS/IPTS-21632/OB/Nov18_2019/20191118_OB_0055_0060.tiff',\n",
      "                                 '/Users/j35/IPTS/IPTS-21632/OB/Nov18_2019/20191118_OB_0055_0061.tiff',\n",
      "                                 '/Users/j35/IPTS/IPTS-21632/OB/Nov18_2019/20191118_OB_0055_0062.tiff',\n",
      "                                 '/Users/j35/IPTS/IPTS-21632/OB/Nov18_2019/20191118_OB_0055_0063.tiff',\n",
      "                                 '/Users/j35/IPTS/IPTS-21632/OB/Nov18_2019/20191118_OB_0055_0064.tiff',\n",
      "                                 '/Users/j35/IPTS/IPTS-21632/OB/Nov18_2019/20191118_OB_0055_0065.tiff'],\n",
      "                     'list_sample': ['/Users/j35/IPTS/IPTS-21632/Nov18_2019/20191118_samples_2_3_10_run1_0055_0081.tiff',\n",
      "                                     '/Users/j35/IPTS/IPTS-21632/Nov18_2019/20191118_samples_2_3_10_run1_0055_0082.tiff',\n",
      "                                     '/Users/j35/IPTS/IPTS-21632/Nov18_2019/20191118_samples_2_3_10_run1_0055_0083.tiff',\n",
      "                                     '/Users/j35/IPTS/IPTS-21632/Nov18_2019/20191118_samples_2_3_10_run1_0055_0084.tiff',\n",
      "                                     '/Users/j35/IPTS/IPTS-21632/Nov18_2019/20191118_samples_2_3_10_run1_0055_0085.tiff',\n",
      "                                     '/Users/j35/IPTS/IPTS-21632/Nov18_2019/20191118_samples_2_3_10_run1_0055_0086.tiff',\n",
      "                                     '/Users/j35/IPTS/IPTS-21632/Nov18_2019/20191118_samples_2_3_10_run2_0055_0207.tiff',\n",
      "                                     '/Users/j35/IPTS/IPTS-21632/Nov18_2019/20191118_samples_2_3_10_run2_0055_0208.tiff',\n",
      "                                     '/Users/j35/IPTS/IPTS-21632/Nov18_2019/20191118_samples_2_3_10_run2_0055_0209.tiff',\n",
      "                                     '/Users/j35/IPTS/IPTS-21632/Nov18_2019/20191118_samples_2_3_10_run2_0055_0210.tiff',\n",
      "                                     '/Users/j35/IPTS/IPTS-21632/Nov18_2019/20191118_samples_2_3_10_run2_0055_0211.tiff',\n",
      "                                     '/Users/j35/IPTS/IPTS-21632/Nov18_2019/20191118_samples_2_3_10_run2_0055_0212.tiff',\n",
      "                                     '/Users/j35/IPTS/IPTS-21632/Nov18_2019/20191118_samples_2_3_10_run2_0055_0213.tiff',\n",
      "                                     '/Users/j35/IPTS/IPTS-21632/Nov18_2019/20191118_samples_2_3_10_run2_0055_0214.tiff',\n",
      "                                     '/Users/j35/IPTS/IPTS-21632/Nov18_2019/20191118_samples_2_3_10_run2_0055_0215.tiff',\n",
      "                                     '/Users/j35/IPTS/IPTS-21632/Nov18_2019/20191118_samples_2_3_10_run2_0055_0216.tiff',\n",
      "                                     '/Users/j35/IPTS/IPTS-21632/Nov18_2019/20191118_samples_2_3_10_run2_0055_0217.tiff',\n",
      "                                     '/Users/j35/IPTS/IPTS-21632/Nov18_2019/20191118_samples_2_3_10_run2_0055_0218.tiff',\n",
      "                                     '/Users/j35/IPTS/IPTS-21632/Nov18_2019/20191118_samples_2_3_10_run2_0055_0219.tiff',\n",
      "                                     '/Users/j35/IPTS/IPTS-21632/Nov18_2019/20191118_samples_2_3_10_run2_0055_0220.tiff']}},\n",
      " '500.0': {'config0': {'list_df': ['/Users/j35/IPTS/IPTS-21632/DF/Nov18_2019/20191118_DF_0055_0001.tiff',\n",
      "                                   '/Users/j35/IPTS/IPTS-21632/DF/Nov18_2019/20191118_DF_0055_0002.tiff',\n",
      "                                   '/Users/j35/IPTS/IPTS-21632/DF/Nov18_2019/20191118_DF_0055_0003.tiff',\n",
      "                                   '/Users/j35/IPTS/IPTS-21632/DF/Nov18_2019/20191118_DF_0055_0004.tiff',\n",
      "                                   '/Users/j35/IPTS/IPTS-21632/DF/Nov18_2019/20191118_DF_0055_0005.tiff',\n",
      "                                   '/Users/j35/IPTS/IPTS-21632/DF/Nov18_2019/20191118_DF_0055_0006.tiff',\n",
      "                                   '/Users/j35/IPTS/IPTS-21632/DF/Nov18_2019/20191118_DF_0055_0007.tiff',\n",
      "                                   '/Users/j35/IPTS/IPTS-21632/DF/Nov18_2019/20191118_DF_0055_0008.tiff',\n",
      "                                   '/Users/j35/IPTS/IPTS-21632/DF/Nov18_2019/20191118_DF_0055_0009.tiff',\n",
      "                                   '/Users/j35/IPTS/IPTS-21632/DF/Nov18_2019/20191118_DF_0055_0010.tiff'],\n",
      "                       'list_ob': ['/Users/j35/IPTS/IPTS-21632/OB/Nov18_2019/20191118_OB_0055_0056.tiff',\n",
      "                                   '/Users/j35/IPTS/IPTS-21632/OB/Nov18_2019/20191118_OB_0055_0057.tiff',\n",
      "                                   '/Users/j35/IPTS/IPTS-21632/OB/Nov18_2019/20191118_OB_0055_0058.tiff',\n",
      "                                   '/Users/j35/IPTS/IPTS-21632/OB/Nov18_2019/20191118_OB_0055_0059.tiff',\n",
      "                                   '/Users/j35/IPTS/IPTS-21632/OB/Nov18_2019/20191118_OB_0055_0060.tiff',\n",
      "                                   '/Users/j35/IPTS/IPTS-21632/OB/Nov18_2019/20191118_OB_0055_0061.tiff',\n",
      "                                   '/Users/j35/IPTS/IPTS-21632/OB/Nov18_2019/20191118_OB_0055_0062.tiff',\n",
      "                                   '/Users/j35/IPTS/IPTS-21632/OB/Nov18_2019/20191118_OB_0055_0063.tiff',\n",
      "                                   '/Users/j35/IPTS/IPTS-21632/OB/Nov18_2019/20191118_OB_0055_0064.tiff',\n",
      "                                   '/Users/j35/IPTS/IPTS-21632/OB/Nov18_2019/20191118_OB_0055_0065.tiff'],\n",
      "                       'list_sample': ['/Users/j35/IPTS/IPTS-21632/Nov18_2019/20191118_samples_2_3_10_run1_0055_0081.tiff',\n",
      "                                       '/Users/j35/IPTS/IPTS-21632/Nov18_2019/20191118_samples_2_3_10_run1_0055_0082.tiff',\n",
      "                                       '/Users/j35/IPTS/IPTS-21632/Nov18_2019/20191118_samples_2_3_10_run1_0055_0083.tiff',\n",
      "                                       '/Users/j35/IPTS/IPTS-21632/Nov18_2019/20191118_samples_2_3_10_run1_0055_0084.tiff',\n",
      "                                       '/Users/j35/IPTS/IPTS-21632/Nov18_2019/20191118_samples_2_3_10_run1_0055_0085.tiff',\n",
      "                                       '/Users/j35/IPTS/IPTS-21632/Nov18_2019/20191118_samples_2_3_10_run1_0055_0086.tiff',\n",
      "                                       '/Users/j35/IPTS/IPTS-21632/Nov18_2019/20191118_samples_2_3_10_run2_0055_0207.tiff',\n",
      "                                       '/Users/j35/IPTS/IPTS-21632/Nov18_2019/20191118_samples_2_3_10_run2_0055_0208.tiff',\n",
      "                                       '/Users/j35/IPTS/IPTS-21632/Nov18_2019/20191118_samples_2_3_10_run2_0055_0209.tiff',\n",
      "                                       '/Users/j35/IPTS/IPTS-21632/Nov18_2019/20191118_samples_2_3_10_run2_0055_0210.tiff',\n",
      "                                       '/Users/j35/IPTS/IPTS-21632/Nov18_2019/20191118_samples_2_3_10_run2_0055_0211.tiff',\n",
      "                                       '/Users/j35/IPTS/IPTS-21632/Nov18_2019/20191118_samples_2_3_10_run2_0055_0212.tiff',\n",
      "                                       '/Users/j35/IPTS/IPTS-21632/Nov18_2019/20191118_samples_2_3_10_run2_0055_0213.tiff',\n",
      "                                       '/Users/j35/IPTS/IPTS-21632/Nov18_2019/20191118_samples_2_3_10_run2_0055_0214.tiff',\n",
      "                                       '/Users/j35/IPTS/IPTS-21632/Nov18_2019/20191118_samples_2_3_10_run2_0055_0215.tiff',\n",
      "                                       '/Users/j35/IPTS/IPTS-21632/Nov18_2019/20191118_samples_2_3_10_run2_0055_0216.tiff',\n",
      "                                       '/Users/j35/IPTS/IPTS-21632/Nov18_2019/20191118_samples_2_3_10_run2_0055_0217.tiff',\n",
      "                                       '/Users/j35/IPTS/IPTS-21632/Nov18_2019/20191118_samples_2_3_10_run2_0055_0218.tiff',\n",
      "                                       '/Users/j35/IPTS/IPTS-21632/Nov18_2019/20191118_samples_2_3_10_run2_0055_0219.tiff',\n",
      "                                       '/Users/j35/IPTS/IPTS-21632/Nov18_2019/20191118_samples_2_3_10_run2_0055_0220.tiff']},\n",
      "           'config1': {'list_df': ['/Users/j35/IPTS/IPTS-21632/DF/Nov18_2019/20191118_DF_0055_0001.tiff',\n",
      "                                   '/Users/j35/IPTS/IPTS-21632/DF/Nov18_2019/20191118_DF_0055_0002.tiff',\n",
      "                                   '/Users/j35/IPTS/IPTS-21632/DF/Nov18_2019/20191118_DF_0055_0003.tiff',\n",
      "                                   '/Users/j35/IPTS/IPTS-21632/DF/Nov18_2019/20191118_DF_0055_0004.tiff',\n",
      "                                   '/Users/j35/IPTS/IPTS-21632/DF/Nov18_2019/20191118_DF_0055_0005.tiff',\n",
      "                                   '/Users/j35/IPTS/IPTS-21632/DF/Nov18_2019/20191118_DF_0055_0006.tiff',\n",
      "                                   '/Users/j35/IPTS/IPTS-21632/DF/Nov18_2019/20191118_DF_0055_0007.tiff',\n",
      "                                   '/Users/j35/IPTS/IPTS-21632/DF/Nov18_2019/20191118_DF_0055_0008.tiff',\n",
      "                                   '/Users/j35/IPTS/IPTS-21632/DF/Nov18_2019/20191118_DF_0055_0009.tiff',\n",
      "                                   '/Users/j35/IPTS/IPTS-21632/DF/Nov18_2019/20191118_DF_0055_0010.tiff'],\n",
      "                       'list_ob': ['/Users/j35/IPTS/IPTS-21632/OB/Nov18_2019/20191118_OB_0055_0056.tiff',\n",
      "                                   '/Users/j35/IPTS/IPTS-21632/OB/Nov18_2019/20191118_OB_0055_0057.tiff',\n",
      "                                   '/Users/j35/IPTS/IPTS-21632/OB/Nov18_2019/20191118_OB_0055_0058.tiff',\n",
      "                                   '/Users/j35/IPTS/IPTS-21632/OB/Nov18_2019/20191118_OB_0055_0059.tiff',\n",
      "                                   '/Users/j35/IPTS/IPTS-21632/OB/Nov18_2019/20191118_OB_0055_0060.tiff',\n",
      "                                   '/Users/j35/IPTS/IPTS-21632/OB/Nov18_2019/20191118_OB_0055_0061.tiff',\n",
      "                                   '/Users/j35/IPTS/IPTS-21632/OB/Nov18_2019/20191118_OB_0055_0062.tiff',\n",
      "                                   '/Users/j35/IPTS/IPTS-21632/OB/Nov18_2019/20191118_OB_0055_0063.tiff',\n",
      "                                   '/Users/j35/IPTS/IPTS-21632/OB/Nov18_2019/20191118_OB_0055_0064.tiff',\n",
      "                                   '/Users/j35/IPTS/IPTS-21632/OB/Nov18_2019/20191118_OB_0055_0065.tiff'],\n",
      "                       'list_sample': ['/Users/j35/IPTS/IPTS-21632/Nov18_2019/20191118_samples_2_3_10_run1_0055_0081.tiff',\n",
      "                                       '/Users/j35/IPTS/IPTS-21632/Nov18_2019/20191118_samples_2_3_10_run1_0055_0082.tiff',\n",
      "                                       '/Users/j35/IPTS/IPTS-21632/Nov18_2019/20191118_samples_2_3_10_run1_0055_0083.tiff',\n",
      "                                       '/Users/j35/IPTS/IPTS-21632/Nov18_2019/20191118_samples_2_3_10_run1_0055_0084.tiff',\n",
      "                                       '/Users/j35/IPTS/IPTS-21632/Nov18_2019/20191118_samples_2_3_10_run1_0055_0085.tiff',\n",
      "                                       '/Users/j35/IPTS/IPTS-21632/Nov18_2019/20191118_samples_2_3_10_run1_0055_0086.tiff',\n",
      "                                       '/Users/j35/IPTS/IPTS-21632/Nov18_2019/20191118_samples_2_3_10_run2_0055_0207.tiff',\n",
      "                                       '/Users/j35/IPTS/IPTS-21632/Nov18_2019/20191118_samples_2_3_10_run2_0055_0208.tiff',\n",
      "                                       '/Users/j35/IPTS/IPTS-21632/Nov18_2019/20191118_samples_2_3_10_run2_0055_0209.tiff',\n",
      "                                       '/Users/j35/IPTS/IPTS-21632/Nov18_2019/20191118_samples_2_3_10_run2_0055_0210.tiff',\n",
      "                                       '/Users/j35/IPTS/IPTS-21632/Nov18_2019/20191118_samples_2_3_10_run2_0055_0211.tiff',\n",
      "                                       '/Users/j35/IPTS/IPTS-21632/Nov18_2019/20191118_samples_2_3_10_run2_0055_0212.tiff',\n",
      "                                       '/Users/j35/IPTS/IPTS-21632/Nov18_2019/20191118_samples_2_3_10_run2_0055_0213.tiff',\n",
      "                                       '/Users/j35/IPTS/IPTS-21632/Nov18_2019/20191118_samples_2_3_10_run2_0055_0214.tiff',\n",
      "                                       '/Users/j35/IPTS/IPTS-21632/Nov18_2019/20191118_samples_2_3_10_run2_0055_0215.tiff',\n",
      "                                       '/Users/j35/IPTS/IPTS-21632/Nov18_2019/20191118_samples_2_3_10_run2_0055_0216.tiff',\n",
      "                                       '/Users/j35/IPTS/IPTS-21632/Nov18_2019/20191118_samples_2_3_10_run2_0055_0217.tiff',\n",
      "                                       '/Users/j35/IPTS/IPTS-21632/Nov18_2019/20191118_samples_2_3_10_run2_0055_0218.tiff',\n",
      "                                       '/Users/j35/IPTS/IPTS-21632/Nov18_2019/20191118_samples_2_3_10_run2_0055_0219.tiff',\n",
      "                                       '/Users/j35/IPTS/IPTS-21632/Nov18_2019/20191118_samples_2_3_10_run2_0055_0220.tiff']},\n",
      "           'config3': {'list_df': ['/Users/j35/IPTS/IPTS-21632/DF/Nov18_2019/20191118_DF_0055_0001.tiff',\n",
      "                                   '/Users/j35/IPTS/IPTS-21632/DF/Nov18_2019/20191118_DF_0055_0002.tiff',\n",
      "                                   '/Users/j35/IPTS/IPTS-21632/DF/Nov18_2019/20191118_DF_0055_0003.tiff',\n",
      "                                   '/Users/j35/IPTS/IPTS-21632/DF/Nov18_2019/20191118_DF_0055_0004.tiff',\n",
      "                                   '/Users/j35/IPTS/IPTS-21632/DF/Nov18_2019/20191118_DF_0055_0005.tiff',\n",
      "                                   '/Users/j35/IPTS/IPTS-21632/DF/Nov18_2019/20191118_DF_0055_0006.tiff',\n",
      "                                   '/Users/j35/IPTS/IPTS-21632/DF/Nov18_2019/20191118_DF_0055_0007.tiff',\n",
      "                                   '/Users/j35/IPTS/IPTS-21632/DF/Nov18_2019/20191118_DF_0055_0008.tiff',\n",
      "                                   '/Users/j35/IPTS/IPTS-21632/DF/Nov18_2019/20191118_DF_0055_0009.tiff',\n",
      "                                   '/Users/j35/IPTS/IPTS-21632/DF/Nov18_2019/20191118_DF_0055_0010.tiff'],\n",
      "                       'list_ob': ['/Users/j35/IPTS/IPTS-21632/OB/Nov18_2019/20191118_OB_0055_0056.tiff',\n",
      "                                   '/Users/j35/IPTS/IPTS-21632/OB/Nov18_2019/20191118_OB_0055_0057.tiff',\n",
      "                                   '/Users/j35/IPTS/IPTS-21632/OB/Nov18_2019/20191118_OB_0055_0058.tiff',\n",
      "                                   '/Users/j35/IPTS/IPTS-21632/OB/Nov18_2019/20191118_OB_0055_0059.tiff',\n",
      "                                   '/Users/j35/IPTS/IPTS-21632/OB/Nov18_2019/20191118_OB_0055_0060.tiff',\n",
      "                                   '/Users/j35/IPTS/IPTS-21632/OB/Nov18_2019/20191118_OB_0055_0061.tiff',\n",
      "                                   '/Users/j35/IPTS/IPTS-21632/OB/Nov18_2019/20191118_OB_0055_0062.tiff',\n",
      "                                   '/Users/j35/IPTS/IPTS-21632/OB/Nov18_2019/20191118_OB_0055_0063.tiff',\n",
      "                                   '/Users/j35/IPTS/IPTS-21632/OB/Nov18_2019/20191118_OB_0055_0064.tiff',\n",
      "                                   '/Users/j35/IPTS/IPTS-21632/OB/Nov18_2019/20191118_OB_0055_0065.tiff'],\n",
      "                       'list_sample': ['/Users/j35/IPTS/IPTS-21632/Nov18_2019/20191118_samples_2_3_10_run1_0055_0081.tiff',\n",
      "                                       '/Users/j35/IPTS/IPTS-21632/Nov18_2019/20191118_samples_2_3_10_run1_0055_0082.tiff',\n",
      "                                       '/Users/j35/IPTS/IPTS-21632/Nov18_2019/20191118_samples_2_3_10_run1_0055_0083.tiff',\n",
      "                                       '/Users/j35/IPTS/IPTS-21632/Nov18_2019/20191118_samples_2_3_10_run1_0055_0084.tiff',\n",
      "                                       '/Users/j35/IPTS/IPTS-21632/Nov18_2019/20191118_samples_2_3_10_run1_0055_0085.tiff',\n",
      "                                       '/Users/j35/IPTS/IPTS-21632/Nov18_2019/20191118_samples_2_3_10_run1_0055_0086.tiff',\n",
      "                                       '/Users/j35/IPTS/IPTS-21632/Nov18_2019/20191118_samples_2_3_10_run2_0055_0207.tiff',\n",
      "                                       '/Users/j35/IPTS/IPTS-21632/Nov18_2019/20191118_samples_2_3_10_run2_0055_0208.tiff',\n",
      "                                       '/Users/j35/IPTS/IPTS-21632/Nov18_2019/20191118_samples_2_3_10_run2_0055_0209.tiff',\n",
      "                                       '/Users/j35/IPTS/IPTS-21632/Nov18_2019/20191118_samples_2_3_10_run2_0055_0210.tiff',\n",
      "                                       '/Users/j35/IPTS/IPTS-21632/Nov18_2019/20191118_samples_2_3_10_run2_0055_0211.tiff',\n",
      "                                       '/Users/j35/IPTS/IPTS-21632/Nov18_2019/20191118_samples_2_3_10_run2_0055_0212.tiff',\n",
      "                                       '/Users/j35/IPTS/IPTS-21632/Nov18_2019/20191118_samples_2_3_10_run2_0055_0213.tiff',\n",
      "                                       '/Users/j35/IPTS/IPTS-21632/Nov18_2019/20191118_samples_2_3_10_run2_0055_0214.tiff',\n",
      "                                       '/Users/j35/IPTS/IPTS-21632/Nov18_2019/20191118_samples_2_3_10_run2_0055_0215.tiff',\n",
      "                                       '/Users/j35/IPTS/IPTS-21632/Nov18_2019/20191118_samples_2_3_10_run2_0055_0216.tiff',\n",
      "                                       '/Users/j35/IPTS/IPTS-21632/Nov18_2019/20191118_samples_2_3_10_run2_0055_0217.tiff',\n",
      "                                       '/Users/j35/IPTS/IPTS-21632/Nov18_2019/20191118_samples_2_3_10_run2_0055_0218.tiff',\n",
      "                                       '/Users/j35/IPTS/IPTS-21632/Nov18_2019/20191118_samples_2_3_10_run2_0055_0219.tiff',\n",
      "                                       '/Users/j35/IPTS/IPTS-21632/Nov18_2019/20191118_samples_2_3_10_run2_0055_0220.tiff']}},\n",
      " '55.0': {'config0': {'list_df': ['/Users/j35/IPTS/IPTS-21632/DF/Nov18_2019/20191118_DF_0055_0001.tiff',\n",
      "                                  '/Users/j35/IPTS/IPTS-21632/DF/Nov18_2019/20191118_DF_0055_0002.tiff',\n",
      "                                  '/Users/j35/IPTS/IPTS-21632/DF/Nov18_2019/20191118_DF_0055_0003.tiff',\n",
      "                                  '/Users/j35/IPTS/IPTS-21632/DF/Nov18_2019/20191118_DF_0055_0004.tiff',\n",
      "                                  '/Users/j35/IPTS/IPTS-21632/DF/Nov18_2019/20191118_DF_0055_0005.tiff',\n",
      "                                  '/Users/j35/IPTS/IPTS-21632/DF/Nov18_2019/20191118_DF_0055_0006.tiff',\n",
      "                                  '/Users/j35/IPTS/IPTS-21632/DF/Nov18_2019/20191118_DF_0055_0007.tiff',\n",
      "                                  '/Users/j35/IPTS/IPTS-21632/DF/Nov18_2019/20191118_DF_0055_0008.tiff',\n",
      "                                  '/Users/j35/IPTS/IPTS-21632/DF/Nov18_2019/20191118_DF_0055_0009.tiff',\n",
      "                                  '/Users/j35/IPTS/IPTS-21632/DF/Nov18_2019/20191118_DF_0055_0010.tiff'],\n",
      "                      'list_ob': ['/Users/j35/IPTS/IPTS-21632/OB/Nov18_2019/20191118_OB_0055_0056.tiff',\n",
      "                                  '/Users/j35/IPTS/IPTS-21632/OB/Nov18_2019/20191118_OB_0055_0057.tiff',\n",
      "                                  '/Users/j35/IPTS/IPTS-21632/OB/Nov18_2019/20191118_OB_0055_0058.tiff',\n",
      "                                  '/Users/j35/IPTS/IPTS-21632/OB/Nov18_2019/20191118_OB_0055_0059.tiff',\n",
      "                                  '/Users/j35/IPTS/IPTS-21632/OB/Nov18_2019/20191118_OB_0055_0060.tiff',\n",
      "                                  '/Users/j35/IPTS/IPTS-21632/OB/Nov18_2019/20191118_OB_0055_0061.tiff',\n",
      "                                  '/Users/j35/IPTS/IPTS-21632/OB/Nov18_2019/20191118_OB_0055_0062.tiff',\n",
      "                                  '/Users/j35/IPTS/IPTS-21632/OB/Nov18_2019/20191118_OB_0055_0063.tiff',\n",
      "                                  '/Users/j35/IPTS/IPTS-21632/OB/Nov18_2019/20191118_OB_0055_0064.tiff',\n",
      "                                  '/Users/j35/IPTS/IPTS-21632/OB/Nov18_2019/20191118_OB_0055_0065.tiff'],\n",
      "                      'list_sample': ['/Users/j35/IPTS/IPTS-21632/Nov18_2019/20191118_samples_2_3_10_run1_0055_0081.tiff',\n",
      "                                      '/Users/j35/IPTS/IPTS-21632/Nov18_2019/20191118_samples_2_3_10_run1_0055_0082.tiff',\n",
      "                                      '/Users/j35/IPTS/IPTS-21632/Nov18_2019/20191118_samples_2_3_10_run1_0055_0083.tiff',\n",
      "                                      '/Users/j35/IPTS/IPTS-21632/Nov18_2019/20191118_samples_2_3_10_run1_0055_0084.tiff',\n",
      "                                      '/Users/j35/IPTS/IPTS-21632/Nov18_2019/20191118_samples_2_3_10_run1_0055_0085.tiff',\n",
      "                                      '/Users/j35/IPTS/IPTS-21632/Nov18_2019/20191118_samples_2_3_10_run1_0055_0086.tiff',\n",
      "                                      '/Users/j35/IPTS/IPTS-21632/Nov18_2019/20191118_samples_2_3_10_run2_0055_0207.tiff',\n",
      "                                      '/Users/j35/IPTS/IPTS-21632/Nov18_2019/20191118_samples_2_3_10_run2_0055_0208.tiff',\n",
      "                                      '/Users/j35/IPTS/IPTS-21632/Nov18_2019/20191118_samples_2_3_10_run2_0055_0209.tiff',\n",
      "                                      '/Users/j35/IPTS/IPTS-21632/Nov18_2019/20191118_samples_2_3_10_run2_0055_0210.tiff',\n",
      "                                      '/Users/j35/IPTS/IPTS-21632/Nov18_2019/20191118_samples_2_3_10_run2_0055_0211.tiff',\n",
      "                                      '/Users/j35/IPTS/IPTS-21632/Nov18_2019/20191118_samples_2_3_10_run2_0055_0212.tiff',\n",
      "                                      '/Users/j35/IPTS/IPTS-21632/Nov18_2019/20191118_samples_2_3_10_run2_0055_0213.tiff',\n",
      "                                      '/Users/j35/IPTS/IPTS-21632/Nov18_2019/20191118_samples_2_3_10_run2_0055_0214.tiff',\n",
      "                                      '/Users/j35/IPTS/IPTS-21632/Nov18_2019/20191118_samples_2_3_10_run2_0055_0215.tiff',\n",
      "                                      '/Users/j35/IPTS/IPTS-21632/Nov18_2019/20191118_samples_2_3_10_run2_0055_0216.tiff',\n",
      "                                      '/Users/j35/IPTS/IPTS-21632/Nov18_2019/20191118_samples_2_3_10_run2_0055_0217.tiff',\n",
      "                                      '/Users/j35/IPTS/IPTS-21632/Nov18_2019/20191118_samples_2_3_10_run2_0055_0218.tiff',\n",
      "                                      '/Users/j35/IPTS/IPTS-21632/Nov18_2019/20191118_samples_2_3_10_run2_0055_0219.tiff',\n",
      "                                      '/Users/j35/IPTS/IPTS-21632/Nov18_2019/20191118_samples_2_3_10_run2_0055_0220.tiff']},\n",
      "          'config1': {'list_df': ['/Users/j35/IPTS/IPTS-21632/DF/Nov18_2019/20191118_DF_0055_0001.tiff',\n",
      "                                  '/Users/j35/IPTS/IPTS-21632/DF/Nov18_2019/20191118_DF_0055_0002.tiff',\n",
      "                                  '/Users/j35/IPTS/IPTS-21632/DF/Nov18_2019/20191118_DF_0055_0003.tiff',\n",
      "                                  '/Users/j35/IPTS/IPTS-21632/DF/Nov18_2019/20191118_DF_0055_0004.tiff',\n",
      "                                  '/Users/j35/IPTS/IPTS-21632/DF/Nov18_2019/20191118_DF_0055_0005.tiff',\n",
      "                                  '/Users/j35/IPTS/IPTS-21632/DF/Nov18_2019/20191118_DF_0055_0006.tiff',\n",
      "                                  '/Users/j35/IPTS/IPTS-21632/DF/Nov18_2019/20191118_DF_0055_0007.tiff',\n",
      "                                  '/Users/j35/IPTS/IPTS-21632/DF/Nov18_2019/20191118_DF_0055_0008.tiff',\n",
      "                                  '/Users/j35/IPTS/IPTS-21632/DF/Nov18_2019/20191118_DF_0055_0009.tiff',\n",
      "                                  '/Users/j35/IPTS/IPTS-21632/DF/Nov18_2019/20191118_DF_0055_0010.tiff'],\n",
      "                      'list_ob': ['/Users/j35/IPTS/IPTS-21632/OB/Nov18_2019/20191118_OB_0055_0056.tiff',\n",
      "                                  '/Users/j35/IPTS/IPTS-21632/OB/Nov18_2019/20191118_OB_0055_0057.tiff',\n",
      "                                  '/Users/j35/IPTS/IPTS-21632/OB/Nov18_2019/20191118_OB_0055_0058.tiff',\n",
      "                                  '/Users/j35/IPTS/IPTS-21632/OB/Nov18_2019/20191118_OB_0055_0059.tiff',\n",
      "                                  '/Users/j35/IPTS/IPTS-21632/OB/Nov18_2019/20191118_OB_0055_0060.tiff',\n",
      "                                  '/Users/j35/IPTS/IPTS-21632/OB/Nov18_2019/20191118_OB_0055_0061.tiff',\n",
      "                                  '/Users/j35/IPTS/IPTS-21632/OB/Nov18_2019/20191118_OB_0055_0062.tiff',\n",
      "                                  '/Users/j35/IPTS/IPTS-21632/OB/Nov18_2019/20191118_OB_0055_0063.tiff',\n",
      "                                  '/Users/j35/IPTS/IPTS-21632/OB/Nov18_2019/20191118_OB_0055_0064.tiff',\n",
      "                                  '/Users/j35/IPTS/IPTS-21632/OB/Nov18_2019/20191118_OB_0055_0065.tiff'],\n",
      "                      'list_sample': ['/Users/j35/IPTS/IPTS-21632/Nov18_2019/20191118_samples_2_3_10_run1_0055_0081.tiff',\n",
      "                                      '/Users/j35/IPTS/IPTS-21632/Nov18_2019/20191118_samples_2_3_10_run1_0055_0082.tiff',\n",
      "                                      '/Users/j35/IPTS/IPTS-21632/Nov18_2019/20191118_samples_2_3_10_run1_0055_0083.tiff',\n",
      "                                      '/Users/j35/IPTS/IPTS-21632/Nov18_2019/20191118_samples_2_3_10_run1_0055_0084.tiff',\n",
      "                                      '/Users/j35/IPTS/IPTS-21632/Nov18_2019/20191118_samples_2_3_10_run1_0055_0085.tiff',\n",
      "                                      '/Users/j35/IPTS/IPTS-21632/Nov18_2019/20191118_samples_2_3_10_run1_0055_0086.tiff',\n",
      "                                      '/Users/j35/IPTS/IPTS-21632/Nov18_2019/20191118_samples_2_3_10_run2_0055_0207.tiff',\n",
      "                                      '/Users/j35/IPTS/IPTS-21632/Nov18_2019/20191118_samples_2_3_10_run2_0055_0208.tiff',\n",
      "                                      '/Users/j35/IPTS/IPTS-21632/Nov18_2019/20191118_samples_2_3_10_run2_0055_0209.tiff',\n",
      "                                      '/Users/j35/IPTS/IPTS-21632/Nov18_2019/20191118_samples_2_3_10_run2_0055_0210.tiff',\n",
      "                                      '/Users/j35/IPTS/IPTS-21632/Nov18_2019/20191118_samples_2_3_10_run2_0055_0211.tiff',\n",
      "                                      '/Users/j35/IPTS/IPTS-21632/Nov18_2019/20191118_samples_2_3_10_run2_0055_0212.tiff',\n",
      "                                      '/Users/j35/IPTS/IPTS-21632/Nov18_2019/20191118_samples_2_3_10_run2_0055_0213.tiff',\n",
      "                                      '/Users/j35/IPTS/IPTS-21632/Nov18_2019/20191118_samples_2_3_10_run2_0055_0214.tiff',\n",
      "                                      '/Users/j35/IPTS/IPTS-21632/Nov18_2019/20191118_samples_2_3_10_run2_0055_0215.tiff',\n",
      "                                      '/Users/j35/IPTS/IPTS-21632/Nov18_2019/20191118_samples_2_3_10_run2_0055_0216.tiff',\n",
      "                                      '/Users/j35/IPTS/IPTS-21632/Nov18_2019/20191118_samples_2_3_10_run2_0055_0217.tiff',\n",
      "                                      '/Users/j35/IPTS/IPTS-21632/Nov18_2019/20191118_samples_2_3_10_run2_0055_0218.tiff',\n",
      "                                      '/Users/j35/IPTS/IPTS-21632/Nov18_2019/20191118_samples_2_3_10_run2_0055_0219.tiff',\n",
      "                                      '/Users/j35/IPTS/IPTS-21632/Nov18_2019/20191118_samples_2_3_10_run2_0055_0220.tiff']},\n",
      "          'config3': {'list_df': ['/Users/j35/IPTS/IPTS-21632/DF/Nov18_2019/20191118_DF_0055_0001.tiff',\n",
      "                                  '/Users/j35/IPTS/IPTS-21632/DF/Nov18_2019/20191118_DF_0055_0002.tiff',\n",
      "                                  '/Users/j35/IPTS/IPTS-21632/DF/Nov18_2019/20191118_DF_0055_0003.tiff',\n",
      "                                  '/Users/j35/IPTS/IPTS-21632/DF/Nov18_2019/20191118_DF_0055_0004.tiff',\n",
      "                                  '/Users/j35/IPTS/IPTS-21632/DF/Nov18_2019/20191118_DF_0055_0005.tiff',\n",
      "                                  '/Users/j35/IPTS/IPTS-21632/DF/Nov18_2019/20191118_DF_0055_0006.tiff',\n",
      "                                  '/Users/j35/IPTS/IPTS-21632/DF/Nov18_2019/20191118_DF_0055_0007.tiff',\n",
      "                                  '/Users/j35/IPTS/IPTS-21632/DF/Nov18_2019/20191118_DF_0055_0008.tiff',\n",
      "                                  '/Users/j35/IPTS/IPTS-21632/DF/Nov18_2019/20191118_DF_0055_0009.tiff',\n",
      "                                  '/Users/j35/IPTS/IPTS-21632/DF/Nov18_2019/20191118_DF_0055_0010.tiff'],\n",
      "                      'list_ob': ['/Users/j35/IPTS/IPTS-21632/OB/Nov18_2019/20191118_OB_0055_0056.tiff',\n",
      "                                  '/Users/j35/IPTS/IPTS-21632/OB/Nov18_2019/20191118_OB_0055_0057.tiff',\n",
      "                                  '/Users/j35/IPTS/IPTS-21632/OB/Nov18_2019/20191118_OB_0055_0058.tiff',\n",
      "                                  '/Users/j35/IPTS/IPTS-21632/OB/Nov18_2019/20191118_OB_0055_0059.tiff',\n",
      "                                  '/Users/j35/IPTS/IPTS-21632/OB/Nov18_2019/20191118_OB_0055_0060.tiff',\n",
      "                                  '/Users/j35/IPTS/IPTS-21632/OB/Nov18_2019/20191118_OB_0055_0061.tiff',\n",
      "                                  '/Users/j35/IPTS/IPTS-21632/OB/Nov18_2019/20191118_OB_0055_0062.tiff',\n",
      "                                  '/Users/j35/IPTS/IPTS-21632/OB/Nov18_2019/20191118_OB_0055_0063.tiff',\n",
      "                                  '/Users/j35/IPTS/IPTS-21632/OB/Nov18_2019/20191118_OB_0055_0064.tiff',\n",
      "                                  '/Users/j35/IPTS/IPTS-21632/OB/Nov18_2019/20191118_OB_0055_0065.tiff'],\n",
      "                      'list_sample': ['/Users/j35/IPTS/IPTS-21632/Nov18_2019/20191118_samples_2_3_10_run1_0055_0081.tiff',\n",
      "                                      '/Users/j35/IPTS/IPTS-21632/Nov18_2019/20191118_samples_2_3_10_run1_0055_0082.tiff',\n",
      "                                      '/Users/j35/IPTS/IPTS-21632/Nov18_2019/20191118_samples_2_3_10_run1_0055_0083.tiff',\n",
      "                                      '/Users/j35/IPTS/IPTS-21632/Nov18_2019/20191118_samples_2_3_10_run1_0055_0084.tiff',\n",
      "                                      '/Users/j35/IPTS/IPTS-21632/Nov18_2019/20191118_samples_2_3_10_run1_0055_0085.tiff',\n",
      "                                      '/Users/j35/IPTS/IPTS-21632/Nov18_2019/20191118_samples_2_3_10_run1_0055_0086.tiff',\n",
      "                                      '/Users/j35/IPTS/IPTS-21632/Nov18_2019/20191118_samples_2_3_10_run2_0055_0207.tiff',\n",
      "                                      '/Users/j35/IPTS/IPTS-21632/Nov18_2019/20191118_samples_2_3_10_run2_0055_0208.tiff',\n",
      "                                      '/Users/j35/IPTS/IPTS-21632/Nov18_2019/20191118_samples_2_3_10_run2_0055_0209.tiff',\n",
      "                                      '/Users/j35/IPTS/IPTS-21632/Nov18_2019/20191118_samples_2_3_10_run2_0055_0210.tiff',\n",
      "                                      '/Users/j35/IPTS/IPTS-21632/Nov18_2019/20191118_samples_2_3_10_run2_0055_0211.tiff',\n",
      "                                      '/Users/j35/IPTS/IPTS-21632/Nov18_2019/20191118_samples_2_3_10_run2_0055_0212.tiff',\n",
      "                                      '/Users/j35/IPTS/IPTS-21632/Nov18_2019/20191118_samples_2_3_10_run2_0055_0213.tiff',\n",
      "                                      '/Users/j35/IPTS/IPTS-21632/Nov18_2019/20191118_samples_2_3_10_run2_0055_0214.tiff',\n",
      "                                      '/Users/j35/IPTS/IPTS-21632/Nov18_2019/20191118_samples_2_3_10_run2_0055_0215.tiff',\n",
      "                                      '/Users/j35/IPTS/IPTS-21632/Nov18_2019/20191118_samples_2_3_10_run2_0055_0216.tiff',\n",
      "                                      '/Users/j35/IPTS/IPTS-21632/Nov18_2019/20191118_samples_2_3_10_run2_0055_0217.tiff',\n",
      "                                      '/Users/j35/IPTS/IPTS-21632/Nov18_2019/20191118_samples_2_3_10_run2_0055_0218.tiff',\n",
      "                                      '/Users/j35/IPTS/IPTS-21632/Nov18_2019/20191118_samples_2_3_10_run2_0055_0219.tiff',\n",
      "                                      '/Users/j35/IPTS/IPTS-21632/Nov18_2019/20191118_samples_2_3_10_run2_0055_0220.tiff']}}}\n"
     ]
    }
   ],
   "source": [
    "o_which.create_final_json()"
   ]
  },
  {
   "cell_type": "markdown",
   "metadata": {},
   "source": [
    "# using glob "
   ]
  },
  {
   "cell_type": "code",
   "execution_count": 1,
   "metadata": {},
   "outputs": [
    {
     "data": {
      "text/html": [
       "\n",
       "<style type=\"text/css\">\n",
       ".jupyter-widgets select option {font-family: \"Lucida Console\", Monaco, monospace;}\n",
       ".jupyter-widgets select {width: 98%;}\n",
       "div.output_subarea {padding: 0px;}\n",
       "div.output_subarea > div {margin: 0.4em;}\n",
       "</style>\n"
      ],
      "text/plain": [
       "<IPython.core.display.HTML object>"
      ]
     },
     "metadata": {},
     "output_type": "display_data"
    },
    {
     "data": {
      "application/vnd.jupyter.widget-view+json": {
       "model_id": "",
       "version_major": 2,
       "version_minor": 0
      },
      "text/plain": [
       "HBox(children=(Label(value='Retrieving Time Stamp', layout=Layout(width='20%')), IntProgress(value=0, layout=L…"
      ]
     },
     "metadata": {},
     "output_type": "display_data"
    },
    {
     "data": {
      "text/html": [
       "<span style=\"font-size: 20px; color:blue\">Nbr of images: 21</span"
      ],
      "text/plain": [
       "<IPython.core.display.HTML object>"
      ]
     },
     "metadata": {},
     "output_type": "display_data"
    },
    {
     "data": {
      "text/html": [
       "<span style=\"font-size: 20px; color:blue\">First image was taken at : 2019-11-18 16:26:51</span>"
      ],
      "text/plain": [
       "<IPython.core.display.HTML object>"
      ]
     },
     "metadata": {},
     "output_type": "display_data"
    },
    {
     "data": {
      "text/html": [
       "<span style=\"font-size: 20px; color:blue\">Last image was taken at : 2019-11-18 16:42:14</span>"
      ],
      "text/plain": [
       "<IPython.core.display.HTML object>"
      ]
     },
     "metadata": {},
     "output_type": "display_data"
    },
    {
     "data": {
      "application/vnd.jupyter.widget-view+json": {
       "model_id": "",
       "version_major": 2,
       "version_minor": 0
      },
      "text/plain": [
       "HBox(children=(Label(value='Retrieving Time Stamp', layout=Layout(width='20%')), IntProgress(value=0, layout=L…"
      ]
     },
     "metadata": {},
     "output_type": "display_data"
    },
    {
     "data": {
      "text/html": [
       "<span style=\"font-size: 20px; color:blue\">Nbr of images: 23</span"
      ],
      "text/plain": [
       "<IPython.core.display.HTML object>"
      ]
     },
     "metadata": {},
     "output_type": "display_data"
    },
    {
     "data": {
      "text/html": [
       "<span style=\"font-size: 20px; color:blue\">First image was taken at : 2019-11-18 13:01:55</span>"
      ],
      "text/plain": [
       "<IPython.core.display.HTML object>"
      ]
     },
     "metadata": {},
     "output_type": "display_data"
    },
    {
     "data": {
      "text/html": [
       "<span style=\"font-size: 20px; color:blue\">Last image was taken at : 2019-11-18 15:06:12</span>"
      ],
      "text/plain": [
       "<IPython.core.display.HTML object>"
      ]
     },
     "metadata": {},
     "output_type": "display_data"
    },
    {
     "data": {
      "application/vnd.jupyter.widget-view+json": {
       "model_id": "",
       "version_major": 2,
       "version_minor": 0
      },
      "text/plain": [
       "HBox(children=(Label(value='Retrieving Time Stamp', layout=Layout(width='20%')), IntProgress(value=0, layout=L…"
      ]
     },
     "metadata": {},
     "output_type": "display_data"
    },
    {
     "data": {
      "text/html": [
       "<span style=\"font-size: 20px; color:blue\">Nbr of images: 10</span"
      ],
      "text/plain": [
       "<IPython.core.display.HTML object>"
      ]
     },
     "metadata": {},
     "output_type": "display_data"
    },
    {
     "data": {
      "text/html": [
       "<span style=\"font-size: 20px; color:blue\">First image was taken at : 2019-11-18 09:54:31</span>"
      ],
      "text/plain": [
       "<IPython.core.display.HTML object>"
      ]
     },
     "metadata": {},
     "output_type": "display_data"
    },
    {
     "data": {
      "text/html": [
       "<span style=\"font-size: 20px; color:blue\">Last image was taken at : 2019-11-18 10:03:30</span>"
      ],
      "text/plain": [
       "<IPython.core.display.HTML object>"
      ]
     },
     "metadata": {},
     "output_type": "display_data"
    }
   ],
   "source": [
    "from __code.which_ob_and_df_to_use import WhichOBandDFtoUse, MetadataName\n",
    "\n",
    "o_which = WhichOBandDFtoUse(working_dir='/Users/j35/IPTS/IPTS-21632')\n",
    "\n",
    "import glob\n",
    "list_files = glob.glob(\"/Users/j35/IPTS/IPTS-21632/Nov18_2019/*.tiff\") \n",
    "\n",
    "o_which.retrieve_sample_metadata(list_files)\n",
    "\n",
    "ob_folder = \"/Users/j35/IPTS/IPTS-21632/OB/Nov18_2019/\"\n",
    "o_which.retrieve_ob_metadata(ob_folder)\n",
    "\n",
    "df_folder = \"/Users/j35/IPTS/IPTS-21632/DF/Nov18_2019/\"\n",
    "o_which.retrieve_df_metadata(df_folder)"
   ]
  },
  {
   "cell_type": "code",
   "execution_count": 2,
   "metadata": {
    "scrolled": false
   },
   "outputs": [
    {
     "data": {
      "application/vnd.jupyter.widget-view+json": {
       "model_id": "d2e5cfed949f469b972f94d74586127d",
       "version_major": 2,
       "version_minor": 0
      },
      "text/plain": [
       "Tab(children=(Tab(children=(VBox(children=(HBox(children=(Checkbox(value=False, description='Use custom time r…"
      ]
     },
     "metadata": {},
     "output_type": "display_data"
    }
   ],
   "source": [
    "o_which.match_files()\n",
    "o_which.calculate_first_and_last_ob()\n",
    "o_which.calculate_time_range()\n",
    "o_which.display_time_range_selection_widgets()"
   ]
  },
  {
   "cell_type": "code",
   "execution_count": 3,
   "metadata": {},
   "outputs": [
    {
     "name": "stdout",
     "output_type": "stream",
     "text": [
      "working on acquisition: 55.0\n",
      "working on this config: config0\n"
     ]
    }
   ],
   "source": [
    "o_which.create_final_json()"
   ]
  },
  {
   "cell_type": "markdown",
   "metadata": {},
   "source": [
    "# Select the maximum time range to use to consider the open beams"
   ]
  },
  {
   "cell_type": "markdown",
   "metadata": {},
   "source": [
    "Select how many hours before the first run, and after the last run, you want to accept the OB"
   ]
  },
  {
   "cell_type": "code",
   "execution_count": null,
   "metadata": {},
   "outputs": [],
   "source": [
    "o_which.ob_time_stamp_dict"
   ]
  },
  {
   "cell_type": "code",
   "execution_count": null,
   "metadata": {},
   "outputs": [],
   "source": [
    "o_which.select_time_range()"
   ]
  },
  {
   "cell_type": "markdown",
   "metadata": {},
   "source": [
    "New requirements:\n",
    " * no need to check for time range of DF, just pick all the DF with the same acquisition time from the DF folder + check that total counts is < 900 counts. Provide the option to look into another IPTS\n",
    " * OB: make sure the following matches\n",
    "     * check for acquisition time\n",
    "     * detector type\n",
    "     * slits position\n",
    "     * aperture value\n",
    " "
   ]
  },
  {
   "cell_type": "code",
   "execution_count": 17,
   "metadata": {},
   "outputs": [],
   "source": [
    "import ipywidgets as widgets"
   ]
  },
  {
   "cell_type": "code",
   "execution_count": 36,
   "metadata": {},
   "outputs": [
    {
     "data": {
      "application/vnd.jupyter.widget-view+json": {
       "model_id": "c27aad54ce184ed7a2de0d79e1841b81",
       "version_major": 2,
       "version_minor": 0
      },
      "text/plain": [
       "Tab(children=(Text(value='', description='P0'), Text(value='', description='P1'), Text(value='', description='…"
      ]
     },
     "metadata": {},
     "output_type": "display_data"
    }
   ],
   "source": [
    "\n",
    "tab_contents = ['P0', 'P1', 'P2', 'P3', 'P4']\n",
    "children = [widgets.Text(description=name) for name in tab_contents]\n",
    "tab = widgets.Tab()\n",
    "tab.children = children\n",
    "for i in range(len(children)):\n",
    "    tab.set_title(i, str(i))\n",
    "tab.children = tab.children + (widgets.Text(\"ddfdfdfdf\"),)\n",
    "tab.set_title(5, \"yo\")\n",
    "tab"
   ]
  },
  {
   "cell_type": "code",
   "execution_count": 35,
   "metadata": {},
   "outputs": [
    {
     "data": {
      "text/plain": [
       "(Text(value='', description='P0'),\n",
       " Text(value='', description='P1'),\n",
       " Text(value='', description='P2'),\n",
       " Text(value='', description='P3'),\n",
       " Text(value='', description='P4'))"
      ]
     },
     "execution_count": 35,
     "metadata": {},
     "output_type": "execute_result"
    }
   ],
   "source": [
    "tab.children"
   ]
  },
  {
   "cell_type": "code",
   "execution_count": null,
   "metadata": {},
   "outputs": [],
   "source": []
  }
 ],
 "metadata": {
  "anaconda-cloud": {},
  "kernelspec": {
   "display_name": "Python 3",
   "language": "python",
   "name": "python3"
  },
  "language_info": {
   "codemirror_mode": {
    "name": "ipython",
    "version": 3
   },
   "file_extension": ".py",
   "mimetype": "text/x-python",
   "name": "python",
   "nbconvert_exporter": "python",
   "pygments_lexer": "ipython3",
   "version": "3.6.9"
  },
  "toc": {
   "colors": {
    "hover_highlight": "#DAA520",
    "running_highlight": "#FF0000",
    "selected_highlight": "#FFD700"
   },
   "moveMenuLeft": true,
   "nav_menu": {
    "height": "210px",
    "width": "252px"
   },
   "navigate_menu": true,
   "number_sections": true,
   "sideBar": true,
   "threshold": 4,
   "toc_cell": false,
   "toc_section_display": "block",
   "toc_window_display": false
  }
 },
 "nbformat": 4,
 "nbformat_minor": 1
}
