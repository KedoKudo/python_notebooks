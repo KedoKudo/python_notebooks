{
 "cells": [
  {
   "cell_type": "code",
   "execution_count": 1,
   "metadata": {
    "run_control": {
     "frozen": false,
     "read_only": false
    }
   },
   "outputs": [],
   "source": [
    "debugging = True\n",
    "IPTS = 16893"
   ]
  },
  {
   "cell_type": "markdown",
   "metadata": {
    "run_control": {
     "frozen": false,
     "read_only": false
    }
   },
   "source": [
    "# Description"
   ]
  },
  {
   "cell_type": "markdown",
   "metadata": {
    "run_control": {
     "frozen": false,
     "read_only": false
    }
   },
   "source": [
    "All the metadata of the TIFF selected will be displayed"
   ]
  },
  {
   "cell_type": "markdown",
   "metadata": {
    "run_control": {
     "frozen": false,
     "read_only": false
    }
   },
   "source": [
    "# Python Import"
   ]
  },
  {
   "cell_type": "code",
   "execution_count": 2,
   "metadata": {
    "run_control": {
     "frozen": false,
     "read_only": false
    }
   },
   "outputs": [
    {
     "data": {
      "text/html": [
       "<style>\n",
       "\n",
       "/* The following CSS has been adapted from\n",
       "   http://nbviewer.ipython.org/github/ketch/teaching-numerics-with-notebooks/blob/master/Styling_notebooks.ipynb\n",
       "   by Aron Ahmadia and David Ketcheson and has been reused under CC BY 4.0\n",
       "   */\n",
       "\n",
       "/* main background */\n",
       "#site { \n",
       "    background: #888;\n",
       "    color: #red; \n",
       "}\n",
       "\n",
       "div.container {\n",
       "    width: 100% ! important;\n",
       "}\n",
       "\n",
       "div.cell { /* set cell width to about 80 chars */\n",
       "    width: 95%;\n",
       "}\n",
       "\n",
       "div #notebook { /* centre the content */\n",
       "/*    background: #fff; /* white background for content */\n",
       "    background: blue;\n",
       "    width: 100%;\n",
       "    margin: auto;\n",
       "    padding-left: 1em;\n",
       "    padding-right: 1em;\n",
       "    background-image: url(\"tile_background.jpg\");\n",
       "}\n",
       "\n",
       "#notebook li { /* More space between bullet points */\n",
       "    margin-top:0.4em;\n",
       "}\n",
       "\n",
       "/* change background color of running cells */\n",
       "div.cell.code_cell.running {\n",
       "/*    background-color: rgba(164,188,194,.75); */\n",
       "    background-color: green;\n",
       "    border-width: 8px\n",
       "    border-style: solid\n",
       "    border-color: #111;\n",
       "}\n",
       "\n",
       "/* Put a solid color box around each cell and its output, visually linking them together */\n",
       "div.cell.code_cell {\n",
       "    background-color: rgba(164,188,194,.25); /* Continuum L Gray with alpha 0.25 */\n",
       "    border-radius: 10px; /* rounded borders */\n",
       "    padding: 1em;\n",
       "    margin-top: 1em;\n",
       "}\n",
       "\n",
       "div.text_cell_render{\n",
       "\tfont-family: Georgia, Times, 'Times New Roman', serif;\n",
       "    line-height: 110%;\n",
       "    font-size: 105%;\n",
       "    width: 95%;\n",
       "    margin-left: auto;\n",
       "    margin-right: auto;\n",
       "}\n",
       "\n",
       "\n",
       "/* Formatting for header cells */\n",
       ".text_cell_render h1 {\n",
       "\tfont-family: Arial, 'Helvetica Neue', Helvetica, sans-serif;\n",
       "    font-weight: 400;\n",
       "    font-size: 30pt;\n",
       "    line-height: 100%;\n",
       "    color: rgb(37,55,70); /* Continuum Blue*/\n",
       "    margin-bottom: 0.1em;\n",
       "    margin-top: 0.1em;\n",
       "    display: block;\n",
       "}\n",
       ".text_cell_render h2 {\n",
       "\tfont-family: Arial, 'Helvetica Neue', Helvetica, sans-serif;\n",
       "    font-weight: 700;\n",
       "    font-size: 22pt;\n",
       "    line-height: 100%;\n",
       "    color: rgb(37,55,70);\n",
       "    margin-bottom: 0.1em;\n",
       "    margin-top: 0.1em;\n",
       "    display: block;\n",
       "}\n",
       "\n",
       ".text_cell_render h3 {\n",
       "\tfont-family: Arial, 'Helvetica Neue', Helvetica, sans-serif;\n",
       "    margin-top:12px;\n",
       "    margin-bottom: 3px;\n",
       "    font-style: italic;\n",
       "    color: rgb(37, 55, 70);\n",
       "}\n",
       "\n",
       ".text_cell_render h4 {\n",
       "\tfont-family: Arial, 'Helvetica Neue', Helvetica, sans-serif;\n",
       "}\n",
       "\n",
       ".text_cell_render h5 {\n",
       "\tfont-family: Arial, 'Helvetica Neue', Helvetica, sans-serif;\n",
       "    font-weight: 300;\n",
       "    font-size: 14pt;\n",
       "    font-style: italic;\n",
       "    margin-bottom: .1em;\n",
       "    margin-top: 0.1em;\n",
       "    display: block;\n",
       "}\n",
       "\n",
       ".text_cell_render h6 {\n",
       "\tfont-family: Arial, 'Helvetica Neue', Helvetica, sans-serif;\n",
       "    font-weight: 300;\n",
       "    font-size: 10pt;\n",
       "    margin-bottom: 1px;\n",
       "    margin-top: 1px;\n",
       "}\n",
       "\n",
       ".CodeMirror{\n",
       "        font-family: \"PT Mono\", fixed;\n",
       "        font-size: 100%;\n",
       "}\n",
       "\n",
       "#notebook_panel { /* main background */\n",
       "    background-image: url(\"tile_background.jpg\");\n",
       "}\n",
       "\n",
       "\n",
       "\n",
       "\n",
       "</style>\n"
      ],
      "text/plain": [
       "<IPython.core.display.HTML object>"
      ]
     },
     "execution_count": 2,
     "metadata": {},
     "output_type": "execute_result"
    }
   ],
   "source": [
    "from __code.__all import custom_style\n",
    "custom_style.style()"
   ]
  },
  {
   "cell_type": "code",
   "execution_count": 3,
   "metadata": {
    "run_control": {
     "frozen": false,
     "read_only": false
    }
   },
   "outputs": [
    {
     "name": "stdout",
     "output_type": "stream",
     "text": [
      "Working dir: /Volumes/my_book_thunderbolt_duo/IPTS/IPTS_16893\n"
     ]
    }
   ],
   "source": [
    "from __code import utilities, gui_widgets, file_handler\n",
    "import ipywe.fileselector\n",
    "from __code.select_metadata_to_display import DisplayMetadata\n",
    "\n",
    "if debugging:\n",
    "    ipts = IPTS\n",
    "else:\n",
    "    ipts = utilities.get_ipts()\n",
    "    \n",
    "working_dir = utilities.get_working_dir(ipts=ipts, debugging=debugging)\n",
    "print(\"Working dir: {}\".format(working_dir))"
   ]
  },
  {
   "cell_type": "markdown",
   "metadata": {},
   "source": [
    "# Select TIFF Images"
   ]
  },
  {
   "cell_type": "code",
   "execution_count": 4,
   "metadata": {},
   "outputs": [
    {
     "data": {
      "application/vnd.jupyter.widget-view+json": {
       "model_id": "c9a8ec48e966443394d0b23fd904f270",
       "version_major": 2,
       "version_minor": 0
      },
      "text/plain": [
       "A Jupyter Widget"
      ]
     },
     "metadata": {},
     "output_type": "display_data"
    },
    {
     "data": {
      "text/html": [
       "\n",
       "        <style type=\"text/css\">\n",
       "        .jupyter-widgets select option {\n",
       "            font-family: \"Lucida Console\", Monaco, monospace;\n",
       "        }\n",
       "        </style>\n",
       "        "
      ],
      "text/plain": [
       "<IPython.core.display.HTML object>"
      ]
     },
     "metadata": {},
     "output_type": "display_data"
    },
    {
     "data": {
      "application/vnd.jupyter.widget-view+json": {
       "model_id": "c4a58aa4e3a34fe2a7f97297c8258795",
       "version_major": 2,
       "version_minor": 0
      },
      "text/plain": [
       "A Jupyter Widget"
      ]
     },
     "metadata": {},
     "output_type": "display_data"
    },
    {
     "data": {
      "application/vnd.jupyter.widget-view+json": {
       "model_id": "1b610984495b42b68536a08c4c5614a2",
       "version_major": 2,
       "version_minor": 0
      },
      "text/plain": [
       "A Jupyter Widget"
      ]
     },
     "metadata": {},
     "output_type": "display_data"
    },
    {
     "data": {
      "text/html": [
       "\n",
       "        <style type=\"text/css\">\n",
       "        .jupyter-widgets select option {\n",
       "            font-family: \"Lucida Console\", Monaco, monospace;\n",
       "        }\n",
       "        </style>\n",
       "        "
      ],
      "text/plain": [
       "<IPython.core.display.HTML object>"
      ]
     },
     "metadata": {},
     "output_type": "display_data"
    },
    {
     "data": {
      "application/vnd.jupyter.widget-view+json": {
       "model_id": "05d8e38e4aba491bbf318ef26ad99b05",
       "version_major": 2,
       "version_minor": 0
      },
      "text/plain": [
       "A Jupyter Widget"
      ]
     },
     "metadata": {},
     "output_type": "display_data"
    }
   ],
   "source": [
    "list_images_ui = ipywe.fileselector.FileSelectorPanel(instruction='Select TIFF images', \n",
    "                                                      start_dir=working_dir, multiple=True)\n",
    "list_images_ui.show()"
   ]
  },
  {
   "cell_type": "markdown",
   "metadata": {},
   "source": [
    "# Select Metadata to Display"
   ]
  },
  {
   "cell_type": "markdown",
   "metadata": {},
   "source": [
    "Display list of metadata (according to first tiff image)"
   ]
  },
  {
   "cell_type": "code",
   "execution_count": 5,
   "metadata": {},
   "outputs": [
    {
     "data": {
      "application/vnd.jupyter.widget-view+json": {
       "model_id": "78669a1b57ab4709abce4fd0cb8a26a1",
       "version_major": 2,
       "version_minor": 0
      },
      "text/plain": [
       "A Jupyter Widget"
      ]
     },
     "metadata": {},
     "output_type": "display_data"
    }
   ],
   "source": [
    "o_meta = DisplayMetadata(list_images = list_images_ui.selected)\n",
    "o_meta.display_metadata_list()"
   ]
  },
  {
   "cell_type": "markdown",
   "metadata": {},
   "source": [
    "# Metadata Selected Displayed for all Files Loaded"
   ]
  },
  {
   "cell_type": "code",
   "execution_count": 6,
   "metadata": {},
   "outputs": [
    {
     "ename": "AttributeError",
     "evalue": "'DisplayMetadata' object has no attribute 'box'",
     "output_type": "error",
     "traceback": [
      "\u001b[0;31m---------------------------------------------------------------------------\u001b[0m",
      "\u001b[0;31mAttributeError\u001b[0m                            Traceback (most recent call last)",
      "\u001b[0;32m<ipython-input-6-c6ebdc985429>\u001b[0m in \u001b[0;36m<module>\u001b[0;34m()\u001b[0m\n\u001b[0;32m----> 1\u001b[0;31m \u001b[0mo_meta\u001b[0m\u001b[0;34m.\u001b[0m\u001b[0mdisplay_metadata_selected\u001b[0m\u001b[0;34m(\u001b[0m\u001b[0;34m)\u001b[0m\u001b[0;34m\u001b[0m\u001b[0m\n\u001b[0m",
      "\u001b[0;32m~/git/IPTS/notebooks/__code/select_metadata_to_display.py\u001b[0m in \u001b[0;36mdisplay_metadata_selected\u001b[0;34m(self)\u001b[0m\n\u001b[1;32m     32\u001b[0m         \u001b[0;32mdef\u001b[0m \u001b[0mdisplay_metadata_selected\u001b[0m\u001b[0;34m(\u001b[0m\u001b[0mself\u001b[0m\u001b[0;34m)\u001b[0m\u001b[0;34m:\u001b[0m\u001b[0;34m\u001b[0m\u001b[0m\n\u001b[1;32m     33\u001b[0m \u001b[0;34m\u001b[0m\u001b[0m\n\u001b[0;32m---> 34\u001b[0;31m                 \u001b[0mmetadata_selected\u001b[0m \u001b[0;34m=\u001b[0m \u001b[0mself\u001b[0m\u001b[0;34m.\u001b[0m\u001b[0mbox\u001b[0m\u001b[0;34m.\u001b[0m\u001b[0mchildren\u001b[0m\u001b[0;34m[\u001b[0m\u001b[0;36m1\u001b[0m\u001b[0;34m]\u001b[0m\u001b[0;34m.\u001b[0m\u001b[0mvalue\u001b[0m\u001b[0;34m\u001b[0m\u001b[0m\n\u001b[0m\u001b[1;32m     35\u001b[0m \u001b[0;34m\u001b[0m\u001b[0m\n\u001b[1;32m     36\u001b[0m                 \u001b[0;31m# retrieve key selected\u001b[0m\u001b[0;34m\u001b[0m\u001b[0;34m\u001b[0m\u001b[0m\n",
      "\u001b[0;31mAttributeError\u001b[0m: 'DisplayMetadata' object has no attribute 'box'"
     ]
    }
   ],
   "source": [
    "o_meta.display_metadata_selected()"
   ]
  },
  {
   "cell_type": "markdown",
   "metadata": {},
   "source": [
    "# Export Metadata Selected "
   ]
  },
  {
   "cell_type": "code",
   "execution_count": 104,
   "metadata": {},
   "outputs": [
    {
     "data": {
      "text/plain": [
       "['20160924_16V_05M_LiCl_in_D2O_24Sep2016_0050_0001.tiff (843575936.9470825,)',\n",
       " '20160924_16V_05M_LiCl_in_D2O_24Sep2016_0050_0002.tiff (843575991.8615342,)',\n",
       " '20160924_16V_05M_LiCl_in_D2O_24Sep2016_0050_0003.tiff (843576046.7767457,)',\n",
       " '20160924_16V_05M_LiCl_in_D2O_24Sep2016_0050_0004.tiff (843576101.6328596,)',\n",
       " '20160924_16V_05M_LiCl_in_D2O_24Sep2016_0050_0005.tiff (843576156.498244,)',\n",
       " '20160924_16V_05M_LiCl_in_D2O_24Sep2016_0050_0006.tiff (843576211.3977013,)',\n",
       " '20160924_16V_05M_LiCl_in_D2O_24Sep2016_0050_0007.tiff (843576266.2620872,)',\n",
       " '20160924_16V_05M_LiCl_in_D2O_24Sep2016_0050_0008.tiff (843576321.167948,)',\n",
       " '20160924_16V_05M_LiCl_in_D2O_24Sep2016_0050_0009.tiff (843576376.0257802,)',\n",
       " '20160924_16V_05M_LiCl_in_D2O_24Sep2016_0050_0010.tiff (843576430.9396727,)',\n",
       " '20160924_16V_05M_LiCl_in_D2O_24Sep2016_0050_0011.tiff (843576485.846577,)',\n",
       " '20160924_16V_05M_LiCl_in_D2O_24Sep2016_0050_0012.tiff (843576540.7524034,)',\n",
       " '20160924_16V_05M_LiCl_in_D2O_24Sep2016_0050_0013.tiff (843576595.668074,)',\n",
       " '20160924_16V_05M_LiCl_in_D2O_24Sep2016_0050_0014.tiff (843576650.5751349,)',\n",
       " '20160924_16V_05M_LiCl_in_D2O_24Sep2016_0050_0015.tiff (843576705.4396518,)',\n",
       " '20160924_16V_05M_LiCl_in_D2O_24Sep2016_0050_0016.tiff (843576760.3127475,)',\n",
       " '20160924_16V_05M_LiCl_in_D2O_24Sep2016_0050_0017.tiff (843576815.1856203,)',\n",
       " '20160924_16V_05M_LiCl_in_D2O_24Sep2016_0050_0018.tiff (843576870.1093348,)',\n",
       " '20160924_16V_05M_LiCl_in_D2O_24Sep2016_0050_0019.tiff (843576924.9815252,)',\n",
       " '20160924_16V_05M_LiCl_in_D2O_24Sep2016_0050_0020.tiff (843576979.8973147,)',\n",
       " '20160924_16V_05M_LiCl_in_D2O_24Sep2016_0050_0021.tiff (843577034.7618717,)',\n",
       " '20160924_16V_05M_LiCl_in_D2O_24Sep2016_0050_0022.tiff (843577089.6854118,)',\n",
       " '20160924_16V_05M_LiCl_in_D2O_24Sep2016_0050_0023.tiff (843577144.5500978,)',\n",
       " '20160924_16V_05M_LiCl_in_D2O_24Sep2016_0050_0024.tiff (843577199.4572785,)',\n",
       " '20160924_16V_05M_LiCl_in_D2O_24Sep2016_0050_0025.tiff (843577254.3224217,)',\n",
       " '20160924_16V_05M_LiCl_in_D2O_24Sep2016_0050_0026.tiff (843577309.2365576,)',\n",
       " '20160924_16V_05M_LiCl_in_D2O_24Sep2016_0050_0027.tiff (843577364.1086586,)',\n",
       " '20160924_16V_05M_LiCl_in_D2O_24Sep2016_0050_0028.tiff (843577418.9749677,)',\n",
       " '20160924_16V_05M_LiCl_in_D2O_24Sep2016_0050_0029.tiff (843577473.890429,)',\n",
       " '20160924_16V_05M_LiCl_in_D2O_24Sep2016_0050_0030.tiff (843577528.7543037,)',\n",
       " '20160924_16V_05M_LiCl_in_D2O_24Sep2016_0050_0031.tiff (843577583.6205448,)',\n",
       " '20160924_16V_05M_LiCl_in_D2O_24Sep2016_0050_0032.tiff (843577638.5342582,)',\n",
       " '20160924_16V_05M_LiCl_in_D2O_24Sep2016_0050_0033.tiff (843577693.4405664,)',\n",
       " '20160924_16V_05M_LiCl_in_D2O_24Sep2016_0050_0034.tiff (843577748.2972142,)',\n",
       " '20160924_16V_05M_LiCl_in_D2O_24Sep2016_0050_0035.tiff (843577803.2041329,)',\n",
       " '20160924_16V_05M_LiCl_in_D2O_24Sep2016_0050_0036.tiff (843577858.1190976,)',\n",
       " '20160924_16V_05M_LiCl_in_D2O_24Sep2016_0050_0037.tiff (843577913.0247631,)',\n",
       " '20160924_16V_05M_LiCl_in_D2O_24Sep2016_0050_0038.tiff (843577967.940688,)',\n",
       " '20160924_16V_05M_LiCl_in_D2O_24Sep2016_0050_0039.tiff (843578022.8391374,)',\n",
       " '20160924_16V_05M_LiCl_in_D2O_24Sep2016_0050_0040.tiff (843578077.761784,)',\n",
       " '20160924_16V_05M_LiCl_in_D2O_24Sep2016_0050_0041.tiff (843578132.6688329,)',\n",
       " '20160924_16V_05M_LiCl_in_D2O_24Sep2016_0050_0042.tiff (843578187.5830752,)',\n",
       " '20160924_16V_05M_LiCl_in_D2O_24Sep2016_0050_0043.tiff (843578242.4822341,)',\n",
       " '20160924_16V_05M_LiCl_in_D2O_24Sep2016_0050_0044.tiff (843578297.3981515,)',\n",
       " '20160924_16V_05M_LiCl_in_D2O_24Sep2016_0050_0045.tiff (843578352.3216951,)',\n",
       " '20160924_16V_05M_LiCl_in_D2O_24Sep2016_0050_0046.tiff (843578407.2444654,)',\n",
       " '20160924_16V_05M_LiCl_in_D2O_24Sep2016_0050_0047.tiff (843578462.1595188,)',\n",
       " '20160924_16V_05M_LiCl_in_D2O_24Sep2016_0050_0048.tiff (843578517.073254,)',\n",
       " '20160924_16V_05M_LiCl_in_D2O_24Sep2016_0050_0049.tiff (843578571.9971218,)',\n",
       " '20160924_16V_05M_LiCl_in_D2O_24Sep2016_0050_0050.tiff (843578626.8622042,)',\n",
       " '20160924_16V_05M_LiCl_in_D2O_24Sep2016_0050_0051.tiff (843578681.7770675,)',\n",
       " '20160924_16V_05M_LiCl_in_D2O_24Sep2016_0050_0052.tiff (843578736.6930465,)',\n",
       " '20160924_16V_05M_LiCl_in_D2O_24Sep2016_0050_0053.tiff (843578791.5568516,)',\n",
       " '20160924_16V_05M_LiCl_in_D2O_24Sep2016_0050_0054.tiff (843578846.4717627,)',\n",
       " '20160924_16V_05M_LiCl_in_D2O_24Sep2016_0050_0055.tiff (843578901.3870982,)',\n",
       " '20160924_16V_05M_LiCl_in_D2O_24Sep2016_0050_0056.tiff (843578956.3171854,)',\n",
       " '20160924_16V_05M_LiCl_in_D2O_24Sep2016_0050_0057.tiff (843579011.1829324,)',\n",
       " '20160924_16V_05M_LiCl_in_D2O_24Sep2016_0050_0058.tiff (843579066.0978719,)',\n",
       " '20160924_16V_05M_LiCl_in_D2O_24Sep2016_0050_0059.tiff (843579120.9617227,)',\n",
       " '20160924_16V_05M_LiCl_in_D2O_24Sep2016_0050_0060.tiff (843579175.8290988,)',\n",
       " '20160924_16V_05M_LiCl_in_D2O_24Sep2016_0050_0061.tiff (843579230.7411703,)',\n",
       " '20160924_16V_05M_LiCl_in_D2O_24Sep2016_0050_0062.tiff (843579285.6070249,)',\n",
       " '20160924_16V_05M_LiCl_in_D2O_24Sep2016_0050_0063.tiff (843579340.4723432,)',\n",
       " '20160924_16V_05M_LiCl_in_D2O_24Sep2016_0050_0064.tiff (843579395.3379146,)',\n",
       " '20160924_16V_05M_LiCl_in_D2O_24Sep2016_0050_0065.tiff (843579450.2017727,)',\n",
       " '20160924_16V_05M_LiCl_in_D2O_24Sep2016_0050_0066.tiff (843579505.1261146,)',\n",
       " '20160924_16V_05M_LiCl_in_D2O_24Sep2016_0050_0067.tiff (843579559.990779,)',\n",
       " '20160924_16V_05M_LiCl_in_D2O_24Sep2016_0050_0068.tiff (843579614.9050914,)',\n",
       " '20160924_16V_05M_LiCl_in_D2O_24Sep2016_0050_0069.tiff (843579669.7692187,)',\n",
       " '20160924_16V_05M_LiCl_in_D2O_24Sep2016_0050_0070.tiff (843579724.6337584,)',\n",
       " '20160924_16V_05M_LiCl_in_D2O_24Sep2016_0050_0071.tiff (843579779.5865839,)',\n",
       " '20160924_16V_05M_LiCl_in_D2O_24Sep2016_0050_0072.tiff (843579834.4555073,)',\n",
       " '20160924_16V_05M_LiCl_in_D2O_24Sep2016_0050_0073.tiff (843579889.3873492,)',\n",
       " '20160924_16V_05M_LiCl_in_D2O_24Sep2016_0050_0074.tiff (843579944.3024204,)',\n",
       " '20160924_16V_05M_LiCl_in_D2O_24Sep2016_0050_0075.tiff (843579999.175851,)',\n",
       " '20160924_16V_05M_LiCl_in_D2O_24Sep2016_0050_0076.tiff (843580054.0483547,)',\n",
       " '20160924_16V_05M_LiCl_in_D2O_24Sep2016_0050_0077.tiff (843580108.9133319,)',\n",
       " '20160924_16V_05M_LiCl_in_D2O_24Sep2016_0050_0078.tiff (843580163.8290141,)',\n",
       " '20160924_16V_05M_LiCl_in_D2O_24Sep2016_0050_0079.tiff (843580218.7687558,)',\n",
       " '20160924_16V_05M_LiCl_in_D2O_24Sep2016_0050_0080.tiff (843580273.692142,)',\n",
       " '20160924_16V_05M_LiCl_in_D2O_24Sep2016_0050_0081.tiff (843580328.6067972,)',\n",
       " '20160924_16V_05M_LiCl_in_D2O_24Sep2016_0050_0082.tiff (843580383.5055664,)',\n",
       " '20160924_16V_05M_LiCl_in_D2O_24Sep2016_0050_0083.tiff (843580438.4198031,)',\n",
       " '20160924_16V_05M_LiCl_in_D2O_24Sep2016_0050_0084.tiff (843580493.3276094,)',\n",
       " '20160924_16V_05M_LiCl_in_D2O_24Sep2016_0050_0085.tiff (843580548.2410461,)',\n",
       " '20160924_16V_05M_LiCl_in_D2O_24Sep2016_0050_0086.tiff (843580603.1554228,)',\n",
       " '20160924_16V_05M_LiCl_in_D2O_24Sep2016_0050_0087.tiff (843580658.0719987,)',\n",
       " '20160924_16V_05M_LiCl_in_D2O_24Sep2016_0050_0088.tiff (843580712.9863191,)',\n",
       " '20160924_16V_05M_LiCl_in_D2O_24Sep2016_0050_0089.tiff (843580767.8519247,)',\n",
       " '20160924_16V_05M_LiCl_in_D2O_24Sep2016_0050_0090.tiff (843580822.7749245,)',\n",
       " '20160924_16V_05M_LiCl_in_D2O_24Sep2016_0050_0091.tiff (843580877.6394006,)',\n",
       " '20160924_16V_05M_LiCl_in_D2O_24Sep2016_0050_0092.tiff (843580932.5043081,)',\n",
       " '20160924_16V_05M_LiCl_in_D2O_24Sep2016_0050_0093.tiff (843580987.3855934,)',\n",
       " '20160924_16V_05M_LiCl_in_D2O_24Sep2016_0050_0094.tiff (843581042.2587656,)',\n",
       " '20160924_16V_05M_LiCl_in_D2O_24Sep2016_0050_0095.tiff (843581097.182525,)',\n",
       " '20160924_16V_05M_LiCl_in_D2O_24Sep2016_0050_0096.tiff (843581152.1049678,)',\n",
       " '20160924_16V_05M_LiCl_in_D2O_24Sep2016_0050_0097.tiff (843581207.0286366,)',\n",
       " '20160924_16V_05M_LiCl_in_D2O_24Sep2016_0050_0098.tiff (843581261.894265,)',\n",
       " '20160924_16V_05M_LiCl_in_D2O_24Sep2016_0050_0099.tiff (843581316.7917501,)',\n",
       " '20160924_16V_05M_LiCl_in_D2O_24Sep2016_0050_0100.tiff (843581371.6645143,)',\n",
       " '20160924_16V_05M_LiCl_in_D2O_24Sep2016_0050_0101.tiff (843581426.5887376,)',\n",
       " '20160924_16V_05M_LiCl_in_D2O_24Sep2016_0050_0102.tiff (843581481.4866109,)',\n",
       " '20160924_16V_05M_LiCl_in_D2O_24Sep2016_0050_0103.tiff (843581536.3838708,)',\n",
       " '20160924_16V_05M_LiCl_in_D2O_24Sep2016_0050_0104.tiff (843581591.299062,)',\n",
       " '20160924_16V_05M_LiCl_in_D2O_24Sep2016_0050_0105.tiff (843581646.2220066,)',\n",
       " '20160924_16V_05M_LiCl_in_D2O_24Sep2016_0050_0106.tiff (843581701.145747,)',\n",
       " '20160924_16V_05M_LiCl_in_D2O_24Sep2016_0050_0107.tiff (843581756.0113934,)',\n",
       " '20160924_16V_05M_LiCl_in_D2O_24Sep2016_0050_0108.tiff (843581810.8835411,)',\n",
       " '20160924_16V_05M_LiCl_in_D2O_24Sep2016_0050_0109.tiff (843581865.758154,)',\n",
       " '20160924_16V_05M_LiCl_in_D2O_24Sep2016_0050_0110.tiff (843581920.6798515,)',\n",
       " '20160924_16V_05M_LiCl_in_D2O_24Sep2016_0050_0111.tiff (843581975.5955278,)',\n",
       " '20160924_16V_05M_LiCl_in_D2O_24Sep2016_0050_0112.tiff (843582030.5184145,)',\n",
       " '20160924_16V_05M_LiCl_in_D2O_24Sep2016_0050_0113.tiff (843582085.4338725,)',\n",
       " '20160924_16V_05M_LiCl_in_D2O_24Sep2016_0050_0114.tiff (843582140.3564726,)',\n",
       " '20160924_16V_05M_LiCl_in_D2O_24Sep2016_0050_0115.tiff (843582195.2711749,)',\n",
       " '20160924_16V_05M_LiCl_in_D2O_24Sep2016_0050_0116.tiff (843582250.1368868,)',\n",
       " '20160924_16V_05M_LiCl_in_D2O_24Sep2016_0050_0117.tiff (843582305.0098485,)',\n",
       " '20160924_16V_05M_LiCl_in_D2O_24Sep2016_0050_0118.tiff (843582359.9254103,)',\n",
       " '20160924_16V_05M_LiCl_in_D2O_24Sep2016_0050_0119.tiff (843582414.7987024,)',\n",
       " '20160924_16V_05M_LiCl_in_D2O_24Sep2016_0050_0120.tiff (843582469.7128602,)',\n",
       " '20160924_16V_05M_LiCl_in_D2O_24Sep2016_0050_0121.tiff (843582524.6778412,)',\n",
       " '20160924_16V_05M_LiCl_in_D2O_24Sep2016_0050_0122.tiff (843582579.5254325,)',\n",
       " '20160924_16V_05M_LiCl_in_D2O_24Sep2016_0050_0123.tiff (843582634.4501553,)',\n",
       " '20160924_16V_05M_LiCl_in_D2O_24Sep2016_0050_0124.tiff (843582689.3227137,)',\n",
       " '20160924_16V_05M_LiCl_in_D2O_24Sep2016_0050_0125.tiff (843582744.1862961,)',\n",
       " '20160924_16V_05M_LiCl_in_D2O_24Sep2016_0050_0126.tiff (843582799.1023016,)',\n",
       " '20160924_16V_05M_LiCl_in_D2O_24Sep2016_0050_0127.tiff (843582854.0173635,)',\n",
       " '20160924_16V_05M_LiCl_in_D2O_24Sep2016_0050_0128.tiff (843582908.9398078,)',\n",
       " '20160924_16V_05M_LiCl_in_D2O_24Sep2016_0050_0129.tiff (843582963.8055366,)',\n",
       " '20160924_16V_05M_LiCl_in_D2O_24Sep2016_0050_0130.tiff (843583018.7209696,)',\n",
       " '20160924_16V_05M_LiCl_in_D2O_24Sep2016_0050_0131.tiff (843583073.6361775,)',\n",
       " '20160924_16V_05M_LiCl_in_D2O_24Sep2016_0050_0132.tiff (843583128.5091538,)',\n",
       " '20160924_16V_05M_LiCl_in_D2O_24Sep2016_0050_0133.tiff (843583183.3564161,)',\n",
       " '20160924_16V_05M_LiCl_in_D2O_24Sep2016_0050_0134.tiff (843583238.2210963,)',\n",
       " '20160924_16V_05M_LiCl_in_D2O_24Sep2016_0050_0135.tiff (843583293.0861399,)',\n",
       " '20160924_16V_05M_LiCl_in_D2O_24Sep2016_0050_0136.tiff (843583347.9602048,)',\n",
       " '20160924_16V_05M_LiCl_in_D2O_24Sep2016_0050_0137.tiff (843583402.8244414,)',\n",
       " '20160924_16V_05M_LiCl_in_D2O_24Sep2016_0050_0138.tiff (843583457.71491,)',\n",
       " '20160924_16V_05M_LiCl_in_D2O_24Sep2016_0050_0139.tiff (843583512.5794749,)',\n",
       " '20160924_16V_05M_LiCl_in_D2O_24Sep2016_0050_0140.tiff (843583567.5026433,)',\n",
       " '20160924_16V_05M_LiCl_in_D2O_24Sep2016_0050_0141.tiff (843583622.3681203,)',\n",
       " '20160924_16V_05M_LiCl_in_D2O_24Sep2016_0050_0142.tiff (843583677.2915962,)',\n",
       " '20160924_16V_05M_LiCl_in_D2O_24Sep2016_0050_0143.tiff (843583732.1546689,)',\n",
       " '20160924_16V_05M_LiCl_in_D2O_24Sep2016_0050_0144.tiff (843583787.0202477,)',\n",
       " '20160924_16V_05M_LiCl_in_D2O_24Sep2016_0050_0145.tiff (843583841.8851591,)',\n",
       " '20160924_16V_05M_LiCl_in_D2O_24Sep2016_0050_0146.tiff (843583896.7603929,)',\n",
       " '20160924_16V_05M_LiCl_in_D2O_24Sep2016_0050_0147.tiff (843583951.6818147,)',\n",
       " '20160924_16V_05M_LiCl_in_D2O_24Sep2016_0050_0148.tiff (843584006.5472989,)',\n",
       " '20160924_16V_05M_LiCl_in_D2O_24Sep2016_0050_0149.tiff (843584061.3957767,)',\n",
       " '20160924_16V_05M_LiCl_in_D2O_24Sep2016_0050_0150.tiff (843584116.3190291,)',\n",
       " '20160924_16V_05M_LiCl_in_D2O_24Sep2016_0050_0151.tiff (843584171.2416183,)',\n",
       " '20160924_16V_05M_LiCl_in_D2O_24Sep2016_0050_0152.tiff (843584226.1068139,)',\n",
       " '20160924_16V_05M_LiCl_in_D2O_24Sep2016_0050_0153.tiff (843584281.0216963,)',\n",
       " '20160924_16V_05M_LiCl_in_D2O_24Sep2016_0050_0154.tiff (843584335.8943802,)',\n",
       " '20160924_16V_05M_LiCl_in_D2O_24Sep2016_0050_0155.tiff (843584390.8101751,)',\n",
       " '20160924_16V_05M_LiCl_in_D2O_24Sep2016_0050_0156.tiff (843584445.7332847,)',\n",
       " '20160924_16V_05M_LiCl_in_D2O_24Sep2016_0050_0157.tiff (843584500.630941,)',\n",
       " '20160924_16V_05M_LiCl_in_D2O_24Sep2016_0050_0158.tiff (843584555.553699,)',\n",
       " '20160924_16V_05M_LiCl_in_D2O_24Sep2016_0050_0159.tiff (843584610.4694059,)',\n",
       " '20160924_16V_05M_LiCl_in_D2O_24Sep2016_0050_0160.tiff (843584665.466897,)',\n",
       " '20160924_16V_05M_LiCl_in_D2O_24Sep2016_0050_0161.tiff (843584720.3914138,)',\n",
       " '20160924_16V_05M_LiCl_in_D2O_24Sep2016_0050_0162.tiff (843584775.2555408,)',\n",
       " '20160924_16V_05M_LiCl_in_D2O_24Sep2016_0050_0163.tiff (843584830.1282698,)',\n",
       " '20160924_16V_05M_LiCl_in_D2O_24Sep2016_0050_0164.tiff (843584885.0024525,)',\n",
       " '20160924_16V_05M_LiCl_in_D2O_24Sep2016_0050_0165.tiff (843584939.9253095,)',\n",
       " '20160924_16V_05M_LiCl_in_D2O_24Sep2016_0050_0166.tiff (843584994.8228059,)',\n",
       " '20160924_16V_05M_LiCl_in_D2O_24Sep2016_0050_0167.tiff (843585049.696051,)',\n",
       " '20160924_16V_05M_LiCl_in_D2O_24Sep2016_0050_0168.tiff (843585104.6115904,)',\n",
       " '20160924_16V_05M_LiCl_in_D2O_24Sep2016_0050_0169.tiff (843585159.5342046,)',\n",
       " '20160924_16V_05M_LiCl_in_D2O_24Sep2016_0050_0170.tiff (843585214.4573946,)',\n",
       " '20160924_16V_05M_LiCl_in_D2O_24Sep2016_0050_0171.tiff (843585269.389594,)',\n",
       " '20160924_16V_05M_LiCl_in_D2O_24Sep2016_0050_0172.tiff (843585324.3122672,)',\n",
       " '20160924_16V_05M_LiCl_in_D2O_24Sep2016_0050_0173.tiff (843585379.1854105,)',\n",
       " '20160924_16V_05M_LiCl_in_D2O_24Sep2016_0050_0174.tiff (843585434.0597024,)',\n",
       " '20160924_16V_05M_LiCl_in_D2O_24Sep2016_0050_0175.tiff (843585488.958188,)',\n",
       " '20160924_16V_05M_LiCl_in_D2O_24Sep2016_0050_0176.tiff (843585543.8222852,)',\n",
       " '20160924_16V_05M_LiCl_in_D2O_24Sep2016_0050_0177.tiff (843585598.7371643,)',\n",
       " '20160924_16V_05M_LiCl_in_D2O_24Sep2016_0050_0178.tiff (843585653.6873083,)',\n",
       " '20160924_16V_05M_LiCl_in_D2O_24Sep2016_0050_0179.tiff (843585708.6667609,)',\n",
       " '20160924_16V_05M_LiCl_in_D2O_24Sep2016_0050_0180.tiff (843585763.5319844,)',\n",
       " '20160924_16V_05M_LiCl_in_D2O_24Sep2016_0050_0181.tiff (843585818.4543203,)',\n",
       " '20160924_16V_05M_LiCl_in_D2O_24Sep2016_0050_0182.tiff (843585873.3191037,)',\n",
       " '20160924_16V_05M_LiCl_in_D2O_24Sep2016_0050_0183.tiff (843585928.2427313,)',\n",
       " '20160924_16V_05M_LiCl_in_D2O_24Sep2016_0050_0184.tiff (843585983.1577516,)',\n",
       " '20160924_16V_05M_LiCl_in_D2O_24Sep2016_0050_0185.tiff (843586038.0226679,)',\n",
       " '20160924_16V_05M_LiCl_in_D2O_24Sep2016_0050_0186.tiff (843586092.9457275,)',\n",
       " '20160924_16V_05M_LiCl_in_D2O_24Sep2016_0050_0187.tiff (843586147.845161,)',\n",
       " '20160924_16V_05M_LiCl_in_D2O_24Sep2016_0050_0188.tiff (843586202.7173136,)',\n",
       " '20160924_16V_05M_LiCl_in_D2O_24Sep2016_0050_0189.tiff (843586257.6407715,)',\n",
       " '20160924_16V_05M_LiCl_in_D2O_24Sep2016_0050_0190.tiff (843586312.5551939,)',\n",
       " '20160924_16V_05M_LiCl_in_D2O_24Sep2016_0050_0191.tiff (843586367.479574,)',\n",
       " '20160924_16V_05M_LiCl_in_D2O_24Sep2016_0050_0192.tiff (843586422.3524108,)',\n",
       " '20160924_16V_05M_LiCl_in_D2O_24Sep2016_0050_0193.tiff (843586477.225701,)',\n",
       " '20160924_16V_05M_LiCl_in_D2O_24Sep2016_0050_0194.tiff (843586532.0990764,)',\n",
       " '20160924_16V_05M_LiCl_in_D2O_24Sep2016_0050_0195.tiff (843586587.0228058,)',\n",
       " '20160924_16V_05M_LiCl_in_D2O_24Sep2016_0050_0196.tiff (843586641.9381354,)',\n",
       " '20160924_16V_05M_LiCl_in_D2O_24Sep2016_0050_0197.tiff (843586696.860382,)',\n",
       " '20160924_16V_05M_LiCl_in_D2O_24Sep2016_0050_0198.tiff (843586751.7838694,)',\n",
       " '20160924_16V_05M_LiCl_in_D2O_24Sep2016_0050_0199.tiff (843586806.6483319,)',\n",
       " '20160924_16V_05M_LiCl_in_D2O_24Sep2016_0050_0200.tiff (843586861.5223216,)',\n",
       " '20160924_16V_05M_LiCl_in_D2O_24Sep2016_0050_0201.tiff (843586916.3868445,)',\n",
       " '20160924_16V_05M_LiCl_in_D2O_24Sep2016_0050_0202.tiff (843586971.2596108,)',\n",
       " '20160924_16V_05M_LiCl_in_D2O_24Sep2016_0050_0203.tiff (843587026.1751869,)',\n",
       " '20160924_16V_05M_LiCl_in_D2O_24Sep2016_0050_0204.tiff (843587081.039715,)',\n",
       " '20160924_16V_05M_LiCl_in_D2O_24Sep2016_0050_0205.tiff (843587135.9047798,)',\n",
       " '20160924_16V_05M_LiCl_in_D2O_24Sep2016_0050_0206.tiff (843587190.8194658,)',\n",
       " '20160924_16V_05M_LiCl_in_D2O_24Sep2016_0050_0207.tiff (843587245.7432336,)',\n",
       " '20160924_16V_05M_LiCl_in_D2O_24Sep2016_0050_0208.tiff (843587300.607288,)',\n",
       " '20160924_16V_05M_LiCl_in_D2O_24Sep2016_0050_0209.tiff (843587355.4557801,)',\n",
       " '20160924_16V_05M_LiCl_in_D2O_24Sep2016_0050_0210.tiff (843587410.3288807,)',\n",
       " '20160924_16V_05M_LiCl_in_D2O_24Sep2016_0050_0211.tiff (843587465.2521378,)',\n",
       " '20160924_16V_05M_LiCl_in_D2O_24Sep2016_0050_0212.tiff (843587520.1759132,)',\n",
       " '20160924_16V_05M_LiCl_in_D2O_24Sep2016_0050_0213.tiff (843587575.04006,)',\n",
       " '20160924_16V_05M_LiCl_in_D2O_24Sep2016_0050_0214.tiff (843587629.9640346,)',\n",
       " '20160924_16V_05M_LiCl_in_D2O_24Sep2016_0050_0215.tiff (843587684.8873577,)',\n",
       " '20160924_16V_05M_LiCl_in_D2O_24Sep2016_0050_0216.tiff (843587739.7597582,)',\n",
       " '20160924_16V_05M_LiCl_in_D2O_24Sep2016_0050_0217.tiff (843587794.6837322,)',\n",
       " '20160924_16V_05M_LiCl_in_D2O_24Sep2016_0050_0218.tiff (843587849.6058204,)',\n",
       " '20160924_16V_05M_LiCl_in_D2O_24Sep2016_0050_0219.tiff (843587904.4713132,)',\n",
       " '20160924_16V_05M_LiCl_in_D2O_24Sep2016_0050_0220.tiff (843587959.3944637,)',\n",
       " '20160924_16V_05M_LiCl_in_D2O_24Sep2016_0050_0221.tiff (843588014.3519138,)',\n",
       " '20160924_16V_05M_LiCl_in_D2O_24Sep2016_0050_0222.tiff (843588069.2750559,)',\n",
       " '20160924_16V_05M_LiCl_in_D2O_24Sep2016_0050_0223.tiff (843588124.1908064,)',\n",
       " '20160924_16V_05M_LiCl_in_D2O_24Sep2016_0050_0224.tiff (843588179.1047319,)',\n",
       " '20160924_16V_05M_LiCl_in_D2O_24Sep2016_0050_0225.tiff (843588233.9695141,)',\n",
       " '20160924_16V_05M_LiCl_in_D2O_24Sep2016_0050_0226.tiff (843588288.876179,)',\n",
       " '20160924_16V_05M_LiCl_in_D2O_24Sep2016_0050_0227.tiff (843588343.798646,)',\n",
       " '20160924_16V_05M_LiCl_in_D2O_24Sep2016_0050_0228.tiff (843588398.6633871,)',\n",
       " '20160924_16V_05M_LiCl_in_D2O_24Sep2016_0050_0229.tiff (843588453.5285177,)',\n",
       " '20160924_16V_05M_LiCl_in_D2O_24Sep2016_0050_0230.tiff (843588508.4432323,)',\n",
       " '20160924_16V_05M_LiCl_in_D2O_24Sep2016_0050_0231.tiff (843588563.3919009,)',\n",
       " '20160924_16V_05M_LiCl_in_D2O_24Sep2016_0050_0232.tiff (843588618.3316472,)',\n",
       " '20160924_16V_05M_LiCl_in_D2O_24Sep2016_0050_0233.tiff (843588673.2065039,)',\n",
       " '20160924_16V_05M_LiCl_in_D2O_24Sep2016_0050_0234.tiff (843588728.1198498,)',\n",
       " '20160924_16V_05M_LiCl_in_D2O_24Sep2016_0050_0235.tiff (843588783.0342042,)',\n",
       " '20160924_16V_05M_LiCl_in_D2O_24Sep2016_0050_0236.tiff (843588837.907691,)',\n",
       " '20160924_16V_05M_LiCl_in_D2O_24Sep2016_0050_0237.tiff (843588892.8314985,)',\n",
       " '20160924_16V_05M_LiCl_in_D2O_24Sep2016_0050_0238.tiff (843588947.7048895,)',\n",
       " '20160924_16V_05M_LiCl_in_D2O_24Sep2016_0050_0239.tiff (843589002.6278534,)']"
      ]
     },
     "execution_count": 104,
     "metadata": {},
     "output_type": "execute_result"
    }
   ],
   "source": [
    "export_txt"
   ]
  },
  {
   "cell_type": "code",
   "execution_count": 105,
   "metadata": {
    "scrolled": true
   },
   "outputs": [
    {
     "data": {
      "application/vnd.jupyter.widget-view+json": {
       "model_id": "f094a06217d2449d834479b215b150ab",
       "version_major": 2,
       "version_minor": 0
      },
      "text/plain": [
       "A Jupyter Widget"
      ]
     },
     "metadata": {},
     "output_type": "display_data"
    },
    {
     "data": {
      "text/html": [
       "\n",
       "        <style type=\"text/css\">\n",
       "        .jupyter-widgets select option {\n",
       "            font-family: \"Lucida Console\", Monaco, monospace;\n",
       "        }\n",
       "        </style>\n",
       "        "
      ],
      "text/plain": [
       "<IPython.core.display.HTML object>"
      ]
     },
     "metadata": {},
     "output_type": "display_data"
    },
    {
     "data": {
      "application/vnd.jupyter.widget-view+json": {
       "model_id": "fe2446705d9b42a6a139cf56f29669ec",
       "version_major": 2,
       "version_minor": 0
      },
      "text/plain": [
       "A Jupyter Widget"
      ]
     },
     "metadata": {},
     "output_type": "display_data"
    }
   ],
   "source": [
    "output_folder_ui = ipywe.fileselector.FileSelectorPanel(instruction='Select output folder', \n",
    "                                                      start_dir=working_dir, multiple=False,\n",
    "                                                    type='directory')\n",
    "output_folder_ui.show()"
   ]
  },
  {
   "cell_type": "code",
   "execution_count": 106,
   "metadata": {
    "collapsed": true
   },
   "outputs": [],
   "source": [
    "parent_folder = list_images[0].split(os.path.sep)[-2]\n",
    "metadata_name = 'metadata#{}'.format(key)\n",
    "output_file_name = os.path.join(output_folder_ui.selected, \"{}_{}.txt\".format(parent_folder, metadata_name))"
   ]
  },
  {
   "cell_type": "code",
   "execution_count": 108,
   "metadata": {
    "collapsed": true
   },
   "outputs": [],
   "source": [
    "file_handler.make_ascii_file(metadata=['#Metadata'], data=export_txt, dim='1d', output_file_name=output_file_name)"
   ]
  },
  {
   "cell_type": "code",
   "execution_count": null,
   "metadata": {
    "collapsed": true
   },
   "outputs": [],
   "source": []
  }
 ],
 "metadata": {
  "kernelspec": {
   "display_name": "Python [conda env:py35]",
   "language": "python",
   "name": "conda-env-py35-py"
  },
  "language_info": {
   "codemirror_mode": {
    "name": "ipython",
    "version": 3
   },
   "file_extension": ".py",
   "mimetype": "text/x-python",
   "name": "python",
   "nbconvert_exporter": "python",
   "pygments_lexer": "ipython3",
   "version": "3.5.3"
  },
  "toc": {
   "colors": {
    "hover_highlight": "#DAA520",
    "running_highlight": "#FF0000",
    "selected_highlight": "#FFD700"
   },
   "moveMenuLeft": true,
   "nav_menu": {
    "height": "48px",
    "width": "252px"
   },
   "navigate_menu": true,
   "number_sections": true,
   "sideBar": true,
   "threshold": 4,
   "toc_cell": false,
   "toc_section_display": "block",
   "toc_window_display": false
  }
 },
 "nbformat": 4,
 "nbformat_minor": 2
}
