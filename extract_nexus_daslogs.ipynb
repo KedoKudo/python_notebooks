{
 "cells": [
  {
   "cell_type": "markdown",
   "metadata": {},
   "source": [
    "[![Notebook Tutorial](__code/__all/notebook_tutorial.png)](https://neutronimaging.pages.ornl.gov/tutorial/notebooks/extract_nexus_daslogs)\n",
    "\n",
    "<img src='__docs/__all/notebook_rules.png' />"
   ]
  },
  {
   "cell_type": "markdown",
   "metadata": {},
   "source": [
    "# Select your IPTS "
   ]
  },
  {
   "cell_type": "code",
   "execution_count": 1,
   "metadata": {},
   "outputs": [
    {
     "data": {
      "text/html": [
       "\n",
       "<style type=\"text/css\">\n",
       ".jupyter-widgets select option {font-family: \"Lucida Console\", Monaco, monospace;}\n",
       ".jupyter-widgets select {width: 98%;}\n",
       "div.output_subarea {padding: 0px;}\n",
       "div.output_subarea > div {margin: 0.4em;}\n",
       "</style>\n"
      ],
      "text/plain": [
       "<IPython.core.display.HTML object>"
      ]
     },
     "metadata": {},
     "output_type": "display_data"
    },
    {
     "data": {
      "text/html": [
       "\n",
       "                       <style>\n",
       "                       .result_label {\n",
       "                          font-style: bold;\n",
       "                          color: red;\n",
       "                          font-size: 18px;\n",
       "                       }\n",
       "                       </style>\n",
       "                       "
      ],
      "text/plain": [
       "<IPython.core.display.HTML object>"
      ]
     },
     "metadata": {},
     "output_type": "display_data"
    },
    {
     "name": "stdout",
     "output_type": "stream",
     "text": [
      "** Using Debugging Mode! **\n"
     ]
    },
    {
     "data": {
      "application/vnd.jupyter.widget-view+json": {
       "model_id": "",
       "version_major": 2,
       "version_minor": 0
      },
      "text/plain": [
       "VBox(children=(HBox(children=(Label(value='Select Instrument', layout=Layout(width='20%')), Select(layout=Layo…"
      ]
     },
     "metadata": {},
     "output_type": "display_data"
    },
    {
     "data": {
      "text/html": [
       "<style>\n",
       "\n",
       "/* The following CSS has been adapted from\n",
       "   http://nbviewer.ipython.org/github/ketch/teaching-numerics-with-notebooks/blob/master/Styling_notebooks.ipynb\n",
       "   by Aron Ahmadia and David Ketcheson and has been reused under CC BY 4.0\n",
       "   */\n",
       "\n",
       "/* main background */\n",
       "#site { \n",
       "    background: #888;\n",
       "    color: #red; \n",
       "}\n",
       "\n",
       "div.container {\n",
       "    width: 100% ! important;\n",
       "}\n",
       "\n",
       "div.cell { /* set cell width to about 80 chars */\n",
       "    width: 95%;\n",
       "}\n",
       "\n",
       "div #notebook { /* centre the content */\n",
       "/*    background: #fff; /* white background for content */\n",
       "    background: blue;\n",
       "    width: 100%;\n",
       "    margin: auto;\n",
       "    padding-left: 1em;\n",
       "    padding-right: 1em;\n",
       "    background-image: url(\"tile_background.jpg\");\n",
       "}\n",
       "\n",
       "#notebook li { /* More space between bullet points */\n",
       "    margin-top:0.4em;\n",
       "}\n",
       "\n",
       "/* change background color of running cells */\n",
       "div.cell.code_cell.running {\n",
       "/*    background-color: rgba(164,188,194,.75); */\n",
       "    background-color: green;\n",
       "    border-width: 8px\n",
       "    border-style: solid\n",
       "    border-color: #111;\n",
       "}\n",
       "\n",
       "/* Put a solid color box around each cell and its output, visually linking them together */\n",
       "div.cell.code_cell {\n",
       "    background-color: rgba(164,188,194,.25); /* Continuum L Gray with alpha 0.25 */\n",
       "    border-radius: 10px; /* rounded borders */\n",
       "    padding: 1em;\n",
       "    margin-top: 1em;\n",
       "}\n",
       "\n",
       "div.text_cell_render{\n",
       "\tfont-family: Georgia, Times, 'Times New Roman', serif;\n",
       "    line-height: 110%;\n",
       "    font-size: 105%;\n",
       "    width: 95%;\n",
       "    margin-left: auto;\n",
       "    margin-right: auto;\n",
       "}\n",
       "\n",
       "\n",
       "/* Formatting for header cells */\n",
       ".text_cell_render h1 {\n",
       "\tfont-family: Arial, 'Helvetica Neue', Helvetica, sans-serif;\n",
       "    font-weight: 400;\n",
       "    font-size: 30pt;\n",
       "    line-height: 100%;\n",
       "    color: rgb(37,55,70); /* Continuum Blue*/\n",
       "    margin-bottom: 0.1em;\n",
       "    margin-top: 0.1em;\n",
       "    display: block;\n",
       "}\n",
       ".text_cell_render h2 {\n",
       "\tfont-family: Arial, 'Helvetica Neue', Helvetica, sans-serif;\n",
       "    font-weight: 700;\n",
       "    font-size: 22pt;\n",
       "    line-height: 100%;\n",
       "    color: rgb(37,55,70);\n",
       "    margin-bottom: 0.1em;\n",
       "    margin-top: 0.1em;\n",
       "    display: block;\n",
       "}\n",
       "\n",
       ".text_cell_render h3 {\n",
       "\tfont-family: Arial, 'Helvetica Neue', Helvetica, sans-serif;\n",
       "    margin-top:12px;\n",
       "    margin-bottom: 3px;\n",
       "    font-style: italic;\n",
       "    color: rgb(37, 55, 70);\n",
       "}\n",
       "\n",
       ".text_cell_render h4 {\n",
       "\tfont-family: Arial, 'Helvetica Neue', Helvetica, sans-serif;\n",
       "}\n",
       "\n",
       ".text_cell_render h5 {\n",
       "\tfont-family: Arial, 'Helvetica Neue', Helvetica, sans-serif;\n",
       "    font-weight: 300;\n",
       "    font-size: 14pt;\n",
       "    font-style: italic;\n",
       "    margin-bottom: .1em;\n",
       "    margin-top: 0.1em;\n",
       "    display: block;\n",
       "}\n",
       "\n",
       ".text_cell_render h6 {\n",
       "\tfont-family: Arial, 'Helvetica Neue', Helvetica, sans-serif;\n",
       "    font-weight: 300;\n",
       "    font-size: 10pt;\n",
       "    margin-bottom: 1px;\n",
       "    margin-top: 1px;\n",
       "}\n",
       "\n",
       ".CodeMirror{\n",
       "        font-family: \"PT Mono\", fixed;\n",
       "        font-size: 100%;\n",
       "}\n",
       "\n",
       "#notebook_panel { /* main background */\n",
       "    background-image: url(\"tile_background.jpg\");\n",
       "}\n",
       "\n",
       "\n",
       "\n",
       "\n",
       "</style>\n"
      ],
      "text/plain": [
       "<IPython.core.display.HTML object>"
      ]
     },
     "execution_count": 1,
     "metadata": {},
     "output_type": "execute_result"
    }
   ],
   "source": [
    "from __code.extract_nexus_daslogs import extract\n",
    "\n",
    "from __code import system\n",
    "system.System.select_working_dir()\n",
    "from __code.__all import custom_style\n",
    "custom_style.style()"
   ]
  },
  {
   "cell_type": "markdown",
   "metadata": {},
   "source": [
    "# Select list of NeXus to extract metadata from"
   ]
  },
  {
   "cell_type": "code",
   "execution_count": 2,
   "metadata": {},
   "outputs": [
    {
     "data": {
      "application/vnd.jupyter.widget-view+json": {
       "model_id": "",
       "version_major": 2,
       "version_minor": 0
      },
      "text/plain": [
       "VBox(children=(Label(value='Select the NeXus files to extract infos from!', layout=Layout(width='250px')), VBo…"
      ]
     },
     "metadata": {},
     "output_type": "display_data"
    }
   ],
   "source": [
    "o_extract = extract.Extract(working_dir=system.System.get_working_dir())\n",
    "o_extract.select_nexus()"
   ]
  },
  {
   "cell_type": "markdown",
   "metadata": {},
   "source": [
    "# DEBUGGING "
   ]
  },
  {
   "cell_type": "code",
   "execution_count": 3,
   "metadata": {},
   "outputs": [],
   "source": [
    "from pathlib import Path\n",
    "import h5py\n",
    "from ipywidgets import widgets"
   ]
  },
  {
   "cell_type": "code",
   "execution_count": 4,
   "metadata": {},
   "outputs": [],
   "source": [
    "nexus_path = '/Users/j35/IPTS/SNAP_data/SNAP_47048.nxs.h5'\n",
    "assert Path(nexus_path).exists()"
   ]
  },
  {
   "cell_type": "code",
   "execution_count": 5,
   "metadata": {},
   "outputs": [],
   "source": [
    "dict_daslogs_keys = {}\n",
    "with h5py.File(nexus_path, 'r') as nxs:\n",
    "#     print(list(nxs['entry']['DASlogs']['BL3:SE:ND1:CH1:PV']['time']))\n",
    "    for key in nxs['entry']['DASlogs'].keys():\n",
    "        dict_daslogs_keys[key] = list(nxs['entry']['DASlogs'][key].keys())"
   ]
  },
  {
   "cell_type": "markdown",
   "metadata": {},
   "source": [
    "### Select metadata array to extract "
   ]
  },
  {
   "cell_type": "code",
   "execution_count": 81,
   "metadata": {},
   "outputs": [
    {
     "data": {
      "application/vnd.jupyter.widget-view+json": {
       "model_id": "9054e4a0083a48318dffafedb71af489",
       "version_major": 2,
       "version_minor": 0
      },
      "text/plain": [
       "HBox(children=(Label(value='Search:'), Text(value='', layout=Layout(width='30%'))))"
      ]
     },
     "metadata": {},
     "output_type": "display_data"
    },
    {
     "data": {
      "application/vnd.jupyter.widget-view+json": {
       "model_id": "6e284d566f174937bfaef29f24cb6cf3",
       "version_major": 2,
       "version_minor": 0
      },
      "text/plain": [
       "HBox(children=(Select(layout=Layout(height='400px', width='400px'), options=('BL3:CS:ITEMS', 'BL3:CS:ITEMS:Can…"
      ]
     },
     "metadata": {},
     "output_type": "display_data"
    },
    {
     "data": {
      "application/vnd.jupyter.widget-view+json": {
       "model_id": "9a670fc184534d079864848b8a6e3ac1",
       "version_major": 2,
       "version_minor": 0
      },
      "text/plain": [
       "Checkbox(value=True, description='Use absolute time.')"
      ]
     },
     "metadata": {},
     "output_type": "display_data"
    }
   ],
   "source": [
    "def top_keys_changed(value):\n",
    "    new_top_key = value['new']\n",
    "    list_intermediate_keys = list(dict_daslogs_keys[new_top_key])\n",
    "    x_axis_intermediate_key_widget.options = list_intermediate_keys\n",
    "    x_axis_intermediate_key_widget.value = list_intermediate_keys[0]\n",
    "    y_axis_intermediate_key_widget.options = list_intermediate_keys\n",
    "    y_axis_intermediate_key_widget.value = list_intermediate_keys[0]\n",
    "    \n",
    "def x_axis_intermediate_value_changed(value=None):\n",
    "    new_intermediate_key = value['new']\n",
    "    value_of_first_selected_element = None\n",
    "    first_daslogs_key = top_keys_widgets.value\n",
    "    with h5py.File(nexus_path, 'r') as nxs:\n",
    "        value_of_first_selected_element = (list(nxs['entry']['DASlogs'][first_daslogs_key][new_intermediate_key]))\n",
    "    x_axis_intermediate_value_widget.options = value_of_first_selected_element\n",
    "\n",
    "def y_axis_intermediate_value_changed(value=None):\n",
    "    new_intermediate_key = value['new']\n",
    "    value_of_first_selected_element = None\n",
    "    first_daslogs_key = top_keys_widgets.value\n",
    "    with h5py.File(nexus_path, 'r') as nxs:\n",
    "        value_of_first_selected_element = (list(nxs['entry']['DASlogs'][first_daslogs_key][new_intermediate_key]))\n",
    "    y_axis_intermediate_value_widget.options = value_of_first_selected_element\n",
    "\n",
    "    \n",
    "def search_text_changed(value):\n",
    "    new_text = value['new']\n",
    "    if new_text == \"\":\n",
    "        top_keys_widgets.value = list_daslogs_keys[0]\n",
    "        return\n",
    "    \n",
    "    for key in list_daslogs_keys:\n",
    "        if new_text in key:\n",
    "            top_keys_widgets.value = key\n",
    "            return\n",
    "    \n",
    "    \n",
    "list_daslogs_keys = list(dict_daslogs_keys.keys())\n",
    "first_daslogs_key = list_daslogs_keys[0]\n",
    "list_keys_of_first_daslogs_key = list(dict_daslogs_keys[first_daslogs_key])\n",
    "first_key = list_keys_of_first_daslogs_key[0]\n",
    "value_of_first_selected_element = None\n",
    "with h5py.File(nexus_path, 'r') as nxs:\n",
    "    value_of_first_selected_element = (list(nxs['entry']['DASlogs'][first_daslogs_key][first_key]))\n",
    "     \n",
    "width = \"200px\"\n",
    "height = \"400px\"\n",
    "width_2 = \"200px\"\n",
    "height_2 = \"150px\"\n",
    "    \n",
    "search_box = widgets.HBox([widgets.Label(\"Search:\"),\n",
    "                          widgets.Text(\"\",\n",
    "                                      layout=widgets.Layout(width=\"30%\"))])    \n",
    "search_text_widget = search_box.children[1]\n",
    "search_text_widget.observe(search_text_changed, names='value')\n",
    "\n",
    "\n",
    "key_layout = widgets.VBox([widgets.Label(\"X-axis\"),\n",
    "                          widgets.Select(options=list_keys_of_first_daslogs_key),\n",
    "                          widgets.Label(\"Y-axis\"),\n",
    "                          widgets.Select(options=list_keys_of_first_daslogs_key),\n",
    "                          ])\n",
    "value_layout = widgets.VBox([widgets.Label(\"Value\"),\n",
    "                            widgets.Select(options=value_of_first_selected_element),\n",
    "                            widgets.Label(\"Value\"),\n",
    "                            widgets.Select(options=value_of_first_selected_element)],\n",
    "                           )\n",
    "\n",
    "use_absolute_time_offset = widgets.Checkbox(value=True,\n",
    "                                           description='Use absolute time.')\n",
    "\n",
    "hori_box = widgets.HBox([widgets.Select(options=list_daslogs_keys,\n",
    "                                        value=first_daslogs_key,\n",
    "                                       layout=widgets.Layout(width=\"400px\",\n",
    "                                                            height=height)),\n",
    "                         key_layout,\n",
    "                         value_layout],\n",
    "                       layout=widgets.Layout())\n",
    "\n",
    "display(search_box)\n",
    "display(hori_box)\n",
    "display(use_absolute_time_offset)\n",
    "\n",
    "top_keys_widgets = hori_box.children[0]\n",
    "\n",
    "x_axis_intermediate_key_widget = key_layout.children[1]\n",
    "y_axis_intermediate_key_widget = key_layout.children[3]\n",
    "\n",
    "x_axis_intermediate_value_widget = value_layout.children[1]\n",
    "y_axis_intermediate_value_widget = value_layout.children[3]\n",
    "\n",
    "top_keys_widgets.observe(top_keys_changed, names='value')\n",
    "x_axis_intermediate_key_widget.observe(x_axis_intermediate_value_changed, names='value')\n",
    "y_axis_intermediate_key_widget.observe(y_axis_intermediate_value_changed, names='value')"
   ]
  },
  {
   "cell_type": "code",
   "execution_count": null,
   "metadata": {},
   "outputs": [],
   "source": []
  }
 ],
 "metadata": {
  "kernelspec": {
   "display_name": "Python 3",
   "language": "python",
   "name": "python3"
  },
  "language_info": {
   "codemirror_mode": {
    "name": "ipython",
    "version": 3
   },
   "file_extension": ".py",
   "mimetype": "text/x-python",
   "name": "python",
   "nbconvert_exporter": "python",
   "pygments_lexer": "ipython3",
   "version": "3.6.9"
  }
 },
 "nbformat": 4,
 "nbformat_minor": 2
}
