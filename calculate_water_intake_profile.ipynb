{
 "cells": [
  {
   "cell_type": "markdown",
   "metadata": {
    "run_control": {
     "frozen": false,
     "read_only": false
    }
   },
   "source": [
    "# Select Your IPTS "
   ]
  },
  {
   "cell_type": "code",
   "execution_count": null,
   "metadata": {
    "run_control": {
     "frozen": false,
     "read_only": false
    }
   },
   "outputs": [],
   "source": [
    "from __code import system\n",
    "system.System.select_working_dir()\n",
    "from __code.__all import custom_style\n",
    "custom_style.style()"
   ]
  },
  {
   "cell_type": "markdown",
   "metadata": {
    "run_control": {
     "frozen": false,
     "read_only": false
    }
   },
   "source": [
    "# Description "
   ]
  },
  {
   "cell_type": "markdown",
   "metadata": {
    "run_control": {
     "frozen": false,
     "read_only": false
    }
   },
   "source": [
    "# Python Import"
   ]
  },
  {
   "cell_type": "code",
   "execution_count": null,
   "metadata": {
    "run_control": {
     "frozen": false,
     "read_only": false
    }
   },
   "outputs": [],
   "source": [
    "%matplotlib notebook\n",
    "import matplotlib.pyplot as plt"
   ]
  },
  {
   "cell_type": "markdown",
   "metadata": {
    "run_control": {
     "frozen": false,
     "read_only": false
    }
   },
   "source": [
    "# Import Counts vs Time files "
   ]
  },
  {
   "cell_type": "markdown",
   "metadata": {
    "run_control": {
     "frozen": false,
     "read_only": false
    }
   },
   "source": [
    "Select the file created by the [profile_vs_file_index.ipynb](profile_vs_file_index.ipynb) notebook"
   ]
  },
  {
   "cell_type": "code",
   "execution_count": null,
   "metadata": {
    "run_control": {
     "frozen": false,
     "read_only": false
    }
   },
   "outputs": [],
   "source": [
    "import ipywe.fileselector\n",
    "\n",
    "from ipywidgets import widgets\n"
   ]
  },
  {
   "cell_type": "code",
   "execution_count": null,
   "metadata": {
    "run_control": {
     "frozen": false,
     "read_only": false
    }
   },
   "outputs": [],
   "source": [
    "list_files_ui = ipywe.fileselector.FileSelectorPanel(instruction='Select Counts vs Time Files ...',\n",
    "                                                 start_dir= system.System.get_working_dir(),\n",
    "                                                 multiple=True)\n",
    "\n",
    "list_files_ui.show()"
   ]
  },
  {
   "cell_type": "markdown",
   "metadata": {
    "run_control": {
     "frozen": false,
     "read_only": false
    }
   },
   "source": [
    "# Import Data and Metadata "
   ]
  },
  {
   "cell_type": "code",
   "execution_count": null,
   "metadata": {
    "run_control": {
     "frozen": false,
     "read_only": false
    }
   },
   "outputs": [],
   "source": [
    "def retrieve_metadata(file_name):\n",
    "    \"\"\"\n",
    "    return a dictionary of the metadata (plus number of comment lines)\n",
    "    \"\"\"\n",
    "    with open(file_name) as f:\n",
    "        _metadata = {}\n",
    "        _nbr_comment_line = 0\n",
    "        for line in f:\n",
    "            li = line.strip()\n",
    "            if li.startswith(\"#\"):\n",
    "                _nbr_comment_line += 1\n",
    "                m = re.match(r\"^#(?P<tag_name>[,\\(\\)\\s\\w]*):(?P<tag_value>.*)\", li)\n",
    "                if m is None:\n",
    "                    continue\n",
    "                _metadata[m.group('tag_name')] = m.group('tag_value').strip()\n",
    "        _metadata['nbr_comment_line'] = _nbr_comment_line\n",
    "        return _metadata\n",
    "    \n",
    "def retrieve_data(file_name, nbr_comment_line=0, col_names = None):\n",
    "    file_0 = pd.read_csv(file_name, \n",
    "                         skiprows = nbr_comment_line, \n",
    "                         header = None,\n",
    "                         names = col_names)\n",
    "    return file_0\n",
    "\n",
    "def format_col_names(col_names):\n",
    "    _col_names = [_col.strip() for _col in col_names]\n",
    "    return _col_names"
   ]
  },
  {
   "cell_type": "code",
   "execution_count": null,
   "metadata": {
    "run_control": {
     "frozen": false,
     "read_only": false
    }
   },
   "outputs": [],
   "source": [
    "list_files = list_files_ui.selected"
   ]
  },
  {
   "cell_type": "code",
   "execution_count": null,
   "metadata": {
    "run_control": {
     "frozen": false,
     "read_only": false
    }
   },
   "outputs": [],
   "source": [
    "import re"
   ]
  },
  {
   "cell_type": "code",
   "execution_count": null,
   "metadata": {
    "run_control": {
     "frozen": false,
     "read_only": false
    }
   },
   "outputs": [],
   "source": [
    "w = widgets.IntProgress()\n",
    "w.max = len(list_files)\n",
    "display(w)\n",
    "index = 0\n",
    "\n",
    "files_data = {}\n",
    "files_metadata = {}\n",
    "for index, file in enumerate(list_files):\n",
    "    _metadata = retrieve_metadata(file)\n",
    "    files_metadata[file] = _metadata\n",
    "    _col_names = _metadata['Label'].split(',')\n",
    "    _new_col_names = format_col_names(_col_names)\n",
    "    _data = retrieve_data(file, \n",
    "                          nbr_comment_line = _metadata['nbr_comment_line'],\n",
    "                          col_names = _new_col_names)\n",
    "    files_data[file] = _data\n",
    "\n",
    "    index += 1\n",
    "    w.value = index"
   ]
  },
  {
   "cell_type": "code",
   "execution_count": null,
   "metadata": {},
   "outputs": [],
   "source": []
  },
  {
   "cell_type": "code",
   "execution_count": null,
   "metadata": {},
   "outputs": [],
   "source": []
  },
  {
   "cell_type": "code",
   "execution_count": null,
   "metadata": {},
   "outputs": [],
   "source": []
  },
  {
   "cell_type": "code",
   "execution_count": null,
   "metadata": {},
   "outputs": [],
   "source": []
  },
  {
   "cell_type": "markdown",
   "metadata": {
    "run_control": {
     "frozen": false,
     "read_only": false
    }
   },
   "source": [
    "# Calculation of Water Intake Peak "
   ]
  },
  {
   "cell_type": "code",
   "execution_count": null,
   "metadata": {
    "run_control": {
     "frozen": false,
     "read_only": false
    }
   },
   "outputs": [],
   "source": [
    "import numpy as np"
   ]
  },
  {
   "cell_type": "code",
   "execution_count": null,
   "metadata": {
    "run_control": {
     "frozen": false,
     "read_only": false
    }
   },
   "outputs": [],
   "source": [
    "class MeanRangeCalculation(object):\n",
    "    '''\n",
    "    Mean value of all the counts between left_pixel and right pixel\n",
    "    '''\n",
    "    \n",
    "    def __init__(self, data=None):\n",
    "        self.data = data\n",
    "        self.nbr_pixel = len(self.data)\n",
    "        \n",
    "    def calculate_left_right_mean(self, pixel=-1):\n",
    "        _data = self.data\n",
    "        _nbr_pixel = self.nbr_pixel\n",
    "        \n",
    "        self.left_mean = np.mean(_data[0:pixel+1])\n",
    "        self.right_mean = np.mean(_data[pixel+1:_nbr_pixel])\n",
    "        \n",
    "    def calculate_delta_mean_square(self):\n",
    "        self.delta_square = np.square(self.left_mean - self.right_mean)"
   ]
  },
  {
   "cell_type": "code",
   "execution_count": null,
   "metadata": {
    "run_control": {
     "frozen": false,
     "read_only": false
    }
   },
   "outputs": [],
   "source": [
    "pixel_index = files_data[list_files[0]]\n",
    "nbr_pixel = len(pixel_index)\n",
    "\n",
    "water_intake_peak = []\n",
    "time_stamps = []\n",
    "for _index, _file in enumerate(list_files):\n",
    "        counts = files_data[_file]['counts'].values\n",
    "        delta_array = []\n",
    "        for _pixel in range(0, nbr_pixel-1):\n",
    "            _o_range = MeanRangeCalculation(data=counts)\n",
    "            _o_range.calculate_left_right_mean(pixel = _pixel)\n",
    "            _o_range.calculate_delta_mean_square()\n",
    "            delta_array.append(_o_range.delta_square)\n",
    "\n",
    "        time_stamps.append(files_metadata[_file]['Delta Time (s)'])\n",
    "            \n",
    "        _peak_value = delta_array.index(max(delta_array[0:nbr_pixel-5]))\n",
    "        water_intake_peak.append(_peak_value)"
   ]
  },
  {
   "cell_type": "code",
   "execution_count": null,
   "metadata": {},
   "outputs": [],
   "source": [
    "fig = plt.figure(figsize=(5,5))\n",
    "plt.plot(time_stamps, water_intake_peak)\n",
    "plt.xlabel(\"Delta Time (s)\")\n",
    "plt.ylabel(\"Peak Position (pixel)\")\n",
    "plt.title(\"Peak vs Delta Time (s)\")"
   ]
  },
  {
   "cell_type": "code",
   "execution_count": null,
   "metadata": {},
   "outputs": [],
   "source": [
    "from ipywidgets import widgets, Layout\n"
   ]
  },
  {
   "cell_type": "code",
   "execution_count": null,
   "metadata": {
    "run_control": {
     "frozen": false,
     "read_only": false
    }
   },
   "outputs": [],
   "source": [
    "box = widgets.HBox([widgets.Label(\"Size/Pixel Ratio\"),\n",
    "                   widgets.FloatText(value=1,\n",
    "                                     step=0.1,\n",
    "                                    layout=widgets.Layout(width='10%')),\n",
    "                   widgets.Label(\"mm/px\")])\n",
    "                   \n",
    "display(box)"
   ]
  },
  {
   "cell_type": "code",
   "execution_count": null,
   "metadata": {},
   "outputs": [],
   "source": [
    "ratio_widget = box.children[1]"
   ]
  },
  {
   "cell_type": "code",
   "execution_count": null,
   "metadata": {},
   "outputs": [],
   "source": [
    "water_intake_peak_px = np.array(water_intake_peak)"
   ]
  },
  {
   "cell_type": "code",
   "execution_count": null,
   "metadata": {},
   "outputs": [],
   "source": [
    "water_intake_peak_mm = water_intake_peak_px * ratio_widget.value"
   ]
  },
  {
   "cell_type": "code",
   "execution_count": null,
   "metadata": {},
   "outputs": [],
   "source": [
    "fig = plt.figure(figsize=(5,5))\n",
    "plt.plot(time_stamps, water_intake_peak_mm)\n",
    "plt.xlabel(\"Delta Time (s)\")\n",
    "plt.ylabel(\"Peak Position (mm)\")\n",
    "plt.title(\"Peak vs Delta Time (s)\")"
   ]
  },
  {
   "cell_type": "markdown",
   "metadata": {},
   "source": [
    "# Output"
   ]
  },
  {
   "cell_type": "code",
   "execution_count": null,
   "metadata": {},
   "outputs": [],
   "source": [
    "output_folder_ui = ipywe.fileselector.FileSelectorPanel(instruction='Select Output Folder ...',\n",
    "                                                             start_dir=system.System.get_working_dir(),\n",
    "                                                             type='directory')\n",
    "output_folder_ui.show()\n"
   ]
  },
  {
   "cell_type": "code",
   "execution_count": null,
   "metadata": {},
   "outputs": [],
   "source": [
    "output_folder = output_folder_ui.selected"
   ]
  },
  {
   "cell_type": "code",
   "execution_count": null,
   "metadata": {},
   "outputs": [],
   "source": [
    "short_file_name = os.path.basename(os.path.dirname(list_files[0])) + '.txt'\n",
    "output_file_name = os.path.join(output_folder, short_file_name)\n",
    "\n",
    "ascii_text = \"# Source data: {}\\n\".format(os.path.basename(os.path.dirname(list_files[0])))\n",
    "ascii_text += '# time_stamp(s), water_intake_position (mm)\\n'\n",
    "for _index in range(len(time_stamp)):\n",
    "    _x_value = time_stamp[_index]\n",
    "    _y_value = water_intake_peak_mm[_index]\n",
    "    ascii_text += \"{}, {}\\n\".format(_x_value, _y_value)\n",
    "    \n",
    "f = open(output_file_name, 'w')\n",
    "f.write(ascii_text)\n",
    "f.close()"
   ]
  },
  {
   "cell_type": "code",
   "execution_count": null,
   "metadata": {},
   "outputs": [],
   "source": []
  }
 ],
 "metadata": {
  "anaconda-cloud": {},
  "kernelspec": {
   "display_name": "Python 3",
   "language": "python",
   "name": "python3"
  },
  "language_info": {
   "codemirror_mode": {
    "name": "ipython",
    "version": 3
   },
   "file_extension": ".py",
   "mimetype": "text/x-python",
   "name": "python",
   "nbconvert_exporter": "python",
   "pygments_lexer": "ipython3",
   "version": "3.6.2"
  },
  "toc": {
   "colors": {
    "hover_highlight": "#DAA520",
    "running_highlight": "#FF0000",
    "selected_highlight": "#FFD700"
   },
   "moveMenuLeft": true,
   "nav_menu": {
    "height": "101px",
    "width": "252px"
   },
   "navigate_menu": true,
   "number_sections": true,
   "sideBar": true,
   "threshold": 4,
   "toc_cell": false,
   "toc_section_display": "block",
   "toc_window_display": false
  }
 },
 "nbformat": 4,
 "nbformat_minor": 1
}
