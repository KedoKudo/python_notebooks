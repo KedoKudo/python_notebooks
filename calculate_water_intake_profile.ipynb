{
 "cells": [
  {
   "cell_type": "markdown",
   "metadata": {
    "run_control": {
     "frozen": false,
     "read_only": false
    }
   },
   "source": [
    "# Select Your IPTS "
   ]
  },
  {
   "cell_type": "code",
   "execution_count": 1,
   "metadata": {
    "run_control": {
     "frozen": false,
     "read_only": false
    }
   },
   "outputs": [
    {
     "name": "stdout",
     "output_type": "stream",
     "text": [
      "** Using Debugging Mode! **\n"
     ]
    },
    {
     "data": {
      "application/vnd.jupyter.widget-view+json": {
       "model_id": "212b010c7ec64885b7dcf4d940d7f5da",
       "version_major": 2,
       "version_minor": 0
      },
      "text/html": [
       "<p>Failed to display Jupyter Widget of type <code>HBox</code>.</p>\n",
       "<p>\n",
       "  If you're reading this message in Jupyter Notebook or JupyterLab, it may mean\n",
       "  that the widgets JavaScript is still loading. If this message persists, it\n",
       "  likely means that the widgets JavaScript library is either not installed or\n",
       "  not enabled. See the <a href=\"https://ipywidgets.readthedocs.io/en/stable/user_install.html\">Jupyter\n",
       "  Widgets Documentation</a> for setup instructions.\n",
       "</p>\n",
       "<p>\n",
       "  If you're reading this message in another notebook frontend (for example, a static\n",
       "  rendering on GitHub or <a href=\"https://nbviewer.jupyter.org/\">NBViewer</a>),\n",
       "  it may mean that your frontend doesn't currently support widgets.\n",
       "</p>\n"
      ],
      "text/plain": [
       "HBox(children=(Label(value='Select Working Folder', layout=Layout(width='20%')), Select(index=8, options=('BraggEdge', 'Brianne', 'DOE_letters', 'FITSimages', 'IPTS-12534', 'IPTS_13639_resonance_shawn', 'IPTS_14832', 'IPTS_16212', 'IPTS_16259', 'IPTS_16475', 'IPTS_16893', 'IPTS_17099', 'IPTS_17685', 'IPTS_17981', 'IPTS_18806', 'IPTS_19037', 'IPTS_19558', 'IPTS_19626', 'IPTS_test_normalization', 'IPTS_testing_time_spectra', 'ImagesToRegisterForGian', 'Indu', 'Keita_code', 'Pour_ibeatles_video', 'ResonanceImaging', 'SENSITIVE', 'SarmaGUI', 'SphereCoordinates3D', 'TempData', 'iBeatles_debugging'), value='IPTS_16259')))"
      ]
     },
     "metadata": {},
     "output_type": "display_data"
    },
    {
     "data": {
      "text/html": [
       "<style>\n",
       "\n",
       "/* The following CSS has been adapted from\n",
       "   http://nbviewer.ipython.org/github/ketch/teaching-numerics-with-notebooks/blob/master/Styling_notebooks.ipynb\n",
       "   by Aron Ahmadia and David Ketcheson and has been reused under CC BY 4.0\n",
       "   */\n",
       "\n",
       "/* main background */\n",
       "#site { \n",
       "    background: #888;\n",
       "    color: #red; \n",
       "}\n",
       "\n",
       "div.container {\n",
       "    width: 100% ! important;\n",
       "}\n",
       "\n",
       "div.cell { /* set cell width to about 80 chars */\n",
       "    width: 95%;\n",
       "}\n",
       "\n",
       "div #notebook { /* centre the content */\n",
       "/*    background: #fff; /* white background for content */\n",
       "    background: blue;\n",
       "    width: 100%;\n",
       "    margin: auto;\n",
       "    padding-left: 1em;\n",
       "    padding-right: 1em;\n",
       "    background-image: url(\"tile_background.jpg\");\n",
       "}\n",
       "\n",
       "#notebook li { /* More space between bullet points */\n",
       "    margin-top:0.4em;\n",
       "}\n",
       "\n",
       "/* change background color of running cells */\n",
       "div.cell.code_cell.running {\n",
       "/*    background-color: rgba(164,188,194,.75); */\n",
       "    background-color: green;\n",
       "    border-width: 8px\n",
       "    border-style: solid\n",
       "    border-color: #111;\n",
       "}\n",
       "\n",
       "/* Put a solid color box around each cell and its output, visually linking them together */\n",
       "div.cell.code_cell {\n",
       "    background-color: rgba(164,188,194,.25); /* Continuum L Gray with alpha 0.25 */\n",
       "    border-radius: 10px; /* rounded borders */\n",
       "    padding: 1em;\n",
       "    margin-top: 1em;\n",
       "}\n",
       "\n",
       "div.text_cell_render{\n",
       "\tfont-family: Georgia, Times, 'Times New Roman', serif;\n",
       "    line-height: 110%;\n",
       "    font-size: 105%;\n",
       "    width: 95%;\n",
       "    margin-left: auto;\n",
       "    margin-right: auto;\n",
       "}\n",
       "\n",
       "\n",
       "/* Formatting for header cells */\n",
       ".text_cell_render h1 {\n",
       "\tfont-family: Arial, 'Helvetica Neue', Helvetica, sans-serif;\n",
       "    font-weight: 400;\n",
       "    font-size: 30pt;\n",
       "    line-height: 100%;\n",
       "    color: rgb(37,55,70); /* Continuum Blue*/\n",
       "    margin-bottom: 0.1em;\n",
       "    margin-top: 0.1em;\n",
       "    display: block;\n",
       "}\n",
       ".text_cell_render h2 {\n",
       "\tfont-family: Arial, 'Helvetica Neue', Helvetica, sans-serif;\n",
       "    font-weight: 700;\n",
       "    font-size: 22pt;\n",
       "    line-height: 100%;\n",
       "    color: rgb(37,55,70);\n",
       "    margin-bottom: 0.1em;\n",
       "    margin-top: 0.1em;\n",
       "    display: block;\n",
       "}\n",
       "\n",
       ".text_cell_render h3 {\n",
       "\tfont-family: Arial, 'Helvetica Neue', Helvetica, sans-serif;\n",
       "    margin-top:12px;\n",
       "    margin-bottom: 3px;\n",
       "    font-style: italic;\n",
       "    color: rgb(37, 55, 70);\n",
       "}\n",
       "\n",
       ".text_cell_render h4 {\n",
       "\tfont-family: Arial, 'Helvetica Neue', Helvetica, sans-serif;\n",
       "}\n",
       "\n",
       ".text_cell_render h5 {\n",
       "\tfont-family: Arial, 'Helvetica Neue', Helvetica, sans-serif;\n",
       "    font-weight: 300;\n",
       "    font-size: 14pt;\n",
       "    font-style: italic;\n",
       "    margin-bottom: .1em;\n",
       "    margin-top: 0.1em;\n",
       "    display: block;\n",
       "}\n",
       "\n",
       ".text_cell_render h6 {\n",
       "\tfont-family: Arial, 'Helvetica Neue', Helvetica, sans-serif;\n",
       "    font-weight: 300;\n",
       "    font-size: 10pt;\n",
       "    margin-bottom: 1px;\n",
       "    margin-top: 1px;\n",
       "}\n",
       "\n",
       ".CodeMirror{\n",
       "        font-family: \"PT Mono\", fixed;\n",
       "        font-size: 100%;\n",
       "}\n",
       "\n",
       "#notebook_panel { /* main background */\n",
       "    background-image: url(\"tile_background.jpg\");\n",
       "}\n",
       "\n",
       "\n",
       "\n",
       "\n",
       "</style>\n"
      ],
      "text/plain": [
       "<IPython.core.display.HTML object>"
      ]
     },
     "execution_count": 1,
     "metadata": {},
     "output_type": "execute_result"
    }
   ],
   "source": [
    "from __code.calculate_water_intake_profile import CalculateWaterIntakeProfile\n",
    "%matplotlib notebook\n",
    "from IPython.display import IFrame\n",
    "\n",
    "from __code import system\n",
    "system.System.select_working_dir()\n",
    "from __code.__all import custom_style\n",
    "custom_style.style()"
   ]
  },
  {
   "cell_type": "markdown",
   "metadata": {
    "run_control": {
     "frozen": false,
     "read_only": false
    }
   },
   "source": [
    "# Description "
   ]
  },
  {
   "cell_type": "markdown",
   "metadata": {
    "run_control": {
     "frozen": false,
     "read_only": false
    }
   },
   "source": [
    "This notebook will calculate the position of the \"wave\" through the images using the following algorithm."
   ]
  },
  {
   "cell_type": "code",
   "execution_count": 2,
   "metadata": {
    "run_control": {
     "frozen": false,
     "read_only": false
    }
   },
   "outputs": [
    {
     "data": {
      "text/html": [
       "\n",
       "        <iframe\n",
       "            width=\"600\"\n",
       "            height=\"300\"\n",
       "            src=\"__docs/calculate_water_intake_profile/water_intake_calculation.pdf\"\n",
       "            frameborder=\"0\"\n",
       "            allowfullscreen\n",
       "        ></iframe>\n",
       "        "
      ],
      "text/plain": [
       "<IPython.lib.display.IFrame at 0x117afa048>"
      ]
     },
     "execution_count": 2,
     "metadata": {},
     "output_type": "execute_result"
    }
   ],
   "source": [
    "o_cal_profile = CalculateWaterIntakeProfile(working_dir=system.System.get_working_dir())\n",
    "IFrame(o_cal_profile.documentation_path, width=600, height=300)"
   ]
  },
  {
   "cell_type": "markdown",
   "metadata": {
    "run_control": {
     "frozen": false,
     "read_only": false
    }
   },
   "source": [
    "# Import Counts vs Time files "
   ]
  },
  {
   "cell_type": "markdown",
   "metadata": {
    "run_control": {
     "frozen": false,
     "read_only": false
    }
   },
   "source": [
    "Select the files created by the [profile_vs_file_index.ipynb](profile_vs_file_index.ipynb) notebook"
   ]
  },
  {
   "cell_type": "code",
   "execution_count": 3,
   "metadata": {
    "run_control": {
     "frozen": false,
     "read_only": false
    }
   },
   "outputs": [
    {
     "data": {
      "application/vnd.jupyter.widget-view+json": {
       "model_id": "006f1e29d2e644ca8e2e039c0569367d",
       "version_major": 2,
       "version_minor": 0
      },
      "text/html": [
       "<p>Failed to display Jupyter Widget of type <code>HTML</code>.</p>\n",
       "<p>\n",
       "  If you're reading this message in Jupyter Notebook or JupyterLab, it may mean\n",
       "  that the widgets JavaScript is still loading. If this message persists, it\n",
       "  likely means that the widgets JavaScript library is either not installed or\n",
       "  not enabled. See the <a href=\"https://ipywidgets.readthedocs.io/en/stable/user_install.html\">Jupyter\n",
       "  Widgets Documentation</a> for setup instructions.\n",
       "</p>\n",
       "<p>\n",
       "  If you're reading this message in another notebook frontend (for example, a static\n",
       "  rendering on GitHub or <a href=\"https://nbviewer.jupyter.org/\">NBViewer</a>),\n",
       "  it may mean that your frontend doesn't currently support widgets.\n",
       "</p>\n"
      ],
      "text/plain": [
       "HTML(value='Please wait...')"
      ]
     },
     "metadata": {},
     "output_type": "display_data"
    },
    {
     "data": {
      "text/html": [
       "\n",
       "        <style type=\"text/css\">\n",
       "        .jupyter-widgets select option {font-family: \"Lucida Console\", Monaco, monospace;}\n",
       "        div.output_subarea {padding: 0px;}\n",
       "        div.output_subarea > div {margin: 0.4em;}\n",
       "        </style>\n",
       "        "
      ],
      "text/plain": [
       "<IPython.core.display.HTML object>"
      ]
     },
     "metadata": {},
     "output_type": "display_data"
    },
    {
     "data": {
      "application/vnd.jupyter.widget-view+json": {
       "model_id": "4a1618bc38be4d4ab14d24ca5bd07715",
       "version_major": 2,
       "version_minor": 0
      },
      "text/html": [
       "<p>Failed to display Jupyter Widget of type <code>VBox</code>.</p>\n",
       "<p>\n",
       "  If you're reading this message in Jupyter Notebook or JupyterLab, it may mean\n",
       "  that the widgets JavaScript is still loading. If this message persists, it\n",
       "  likely means that the widgets JavaScript library is either not installed or\n",
       "  not enabled. See the <a href=\"https://ipywidgets.readthedocs.io/en/stable/user_install.html\">Jupyter\n",
       "  Widgets Documentation</a> for setup instructions.\n",
       "</p>\n",
       "<p>\n",
       "  If you're reading this message in another notebook frontend (for example, a static\n",
       "  rendering on GitHub or <a href=\"https://nbviewer.jupyter.org/\">NBViewer</a>),\n",
       "  it may mean that your frontend doesn't currently support widgets.\n",
       "</p>\n"
      ],
      "text/plain": [
       "VBox(children=(Label(value='Select Counts vs Time Files ...', layout=Layout(width='250px')), HBox(children=(HBox(children=(Text(value='/Volumes/my_book_thunderbolt_duo/IPTS/IPTS_16259', description='Location: ', layout=Layout(width='300px'), placeholder=''), Button(description='Jump', layout=Layout(margin='5px 10px', width='100px'), style=ButtonStyle())), layout=Layout(border='1px solid lightgrey', margin='5px 50px 5px 5px', padding='3px')),)), VBox(children=(SelectMultiple(description='Select', layout=Layout(display='flex', flex_flow='column', width='750px'), options=(' .', ' ..', ' .DS_Store                                 |     Tue Dec 12 09:22:15 2017', ' Day_4_CO-8_Uptake                         |     Directory', ' Day_4_CO-8_Uptake_profiles                |     Directory', ' Day_4_CO-8_Uptake_profiles.txt            |     Fri Dec  8 12:58:35 2017', ' Day_4_CO-8_Uptake_profiles_DEBUGGING      |     Directory', ' Day_4_CO-8_Uptake_timestamp_infos.txt     |     Mon Dec  4 16:03:46 2017', ' from_analysis_computer                    |     Directory', ' prototype_profiles                        |     Directory'), value=()), HBox(children=(Button(description='Enter directory', layout=Layout(margin='5px 40px'), style=ButtonStyle()), Button(description='Select', layout=Layout(margin='5px 40px'), style=ButtonStyle())))), layout=Layout(border='1px solid lightgrey', margin='5px', padding='10px'))))"
      ]
     },
     "metadata": {},
     "output_type": "display_data"
    },
    {
     "data": {
      "application/vnd.jupyter.widget-view+json": {
       "model_id": "7db37d1f011e4da8bf6ee72cc7d92f88",
       "version_major": 2,
       "version_minor": 0
      },
      "text/html": [
       "<p>Failed to display Jupyter Widget of type <code>HTML</code>.</p>\n",
       "<p>\n",
       "  If you're reading this message in Jupyter Notebook or JupyterLab, it may mean\n",
       "  that the widgets JavaScript is still loading. If this message persists, it\n",
       "  likely means that the widgets JavaScript library is either not installed or\n",
       "  not enabled. See the <a href=\"https://ipywidgets.readthedocs.io/en/stable/user_install.html\">Jupyter\n",
       "  Widgets Documentation</a> for setup instructions.\n",
       "</p>\n",
       "<p>\n",
       "  If you're reading this message in another notebook frontend (for example, a static\n",
       "  rendering on GitHub or <a href=\"https://nbviewer.jupyter.org/\">NBViewer</a>),\n",
       "  it may mean that your frontend doesn't currently support widgets.\n",
       "</p>\n"
      ],
      "text/plain": [
       "HTML(value='Please wait...')"
      ]
     },
     "metadata": {},
     "output_type": "display_data"
    },
    {
     "data": {
      "text/html": [
       "\n",
       "        <style type=\"text/css\">\n",
       "        .jupyter-widgets select option {font-family: \"Lucida Console\", Monaco, monospace;}\n",
       "        div.output_subarea {padding: 0px;}\n",
       "        div.output_subarea > div {margin: 0.4em;}\n",
       "        </style>\n",
       "        "
      ],
      "text/plain": [
       "<IPython.core.display.HTML object>"
      ]
     },
     "metadata": {},
     "output_type": "display_data"
    },
    {
     "data": {
      "application/vnd.jupyter.widget-view+json": {
       "model_id": "9417357932c746798c5242f0e5125035",
       "version_major": 2,
       "version_minor": 0
      },
      "text/html": [
       "<p>Failed to display Jupyter Widget of type <code>VBox</code>.</p>\n",
       "<p>\n",
       "  If you're reading this message in Jupyter Notebook or JupyterLab, it may mean\n",
       "  that the widgets JavaScript is still loading. If this message persists, it\n",
       "  likely means that the widgets JavaScript library is either not installed or\n",
       "  not enabled. See the <a href=\"https://ipywidgets.readthedocs.io/en/stable/user_install.html\">Jupyter\n",
       "  Widgets Documentation</a> for setup instructions.\n",
       "</p>\n",
       "<p>\n",
       "  If you're reading this message in another notebook frontend (for example, a static\n",
       "  rendering on GitHub or <a href=\"https://nbviewer.jupyter.org/\">NBViewer</a>),\n",
       "  it may mean that your frontend doesn't currently support widgets.\n",
       "</p>\n"
      ],
      "text/plain": [
       "VBox(children=(Label(value='Select Counts vs Time Files ...', layout=Layout(width='250px')), HBox(children=(HBox(children=(Text(value='/Volumes/my_book_thunderbolt_duo/IPTS/IPTS_16259/from_analysis_computer', description='Location: ', layout=Layout(width='300px'), placeholder=''), Button(description='Jump', layout=Layout(margin='5px 10px', width='100px'), style=ButtonStyle())), layout=Layout(border='1px solid lightgrey', margin='5px 50px 5px 5px', padding='3px')),)), VBox(children=(SelectMultiple(description='Select', layout=Layout(display='flex', flex_flow='column', width='750px'), options=(' .', ' ..', ' .DS_Store                    |     Tue Dec 12 09:22:21 2017', ' CO-8_normalization           |     Directory', ' CO-8_profiles                |     Directory', ' CO-8_timestamp_infos.txt     |     Tue Dec 12 09:03:02 2017'), value=()), HBox(children=(Button(description='Enter directory', layout=Layout(margin='5px 40px'), style=ButtonStyle()), Button(description='Select', layout=Layout(margin='5px 40px'), style=ButtonStyle())))), layout=Layout(border='1px solid lightgrey', margin='5px', padding='10px'))))"
      ]
     },
     "metadata": {},
     "output_type": "display_data"
    },
    {
     "data": {
      "application/vnd.jupyter.widget-view+json": {
       "model_id": "b44b1002cb4945d8be407f6550e0ff32",
       "version_major": 2,
       "version_minor": 0
      },
      "text/html": [
       "<p>Failed to display Jupyter Widget of type <code>HTML</code>.</p>\n",
       "<p>\n",
       "  If you're reading this message in Jupyter Notebook or JupyterLab, it may mean\n",
       "  that the widgets JavaScript is still loading. If this message persists, it\n",
       "  likely means that the widgets JavaScript library is either not installed or\n",
       "  not enabled. See the <a href=\"https://ipywidgets.readthedocs.io/en/stable/user_install.html\">Jupyter\n",
       "  Widgets Documentation</a> for setup instructions.\n",
       "</p>\n",
       "<p>\n",
       "  If you're reading this message in another notebook frontend (for example, a static\n",
       "  rendering on GitHub or <a href=\"https://nbviewer.jupyter.org/\">NBViewer</a>),\n",
       "  it may mean that your frontend doesn't currently support widgets.\n",
       "</p>\n"
      ],
      "text/plain": [
       "HTML(value='Please wait...')"
      ]
     },
     "metadata": {},
     "output_type": "display_data"
    },
    {
     "data": {
      "text/html": [
       "\n",
       "        <style type=\"text/css\">\n",
       "        .jupyter-widgets select option {font-family: \"Lucida Console\", Monaco, monospace;}\n",
       "        div.output_subarea {padding: 0px;}\n",
       "        div.output_subarea > div {margin: 0.4em;}\n",
       "        </style>\n",
       "        "
      ],
      "text/plain": [
       "<IPython.core.display.HTML object>"
      ]
     },
     "metadata": {},
     "output_type": "display_data"
    },
    {
     "data": {
      "application/vnd.jupyter.widget-view+json": {
       "model_id": "6c9adf1a5f454b10b0327846f3f8d79a",
       "version_major": 2,
       "version_minor": 0
      },
      "text/html": [
       "<p>Failed to display Jupyter Widget of type <code>VBox</code>.</p>\n",
       "<p>\n",
       "  If you're reading this message in Jupyter Notebook or JupyterLab, it may mean\n",
       "  that the widgets JavaScript is still loading. If this message persists, it\n",
       "  likely means that the widgets JavaScript library is either not installed or\n",
       "  not enabled. See the <a href=\"https://ipywidgets.readthedocs.io/en/stable/user_install.html\">Jupyter\n",
       "  Widgets Documentation</a> for setup instructions.\n",
       "</p>\n",
       "<p>\n",
       "  If you're reading this message in another notebook frontend (for example, a static\n",
       "  rendering on GitHub or <a href=\"https://nbviewer.jupyter.org/\">NBViewer</a>),\n",
       "  it may mean that your frontend doesn't currently support widgets.\n",
       "</p>\n"
      ],
      "text/plain": [
       "VBox(children=(Label(value='Select Counts vs Time Files ...', layout=Layout(width='250px')), HBox(children=(HBox(children=(Text(value='/Volumes/my_book_thunderbolt_duo/IPTS/IPTS_16259/from_analysis_computer/CO-8_profiles', description='Location: ', layout=Layout(width='300px'), placeholder=''), Button(description='Jump', layout=Layout(margin='5px 10px', width='100px'), style=ButtonStyle())), layout=Layout(border='1px solid lightgrey', margin='5px 50px 5px 5px', padding='3px')),)), VBox(children=(SelectMultiple(description='Select', layout=Layout(display='flex', flex_flow='column', width='750px'), options=(' .', ' ..', ' 20170906_CO-8_0000_0590.txt     |     Tue Dec 12 10:41:46 2017', ' 20170906_CO-8_0000_0591.txt     |     Tue Dec 12 10:41:46 2017', ' 20170906_CO-8_0000_0592.txt     |     Tue Dec 12 10:41:46 2017', ' 20170906_CO-8_0000_0593.txt     |     Tue Dec 12 10:41:46 2017', ' 20170906_CO-8_0000_0594.txt     |     Tue Dec 12 10:41:46 2017', ' 20170906_CO-8_0000_0595.txt     |     Tue Dec 12 10:41:46 2017', ' 20170906_CO-8_0000_0596.txt     |     Tue Dec 12 10:41:46 2017', ' 20170906_CO-8_0000_0597.txt     |     Tue Dec 12 10:41:46 2017', ' 20170906_CO-8_0000_0598.txt     |     Tue Dec 12 10:41:46 2017', ' 20170906_CO-8_0000_0599.txt     |     Tue Dec 12 10:41:46 2017', ' 20170906_CO-8_0000_0600.txt     |     Tue Dec 12 10:41:46 2017', ' 20170906_CO-8_0000_0601.txt     |     Tue Dec 12 10:41:46 2017', ' 20170906_CO-8_0000_0602.txt     |     Tue Dec 12 10:41:46 2017', ' 20170906_CO-8_0000_0603.txt     |     Tue Dec 12 10:41:46 2017', ' 20170906_CO-8_0000_0604.txt     |     Tue Dec 12 10:41:46 2017', ' 20170906_CO-8_0000_0605.txt     |     Tue Dec 12 10:41:46 2017', ' 20170906_CO-8_0000_0606.txt     |     Tue Dec 12 10:41:46 2017', ' 20170906_CO-8_0000_0607.txt     |     Tue Dec 12 10:41:46 2017', ' 20170906_CO-8_0000_0608.txt     |     Tue Dec 12 10:41:46 2017', ' 20170906_CO-8_0000_0609.txt     |     Tue Dec 12 10:41:46 2017', ' 20170906_CO-8_0000_0610.txt     |     Tue Dec 12 10:41:46 2017', ' 20170906_CO-8_0000_0611.txt     |     Tue Dec 12 10:41:46 2017', ' 20170906_CO-8_0000_0612.txt     |     Tue Dec 12 10:41:46 2017', ' 20170906_CO-8_0000_0613.txt     |     Tue Dec 12 10:41:46 2017', ' 20170906_CO-8_0000_0614.txt     |     Tue Dec 12 10:41:46 2017', ' 20170906_CO-8_0000_0615.txt     |     Tue Dec 12 10:41:46 2017', ' 20170906_CO-8_0000_0616.txt     |     Tue Dec 12 10:41:46 2017', ' 20170906_CO-8_0000_0617.txt     |     Tue Dec 12 10:41:46 2017', ' 20170906_CO-8_0000_0618.txt     |     Tue Dec 12 10:41:46 2017', ' 20170906_CO-8_0000_0619.txt     |     Tue Dec 12 10:41:46 2017', ' 20170906_CO-8_0000_0620.txt     |     Tue Dec 12 10:41:46 2017', ' 20170906_CO-8_0000_0621.txt     |     Tue Dec 12 10:41:46 2017', ' 20170906_CO-8_0000_0622.txt     |     Tue Dec 12 10:41:46 2017', ' 20170906_CO-8_0000_0623.txt     |     Tue Dec 12 10:41:46 2017', ' 20170906_CO-8_0000_0624.txt     |     Tue Dec 12 10:41:46 2017'), value=()), HBox(children=(Button(description='Enter directory', layout=Layout(margin='5px 40px'), style=ButtonStyle()), Button(description='Select', layout=Layout(margin='5px 40px'), style=ButtonStyle())))), layout=Layout(border='1px solid lightgrey', margin='5px', padding='10px'))))"
      ]
     },
     "metadata": {},
     "output_type": "display_data"
    }
   ],
   "source": [
    "o_cal_profile.select_counts_vs_time_files()"
   ]
  },
  {
   "cell_type": "markdown",
   "metadata": {
    "run_control": {
     "frozen": false,
     "read_only": false
    }
   },
   "source": [
    "# Display of Water Intake Peak "
   ]
  },
  {
   "cell_type": "code",
   "execution_count": 4,
   "metadata": {},
   "outputs": [
    {
     "data": {
      "application/vnd.jupyter.widget-view+json": {
       "model_id": "56540ecac8f446beae7dd3b6b8707373",
       "version_major": 2,
       "version_minor": 0
      },
      "text/html": [
       "<p>Failed to display Jupyter Widget of type <code>HBox</code>.</p>\n",
       "<p>\n",
       "  If you're reading this message in Jupyter Notebook or JupyterLab, it may mean\n",
       "  that the widgets JavaScript is still loading. If this message persists, it\n",
       "  likely means that the widgets JavaScript library is either not installed or\n",
       "  not enabled. See the <a href=\"https://ipywidgets.readthedocs.io/en/stable/user_install.html\">Jupyter\n",
       "  Widgets Documentation</a> for setup instructions.\n",
       "</p>\n",
       "<p>\n",
       "  If you're reading this message in another notebook frontend (for example, a static\n",
       "  rendering on GitHub or <a href=\"https://nbviewer.jupyter.org/\">NBViewer</a>),\n",
       "  it may mean that your frontend doesn't currently support widgets.\n",
       "</p>\n"
      ],
      "text/plain": [
       "HBox(children=(Label(value='Vertical Binning', layout=Layout(width='20%')), Dropdown(layout=Layout(width='20%'), options=('1', '2', '3', '4', '5', '6', '7', '8', '9'), value='1')))"
      ]
     },
     "metadata": {},
     "output_type": "display_data"
    }
   ],
   "source": [
    "o_cal_profile.select_vertical_pixel_binning()"
   ]
  },
  {
   "cell_type": "code",
   "execution_count": 11,
   "metadata": {
    "run_control": {
     "frozen": false,
     "read_only": false
    },
    "scrolled": false
   },
   "outputs": [
    {
     "data": {
      "application/vnd.jupyter.widget-view+json": {
       "model_id": "068c3411c85e48dcaadacb9359e6ac60",
       "version_major": 2,
       "version_minor": 0
      },
      "text/html": [
       "<p>Failed to display Jupyter Widget of type <code>IntProgress</code>.</p>\n",
       "<p>\n",
       "  If you're reading this message in Jupyter Notebook or JupyterLab, it may mean\n",
       "  that the widgets JavaScript is still loading. If this message persists, it\n",
       "  likely means that the widgets JavaScript library is either not installed or\n",
       "  not enabled. See the <a href=\"https://ipywidgets.readthedocs.io/en/stable/user_install.html\">Jupyter\n",
       "  Widgets Documentation</a> for setup instructions.\n",
       "</p>\n",
       "<p>\n",
       "  If you're reading this message in another notebook frontend (for example, a static\n",
       "  rendering on GitHub or <a href=\"https://nbviewer.jupyter.org/\">NBViewer</a>),\n",
       "  it may mean that your frontend doesn't currently support widgets.\n",
       "</p>\n"
      ],
      "text/plain": [
       "IntProgress(value=0, max=35)"
      ]
     },
     "metadata": {},
     "output_type": "display_data"
    },
    {
     "name": "stderr",
     "output_type": "stream",
     "text": [
      "/Users/j35/anaconda/envs/py36/lib/python3.6/site-packages/numpy/core/fromnumeric.py:2909: RuntimeWarning: Mean of empty slice.\n",
      "  out=out, **kwargs)\n",
      "/Users/j35/anaconda/envs/py36/lib/python3.6/site-packages/numpy/core/_methods.py:80: RuntimeWarning: invalid value encountered in double_scalars\n",
      "  ret = ret.dtype.type(ret / rcount)\n"
     ]
    },
    {
     "data": {
      "application/javascript": [
       "/* Put everything inside the global mpl namespace */\n",
       "window.mpl = {};\n",
       "\n",
       "\n",
       "mpl.get_websocket_type = function() {\n",
       "    if (typeof(WebSocket) !== 'undefined') {\n",
       "        return WebSocket;\n",
       "    } else if (typeof(MozWebSocket) !== 'undefined') {\n",
       "        return MozWebSocket;\n",
       "    } else {\n",
       "        alert('Your browser does not have WebSocket support.' +\n",
       "              'Please try Chrome, Safari or Firefox ≥ 6. ' +\n",
       "              'Firefox 4 and 5 are also supported but you ' +\n",
       "              'have to enable WebSockets in about:config.');\n",
       "    };\n",
       "}\n",
       "\n",
       "mpl.figure = function(figure_id, websocket, ondownload, parent_element) {\n",
       "    this.id = figure_id;\n",
       "\n",
       "    this.ws = websocket;\n",
       "\n",
       "    this.supports_binary = (this.ws.binaryType != undefined);\n",
       "\n",
       "    if (!this.supports_binary) {\n",
       "        var warnings = document.getElementById(\"mpl-warnings\");\n",
       "        if (warnings) {\n",
       "            warnings.style.display = 'block';\n",
       "            warnings.textContent = (\n",
       "                \"This browser does not support binary websocket messages. \" +\n",
       "                    \"Performance may be slow.\");\n",
       "        }\n",
       "    }\n",
       "\n",
       "    this.imageObj = new Image();\n",
       "\n",
       "    this.context = undefined;\n",
       "    this.message = undefined;\n",
       "    this.canvas = undefined;\n",
       "    this.rubberband_canvas = undefined;\n",
       "    this.rubberband_context = undefined;\n",
       "    this.format_dropdown = undefined;\n",
       "\n",
       "    this.image_mode = 'full';\n",
       "\n",
       "    this.root = $('<div/>');\n",
       "    this._root_extra_style(this.root)\n",
       "    this.root.attr('style', 'display: inline-block');\n",
       "\n",
       "    $(parent_element).append(this.root);\n",
       "\n",
       "    this._init_header(this);\n",
       "    this._init_canvas(this);\n",
       "    this._init_toolbar(this);\n",
       "\n",
       "    var fig = this;\n",
       "\n",
       "    this.waiting = false;\n",
       "\n",
       "    this.ws.onopen =  function () {\n",
       "            fig.send_message(\"supports_binary\", {value: fig.supports_binary});\n",
       "            fig.send_message(\"send_image_mode\", {});\n",
       "            if (mpl.ratio != 1) {\n",
       "                fig.send_message(\"set_dpi_ratio\", {'dpi_ratio': mpl.ratio});\n",
       "            }\n",
       "            fig.send_message(\"refresh\", {});\n",
       "        }\n",
       "\n",
       "    this.imageObj.onload = function() {\n",
       "            if (fig.image_mode == 'full') {\n",
       "                // Full images could contain transparency (where diff images\n",
       "                // almost always do), so we need to clear the canvas so that\n",
       "                // there is no ghosting.\n",
       "                fig.context.clearRect(0, 0, fig.canvas.width, fig.canvas.height);\n",
       "            }\n",
       "            fig.context.drawImage(fig.imageObj, 0, 0);\n",
       "        };\n",
       "\n",
       "    this.imageObj.onunload = function() {\n",
       "        this.ws.close();\n",
       "    }\n",
       "\n",
       "    this.ws.onmessage = this._make_on_message_function(this);\n",
       "\n",
       "    this.ondownload = ondownload;\n",
       "}\n",
       "\n",
       "mpl.figure.prototype._init_header = function() {\n",
       "    var titlebar = $(\n",
       "        '<div class=\"ui-dialog-titlebar ui-widget-header ui-corner-all ' +\n",
       "        'ui-helper-clearfix\"/>');\n",
       "    var titletext = $(\n",
       "        '<div class=\"ui-dialog-title\" style=\"width: 100%; ' +\n",
       "        'text-align: center; padding: 3px;\"/>');\n",
       "    titlebar.append(titletext)\n",
       "    this.root.append(titlebar);\n",
       "    this.header = titletext[0];\n",
       "}\n",
       "\n",
       "\n",
       "\n",
       "mpl.figure.prototype._canvas_extra_style = function(canvas_div) {\n",
       "\n",
       "}\n",
       "\n",
       "\n",
       "mpl.figure.prototype._root_extra_style = function(canvas_div) {\n",
       "\n",
       "}\n",
       "\n",
       "mpl.figure.prototype._init_canvas = function() {\n",
       "    var fig = this;\n",
       "\n",
       "    var canvas_div = $('<div/>');\n",
       "\n",
       "    canvas_div.attr('style', 'position: relative; clear: both; outline: 0');\n",
       "\n",
       "    function canvas_keyboard_event(event) {\n",
       "        return fig.key_event(event, event['data']);\n",
       "    }\n",
       "\n",
       "    canvas_div.keydown('key_press', canvas_keyboard_event);\n",
       "    canvas_div.keyup('key_release', canvas_keyboard_event);\n",
       "    this.canvas_div = canvas_div\n",
       "    this._canvas_extra_style(canvas_div)\n",
       "    this.root.append(canvas_div);\n",
       "\n",
       "    var canvas = $('<canvas/>');\n",
       "    canvas.addClass('mpl-canvas');\n",
       "    canvas.attr('style', \"left: 0; top: 0; z-index: 0; outline: 0\")\n",
       "\n",
       "    this.canvas = canvas[0];\n",
       "    this.context = canvas[0].getContext(\"2d\");\n",
       "\n",
       "    var backingStore = this.context.backingStorePixelRatio ||\n",
       "\tthis.context.webkitBackingStorePixelRatio ||\n",
       "\tthis.context.mozBackingStorePixelRatio ||\n",
       "\tthis.context.msBackingStorePixelRatio ||\n",
       "\tthis.context.oBackingStorePixelRatio ||\n",
       "\tthis.context.backingStorePixelRatio || 1;\n",
       "\n",
       "    mpl.ratio = (window.devicePixelRatio || 1) / backingStore;\n",
       "\n",
       "    var rubberband = $('<canvas/>');\n",
       "    rubberband.attr('style', \"position: absolute; left: 0; top: 0; z-index: 1;\")\n",
       "\n",
       "    var pass_mouse_events = true;\n",
       "\n",
       "    canvas_div.resizable({\n",
       "        start: function(event, ui) {\n",
       "            pass_mouse_events = false;\n",
       "        },\n",
       "        resize: function(event, ui) {\n",
       "            fig.request_resize(ui.size.width, ui.size.height);\n",
       "        },\n",
       "        stop: function(event, ui) {\n",
       "            pass_mouse_events = true;\n",
       "            fig.request_resize(ui.size.width, ui.size.height);\n",
       "        },\n",
       "    });\n",
       "\n",
       "    function mouse_event_fn(event) {\n",
       "        if (pass_mouse_events)\n",
       "            return fig.mouse_event(event, event['data']);\n",
       "    }\n",
       "\n",
       "    rubberband.mousedown('button_press', mouse_event_fn);\n",
       "    rubberband.mouseup('button_release', mouse_event_fn);\n",
       "    // Throttle sequential mouse events to 1 every 20ms.\n",
       "    rubberband.mousemove('motion_notify', mouse_event_fn);\n",
       "\n",
       "    rubberband.mouseenter('figure_enter', mouse_event_fn);\n",
       "    rubberband.mouseleave('figure_leave', mouse_event_fn);\n",
       "\n",
       "    canvas_div.on(\"wheel\", function (event) {\n",
       "        event = event.originalEvent;\n",
       "        event['data'] = 'scroll'\n",
       "        if (event.deltaY < 0) {\n",
       "            event.step = 1;\n",
       "        } else {\n",
       "            event.step = -1;\n",
       "        }\n",
       "        mouse_event_fn(event);\n",
       "    });\n",
       "\n",
       "    canvas_div.append(canvas);\n",
       "    canvas_div.append(rubberband);\n",
       "\n",
       "    this.rubberband = rubberband;\n",
       "    this.rubberband_canvas = rubberband[0];\n",
       "    this.rubberband_context = rubberband[0].getContext(\"2d\");\n",
       "    this.rubberband_context.strokeStyle = \"#000000\";\n",
       "\n",
       "    this._resize_canvas = function(width, height) {\n",
       "        // Keep the size of the canvas, canvas container, and rubber band\n",
       "        // canvas in synch.\n",
       "        canvas_div.css('width', width)\n",
       "        canvas_div.css('height', height)\n",
       "\n",
       "        canvas.attr('width', width * mpl.ratio);\n",
       "        canvas.attr('height', height * mpl.ratio);\n",
       "        canvas.attr('style', 'width: ' + width + 'px; height: ' + height + 'px;');\n",
       "\n",
       "        rubberband.attr('width', width);\n",
       "        rubberband.attr('height', height);\n",
       "    }\n",
       "\n",
       "    // Set the figure to an initial 600x600px, this will subsequently be updated\n",
       "    // upon first draw.\n",
       "    this._resize_canvas(600, 600);\n",
       "\n",
       "    // Disable right mouse context menu.\n",
       "    $(this.rubberband_canvas).bind(\"contextmenu\",function(e){\n",
       "        return false;\n",
       "    });\n",
       "\n",
       "    function set_focus () {\n",
       "        canvas.focus();\n",
       "        canvas_div.focus();\n",
       "    }\n",
       "\n",
       "    window.setTimeout(set_focus, 100);\n",
       "}\n",
       "\n",
       "mpl.figure.prototype._init_toolbar = function() {\n",
       "    var fig = this;\n",
       "\n",
       "    var nav_element = $('<div/>')\n",
       "    nav_element.attr('style', 'width: 100%');\n",
       "    this.root.append(nav_element);\n",
       "\n",
       "    // Define a callback function for later on.\n",
       "    function toolbar_event(event) {\n",
       "        return fig.toolbar_button_onclick(event['data']);\n",
       "    }\n",
       "    function toolbar_mouse_event(event) {\n",
       "        return fig.toolbar_button_onmouseover(event['data']);\n",
       "    }\n",
       "\n",
       "    for(var toolbar_ind in mpl.toolbar_items) {\n",
       "        var name = mpl.toolbar_items[toolbar_ind][0];\n",
       "        var tooltip = mpl.toolbar_items[toolbar_ind][1];\n",
       "        var image = mpl.toolbar_items[toolbar_ind][2];\n",
       "        var method_name = mpl.toolbar_items[toolbar_ind][3];\n",
       "\n",
       "        if (!name) {\n",
       "            // put a spacer in here.\n",
       "            continue;\n",
       "        }\n",
       "        var button = $('<button/>');\n",
       "        button.addClass('ui-button ui-widget ui-state-default ui-corner-all ' +\n",
       "                        'ui-button-icon-only');\n",
       "        button.attr('role', 'button');\n",
       "        button.attr('aria-disabled', 'false');\n",
       "        button.click(method_name, toolbar_event);\n",
       "        button.mouseover(tooltip, toolbar_mouse_event);\n",
       "\n",
       "        var icon_img = $('<span/>');\n",
       "        icon_img.addClass('ui-button-icon-primary ui-icon');\n",
       "        icon_img.addClass(image);\n",
       "        icon_img.addClass('ui-corner-all');\n",
       "\n",
       "        var tooltip_span = $('<span/>');\n",
       "        tooltip_span.addClass('ui-button-text');\n",
       "        tooltip_span.html(tooltip);\n",
       "\n",
       "        button.append(icon_img);\n",
       "        button.append(tooltip_span);\n",
       "\n",
       "        nav_element.append(button);\n",
       "    }\n",
       "\n",
       "    var fmt_picker_span = $('<span/>');\n",
       "\n",
       "    var fmt_picker = $('<select/>');\n",
       "    fmt_picker.addClass('mpl-toolbar-option ui-widget ui-widget-content');\n",
       "    fmt_picker_span.append(fmt_picker);\n",
       "    nav_element.append(fmt_picker_span);\n",
       "    this.format_dropdown = fmt_picker[0];\n",
       "\n",
       "    for (var ind in mpl.extensions) {\n",
       "        var fmt = mpl.extensions[ind];\n",
       "        var option = $(\n",
       "            '<option/>', {selected: fmt === mpl.default_extension}).html(fmt);\n",
       "        fmt_picker.append(option)\n",
       "    }\n",
       "\n",
       "    // Add hover states to the ui-buttons\n",
       "    $( \".ui-button\" ).hover(\n",
       "        function() { $(this).addClass(\"ui-state-hover\");},\n",
       "        function() { $(this).removeClass(\"ui-state-hover\");}\n",
       "    );\n",
       "\n",
       "    var status_bar = $('<span class=\"mpl-message\"/>');\n",
       "    nav_element.append(status_bar);\n",
       "    this.message = status_bar[0];\n",
       "}\n",
       "\n",
       "mpl.figure.prototype.request_resize = function(x_pixels, y_pixels) {\n",
       "    // Request matplotlib to resize the figure. Matplotlib will then trigger a resize in the client,\n",
       "    // which will in turn request a refresh of the image.\n",
       "    this.send_message('resize', {'width': x_pixels, 'height': y_pixels});\n",
       "}\n",
       "\n",
       "mpl.figure.prototype.send_message = function(type, properties) {\n",
       "    properties['type'] = type;\n",
       "    properties['figure_id'] = this.id;\n",
       "    this.ws.send(JSON.stringify(properties));\n",
       "}\n",
       "\n",
       "mpl.figure.prototype.send_draw_message = function() {\n",
       "    if (!this.waiting) {\n",
       "        this.waiting = true;\n",
       "        this.ws.send(JSON.stringify({type: \"draw\", figure_id: this.id}));\n",
       "    }\n",
       "}\n",
       "\n",
       "\n",
       "mpl.figure.prototype.handle_save = function(fig, msg) {\n",
       "    var format_dropdown = fig.format_dropdown;\n",
       "    var format = format_dropdown.options[format_dropdown.selectedIndex].value;\n",
       "    fig.ondownload(fig, format);\n",
       "}\n",
       "\n",
       "\n",
       "mpl.figure.prototype.handle_resize = function(fig, msg) {\n",
       "    var size = msg['size'];\n",
       "    if (size[0] != fig.canvas.width || size[1] != fig.canvas.height) {\n",
       "        fig._resize_canvas(size[0], size[1]);\n",
       "        fig.send_message(\"refresh\", {});\n",
       "    };\n",
       "}\n",
       "\n",
       "mpl.figure.prototype.handle_rubberband = function(fig, msg) {\n",
       "    var x0 = msg['x0'] / mpl.ratio;\n",
       "    var y0 = (fig.canvas.height - msg['y0']) / mpl.ratio;\n",
       "    var x1 = msg['x1'] / mpl.ratio;\n",
       "    var y1 = (fig.canvas.height - msg['y1']) / mpl.ratio;\n",
       "    x0 = Math.floor(x0) + 0.5;\n",
       "    y0 = Math.floor(y0) + 0.5;\n",
       "    x1 = Math.floor(x1) + 0.5;\n",
       "    y1 = Math.floor(y1) + 0.5;\n",
       "    var min_x = Math.min(x0, x1);\n",
       "    var min_y = Math.min(y0, y1);\n",
       "    var width = Math.abs(x1 - x0);\n",
       "    var height = Math.abs(y1 - y0);\n",
       "\n",
       "    fig.rubberband_context.clearRect(\n",
       "        0, 0, fig.canvas.width, fig.canvas.height);\n",
       "\n",
       "    fig.rubberband_context.strokeRect(min_x, min_y, width, height);\n",
       "}\n",
       "\n",
       "mpl.figure.prototype.handle_figure_label = function(fig, msg) {\n",
       "    // Updates the figure title.\n",
       "    fig.header.textContent = msg['label'];\n",
       "}\n",
       "\n",
       "mpl.figure.prototype.handle_cursor = function(fig, msg) {\n",
       "    var cursor = msg['cursor'];\n",
       "    switch(cursor)\n",
       "    {\n",
       "    case 0:\n",
       "        cursor = 'pointer';\n",
       "        break;\n",
       "    case 1:\n",
       "        cursor = 'default';\n",
       "        break;\n",
       "    case 2:\n",
       "        cursor = 'crosshair';\n",
       "        break;\n",
       "    case 3:\n",
       "        cursor = 'move';\n",
       "        break;\n",
       "    }\n",
       "    fig.rubberband_canvas.style.cursor = cursor;\n",
       "}\n",
       "\n",
       "mpl.figure.prototype.handle_message = function(fig, msg) {\n",
       "    fig.message.textContent = msg['message'];\n",
       "}\n",
       "\n",
       "mpl.figure.prototype.handle_draw = function(fig, msg) {\n",
       "    // Request the server to send over a new figure.\n",
       "    fig.send_draw_message();\n",
       "}\n",
       "\n",
       "mpl.figure.prototype.handle_image_mode = function(fig, msg) {\n",
       "    fig.image_mode = msg['mode'];\n",
       "}\n",
       "\n",
       "mpl.figure.prototype.updated_canvas_event = function() {\n",
       "    // Called whenever the canvas gets updated.\n",
       "    this.send_message(\"ack\", {});\n",
       "}\n",
       "\n",
       "// A function to construct a web socket function for onmessage handling.\n",
       "// Called in the figure constructor.\n",
       "mpl.figure.prototype._make_on_message_function = function(fig) {\n",
       "    return function socket_on_message(evt) {\n",
       "        if (evt.data instanceof Blob) {\n",
       "            /* FIXME: We get \"Resource interpreted as Image but\n",
       "             * transferred with MIME type text/plain:\" errors on\n",
       "             * Chrome.  But how to set the MIME type?  It doesn't seem\n",
       "             * to be part of the websocket stream */\n",
       "            evt.data.type = \"image/png\";\n",
       "\n",
       "            /* Free the memory for the previous frames */\n",
       "            if (fig.imageObj.src) {\n",
       "                (window.URL || window.webkitURL).revokeObjectURL(\n",
       "                    fig.imageObj.src);\n",
       "            }\n",
       "\n",
       "            fig.imageObj.src = (window.URL || window.webkitURL).createObjectURL(\n",
       "                evt.data);\n",
       "            fig.updated_canvas_event();\n",
       "            fig.waiting = false;\n",
       "            return;\n",
       "        }\n",
       "        else if (typeof evt.data === 'string' && evt.data.slice(0, 21) == \"data:image/png;base64\") {\n",
       "            fig.imageObj.src = evt.data;\n",
       "            fig.updated_canvas_event();\n",
       "            fig.waiting = false;\n",
       "            return;\n",
       "        }\n",
       "\n",
       "        var msg = JSON.parse(evt.data);\n",
       "        var msg_type = msg['type'];\n",
       "\n",
       "        // Call the  \"handle_{type}\" callback, which takes\n",
       "        // the figure and JSON message as its only arguments.\n",
       "        try {\n",
       "            var callback = fig[\"handle_\" + msg_type];\n",
       "        } catch (e) {\n",
       "            console.log(\"No handler for the '\" + msg_type + \"' message type: \", msg);\n",
       "            return;\n",
       "        }\n",
       "\n",
       "        if (callback) {\n",
       "            try {\n",
       "                // console.log(\"Handling '\" + msg_type + \"' message: \", msg);\n",
       "                callback(fig, msg);\n",
       "            } catch (e) {\n",
       "                console.log(\"Exception inside the 'handler_\" + msg_type + \"' callback:\", e, e.stack, msg);\n",
       "            }\n",
       "        }\n",
       "    };\n",
       "}\n",
       "\n",
       "// from http://stackoverflow.com/questions/1114465/getting-mouse-location-in-canvas\n",
       "mpl.findpos = function(e) {\n",
       "    //this section is from http://www.quirksmode.org/js/events_properties.html\n",
       "    var targ;\n",
       "    if (!e)\n",
       "        e = window.event;\n",
       "    if (e.target)\n",
       "        targ = e.target;\n",
       "    else if (e.srcElement)\n",
       "        targ = e.srcElement;\n",
       "    if (targ.nodeType == 3) // defeat Safari bug\n",
       "        targ = targ.parentNode;\n",
       "\n",
       "    // jQuery normalizes the pageX and pageY\n",
       "    // pageX,Y are the mouse positions relative to the document\n",
       "    // offset() returns the position of the element relative to the document\n",
       "    var x = e.pageX - $(targ).offset().left;\n",
       "    var y = e.pageY - $(targ).offset().top;\n",
       "\n",
       "    return {\"x\": x, \"y\": y};\n",
       "};\n",
       "\n",
       "/*\n",
       " * return a copy of an object with only non-object keys\n",
       " * we need this to avoid circular references\n",
       " * http://stackoverflow.com/a/24161582/3208463\n",
       " */\n",
       "function simpleKeys (original) {\n",
       "  return Object.keys(original).reduce(function (obj, key) {\n",
       "    if (typeof original[key] !== 'object')\n",
       "        obj[key] = original[key]\n",
       "    return obj;\n",
       "  }, {});\n",
       "}\n",
       "\n",
       "mpl.figure.prototype.mouse_event = function(event, name) {\n",
       "    var canvas_pos = mpl.findpos(event)\n",
       "\n",
       "    if (name === 'button_press')\n",
       "    {\n",
       "        this.canvas.focus();\n",
       "        this.canvas_div.focus();\n",
       "    }\n",
       "\n",
       "    var x = canvas_pos.x * mpl.ratio;\n",
       "    var y = canvas_pos.y * mpl.ratio;\n",
       "\n",
       "    this.send_message(name, {x: x, y: y, button: event.button,\n",
       "                             step: event.step,\n",
       "                             guiEvent: simpleKeys(event)});\n",
       "\n",
       "    /* This prevents the web browser from automatically changing to\n",
       "     * the text insertion cursor when the button is pressed.  We want\n",
       "     * to control all of the cursor setting manually through the\n",
       "     * 'cursor' event from matplotlib */\n",
       "    event.preventDefault();\n",
       "    return false;\n",
       "}\n",
       "\n",
       "mpl.figure.prototype._key_event_extra = function(event, name) {\n",
       "    // Handle any extra behaviour associated with a key event\n",
       "}\n",
       "\n",
       "mpl.figure.prototype.key_event = function(event, name) {\n",
       "\n",
       "    // Prevent repeat events\n",
       "    if (name == 'key_press')\n",
       "    {\n",
       "        if (event.which === this._key)\n",
       "            return;\n",
       "        else\n",
       "            this._key = event.which;\n",
       "    }\n",
       "    if (name == 'key_release')\n",
       "        this._key = null;\n",
       "\n",
       "    var value = '';\n",
       "    if (event.ctrlKey && event.which != 17)\n",
       "        value += \"ctrl+\";\n",
       "    if (event.altKey && event.which != 18)\n",
       "        value += \"alt+\";\n",
       "    if (event.shiftKey && event.which != 16)\n",
       "        value += \"shift+\";\n",
       "\n",
       "    value += 'k';\n",
       "    value += event.which.toString();\n",
       "\n",
       "    this._key_event_extra(event, name);\n",
       "\n",
       "    this.send_message(name, {key: value,\n",
       "                             guiEvent: simpleKeys(event)});\n",
       "    return false;\n",
       "}\n",
       "\n",
       "mpl.figure.prototype.toolbar_button_onclick = function(name) {\n",
       "    if (name == 'download') {\n",
       "        this.handle_save(this, null);\n",
       "    } else {\n",
       "        this.send_message(\"toolbar_button\", {name: name});\n",
       "    }\n",
       "};\n",
       "\n",
       "mpl.figure.prototype.toolbar_button_onmouseover = function(tooltip) {\n",
       "    this.message.textContent = tooltip;\n",
       "};\n",
       "mpl.toolbar_items = [[\"Home\", \"Reset original view\", \"fa fa-home icon-home\", \"home\"], [\"Back\", \"Back to  previous view\", \"fa fa-arrow-left icon-arrow-left\", \"back\"], [\"Forward\", \"Forward to next view\", \"fa fa-arrow-right icon-arrow-right\", \"forward\"], [\"\", \"\", \"\", \"\"], [\"Pan\", \"Pan axes with left mouse, zoom with right\", \"fa fa-arrows icon-move\", \"pan\"], [\"Zoom\", \"Zoom to rectangle\", \"fa fa-square-o icon-check-empty\", \"zoom\"], [\"\", \"\", \"\", \"\"], [\"Download\", \"Download plot\", \"fa fa-floppy-o icon-save\", \"download\"]];\n",
       "\n",
       "mpl.extensions = [\"eps\", \"jpeg\", \"pdf\", \"png\", \"ps\", \"raw\", \"svg\", \"tif\"];\n",
       "\n",
       "mpl.default_extension = \"png\";var comm_websocket_adapter = function(comm) {\n",
       "    // Create a \"websocket\"-like object which calls the given IPython comm\n",
       "    // object with the appropriate methods. Currently this is a non binary\n",
       "    // socket, so there is still some room for performance tuning.\n",
       "    var ws = {};\n",
       "\n",
       "    ws.close = function() {\n",
       "        comm.close()\n",
       "    };\n",
       "    ws.send = function(m) {\n",
       "        //console.log('sending', m);\n",
       "        comm.send(m);\n",
       "    };\n",
       "    // Register the callback with on_msg.\n",
       "    comm.on_msg(function(msg) {\n",
       "        //console.log('receiving', msg['content']['data'], msg);\n",
       "        // Pass the mpl event to the overriden (by mpl) onmessage function.\n",
       "        ws.onmessage(msg['content']['data'])\n",
       "    });\n",
       "    return ws;\n",
       "}\n",
       "\n",
       "mpl.mpl_figure_comm = function(comm, msg) {\n",
       "    // This is the function which gets called when the mpl process\n",
       "    // starts-up an IPython Comm through the \"matplotlib\" channel.\n",
       "\n",
       "    var id = msg.content.data.id;\n",
       "    // Get hold of the div created by the display call when the Comm\n",
       "    // socket was opened in Python.\n",
       "    var element = $(\"#\" + id);\n",
       "    var ws_proxy = comm_websocket_adapter(comm)\n",
       "\n",
       "    function ondownload(figure, format) {\n",
       "        window.open(figure.imageObj.src);\n",
       "    }\n",
       "\n",
       "    var fig = new mpl.figure(id, ws_proxy,\n",
       "                           ondownload,\n",
       "                           element.get(0));\n",
       "\n",
       "    // Call onopen now - mpl needs it, as it is assuming we've passed it a real\n",
       "    // web socket which is closed, not our websocket->open comm proxy.\n",
       "    ws_proxy.onopen();\n",
       "\n",
       "    fig.parent_element = element.get(0);\n",
       "    fig.cell_info = mpl.find_output_cell(\"<div id='\" + id + \"'></div>\");\n",
       "    if (!fig.cell_info) {\n",
       "        console.error(\"Failed to find cell for figure\", id, fig);\n",
       "        return;\n",
       "    }\n",
       "\n",
       "    var output_index = fig.cell_info[2]\n",
       "    var cell = fig.cell_info[0];\n",
       "\n",
       "};\n",
       "\n",
       "mpl.figure.prototype.handle_close = function(fig, msg) {\n",
       "    var width = fig.canvas.width/mpl.ratio\n",
       "    fig.root.unbind('remove')\n",
       "\n",
       "    // Update the output cell to use the data from the current canvas.\n",
       "    fig.push_to_output();\n",
       "    var dataURL = fig.canvas.toDataURL();\n",
       "    // Re-enable the keyboard manager in IPython - without this line, in FF,\n",
       "    // the notebook keyboard shortcuts fail.\n",
       "    IPython.keyboard_manager.enable()\n",
       "    $(fig.parent_element).html('<img src=\"' + dataURL + '\" width=\"' + width + '\">');\n",
       "    fig.close_ws(fig, msg);\n",
       "}\n",
       "\n",
       "mpl.figure.prototype.close_ws = function(fig, msg){\n",
       "    fig.send_message('closing', msg);\n",
       "    // fig.ws.close()\n",
       "}\n",
       "\n",
       "mpl.figure.prototype.push_to_output = function(remove_interactive) {\n",
       "    // Turn the data on the canvas into data in the output cell.\n",
       "    var width = this.canvas.width/mpl.ratio\n",
       "    var dataURL = this.canvas.toDataURL();\n",
       "    this.cell_info[1]['text/html'] = '<img src=\"' + dataURL + '\" width=\"' + width + '\">';\n",
       "}\n",
       "\n",
       "mpl.figure.prototype.updated_canvas_event = function() {\n",
       "    // Tell IPython that the notebook contents must change.\n",
       "    IPython.notebook.set_dirty(true);\n",
       "    this.send_message(\"ack\", {});\n",
       "    var fig = this;\n",
       "    // Wait a second, then push the new image to the DOM so\n",
       "    // that it is saved nicely (might be nice to debounce this).\n",
       "    setTimeout(function () { fig.push_to_output() }, 1000);\n",
       "}\n",
       "\n",
       "mpl.figure.prototype._init_toolbar = function() {\n",
       "    var fig = this;\n",
       "\n",
       "    var nav_element = $('<div/>')\n",
       "    nav_element.attr('style', 'width: 100%');\n",
       "    this.root.append(nav_element);\n",
       "\n",
       "    // Define a callback function for later on.\n",
       "    function toolbar_event(event) {\n",
       "        return fig.toolbar_button_onclick(event['data']);\n",
       "    }\n",
       "    function toolbar_mouse_event(event) {\n",
       "        return fig.toolbar_button_onmouseover(event['data']);\n",
       "    }\n",
       "\n",
       "    for(var toolbar_ind in mpl.toolbar_items){\n",
       "        var name = mpl.toolbar_items[toolbar_ind][0];\n",
       "        var tooltip = mpl.toolbar_items[toolbar_ind][1];\n",
       "        var image = mpl.toolbar_items[toolbar_ind][2];\n",
       "        var method_name = mpl.toolbar_items[toolbar_ind][3];\n",
       "\n",
       "        if (!name) { continue; };\n",
       "\n",
       "        var button = $('<button class=\"btn btn-default\" href=\"#\" title=\"' + name + '\"><i class=\"fa ' + image + ' fa-lg\"></i></button>');\n",
       "        button.click(method_name, toolbar_event);\n",
       "        button.mouseover(tooltip, toolbar_mouse_event);\n",
       "        nav_element.append(button);\n",
       "    }\n",
       "\n",
       "    // Add the status bar.\n",
       "    var status_bar = $('<span class=\"mpl-message\" style=\"text-align:right; float: right;\"/>');\n",
       "    nav_element.append(status_bar);\n",
       "    this.message = status_bar[0];\n",
       "\n",
       "    // Add the close button to the window.\n",
       "    var buttongrp = $('<div class=\"btn-group inline pull-right\"></div>');\n",
       "    var button = $('<button class=\"btn btn-mini btn-primary\" href=\"#\" title=\"Stop Interaction\"><i class=\"fa fa-power-off icon-remove icon-large\"></i></button>');\n",
       "    button.click(function (evt) { fig.handle_close(fig, {}); } );\n",
       "    button.mouseover('Stop Interaction', toolbar_mouse_event);\n",
       "    buttongrp.append(button);\n",
       "    var titlebar = this.root.find($('.ui-dialog-titlebar'));\n",
       "    titlebar.prepend(buttongrp);\n",
       "}\n",
       "\n",
       "mpl.figure.prototype._root_extra_style = function(el){\n",
       "    var fig = this\n",
       "    el.on(\"remove\", function(){\n",
       "\tfig.close_ws(fig, {});\n",
       "    });\n",
       "}\n",
       "\n",
       "mpl.figure.prototype._canvas_extra_style = function(el){\n",
       "    // this is important to make the div 'focusable\n",
       "    el.attr('tabindex', 0)\n",
       "    // reach out to IPython and tell the keyboard manager to turn it's self\n",
       "    // off when our div gets focus\n",
       "\n",
       "    // location in version 3\n",
       "    if (IPython.notebook.keyboard_manager) {\n",
       "        IPython.notebook.keyboard_manager.register_events(el);\n",
       "    }\n",
       "    else {\n",
       "        // location in version 2\n",
       "        IPython.keyboard_manager.register_events(el);\n",
       "    }\n",
       "\n",
       "}\n",
       "\n",
       "mpl.figure.prototype._key_event_extra = function(event, name) {\n",
       "    var manager = IPython.notebook.keyboard_manager;\n",
       "    if (!manager)\n",
       "        manager = IPython.keyboard_manager;\n",
       "\n",
       "    // Check for shift+enter\n",
       "    if (event.shiftKey && event.which == 13) {\n",
       "        this.canvas_div.blur();\n",
       "        // select the cell after this one\n",
       "        var index = IPython.notebook.find_cell_index(this.cell_info[0]);\n",
       "        IPython.notebook.select(index + 1);\n",
       "    }\n",
       "}\n",
       "\n",
       "mpl.figure.prototype.handle_save = function(fig, msg) {\n",
       "    fig.ondownload(fig, null);\n",
       "}\n",
       "\n",
       "\n",
       "mpl.find_output_cell = function(html_output) {\n",
       "    // Return the cell and output element which can be found *uniquely* in the notebook.\n",
       "    // Note - this is a bit hacky, but it is done because the \"notebook_saving.Notebook\"\n",
       "    // IPython event is triggered only after the cells have been serialised, which for\n",
       "    // our purposes (turning an active figure into a static one), is too late.\n",
       "    var cells = IPython.notebook.get_cells();\n",
       "    var ncells = cells.length;\n",
       "    for (var i=0; i<ncells; i++) {\n",
       "        var cell = cells[i];\n",
       "        if (cell.cell_type === 'code'){\n",
       "            for (var j=0; j<cell.output_area.outputs.length; j++) {\n",
       "                var data = cell.output_area.outputs[j];\n",
       "                if (data.data) {\n",
       "                    // IPython >= 3 moved mimebundle to data attribute of output\n",
       "                    data = data.data;\n",
       "                }\n",
       "                if (data['text/html'] == html_output) {\n",
       "                    return [cell, data, j];\n",
       "                }\n",
       "            }\n",
       "        }\n",
       "    }\n",
       "}\n",
       "\n",
       "// Register the function which deals with the matplotlib target/channel.\n",
       "// The kernel may be null if the page has been refreshed.\n",
       "if (IPython.notebook.kernel != null) {\n",
       "    IPython.notebook.kernel.comm_manager.register_target('matplotlib', mpl.mpl_figure_comm);\n",
       "}\n"
      ],
      "text/plain": [
       "<IPython.core.display.Javascript object>"
      ]
     },
     "metadata": {},
     "output_type": "display_data"
    },
    {
     "data": {
      "text/html": [
       "<img src=\"data:image/png;base64,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\" width=\"499.9999891627921\">"
      ],
      "text/plain": [
       "<IPython.core.display.HTML object>"
      ]
     },
     "metadata": {},
     "output_type": "display_data"
    }
   ],
   "source": [
    "o_cal_profile.display_water_intake_peak_in_px()"
   ]
  },
  {
   "cell_type": "code",
   "execution_count": null,
   "metadata": {
    "run_control": {
     "frozen": false,
     "read_only": false
    }
   },
   "outputs": [],
   "source": [
    "o_cal_profile.define_pixel_size()"
   ]
  },
  {
   "cell_type": "code",
   "execution_count": null,
   "metadata": {
    "run_control": {
     "frozen": false,
     "read_only": false
    }
   },
   "outputs": [],
   "source": [
    "o_cal_profile.display_water_intake_peak_in_mm()"
   ]
  },
  {
   "cell_type": "markdown",
   "metadata": {
    "run_control": {
     "frozen": false,
     "read_only": false
    }
   },
   "source": [
    "# Output"
   ]
  },
  {
   "cell_type": "code",
   "execution_count": null,
   "metadata": {
    "run_control": {
     "frozen": false,
     "read_only": false
    }
   },
   "outputs": [],
   "source": [
    "o_cal_profile.select_output_folder()"
   ]
  },
  {
   "cell_type": "code",
   "execution_count": null,
   "metadata": {
    "run_control": {
     "frozen": false,
     "read_only": false
    }
   },
   "outputs": [],
   "source": [
    "o_cal_profile.export()"
   ]
  },
  {
   "cell_type": "code",
   "execution_count": null,
   "metadata": {
    "run_control": {
     "frozen": false,
     "read_only": false
    }
   },
   "outputs": [],
   "source": []
  }
 ],
 "metadata": {
  "anaconda-cloud": {},
  "kernelspec": {
   "display_name": "Python 3",
   "language": "python",
   "name": "python3"
  },
  "language_info": {
   "codemirror_mode": {
    "name": "ipython",
    "version": 3
   },
   "file_extension": ".py",
   "mimetype": "text/x-python",
   "name": "python",
   "nbconvert_exporter": "python",
   "pygments_lexer": "ipython3",
   "version": "3.6.2"
  },
  "toc": {
   "colors": {
    "hover_highlight": "#DAA520",
    "running_highlight": "#FF0000",
    "selected_highlight": "#FFD700"
   },
   "moveMenuLeft": true,
   "nav_menu": {
    "height": "101px",
    "width": "252px"
   },
   "navigate_menu": true,
   "number_sections": true,
   "sideBar": true,
   "threshold": 4,
   "toc_cell": false,
   "toc_section_display": "block",
   "toc_window_display": false
  }
 },
 "nbformat": 4,
 "nbformat_minor": 1
}
