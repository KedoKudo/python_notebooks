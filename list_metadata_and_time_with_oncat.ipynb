{
 "cells": [
  {
   "cell_type": "markdown",
   "metadata": {},
   "source": [
    "[![Notebook Tutorial](__code/__all/notebook_tutorial.png)](https://neutronimaging.pages.ornl.gov/en/tutorial/notebooks/list_metadata_and_time_with_oncat)\n",
    "\n",
    "<img src='__docs/__all/notebook_rules.png' />"
   ]
  },
  {
   "cell_type": "markdown",
   "metadata": {},
   "source": [
    "# Select Your IPTS "
   ]
  },
  {
   "cell_type": "code",
   "execution_count": 1,
   "metadata": {},
   "outputs": [
    {
     "data": {
      "text/html": [
       "\n",
       "<style type=\"text/css\">\n",
       ".jupyter-widgets select option {font-family: \"Lucida Console\", Monaco, monospace;}\n",
       ".jupyter-widgets select {width: 98%;}\n",
       "div.output_subarea {padding: 0px;}\n",
       "div.output_subarea > div {margin: 0.4em;}\n",
       "</style>\n"
      ],
      "text/plain": [
       "<IPython.core.display.HTML object>"
      ]
     },
     "metadata": {},
     "output_type": "display_data"
    },
    {
     "data": {
      "text/html": [
       "\n",
       "                       <style>\n",
       "                       .result_label {\n",
       "                          font-style: bold;\n",
       "                          color: red;\n",
       "                          font-size: 18px;\n",
       "                       }\n",
       "                       </style>\n",
       "                       "
      ],
      "text/plain": [
       "<IPython.core.display.HTML object>"
      ]
     },
     "metadata": {},
     "output_type": "display_data"
    },
    {
     "data": {
      "application/vnd.jupyter.widget-view+json": {
       "model_id": "2f0b0fe6ac9f4bbb84fc99ccf87d9cfe",
       "version_major": 2,
       "version_minor": 0
      },
      "text/plain": [
       "VBox(children=(HBox(children=(Label(value='Select Instrument', layout=Layout(width='20%')), Select(layout=Layo…"
      ]
     },
     "metadata": {},
     "output_type": "display_data"
    },
    {
     "data": {
      "text/html": [
       "<style>\n",
       "\n",
       "/* The following CSS has been adapted from\n",
       "   http://nbviewer.ipython.org/github/ketch/teaching-numerics-with-notebooks/blob/master/Styling_notebooks.ipynb\n",
       "   by Aron Ahmadia and David Ketcheson and has been reused under CC BY 4.0\n",
       "   */\n",
       "\n",
       "/* main background */\n",
       "#site { \n",
       "    background: #888;\n",
       "    color: #red; \n",
       "}\n",
       "\n",
       "div.container {\n",
       "    width: 100% ! important;\n",
       "}\n",
       "\n",
       "div.cell { /* set cell width to about 80 chars */\n",
       "    width: 95%;\n",
       "}\n",
       "\n",
       "div #notebook { /* centre the content */\n",
       "/*    background: #fff; /* white background for content */\n",
       "    background: blue;\n",
       "    width: 100%;\n",
       "    margin: auto;\n",
       "    padding-left: 1em;\n",
       "    padding-right: 1em;\n",
       "    background-image: url(\"tile_background.jpg\");\n",
       "}\n",
       "\n",
       "#notebook li { /* More space between bullet points */\n",
       "    margin-top:0.4em;\n",
       "}\n",
       "\n",
       "/* change background color of running cells */\n",
       "div.cell.code_cell.running {\n",
       "/*    background-color: rgba(164,188,194,.75); */\n",
       "    background-color: green;\n",
       "    border-width: 8px\n",
       "    border-style: solid\n",
       "    border-color: #111;\n",
       "}\n",
       "\n",
       "/* Put a solid color box around each cell and its output, visually linking them together */\n",
       "div.cell.code_cell {\n",
       "    background-color: rgba(164,188,194,.25); /* Continuum L Gray with alpha 0.25 */\n",
       "    border-radius: 10px; /* rounded borders */\n",
       "    padding: 1em;\n",
       "    margin-top: 1em;\n",
       "}\n",
       "\n",
       "div.text_cell_render{\n",
       "\tfont-family: Georgia, Times, 'Times New Roman', serif;\n",
       "    line-height: 110%;\n",
       "    font-size: 105%;\n",
       "    width: 95%;\n",
       "    margin-left: auto;\n",
       "    margin-right: auto;\n",
       "}\n",
       "\n",
       "\n",
       "/* Formatting for header cells */\n",
       ".text_cell_render h1 {\n",
       "\tfont-family: Arial, 'Helvetica Neue', Helvetica, sans-serif;\n",
       "    font-weight: 400;\n",
       "    font-size: 30pt;\n",
       "    line-height: 100%;\n",
       "    color: rgb(37,55,70); /* Continuum Blue*/\n",
       "    margin-bottom: 0.1em;\n",
       "    margin-top: 0.1em;\n",
       "    display: block;\n",
       "}\n",
       ".text_cell_render h2 {\n",
       "\tfont-family: Arial, 'Helvetica Neue', Helvetica, sans-serif;\n",
       "    font-weight: 700;\n",
       "    font-size: 22pt;\n",
       "    line-height: 100%;\n",
       "    color: rgb(37,55,70);\n",
       "    margin-bottom: 0.1em;\n",
       "    margin-top: 0.1em;\n",
       "    display: block;\n",
       "}\n",
       "\n",
       ".text_cell_render h3 {\n",
       "\tfont-family: Arial, 'Helvetica Neue', Helvetica, sans-serif;\n",
       "    margin-top:12px;\n",
       "    margin-bottom: 3px;\n",
       "    font-style: italic;\n",
       "    color: rgb(37, 55, 70);\n",
       "}\n",
       "\n",
       ".text_cell_render h4 {\n",
       "\tfont-family: Arial, 'Helvetica Neue', Helvetica, sans-serif;\n",
       "}\n",
       "\n",
       ".text_cell_render h5 {\n",
       "\tfont-family: Arial, 'Helvetica Neue', Helvetica, sans-serif;\n",
       "    font-weight: 300;\n",
       "    font-size: 14pt;\n",
       "    font-style: italic;\n",
       "    margin-bottom: .1em;\n",
       "    margin-top: 0.1em;\n",
       "    display: block;\n",
       "}\n",
       "\n",
       ".text_cell_render h6 {\n",
       "\tfont-family: Arial, 'Helvetica Neue', Helvetica, sans-serif;\n",
       "    font-weight: 300;\n",
       "    font-size: 10pt;\n",
       "    margin-bottom: 1px;\n",
       "    margin-top: 1px;\n",
       "}\n",
       "\n",
       ".CodeMirror{\n",
       "        font-family: \"PT Mono\", fixed;\n",
       "        font-size: 100%;\n",
       "}\n",
       "\n",
       "#notebook_panel { /* main background */\n",
       "    background-image: url(\"tile_background.jpg\");\n",
       "}\n",
       "\n",
       "\n",
       "\n",
       "\n",
       "</style>\n"
      ],
      "text/plain": [
       "<IPython.core.display.HTML object>"
      ]
     },
     "execution_count": 1,
     "metadata": {},
     "output_type": "execute_result"
    }
   ],
   "source": [
    "from __code.select_files import SelectFiles\n",
    "from __code.list_metadata_and_time_with_oncat import ListMetadata\n",
    "\n",
    "from __code import system\n",
    "system.System.select_working_dir()\n",
    "from __code.__all import custom_style\n",
    "custom_style.style()"
   ]
  },
  {
   "cell_type": "markdown",
   "metadata": {},
   "source": [
    "# Select Images "
   ]
  },
  {
   "cell_type": "code",
   "execution_count": 2,
   "metadata": {},
   "outputs": [
    {
     "data": {
      "application/vnd.jupyter.widget-view+json": {
       "model_id": "",
       "version_major": 2,
       "version_minor": 0
      },
      "text/plain": [
       "VBox(children=(Label(value='Select Images ...', layout=Layout(width='250px')), VBox(children=(HBox(children=(H…"
      ]
     },
     "metadata": {},
     "output_type": "display_data"
    }
   ],
   "source": [
    "o_select = SelectFiles(system=system)"
   ]
  },
  {
   "cell_type": "markdown",
   "metadata": {},
   "source": [
    "# Select Metadata to Keep "
   ]
  },
  {
   "cell_type": "code",
   "execution_count": null,
   "metadata": {},
   "outputs": [],
   "source": [
    "o_list = ListMetadata(system=system, file=o_select.list_of_files[0])"
   ]
  },
  {
   "cell_type": "code",
   "execution_count": 4,
   "metadata": {},
   "outputs": [
    {
     "ename": "AttributeError",
     "evalue": "'NoneType' object has no attribute 'Datafile'",
     "output_type": "error",
     "traceback": [
      "\u001b[0;31m---------------------------------------------------------------------------\u001b[0m",
      "\u001b[0;31mAttributeError\u001b[0m                            Traceback (most recent call last)",
      "\u001b[0;32m<ipython-input-4-0de98610dd7e>\u001b[0m in \u001b[0;36m<module>\u001b[0;34m()\u001b[0m\n\u001b[0;32m----> 1\u001b[0;31m \u001b[0mo_list\u001b[0m\u001b[0;34m.\u001b[0m\u001b[0mselect_metadata\u001b[0m\u001b[0;34m(\u001b[0m\u001b[0;34m)\u001b[0m\u001b[0;34m\u001b[0m\u001b[0m\n\u001b[0m",
      "\u001b[0;32m~/notebooks/IPTS_notebooks/__code/list_metadata_and_time_with_oncat.py\u001b[0m in \u001b[0;36mselect_metadata\u001b[0;34m(self)\u001b[0m\n\u001b[1;32m     15\u001b[0m \u001b[0;34m\u001b[0m\u001b[0m\n\u001b[1;32m     16\u001b[0m     \u001b[0;32mdef\u001b[0m \u001b[0mselect_metadata\u001b[0m\u001b[0;34m(\u001b[0m\u001b[0mself\u001b[0m\u001b[0;34m)\u001b[0m\u001b[0;34m:\u001b[0m\u001b[0;34m\u001b[0m\u001b[0m\n\u001b[0;32m---> 17\u001b[0;31m         \u001b[0mlist_metadata\u001b[0m \u001b[0;34m=\u001b[0m \u001b[0mself\u001b[0m\u001b[0;34m.\u001b[0m\u001b[0mretrieve_list_metadata\u001b[0m\u001b[0;34m(\u001b[0m\u001b[0;34m)\u001b[0m\u001b[0;34m\u001b[0m\u001b[0m\n\u001b[0m\u001b[1;32m     18\u001b[0m \u001b[0;34m\u001b[0m\u001b[0m\n\u001b[1;32m     19\u001b[0m         box = widgets.HBox([widgets.Label(\"Select Metadata To Retrieve\",\n",
      "\u001b[0;32m~/notebooks/IPTS_notebooks/__code/list_metadata_and_time_with_oncat.py\u001b[0m in \u001b[0;36mretrieve_list_metadata\u001b[0;34m(self)\u001b[0m\n\u001b[1;32m     30\u001b[0m                                          \u001b[0mfacility\u001b[0m\u001b[0;34m=\u001b[0m\u001b[0mself\u001b[0m\u001b[0;34m.\u001b[0m\u001b[0mfacility\u001b[0m\u001b[0;34m,\u001b[0m\u001b[0;34m\u001b[0m\u001b[0m\n\u001b[1;32m     31\u001b[0m                                          \u001b[0mrun\u001b[0m\u001b[0;34m=\u001b[0m\u001b[0mself\u001b[0m\u001b[0;34m.\u001b[0m\u001b[0mfile\u001b[0m\u001b[0;34m,\u001b[0m\u001b[0;34m\u001b[0m\u001b[0m\n\u001b[0;32m---> 32\u001b[0;31m                                          oncat=self.oncat_session)\n\u001b[0m\u001b[1;32m     33\u001b[0m \u001b[0;34m\u001b[0m\u001b[0m\n\u001b[1;32m     34\u001b[0m         \u001b[0mself\u001b[0m\u001b[0;34m.\u001b[0m\u001b[0mdata\u001b[0m \u001b[0;34m=\u001b[0m \u001b[0m_data\u001b[0m\u001b[0;34m.\u001b[0m\u001b[0mdatafiles\u001b[0m\u001b[0;34m\u001b[0m\u001b[0m\n",
      "\u001b[0;32m~/notebooks/IPTS_notebooks/__code/oncat.py\u001b[0m in \u001b[0;36m__init__\u001b[0;34m(self, instrument, facility, run, oncat)\u001b[0m\n\u001b[1;32m     43\u001b[0m         \u001b[0mrun\u001b[0m \u001b[0;34m=\u001b[0m \u001b[0mself\u001b[0m\u001b[0;34m.\u001b[0m\u001b[0m__remove_leading_backslash\u001b[0m\u001b[0;34m(\u001b[0m\u001b[0mrun\u001b[0m\u001b[0;34m)\u001b[0m\u001b[0;34m\u001b[0m\u001b[0m\n\u001b[1;32m     44\u001b[0m \u001b[0;34m\u001b[0m\u001b[0m\n\u001b[0;32m---> 45\u001b[0;31m         self.datafiles = oncat.Datafile.retrieve(\n\u001b[0m\u001b[1;32m     46\u001b[0m             \u001b[0mrun\u001b[0m\u001b[0;34m,\u001b[0m\u001b[0;34m\u001b[0m\u001b[0m\n\u001b[1;32m     47\u001b[0m             \u001b[0mfacility\u001b[0m\u001b[0;34m=\u001b[0m\u001b[0mfacility\u001b[0m\u001b[0;34m,\u001b[0m\u001b[0;34m\u001b[0m\u001b[0m\n",
      "\u001b[0;31mAttributeError\u001b[0m: 'NoneType' object has no attribute 'Datafile'"
     ]
    }
   ],
   "source": [
    "o_list.select_metadata()"
   ]
  },
  {
   "cell_type": "code",
   "execution_count": null,
   "metadata": {},
   "outputs": [],
   "source": []
  }
 ],
 "metadata": {
  "kernelspec": {
   "display_name": "Python 3",
   "language": "python",
   "name": "python3"
  },
  "language_info": {
   "codemirror_mode": {
    "name": "ipython",
    "version": 3
   },
   "file_extension": ".py",
   "mimetype": "text/x-python",
   "name": "python",
   "nbconvert_exporter": "python",
   "pygments_lexer": "ipython3",
   "version": "3.5.6"
  }
 },
 "nbformat": 4,
 "nbformat_minor": 2
}
