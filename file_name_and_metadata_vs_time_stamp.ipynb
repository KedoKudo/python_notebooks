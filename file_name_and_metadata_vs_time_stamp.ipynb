{
 "cells": [
  {
   "cell_type": "code",
   "execution_count": 13,
   "metadata": {
    "run_control": {
     "frozen": false,
     "read_only": false
    }
   },
   "outputs": [],
   "source": [
    "debugging = True\n",
    "verbose = False\n",
    "IPTS = 'testing_time_spectra'"
   ]
  },
  {
   "cell_type": "markdown",
   "metadata": {
    "run_control": {
     "frozen": false,
     "read_only": false
    }
   },
   "source": [
    "# Description "
   ]
  },
  {
   "cell_type": "markdown",
   "metadata": {
    "run_control": {
     "frozen": false,
     "read_only": false
    }
   },
   "source": [
    "The goal of this notebook is __to match__ the **file names** (fits or tif) with their **metadata** (imported from an ascii file)\n",
    "\n",
    "The program will retrieve the time stamp of the imported file and will match them with the metadata ascii file. \n",
    "\n",
    "To work, the metadata will need to have the following format\n",
    "\n",
    "**furnace.txt**\n",
    "```\n",
    "#time, metadata\n",
    "120000, 0\n",
    "120001, 5\n",
    "120010, 10\n",
    "120020, 30\n",
    "```\n",
    "\n",
    "A preview of the **metadata** value vs **file index** and **relative time** will be displayed. \n",
    "\n",
    "Export of the data into an ascii file using the following format\n",
    "```\n",
    "#metadata, file_name, time_stamp\n",
    "```\n"
   ]
  },
  {
   "cell_type": "markdown",
   "metadata": {
    "run_control": {
     "frozen": false,
     "read_only": false
    }
   },
   "source": [
    "# Python Import"
   ]
  },
  {
   "cell_type": "code",
   "execution_count": 14,
   "metadata": {
    "run_control": {
     "frozen": false,
     "read_only": false
    }
   },
   "outputs": [
    {
     "data": {
      "text/html": [
       "<style>\n",
       "\n",
       "/* The following CSS has been adapted from\n",
       "   http://nbviewer.ipython.org/github/ketch/teaching-numerics-with-notebooks/blob/master/Styling_notebooks.ipynb\n",
       "   by Aron Ahmadia and David Ketcheson and has been reused under CC BY 4.0\n",
       "   */\n",
       "\n",
       "/* main background */\n",
       "#site { \n",
       "    background: #888;\n",
       "    color: #red; \n",
       "}\n",
       "\n",
       "div.container {\n",
       "    width: 100% ! important;\n",
       "}\n",
       "\n",
       "div.cell { /* set cell width to about 80 chars */\n",
       "    width: 95%;\n",
       "}\n",
       "\n",
       "div #notebook { /* centre the content */\n",
       "/*    background: #fff; /* white background for content */\n",
       "    background: blue;\n",
       "    width: 100%;\n",
       "    margin: auto;\n",
       "    padding-left: 1em;\n",
       "    padding-right: 1em;\n",
       "    background-image: url(\"tile_background.jpg\");\n",
       "}\n",
       "\n",
       "#notebook li { /* More space between bullet points */\n",
       "    margin-top:0.4em;\n",
       "}\n",
       "\n",
       "/* change background color of running cells */\n",
       "div.cell.code_cell.running {\n",
       "/*    background-color: rgba(164,188,194,.75); */\n",
       "    background-color: green;\n",
       "    border-width: 8px\n",
       "    border-style: solid\n",
       "    border-color: #111;\n",
       "}\n",
       "\n",
       "/* Put a solid color box around each cell and its output, visually linking them together */\n",
       "div.cell.code_cell {\n",
       "    background-color: rgba(164,188,194,.25); /* Continuum L Gray with alpha 0.25 */\n",
       "    border-radius: 10px; /* rounded borders */\n",
       "    padding: 1em;\n",
       "    margin-top: 1em;\n",
       "}\n",
       "\n",
       "div.text_cell_render{\n",
       "\tfont-family: Georgia, Times, 'Times New Roman', serif;\n",
       "    line-height: 110%;\n",
       "    font-size: 105%;\n",
       "    width: 95%;\n",
       "    margin-left: auto;\n",
       "    margin-right: auto;\n",
       "}\n",
       "\n",
       "\n",
       "/* Formatting for header cells */\n",
       ".text_cell_render h1 {\n",
       "\tfont-family: Arial, 'Helvetica Neue', Helvetica, sans-serif;\n",
       "    font-weight: 400;\n",
       "    font-size: 30pt;\n",
       "    line-height: 100%;\n",
       "    color: rgb(37,55,70); /* Continuum Blue*/\n",
       "    margin-bottom: 0.1em;\n",
       "    margin-top: 0.1em;\n",
       "    display: block;\n",
       "}\n",
       ".text_cell_render h2 {\n",
       "\tfont-family: Arial, 'Helvetica Neue', Helvetica, sans-serif;\n",
       "    font-weight: 700;\n",
       "    font-size: 22pt;\n",
       "    line-height: 100%;\n",
       "    color: rgb(37,55,70);\n",
       "    margin-bottom: 0.1em;\n",
       "    margin-top: 0.1em;\n",
       "    display: block;\n",
       "}\n",
       "\n",
       ".text_cell_render h3 {\n",
       "\tfont-family: Arial, 'Helvetica Neue', Helvetica, sans-serif;\n",
       "    margin-top:12px;\n",
       "    margin-bottom: 3px;\n",
       "    font-style: italic;\n",
       "    color: rgb(37, 55, 70);\n",
       "}\n",
       "\n",
       ".text_cell_render h4 {\n",
       "\tfont-family: Arial, 'Helvetica Neue', Helvetica, sans-serif;\n",
       "}\n",
       "\n",
       ".text_cell_render h5 {\n",
       "\tfont-family: Arial, 'Helvetica Neue', Helvetica, sans-serif;\n",
       "    font-weight: 300;\n",
       "    font-size: 14pt;\n",
       "    font-style: italic;\n",
       "    margin-bottom: .1em;\n",
       "    margin-top: 0.1em;\n",
       "    display: block;\n",
       "}\n",
       "\n",
       ".text_cell_render h6 {\n",
       "\tfont-family: Arial, 'Helvetica Neue', Helvetica, sans-serif;\n",
       "    font-weight: 300;\n",
       "    font-size: 10pt;\n",
       "    margin-bottom: 1px;\n",
       "    margin-top: 1px;\n",
       "}\n",
       "\n",
       ".CodeMirror{\n",
       "        font-family: \"PT Mono\", fixed;\n",
       "        font-size: 100%;\n",
       "}\n",
       "\n",
       "#notebook_panel { /* main background */\n",
       "    background-image: url(\"tile_background.jpg\");\n",
       "}\n",
       "\n",
       "\n",
       "\n",
       "\n",
       "</style>\n"
      ],
      "text/plain": [
       "<IPython.core.display.HTML object>"
      ]
     },
     "execution_count": 14,
     "metadata": {},
     "output_type": "execute_result"
    }
   ],
   "source": [
    "from __code.__all import custom_style\n",
    "custom_style.style()"
   ]
  },
  {
   "cell_type": "code",
   "execution_count": 15,
   "metadata": {
    "run_control": {
     "frozen": false,
     "read_only": false
    }
   },
   "outputs": [],
   "source": [
    "%matplotlib notebook"
   ]
  },
  {
   "cell_type": "code",
   "execution_count": 16,
   "metadata": {
    "run_control": {
     "frozen": false,
     "read_only": false
    }
   },
   "outputs": [],
   "source": [
    "from __code.file_name_and_metadata_vs_time_stamp import FileNameMetadataTimeStamp"
   ]
  },
  {
   "cell_type": "code",
   "execution_count": 17,
   "metadata": {
    "run_control": {
     "frozen": false,
     "read_only": false
    }
   },
   "outputs": [
    {
     "name": "stdout",
     "output_type": "stream",
     "text": [
      "Working dir: /Volumes/my_book_thunderbolt_duo/IPTS/IPTS_testing_time_spectra\n"
     ]
    }
   ],
   "source": [
    "from __code import utilities\n",
    "#from __code import utilities, gui_widgets, file_handler\n",
    "# import ipywe.fileselector\n",
    "# from IPython.core.display import display, HTML\n",
    "# import pandas as pd\n",
    "# import numpy as np\n",
    "# from pprint import pprint\n",
    "\n",
    "# from ipywidgets import widgets\n",
    "# from IPython.core.display import display, HTML            \n",
    "  \n",
    "import matplotlib.pyplot as plt\n",
    "%matplotlib notebook\n",
    "\n",
    "# from IPython import display as display_ipython\n",
    "\n",
    "# from plotly.offline import plot, init_notebook_mode, iplot\n",
    "# init_notebook_mode()\n",
    "# import plotly.plotly as py\n",
    "# import plotly.graph_objs as go\n",
    "\n",
    "import sys\n",
    "# import time, datetime\n",
    "\n",
    "if sys.platform == 'darwin':\n",
    "    my_system = 'mac'\n",
    "else:\n",
    "    my_system = 'not_mac'\n",
    "    \n",
    "working_dir = utilities.get_working_dir(ipts=IPTS, debugging=debugging)\n",
    "print(\"Working dir: {}\".format(working_dir))"
   ]
  },
  {
   "cell_type": "markdown",
   "metadata": {
    "run_control": {
     "frozen": false,
     "read_only": false
    }
   },
   "source": [
    "# Select Image Folder"
   ]
  },
  {
   "cell_type": "code",
   "execution_count": 22,
   "metadata": {
    "run_control": {
     "frozen": false,
     "read_only": false
    }
   },
   "outputs": [
    {
     "data": {
      "application/vnd.jupyter.widget-view+json": {
       "model_id": "91913c8d9a9d4151b9799807fa2a3b2b",
       "version_major": 2,
       "version_minor": 0
      },
      "text/plain": [
       "A Jupyter Widget"
      ]
     },
     "metadata": {},
     "output_type": "display_data"
    },
    {
     "data": {
      "text/html": [
       "\n",
       "        <style type=\"text/css\">\n",
       "        .jupyter-widgets select option {\n",
       "            font-family: \"Lucida Console\", Monaco, monospace;\n",
       "        }\n",
       "        </style>\n",
       "        "
      ],
      "text/plain": [
       "<IPython.core.display.HTML object>"
      ]
     },
     "metadata": {},
     "output_type": "display_data"
    },
    {
     "data": {
      "application/vnd.jupyter.widget-view+json": {
       "model_id": "fd0e86375cb9499e8a44c51f39d4332e",
       "version_major": 2,
       "version_minor": 0
      },
      "text/plain": [
       "A Jupyter Widget"
      ]
     },
     "metadata": {},
     "output_type": "display_data"
    },
    {
     "data": {
      "text/html": [
       "<span style=\"font-size: 20px; color:blue\">Make sure you select the Raw untouched (not copied) sample folder!</span>"
      ],
      "text/plain": [
       "<IPython.core.display.HTML object>"
      ]
     },
     "metadata": {},
     "output_type": "display_data"
    }
   ],
   "source": [
    "o_meta_file_time = FileNameMetadataTimeStamp(working_dir=working_dir,\n",
    "                                            verbose=verbose)\n",
    "o_meta_file_time.select_image_folder()"
   ]
  },
  {
   "cell_type": "markdown",
   "metadata": {
    "run_control": {
     "frozen": false,
     "read_only": false
    }
   },
   "source": [
    "# Select Metadata Ascii File "
   ]
  },
  {
   "cell_type": "code",
   "execution_count": 23,
   "metadata": {
    "run_control": {
     "frozen": false,
     "read_only": false
    }
   },
   "outputs": [
    {
     "data": {
      "application/vnd.jupyter.widget-view+json": {
       "model_id": "033dd959d8554acdb89cea2b52a4ff9c",
       "version_major": 2,
       "version_minor": 0
      },
      "text/plain": [
       "A Jupyter Widget"
      ]
     },
     "metadata": {},
     "output_type": "display_data"
    },
    {
     "data": {
      "text/html": [
       "\n",
       "        <style type=\"text/css\">\n",
       "        .jupyter-widgets select option {\n",
       "            font-family: \"Lucida Console\", Monaco, monospace;\n",
       "        }\n",
       "        </style>\n",
       "        "
      ],
      "text/plain": [
       "<IPython.core.display.HTML object>"
      ]
     },
     "metadata": {},
     "output_type": "display_data"
    },
    {
     "data": {
      "application/vnd.jupyter.widget-view+json": {
       "model_id": "3a2717b0c9f34623bf58360a3b1fb4be",
       "version_major": 2,
       "version_minor": 0
      },
      "text/plain": [
       "A Jupyter Widget"
      ]
     },
     "metadata": {},
     "output_type": "display_data"
    }
   ],
   "source": [
    "o_meta_file_time.select_metadata_file()"
   ]
  },
  {
   "cell_type": "markdown",
   "metadata": {
    "run_control": {
     "frozen": false,
     "read_only": false
    }
   },
   "source": [
    "# Format and Merging Data"
   ]
  },
  {
   "cell_type": "code",
   "execution_count": 24,
   "metadata": {
    "run_control": {
     "frozen": false,
     "read_only": false
    }
   },
   "outputs": [],
   "source": [
    "if my_system == 'mac':\n",
    "    my_header = [None, \"furnace vacuum2\", None, \"furnace vacuum1\", None, \"tolerance\",\n",
    "                None, \"%power\", None, \"OT Temp\", None, \"Ramp SP\", None,\n",
    "                \"OT SP\", None, \"Setpoint\", None, \"Sample\", None]\n",
    "else:\n",
    "    my_header = [None, \"furnace\\ vacuum2\", None, \"furnace\\ vacuum1\", None, \"tolerance\",\n",
    "                None, \"%power\", None, \"OT\\ Temp\", None, \"Ramp\\ SP\", None,\n",
    "                \"OT\\ SP\", None, \"Setpoint\", None, \"Sample\", None]"
   ]
  },
  {
   "cell_type": "code",
   "execution_count": 25,
   "metadata": {
    "run_control": {
     "frozen": false,
     "read_only": false
    },
    "scrolled": false
   },
   "outputs": [
    {
     "data": {
      "application/vnd.jupyter.widget-view+json": {
       "model_id": "b27d6366bac34362ab518958bb5b704a",
       "version_major": 2,
       "version_minor": 0
      },
      "text/plain": [
       "A Jupyter Widget"
      ]
     },
     "metadata": {},
     "output_type": "display_data"
    },
    {
     "data": {
      "application/vnd.jupyter.widget-view+json": {
       "model_id": "786b79341c834deead7526653e429467",
       "version_major": 2,
       "version_minor": 0
      },
      "text/plain": [
       "A Jupyter Widget"
      ]
     },
     "metadata": {},
     "output_type": "display_data"
    }
   ],
   "source": [
    "o_meta_file_time.format_files(metadata_header=my_header)\n",
    "o_meta_file_time.merging_formated_files()"
   ]
  },
  {
   "cell_type": "markdown",
   "metadata": {
    "run_control": {
     "frozen": false,
     "read_only": false
    }
   },
   "source": [
    "# Preview "
   ]
  },
  {
   "cell_type": "code",
   "execution_count": 26,
   "metadata": {},
   "outputs": [
    {
     "data": {
      "text/html": [
       "<div id=\"634cf052-d59d-478a-8bfe-9998bc587c73\" style=\"height: 500px; width: 100%;\" class=\"plotly-graph-div\"></div><script type=\"text/javascript\">require([\"plotly\"], function(Plotly) { window.PLOTLYENV=window.PLOTLYENV || {};window.PLOTLYENV.BASE_URL=\"https://plot.ly\";Plotly.newPlot(\"634cf052-d59d-478a-8bfe-9998bc587c73\", [{\"name\": \"Metadata Profile vs File Index\", \"mode\": \"markers\", \"type\": \"scatter\", \"x\": [0, 1, 2, 3, 4, 5, 6, 7, 8, 9, 10, 11, 12, 13, 14, 15, 16, 17, 18, 19, 20, 21, 22, 23, 24, 25, 26, 27, 28, 29, 30, 31, 32, 33, 34, 35, 36, 37, 38, 39, 40, 41, 42, 43, 44, 45, 46], \"y\": [79.9090909090909, 148.28571428571428, 200.0, 254.0952380952381, 301.3636363636364, 357.57142857142856, 409.0, 466.2857142857143, 580.1818181818181, 632.1818181818181, 689.7142857142857, 749.3333333333334, 807.0454545454545, 838.4545454545455, 911.3333333333334, 958.3181818181819, 1002.8181818181819, 1063.7142857142858, 1132.4545454545455, 1180.2727272727273, 1225.909090909091, 1235.5454545454545, 1240.0, 1243.0, 1245.0, 1246.0, 1247.0, 1250.0, 1250.0, 1251.2727272727273, 1251.2727272727273, 1251.0, 1284.8181818181818, 1293.0, 1297.0, 1299.0, 1301.0, 1302.0, 1302.0, 1302.0, 1303.0, 1303.0, 1343.4545454545455, 1347.0, 1351.0, 1393.0, 1401.0]}], {\"showlegend\": false, \"height\": 500, \"width\": \"100%\", \"xaxis\": {\"title\": \"File Index\"}, \"title\": \"Profile of Metadata vs File Index\", \"yaxis\": {\"title\": \"Metadata Value\"}}, {\"linkText\": \"Export to plot.ly\", \"showLink\": true})});</script>"
      ],
      "text/plain": [
       "<IPython.core.display.HTML object>"
      ]
     },
     "metadata": {},
     "output_type": "display_data"
    },
    {
     "data": {
      "text/html": [
       "<div id=\"c2f7ec1c-efb1-4cdd-ab3f-306d5409451a\" style=\"height: 500px; width: 100%;\" class=\"plotly-graph-div\"></div><script type=\"text/javascript\">require([\"plotly\"], function(Plotly) { window.PLOTLYENV=window.PLOTLYENV || {};window.PLOTLYENV.BASE_URL=\"https://plot.ly\";Plotly.newPlot(\"c2f7ec1c-efb1-4cdd-ab3f-306d5409451a\", [{\"name\": \"Metadata Profile vs Relative Time(s)\", \"mode\": \"markers\", \"type\": \"scatter\", \"x\": [0.0, 6.866666666666666, 13.666666666666666, 20.566666666666666, 27.433333333333334, 34.4, 41.266666666666666, 48.13333333333333, 62.0, 68.86666666666666, 75.8, 82.73333333333333, 89.73333333333333, 96.5, 103.6, 110.33333333333333, 117.23333333333333, 124.03333333333333, 131.1, 137.73333333333332, 144.56666666666666, 151.33333333333334, 158.46666666666667, 165.6, 172.7, 179.0, 186.03333333333333, 193.13333333333333, 200.16666666666666, 207.3, 207.3, 214.36666666666667, 220.96666666666667, 228.03333333333333, 235.33333333333334, 241.5, 248.4, 255.5, 262.56666666666666, 269.6333333333333, 276.73333333333335, 283.26666666666665, 298.1, 311.46666666666664, 325.1333333333333, 338.93333333333334, 352.7], \"y\": [79.9090909090909, 148.28571428571428, 200.0, 254.0952380952381, 301.3636363636364, 357.57142857142856, 409.0, 466.2857142857143, 580.1818181818181, 632.1818181818181, 689.7142857142857, 749.3333333333334, 807.0454545454545, 838.4545454545455, 911.3333333333334, 958.3181818181819, 1002.8181818181819, 1063.7142857142858, 1132.4545454545455, 1180.2727272727273, 1225.909090909091, 1235.5454545454545, 1240.0, 1243.0, 1245.0, 1246.0, 1247.0, 1250.0, 1250.0, 1251.2727272727273, 1251.2727272727273, 1251.0, 1284.8181818181818, 1293.0, 1297.0, 1299.0, 1301.0, 1302.0, 1302.0, 1302.0, 1303.0, 1303.0, 1343.4545454545455, 1347.0, 1351.0, 1393.0, 1401.0]}], {\"showlegend\": false, \"height\": 500, \"width\": \"100%\", \"xaxis\": {\"title\": \"time offset (mn)\"}, \"title\": \"Profile of Metadata vs File Index\", \"yaxis\": {\"title\": \"Metadata Value\"}}, {\"linkText\": \"Export to plot.ly\", \"showLink\": true})});</script>"
      ],
      "text/plain": [
       "<IPython.core.display.HTML object>"
      ]
     },
     "metadata": {},
     "output_type": "display_data"
    }
   ],
   "source": [
    "o_meta_file_time.preview()"
   ]
  },
  {
   "cell_type": "markdown",
   "metadata": {
    "run_control": {
     "frozen": false,
     "read_only": false
    }
   },
   "source": [
    "# Export data "
   ]
  },
  {
   "cell_type": "code",
   "execution_count": 27,
   "metadata": {},
   "outputs": [
    {
     "data": {
      "application/vnd.jupyter.widget-view+json": {
       "model_id": "ac64eea00798460c803aa2379679e281",
       "version_major": 2,
       "version_minor": 0
      },
      "text/plain": [
       "A Jupyter Widget"
      ]
     },
     "metadata": {},
     "output_type": "display_data"
    },
    {
     "data": {
      "text/html": [
       "\n",
       "        <style type=\"text/css\">\n",
       "        .jupyter-widgets select option {\n",
       "            font-family: \"Lucida Console\", Monaco, monospace;\n",
       "        }\n",
       "        </style>\n",
       "        "
      ],
      "text/plain": [
       "<IPython.core.display.HTML object>"
      ]
     },
     "metadata": {},
     "output_type": "display_data"
    },
    {
     "data": {
      "application/vnd.jupyter.widget-view+json": {
       "model_id": "d6a6ece2b05641d69946ac75d3837f0f",
       "version_major": 2,
       "version_minor": 0
      },
      "text/plain": [
       "A Jupyter Widget"
      ]
     },
     "metadata": {},
     "output_type": "display_data"
    }
   ],
   "source": [
    "o_meta_file_time.select_export_folder()"
   ]
  },
  {
   "cell_type": "code",
   "execution_count": 28,
   "metadata": {},
   "outputs": [],
   "source": [
    "o_meta_file_time.export()"
   ]
  }
 ],
 "metadata": {
  "anaconda-cloud": {},
  "kernelspec": {
   "display_name": "Python [default]",
   "language": "python",
   "name": "python3"
  },
  "language_info": {
   "codemirror_mode": {
    "name": "ipython",
    "version": 3
   },
   "file_extension": ".py",
   "mimetype": "text/x-python",
   "name": "python",
   "nbconvert_exporter": "python",
   "pygments_lexer": "ipython3",
   "version": "3.5.3"
  },
  "toc": {
   "colors": {
    "hover_highlight": "#DAA520",
    "running_highlight": "#FF0000",
    "selected_highlight": "#FFD700"
   },
   "moveMenuLeft": true,
   "nav_menu": {
    "height": "101px",
    "width": "252px"
   },
   "navigate_menu": true,
   "number_sections": true,
   "sideBar": true,
   "threshold": 4,
   "toc_cell": false,
   "toc_section_display": "block",
   "toc_window_display": false
  },
  "widgets": {
   "state": {
    "2b2d16bfbfd3484cac2f344fd1d12020": {
     "views": [
      {
       "cell_index": 10
      }
     ]
    },
    "4dd206ee587147a9b68c13c6603eaf4c": {
     "views": [
      {
       "cell_index": 17
      }
     ]
    },
    "5e743831f3194fb0b8a514748b6cf7fe": {
     "views": [
      {
       "cell_index": 10
      }
     ]
    },
    "8467e37c099e49c3bf702cb67b92bba8": {
     "views": [
      {
       "cell_index": 15
      }
     ]
    },
    "adfc1b492e4e46cda16e2a751239a9b0": {
     "views": [
      {
       "cell_index": 13
      }
     ]
    },
    "c5df07520ba54e9bb72848eb399b40f5": {
     "views": [
      {
       "cell_index": 10
      }
     ]
    },
    "c99aa0c95ced4af293b785d60968c02d": {
     "views": [
      {
       "cell_index": 12
      }
     ]
    }
   },
   "version": "1.2.0"
  }
 },
 "nbformat": 4,
 "nbformat_minor": 1
}
