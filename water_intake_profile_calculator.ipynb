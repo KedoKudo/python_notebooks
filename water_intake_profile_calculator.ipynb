{
 "cells": [
  {
   "cell_type": "markdown",
   "metadata": {
    "run_control": {
     "frozen": false,
     "read_only": false
    }
   },
   "source": [
    "[![Notebook Tutorial](__code/__all/notebook_tutorial.png)](https://neutronimaging.pages.ornl.gov/en/tutorial/notebooks/water_intake_profile_calculator/)"
   ]
  },
  {
   "cell_type": "markdown",
   "metadata": {
    "run_control": {
     "frozen": false,
     "read_only": false
    }
   },
   "source": [
    "# Select your IPTS "
   ]
  },
  {
   "cell_type": "markdown",
   "metadata": {
    "run_control": {
     "frozen": false,
     "read_only": false
    }
   },
   "source": [
    "<img src='__docs/__all/shift_enter.gif' />"
   ]
  },
  {
   "cell_type": "code",
   "execution_count": 1,
   "metadata": {
    "run_control": {
     "frozen": false,
     "read_only": false
    }
   },
   "outputs": [
    {
     "ename": "SyntaxError",
     "evalue": "invalid syntax (water_intake_profile_calculator.py, line 528)",
     "output_type": "error",
     "traceback": [
      "Traceback \u001b[0;36m(most recent call last)\u001b[0m:\n",
      "  File \u001b[1;32m\"/Users/j35/anaconda/envs/py36/lib/python3.6/site-packages/IPython/core/interactiveshell.py\"\u001b[0m, line \u001b[1;32m2862\u001b[0m, in \u001b[1;35mrun_code\u001b[0m\n    exec(code_obj, self.user_global_ns, self.user_ns)\n",
      "\u001b[0;36m  File \u001b[0;32m\"<ipython-input-1-de24991545fd>\"\u001b[0;36m, line \u001b[0;32m2\u001b[0;36m, in \u001b[0;35m<module>\u001b[0;36m\u001b[0m\n\u001b[0;31m    from __code.water_intake_profile_calculator import WaterIntakeProfileCalculator, WaterIntakeProfileSelector\u001b[0m\n",
      "\u001b[0;36m  File \u001b[0;32m\"/Users/j35/git/IPTS/python_notebooks/__code/water_intake_profile_calculator.py\"\u001b[0;36m, line \u001b[0;32m528\u001b[0m\n\u001b[0;31m    make_ascii_file(metadata=metadata, data=data, output_file_name=full_export_file_name, dim='1d')\u001b[0m\n\u001b[0m                  ^\u001b[0m\n\u001b[0;31mSyntaxError\u001b[0m\u001b[0;31m:\u001b[0m invalid syntax\n"
     ]
    }
   ],
   "source": [
    "from __code import system\n",
    "from __code.water_intake_profile_calculator import WaterIntakeProfileCalculator, WaterIntakeProfileSelector\n",
    "\n",
    "from __code.ui_builder import UiBuilder\n",
    "o_builder = UiBuilder(ui_name = 'ui_water_intake_profile.ui')\n",
    "from __code.roi_selection_ui import Interface\n",
    "\n",
    "system.System.select_working_dir()\n",
    "from __code.__all import custom_style\n",
    "custom_style.style()"
   ]
  },
  {
   "cell_type": "markdown",
   "metadata": {
    "run_control": {
     "frozen": false,
     "read_only": false
    }
   },
   "source": [
    "# Description "
   ]
  },
  {
   "cell_type": "markdown",
   "metadata": {
    "run_control": {
     "frozen": false,
     "read_only": false
    }
   },
   "source": [
    "This notebook will calculate the water intake profile vs time of a sample.\n",
    "\n",
    "Here are the steps (**bold** for user input/manipulation)\n",
    " * **select the normalized images**\n",
    " * images sorted by time\n",
    " * **region of interest seleted**\n",
    " * profile of counts vs vertical-pixel calculated (**select integrated algorithm: mean/median/sum**)\n",
    " * water intake profile vs file index or vs time\n",
    " * **export profiles**"
   ]
  },
  {
   "cell_type": "markdown",
   "metadata": {
    "run_control": {
     "frozen": false,
     "read_only": false
    }
   },
   "source": [
    "# Python Import "
   ]
  },
  {
   "cell_type": "code",
   "execution_count": 2,
   "metadata": {
    "run_control": {
     "frozen": false,
     "read_only": false
    }
   },
   "outputs": [],
   "source": [
    "%gui qt"
   ]
  },
  {
   "cell_type": "code",
   "execution_count": 3,
   "metadata": {
    "run_control": {
     "frozen": false,
     "read_only": false
    }
   },
   "outputs": [],
   "source": [
    "import matplotlib.pyplot as plt\n",
    "import matplotlib.gridspec as gridspec\n",
    "from ipywidgets.widgets import interact\n",
    "import numpy as np\n",
    "import os\n",
    "import ipywe.fileselector\n",
    "from ipywidgets import widgets\n",
    "from IPython.core.display import display, HTML\n",
    "import pytz\n",
    "import datetime\n",
    "\n",
    "from NeuNorm.normalization import Normalization\n",
    "\n",
    "from __code.metadata_handler import MetadataHandler\n",
    "from __code import file_handler\n"
   ]
  },
  {
   "cell_type": "markdown",
   "metadata": {
    "run_control": {
     "frozen": false,
     "read_only": false
    }
   },
   "source": [
    "# Select Images to Process"
   ]
  },
  {
   "cell_type": "code",
   "execution_count": 4,
   "metadata": {
    "run_control": {
     "frozen": false,
     "read_only": false
    },
    "scrolled": false
   },
   "outputs": [
    {
     "data": {
      "application/vnd.jupyter.widget-view+json": {
       "model_id": "fe646bcc75074f14a7b0af6c684dc241",
       "version_major": 2,
       "version_minor": 0
      },
      "text/html": [
       "<p>Failed to display Jupyter Widget of type <code>Button</code>.</p>\n",
       "<p>\n",
       "  If you're reading this message in Jupyter Notebook or JupyterLab, it may mean\n",
       "  that the widgets JavaScript is still loading. If this message persists, it\n",
       "  likely means that the widgets JavaScript library is either not installed or\n",
       "  not enabled. See the <a href=\"https://ipywidgets.readthedocs.io/en/stable/user_install.html\">Jupyter\n",
       "  Widgets Documentation</a> for setup instructions.\n",
       "</p>\n",
       "<p>\n",
       "  If you're reading this message in another notebook frontend (for example, a static\n",
       "  rendering on GitHub or <a href=\"https://nbviewer.jupyter.org/\">NBViewer</a>),\n",
       "  it may mean that your frontend doesn't currently support widgets.\n",
       "</p>\n"
      ],
      "text/plain": [
       "Button(button_style='info', description='HELP', style=ButtonStyle())"
      ]
     },
     "metadata": {},
     "output_type": "display_data"
    },
    {
     "data": {
      "application/vnd.jupyter.widget-view+json": {
       "model_id": "525650ff8a184e129e922366bb11adf5",
       "version_major": 2,
       "version_minor": 0
      },
      "text/html": [
       "<p>Failed to display Jupyter Widget of type <code>HTML</code>.</p>\n",
       "<p>\n",
       "  If you're reading this message in Jupyter Notebook or JupyterLab, it may mean\n",
       "  that the widgets JavaScript is still loading. If this message persists, it\n",
       "  likely means that the widgets JavaScript library is either not installed or\n",
       "  not enabled. See the <a href=\"https://ipywidgets.readthedocs.io/en/stable/user_install.html\">Jupyter\n",
       "  Widgets Documentation</a> for setup instructions.\n",
       "</p>\n",
       "<p>\n",
       "  If you're reading this message in another notebook frontend (for example, a static\n",
       "  rendering on GitHub or <a href=\"https://nbviewer.jupyter.org/\">NBViewer</a>),\n",
       "  it may mean that your frontend doesn't currently support widgets.\n",
       "</p>\n"
      ],
      "text/plain": [
       "HTML(value='Please wait...')"
      ]
     },
     "metadata": {},
     "output_type": "display_data"
    },
    {
     "data": {
      "text/html": [
       "\n",
       "        <style type=\"text/css\">\n",
       "        .jupyter-widgets select option {font-family: \"Lucida Console\", Monaco, monospace;}\n",
       "        div.output_subarea {padding: 0px;}\n",
       "        div.output_subarea > div {margin: 0.4em;}\n",
       "        </style>\n",
       "        "
      ],
      "text/plain": [
       "<IPython.core.display.HTML object>"
      ]
     },
     "metadata": {},
     "output_type": "display_data"
    },
    {
     "data": {
      "application/vnd.jupyter.widget-view+json": {
       "model_id": "76da0c37fa9a49b293020391d961690e",
       "version_major": 2,
       "version_minor": 0
      },
      "text/html": [
       "<p>Failed to display Jupyter Widget of type <code>VBox</code>.</p>\n",
       "<p>\n",
       "  If you're reading this message in Jupyter Notebook or JupyterLab, it may mean\n",
       "  that the widgets JavaScript is still loading. If this message persists, it\n",
       "  likely means that the widgets JavaScript library is either not installed or\n",
       "  not enabled. See the <a href=\"https://ipywidgets.readthedocs.io/en/stable/user_install.html\">Jupyter\n",
       "  Widgets Documentation</a> for setup instructions.\n",
       "</p>\n",
       "<p>\n",
       "  If you're reading this message in another notebook frontend (for example, a static\n",
       "  rendering on GitHub or <a href=\"https://nbviewer.jupyter.org/\">NBViewer</a>),\n",
       "  it may mean that your frontend doesn't currently support widgets.\n",
       "</p>\n"
      ],
      "text/plain": [
       "VBox(children=(Label(value='Select Images ...', layout=Layout(width='250px')), HBox(children=(HBox(children=(Text(value='/Volumes/my_book_thunderbolt_duo/IPTS/IPTS-15177', description='Location: ', layout=Layout(width='300px'), placeholder=''), Button(description='Jump', layout=Layout(margin='5px 10px', width='100px'), style=ButtonStyle())), layout=Layout(border='1px solid lightgrey', margin='5px 50px 5px 5px', padding='3px')),)), VBox(children=(SelectMultiple(description='Select', layout=Layout(display='flex', flex_flow='column', width='750px'), options=(' .', ' ..', ' .DS_Store                        |     Thu Feb 15 12:24:45 2018', ' Sample5_uptake_no bad images     |     Directory'), value=()), HBox(children=(Button(description='Enter directory', layout=Layout(margin='5px 40px'), style=ButtonStyle()), Button(description='Select', layout=Layout(margin='5px 40px'), style=ButtonStyle())))), layout=Layout(border='1px solid lightgrey', margin='5px', padding='10px'))))"
      ]
     },
     "metadata": {},
     "output_type": "display_data"
    },
    {
     "data": {
      "application/vnd.jupyter.widget-view+json": {
       "model_id": "36e75c2ad856456f800fe4f3045a7417",
       "version_major": 2,
       "version_minor": 0
      },
      "text/html": [
       "<p>Failed to display Jupyter Widget of type <code>HTML</code>.</p>\n",
       "<p>\n",
       "  If you're reading this message in Jupyter Notebook or JupyterLab, it may mean\n",
       "  that the widgets JavaScript is still loading. If this message persists, it\n",
       "  likely means that the widgets JavaScript library is either not installed or\n",
       "  not enabled. See the <a href=\"https://ipywidgets.readthedocs.io/en/stable/user_install.html\">Jupyter\n",
       "  Widgets Documentation</a> for setup instructions.\n",
       "</p>\n",
       "<p>\n",
       "  If you're reading this message in another notebook frontend (for example, a static\n",
       "  rendering on GitHub or <a href=\"https://nbviewer.jupyter.org/\">NBViewer</a>),\n",
       "  it may mean that your frontend doesn't currently support widgets.\n",
       "</p>\n"
      ],
      "text/plain": [
       "HTML(value='Please wait...')"
      ]
     },
     "metadata": {},
     "output_type": "display_data"
    },
    {
     "data": {
      "text/html": [
       "\n",
       "        <style type=\"text/css\">\n",
       "        .jupyter-widgets select option {font-family: \"Lucida Console\", Monaco, monospace;}\n",
       "        div.output_subarea {padding: 0px;}\n",
       "        div.output_subarea > div {margin: 0.4em;}\n",
       "        </style>\n",
       "        "
      ],
      "text/plain": [
       "<IPython.core.display.HTML object>"
      ]
     },
     "metadata": {},
     "output_type": "display_data"
    },
    {
     "data": {
      "application/vnd.jupyter.widget-view+json": {
       "model_id": "54351ac9a762405d9d7bf4bc146c469e",
       "version_major": 2,
       "version_minor": 0
      },
      "text/html": [
       "<p>Failed to display Jupyter Widget of type <code>VBox</code>.</p>\n",
       "<p>\n",
       "  If you're reading this message in Jupyter Notebook or JupyterLab, it may mean\n",
       "  that the widgets JavaScript is still loading. If this message persists, it\n",
       "  likely means that the widgets JavaScript library is either not installed or\n",
       "  not enabled. See the <a href=\"https://ipywidgets.readthedocs.io/en/stable/user_install.html\">Jupyter\n",
       "  Widgets Documentation</a> for setup instructions.\n",
       "</p>\n",
       "<p>\n",
       "  If you're reading this message in another notebook frontend (for example, a static\n",
       "  rendering on GitHub or <a href=\"https://nbviewer.jupyter.org/\">NBViewer</a>),\n",
       "  it may mean that your frontend doesn't currently support widgets.\n",
       "</p>\n"
      ],
      "text/plain": [
       "VBox(children=(Label(value='Select Images ...', layout=Layout(width='250px')), HBox(children=(HBox(children=(Text(value='/Volumes/my_book_thunderbolt_duo/IPTS/IPTS-15177/Sample5_uptake_no bad images', description='Location: ', layout=Layout(width='300px'), placeholder=''), Button(description='Jump', layout=Layout(margin='5px 10px', width='100px'), style=ButtonStyle())), layout=Layout(border='1px solid lightgrey', margin='5px 50px 5px 5px', padding='3px')),)), VBox(children=(SelectMultiple(description='Select', layout=Layout(display='flex', flex_flow='column', width='750px'), options=(' .', ' ..', ' Sample5_1min_r_0.tif      |     Sun Mar 13 08:37:12 2016', ' Sample5_1min_r_1.tif      |     Sun Mar 13 08:37:12 2016', ' Sample5_1min_r_10.tif     |     Sun Mar 13 08:37:12 2016', ' Sample5_1min_r_11.tif     |     Sun Mar 13 08:37:12 2016', ' Sample5_1min_r_12.tif     |     Sun Mar 13 08:37:12 2016', ' Sample5_1min_r_13.tif     |     Sun Mar 13 08:37:12 2016', ' Sample5_1min_r_14.tif     |     Sun Mar 13 08:37:12 2016', ' Sample5_1min_r_15.tif     |     Sun Mar 13 08:37:12 2016', ' Sample5_1min_r_16.tif     |     Sun Mar 13 08:37:12 2016', ' Sample5_1min_r_17.tif     |     Sun Mar 13 08:37:12 2016', ' Sample5_1min_r_18.tif     |     Sun Mar 13 08:37:12 2016', ' Sample5_1min_r_19.tif     |     Sun Mar 13 08:37:12 2016', ' Sample5_1min_r_2.tif      |     Sun Mar 13 08:37:12 2016', ' Sample5_1min_r_20.tif     |     Sun Mar 13 08:37:12 2016', ' Sample5_1min_r_21.tif     |     Sun Mar 13 08:37:12 2016', ' Sample5_1min_r_22.tif     |     Sun Mar 13 08:37:12 2016', ' Sample5_1min_r_23.tif     |     Sun Mar 13 08:37:12 2016', ' Sample5_1min_r_24.tif     |     Sun Mar 13 08:37:12 2016', ' Sample5_1min_r_25.tif     |     Sun Mar 13 08:37:12 2016', ' Sample5_1min_r_26.tif     |     Sun Mar 13 08:37:12 2016', ' Sample5_1min_r_27.tif     |     Sun Mar 13 08:37:12 2016', ' Sample5_1min_r_28.tif     |     Sun Mar 13 08:37:12 2016', ' Sample5_1min_r_29.tif     |     Sun Mar 13 08:37:12 2016', ' Sample5_1min_r_3.tif      |     Sun Mar 13 08:37:12 2016', ' Sample5_1min_r_30.tif     |     Sun Mar 13 08:37:12 2016', ' Sample5_1min_r_31.tif     |     Sun Mar 13 08:37:12 2016', ' Sample5_1min_r_32.tif     |     Sun Mar 13 08:37:12 2016', ' Sample5_1min_r_33.tif     |     Sun Mar 13 08:37:12 2016', ' Sample5_1min_r_34.tif     |     Sun Mar 13 08:37:12 2016', ' Sample5_1min_r_35.tif     |     Sun Mar 13 08:37:12 2016', ' Sample5_1min_r_36.tif     |     Sun Mar 13 08:37:12 2016', ' Sample5_1min_r_37.tif     |     Sun Mar 13 08:37:12 2016', ' Sample5_1min_r_38.tif     |     Sun Mar 13 08:37:12 2016', ' Sample5_1min_r_39.tif     |     Sun Mar 13 08:37:12 2016', ' Sample5_1min_r_4.tif      |     Sun Mar 13 08:37:12 2016', ' Sample5_1min_r_40.tif     |     Sun Mar 13 08:37:12 2016', ' Sample5_1min_r_41.tif     |     Sun Mar 13 08:37:12 2016', ' Sample5_1min_r_42.tif     |     Sun Mar 13 08:37:12 2016', ' Sample5_1min_r_43.tif     |     Sun Mar 13 08:37:12 2016', ' Sample5_1min_r_44.tif     |     Sun Mar 13 08:37:12 2016', ' Sample5_1min_r_45.tif     |     Sun Mar 13 08:37:12 2016', ' Sample5_1min_r_46.tif     |     Sun Mar 13 08:37:12 2016', ' Sample5_1min_r_47.tif     |     Sun Mar 13 08:37:12 2016', ' Sample5_1min_r_48.tif     |     Sun Mar 13 08:37:12 2016', ' Sample5_1min_r_49.tif     |     Sun Mar 13 08:37:12 2016', ' Sample5_1min_r_5.tif      |     Sun Mar 13 08:37:12 2016', ' Sample5_1min_r_50.tif     |     Sun Mar 13 08:37:12 2016', ' Sample5_1min_r_51.tif     |     Sun Mar 13 08:37:12 2016', ' Sample5_1min_r_52.tif     |     Sun Mar 13 08:37:12 2016', ' Sample5_1min_r_53.tif     |     Sun Mar 13 08:37:12 2016', ' Sample5_1min_r_54.tif     |     Sun Mar 13 08:37:12 2016', ' Sample5_1min_r_55.tif     |     Sun Mar 13 08:37:12 2016', ' Sample5_1min_r_6.tif      |     Sun Mar 13 08:37:12 2016', ' Sample5_1min_r_7.tif      |     Sun Mar 13 08:37:12 2016', ' Sample5_1min_r_8.tif      |     Sun Mar 13 08:37:12 2016', ' Sample5_1min_r_9.tif      |     Sun Mar 13 08:37:12 2016'), value=()), HBox(children=(Button(description='Enter directory', layout=Layout(margin='5px 40px'), style=ButtonStyle()), Button(description='Select', layout=Layout(margin='5px 40px'), style=ButtonStyle())))), layout=Layout(border='1px solid lightgrey', margin='5px', padding='10px'))))"
      ]
     },
     "metadata": {},
     "output_type": "display_data"
    },
    {
     "data": {
      "application/vnd.jupyter.widget-view+json": {
       "model_id": "b4ca6f701a314b41ae6f84e8bf1f8079",
       "version_major": 2,
       "version_minor": 0
      },
      "text/html": [
       "<p>Failed to display Jupyter Widget of type <code>HBox</code>.</p>\n",
       "<p>\n",
       "  If you're reading this message in Jupyter Notebook or JupyterLab, it may mean\n",
       "  that the widgets JavaScript is still loading. If this message persists, it\n",
       "  likely means that the widgets JavaScript library is either not installed or\n",
       "  not enabled. See the <a href=\"https://ipywidgets.readthedocs.io/en/stable/user_install.html\">Jupyter\n",
       "  Widgets Documentation</a> for setup instructions.\n",
       "</p>\n",
       "<p>\n",
       "  If you're reading this message in another notebook frontend (for example, a static\n",
       "  rendering on GitHub or <a href=\"https://nbviewer.jupyter.org/\">NBViewer</a>),\n",
       "  it may mean that your frontend doesn't currently support widgets.\n",
       "</p>\n"
      ],
      "text/plain": [
       "HBox(children=(Label(value='Retrieving Time Stamp', layout=Layout(width='20%')), IntProgress(value=0, layout=Layout(width='50%'), max=30)))"
      ]
     },
     "metadata": {},
     "output_type": "display_data"
    },
    {
     "data": {
      "application/vnd.jupyter.widget-view+json": {
       "model_id": "be2deff225014f2c956db08b550f2129",
       "version_major": 2,
       "version_minor": 0
      },
      "text/html": [
       "<p>Failed to display Jupyter Widget of type <code>HBox</code>.</p>\n",
       "<p>\n",
       "  If you're reading this message in Jupyter Notebook or JupyterLab, it may mean\n",
       "  that the widgets JavaScript is still loading. If this message persists, it\n",
       "  likely means that the widgets JavaScript library is either not installed or\n",
       "  not enabled. See the <a href=\"https://ipywidgets.readthedocs.io/en/stable/user_install.html\">Jupyter\n",
       "  Widgets Documentation</a> for setup instructions.\n",
       "</p>\n",
       "<p>\n",
       "  If you're reading this message in another notebook frontend (for example, a static\n",
       "  rendering on GitHub or <a href=\"https://nbviewer.jupyter.org/\">NBViewer</a>),\n",
       "  it may mean that your frontend doesn't currently support widgets.\n",
       "</p>\n"
      ],
      "text/plain": [
       "HBox(children=(Label(value='Loading sample', layout=Layout(width='20%')), IntProgress(value=0, max=30)))"
      ]
     },
     "metadata": {},
     "output_type": "display_data"
    }
   ],
   "source": [
    "o_water = WaterIntakeProfileCalculator(working_dir = system.System.get_working_dir())\n",
    "o_water.select_data()"
   ]
  },
  {
   "cell_type": "markdown",
   "metadata": {
    "run_control": {
     "frozen": false,
     "read_only": false
    }
   },
   "source": [
    "# Select Profile Region "
   ]
  },
  {
   "cell_type": "code",
   "execution_count": 5,
   "metadata": {
    "run_control": {
     "frozen": false,
     "read_only": false
    }
   },
   "outputs": [],
   "source": [
    "# #for debugging only\n",
    "# import numpy as np\n",
    "# data = []\n",
    "# names = []\n",
    "# time_stamp = []\n",
    "# for i in range(10): \n",
    "#     data.append(np.random.random((500,500)))\n",
    "#     names.append('file{}'.format(i))\n",
    "#     time_stamp.append(\"{}\".format(i))\n",
    "# dict_data = {'list_data': data,\n",
    "#             'list_images': names,\n",
    "#             'list_time_stamp': time_stamp,\n",
    "#             'list_time_stamp_user_format': time_stamp}\n",
    "# o_gui = WaterIntakeProfileSelector(dict_data=dict_data)\n",
    "# o_gui.show()"
   ]
  },
  {
   "cell_type": "code",
   "execution_count": 5,
   "metadata": {
    "run_control": {
     "frozen": false,
     "read_only": false
    },
    "scrolled": false
   },
   "outputs": [
    {
     "data": {
      "text/html": [
       "<span style=\"font-size: 20px; color:blue\">Check UI that poped up             (maybe hidden behind this browser!)</span>"
      ],
      "text/plain": [
       "<IPython.core.display.HTML object>"
      ]
     },
     "metadata": {},
     "output_type": "display_data"
    },
    {
     "name": "stderr",
     "output_type": "stream",
     "text": [
      "/Users/j35/git/IPTS/python_notebooks/__code/water_intake_profile_calculator.py:558: RuntimeWarning: invalid value encountered in greater\n",
      "  _result_range = np.where(image > range_max)\n"
     ]
    },
    {
     "name": "stdout",
     "output_type": "stream",
     "text": [
      "writing water intake file: /Users/j35/Desktop/water_intake_of_Sample5_uptake_no bad images_with_28input_files.txt\n",
      "writing water intake file: /Users/j35/Desktop/water_intake_of_Sample5_uptake_no bad images_with_28input_files.txt\n"
     ]
    }
   ],
   "source": [
    "o_gui = WaterIntakeProfileSelector(dict_data=o_water.dict_files)\n",
    "o_gui.show()"
   ]
  },
  {
   "cell_type": "markdown",
   "metadata": {
    "run_control": {
     "frozen": false,
     "read_only": false
    }
   },
   "source": [
    "# DEBUGGING FROM HERE "
   ]
  },
  {
   "cell_type": "code",
   "execution_count": 1,
   "metadata": {
    "collapsed": true
   },
   "outputs": [],
   "source": [
    "import numpy as np\n",
    "from __code.water_intake_profile_calculator import MeanRangeCalculation"
   ]
  },
  {
   "cell_type": "code",
   "execution_count": 2,
   "metadata": {},
   "outputs": [],
   "source": [
    "profile = [2.90287635,   2.8821102 ,   2.87690287,   2.89732621,\n",
    "         2.88623043,   2.91406583,   2.95510404,   2.94335269,\n",
    "         2.9679017 ,   3.04820217,   2.99743943,   3.01165945,\n",
    "         2.99033492,   2.99397509,   2.9830557 ,   2.97041172,\n",
    "         2.94597425,   2.92014064,   3.00387935,   2.98513203,\n",
    "         2.96273962,   2.97548995,   2.95767174,   2.93331439,\n",
    "         2.92838262,   2.96062786,   2.94428497,   2.89471726,\n",
    "         2.95610289,   2.98263244,   2.89597947,   2.95887132,\n",
    "         2.94526481,   2.91513829,   2.9107046 ,   2.90682367,\n",
    "         2.98332211,   2.99965612,   3.00892162,   2.91350666,\n",
    "         2.97087026,   2.97006539,   2.92745508,   2.91895019,\n",
    "         2.9385388 ,   2.92364122,   2.9057143 ,   2.9323563 ,\n",
    "         2.95392431,   3.02088575,   2.99304484,   2.92824206,\n",
    "         3.01413435,   2.94689957,   2.92505252,   2.86290036,\n",
    "         2.86386205,   2.92180767,   2.89750369,   2.89097811,\n",
    "         2.8842245 ,   2.90745462,   2.93017139,   2.96633031,\n",
    "         2.93905105,   2.94481158,   2.9414162 ,   2.91184672,\n",
    "         2.93190604,   2.97820304,   2.96076195,   2.97923261,\n",
    "         2.96735107,   2.90679909,   2.93514247,   2.91907445,\n",
    "         2.87958034,   2.86164521,   2.91094531,   2.93996326,\n",
    "         2.93099986,   2.86970711,   2.89143902,   2.9291985 ,\n",
    "         2.94119958,   2.94881921,   2.92418828,   3.00228572,\n",
    "         2.99929027,   2.99952063,   3.09081396,   3.12458999,\n",
    "         3.1891421 ,   3.22690744,   3.32082677,   3.33318155,\n",
    "         3.53689942,   3.69465733,   3.91474053,   4.29438958,\n",
    "         5.13925313,   6.49579092,   8.4404762 ,  12.13579231,\n",
    "        19.76926196,  32.89958793,  48.86539111,  61.01937041,\n",
    "        70.94084078,  80.42760178,  88.00131834,  96.46191519,\n",
    "       103.16454822, 110.79440224, 116.03331566, 122.75644809,\n",
    "       127.37978226, 130.46286827, 132.37164587, 135.82572937,\n",
    "       136.86968929, 137.15130579, 140.06299525, 141.09779632,\n",
    "       143.31701672, 144.69096458,          np.NaN, 141.25618833,\n",
    "       141.28930432, 142.09307724,          np.NaN, 140.85895902,\n",
    "       142.30007625, 141.67516071, 141.74365395, 141.51511121,\n",
    "       140.83288455,          np.NaN, 141.27556038, 141.12604433,\n",
    "       141.47282237,          np.NaN, 140.4086768 , 141.29461122,\n",
    "       143.09196746, 142.48738682, 142.36309993, 142.87076634,\n",
    "       141.04375833, 139.43275625, 139.95112771, 140.4845432 ,\n",
    "                np.NaN, 142.29233003, 141.89182144, 142.43202621,\n",
    "       142.96775615, 141.10494447, 141.13946015, 141.16139859,\n",
    "       141.52350342, 141.75551999, 142.34555137, 141.28567922,\n",
    "       141.87249058, 142.38065147, 141.8494764 , 141.31270385,\n",
    "       140.80789435,        np.NaN,          np.NaN]\n"
   ]
  },
  {
   "cell_type": "code",
   "execution_count": 4,
   "metadata": {},
   "outputs": [
    {
     "name": "stdout",
     "output_type": "stream",
     "text": [
      "47.24889155378882\n",
      "141.3233582\n",
      "None\n"
     ]
    }
   ],
   "source": [
    "_o_range = MeanRangeCalculation(data=profile)\n",
    "for _pixel in np.arange(0, len(profile)-5):\n",
    "    _o_range.calculate_left_right_mean(pixel=_pixel)\n",
    "\n",
    "print(_o_range.left_mean)\n",
    "print(_o_range.right_mean)\n",
    "print(_o_range.calculate_delta_mean_square())"
   ]
  },
  {
   "cell_type": "code",
   "execution_count": null,
   "metadata": {
    "collapsed": true
   },
   "outputs": [],
   "source": []
  }
 ],
 "metadata": {
  "kernelspec": {
   "display_name": "Python 3",
   "language": "python",
   "name": "python3"
  },
  "toc": {
   "colors": {
    "hover_highlight": "#DAA520",
    "running_highlight": "#FF0000",
    "selected_highlight": "#FFD700"
   },
   "moveMenuLeft": true,
   "nav_menu": {
    "height": "138px",
    "width": "252px"
   },
   "navigate_menu": true,
   "number_sections": true,
   "sideBar": true,
   "threshold": 4,
   "toc_cell": false,
   "toc_section_display": "block",
   "toc_window_display": false
  }
 },
 "nbformat": 4,
 "nbformat_minor": 2
}
