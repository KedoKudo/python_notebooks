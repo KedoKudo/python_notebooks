{
 "cells": [
  {
   "cell_type": "markdown",
   "metadata": {
    "run_control": {
     "frozen": false,
     "read_only": false
    }
   },
   "source": [
    "[![Notebook Tutorial](__code/__all/notebook_tutorial.png)](https://neutronimaging.pages.ornl.gov/en/tutorial/notebooks/water_intake_profile_calculator/)"
   ]
  },
  {
   "cell_type": "markdown",
   "metadata": {
    "run_control": {
     "frozen": false,
     "read_only": false
    }
   },
   "source": [
    "# Select your IPTS "
   ]
  },
  {
   "cell_type": "markdown",
   "metadata": {
    "run_control": {
     "frozen": false,
     "read_only": false
    }
   },
   "source": [
    "<img src='__docs/__all/shift_enter.gif' />"
   ]
  },
  {
   "cell_type": "code",
   "execution_count": 1,
   "metadata": {
    "run_control": {
     "frozen": false,
     "read_only": false
    }
   },
   "outputs": [
    {
     "name": "stdout",
     "output_type": "stream",
     "text": [
      "pyuic5 /Users/j35/git/IPTS/python_notebooks/ui/ui_water_intake_profile.ui -o /Users/j35/git/IPTS/python_notebooks/__code/ui_water_intake_profile.py\n"
     ]
    },
    {
     "data": {
      "text/html": [
       "\n",
       "                   <style>\n",
       "                   .result_label {\n",
       "                      font-style: bold;\n",
       "                      color: red;\n",
       "                      font-size: 18px;\n",
       "                   }\n",
       "                   </style>\n",
       "                   "
      ],
      "text/plain": [
       "<IPython.core.display.HTML object>"
      ]
     },
     "metadata": {},
     "output_type": "display_data"
    },
    {
     "name": "stdout",
     "output_type": "stream",
     "text": [
      "** Using Debugging Mode! **\n"
     ]
    },
    {
     "data": {
      "application/vnd.jupyter.widget-view+json": {
       "model_id": "91d781b6ccd24b618061f3c241d58edb",
       "version_major": 2,
       "version_minor": 0
      },
      "text/html": [
       "<p>Failed to display Jupyter Widget of type <code>VBox</code>.</p>\n",
       "<p>\n",
       "  If you're reading this message in the Jupyter Notebook or JupyterLab Notebook, it may mean\n",
       "  that the widgets JavaScript is still loading. If this message persists, it\n",
       "  likely means that the widgets JavaScript library is either not installed or\n",
       "  not enabled. See the <a href=\"https://ipywidgets.readthedocs.io/en/stable/user_install.html\">Jupyter\n",
       "  Widgets Documentation</a> for setup instructions.\n",
       "</p>\n",
       "<p>\n",
       "  If you're reading this message in another frontend (for example, a static\n",
       "  rendering on GitHub or <a href=\"https://nbviewer.jupyter.org/\">NBViewer</a>),\n",
       "  it may mean that your frontend doesn't currently support widgets.\n",
       "</p>\n"
      ],
      "text/plain": [
       "VBox(children=(HBox(children=(Label(value='IPTS-'), Text(value='', layout=Layout(width='10%')), Label(value='DOES NOT EXIST!', layout=Layout(width='20%'), _dom_classes=('result_label',)))), Label(value='OR'), HBox(children=(Label(value='Select Folder', layout=Layout(width='20%')), Select(layout=Layout(height='300px'), options=('IPTS-15177', 'IPTS-18813', 'Richard'), value='IPTS-15177'))), Button(button_style='info', description='HELP', style=ButtonStyle())))"
      ]
     },
     "metadata": {},
     "output_type": "display_data"
    },
    {
     "data": {
      "text/html": [
       "<style>\n",
       "\n",
       "/* The following CSS has been adapted from\n",
       "   http://nbviewer.ipython.org/github/ketch/teaching-numerics-with-notebooks/blob/master/Styling_notebooks.ipynb\n",
       "   by Aron Ahmadia and David Ketcheson and has been reused under CC BY 4.0\n",
       "   */\n",
       "\n",
       "/* main background */\n",
       "#site { \n",
       "    background: #888;\n",
       "    color: #red; \n",
       "}\n",
       "\n",
       "div.container {\n",
       "    width: 100% ! important;\n",
       "}\n",
       "\n",
       "div.cell { /* set cell width to about 80 chars */\n",
       "    width: 95%;\n",
       "}\n",
       "\n",
       "div #notebook { /* centre the content */\n",
       "/*    background: #fff; /* white background for content */\n",
       "    background: blue;\n",
       "    width: 100%;\n",
       "    margin: auto;\n",
       "    padding-left: 1em;\n",
       "    padding-right: 1em;\n",
       "    background-image: url(\"tile_background.jpg\");\n",
       "}\n",
       "\n",
       "#notebook li { /* More space between bullet points */\n",
       "    margin-top:0.4em;\n",
       "}\n",
       "\n",
       "/* change background color of running cells */\n",
       "div.cell.code_cell.running {\n",
       "/*    background-color: rgba(164,188,194,.75); */\n",
       "    background-color: green;\n",
       "    border-width: 8px\n",
       "    border-style: solid\n",
       "    border-color: #111;\n",
       "}\n",
       "\n",
       "/* Put a solid color box around each cell and its output, visually linking them together */\n",
       "div.cell.code_cell {\n",
       "    background-color: rgba(164,188,194,.25); /* Continuum L Gray with alpha 0.25 */\n",
       "    border-radius: 10px; /* rounded borders */\n",
       "    padding: 1em;\n",
       "    margin-top: 1em;\n",
       "}\n",
       "\n",
       "div.text_cell_render{\n",
       "\tfont-family: Georgia, Times, 'Times New Roman', serif;\n",
       "    line-height: 110%;\n",
       "    font-size: 105%;\n",
       "    width: 95%;\n",
       "    margin-left: auto;\n",
       "    margin-right: auto;\n",
       "}\n",
       "\n",
       "\n",
       "/* Formatting for header cells */\n",
       ".text_cell_render h1 {\n",
       "\tfont-family: Arial, 'Helvetica Neue', Helvetica, sans-serif;\n",
       "    font-weight: 400;\n",
       "    font-size: 30pt;\n",
       "    line-height: 100%;\n",
       "    color: rgb(37,55,70); /* Continuum Blue*/\n",
       "    margin-bottom: 0.1em;\n",
       "    margin-top: 0.1em;\n",
       "    display: block;\n",
       "}\n",
       ".text_cell_render h2 {\n",
       "\tfont-family: Arial, 'Helvetica Neue', Helvetica, sans-serif;\n",
       "    font-weight: 700;\n",
       "    font-size: 22pt;\n",
       "    line-height: 100%;\n",
       "    color: rgb(37,55,70);\n",
       "    margin-bottom: 0.1em;\n",
       "    margin-top: 0.1em;\n",
       "    display: block;\n",
       "}\n",
       "\n",
       ".text_cell_render h3 {\n",
       "\tfont-family: Arial, 'Helvetica Neue', Helvetica, sans-serif;\n",
       "    margin-top:12px;\n",
       "    margin-bottom: 3px;\n",
       "    font-style: italic;\n",
       "    color: rgb(37, 55, 70);\n",
       "}\n",
       "\n",
       ".text_cell_render h4 {\n",
       "\tfont-family: Arial, 'Helvetica Neue', Helvetica, sans-serif;\n",
       "}\n",
       "\n",
       ".text_cell_render h5 {\n",
       "\tfont-family: Arial, 'Helvetica Neue', Helvetica, sans-serif;\n",
       "    font-weight: 300;\n",
       "    font-size: 14pt;\n",
       "    font-style: italic;\n",
       "    margin-bottom: .1em;\n",
       "    margin-top: 0.1em;\n",
       "    display: block;\n",
       "}\n",
       "\n",
       ".text_cell_render h6 {\n",
       "\tfont-family: Arial, 'Helvetica Neue', Helvetica, sans-serif;\n",
       "    font-weight: 300;\n",
       "    font-size: 10pt;\n",
       "    margin-bottom: 1px;\n",
       "    margin-top: 1px;\n",
       "}\n",
       "\n",
       ".CodeMirror{\n",
       "        font-family: \"PT Mono\", fixed;\n",
       "        font-size: 100%;\n",
       "}\n",
       "\n",
       "#notebook_panel { /* main background */\n",
       "    background-image: url(\"tile_background.jpg\");\n",
       "}\n",
       "\n",
       "\n",
       "\n",
       "\n",
       "</style>\n"
      ],
      "text/plain": [
       "<IPython.core.display.HTML object>"
      ]
     },
     "execution_count": 1,
     "metadata": {},
     "output_type": "execute_result"
    }
   ],
   "source": [
    "from __code import system\n",
    "from __code.water_intake_profile_calculator import WaterIntakeProfileCalculator, WaterIntakeProfileSelector\n",
    "\n",
    "from __code.ui_builder import UiBuilder\n",
    "o_builder = UiBuilder(ui_name = 'ui_water_intake_profile.ui')\n",
    "from __code.roi_selection_ui import Interface\n",
    "\n",
    "system.System.select_working_dir()\n",
    "from __code.__all import custom_style\n",
    "custom_style.style()"
   ]
  },
  {
   "cell_type": "markdown",
   "metadata": {
    "run_control": {
     "frozen": false,
     "read_only": false
    }
   },
   "source": [
    "# Description "
   ]
  },
  {
   "cell_type": "markdown",
   "metadata": {
    "run_control": {
     "frozen": false,
     "read_only": false
    }
   },
   "source": [
    "This notebook will calculate the water intake profile vs time of a sample.\n",
    "\n",
    "Here are the steps (**bold** for user input/manipulation)\n",
    " * **select the normalized images**\n",
    " * images sorted by time\n",
    " * **region of interest seleted**\n",
    " * profile of counts vs vertical-pixel calculated (**select integrated algorithm: mean/median/sum**)\n",
    " * water intake profile vs file index or vs time\n",
    " * **export profiles**"
   ]
  },
  {
   "cell_type": "markdown",
   "metadata": {
    "run_control": {
     "frozen": false,
     "read_only": false
    }
   },
   "source": [
    "# Python Import "
   ]
  },
  {
   "cell_type": "code",
   "execution_count": 2,
   "metadata": {
    "run_control": {
     "frozen": false,
     "read_only": false
    }
   },
   "outputs": [],
   "source": [
    "%gui qt"
   ]
  },
  {
   "cell_type": "markdown",
   "metadata": {
    "run_control": {
     "frozen": false,
     "read_only": false
    }
   },
   "source": [
    "# Select Images to Process"
   ]
  },
  {
   "cell_type": "code",
   "execution_count": 3,
   "metadata": {
    "run_control": {
     "frozen": false,
     "read_only": false
    }
   },
   "outputs": [
    {
     "data": {
      "application/vnd.jupyter.widget-view+json": {
       "model_id": "dc538b4f40eb4d6a8f29fc246166e07a",
       "version_major": 2,
       "version_minor": 0
      },
      "text/html": [
       "<p>Failed to display Jupyter Widget of type <code>Button</code>.</p>\n",
       "<p>\n",
       "  If you're reading this message in the Jupyter Notebook or JupyterLab Notebook, it may mean\n",
       "  that the widgets JavaScript is still loading. If this message persists, it\n",
       "  likely means that the widgets JavaScript library is either not installed or\n",
       "  not enabled. See the <a href=\"https://ipywidgets.readthedocs.io/en/stable/user_install.html\">Jupyter\n",
       "  Widgets Documentation</a> for setup instructions.\n",
       "</p>\n",
       "<p>\n",
       "  If you're reading this message in another frontend (for example, a static\n",
       "  rendering on GitHub or <a href=\"https://nbviewer.jupyter.org/\">NBViewer</a>),\n",
       "  it may mean that your frontend doesn't currently support widgets.\n",
       "</p>\n"
      ],
      "text/plain": [
       "Button(button_style='info', description='HELP', style=ButtonStyle())"
      ]
     },
     "metadata": {},
     "output_type": "display_data"
    },
    {
     "data": {
      "application/vnd.jupyter.widget-view+json": {
       "model_id": "3265b8f627f84a22b01001f2805f3892",
       "version_major": 2,
       "version_minor": 0
      },
      "text/html": [
       "<p>Failed to display Jupyter Widget of type <code>HTML</code>.</p>\n",
       "<p>\n",
       "  If you're reading this message in the Jupyter Notebook or JupyterLab Notebook, it may mean\n",
       "  that the widgets JavaScript is still loading. If this message persists, it\n",
       "  likely means that the widgets JavaScript library is either not installed or\n",
       "  not enabled. See the <a href=\"https://ipywidgets.readthedocs.io/en/stable/user_install.html\">Jupyter\n",
       "  Widgets Documentation</a> for setup instructions.\n",
       "</p>\n",
       "<p>\n",
       "  If you're reading this message in another frontend (for example, a static\n",
       "  rendering on GitHub or <a href=\"https://nbviewer.jupyter.org/\">NBViewer</a>),\n",
       "  it may mean that your frontend doesn't currently support widgets.\n",
       "</p>\n"
      ],
      "text/plain": [
       "HTML(value='Please wait...')"
      ]
     },
     "metadata": {},
     "output_type": "display_data"
    },
    {
     "data": {
      "text/html": [
       "\n",
       "        <style type=\"text/css\">\n",
       "        .jupyter-widgets select option {font-family: \"Lucida Console\", Monaco, monospace;}\n",
       "        div.output_subarea {padding: 0px;}\n",
       "        div.output_subarea > div {margin: 0.4em;}\n",
       "        </style>\n",
       "        "
      ],
      "text/plain": [
       "<IPython.core.display.HTML object>"
      ]
     },
     "metadata": {},
     "output_type": "display_data"
    },
    {
     "data": {
      "application/vnd.jupyter.widget-view+json": {
       "model_id": "a181a111c9ac408abd5b4c131f9612f7",
       "version_major": 2,
       "version_minor": 0
      },
      "text/html": [
       "<p>Failed to display Jupyter Widget of type <code>VBox</code>.</p>\n",
       "<p>\n",
       "  If you're reading this message in the Jupyter Notebook or JupyterLab Notebook, it may mean\n",
       "  that the widgets JavaScript is still loading. If this message persists, it\n",
       "  likely means that the widgets JavaScript library is either not installed or\n",
       "  not enabled. See the <a href=\"https://ipywidgets.readthedocs.io/en/stable/user_install.html\">Jupyter\n",
       "  Widgets Documentation</a> for setup instructions.\n",
       "</p>\n",
       "<p>\n",
       "  If you're reading this message in another frontend (for example, a static\n",
       "  rendering on GitHub or <a href=\"https://nbviewer.jupyter.org/\">NBViewer</a>),\n",
       "  it may mean that your frontend doesn't currently support widgets.\n",
       "</p>\n"
      ],
      "text/plain": [
       "VBox(children=(Label(value='Select Images ...', layout=Layout(width='250px')), HBox(children=(HBox(children=(Text(value='/Users/j35/IPTS/Richard', description='Location: ', layout=Layout(width='300px'), placeholder=''), Button(description='Jump', layout=Layout(margin='5px 10px', width='100px'), style=ButtonStyle())), layout=Layout(border='1px solid lightgrey', margin='5px 50px 5px 5px', padding='3px')),)), VBox(children=(SelectMultiple(description='Select', layout=Layout(display='flex', flex_flow='column', width='750px'), options=(' .', ' ..', ' .DS_Store     |     Wed Feb 28 09:11:21 2018', ' Day1          |     Directory'), value=()), HBox(children=(Button(description='Enter directory', layout=Layout(margin='5px 40px'), style=ButtonStyle()), Button(description='Select', layout=Layout(margin='5px 40px'), style=ButtonStyle())))), layout=Layout(border='1px solid lightgrey', margin='5px', padding='10px'))))"
      ]
     },
     "metadata": {},
     "output_type": "display_data"
    },
    {
     "data": {
      "application/vnd.jupyter.widget-view+json": {
       "model_id": "434776c7356b4553a62db44de4067167",
       "version_major": 2,
       "version_minor": 0
      },
      "text/html": [
       "<p>Failed to display Jupyter Widget of type <code>HTML</code>.</p>\n",
       "<p>\n",
       "  If you're reading this message in the Jupyter Notebook or JupyterLab Notebook, it may mean\n",
       "  that the widgets JavaScript is still loading. If this message persists, it\n",
       "  likely means that the widgets JavaScript library is either not installed or\n",
       "  not enabled. See the <a href=\"https://ipywidgets.readthedocs.io/en/stable/user_install.html\">Jupyter\n",
       "  Widgets Documentation</a> for setup instructions.\n",
       "</p>\n",
       "<p>\n",
       "  If you're reading this message in another frontend (for example, a static\n",
       "  rendering on GitHub or <a href=\"https://nbviewer.jupyter.org/\">NBViewer</a>),\n",
       "  it may mean that your frontend doesn't currently support widgets.\n",
       "</p>\n"
      ],
      "text/plain": [
       "HTML(value='Please wait...')"
      ]
     },
     "metadata": {},
     "output_type": "display_data"
    },
    {
     "data": {
      "text/html": [
       "\n",
       "        <style type=\"text/css\">\n",
       "        .jupyter-widgets select option {font-family: \"Lucida Console\", Monaco, monospace;}\n",
       "        div.output_subarea {padding: 0px;}\n",
       "        div.output_subarea > div {margin: 0.4em;}\n",
       "        </style>\n",
       "        "
      ],
      "text/plain": [
       "<IPython.core.display.HTML object>"
      ]
     },
     "metadata": {},
     "output_type": "display_data"
    },
    {
     "data": {
      "application/vnd.jupyter.widget-view+json": {
       "model_id": "4f0a9d7d517e46dc96a7fcb9875f7c2b",
       "version_major": 2,
       "version_minor": 0
      },
      "text/html": [
       "<p>Failed to display Jupyter Widget of type <code>VBox</code>.</p>\n",
       "<p>\n",
       "  If you're reading this message in the Jupyter Notebook or JupyterLab Notebook, it may mean\n",
       "  that the widgets JavaScript is still loading. If this message persists, it\n",
       "  likely means that the widgets JavaScript library is either not installed or\n",
       "  not enabled. See the <a href=\"https://ipywidgets.readthedocs.io/en/stable/user_install.html\">Jupyter\n",
       "  Widgets Documentation</a> for setup instructions.\n",
       "</p>\n",
       "<p>\n",
       "  If you're reading this message in another frontend (for example, a static\n",
       "  rendering on GitHub or <a href=\"https://nbviewer.jupyter.org/\">NBViewer</a>),\n",
       "  it may mean that your frontend doesn't currently support widgets.\n",
       "</p>\n"
      ],
      "text/plain": [
       "VBox(children=(Label(value='Select Images ...', layout=Layout(width='250px')), HBox(children=(HBox(children=(Text(value='/Users/j35/IPTS/Richard/Day1', description='Location: ', layout=Layout(width='300px'), placeholder=''), Button(description='Jump', layout=Layout(margin='5px 10px', width='100px'), style=ButtonStyle())), layout=Layout(border='1px solid lightgrey', margin='5px 50px 5px 5px', padding='3px')),)), VBox(children=(SelectMultiple(description='Select', layout=Layout(display='flex', flex_flow='column', width='750px'), options=(' .', ' ..', ' 20180129_Attenuation_ss_ls_sh_0040_2551.tiff          |     Mon Jan 29 10:51:48 2018', ' 20180129_BanderaGrey_Dolomite_Dry_0040_0182.tiff      |     Mon Jan 29 16:04:00 2018', ' 20180129_BanderaGrey_Dolomite_Dry_0040_0183.tiff      |     Mon Jan 29 16:04:45 2018', ' 20180129_BanderaGrey_Dolomite_Dry_0040_0184.tiff      |     Mon Jan 29 16:05:30 2018', ' 20180129_BanderaGrey_Dolomite_Dry_0040_0185.tiff      |     Mon Jan 29 16:06:14 2018', ' 20180129_BanderaGrey_Dolomite_Dry_0040_0186.tiff      |     Mon Jan 29 16:06:59 2018', ' 20180129_BanderaGrey_Dolomite_Dry_0040_0187.tiff      |     Mon Jan 29 16:07:44 2018', ' 20180129_BanderaGrey_Dolomite_Dry_0040_0188.tiff      |     Mon Jan 29 16:08:29 2018', ' 20180129_BanderaGrey_Dolomite_Dry_0040_0189.tiff      |     Mon Jan 29 16:09:14 2018', ' 20180129_BanderaGrey_Dolomite_Dry_0040_0190.tiff      |     Mon Jan 29 16:09:59 2018', ' 20180129_BanderaGrey_Dolomite_Dry_0040_0191.tiff      |     Mon Jan 29 16:10:44 2018', ' 20180129_BanderaGrey_Dolomite_Wet3_0040_0215.tiff     |     Mon Jan 29 17:12:26 2018', ' 20180129_BanderaGrey_Dolomite_Wet3_0040_0216.tiff     |     Mon Jan 29 17:13:11 2018', ' 20180129_BanderaGrey_Dolomite_Wet3_0040_0217.tiff     |     Mon Jan 29 17:13:55 2018', ' 20180129_BanderaGrey_Dolomite_Wet3_0040_0218.tiff     |     Mon Jan 29 17:14:40 2018', ' 20180129_BanderaGrey_Dolomite_Wet3_0040_0219.tiff     |     Mon Jan 29 17:15:25 2018', ' 20180129_BanderaGrey_Dolomite_Wet3_0040_0220.tiff     |     Mon Jan 29 17:16:10 2018', ' 20180129_BanderaGrey_Dolomite_Wet3_0040_0221.tiff     |     Mon Jan 29 17:16:55 2018', ' 20180129_BanderaGrey_Dolomite_Wet3_0040_0222.tiff     |     Mon Jan 29 17:17:40 2018', ' 20180129_BanderaGrey_Dolomite_Wet3_0040_0223.tiff     |     Mon Jan 29 17:18:25 2018', ' 20180129_BanderaGrey_Dolomite_Wet3_0040_0224.tiff     |     Mon Jan 29 17:19:10 2018', ' 20180129_BanderaGrey_Dolomite_Wet3_0040_0225.tiff     |     Mon Jan 29 17:19:55 2018', ' 20180129_BanderaGrey_Dolomite_Wet3_0040_0226.tiff     |     Mon Jan 29 17:20:40 2018', ' 20180129_BanderaGrey_Dolomite_Wet3_0040_0227.tiff     |     Mon Jan 29 17:21:25 2018', ' 20180129_BanderaGrey_Dolomite_Wet3_0040_0228.tiff     |     Mon Jan 29 17:22:09 2018', ' 20180129_BanderaGrey_Dolomite_Wet3_0040_0229.tiff     |     Mon Jan 29 17:22:54 2018', ' 20180129_BanderaGrey_Dolomite_Wet3_0040_0230.tiff     |     Mon Jan 29 17:23:39 2018', ' 20180129_BanderaGrey_Dolomite_Wet3_0040_0231.tiff     |     Mon Jan 29 17:24:24 2018', ' 20180129_BanderaGrey_Dolomite_Wet3_0040_0232.tiff     |     Mon Jan 29 17:25:09 2018', ' 20180129_BanderaGrey_Dolomite_Wet3_0040_0233.tiff     |     Mon Jan 29 17:25:54 2018', ' 20180129_BanderaGrey_Dolomite_Wet3_0040_0234.tiff     |     Mon Jan 29 17:26:39 2018', ' 20180129_BanderaGrey_Dolomite_Wet3_0040_0235.tiff     |     Mon Jan 29 17:27:24 2018', ' 20180129_BanderaGrey_Dolomite_Wet3_0040_0236.tiff     |     Mon Jan 29 17:28:09 2018', ' 20180129_BanderaGrey_Dolomite_Wet3_0040_0237.tiff     |     Mon Jan 29 17:28:54 2018', ' 20180129_BanderaGrey_Dolomite_Wet3_0040_0238.tiff     |     Mon Jan 29 17:29:38 2018', ' 20180129_BanderaGrey_Dolomite_Wet3_0040_0239.tiff     |     Mon Jan 29 17:30:23 2018', ' 20180129_BanderaGrey_Dolomite_Wet3_0040_0240.tiff     |     Mon Jan 29 17:31:08 2018', ' 20180129_BanderaGrey_Dolomite_Wet3_0040_0241.tiff     |     Mon Jan 29 17:31:53 2018', ' 20180129_BanderaGrey_Dolomite_Wet3_0040_0242.tiff     |     Mon Jan 29 17:32:38 2018', ' 20180129_BanderaGrey_Dolomite_Wet3_0040_0243.tiff     |     Mon Jan 29 17:33:23 2018', ' 20180129_BanderaGrey_Dolomite_Wet3_0040_0244.tiff     |     Mon Jan 29 17:34:08 2018', ' 20180129_BanderaGrey_Dolomite_Wet3_0040_0245.tiff     |     Mon Jan 29 17:34:53 2018', ' 20180129_BanderaGrey_Dolomite_Wet3_0040_0246.tiff     |     Mon Jan 29 17:35:38 2018', ' 20180129_BanderaGrey_Dolomite_Wet3_0040_0247.tiff     |     Mon Jan 29 17:36:23 2018', ' 20180129_BanderaGrey_Dolomite_Wet3_0040_0248.tiff     |     Mon Jan 29 17:37:07 2018', ' 20180129_BanderaGrey_Dolomite_Wet3_0040_0249.tiff     |     Mon Jan 29 17:37:52 2018', ' 20180129_BanderaGrey_Dolomite_Wet3_0040_0250.tiff     |     Mon Jan 29 17:38:37 2018', ' 20180129_BanderaGrey_Dolomite_Wet3_0040_0251.tiff     |     Mon Jan 29 17:39:22 2018', ' 20180129_BanderaGrey_Dolomite_Wet3_0040_0252.tiff     |     Mon Jan 29 17:40:07 2018', ' 20180129_BanderaGrey_Dolomite_Wet3_0040_0253.tiff     |     Mon Jan 29 17:40:52 2018', ' 20180129_BanderaGrey_Dolomite_Wet3_0040_0254.tiff     |     Mon Jan 29 17:41:37 2018', ' 20180129_BanderaGrey_Dolomite_Wet3_0040_0255.tiff     |     Mon Jan 29 17:42:22 2018', ' 20180129_BanderaGrey_Dolomite_Wet3_0040_0256.tiff     |     Mon Jan 29 17:43:07 2018', ' 20180129_BanderaGrey_Dolomite_Wet3_0040_0257.tiff     |     Mon Jan 29 17:43:52 2018', ' 20180129_BanderaGrey_Dolomite_Wet3_0040_0258.tiff     |     Mon Jan 29 17:44:37 2018', ' 20180129_BanderaGrey_Dolomite_Wet3_0040_0259.tiff     |     Mon Jan 29 17:45:22 2018', ' 20180129_BanderaGrey_Dolomite_Wet3_0040_0260.tiff     |     Mon Jan 29 17:46:07 2018', ' 20180129_BanderaGrey_Dolomite_Wet3_0040_0261.tiff     |     Mon Jan 29 17:46:51 2018', ' 20180129_BanderaGrey_Dolomite_Wet3_0040_0262.tiff     |     Mon Jan 29 17:47:36 2018', ' 20180129_BanderaGrey_Dolomite_Wet3_0040_0263.tiff     |     Mon Jan 29 17:48:21 2018', ' 20180129_BanderaGrey_Dolomite_Wet3_0040_0264.tiff     |     Mon Jan 29 17:49:06 2018', ' 20180129_BanderaGrey_Dolomite_Wet3_0040_0265.tiff     |     Mon Jan 29 17:49:51 2018', ' 20180129_BanderaGrey_Dolomite_Wet3_0040_0266.tiff     |     Mon Jan 29 17:50:36 2018', ' 20180129_BanderaGrey_Dolomite_Wet3_0040_0267.tiff     |     Mon Jan 29 17:51:21 2018', ' 20180129_BanderaGrey_Dolomite_Wet3_0040_0268.tiff     |     Mon Jan 29 17:52:06 2018', ' 20180129_BanderaGrey_Dolomite_Wet3_0040_0269.tiff     |     Mon Jan 29 17:52:51 2018', ' 20180129_BanderaGrey_Dolomite_Wet3_0040_0270.tiff     |     Mon Jan 29 17:53:36 2018', ' 20180129_BanderaGrey_Dolomite_Wet3_0040_0271.tiff     |     Mon Jan 29 17:54:21 2018', ' 20180129_BanderaGrey_Dolomite_Wet3_0040_0272.tiff     |     Mon Jan 29 17:55:05 2018', ' 20180129_BanderaGrey_Dolomite_Wet3_0040_0273.tiff     |     Mon Jan 29 17:55:50 2018', ' 20180129_BanderaGrey_Dolomite_Wet3_0040_0274.tiff     |     Mon Jan 29 17:56:35 2018', ' 20180129_BanderaGrey_Dolomite_Wet3_0040_0275.tiff     |     Mon Jan 29 17:57:20 2018', ' 20180129_BanderaGrey_Dolomite_Wet3_0040_0276.tiff     |     Mon Jan 29 17:58:05 2018', ' 20180129_BanderaGrey_Dolomite_Wet3_0040_0277.tiff     |     Mon Jan 29 17:58:50 2018', ' 20180129_BanderaGrey_Dolomite_Wet3_0040_0278.tiff     |     Mon Jan 29 17:59:35 2018', ' 20180129_BanderaGrey_Dolomite_Wet3_0040_0279.tiff     |     Mon Jan 29 18:00:20 2018', ' 20180129_BanderaGrey_Dolomite_Wet3_0040_0280.tiff     |     Mon Jan 29 18:01:05 2018', ' 20180129_BanderaGrey_Dolomite_Wet3_0040_0281.tiff     |     Mon Jan 29 18:01:50 2018', ' 20180129_BanderaGrey_Dolomite_Wet3_0040_0282.tiff     |     Mon Jan 29 18:02:34 2018', ' 20180129_BanderaGrey_Dolomite_Wet3_0040_0283.tiff     |     Mon Jan 29 18:03:19 2018', ' 20180129_BanderaGrey_Dolomite_Wet3_0040_0284.tiff     |     Mon Jan 29 18:04:04 2018', ' 20180129_BanderaGrey_Dolomite_Wet3_0040_0285.tiff     |     Mon Jan 29 18:04:49 2018', ' 20180129_BanderaGrey_Dolomite_Wet3_0040_0286.tiff     |     Mon Jan 29 18:05:34 2018', ' 20180129_BanderaGrey_Dolomite_Wet3_0040_0287.tiff     |     Mon Jan 29 18:06:19 2018', ' 20180129_BanderaGrey_Dolomite_Wet3_0040_0288.tiff     |     Mon Jan 29 18:07:04 2018', ' 20180129_BanderaGrey_Dolomite_Wet3_0040_0289.tiff     |     Mon Jan 29 18:07:49 2018', ' 20180129_BanderaGrey_Dolomite_Wet3_0040_0290.tiff     |     Mon Jan 29 18:08:34 2018', ' 20180129_BanderaGrey_Dolomite_Wet3_0040_0291.tiff     |     Mon Jan 29 18:09:19 2018', ' 20180129_BanderaGrey_Dolomite_Wet3_0040_0292.tiff     |     Mon Jan 29 18:10:04 2018', ' 20180129_BanderaGrey_Dolomite_Wet3_0040_0293.tiff     |     Mon Jan 29 18:10:48 2018', ' 20180129_BanderaGrey_Dolomite_Wet3_0040_0294.tiff     |     Mon Jan 29 18:11:33 2018', ' 20180129_BanderaGrey_Dolomite_Wet3_0040_0295.tiff     |     Mon Jan 29 18:12:18 2018', ' 20180129_BanderaGrey_Dolomite_Wet3_0040_0296.tiff     |     Mon Jan 29 18:13:03 2018', ' 20180129_BanderaGrey_Dolomite_Wet3_0040_0297.tiff     |     Mon Jan 29 18:13:48 2018', ' 20180129_BanderaGrey_Dolomite_Wet3_0040_0298.tiff     |     Mon Jan 29 18:14:33 2018', ' 20180129_BanderaGrey_Dolomite_Wet3_0040_0299.tiff     |     Mon Jan 29 18:15:18 2018', ' 20180129_BanderaGrey_Dolomite_Wet3_0040_0300.tiff     |     Mon Jan 29 18:16:03 2018', ' 20180129_BanderaGrey_Dolomite_Wet3_0040_0301.tiff     |     Mon Jan 29 18:16:48 2018', ' 20180129_BanderaGrey_Dolomite_Wet3_0040_0302.tiff     |     Mon Jan 29 18:17:33 2018', ' 20180129_BanderaGrey_Dolomite_Wet3_0040_0303.tiff     |     Mon Jan 29 18:18:18 2018', ' 20180129_BanderaGrey_Dolomite_Wet3_0040_0304.tiff     |     Mon Jan 29 18:19:02 2018', ' 20180129_BanderaGrey_Dolomite_Wet3_0040_0305.tiff     |     Mon Jan 29 18:19:47 2018', ' 20180129_BanderaGrey_Dolomite_Wet3_0040_0306.tiff     |     Mon Jan 29 18:20:32 2018', ' 20180129_BanderaGrey_Dolomite_Wet3_0040_0307.tiff     |     Mon Jan 29 18:21:17 2018', ' 20180129_BanderaGrey_Dolomite_Wet3_0040_0308.tiff     |     Mon Jan 29 18:22:02 2018', ' 20180129_BanderaGrey_Dolomite_Wet3_0040_0309.tiff     |     Mon Jan 29 18:22:47 2018', ' 20180129_BanderaGrey_Dolomite_Wet3_0040_0310.tiff     |     Mon Jan 29 18:23:32 2018', ' 20180129_BanderaGrey_Dolomite_Wet3_0040_0311.tiff     |     Mon Jan 29 18:24:17 2018', ' 20180129_BanderaGrey_Dolomite_Wet3_0040_0312.tiff     |     Mon Jan 29 18:25:02 2018', ' 20180129_BanderaGrey_Dolomite_Wet3_0040_0313.tiff     |     Mon Jan 29 18:25:47 2018', ' 20180129_BanderaGrey_Dolomite_Wet3_0040_0314.tiff     |     Mon Jan 29 18:26:32 2018', ' 20180129_BanderaGrey_Dolomite_Wet3_0040_0315.tiff     |     Mon Jan 29 18:27:16 2018', ' 20180129_BanderaGrey_Dolomite_Wet3_0040_0316.tiff     |     Mon Jan 29 18:28:01 2018', ' 20180129_BanderaGrey_Dolomite_Wet3_0040_0317.tiff     |     Mon Jan 29 18:28:46 2018', ' 20180129_BanderaGrey_Dolomite_Wet3_0040_0318.tiff     |     Mon Jan 29 18:29:31 2018', ' 20180129_BanderaGrey_Dolomite_Wet3_0040_0319.tiff     |     Mon Jan 29 18:30:16 2018', ' 20180129_BanderaGrey_Dolomite_Wet3_0040_0320.tiff     |     Mon Jan 29 18:31:01 2018', ' 20180129_BanderaGrey_Dolomite_Wet3_0040_0321.tiff     |     Mon Jan 29 18:31:46 2018', ' 20180129_BanderaGrey_Dolomite_Wet3_0040_0322.tiff     |     Mon Jan 29 18:32:31 2018', ' 20180129_BanderaGrey_Dolomite_Wet3_0040_0323.tiff     |     Mon Jan 29 18:33:16 2018', ' 20180129_BanderaGrey_Dolomite_Wet3_0040_0324.tiff     |     Mon Jan 29 18:34:01 2018', ' 20180129_BanderaGrey_Dolomite_Wet3_0040_0325.tiff     |     Mon Jan 29 18:34:45 2018', ' 20180129_BanderaGrey_Dolomite_Wet3_0040_0326.tiff     |     Mon Jan 29 18:35:30 2018', ' 20180129_BanderaGrey_Dolomite_Wet3_0040_0327.tiff     |     Mon Jan 29 18:36:15 2018', ' 20180129_BanderaGrey_Dolomite_Wet3_0040_0328.tiff     |     Mon Jan 29 18:37:00 2018', ' 20180129_BanderaGrey_Dolomite_Wet3_0040_0329.tiff     |     Mon Jan 29 18:37:45 2018', ' 20180129_BanderaGrey_Dolomite_Wet3_0040_0330.tiff     |     Mon Jan 29 18:38:30 2018', ' 20180129_BanderaGrey_Dolomite_Wet3_0040_0331.tiff     |     Mon Jan 29 18:39:15 2018', ' 20180129_BanderaGrey_Dolomite_Wet3_0040_0332.tiff     |     Mon Jan 29 18:40:00 2018', ' 20180129_BanderaGrey_Dolomite_Wet3_0040_0333.tiff     |     Mon Jan 29 18:40:45 2018', ' 20180129_BanderaGrey_Dolomite_Wet3_0040_0334.tiff     |     Mon Jan 29 18:41:30 2018', ' 20180129_BanderaGrey_Dolomite_Wet3_0040_0335.tiff     |     Mon Jan 29 18:42:15 2018', ' 20180129_BanderaGrey_Dolomite_Wet3_0040_0336.tiff     |     Mon Jan 29 18:42:59 2018', ' 20180129_BanderaGrey_Dolomite_Wet3_0040_0337.tiff     |     Mon Jan 29 18:43:44 2018', ' 20180129_BanderaGrey_Dolomite_Wet3_0040_0338.tiff     |     Mon Jan 29 18:44:29 2018', ' 20180129_BanderaGrey_Dolomite_Wet3_0040_0339.tiff     |     Mon Jan 29 18:45:14 2018', ' 20180129_BanderaGrey_Dolomite_Wet3_0040_0340.tiff     |     Mon Jan 29 18:45:59 2018', ' 20180129_BanderaGrey_Dolomite_Wet3_0040_0341.tiff     |     Mon Jan 29 18:46:44 2018', ' 20180129_BanderaGrey_Dolomite_Wet3_0040_0342.tiff     |     Mon Jan 29 18:47:29 2018', ' 20180129_BanderaGrey_Dolomite_Wet3_0040_0343.tiff     |     Mon Jan 29 18:48:14 2018', ' 20180129_BanderaGrey_Dolomite_Wet3_0040_0344.tiff     |     Mon Jan 29 18:48:59 2018', ' 20180129_BanderaGrey_Dolomite_Wet3_0040_0345.tiff     |     Mon Jan 29 18:49:43 2018', ' 20180129_BanderaGrey_Dolomite_Wet3_0040_0346.tiff     |     Mon Jan 29 18:50:28 2018', ' 20180129_BanderaGrey_Dolomite_Wet3_0040_0347.tiff     |     Mon Jan 29 18:51:13 2018', ' 20180129_BanderaGrey_Dolomite_Wet3_0040_0348.tiff     |     Mon Jan 29 18:51:58 2018', ' 20180129_BanderaGrey_Dolomite_Wet3_0040_0349.tiff     |     Mon Jan 29 18:52:43 2018', ' 20180129_BanderaGrey_Dolomite_Wet3_0040_0350.tiff     |     Mon Jan 29 18:53:28 2018', ' 20180129_BanderaGrey_Dolomite_Wet3_0040_0351.tiff     |     Mon Jan 29 18:54:13 2018', ' 20180129_BanderaGrey_Dolomite_Wet3_0040_0352.tiff     |     Mon Jan 29 18:54:58 2018', ' 20180129_BanderaGrey_Dolomite_Wet3_0040_0353.tiff     |     Mon Jan 29 18:55:43 2018', ' 20180129_BanderaGrey_Dolomite_Wet3_0040_0354.tiff     |     Mon Jan 29 18:56:28 2018', ' 20180129_BanderaGrey_Dolomite_Wet3_0040_0355.tiff     |     Mon Jan 29 18:57:13 2018', ' 20180129_BanderaGrey_Dolomite_Wet3_0040_0356.tiff     |     Mon Jan 29 18:57:58 2018', ' 20180129_BanderaGrey_Dolomite_Wet3_0040_0357.tiff     |     Mon Jan 29 18:58:42 2018', ' 20180129_BanderaGrey_Dolomite_Wet3_0040_0358.tiff     |     Mon Jan 29 18:59:27 2018', ' 20180129_BanderaGrey_Dolomite_Wet3_0040_0359.tiff     |     Mon Jan 29 19:00:12 2018', ' 20180129_BanderaGrey_Dolomite_Wet3_0040_0360.tiff     |     Mon Jan 29 19:00:57 2018', ' 20180129_BanderaGrey_Dolomite_Wet3_0040_0361.tiff     |     Mon Jan 29 19:01:42 2018', ' 20180129_BanderaGrey_Dolomite_Wet3_0040_0362.tiff     |     Mon Jan 29 19:02:27 2018', ' 20180129_BanderaGrey_Dolomite_Wet3_0040_0363.tiff     |     Mon Jan 29 19:03:12 2018', ' 20180129_BanderaGrey_Dolomite_Wet3_0040_0364.tiff     |     Mon Jan 29 19:03:57 2018', ' 20180129_BanderaGrey_Dolomite_Wet3_0040_0365.tiff     |     Mon Jan 29 19:04:42 2018', ' 20180129_BanderaGrey_Dolomite_Wet3_0040_0366.tiff     |     Mon Jan 29 19:05:27 2018', ' 20180129_BanderaGrey_Dolomite_Wet3_0040_0367.tiff     |     Mon Jan 29 19:06:11 2018', ' 20180129_BanderaGrey_Dolomite_Wet3_0040_0368.tiff     |     Mon Jan 29 19:06:56 2018', ' 20180129_BanderaGrey_Dolomite_Wet3_0040_0369.tiff     |     Mon Jan 29 19:07:41 2018', ' 20180129_BanderaGrey_Dolomite_Wet3_0040_0370.tiff     |     Mon Jan 29 19:08:26 2018', ' 20180129_BanderaGrey_Dolomite_Wet3_0040_0371.tiff     |     Mon Jan 29 19:09:11 2018', ' 20180129_BanderaGrey_Dolomite_Wet3_0040_0372.tiff     |     Mon Jan 29 19:09:56 2018', ' 20180129_BanderaGrey_Dolomite_Wet3_0040_0373.tiff     |     Mon Jan 29 19:10:41 2018', ' 20180129_BanderaGrey_Dolomite_Wet3_0040_0374.tiff     |     Mon Jan 29 19:11:26 2018', ' 20180129_BanderaGrey_Dolomite_Wet3_0040_0375.tiff     |     Mon Jan 29 19:12:11 2018', ' 20180129_BanderaGrey_Dolomite_Wet3_0040_0376.tiff     |     Mon Jan 29 19:12:56 2018', ' 20180129_BanderaGrey_Dolomite_Wet3_0040_0377.tiff     |     Mon Jan 29 19:13:40 2018', ' 20180129_BanderaGrey_Dolomite_Wet3_0040_0378.tiff     |     Mon Jan 29 19:14:25 2018', ' 20180129_BanderaGrey_Dolomite_Wet3_0040_0379.tiff     |     Mon Jan 29 19:15:10 2018', ' 20180129_BanderaGrey_Dolomite_Wet3_0040_0380.tiff     |     Mon Jan 29 19:15:55 2018', ' 20180129_BanderaGrey_Dolomite_Wet3_0040_0381.tiff     |     Mon Jan 29 19:16:40 2018', ' 20180129_BanderaGrey_Dolomite_Wet3_0040_0382.tiff     |     Mon Jan 29 19:17:25 2018', ' 20180129_BanderaGrey_Dolomite_Wet3_0040_0383.tiff     |     Mon Jan 29 19:18:10 2018', ' 20180129_BanderaGrey_Dolomite_Wet3_0040_0384.tiff     |     Mon Jan 29 19:18:55 2018', ' 20180129_BanderaGrey_Dolomite_Wet3_0040_0385.tiff     |     Mon Jan 29 19:19:40 2018', ' 20180129_BanderaGrey_Dolomite_Wet3_0040_0386.tiff     |     Mon Jan 29 19:20:25 2018', ' 20180129_BanderaGrey_Dolomite_Wet3_0040_0387.tiff     |     Mon Jan 29 19:21:10 2018', ' 20180129_BanderaGrey_Dolomite_Wet3_0040_0388.tiff     |     Mon Jan 29 19:21:54 2018', ' 20180129_BanderaGrey_Dolomite_Wet3_0040_0389.tiff     |     Mon Jan 29 19:22:39 2018', ' 20180129_BanderaGrey_Dolomite_Wet3_0040_0390.tiff     |     Mon Jan 29 19:23:24 2018', ' 20180129_BanderaGrey_Dolomite_Wet3_0040_0391.tiff     |     Mon Jan 29 19:24:09 2018', ' 20180129_BanderaGrey_Dolomite_Wet3_0040_0392.tiff     |     Mon Jan 29 19:24:54 2018', ' 20180129_BanderaGrey_Dolomite_Wet3_0040_0393.tiff     |     Mon Jan 29 19:25:39 2018', ' 20180129_BanderaGrey_Dolomite_Wet3_0040_0394.tiff     |     Mon Jan 29 19:26:24 2018', ' 20180129_BanderaGrey_Dolomite_Wet3_0040_0395.tiff     |     Mon Jan 29 19:27:09 2018', ' 20180129_BanderaGrey_Dolomite_Wet3_0040_0396.tiff     |     Mon Jan 29 19:27:54 2018', ' 20180129_BanderaGrey_Dolomite_Wet3_0040_0397.tiff     |     Mon Jan 29 19:28:38 2018', ' 20180129_BanderaGrey_Dolomite_Wet3_0040_0398.tiff     |     Mon Jan 29 19:29:23 2018', ' 20180129_BanderaGrey_Dolomite_Wet3_0040_0399.tiff     |     Mon Jan 29 19:30:08 2018', ' 20180129_BanderaGrey_Dolomite_Wet3_0040_0400.tiff     |     Mon Jan 29 19:30:53 2018', ' 20180129_BanderaGrey_Dolomite_Wet3_0040_0401.tiff     |     Mon Jan 29 19:31:38 2018', ' 20180129_BanderaGrey_Dolomite_Wet3_0040_0402.tiff     |     Mon Jan 29 19:32:23 2018', ' 20180129_BanderaGrey_Dolomite_Wet3_0040_0403.tiff     |     Mon Jan 29 19:33:08 2018', ' 20180129_BanderaGrey_Dolomite_Wet3_0040_0404.tiff     |     Mon Jan 29 19:33:53 2018', ' 20180129_BanderaGrey_Dolomite_Wet3_0040_0405.tiff     |     Mon Jan 29 19:34:38 2018', ' 20180129_BanderaGrey_Dolomite_Wet3_0040_0406.tiff     |     Mon Jan 29 19:35:23 2018', ' 20180129_BanderaGrey_Dolomite_Wet3_0040_0407.tiff     |     Mon Jan 29 19:36:07 2018', ' 20180129_BanderaGrey_Dolomite_Wet3_0040_0408.tiff     |     Mon Jan 29 19:36:52 2018', ' 20180129_BanderaGrey_Dolomite_Wet3_0040_0409.tiff     |     Mon Jan 29 19:37:37 2018', ' 20180129_BanderaGrey_Dolomite_Wet3_0040_0410.tiff     |     Mon Jan 29 19:38:22 2018', ' 20180129_BanderaGrey_Dolomite_Wet3_0040_0411.tiff     |     Mon Jan 29 19:39:07 2018', ' 20180129_BanderaGrey_Dolomite_Wet3_0040_0412.tiff     |     Mon Jan 29 19:39:52 2018', ' 20180129_BanderaGrey_Dolomite_Wet3_0040_0413.tiff     |     Mon Jan 29 19:40:37 2018', ' 20180129_BanderaGrey_Dolomite_Wet3_0040_0414.tiff     |     Mon Jan 29 19:41:22 2018', ' 20180129_BanderaGrey_Dolomite_Wet3_0040_0415.tiff     |     Mon Jan 29 19:42:07 2018', ' 20180129_BanderaGrey_Dolomite_Wet3_0040_0416.tiff     |     Mon Jan 29 19:42:52 2018', ' 20180129_BanderaGrey_Dolomite_Wet3_0040_0417.tiff     |     Mon Jan 29 19:43:37 2018', ' 20180129_BanderaGrey_Dolomite_Wet3_0040_0418.tiff     |     Mon Jan 29 19:44:22 2018', ' 20180129_BanderaGrey_Dolomite_Wet3_0040_0419.tiff     |     Mon Jan 29 19:45:06 2018', ' 20180129_BanderaGrey_Dolomite_Wet3_0040_0420.tiff     |     Mon Jan 29 19:45:51 2018', ' 20180129_BanderaGrey_Dolomite_Wet3_0040_0421.tiff     |     Mon Jan 29 19:46:36 2018', ' 20180129_BanderaGrey_Dolomite_Wet3_0040_0422.tiff     |     Mon Jan 29 19:47:21 2018', ' 20180129_BanderaGrey_Dolomite_Wet3_0040_0423.tiff     |     Mon Jan 29 19:48:06 2018', ' 20180129_BanderaGrey_Dolomite_Wet3_0040_0424.tiff     |     Mon Jan 29 19:48:51 2018', ' 20180129_BanderaGrey_Dolomite_Wet3_0040_0425.tiff     |     Mon Jan 29 19:49:36 2018', ' 20180129_BanderaGrey_Dolomite_Wet3_0040_0426.tiff     |     Mon Jan 29 19:50:21 2018', ' 20180129_BanderaGrey_Dolomite_Wet3_0040_0427.tiff     |     Mon Jan 29 19:51:06 2018', ' 20180129_BanderaGrey_Dolomite_Wet3_0040_0428.tiff     |     Mon Jan 29 19:51:51 2018', ' 20180129_BanderaGrey_Dolomite_Wet3_0040_0429.tiff     |     Mon Jan 29 19:52:36 2018', ' 20180129_BanderaGrey_Dolomite_Wet3_0040_0430.tiff     |     Mon Jan 29 19:53:20 2018', ' 20180129_BanderaGrey_Dolomite_Wet3_0040_0431.tiff     |     Mon Jan 29 19:54:05 2018', ' 20180129_BanderaGrey_Dolomite_Wet3_0040_0432.tiff     |     Mon Jan 29 19:54:50 2018', ' 20180129_BanderaGrey_Dolomite_Wet3_0040_0433.tiff     |     Mon Jan 29 19:55:35 2018', ' 20180129_BanderaGrey_Dolomite_Wet3_0040_0434.tiff     |     Mon Jan 29 19:56:20 2018', ' 20180129_BanderaGrey_Dolomite_Wet3_0040_0435.tiff     |     Mon Jan 29 19:57:05 2018', ' 20180129_BanderaGrey_Dolomite_Wet3_0040_0436.tiff     |     Mon Jan 29 19:57:50 2018', ' 20180129_BanderaGrey_Dolomite_Wet3_0040_0437.tiff     |     Mon Jan 29 19:58:35 2018', ' 20180129_BanderaGrey_Dolomite_Wet3_0040_0438.tiff     |     Mon Jan 29 19:59:20 2018', ' 20180129_BanderaGrey_Dolomite_Wet3_0040_0439.tiff     |     Mon Jan 29 20:00:05 2018', ' 20180129_BanderaGrey_Dolomite_Wet3_0040_0440.tiff     |     Mon Jan 29 20:00:50 2018', ' 20180129_BanderaGrey_Dolomite_Wet3_0040_0441.tiff     |     Mon Jan 29 20:01:35 2018', ' 20180129_BanderaGrey_Dolomite_Wet3_0040_0442.tiff     |     Mon Jan 29 20:02:19 2018', ' 20180129_BanderaGrey_Dolomite_Wet3_0040_0443.tiff     |     Mon Jan 29 20:03:04 2018', ' 20180129_BanderaGrey_Dolomite_Wet3_0040_0444.tiff     |     Mon Jan 29 20:03:49 2018', ' 20180129_BanderaGrey_Dolomite_Wet3_0040_0445.tiff     |     Mon Jan 29 20:04:34 2018', ' 20180129_BanderaGrey_Dolomite_Wet3_0040_0446.tiff     |     Mon Jan 29 20:05:19 2018', ' 20180129_BanderaGrey_Dolomite_Wet3_0040_0447.tiff     |     Mon Jan 29 20:06:04 2018', ' 20180129_BanderaGrey_Dolomite_Wet3_0040_0448.tiff     |     Mon Jan 29 20:06:49 2018', ' 20180129_BanderaGrey_Dolomite_Wet3_0040_0449.tiff     |     Mon Jan 29 20:07:34 2018', ' 20180129_BanderaGrey_Dolomite_Wet3_0040_0450.tiff     |     Mon Jan 29 20:08:19 2018', ' 20180129_BanderaGrey_Dolomite_Wet3_0040_0451.tiff     |     Mon Jan 29 20:09:04 2018', ' 20180129_BanderaGrey_Dolomite_Wet3_0040_0452.tiff     |     Mon Jan 29 20:09:48 2018', ' 20180129_BanderaGrey_Dolomite_Wet3_0040_0453.tiff     |     Mon Jan 29 20:10:33 2018', ' 20180129_BanderaGrey_Dolomite_Wet3_0040_0454.tiff     |     Mon Jan 29 20:11:18 2018', ' 20180129_BanderaGrey_Dolomite_Wet3_0040_0455.tiff     |     Mon Jan 29 20:12:03 2018', ' 20180129_BanderaGrey_Dolomite_Wet3_0040_0456.tiff     |     Mon Jan 29 20:12:48 2018', ' 20180129_BanderaGrey_Dolomite_Wet3_0040_0457.tiff     |     Mon Jan 29 20:13:33 2018', ' 20180129_BanderaGrey_Dolomite_Wet3_0040_0458.tiff     |     Mon Jan 29 20:14:18 2018', ' 20180129_BanderaGrey_Dolomite_Wet3_0040_0459.tiff     |     Mon Jan 29 20:15:03 2018', ' 20180129_BanderaGrey_Dolomite_Wet3_0040_0460.tiff     |     Mon Jan 29 20:15:48 2018', ' 20180129_BanderaGrey_Dolomite_Wet3_0040_0461.tiff     |     Mon Jan 29 20:16:33 2018', ' 20180129_BanderaGrey_Dolomite_Wet3_0040_0462.tiff     |     Mon Jan 29 20:17:18 2018', ' 20180129_BanderaGrey_Dolomite_Wet3_0040_0463.tiff     |     Mon Jan 29 20:18:02 2018', ' 20180129_BanderaGrey_Dolomite_Wet3_0040_0464.tiff     |     Mon Jan 29 20:18:47 2018', ' 20180129_BanderaGrey_Dolomite_Wet3_0040_0465.tiff     |     Mon Jan 29 20:19:32 2018', ' 20180129_BanderaGrey_Dolomite_Wet3_0040_0466.tiff     |     Mon Jan 29 20:20:17 2018', ' 20180129_BanderaGrey_Dolomite_Wet3_0040_0467.tiff     |     Mon Jan 29 20:21:02 2018', ' 20180129_BanderaGrey_Dolomite_Wet3_0040_0468.tiff     |     Mon Jan 29 20:21:47 2018', ' 20180129_BanderaGrey_Dolomite_Wet3_0040_0469.tiff     |     Mon Jan 29 20:22:32 2018', ' 20180129_BanderaGrey_Dolomite_Wet3_0040_0470.tiff     |     Mon Jan 29 20:23:17 2018', ' 20180129_BanderaGrey_Dolomite_Wet3_0040_0471.tiff     |     Mon Jan 29 20:24:02 2018', ' 20180129_BanderaGrey_Dolomite_Wet3_0040_0472.tiff     |     Mon Jan 29 20:24:47 2018', ' 20180129_BanderaGrey_Dolomite_Wet3_0040_0473.tiff     |     Mon Jan 29 20:25:32 2018', ' 20180129_BanderaGrey_Dolomite_Wet3_0040_0474.tiff     |     Mon Jan 29 20:26:17 2018', ' 20180129_BanderaGrey_Dolomite_Wet3_0040_0475.tiff     |     Mon Jan 29 20:27:01 2018', ' 20180129_BanderaGrey_Dolomite_Wet3_0040_0476.tiff     |     Mon Jan 29 20:27:46 2018', ' 20180129_BanderaGrey_Dolomite_Wet3_0040_0477.tiff     |     Mon Jan 29 20:28:31 2018', ' 20180129_BanderaGrey_Dolomite_Wet3_0040_0478.tiff     |     Mon Jan 29 20:29:16 2018', ' 20180129_BanderaGrey_Dolomite_Wet3_0040_0479.tiff     |     Mon Jan 29 20:30:01 2018', ' 20180129_BanderaGrey_Dolomite_Wet3_0040_0480.tiff     |     Mon Jan 29 20:30:46 2018', ' 20180129_BanderaGrey_Dolomite_Wet3_0040_0481.tiff     |     Mon Jan 29 20:31:31 2018', ' 20180129_BanderaGrey_Dolomite_Wet3_0040_0482.tiff     |     Mon Jan 29 20:32:16 2018', ' 20180129_BanderaGrey_Dolomite_Wet3_0040_0483.tiff     |     Mon Jan 29 20:33:01 2018', ' 20180129_BanderaGrey_Dolomite_Wet3_0040_0484.tiff     |     Mon Jan 29 20:33:46 2018', ' 20180129_BanderaGrey_Dolomite_Wet3_0040_0485.tiff     |     Mon Jan 29 20:34:30 2018', ' 20180129_BanderaGrey_Dolomite_Wet3_0040_0486.tiff     |     Mon Jan 29 20:35:15 2018', ' 20180129_BanderaGrey_Dolomite_Wet3_0040_0487.tiff     |     Mon Jan 29 20:36:00 2018', ' 20180129_BanderaGrey_Dolomite_Wet3_0040_0488.tiff     |     Mon Jan 29 20:36:45 2018', ' 20180129_BanderaGrey_Dolomite_Wet3_0040_0489.tiff     |     Mon Jan 29 20:37:30 2018', ' 20180129_BanderaGrey_Dolomite_Wet3_0040_0490.tiff     |     Mon Jan 29 20:38:15 2018', ' 20180129_BanderaGrey_Dolomite_Wet3_0040_0491.tiff     |     Mon Jan 29 20:39:00 2018', ' 20180129_BanderaGrey_Dolomite_Wet3_0040_0492.tiff     |     Mon Jan 29 20:39:45 2018', ' 20180129_BanderaGrey_Dolomite_Wet3_0040_0493.tiff     |     Mon Jan 29 20:40:30 2018', ' 20180129_BanderaGrey_Dolomite_Wet3_0040_0494.tiff     |     Mon Jan 29 20:41:15 2018', ' 20180129_BanderaGrey_Dolomite_Wet3_0040_0495.tiff     |     Mon Jan 29 20:41:59 2018', ' 20180129_BanderaGrey_Dolomite_Wet3_0040_0496.tiff     |     Mon Jan 29 20:42:44 2018', ' 20180129_BanderaGrey_Dolomite_Wet3_0040_0497.tiff     |     Mon Jan 29 20:43:29 2018', ' 20180129_BanderaGrey_Dolomite_Wet3_0040_0498.tiff     |     Mon Jan 29 20:44:14 2018', ' 20180129_BanderaGrey_Dolomite_Wet3_0040_0499.tiff     |     Mon Jan 29 20:44:59 2018', ' 20180129_BanderaGrey_Dolomite_Wet3_0040_0500.tiff     |     Mon Jan 29 20:45:44 2018', ' 20180129_BanderaGrey_Dolomite_Wet3_0040_0501.tiff     |     Mon Jan 29 20:46:29 2018', ' 20180129_BanderaGrey_Dolomite_Wet3_0040_0502.tiff     |     Mon Jan 29 20:47:14 2018', ' 20180129_BanderaGrey_Dolomite_Wet3_0040_0503.tiff     |     Mon Jan 29 20:47:59 2018', ' 20180129_BanderaGrey_Dolomite_Wet3_0040_0504.tiff     |     Mon Jan 29 20:48:44 2018', ' 20180129_BanderaGrey_Dolomite_Wet3_0040_0505.tiff     |     Mon Jan 29 20:49:28 2018', ' 20180129_BanderaGrey_Dolomite_Wet3_0040_0506.tiff     |     Mon Jan 29 20:50:13 2018', ' 20180129_BanderaGrey_Dolomite_Wet3_0040_0507.tiff     |     Mon Jan 29 20:50:58 2018', ' 20180129_BanderaGrey_Dolomite_Wet3_0040_0508.tiff     |     Mon Jan 29 20:51:43 2018', ' 20180129_BanderaGrey_Dolomite_Wet3_0040_0509.tiff     |     Mon Jan 29 20:52:28 2018', ' 20180129_BanderaGrey_Dolomite_Wet3_0040_0510.tiff     |     Mon Jan 29 20:53:13 2018', ' 20180129_BanderaGrey_Dolomite_Wet3_0040_0511.tiff     |     Mon Jan 29 20:53:58 2018', ' 20180129_BanderaGrey_Dolomite_Wet3_0040_0512.tiff     |     Mon Jan 29 20:54:43 2018', ' 20180129_BanderaGrey_Dolomite_Wet3_0040_0513.tiff     |     Mon Jan 29 20:55:28 2018', ' 20180129_BanderaGrey_Dolomite_Wet3_0040_0514.tiff     |     Mon Jan 29 20:56:13 2018', ' 20180129_BanderaGrey_Dolomite_Wet3_0040_0515.tiff     |     Mon Jan 29 20:56:58 2018', ' 20180129_BanderaGrey_Dolomite_Wet3_0040_0516.tiff     |     Mon Jan 29 20:57:42 2018', ' 20180129_BanderaGrey_Dolomite_Wet3_0040_0517.tiff     |     Mon Jan 29 20:58:27 2018', ' 20180129_BanderaGrey_Dolomite_Wet3_0040_0518.tiff     |     Mon Jan 29 20:59:12 2018', ' 20180129_BanderaGrey_Dolomite_Wet3_0040_0519.tiff     |     Mon Jan 29 20:59:57 2018', ' 20180129_BanderaGrey_Dolomite_Wet3_0040_0520.tiff     |     Mon Jan 29 21:00:42 2018', ' 20180129_BanderaGrey_Dolomite_Wet3_0040_0521.tiff     |     Mon Jan 29 21:01:27 2018', ' 20180129_BanderaGrey_Dolomite_Wet3_0040_0522.tiff     |     Mon Jan 29 21:02:12 2018', ' 20180129_BanderaGrey_Dolomite_Wet3_0040_0523.tiff     |     Mon Jan 29 21:02:57 2018', ' 20180129_BanderaGrey_Dolomite_Wet3_0040_0524.tiff     |     Mon Jan 29 21:03:42 2018', ' 20180129_BanderaGrey_Dolomite_Wet3_0040_0525.tiff     |     Mon Jan 29 21:04:27 2018', ' 20180129_BanderaGrey_Dolomite_Wet3_0040_0526.tiff     |     Mon Jan 29 21:05:12 2018', ' 20180129_BanderaGrey_Dolomite_Wet3_0040_0527.tiff     |     Mon Jan 29 21:05:57 2018', ' 20180129_BanderaGrey_Dolomite_Wet3_0040_0528.tiff     |     Mon Jan 29 21:06:42 2018', ' 20180129_BanderaGrey_Dolomite_Wet3_0040_0529.tiff     |     Mon Jan 29 21:07:27 2018', ' 20180129_BanderaGrey_Dolomite_Wet3_0040_0530.tiff     |     Mon Jan 29 21:08:11 2018', ' 20180129_BanderaGrey_Dolomite_Wet3_0040_0531.tiff     |     Mon Jan 29 21:08:56 2018', ' 20180129_BanderaGrey_Dolomite_Wet3_0040_0532.tiff     |     Mon Jan 29 21:09:41 2018', ' 20180129_BanderaGrey_Dolomite_Wet3_0040_0533.tiff     |     Mon Jan 29 21:10:26 2018', ' 20180129_BanderaGrey_Dolomite_Wet3_0040_0534.tiff     |     Mon Jan 29 21:11:11 2018', ' 20180129_BanderaGrey_Dolomite_Wet3_0040_0535.tiff     |     Mon Jan 29 21:11:56 2018', ' 20180129_BanderaGrey_Dolomite_Wet3_0040_0536.tiff     |     Mon Jan 29 21:12:41 2018', ' 20180129_BanderaGrey_Dolomite_Wet3_0040_0537.tiff     |     Mon Jan 29 21:13:26 2018', ' 20180129_BanderaGrey_Dolomite_Wet3_0040_0538.tiff     |     Mon Jan 29 21:14:11 2018', ' 20180129_BanderaGrey_Dolomite_Wet3_0040_0539.tiff     |     Mon Jan 29 21:14:55 2018', ' 20180129_BanderaGrey_Dolomite_Wet3_0040_0540.tiff     |     Mon Jan 29 21:15:40 2018', ' 20180129_BanderaGrey_Dolomite_Wet3_0040_0541.tiff     |     Mon Jan 29 21:16:25 2018', ' 20180129_BanderaGrey_Dolomite_Wet3_0040_0542.tiff     |     Mon Jan 29 21:17:10 2018', ' 20180129_BanderaGrey_Dolomite_Wet3_0040_0543.tiff     |     Mon Jan 29 21:17:55 2018', ' 20180129_BanderaGrey_Dolomite_Wet3_0040_0544.tiff     |     Mon Jan 29 21:18:40 2018', ' 20180129_BanderaGrey_Dolomite_Wet3_0040_0545.tiff     |     Mon Jan 29 21:19:25 2018', ' 20180129_BanderaGrey_Dolomite_Wet3_0040_0546.tiff     |     Mon Jan 29 21:20:10 2018', ' 20180129_BanderaGrey_Dolomite_Wet3_0040_0547.tiff     |     Mon Jan 29 21:20:55 2018', ' 20180129_BanderaGrey_Dolomite_Wet3_0040_0548.tiff     |     Mon Jan 29 21:21:39 2018', ' 20180129_BanderaGrey_Dolomite_Wet3_0040_0549.tiff     |     Mon Jan 29 21:22:24 2018', ' 20180129_BanderaGrey_Dolomite_Wet3_0040_0550.tiff     |     Mon Jan 29 21:23:09 2018', ' 20180129_BanderaGrey_Dolomite_Wet3_0040_0551.tiff     |     Mon Jan 29 21:23:54 2018', ' 20180129_BanderaGrey_Dolomite_Wet3_0040_0552.tiff     |     Mon Jan 29 21:24:39 2018', ' 20180129_BanderaGrey_Dolomite_Wet_0040_0195.tiff      |     Mon Jan 29 16:24:44 2018', ' 20180129_BanderaGrey_Dolomite_Wet_0040_0196.tiff      |     Mon Jan 29 16:25:29 2018', ' 20180129_BanderaGrey_Dolomite_Wet_0040_0197.tiff      |     Mon Jan 29 16:26:14 2018', ' 20180129_BanderaGrey_Dolomite_Wet_0040_0198.tiff      |     Mon Jan 29 16:26:59 2018', ' 20180129_BanderaGrey_Dolomite_Wet_0040_0199.tiff      |     Mon Jan 29 16:27:44 2018', ' 20180129_BanderaGrey_Dolomite_Wet_0040_0200.tiff      |     Mon Jan 29 16:28:29 2018', ' 20180129_BanderaGrey_Dolomite_Wet_0040_0201.tiff      |     Mon Jan 29 16:29:14 2018', ' 20180129_BanderaGrey_Dolomite_Wet_0040_0202.tiff      |     Mon Jan 29 16:29:58 2018', ' 20180129_BanderaGrey_Dolomite_Wet_0040_0203.tiff      |     Mon Jan 29 16:30:43 2018', ' 20180129_BanderaGrey_Dolomite_Wet_0040_0204.tiff      |     Mon Jan 29 16:31:28 2018', ' 20180129_BanderaGrey_Dolomite_Wet_0040_0205.tiff      |     Mon Jan 29 16:46:15 2018', ' 20180129_BanderaGrey_Dolomite_Wet_0040_0206.tiff      |     Mon Jan 29 16:47:00 2018', ' 20180129_BanderaGrey_Dolomite_Wet_0040_0207.tiff      |     Mon Jan 29 16:47:45 2018', ' 20180129_BanderaGrey_Dolomite_Wet_0040_0208.tiff      |     Mon Jan 29 16:48:30 2018', ' 20180129_BanderaGrey_Dolomite_Wet_0040_0209.tiff      |     Mon Jan 29 16:49:15 2018', ' 20180129_BanderaGrey_Dolomite_Wet_0040_0210.tiff      |     Mon Jan 29 16:50:00 2018', ' 20180129_BanderaGrey_Dolomite_Wet_0040_0211.tiff      |     Mon Jan 29 16:50:45 2018', ' 20180129_BanderaGrey_Dolomite_Wet_0040_0212.tiff      |     Mon Jan 29 16:51:29 2018', ' 20180129_BanderaGrey_Dolomite_Wet_0040_0213.tiff      |     Mon Jan 29 16:52:14 2018', ' 20180129_BanderaGrey_Dolomite_Wet_0040_0214.tiff      |     Mon Jan 29 16:52:59 2018', ' 20180129_EF7_8_dry_0040_0014.tiff                     |     Mon Jan 29 12:16:12 2018', ' 20180129_EF7_8_dry_0040_0015.tiff                     |     Mon Jan 29 12:16:57 2018', ' 20180129_EF7_8_dry_0040_0016.tiff                     |     Mon Jan 29 12:17:41 2018', ' 20180129_EF7_8_dry_0040_0017.tiff                     |     Mon Jan 29 12:18:26 2018', ' 20180129_EF7_8_dry_0040_0018.tiff                     |     Mon Jan 29 12:19:11 2018', ' 20180129_EF7_8_dry_0040_0019.tiff                     |     Mon Jan 29 12:19:56 2018', ' 20180129_EF7_8_dry_0040_0020.tiff                     |     Mon Jan 29 12:20:41 2018', ' 20180129_EF7_8_dry_0040_0021.tiff                     |     Mon Jan 29 12:21:26 2018', ' 20180129_EF7_8_dry_0040_0022.tiff                     |     Mon Jan 29 12:22:11 2018', ' 20180129_EF7_8_dry_0040_0023.tiff                     |     Mon Jan 29 12:22:56 2018', ' 20180129_EF7_8_wet_0040_0029.tiff                     |     Mon Jan 29 12:30:29 2018', ' 20180129_EF7_8_wet_0040_0030.tiff                     |     Mon Jan 29 12:31:14 2018', ' 20180129_EF7_8_wet_0040_0031.tiff                     |     Mon Jan 29 12:31:59 2018', ' 20180129_EF7_8_wet_0040_0032.tiff                     |     Mon Jan 29 12:32:43 2018', ' 20180129_EF7_8_wet_0040_0033.tiff                     |     Mon Jan 29 12:33:28 2018', ' 20180129_EF7_8_wet_0040_0034.tiff                     |     Mon Jan 29 12:34:13 2018', ' 20180129_EF7_8_wet_0040_0035.tiff                     |     Mon Jan 29 12:34:58 2018', ' 20180129_EF7_8_wet_0040_0036.tiff                     |     Mon Jan 29 12:35:43 2018', ' 20180129_EF7_8_wet_0040_0037.tiff                     |     Mon Jan 29 12:36:28 2018', ' 20180129_EF7_8_wet_0040_0038.tiff                     |     Mon Jan 29 12:37:13 2018', ' 20180129_EF7_8_wet_0040_0039.tiff                     |     Mon Jan 29 12:37:58 2018', ' 20180129_EF7_8_wet_0040_0040.tiff                     |     Mon Jan 29 12:38:43 2018', ' 20180129_EF7_8_wet_0040_0041.tiff                     |     Mon Jan 29 12:39:28 2018', ' 20180129_EF7_8_wet_0040_0042.tiff                     |     Mon Jan 29 12:40:13 2018', ' 20180129_EF7_8_wet_0040_0043.tiff                     |     Mon Jan 29 12:40:57 2018', ' 20180129_EF7_8_wet_0040_0044.tiff                     |     Mon Jan 29 12:41:42 2018', ' 20180129_EF7_8_wet_0040_0045.tiff                     |     Mon Jan 29 12:42:27 2018', ' 20180129_EF7_8_wet_0040_0046.tiff                     |     Mon Jan 29 12:43:12 2018', ' 20180129_EF7_8_wet_0040_0047.tiff                     |     Mon Jan 29 12:43:57 2018', ' 20180129_EF7_8_wet_0040_0048.tiff                     |     Mon Jan 29 12:44:42 2018', ' 20180129_EF7_8_wet_0040_0049.tiff                     |     Mon Jan 29 12:45:27 2018', ' 20180129_EF7_8_wet_0040_0050.tiff                     |     Mon Jan 29 12:46:12 2018', ' 20180129_EF7_8_wet_0040_0051.tiff                     |     Mon Jan 29 12:46:57 2018', ' 20180129_EF7_8_wet_0040_0052.tiff                     |     Mon Jan 29 12:47:42 2018', ' 20180129_EF7_8_wet_0040_0053.tiff                     |     Mon Jan 29 12:48:27 2018', ' 20180129_EF7_8_wet_0040_0054.tiff                     |     Mon Jan 29 12:49:12 2018', ' 20180129_EF7_8_wet_0040_0055.tiff                     |     Mon Jan 29 12:49:56 2018', ' 20180129_EF7_8_wet_0040_0056.tiff                     |     Mon Jan 29 12:50:41 2018', ' 20180129_EF7_8_wet_0040_0057.tiff                     |     Mon Jan 29 12:51:26 2018', ' 20180129_EF7_8_wet_0040_0058.tiff                     |     Mon Jan 29 12:52:11 2018', ' 20180129_EF7_8_wet_0040_0059.tiff                     |     Mon Jan 29 12:52:56 2018', ' 20180129_EF7_8_wet_0040_0060.tiff                     |     Mon Jan 29 12:53:41 2018', ' 20180129_EF7_8_wet_0040_0061.tiff                     |     Mon Jan 29 12:54:26 2018', ' 20180129_EF7_8_wet_0040_0062.tiff                     |     Mon Jan 29 12:55:11 2018', ' 20180129_EF7_8_wet_0040_0063.tiff                     |     Mon Jan 29 12:55:56 2018', ' 20180129_EF7_8_wet_0040_0064.tiff                     |     Mon Jan 29 12:56:41 2018', ' 20180129_EF7_8_wet_0040_0065.tiff                     |     Mon Jan 29 12:57:26 2018', ' 20180129_EF7_8_wet_0040_0066.tiff                     |     Mon Jan 29 12:58:10 2018', ' 20180129_EF7_8_wet_0040_0067.tiff                     |     Mon Jan 29 12:58:55 2018', ' 20180129_EF7_8_wet_0040_0068.tiff                     |     Mon Jan 29 12:59:40 2018', ' 20180129_EF7_8_wet_0040_0069.tiff                     |     Mon Jan 29 13:00:25 2018', ' 20180129_EF7_8_wet_0040_0070.tiff                     |     Mon Jan 29 13:01:10 2018', ' 20180129_EF7_8_wet_0040_0071.tiff                     |     Mon Jan 29 13:01:55 2018', ' 20180129_EF7_8_wet_0040_0072.tiff                     |     Mon Jan 29 13:02:40 2018', ' 20180129_EF7_8_wet_0040_0073.tiff                     |     Mon Jan 29 13:03:25 2018', ' 20180129_EF7_8_wet_0040_0074.tiff                     |     Mon Jan 29 13:04:10 2018', ' 20180129_EF7_8_wet_0040_0075.tiff                     |     Mon Jan 29 13:04:55 2018', ' 20180129_EF7_8_wet_0040_0076.tiff                     |     Mon Jan 29 13:05:40 2018', ' 20180129_EF7_8_wet_0040_0077.tiff                     |     Mon Jan 29 13:06:24 2018', ' 20180129_EF7_8_wet_0040_0078.tiff                     |     Mon Jan 29 13:07:09 2018', ' 20180129_EF7_8_wet_0040_0079.tiff                     |     Mon Jan 29 13:07:54 2018', ' 20180129_EF7_8_wet_0040_0080.tiff                     |     Mon Jan 29 13:08:39 2018', ' 20180129_EF7_8_wet_0040_0081.tiff                     |     Mon Jan 29 13:09:24 2018', ' 20180129_EF7_8_wet_0040_0082.tiff                     |     Mon Jan 29 13:10:09 2018', ' 20180129_EF7_8_wet_0040_0083.tiff                     |     Mon Jan 29 13:10:54 2018', ' 20180129_EF7_8_wet_0040_0084.tiff                     |     Mon Jan 29 13:11:39 2018', ' 20180129_EF7_8_wet_0040_0085.tiff                     |     Mon Jan 29 13:12:24 2018', ' 20180129_EF7_8_wet_0040_0086.tiff                     |     Mon Jan 29 13:13:09 2018', ' 20180129_EF7_8_wet_0040_0087.tiff                     |     Mon Jan 29 13:13:53 2018', ' 20180129_EF7_8_wet_0040_0088.tiff                     |     Mon Jan 29 13:14:38 2018', ' 20180129_EF7_8_wet_0040_0089.tiff                     |     Mon Jan 29 13:15:23 2018', ' 20180129_EF7_8_wet_0040_0090.tiff                     |     Mon Jan 29 13:16:08 2018', ' 20180129_EF7_8_wet_0040_0091.tiff                     |     Mon Jan 29 13:16:53 2018', ' 20180129_EF7_8_wet_0040_0092.tiff                     |     Mon Jan 29 13:17:38 2018', ' 20180129_EF7_8_wet_0040_0093.tiff                     |     Mon Jan 29 13:18:23 2018', ' 20180129_EF7_8_wet_0040_0094.tiff                     |     Mon Jan 29 13:19:08 2018', ' 20180129_EF7_8_wet_0040_0095.tiff                     |     Mon Jan 29 13:19:53 2018', ' 20180129_EF7_8_wet_0040_0096.tiff                     |     Mon Jan 29 13:20:37 2018', ' 20180129_EF7_8_wet_0040_0097.tiff                     |     Mon Jan 29 13:21:22 2018', ' 20180129_EF7_8_wet_0040_0098.tiff                     |     Mon Jan 29 13:22:07 2018', ' 20180129_EF7_8_wet_0040_0099.tiff                     |     Mon Jan 29 13:22:52 2018', ' 20180129_EF7_8_wet_0040_0100.tiff                     |     Mon Jan 29 13:23:37 2018', ' 20180129_EF7_8_wet_0040_0101.tiff                     |     Mon Jan 29 13:24:22 2018', ' 20180129_EF7_8_wet_0040_0102.tiff                     |     Mon Jan 29 13:25:07 2018', ' 20180129_EF7_8_wet_0040_0103.tiff                     |     Mon Jan 29 13:25:52 2018', ' 20180129_EF7_8_wet_0040_0104.tiff                     |     Mon Jan 29 13:26:37 2018', ' 20180129_EF7_8_wet_0040_0105.tiff                     |     Mon Jan 29 13:27:22 2018', ' 20180129_EF7_8_wet_0040_0106.tiff                     |     Mon Jan 29 13:28:06 2018', ' 20180129_EF7_8_wet_0040_0107.tiff                     |     Mon Jan 29 13:28:51 2018', ' 20180129_EF7_8_wet_0040_0108.tiff                     |     Mon Jan 29 13:29:36 2018', ' 20180129_EF7_8_wet_0040_0109.tiff                     |     Mon Jan 29 13:30:21 2018', ' 20180129_EF7_8_wet_0040_0110.tiff                     |     Mon Jan 29 13:31:06 2018', ' 20180129_EF7_8_wet_0040_0111.tiff                     |     Mon Jan 29 13:31:51 2018', ' 20180129_EF7_8_wet_0040_0112.tiff                     |     Mon Jan 29 13:32:36 2018', ' 20180129_EF7_8_wet_0040_0113.tiff                     |     Mon Jan 29 13:33:21 2018', ' 20180129_EF7_8_wet_0040_0114.tiff                     |     Mon Jan 29 13:34:06 2018', ' 20180129_EF7_8_wet_0040_0115.tiff                     |     Mon Jan 29 13:34:51 2018', ' 20180129_EF7_8_wet_0040_0116.tiff                     |     Mon Jan 29 13:35:36 2018', ' 20180129_EF7_8_wet_0040_0117.tiff                     |     Mon Jan 29 13:36:20 2018', ' 20180129_EF7_8_wet_0040_0118.tiff                     |     Mon Jan 29 13:37:05 2018', ' 20180129_EF7_8_wet_0040_0119.tiff                     |     Mon Jan 29 13:37:50 2018', ' 20180129_EF7_8_wet_0040_0120.tiff                     |     Mon Jan 29 13:38:35 2018', ' 20180129_EF7_8_wet_0040_0121.tiff                     |     Mon Jan 29 13:39:20 2018', ' 20180129_EF7_8_wet_0040_0122.tiff                     |     Mon Jan 29 13:40:05 2018', ' 20180129_EF7_8_wet_0040_0123.tiff                     |     Mon Jan 29 13:40:50 2018', ' 20180129_EF7_8_wet_0040_0124.tiff                     |     Mon Jan 29 13:41:35 2018', ' 20180129_EF7_8_wet_0040_0125.tiff                     |     Mon Jan 29 13:42:20 2018', ' 20180129_EF7_8_wet_0040_0126.tiff                     |     Mon Jan 29 13:43:05 2018', ' 20180129_EF7_8_wet_0040_0127.tiff                     |     Mon Jan 29 13:43:50 2018', ' 20180129_EF7_8_wet_0040_0128.tiff                     |     Mon Jan 29 13:44:34 2018', ' 20180129_EF7_8_wet_0040_0129.tiff                     |     Mon Jan 29 13:45:19 2018', ' 20180129_EF7_8_wet_0040_0130.tiff                     |     Mon Jan 29 13:46:04 2018', ' 20180129_EF7_8_wet_0040_0131.tiff                     |     Mon Jan 29 13:46:49 2018', ' 20180129_EF7_8_wet_0040_0132.tiff                     |     Mon Jan 29 13:47:34 2018', ' 20180129_EF7_8_wet_0040_0133.tiff                     |     Mon Jan 29 13:48:19 2018', ' 20180129_EF7_8_wet_0040_0134.tiff                     |     Mon Jan 29 13:49:04 2018', ' 20180129_EF7_8_wet_0040_0135.tiff                     |     Mon Jan 29 13:49:49 2018', ' 20180129_EF7_8_wet_0040_0136.tiff                     |     Mon Jan 29 13:50:34 2018', ' 20180129_EF7_8_wet_0040_0137.tiff                     |     Mon Jan 29 13:51:19 2018', ' 20180129_EF7_8_wet_0040_0138.tiff                     |     Mon Jan 29 13:52:04 2018', ' 20180129_EF7_8_wet_0040_0139.tiff                     |     Mon Jan 29 13:52:49 2018', ' 20180129_EF7_8_wet_0040_0140.tiff                     |     Mon Jan 29 13:53:33 2018', ' 20180129_EF7_8_wet_0040_0141.tiff                     |     Mon Jan 29 13:54:18 2018', ' 20180129_EF7_8_wet_0040_0142.tiff                     |     Mon Jan 29 13:55:03 2018', ' 20180129_EF7_8_wet_0040_0143.tiff                     |     Mon Jan 29 13:55:48 2018', ' 20180129_EF7_8_wet_0040_0144.tiff                     |     Mon Jan 29 13:56:33 2018', ' 20180129_EF7_8_wet_0040_0145.tiff                     |     Mon Jan 29 13:57:18 2018', ' 20180129_EF7_8_wet_0040_0146.tiff                     |     Mon Jan 29 13:58:03 2018', ' 20180129_EF7_8_wet_0040_0147.tiff                     |     Mon Jan 29 13:58:48 2018', ' 20180129_EF7_8_wet_0040_0148.tiff                     |     Mon Jan 29 13:59:33 2018', ' 20180129_EF7_8_wet_0040_0149.tiff                     |     Mon Jan 29 14:00:18 2018', ' 20180129_EF7_8_wet_0040_0150.tiff                     |     Mon Jan 29 14:01:02 2018', ' 20180129_EF7_8_wet_0040_0151.tiff                     |     Mon Jan 29 14:01:47 2018', ' 20180129_EF7_8_wet_0040_0152.tiff                     |     Mon Jan 29 14:02:32 2018', ' 20180129_EF7_8_wet_0040_0153.tiff                     |     Mon Jan 29 14:03:17 2018', ' 20180129_EF7_8_wet_0040_0154.tiff                     |     Mon Jan 29 14:04:02 2018', ' 20180129_EF7_8_wet_0040_0155.tiff                     |     Mon Jan 29 14:04:47 2018', ' 20180129_EF7_8_wet_0040_0156.tiff                     |     Mon Jan 29 14:05:32 2018', ' 20180129_EF7_8_wet_0040_0157.tiff                     |     Mon Jan 29 14:06:17 2018', ' 20180129_EF7_8_wet_0040_0158.tiff                     |     Mon Jan 29 14:07:02 2018', ' 20180129_EF7_8_wet_0040_0159.tiff                     |     Mon Jan 29 14:07:47 2018', ' 20180129_EF7_8_wet_0040_0160.tiff                     |     Mon Jan 29 14:08:32 2018', ' 20180129_EF7_8_wet_0040_0161.tiff                     |     Mon Jan 29 14:09:16 2018', ' 20180129_EF7_8_wet_0040_0162.tiff                     |     Mon Jan 29 14:10:01 2018', ' 20180129_EF7_8_wet_0040_0163.tiff                     |     Mon Jan 29 14:10:46 2018', ' 20180129_EF7_8_wet_0040_0164.tiff                     |     Mon Jan 29 14:11:31 2018', ' 20180129_EF7_8_wet_0040_0165.tiff                     |     Mon Jan 29 14:12:16 2018', ' 20180129_EF7_8_wet_0040_0166.tiff                     |     Mon Jan 29 14:13:01 2018', ' 20180129_EF7_8_wet_0040_0167.tiff                     |     Mon Jan 29 14:13:46 2018', ' 20180129_EF7_8_wet_0040_0168.tiff                     |     Mon Jan 29 14:14:31 2018', ' 20180129_EF7_8_wet_0040_0169.tiff                     |     Mon Jan 29 14:15:16 2018', ' 20180129_EF7_8_wet_0040_0170.tiff                     |     Mon Jan 29 14:16:00 2018', ' 20180129_EF7_8_wet_0040_0171.tiff                     |     Mon Jan 29 14:16:45 2018', ' 20180129_EF7_8_wet_0040_0172.tiff                     |     Mon Jan 29 14:17:30 2018', ' 20180129_EF7_8_wet_0040_0173.tiff                     |     Mon Jan 29 14:18:15 2018', ' 20180129_EF7_8_wet_0040_0174.tiff                     |     Mon Jan 29 14:19:00 2018', ' 20180129_EF7_8_wet_0040_0175.tiff                     |     Mon Jan 29 14:19:45 2018', ' 20180129_EF7_8_wet_0040_0176.tiff                     |     Mon Jan 29 14:20:30 2018', ' 20180129_EF7_8_wet_0040_0177.tiff                     |     Mon Jan 29 14:21:15 2018', ' 20180129_EF7_8_wet_0040_0178.tiff                     |     Mon Jan 29 14:22:00 2018'), value=()), HBox(children=(Button(description='Enter directory', layout=Layout(margin='5px 40px'), style=ButtonStyle()), Button(description='Select', layout=Layout(margin='5px 40px'), style=ButtonStyle())))), layout=Layout(border='1px solid lightgrey', margin='5px', padding='10px'))))"
      ]
     },
     "metadata": {},
     "output_type": "display_data"
    },
    {
     "data": {
      "application/vnd.jupyter.widget-view+json": {
       "model_id": "62f5506c79b4421a9d2d96bb491db108",
       "version_major": 2,
       "version_minor": 0
      },
      "text/html": [
       "<p>Failed to display Jupyter Widget of type <code>HBox</code>.</p>\n",
       "<p>\n",
       "  If you're reading this message in the Jupyter Notebook or JupyterLab Notebook, it may mean\n",
       "  that the widgets JavaScript is still loading. If this message persists, it\n",
       "  likely means that the widgets JavaScript library is either not installed or\n",
       "  not enabled. See the <a href=\"https://ipywidgets.readthedocs.io/en/stable/user_install.html\">Jupyter\n",
       "  Widgets Documentation</a> for setup instructions.\n",
       "</p>\n",
       "<p>\n",
       "  If you're reading this message in another frontend (for example, a static\n",
       "  rendering on GitHub or <a href=\"https://nbviewer.jupyter.org/\">NBViewer</a>),\n",
       "  it may mean that your frontend doesn't currently support widgets.\n",
       "</p>\n"
      ],
      "text/plain": [
       "HBox(children=(Label(value='Retrieving Time Stamp', layout=Layout(width='20%')), IntProgress(value=0, layout=Layout(width='50%'), max=4)))"
      ]
     },
     "metadata": {},
     "output_type": "display_data"
    },
    {
     "data": {
      "application/vnd.jupyter.widget-view+json": {
       "model_id": "1c5f909855c848258f02b878fa2b3e5b",
       "version_major": 2,
       "version_minor": 0
      },
      "text/html": [
       "<p>Failed to display Jupyter Widget of type <code>HBox</code>.</p>\n",
       "<p>\n",
       "  If you're reading this message in the Jupyter Notebook or JupyterLab Notebook, it may mean\n",
       "  that the widgets JavaScript is still loading. If this message persists, it\n",
       "  likely means that the widgets JavaScript library is either not installed or\n",
       "  not enabled. See the <a href=\"https://ipywidgets.readthedocs.io/en/stable/user_install.html\">Jupyter\n",
       "  Widgets Documentation</a> for setup instructions.\n",
       "</p>\n",
       "<p>\n",
       "  If you're reading this message in another frontend (for example, a static\n",
       "  rendering on GitHub or <a href=\"https://nbviewer.jupyter.org/\">NBViewer</a>),\n",
       "  it may mean that your frontend doesn't currently support widgets.\n",
       "</p>\n"
      ],
      "text/plain": [
       "HBox(children=(Label(value='Loading sample', layout=Layout(width='20%')), IntProgress(value=0, max=4)))"
      ]
     },
     "metadata": {},
     "output_type": "display_data"
    }
   ],
   "source": [
    "o_water = WaterIntakeProfileCalculator(working_dir = system.System.get_working_dir())\n",
    "o_water.select_data()"
   ]
  },
  {
   "cell_type": "markdown",
   "metadata": {
    "run_control": {
     "frozen": false,
     "read_only": false
    }
   },
   "source": [
    "# Select Profile Region "
   ]
  },
  {
   "cell_type": "code",
   "execution_count": 6,
   "metadata": {
    "run_control": {
     "frozen": false,
     "read_only": false
    }
   },
   "outputs": [
    {
     "data": {
      "text/html": [
       "<span style=\"font-size: 20px; color:blue\">Check UI that poped up             (maybe hidden behind this browser!)</span>"
      ],
      "text/plain": [
       "<IPython.core.display.HTML object>"
      ]
     },
     "metadata": {},
     "output_type": "display_data"
    }
   ],
   "source": [
    "o_gui = WaterIntakeProfileSelector(dict_data=o_water.dict_files)\n",
    "o_gui.show()"
   ]
  },
  {
   "cell_type": "code",
   "execution_count": null,
   "metadata": {
    "run_control": {
     "frozen": false,
     "read_only": false
    }
   },
   "outputs": [],
   "source": []
  },
  {
   "cell_type": "code",
   "execution_count": null,
   "metadata": {
    "run_control": {
     "frozen": false,
     "read_only": false
    }
   },
   "outputs": [],
   "source": []
  },
  {
   "cell_type": "code",
   "execution_count": null,
   "metadata": {
    "run_control": {
     "frozen": false,
     "read_only": false
    }
   },
   "outputs": [],
   "source": []
  }
 ],
 "metadata": {
  "kernelspec": {
   "display_name": "Python 3",
   "language": "python",
   "name": "python3"
  },
  "language_info": {
   "codemirror_mode": {
    "name": "ipython",
    "version": 3
   },
   "file_extension": ".py",
   "mimetype": "text/x-python",
   "name": "python",
   "nbconvert_exporter": "python",
   "pygments_lexer": "ipython3",
   "version": "3.6.2"
  },
  "toc": {
   "colors": {
    "hover_highlight": "#DAA520",
    "running_highlight": "#FF0000",
    "selected_highlight": "#FFD700"
   },
   "moveMenuLeft": true,
   "nav_menu": {
    "height": "138px",
    "width": "252px"
   },
   "navigate_menu": true,
   "number_sections": true,
   "sideBar": true,
   "threshold": 4,
   "toc_cell": false,
   "toc_section_display": "block",
   "toc_window_display": false
  }
 },
 "nbformat": 4,
 "nbformat_minor": 2
}
