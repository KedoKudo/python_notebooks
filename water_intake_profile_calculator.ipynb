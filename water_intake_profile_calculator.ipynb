{
 "cells": [
  {
   "cell_type": "markdown",
   "metadata": {
    "run_control": {
     "frozen": false,
     "read_only": false
    }
   },
   "source": [
    "[![Notebook Tutorial](__code/__all/notebook_tutorial.png)](https://neutronimaging.pages.ornl.gov/en/tutorial/notebooks/water_intake_profile_calculator/)"
   ]
  },
  {
   "cell_type": "markdown",
   "metadata": {
    "run_control": {
     "frozen": false,
     "read_only": false
    }
   },
   "source": [
    "# Select your IPTS "
   ]
  },
  {
   "cell_type": "markdown",
   "metadata": {
    "run_control": {
     "frozen": false,
     "read_only": false
    }
   },
   "source": [
    "<img src='__docs/__all/shift_enter.gif' />"
   ]
  },
  {
   "cell_type": "code",
   "execution_count": 1,
   "metadata": {
    "run_control": {
     "frozen": false,
     "read_only": false
    }
   },
   "outputs": [
    {
     "name": "stdout",
     "output_type": "stream",
     "text": [
      "pyuic5 /Users/j35/git/IPTS/python_notebooks/ui/ui_water_intake_profile.ui -o /Users/j35/git/IPTS/python_notebooks/__code/ui_water_intake_profile.py\n",
      "** Using Debugging Mode! **\n"
     ]
    },
    {
     "data": {
      "application/vnd.jupyter.widget-view+json": {
       "model_id": "c5e4e962b72449c8a7aeb5341b9c09b0",
       "version_major": 2,
       "version_minor": 0
      },
      "text/html": [
       "<p>Failed to display Jupyter Widget of type <code>VBox</code>.</p>\n",
       "<p>\n",
       "  If you're reading this message in Jupyter Notebook or JupyterLab, it may mean\n",
       "  that the widgets JavaScript is still loading. If this message persists, it\n",
       "  likely means that the widgets JavaScript library is either not installed or\n",
       "  not enabled. See the <a href=\"https://ipywidgets.readthedocs.io/en/stable/user_install.html\">Jupyter\n",
       "  Widgets Documentation</a> for setup instructions.\n",
       "</p>\n",
       "<p>\n",
       "  If you're reading this message in another notebook frontend (for example, a static\n",
       "  rendering on GitHub or <a href=\"https://nbviewer.jupyter.org/\">NBViewer</a>),\n",
       "  it may mean that your frontend doesn't currently support widgets.\n",
       "</p>\n"
      ],
      "text/plain": [
       "VBox(children=(HBox(children=(Label(value='IPTS-'), Text(value='', layout=Layout(width='10%')), Label(value='DOES NOT EXIST!', layout=Layout(width='20%'), _dom_classes=('result_label',)))), Label(value='OR'), HBox(children=(Label(value='Select Folder', layout=Layout(width='20%')), Select(layout=Layout(height='300px'), options=('BraggEdge', 'Brianne', 'DOE_letters', 'FITSimages', 'IPTS-12534', 'IPTS-13639_resonance_shawn', 'IPTS-14832', 'IPTS-15177', 'IPTS-16212', 'IPTS-16259', 'IPTS-16475', 'IPTS-16893', 'IPTS-17099', 'IPTS-17685', 'IPTS-17981', 'IPTS-18580', 'IPTS-18806', 'IPTS-18813', 'IPTS-19037', 'IPTS-19558', 'IPTS-19621', 'IPTS-19626', 'IPTS-20209-TOPAZ', 'IPTS_test_normalization', 'IPTS_testing_time_spectra', 'ImagesToRegisterForGian', 'Indu', 'Keita_code', 'Pour_ibeatles_video', 'ResonanceImaging', 'SENSITIVE', 'SarmaGUI', 'SphereCoordinates3D', 'TempData', 'gian', 'iBeatles_debugging', 'shared'), value='BraggEdge'))), Button(button_style='info', description='HELP', style=ButtonStyle())))"
      ]
     },
     "metadata": {},
     "output_type": "display_data"
    },
    {
     "data": {
      "text/html": [
       "<style>\n",
       "\n",
       "/* The following CSS has been adapted from\n",
       "   http://nbviewer.ipython.org/github/ketch/teaching-numerics-with-notebooks/blob/master/Styling_notebooks.ipynb\n",
       "   by Aron Ahmadia and David Ketcheson and has been reused under CC BY 4.0\n",
       "   */\n",
       "\n",
       "/* main background */\n",
       "#site { \n",
       "    background: #888;\n",
       "    color: #red; \n",
       "}\n",
       "\n",
       "div.container {\n",
       "    width: 100% ! important;\n",
       "}\n",
       "\n",
       "div.cell { /* set cell width to about 80 chars */\n",
       "    width: 95%;\n",
       "}\n",
       "\n",
       "div #notebook { /* centre the content */\n",
       "/*    background: #fff; /* white background for content */\n",
       "    background: blue;\n",
       "    width: 100%;\n",
       "    margin: auto;\n",
       "    padding-left: 1em;\n",
       "    padding-right: 1em;\n",
       "    background-image: url(\"tile_background.jpg\");\n",
       "}\n",
       "\n",
       "#notebook li { /* More space between bullet points */\n",
       "    margin-top:0.4em;\n",
       "}\n",
       "\n",
       "/* change background color of running cells */\n",
       "div.cell.code_cell.running {\n",
       "/*    background-color: rgba(164,188,194,.75); */\n",
       "    background-color: green;\n",
       "    border-width: 8px\n",
       "    border-style: solid\n",
       "    border-color: #111;\n",
       "}\n",
       "\n",
       "/* Put a solid color box around each cell and its output, visually linking them together */\n",
       "div.cell.code_cell {\n",
       "    background-color: rgba(164,188,194,.25); /* Continuum L Gray with alpha 0.25 */\n",
       "    border-radius: 10px; /* rounded borders */\n",
       "    padding: 1em;\n",
       "    margin-top: 1em;\n",
       "}\n",
       "\n",
       "div.text_cell_render{\n",
       "\tfont-family: Georgia, Times, 'Times New Roman', serif;\n",
       "    line-height: 110%;\n",
       "    font-size: 105%;\n",
       "    width: 95%;\n",
       "    margin-left: auto;\n",
       "    margin-right: auto;\n",
       "}\n",
       "\n",
       "\n",
       "/* Formatting for header cells */\n",
       ".text_cell_render h1 {\n",
       "\tfont-family: Arial, 'Helvetica Neue', Helvetica, sans-serif;\n",
       "    font-weight: 400;\n",
       "    font-size: 30pt;\n",
       "    line-height: 100%;\n",
       "    color: rgb(37,55,70); /* Continuum Blue*/\n",
       "    margin-bottom: 0.1em;\n",
       "    margin-top: 0.1em;\n",
       "    display: block;\n",
       "}\n",
       ".text_cell_render h2 {\n",
       "\tfont-family: Arial, 'Helvetica Neue', Helvetica, sans-serif;\n",
       "    font-weight: 700;\n",
       "    font-size: 22pt;\n",
       "    line-height: 100%;\n",
       "    color: rgb(37,55,70);\n",
       "    margin-bottom: 0.1em;\n",
       "    margin-top: 0.1em;\n",
       "    display: block;\n",
       "}\n",
       "\n",
       ".text_cell_render h3 {\n",
       "\tfont-family: Arial, 'Helvetica Neue', Helvetica, sans-serif;\n",
       "    margin-top:12px;\n",
       "    margin-bottom: 3px;\n",
       "    font-style: italic;\n",
       "    color: rgb(37, 55, 70);\n",
       "}\n",
       "\n",
       ".text_cell_render h4 {\n",
       "\tfont-family: Arial, 'Helvetica Neue', Helvetica, sans-serif;\n",
       "}\n",
       "\n",
       ".text_cell_render h5 {\n",
       "\tfont-family: Arial, 'Helvetica Neue', Helvetica, sans-serif;\n",
       "    font-weight: 300;\n",
       "    font-size: 14pt;\n",
       "    font-style: italic;\n",
       "    margin-bottom: .1em;\n",
       "    margin-top: 0.1em;\n",
       "    display: block;\n",
       "}\n",
       "\n",
       ".text_cell_render h6 {\n",
       "\tfont-family: Arial, 'Helvetica Neue', Helvetica, sans-serif;\n",
       "    font-weight: 300;\n",
       "    font-size: 10pt;\n",
       "    margin-bottom: 1px;\n",
       "    margin-top: 1px;\n",
       "}\n",
       "\n",
       ".CodeMirror{\n",
       "        font-family: \"PT Mono\", fixed;\n",
       "        font-size: 100%;\n",
       "}\n",
       "\n",
       "#notebook_panel { /* main background */\n",
       "    background-image: url(\"tile_background.jpg\");\n",
       "}\n",
       "\n",
       "\n",
       "\n",
       "\n",
       "</style>\n"
      ],
      "text/plain": [
       "<IPython.core.display.HTML object>"
      ]
     },
     "execution_count": 1,
     "metadata": {},
     "output_type": "execute_result"
    }
   ],
   "source": [
    "from __code import system\n",
    "from __code.water_intake_profile_calculator import WaterIntakeProfileCalculator, WaterIntakeProfileSelector\n",
    "\n",
    "from __code.ui_builder import UiBuilder\n",
    "o_builder = UiBuilder(ui_name = 'ui_water_intake_profile.ui')\n",
    "from __code.roi_selection_ui import Interface\n",
    "\n",
    "system.System.select_working_dir()\n",
    "from __code.__all import custom_style\n",
    "custom_style.style()"
   ]
  },
  {
   "cell_type": "markdown",
   "metadata": {
    "run_control": {
     "frozen": false,
     "read_only": false
    }
   },
   "source": [
    "# Description "
   ]
  },
  {
   "cell_type": "markdown",
   "metadata": {
    "run_control": {
     "frozen": false,
     "read_only": false
    }
   },
   "source": [
    "This notebook will calculate the water intake profile vs time of a sample.\n",
    "\n",
    "Here are the steps (**bold** for user input/manipulation)\n",
    " * **select the normalized images**\n",
    " * images sorted by time\n",
    " * **region of interest seleted**\n",
    " * profile of counts vs vertical-pixel calculated (**select integrated algorithm: mean/median/sum**)\n",
    " * water intake profile vs file index or vs time\n",
    " * **export profiles**"
   ]
  },
  {
   "cell_type": "markdown",
   "metadata": {
    "run_control": {
     "frozen": false,
     "read_only": false
    }
   },
   "source": [
    "# Python Import "
   ]
  },
  {
   "cell_type": "code",
   "execution_count": 2,
   "metadata": {
    "run_control": {
     "frozen": false,
     "read_only": false
    }
   },
   "outputs": [],
   "source": [
    "%gui qt"
   ]
  },
  {
   "cell_type": "code",
   "execution_count": 3,
   "metadata": {
    "run_control": {
     "frozen": false,
     "read_only": false
    }
   },
   "outputs": [],
   "source": [
    "import matplotlib.pyplot as plt\n",
    "import matplotlib.gridspec as gridspec\n",
    "from ipywidgets.widgets import interact\n",
    "import numpy as np\n",
    "import os\n",
    "import ipywe.fileselector\n",
    "from ipywidgets import widgets\n",
    "from IPython.core.display import display, HTML\n",
    "import pytz\n",
    "import datetime\n",
    "\n",
    "from NeuNorm.normalization import Normalization\n",
    "\n",
    "from __code.metadata_handler import MetadataHandler\n",
    "from __code import file_handler\n"
   ]
  },
  {
   "cell_type": "markdown",
   "metadata": {
    "run_control": {
     "frozen": false,
     "read_only": false
    }
   },
   "source": [
    "# Select Images to Process"
   ]
  },
  {
   "cell_type": "code",
   "execution_count": 4,
   "metadata": {
    "run_control": {
     "frozen": false,
     "read_only": false
    },
    "scrolled": false
   },
   "outputs": [
    {
     "data": {
      "application/vnd.jupyter.widget-view+json": {
       "model_id": "f6fde6ead023461587d19d7048d9e24a",
       "version_major": 2,
       "version_minor": 0
      },
      "text/html": [
       "<p>Failed to display Jupyter Widget of type <code>Button</code>.</p>\n",
       "<p>\n",
       "  If you're reading this message in Jupyter Notebook or JupyterLab, it may mean\n",
       "  that the widgets JavaScript is still loading. If this message persists, it\n",
       "  likely means that the widgets JavaScript library is either not installed or\n",
       "  not enabled. See the <a href=\"https://ipywidgets.readthedocs.io/en/stable/user_install.html\">Jupyter\n",
       "  Widgets Documentation</a> for setup instructions.\n",
       "</p>\n",
       "<p>\n",
       "  If you're reading this message in another notebook frontend (for example, a static\n",
       "  rendering on GitHub or <a href=\"https://nbviewer.jupyter.org/\">NBViewer</a>),\n",
       "  it may mean that your frontend doesn't currently support widgets.\n",
       "</p>\n"
      ],
      "text/plain": [
       "Button(button_style='info', description='HELP', style=ButtonStyle())"
      ]
     },
     "metadata": {},
     "output_type": "display_data"
    },
    {
     "data": {
      "application/vnd.jupyter.widget-view+json": {
       "model_id": "7f7b105572ad49ad8b883b1eeff64173",
       "version_major": 2,
       "version_minor": 0
      },
      "text/html": [
       "<p>Failed to display Jupyter Widget of type <code>HTML</code>.</p>\n",
       "<p>\n",
       "  If you're reading this message in Jupyter Notebook or JupyterLab, it may mean\n",
       "  that the widgets JavaScript is still loading. If this message persists, it\n",
       "  likely means that the widgets JavaScript library is either not installed or\n",
       "  not enabled. See the <a href=\"https://ipywidgets.readthedocs.io/en/stable/user_install.html\">Jupyter\n",
       "  Widgets Documentation</a> for setup instructions.\n",
       "</p>\n",
       "<p>\n",
       "  If you're reading this message in another notebook frontend (for example, a static\n",
       "  rendering on GitHub or <a href=\"https://nbviewer.jupyter.org/\">NBViewer</a>),\n",
       "  it may mean that your frontend doesn't currently support widgets.\n",
       "</p>\n"
      ],
      "text/plain": [
       "HTML(value='Please wait...')"
      ]
     },
     "metadata": {},
     "output_type": "display_data"
    },
    {
     "data": {
      "text/html": [
       "\n",
       "        <style type=\"text/css\">\n",
       "        .jupyter-widgets select option {font-family: \"Lucida Console\", Monaco, monospace;}\n",
       "        div.output_subarea {padding: 0px;}\n",
       "        div.output_subarea > div {margin: 0.4em;}\n",
       "        </style>\n",
       "        "
      ],
      "text/plain": [
       "<IPython.core.display.HTML object>"
      ]
     },
     "metadata": {},
     "output_type": "display_data"
    },
    {
     "data": {
      "application/vnd.jupyter.widget-view+json": {
       "model_id": "eb63a91076f24b6cb69a6a9066f44100",
       "version_major": 2,
       "version_minor": 0
      },
      "text/html": [
       "<p>Failed to display Jupyter Widget of type <code>VBox</code>.</p>\n",
       "<p>\n",
       "  If you're reading this message in Jupyter Notebook or JupyterLab, it may mean\n",
       "  that the widgets JavaScript is still loading. If this message persists, it\n",
       "  likely means that the widgets JavaScript library is either not installed or\n",
       "  not enabled. See the <a href=\"https://ipywidgets.readthedocs.io/en/stable/user_install.html\">Jupyter\n",
       "  Widgets Documentation</a> for setup instructions.\n",
       "</p>\n",
       "<p>\n",
       "  If you're reading this message in another notebook frontend (for example, a static\n",
       "  rendering on GitHub or <a href=\"https://nbviewer.jupyter.org/\">NBViewer</a>),\n",
       "  it may mean that your frontend doesn't currently support widgets.\n",
       "</p>\n"
      ],
      "text/plain": [
       "VBox(children=(Label(value='Select Images ...', layout=Layout(width='250px')), HBox(children=(HBox(children=(Text(value='/Volumes/my_book_thunderbolt_duo/IPTS/IPTS-15177', description='Location: ', layout=Layout(width='300px'), placeholder=''), Button(description='Jump', layout=Layout(margin='5px 10px', width='100px'), style=ButtonStyle())), layout=Layout(border='1px solid lightgrey', margin='5px 50px 5px 5px', padding='3px')),)), VBox(children=(SelectMultiple(description='Select', layout=Layout(display='flex', flex_flow='column', width='750px'), options=(' .', ' ..', ' .DS_Store                        |     Fri Feb 16 13:17:17 2018', ' Sample5_1min_files               |     Directory', ' Sample5_uptake_no bad images     |     Directory'), value=()), HBox(children=(Button(description='Enter directory', layout=Layout(margin='5px 40px'), style=ButtonStyle()), Button(description='Select', layout=Layout(margin='5px 40px'), style=ButtonStyle())))), layout=Layout(border='1px solid lightgrey', margin='5px', padding='10px'))))"
      ]
     },
     "metadata": {},
     "output_type": "display_data"
    },
    {
     "data": {
      "application/vnd.jupyter.widget-view+json": {
       "model_id": "129b65fd8b3b4f55b7cc9b043303adb7",
       "version_major": 2,
       "version_minor": 0
      },
      "text/html": [
       "<p>Failed to display Jupyter Widget of type <code>HTML</code>.</p>\n",
       "<p>\n",
       "  If you're reading this message in Jupyter Notebook or JupyterLab, it may mean\n",
       "  that the widgets JavaScript is still loading. If this message persists, it\n",
       "  likely means that the widgets JavaScript library is either not installed or\n",
       "  not enabled. See the <a href=\"https://ipywidgets.readthedocs.io/en/stable/user_install.html\">Jupyter\n",
       "  Widgets Documentation</a> for setup instructions.\n",
       "</p>\n",
       "<p>\n",
       "  If you're reading this message in another notebook frontend (for example, a static\n",
       "  rendering on GitHub or <a href=\"https://nbviewer.jupyter.org/\">NBViewer</a>),\n",
       "  it may mean that your frontend doesn't currently support widgets.\n",
       "</p>\n"
      ],
      "text/plain": [
       "HTML(value='Please wait...')"
      ]
     },
     "metadata": {},
     "output_type": "display_data"
    },
    {
     "data": {
      "text/html": [
       "\n",
       "        <style type=\"text/css\">\n",
       "        .jupyter-widgets select option {font-family: \"Lucida Console\", Monaco, monospace;}\n",
       "        div.output_subarea {padding: 0px;}\n",
       "        div.output_subarea > div {margin: 0.4em;}\n",
       "        </style>\n",
       "        "
      ],
      "text/plain": [
       "<IPython.core.display.HTML object>"
      ]
     },
     "metadata": {},
     "output_type": "display_data"
    },
    {
     "data": {
      "application/vnd.jupyter.widget-view+json": {
       "model_id": "c834321cced0452c98d9e645f0a6e8c8",
       "version_major": 2,
       "version_minor": 0
      },
      "text/html": [
       "<p>Failed to display Jupyter Widget of type <code>VBox</code>.</p>\n",
       "<p>\n",
       "  If you're reading this message in Jupyter Notebook or JupyterLab, it may mean\n",
       "  that the widgets JavaScript is still loading. If this message persists, it\n",
       "  likely means that the widgets JavaScript library is either not installed or\n",
       "  not enabled. See the <a href=\"https://ipywidgets.readthedocs.io/en/stable/user_install.html\">Jupyter\n",
       "  Widgets Documentation</a> for setup instructions.\n",
       "</p>\n",
       "<p>\n",
       "  If you're reading this message in another notebook frontend (for example, a static\n",
       "  rendering on GitHub or <a href=\"https://nbviewer.jupyter.org/\">NBViewer</a>),\n",
       "  it may mean that your frontend doesn't currently support widgets.\n",
       "</p>\n"
      ],
      "text/plain": [
       "VBox(children=(Label(value='Select Images ...', layout=Layout(width='250px')), HBox(children=(HBox(children=(Text(value='/Volumes/my_book_thunderbolt_duo/IPTS/IPTS-15177/Sample5_uptake_no bad images', description='Location: ', layout=Layout(width='300px'), placeholder=''), Button(description='Jump', layout=Layout(margin='5px 10px', width='100px'), style=ButtonStyle())), layout=Layout(border='1px solid lightgrey', margin='5px 50px 5px 5px', padding='3px')),)), VBox(children=(SelectMultiple(description='Select', layout=Layout(display='flex', flex_flow='column', width='750px'), options=(' .', ' ..', ' Sample5_1min_r_0.tif      |     Sun Mar 13 08:37:12 2016', ' Sample5_1min_r_1.tif      |     Sun Mar 13 08:37:12 2016', ' Sample5_1min_r_10.tif     |     Sun Mar 13 08:37:12 2016', ' Sample5_1min_r_11.tif     |     Sun Mar 13 08:37:12 2016', ' Sample5_1min_r_12.tif     |     Sun Mar 13 08:37:12 2016', ' Sample5_1min_r_13.tif     |     Sun Mar 13 08:37:12 2016', ' Sample5_1min_r_14.tif     |     Sun Mar 13 08:37:12 2016', ' Sample5_1min_r_15.tif     |     Sun Mar 13 08:37:12 2016', ' Sample5_1min_r_16.tif     |     Sun Mar 13 08:37:12 2016', ' Sample5_1min_r_17.tif     |     Sun Mar 13 08:37:12 2016', ' Sample5_1min_r_18.tif     |     Sun Mar 13 08:37:12 2016', ' Sample5_1min_r_19.tif     |     Sun Mar 13 08:37:12 2016', ' Sample5_1min_r_2.tif      |     Sun Mar 13 08:37:12 2016', ' Sample5_1min_r_20.tif     |     Sun Mar 13 08:37:12 2016', ' Sample5_1min_r_21.tif     |     Sun Mar 13 08:37:12 2016', ' Sample5_1min_r_22.tif     |     Sun Mar 13 08:37:12 2016', ' Sample5_1min_r_23.tif     |     Sun Mar 13 08:37:12 2016', ' Sample5_1min_r_24.tif     |     Sun Mar 13 08:37:12 2016', ' Sample5_1min_r_25.tif     |     Sun Mar 13 08:37:12 2016', ' Sample5_1min_r_26.tif     |     Sun Mar 13 08:37:12 2016', ' Sample5_1min_r_27.tif     |     Sun Mar 13 08:37:12 2016', ' Sample5_1min_r_28.tif     |     Sun Mar 13 08:37:12 2016', ' Sample5_1min_r_29.tif     |     Sun Mar 13 08:37:12 2016', ' Sample5_1min_r_3.tif      |     Sun Mar 13 08:37:12 2016', ' Sample5_1min_r_30.tif     |     Sun Mar 13 08:37:12 2016', ' Sample5_1min_r_31.tif     |     Sun Mar 13 08:37:12 2016', ' Sample5_1min_r_32.tif     |     Sun Mar 13 08:37:12 2016', ' Sample5_1min_r_33.tif     |     Sun Mar 13 08:37:12 2016', ' Sample5_1min_r_34.tif     |     Sun Mar 13 08:37:12 2016', ' Sample5_1min_r_35.tif     |     Sun Mar 13 08:37:12 2016', ' Sample5_1min_r_36.tif     |     Sun Mar 13 08:37:12 2016', ' Sample5_1min_r_37.tif     |     Sun Mar 13 08:37:12 2016', ' Sample5_1min_r_38.tif     |     Sun Mar 13 08:37:12 2016', ' Sample5_1min_r_39.tif     |     Sun Mar 13 08:37:12 2016', ' Sample5_1min_r_4.tif      |     Sun Mar 13 08:37:12 2016', ' Sample5_1min_r_40.tif     |     Sun Mar 13 08:37:12 2016', ' Sample5_1min_r_41.tif     |     Sun Mar 13 08:37:12 2016', ' Sample5_1min_r_42.tif     |     Sun Mar 13 08:37:12 2016', ' Sample5_1min_r_43.tif     |     Sun Mar 13 08:37:12 2016', ' Sample5_1min_r_44.tif     |     Sun Mar 13 08:37:12 2016', ' Sample5_1min_r_45.tif     |     Sun Mar 13 08:37:12 2016', ' Sample5_1min_r_46.tif     |     Sun Mar 13 08:37:12 2016', ' Sample5_1min_r_47.tif     |     Sun Mar 13 08:37:12 2016', ' Sample5_1min_r_48.tif     |     Sun Mar 13 08:37:12 2016', ' Sample5_1min_r_49.tif     |     Sun Mar 13 08:37:12 2016', ' Sample5_1min_r_5.tif      |     Sun Mar 13 08:37:12 2016', ' Sample5_1min_r_50.tif     |     Sun Mar 13 08:37:12 2016', ' Sample5_1min_r_51.tif     |     Sun Mar 13 08:37:12 2016', ' Sample5_1min_r_52.tif     |     Sun Mar 13 08:37:12 2016', ' Sample5_1min_r_53.tif     |     Sun Mar 13 08:37:12 2016', ' Sample5_1min_r_54.tif     |     Sun Mar 13 08:37:12 2016', ' Sample5_1min_r_55.tif     |     Sun Mar 13 08:37:12 2016', ' Sample5_1min_r_6.tif      |     Sun Mar 13 08:37:12 2016', ' Sample5_1min_r_7.tif      |     Sun Mar 13 08:37:12 2016', ' Sample5_1min_r_8.tif      |     Sun Mar 13 08:37:12 2016', ' Sample5_1min_r_9.tif      |     Sun Mar 13 08:37:12 2016'), value=()), HBox(children=(Button(description='Enter directory', layout=Layout(margin='5px 40px'), style=ButtonStyle()), Button(description='Select', layout=Layout(margin='5px 40px'), style=ButtonStyle())))), layout=Layout(border='1px solid lightgrey', margin='5px', padding='10px'))))"
      ]
     },
     "metadata": {},
     "output_type": "display_data"
    },
    {
     "data": {
      "application/vnd.jupyter.widget-view+json": {
       "model_id": "8876480efd3c43b4ac4c7a99fe701c24",
       "version_major": 2,
       "version_minor": 0
      },
      "text/html": [
       "<p>Failed to display Jupyter Widget of type <code>HBox</code>.</p>\n",
       "<p>\n",
       "  If you're reading this message in Jupyter Notebook or JupyterLab, it may mean\n",
       "  that the widgets JavaScript is still loading. If this message persists, it\n",
       "  likely means that the widgets JavaScript library is either not installed or\n",
       "  not enabled. See the <a href=\"https://ipywidgets.readthedocs.io/en/stable/user_install.html\">Jupyter\n",
       "  Widgets Documentation</a> for setup instructions.\n",
       "</p>\n",
       "<p>\n",
       "  If you're reading this message in another notebook frontend (for example, a static\n",
       "  rendering on GitHub or <a href=\"https://nbviewer.jupyter.org/\">NBViewer</a>),\n",
       "  it may mean that your frontend doesn't currently support widgets.\n",
       "</p>\n"
      ],
      "text/plain": [
       "HBox(children=(Label(value='Retrieving Time Stamp', layout=Layout(width='20%')), IntProgress(value=0, layout=Layout(width='50%'), max=56)))"
      ]
     },
     "metadata": {},
     "output_type": "display_data"
    },
    {
     "data": {
      "application/vnd.jupyter.widget-view+json": {
       "model_id": "f7be2b45ddc44f9493bb748dfe698aff",
       "version_major": 2,
       "version_minor": 0
      },
      "text/html": [
       "<p>Failed to display Jupyter Widget of type <code>HBox</code>.</p>\n",
       "<p>\n",
       "  If you're reading this message in Jupyter Notebook or JupyterLab, it may mean\n",
       "  that the widgets JavaScript is still loading. If this message persists, it\n",
       "  likely means that the widgets JavaScript library is either not installed or\n",
       "  not enabled. See the <a href=\"https://ipywidgets.readthedocs.io/en/stable/user_install.html\">Jupyter\n",
       "  Widgets Documentation</a> for setup instructions.\n",
       "</p>\n",
       "<p>\n",
       "  If you're reading this message in another notebook frontend (for example, a static\n",
       "  rendering on GitHub or <a href=\"https://nbviewer.jupyter.org/\">NBViewer</a>),\n",
       "  it may mean that your frontend doesn't currently support widgets.\n",
       "</p>\n"
      ],
      "text/plain": [
       "HBox(children=(Label(value='Loading sample', layout=Layout(width='20%')), IntProgress(value=0, max=56)))"
      ]
     },
     "metadata": {},
     "output_type": "display_data"
    }
   ],
   "source": [
    "o_water = WaterIntakeProfileCalculator(working_dir = system.System.get_working_dir())\n",
    "o_water.select_data()"
   ]
  },
  {
   "cell_type": "markdown",
   "metadata": {
    "run_control": {
     "frozen": false,
     "read_only": false
    }
   },
   "source": [
    "# Select Profile Region "
   ]
  },
  {
   "cell_type": "code",
   "execution_count": 5,
   "metadata": {
    "run_control": {
     "frozen": false,
     "read_only": false
    },
    "scrolled": false
   },
   "outputs": [
    {
     "data": {
      "text/html": [
       "<span style=\"font-size: 20px; color:blue\">Check UI that poped up             (maybe hidden behind this browser!)</span>"
      ],
      "text/plain": [
       "<IPython.core.display.HTML object>"
      ]
     },
     "metadata": {},
     "output_type": "display_data"
    },
    {
     "name": "stderr",
     "output_type": "stream",
     "text": [
      "/Users/j35/git/IPTS/python_notebooks/__code/water_intake_profile_calculator.py:569: RuntimeWarning: invalid value encountered in greater\n",
      "  _result_range = np.where(image > range_max)\n"
     ]
    }
   ],
   "source": [
    "o_gui = WaterIntakeProfileSelector(dict_data=o_water.dict_files)\n",
    "o_gui.show()"
   ]
  },
  {
   "cell_type": "markdown",
   "metadata": {
    "run_control": {
     "frozen": false,
     "read_only": false
    }
   },
   "source": [
    "# DEBUGGING FROM HERE "
   ]
  },
  {
   "cell_type": "code",
   "execution_count": 1,
   "metadata": {
    "collapsed": true,
    "run_control": {
     "marked": true
    }
   },
   "outputs": [],
   "source": [
    "path = '/Volumes/my_book_thunderbolt_duo/IPTS/IPTS-15177/Sample5_1min_files'\n",
    "\n",
    "import glob\n",
    "list_dsc = glob.glob(os.path.join(path,\"*.dsc\"))\n",
    "\n",
    "import pandas as pd\n",
    "import re\n",
    "from __code.file_handler import read_ascii"
   ]
  },
  {
   "cell_type": "code",
   "execution_count": 2,
   "metadata": {},
   "outputs": [],
   "source": [
    "from __code.file_format_reader import DscReader\n",
    "                \n",
    "o_dsc_reader = DscReader(list_files=list_dsc)\n",
    "o_dsc_reader.read()        \n",
    "o_dsc_reader.build_coresponding_file_image_name()\n",
    "o_dsc_reader.make_tif_file_name_the_key()        "
   ]
  },
  {
   "cell_type": "code",
   "execution_count": 3,
   "metadata": {},
   "outputs": [
    {
     "data": {
      "text/plain": [
       "defaultdict(<function __code.file_format_reader.DscReader.make_tif_file_name_the_key.<locals>.<lambda>>,\n",
       "            {'Sample5_1min_r_0.tif': {'time_stamp': '1457822574.770619 ',\n",
       "              'time_stamp_user_format': 'Sat Mar 12 17:42:54.770619 2016'},\n",
       "             'Sample5_1min_r_1.tif': {'time_stamp': '1457822692.071957 ',\n",
       "              'time_stamp_user_format': 'Sat Mar 12 17:44:52.071957 2016'},\n",
       "             'Sample5_1min_r_10.tif': {'time_stamp': '1457823745.551312 ',\n",
       "              'time_stamp_user_format': 'Sat Mar 12 18:02:25.551311 2016'},\n",
       "             'Sample5_1min_r_100.tif': {'time_stamp': '1457835691.923159 ',\n",
       "              'time_stamp_user_format': 'Sat Mar 12 21:21:31.923159 2016'},\n",
       "             'Sample5_1min_r_101.tif': {'time_stamp': '1457835841.316047 ',\n",
       "              'time_stamp_user_format': 'Sat Mar 12 21:24:01.316047 2016'},\n",
       "             'Sample5_1min_r_102.tif': {'time_stamp': '1457835990.701670 ',\n",
       "              'time_stamp_user_format': 'Sat Mar 12 21:26:30.701669 2016'},\n",
       "             'Sample5_1min_r_103.tif': {'time_stamp': '1457836140.121050 ',\n",
       "              'time_stamp_user_format': 'Sat Mar 12 21:29:00.121049 2016'},\n",
       "             'Sample5_1min_r_104.tif': {'time_stamp': '1457836289.225446 ',\n",
       "              'time_stamp_user_format': 'Sat Mar 12 21:31:29.225445 2016'},\n",
       "             'Sample5_1min_r_105.tif': {'time_stamp': '1457836438.811766 ',\n",
       "              'time_stamp_user_format': 'Sat Mar 12 21:33:58.811765 2016'},\n",
       "             'Sample5_1min_r_106.tif': {'time_stamp': '1457836588.301984 ',\n",
       "              'time_stamp_user_format': 'Sat Mar 12 21:36:28.301983 2016'},\n",
       "             'Sample5_1min_r_107.tif': {'time_stamp': '1457836737.776664 ',\n",
       "              'time_stamp_user_format': 'Sat Mar 12 21:38:57.776663 2016'},\n",
       "             'Sample5_1min_r_108.tif': {'time_stamp': '1457836886.878740 ',\n",
       "              'time_stamp_user_format': 'Sat Mar 12 21:41:26.878739 2016'},\n",
       "             'Sample5_1min_r_109.tif': {'time_stamp': '1457837036.309873 ',\n",
       "              'time_stamp_user_format': 'Sat Mar 12 21:43:56.309873 2016'},\n",
       "             'Sample5_1min_r_11.tif': {'time_stamp': '1457823862.918711 ',\n",
       "              'time_stamp_user_format': 'Sat Mar 12 18:04:22.918711 2016'},\n",
       "             'Sample5_1min_r_110.tif': {'time_stamp': '1457837185.794340 ',\n",
       "              'time_stamp_user_format': 'Sat Mar 12 21:46:25.794340 2016'},\n",
       "             'Sample5_1min_r_111.tif': {'time_stamp': '1457837335.376926 ',\n",
       "              'time_stamp_user_format': 'Sat Mar 12 21:48:55.376926 2016'},\n",
       "             'Sample5_1min_r_112.tif': {'time_stamp': '1457837484.359602 ',\n",
       "              'time_stamp_user_format': 'Sat Mar 12 21:51:24.359601 2016'},\n",
       "             'Sample5_1min_r_113.tif': {'time_stamp': '1457837633.854591 ',\n",
       "              'time_stamp_user_format': 'Sat Mar 12 21:53:53.854590 2016'},\n",
       "             'Sample5_1min_r_114.tif': {'time_stamp': '1457837783.314581 ',\n",
       "              'time_stamp_user_format': 'Sat Mar 12 21:56:23.314580 2016'},\n",
       "             'Sample5_1min_r_115.tif': {'time_stamp': '1457837932.879895 ',\n",
       "              'time_stamp_user_format': 'Sat Mar 12 21:58:52.879895 2016'},\n",
       "             'Sample5_1min_r_116.tif': {'time_stamp': '1457838081.974684 ',\n",
       "              'time_stamp_user_format': 'Sat Mar 12 22:01:21.974683 2016'},\n",
       "             'Sample5_1min_r_117.tif': {'time_stamp': '1457838231.491945 ',\n",
       "              'time_stamp_user_format': 'Sat Mar 12 22:03:51.491945 2016'},\n",
       "             'Sample5_1min_r_118.tif': {'time_stamp': '1457838380.944501 ',\n",
       "              'time_stamp_user_format': 'Sat Mar 12 22:06:20.944501 2016'},\n",
       "             'Sample5_1min_r_119.tif': {'time_stamp': '1457838530.438141 ',\n",
       "              'time_stamp_user_format': 'Sat Mar 12 22:08:50.438141 2016'},\n",
       "             'Sample5_1min_r_12.tif': {'time_stamp': '1457823980.222096 ',\n",
       "              'time_stamp_user_format': 'Sat Mar 12 18:06:20.222096 2016'},\n",
       "             'Sample5_1min_r_120.tif': {'time_stamp': '1457838679.595897 ',\n",
       "              'time_stamp_user_format': 'Sat Mar 12 22:11:19.595896 2016'},\n",
       "             'Sample5_1min_r_121.tif': {'time_stamp': '1457838829.143127 ',\n",
       "              'time_stamp_user_format': 'Sat Mar 12 22:13:49.143126 2016'},\n",
       "             'Sample5_1min_r_122.tif': {'time_stamp': '1457838978.659614 ',\n",
       "              'time_stamp_user_format': 'Sat Mar 12 22:16:18.659614 2016'},\n",
       "             'Sample5_1min_r_123.tif': {'time_stamp': '1457839128.080843 ',\n",
       "              'time_stamp_user_format': 'Sat Mar 12 22:18:48.080842 2016'},\n",
       "             'Sample5_1min_r_124.tif': {'time_stamp': '1457839277.123651 ',\n",
       "              'time_stamp_user_format': 'Sat Mar 12 22:21:17.123650 2016'},\n",
       "             'Sample5_1min_r_125.tif': {'time_stamp': '1457839426.617136 ',\n",
       "              'time_stamp_user_format': 'Sat Mar 12 22:23:46.617135 2016'},\n",
       "             'Sample5_1min_r_126.tif': {'time_stamp': '1457839576.165189 ',\n",
       "              'time_stamp_user_format': 'Sat Mar 12 22:26:16.165188 2016'},\n",
       "             'Sample5_1min_r_127.tif': {'time_stamp': '1457839725.633797 ',\n",
       "              'time_stamp_user_format': 'Sat Mar 12 22:28:45.633796 2016'},\n",
       "             'Sample5_1min_r_128.tif': {'time_stamp': '1457839874.723048 ',\n",
       "              'time_stamp_user_format': 'Sat Mar 12 22:31:14.723047 2016'},\n",
       "             'Sample5_1min_r_129.tif': {'time_stamp': '1457840024.201825 ',\n",
       "              'time_stamp_user_format': 'Sat Mar 12 22:33:44.201825 2016'},\n",
       "             'Sample5_1min_r_13.tif': {'time_stamp': '1457824097.410892 ',\n",
       "              'time_stamp_user_format': 'Sat Mar 12 18:08:17.410891 2016'},\n",
       "             'Sample5_1min_r_130.tif': {'time_stamp': '1457840173.739634 ',\n",
       "              'time_stamp_user_format': 'Sat Mar 12 22:36:13.739633 2016'},\n",
       "             'Sample5_1min_r_131.tif': {'time_stamp': '1457840323.249193 ',\n",
       "              'time_stamp_user_format': 'Sat Mar 12 22:38:43.249192 2016'},\n",
       "             'Sample5_1min_r_14.tif': {'time_stamp': '1457824214.043217 ',\n",
       "              'time_stamp_user_format': 'Sat Mar 12 18:10:14.043216 2016'},\n",
       "             'Sample5_1min_r_15.tif': {'time_stamp': '1457824331.398418 ',\n",
       "              'time_stamp_user_format': 'Sat Mar 12 18:12:11.398417 2016'},\n",
       "             'Sample5_1min_r_16.tif': {'time_stamp': '1457824448.669651 ',\n",
       "              'time_stamp_user_format': 'Sat Mar 12 18:14:08.669651 2016'},\n",
       "             'Sample5_1min_r_17.tif': {'time_stamp': '1457824565.987445 ',\n",
       "              'time_stamp_user_format': 'Sat Mar 12 18:16:05.987444 2016'},\n",
       "             'Sample5_1min_r_18.tif': {'time_stamp': '1457824683.415822 ',\n",
       "              'time_stamp_user_format': 'Sat Mar 12 18:18:03.415822 2016'},\n",
       "             'Sample5_1min_r_19.tif': {'time_stamp': '1457824800.437615 ',\n",
       "              'time_stamp_user_format': 'Sat Mar 12 18:20:00.437615 2016'},\n",
       "             'Sample5_1min_r_2.tif': {'time_stamp': '1457822809.346293 ',\n",
       "              'time_stamp_user_format': 'Sat Mar 12 17:46:49.346293 2016'},\n",
       "             'Sample5_1min_r_20.tif': {'time_stamp': '1457824917.779247 ',\n",
       "              'time_stamp_user_format': 'Sat Mar 12 18:21:57.779246 2016'},\n",
       "             'Sample5_1min_r_21.tif': {'time_stamp': '1457825035.174388 ',\n",
       "              'time_stamp_user_format': 'Sat Mar 12 18:23:55.174388 2016'},\n",
       "             'Sample5_1min_r_22.tif': {'time_stamp': '1457825152.518909 ',\n",
       "              'time_stamp_user_format': 'Sat Mar 12 18:25:52.518908 2016'},\n",
       "             'Sample5_1min_r_23.tif': {'time_stamp': '1457825269.930087 ',\n",
       "              'time_stamp_user_format': 'Sat Mar 12 18:27:49.930087 2016'},\n",
       "             'Sample5_1min_r_24.tif': {'time_stamp': '1457825386.961444 ',\n",
       "              'time_stamp_user_format': 'Sat Mar 12 18:29:46.961444 2016'},\n",
       "             'Sample5_1min_r_25.tif': {'time_stamp': '1457825504.380397 ',\n",
       "              'time_stamp_user_format': 'Sat Mar 12 18:31:44.380396 2016'},\n",
       "             'Sample5_1min_r_26.tif': {'time_stamp': '1457825621.729033 ',\n",
       "              'time_stamp_user_format': 'Sat Mar 12 18:33:41.729033 2016'},\n",
       "             'Sample5_1min_r_27.tif': {'time_stamp': '1457825739.084334 ',\n",
       "              'time_stamp_user_format': 'Sat Mar 12 18:35:39.084333 2016'},\n",
       "             'Sample5_1min_r_28.tif': {'time_stamp': '1457825856.468588 ',\n",
       "              'time_stamp_user_format': 'Sat Mar 12 18:37:36.468588 2016'},\n",
       "             'Sample5_1min_r_29.tif': {'time_stamp': '1457825973.429223 ',\n",
       "              'time_stamp_user_format': 'Sat Mar 12 18:39:33.429223 2016'},\n",
       "             'Sample5_1min_r_3.tif': {'time_stamp': '1457822926.047180 ',\n",
       "              'time_stamp_user_format': 'Sat Mar 12 17:48:46.047179 2016'},\n",
       "             'Sample5_1min_r_30.tif': {'time_stamp': '1457826090.848387 ',\n",
       "              'time_stamp_user_format': 'Sat Mar 12 18:41:30.848386 2016'},\n",
       "             'Sample5_1min_r_31.tif': {'time_stamp': '1457826208.190732 ',\n",
       "              'time_stamp_user_format': 'Sat Mar 12 18:43:28.190731 2016'},\n",
       "             'Sample5_1min_r_32.tif': {'time_stamp': '1457826325.602395 ',\n",
       "              'time_stamp_user_format': 'Sat Mar 12 18:45:25.602395 2016'},\n",
       "             'Sample5_1min_r_33.tif': {'time_stamp': '1457826443.014612 ',\n",
       "              'time_stamp_user_format': 'Sat Mar 12 18:47:23.014611 2016'},\n",
       "             'Sample5_1min_r_34.tif': {'time_stamp': '1457826559.776280 ',\n",
       "              'time_stamp_user_format': 'Sat Mar 12 18:49:19.776279 2016'},\n",
       "             'Sample5_1min_r_35.tif': {'time_stamp': '1457826677.168958 ',\n",
       "              'time_stamp_user_format': 'Sat Mar 12 18:51:17.168957 2016'},\n",
       "             'Sample5_1min_r_36.tif': {'time_stamp': '1457826794.615603 ',\n",
       "              'time_stamp_user_format': 'Sat Mar 12 18:53:14.615603 2016'},\n",
       "             'Sample5_1min_r_37.tif': {'time_stamp': '1457826911.916946 ',\n",
       "              'time_stamp_user_format': 'Sat Mar 12 18:55:11.916946 2016'},\n",
       "             'Sample5_1min_r_38.tif': {'time_stamp': '1457827029.205009 ',\n",
       "              'time_stamp_user_format': 'Sat Mar 12 18:57:09.205008 2016'},\n",
       "             'Sample5_1min_r_39.tif': {'time_stamp': '1457827145.941211 ',\n",
       "              'time_stamp_user_format': 'Sat Mar 12 18:59:05.941210 2016'},\n",
       "             'Sample5_1min_r_4.tif': {'time_stamp': '1457823043.214474 ',\n",
       "              'time_stamp_user_format': 'Sat Mar 12 17:50:43.214474 2016'},\n",
       "             'Sample5_1min_r_40.tif': {'time_stamp': '1457827263.301132 ',\n",
       "              'time_stamp_user_format': 'Sat Mar 12 19:01:03.301132 2016'},\n",
       "             'Sample5_1min_r_41.tif': {'time_stamp': '1457827380.681449 ',\n",
       "              'time_stamp_user_format': 'Sat Mar 12 19:03:00.681449 2016'},\n",
       "             'Sample5_1min_r_42.tif': {'time_stamp': '1457827498.079617 ',\n",
       "              'time_stamp_user_format': 'Sat Mar 12 19:04:58.079617 2016'},\n",
       "             'Sample5_1min_r_43.tif': {'time_stamp': '1457827615.435879 ',\n",
       "              'time_stamp_user_format': 'Sat Mar 12 19:06:55.435878 2016'},\n",
       "             'Sample5_1min_r_44.tif': {'time_stamp': '1457827732.855120 ',\n",
       "              'time_stamp_user_format': 'Sat Mar 12 19:08:52.855120 2016'},\n",
       "             'Sample5_1min_r_45.tif': {'time_stamp': '1457827849.878148 ',\n",
       "              'time_stamp_user_format': 'Sat Mar 12 19:10:49.878147 2016'},\n",
       "             'Sample5_1min_r_46.tif': {'time_stamp': '1457827967.163575 ',\n",
       "              'time_stamp_user_format': 'Sat Mar 12 19:12:47.163574 2016'},\n",
       "             'Sample5_1min_r_47.tif': {'time_stamp': '1457828084.656871 ',\n",
       "              'time_stamp_user_format': 'Sat Mar 12 19:14:44.656870 2016'},\n",
       "             'Sample5_1min_r_48.tif': {'time_stamp': '1457828201.983186 ',\n",
       "              'time_stamp_user_format': 'Sat Mar 12 19:16:41.983186 2016'},\n",
       "             'Sample5_1min_r_49.tif': {'time_stamp': '1457828319.378260 ',\n",
       "              'time_stamp_user_format': 'Sat Mar 12 19:18:39.378259 2016'},\n",
       "             'Sample5_1min_r_5.tif': {'time_stamp': '1457823160.350688 ',\n",
       "              'time_stamp_user_format': 'Sat Mar 12 17:52:40.350687 2016'},\n",
       "             'Sample5_1min_r_50.tif': {'time_stamp': '1457828436.405361 ',\n",
       "              'time_stamp_user_format': 'Sat Mar 12 19:20:36.405360 2016'},\n",
       "             'Sample5_1min_r_51.tif': {'time_stamp': '1457828553.779122 ',\n",
       "              'time_stamp_user_format': 'Sat Mar 12 19:22:33.779122 2016'},\n",
       "             'Sample5_1min_r_52.tif': {'time_stamp': '1457828671.181365 ',\n",
       "              'time_stamp_user_format': 'Sat Mar 12 19:24:31.181365 2016'},\n",
       "             'Sample5_1min_r_53.tif': {'time_stamp': '1457828788.536762 ',\n",
       "              'time_stamp_user_format': 'Sat Mar 12 19:26:28.536761 2016'},\n",
       "             'Sample5_1min_r_54.tif': {'time_stamp': '1457828905.955153 ',\n",
       "              'time_stamp_user_format': 'Sat Mar 12 19:28:25.955153 2016'},\n",
       "             'Sample5_1min_r_55.tif': {'time_stamp': '1457829022.924604 ',\n",
       "              'time_stamp_user_format': 'Sat Mar 12 19:30:22.924604 2016'},\n",
       "             'Sample5_1min_r_56.tif': {'time_stamp': '1457829140.258431 ',\n",
       "              'time_stamp_user_format': 'Sat Mar 12 19:32:20.258430 2016'},\n",
       "             'Sample5_1min_r_57.tif': {'time_stamp': '1457829268.566021 ',\n",
       "              'time_stamp_user_format': 'Sat Mar 12 19:34:28.566020 2016'},\n",
       "             'Sample5_1min_r_58.tif': {'time_stamp': '1457829418.150881 ',\n",
       "              'time_stamp_user_format': 'Sat Mar 12 19:36:58.150881 2016'},\n",
       "             'Sample5_1min_r_59.tif': {'time_stamp': '1457829567.356960 ',\n",
       "              'time_stamp_user_format': 'Sat Mar 12 19:39:27.356960 2016'},\n",
       "             'Sample5_1min_r_6.tif': {'time_stamp': '1457823277.661871 ',\n",
       "              'time_stamp_user_format': 'Sat Mar 12 17:54:37.661870 2016'},\n",
       "             'Sample5_1min_r_60.tif': {'time_stamp': '1457829716.928670 ',\n",
       "              'time_stamp_user_format': 'Sat Mar 12 19:41:56.928669 2016'},\n",
       "             'Sample5_1min_r_61.tif': {'time_stamp': '1457829866.398231 ',\n",
       "              'time_stamp_user_format': 'Sat Mar 12 19:44:26.398231 2016'},\n",
       "             'Sample5_1min_r_62.tif': {'time_stamp': '1457830016.005436 ',\n",
       "              'time_stamp_user_format': 'Sat Mar 12 19:46:56.005436 2016'},\n",
       "             'Sample5_1min_r_63.tif': {'time_stamp': '1457830165.041121 ',\n",
       "              'time_stamp_user_format': 'Sat Mar 12 19:49:25.041121 2016'},\n",
       "             'Sample5_1min_r_64.tif': {'time_stamp': '1457830314.622193 ',\n",
       "              'time_stamp_user_format': 'Sat Mar 12 19:51:54.622192 2016'},\n",
       "             'Sample5_1min_r_65.tif': {'time_stamp': '1457830464.160866 ',\n",
       "              'time_stamp_user_format': 'Sat Mar 12 19:54:24.160866 2016'},\n",
       "             'Sample5_1min_r_66.tif': {'time_stamp': '1457830613.627288 ',\n",
       "              'time_stamp_user_format': 'Sat Mar 12 19:56:53.627288 2016'},\n",
       "             'Sample5_1min_r_67.tif': {'time_stamp': '1457830762.820549 ',\n",
       "              'time_stamp_user_format': 'Sat Mar 12 19:59:22.820548 2016'},\n",
       "             'Sample5_1min_r_68.tif': {'time_stamp': '1457830912.242593 ',\n",
       "              'time_stamp_user_format': 'Sat Mar 12 20:01:52.242592 2016'},\n",
       "             'Sample5_1min_r_69.tif': {'time_stamp': '1457831061.735336 ',\n",
       "              'time_stamp_user_format': 'Sat Mar 12 20:04:21.735336 2016'},\n",
       "             'Sample5_1min_r_7.tif': {'time_stamp': '1457823394.806800 ',\n",
       "              'time_stamp_user_format': 'Sat Mar 12 17:56:34.806800 2016'},\n",
       "             'Sample5_1min_r_70.tif': {'time_stamp': '1457831211.148339 ',\n",
       "              'time_stamp_user_format': 'Sat Mar 12 20:06:51.148338 2016'},\n",
       "             'Sample5_1min_r_71.tif': {'time_stamp': '1457831360.394709 ',\n",
       "              'time_stamp_user_format': 'Sat Mar 12 20:09:20.394709 2016'},\n",
       "             'Sample5_1min_r_72.tif': {'time_stamp': '1457831509.506932 ',\n",
       "              'time_stamp_user_format': 'Sat Mar 12 20:11:49.506932 2016'},\n",
       "             'Sample5_1min_r_73.tif': {'time_stamp': '1457831658.783246 ',\n",
       "              'time_stamp_user_format': 'Sat Mar 12 20:14:18.783245 2016'},\n",
       "             'Sample5_1min_r_74.tif': {'time_stamp': '1457831808.298024 ',\n",
       "              'time_stamp_user_format': 'Sat Mar 12 20:16:48.298023 2016'},\n",
       "             'Sample5_1min_r_75.tif': {'time_stamp': '1457831957.641368 ',\n",
       "              'time_stamp_user_format': 'Sat Mar 12 20:19:17.641368 2016'},\n",
       "             'Sample5_1min_r_76.tif': {'time_stamp': '1457832106.613460 ',\n",
       "              'time_stamp_user_format': 'Sat Mar 12 20:21:46.613459 2016'},\n",
       "             'Sample5_1min_r_77.tif': {'time_stamp': '1457832256.025601 ',\n",
       "              'time_stamp_user_format': 'Sat Mar 12 20:24:16.025600 2016'},\n",
       "             'Sample5_1min_r_78.tif': {'time_stamp': '1457832405.435485 ',\n",
       "              'time_stamp_user_format': 'Sat Mar 12 20:26:45.435484 2016'},\n",
       "             'Sample5_1min_r_79.tif': {'time_stamp': '1457832554.905448 ',\n",
       "              'time_stamp_user_format': 'Sat Mar 12 20:29:14.905447 2016'},\n",
       "             'Sample5_1min_r_8.tif': {'time_stamp': '1457823511.479656 ',\n",
       "              'time_stamp_user_format': 'Sat Mar 12 17:58:31.479655 2016'},\n",
       "             'Sample5_1min_r_80.tif': {'time_stamp': '1457832703.990867 ',\n",
       "              'time_stamp_user_format': 'Sat Mar 12 20:31:43.990867 2016'},\n",
       "             'Sample5_1min_r_81.tif': {'time_stamp': '1457832853.509387 ',\n",
       "              'time_stamp_user_format': 'Sat Mar 12 20:34:13.509386 2016'},\n",
       "             'Sample5_1min_r_82.tif': {'time_stamp': '1457833003.010300 ',\n",
       "              'time_stamp_user_format': 'Sat Mar 12 20:36:43.010299 2016'},\n",
       "             'Sample5_1min_r_83.tif': {'time_stamp': '1457833152.284654 ',\n",
       "              'time_stamp_user_format': 'Sat Mar 12 20:39:12.284654 2016'},\n",
       "             'Sample5_1min_r_84.tif': {'time_stamp': '1457833301.357372 ',\n",
       "              'time_stamp_user_format': 'Sat Mar 12 20:41:41.357371 2016'},\n",
       "             'Sample5_1min_r_85.tif': {'time_stamp': '1457833450.803832 ',\n",
       "              'time_stamp_user_format': 'Sat Mar 12 20:44:10.803832 2016'},\n",
       "             'Sample5_1min_r_86.tif': {'time_stamp': '1457833600.413933 ',\n",
       "              'time_stamp_user_format': 'Sat Mar 12 20:46:40.413933 2016'},\n",
       "             'Sample5_1min_r_87.tif': {'time_stamp': '1457833749.946189 ',\n",
       "              'time_stamp_user_format': 'Sat Mar 12 20:49:09.946188 2016'},\n",
       "             'Sample5_1min_r_88.tif': {'time_stamp': '1457833899.074253 ',\n",
       "              'time_stamp_user_format': 'Sat Mar 12 20:51:39.074252 2016'},\n",
       "             'Sample5_1min_r_89.tif': {'time_stamp': '1457834048.589407 ',\n",
       "              'time_stamp_user_format': 'Sat Mar 12 20:54:08.589407 2016'},\n",
       "             'Sample5_1min_r_9.tif': {'time_stamp': '1457823628.337223 ',\n",
       "              'time_stamp_user_format': 'Sat Mar 12 18:00:28.337223 2016'},\n",
       "             'Sample5_1min_r_90.tif': {'time_stamp': '1457834198.113895 ',\n",
       "              'time_stamp_user_format': 'Sat Mar 12 20:56:38.113894 2016'},\n",
       "             'Sample5_1min_r_91.tif': {'time_stamp': '1457834347.513378 ',\n",
       "              'time_stamp_user_format': 'Sat Mar 12 20:59:07.513378 2016'},\n",
       "             'Sample5_1min_r_92.tif': {'time_stamp': '1457834496.658432 ',\n",
       "              'time_stamp_user_format': 'Sat Mar 12 21:01:36.658431 2016'},\n",
       "             'Sample5_1min_r_93.tif': {'time_stamp': '1457834646.148057 ',\n",
       "              'time_stamp_user_format': 'Sat Mar 12 21:04:06.148056 2016'},\n",
       "             'Sample5_1min_r_94.tif': {'time_stamp': '1457834795.658692 ',\n",
       "              'time_stamp_user_format': 'Sat Mar 12 21:06:35.658691 2016'},\n",
       "             'Sample5_1min_r_95.tif': {'time_stamp': '1457834945.214872 ',\n",
       "              'time_stamp_user_format': 'Sat Mar 12 21:09:05.214872 2016'},\n",
       "             'Sample5_1min_r_96.tif': {'time_stamp': '1457835094.222014 ',\n",
       "              'time_stamp_user_format': 'Sat Mar 12 21:11:34.222014 2016'},\n",
       "             'Sample5_1min_r_97.tif': {'time_stamp': '1457835243.748499 ',\n",
       "              'time_stamp_user_format': 'Sat Mar 12 21:14:03.748499 2016'},\n",
       "             'Sample5_1min_r_98.tif': {'time_stamp': '1457835393.201464 ',\n",
       "              'time_stamp_user_format': 'Sat Mar 12 21:16:33.201463 2016'},\n",
       "             'Sample5_1min_r_99.tif': {'time_stamp': '1457835542.765769 ',\n",
       "              'time_stamp_user_format': 'Sat Mar 12 21:19:02.765768 2016'}})"
      ]
     },
     "execution_count": 3,
     "metadata": {},
     "output_type": "execute_result"
    }
   ],
   "source": [
    "o_dsc_reader.dict_time_stamp_vs_tiff"
   ]
  },
  {
   "cell_type": "code",
   "execution_count": null,
   "metadata": {
    "collapsed": true
   },
   "outputs": [],
   "source": []
  },
  {
   "cell_type": "code",
   "execution_count": null,
   "metadata": {
    "collapsed": true
   },
   "outputs": [],
   "source": []
  },
  {
   "cell_type": "code",
   "execution_count": null,
   "metadata": {
    "collapsed": true
   },
   "outputs": [],
   "source": []
  },
  {
   "cell_type": "code",
   "execution_count": 6,
   "metadata": {},
   "outputs": [],
   "source": [
    "from collections import defaultdict\n",
    "\n",
    "my_dict = defaultdict(lambda: {'time_stamp': 0, 'time_stamp_user_format': 'N/A'})\n",
    "my_dict['a'] = {'time_stamp': 15, 'time_stamp_user_format': 10000}\n",
    "my_dict['b']['time_stamp'] = 20\n",
    "my_dict['b']['time_stamp_user_format'] = -20"
   ]
  },
  {
   "cell_type": "code",
   "execution_count": null,
   "metadata": {
    "collapsed": true
   },
   "outputs": [],
   "source": [
    " _dict_time_stamp_vs_tiff = defaultdict(lambda: {'time_stamp': 0,\n",
    "                                                        'time_stamp_user_format': 'N/A'})\n",
    "_dict_metadata = o_dsc_reader.dict_metadata\n",
    "\n",
    "for _key in _dict_metadata.keys():\n",
    "    _tif_name = _dict_metadata[_key]['tif_file_name']\n",
    "    _time_stamp = _dict_metadata[_key]['time_stamp']\n",
    "    _time_stamp_user_format = _dict_metadata[_key]['time_stamp_user_format']\n",
    "    _dict_time_stamp_vs_tiff[_tif_name]['time_stamp']= _time_stamp\n",
    "    _dict_time_stamp_vs_tiff[_tif_name]['time_stamp_user_format'] = _time_stamp_user_format"
   ]
  }
 ],
 "metadata": {
  "kernelspec": {
   "display_name": "Python 3",
   "language": "python",
   "name": "python3"
  },
  "language_info": {
   "codemirror_mode": {
    "name": "ipython",
    "version": 3
   },
   "file_extension": ".py",
   "mimetype": "text/x-python",
   "name": "python",
   "nbconvert_exporter": "python",
   "pygments_lexer": "ipython3",
   "version": "3.6.2"
  },
  "toc": {
   "colors": {
    "hover_highlight": "#DAA520",
    "running_highlight": "#FF0000",
    "selected_highlight": "#FFD700"
   },
   "moveMenuLeft": true,
   "nav_menu": {
    "height": "138px",
    "width": "252px"
   },
   "navigate_menu": true,
   "number_sections": true,
   "sideBar": true,
   "threshold": 4,
   "toc_cell": false,
   "toc_section_display": "block",
   "toc_window_display": false
  }
 },
 "nbformat": 4,
 "nbformat_minor": 2
}
