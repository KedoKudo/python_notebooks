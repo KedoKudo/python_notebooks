{
 "cells": [
  {
   "cell_type": "markdown",
   "metadata": {},
   "source": [
    "[![Notebook Tutorial](__code/__all/notebook_tutorial.png)](https://neutronimaging.pages.ornl.gov/en/tutorial/notebooks/water_intake_profile_calculator/)"
   ]
  },
  {
   "cell_type": "markdown",
   "metadata": {
    "run_control": {
     "frozen": false,
     "read_only": false
    }
   },
   "source": [
    "# Select your IPTS "
   ]
  },
  {
   "cell_type": "code",
   "execution_count": 1,
   "metadata": {
    "run_control": {
     "frozen": false,
     "read_only": false
    }
   },
   "outputs": [
    {
     "name": "stdout",
     "output_type": "stream",
     "text": [
      "pyuic5 /Users/j35/git/IPTS/python_notebooks/ui/ui_water_intake_profile.ui -o /Users/j35/git/IPTS/python_notebooks/__code/ui_water_intake_profile.py\n",
      "** Using Debugging Mode! **\n"
     ]
    },
    {
     "data": {
      "application/vnd.jupyter.widget-view+json": {
       "model_id": "7f2349a0541a4f68980a5c10c8d06562",
       "version_major": 2,
       "version_minor": 0
      },
      "text/html": [
       "<p>Failed to display Jupyter Widget of type <code>VBox</code>.</p>\n",
       "<p>\n",
       "  If you're reading this message in the Jupyter Notebook or JupyterLab Notebook, it may mean\n",
       "  that the widgets JavaScript is still loading. If this message persists, it\n",
       "  likely means that the widgets JavaScript library is either not installed or\n",
       "  not enabled. See the <a href=\"https://ipywidgets.readthedocs.io/en/stable/user_install.html\">Jupyter\n",
       "  Widgets Documentation</a> for setup instructions.\n",
       "</p>\n",
       "<p>\n",
       "  If you're reading this message in another frontend (for example, a static\n",
       "  rendering on GitHub or <a href=\"https://nbviewer.jupyter.org/\">NBViewer</a>),\n",
       "  it may mean that your frontend doesn't currently support widgets.\n",
       "</p>\n"
      ],
      "text/plain": [
       "VBox(children=(HBox(children=(Label(value='IPTS-'), Text(value='', layout=Layout(width='10%')), Label(value='DOES NOT EXIST!', layout=Layout(width='20%'), _dom_classes=('result_label',)))), Label(value='OR'), HBox(children=(Label(value='Select Folder', layout=Layout(width='20%')), Select(layout=Layout(height='300px'), options=('IPTS-15177', 'IPTS-18813'), value='IPTS-15177'))), Button(button_style='info', description='HELP', style=ButtonStyle())))"
      ]
     },
     "metadata": {},
     "output_type": "display_data"
    },
    {
     "data": {
      "text/html": [
       "<style>\n",
       "\n",
       "/* The following CSS has been adapted from\n",
       "   http://nbviewer.ipython.org/github/ketch/teaching-numerics-with-notebooks/blob/master/Styling_notebooks.ipynb\n",
       "   by Aron Ahmadia and David Ketcheson and has been reused under CC BY 4.0\n",
       "   */\n",
       "\n",
       "/* main background */\n",
       "#site { \n",
       "    background: #888;\n",
       "    color: #red; \n",
       "}\n",
       "\n",
       "div.container {\n",
       "    width: 100% ! important;\n",
       "}\n",
       "\n",
       "div.cell { /* set cell width to about 80 chars */\n",
       "    width: 95%;\n",
       "}\n",
       "\n",
       "div #notebook { /* centre the content */\n",
       "/*    background: #fff; /* white background for content */\n",
       "    background: blue;\n",
       "    width: 100%;\n",
       "    margin: auto;\n",
       "    padding-left: 1em;\n",
       "    padding-right: 1em;\n",
       "    background-image: url(\"tile_background.jpg\");\n",
       "}\n",
       "\n",
       "#notebook li { /* More space between bullet points */\n",
       "    margin-top:0.4em;\n",
       "}\n",
       "\n",
       "/* change background color of running cells */\n",
       "div.cell.code_cell.running {\n",
       "/*    background-color: rgba(164,188,194,.75); */\n",
       "    background-color: green;\n",
       "    border-width: 8px\n",
       "    border-style: solid\n",
       "    border-color: #111;\n",
       "}\n",
       "\n",
       "/* Put a solid color box around each cell and its output, visually linking them together */\n",
       "div.cell.code_cell {\n",
       "    background-color: rgba(164,188,194,.25); /* Continuum L Gray with alpha 0.25 */\n",
       "    border-radius: 10px; /* rounded borders */\n",
       "    padding: 1em;\n",
       "    margin-top: 1em;\n",
       "}\n",
       "\n",
       "div.text_cell_render{\n",
       "\tfont-family: Georgia, Times, 'Times New Roman', serif;\n",
       "    line-height: 110%;\n",
       "    font-size: 105%;\n",
       "    width: 95%;\n",
       "    margin-left: auto;\n",
       "    margin-right: auto;\n",
       "}\n",
       "\n",
       "\n",
       "/* Formatting for header cells */\n",
       ".text_cell_render h1 {\n",
       "\tfont-family: Arial, 'Helvetica Neue', Helvetica, sans-serif;\n",
       "    font-weight: 400;\n",
       "    font-size: 30pt;\n",
       "    line-height: 100%;\n",
       "    color: rgb(37,55,70); /* Continuum Blue*/\n",
       "    margin-bottom: 0.1em;\n",
       "    margin-top: 0.1em;\n",
       "    display: block;\n",
       "}\n",
       ".text_cell_render h2 {\n",
       "\tfont-family: Arial, 'Helvetica Neue', Helvetica, sans-serif;\n",
       "    font-weight: 700;\n",
       "    font-size: 22pt;\n",
       "    line-height: 100%;\n",
       "    color: rgb(37,55,70);\n",
       "    margin-bottom: 0.1em;\n",
       "    margin-top: 0.1em;\n",
       "    display: block;\n",
       "}\n",
       "\n",
       ".text_cell_render h3 {\n",
       "\tfont-family: Arial, 'Helvetica Neue', Helvetica, sans-serif;\n",
       "    margin-top:12px;\n",
       "    margin-bottom: 3px;\n",
       "    font-style: italic;\n",
       "    color: rgb(37, 55, 70);\n",
       "}\n",
       "\n",
       ".text_cell_render h4 {\n",
       "\tfont-family: Arial, 'Helvetica Neue', Helvetica, sans-serif;\n",
       "}\n",
       "\n",
       ".text_cell_render h5 {\n",
       "\tfont-family: Arial, 'Helvetica Neue', Helvetica, sans-serif;\n",
       "    font-weight: 300;\n",
       "    font-size: 14pt;\n",
       "    font-style: italic;\n",
       "    margin-bottom: .1em;\n",
       "    margin-top: 0.1em;\n",
       "    display: block;\n",
       "}\n",
       "\n",
       ".text_cell_render h6 {\n",
       "\tfont-family: Arial, 'Helvetica Neue', Helvetica, sans-serif;\n",
       "    font-weight: 300;\n",
       "    font-size: 10pt;\n",
       "    margin-bottom: 1px;\n",
       "    margin-top: 1px;\n",
       "}\n",
       "\n",
       ".CodeMirror{\n",
       "        font-family: \"PT Mono\", fixed;\n",
       "        font-size: 100%;\n",
       "}\n",
       "\n",
       "#notebook_panel { /* main background */\n",
       "    background-image: url(\"tile_background.jpg\");\n",
       "}\n",
       "\n",
       "\n",
       "\n",
       "\n",
       "</style>\n"
      ],
      "text/plain": [
       "<IPython.core.display.HTML object>"
      ]
     },
     "execution_count": 1,
     "metadata": {},
     "output_type": "execute_result"
    }
   ],
   "source": [
    "from __code import system\n",
    "from __code.water_intake_profile_calculator import WaterIntakeProfileCalculator, WaterIntakeProfileSelector\n",
    "\n",
    "from __code.ui_builder import UiBuilder\n",
    "o_builder = UiBuilder(ui_name = 'ui_water_intake_profile.ui')\n",
    "from __code.roi_selection_ui import Interface\n",
    "\n",
    "system.System.select_working_dir()\n",
    "from __code.__all import custom_style\n",
    "custom_style.style()"
   ]
  },
  {
   "cell_type": "markdown",
   "metadata": {
    "run_control": {
     "frozen": false,
     "read_only": false
    }
   },
   "source": [
    "# Description "
   ]
  },
  {
   "cell_type": "markdown",
   "metadata": {
    "run_control": {
     "frozen": false,
     "read_only": false
    }
   },
   "source": [
    "This notebook will calculate the water intake profile vs time of a sample.\n",
    "\n",
    "Here are the steps (**bold** for user input/manipulation)\n",
    " * **select the normalized images**\n",
    " * images sorted by time\n",
    " * **region of interest seleted**\n",
    " * profile of counts vs vertical-pixel calculated (**select integrated algorithm: mean/median/sum**)\n",
    " * water intake profile vs file index or vs time\n",
    " * **export profiles**"
   ]
  },
  {
   "cell_type": "markdown",
   "metadata": {
    "run_control": {
     "frozen": false,
     "read_only": false
    }
   },
   "source": [
    "# Python Import "
   ]
  },
  {
   "cell_type": "code",
   "execution_count": 2,
   "metadata": {},
   "outputs": [],
   "source": [
    "%gui qt"
   ]
  },
  {
   "cell_type": "code",
   "execution_count": 3,
   "metadata": {},
   "outputs": [],
   "source": [
    "import matplotlib.pyplot as plt\n",
    "import matplotlib.gridspec as gridspec\n",
    "from ipywidgets.widgets import interact\n",
    "import numpy as np\n",
    "import os\n",
    "import ipywe.fileselector\n",
    "from ipywidgets import widgets\n",
    "from IPython.core.display import display, HTML\n",
    "import pytz\n",
    "import datetime\n",
    "\n",
    "from NeuNorm.normalization import Normalization\n",
    "\n",
    "from __code.metadata_handler import MetadataHandler\n",
    "from __code import file_handler\n"
   ]
  },
  {
   "cell_type": "markdown",
   "metadata": {
    "run_control": {
     "frozen": false,
     "read_only": false
    }
   },
   "source": [
    "# Select Images to Process"
   ]
  },
  {
   "cell_type": "code",
   "execution_count": 4,
   "metadata": {},
   "outputs": [
    {
     "data": {
      "application/vnd.jupyter.widget-view+json": {
       "model_id": "986c19bf26924412b99c55daaef0482d",
       "version_major": 2,
       "version_minor": 0
      },
      "text/html": [
       "<p>Failed to display Jupyter Widget of type <code>Button</code>.</p>\n",
       "<p>\n",
       "  If you're reading this message in the Jupyter Notebook or JupyterLab Notebook, it may mean\n",
       "  that the widgets JavaScript is still loading. If this message persists, it\n",
       "  likely means that the widgets JavaScript library is either not installed or\n",
       "  not enabled. See the <a href=\"https://ipywidgets.readthedocs.io/en/stable/user_install.html\">Jupyter\n",
       "  Widgets Documentation</a> for setup instructions.\n",
       "</p>\n",
       "<p>\n",
       "  If you're reading this message in another frontend (for example, a static\n",
       "  rendering on GitHub or <a href=\"https://nbviewer.jupyter.org/\">NBViewer</a>),\n",
       "  it may mean that your frontend doesn't currently support widgets.\n",
       "</p>\n"
      ],
      "text/plain": [
       "Button(button_style='info', description='HELP', style=ButtonStyle())"
      ]
     },
     "metadata": {},
     "output_type": "display_data"
    },
    {
     "data": {
      "application/vnd.jupyter.widget-view+json": {
       "model_id": "dec057832a65466da1c2e509a29d7fc3",
       "version_major": 2,
       "version_minor": 0
      },
      "text/html": [
       "<p>Failed to display Jupyter Widget of type <code>HTML</code>.</p>\n",
       "<p>\n",
       "  If you're reading this message in the Jupyter Notebook or JupyterLab Notebook, it may mean\n",
       "  that the widgets JavaScript is still loading. If this message persists, it\n",
       "  likely means that the widgets JavaScript library is either not installed or\n",
       "  not enabled. See the <a href=\"https://ipywidgets.readthedocs.io/en/stable/user_install.html\">Jupyter\n",
       "  Widgets Documentation</a> for setup instructions.\n",
       "</p>\n",
       "<p>\n",
       "  If you're reading this message in another frontend (for example, a static\n",
       "  rendering on GitHub or <a href=\"https://nbviewer.jupyter.org/\">NBViewer</a>),\n",
       "  it may mean that your frontend doesn't currently support widgets.\n",
       "</p>\n"
      ],
      "text/plain": [
       "HTML(value='Please wait...')"
      ]
     },
     "metadata": {},
     "output_type": "display_data"
    },
    {
     "data": {
      "text/html": [
       "\n",
       "        <style type=\"text/css\">\n",
       "        .jupyter-widgets select option {font-family: \"Lucida Console\", Monaco, monospace;}\n",
       "        div.output_subarea {padding: 0px;}\n",
       "        div.output_subarea > div {margin: 0.4em;}\n",
       "        </style>\n",
       "        "
      ],
      "text/plain": [
       "<IPython.core.display.HTML object>"
      ]
     },
     "metadata": {},
     "output_type": "display_data"
    },
    {
     "data": {
      "application/vnd.jupyter.widget-view+json": {
       "model_id": "46be298bd3014a418b295d2f32a74c28",
       "version_major": 2,
       "version_minor": 0
      },
      "text/html": [
       "<p>Failed to display Jupyter Widget of type <code>VBox</code>.</p>\n",
       "<p>\n",
       "  If you're reading this message in the Jupyter Notebook or JupyterLab Notebook, it may mean\n",
       "  that the widgets JavaScript is still loading. If this message persists, it\n",
       "  likely means that the widgets JavaScript library is either not installed or\n",
       "  not enabled. See the <a href=\"https://ipywidgets.readthedocs.io/en/stable/user_install.html\">Jupyter\n",
       "  Widgets Documentation</a> for setup instructions.\n",
       "</p>\n",
       "<p>\n",
       "  If you're reading this message in another frontend (for example, a static\n",
       "  rendering on GitHub or <a href=\"https://nbviewer.jupyter.org/\">NBViewer</a>),\n",
       "  it may mean that your frontend doesn't currently support widgets.\n",
       "</p>\n"
      ],
      "text/plain": [
       "VBox(children=(Label(value='Select Images ...', layout=Layout(width='250px')), HBox(children=(HBox(children=(Text(value='/Users/j35/IPTS/IPTS-18813', description='Location: ', layout=Layout(width='300px'), placeholder=''), Button(description='Jump', layout=Layout(margin='5px 10px', width='100px'), style=ButtonStyle())), layout=Layout(border='1px solid lightgrey', margin='5px 50px 5px 5px', padding='3px')),)), VBox(children=(SelectMultiple(description='Select', layout=Layout(display='flex', flex_flow='column', width='750px'), options=(' .', ' ..', ' .DS_Store                              |     Fri Feb  2 10:16:18 2018', ' Sample_2                               |     Directory', ' Sample_2_light                         |     Directory', ' Sample_2_light_timestamp_infos.txt     |     Wed Jan 31 09:30:55 2018', ' Sample_2_timestamp_infos.txt           |     Tue Jan 30 09:32:03 2018', ' data                                   |     Directory', ' shared                                 |     Directory'), value=()), HBox(children=(Button(description='Enter directory', layout=Layout(margin='5px 40px'), style=ButtonStyle()), Button(description='Select', layout=Layout(margin='5px 40px'), style=ButtonStyle())))), layout=Layout(border='1px solid lightgrey', margin='5px', padding='10px'))))"
      ]
     },
     "metadata": {},
     "output_type": "display_data"
    },
    {
     "data": {
      "application/vnd.jupyter.widget-view+json": {
       "model_id": "dc41ca7e8f3c496c8efeed9993638630",
       "version_major": 2,
       "version_minor": 0
      },
      "text/html": [
       "<p>Failed to display Jupyter Widget of type <code>HTML</code>.</p>\n",
       "<p>\n",
       "  If you're reading this message in the Jupyter Notebook or JupyterLab Notebook, it may mean\n",
       "  that the widgets JavaScript is still loading. If this message persists, it\n",
       "  likely means that the widgets JavaScript library is either not installed or\n",
       "  not enabled. See the <a href=\"https://ipywidgets.readthedocs.io/en/stable/user_install.html\">Jupyter\n",
       "  Widgets Documentation</a> for setup instructions.\n",
       "</p>\n",
       "<p>\n",
       "  If you're reading this message in another frontend (for example, a static\n",
       "  rendering on GitHub or <a href=\"https://nbviewer.jupyter.org/\">NBViewer</a>),\n",
       "  it may mean that your frontend doesn't currently support widgets.\n",
       "</p>\n"
      ],
      "text/plain": [
       "HTML(value='Please wait...')"
      ]
     },
     "metadata": {},
     "output_type": "display_data"
    },
    {
     "data": {
      "text/html": [
       "\n",
       "        <style type=\"text/css\">\n",
       "        .jupyter-widgets select option {font-family: \"Lucida Console\", Monaco, monospace;}\n",
       "        div.output_subarea {padding: 0px;}\n",
       "        div.output_subarea > div {margin: 0.4em;}\n",
       "        </style>\n",
       "        "
      ],
      "text/plain": [
       "<IPython.core.display.HTML object>"
      ]
     },
     "metadata": {},
     "output_type": "display_data"
    },
    {
     "data": {
      "application/vnd.jupyter.widget-view+json": {
       "model_id": "388a2258473e4f82a1779ce2b728da84",
       "version_major": 2,
       "version_minor": 0
      },
      "text/html": [
       "<p>Failed to display Jupyter Widget of type <code>VBox</code>.</p>\n",
       "<p>\n",
       "  If you're reading this message in the Jupyter Notebook or JupyterLab Notebook, it may mean\n",
       "  that the widgets JavaScript is still loading. If this message persists, it\n",
       "  likely means that the widgets JavaScript library is either not installed or\n",
       "  not enabled. See the <a href=\"https://ipywidgets.readthedocs.io/en/stable/user_install.html\">Jupyter\n",
       "  Widgets Documentation</a> for setup instructions.\n",
       "</p>\n",
       "<p>\n",
       "  If you're reading this message in another frontend (for example, a static\n",
       "  rendering on GitHub or <a href=\"https://nbviewer.jupyter.org/\">NBViewer</a>),\n",
       "  it may mean that your frontend doesn't currently support widgets.\n",
       "</p>\n"
      ],
      "text/plain": [
       "VBox(children=(Label(value='Select Images ...', layout=Layout(width='250px')), HBox(children=(HBox(children=(Text(value='/Users/j35/IPTS/IPTS-18813/Sample_2_light', description='Location: ', layout=Layout(width='300px'), placeholder=''), Button(description='Jump', layout=Layout(margin='5px 10px', width='100px'), style=ButtonStyle())), layout=Layout(border='1px solid lightgrey', margin='5px 50px 5px 5px', padding='3px')),)), VBox(children=(SelectMultiple(description='Select', layout=Layout(display='flex', flex_flow='column', width='750px'), options=(' .', ' ..', ' 20180116_Sample2_Methane_150K_04Bar_0030_0441.tiff        |     Tue Jan 16 23:59:52 2018', ' 20180116_Sample2_Methane_150K_04Bar_0030_0442.tiff        |     Wed Jan 17 00:00:27 2018', ' 20180116_Sample2_Methane_150K_08Bar_0030_0431.tiff        |     Tue Jan 16 23:42:51 2018', ' 20180116_Sample2_Methane_150K_08Bar_0030_0432.tiff        |     Tue Jan 16 23:43:26 2018', ' 20180116_Sample2_Methane_150K_08Bar_0030_0433.tiff        |     Tue Jan 16 23:44:01 2018', ' 20180116_Sample2_Methane_150K_08Bar_0030_0434.tiff        |     Tue Jan 16 23:44:36 2018', ' 20180116_Sample2_Methane_150K_08Bar_0030_0435.tiff        |     Tue Jan 16 23:45:11 2018', ' 20180116_Sample2_Methane_150K_08Bar_0030_0436.tiff        |     Tue Jan 16 23:52:37 2018', ' 20180116_Sample2_Methane_150K_08Bar_0030_0437.tiff        |     Tue Jan 16 23:53:12 2018', ' 20180116_Sample2_Methane_150K_08Bar_0030_0438.tiff        |     Tue Jan 16 23:53:47 2018', ' 20180116_Sample2_Methane_150K_08Bar_0030_0439.tiff        |     Tue Jan 16 23:54:22 2018', ' 20180116_Sample2_Methane_150K_08Bar_0030_0440.tiff        |     Tue Jan 16 23:54:57 2018', ' 20180116_Sample2_Methane_150K_15Bar_0030_0426.tiff        |     Tue Jan 16 23:27:47 2018', ' 20180116_Sample2_Methane_150K_15Bar_0030_0427.tiff        |     Tue Jan 16 23:28:22 2018', ' 20180116_Sample2_Methane_150K_15Bar_0030_0428.tiff        |     Tue Jan 16 23:28:57 2018', ' 20180116_Sample2_Methane_150K_15Bar_0030_0429.tiff        |     Tue Jan 16 23:29:31 2018', ' 20180116_Sample2_Methane_150K_15Bar_0030_0430.tiff        |     Tue Jan 16 23:30:06 2018', ' 20180116_Sample2_Methane_150K_30Bar_0030_0421.tiff        |     Tue Jan 16 23:23:00 2018', ' 20180116_Sample2_Methane_150K_30Bar_0030_0422.tiff        |     Tue Jan 16 23:23:35 2018', ' 20180116_Sample2_Methane_150K_30Bar_0030_0423.tiff        |     Tue Jan 16 23:24:09 2018', ' 20180116_Sample2_Methane_150K_30Bar_0030_0424.tiff        |     Tue Jan 16 23:24:44 2018', ' 20180116_Sample2_Methane_150K_30Bar_0030_0425.tiff        |     Tue Jan 16 23:25:19 2018', ' 20180116_Sample2_Methane_150K_61Bar_0030_0416.tiff        |     Tue Jan 16 23:15:39 2018', ' 20180116_Sample2_Methane_150K_61Bar_0030_0417.tiff        |     Tue Jan 16 23:16:14 2018', ' 20180116_Sample2_Methane_150K_61Bar_0030_0418.tiff        |     Tue Jan 16 23:16:49 2018', ' 20180116_Sample2_Methane_150K_61Bar_0030_0419.tiff        |     Tue Jan 16 23:17:24 2018', ' 20180116_Sample2_Methane_150K_61Bar_0030_0420.tiff        |     Tue Jan 16 23:17:59 2018', ' 20180116_Sample2_Methane_150K_92Bar_0030_0410.tiff        |     Tue Jan 16 23:03:55 2018', ' 20180116_Sample2_Methane_150K_92Bar_0030_0411.tiff        |     Tue Jan 16 23:04:30 2018', ' 20180116_Sample2_Methane_150K_92Bar_0030_0412.tiff        |     Tue Jan 16 23:05:05 2018', ' 20180116_Sample2_Methane_150K_92Bar_0030_0413.tiff        |     Tue Jan 16 23:05:40 2018', ' 20180116_Sample2_Methane_150K_92Bar_0030_0414.tiff        |     Tue Jan 16 23:06:15 2018', ' 20180116_Sample2_Methane_150K_92Bar_0030_0415.tiff        |     Tue Jan 16 23:06:50 2018', ' 20180116_Sample2_Methane_200K_00Bar_0030_0296.tiff        |     Tue Jan 16 21:05:30 2018', ' 20180116_Sample2_Methane_200K_00Bar_0030_0297.tiff        |     Tue Jan 16 21:06:04 2018', ' 20180116_Sample2_Methane_200K_00Bar_0030_0298.tiff        |     Tue Jan 16 21:06:39 2018', ' 20180116_Sample2_Methane_200K_00Bar_0030_0299.tiff        |     Tue Jan 16 21:07:14 2018', ' 20180116_Sample2_Methane_200K_00Bar_0030_0300.tiff        |     Tue Jan 16 21:07:49 2018', ' 20180116_Sample2_Methane_200K_00Bar_0030_0326.tiff        |     Tue Jan 16 22:03:39 2018', ' 20180116_Sample2_Methane_200K_00Bar_0030_0327.tiff        |     Tue Jan 16 22:04:14 2018', ' 20180116_Sample2_Methane_200K_00Bar_0030_0328.tiff        |     Tue Jan 16 22:04:49 2018', ' 20180116_Sample2_Methane_200K_00Bar_0030_0329.tiff        |     Tue Jan 16 22:05:24 2018', ' 20180116_Sample2_Methane_200K_00Bar_0030_0330.tiff        |     Tue Jan 16 22:05:59 2018', ' 20180116_Sample2_Methane_200K_04Bar_0030_0321.tiff        |     Tue Jan 16 21:58:35 2018', ' 20180116_Sample2_Methane_200K_04Bar_0030_0322.tiff        |     Tue Jan 16 21:59:09 2018', ' 20180116_Sample2_Methane_200K_04Bar_0030_0323.tiff        |     Tue Jan 16 21:59:44 2018', ' 20180116_Sample2_Methane_200K_04Bar_0030_0324.tiff        |     Tue Jan 16 22:00:19 2018', ' 20180116_Sample2_Methane_200K_04Bar_0030_0325.tiff        |     Tue Jan 16 22:00:54 2018', ' 20180116_Sample2_Methane_200K_08Bar_0030_0316.tiff        |     Tue Jan 16 21:52:36 2018', ' 20180116_Sample2_Methane_200K_08Bar_0030_0317.tiff        |     Tue Jan 16 21:53:11 2018', ' 20180116_Sample2_Methane_200K_08Bar_0030_0318.tiff        |     Tue Jan 16 21:53:46 2018', ' 20180116_Sample2_Methane_200K_08Bar_0030_0319.tiff        |     Tue Jan 16 21:54:21 2018', ' 20180116_Sample2_Methane_200K_08Bar_0030_0320.tiff        |     Tue Jan 16 21:54:56 2018', ' 20180116_Sample2_Methane_200K_30Bar_0030_0311.tiff        |     Tue Jan 16 21:36:18 2018', ' 20180116_Sample2_Methane_200K_30Bar_0030_0312.tiff        |     Tue Jan 16 21:36:53 2018', ' 20180116_Sample2_Methane_200K_30Bar_0030_0313.tiff        |     Tue Jan 16 21:37:28 2018', ' 20180116_Sample2_Methane_200K_30Bar_0030_0314.tiff        |     Tue Jan 16 21:38:02 2018', ' 20180116_Sample2_Methane_200K_30Bar_0030_0315.tiff        |     Tue Jan 16 21:38:37 2018', ' 20180116_Sample2_Methane_cooling_00Bar_0030_0094.tiff     |     Tue Jan 16 18:51:58 2018', ' 20180116_Sample2_Methane_cooling_00Bar_0030_0095.tiff     |     Tue Jan 16 18:52:33 2018', ' 20180116_Sample2_Methane_cooling_00Bar_0030_0096.tiff     |     Tue Jan 16 18:56:33 2018', ' 20180116_Sample2_Methane_cooling_00Bar_0030_0097.tiff     |     Tue Jan 16 18:57:08 2018', ' 20180116_Sample2_Methane_cooling_00Bar_0030_0098.tiff     |     Tue Jan 16 18:57:43 2018', ' 20180116_Sample2_Methane_cooling_00Bar_0030_0099.tiff     |     Tue Jan 16 18:58:18 2018', ' 20180116_Sample2_Methane_cooling_00Bar_0030_0100.tiff     |     Tue Jan 16 18:58:53 2018', ' 20180116_Sample2_Methane_cooling_00Bar_0030_0101.tiff     |     Tue Jan 16 18:59:28 2018', ' 20180116_Sample2_Methane_cooling_00Bar_0030_0102.tiff     |     Tue Jan 16 19:00:03 2018', ' 20180116_Sample2_Methane_cooling_00Bar_0030_0103.tiff     |     Tue Jan 16 19:00:38 2018', ' 20180116_Sample2_Methane_cooling_00Bar_0030_0104.tiff     |     Tue Jan 16 19:01:13 2018', ' 20180116_Sample2_Methane_cooling_00Bar_0030_0105.tiff     |     Tue Jan 16 19:01:48 2018', ' 20180116_Sample2_Methane_cooling_00Bar_0030_0106.tiff     |     Tue Jan 16 19:02:22 2018', ' 20180116_Sample2_Methane_cooling_00Bar_0030_0107.tiff     |     Tue Jan 16 19:02:57 2018', ' 20180116_Sample2_Methane_cooling_00Bar_0030_0108.tiff     |     Tue Jan 16 19:03:32 2018', ' 20180116_Sample2_Methane_cooling_00Bar_0030_0109.tiff     |     Tue Jan 16 19:04:07 2018', ' 20180116_Sample2_Methane_cooling_00Bar_0030_0110.tiff     |     Tue Jan 16 19:04:42 2018', ' 20180116_Sample2_Methane_cooling_00Bar_0030_0111.tiff     |     Tue Jan 16 19:05:17 2018', ' 20180116_Sample2_Methane_cooling_00Bar_0030_0112.tiff     |     Tue Jan 16 19:05:52 2018', ' 20180116_Sample2_Methane_cooling_00Bar_0030_0113.tiff     |     Tue Jan 16 19:06:27 2018', ' 20180116_Sample2_Methane_cooling_00Bar_0030_0114.tiff     |     Tue Jan 16 19:07:02 2018', ' 20180116_Sample2_Methane_cooling_00Bar_0030_0115.tiff     |     Tue Jan 16 19:07:37 2018', ' 20180116_Sample2_Methane_cooling_00Bar_0030_0116.tiff     |     Tue Jan 16 19:08:12 2018', ' 20180116_Sample2_Methane_cooling_00Bar_0030_0117.tiff     |     Tue Jan 16 19:08:47 2018', ' 20180116_Sample2_Methane_cooling_00Bar_0030_0118.tiff     |     Tue Jan 16 19:09:21 2018', ' 20180116_Sample2_Methane_cooling_00Bar_0030_0119.tiff     |     Tue Jan 16 19:09:56 2018', ' 20180116_Sample2_Methane_cooling_00Bar_0030_0120.tiff     |     Tue Jan 16 19:10:31 2018', ' 20180116_Sample2_Methane_cooling_00Bar_0030_0121.tiff     |     Tue Jan 16 19:11:06 2018', ' 20180116_Sample2_Methane_cooling_00Bar_0030_0122.tiff     |     Tue Jan 16 19:11:41 2018', ' 20180116_Sample2_Methane_cooling_00Bar_0030_0123.tiff     |     Tue Jan 16 19:12:16 2018', ' 20180116_Sample2_Methane_cooling_00Bar_0030_0124.tiff     |     Tue Jan 16 19:12:51 2018', ' 20180116_Sample2_Methane_cooling_00Bar_0030_0125.tiff     |     Tue Jan 16 19:13:26 2018', ' 20180116_Sample2_Methane_cooling_00Bar_0030_0126.tiff     |     Tue Jan 16 19:14:01 2018', ' 20180116_Sample2_Methane_cooling_00Bar_0030_0127.tiff     |     Tue Jan 16 19:14:36 2018', ' 20180116_Sample2_Methane_cooling_00Bar_0030_0128.tiff     |     Tue Jan 16 19:15:11 2018', ' 20180116_Sample2_Methane_cooling_00Bar_0030_0129.tiff     |     Tue Jan 16 19:15:46 2018', ' 20180116_Sample2_Methane_cooling_00Bar_0030_0130.tiff     |     Tue Jan 16 19:16:21 2018', ' 20180116_Sample2_Methane_cooling_00Bar_0030_0131.tiff     |     Tue Jan 16 19:16:56 2018', ' 20180116_Sample2_Methane_cooling_00Bar_0030_0132.tiff     |     Tue Jan 16 19:17:30 2018', ' 20180116_Sample2_Methane_cooling_00Bar_0030_0133.tiff     |     Tue Jan 16 19:18:05 2018', ' 20180116_Sample2_Methane_cooling_00Bar_0030_0134.tiff     |     Tue Jan 16 19:18:40 2018', ' 20180116_Sample2_Methane_cooling_00Bar_0030_0135.tiff     |     Tue Jan 16 19:19:15 2018', ' 20180116_Sample2_Methane_cooling_00Bar_0030_0136.tiff     |     Tue Jan 16 19:19:50 2018', ' 20180116_Sample2_Methane_cooling_00Bar_0030_0137.tiff     |     Tue Jan 16 19:20:25 2018', ' 20180116_Sample2_Methane_cooling_00Bar_0030_0138.tiff     |     Tue Jan 16 19:21:00 2018', ' 20180116_Sample2_Methane_cooling_00Bar_0030_0139.tiff     |     Tue Jan 16 19:21:35 2018', ' 20180116_Sample2_Methane_cooling_00Bar_0030_0140.tiff     |     Tue Jan 16 19:22:10 2018', ' 20180116_Sample2_Methane_cooling_00Bar_0030_0141.tiff     |     Tue Jan 16 19:22:45 2018', ' 20180116_Sample2_Methane_cooling_00Bar_0030_0142.tiff     |     Tue Jan 16 19:23:20 2018', ' 20180116_Sample2_Methane_cooling_00Bar_0030_0143.tiff     |     Tue Jan 16 19:23:55 2018', ' 20180116_Sample2_Methane_cooling_00Bar_0030_0144.tiff     |     Tue Jan 16 19:24:29 2018', ' 20180116_Sample2_Methane_cooling_00Bar_0030_0145.tiff     |     Tue Jan 16 19:25:04 2018', ' 20180116_Sample2_Methane_cooling_00Bar_0030_0146.tiff     |     Tue Jan 16 19:25:39 2018', ' 20180116_Sample2_Methane_cooling_00Bar_0030_0147.tiff     |     Tue Jan 16 19:26:14 2018', ' 20180116_Sample2_Methane_cooling_00Bar_0030_0148.tiff     |     Tue Jan 16 19:26:49 2018', ' 20180116_Sample2_Methane_cooling_00Bar_0030_0149.tiff     |     Tue Jan 16 19:27:24 2018', ' 20180116_Sample2_Methane_cooling_00Bar_0030_0150.tiff     |     Tue Jan 16 19:27:59 2018', ' 20180116_Sample2_Methane_cooling_00Bar_0030_0151.tiff     |     Tue Jan 16 19:28:34 2018', ' 20180116_Sample2_Methane_cooling_00Bar_0030_0152.tiff     |     Tue Jan 16 19:29:09 2018', ' 20180116_Sample2_Methane_cooling_00Bar_0030_0153.tiff     |     Tue Jan 16 19:29:44 2018', ' 20180116_Sample2_Methane_cooling_00Bar_0030_0154.tiff     |     Tue Jan 16 19:30:19 2018', ' 20180116_Sample2_Methane_cooling_00Bar_0030_0155.tiff     |     Tue Jan 16 19:30:54 2018', ' 20180116_Sample2_Methane_cooling_00Bar_0030_0156.tiff     |     Tue Jan 16 19:31:29 2018', ' 20180116_Sample2_Methane_cooling_00Bar_0030_0157.tiff     |     Tue Jan 16 19:32:03 2018', ' 20180116_Sample2_Methane_cooling_00Bar_0030_0158.tiff     |     Tue Jan 16 19:32:38 2018', ' 20180116_Sample2_Methane_cooling_00Bar_0030_0159.tiff     |     Tue Jan 16 19:33:13 2018', ' 20180116_Sample2_Methane_cooling_00Bar_0030_0160.tiff     |     Tue Jan 16 19:33:48 2018', ' 20180116_Sample2_Methane_cooling_00Bar_0030_0161.tiff     |     Tue Jan 16 19:34:23 2018', ' 20180116_Sample2_Methane_cooling_00Bar_0030_0162.tiff     |     Tue Jan 16 19:34:58 2018', ' 20180116_Sample2_Methane_cooling_00Bar_0030_0163.tiff     |     Tue Jan 16 19:35:33 2018', ' 20180116_Sample2_Methane_cooling_00Bar_0030_0164.tiff     |     Tue Jan 16 19:36:08 2018', ' 20180116_Sample2_Methane_cooling_00Bar_0030_0165.tiff     |     Tue Jan 16 19:36:43 2018', ' 20180116_Sample2_Methane_cooling_00Bar_0030_0166.tiff     |     Tue Jan 16 19:37:18 2018', ' 20180116_Sample2_Methane_cooling_00Bar_0030_0167.tiff     |     Tue Jan 16 19:37:53 2018', ' 20180116_Sample2_Methane_cooling_00Bar_0030_0168.tiff     |     Tue Jan 16 19:38:28 2018', ' 20180116_Sample2_Methane_cooling_00Bar_0030_0169.tiff     |     Tue Jan 16 19:39:03 2018', ' 20180116_Sample2_Methane_cooling_00Bar_0030_0170.tiff     |     Tue Jan 16 19:39:37 2018', ' 20180116_Sample2_Methane_cooling_00Bar_0030_0171.tiff     |     Tue Jan 16 19:40:12 2018', ' 20180116_Sample2_Methane_cooling_00Bar_0030_0172.tiff     |     Tue Jan 16 19:40:47 2018', ' 20180116_Sample2_Methane_cooling_00Bar_0030_0173.tiff     |     Tue Jan 16 19:41:22 2018', ' 20180116_Sample2_Methane_cooling_00Bar_0030_0174.tiff     |     Tue Jan 16 19:41:57 2018', ' 20180116_Sample2_Methane_cooling_00Bar_0030_0175.tiff     |     Tue Jan 16 19:42:32 2018', ' 20180116_Sample2_Methane_cooling_00Bar_0030_0176.tiff     |     Tue Jan 16 19:43:07 2018', ' 20180116_Sample2_Methane_cooling_00Bar_0030_0177.tiff     |     Tue Jan 16 19:43:42 2018', ' 20180116_Sample2_Methane_cooling_00Bar_0030_0178.tiff     |     Tue Jan 16 19:44:17 2018', ' 20180116_Sample2_Methane_cooling_00Bar_0030_0179.tiff     |     Tue Jan 16 19:44:52 2018', ' 20180116_Sample2_Methane_cooling_00Bar_0030_0180.tiff     |     Tue Jan 16 19:45:27 2018', ' 20180116_Sample2_Methane_cooling_00Bar_0030_0181.tiff     |     Tue Jan 16 19:46:02 2018', ' 20180116_Sample2_Methane_cooling_00Bar_0030_0182.tiff     |     Tue Jan 16 19:46:36 2018', ' 20180116_Sample2_Methane_cooling_00Bar_0030_0183.tiff     |     Tue Jan 16 19:47:11 2018', ' 20180116_Sample2_Methane_cooling_00Bar_0030_0184.tiff     |     Tue Jan 16 19:47:46 2018', ' 20180116_Sample2_Methane_cooling_00Bar_0030_0185.tiff     |     Tue Jan 16 19:48:21 2018', ' 20180116_Sample2_Methane_cooling_00Bar_0030_0186.tiff     |     Tue Jan 16 19:48:56 2018', ' 20180116_Sample2_Methane_cooling_00Bar_0030_0187.tiff     |     Tue Jan 16 19:49:31 2018', ' 20180116_Sample2_Methane_cooling_00Bar_0030_0188.tiff     |     Tue Jan 16 19:50:06 2018', ' 20180116_Sample2_Methane_cooling_00Bar_0030_0189.tiff     |     Tue Jan 16 19:50:41 2018', ' 20180116_Sample2_Methane_cooling_00Bar_0030_0190.tiff     |     Tue Jan 16 19:51:16 2018', ' 20180116_Sample2_Methane_cooling_00Bar_0030_0191.tiff     |     Tue Jan 16 19:51:51 2018', ' 20180116_Sample2_Methane_cooling_00Bar_0030_0192.tiff     |     Tue Jan 16 19:52:26 2018', ' 20180116_Sample2_Methane_cooling_00Bar_0030_0193.tiff     |     Tue Jan 16 19:53:01 2018', ' 20180116_Sample2_Methane_cooling_00Bar_0030_0194.tiff     |     Tue Jan 16 19:53:36 2018', ' 20180116_Sample2_Methane_cooling_00Bar_0030_0195.tiff     |     Tue Jan 16 19:54:11 2018', ' 20180116_Sample2_Methane_cooling_00Bar_0030_0196.tiff     |     Tue Jan 16 19:54:45 2018', ' 20180116_Sample2_Methane_cooling_00Bar_0030_0197.tiff     |     Tue Jan 16 19:55:20 2018', ' 20180116_Sample2_Methane_cooling_00Bar_0030_0198.tiff     |     Tue Jan 16 19:55:55 2018', ' 20180116_Sample2_Methane_cooling_00Bar_0030_0199.tiff     |     Tue Jan 16 19:56:30 2018', ' 20180116_Sample2_Methane_cooling_00Bar_0030_0200.tiff     |     Tue Jan 16 19:57:05 2018', ' 20180116_Sample2_Methane_cooling_00Bar_0030_0201.tiff     |     Tue Jan 16 19:57:40 2018', ' 20180116_Sample2_Methane_cooling_00Bar_0030_0202.tiff     |     Tue Jan 16 19:58:15 2018', ' 20180116_Sample2_Methane_cooling_00Bar_0030_0203.tiff     |     Tue Jan 16 19:58:50 2018', ' 20180116_Sample2_Methane_cooling_00Bar_0030_0204.tiff     |     Tue Jan 16 19:59:25 2018', ' 20180116_Sample2_Methane_cooling_00Bar_0030_0205.tiff     |     Tue Jan 16 20:00:00 2018', ' 20180116_Sample2_Methane_cooling_00Bar_0030_0206.tiff     |     Tue Jan 16 20:00:35 2018', ' 20180116_Sample2_Methane_cooling_00Bar_0030_0207.tiff     |     Tue Jan 16 20:01:10 2018', ' 20180116_Sample2_Methane_cooling_00Bar_0030_0208.tiff     |     Tue Jan 16 20:01:45 2018', ' 20180116_Sample2_Methane_cooling_00Bar_0030_0209.tiff     |     Tue Jan 16 20:02:19 2018', ' 20180116_Sample2_Methane_cooling_00Bar_0030_0210.tiff     |     Tue Jan 16 20:02:54 2018', ' 20180116_Sample2_Methane_cooling_00Bar_0030_0211.tiff     |     Tue Jan 16 20:03:29 2018', ' 20180116_Sample2_Methane_cooling_00Bar_0030_0212.tiff     |     Tue Jan 16 20:04:04 2018', ' 20180116_Sample2_Methane_cooling_00Bar_0030_0213.tiff     |     Tue Jan 16 20:04:39 2018', ' 20180116_Sample2_Methane_cooling_00Bar_0030_0214.tiff     |     Tue Jan 16 20:05:14 2018', ' 20180116_Sample2_Methane_cooling_00Bar_0030_0215.tiff     |     Tue Jan 16 20:05:49 2018', ' 20180116_Sample2_Methane_cooling_00Bar_0030_0216.tiff     |     Tue Jan 16 20:06:24 2018', ' 20180116_Sample2_Methane_cooling_00Bar_0030_0217.tiff     |     Tue Jan 16 20:06:59 2018', ' 20180116_Sample2_Methane_cooling_00Bar_0030_0218.tiff     |     Tue Jan 16 20:07:34 2018', ' 20180116_Sample2_Methane_cooling_00Bar_0030_0219.tiff     |     Tue Jan 16 20:08:09 2018', ' 20180116_Sample2_Methane_cooling_00Bar_0030_0220.tiff     |     Tue Jan 16 20:08:44 2018', ' 20180116_Sample2_Methane_cooling_00Bar_0030_0221.tiff     |     Tue Jan 16 20:09:19 2018', ' 20180116_Sample2_Methane_cooling_00Bar_0030_0222.tiff     |     Tue Jan 16 20:09:54 2018', ' 20180116_Sample2_Methane_cooling_00Bar_0030_0223.tiff     |     Tue Jan 16 20:10:29 2018', ' 20180116_Sample2_Methane_cooling_00Bar_0030_0224.tiff     |     Tue Jan 16 20:11:04 2018', ' 20180116_Sample2_Methane_cooling_00Bar_0030_0225.tiff     |     Tue Jan 16 20:11:38 2018', ' 20180116_Sample2_Methane_cooling_00Bar_0030_0226.tiff     |     Tue Jan 16 20:12:13 2018', ' 20180116_Sample2_Methane_cooling_00Bar_0030_0227.tiff     |     Tue Jan 16 20:12:48 2018', ' 20180116_Sample2_Methane_cooling_00Bar_0030_0228.tiff     |     Tue Jan 16 20:13:23 2018', ' 20180116_Sample2_Methane_cooling_00Bar_0030_0229.tiff     |     Tue Jan 16 20:13:58 2018', ' 20180116_Sample2_Methane_cooling_00Bar_0030_0230.tiff     |     Tue Jan 16 20:14:33 2018', ' 20180116_Sample2_Methane_cooling_00Bar_0030_0231.tiff     |     Tue Jan 16 20:15:08 2018', ' 20180116_Sample2_Methane_cooling_00Bar_0030_0232.tiff     |     Tue Jan 16 20:15:43 2018', ' 20180116_Sample2_Methane_cooling_00Bar_0030_0233.tiff     |     Tue Jan 16 20:16:18 2018', ' 20180116_Sample2_Methane_cooling_00Bar_0030_0234.tiff     |     Tue Jan 16 20:16:53 2018', ' 20180116_Sample2_Methane_cooling_00Bar_0030_0235.tiff     |     Tue Jan 16 20:17:28 2018', ' 20180116_Sample2_Methane_cooling_00Bar_0030_0236.tiff     |     Tue Jan 16 20:18:03 2018', ' 20180116_Sample2_Methane_cooling_00Bar_0030_0237.tiff     |     Tue Jan 16 20:18:38 2018', ' 20180116_Sample2_Methane_cooling_00Bar_0030_0238.tiff     |     Tue Jan 16 20:19:13 2018', ' 20180116_Sample2_Methane_cooling_00Bar_0030_0239.tiff     |     Tue Jan 16 20:19:48 2018', ' 20180116_Sample2_Methane_cooling_00Bar_0030_0240.tiff     |     Tue Jan 16 20:20:23 2018', ' 20180116_Sample2_Methane_cooling_00Bar_0030_0241.tiff     |     Tue Jan 16 20:20:57 2018', ' 20180116_Sample2_Methane_cooling_00Bar_0030_0242.tiff     |     Tue Jan 16 20:21:32 2018', ' 20180116_Sample2_Methane_cooling_00Bar_0030_0243.tiff     |     Tue Jan 16 20:22:07 2018', ' 20180116_Sample2_Methane_cooling_00Bar_0030_0244.tiff     |     Tue Jan 16 20:22:42 2018', ' 20180116_Sample2_Methane_cooling_00Bar_0030_0245.tiff     |     Tue Jan 16 20:23:17 2018', ' 20180116_Sample2_Methane_cooling_00Bar_0030_0246.tiff     |     Tue Jan 16 20:23:52 2018', ' 20180116_Sample2_Methane_cooling_00Bar_0030_0247.tiff     |     Tue Jan 16 20:24:27 2018', ' 20180116_Sample2_Methane_cooling_00Bar_0030_0248.tiff     |     Tue Jan 16 20:25:02 2018', ' 20180116_Sample2_Methane_cooling_00Bar_0030_0249.tiff     |     Tue Jan 16 20:25:37 2018', ' 20180116_Sample2_Methane_cooling_00Bar_0030_0250.tiff     |     Tue Jan 16 20:26:12 2018', ' 20180116_Sample2_Methane_cooling_00Bar_0030_0251.tiff     |     Tue Jan 16 20:26:47 2018', ' 20180116_Sample2_Methane_cooling_00Bar_0030_0252.tiff     |     Tue Jan 16 20:27:22 2018', ' 20180116_Sample2_Methane_cooling_00Bar_0030_0253.tiff     |     Tue Jan 16 20:27:57 2018', ' 20180116_Sample2_Methane_cooling_00Bar_0030_0254.tiff     |     Tue Jan 16 20:28:31 2018', ' 20180116_Sample2_Methane_cooling_00Bar_0030_0255.tiff     |     Tue Jan 16 20:29:06 2018', ' 20180116_Sample2_Methane_cooling_00Bar_0030_0256.tiff     |     Tue Jan 16 20:29:41 2018', ' 20180116_Sample2_Methane_cooling_00Bar_0030_0257.tiff     |     Tue Jan 16 20:30:16 2018', ' 20180116_Sample2_Methane_cooling_00Bar_0030_0258.tiff     |     Tue Jan 16 20:30:51 2018', ' 20180116_Sample2_Methane_cooling_00Bar_0030_0259.tiff     |     Tue Jan 16 20:31:26 2018', ' 20180116_Sample2_Methane_cooling_00Bar_0030_0260.tiff     |     Tue Jan 16 20:32:01 2018', ' 20180116_Sample2_Methane_cooling_00Bar_0030_0261.tiff     |     Tue Jan 16 20:32:36 2018', ' 20180116_Sample2_Methane_cooling_00Bar_0030_0262.tiff     |     Tue Jan 16 20:33:11 2018', ' 20180116_Sample2_Methane_cooling_00Bar_0030_0263.tiff     |     Tue Jan 16 20:33:46 2018', ' 20180116_Sample2_Methane_cooling_00Bar_0030_0264.tiff     |     Tue Jan 16 20:34:21 2018', ' 20180116_Sample2_Methane_cooling_00Bar_0030_0265.tiff     |     Tue Jan 16 20:34:56 2018', ' 20180116_Sample2_Methane_cooling_00Bar_0030_0266.tiff     |     Tue Jan 16 20:35:31 2018', ' 20180116_Sample2_Methane_cooling_00Bar_0030_0267.tiff     |     Tue Jan 16 20:36:05 2018', ' 20180116_Sample2_Methane_cooling_00Bar_0030_0268.tiff     |     Tue Jan 16 20:36:41 2018', ' 20180116_Sample2_Methane_cooling_00Bar_0030_0269.tiff     |     Tue Jan 16 20:37:16 2018', ' 20180116_Sample2_Methane_cooling_00Bar_0030_0270.tiff     |     Tue Jan 16 20:37:50 2018', ' 20180116_Sample2_Methane_cooling_00Bar_0030_0271.tiff     |     Tue Jan 16 20:38:25 2018', ' 20180116_Sample2_Methane_cooling_00Bar_0030_0272.tiff     |     Tue Jan 16 20:39:00 2018', ' 20180116_Sample2_Methane_cooling_00Bar_0030_0273.tiff     |     Tue Jan 16 20:39:35 2018', ' 20180116_Sample2_Methane_cooling_00Bar_0030_0274.tiff     |     Tue Jan 16 20:40:10 2018', ' 20180116_Sample2_Methane_cooling_00Bar_0030_0275.tiff     |     Tue Jan 16 20:40:45 2018', ' 20180116_Sample2_Methane_cooling_00Bar_0030_0276.tiff     |     Tue Jan 16 20:41:20 2018', ' 20180116_Sample2_Methane_cooling_00Bar_0030_0277.tiff     |     Tue Jan 16 20:41:55 2018', ' 20180116_Sample2_Methane_cooling_00Bar_0030_0278.tiff     |     Tue Jan 16 20:42:30 2018', ' 20180116_Sample2_Methane_cooling_00Bar_0030_0279.tiff     |     Tue Jan 16 20:43:05 2018', ' 20180116_Sample2_Methane_cooling_00Bar_0030_0280.tiff     |     Tue Jan 16 20:43:40 2018', ' 20180116_Sample2_Methane_cooling_00Bar_0030_0281.tiff     |     Tue Jan 16 20:44:15 2018', ' 20180116_Sample2_Methane_cooling_00Bar_0030_0282.tiff     |     Tue Jan 16 20:44:50 2018', ' 20180116_Sample2_Methane_cooling_00Bar_0030_0283.tiff     |     Tue Jan 16 20:45:24 2018', ' 20180116_Sample2_Methane_cooling_00Bar_0030_0284.tiff     |     Tue Jan 16 20:45:59 2018', ' 20180116_Sample2_Methane_cooling_00Bar_0030_0285.tiff     |     Tue Jan 16 20:46:34 2018', ' 20180116_Sample2_Methane_cooling_00Bar_0030_0286.tiff     |     Tue Jan 16 20:47:09 2018', ' 20180116_Sample2_Methane_cooling_00Bar_0030_0287.tiff     |     Tue Jan 16 20:47:44 2018', ' 20180116_Sample2_Methane_cooling_00Bar_0030_0288.tiff     |     Tue Jan 16 20:48:19 2018', ' 20180116_Sample2_Methane_cooling_00Bar_0030_0289.tiff     |     Tue Jan 16 20:48:54 2018', ' 20180116_Sample2_Methane_cooling_00Bar_0030_0290.tiff     |     Tue Jan 16 20:49:29 2018', ' 20180116_Sample2_Methane_cooling_00Bar_0030_0291.tiff     |     Tue Jan 16 20:50:04 2018', ' 20180116_Sample2_Methane_cooling_00Bar_0030_0292.tiff     |     Tue Jan 16 20:50:39 2018', ' 20180116_Sample2_Methane_cooling_00Bar_0030_0293.tiff     |     Tue Jan 16 20:51:14 2018', ' 20180116_Sample2_Methane_cooling_00Bar_0030_0294.tiff     |     Tue Jan 16 20:51:49 2018', ' 20180116_Sample2_Methane_cooling_00Bar_0030_0295.tiff     |     Tue Jan 16 20:52:24 2018'), value=()), HBox(children=(Button(description='Enter directory', layout=Layout(margin='5px 40px'), style=ButtonStyle()), Button(description='Select', layout=Layout(margin='5px 40px'), style=ButtonStyle())))), layout=Layout(border='1px solid lightgrey', margin='5px', padding='10px'))))"
      ]
     },
     "metadata": {},
     "output_type": "display_data"
    }
   ],
   "source": [
    "o_water = WaterIntakeProfileCalculator(working_dir = system.System.get_working_dir())\n",
    "o_water.select_data()"
   ]
  },
  {
   "cell_type": "code",
   "execution_count": 6,
   "metadata": {
    "scrolled": true
   },
   "outputs": [
    {
     "data": {
      "application/vnd.jupyter.widget-view+json": {
       "model_id": "6660c9eef50143e194cbaea2408878f5",
       "version_major": 2,
       "version_minor": 0
      },
      "text/html": [
       "<p>Failed to display Jupyter Widget of type <code>HBox</code>.</p>\n",
       "<p>\n",
       "  If you're reading this message in the Jupyter Notebook or JupyterLab Notebook, it may mean\n",
       "  that the widgets JavaScript is still loading. If this message persists, it\n",
       "  likely means that the widgets JavaScript library is either not installed or\n",
       "  not enabled. See the <a href=\"https://ipywidgets.readthedocs.io/en/stable/user_install.html\">Jupyter\n",
       "  Widgets Documentation</a> for setup instructions.\n",
       "</p>\n",
       "<p>\n",
       "  If you're reading this message in another frontend (for example, a static\n",
       "  rendering on GitHub or <a href=\"https://nbviewer.jupyter.org/\">NBViewer</a>),\n",
       "  it may mean that your frontend doesn't currently support widgets.\n",
       "</p>\n"
      ],
      "text/plain": [
       "HBox(children=(Label(value='Retrieving Time Stamp', layout=Layout(width='20%')), IntProgress(value=0, layout=Layout(width='50%'), max=5)))"
      ]
     },
     "metadata": {},
     "output_type": "display_data"
    },
    {
     "data": {
      "application/vnd.jupyter.widget-view+json": {
       "model_id": "1165cf06027a4b108b1fd892a71d7988",
       "version_major": 2,
       "version_minor": 0
      },
      "text/html": [
       "<p>Failed to display Jupyter Widget of type <code>HBox</code>.</p>\n",
       "<p>\n",
       "  If you're reading this message in the Jupyter Notebook or JupyterLab Notebook, it may mean\n",
       "  that the widgets JavaScript is still loading. If this message persists, it\n",
       "  likely means that the widgets JavaScript library is either not installed or\n",
       "  not enabled. See the <a href=\"https://ipywidgets.readthedocs.io/en/stable/user_install.html\">Jupyter\n",
       "  Widgets Documentation</a> for setup instructions.\n",
       "</p>\n",
       "<p>\n",
       "  If you're reading this message in another frontend (for example, a static\n",
       "  rendering on GitHub or <a href=\"https://nbviewer.jupyter.org/\">NBViewer</a>),\n",
       "  it may mean that your frontend doesn't currently support widgets.\n",
       "</p>\n"
      ],
      "text/plain": [
       "HBox(children=(Label(value='Loading sample', layout=Layout(width='20%')), IntProgress(value=0, max=5)))"
      ]
     },
     "metadata": {},
     "output_type": "display_data"
    }
   ],
   "source": [
    "o_water.sort_and_load()"
   ]
  },
  {
   "cell_type": "markdown",
   "metadata": {},
   "source": [
    "# Select Profile Region "
   ]
  },
  {
   "cell_type": "code",
   "execution_count": 4,
   "metadata": {},
   "outputs": [],
   "source": [
    "#for debugging only\n",
    "import numpy as np\n",
    "data = []\n",
    "for i in range(10):\n",
    "    data.append(np.random.random((500,500)))\n",
    "_dict_data = {'list_data': data}"
   ]
  },
  {
   "cell_type": "code",
   "execution_count": 5,
   "metadata": {},
   "outputs": [
    {
     "data": {
      "text/html": [
       "<span style=\"font-size: 20px; color:blue\">Check UI that poped up             (maybe hidden behind this browser!)</span>"
      ],
      "text/plain": [
       "<IPython.core.display.HTML object>"
      ]
     },
     "metadata": {},
     "output_type": "display_data"
    },
    {
     "name": "stdout",
     "output_type": "stream",
     "text": [
      "0\n",
      "1\n",
      "2\n",
      "3\n",
      "4\n",
      "5\n",
      "6\n",
      "7\n",
      "8\n",
      "9\n",
      "8\n",
      "7\n",
      "6\n",
      "5\n",
      "4\n",
      "3\n",
      "2\n",
      "3\n",
      "4\n",
      "5\n",
      "6\n",
      "7\n",
      "8\n",
      "9\n",
      "8\n",
      "7\n",
      "6\n",
      "5\n",
      "4\n",
      "3\n",
      "2\n",
      "1\n",
      "0\n",
      "1\n",
      "2\n",
      "3\n",
      "4\n",
      "5\n",
      "6\n",
      "7\n",
      "8\n"
     ]
    }
   ],
   "source": [
    "o_gui = WaterIntakeProfileSelector(dict_data=_dict_data)\n",
    "o_gui.show()"
   ]
  },
  {
   "cell_type": "code",
   "execution_count": null,
   "metadata": {},
   "outputs": [],
   "source": []
  },
  {
   "cell_type": "code",
   "execution_count": null,
   "metadata": {
    "run_control": {
     "frozen": false,
     "read_only": false
    }
   },
   "outputs": [],
   "source": []
  }
 ],
 "metadata": {
  "kernelspec": {
   "display_name": "Python 3",
   "language": "python",
   "name": "python3"
  },
  "language_info": {
   "codemirror_mode": {
    "name": "ipython",
    "version": 3
   },
   "file_extension": ".py",
   "mimetype": "text/x-python",
   "name": "python",
   "nbconvert_exporter": "python",
   "pygments_lexer": "ipython3",
   "version": "3.6.2"
  },
  "toc": {
   "colors": {
    "hover_highlight": "#DAA520",
    "running_highlight": "#FF0000",
    "selected_highlight": "#FFD700"
   },
   "moveMenuLeft": true,
   "nav_menu": {
    "height": "138px",
    "width": "252px"
   },
   "navigate_menu": true,
   "number_sections": true,
   "sideBar": true,
   "threshold": 4,
   "toc_cell": false,
   "toc_section_display": "block",
   "toc_window_display": false
  }
 },
 "nbformat": 4,
 "nbformat_minor": 2
}
