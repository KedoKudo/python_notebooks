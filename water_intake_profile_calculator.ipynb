{
 "cells": [
  {
   "cell_type": "markdown",
   "metadata": {},
   "source": [
    "[![Notebook Tutorial](__code/__all/notebook_tutorial.png)](https://neutronimaging.pages.ornl.gov/en/tutorial/notebooks/water_intake_profile_calculator/)"
   ]
  },
  {
   "cell_type": "markdown",
   "metadata": {
    "run_control": {
     "frozen": false,
     "read_only": false
    }
   },
   "source": [
    "# Select your IPTS "
   ]
  },
  {
   "cell_type": "code",
   "execution_count": 1,
   "metadata": {
    "run_control": {
     "frozen": false,
     "read_only": false
    }
   },
   "outputs": [
    {
     "name": "stdout",
     "output_type": "stream",
     "text": [
      "** Using Debugging Mode! **\n"
     ]
    },
    {
     "data": {
      "application/vnd.jupyter.widget-view+json": {
       "model_id": "a769912d16354bc2a5b85e5bd6ca88bf",
       "version_major": 2,
       "version_minor": 0
      },
      "text/html": [
       "<p>Failed to display Jupyter Widget of type <code>VBox</code>.</p>\n",
       "<p>\n",
       "  If you're reading this message in the Jupyter Notebook or JupyterLab Notebook, it may mean\n",
       "  that the widgets JavaScript is still loading. If this message persists, it\n",
       "  likely means that the widgets JavaScript library is either not installed or\n",
       "  not enabled. See the <a href=\"https://ipywidgets.readthedocs.io/en/stable/user_install.html\">Jupyter\n",
       "  Widgets Documentation</a> for setup instructions.\n",
       "</p>\n",
       "<p>\n",
       "  If you're reading this message in another frontend (for example, a static\n",
       "  rendering on GitHub or <a href=\"https://nbviewer.jupyter.org/\">NBViewer</a>),\n",
       "  it may mean that your frontend doesn't currently support widgets.\n",
       "</p>\n"
      ],
      "text/plain": [
       "VBox(children=(HBox(children=(Label(value='IPTS-'), Text(value='', layout=Layout(width='10%')), Label(value='DOES NOT EXIST!', layout=Layout(width='20%'), _dom_classes=('result_label',)))), Label(value='OR'), HBox(children=(Label(value='Select Folder', layout=Layout(width='20%')), Select(layout=Layout(height='300px'), options=('IPTS-15177', 'IPTS-18813'), value='IPTS-15177'))), Button(button_style='info', description='HELP', style=ButtonStyle())))"
      ]
     },
     "metadata": {},
     "output_type": "display_data"
    },
    {
     "data": {
      "text/html": [
       "<style>\n",
       "\n",
       "/* The following CSS has been adapted from\n",
       "   http://nbviewer.ipython.org/github/ketch/teaching-numerics-with-notebooks/blob/master/Styling_notebooks.ipynb\n",
       "   by Aron Ahmadia and David Ketcheson and has been reused under CC BY 4.0\n",
       "   */\n",
       "\n",
       "/* main background */\n",
       "#site { \n",
       "    background: #888;\n",
       "    color: #red; \n",
       "}\n",
       "\n",
       "div.container {\n",
       "    width: 100% ! important;\n",
       "}\n",
       "\n",
       "div.cell { /* set cell width to about 80 chars */\n",
       "    width: 95%;\n",
       "}\n",
       "\n",
       "div #notebook { /* centre the content */\n",
       "/*    background: #fff; /* white background for content */\n",
       "    background: blue;\n",
       "    width: 100%;\n",
       "    margin: auto;\n",
       "    padding-left: 1em;\n",
       "    padding-right: 1em;\n",
       "    background-image: url(\"tile_background.jpg\");\n",
       "}\n",
       "\n",
       "#notebook li { /* More space between bullet points */\n",
       "    margin-top:0.4em;\n",
       "}\n",
       "\n",
       "/* change background color of running cells */\n",
       "div.cell.code_cell.running {\n",
       "/*    background-color: rgba(164,188,194,.75); */\n",
       "    background-color: green;\n",
       "    border-width: 8px\n",
       "    border-style: solid\n",
       "    border-color: #111;\n",
       "}\n",
       "\n",
       "/* Put a solid color box around each cell and its output, visually linking them together */\n",
       "div.cell.code_cell {\n",
       "    background-color: rgba(164,188,194,.25); /* Continuum L Gray with alpha 0.25 */\n",
       "    border-radius: 10px; /* rounded borders */\n",
       "    padding: 1em;\n",
       "    margin-top: 1em;\n",
       "}\n",
       "\n",
       "div.text_cell_render{\n",
       "\tfont-family: Georgia, Times, 'Times New Roman', serif;\n",
       "    line-height: 110%;\n",
       "    font-size: 105%;\n",
       "    width: 95%;\n",
       "    margin-left: auto;\n",
       "    margin-right: auto;\n",
       "}\n",
       "\n",
       "\n",
       "/* Formatting for header cells */\n",
       ".text_cell_render h1 {\n",
       "\tfont-family: Arial, 'Helvetica Neue', Helvetica, sans-serif;\n",
       "    font-weight: 400;\n",
       "    font-size: 30pt;\n",
       "    line-height: 100%;\n",
       "    color: rgb(37,55,70); /* Continuum Blue*/\n",
       "    margin-bottom: 0.1em;\n",
       "    margin-top: 0.1em;\n",
       "    display: block;\n",
       "}\n",
       ".text_cell_render h2 {\n",
       "\tfont-family: Arial, 'Helvetica Neue', Helvetica, sans-serif;\n",
       "    font-weight: 700;\n",
       "    font-size: 22pt;\n",
       "    line-height: 100%;\n",
       "    color: rgb(37,55,70);\n",
       "    margin-bottom: 0.1em;\n",
       "    margin-top: 0.1em;\n",
       "    display: block;\n",
       "}\n",
       "\n",
       ".text_cell_render h3 {\n",
       "\tfont-family: Arial, 'Helvetica Neue', Helvetica, sans-serif;\n",
       "    margin-top:12px;\n",
       "    margin-bottom: 3px;\n",
       "    font-style: italic;\n",
       "    color: rgb(37, 55, 70);\n",
       "}\n",
       "\n",
       ".text_cell_render h4 {\n",
       "\tfont-family: Arial, 'Helvetica Neue', Helvetica, sans-serif;\n",
       "}\n",
       "\n",
       ".text_cell_render h5 {\n",
       "\tfont-family: Arial, 'Helvetica Neue', Helvetica, sans-serif;\n",
       "    font-weight: 300;\n",
       "    font-size: 14pt;\n",
       "    font-style: italic;\n",
       "    margin-bottom: .1em;\n",
       "    margin-top: 0.1em;\n",
       "    display: block;\n",
       "}\n",
       "\n",
       ".text_cell_render h6 {\n",
       "\tfont-family: Arial, 'Helvetica Neue', Helvetica, sans-serif;\n",
       "    font-weight: 300;\n",
       "    font-size: 10pt;\n",
       "    margin-bottom: 1px;\n",
       "    margin-top: 1px;\n",
       "}\n",
       "\n",
       ".CodeMirror{\n",
       "        font-family: \"PT Mono\", fixed;\n",
       "        font-size: 100%;\n",
       "}\n",
       "\n",
       "#notebook_panel { /* main background */\n",
       "    background-image: url(\"tile_background.jpg\");\n",
       "}\n",
       "\n",
       "\n",
       "\n",
       "\n",
       "</style>\n"
      ],
      "text/plain": [
       "<IPython.core.display.HTML object>"
      ]
     },
     "execution_count": 1,
     "metadata": {},
     "output_type": "execute_result"
    }
   ],
   "source": [
    "from __code import system\n",
    "from __code.water_intake_profile_calculator import WaterIntakeProfileCalculator\n",
    "\n",
    "system.System.select_working_dir()\n",
    "from __code.__all import custom_style\n",
    "custom_style.style()"
   ]
  },
  {
   "cell_type": "markdown",
   "metadata": {
    "run_control": {
     "frozen": false,
     "read_only": false
    }
   },
   "source": [
    "# Description "
   ]
  },
  {
   "cell_type": "markdown",
   "metadata": {
    "run_control": {
     "frozen": false,
     "read_only": false
    }
   },
   "source": [
    "This notebook will calculate the water intake profile vs time of a sample.\n",
    "\n",
    "Here are the steps (**bold** for user input/manipulation)\n",
    " * **select the normalized images**\n",
    " * images sorted by time\n",
    " * **region of interest seleted**\n",
    " * profile of counts vs vertical-pixel calculated (**select integrated algorithm: mean/median/sum**)\n",
    " * water intake profile vs file index or vs time\n",
    " * **export profiles**"
   ]
  },
  {
   "cell_type": "markdown",
   "metadata": {
    "run_control": {
     "frozen": false,
     "read_only": false
    }
   },
   "source": [
    "# Python Import "
   ]
  },
  {
   "cell_type": "code",
   "execution_count": 2,
   "metadata": {},
   "outputs": [],
   "source": [
    "import matplotlib.pyplot as plt\n",
    "import matplotlib.gridspec as gridspec\n",
    "from ipywidgets.widgets import interact\n",
    "import numpy as np\n",
    "import os\n",
    "import ipywe.fileselector\n",
    "from ipywidgets import widgets\n",
    "from IPython.core.display import display, HTML\n",
    "import pytz\n",
    "import datetime\n",
    "\n",
    "from NeuNorm.normalization import Normalization\n",
    "\n",
    "from __code.metadata_handler import MetadataHandler\n",
    "from __code import file_handler\n"
   ]
  },
  {
   "cell_type": "markdown",
   "metadata": {
    "run_control": {
     "frozen": false,
     "read_only": false
    }
   },
   "source": [
    "# Select Images to Process"
   ]
  },
  {
   "cell_type": "code",
   "execution_count": 3,
   "metadata": {},
   "outputs": [
    {
     "data": {
      "application/vnd.jupyter.widget-view+json": {
       "model_id": "d3031b3830b74f8890edeb3c99ec7851",
       "version_major": 2,
       "version_minor": 0
      },
      "text/html": [
       "<p>Failed to display Jupyter Widget of type <code>HTML</code>.</p>\n",
       "<p>\n",
       "  If you're reading this message in the Jupyter Notebook or JupyterLab Notebook, it may mean\n",
       "  that the widgets JavaScript is still loading. If this message persists, it\n",
       "  likely means that the widgets JavaScript library is either not installed or\n",
       "  not enabled. See the <a href=\"https://ipywidgets.readthedocs.io/en/stable/user_install.html\">Jupyter\n",
       "  Widgets Documentation</a> for setup instructions.\n",
       "</p>\n",
       "<p>\n",
       "  If you're reading this message in another frontend (for example, a static\n",
       "  rendering on GitHub or <a href=\"https://nbviewer.jupyter.org/\">NBViewer</a>),\n",
       "  it may mean that your frontend doesn't currently support widgets.\n",
       "</p>\n"
      ],
      "text/plain": [
       "HTML(value='Please wait...')"
      ]
     },
     "metadata": {},
     "output_type": "display_data"
    },
    {
     "data": {
      "text/html": [
       "\n",
       "        <style type=\"text/css\">\n",
       "        .jupyter-widgets select option {font-family: \"Lucida Console\", Monaco, monospace;}\n",
       "        div.output_subarea {padding: 0px;}\n",
       "        div.output_subarea > div {margin: 0.4em;}\n",
       "        </style>\n",
       "        "
      ],
      "text/plain": [
       "<IPython.core.display.HTML object>"
      ]
     },
     "metadata": {},
     "output_type": "display_data"
    },
    {
     "data": {
      "application/vnd.jupyter.widget-view+json": {
       "model_id": "b6193ec37b674fa890664265c8eb132f",
       "version_major": 2,
       "version_minor": 0
      },
      "text/html": [
       "<p>Failed to display Jupyter Widget of type <code>VBox</code>.</p>\n",
       "<p>\n",
       "  If you're reading this message in the Jupyter Notebook or JupyterLab Notebook, it may mean\n",
       "  that the widgets JavaScript is still loading. If this message persists, it\n",
       "  likely means that the widgets JavaScript library is either not installed or\n",
       "  not enabled. See the <a href=\"https://ipywidgets.readthedocs.io/en/stable/user_install.html\">Jupyter\n",
       "  Widgets Documentation</a> for setup instructions.\n",
       "</p>\n",
       "<p>\n",
       "  If you're reading this message in another frontend (for example, a static\n",
       "  rendering on GitHub or <a href=\"https://nbviewer.jupyter.org/\">NBViewer</a>),\n",
       "  it may mean that your frontend doesn't currently support widgets.\n",
       "</p>\n"
      ],
      "text/plain": [
       "VBox(children=(Label(value='Select Images ...', layout=Layout(width='250px')), HBox(children=(HBox(children=(Text(value='/Users/j35/IPTS/IPTS-18813', description='Location: ', layout=Layout(width='300px'), placeholder=''), Button(description='Jump', layout=Layout(margin='5px 10px', width='100px'), style=ButtonStyle())), layout=Layout(border='1px solid lightgrey', margin='5px 50px 5px 5px', padding='3px')),)), VBox(children=(SelectMultiple(description='Select', layout=Layout(display='flex', flex_flow='column', width='750px'), options=(' .', ' ..', ' .DS_Store                              |     Fri Feb  2 10:16:18 2018', ' Sample_2                               |     Directory', ' Sample_2_light                         |     Directory', ' Sample_2_light_timestamp_infos.txt     |     Wed Jan 31 09:30:55 2018', ' Sample_2_timestamp_infos.txt           |     Tue Jan 30 09:32:03 2018', ' data                                   |     Directory', ' shared                                 |     Directory'), value=()), HBox(children=(Button(description='Enter directory', layout=Layout(margin='5px 40px'), style=ButtonStyle()), Button(description='Select', layout=Layout(margin='5px 40px'), style=ButtonStyle())))), layout=Layout(border='1px solid lightgrey', margin='5px', padding='10px'))))"
      ]
     },
     "metadata": {},
     "output_type": "display_data"
    },
    {
     "data": {
      "application/vnd.jupyter.widget-view+json": {
       "model_id": "2f04257c37834f46a37005c0d9e4adb1",
       "version_major": 2,
       "version_minor": 0
      },
      "text/html": [
       "<p>Failed to display Jupyter Widget of type <code>HTML</code>.</p>\n",
       "<p>\n",
       "  If you're reading this message in the Jupyter Notebook or JupyterLab Notebook, it may mean\n",
       "  that the widgets JavaScript is still loading. If this message persists, it\n",
       "  likely means that the widgets JavaScript library is either not installed or\n",
       "  not enabled. See the <a href=\"https://ipywidgets.readthedocs.io/en/stable/user_install.html\">Jupyter\n",
       "  Widgets Documentation</a> for setup instructions.\n",
       "</p>\n",
       "<p>\n",
       "  If you're reading this message in another frontend (for example, a static\n",
       "  rendering on GitHub or <a href=\"https://nbviewer.jupyter.org/\">NBViewer</a>),\n",
       "  it may mean that your frontend doesn't currently support widgets.\n",
       "</p>\n"
      ],
      "text/plain": [
       "HTML(value='Please wait...')"
      ]
     },
     "metadata": {},
     "output_type": "display_data"
    },
    {
     "data": {
      "text/html": [
       "\n",
       "        <style type=\"text/css\">\n",
       "        .jupyter-widgets select option {font-family: \"Lucida Console\", Monaco, monospace;}\n",
       "        div.output_subarea {padding: 0px;}\n",
       "        div.output_subarea > div {margin: 0.4em;}\n",
       "        </style>\n",
       "        "
      ],
      "text/plain": [
       "<IPython.core.display.HTML object>"
      ]
     },
     "metadata": {},
     "output_type": "display_data"
    },
    {
     "data": {
      "application/vnd.jupyter.widget-view+json": {
       "model_id": "ed48bc2792ce4c0885d640234b80fd04",
       "version_major": 2,
       "version_minor": 0
      },
      "text/html": [
       "<p>Failed to display Jupyter Widget of type <code>VBox</code>.</p>\n",
       "<p>\n",
       "  If you're reading this message in the Jupyter Notebook or JupyterLab Notebook, it may mean\n",
       "  that the widgets JavaScript is still loading. If this message persists, it\n",
       "  likely means that the widgets JavaScript library is either not installed or\n",
       "  not enabled. See the <a href=\"https://ipywidgets.readthedocs.io/en/stable/user_install.html\">Jupyter\n",
       "  Widgets Documentation</a> for setup instructions.\n",
       "</p>\n",
       "<p>\n",
       "  If you're reading this message in another frontend (for example, a static\n",
       "  rendering on GitHub or <a href=\"https://nbviewer.jupyter.org/\">NBViewer</a>),\n",
       "  it may mean that your frontend doesn't currently support widgets.\n",
       "</p>\n"
      ],
      "text/plain": [
       "VBox(children=(Label(value='Select Images ...', layout=Layout(width='250px')), HBox(children=(HBox(children=(Text(value='/Users/j35/IPTS/IPTS-18813/Sample_2', description='Location: ', layout=Layout(width='300px'), placeholder=''), Button(description='Jump', layout=Layout(margin='5px 10px', width='100px'), style=ButtonStyle())), layout=Layout(border='1px solid lightgrey', margin='5px 50px 5px 5px', padding='3px')),)), VBox(children=(SelectMultiple(description='Select', layout=Layout(display='flex', flex_flow='column', width='750px'), options=(' .', ' ..', ' 20180116_Sample2_Methane_150K_04Bar_0030_0441.tiff                       |     Tue Jan 16 23:59:52 2018', ' 20180116_Sample2_Methane_150K_04Bar_0030_0442.tiff                       |     Wed Jan 17 00:00:27 2018', ' 20180116_Sample2_Methane_150K_08Bar_0030_0431.tiff                       |     Tue Jan 16 23:42:51 2018', ' 20180116_Sample2_Methane_150K_08Bar_0030_0432.tiff                       |     Tue Jan 16 23:43:26 2018', ' 20180116_Sample2_Methane_150K_08Bar_0030_0433.tiff                       |     Tue Jan 16 23:44:01 2018', ' 20180116_Sample2_Methane_150K_08Bar_0030_0434.tiff                       |     Tue Jan 16 23:44:36 2018', ' 20180116_Sample2_Methane_150K_08Bar_0030_0435.tiff                       |     Tue Jan 16 23:45:11 2018', ' 20180116_Sample2_Methane_150K_08Bar_0030_0436.tiff                       |     Tue Jan 16 23:52:37 2018', ' 20180116_Sample2_Methane_150K_08Bar_0030_0437.tiff                       |     Tue Jan 16 23:53:12 2018', ' 20180116_Sample2_Methane_150K_08Bar_0030_0438.tiff                       |     Tue Jan 16 23:53:47 2018', ' 20180116_Sample2_Methane_150K_08Bar_0030_0439.tiff                       |     Tue Jan 16 23:54:22 2018', ' 20180116_Sample2_Methane_150K_08Bar_0030_0440.tiff                       |     Tue Jan 16 23:54:57 2018', ' 20180116_Sample2_Methane_150K_15Bar_0030_0426.tiff                       |     Tue Jan 16 23:27:47 2018', ' 20180116_Sample2_Methane_150K_15Bar_0030_0427.tiff                       |     Tue Jan 16 23:28:22 2018', ' 20180116_Sample2_Methane_150K_15Bar_0030_0428.tiff                       |     Tue Jan 16 23:28:57 2018', ' 20180116_Sample2_Methane_150K_15Bar_0030_0429.tiff                       |     Tue Jan 16 23:29:31 2018', ' 20180116_Sample2_Methane_150K_15Bar_0030_0430.tiff                       |     Tue Jan 16 23:30:06 2018', ' 20180116_Sample2_Methane_150K_30Bar_0030_0421.tiff                       |     Tue Jan 16 23:23:00 2018', ' 20180116_Sample2_Methane_150K_30Bar_0030_0422.tiff                       |     Tue Jan 16 23:23:35 2018', ' 20180116_Sample2_Methane_150K_30Bar_0030_0423.tiff                       |     Tue Jan 16 23:24:09 2018', ' 20180116_Sample2_Methane_150K_30Bar_0030_0424.tiff                       |     Tue Jan 16 23:24:44 2018', ' 20180116_Sample2_Methane_150K_30Bar_0030_0425.tiff                       |     Tue Jan 16 23:25:19 2018', ' 20180116_Sample2_Methane_150K_61Bar_0030_0416.tiff                       |     Tue Jan 16 23:15:39 2018', ' 20180116_Sample2_Methane_150K_61Bar_0030_0417.tiff                       |     Tue Jan 16 23:16:14 2018', ' 20180116_Sample2_Methane_150K_61Bar_0030_0418.tiff                       |     Tue Jan 16 23:16:49 2018', ' 20180116_Sample2_Methane_150K_61Bar_0030_0419.tiff                       |     Tue Jan 16 23:17:24 2018', ' 20180116_Sample2_Methane_150K_61Bar_0030_0420.tiff                       |     Tue Jan 16 23:17:59 2018', ' 20180116_Sample2_Methane_150K_92Bar_0030_0410.tiff                       |     Tue Jan 16 23:03:55 2018', ' 20180116_Sample2_Methane_150K_92Bar_0030_0411.tiff                       |     Tue Jan 16 23:04:30 2018', ' 20180116_Sample2_Methane_150K_92Bar_0030_0412.tiff                       |     Tue Jan 16 23:05:05 2018', ' 20180116_Sample2_Methane_150K_92Bar_0030_0413.tiff                       |     Tue Jan 16 23:05:40 2018', ' 20180116_Sample2_Methane_150K_92Bar_0030_0414.tiff                       |     Tue Jan 16 23:06:15 2018', ' 20180116_Sample2_Methane_150K_92Bar_0030_0415.tiff                       |     Tue Jan 16 23:06:50 2018', ' 20180116_Sample2_Methane_200K_00Bar_0030_0296.tiff                       |     Tue Jan 16 21:05:30 2018', ' 20180116_Sample2_Methane_200K_00Bar_0030_0297.tiff                       |     Tue Jan 16 21:06:04 2018', ' 20180116_Sample2_Methane_200K_00Bar_0030_0298.tiff                       |     Tue Jan 16 21:06:39 2018', ' 20180116_Sample2_Methane_200K_00Bar_0030_0299.tiff                       |     Tue Jan 16 21:07:14 2018', ' 20180116_Sample2_Methane_200K_00Bar_0030_0300.tiff                       |     Tue Jan 16 21:07:49 2018', ' 20180116_Sample2_Methane_200K_00Bar_0030_0326.tiff                       |     Tue Jan 16 22:03:39 2018', ' 20180116_Sample2_Methane_200K_00Bar_0030_0327.tiff                       |     Tue Jan 16 22:04:14 2018', ' 20180116_Sample2_Methane_200K_00Bar_0030_0328.tiff                       |     Tue Jan 16 22:04:49 2018', ' 20180116_Sample2_Methane_200K_00Bar_0030_0329.tiff                       |     Tue Jan 16 22:05:24 2018', ' 20180116_Sample2_Methane_200K_00Bar_0030_0330.tiff                       |     Tue Jan 16 22:05:59 2018', ' 20180116_Sample2_Methane_200K_04Bar_0030_0321.tiff                       |     Tue Jan 16 21:58:35 2018', ' 20180116_Sample2_Methane_200K_04Bar_0030_0322.tiff                       |     Tue Jan 16 21:59:09 2018', ' 20180116_Sample2_Methane_200K_04Bar_0030_0323.tiff                       |     Tue Jan 16 21:59:44 2018', ' 20180116_Sample2_Methane_200K_04Bar_0030_0324.tiff                       |     Tue Jan 16 22:00:19 2018', ' 20180116_Sample2_Methane_200K_04Bar_0030_0325.tiff                       |     Tue Jan 16 22:00:54 2018', ' 20180116_Sample2_Methane_200K_08Bar_0030_0316.tiff                       |     Tue Jan 16 21:52:36 2018', ' 20180116_Sample2_Methane_200K_08Bar_0030_0317.tiff                       |     Tue Jan 16 21:53:11 2018', ' 20180116_Sample2_Methane_200K_08Bar_0030_0318.tiff                       |     Tue Jan 16 21:53:46 2018', ' 20180116_Sample2_Methane_200K_08Bar_0030_0319.tiff                       |     Tue Jan 16 21:54:21 2018', ' 20180116_Sample2_Methane_200K_08Bar_0030_0320.tiff                       |     Tue Jan 16 21:54:56 2018', ' 20180116_Sample2_Methane_200K_30Bar_0030_0311.tiff                       |     Tue Jan 16 21:36:18 2018', ' 20180116_Sample2_Methane_200K_30Bar_0030_0312.tiff                       |     Tue Jan 16 21:36:53 2018', ' 20180116_Sample2_Methane_200K_30Bar_0030_0313.tiff                       |     Tue Jan 16 21:37:28 2018', ' 20180116_Sample2_Methane_200K_30Bar_0030_0314.tiff                       |     Tue Jan 16 21:38:02 2018', ' 20180116_Sample2_Methane_200K_30Bar_0030_0315.tiff                       |     Tue Jan 16 21:38:37 2018', ' 20180116_Sample2_Methane_200K_60Bar_0030_0306.tiff                       |     Tue Jan 16 21:26:32 2018', ' 20180116_Sample2_Methane_200K_60Bar_0030_0307.tiff                       |     Tue Jan 16 21:27:07 2018', ' 20180116_Sample2_Methane_200K_60Bar_0030_0308.tiff                       |     Tue Jan 16 21:27:41 2018', ' 20180116_Sample2_Methane_200K_60Bar_0030_0309.tiff                       |     Tue Jan 16 21:28:16 2018', ' 20180116_Sample2_Methane_200K_60Bar_0030_0310.tiff                       |     Tue Jan 16 21:28:51 2018', ' 20180116_Sample2_Methane_200K_94Bar_0030_0301.tiff                       |     Tue Jan 16 21:16:00 2018', ' 20180116_Sample2_Methane_200K_94Bar_0030_0302.tiff                       |     Tue Jan 16 21:16:35 2018', ' 20180116_Sample2_Methane_200K_94Bar_0030_0303.tiff                       |     Tue Jan 16 21:17:10 2018', ' 20180116_Sample2_Methane_200K_94Bar_0030_0304.tiff                       |     Tue Jan 16 21:17:45 2018', ' 20180116_Sample2_Methane_200K_94Bar_0030_0305.tiff                       |     Tue Jan 16 21:18:20 2018', ' 20180116_Sample2_Methane_293K_00Bar_0030_0054.tiff                       |     Tue Jan 16 17:52:57 2018', ' 20180116_Sample2_Methane_293K_00Bar_0030_0055.tiff                       |     Tue Jan 16 17:53:32 2018', ' 20180116_Sample2_Methane_293K_00Bar_0030_0056.tiff                       |     Tue Jan 16 17:54:06 2018', ' 20180116_Sample2_Methane_293K_00Bar_0030_0057.tiff                       |     Tue Jan 16 17:54:41 2018', ' 20180116_Sample2_Methane_293K_00Bar_0030_0058.tiff                       |     Tue Jan 16 17:55:16 2018', ' 20180116_Sample2_Methane_293K_00Bar_0030_0059.tiff                       |     Tue Jan 16 17:56:23 2018', ' 20180116_Sample2_Methane_293K_00Bar_0030_0060.tiff                       |     Tue Jan 16 17:56:58 2018', ' 20180116_Sample2_Methane_293K_00Bar_0030_0061.tiff                       |     Tue Jan 16 17:57:33 2018', ' 20180116_Sample2_Methane_293K_00Bar_0030_0062.tiff                       |     Tue Jan 16 17:58:07 2018', ' 20180116_Sample2_Methane_293K_00Bar_0030_0063.tiff                       |     Tue Jan 16 17:58:42 2018', ' 20180116_Sample2_Methane_293K_04Bar_0030_0064.tiff                       |     Tue Jan 16 18:02:58 2018', ' 20180116_Sample2_Methane_293K_04Bar_0030_0065.tiff                       |     Tue Jan 16 18:03:33 2018', ' 20180116_Sample2_Methane_293K_04Bar_0030_0066.tiff                       |     Tue Jan 16 18:04:08 2018', ' 20180116_Sample2_Methane_293K_04Bar_0030_0067.tiff                       |     Tue Jan 16 18:04:43 2018', ' 20180116_Sample2_Methane_293K_04Bar_0030_0068.tiff                       |     Tue Jan 16 18:05:18 2018', ' 20180116_Sample2_Methane_293K_08Bar_0030_0044.tiff                       |     Tue Jan 16 17:24:50 2018', ' 20180116_Sample2_Methane_293K_08Bar_0030_0045.tiff                       |     Tue Jan 16 17:25:25 2018', ' 20180116_Sample2_Methane_293K_08Bar_0030_0046.tiff                       |     Tue Jan 16 17:26:00 2018', ' 20180116_Sample2_Methane_293K_08Bar_0030_0047.tiff                       |     Tue Jan 16 17:26:35 2018', ' 20180116_Sample2_Methane_293K_08Bar_0030_0048.tiff                       |     Tue Jan 16 17:27:09 2018', ' 20180116_Sample2_Methane_293K_08Bar_0030_0049.tiff                       |     Tue Jan 16 17:37:30 2018', ' 20180116_Sample2_Methane_293K_08Bar_0030_0050.tiff                       |     Tue Jan 16 17:38:05 2018', ' 20180116_Sample2_Methane_293K_08Bar_0030_0051.tiff                       |     Tue Jan 16 17:38:40 2018', ' 20180116_Sample2_Methane_293K_08Bar_0030_0052.tiff                       |     Tue Jan 16 17:39:15 2018', ' 20180116_Sample2_Methane_293K_08Bar_0030_0053.tiff                       |     Tue Jan 16 17:39:49 2018', ' 20180116_Sample2_Methane_293K_08Bar_0030_0069.tiff                       |     Tue Jan 16 18:09:04 2018', ' 20180116_Sample2_Methane_293K_08Bar_0030_0070.tiff                       |     Tue Jan 16 18:09:39 2018', ' 20180116_Sample2_Methane_293K_08Bar_0030_0071.tiff                       |     Tue Jan 16 18:10:14 2018', ' 20180116_Sample2_Methane_293K_08Bar_0030_0072.tiff                       |     Tue Jan 16 18:10:49 2018', ' 20180116_Sample2_Methane_293K_08Bar_0030_0073.tiff                       |     Tue Jan 16 18:11:24 2018', ' 20180116_Sample2_Methane_293K_15Bar_0030_0039.tiff                       |     Tue Jan 16 17:16:07 2018', ' 20180116_Sample2_Methane_293K_15Bar_0030_0040.tiff                       |     Tue Jan 16 17:16:42 2018', ' 20180116_Sample2_Methane_293K_15Bar_0030_0041.tiff                       |     Tue Jan 16 17:17:17 2018', ' 20180116_Sample2_Methane_293K_15Bar_0030_0042.tiff                       |     Tue Jan 16 17:17:52 2018', ' 20180116_Sample2_Methane_293K_15Bar_0030_0043.tiff                       |     Tue Jan 16 17:18:27 2018', ' 20180116_Sample2_Methane_293K_15Bar_0030_0074.tiff                       |     Tue Jan 16 18:13:35 2018', ' 20180116_Sample2_Methane_293K_15Bar_0030_0075.tiff                       |     Tue Jan 16 18:14:10 2018', ' 20180116_Sample2_Methane_293K_15Bar_0030_0076.tiff                       |     Tue Jan 16 18:14:45 2018', ' 20180116_Sample2_Methane_293K_15Bar_0030_0077.tiff                       |     Tue Jan 16 18:15:20 2018', ' 20180116_Sample2_Methane_293K_15Bar_0030_0078.tiff                       |     Tue Jan 16 18:15:55 2018', ' 20180116_Sample2_Methane_293K_30Bar_0030_0034.tiff                       |     Tue Jan 16 17:09:05 2018', ' 20180116_Sample2_Methane_293K_30Bar_0030_0035.tiff                       |     Tue Jan 16 17:09:40 2018', ' 20180116_Sample2_Methane_293K_30Bar_0030_0036.tiff                       |     Tue Jan 16 17:10:15 2018', ' 20180116_Sample2_Methane_293K_30Bar_0030_0037.tiff                       |     Tue Jan 16 17:10:50 2018', ' 20180116_Sample2_Methane_293K_30Bar_0030_0038.tiff                       |     Tue Jan 16 17:11:25 2018', ' 20180116_Sample2_Methane_293K_30Bar_0030_0079.tiff                       |     Tue Jan 16 18:21:02 2018', ' 20180116_Sample2_Methane_293K_30Bar_0030_0080.tiff                       |     Tue Jan 16 18:21:37 2018', ' 20180116_Sample2_Methane_293K_30Bar_0030_0081.tiff                       |     Tue Jan 16 18:22:12 2018', ' 20180116_Sample2_Methane_293K_30Bar_0030_0082.tiff                       |     Tue Jan 16 18:22:47 2018', ' 20180116_Sample2_Methane_293K_30Bar_0030_0083.tiff                       |     Tue Jan 16 18:23:22 2018', ' 20180116_Sample2_Methane_293K_60Bar_0030_0029.tiff                       |     Tue Jan 16 16:59:41 2018', ' 20180116_Sample2_Methane_293K_60Bar_0030_0030.tiff                       |     Tue Jan 16 17:00:16 2018', ' 20180116_Sample2_Methane_293K_60Bar_0030_0031.tiff                       |     Tue Jan 16 17:00:51 2018', ' 20180116_Sample2_Methane_293K_60Bar_0030_0032.tiff                       |     Tue Jan 16 17:01:26 2018', ' 20180116_Sample2_Methane_293K_60Bar_0030_0033.tiff                       |     Tue Jan 16 17:02:01 2018', ' 20180116_Sample2_Methane_293K_60Bar_0030_0084.tiff                       |     Tue Jan 16 18:28:48 2018', ' 20180116_Sample2_Methane_293K_60Bar_0030_0085.tiff                       |     Tue Jan 16 18:29:23 2018', ' 20180116_Sample2_Methane_293K_60Bar_0030_0086.tiff                       |     Tue Jan 16 18:29:58 2018', ' 20180116_Sample2_Methane_293K_60Bar_0030_0087.tiff                       |     Tue Jan 16 18:30:33 2018', ' 20180116_Sample2_Methane_293K_60Bar_0030_0088.tiff                       |     Tue Jan 16 18:31:08 2018', ' 20180116_Sample2_Methane_293K_89Bar_0030_0024.tiff                       |     Tue Jan 16 16:48:35 2018', ' 20180116_Sample2_Methane_293K_89Bar_0030_0025.tiff                       |     Tue Jan 16 16:49:10 2018', ' 20180116_Sample2_Methane_293K_89Bar_0030_0026.tiff                       |     Tue Jan 16 16:49:45 2018', ' 20180116_Sample2_Methane_293K_89Bar_0030_0027.tiff                       |     Tue Jan 16 16:50:20 2018', ' 20180116_Sample2_Methane_293K_89Bar_0030_0028.tiff                       |     Tue Jan 16 16:50:55 2018', ' 20180116_Sample2_Methane_293K_93Bar_0030_0089.tiff                       |     Tue Jan 16 18:40:28 2018', ' 20180116_Sample2_Methane_293K_93Bar_0030_0090.tiff                       |     Tue Jan 16 18:41:03 2018', ' 20180116_Sample2_Methane_293K_93Bar_0030_0091.tiff                       |     Tue Jan 16 18:41:38 2018', ' 20180116_Sample2_Methane_293K_93Bar_0030_0092.tiff                       |     Tue Jan 16 18:42:13 2018', ' 20180116_Sample2_Methane_293K_93Bar_0030_0093.tiff                       |     Tue Jan 16 18:42:48 2018', ' 20180116_Sample2_Methane_cooling_00Bar_0030_0094.tiff                    |     Tue Jan 16 18:51:58 2018', ' 20180116_Sample2_Methane_cooling_00Bar_0030_0095.tiff                    |     Tue Jan 16 18:52:33 2018', ' 20180116_Sample2_Methane_cooling_00Bar_0030_0096.tiff                    |     Tue Jan 16 18:56:33 2018', ' 20180116_Sample2_Methane_cooling_00Bar_0030_0097.tiff                    |     Tue Jan 16 18:57:08 2018', ' 20180116_Sample2_Methane_cooling_00Bar_0030_0098.tiff                    |     Tue Jan 16 18:57:43 2018', ' 20180116_Sample2_Methane_cooling_00Bar_0030_0099.tiff                    |     Tue Jan 16 18:58:18 2018', ' 20180116_Sample2_Methane_cooling_00Bar_0030_0100.tiff                    |     Tue Jan 16 18:58:53 2018', ' 20180116_Sample2_Methane_cooling_00Bar_0030_0101.tiff                    |     Tue Jan 16 18:59:28 2018', ' 20180116_Sample2_Methane_cooling_00Bar_0030_0102.tiff                    |     Tue Jan 16 19:00:03 2018', ' 20180116_Sample2_Methane_cooling_00Bar_0030_0103.tiff                    |     Tue Jan 16 19:00:38 2018', ' 20180116_Sample2_Methane_cooling_00Bar_0030_0104.tiff                    |     Tue Jan 16 19:01:13 2018', ' 20180116_Sample2_Methane_cooling_00Bar_0030_0105.tiff                    |     Tue Jan 16 19:01:48 2018', ' 20180116_Sample2_Methane_cooling_00Bar_0030_0106.tiff                    |     Tue Jan 16 19:02:22 2018', ' 20180116_Sample2_Methane_cooling_00Bar_0030_0107.tiff                    |     Tue Jan 16 19:02:57 2018', ' 20180116_Sample2_Methane_cooling_00Bar_0030_0108.tiff                    |     Tue Jan 16 19:03:32 2018', ' 20180116_Sample2_Methane_cooling_00Bar_0030_0109.tiff                    |     Tue Jan 16 19:04:07 2018', ' 20180116_Sample2_Methane_cooling_00Bar_0030_0110.tiff                    |     Tue Jan 16 19:04:42 2018', ' 20180116_Sample2_Methane_cooling_00Bar_0030_0111.tiff                    |     Tue Jan 16 19:05:17 2018', ' 20180116_Sample2_Methane_cooling_00Bar_0030_0112.tiff                    |     Tue Jan 16 19:05:52 2018', ' 20180116_Sample2_Methane_cooling_00Bar_0030_0113.tiff                    |     Tue Jan 16 19:06:27 2018', ' 20180116_Sample2_Methane_cooling_00Bar_0030_0114.tiff                    |     Tue Jan 16 19:07:02 2018', ' 20180116_Sample2_Methane_cooling_00Bar_0030_0115.tiff                    |     Tue Jan 16 19:07:37 2018', ' 20180116_Sample2_Methane_cooling_00Bar_0030_0116.tiff                    |     Tue Jan 16 19:08:12 2018', ' 20180116_Sample2_Methane_cooling_00Bar_0030_0117.tiff                    |     Tue Jan 16 19:08:47 2018', ' 20180116_Sample2_Methane_cooling_00Bar_0030_0118.tiff                    |     Tue Jan 16 19:09:21 2018', ' 20180116_Sample2_Methane_cooling_00Bar_0030_0119.tiff                    |     Tue Jan 16 19:09:56 2018', ' 20180116_Sample2_Methane_cooling_00Bar_0030_0120.tiff                    |     Tue Jan 16 19:10:31 2018', ' 20180116_Sample2_Methane_cooling_00Bar_0030_0121.tiff                    |     Tue Jan 16 19:11:06 2018', ' 20180116_Sample2_Methane_cooling_00Bar_0030_0122.tiff                    |     Tue Jan 16 19:11:41 2018', ' 20180116_Sample2_Methane_cooling_00Bar_0030_0123.tiff                    |     Tue Jan 16 19:12:16 2018', ' 20180116_Sample2_Methane_cooling_00Bar_0030_0124.tiff                    |     Tue Jan 16 19:12:51 2018', ' 20180116_Sample2_Methane_cooling_00Bar_0030_0125.tiff                    |     Tue Jan 16 19:13:26 2018', ' 20180116_Sample2_Methane_cooling_00Bar_0030_0126.tiff                    |     Tue Jan 16 19:14:01 2018', ' 20180116_Sample2_Methane_cooling_00Bar_0030_0127.tiff                    |     Tue Jan 16 19:14:36 2018', ' 20180116_Sample2_Methane_cooling_00Bar_0030_0128.tiff                    |     Tue Jan 16 19:15:11 2018', ' 20180116_Sample2_Methane_cooling_00Bar_0030_0129.tiff                    |     Tue Jan 16 19:15:46 2018', ' 20180116_Sample2_Methane_cooling_00Bar_0030_0130.tiff                    |     Tue Jan 16 19:16:21 2018', ' 20180116_Sample2_Methane_cooling_00Bar_0030_0131.tiff                    |     Tue Jan 16 19:16:56 2018', ' 20180116_Sample2_Methane_cooling_00Bar_0030_0132.tiff                    |     Tue Jan 16 19:17:30 2018', ' 20180116_Sample2_Methane_cooling_00Bar_0030_0133.tiff                    |     Tue Jan 16 19:18:05 2018', ' 20180116_Sample2_Methane_cooling_00Bar_0030_0134.tiff                    |     Tue Jan 16 19:18:40 2018', ' 20180116_Sample2_Methane_cooling_00Bar_0030_0135.tiff                    |     Tue Jan 16 19:19:15 2018', ' 20180116_Sample2_Methane_cooling_00Bar_0030_0136.tiff                    |     Tue Jan 16 19:19:50 2018', ' 20180116_Sample2_Methane_cooling_00Bar_0030_0137.tiff                    |     Tue Jan 16 19:20:25 2018', ' 20180116_Sample2_Methane_cooling_00Bar_0030_0138.tiff                    |     Tue Jan 16 19:21:00 2018', ' 20180116_Sample2_Methane_cooling_00Bar_0030_0139.tiff                    |     Tue Jan 16 19:21:35 2018', ' 20180116_Sample2_Methane_cooling_00Bar_0030_0140.tiff                    |     Tue Jan 16 19:22:10 2018', ' 20180116_Sample2_Methane_cooling_00Bar_0030_0141.tiff                    |     Tue Jan 16 19:22:45 2018', ' 20180116_Sample2_Methane_cooling_00Bar_0030_0142.tiff                    |     Tue Jan 16 19:23:20 2018', ' 20180116_Sample2_Methane_cooling_00Bar_0030_0143.tiff                    |     Tue Jan 16 19:23:55 2018', ' 20180116_Sample2_Methane_cooling_00Bar_0030_0144.tiff                    |     Tue Jan 16 19:24:29 2018', ' 20180116_Sample2_Methane_cooling_00Bar_0030_0145.tiff                    |     Tue Jan 16 19:25:04 2018', ' 20180116_Sample2_Methane_cooling_00Bar_0030_0146.tiff                    |     Tue Jan 16 19:25:39 2018', ' 20180116_Sample2_Methane_cooling_00Bar_0030_0147.tiff                    |     Tue Jan 16 19:26:14 2018', ' 20180116_Sample2_Methane_cooling_00Bar_0030_0148.tiff                    |     Tue Jan 16 19:26:49 2018', ' 20180116_Sample2_Methane_cooling_00Bar_0030_0149.tiff                    |     Tue Jan 16 19:27:24 2018', ' 20180116_Sample2_Methane_cooling_00Bar_0030_0150.tiff                    |     Tue Jan 16 19:27:59 2018', ' 20180116_Sample2_Methane_cooling_00Bar_0030_0151.tiff                    |     Tue Jan 16 19:28:34 2018', ' 20180116_Sample2_Methane_cooling_00Bar_0030_0152.tiff                    |     Tue Jan 16 19:29:09 2018', ' 20180116_Sample2_Methane_cooling_00Bar_0030_0153.tiff                    |     Tue Jan 16 19:29:44 2018', ' 20180116_Sample2_Methane_cooling_00Bar_0030_0154.tiff                    |     Tue Jan 16 19:30:19 2018', ' 20180116_Sample2_Methane_cooling_00Bar_0030_0155.tiff                    |     Tue Jan 16 19:30:54 2018', ' 20180116_Sample2_Methane_cooling_00Bar_0030_0156.tiff                    |     Tue Jan 16 19:31:29 2018', ' 20180116_Sample2_Methane_cooling_00Bar_0030_0157.tiff                    |     Tue Jan 16 19:32:03 2018', ' 20180116_Sample2_Methane_cooling_00Bar_0030_0158.tiff                    |     Tue Jan 16 19:32:38 2018', ' 20180116_Sample2_Methane_cooling_00Bar_0030_0159.tiff                    |     Tue Jan 16 19:33:13 2018', ' 20180116_Sample2_Methane_cooling_00Bar_0030_0160.tiff                    |     Tue Jan 16 19:33:48 2018', ' 20180116_Sample2_Methane_cooling_00Bar_0030_0161.tiff                    |     Tue Jan 16 19:34:23 2018', ' 20180116_Sample2_Methane_cooling_00Bar_0030_0162.tiff                    |     Tue Jan 16 19:34:58 2018', ' 20180116_Sample2_Methane_cooling_00Bar_0030_0163.tiff                    |     Tue Jan 16 19:35:33 2018', ' 20180116_Sample2_Methane_cooling_00Bar_0030_0164.tiff                    |     Tue Jan 16 19:36:08 2018', ' 20180116_Sample2_Methane_cooling_00Bar_0030_0165.tiff                    |     Tue Jan 16 19:36:43 2018', ' 20180116_Sample2_Methane_cooling_00Bar_0030_0166.tiff                    |     Tue Jan 16 19:37:18 2018', ' 20180116_Sample2_Methane_cooling_00Bar_0030_0167.tiff                    |     Tue Jan 16 19:37:53 2018', ' 20180116_Sample2_Methane_cooling_00Bar_0030_0168.tiff                    |     Tue Jan 16 19:38:28 2018', ' 20180116_Sample2_Methane_cooling_00Bar_0030_0169.tiff                    |     Tue Jan 16 19:39:03 2018', ' 20180116_Sample2_Methane_cooling_00Bar_0030_0170.tiff                    |     Tue Jan 16 19:39:37 2018', ' 20180116_Sample2_Methane_cooling_00Bar_0030_0171.tiff                    |     Tue Jan 16 19:40:12 2018', ' 20180116_Sample2_Methane_cooling_00Bar_0030_0172.tiff                    |     Tue Jan 16 19:40:47 2018', ' 20180116_Sample2_Methane_cooling_00Bar_0030_0173.tiff                    |     Tue Jan 16 19:41:22 2018', ' 20180116_Sample2_Methane_cooling_00Bar_0030_0174.tiff                    |     Tue Jan 16 19:41:57 2018', ' 20180116_Sample2_Methane_cooling_00Bar_0030_0175.tiff                    |     Tue Jan 16 19:42:32 2018', ' 20180116_Sample2_Methane_cooling_00Bar_0030_0176.tiff                    |     Tue Jan 16 19:43:07 2018', ' 20180116_Sample2_Methane_cooling_00Bar_0030_0177.tiff                    |     Tue Jan 16 19:43:42 2018', ' 20180116_Sample2_Methane_cooling_00Bar_0030_0178.tiff                    |     Tue Jan 16 19:44:17 2018', ' 20180116_Sample2_Methane_cooling_00Bar_0030_0179.tiff                    |     Tue Jan 16 19:44:52 2018', ' 20180116_Sample2_Methane_cooling_00Bar_0030_0180.tiff                    |     Tue Jan 16 19:45:27 2018', ' 20180116_Sample2_Methane_cooling_00Bar_0030_0181.tiff                    |     Tue Jan 16 19:46:02 2018', ' 20180116_Sample2_Methane_cooling_00Bar_0030_0182.tiff                    |     Tue Jan 16 19:46:36 2018', ' 20180116_Sample2_Methane_cooling_00Bar_0030_0183.tiff                    |     Tue Jan 16 19:47:11 2018', ' 20180116_Sample2_Methane_cooling_00Bar_0030_0184.tiff                    |     Tue Jan 16 19:47:46 2018', ' 20180116_Sample2_Methane_cooling_00Bar_0030_0185.tiff                    |     Tue Jan 16 19:48:21 2018', ' 20180116_Sample2_Methane_cooling_00Bar_0030_0186.tiff                    |     Tue Jan 16 19:48:56 2018', ' 20180116_Sample2_Methane_cooling_00Bar_0030_0187.tiff                    |     Tue Jan 16 19:49:31 2018', ' 20180116_Sample2_Methane_cooling_00Bar_0030_0188.tiff                    |     Tue Jan 16 19:50:06 2018', ' 20180116_Sample2_Methane_cooling_00Bar_0030_0189.tiff                    |     Tue Jan 16 19:50:41 2018', ' 20180116_Sample2_Methane_cooling_00Bar_0030_0190.tiff                    |     Tue Jan 16 19:51:16 2018', ' 20180116_Sample2_Methane_cooling_00Bar_0030_0191.tiff                    |     Tue Jan 16 19:51:51 2018', ' 20180116_Sample2_Methane_cooling_00Bar_0030_0192.tiff                    |     Tue Jan 16 19:52:26 2018', ' 20180116_Sample2_Methane_cooling_00Bar_0030_0193.tiff                    |     Tue Jan 16 19:53:01 2018', ' 20180116_Sample2_Methane_cooling_00Bar_0030_0194.tiff                    |     Tue Jan 16 19:53:36 2018', ' 20180116_Sample2_Methane_cooling_00Bar_0030_0195.tiff                    |     Tue Jan 16 19:54:11 2018', ' 20180116_Sample2_Methane_cooling_00Bar_0030_0196.tiff                    |     Tue Jan 16 19:54:45 2018', ' 20180116_Sample2_Methane_cooling_00Bar_0030_0197.tiff                    |     Tue Jan 16 19:55:20 2018', ' 20180116_Sample2_Methane_cooling_00Bar_0030_0198.tiff                    |     Tue Jan 16 19:55:55 2018', ' 20180116_Sample2_Methane_cooling_00Bar_0030_0199.tiff                    |     Tue Jan 16 19:56:30 2018', ' 20180116_Sample2_Methane_cooling_00Bar_0030_0200.tiff                    |     Tue Jan 16 19:57:05 2018', ' 20180116_Sample2_Methane_cooling_00Bar_0030_0201.tiff                    |     Tue Jan 16 19:57:40 2018', ' 20180116_Sample2_Methane_cooling_00Bar_0030_0202.tiff                    |     Tue Jan 16 19:58:15 2018', ' 20180116_Sample2_Methane_cooling_00Bar_0030_0203.tiff                    |     Tue Jan 16 19:58:50 2018', ' 20180116_Sample2_Methane_cooling_00Bar_0030_0204.tiff                    |     Tue Jan 16 19:59:25 2018', ' 20180116_Sample2_Methane_cooling_00Bar_0030_0205.tiff                    |     Tue Jan 16 20:00:00 2018', ' 20180116_Sample2_Methane_cooling_00Bar_0030_0206.tiff                    |     Tue Jan 16 20:00:35 2018', ' 20180116_Sample2_Methane_cooling_00Bar_0030_0207.tiff                    |     Tue Jan 16 20:01:10 2018', ' 20180116_Sample2_Methane_cooling_00Bar_0030_0208.tiff                    |     Tue Jan 16 20:01:45 2018', ' 20180116_Sample2_Methane_cooling_00Bar_0030_0209.tiff                    |     Tue Jan 16 20:02:19 2018', ' 20180116_Sample2_Methane_cooling_00Bar_0030_0210.tiff                    |     Tue Jan 16 20:02:54 2018', ' 20180116_Sample2_Methane_cooling_00Bar_0030_0211.tiff                    |     Tue Jan 16 20:03:29 2018', ' 20180116_Sample2_Methane_cooling_00Bar_0030_0212.tiff                    |     Tue Jan 16 20:04:04 2018', ' 20180116_Sample2_Methane_cooling_00Bar_0030_0213.tiff                    |     Tue Jan 16 20:04:39 2018', ' 20180116_Sample2_Methane_cooling_00Bar_0030_0214.tiff                    |     Tue Jan 16 20:05:14 2018', ' 20180116_Sample2_Methane_cooling_00Bar_0030_0215.tiff                    |     Tue Jan 16 20:05:49 2018', ' 20180116_Sample2_Methane_cooling_00Bar_0030_0216.tiff                    |     Tue Jan 16 20:06:24 2018', ' 20180116_Sample2_Methane_cooling_00Bar_0030_0217.tiff                    |     Tue Jan 16 20:06:59 2018', ' 20180116_Sample2_Methane_cooling_00Bar_0030_0218.tiff                    |     Tue Jan 16 20:07:34 2018', ' 20180116_Sample2_Methane_cooling_00Bar_0030_0219.tiff                    |     Tue Jan 16 20:08:09 2018', ' 20180116_Sample2_Methane_cooling_00Bar_0030_0220.tiff                    |     Tue Jan 16 20:08:44 2018', ' 20180116_Sample2_Methane_cooling_00Bar_0030_0221.tiff                    |     Tue Jan 16 20:09:19 2018', ' 20180116_Sample2_Methane_cooling_00Bar_0030_0222.tiff                    |     Tue Jan 16 20:09:54 2018', ' 20180116_Sample2_Methane_cooling_00Bar_0030_0223.tiff                    |     Tue Jan 16 20:10:29 2018', ' 20180116_Sample2_Methane_cooling_00Bar_0030_0224.tiff                    |     Tue Jan 16 20:11:04 2018', ' 20180116_Sample2_Methane_cooling_00Bar_0030_0225.tiff                    |     Tue Jan 16 20:11:38 2018', ' 20180116_Sample2_Methane_cooling_00Bar_0030_0226.tiff                    |     Tue Jan 16 20:12:13 2018', ' 20180116_Sample2_Methane_cooling_00Bar_0030_0227.tiff                    |     Tue Jan 16 20:12:48 2018', ' 20180116_Sample2_Methane_cooling_00Bar_0030_0228.tiff                    |     Tue Jan 16 20:13:23 2018', ' 20180116_Sample2_Methane_cooling_00Bar_0030_0229.tiff                    |     Tue Jan 16 20:13:58 2018', ' 20180116_Sample2_Methane_cooling_00Bar_0030_0230.tiff                    |     Tue Jan 16 20:14:33 2018', ' 20180116_Sample2_Methane_cooling_00Bar_0030_0231.tiff                    |     Tue Jan 16 20:15:08 2018', ' 20180116_Sample2_Methane_cooling_00Bar_0030_0232.tiff                    |     Tue Jan 16 20:15:43 2018', ' 20180116_Sample2_Methane_cooling_00Bar_0030_0233.tiff                    |     Tue Jan 16 20:16:18 2018', ' 20180116_Sample2_Methane_cooling_00Bar_0030_0234.tiff                    |     Tue Jan 16 20:16:53 2018', ' 20180116_Sample2_Methane_cooling_00Bar_0030_0235.tiff                    |     Tue Jan 16 20:17:28 2018', ' 20180116_Sample2_Methane_cooling_00Bar_0030_0236.tiff                    |     Tue Jan 16 20:18:03 2018', ' 20180116_Sample2_Methane_cooling_00Bar_0030_0237.tiff                    |     Tue Jan 16 20:18:38 2018', ' 20180116_Sample2_Methane_cooling_00Bar_0030_0238.tiff                    |     Tue Jan 16 20:19:13 2018', ' 20180116_Sample2_Methane_cooling_00Bar_0030_0239.tiff                    |     Tue Jan 16 20:19:48 2018', ' 20180116_Sample2_Methane_cooling_00Bar_0030_0240.tiff                    |     Tue Jan 16 20:20:23 2018', ' 20180116_Sample2_Methane_cooling_00Bar_0030_0241.tiff                    |     Tue Jan 16 20:20:57 2018', ' 20180116_Sample2_Methane_cooling_00Bar_0030_0242.tiff                    |     Tue Jan 16 20:21:32 2018', ' 20180116_Sample2_Methane_cooling_00Bar_0030_0243.tiff                    |     Tue Jan 16 20:22:07 2018', ' 20180116_Sample2_Methane_cooling_00Bar_0030_0244.tiff                    |     Tue Jan 16 20:22:42 2018', ' 20180116_Sample2_Methane_cooling_00Bar_0030_0245.tiff                    |     Tue Jan 16 20:23:17 2018', ' 20180116_Sample2_Methane_cooling_00Bar_0030_0246.tiff                    |     Tue Jan 16 20:23:52 2018', ' 20180116_Sample2_Methane_cooling_00Bar_0030_0247.tiff                    |     Tue Jan 16 20:24:27 2018', ' 20180116_Sample2_Methane_cooling_00Bar_0030_0248.tiff                    |     Tue Jan 16 20:25:02 2018', ' 20180116_Sample2_Methane_cooling_00Bar_0030_0249.tiff                    |     Tue Jan 16 20:25:37 2018', ' 20180116_Sample2_Methane_cooling_00Bar_0030_0250.tiff                    |     Tue Jan 16 20:26:12 2018', ' 20180116_Sample2_Methane_cooling_00Bar_0030_0251.tiff                    |     Tue Jan 16 20:26:47 2018', ' 20180116_Sample2_Methane_cooling_00Bar_0030_0252.tiff                    |     Tue Jan 16 20:27:22 2018', ' 20180116_Sample2_Methane_cooling_00Bar_0030_0253.tiff                    |     Tue Jan 16 20:27:57 2018', ' 20180116_Sample2_Methane_cooling_00Bar_0030_0254.tiff                    |     Tue Jan 16 20:28:31 2018', ' 20180116_Sample2_Methane_cooling_00Bar_0030_0255.tiff                    |     Tue Jan 16 20:29:06 2018', ' 20180116_Sample2_Methane_cooling_00Bar_0030_0256.tiff                    |     Tue Jan 16 20:29:41 2018', ' 20180116_Sample2_Methane_cooling_00Bar_0030_0257.tiff                    |     Tue Jan 16 20:30:16 2018', ' 20180116_Sample2_Methane_cooling_00Bar_0030_0258.tiff                    |     Tue Jan 16 20:30:51 2018', ' 20180116_Sample2_Methane_cooling_00Bar_0030_0259.tiff                    |     Tue Jan 16 20:31:26 2018', ' 20180116_Sample2_Methane_cooling_00Bar_0030_0260.tiff                    |     Tue Jan 16 20:32:01 2018', ' 20180116_Sample2_Methane_cooling_00Bar_0030_0261.tiff                    |     Tue Jan 16 20:32:36 2018', ' 20180116_Sample2_Methane_cooling_00Bar_0030_0262.tiff                    |     Tue Jan 16 20:33:11 2018', ' 20180116_Sample2_Methane_cooling_00Bar_0030_0263.tiff                    |     Tue Jan 16 20:33:46 2018', ' 20180116_Sample2_Methane_cooling_00Bar_0030_0264.tiff                    |     Tue Jan 16 20:34:21 2018', ' 20180116_Sample2_Methane_cooling_00Bar_0030_0265.tiff                    |     Tue Jan 16 20:34:56 2018', ' 20180116_Sample2_Methane_cooling_00Bar_0030_0266.tiff                    |     Tue Jan 16 20:35:31 2018', ' 20180116_Sample2_Methane_cooling_00Bar_0030_0267.tiff                    |     Tue Jan 16 20:36:05 2018', ' 20180116_Sample2_Methane_cooling_00Bar_0030_0268.tiff                    |     Tue Jan 16 20:36:41 2018', ' 20180116_Sample2_Methane_cooling_00Bar_0030_0269.tiff                    |     Tue Jan 16 20:37:16 2018', ' 20180116_Sample2_Methane_cooling_00Bar_0030_0270.tiff                    |     Tue Jan 16 20:37:50 2018', ' 20180116_Sample2_Methane_cooling_00Bar_0030_0271.tiff                    |     Tue Jan 16 20:38:25 2018', ' 20180116_Sample2_Methane_cooling_00Bar_0030_0272.tiff                    |     Tue Jan 16 20:39:00 2018', ' 20180116_Sample2_Methane_cooling_00Bar_0030_0273.tiff                    |     Tue Jan 16 20:39:35 2018', ' 20180116_Sample2_Methane_cooling_00Bar_0030_0274.tiff                    |     Tue Jan 16 20:40:10 2018', ' 20180116_Sample2_Methane_cooling_00Bar_0030_0275.tiff                    |     Tue Jan 16 20:40:45 2018', ' 20180116_Sample2_Methane_cooling_00Bar_0030_0276.tiff                    |     Tue Jan 16 20:41:20 2018', ' 20180116_Sample2_Methane_cooling_00Bar_0030_0277.tiff                    |     Tue Jan 16 20:41:55 2018', ' 20180116_Sample2_Methane_cooling_00Bar_0030_0278.tiff                    |     Tue Jan 16 20:42:30 2018', ' 20180116_Sample2_Methane_cooling_00Bar_0030_0279.tiff                    |     Tue Jan 16 20:43:05 2018', ' 20180116_Sample2_Methane_cooling_00Bar_0030_0280.tiff                    |     Tue Jan 16 20:43:40 2018', ' 20180116_Sample2_Methane_cooling_00Bar_0030_0281.tiff                    |     Tue Jan 16 20:44:15 2018', ' 20180116_Sample2_Methane_cooling_00Bar_0030_0282.tiff                    |     Tue Jan 16 20:44:50 2018', ' 20180116_Sample2_Methane_cooling_00Bar_0030_0283.tiff                    |     Tue Jan 16 20:45:24 2018', ' 20180116_Sample2_Methane_cooling_00Bar_0030_0284.tiff                    |     Tue Jan 16 20:45:59 2018', ' 20180116_Sample2_Methane_cooling_00Bar_0030_0285.tiff                    |     Tue Jan 16 20:46:34 2018', ' 20180116_Sample2_Methane_cooling_00Bar_0030_0286.tiff                    |     Tue Jan 16 20:47:09 2018', ' 20180116_Sample2_Methane_cooling_00Bar_0030_0287.tiff                    |     Tue Jan 16 20:47:44 2018', ' 20180116_Sample2_Methane_cooling_00Bar_0030_0288.tiff                    |     Tue Jan 16 20:48:19 2018', ' 20180116_Sample2_Methane_cooling_00Bar_0030_0289.tiff                    |     Tue Jan 16 20:48:54 2018', ' 20180116_Sample2_Methane_cooling_00Bar_0030_0290.tiff                    |     Tue Jan 16 20:49:29 2018', ' 20180116_Sample2_Methane_cooling_00Bar_0030_0291.tiff                    |     Tue Jan 16 20:50:04 2018', ' 20180116_Sample2_Methane_cooling_00Bar_0030_0292.tiff                    |     Tue Jan 16 20:50:39 2018', ' 20180116_Sample2_Methane_cooling_00Bar_0030_0293.tiff                    |     Tue Jan 16 20:51:14 2018', ' 20180116_Sample2_Methane_cooling_00Bar_0030_0294.tiff                    |     Tue Jan 16 20:51:49 2018', ' 20180116_Sample2_Methane_cooling_00Bar_0030_0295.tiff                    |     Tue Jan 16 20:52:24 2018', ' 20180116_Sample2_Methane_cooling_200_150K_00Bar_0030_0331.tiff           |     Tue Jan 16 22:08:24 2018', ' 20180116_Sample2_Methane_cooling_200_150K_00Bar_0030_0332.tiff           |     Tue Jan 16 22:08:59 2018', ' 20180116_Sample2_Methane_cooling_200_150K_00Bar_0030_0333.tiff           |     Tue Jan 16 22:09:34 2018', ' 20180116_Sample2_Methane_cooling_200_150K_00Bar_0030_0334.tiff           |     Tue Jan 16 22:10:09 2018', ' 20180116_Sample2_Methane_cooling_200_150K_00Bar_0030_0335.tiff           |     Tue Jan 16 22:10:44 2018', ' 20180116_Sample2_Methane_cooling_200_150K_00Bar_0030_0336.tiff           |     Tue Jan 16 22:11:19 2018', ' 20180116_Sample2_Methane_cooling_200_150K_00Bar_0030_0337.tiff           |     Tue Jan 16 22:11:54 2018', ' 20180116_Sample2_Methane_cooling_200_150K_00Bar_0030_0338.tiff           |     Tue Jan 16 22:12:29 2018', ' 20180116_Sample2_Methane_cooling_200_150K_00Bar_0030_0339.tiff           |     Tue Jan 16 22:13:03 2018', ' 20180116_Sample2_Methane_cooling_200_150K_00Bar_0030_0340.tiff           |     Tue Jan 16 22:13:38 2018', ' 20180116_Sample2_Methane_cooling_200_150K_00Bar_0030_0341.tiff           |     Tue Jan 16 22:14:13 2018', ' 20180116_Sample2_Methane_cooling_200_150K_00Bar_0030_0342.tiff           |     Tue Jan 16 22:14:48 2018', ' 20180116_Sample2_Methane_cooling_200_150K_00Bar_0030_0343.tiff           |     Tue Jan 16 22:15:23 2018', ' 20180116_Sample2_Methane_cooling_200_150K_00Bar_0030_0344.tiff           |     Tue Jan 16 22:15:58 2018', ' 20180116_Sample2_Methane_cooling_200_150K_00Bar_0030_0345.tiff           |     Tue Jan 16 22:16:33 2018', ' 20180116_Sample2_Methane_cooling_200_150K_00Bar_0030_0346.tiff           |     Tue Jan 16 22:17:08 2018', ' 20180116_Sample2_Methane_cooling_200_150K_00Bar_0030_0347.tiff           |     Tue Jan 16 22:17:43 2018', ' 20180116_Sample2_Methane_cooling_200_150K_00Bar_0030_0348.tiff           |     Tue Jan 16 22:18:18 2018', ' 20180116_Sample2_Methane_cooling_200_150K_00Bar_0030_0349.tiff           |     Tue Jan 16 22:18:53 2018', ' 20180116_Sample2_Methane_cooling_200_150K_00Bar_0030_0350.tiff           |     Tue Jan 16 22:19:28 2018', ' 20180116_Sample2_Methane_cooling_200_150K_00Bar_0030_0351.tiff           |     Tue Jan 16 22:20:02 2018', ' 20180116_Sample2_Methane_cooling_200_150K_00Bar_0030_0352.tiff           |     Tue Jan 16 22:20:37 2018', ' 20180116_Sample2_Methane_cooling_200_150K_00Bar_0030_0353.tiff           |     Tue Jan 16 22:21:12 2018', ' 20180116_Sample2_Methane_cooling_200_150K_00Bar_0030_0354.tiff           |     Tue Jan 16 22:21:47 2018', ' 20180116_Sample2_Methane_cooling_200_150K_00Bar_0030_0355.tiff           |     Tue Jan 16 22:22:22 2018', ' 20180116_Sample2_Methane_cooling_200_150K_00Bar_0030_0356.tiff           |     Tue Jan 16 22:22:57 2018', ' 20180116_Sample2_Methane_cooling_200_150K_00Bar_0030_0357.tiff           |     Tue Jan 16 22:23:32 2018', ' 20180116_Sample2_Methane_cooling_200_150K_00Bar_0030_0358.tiff           |     Tue Jan 16 22:24:07 2018', ' 20180116_Sample2_Methane_cooling_200_150K_00Bar_0030_0359.tiff           |     Tue Jan 16 22:24:42 2018', ' 20180116_Sample2_Methane_cooling_200_150K_00Bar_0030_0360.tiff           |     Tue Jan 16 22:25:17 2018', ' 20180116_Sample2_Methane_cooling_200_150K_00Bar_0030_0361.tiff           |     Tue Jan 16 22:25:52 2018', ' 20180116_Sample2_Methane_cooling_200_150K_00Bar_0030_0362.tiff           |     Tue Jan 16 22:26:27 2018', ' 20180116_Sample2_Methane_cooling_200_150K_00Bar_0030_0363.tiff           |     Tue Jan 16 22:27:02 2018', ' 20180116_Sample2_Methane_cooling_200_150K_00Bar_0030_0364.tiff           |     Tue Jan 16 22:27:37 2018', ' 20180116_Sample2_Methane_cooling_200_150K_00Bar_0030_0365.tiff           |     Tue Jan 16 22:28:11 2018', ' 20180116_Sample2_Methane_cooling_200_150K_00Bar_0030_0366.tiff           |     Tue Jan 16 22:28:46 2018', ' 20180116_Sample2_Methane_cooling_200_150K_00Bar_0030_0367.tiff           |     Tue Jan 16 22:29:21 2018', ' 20180116_Sample2_Methane_cooling_200_150K_00Bar_0030_0368.tiff           |     Tue Jan 16 22:29:56 2018', ' 20180116_Sample2_Methane_cooling_200_150K_00Bar_0030_0369.tiff           |     Tue Jan 16 22:30:31 2018', ' 20180116_Sample2_Methane_cooling_200_150K_00Bar_0030_0370.tiff           |     Tue Jan 16 22:31:06 2018', ' 20180116_Sample2_Methane_cooling_200_150K_00Bar_0030_0371.tiff           |     Tue Jan 16 22:31:41 2018', ' 20180116_Sample2_Methane_cooling_200_150K_00Bar_0030_0372.tiff           |     Tue Jan 16 22:32:16 2018', ' 20180116_Sample2_Methane_cooling_200_150K_00Bar_0030_0373.tiff           |     Tue Jan 16 22:32:51 2018', ' 20180116_Sample2_Methane_cooling_200_150K_00Bar_0030_0374.tiff           |     Tue Jan 16 22:33:26 2018', ' 20180116_Sample2_Methane_cooling_200_150K_00Bar_0030_0375.tiff           |     Tue Jan 16 22:34:01 2018', ' 20180116_Sample2_Methane_cooling_200_150K_00Bar_0030_0376.tiff           |     Tue Jan 16 22:34:36 2018', ' 20180116_Sample2_Methane_cooling_200_150K_00Bar_0030_0377.tiff           |     Tue Jan 16 22:35:11 2018', ' 20180116_Sample2_Methane_cooling_200_150K_00Bar_0030_0378.tiff           |     Tue Jan 16 22:35:46 2018', ' 20180116_Sample2_Methane_cooling_200_150K_00Bar_0030_0379.tiff           |     Tue Jan 16 22:36:21 2018', ' 20180116_Sample2_Methane_cooling_200_150K_00Bar_0030_0380.tiff           |     Tue Jan 16 22:36:56 2018', ' 20180116_Sample2_Methane_cooling_200_150K_00Bar_0030_0381.tiff           |     Tue Jan 16 22:37:31 2018', ' 20180116_Sample2_Methane_cooling_200_150K_00Bar_0030_0382.tiff           |     Tue Jan 16 22:38:06 2018', ' 20180116_Sample2_Methane_cooling_200_150K_00Bar_0030_0383.tiff           |     Tue Jan 16 22:38:40 2018', ' 20180116_Sample2_Methane_cooling_200_150K_00Bar_0030_0384.tiff           |     Tue Jan 16 22:39:15 2018', ' 20180116_Sample2_Methane_cooling_200_150K_00Bar_0030_0385.tiff           |     Tue Jan 16 22:39:50 2018', ' 20180116_Sample2_Methane_cooling_200_150K_00Bar_0030_0386.tiff           |     Tue Jan 16 22:40:25 2018', ' 20180116_Sample2_Methane_cooling_200_150K_00Bar_0030_0387.tiff           |     Tue Jan 16 22:41:00 2018', ' 20180116_Sample2_Methane_cooling_200_150K_00Bar_0030_0388.tiff           |     Tue Jan 16 22:41:35 2018', ' 20180116_Sample2_Methane_cooling_200_150K_00Bar_0030_0389.tiff           |     Tue Jan 16 22:42:10 2018', ' 20180116_Sample2_Methane_cooling_200_150K_00Bar_0030_0390.tiff           |     Tue Jan 16 22:42:45 2018', ' 20180116_Sample2_Methane_cooling_200_150K_00Bar_0030_0391.tiff           |     Tue Jan 16 22:43:20 2018', ' 20180116_Sample2_Methane_cooling_200_150K_00Bar_0030_0392.tiff           |     Tue Jan 16 22:43:55 2018', ' 20180116_Sample2_Methane_cooling_200_150K_00Bar_0030_0393.tiff           |     Tue Jan 16 22:44:30 2018', ' 20180116_Sample2_Methane_cooling_200_150K_00Bar_0030_0394.tiff           |     Tue Jan 16 22:45:05 2018', ' 20180116_Sample2_Methane_cooling_200_150K_00Bar_0030_0395.tiff           |     Tue Jan 16 22:45:40 2018', ' 20180116_Sample2_Methane_cooling_200_150K_00Bar_0030_0396.tiff           |     Tue Jan 16 22:46:14 2018', ' 20180116_Sample2_Methane_cooling_200_150K_00Bar_0030_0397.tiff           |     Tue Jan 16 22:46:49 2018', ' 20180116_Sample2_Methane_cooling_200_150K_00Bar_0030_0398.tiff           |     Tue Jan 16 22:47:24 2018', ' 20180116_Sample2_Methane_cooling_200_150K_00Bar_0030_0399.tiff           |     Tue Jan 16 22:47:59 2018', ' 20180116_Sample2_Methane_cooling_200_150K_00Bar_0030_0400.tiff           |     Tue Jan 16 22:48:34 2018', ' 20180116_Sample2_Methane_cooling_200_150K_00Bar_0030_0401.tiff           |     Tue Jan 16 22:49:09 2018', ' 20180116_Sample2_Methane_cooling_200_150K_00Bar_0030_0402.tiff           |     Tue Jan 16 22:49:44 2018', ' 20180116_Sample2_Methane_cooling_200_150K_00Bar_0030_0403.tiff           |     Tue Jan 16 22:50:19 2018', ' 20180116_Sample2_Methane_cooling_200_150K_00Bar_0030_0404.tiff           |     Tue Jan 16 22:50:54 2018', ' 20180116_Sample2_Methane_cooling_200_150K_00Bar_0030_0405.tiff           |     Tue Jan 16 22:51:29 2018', ' 20180116_Sample2_Methane_cooling_200_150K_00Bar_0030_0406.tiff           |     Tue Jan 16 22:52:04 2018', ' 20180116_Sample2_Methane_cooling_200_150K_00Bar_0030_0407.tiff           |     Tue Jan 16 22:52:39 2018', ' 20180116_Sample2_Methane_cooling_200_150K_00Bar_0030_0408.tiff           |     Tue Jan 16 22:53:14 2018', ' 20180116_Sample2_Methane_cooling_200_150K_00Bar_0030_0409.tiff           |     Tue Jan 16 22:53:48 2018', ' 20180117_Sample2_Methane_145K_00Bar_0030_0620.tiff                       |     Wed Jan 17 02:59:03 2018', ' 20180117_Sample2_Methane_145K_00Bar_0030_0621.tiff                       |     Wed Jan 17 02:59:38 2018', ' 20180117_Sample2_Methane_145K_00Bar_0030_0622.tiff                       |     Wed Jan 17 03:00:13 2018', ' 20180117_Sample2_Methane_145K_00Bar_0030_0623.tiff                       |     Wed Jan 17 03:00:48 2018', ' 20180117_Sample2_Methane_145K_00Bar_0030_0624.tiff                       |     Wed Jan 17 03:01:23 2018', ' 20180117_Sample2_Methane_145K_04Bar_0030_0615.tiff                       |     Wed Jan 17 02:53:32 2018', ' 20180117_Sample2_Methane_145K_04Bar_0030_0616.tiff                       |     Wed Jan 17 02:54:07 2018', ' 20180117_Sample2_Methane_145K_04Bar_0030_0617.tiff                       |     Wed Jan 17 02:54:42 2018', ' 20180117_Sample2_Methane_145K_04Bar_0030_0618.tiff                       |     Wed Jan 17 02:55:17 2018', ' 20180117_Sample2_Methane_145K_04Bar_0030_0619.tiff                       |     Wed Jan 17 02:55:51 2018', ' 20180117_Sample2_Methane_145K_08Bar_0030_0565.tiff                       |     Wed Jan 17 02:22:19 2018', ' 20180117_Sample2_Methane_145K_08Bar_0030_0566.tiff                       |     Wed Jan 17 02:22:54 2018', ' 20180117_Sample2_Methane_145K_08Bar_0030_0567.tiff                       |     Wed Jan 17 02:23:29 2018', ' 20180117_Sample2_Methane_145K_08Bar_0030_0568.tiff                       |     Wed Jan 17 02:24:04 2018', ' 20180117_Sample2_Methane_145K_08Bar_0030_0569.tiff                       |     Wed Jan 17 02:24:38 2018', ' 20180117_Sample2_Methane_145K_08Bar_0030_0570.tiff                       |     Wed Jan 17 02:25:13 2018', ' 20180117_Sample2_Methane_145K_08Bar_0030_0571.tiff                       |     Wed Jan 17 02:25:48 2018', ' 20180117_Sample2_Methane_145K_08Bar_0030_0572.tiff                       |     Wed Jan 17 02:26:23 2018', ' 20180117_Sample2_Methane_145K_08Bar_0030_0573.tiff                       |     Wed Jan 17 02:26:58 2018', ' 20180117_Sample2_Methane_145K_08Bar_0030_0574.tiff                       |     Wed Jan 17 02:27:33 2018', ' 20180117_Sample2_Methane_145K_08Bar_0030_0575.tiff                       |     Wed Jan 17 02:28:08 2018', ' 20180117_Sample2_Methane_145K_08Bar_0030_0576.tiff                       |     Wed Jan 17 02:28:43 2018', ' 20180117_Sample2_Methane_145K_08Bar_0030_0577.tiff                       |     Wed Jan 17 02:29:18 2018', ' 20180117_Sample2_Methane_145K_08Bar_0030_0578.tiff                       |     Wed Jan 17 02:29:53 2018', ' 20180117_Sample2_Methane_145K_08Bar_0030_0579.tiff                       |     Wed Jan 17 02:30:28 2018', ' 20180117_Sample2_Methane_145K_08Bar_0030_0580.tiff                       |     Wed Jan 17 02:31:03 2018', ' 20180117_Sample2_Methane_145K_08Bar_0030_0581.tiff                       |     Wed Jan 17 02:31:38 2018', ' 20180117_Sample2_Methane_145K_08Bar_0030_0582.tiff                       |     Wed Jan 17 02:32:13 2018', ' 20180117_Sample2_Methane_145K_08Bar_0030_0583.tiff                       |     Wed Jan 17 02:32:47 2018', ' 20180117_Sample2_Methane_145K_08Bar_0030_0584.tiff                       |     Wed Jan 17 02:33:22 2018', ' 20180117_Sample2_Methane_145K_08Bar_0030_0585.tiff                       |     Wed Jan 17 02:33:57 2018', ' 20180117_Sample2_Methane_145K_08Bar_0030_0586.tiff                       |     Wed Jan 17 02:34:32 2018', ' 20180117_Sample2_Methane_145K_08Bar_0030_0587.tiff                       |     Wed Jan 17 02:35:07 2018', ' 20180117_Sample2_Methane_145K_08Bar_0030_0588.tiff                       |     Wed Jan 17 02:35:42 2018', ' 20180117_Sample2_Methane_145K_08Bar_0030_0589.tiff                       |     Wed Jan 17 02:36:17 2018', ' 20180117_Sample2_Methane_145K_08Bar_0030_0590.tiff                       |     Wed Jan 17 02:36:52 2018', ' 20180117_Sample2_Methane_145K_08Bar_0030_0591.tiff                       |     Wed Jan 17 02:37:27 2018', ' 20180117_Sample2_Methane_145K_08Bar_0030_0592.tiff                       |     Wed Jan 17 02:38:02 2018', ' 20180117_Sample2_Methane_145K_08Bar_0030_0593.tiff                       |     Wed Jan 17 02:38:37 2018', ' 20180117_Sample2_Methane_145K_08Bar_0030_0594.tiff                       |     Wed Jan 17 02:39:12 2018', ' 20180117_Sample2_Methane_145K_08Bar_0030_0595.tiff                       |     Wed Jan 17 02:39:47 2018', ' 20180117_Sample2_Methane_145K_08Bar_0030_0596.tiff                       |     Wed Jan 17 02:40:22 2018', ' 20180117_Sample2_Methane_145K_08Bar_0030_0597.tiff                       |     Wed Jan 17 02:40:56 2018', ' 20180117_Sample2_Methane_145K_08Bar_0030_0598.tiff                       |     Wed Jan 17 02:41:31 2018', ' 20180117_Sample2_Methane_145K_08Bar_0030_0599.tiff                       |     Wed Jan 17 02:42:06 2018', ' 20180117_Sample2_Methane_145K_08Bar_0030_0600.tiff                       |     Wed Jan 17 02:42:41 2018', ' 20180117_Sample2_Methane_145K_08Bar_0030_0601.tiff                       |     Wed Jan 17 02:43:16 2018', ' 20180117_Sample2_Methane_145K_08Bar_0030_0602.tiff                       |     Wed Jan 17 02:43:51 2018', ' 20180117_Sample2_Methane_145K_08Bar_0030_0603.tiff                       |     Wed Jan 17 02:44:26 2018', ' 20180117_Sample2_Methane_145K_08Bar_0030_0604.tiff                       |     Wed Jan 17 02:45:01 2018', ' 20180117_Sample2_Methane_145K_08Bar_0030_0605.tiff                       |     Wed Jan 17 02:45:36 2018', ' 20180117_Sample2_Methane_145K_08Bar_0030_0606.tiff                       |     Wed Jan 17 02:46:11 2018', ' 20180117_Sample2_Methane_145K_08Bar_0030_0607.tiff                       |     Wed Jan 17 02:46:46 2018', ' 20180117_Sample2_Methane_145K_08Bar_0030_0608.tiff                       |     Wed Jan 17 02:47:21 2018', ' 20180117_Sample2_Methane_145K_08Bar_0030_0609.tiff                       |     Wed Jan 17 02:47:56 2018', ' 20180117_Sample2_Methane_145K_08Bar_0030_0610.tiff                       |     Wed Jan 17 02:48:31 2018', ' 20180117_Sample2_Methane_145K_08Bar_0030_0611.tiff                       |     Wed Jan 17 02:49:06 2018', ' 20180117_Sample2_Methane_145K_08Bar_0030_0612.tiff                       |     Wed Jan 17 02:49:40 2018', ' 20180117_Sample2_Methane_145K_08Bar_0030_0613.tiff                       |     Wed Jan 17 02:50:15 2018', ' 20180117_Sample2_Methane_145K_08Bar_0030_0614.tiff                       |     Wed Jan 17 02:50:50 2018', ' 20180117_Sample2_Methane_145K_09Bar_0030_0560.tiff                       |     Wed Jan 17 02:17:51 2018', ' 20180117_Sample2_Methane_145K_09Bar_0030_0561.tiff                       |     Wed Jan 17 02:18:26 2018', ' 20180117_Sample2_Methane_145K_09Bar_0030_0562.tiff                       |     Wed Jan 17 02:19:01 2018', ' 20180117_Sample2_Methane_145K_09Bar_0030_0563.tiff                       |     Wed Jan 17 02:19:36 2018', ' 20180117_Sample2_Methane_145K_09Bar_0030_0564.tiff                       |     Wed Jan 17 02:20:11 2018', ' 20180117_Sample2_Methane_145K_10Bar_0030_0555.tiff                       |     Wed Jan 17 02:13:20 2018', ' 20180117_Sample2_Methane_145K_10Bar_0030_0556.tiff                       |     Wed Jan 17 02:13:55 2018', ' 20180117_Sample2_Methane_145K_10Bar_0030_0557.tiff                       |     Wed Jan 17 02:14:30 2018', ' 20180117_Sample2_Methane_145K_10Bar_0030_0558.tiff                       |     Wed Jan 17 02:15:04 2018', ' 20180117_Sample2_Methane_145K_10Bar_0030_0559.tiff                       |     Wed Jan 17 02:15:39 2018', ' 20180117_Sample2_Methane_145K_11Bar_0030_0550.tiff                       |     Wed Jan 17 02:08:44 2018', ' 20180117_Sample2_Methane_145K_11Bar_0030_0551.tiff                       |     Wed Jan 17 02:09:19 2018', ' 20180117_Sample2_Methane_145K_11Bar_0030_0552.tiff                       |     Wed Jan 17 02:09:54 2018', ' 20180117_Sample2_Methane_145K_11Bar_0030_0553.tiff                       |     Wed Jan 17 02:10:29 2018', ' 20180117_Sample2_Methane_145K_11Bar_0030_0554.tiff                       |     Wed Jan 17 02:11:04 2018', ' 20180117_Sample2_Methane_145K_15Bar_0030_0545.tiff                       |     Wed Jan 17 02:03:22 2018', ' 20180117_Sample2_Methane_145K_15Bar_0030_0546.tiff                       |     Wed Jan 17 02:03:57 2018', ' 20180117_Sample2_Methane_145K_15Bar_0030_0547.tiff                       |     Wed Jan 17 02:04:32 2018', ' 20180117_Sample2_Methane_145K_15Bar_0030_0548.tiff                       |     Wed Jan 17 02:05:07 2018', ' 20180117_Sample2_Methane_145K_15Bar_0030_0549.tiff                       |     Wed Jan 17 02:05:42 2018', ' 20180117_Sample2_Methane_145K_30Bar_0030_0540.tiff                       |     Wed Jan 17 01:56:12 2018', ' 20180117_Sample2_Methane_145K_30Bar_0030_0541.tiff                       |     Wed Jan 17 01:56:47 2018', ' 20180117_Sample2_Methane_145K_30Bar_0030_0542.tiff                       |     Wed Jan 17 01:57:22 2018', ' 20180117_Sample2_Methane_145K_30Bar_0030_0543.tiff                       |     Wed Jan 17 01:57:57 2018', ' 20180117_Sample2_Methane_145K_30Bar_0030_0544.tiff                       |     Wed Jan 17 01:58:32 2018', ' 20180117_Sample2_Methane_145K_60Bar_0030_0535.tiff                       |     Wed Jan 17 01:50:55 2018', ' 20180117_Sample2_Methane_145K_60Bar_0030_0536.tiff                       |     Wed Jan 17 01:51:30 2018', ' 20180117_Sample2_Methane_145K_60Bar_0030_0537.tiff                       |     Wed Jan 17 01:52:05 2018', ' 20180117_Sample2_Methane_145K_60Bar_0030_0538.tiff                       |     Wed Jan 17 01:52:40 2018', ' 20180117_Sample2_Methane_145K_60Bar_0030_0539.tiff                       |     Wed Jan 17 01:53:14 2018', ' 20180117_Sample2_Methane_145K_85Bar_0030_0530.tiff                       |     Wed Jan 17 01:43:06 2018', ' 20180117_Sample2_Methane_145K_85Bar_0030_0531.tiff                       |     Wed Jan 17 01:43:41 2018', ' 20180117_Sample2_Methane_145K_85Bar_0030_0532.tiff                       |     Wed Jan 17 01:44:16 2018', ' 20180117_Sample2_Methane_145K_85Bar_0030_0533.tiff                       |     Wed Jan 17 01:44:51 2018', ' 20180117_Sample2_Methane_145K_85Bar_0030_0534.tiff                       |     Wed Jan 17 01:45:26 2018', ' 20180117_Sample2_Methane_150K_00Bar_0030_0446.tiff                       |     Wed Jan 17 00:09:18 2018', ' 20180117_Sample2_Methane_150K_00Bar_0030_0447.tiff                       |     Wed Jan 17 00:09:53 2018', ' 20180117_Sample2_Methane_150K_00Bar_0030_0448.tiff                       |     Wed Jan 17 00:10:28 2018', ' 20180117_Sample2_Methane_150K_00Bar_0030_0449.tiff                       |     Wed Jan 17 00:11:03 2018', ' 20180117_Sample2_Methane_150K_00Bar_0030_0450.tiff                       |     Wed Jan 17 00:11:38 2018', ' 20180117_Sample2_Methane_150K_04Bar_0030_0443.tiff                       |     Wed Jan 17 00:01:02 2018', ' 20180117_Sample2_Methane_150K_04Bar_0030_0444.tiff                       |     Wed Jan 17 00:01:37 2018', ' 20180117_Sample2_Methane_150K_04Bar_0030_0445.tiff                       |     Wed Jan 17 00:02:12 2018', ' 20180117_Sample2_Methane_150K_De-pressurizing_0030_0491.tiff             |     Wed Jan 17 00:40:13 2018', ' 20180117_Sample2_Methane_150K_De-pressurizing_0030_0492.tiff             |     Wed Jan 17 00:40:48 2018', ' 20180117_Sample2_Methane_150K_De-pressurizing_0030_0493.tiff             |     Wed Jan 17 00:41:23 2018', ' 20180117_Sample2_Methane_150K_De-pressurizing_0030_0494.tiff             |     Wed Jan 17 00:41:58 2018', ' 20180117_Sample2_Methane_150K_De-pressurizing_0030_0495.tiff             |     Wed Jan 17 00:42:33 2018', ' 20180117_Sample2_Methane_150K_De-pressurizing_0030_0496.tiff             |     Wed Jan 17 00:43:08 2018', ' 20180117_Sample2_Methane_150K_De-pressurizing_0030_0497.tiff             |     Wed Jan 17 00:43:43 2018', ' 20180117_Sample2_Methane_150K_De-pressurizing_0030_0498.tiff             |     Wed Jan 17 00:44:18 2018', ' 20180117_Sample2_Methane_150K_De-pressurizing_0030_0499.tiff             |     Wed Jan 17 00:44:53 2018', ' 20180117_Sample2_Methane_150K_De-pressurizing_0030_0500.tiff             |     Wed Jan 17 00:45:28 2018', ' 20180117_Sample2_Methane_150K_De-pressurizing_0030_0501.tiff             |     Wed Jan 17 00:46:02 2018', ' 20180117_Sample2_Methane_150K_De-pressurizing_0030_0502.tiff             |     Wed Jan 17 00:46:37 2018', ' 20180117_Sample2_Methane_150K_De-pressurizing_0030_0503.tiff             |     Wed Jan 17 00:47:12 2018', ' 20180117_Sample2_Methane_150K_De-pressurizing_0030_0504.tiff             |     Wed Jan 17 00:47:47 2018', ' 20180117_Sample2_Methane_150K_De-pressurizing_0030_0505.tiff             |     Wed Jan 17 00:48:22 2018', ' 20180117_Sample2_Methane_150K_De-pressurizing_0030_0506.tiff             |     Wed Jan 17 00:48:57 2018', ' 20180117_Sample2_Methane_150K_De-pressurizing_0030_0507.tiff             |     Wed Jan 17 00:49:32 2018', ' 20180117_Sample2_Methane_150K_De-pressurizing_0030_0508.tiff             |     Wed Jan 17 00:50:07 2018', ' 20180117_Sample2_Methane_150K_De-pressurizing_0030_0509.tiff             |     Wed Jan 17 00:50:42 2018', ' 20180117_Sample2_Methane_150K_De-pressurizing_0030_0510.tiff             |     Wed Jan 17 00:51:17 2018', ' 20180117_Sample2_Methane_150K_De-pressurizing_0030_0511.tiff             |     Wed Jan 17 00:51:52 2018', ' 20180117_Sample2_Methane_150K_De-pressurizing_0030_0512.tiff             |     Wed Jan 17 00:52:27 2018', ' 20180117_Sample2_Methane_150K_De-pressurizing_0030_0513.tiff             |     Wed Jan 17 00:53:02 2018', ' 20180117_Sample2_Methane_150K_De-pressurizing_0030_0514.tiff             |     Wed Jan 17 00:53:37 2018', ' 20180117_Sample2_Methane_150K_De-pressurizing_0030_0515.tiff             |     Wed Jan 17 00:54:12 2018', ' 20180117_Sample2_Methane_150K_De-pressurizing_0030_0516.tiff             |     Wed Jan 17 00:54:47 2018', ' 20180117_Sample2_Methane_150K_De-pressurizing_0030_0517.tiff             |     Wed Jan 17 00:55:21 2018', ' 20180117_Sample2_Methane_150K_De-pressurizing_0030_0518.tiff             |     Wed Jan 17 00:55:56 2018', ' 20180117_Sample2_Methane_150K_De-pressurizing_0030_0519.tiff             |     Wed Jan 17 00:56:31 2018', ' 20180117_Sample2_Methane_150K_De-pressurizing_0030_0520.tiff             |     Wed Jan 17 00:57:06 2018', ' 20180117_Sample2_Methane_150K_De-pressurizing_0030_0521.tiff             |     Wed Jan 17 00:57:41 2018', ' 20180117_Sample2_Methane_150K_De-pressurizing_0030_0522.tiff             |     Wed Jan 17 00:58:16 2018', ' 20180117_Sample2_Methane_150K_De-pressurizing_0030_0523.tiff             |     Wed Jan 17 00:58:51 2018', ' 20180117_Sample2_Methane_150K_De-pressurizing_0030_0524.tiff             |     Wed Jan 17 00:59:26 2018', ' 20180117_Sample2_Methane_150K_De-pressurizing_0030_0525.tiff             |     Wed Jan 17 01:00:01 2018', ' 20180117_Sample2_Methane_150K_De-pressurizing_0030_0526.tiff             |     Wed Jan 17 01:00:36 2018', ' 20180117_Sample2_Methane_150K_De-pressurizing_0030_0527.tiff             |     Wed Jan 17 01:01:11 2018', ' 20180117_Sample2_Methane_150K_De-pressurizing_0030_0528.tiff             |     Wed Jan 17 01:01:46 2018', ' 20180117_Sample2_Methane_150K_De-pressurizing_0030_0529.tiff             |     Wed Jan 17 01:02:21 2018', ' 20180117_Sample2_Methane_150K_Pressurizing_0030_0451.tiff                |     Wed Jan 17 00:13:23 2018', ' 20180117_Sample2_Methane_150K_Pressurizing_0030_0452.tiff                |     Wed Jan 17 00:13:58 2018', ' 20180117_Sample2_Methane_150K_Pressurizing_0030_0453.tiff                |     Wed Jan 17 00:14:33 2018', ' 20180117_Sample2_Methane_150K_Pressurizing_0030_0454.tiff                |     Wed Jan 17 00:15:07 2018', ' 20180117_Sample2_Methane_150K_Pressurizing_0030_0455.tiff                |     Wed Jan 17 00:15:42 2018', ' 20180117_Sample2_Methane_150K_Pressurizing_0030_0456.tiff                |     Wed Jan 17 00:16:17 2018', ' 20180117_Sample2_Methane_150K_Pressurizing_0030_0457.tiff                |     Wed Jan 17 00:16:52 2018', ' 20180117_Sample2_Methane_150K_Pressurizing_0030_0458.tiff                |     Wed Jan 17 00:17:27 2018', ' 20180117_Sample2_Methane_150K_Pressurizing_0030_0459.tiff                |     Wed Jan 17 00:18:02 2018', ' 20180117_Sample2_Methane_150K_Pressurizing_0030_0460.tiff                |     Wed Jan 17 00:18:37 2018', ' 20180117_Sample2_Methane_150K_Pressurizing_0030_0461.tiff                |     Wed Jan 17 00:19:12 2018', ' 20180117_Sample2_Methane_150K_Pressurizing_0030_0462.tiff                |     Wed Jan 17 00:19:47 2018', ' 20180117_Sample2_Methane_150K_Pressurizing_0030_0463.tiff                |     Wed Jan 17 00:20:22 2018', ' 20180117_Sample2_Methane_150K_Pressurizing_0030_0464.tiff                |     Wed Jan 17 00:20:57 2018', ' 20180117_Sample2_Methane_150K_Pressurizing_0030_0465.tiff                |     Wed Jan 17 00:21:32 2018', ' 20180117_Sample2_Methane_150K_Pressurizing_0030_0466.tiff                |     Wed Jan 17 00:22:06 2018', ' 20180117_Sample2_Methane_150K_Pressurizing_0030_0467.tiff                |     Wed Jan 17 00:22:41 2018', ' 20180117_Sample2_Methane_150K_Pressurizing_0030_0468.tiff                |     Wed Jan 17 00:23:16 2018', ' 20180117_Sample2_Methane_150K_Pressurizing_0030_0469.tiff                |     Wed Jan 17 00:23:51 2018', ' 20180117_Sample2_Methane_150K_Pressurizing_0030_0470.tiff                |     Wed Jan 17 00:24:26 2018', ' 20180117_Sample2_Methane_150K_Pressurizing_0030_0471.tiff                |     Wed Jan 17 00:25:01 2018', ' 20180117_Sample2_Methane_150K_Pressurizing_0030_0472.tiff                |     Wed Jan 17 00:25:36 2018', ' 20180117_Sample2_Methane_150K_Pressurizing_0030_0473.tiff                |     Wed Jan 17 00:26:11 2018', ' 20180117_Sample2_Methane_150K_Pressurizing_0030_0474.tiff                |     Wed Jan 17 00:26:46 2018', ' 20180117_Sample2_Methane_150K_Pressurizing_0030_0475.tiff                |     Wed Jan 17 00:27:21 2018', ' 20180117_Sample2_Methane_150K_Pressurizing_0030_0476.tiff                |     Wed Jan 17 00:27:56 2018', ' 20180117_Sample2_Methane_150K_Pressurizing_0030_0477.tiff                |     Wed Jan 17 00:28:31 2018', ' 20180117_Sample2_Methane_150K_Pressurizing_0030_0478.tiff                |     Wed Jan 17 00:29:06 2018', ' 20180117_Sample2_Methane_150K_Pressurizing_0030_0479.tiff                |     Wed Jan 17 00:29:40 2018', ' 20180117_Sample2_Methane_150K_Pressurizing_0030_0480.tiff                |     Wed Jan 17 00:30:15 2018', ' 20180117_Sample2_Methane_150K_Pressurizing_0030_0481.tiff                |     Wed Jan 17 00:30:50 2018', ' 20180117_Sample2_Methane_150K_Pressurizing_0030_0482.tiff                |     Wed Jan 17 00:31:25 2018', ' 20180117_Sample2_Methane_150K_Pressurizing_0030_0483.tiff                |     Wed Jan 17 00:32:00 2018', ' 20180117_Sample2_Methane_150K_Pressurizing_0030_0484.tiff                |     Wed Jan 17 00:32:35 2018', ' 20180117_Sample2_Methane_150K_Pressurizing_0030_0485.tiff                |     Wed Jan 17 00:33:10 2018', ' 20180117_Sample2_Methane_150K_Pressurizing_0030_0486.tiff                |     Wed Jan 17 00:33:45 2018', ' 20180117_Sample2_Methane_150K_Pressurizing_0030_0487.tiff                |     Wed Jan 17 00:34:20 2018', ' 20180117_Sample2_Methane_150K_Pressurizing_0030_0488.tiff                |     Wed Jan 17 00:34:55 2018', ' 20180117_Sample2_Methane_150K_Pressurizing_0030_0489.tiff                |     Wed Jan 17 00:35:30 2018', ' 20180117_Sample2_Methane_150K_Pressurizing_0030_0490.tiff                |     Wed Jan 17 00:36:05 2018', ' 20180117_Sample2_Methane_160K_20Bar_0030_0640.tiff                       |     Wed Jan 17 04:30:33 2018', ' 20180117_Sample2_Methane_160K_20Bar_0030_0641.tiff                       |     Wed Jan 17 04:31:08 2018', ' 20180117_Sample2_Methane_160K_20Bar_0030_0642.tiff                       |     Wed Jan 17 04:31:43 2018', ' 20180117_Sample2_Methane_160K_20Bar_0030_0643.tiff                       |     Wed Jan 17 04:32:18 2018', ' 20180117_Sample2_Methane_160K_20Bar_0030_0644.tiff                       |     Wed Jan 17 04:32:53 2018', ' 20180117_Sample2_Methane_160K_30Bar_0030_0635.tiff                       |     Wed Jan 17 04:21:09 2018', ' 20180117_Sample2_Methane_160K_30Bar_0030_0636.tiff                       |     Wed Jan 17 04:21:44 2018', ' 20180117_Sample2_Methane_160K_30Bar_0030_0637.tiff                       |     Wed Jan 17 04:22:19 2018', ' 20180117_Sample2_Methane_160K_30Bar_0030_0638.tiff                       |     Wed Jan 17 04:22:54 2018', ' 20180117_Sample2_Methane_160K_30Bar_0030_0639.tiff                       |     Wed Jan 17 04:23:29 2018', ' 20180117_Sample2_Methane_160K_60Bar_0030_0630.tiff                       |     Wed Jan 17 04:14:15 2018', ' 20180117_Sample2_Methane_160K_60Bar_0030_0631.tiff                       |     Wed Jan 17 04:14:50 2018', ' 20180117_Sample2_Methane_160K_60Bar_0030_0632.tiff                       |     Wed Jan 17 04:15:25 2018', ' 20180117_Sample2_Methane_160K_60Bar_0030_0633.tiff                       |     Wed Jan 17 04:16:00 2018', ' 20180117_Sample2_Methane_160K_60Bar_0030_0634.tiff                       |     Wed Jan 17 04:16:35 2018', ' 20180117_Sample2_Methane_160K_90Bar_0030_0625.tiff                       |     Wed Jan 17 04:05:54 2018', ' 20180117_Sample2_Methane_160K_90Bar_0030_0626.tiff                       |     Wed Jan 17 04:06:29 2018', ' 20180117_Sample2_Methane_160K_90Bar_0030_0627.tiff                       |     Wed Jan 17 04:07:04 2018', ' 20180117_Sample2_Methane_160K_90Bar_0030_0628.tiff                       |     Wed Jan 17 04:07:39 2018', ' 20180117_Sample2_Methane_160K_90Bar_0030_0629.tiff                       |     Wed Jan 17 04:08:14 2018', ' 20180117_Sample2_Methane_160K_depressurize_from_18Bar_0030_0645.tiff     |     Wed Jan 17 04:37:52 2018', ' 20180117_Sample2_Methane_160K_depressurize_from_18Bar_0030_0646.tiff     |     Wed Jan 17 04:38:27 2018', ' 20180117_Sample2_Methane_160K_depressurize_from_18Bar_0030_0647.tiff     |     Wed Jan 17 04:39:02 2018', ' 20180117_Sample2_Methane_160K_depressurize_from_18Bar_0030_0648.tiff     |     Wed Jan 17 04:39:37 2018', ' 20180117_Sample2_Methane_160K_depressurize_from_18Bar_0030_0649.tiff     |     Wed Jan 17 04:40:12 2018', ' 20180117_Sample2_Methane_160K_depressurize_from_18Bar_0030_0650.tiff     |     Wed Jan 17 04:40:47 2018', ' 20180117_Sample2_Methane_160K_depressurize_from_18Bar_0030_0651.tiff     |     Wed Jan 17 04:41:22 2018', ' 20180117_Sample2_Methane_160K_depressurize_from_18Bar_0030_0652.tiff     |     Wed Jan 17 04:41:57 2018', ' 20180117_Sample2_Methane_160K_depressurize_from_18Bar_0030_0653.tiff     |     Wed Jan 17 04:42:31 2018', ' 20180117_Sample2_Methane_160K_depressurize_from_18Bar_0030_0654.tiff     |     Wed Jan 17 04:43:06 2018', ' 20180117_Sample2_Methane_160K_depressurize_from_18Bar_0030_0655.tiff     |     Wed Jan 17 04:43:41 2018', ' 20180117_Sample2_Methane_160K_depressurize_from_18Bar_0030_0656.tiff     |     Wed Jan 17 04:44:16 2018', ' 20180117_Sample2_Methane_160K_depressurize_from_18Bar_0030_0657.tiff     |     Wed Jan 17 04:44:51 2018', ' 20180117_Sample2_Methane_160K_depressurize_from_18Bar_0030_0658.tiff     |     Wed Jan 17 04:45:26 2018', ' 20180117_Sample2_Methane_160K_depressurize_from_18Bar_0030_0659.tiff     |     Wed Jan 17 04:46:01 2018', ' 20180117_Sample2_Methane_160K_depressurize_from_18Bar_0030_0660.tiff     |     Wed Jan 17 04:46:36 2018', ' 20180117_Sample2_Methane_160K_depressurize_from_18Bar_0030_0661.tiff     |     Wed Jan 17 04:47:11 2018', ' 20180117_Sample2_Methane_160K_depressurize_from_18Bar_0030_0662.tiff     |     Wed Jan 17 04:47:46 2018', ' 20180117_Sample2_Methane_160K_depressurize_from_18Bar_0030_0663.tiff     |     Wed Jan 17 04:48:21 2018', ' 20180117_Sample2_Methane_160K_depressurize_from_18Bar_0030_0664.tiff     |     Wed Jan 17 04:48:56 2018', ' 20180117_Sample2_Methane_160K_depressurize_from_18Bar_0030_0665.tiff     |     Wed Jan 17 04:49:30 2018', ' 20180117_Sample2_Methane_160K_depressurize_from_18Bar_0030_0666.tiff     |     Wed Jan 17 04:50:05 2018', ' 20180117_Sample2_Methane_160K_depressurize_from_18Bar_0030_0667.tiff     |     Wed Jan 17 04:50:40 2018', ' 20180117_Sample2_Methane_160K_depressurize_from_18Bar_0030_0668.tiff     |     Wed Jan 17 04:51:15 2018', ' 20180117_Sample2_Methane_160K_depressurize_from_18Bar_0030_0669.tiff     |     Wed Jan 17 04:51:50 2018', ' 20180117_Sample2_Methane_160K_depressurize_from_18Bar_0030_0670.tiff     |     Wed Jan 17 04:52:25 2018', ' 20180117_Sample2_Methane_160K_depressurize_from_18Bar_0030_0671.tiff     |     Wed Jan 17 04:53:00 2018', ' 20180117_Sample2_Methane_160K_depressurize_from_18Bar_0030_0672.tiff     |     Wed Jan 17 04:53:35 2018', ' 20180117_Sample2_Methane_160K_depressurize_from_18Bar_0030_0673.tiff     |     Wed Jan 17 04:54:10 2018', ' 20180117_Sample2_Methane_160K_depressurize_from_18Bar_0030_0674.tiff     |     Wed Jan 17 04:54:45 2018', ' 20180117_Sample2_Methane_160K_depressurize_from_18Bar_0030_0675.tiff     |     Wed Jan 17 04:55:20 2018', ' 20180117_Sample2_Methane_160K_depressurize_from_18Bar_0030_0676.tiff     |     Wed Jan 17 04:55:55 2018', ' 20180117_Sample2_Methane_160K_depressurize_from_18Bar_0030_0677.tiff     |     Wed Jan 17 04:56:29 2018', ' 20180117_Sample2_Methane_160K_depressurize_from_18Bar_0030_0678.tiff     |     Wed Jan 17 04:57:04 2018', ' 20180117_Sample2_Methane_160K_depressurize_from_18Bar_0030_0679.tiff     |     Wed Jan 17 04:57:39 2018', ' 20180117_Sample2_Methane_160K_depressurize_from_18Bar_0030_0680.tiff     |     Wed Jan 17 04:58:14 2018', ' 20180117_Sample2_Methane_160K_depressurize_from_18Bar_0030_0681.tiff     |     Wed Jan 17 04:58:49 2018', ' 20180117_Sample2_Methane_160K_depressurize_from_18Bar_0030_0682.tiff     |     Wed Jan 17 04:59:24 2018', ' 20180117_Sample2_Methane_160K_depressurize_from_18Bar_0030_0683.tiff     |     Wed Jan 17 04:59:59 2018', ' 20180117_Sample2_Methane_160K_depressurize_from_18Bar_0030_0684.tiff     |     Wed Jan 17 05:00:34 2018', ' 20180117_Sample2_Methane_160K_depressurize_from_18Bar_0030_0685.tiff     |     Wed Jan 17 05:01:09 2018', ' 20180117_Sample2_Methane_160K_depressurize_from_18Bar_0030_0686.tiff     |     Wed Jan 17 05:01:44 2018', ' 20180117_Sample2_Methane_160K_depressurize_from_18Bar_0030_0687.tiff     |     Wed Jan 17 05:02:19 2018', ' 20180117_Sample2_Methane_160K_depressurize_from_18Bar_0030_0688.tiff     |     Wed Jan 17 05:02:54 2018', ' 20180117_Sample2_Methane_160K_depressurize_from_18Bar_0030_0689.tiff     |     Wed Jan 17 05:03:29 2018', ' 20180117_Sample2_Methane_160K_depressurize_from_18Bar_0030_0690.tiff     |     Wed Jan 17 05:04:04 2018', ' 20180117_Sample2_Methane_160K_depressurize_from_18Bar_0030_0691.tiff     |     Wed Jan 17 05:04:39 2018', ' 20180117_Sample2_Methane_160K_depressurize_from_18Bar_0030_0692.tiff     |     Wed Jan 17 05:05:14 2018', ' 20180117_Sample2_Methane_160K_depressurize_from_18Bar_0030_0693.tiff     |     Wed Jan 17 05:05:48 2018', ' 20180117_Sample2_Methane_160K_depressurize_from_18Bar_0030_0694.tiff     |     Wed Jan 17 05:06:23 2018'), value=()), HBox(children=(Button(description='Enter directory', layout=Layout(margin='5px 40px'), style=ButtonStyle()), Button(description='Select', layout=Layout(margin='5px 40px'), style=ButtonStyle())))), layout=Layout(border='1px solid lightgrey', margin='5px', padding='10px'))))"
      ]
     },
     "metadata": {},
     "output_type": "display_data"
    }
   ],
   "source": [
    "o_water = WaterIntakeProfileCalculator(working_dir = system.System.get_working_dir())\n",
    "o_water.select_data()"
   ]
  },
  {
   "cell_type": "code",
   "execution_count": null,
   "metadata": {},
   "outputs": [],
   "source": [
    "o_water.dict_time_stamp['list_images']"
   ]
  },
  {
   "cell_type": "code",
   "execution_count": null,
   "metadata": {
    "scrolled": true
   },
   "outputs": [],
   "source": [
    "o_water.sort_and_load()"
   ]
  },
  {
   "cell_type": "code",
   "execution_count": null,
   "metadata": {},
   "outputs": [],
   "source": [
    "# bring pyqtgraph to allow selection of profile and display live profile of selection \n",
    "# add flag that removes first image from calculation"
   ]
  },
  {
   "cell_type": "code",
   "execution_count": null,
   "metadata": {},
   "outputs": [],
   "source": []
  },
  {
   "cell_type": "code",
   "execution_count": null,
   "metadata": {},
   "outputs": [],
   "source": []
  },
  {
   "cell_type": "code",
   "execution_count": null,
   "metadata": {
    "run_control": {
     "frozen": false,
     "read_only": false
    }
   },
   "outputs": [],
   "source": [
    "working_dir = system.System.get_working_dir()\n",
    "o_file_time_stamp = CreateListFileName(working_dir=working_dir)\n",
    "o_file_time_stamp.select_image_folder()"
   ]
  },
  {
   "cell_type": "markdown",
   "metadata": {
    "run_control": {
     "frozen": false,
     "read_only": false
    }
   },
   "source": [
    "# Select Output Folder "
   ]
  },
  {
   "cell_type": "code",
   "execution_count": null,
   "metadata": {
    "run_control": {
     "frozen": false,
     "read_only": false
    }
   },
   "outputs": [],
   "source": [
    "o_file_time_stamp.select_export_folder()"
   ]
  },
  {
   "cell_type": "code",
   "execution_count": null,
   "metadata": {
    "run_control": {
     "frozen": false,
     "read_only": false
    }
   },
   "outputs": [],
   "source": [
    "o_file_time_stamp.export()"
   ]
  },
  {
   "cell_type": "code",
   "execution_count": null,
   "metadata": {
    "run_control": {
     "frozen": false,
     "read_only": false
    }
   },
   "outputs": [],
   "source": []
  }
 ],
 "metadata": {
  "kernelspec": {
   "display_name": "Python 3",
   "language": "python",
   "name": "python3"
  },
  "language_info": {
   "codemirror_mode": {
    "name": "ipython",
    "version": 3
   },
   "file_extension": ".py",
   "mimetype": "text/x-python",
   "name": "python",
   "nbconvert_exporter": "python",
   "pygments_lexer": "ipython3",
   "version": "3.6.2"
  },
  "toc": {
   "colors": {
    "hover_highlight": "#DAA520",
    "running_highlight": "#FF0000",
    "selected_highlight": "#FFD700"
   },
   "moveMenuLeft": true,
   "nav_menu": {
    "height": "138px",
    "width": "252px"
   },
   "navigate_menu": true,
   "number_sections": true,
   "sideBar": true,
   "threshold": 4,
   "toc_cell": false,
   "toc_section_display": "block",
   "toc_window_display": false
  }
 },
 "nbformat": 4,
 "nbformat_minor": 2
}
