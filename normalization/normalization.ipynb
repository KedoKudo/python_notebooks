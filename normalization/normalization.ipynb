{
 "cells": [
  {
   "cell_type": "code",
   "execution_count": 1,
   "metadata": {
    "run_control": {
     "frozen": false,
     "read_only": false
    }
   },
   "outputs": [],
   "source": [
    "debugging = False"
   ]
  },
  {
   "cell_type": "markdown",
   "metadata": {
    "run_control": {
     "frozen": false,
     "read_only": false
    }
   },
   "source": [
    "# Description "
   ]
  },
  {
   "cell_type": "markdown",
   "metadata": {
    "run_control": {
     "frozen": false,
     "read_only": false
    }
   },
   "source": [
    "# Python Import"
   ]
  },
  {
   "cell_type": "code",
   "execution_count": 2,
   "metadata": {
    "run_control": {
     "frozen": false,
     "read_only": false
    }
   },
   "outputs": [],
   "source": [
    "from __code.__all import custom_style\n",
    "custom_style.style()\n",
    "\n",
    "import matplotlib.patches as patches\n",
    "%matplotlib notebook"
   ]
  },
  {
   "cell_type": "code",
   "execution_count": 3,
   "metadata": {
    "run_control": {
     "frozen": false,
     "read_only": false
    }
   },
   "outputs": [],
   "source": [
    "from __code.normalization import utilities, gui_widgets, file_handler, fileselector\n",
    "\n",
    "from ipywidgets.widgets import interact\n",
    "from ipywidgets import widgets\n",
    "from IPython.core.display import display, HTML\n",
    "\n",
    "ipts = utilities.get_ipts()\n",
    "working_dir = utilities.get_working_dir(ipts=ipts)\n",
    "if debugging:\n",
    "    working_dir = '/Volumes/my_book_thunderbolt_duo/IPTS/IPTS_17099'"
   ]
  },
  {
   "cell_type": "markdown",
   "metadata": {
    "run_control": {
     "frozen": false,
     "read_only": false
    }
   },
   "source": [
    "# Select Sample Images "
   ]
  },
  {
   "cell_type": "code",
   "execution_count": 4,
   "metadata": {},
   "outputs": [
    {
     "data": {
      "text/html": [
       "\n",
       "        <style type=\"text/css\">\n",
       "        .jupyter-widgets select option {\n",
       "            font-family: \"Lucida Console\", Monaco, monospace;\n",
       "        }\n",
       "        </style>\n",
       "        "
      ],
      "text/plain": [
       "<IPython.core.display.HTML object>"
      ]
     },
     "metadata": {},
     "output_type": "display_data"
    },
    {
     "data": {
      "application/vnd.jupyter.widget-view+json": {
       "model_id": "b7441b6cc86e4c8b99165183ef6c6b2b"
      }
     },
     "metadata": {},
     "output_type": "display_data"
    },
    {
     "data": {
      "text/html": [
       "\n",
       "        <style type=\"text/css\">\n",
       "        .jupyter-widgets select option {\n",
       "            font-family: \"Lucida Console\", Monaco, monospace;\n",
       "        }\n",
       "        </style>\n",
       "        "
      ],
      "text/plain": [
       "<IPython.core.display.HTML object>"
      ]
     },
     "metadata": {},
     "output_type": "display_data"
    },
    {
     "data": {
      "application/vnd.jupyter.widget-view+json": {
       "model_id": "4dd8a50d2b1e4f56a250ec6d01d84bbb"
      }
     },
     "metadata": {},
     "output_type": "display_data"
    },
    {
     "data": {
      "text/html": [
       "\n",
       "        <style type=\"text/css\">\n",
       "        .jupyter-widgets select option {\n",
       "            font-family: \"Lucida Console\", Monaco, monospace;\n",
       "        }\n",
       "        </style>\n",
       "        "
      ],
      "text/plain": [
       "<IPython.core.display.HTML object>"
      ]
     },
     "metadata": {},
     "output_type": "display_data"
    },
    {
     "data": {
      "application/vnd.jupyter.widget-view+json": {
       "model_id": "04c9117cf39d4062b8785ed8ccfc00f2"
      }
     },
     "metadata": {},
     "output_type": "display_data"
    }
   ],
   "source": [
    "list_images_ui = fileselector.FileSelectorPanel(instruction='Select samples images', start_dir=working_dir, multiple=True)\n",
    "list_images_ui.show()"
   ]
  },
  {
   "cell_type": "markdown",
   "metadata": {
    "run_control": {
     "frozen": false,
     "read_only": false
    }
   },
   "source": [
    "# Select OB "
   ]
  },
  {
   "cell_type": "code",
   "execution_count": 5,
   "metadata": {
    "run_control": {
     "frozen": false,
     "read_only": false
    }
   },
   "outputs": [
    {
     "data": {
      "text/html": [
       "\n",
       "        <style type=\"text/css\">\n",
       "        .jupyter-widgets select option {\n",
       "            font-family: \"Lucida Console\", Monaco, monospace;\n",
       "        }\n",
       "        </style>\n",
       "        "
      ],
      "text/plain": [
       "<IPython.core.display.HTML object>"
      ]
     },
     "metadata": {},
     "output_type": "display_data"
    },
    {
     "data": {
      "application/vnd.jupyter.widget-view+json": {
       "model_id": "c4db82b0ccc14ebf85d66d3f7fd33af9"
      }
     },
     "metadata": {},
     "output_type": "display_data"
    },
    {
     "data": {
      "text/html": [
       "\n",
       "        <style type=\"text/css\">\n",
       "        .jupyter-widgets select option {\n",
       "            font-family: \"Lucida Console\", Monaco, monospace;\n",
       "        }\n",
       "        </style>\n",
       "        "
      ],
      "text/plain": [
       "<IPython.core.display.HTML object>"
      ]
     },
     "metadata": {},
     "output_type": "display_data"
    },
    {
     "data": {
      "application/vnd.jupyter.widget-view+json": {
       "model_id": "94d99c4a15854683bbaa20cd91f9f830"
      }
     },
     "metadata": {},
     "output_type": "display_data"
    }
   ],
   "source": [
    "list_ob_ui = fileselector.FileSelectorPanel(instruction='Select OB images', start_dir=working_dir, multiple=True)\n",
    "list_ob_ui.show()"
   ]
  },
  {
   "cell_type": "markdown",
   "metadata": {
    "run_control": {
     "frozen": false,
     "read_only": false
    }
   },
   "source": [
    "# Loding data "
   ]
  },
  {
   "cell_type": "code",
   "execution_count": 6,
   "metadata": {
    "run_control": {
     "frozen": false,
     "read_only": false
    }
   },
   "outputs": [
    {
     "data": {
      "application/vnd.jupyter.widget-view+json": {
       "model_id": "610a66df8df849f7b8646bbbf287b3da"
      }
     },
     "metadata": {},
     "output_type": "display_data"
    },
    {
     "data": {
      "application/vnd.jupyter.widget-view+json": {
       "model_id": "09ee225e4056493c94443c5bd8a217b1"
      }
     },
     "metadata": {},
     "output_type": "display_data"
    }
   ],
   "source": [
    "list_images = list_images_ui.result_full_path()\n",
    "list_obs = list_ob_ui.result_full_path()\n",
    "\n",
    "box1 = widgets.HBox([widgets.Label(\"Loading Sample Progress:\",\n",
    "                                      layout=widgets.Layout(width='20%')),\n",
    "                        widgets.IntProgress(max=len(list_images))])\n",
    "display(box1)\n",
    "w1 = box1.children[1]\n",
    "    \n",
    "box2 = widgets.HBox([widgets.Label(\"Loading OB Progress:\",\n",
    "                                      layout=widgets.Layout(width='20%')),\n",
    "                        widgets.IntProgress(max=len(list_obs))])\n",
    "display(box2)\n",
    "w2 = box2.children[1] \n",
    "\n",
    "sample_array = []\n",
    "for _index1, _file in enumerate(list_images):\n",
    "    _data = file_handler.load_data(_file)\n",
    "    sample_array.append(_data)\n",
    "    w1.value = _index1 + 1\n",
    "\n",
    "ob_array = []\n",
    "for _index2, _file in enumerate(list_obs):\n",
    "    _data = file_handler.load_data(_file)\n",
    "    ob_array.append(_data)\n",
    "    w2.value = _index2 + 1\n",
    "\n",
    "    "
   ]
  },
  {
   "cell_type": "markdown",
   "metadata": {
    "collapsed": true,
    "run_control": {
     "frozen": false,
     "read_only": false
    }
   },
   "source": [
    "# Preview Data"
   ]
  },
  {
   "cell_type": "code",
   "execution_count": 7,
   "metadata": {
    "run_control": {
     "frozen": false,
     "read_only": false
    }
   },
   "outputs": [
    {
     "data": {
      "application/vnd.jupyter.widget-view+json": {
       "model_id": "c716262a1ef5491d814c2fd14b350cfc"
      }
     },
     "metadata": {},
     "output_type": "display_data"
    }
   ],
   "source": [
    "def plot_images(index):\n",
    "    fig = plt.figure(figsize=(10,10))\n",
    "    ax_img = plt.subplot(111)\n",
    "    ax_img.imshow(sample_array[index], cmap='viridis')\n",
    "    \n",
    "preview = interact(plot_images,\n",
    "                  index = widgets.IntSlider(min=0, \n",
    "                                             max=len(list_images)-1,\n",
    "                                                step=1,\n",
    "                                                value=0,\n",
    "                                                description='Image Index',\n",
    "                                           continuous_update=False))"
   ]
  },
  {
   "cell_type": "code",
   "execution_count": 8,
   "metadata": {
    "run_control": {
     "frozen": false,
     "read_only": false
    }
   },
   "outputs": [
    {
     "data": {
      "application/vnd.jupyter.widget-view+json": {
       "model_id": "607c3053e1d74e85bef7932d71f2a399"
      }
     },
     "metadata": {},
     "output_type": "display_data"
    }
   ],
   "source": [
    "def plot_obs(index):\n",
    "    fig = plt.figure(figsize=(10,10))\n",
    "    ax_img = plt.subplot(111)\n",
    "    ax_img.imshow(ob_array[index], cmap='viridis')\n",
    "    \n",
    "preview = interact(plot_obs,\n",
    "                  index = widgets.IntSlider(min=0, \n",
    "                                             max=len(list_obs)-1,\n",
    "                                                step=1,\n",
    "                                                value=0,\n",
    "                                                description='Image Index',\n",
    "                                           continuous_update=False))"
   ]
  },
  {
   "cell_type": "markdown",
   "metadata": {
    "run_control": {
     "frozen": false,
     "read_only": false
    }
   },
   "source": [
    "# Select Background Region "
   ]
  },
  {
   "cell_type": "code",
   "execution_count": 9,
   "metadata": {
    "run_control": {
     "frozen": false,
     "read_only": false
    }
   },
   "outputs": [
    {
     "data": {
      "application/vnd.jupyter.widget-view+json": {
       "model_id": "eefe28d2896e48c3ae3126fdb6cbe50b"
      }
     },
     "metadata": {},
     "output_type": "display_data"
    }
   ],
   "source": [
    "[height, width] = np.shape(sample_array[0])\n",
    "\n",
    "def plot_roi(image_index, x_left, y_top, width, height):\n",
    "    \n",
    "    fig = plt.figure(figsize=(10,10))\n",
    "    ax_img = plt.subplot(111)\n",
    "    ax_img.imshow(sample_array[image_index],\n",
    "                 cmap='viridis')\n",
    "    \n",
    "    _rectangle = patches.Rectangle((x_left, y_top),\n",
    "                                  width,\n",
    "                                  height,\n",
    "                                  edgecolor = 'white',\n",
    "                                  linewidth = 2,\n",
    "                                  fill = False)\n",
    "    ax_img.add_patch(_rectangle)\n",
    "    \n",
    "    return [x_left, y_top, width, height]\n",
    "    \n",
    "preview_bragg_edge = interact(plot_roi,\n",
    "                image_index = widgets.IntSlider(min=0,\n",
    "                                               max=len(list_images)-1,\n",
    "                                               value=0,\n",
    "                                               description='Image index:',\n",
    "                                               continuous_update=False), \n",
    "                  x_left = widgets.IntSlider(min=0,\n",
    "                                            max=width,\n",
    "                                            step=1,\n",
    "                                            value=8,\n",
    "                                            description='X Left',\n",
    "                                            continuous_update=False),\n",
    "                  y_top = widgets.IntSlider(min=0,\n",
    "                                           max=height,\n",
    "                                           value=13,\n",
    "                                           step=1,\n",
    "                                           description='Y Top',\n",
    "                                           continuous_update=False),\n",
    "                  width = widgets.IntSlider(min=0,\n",
    "                                           max=width,\n",
    "                                           step=1,\n",
    "                                           value=60,\n",
    "                                           description=\"Width\",\n",
    "                                           continuous_update=False),\n",
    "                  height = widgets.IntSlider(min=0,\n",
    "                                            max=height,\n",
    "                                            step=1,\n",
    "                                            value=100,\n",
    "                                            description='Height',\n",
    "                                            continuous_update=False))"
   ]
  },
  {
   "cell_type": "markdown",
   "metadata": {
    "run_control": {
     "frozen": false,
     "read_only": false
    }
   },
   "source": [
    "# Normalization"
   ]
  },
  {
   "cell_type": "code",
   "execution_count": 10,
   "metadata": {
    "run_control": {
     "frozen": false,
     "read_only": false
    }
   },
   "outputs": [
    {
     "data": {
      "application/vnd.jupyter.widget-view+json": {
       "model_id": "63dce2a86acf429da3de66f99d99bbe2"
      }
     },
     "metadata": {},
     "output_type": "display_data"
    }
   ],
   "source": [
    "[x_left, y_top, width_roi, height_roi] = preview_bragg_edge.widget.result\n",
    "\n",
    "ob_mean = np.array(ob_array).mean(axis=0)\n",
    "ob_cropped = ob_mean[y_top:y_top+height, x_left:x_left+width]\n",
    "ob_cropped_mean = ob_cropped.mean()\n",
    "\n",
    "#import images\n",
    "w = widgets.IntProgress()\n",
    "w.max = len(list_images)\n",
    "display(w)\n",
    "\n",
    "_index = 0\n",
    "#normalized_data_array = []\n",
    "#final_list_of_temperature_for_each_bin = []\n",
    "\n",
    "normalized_data_array = []\n",
    "for _index, _data in enumerate(sample_array):\n",
    "    \n",
    "    data_cropped = _data[y_top:y_top+height_roi, x_left:x_left+width_roi]\n",
    "    coeff = data_cropped.mean() / ob_cropped_mean\n",
    "\n",
    "    _normalized = _data / ob_mean\n",
    "    _normalized /= coeff\n",
    "    \n",
    "    normalized_data_array.append(_normalized)\n",
    "    \n",
    "    w.value = _index+1"
   ]
  },
  {
   "cell_type": "markdown",
   "metadata": {
    "collapsed": true,
    "run_control": {
     "frozen": false,
     "read_only": false
    }
   },
   "source": [
    "# Export "
   ]
  },
  {
   "cell_type": "code",
   "execution_count": 11,
   "metadata": {
    "run_control": {
     "frozen": false,
     "read_only": false
    }
   },
   "outputs": [
    {
     "data": {
      "text/html": [
       "\n",
       "        <style type=\"text/css\">\n",
       "        .jupyter-widgets select option {\n",
       "            font-family: \"Lucida Console\", Monaco, monospace;\n",
       "        }\n",
       "        </style>\n",
       "        "
      ],
      "text/plain": [
       "<IPython.core.display.HTML object>"
      ]
     },
     "metadata": {},
     "output_type": "display_data"
    },
    {
     "data": {
      "application/vnd.jupyter.widget-view+json": {
       "model_id": "dd8e0c4e5e0741efae7588a8bbadeac3"
      }
     },
     "metadata": {},
     "output_type": "display_data"
    },
    {
     "data": {
      "text/html": [
       "\n",
       "        <style type=\"text/css\">\n",
       "        .jupyter-widgets select option {\n",
       "            font-family: \"Lucida Console\", Monaco, monospace;\n",
       "        }\n",
       "        </style>\n",
       "        "
      ],
      "text/plain": [
       "<IPython.core.display.HTML object>"
      ]
     },
     "metadata": {},
     "output_type": "display_data"
    },
    {
     "data": {
      "application/vnd.jupyter.widget-view+json": {
       "model_id": "745494e587e94698b39fcd9e3877509f"
      }
     },
     "metadata": {},
     "output_type": "display_data"
    },
    {
     "data": {
      "text/html": [
       "\n",
       "        <style type=\"text/css\">\n",
       "        .jupyter-widgets select option {\n",
       "            font-family: \"Lucida Console\", Monaco, monospace;\n",
       "        }\n",
       "        </style>\n",
       "        "
      ],
      "text/plain": [
       "<IPython.core.display.HTML object>"
      ]
     },
     "metadata": {},
     "output_type": "display_data"
    },
    {
     "data": {
      "application/vnd.jupyter.widget-view+json": {
       "model_id": "22ad3a6dfef3424c98da7e858882a67a"
      }
     },
     "metadata": {},
     "output_type": "display_data"
    },
    {
     "data": {
      "text/html": [
       "\n",
       "        <style type=\"text/css\">\n",
       "        .jupyter-widgets select option {\n",
       "            font-family: \"Lucida Console\", Monaco, monospace;\n",
       "        }\n",
       "        </style>\n",
       "        "
      ],
      "text/plain": [
       "<IPython.core.display.HTML object>"
      ]
     },
     "metadata": {},
     "output_type": "display_data"
    },
    {
     "data": {
      "application/vnd.jupyter.widget-view+json": {
       "model_id": "c8cbb56f9bbe455aa4dde293292bd922"
      }
     },
     "metadata": {},
     "output_type": "display_data"
    },
    {
     "data": {
      "text/html": [
       "\n",
       "        <style type=\"text/css\">\n",
       "        .jupyter-widgets select option {\n",
       "            font-family: \"Lucida Console\", Monaco, monospace;\n",
       "        }\n",
       "        </style>\n",
       "        "
      ],
      "text/plain": [
       "<IPython.core.display.HTML object>"
      ]
     },
     "metadata": {},
     "output_type": "display_data"
    },
    {
     "data": {
      "application/vnd.jupyter.widget-view+json": {
       "model_id": "8f58d5142e774b41bc36f8201e405e02"
      }
     },
     "metadata": {},
     "output_type": "display_data"
    },
    {
     "data": {
      "text/html": [
       "\n",
       "        <style type=\"text/css\">\n",
       "        .jupyter-widgets select option {\n",
       "            font-family: \"Lucida Console\", Monaco, monospace;\n",
       "        }\n",
       "        </style>\n",
       "        "
      ],
      "text/plain": [
       "<IPython.core.display.HTML object>"
      ]
     },
     "metadata": {},
     "output_type": "display_data"
    },
    {
     "data": {
      "application/vnd.jupyter.widget-view+json": {
       "model_id": "95cab8874a4f43d68f2c18d37586f08f"
      }
     },
     "metadata": {},
     "output_type": "display_data"
    },
    {
     "data": {
      "text/html": [
       "\n",
       "        <style type=\"text/css\">\n",
       "        .jupyter-widgets select option {\n",
       "            font-family: \"Lucida Console\", Monaco, monospace;\n",
       "        }\n",
       "        </style>\n",
       "        "
      ],
      "text/plain": [
       "<IPython.core.display.HTML object>"
      ]
     },
     "metadata": {},
     "output_type": "display_data"
    },
    {
     "data": {
      "application/vnd.jupyter.widget-view+json": {
       "model_id": "4c438dcf0d024897a3dfa9ec02dd9630"
      }
     },
     "metadata": {},
     "output_type": "display_data"
    }
   ],
   "source": [
    "output_folder_ui = fileselector.FileSelectorPanel(instruction='Select Output Folder', start_dir=working_dir, multiple=False, type='directory')\n",
    "output_folder_ui.show()"
   ]
  },
  {
   "cell_type": "code",
   "execution_count": 12,
   "metadata": {},
   "outputs": [
    {
     "data": {
      "application/vnd.jupyter.widget-view+json": {
       "model_id": "e7adb2a957d9486eb8c3984c77db27a8"
      }
     },
     "metadata": {},
     "output_type": "display_data"
    }
   ],
   "source": [
    "output_folder = os.path.join(output_folder_ui.curdir, output_folder_ui.result(), 'normalization')\n",
    "utilities.make_dir(dir=output_folder)\n",
    "\n",
    "w = widgets.IntProgress()\n",
    "w.max = len(list_images)\n",
    "display(w)\n",
    "\n",
    "for _index, _file in enumerate(list_images):\n",
    "    basename = os.path.basename(_file)\n",
    "    output_file_name = os.path.join(output_folder, basename)\n",
    "    file_handler.make_tiff(filename=output_file_name, data=normalized_data_array[_index])\n",
    "    \n",
    "    w.value = _index+1"
   ]
  },
  {
   "cell_type": "code",
   "execution_count": null,
   "metadata": {
    "run_control": {
     "frozen": false,
     "read_only": false
    }
   },
   "outputs": [],
   "source": []
  }
 ],
 "metadata": {
  "anaconda-cloud": {},
  "kernelspec": {
   "display_name": "Python 3",
   "language": "python",
   "name": "python3"
  },
  "language_info": {
   "codemirror_mode": {
    "name": "ipython",
    "version": 3
   },
   "file_extension": ".py",
   "mimetype": "text/x-python",
   "name": "python",
   "nbconvert_exporter": "python",
   "pygments_lexer": "ipython3",
   "version": "3.6.1"
  },
  "toc": {
   "colors": {
    "hover_highlight": "#DAA520",
    "running_highlight": "#FF0000",
    "selected_highlight": "#FFD700"
   },
   "moveMenuLeft": true,
   "nav_menu": {
    "height": "101px",
    "width": "252px"
   },
   "navigate_menu": true,
   "number_sections": true,
   "sideBar": true,
   "threshold": 4,
   "toc_cell": false,
   "toc_section_display": "block",
   "toc_window_display": false
  }
 },
 "nbformat": 4,
 "nbformat_minor": 1
}
