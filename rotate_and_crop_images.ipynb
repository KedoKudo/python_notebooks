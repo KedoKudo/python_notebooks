{
 "cells": [
  {
   "cell_type": "code",
   "execution_count": 1,
   "metadata": {
    "run_control": {
     "frozen": false,
     "read_only": false
    }
   },
   "outputs": [],
   "source": [
    "debugging = True\n",
    "IPTS = 16212"
   ]
  },
  {
   "cell_type": "markdown",
   "metadata": {
    "run_control": {
     "frozen": false,
     "read_only": false
    }
   },
   "source": [
    "# Description "
   ]
  },
  {
   "cell_type": "markdown",
   "metadata": {
    "run_control": {
     "frozen": false,
     "read_only": false
    }
   },
   "source": [
    "Select one or more images, select a crop region, a rotation angle and the program will create a TIFF file(s) of your image(s) cropped and rotated."
   ]
  },
  {
   "cell_type": "markdown",
   "metadata": {
    "run_control": {
     "frozen": false,
     "read_only": false
    }
   },
   "source": [
    "# Notebook Initialization "
   ]
  },
  {
   "cell_type": "code",
   "execution_count": 2,
   "metadata": {
    "run_control": {
     "frozen": false,
     "read_only": false
    }
   },
   "outputs": [
    {
     "data": {
      "text/html": [
       "<style>\n",
       "\n",
       "/* The following CSS has been adapted from\n",
       "   http://nbviewer.ipython.org/github/ketch/teaching-numerics-with-notebooks/blob/master/Styling_notebooks.ipynb\n",
       "   by Aron Ahmadia and David Ketcheson and has been reused under CC BY 4.0\n",
       "   */\n",
       "\n",
       "/* main background */\n",
       "#site { \n",
       "    background: #888;\n",
       "    color: #red; \n",
       "}\n",
       "\n",
       "div.container {\n",
       "    width: 100% ! important;\n",
       "}\n",
       "\n",
       "div.cell { /* set cell width to about 80 chars */\n",
       "    width: 95%;\n",
       "}\n",
       "\n",
       "div #notebook { /* centre the content */\n",
       "/*    background: #fff; /* white background for content */\n",
       "    background: blue;\n",
       "    width: 100%;\n",
       "    margin: auto;\n",
       "    padding-left: 1em;\n",
       "    padding-right: 1em;\n",
       "    background-image: url(\"tile_background.jpg\");\n",
       "}\n",
       "\n",
       "#notebook li { /* More space between bullet points */\n",
       "    margin-top:0.4em;\n",
       "}\n",
       "\n",
       "/* change background color of running cells */\n",
       "div.cell.code_cell.running {\n",
       "/*    background-color: rgba(164,188,194,.75); */\n",
       "    background-color: green;\n",
       "    border-width: 8px\n",
       "    border-style: solid\n",
       "    border-color: #111;\n",
       "}\n",
       "\n",
       "/* Put a solid color box around each cell and its output, visually linking them together */\n",
       "div.cell.code_cell {\n",
       "    background-color: rgba(164,188,194,.25); /* Continuum L Gray with alpha 0.25 */\n",
       "    border-radius: 10px; /* rounded borders */\n",
       "    padding: 1em;\n",
       "    margin-top: 1em;\n",
       "}\n",
       "\n",
       "div.text_cell_render{\n",
       "\tfont-family: Georgia, Times, 'Times New Roman', serif;\n",
       "    line-height: 110%;\n",
       "    font-size: 105%;\n",
       "    width: 95%;\n",
       "    margin-left: auto;\n",
       "    margin-right: auto;\n",
       "}\n",
       "\n",
       "\n",
       "/* Formatting for header cells */\n",
       ".text_cell_render h1 {\n",
       "\tfont-family: Arial, 'Helvetica Neue', Helvetica, sans-serif;\n",
       "    font-weight: 400;\n",
       "    font-size: 30pt;\n",
       "    line-height: 100%;\n",
       "    color: rgb(37,55,70); /* Continuum Blue*/\n",
       "    margin-bottom: 0.1em;\n",
       "    margin-top: 0.1em;\n",
       "    display: block;\n",
       "}\n",
       ".text_cell_render h2 {\n",
       "\tfont-family: Arial, 'Helvetica Neue', Helvetica, sans-serif;\n",
       "    font-weight: 700;\n",
       "    font-size: 22pt;\n",
       "    line-height: 100%;\n",
       "    color: rgb(37,55,70);\n",
       "    margin-bottom: 0.1em;\n",
       "    margin-top: 0.1em;\n",
       "    display: block;\n",
       "}\n",
       "\n",
       ".text_cell_render h3 {\n",
       "\tfont-family: Arial, 'Helvetica Neue', Helvetica, sans-serif;\n",
       "    margin-top:12px;\n",
       "    margin-bottom: 3px;\n",
       "    font-style: italic;\n",
       "    color: rgb(37, 55, 70);\n",
       "}\n",
       "\n",
       ".text_cell_render h4 {\n",
       "\tfont-family: Arial, 'Helvetica Neue', Helvetica, sans-serif;\n",
       "}\n",
       "\n",
       ".text_cell_render h5 {\n",
       "\tfont-family: Arial, 'Helvetica Neue', Helvetica, sans-serif;\n",
       "    font-weight: 300;\n",
       "    font-size: 14pt;\n",
       "    font-style: italic;\n",
       "    margin-bottom: .1em;\n",
       "    margin-top: 0.1em;\n",
       "    display: block;\n",
       "}\n",
       "\n",
       ".text_cell_render h6 {\n",
       "\tfont-family: Arial, 'Helvetica Neue', Helvetica, sans-serif;\n",
       "    font-weight: 300;\n",
       "    font-size: 10pt;\n",
       "    margin-bottom: 1px;\n",
       "    margin-top: 1px;\n",
       "}\n",
       "\n",
       ".CodeMirror{\n",
       "        font-family: \"PT Mono\", fixed;\n",
       "        font-size: 100%;\n",
       "}\n",
       "\n",
       "#notebook_panel { /* main background */\n",
       "    background-image: url(\"tile_background.jpg\");\n",
       "}\n",
       "\n",
       "\n",
       "\n",
       "\n",
       "</style>\n"
      ],
      "text/plain": [
       "<IPython.core.display.HTML object>"
      ]
     },
     "execution_count": 2,
     "metadata": {},
     "output_type": "execute_result"
    }
   ],
   "source": [
    "from __code.__all import custom_style\n",
    "custom_style.style()"
   ]
  },
  {
   "cell_type": "code",
   "execution_count": 3,
   "metadata": {
    "run_control": {
     "frozen": false,
     "read_only": false
    }
   },
   "outputs": [],
   "source": [
    "%gui qt"
   ]
  },
  {
   "cell_type": "code",
   "execution_count": 4,
   "metadata": {
    "run_control": {
     "frozen": false,
     "read_only": false
    }
   },
   "outputs": [
    {
     "name": "stdout",
     "output_type": "stream",
     "text": [
      "pyuic4 /Users/j35/git/IPTS/notebooks/ui/ui_rotate_and_crop.ui -o /Users/j35/git/IPTS/notebooks/__code/ui_rotate_and_crop.py\n"
     ]
    }
   ],
   "source": [
    "from __code.ui_builder import UiBuilder\n",
    "o_builder = UiBuilder(ui_name = 'ui_rotate_and_crop.ui')"
   ]
  },
  {
   "cell_type": "code",
   "execution_count": 5,
   "metadata": {
    "run_control": {
     "frozen": false,
     "read_only": false
    }
   },
   "outputs": [
    {
     "name": "stdout",
     "output_type": "stream",
     "text": [
      "Warning: QApplication was created before pyqtgraph was imported; there may be problems (to avoid bugs, call QApplication.setGraphicsSystem(\"raster\") before the QApplication is created).\n",
      "/Volumes/my_book_thunderbolt_duo/IPTS/IPTS_16212\n"
     ]
    }
   ],
   "source": [
    "from __code.load_images import LoadImages\n",
    "from __code.rotate_and_crop_images import RotateAndCropImages, Export\n",
    "from pyqtgraph.dockarea import *\n",
    "\n",
    "from __code import utilities\n",
    "\n",
    "working_dir = utilities.get_working_dir(ipts=IPTS, debugging=debugging)\n",
    "print(working_dir)"
   ]
  },
  {
   "cell_type": "markdown",
   "metadata": {
    "run_control": {
     "frozen": false,
     "read_only": false
    }
   },
   "source": [
    "# Import Images"
   ]
  },
  {
   "cell_type": "markdown",
   "metadata": {
    "run_control": {
     "frozen": false,
     "read_only": false
    }
   },
   "source": [
    "Select the images (tiff or fits) you want to crop and/or rotate"
   ]
  },
  {
   "cell_type": "code",
   "execution_count": 6,
   "metadata": {
    "run_control": {
     "frozen": false,
     "read_only": false
    },
    "scrolled": true
   },
   "outputs": [
    {
     "data": {
      "text/html": [
       "<span style=\"font-size: 20px; color:blue\">Select the images you want to work on!</span>"
      ],
      "text/plain": [
       "<IPython.core.display.HTML object>"
      ]
     },
     "metadata": {},
     "output_type": "display_data"
    },
    {
     "data": {
      "application/vnd.jupyter.widget-view+json": {
       "model_id": "e9344898689a4b84b522bbc164255119",
       "version_major": 2,
       "version_minor": 0
      },
      "text/plain": [
       "A Jupyter Widget"
      ]
     },
     "metadata": {},
     "output_type": "display_data"
    },
    {
     "data": {
      "text/html": [
       "\n",
       "        <style type=\"text/css\">\n",
       "        .jupyter-widgets select option {\n",
       "            font-family: \"Lucida Console\", Monaco, monospace;\n",
       "        }\n",
       "        </style>\n",
       "        "
      ],
      "text/plain": [
       "<IPython.core.display.HTML object>"
      ]
     },
     "metadata": {},
     "output_type": "display_data"
    },
    {
     "data": {
      "application/vnd.jupyter.widget-view+json": {
       "model_id": "49f38e02647b4f069dd88e4a42f7cb91",
       "version_major": 2,
       "version_minor": 0
      },
      "text/plain": [
       "A Jupyter Widget"
      ]
     },
     "metadata": {},
     "output_type": "display_data"
    },
    {
     "data": {
      "application/vnd.jupyter.widget-view+json": {
       "model_id": "b0ec94dbf73c4285810d229002a24e4d",
       "version_major": 2,
       "version_minor": 0
      },
      "text/plain": [
       "A Jupyter Widget"
      ]
     },
     "metadata": {},
     "output_type": "display_data"
    },
    {
     "data": {
      "text/html": [
       "\n",
       "        <style type=\"text/css\">\n",
       "        .jupyter-widgets select option {\n",
       "            font-family: \"Lucida Console\", Monaco, monospace;\n",
       "        }\n",
       "        </style>\n",
       "        "
      ],
      "text/plain": [
       "<IPython.core.display.HTML object>"
      ]
     },
     "metadata": {},
     "output_type": "display_data"
    },
    {
     "data": {
      "application/vnd.jupyter.widget-view+json": {
       "model_id": "fbeafed62d8b4c498ba371666a19071a",
       "version_major": 2,
       "version_minor": 0
      },
      "text/plain": [
       "A Jupyter Widget"
      ]
     },
     "metadata": {},
     "output_type": "display_data"
    }
   ],
   "source": [
    "o_load = LoadImages(working_dir = working_dir)\n",
    "o_load.select_images()"
   ]
  },
  {
   "cell_type": "code",
   "execution_count": 7,
   "metadata": {
    "run_control": {
     "frozen": false,
     "read_only": false
    },
    "scrolled": true
   },
   "outputs": [
    {
     "data": {
      "application/vnd.jupyter.widget-view+json": {
       "model_id": "55c2c8d0ec9944ecacfa83eb248021b5",
       "version_major": 2,
       "version_minor": 0
      },
      "text/plain": [
       "A Jupyter Widget"
      ]
     },
     "metadata": {},
     "output_type": "display_data"
    }
   ],
   "source": [
    "# loading images\n",
    "o_load.load_images()"
   ]
  },
  {
   "cell_type": "markdown",
   "metadata": {
    "run_control": {
     "frozen": false,
     "read_only": false
    }
   },
   "source": [
    "# Select crop region and/or rotation angle "
   ]
  },
  {
   "cell_type": "code",
   "execution_count": 8,
   "metadata": {
    "run_control": {
     "frozen": false,
     "read_only": false
    }
   },
   "outputs": [
    {
     "data": {
      "text/html": [
       "<span style=\"font-size: 20px; color:blue\">Select the rotation angle in the UI that poped up (maybe hidden behind this browser!)</span>"
      ],
      "text/plain": [
       "<IPython.core.display.HTML object>"
      ]
     },
     "metadata": {},
     "output_type": "display_data"
    }
   ],
   "source": [
    "list_images = o_load.list_images\n",
    "\n",
    "o_crop = RotateAndCropImages(o_load = o_load)\n",
    "o_crop.show()"
   ]
  },
  {
   "cell_type": "code",
   "execution_count": 9,
   "metadata": {
    "run_control": {
     "frozen": false,
     "read_only": false
    }
   },
   "outputs": [],
   "source": [
    "rotated_working_data = o_crop.rotated_working_data\n",
    "rotation_angle = o_crop.rotation_angle"
   ]
  },
  {
   "cell_type": "markdown",
   "metadata": {
    "run_control": {
     "frozen": false,
     "read_only": false
    }
   },
   "source": [
    "# Export Images "
   ]
  },
  {
   "cell_type": "code",
   "execution_count": 10,
   "metadata": {
    "run_control": {
     "frozen": false,
     "read_only": false
    }
   },
   "outputs": [
    {
     "data": {
      "text/html": [
       "<span style=\"font-size: 20px; color:blue\">Select where you want to create the rotated images folder!</span>"
      ],
      "text/plain": [
       "<IPython.core.display.HTML object>"
      ]
     },
     "metadata": {},
     "output_type": "display_data"
    },
    {
     "data": {
      "application/vnd.jupyter.widget-view+json": {
       "model_id": "cc0bb28eea434ebea39a8b17557912d7",
       "version_major": 2,
       "version_minor": 0
      },
      "text/plain": [
       "A Jupyter Widget"
      ]
     },
     "metadata": {},
     "output_type": "display_data"
    },
    {
     "data": {
      "text/html": [
       "\n",
       "        <style type=\"text/css\">\n",
       "        .jupyter-widgets select option {\n",
       "            font-family: \"Lucida Console\", Monaco, monospace;\n",
       "        }\n",
       "        </style>\n",
       "        "
      ],
      "text/plain": [
       "<IPython.core.display.HTML object>"
      ]
     },
     "metadata": {},
     "output_type": "display_data"
    },
    {
     "data": {
      "application/vnd.jupyter.widget-view+json": {
       "model_id": "1d0777387eb440dbb8e723be850bf2e5",
       "version_major": 2,
       "version_minor": 0
      },
      "text/plain": [
       "A Jupyter Widget"
      ]
     },
     "metadata": {},
     "output_type": "display_data"
    }
   ],
   "source": [
    "o_output_folder = Export(working_dir = working_dir)\n",
    "o_output_folder.select_folder()"
   ]
  },
  {
   "cell_type": "code",
   "execution_count": null,
   "metadata": {
    "run_control": {
     "frozen": false,
     "read_only": false
    }
   },
   "outputs": [],
   "source": [
    "new_folder = 'rotated_{}deg'.format(rotation_angle)\n",
    "o_output_folder.export(new_folder=new_folder, data=rotated_working_data, list_files=list_images)"
   ]
  },
  {
   "cell_type": "markdown",
   "metadata": {
    "run_control": {
     "frozen": false,
     "read_only": false
    }
   },
   "source": [
    "Cleaning notebook memory"
   ]
  },
  {
   "cell_type": "code",
   "execution_count": null,
   "metadata": {
    "run_control": {
     "frozen": false,
     "read_only": false
    }
   },
   "outputs": [],
   "source": [
    "try:\n",
    "    del o_crop\n",
    "    del o_load\n",
    "except:\n",
    "    pass"
   ]
  }
 ],
 "metadata": {
  "anaconda-cloud": {},
  "kernelspec": {
   "display_name": "Python [conda env:py35]",
   "language": "python",
   "name": "conda-env-py35-py"
  },
  "language_info": {
   "codemirror_mode": {
    "name": "ipython",
    "version": 3
   },
   "file_extension": ".py",
   "mimetype": "text/x-python",
   "name": "python",
   "nbconvert_exporter": "python",
   "pygments_lexer": "ipython3",
   "version": "3.5.3"
  },
  "toc": {
   "colors": {
    "hover_highlight": "#DAA520",
    "running_highlight": "#FF0000",
    "selected_highlight": "#FFD700"
   },
   "moveMenuLeft": true,
   "nav_menu": {
    "height": "120px",
    "width": "252px"
   },
   "navigate_menu": true,
   "number_sections": true,
   "sideBar": true,
   "threshold": 4,
   "toc_cell": false,
   "toc_section_display": "block",
   "toc_window_display": false
  },
  "widgets": {
   "state": {
    "9b062f2ffa8e480095f7285a40b5931c": {
     "views": [
      {
       "cell_index": 9
      }
     ]
    }
   },
   "version": "1.2.0"
  }
 },
 "nbformat": 4,
 "nbformat_minor": 1
}
