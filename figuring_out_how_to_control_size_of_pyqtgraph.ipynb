{
 "cells": [
  {
   "cell_type": "code",
   "execution_count": 1,
   "metadata": {
    "run_control": {
     "frozen": false,
     "read_only": false
    }
   },
   "outputs": [
    {
     "name": "stdout",
     "output_type": "stream",
     "text": [
      "PyQt5.QtCore.QRectF(-8.881784197001252e-16, 3.552713678800501e-15, 200.0, 200.00000000000003)\n",
      "PyQt5.QtCore.QRectF(-8.881784197001252e-16, 3.552713678800501e-15, 200.0, 200.00000000000003)\n",
      "PyQt5.QtCore.QRectF(-8.881784197001252e-16, 3.552713678800501e-15, 200.0, 200.00000000000003)\n",
      "PyQt5.QtCore.QRectF(-8.881784197001252e-16, 3.552713678800501e-15, 200.0, 200.00000000000003)\n",
      "PyQt5.QtCore.QRectF(-8.881784197001252e-16, 3.552713678800501e-15, 200.0, 200.00000000000003)\n",
      "PyQt5.QtCore.QRectF(-8.881784197001252e-16, 3.552713678800501e-15, 200.0, 200.00000000000003)\n",
      "PyQt5.QtCore.QRectF(-8.881784197001252e-16, 3.552713678800501e-15, 200.0, 200.00000000000003)\n",
      "PyQt5.QtCore.QRectF(-8.881784197001252e-16, 3.552713678800501e-15, 200.0, 200.00000000000003)\n",
      "PyQt5.QtCore.QRectF(-8.881784197001252e-16, 3.552713678800501e-15, 200.0, 200.00000000000003)\n",
      "PyQt5.QtCore.QRectF(-8.881784197001252e-16, 3.552713678800501e-15, 200.0, 200.00000000000003)\n",
      "PyQt5.QtCore.QRectF(-8.881784197001252e-16, 3.552713678800501e-15, 200.0, 200.00000000000003)\n",
      "PyQt5.QtCore.QRectF(-8.881784197001252e-16, 3.552713678800501e-15, 200.0, 200.00000000000003)\n",
      "PyQt5.QtCore.QRectF(-8.881784197001252e-16, 3.552713678800501e-15, 200.0, 200.00000000000003)\n",
      "PyQt5.QtCore.QRectF(-8.881784197001252e-16, 3.552713678800501e-15, 200.0, 200.00000000000003)\n",
      "PyQt5.QtCore.QRectF(-8.881784197001252e-16, 3.552713678800501e-15, 200.0, 200.00000000000003)\n",
      "PyQt5.QtCore.QRectF(-8.881784197001252e-16, 3.552713678800501e-15, 200.0, 200.00000000000003)\n",
      "PyQt5.QtCore.QRectF(-8.881784197001252e-16, 3.552713678800501e-15, 200.0, 200.00000000000003)\n",
      "PyQt5.QtCore.QRectF(-8.881784197001252e-16, 3.552713678800501e-15, 200.0, 200.00000000000003)\n",
      "PyQt5.QtCore.QRectF(0.0, 0.0, 200.0, 199.99999999999997)\n",
      "PyQt5.QtCore.QRectF(0.0, 0.0, 200.0, 199.99999999999997)\n",
      "PyQt5.QtCore.QRectF(0.0, 0.0, 200.0, 199.99999999999997)\n",
      "PyQt5.QtCore.QRectF(0.0, 0.0, 200.0, 199.99999999999997)\n",
      "PyQt5.QtCore.QRectF(0.0, 0.0, 200.0, 199.99999999999997)\n",
      "PyQt5.QtCore.QRectF(0.0, 0.0, 200.0, 199.99999999999997)\n",
      "PyQt5.QtCore.QRectF(0.0, 0.0, 200.0, 199.99999999999997)\n",
      "PyQt5.QtCore.QRectF(0.0, 0.0, 200.0, 199.99999999999997)\n",
      "PyQt5.QtCore.QRectF(-7.105427357601002e-15, 7.105427357601002e-15, 199.99999999999997, 200.0)\n",
      "PyQt5.QtCore.QRectF(-7.105427357601002e-15, 7.105427357601002e-15, 199.99999999999997, 200.0)\n",
      "PyQt5.QtCore.QRectF(-7.105427357601002e-15, 7.105427357601002e-15, 199.99999999999997, 200.0)\n",
      "PyQt5.QtCore.QRectF(-7.105427357601002e-15, 7.105427357601002e-15, 199.99999999999997, 200.0)\n",
      "PyQt5.QtCore.QRectF(-7.105427357601002e-15, 7.105427357601002e-15, 199.99999999999997, 200.0)\n",
      "PyQt5.QtCore.QRectF(-7.105427357601002e-15, 7.105427357601002e-15, 199.99999999999997, 200.0)\n",
      "PyQt5.QtCore.QRectF(-7.105427357601002e-15, 7.105427357601002e-15, 199.99999999999997, 200.0)\n",
      "PyQt5.QtCore.QRectF(-7.105427357601002e-15, 7.105427357601002e-15, 199.99999999999997, 200.0)\n",
      "PyQt5.QtCore.QRectF(-7.105427357601002e-15, 7.105427357601002e-15, 199.99999999999997, 200.0)\n",
      "PyQt5.QtCore.QRectF(-7.105427357601002e-15, 7.105427357601002e-15, 199.99999999999997, 200.0)\n",
      "PyQt5.QtCore.QRectF(-7.105427357601002e-15, 7.105427357601002e-15, 199.99999999999997, 200.0)\n",
      "PyQt5.QtCore.QRectF(0.0, 7.105427357601002e-15, 200.00000000000003, 200.0)\n",
      "PyQt5.QtCore.QRectF(0.0, 7.105427357601002e-15, 200.00000000000003, 200.0)\n",
      "PyQt5.QtCore.QRectF(0.0, 7.105427357601002e-15, 200.00000000000003, 200.0)\n",
      "PyQt5.QtCore.QRectF(0.0, 7.105427357601002e-15, 200.00000000000003, 200.0)\n",
      "PyQt5.QtCore.QRectF(0.0, 7.105427357601002e-15, 200.00000000000003, 200.0)\n",
      "PyQt5.QtCore.QRectF(0.0, 7.105427357601002e-15, 200.00000000000003, 200.0)\n",
      "PyQt5.QtCore.QRectF(0.0, 7.105427357601002e-15, 200.00000000000003, 200.0)\n",
      "PyQt5.QtCore.QRectF(0.0, 7.105427357601002e-15, 200.00000000000003, 200.0)\n",
      "PyQt5.QtCore.QRectF(0.0, 7.105427357601002e-15, 200.00000000000003, 200.0)\n",
      "PyQt5.QtCore.QRectF(0.0, 7.105427357601002e-15, 200.00000000000003, 200.0)\n",
      "PyQt5.QtCore.QRectF(0.0, 7.105427357601002e-15, 200.00000000000003, 200.0)\n",
      "PyQt5.QtCore.QRectF(0.0, 0.0, 200.00000000000003, 200.0)\n",
      "PyQt5.QtCore.QRectF(0.0, 0.0, 200.00000000000003, 200.0)\n",
      "PyQt5.QtCore.QRectF(0.0, 0.0, 200.00000000000003, 200.0)\n",
      "PyQt5.QtCore.QRectF(0.0, 0.0, 200.00000000000003, 200.0)\n",
      "PyQt5.QtCore.QRectF(0.0, 0.0, 200.00000000000003, 200.0)\n",
      "PyQt5.QtCore.QRectF(0.0, 0.0, 200.00000000000003, 200.0)\n",
      "PyQt5.QtCore.QRectF(0.0, 0.0, 200.00000000000003, 200.0)\n",
      "PyQt5.QtCore.QRectF(0.0, 0.0, 200.00000000000003, 200.0)\n",
      "PyQt5.QtCore.QRectF(0.0, 0.0, 200.00000000000003, 200.0)\n",
      "PyQt5.QtCore.QRectF(0.0, -7.105427357601002e-15, 200.0, 199.99999999999997)\n",
      "PyQt5.QtCore.QRectF(0.0, -7.105427357601002e-15, 200.0, 199.99999999999997)\n",
      "PyQt5.QtCore.QRectF(0.0, -7.105427357601002e-15, 200.0, 199.99999999999997)\n",
      "PyQt5.QtCore.QRectF(0.0, -7.105427357601002e-15, 200.0, 199.99999999999997)\n",
      "PyQt5.QtCore.QRectF(0.0, -7.105427357601002e-15, 200.0, 199.99999999999997)\n",
      "PyQt5.QtCore.QRectF(0.0, -7.105427357601002e-15, 200.0, 199.99999999999997)\n"
     ]
    }
   ],
   "source": [
    "# -*- coding: utf-8 -*-\n",
    "\"\"\"\n",
    "This example demonstrates the use of ImageView, which is a high-level widget for \n",
    "displaying and analyzing 2D and 3D data. ImageView provides:\n",
    "\n",
    "  1. A zoomable region (ViewBox) for displaying the image\n",
    "  2. A combination histogram and gradient editor (HistogramLUTItem) for\n",
    "     controlling the visual appearance of the image\n",
    "  3. A timeline for selecting the currently displayed frame (for 3D data only).\n",
    "  4. Tools for very basic analysis of image data (see ROI and Norm buttons)\n",
    "\n",
    "\"\"\"\n",
    "## Add path to library (just for examples; you do not need this)\n",
    "#import initExample\n",
    "\n",
    "import numpy as np\n",
    "from pyqtgraph.Qt import QtCore, QtGui\n",
    "import pyqtgraph as pg\n",
    "\n",
    "# Interpret image data as row-major instead of col-major\n",
    "pg.setConfigOptions(imageAxisOrder='row-major')\n",
    "\n",
    "app = QtGui.QApplication([])\n",
    "\n",
    "## Create window with ImageView widget\n",
    "win = QtGui.QMainWindow()\n",
    "win.resize(800,800)\n",
    "imv = pg.ImageView()\n",
    "\n",
    "def refresh():\n",
    "    global imv\n",
    "    _item = imv.getImageItem()\n",
    "    _view = imv.getView()\n",
    "    print(_view.itemBoundingRect(_item))\n",
    "    \n",
    "_roi = pg.ROI([0,0,200,200])\n",
    "_roi.addScaleHandle([1,1],[0,0])\n",
    "_roi.sigRegionChanged.connect(refresh)\n",
    "imv.addItem(_roi)\n",
    "\n",
    "win.setCentralWidget(imv)\n",
    "win.show()\n",
    "win.setWindowTitle('pyqtgraph example: ImageView')\n",
    "\n",
    "## Create random 3D data set with noisy signals\n",
    "img = pg.gaussianFilter(np.random.normal(size=(200, 200)), (5, 5)) * 20 + 100\n",
    "img = img[np.newaxis,:,:]\n",
    "decay = np.exp(-np.linspace(0,0.3,100))[:,np.newaxis,np.newaxis]\n",
    "data = np.random.normal(size=(100, 200, 200))\n",
    "data += img * decay\n",
    "data += 2\n",
    "\n",
    "## Add time-varying signal\n",
    "sig = np.zeros(data.shape[0])\n",
    "sig[30:] += np.exp(-np.linspace(1,10, 70))\n",
    "sig[40:] += np.exp(-np.linspace(1,10, 60))\n",
    "sig[70:] += np.exp(-np.linspace(1,10, 30))\n",
    "\n",
    "sig = sig[:,np.newaxis,np.newaxis] * 3\n",
    "data[:,50:60,30:40] += sig\n",
    "\n",
    "\n",
    "## Display the data and assign each frame a time value from 1.0 to 3.0\n",
    "imv.setImage(data, xvals=np.linspace(1., 3., data.shape[0]))\n",
    "\n",
    "## Set a custom color map\n",
    "colors = [\n",
    "    (0, 0, 0),\n",
    "    (45, 5, 61),\n",
    "    (84, 42, 55),\n",
    "    (150, 87, 60),\n",
    "    (208, 171, 141),\n",
    "    (255, 255, 255)\n",
    "]\n",
    "cmap = pg.ColorMap(pos=np.linspace(0.0, 1.0, 6), color=colors)\n",
    "imv.setColorMap(cmap)\n",
    "\n",
    "## Start Qt event loop unless running in interactive mode.\n",
    "if __name__ == '__main__':\n",
    "    import sys\n",
    "    if (sys.flags.interactive != 1) or not hasattr(QtCore, 'PYQT_VERSION'):\n",
    "        QtGui.QApplication.instance().exec_()\n"
   ]
  },
  {
   "cell_type": "code",
   "execution_count": 9,
   "metadata": {},
   "outputs": [],
   "source": [
    "_item = imv.getImageItem()\n",
    "_view = imv.getView()"
   ]
  },
  {
   "cell_type": "code",
   "execution_count": 10,
   "metadata": {},
   "outputs": [
    {
     "name": "stdout",
     "output_type": "stream",
     "text": [
      "PyQt5.QtCore.QRectF(0.0, -7.105427357601002e-15, 200.0, 199.99999999999997)\n"
     ]
    }
   ],
   "source": [
    "print(_view.itemBoundingRect(_item))"
   ]
  },
  {
   "cell_type": "code",
   "execution_count": 6,
   "metadata": {},
   "outputs": [],
   "source": [
    "view_widget = _view.getViewWidget()"
   ]
  },
  {
   "cell_type": "code",
   "execution_count": 4,
   "metadata": {},
   "outputs": [
    {
     "data": {
      "text/plain": [
       "PyQt5.QtCore.QRect(1022, 296, 679, 745)"
      ]
     },
     "execution_count": 4,
     "metadata": {},
     "output_type": "execute_result"
    }
   ],
   "source": [
    "my_view.screenGeometry()"
   ]
  },
  {
   "cell_type": "code",
   "execution_count": null,
   "metadata": {
    "collapsed": true
   },
   "outputs": [],
   "source": []
  }
 ],
 "metadata": {
  "kernelspec": {
   "display_name": "Python 3",
   "language": "python",
   "name": "python3"
  },
  "language_info": {
   "codemirror_mode": {
    "name": "ipython",
    "version": 3
   },
   "file_extension": ".py",
   "mimetype": "text/x-python",
   "name": "python",
   "nbconvert_exporter": "python",
   "pygments_lexer": "ipython3",
   "version": "3.6.2"
  },
  "toc": {
   "colors": {
    "hover_highlight": "#DAA520",
    "running_highlight": "#FF0000",
    "selected_highlight": "#FFD700"
   },
   "moveMenuLeft": true,
   "nav_menu": {
    "height": "12px",
    "width": "252px"
   },
   "navigate_menu": true,
   "number_sections": true,
   "sideBar": true,
   "threshold": 4,
   "toc_cell": false,
   "toc_section_display": "block",
   "toc_window_display": false
  }
 },
 "nbformat": 4,
 "nbformat_minor": 2
}
