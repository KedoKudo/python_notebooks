{
 "cells": [
  {
   "cell_type": "code",
   "execution_count": 3,
   "metadata": {},
   "outputs": [],
   "source": [
    "from PyQt5 import QtGui, QtCore"
   ]
  },
  {
   "cell_type": "code",
   "execution_count": 1,
   "metadata": {
    "run_control": {
     "frozen": false,
     "read_only": false
    }
   },
   "outputs": [
    {
     "name": "stdout",
     "output_type": "stream",
     "text": [
      "viewRange: [[-73.55164548841768, 172.7589789708574], [5.663177032131577, 238.41541849364842]]\n",
      "targetRange: [[45.82994508076784, 53.377388401671894], [5.663177032131577, 238.41541849364842]]\n",
      "\n",
      "viewRange: [[-162.05775672378405, 84.25286773549088], [132.20808501120865, 364.96032647272534]]\n",
      "targetRange: [[-42.67616615459862, -35.12872283369457], [132.20808501120865, 364.96032647272534]]\n",
      "\n",
      "viewRange: [[-118.74625548094521, 127.56436897832974], [62.53306127272874, 295.2853027342454]]\n",
      "targetRange: [[0.6353350882402395, 8.18277840914429], [62.53306127272874, 295.2853027342454]]\n",
      "\n",
      "restoring state: <function save_state at 0x111ac62f0>\n"
     ]
    },
    {
     "ename": "AttributeError",
     "evalue": "'function' object has no attribute 'copy'",
     "output_type": "error",
     "traceback": [
      "\u001b[0;31m---------------------------------------------------------------------------\u001b[0m",
      "\u001b[0;31mAttributeError\u001b[0m                            Traceback (most recent call last)",
      "\u001b[0;32m<ipython-input-1-ec84aa750efb>\u001b[0m in \u001b[0;36mrestore_state\u001b[0;34m()\u001b[0m\n\u001b[1;32m     45\u001b[0m     \u001b[0m_view\u001b[0m \u001b[0;34m=\u001b[0m \u001b[0mimv\u001b[0m\u001b[0;34m.\u001b[0m\u001b[0mgetView\u001b[0m\u001b[0;34m(\u001b[0m\u001b[0;34m)\u001b[0m\u001b[0;34m\u001b[0m\u001b[0m\n\u001b[1;32m     46\u001b[0m     \u001b[0mprint\u001b[0m\u001b[0;34m(\u001b[0m\u001b[0;34m\"restoring state: {}\"\u001b[0m\u001b[0;34m.\u001b[0m\u001b[0mformat\u001b[0m\u001b[0;34m(\u001b[0m\u001b[0msave_state\u001b[0m\u001b[0;34m)\u001b[0m\u001b[0;34m)\u001b[0m\u001b[0;34m\u001b[0m\u001b[0m\n\u001b[0;32m---> 47\u001b[0;31m     \u001b[0m_view\u001b[0m\u001b[0;34m.\u001b[0m\u001b[0msetState\u001b[0m\u001b[0;34m(\u001b[0m\u001b[0msave_state\u001b[0m\u001b[0;34m)\u001b[0m\u001b[0;34m\u001b[0m\u001b[0m\n\u001b[0m\u001b[1;32m     48\u001b[0m \u001b[0;34m\u001b[0m\u001b[0m\n\u001b[1;32m     49\u001b[0m \u001b[0;32mdef\u001b[0m \u001b[0msave_state\u001b[0m\u001b[0;34m(\u001b[0m\u001b[0;34m)\u001b[0m\u001b[0;34m:\u001b[0m\u001b[0;34m\u001b[0m\u001b[0m\n",
      "\u001b[0;32m~/anaconda/envs/py36/lib/python3.6/site-packages/pyqtgraph/graphicsItems/ViewBox/ViewBox.py\u001b[0m in \u001b[0;36msetState\u001b[0;34m(self, state)\u001b[0m\n\u001b[1;32m    321\u001b[0m         \"\"\"Restore the state of this ViewBox.\n\u001b[1;32m    322\u001b[0m         (see also getState)\"\"\"\n\u001b[0;32m--> 323\u001b[0;31m         \u001b[0mstate\u001b[0m \u001b[0;34m=\u001b[0m \u001b[0mstate\u001b[0m\u001b[0;34m.\u001b[0m\u001b[0mcopy\u001b[0m\u001b[0;34m(\u001b[0m\u001b[0;34m)\u001b[0m\u001b[0;34m\u001b[0m\u001b[0m\n\u001b[0m\u001b[1;32m    324\u001b[0m         \u001b[0mself\u001b[0m\u001b[0;34m.\u001b[0m\u001b[0msetXLink\u001b[0m\u001b[0;34m(\u001b[0m\u001b[0mstate\u001b[0m\u001b[0;34m[\u001b[0m\u001b[0;34m'linkedViews'\u001b[0m\u001b[0;34m]\u001b[0m\u001b[0;34m[\u001b[0m\u001b[0;36m0\u001b[0m\u001b[0;34m]\u001b[0m\u001b[0;34m)\u001b[0m\u001b[0;34m\u001b[0m\u001b[0m\n\u001b[1;32m    325\u001b[0m         \u001b[0mself\u001b[0m\u001b[0;34m.\u001b[0m\u001b[0msetYLink\u001b[0m\u001b[0;34m(\u001b[0m\u001b[0mstate\u001b[0m\u001b[0;34m[\u001b[0m\u001b[0;34m'linkedViews'\u001b[0m\u001b[0;34m]\u001b[0m\u001b[0;34m[\u001b[0m\u001b[0;36m1\u001b[0m\u001b[0;34m]\u001b[0m\u001b[0;34m)\u001b[0m\u001b[0;34m\u001b[0m\u001b[0m\n",
      "\u001b[0;31mAttributeError\u001b[0m: 'function' object has no attribute 'copy'"
     ]
    },
    {
     "name": "stdout",
     "output_type": "stream",
     "text": [
      "viewRange: [[-81.46070223711006, 164.849922222165], [24.117642779080345, 256.8698842405971]]\n",
      "targetRange: [[37.920888332075435, 45.46833165297949], [24.117642779080345, 256.8698842405971]]\n",
      "\n",
      "viewRange: [[-83.13640416547366, 243.47819481631763], [-39.57576920068379, 269.06004451605475]]\n",
      "targetRange: [[75.16683758530922, 85.17495306553472], [-39.57576920068379, 269.06004451605475]]\n",
      "\n"
     ]
    }
   ],
   "source": [
    "# -*- coding: utf-8 -*-\n",
    "\"\"\"\n",
    "This example demonstrates the use of ImageView, which is a high-level widget for \n",
    "displaying and analyzing 2D and 3D data. ImageView provides:\n",
    "\n",
    "  1. A zoomable region (ViewBox) for displaying the image\n",
    "  2. A combination histogram and gradient editor (HistogramLUTItem) for\n",
    "     controlling the visual appearance of the image\n",
    "  3. A timeline for selecting the currently displayed frame (for 3D data only).\n",
    "  4. Tools for very basic analysis of image data (see ROI and Norm buttons)\n",
    "\n",
    "\"\"\"\n",
    "## Add path to library (just for examples; you do not need this)\n",
    "#import initExample\n",
    "\n",
    "import numpy as np\n",
    "from pyqtgraph.Qt import QtCore, QtGui\n",
    "import pyqtgraph as pg\n",
    "\n",
    "# Interpret image data as row-major instead of col-major\n",
    "pg.setConfigOptions(imageAxisOrder='row-major')\n",
    "\n",
    "app = QtGui.QApplication([])\n",
    "\n",
    "## Create window with ImageView widget\n",
    "win = QtGui.QMainWindow()\n",
    "win.resize(800,800)\n",
    "imv = pg.ImageView()\n",
    "\n",
    "def refresh():\n",
    "    global imv, init_state\n",
    "    _item = imv.getImageItem()\n",
    "    _view = imv.getView()\n",
    "    _state = _view.getState()\n",
    "    _view.setState(init_state)\n",
    "    print(\"viewRange: {}\".format(_state['viewRange']))\n",
    "    print(\"targetRange: {}\".format(_state['targetRange']))\n",
    "    print()\n",
    "\n",
    "save_state = dict()\n",
    "    \n",
    "def restore_state():\n",
    "    global imv, save_state\n",
    "    _item = imv.getImageItem()\n",
    "    _view = imv.getView()\n",
    "    print(\"restoring state: {}\".format(save_state))\n",
    "    _view.setState(save_state)\n",
    "    \n",
    "def save_state():\n",
    "    global imv, save_state\n",
    "    _item = imv.getImageItem()\n",
    "    _view = imv.getView()\n",
    "    _save_state = _view.getState(copy=False)\n",
    "    import copy\n",
    "    save_state = copy.deepcopy(_save_state)\n",
    "    print(\"saved state: {}\".format(save_state))\n",
    "    \n",
    "    # reset state\n",
    "    #_view.setState(init_state)\n",
    "    \n",
    "# _roi = pg.ROI([0,0,200,200])\n",
    "# _roi.addScaleHandle([1,1],[0,0])\n",
    "# _roi.sigRegionChanged.connect(refresh)\n",
    "# imv.addItem(_roi)\n",
    "\n",
    "main_widget = QtGui.QWidget()\n",
    "_button = QtGui.QPushButton(\"push me\")\n",
    "vertical_layout = QtGui.QVBoxLayout()\n",
    "vertical_layout.addWidget(imv)\n",
    "vertical_layout.addWidget(_button)\n",
    "\n",
    "_save_button = QtGui.QPushButton(\"save\")\n",
    "vertical_layout.addWidget(_save_button)\n",
    "\n",
    "_set_state_button = QtGui.QPushButton(\"apply save state\")\n",
    "vertical_layout.addWidget(_set_state_button)\n",
    "\n",
    "_button.clicked.connect(refresh)\n",
    "_save_button.clicked.connect(save_state)        \n",
    "_set_state_button.clicked.connect(restore_state)\n",
    "\n",
    "main_widget.setLayout(vertical_layout)\n",
    "\n",
    "#win.setCentralWidget(imv)\n",
    "win.setCentralWidget(main_widget)\n",
    "win.show()\n",
    "win.setWindowTitle('pyqtgraph example: ImageView')\n",
    "\n",
    "## Create random 3D data set with noisy signals\n",
    "img = pg.gaussianFilter(np.random.normal(size=(200, 200)), (5, 5)) * 20 + 100\n",
    "img = img[np.newaxis,:,:]\n",
    "decay = np.exp(-np.linspace(0,0.3,100))[:,np.newaxis,np.newaxis]\n",
    "data = np.random.normal(size=(100, 200, 200))\n",
    "data += img * decay\n",
    "data += 2\n",
    "\n",
    "## Add time-varying signal\n",
    "sig = np.zeros(data.shape[0])\n",
    "sig[30:] += np.exp(-np.linspace(1,10, 70))\n",
    "sig[40:] += np.exp(-np.linspace(1,10, 60))\n",
    "sig[70:] += np.exp(-np.linspace(1,10, 30))\n",
    "\n",
    "sig = sig[:,np.newaxis,np.newaxis] * 3\n",
    "data[:,50:60,30:40] += sig\n",
    "\n",
    "## Display the data and assign each frame a time value from 1.0 to 3.0\n",
    "imv.setImage(data, xvals=np.linspace(1., 3., data.shape[0]))\n",
    "\n",
    "## Set a custom color map\n",
    "colors = [\n",
    "    (0, 0, 0),\n",
    "    (45, 5, 61),\n",
    "    (84, 42, 55),\n",
    "    (150, 87, 60),\n",
    "    (208, 171, 141),\n",
    "    (255, 255, 255)\n",
    "]\n",
    "cmap = pg.ColorMap(pos=np.linspace(0.0, 1.0, 6), color=colors)\n",
    "imv.setColorMap(cmap)\n",
    "\n",
    "_item = imv.getImageItem()\n",
    "_view = imv.getView()\n",
    "\n",
    "# save initial state\n",
    "init_state = _view.getState()\n",
    "\n",
    "#padding\n",
    "x0=0; x1=-7; y0=200; y1=200\n",
    "width = x1-x0\n",
    "height = y1-y0\n",
    "_view.setRange(rect=QtCore.QRectF(x0, y0, width, height))\n",
    "\n",
    "#zoom\n",
    "zoom_x0 = -25\n",
    "zoom_x1 = 29\n",
    "zoom_y0 = 167\n",
    "zoom_y1 = 225\n",
    "\n",
    "init_state = _view.getState()\n",
    "\n",
    "\n",
    "## Start Qt event loop unless running in interactive mode.\n",
    "if __name__ == '__main__':\n",
    "    import sys\n",
    "    if (sys.flags.interactive != 1) or not hasattr(QtCore, 'PYQT_VERSION'):\n",
    "        QtGui.QApplication.instance().exec_()\n"
   ]
  },
  {
   "cell_type": "code",
   "execution_count": 3,
   "metadata": {},
   "outputs": [
    {
     "ename": "AttributeError",
     "evalue": "'function' object has no attribute 'copy'",
     "output_type": "error",
     "traceback": [
      "\u001b[0;31m---------------------------------------------------------------------------\u001b[0m",
      "\u001b[0;31mAttributeError\u001b[0m                            Traceback (most recent call last)",
      "\u001b[0;32m<ipython-input-3-323f8021ad0d>\u001b[0m in \u001b[0;36m<module>\u001b[0;34m()\u001b[0m\n\u001b[0;32m----> 1\u001b[0;31m \u001b[0mimv\u001b[0m\u001b[0;34m.\u001b[0m\u001b[0mgetView\u001b[0m\u001b[0;34m(\u001b[0m\u001b[0;34m)\u001b[0m\u001b[0;34m.\u001b[0m\u001b[0msetState\u001b[0m\u001b[0;34m(\u001b[0m\u001b[0msave_state\u001b[0m\u001b[0;34m)\u001b[0m\u001b[0;34m\u001b[0m\u001b[0m\n\u001b[0m",
      "\u001b[0;32m~/anaconda/envs/py36/lib/python3.6/site-packages/pyqtgraph/graphicsItems/ViewBox/ViewBox.py\u001b[0m in \u001b[0;36msetState\u001b[0;34m(self, state)\u001b[0m\n\u001b[1;32m    321\u001b[0m         \"\"\"Restore the state of this ViewBox.\n\u001b[1;32m    322\u001b[0m         (see also getState)\"\"\"\n\u001b[0;32m--> 323\u001b[0;31m         \u001b[0mstate\u001b[0m \u001b[0;34m=\u001b[0m \u001b[0mstate\u001b[0m\u001b[0;34m.\u001b[0m\u001b[0mcopy\u001b[0m\u001b[0;34m(\u001b[0m\u001b[0;34m)\u001b[0m\u001b[0;34m\u001b[0m\u001b[0m\n\u001b[0m\u001b[1;32m    324\u001b[0m         \u001b[0mself\u001b[0m\u001b[0;34m.\u001b[0m\u001b[0msetXLink\u001b[0m\u001b[0;34m(\u001b[0m\u001b[0mstate\u001b[0m\u001b[0;34m[\u001b[0m\u001b[0;34m'linkedViews'\u001b[0m\u001b[0;34m]\u001b[0m\u001b[0;34m[\u001b[0m\u001b[0;36m0\u001b[0m\u001b[0;34m]\u001b[0m\u001b[0;34m)\u001b[0m\u001b[0;34m\u001b[0m\u001b[0m\n\u001b[1;32m    325\u001b[0m         \u001b[0mself\u001b[0m\u001b[0;34m.\u001b[0m\u001b[0msetYLink\u001b[0m\u001b[0;34m(\u001b[0m\u001b[0mstate\u001b[0m\u001b[0;34m[\u001b[0m\u001b[0;34m'linkedViews'\u001b[0m\u001b[0;34m]\u001b[0m\u001b[0;34m[\u001b[0m\u001b[0;36m1\u001b[0m\u001b[0;34m]\u001b[0m\u001b[0;34m)\u001b[0m\u001b[0;34m\u001b[0m\u001b[0m\n",
      "\u001b[0;31mAttributeError\u001b[0m: 'function' object has no attribute 'copy'"
     ]
    }
   ],
   "source": [
    "imv.getView().setState(save_state)"
   ]
  },
  {
   "cell_type": "code",
   "execution_count": 9,
   "metadata": {},
   "outputs": [],
   "source": [
    "_item = imv.getImageItem()\n",
    "_view = imv.getView()"
   ]
  },
  {
   "cell_type": "code",
   "execution_count": 10,
   "metadata": {},
   "outputs": [
    {
     "name": "stdout",
     "output_type": "stream",
     "text": [
      "PyQt5.QtCore.QRectF(0.0, -7.105427357601002e-15, 200.0, 199.99999999999997)\n"
     ]
    }
   ],
   "source": [
    "print(_view.itemBoundingRect(_item))"
   ]
  },
  {
   "cell_type": "code",
   "execution_count": 6,
   "metadata": {},
   "outputs": [],
   "source": [
    "view_widget = _view.getViewWidget()"
   ]
  },
  {
   "cell_type": "code",
   "execution_count": 4,
   "metadata": {},
   "outputs": [
    {
     "data": {
      "text/plain": [
       "PyQt5.QtCore.QRect(1022, 296, 679, 745)"
      ]
     },
     "execution_count": 4,
     "metadata": {},
     "output_type": "execute_result"
    }
   ],
   "source": [
    "my_view.screenGeometry()"
   ]
  },
  {
   "cell_type": "code",
   "execution_count": null,
   "metadata": {
    "collapsed": true
   },
   "outputs": [],
   "source": [
    "_item = imv.getImageItem()\n",
    "_view = imv.getView()\n",
    "_view.setRange(xRange=(-7.68, 207))"
   ]
  }
 ],
 "metadata": {
  "kernelspec": {
   "display_name": "Python 3",
   "language": "python",
   "name": "python3"
  },
  "language_info": {
   "codemirror_mode": {
    "name": "ipython",
    "version": 3
   },
   "file_extension": ".py",
   "mimetype": "text/x-python",
   "name": "python",
   "nbconvert_exporter": "python",
   "pygments_lexer": "ipython3",
   "version": "3.6.2"
  },
  "toc": {
   "colors": {
    "hover_highlight": "#DAA520",
    "running_highlight": "#FF0000",
    "selected_highlight": "#FFD700"
   },
   "moveMenuLeft": true,
   "nav_menu": {
    "height": "12px",
    "width": "252px"
   },
   "navigate_menu": true,
   "number_sections": true,
   "sideBar": true,
   "threshold": 4,
   "toc_cell": false,
   "toc_section_display": "block",
   "toc_window_display": false
  }
 },
 "nbformat": 4,
 "nbformat_minor": 2
}
