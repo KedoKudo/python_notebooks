{
 "cells": [
  {
   "cell_type": "code",
   "execution_count": null,
   "metadata": {
    "run_control": {
     "frozen": false,
     "read_only": false
    }
   },
   "outputs": [],
   "source": [
    "debugging = True\n",
    "IPTS = 17685"
   ]
  },
  {
   "cell_type": "markdown",
   "metadata": {
    "run_control": {
     "frozen": false,
     "read_only": false
    }
   },
   "source": [
    "# Description"
   ]
  },
  {
   "cell_type": "markdown",
   "metadata": {
    "run_control": {
     "frozen": false,
     "read_only": false
    }
   },
   "source": [
    "In this notebook, we will correctly format the file name index of the file selected. This allows the sorting of the file name to works all the time. For example, there are many cases where the images are saved using the following convention\n",
    "\n",
    "**Wrong filename index**\n",
    "\n",
    "```\n",
    "image_1.tif\n",
    "image_2.tif\n",
    "image_3.tif\n",
    "image_4.tif\n",
    "...\n",
    "image_10.tif\n",
    "image_11.tif\n",
    "...\n",
    "image_100.tif\n",
    "```\n",
    "\n",
    "Using this convention, any sorting algorithm will sort them as followed\n",
    "\n",
    "**Wrong sorting**\n",
    "```\n",
    "image_1.tif\n",
    "image_10.tif\n",
    "image_100.tif\n",
    "...\n",
    "```\n",
    "\n",
    "So this notebook will fix this issue by renaming the files\n",
    "\n",
    "**correct filename index**\n",
    "\n",
    "```\n",
    "image_001.tif\n",
    "image_002.tif\n",
    "image_003.tif\n",
    "image_004.tif\n",
    "...\n",
    "image_010.tif\n",
    "image_011.tif\n",
    "...\n",
    "image_100.tif\n",
    "```\n"
   ]
  },
  {
   "cell_type": "markdown",
   "metadata": {
    "run_control": {
     "frozen": false,
     "read_only": false
    }
   },
   "source": [
    "# Python Import"
   ]
  },
  {
   "cell_type": "code",
   "execution_count": null,
   "metadata": {
    "run_control": {
     "frozen": false,
     "read_only": false
    }
   },
   "outputs": [],
   "source": [
    "from __code.__all import custom_style\n",
    "custom_style.style()"
   ]
  },
  {
   "cell_type": "code",
   "execution_count": null,
   "metadata": {
    "run_control": {
     "frozen": false,
     "read_only": false
    }
   },
   "outputs": [],
   "source": [
    "from __code import utilities, gui_widgets, file_handler, fileselector\n",
    "from __code import format_filename_index\n",
    "\n",
    "import pprint, os\n",
    "\n",
    "if debugging:\n",
    "    ipts = IPTS\n",
    "else:\n",
    "    ipts = utilities.get_ipts()\n",
    "working_dir = utilities.get_working_dir(ipts=ipts, debugging=debugging)\n",
    "print(\"Working dir: {}\".format(working_dir))"
   ]
  },
  {
   "cell_type": "markdown",
   "metadata": {
    "run_control": {
     "frozen": false,
     "read_only": false
    }
   },
   "source": [
    "# Select Files/Images to Rename"
   ]
  },
  {
   "cell_type": "markdown",
   "metadata": {
    "run_control": {
     "frozen": false,
     "read_only": false
    }
   },
   "source": [
    "Select all files or images you want to renanme"
   ]
  },
  {
   "cell_type": "code",
   "execution_count": null,
   "metadata": {
    "run_control": {
     "frozen": false,
     "read_only": false
    }
   },
   "outputs": [],
   "source": [
    "input_folder_ui = fileselector.FileSelectorPanel(instruction='Select Folder of Files to Rename', type='directory', start_dir=working_dir, multiple=False)\n",
    "input_folder_ui.show()"
   ]
  },
  {
   "cell_type": "markdown",
   "metadata": {
    "run_control": {
     "frozen": false,
     "read_only": false
    }
   },
   "source": [
    "# Retrieve list of most dominand files extension"
   ]
  },
  {
   "cell_type": "code",
   "execution_count": null,
   "metadata": {
    "run_control": {
     "frozen": false,
     "read_only": false
    }
   },
   "outputs": [],
   "source": [
    "[list_of_input_files, ext] = file_handler.retrieve_list_of_most_dominand_extension_from_folder(folder=input_folder_ui.result_full_path())\n",
    "list_of_basename_files = [os.path.basename(_file) for _file in list_of_input_files]"
   ]
  },
  {
   "cell_type": "markdown",
   "metadata": {
    "run_control": {
     "frozen": false,
     "read_only": false
    }
   },
   "source": [
    "# Define Old and New Naming Schema"
   ]
  },
  {
   "cell_type": "code",
   "execution_count": null,
   "metadata": {
    "run_control": {
     "frozen": false,
     "read_only": false
    }
   },
   "outputs": [],
   "source": [
    "random_list = utilities.get_n_random_element(input_list=list_of_basename_files, n=10)\n",
    "_o_schema = format_filename_index.NamingSchemaDefinition(ext=ext, random_input_list=random_list.copy())\n",
    "_o_schema.show()"
   ]
  },
  {
   "cell_type": "markdown",
   "metadata": {
    "run_control": {
     "frozen": false,
     "read_only": false
    }
   },
   "source": [
    "# Select Output Folder"
   ]
  },
  {
   "cell_type": "code",
   "execution_count": null,
   "metadata": {
    "run_control": {
     "frozen": false,
     "read_only": false
    }
   },
   "outputs": [],
   "source": [
    "output_folder_ui = fileselector.FileSelectorPanel(instruction='Select New Output folder', type='directory', start_dir=working_dir, multiple=False)\n",
    "output_folder_ui.show()"
   ]
  },
  {
   "cell_type": "markdown",
   "metadata": {
    "run_control": {
     "frozen": false,
     "read_only": false
    }
   },
   "source": [
    "# Renaming Files (copy into output folder)"
   ]
  },
  {
   "cell_type": "code",
   "execution_count": null,
   "metadata": {
    "run_control": {
     "frozen": false,
     "read_only": false
    }
   },
   "outputs": [],
   "source": [
    "dict_old_new_names = _o_schema.get_dict_old_new_filenames(list_of_input_files = list_of_input_files)\n",
    "\n",
    "# make output folder\n",
    "new_output_folder = output_folder_ui.result_full_path()\n",
    "\n",
    "# create new images\n",
    "utilities.copy_files(dict_old_new_names = dict_old_new_names, new_output_folder=new_output_folder)\n"
   ]
  }
 ],
 "metadata": {
  "anaconda-cloud": {},
  "kernelspec": {
   "display_name": "Python [default]",
   "language": "python",
   "name": "python3"
  },
  "language_info": {
   "codemirror_mode": {
    "name": "ipython",
    "version": 3
   },
   "file_extension": ".py",
   "mimetype": "text/x-python",
   "name": "python",
   "nbconvert_exporter": "python",
   "pygments_lexer": "ipython3",
   "version": "3.5.3"
  },
  "toc": {
   "colors": {
    "hover_highlight": "#DAA520",
    "running_highlight": "#FF0000",
    "selected_highlight": "#FFD700"
   },
   "moveMenuLeft": true,
   "nav_menu": {
    "height": "210px",
    "width": "252px"
   },
   "navigate_menu": true,
   "number_sections": true,
   "sideBar": true,
   "threshold": 4,
   "toc_cell": false,
   "toc_section_display": "block",
   "toc_window_display": false
  }
 },
 "nbformat": 4,
 "nbformat_minor": 1
}
