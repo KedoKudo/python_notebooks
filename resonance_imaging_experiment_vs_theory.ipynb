{
 "cells": [
  {
   "cell_type": "code",
   "execution_count": 1,
   "metadata": {
    "run_control": {
     "frozen": false,
     "read_only": false
    }
   },
   "outputs": [],
   "source": [
    "debugging = True\n",
    "IPTS = 19558"
   ]
  },
  {
   "cell_type": "markdown",
   "metadata": {
    "run_control": {
     "frozen": false,
     "read_only": false
    }
   },
   "source": [
    "# Description "
   ]
  },
  {
   "cell_type": "markdown",
   "metadata": {
    "run_control": {
     "frozen": false,
     "read_only": false
    }
   },
   "source": [
    "Steps are:\n",
    " - load a stack of images\n",
    " - define your sample\n",
    " \n",
    "=> the average counts of the region vs the stack (index, TOF or lambda) will be displayed\n",
    "compared to the theory signal of a given set of layers."
   ]
  },
  {
   "cell_type": "markdown",
   "metadata": {
    "run_control": {
     "frozen": false,
     "read_only": false
    }
   },
   "source": [
    "# Notebook Initialization "
   ]
  },
  {
   "cell_type": "code",
   "execution_count": 2,
   "metadata": {
    "run_control": {
     "frozen": false,
     "read_only": false
    }
   },
   "outputs": [
    {
     "data": {
      "text/html": [
       "<style>\n",
       "\n",
       "/* The following CSS has been adapted from\n",
       "   http://nbviewer.ipython.org/github/ketch/teaching-numerics-with-notebooks/blob/master/Styling_notebooks.ipynb\n",
       "   by Aron Ahmadia and David Ketcheson and has been reused under CC BY 4.0\n",
       "   */\n",
       "\n",
       "/* main background */\n",
       "#site { \n",
       "    background: #888;\n",
       "    color: #red; \n",
       "}\n",
       "\n",
       "div.container {\n",
       "    width: 100% ! important;\n",
       "}\n",
       "\n",
       "div.cell { /* set cell width to about 80 chars */\n",
       "    width: 95%;\n",
       "}\n",
       "\n",
       "div #notebook { /* centre the content */\n",
       "/*    background: #fff; /* white background for content */\n",
       "    background: blue;\n",
       "    width: 100%;\n",
       "    margin: auto;\n",
       "    padding-left: 1em;\n",
       "    padding-right: 1em;\n",
       "    background-image: url(\"tile_background.jpg\");\n",
       "}\n",
       "\n",
       "#notebook li { /* More space between bullet points */\n",
       "    margin-top:0.4em;\n",
       "}\n",
       "\n",
       "/* change background color of running cells */\n",
       "div.cell.code_cell.running {\n",
       "/*    background-color: rgba(164,188,194,.75); */\n",
       "    background-color: green;\n",
       "    border-width: 8px\n",
       "    border-style: solid\n",
       "    border-color: #111;\n",
       "}\n",
       "\n",
       "/* Put a solid color box around each cell and its output, visually linking them together */\n",
       "div.cell.code_cell {\n",
       "    background-color: rgba(164,188,194,.25); /* Continuum L Gray with alpha 0.25 */\n",
       "    border-radius: 10px; /* rounded borders */\n",
       "    padding: 1em;\n",
       "    margin-top: 1em;\n",
       "}\n",
       "\n",
       "div.text_cell_render{\n",
       "\tfont-family: Georgia, Times, 'Times New Roman', serif;\n",
       "    line-height: 110%;\n",
       "    font-size: 105%;\n",
       "    width: 95%;\n",
       "    margin-left: auto;\n",
       "    margin-right: auto;\n",
       "}\n",
       "\n",
       "\n",
       "/* Formatting for header cells */\n",
       ".text_cell_render h1 {\n",
       "\tfont-family: Arial, 'Helvetica Neue', Helvetica, sans-serif;\n",
       "    font-weight: 400;\n",
       "    font-size: 30pt;\n",
       "    line-height: 100%;\n",
       "    color: rgb(37,55,70); /* Continuum Blue*/\n",
       "    margin-bottom: 0.1em;\n",
       "    margin-top: 0.1em;\n",
       "    display: block;\n",
       "}\n",
       ".text_cell_render h2 {\n",
       "\tfont-family: Arial, 'Helvetica Neue', Helvetica, sans-serif;\n",
       "    font-weight: 700;\n",
       "    font-size: 22pt;\n",
       "    line-height: 100%;\n",
       "    color: rgb(37,55,70);\n",
       "    margin-bottom: 0.1em;\n",
       "    margin-top: 0.1em;\n",
       "    display: block;\n",
       "}\n",
       "\n",
       ".text_cell_render h3 {\n",
       "\tfont-family: Arial, 'Helvetica Neue', Helvetica, sans-serif;\n",
       "    margin-top:12px;\n",
       "    margin-bottom: 3px;\n",
       "    font-style: italic;\n",
       "    color: rgb(37, 55, 70);\n",
       "}\n",
       "\n",
       ".text_cell_render h4 {\n",
       "\tfont-family: Arial, 'Helvetica Neue', Helvetica, sans-serif;\n",
       "}\n",
       "\n",
       ".text_cell_render h5 {\n",
       "\tfont-family: Arial, 'Helvetica Neue', Helvetica, sans-serif;\n",
       "    font-weight: 300;\n",
       "    font-size: 14pt;\n",
       "    font-style: italic;\n",
       "    margin-bottom: .1em;\n",
       "    margin-top: 0.1em;\n",
       "    display: block;\n",
       "}\n",
       "\n",
       ".text_cell_render h6 {\n",
       "\tfont-family: Arial, 'Helvetica Neue', Helvetica, sans-serif;\n",
       "    font-weight: 300;\n",
       "    font-size: 10pt;\n",
       "    margin-bottom: 1px;\n",
       "    margin-top: 1px;\n",
       "}\n",
       "\n",
       ".CodeMirror{\n",
       "        font-family: \"PT Mono\", fixed;\n",
       "        font-size: 100%;\n",
       "}\n",
       "\n",
       "#notebook_panel { /* main background */\n",
       "    background-image: url(\"tile_background.jpg\");\n",
       "}\n",
       "\n",
       "\n",
       "\n",
       "\n",
       "</style>\n"
      ],
      "text/plain": [
       "<IPython.core.display.HTML object>"
      ]
     },
     "execution_count": 2,
     "metadata": {},
     "output_type": "execute_result"
    }
   ],
   "source": [
    "from __code.__all import custom_style\n",
    "custom_style.style()"
   ]
  },
  {
   "cell_type": "code",
   "execution_count": 3,
   "metadata": {
    "run_control": {
     "frozen": false,
     "read_only": false
    }
   },
   "outputs": [],
   "source": [
    "%gui qt"
   ]
  },
  {
   "cell_type": "code",
   "execution_count": 4,
   "metadata": {
    "run_control": {
     "frozen": false,
     "marked": true,
     "read_only": false
    }
   },
   "outputs": [
    {
     "name": "stdout",
     "output_type": "stream",
     "text": [
      "pyuic4 /Users/j35/git/IPTS/notebooks/ui/ui_resonance_imaging_experiment_vs_theory.ui -o /Users/j35/git/IPTS/notebooks/__code/ui_resonance_imaging_experiment_vs_theory.py\n",
      "pyuic4 /Users/j35/git/IPTS/notebooks/ui/ui_resonance_imaging_layers_input.ui -o /Users/j35/git/IPTS/notebooks/__code/ui_resonance_imaging_layers_input.py\n",
      "Working dir: /Volumes/my_book_thunderbolt_duo/IPTS/IPTS_19558\n"
     ]
    }
   ],
   "source": [
    "from __code.ui_builder import UiBuilder\n",
    "o_builder = UiBuilder(ui_name = 'ui_resonance_imaging_experiment_vs_theory.ui')\n",
    "o_builder = UiBuilder(ui_name = 'ui_resonance_imaging_layers_input.ui')\n",
    "\n",
    "from __code import file_handler, utilities\n",
    "#from __code.display_counts_of_region_vs_stack_vs_theory import ImageWindow\n",
    "from __code.display_imaging_resonance_sample_definition import SampleWindow\n",
    "from NeuNorm.normalization import Normalization\n",
    "import ipywe.fileselector\n",
    "\n",
    "if debugging:\n",
    "    ipts = IPTS\n",
    "else:\n",
    "    ipts = utilities.get_ipts()\n",
    "working_dir = utilities.get_working_dir(ipts=ipts, debugging=debugging)\n",
    "print(\"Working dir: {}\".format(working_dir))"
   ]
  },
  {
   "cell_type": "markdown",
   "metadata": {
    "cell_style": "split",
    "run_control": {
     "frozen": false,
     "read_only": false
    }
   },
   "source": [
    "# Select Stack Folder"
   ]
  },
  {
   "cell_type": "code",
   "execution_count": 5,
   "metadata": {
    "format": "tab",
    "run_control": {
     "frozen": false,
     "read_only": false
    }
   },
   "outputs": [
    {
     "data": {
      "application/vnd.jupyter.widget-view+json": {
       "model_id": "4ed65a1e75c340dfbf0c8935c986dd96",
       "version_major": 2,
       "version_minor": 0
      },
      "text/plain": [
       "A Jupyter Widget"
      ]
     },
     "metadata": {},
     "output_type": "display_data"
    },
    {
     "data": {
      "text/html": [
       "\n",
       "        <style type=\"text/css\">\n",
       "        .jupyter-widgets select option {\n",
       "            font-family: \"Lucida Console\", Monaco, monospace;\n",
       "        }\n",
       "        </style>\n",
       "        "
      ],
      "text/plain": [
       "<IPython.core.display.HTML object>"
      ]
     },
     "metadata": {},
     "output_type": "display_data"
    },
    {
     "data": {
      "application/vnd.jupyter.widget-view+json": {
       "model_id": "a79c410b827247058fb5b0505ee58f8d",
       "version_major": 2,
       "version_minor": 0
      },
      "text/plain": [
       "A Jupyter Widget"
      ]
     },
     "metadata": {},
     "output_type": "display_data"
    }
   ],
   "source": [
    "input_folder_ui = ipywe.fileselector.FileSelectorPanel(instruction='Select Input Folder',\n",
    "                                                       type='directory', \n",
    "                                                       start_dir=working_dir, \n",
    "                                                       multiple=False)\n",
    "input_folder_ui.show()"
   ]
  },
  {
   "cell_type": "markdown",
   "metadata": {
    "run_control": {
     "frozen": false,
     "read_only": false
    }
   },
   "source": [
    "# Load Stack"
   ]
  },
  {
   "cell_type": "code",
   "execution_count": 6,
   "metadata": {
    "run_control": {
     "frozen": false,
     "read_only": false
    }
   },
   "outputs": [
    {
     "data": {
      "application/vnd.jupyter.widget-view+json": {
       "model_id": "2f6ee45d9a8f4648af0030a8a0680626",
       "version_major": 2,
       "version_minor": 0
      },
      "text/plain": [
       "A Jupyter Widget"
      ]
     },
     "metadata": {},
     "output_type": "display_data"
    }
   ],
   "source": [
    "working_folder = input_folder_ui.selected\n",
    "o_norm = Normalization()\n",
    "o_norm.load(folder=working_folder, notebook=True)"
   ]
  },
  {
   "cell_type": "markdown",
   "metadata": {
    "run_control": {
     "frozen": false,
     "read_only": false
    }
   },
   "source": [
    "# Define Sample "
   ]
  },
  {
   "cell_type": "code",
   "execution_count": 7,
   "metadata": {
    "run_control": {
     "frozen": false,
     "read_only": false
    }
   },
   "outputs": [],
   "source": [
    "_sample = SampleWindow(parent=None, debugging=debugging)\n",
    "_sample.show()"
   ]
  },
  {
   "cell_type": "markdown",
   "metadata": {
    "run_control": {
     "frozen": false,
     "read_only": false
    }
   },
   "source": [
    "# Select Region and display Counts"
   ]
  },
  {
   "cell_type": "code",
   "execution_count": 8,
   "metadata": {},
   "outputs": [
    {
     "name": "stdout",
     "output_type": "stream",
     "text": [
      "Warning: QApplication was created before pyqtgraph was imported; there may be problems (to avoid bugs, call QApplication.setGraphicsSystem(\"raster\") before the QApplication is created).\n"
     ]
    }
   ],
   "source": [
    "import pyqtgraph as pg\n",
    "from pyqtgraph.dockarea import *\n",
    "import numpy as np\n",
    "import os\n",
    "import numbers\n",
    "\n",
    "try:\n",
    "    from PyQt4.QtGui import QFileDialog\n",
    "    from PyQt4 import QtCore, QtGui\n",
    "    from PyQt4.QtGui import QMainWindow\n",
    "except ImportError:\n",
    "    from PyQt5.QtWidgets import QFileDialog\n",
    "    from PyQt5 import QtCore, QtGui\n",
    "    from PyQt5.QtWidgets import QApplication, QMainWindow\n",
    "\n",
    "from neutronbraggedge.experiment_handler import *\n",
    "\n",
    "from __code.ui_resonance_imaging_experiment_vs_theory import Ui_MainWindow as UiMainWindow\n",
    "\n",
    "\n",
    "class ImageWindow(QMainWindow):\n",
    "\n",
    "    pen_color = ['b','g','r','c','m','y','k','w']\n",
    "    pen_symbol = ['o','s','t','d','+'] \n",
    "    \n",
    "    stack = []\n",
    "    integrated_stack = []\n",
    "    working_folder = ''\n",
    "    x_axis = {'label': 'File Index', 'type': 'file_index', 'data': []}\n",
    "    y_axis = {'label': 'Mean Counts', 'data': []}\n",
    "    elements_to_plot = {} # ex U, U235...etc to plot\n",
    "    spectra_file = ''\n",
    "    \n",
    "    def __init__(self, parent=None, stack=[], working_folder='', o_reso=None):\n",
    "        QMainWindow.__init__(self, parent=parent)\n",
    "        self.ui = UiMainWindow()\n",
    "        self.ui.setupUi(self)\n",
    "        self.setWindowTitle(\"Select Rotation Angle for All Images\")\n",
    "\n",
    "        self.stack = np.array(stack)\n",
    "        self.integrated_stack = self.stack.sum(axis=0)\n",
    "        self.working_folder = working_folder\n",
    "        self.o_reso = o_reso\n",
    "        \n",
    "        self.initialize_pyqtgraph()\n",
    "        self.init_label()\n",
    "        self.init_list_of_things_to_plot()\n",
    "\n",
    "        self.display_image()\n",
    "        self.update_x_axis()\n",
    "        self.roi_changed()\n",
    "        \n",
    "    def update_plot(self):\n",
    "        self.update_x_axis()\n",
    "        self.plot()\n",
    "        \n",
    "    def init_label(self):\n",
    "        _tof_label = u\"TOF (\\u00B5s)\"\n",
    "        self.ui.tof_radio_button.setText(_tof_label)\n",
    "        _lambda_label = u\"lambda (\\u212B)\"\n",
    "        self.ui.lambda_radio_button.setText(_lambda_label)\n",
    "        _offset_label = u\"\\u00B5s\"\n",
    "        self.ui.detector_offset_units.setText(_offset_label)\n",
    "\n",
    "    def display_image(self):\n",
    "        self.ui.image_view.setImage(self.integrated_stack)\n",
    "\n",
    "    def plot(self):\n",
    "        x_axis_data = self.x_axis['data']\n",
    "        x_axis_label = self.x_axis['label']\n",
    "        \n",
    "        y_axis_data = self.y_axis['data']\n",
    "        y_axis_label = self.y_axis['label']\n",
    "        \n",
    "        x_axis_data = x_axis_data[0: len(y_axis_data)]\n",
    "        \n",
    "        self.counts_vs_index.clear()\n",
    "        try:\n",
    "            self.legend.scene().removeItem(self.legend)\n",
    "        except:\n",
    "            pass\n",
    "        self.legend = self.counts_vs_index.addLegend()     \n",
    "        self.counts_vs_index.plot(x_axis_data, y_axis_data, name='Experimental')\n",
    "        \n",
    "        self.counts_vs_index.setLabel('bottom', x_axis_label)\n",
    "        self.counts_vs_index.setLabel('left', y_axis_label)\n",
    "        \n",
    "        # plot all elements\n",
    "        elements_to_plot = self.elements_to_plot\n",
    "        _index_pen_color = 0\n",
    "        _index_pen_symbol = 0\n",
    "        for _label in elements_to_plot.keys():\n",
    "            _x_axis_data = elements_to_plot[_label]['x_axis']\n",
    "            _y_axis_data = elements_to_plot[_label]['y_axis']\n",
    "            self.counts_vs_index.plot(_x_axis_data, _y_axis_data, name=_label, \n",
    "                                      pen=self.pen_color[_index_pen_color],\n",
    "                                     penSymbol = self.pen_symbol[_index_pen_symbol])\n",
    "            _index_pen_color += 1\n",
    "            if _index_pen_color >= len(self.pen_color):\n",
    "                _index_pen_color = 0\n",
    "                _index_pen_symbol += 1\n",
    "                \n",
    "            if _index_pen_symbol == len(self.pen_symbol):\n",
    "                _index_pen_color = 0\n",
    "                _index_pen_symbol = 0\n",
    "                \n",
    "    def initialize_pyqtgraph(self):\n",
    "        area = DockArea()\n",
    "        area.setVisible(True)\n",
    "        d1 = Dock(\"Image Integrated Preview\", size=(200, 300))\n",
    "        d2 = Dock(\"Counts vs Image Index of Selection\", size=(200, 100))\n",
    "\n",
    "        area.addDock(d1, 'top')\n",
    "        area.addDock(d2, 'bottom')\n",
    "\n",
    "        preview_widget = pg.GraphicsLayoutWidget()\n",
    "        pg.setConfigOptions(antialias=True)\n",
    "\n",
    "        # image view\n",
    "        self.ui.image_view = pg.ImageView()\n",
    "        self.ui.image_view.ui.menuBtn.hide()\n",
    "        self.ui.image_view.ui.roiBtn.hide()\n",
    "\n",
    "        # default ROI\n",
    "        self.ui.roi = pg.ROI(\n",
    "            [0, 0], [20, 20], pen=(62, 13, 244), scaleSnap=True)  #blue\n",
    "        self.ui.roi.addScaleHandle([1, 1], [0, 0])\n",
    "        self.ui.image_view.addItem(self.ui.roi)\n",
    "        self.ui.roi.sigRegionChanged.connect(self.roi_changed)\n",
    "        d1.addWidget(self.ui.image_view)\n",
    "\n",
    "        self.counts_vs_index = pg.PlotWidget(title='')\n",
    "        self.counts_vs_index.plot()\n",
    "        d2.addWidget(self.counts_vs_index)\n",
    "\n",
    "        vertical_layout = QtGui.QVBoxLayout()\n",
    "        vertical_layout.addWidget(area)\n",
    "\n",
    "        self.ui.widget.setLayout(vertical_layout)\n",
    "\n",
    "    def roi_changed(self):\n",
    "        region = self.ui.roi.getArraySlice(self.integrated_stack,\n",
    "                                           self.ui.image_view.imageItem)\n",
    "        x0 = region[0][0].start\n",
    "        x1 = region[0][0].stop - 1\n",
    "        y0 = region[0][1].start\n",
    "        y1 = region[0][1].stop - 1\n",
    "\n",
    "        mean_selection = [_data[x0:x1, y0:y1].mean() for _data in self.stack]\n",
    "        self.y_axis['data'] = mean_selection\n",
    "        self.plot()\n",
    "\n",
    "    # x_axis\n",
    "    def get_x_axis_selected(self):\n",
    "        if self.ui.file_index_ratio_button.isChecked():\n",
    "            return 'file_index'\n",
    "        elif self.ui.tof_radio_button.isChecked():\n",
    "            return 'tof'\n",
    "        else:\n",
    "            return 'lambda'\n",
    "\n",
    "    def update_x_axis(self):\n",
    "        x_axis_selected = self.get_x_axis_selected()\n",
    "        \n",
    "        # enable or not list of element to display\n",
    "        if x_axis_selected == 'file_index':\n",
    "            list_status = False\n",
    "        else:\n",
    "            list_status = True\n",
    "        self.ui.list_to_plot_widget.setEnabled(list_status)\n",
    "\n",
    "        b_enable_only_file_index_button = False\n",
    "        \n",
    "        spectra_file = self.spectra_file\n",
    "        if not os.path.exists(spectra_file):\n",
    "            x_axis_selected = 'file_index'\n",
    "            b_enable_only_file_index_button = True\n",
    "\n",
    "        distance_source_detector = self.ui.distance_source_detector_value.text()\n",
    "        if not distance_source_detector:\n",
    "            x_axis_selected = 'file_index'\n",
    "            b_enable_only_file_index_button = True\n",
    "\n",
    "        elif not isinstance(float(distance_source_detector), numbers.Number):\n",
    "            x_axis_selected = 'file_index'\n",
    "            b_enable_only_file_index_button = True\n",
    "            \n",
    "        detector_offset = str(self.ui.detector_offset_value.text())\n",
    "        if not detector_offset:\n",
    "            x_axis_selected = 'file_index'\n",
    "            b_enable_only_file_index_button = True\n",
    "        elif not isinstance(float(detector_offset), numbers.Number):\n",
    "            x_axis_selected = 'file_index'\n",
    "            b_enable_only_file_index_button = True\n",
    "            \n",
    "        self.radio_buttons_status(b_enable_only_file_index_button = b_enable_only_file_index_button)\n",
    "            \n",
    "        self.x_axis['type'] = x_axis_selected\n",
    "        if x_axis_selected == 'file_index':\n",
    "            self.x_axis['data'] = np.arange(len(self.stack))\n",
    "            self.x_axis['label'] = 'File Index'\n",
    "        else:\n",
    "            _tof_handler = TOF(filename=spectra_file)\n",
    "            if x_axis_selected == 'tof':\n",
    "                self.x_axis['data'] = _tof_handler.tof_array\n",
    "                self.x_axis['label'] = u'TOF (\\u00B5s)'\n",
    "            else:\n",
    "                _exp = Experiment(tof = _tof_handler.tof_array, \n",
    "                                  distance_source_detector_m = float(distance_source_detector),\n",
    "                                  detector_offset_micros= float(detector_offset))\n",
    "                self.x_axis['data'] = _exp.lambda_array * 1e10\n",
    "                self.x_axis['label'] = u'\\u03BB (\\u212B)'\n",
    "\n",
    "    def radio_buttons_status(self, b_enable_only_file_index_button=False):\n",
    "        self.ui.tof_radio_button.setEnabled(not b_enable_only_file_index_button)\n",
    "        self.ui.lambda_radio_button.setEnabled(not b_enable_only_file_index_button)\n",
    "        self.ui.energy_radio_button.setEnabled(not b_enable_only_file_index_button)\n",
    "        if b_enable_only_file_index_button:\n",
    "            self.ui.file_index_ratio_button.setChecked(True)\n",
    "                \n",
    "    def radio_button_clicked(self):\n",
    "        self.update_plot()\n",
    "        \n",
    "    def distance_source_detector_validated(self):\n",
    "        self.update_plot()\n",
    "\n",
    "    def detector_offset_validated(self):\n",
    "        self.update_plot()\n",
    "\n",
    "    def time_spectra_file_browse_button_clicked(self):\n",
    "        spectra_file = QFileDialog.getOpenFileName(\n",
    "            caption='Select Time Spectra',\n",
    "            directory=self.working_folder,\n",
    "            filter='txt (*_Spectra.txt);;All (*.*)')\n",
    "        if spectra_file:\n",
    "            self.ui.time_spectra_file.setText(os.path.basename(spectra_file))\n",
    "            self.spectra_file = spectra_file\n",
    "            self.update_x_axis()\n",
    "            self.plot()\n",
    "\n",
    "    def init_list_of_things_to_plot(self):\n",
    "        list_things_to_plot = []\n",
    "        stack = self.o_reso.stack\n",
    "        list_layers = stack.keys()\n",
    "        for _layer in list_layers:\n",
    "            list_things_to_plot.append(_layer)\n",
    "            list_elements = stack[_layer]['elements']\n",
    "            for _element in list_elements:\n",
    "                list_things_to_plot.append(_layer + ' -> ' + _element)\n",
    "                list_isotopes = stack[_layer][_element]['isotopes']['list']\n",
    "                for _isotope in list_isotopes:\n",
    "                    list_things_to_plot.append(_layer + ' -> ' + _element + ' -> ' + _isotope)\n",
    "                    \n",
    "        self.ui.list_to_plot_widget.addItems(list_things_to_plot)\n",
    "        \n",
    "    def done_button_clicked(self):\n",
    "        self.close()\n",
    "\n",
    "    def plot_selection_changed(self, item):\n",
    "        _elements_to_plot = {}\n",
    "        \n",
    "        x_axis_selected = self.get_x_axis_selected()\n",
    "        if x_axis_selected == 'file_index':\n",
    "            self.elements_to_plot = _elements_to_plot\n",
    "            return\n",
    "\n",
    "        # retrieve data to display\n",
    "        for _item in self.ui.list_to_plot_widget.selectedIndexes():\n",
    "            _row_selected = _item.row()\n",
    "            _text = self.ui.list_to_plot_widget.item(_row_selected).text()\n",
    "            _layer_element_isotope = self.__parse_layer_element_isotope(_text)\n",
    "            \n",
    "            _layer = _layer_element_isotope['layer']\n",
    "            _element = _layer_element_isotope['element']\n",
    "            _isotope = _layer_element_isotope['isotope']\n",
    "            \n",
    "            if _element == '':\n",
    "                transmission = self.o_reso.stack_signal[_layer]['transmission']\n",
    "                x_axis_ev = self.o_reso.stack_signal[_layer]['energy_eV']\n",
    "            elif _isotope == '':\n",
    "                transmission = self.o_reso.stack_signal[_layer][_element]['transmission']\n",
    "                x_axis_ev = self.o_reso.stack_signal[_layer][_element]['energy_eV']\n",
    "            else:\n",
    "                transmission = self.o_reso.stack_signal[_layer][_element][_isotope]['transmission']\n",
    "                x_axis_ev = self.o_reso.stack_signal[_layer][_element][_isotope]['energy_eV']\n",
    "            \n",
    "            _elements_to_plot[_text] = {}\n",
    "            _elements_to_plot[_text]['y_axis'] = transmission\n",
    "            \n",
    "            x_axis = []\n",
    "            if x_axis_selected == 'lambda':\n",
    "                x_axis = self.o_reso.convert_x_axis(array=x_axis_ev, from_units='ev', to_units='angstroms')\n",
    "            elif x_axis_selected == 'tof':\n",
    "                detector_offset = float(self.ui.detector_offset_value.text())\n",
    "                distance_source_detector = float(self.ui.distance_source_detector_value.text())\n",
    "                x_axis = self.o_reso.convert_x_axis(array=x_axis_ev, from_units='ev', to_units='s',\n",
    "                                              delay_us = detector_offset,\n",
    "                                              source_to_detector_m = distance_source_detector)\n",
    "            _elements_to_plot[_text]['x_axis'] = x_axis\n",
    "            \n",
    "        self.elements_to_plot = _elements_to_plot\n",
    "        self.plot()\n",
    "        \n",
    "    def __parse_layer_element_isotope(self, text):\n",
    "        ''' this will create a dictionary of each data to plot\n",
    "        '''\n",
    "        _dict = {'layer': '',\n",
    "                'element': '',\n",
    "                'isotope': ''}\n",
    "        \n",
    "        parse_text = text.split(' -> ')\n",
    "        _dict['layer'] = parse_text[0]\n",
    "        if len(parse_text) >= 2:\n",
    "            _dict['element'] = parse_text[1]\n",
    "        if len(parse_text) >= 3:\n",
    "            _dict['isotope'] = parse_text[2]\n",
    "        \n",
    "        return _dict\n",
    "        \n",
    "    def closeEvent(self, event=None):\n",
    "        pass\n",
    "    \n"
   ]
  },
  {
   "cell_type": "code",
   "execution_count": 10,
   "metadata": {
    "run_control": {
     "marked": true
    }
   },
   "outputs": [],
   "source": [
    "o_reso = _sample.o_reso\n",
    "\n",
    "_image = ImageWindow(\n",
    "    stack=(o_norm.data['sample']['data']), working_folder=working_folder, o_reso=o_reso)\n",
    "_image.show()"
   ]
  },
  {
   "cell_type": "code",
   "execution_count": null,
   "metadata": {
    "collapsed": true
   },
   "outputs": [],
   "source": []
  },
  {
   "cell_type": "code",
   "execution_count": null,
   "metadata": {
    "collapsed": true
   },
   "outputs": [],
   "source": []
  },
  {
   "cell_type": "code",
   "execution_count": null,
   "metadata": {
    "collapsed": true
   },
   "outputs": [],
   "source": []
  },
  {
   "cell_type": "code",
   "execution_count": null,
   "metadata": {
    "collapsed": true
   },
   "outputs": [],
   "source": []
  },
  {
   "cell_type": "code",
   "execution_count": null,
   "metadata": {
    "collapsed": true
   },
   "outputs": [],
   "source": []
  },
  {
   "cell_type": "code",
   "execution_count": null,
   "metadata": {
    "collapsed": true
   },
   "outputs": [],
   "source": []
  },
  {
   "cell_type": "code",
   "execution_count": 9,
   "metadata": {
    "run_control": {
     "frozen": false,
     "read_only": false
    }
   },
   "outputs": [
    {
     "name": "stderr",
     "output_type": "stream",
     "text": [
      "/Users/j35/git/IPTS/notebooks/__code/display_counts_of_region_vs_stack_vs_theory.py:149: RuntimeWarning: Mean of empty slice.\n",
      "  mean_selection = [_data[y0:y1, x0:x1].mean() for _data in self.stack]\n",
      "/Users/j35/anaconda/envs/py35/lib/python3.5/site-packages/numpy/core/_methods.py:80: RuntimeWarning: invalid value encountered in true_divide\n",
      "  ret = ret.dtype.type(ret / rcount)\n",
      "/Users/j35/anaconda/envs/py35/lib/python3.5/site-packages/pyqtgraph/graphicsItems/PlotCurveItem.py:131: RuntimeWarning: All-NaN axis encountered\n",
      "  b = (np.nanmin(d), np.nanmax(d))\n",
      "/Users/j35/anaconda/envs/py35/lib/python3.5/site-packages/pyqtgraph/graphicsItems/PlotCurveItem.py:131: RuntimeWarning: All-NaN slice encountered\n",
      "  b = (np.nanmin(d), np.nanmax(d))\n"
     ]
    }
   ],
   "source": [
    "o_reso = _sample.o_reso\n",
    "\n",
    "_image = ImageWindow(\n",
    "    stack=(o_norm.data['sample']['data']), working_folder=working_folder, o_reso=o_reso)\n",
    "_image.show()"
   ]
  },
  {
   "cell_type": "code",
   "execution_count": null,
   "metadata": {
    "run_control": {
     "frozen": false,
     "read_only": false
    }
   },
   "outputs": [],
   "source": []
  }
 ],
 "metadata": {
  "anaconda-cloud": {},
  "kernelspec": {
   "display_name": "Python [conda env:py35]",
   "language": "python",
   "name": "conda-env-py35-py"
  },
  "language_info": {
   "codemirror_mode": {
    "name": "ipython",
    "version": 3
   },
   "file_extension": ".py",
   "mimetype": "text/x-python",
   "name": "python",
   "nbconvert_exporter": "python",
   "pygments_lexer": "ipython3",
   "version": "3.5.3"
  },
  "toc": {
   "colors": {
    "hover_highlight": "#DAA520",
    "running_highlight": "#FF0000",
    "selected_highlight": "#FFD700"
   },
   "moveMenuLeft": true,
   "nav_menu": {
    "height": "120px",
    "width": "252px"
   },
   "navigate_menu": true,
   "number_sections": true,
   "sideBar": true,
   "threshold": 4,
   "toc_cell": false,
   "toc_section_display": "block",
   "toc_window_display": false
  },
  "widgets": {
   "state": {
    "9b062f2ffa8e480095f7285a40b5931c": {
     "views": [
      {
       "cell_index": 9
      }
     ]
    }
   },
   "version": "1.2.0"
  }
 },
 "nbformat": 4,
 "nbformat_minor": 1
}
