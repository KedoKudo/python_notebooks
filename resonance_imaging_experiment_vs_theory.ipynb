{
 "cells": [
  {
   "cell_type": "code",
   "execution_count": 1,
   "metadata": {
    "run_control": {
     "frozen": false,
     "read_only": false
    }
   },
   "outputs": [],
   "source": [
    "debugging = True\n",
    "IPTS = 17685"
   ]
  },
  {
   "cell_type": "markdown",
   "metadata": {
    "run_control": {
     "frozen": false,
     "read_only": false
    }
   },
   "source": [
    "# Description "
   ]
  },
  {
   "cell_type": "markdown",
   "metadata": {
    "run_control": {
     "frozen": false,
     "read_only": false
    }
   },
   "source": [
    "Load a stack of images, select a region and then the average counts of the region vs the stack (index, TOF or lambda) will be displayed\n",
    "Then this average counts will be compared to the theory signal of a given set of layers."
   ]
  },
  {
   "cell_type": "markdown",
   "metadata": {
    "run_control": {
     "frozen": false,
     "read_only": false
    }
   },
   "source": [
    "# Notebook Initialization "
   ]
  },
  {
   "cell_type": "code",
   "execution_count": 2,
   "metadata": {
    "run_control": {
     "frozen": false,
     "read_only": false
    }
   },
   "outputs": [
    {
     "data": {
      "text/html": [
       "<style>\n",
       "\n",
       "/* The following CSS has been adapted from\n",
       "   http://nbviewer.ipython.org/github/ketch/teaching-numerics-with-notebooks/blob/master/Styling_notebooks.ipynb\n",
       "   by Aron Ahmadia and David Ketcheson and has been reused under CC BY 4.0\n",
       "   */\n",
       "\n",
       "/* main background */\n",
       "#site { \n",
       "    background: #888;\n",
       "    color: #red; \n",
       "}\n",
       "\n",
       "div.container {\n",
       "    width: 100% ! important;\n",
       "}\n",
       "\n",
       "div.cell { /* set cell width to about 80 chars */\n",
       "    width: 95%;\n",
       "}\n",
       "\n",
       "div #notebook { /* centre the content */\n",
       "/*    background: #fff; /* white background for content */\n",
       "    background: blue;\n",
       "    width: 100%;\n",
       "    margin: auto;\n",
       "    padding-left: 1em;\n",
       "    padding-right: 1em;\n",
       "    background-image: url(\"tile_background.jpg\");\n",
       "}\n",
       "\n",
       "#notebook li { /* More space between bullet points */\n",
       "    margin-top:0.4em;\n",
       "}\n",
       "\n",
       "/* change background color of running cells */\n",
       "div.cell.code_cell.running {\n",
       "/*    background-color: rgba(164,188,194,.75); */\n",
       "    background-color: green;\n",
       "    border-width: 8px\n",
       "    border-style: solid\n",
       "    border-color: #111;\n",
       "}\n",
       "\n",
       "/* Put a solid color box around each cell and its output, visually linking them together */\n",
       "div.cell.code_cell {\n",
       "    background-color: rgba(164,188,194,.25); /* Continuum L Gray with alpha 0.25 */\n",
       "    border-radius: 10px; /* rounded borders */\n",
       "    padding: 1em;\n",
       "    margin-top: 1em;\n",
       "}\n",
       "\n",
       "div.text_cell_render{\n",
       "\tfont-family: Georgia, Times, 'Times New Roman', serif;\n",
       "    line-height: 110%;\n",
       "    font-size: 105%;\n",
       "    width: 95%;\n",
       "    margin-left: auto;\n",
       "    margin-right: auto;\n",
       "}\n",
       "\n",
       "\n",
       "/* Formatting for header cells */\n",
       ".text_cell_render h1 {\n",
       "\tfont-family: Arial, 'Helvetica Neue', Helvetica, sans-serif;\n",
       "    font-weight: 400;\n",
       "    font-size: 30pt;\n",
       "    line-height: 100%;\n",
       "    color: rgb(37,55,70); /* Continuum Blue*/\n",
       "    margin-bottom: 0.1em;\n",
       "    margin-top: 0.1em;\n",
       "    display: block;\n",
       "}\n",
       ".text_cell_render h2 {\n",
       "\tfont-family: Arial, 'Helvetica Neue', Helvetica, sans-serif;\n",
       "    font-weight: 700;\n",
       "    font-size: 22pt;\n",
       "    line-height: 100%;\n",
       "    color: rgb(37,55,70);\n",
       "    margin-bottom: 0.1em;\n",
       "    margin-top: 0.1em;\n",
       "    display: block;\n",
       "}\n",
       "\n",
       ".text_cell_render h3 {\n",
       "\tfont-family: Arial, 'Helvetica Neue', Helvetica, sans-serif;\n",
       "    margin-top:12px;\n",
       "    margin-bottom: 3px;\n",
       "    font-style: italic;\n",
       "    color: rgb(37, 55, 70);\n",
       "}\n",
       "\n",
       ".text_cell_render h4 {\n",
       "\tfont-family: Arial, 'Helvetica Neue', Helvetica, sans-serif;\n",
       "}\n",
       "\n",
       ".text_cell_render h5 {\n",
       "\tfont-family: Arial, 'Helvetica Neue', Helvetica, sans-serif;\n",
       "    font-weight: 300;\n",
       "    font-size: 14pt;\n",
       "    font-style: italic;\n",
       "    margin-bottom: .1em;\n",
       "    margin-top: 0.1em;\n",
       "    display: block;\n",
       "}\n",
       "\n",
       ".text_cell_render h6 {\n",
       "\tfont-family: Arial, 'Helvetica Neue', Helvetica, sans-serif;\n",
       "    font-weight: 300;\n",
       "    font-size: 10pt;\n",
       "    margin-bottom: 1px;\n",
       "    margin-top: 1px;\n",
       "}\n",
       "\n",
       ".CodeMirror{\n",
       "        font-family: \"PT Mono\", fixed;\n",
       "        font-size: 100%;\n",
       "}\n",
       "\n",
       "#notebook_panel { /* main background */\n",
       "    background-image: url(\"tile_background.jpg\");\n",
       "}\n",
       "\n",
       "\n",
       "\n",
       "\n",
       "</style>\n"
      ],
      "text/plain": [
       "<IPython.core.display.HTML object>"
      ]
     },
     "execution_count": 2,
     "metadata": {},
     "output_type": "execute_result"
    }
   ],
   "source": [
    "from __code.__all import custom_style\n",
    "custom_style.style()"
   ]
  },
  {
   "cell_type": "code",
   "execution_count": 3,
   "metadata": {
    "run_control": {
     "frozen": false,
     "read_only": false
    }
   },
   "outputs": [],
   "source": [
    "%gui qt"
   ]
  },
  {
   "cell_type": "code",
   "execution_count": 4,
   "metadata": {
    "run_control": {
     "frozen": false,
     "marked": true,
     "read_only": false
    }
   },
   "outputs": [
    {
     "name": "stdout",
     "output_type": "stream",
     "text": [
      "Warning: QApplication was created before pyqtgraph was imported; there may be problems (to avoid bugs, call QApplication.setGraphicsSystem(\"raster\") before the QApplication is created).\n",
      "Working dir: /Volumes/my_book_thunderbolt_duo/IPTS/IPTS_17685\n"
     ]
    }
   ],
   "source": [
    "from __code.ui_builder import UiBuilder\n",
    "o_builder = UiBuilder(ui_name = 'ui_resonance_imaging_experiment_vs_theory.ui')\n",
    "o_builder = UiBuilder(ui_name = 'ui_resonance_imaging_layers_input.ui')\n",
    "\n",
    "from __code import file_handler, utilities, fileselector\n",
    "from __code.display_counts_of_region_vs_stack import ImageWindow\n",
    "from NeuNorm.normalization import Normalization\n",
    "from ImagingReso.resonance import Resonance\n",
    "\n",
    "if debugging:\n",
    "    ipts = IPTS\n",
    "else:\n",
    "    ipts = utilities.get_ipts()\n",
    "working_dir = utilities.get_working_dir(ipts=ipts, debugging=debugging)\n",
    "print(\"Working dir: {}\".format(working_dir))"
   ]
  },
  {
   "cell_type": "markdown",
   "metadata": {
    "run_control": {
     "frozen": false,
     "read_only": false
    }
   },
   "source": [
    "# Define Sample (temporaly location) "
   ]
  },
  {
   "cell_type": "code",
   "execution_count": 5,
   "metadata": {
    "run_control": {
     "frozen": false,
     "read_only": false
    }
   },
   "outputs": [],
   "source": [
    "import numpy as np\n",
    "import os\n",
    "import numbers\n",
    "\n",
    "try:\n",
    "    from PyQt4.QtGui import QFileDialog\n",
    "    from PyQt4 import QtCore, QtGui\n",
    "    from PyQt4.QtGui import QMainWindow\n",
    "except ImportError:\n",
    "    from PyQt5.QtWidgets import QFileDialog\n",
    "    from PyQt5 import QtCore, QtGui\n",
    "    from PyQt5.QtWidgets import QApplication\n",
    "\n",
    "from __code.ui_resonance_imaging_layers_input import Ui_MainWindow as UiSampleMainWindow"
   ]
  },
  {
   "cell_type": "code",
   "execution_count": 8,
   "metadata": {
    "run_control": {
     "frozen": false,
     "read_only": false
    }
   },
   "outputs": [],
   "source": [
    "class SampleWindow(QMainWindow):\n",
    "    \n",
    "    debugging = False\n",
    "    stack = {} # used to initialize ImagingReso\n",
    "    \n",
    "    def __init__(self, parent=None, debugging=False):\n",
    "        QMainWindow.__init__(self, parent=parent)\n",
    "        self.ui = UiSampleMainWindow()\n",
    "        self.ui.setupUi(self)\n",
    "        self.setWindowTitle(\"Define Sample Layers\")\n",
    "    \n",
    "        self.debugging = debugging\n",
    "        \n",
    "        self.initialize_ui()\n",
    "        self.__debugging()\n",
    "        \n",
    "    def __debugging(self):\n",
    "        '''Fill the table for debugging only!'''\n",
    "        if not debugging:\n",
    "            return\n",
    "        \n",
    "        _debug_table = [['CoAg','Co,Ag','1,1','20','0.9'],\n",
    "                        ['Uranium','U','1','10','0.5']]\n",
    "        for _row_index,_row in enumerate(_debug_table):\n",
    "            for _col_index, _entry in enumerate(_row):\n",
    "                _item = QtGui.QTableWidgetItem(_entry)\n",
    "                self.ui.layer_table.setItem(_row_index, _col_index, _item)\n",
    "        \n",
    "    def initialize_ui(self):\n",
    "        self.ui.check_groupBox.setVisible(False)\n",
    "        \n",
    "        _column_width = [300, 100, 100, 100, 100]\n",
    "        for _index, _width in enumerate(_column_width):\n",
    "            self.ui.layer_table.setColumnWidth(_index, _width)\n",
    "            self.ui.example_table.setColumnWidth(_index, _width)\n",
    "            \n",
    "        _column_width = [80, 90, 90, 100]\n",
    "        for _index, _width in enumerate(_column_width):\n",
    "            self.ui.element_table.setColumnWidth(_index, _width)\n",
    "        \n",
    "    def validate_table_input_clicked(self):\n",
    "        # collect table input\n",
    "        nbr_row = self.ui.layer_table.rowCount()\n",
    "        _table_dictionary = {}\n",
    "        for _row_index in range(nbr_row):\n",
    "            _dict = {}\n",
    "            _layer_name = self.get_table_item(_row_index, 0)\n",
    "            if _layer_name == '':\n",
    "                break\n",
    "            _dict['elements'] = self.format_string_to_array(string=self.get_table_item(_row_index, 1), data_type='str')\n",
    "            _dict['stoichiometric_ratio'] = self.format_string_to_array(string=self.get_table_item(_row_index, 2), data_type='float')\n",
    "            _dict['thickness'] = {'value': float(self.get_table_item(_row_index, 3)),\n",
    "                                  'units': 'mm'}\n",
    "            _dict['density'] = {'value': float(self.get_table_item(_row_index, 4)),\n",
    "                                'units': 'g/cm3'}\n",
    "            _table_dictionary[_layer_name] = _dict\n",
    "        self.stack = _table_dictionary\n",
    "        o_reso = Resonance(stack=self.stack)\n",
    "        self.o_reso = o_reso\n",
    "        \n",
    "        self.fill_check_groupBox()\n",
    "        self.ui.check_groupBox.setVisible(True)        \n",
    "        \n",
    "    def format_string_to_array(self, string='', data_type='str'):\n",
    "        _parsed_string = string.split(',')\n",
    "        result = []\n",
    "        for _entry in _parsed_string:\n",
    "            if data_type == 'str':\n",
    "                result.append(str(_entry))\n",
    "            elif data_type == 'float':\n",
    "                result.append(float(_entry))\n",
    "            else:\n",
    "                raise ValueError(\"data_type not supported!\")\n",
    "        return result\n",
    "    \n",
    "    def get_table_item(self, row, col):\n",
    "        _item = self.ui.layer_table.item(row, col)\n",
    "        if _item is None:\n",
    "            return ''\n",
    "        _text = _item.text().strip()\n",
    "        return _text\n",
    "\n",
    "    def fill_check_groupBox(self):\n",
    "        # fill layer's name\n",
    "        _stack = self.o_reso.stack\n",
    "        layers_name = list(_stack.keys())\n",
    "        self.ui.layer_name_combobox.clear()\n",
    "        self.ui.layer_name_combobox.addItems(layers_name)\n",
    "        \n",
    "    def element_combobox_clicked(self, element_selected):\n",
    "        layer_selected = self.ui.layer_name_combobox.currentText()\n",
    "        if layer_selected == '':\n",
    "            return\n",
    "        if element_selected == '':\n",
    "            return\n",
    "        \n",
    "        _entry = self.stack[layer_selected][element_selected]\n",
    "        number_of_atoms = float(self.stack[layer_selected]['atoms_per_cm3'][element_selected])\n",
    "        self.ui.element_number_of_atoms.setText(\"{:6.3e}\".format(number_of_atoms))\n",
    "        density = str(self.stack[layer_selected][element_selected]['density']['value'])\n",
    "        self.ui.element_density.setText(density)\n",
    "        molar_mass = str(self.stack[layer_selected][element_selected]['molar_mass']['value'])\n",
    "        self.ui.element_molar_mass.setText(molar_mass)\n",
    "        \n",
    "        self.fill_isotopes_table(element_selected)\n",
    "        \n",
    "    def fill_isotopes_table(self, element_selected=''):\n",
    "        self.clear_isotopes_table()\n",
    "        layer_selected = self.ui.layer_name_combobox.currentText()\n",
    "        element_selected = self.ui.element_name_combobox.currentText()\n",
    "        _entry = self.stack[layer_selected][element_selected]['isotopes']\n",
    "        list_iso = _entry['list']\n",
    "        list_density = _entry['density']['value']\n",
    "        list_iso_ratio = _entry['isotopic_ratio']\n",
    "        list_mass = _entry['mass']['value']\n",
    "        \n",
    "        nbr_iso = len(list_iso)\n",
    "        for _row in range(nbr_iso):\n",
    "            self.ui.element_table.insertRow(_row)\n",
    "\n",
    "            # iso name\n",
    "            _item = QtGui.QTableWidgetItem(list_iso[_row])\n",
    "            _item.setFlags(QtCore.Qt.NoItemFlags)\n",
    "            self.ui.element_table.setItem(_row, 0, _item)\n",
    "\n",
    "            # density\n",
    "            _item = QtGui.QTableWidgetItem(\"{:6.3e}\".format(list_density[_row]))\n",
    "            self.ui.element_table.setItem(_row, 1, _item)\n",
    "            \n",
    "            # iso. ratio\n",
    "            _item = QtGui.QTableWidgetItem(\"{:6.3e}\".format(list_iso_ratio[_row]))\n",
    "            self.ui.element_table.setItem(_row, 2, _item)\n",
    "            \n",
    "            # molar mass\n",
    "            _item = QtGui.QTableWidgetItem(\"{:6.3e}\".format(list_mass[_row]))\n",
    "            _item.setFlags(QtCore.Qt.NoItemFlags)\n",
    "            self.ui.element_table.setItem(_row, 3, _item)\n",
    "\n",
    "        self.calculate_sum_iso_ratio()\n",
    "            \n",
    "    def clear_isotopes_table(self):\n",
    "        nbr_row = self.ui.element_table.rowCount()\n",
    "        for _row in range(nbr_row):\n",
    "            self.ui.element_table.removeRow(0)\n",
    "\n",
    "    def calculate_sum_iso_ratio(self):\n",
    "        nbr_row = self.ui.element_table.rowCount()\n",
    "        total_iso_ratio = 0\n",
    "        for _row in range(nbr_row):\n",
    "            _iso_ratio = float(self.ui.element_table.item(_row, 2).text())\n",
    "            total_iso_ratio += _iso_ratio\n",
    "        self.ui.total_iso_ratio.setText(\"{:.2f}\".format(total_iso_ratio))\n",
    "            \n",
    "    def layer_combobox_clicked(self, layer_selected):\n",
    "        list_elements = self.stack[layer_selected]['elements']\n",
    "        \n",
    "        # fill list of elements for this layer\n",
    "        self.ui.element_name_combobox.clear()\n",
    "        self.ui.element_name_combobox.addItems(list_elements)\n",
    "        \n",
    "        # fill info for this layer\n",
    "        _layer = self.stack[layer_selected]\n",
    "        thickness = str(_layer['thickness']['value'])\n",
    "        self.ui.layer_thickness.setText(thickness)\n",
    "        density = str(_layer['density']['value'])\n",
    "        self.ui.layer_density.setText(density)\n",
    "        \n",
    "    def element_table_edited(self, row, col):\n",
    "        if col == 2:\n",
    "            self.calculate_sum_iso_ratio()\n",
    "\n",
    "_sample = SampleWindow(parent=None, debugging=debugging)\n",
    "_sample.show()"
   ]
  },
  {
   "cell_type": "code",
   "execution_count": null,
   "metadata": {
    "run_control": {
     "frozen": false,
     "read_only": false
    }
   },
   "outputs": [],
   "source": []
  },
  {
   "cell_type": "code",
   "execution_count": null,
   "metadata": {
    "run_control": {
     "frozen": false,
     "read_only": false
    }
   },
   "outputs": [],
   "source": []
  },
  {
   "cell_type": "markdown",
   "metadata": {
    "cell_style": "split",
    "run_control": {
     "frozen": false,
     "read_only": false
    }
   },
   "source": [
    "# Select Stack Folder"
   ]
  },
  {
   "cell_type": "code",
   "execution_count": 6,
   "metadata": {
    "format": "tab",
    "run_control": {
     "frozen": false,
     "read_only": false
    }
   },
   "outputs": [
    {
     "data": {
      "text/html": [
       "\n",
       "        <style type=\"text/css\">\n",
       "        .jupyter-widgets select option {\n",
       "            font-family: \"Lucida Console\", Monaco, monospace;\n",
       "        }\n",
       "        </style>\n",
       "        "
      ],
      "text/plain": [
       "<IPython.core.display.HTML object>"
      ]
     },
     "metadata": {},
     "output_type": "display_data"
    },
    {
     "data": {
      "application/vnd.jupyter.widget-view+json": {
       "model_id": "64e95a00bcbe4b368e7d671d6d059b3e"
      }
     },
     "metadata": {},
     "output_type": "display_data"
    }
   ],
   "source": [
    "input_folder_ui = fileselector.FileSelectorPanel(instruction='Select Input Folder', type='directory', start_dir=working_dir, multiple=False)\n",
    "input_folder_ui.show()"
   ]
  },
  {
   "cell_type": "markdown",
   "metadata": {
    "run_control": {
     "frozen": false,
     "read_only": false
    }
   },
   "source": [
    "# Load Stack"
   ]
  },
  {
   "cell_type": "code",
   "execution_count": 7,
   "metadata": {
    "run_control": {
     "frozen": false,
     "read_only": false
    }
   },
   "outputs": [
    {
     "data": {
      "application/vnd.jupyter.widget-view+json": {
       "model_id": "b29212d3a6aa4187acb2f2e8b5d21afb"
      }
     },
     "metadata": {},
     "output_type": "display_data"
    }
   ],
   "source": [
    "working_folder = input_folder_ui.result_full_path()\n",
    "o_norm = Normalization()\n",
    "o_norm.load(folder=working_folder, notebook=True)"
   ]
  },
  {
   "cell_type": "markdown",
   "metadata": {
    "run_control": {
     "frozen": false,
     "read_only": false
    }
   },
   "source": [
    "# Define Sample "
   ]
  },
  {
   "cell_type": "code",
   "execution_count": null,
   "metadata": {
    "run_control": {
     "frozen": false,
     "read_only": false
    }
   },
   "outputs": [],
   "source": []
  },
  {
   "cell_type": "markdown",
   "metadata": {
    "run_control": {
     "frozen": false,
     "read_only": false
    }
   },
   "source": [
    "# Select Region and display Counts vs file_index (or time)"
   ]
  },
  {
   "cell_type": "code",
   "execution_count": 8,
   "metadata": {
    "run_control": {
     "frozen": false,
     "read_only": false
    }
   },
   "outputs": [],
   "source": [
    "_image = ImageWindow(\n",
    "    stack=(o_norm.data['sample']['data']), working_folder=working_folder)\n",
    "_image.show()"
   ]
  },
  {
   "cell_type": "code",
   "execution_count": null,
   "metadata": {
    "run_control": {
     "frozen": false,
     "read_only": false
    }
   },
   "outputs": [],
   "source": []
  }
 ],
 "metadata": {
  "anaconda-cloud": {},
  "kernelspec": {
   "display_name": "Python [conda env:py35]",
   "language": "python",
   "name": "conda-env-py35-py"
  },
  "language_info": {
   "codemirror_mode": {
    "name": "ipython",
    "version": 3
   },
   "file_extension": ".py",
   "mimetype": "text/x-python",
   "name": "python",
   "nbconvert_exporter": "python",
   "pygments_lexer": "ipython3",
   "version": "3.5.3"
  },
  "toc": {
   "colors": {
    "hover_highlight": "#DAA520",
    "running_highlight": "#FF0000",
    "selected_highlight": "#FFD700"
   },
   "moveMenuLeft": true,
   "nav_menu": {
    "height": "120px",
    "width": "252px"
   },
   "navigate_menu": true,
   "number_sections": true,
   "sideBar": true,
   "threshold": 4,
   "toc_cell": false,
   "toc_section_display": "block",
   "toc_window_display": false
  },
  "widgets": {
   "state": {
    "9b062f2ffa8e480095f7285a40b5931c": {
     "views": [
      {
       "cell_index": 9
      }
     ]
    }
   },
   "version": "1.2.0"
  }
 },
 "nbformat": 4,
 "nbformat_minor": 1
}
