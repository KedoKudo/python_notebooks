{
 "cells": [
  {
   "cell_type": "markdown",
   "metadata": {
    "run_control": {
     "frozen": false,
     "read_only": false
    }
   },
   "source": [
    "# Select Your IPTS "
   ]
  },
  {
   "cell_type": "code",
   "execution_count": 1,
   "metadata": {
    "run_control": {
     "frozen": false,
     "read_only": false
    }
   },
   "outputs": [],
   "source": [
    "# #from __code.filename_metadata_match import FilenameMetadataMatch\n",
    "\n",
    "# from __code import system\n",
    "# system.System.select_working_dir()\n",
    "# from __code.__all import custom_style\n",
    "# custom_style.style()"
   ]
  },
  {
   "cell_type": "code",
   "execution_count": 2,
   "metadata": {
    "run_control": {
     "frozen": false,
     "read_only": false
    }
   },
   "outputs": [
    {
     "data": {
      "text/html": [
       "\n",
       "<style type=\"text/css\">\n",
       ".jupyter-widgets select option {font-family: \"Lucida Console\", Monaco, monospace;}\n",
       ".jupyter-widgets select {width: 98%;}\n",
       "div.output_subarea {padding: 0px;}\n",
       "div.output_subarea > div {margin: 0.4em;}\n",
       "</style>\n"
      ],
      "text/plain": [
       "<IPython.core.display.HTML object>"
      ]
     },
     "metadata": {},
     "output_type": "display_data"
    }
   ],
   "source": [
    "import ipywe.fileselector\n",
    "from IPython.core.display import HTML\n",
    "from __code.time_utility import RetrieveTimeStamp\n",
    "import os\n",
    "\n",
    "class FilenameMetadataMatch(object):\n",
    "\n",
    "    data_folder = ''\n",
    "    metadata_file = ''\n",
    "    \n",
    "    list_data_time_stamp = None\n",
    "    \n",
    "    def __init__(self, working_dir='./'):\n",
    "        self.working_dir = working_dir\n",
    "\n",
    "    def select_input_folder(self):\n",
    "        _instruction = \"Select Input Folder ...\"\n",
    "        self.input_folder_ui = ipywe.fileselector.FileSelectorPanel(instruction=_instruction,\n",
    "                                                                    start_dir=self.working_dir,\n",
    "                                                                    next=self.select_input_folder_done,\n",
    "                                                                    type='directory',\n",
    "                                                                   )\n",
    "        self.input_folder_ui.show()\n",
    "        \n",
    "    def select_input_folder_done(self, folder):\n",
    "        self.data_folder = folder\n",
    "        display(HTML('Folder Selected: <span style=\"font-size: 20px; color:green\">' + folder))\n",
    "\n",
    "    def select_metadata_file(self):\n",
    "        _instruction = \"Select Metadata File ...\"\n",
    "        self.metadata_ui = ipywe.fileselector.FileSelectorPanel(instruction=_instruction,\n",
    "                                                                start_dir=self.working_dir,\n",
    "                                                                next=self.select_metadata_file_done,\n",
    "                                                               )\n",
    "        self.metadata_ui.show()\n",
    "        \n",
    "    def select_metadata_file_done(self, metadata_file):\n",
    "        self.metadata_file = metadata_file\n",
    "        display(HTML('Metadata File Selected: <span style=\"font-size: 20px; color:green\">' + metadata_file))\n",
    "        \n",
    "    def retrieve_time_stamp(self):\n",
    "        o_retriever = RetrieveTimeStamp(folder=self.data_folder)\n",
    "        o_retriever._run()\n",
    "        self.list_data_time_stamp = o_retriever\n",
    "    \n",
    "    def load_metadata(self):\n",
    "        metadata_file = self.metadata_file\n",
    "    "
   ]
  },
  {
   "cell_type": "markdown",
   "metadata": {
    "run_control": {
     "frozen": false,
     "read_only": false
    }
   },
   "source": [
    "# Select Input Folder "
   ]
  },
  {
   "cell_type": "markdown",
   "metadata": {},
   "source": [
    "This is where we select the folder of images that we will need to match with the metadat "
   ]
  },
  {
   "cell_type": "code",
   "execution_count": 6,
   "metadata": {
    "run_control": {
     "frozen": false,
     "read_only": false
    }
   },
   "outputs": [
    {
     "data": {
      "application/vnd.jupyter.widget-view+json": {
       "model_id": "",
       "version_major": 2,
       "version_minor": 0
      },
      "text/plain": [
       "VBox(children=(Label(value='Select Input Folder ...', layout=Layout(width='250px')), VBox(children=(HBox(child…"
      ]
     },
     "metadata": {},
     "output_type": "display_data"
    },
    {
     "data": {
      "text/html": [
       "Folder Selected: <span style=\"font-size: 20px; color:green\">/Volumes/my_book_thunderbolt_duo/IPTS/IPTS-20444-Regina/images"
      ],
      "text/plain": [
       "<IPython.core.display.HTML object>"
      ]
     },
     "metadata": {},
     "output_type": "display_data"
    }
   ],
   "source": [
    "#o_match = FilenameMetadataMatch(working_dir=system.System.get_working_dir())\n",
    "o_match = FilenameMetadataMatch(working_dir='/Volumes/my_book_thunderbolt_duo/IPTS/IPTS-20444-Regina/')\n",
    "o_match.select_input_folder()"
   ]
  },
  {
   "cell_type": "markdown",
   "metadata": {
    "run_control": {
     "frozen": false,
     "read_only": false
    }
   },
   "source": [
    "# Select Metadata File "
   ]
  },
  {
   "cell_type": "markdown",
   "metadata": {},
   "source": [
    "We need to select here the metadata file (*.mpt)"
   ]
  },
  {
   "cell_type": "code",
   "execution_count": 7,
   "metadata": {
    "run_control": {
     "frozen": false,
     "read_only": false
    }
   },
   "outputs": [
    {
     "data": {
      "application/vnd.jupyter.widget-view+json": {
       "model_id": "",
       "version_major": 2,
       "version_minor": 0
      },
      "text/plain": [
       "VBox(children=(Label(value='Select Metadata File ...', layout=Layout(width='250px')), VBox(children=(HBox(chil…"
      ]
     },
     "metadata": {},
     "output_type": "display_data"
    },
    {
     "data": {
      "text/html": [
       "Metadata File Selected: <span style=\"font-size: 20px; color:green\">/Volumes/my_book_thunderbolt_duo/IPTS/IPTS-20444-Regina/metadata_files/A49-4_StableCycling_RT_EIS_C01.mpt"
      ],
      "text/plain": [
       "<IPython.core.display.HTML object>"
      ]
     },
     "metadata": {},
     "output_type": "display_data"
    }
   ],
   "source": [
    "o_match.select_metadata_file()"
   ]
  },
  {
   "cell_type": "markdown",
   "metadata": {
    "run_control": {
     "frozen": false,
     "read_only": false
    }
   },
   "source": [
    "# Retrieve Time Stamp"
   ]
  },
  {
   "cell_type": "code",
   "execution_count": 9,
   "metadata": {
    "run_control": {
     "frozen": false,
     "read_only": false
    }
   },
   "outputs": [],
   "source": [
    "o_match.retrieve_time_stamp()"
   ]
  },
  {
   "cell_type": "markdown",
   "metadata": {
    "run_control": {
     "frozen": false,
     "read_only": false
    }
   },
   "source": [
    "# Load Metadata File"
   ]
  },
  {
   "cell_type": "markdown",
   "metadata": {
    "run_control": {
     "frozen": false,
     "read_only": false
    }
   },
   "source": [
    "# DEBUGGING STARTS HERE"
   ]
  },
  {
   "cell_type": "code",
   "execution_count": 1,
   "metadata": {
    "run_control": {
     "frozen": false,
     "read_only": false
    }
   },
   "outputs": [
    {
     "name": "stdout",
     "output_type": "stream",
     "text": [
      "Loading file: /Volumes/my_book_thunderbolt_duo/git//standards/ASCII/ocv_metadata.mpt\n"
     ]
    }
   ],
   "source": [
    "import pandas as pd\n",
    "import codecs\n",
    "from __code.file_handler import get_file_extension\n",
    "from ipywidgets import widgets\n",
    "import os\n",
    "import pprint\n",
    "\n",
    "#metadata_file = o_match.metadata_file\n",
    "import glob\n",
    "import platform\n",
    "\n",
    "if platform.node() == 'mac95470':\n",
    "    git_dir = os.path.abspath(os.path.expanduser('~/git/'))\n",
    "else:\n",
    "    git_dir = '/Volumes/my_book_thunderbolt_duo/git/'\n",
    "    \n",
    "metadata_list_files = glob.glob(git_dir + '/standards/ASCII/*.mpt')\n",
    "\n",
    "index_file = 2\n",
    "\n",
    "metadata_file = metadata_list_files[index_file]\n",
    "print(\"Loading file: {}\".format(metadata_file))\n",
    "\n",
    "assert os.path.exists(metadata_file)"
   ]
  },
  {
   "cell_type": "code",
   "execution_count": 2,
   "metadata": {},
   "outputs": [
    {
     "name": "stdout",
     "output_type": "stream",
     "text": [
      "/Volumes/my_book_thunderbolt_duo/git//standards/ASCII/ocv_metadata.mpt\n"
     ]
    }
   ],
   "source": [
    "print(metadata_file)"
   ]
  },
  {
   "cell_type": "markdown",
   "metadata": {
    "run_control": {
     "frozen": false,
     "read_only": false
    }
   },
   "source": [
    "**Allow users to define:**\n",
    "\n",
    " * reference_line_showing_end_of_metadata\n",
    " * start_of_data_after_how_many_lines_from_reference_line\n",
    " * index or label of time info column in big table"
   ]
  },
  {
   "cell_type": "code",
   "execution_count": 3,
   "metadata": {},
   "outputs": [
    {
     "data": {
      "text/html": [
       "\n",
       "<style type=\"text/css\">\n",
       ".jupyter-widgets select option {font-family: \"Lucida Console\", Monaco, monospace;}\n",
       ".jupyter-widgets select {width: 98%;}\n",
       "div.output_subarea {padding: 0px;}\n",
       "div.output_subarea > div {margin: 0.4em;}\n",
       "</style>\n"
      ],
      "text/plain": [
       "<IPython.core.display.HTML object>"
      ]
     },
     "metadata": {},
     "output_type": "display_data"
    }
   ],
   "source": [
    "from __code.metadata_ascii_parser import *"
   ]
  },
  {
   "cell_type": "code",
   "execution_count": 4,
   "metadata": {
    "run_control": {
     "frozen": false,
     "read_only": false
    }
   },
   "outputs": [],
   "source": [
    "o_meta = MetadataFileParser(filename=metadata_file, \n",
    "                            meta_type='mpt',\n",
    "                            time_label='time/s',\n",
    "                            reference_line_showing_end_of_metadata='Number of loops',\n",
    "                            end_of_metadata_after_how_many_lines_from_reference_line=1)\n",
    "o_meta.parse()"
   ]
  },
  {
   "cell_type": "code",
   "execution_count": 5,
   "metadata": {
    "run_control": {
     "frozen": false,
     "read_only": false
    }
   },
   "outputs": [
    {
     "data": {
      "application/vnd.jupyter.widget-view+json": {
       "model_id": "33dc9cb866bf41729bc1d778d2b392eb",
       "version_major": 2,
       "version_minor": 0
      },
      "text/plain": [
       "HBox(children=(Label(value='Select Metadata(s) to Keep:', layout=Layout(width='30%')), SelectMultiple(index=(4…"
      ]
     },
     "metadata": {},
     "output_type": "display_data"
    }
   ],
   "source": [
    "o_meta.select_data_to_keep()"
   ]
  },
  {
   "cell_type": "code",
   "execution_count": 7,
   "metadata": {},
   "outputs": [
    {
     "data": {
      "application/vnd.jupyter.widget-view+json": {
       "model_id": "",
       "version_major": 2,
       "version_minor": 0
      },
      "text/plain": [
       "HBox(children=(Label(value='Output File Name:', layout=Layout(width='20%')), Text(value='ocv_metadata_3columns…"
      ]
     },
     "metadata": {},
     "output_type": "display_data"
    },
    {
     "data": {
      "application/vnd.jupyter.widget-view+json": {
       "model_id": "",
       "version_major": 2,
       "version_minor": 0
      },
      "text/plain": [
       "VBox(children=(Label(value='Select Output Folder:', layout=Layout(width='250px')), VBox(children=(HBox(childre…"
      ]
     },
     "metadata": {},
     "output_type": "display_data"
    }
   ],
   "source": [
    "o_meta.keep_only_columns_of_data_of_interest()\n",
    "o_meta.select_output_location()"
   ]
  },
  {
   "cell_type": "code",
   "execution_count": 8,
   "metadata": {},
   "outputs": [],
   "source": [
    "data = o_meta.get_data()"
   ]
  },
  {
   "cell_type": "code",
   "execution_count": 9,
   "metadata": {},
   "outputs": [],
   "source": [
    "metadata_to_keep = np.array(o_meta.box.children[1].value)"
   ]
  },
  {
   "cell_type": "code",
   "execution_count": 10,
   "metadata": {},
   "outputs": [],
   "source": [
    "new_data = data[metadata_to_keep]"
   ]
  },
  {
   "cell_type": "code",
   "execution_count": 17,
   "metadata": {},
   "outputs": [
    {
     "data": {
      "text/html": [
       "<div>\n",
       "<style scoped>\n",
       "    .dataframe tbody tr th:only-of-type {\n",
       "        vertical-align: middle;\n",
       "    }\n",
       "\n",
       "    .dataframe tbody tr th {\n",
       "        vertical-align: top;\n",
       "    }\n",
       "\n",
       "    .dataframe thead th {\n",
       "        text-align: right;\n",
       "    }\n",
       "</style>\n",
       "<table border=\"1\" class=\"dataframe\">\n",
       "  <thead>\n",
       "    <tr style=\"text-align: right;\">\n",
       "      <th></th>\n",
       "      <th>TimeStamp</th>\n",
       "      <th>Ewe/V</th>\n",
       "      <th>Unnamed: 4</th>\n",
       "      <th>time_user_format</th>\n",
       "    </tr>\n",
       "  </thead>\n",
       "  <tbody>\n",
       "    <tr>\n",
       "      <th>0</th>\n",
       "      <td>1.536357e+09</td>\n",
       "      <td>-0.002688</td>\n",
       "      <td>NaN</td>\n",
       "      <td>09/07/2018 17:57:35</td>\n",
       "    </tr>\n",
       "    <tr>\n",
       "      <th>1</th>\n",
       "      <td>1.536357e+09</td>\n",
       "      <td>-0.005781</td>\n",
       "      <td>NaN</td>\n",
       "      <td>09/07/2018 17:57:35</td>\n",
       "    </tr>\n",
       "    <tr>\n",
       "      <th>2</th>\n",
       "      <td>1.536357e+09</td>\n",
       "      <td>-0.004483</td>\n",
       "      <td>NaN</td>\n",
       "      <td>09/07/2018 17:57:35</td>\n",
       "    </tr>\n",
       "    <tr>\n",
       "      <th>3</th>\n",
       "      <td>1.536357e+09</td>\n",
       "      <td>0.001055</td>\n",
       "      <td>NaN</td>\n",
       "      <td>09/07/2018 17:57:35</td>\n",
       "    </tr>\n",
       "    <tr>\n",
       "      <th>4</th>\n",
       "      <td>1.536357e+09</td>\n",
       "      <td>-0.009238</td>\n",
       "      <td>NaN</td>\n",
       "      <td>09/07/2018 17:57:35</td>\n",
       "    </tr>\n",
       "    <tr>\n",
       "      <th>5</th>\n",
       "      <td>1.536357e+09</td>\n",
       "      <td>-0.006660</td>\n",
       "      <td>NaN</td>\n",
       "      <td>09/07/2018 17:57:35</td>\n",
       "    </tr>\n",
       "    <tr>\n",
       "      <th>6</th>\n",
       "      <td>1.536357e+09</td>\n",
       "      <td>-0.001943</td>\n",
       "      <td>NaN</td>\n",
       "      <td>09/07/2018 17:57:35</td>\n",
       "    </tr>\n",
       "    <tr>\n",
       "      <th>7</th>\n",
       "      <td>1.536357e+09</td>\n",
       "      <td>0.001036</td>\n",
       "      <td>NaN</td>\n",
       "      <td>09/07/2018 17:57:35</td>\n",
       "    </tr>\n",
       "    <tr>\n",
       "      <th>8</th>\n",
       "      <td>1.536357e+09</td>\n",
       "      <td>-0.001656</td>\n",
       "      <td>NaN</td>\n",
       "      <td>09/07/2018 17:57:35</td>\n",
       "    </tr>\n",
       "    <tr>\n",
       "      <th>9</th>\n",
       "      <td>1.536357e+09</td>\n",
       "      <td>0.000043</td>\n",
       "      <td>NaN</td>\n",
       "      <td>09/07/2018 17:57:35</td>\n",
       "    </tr>\n",
       "    <tr>\n",
       "      <th>10</th>\n",
       "      <td>1.536357e+09</td>\n",
       "      <td>-0.004578</td>\n",
       "      <td>NaN</td>\n",
       "      <td>09/07/2018 17:57:35</td>\n",
       "    </tr>\n",
       "    <tr>\n",
       "      <th>11</th>\n",
       "      <td>1.536357e+09</td>\n",
       "      <td>0.000922</td>\n",
       "      <td>NaN</td>\n",
       "      <td>09/07/2018 17:57:35</td>\n",
       "    </tr>\n",
       "    <tr>\n",
       "      <th>12</th>\n",
       "      <td>1.536357e+09</td>\n",
       "      <td>0.004073</td>\n",
       "      <td>NaN</td>\n",
       "      <td>09/07/2018 17:57:35</td>\n",
       "    </tr>\n",
       "    <tr>\n",
       "      <th>13</th>\n",
       "      <td>1.536357e+09</td>\n",
       "      <td>-0.006889</td>\n",
       "      <td>NaN</td>\n",
       "      <td>09/07/2018 17:57:35</td>\n",
       "    </tr>\n",
       "    <tr>\n",
       "      <th>14</th>\n",
       "      <td>1.536357e+09</td>\n",
       "      <td>-0.004769</td>\n",
       "      <td>NaN</td>\n",
       "      <td>09/07/2018 17:57:35</td>\n",
       "    </tr>\n",
       "    <tr>\n",
       "      <th>15</th>\n",
       "      <td>1.536357e+09</td>\n",
       "      <td>-0.007328</td>\n",
       "      <td>NaN</td>\n",
       "      <td>09/07/2018 17:57:35</td>\n",
       "    </tr>\n",
       "    <tr>\n",
       "      <th>16</th>\n",
       "      <td>1.536357e+09</td>\n",
       "      <td>-0.009257</td>\n",
       "      <td>NaN</td>\n",
       "      <td>09/07/2018 17:57:35</td>\n",
       "    </tr>\n",
       "    <tr>\n",
       "      <th>17</th>\n",
       "      <td>1.536357e+09</td>\n",
       "      <td>-0.019379</td>\n",
       "      <td>NaN</td>\n",
       "      <td>09/07/2018 17:57:35</td>\n",
       "    </tr>\n",
       "    <tr>\n",
       "      <th>18</th>\n",
       "      <td>1.536357e+09</td>\n",
       "      <td>-0.025108</td>\n",
       "      <td>NaN</td>\n",
       "      <td>09/07/2018 17:57:35</td>\n",
       "    </tr>\n",
       "    <tr>\n",
       "      <th>19</th>\n",
       "      <td>1.536357e+09</td>\n",
       "      <td>0.001915</td>\n",
       "      <td>NaN</td>\n",
       "      <td>09/07/2018 17:57:35</td>\n",
       "    </tr>\n",
       "    <tr>\n",
       "      <th>20</th>\n",
       "      <td>1.536357e+09</td>\n",
       "      <td>-0.018004</td>\n",
       "      <td>NaN</td>\n",
       "      <td>09/07/2018 17:57:35</td>\n",
       "    </tr>\n",
       "    <tr>\n",
       "      <th>21</th>\n",
       "      <td>1.536357e+09</td>\n",
       "      <td>-0.012446</td>\n",
       "      <td>NaN</td>\n",
       "      <td>09/07/2018 17:57:35</td>\n",
       "    </tr>\n",
       "    <tr>\n",
       "      <th>22</th>\n",
       "      <td>1.536357e+09</td>\n",
       "      <td>-0.010002</td>\n",
       "      <td>NaN</td>\n",
       "      <td>09/07/2018 17:57:35</td>\n",
       "    </tr>\n",
       "    <tr>\n",
       "      <th>23</th>\n",
       "      <td>1.536357e+09</td>\n",
       "      <td>-0.002917</td>\n",
       "      <td>NaN</td>\n",
       "      <td>09/07/2018 17:57:35</td>\n",
       "    </tr>\n",
       "    <tr>\n",
       "      <th>24</th>\n",
       "      <td>1.536357e+09</td>\n",
       "      <td>-0.009945</td>\n",
       "      <td>NaN</td>\n",
       "      <td>09/07/2018 17:57:35</td>\n",
       "    </tr>\n",
       "    <tr>\n",
       "      <th>25</th>\n",
       "      <td>1.536357e+09</td>\n",
       "      <td>-0.015712</td>\n",
       "      <td>NaN</td>\n",
       "      <td>09/07/2018 17:57:35</td>\n",
       "    </tr>\n",
       "    <tr>\n",
       "      <th>26</th>\n",
       "      <td>1.536357e+09</td>\n",
       "      <td>-0.004273</td>\n",
       "      <td>NaN</td>\n",
       "      <td>09/07/2018 17:57:35</td>\n",
       "    </tr>\n",
       "    <tr>\n",
       "      <th>27</th>\n",
       "      <td>1.536357e+09</td>\n",
       "      <td>-0.016724</td>\n",
       "      <td>NaN</td>\n",
       "      <td>09/07/2018 17:57:35</td>\n",
       "    </tr>\n",
       "    <tr>\n",
       "      <th>28</th>\n",
       "      <td>1.536357e+09</td>\n",
       "      <td>-0.011320</td>\n",
       "      <td>NaN</td>\n",
       "      <td>09/07/2018 17:57:35</td>\n",
       "    </tr>\n",
       "    <tr>\n",
       "      <th>29</th>\n",
       "      <td>1.536357e+09</td>\n",
       "      <td>-0.015387</td>\n",
       "      <td>NaN</td>\n",
       "      <td>09/07/2018 17:57:35</td>\n",
       "    </tr>\n",
       "    <tr>\n",
       "      <th>...</th>\n",
       "      <td>...</td>\n",
       "      <td>...</td>\n",
       "      <td>...</td>\n",
       "      <td>...</td>\n",
       "    </tr>\n",
       "    <tr>\n",
       "      <th>129</th>\n",
       "      <td>1.536357e+09</td>\n",
       "      <td>-0.017297</td>\n",
       "      <td>NaN</td>\n",
       "      <td>09/07/2018 17:57:35</td>\n",
       "    </tr>\n",
       "    <tr>\n",
       "      <th>130</th>\n",
       "      <td>1.536357e+09</td>\n",
       "      <td>-0.008302</td>\n",
       "      <td>NaN</td>\n",
       "      <td>09/07/2018 17:57:35</td>\n",
       "    </tr>\n",
       "    <tr>\n",
       "      <th>131</th>\n",
       "      <td>1.536357e+09</td>\n",
       "      <td>-0.010575</td>\n",
       "      <td>NaN</td>\n",
       "      <td>09/07/2018 17:57:35</td>\n",
       "    </tr>\n",
       "    <tr>\n",
       "      <th>132</th>\n",
       "      <td>1.536357e+09</td>\n",
       "      <td>-0.016132</td>\n",
       "      <td>NaN</td>\n",
       "      <td>09/07/2018 17:57:35</td>\n",
       "    </tr>\n",
       "    <tr>\n",
       "      <th>133</th>\n",
       "      <td>1.536357e+09</td>\n",
       "      <td>-0.005991</td>\n",
       "      <td>NaN</td>\n",
       "      <td>09/07/2018 17:57:35</td>\n",
       "    </tr>\n",
       "    <tr>\n",
       "      <th>134</th>\n",
       "      <td>1.536357e+09</td>\n",
       "      <td>-0.007806</td>\n",
       "      <td>NaN</td>\n",
       "      <td>09/07/2018 17:57:35</td>\n",
       "    </tr>\n",
       "    <tr>\n",
       "      <th>135</th>\n",
       "      <td>1.536357e+09</td>\n",
       "      <td>-0.008990</td>\n",
       "      <td>NaN</td>\n",
       "      <td>09/07/2018 17:57:35</td>\n",
       "    </tr>\n",
       "    <tr>\n",
       "      <th>136</th>\n",
       "      <td>1.536357e+09</td>\n",
       "      <td>-0.007825</td>\n",
       "      <td>NaN</td>\n",
       "      <td>09/07/2018 17:57:35</td>\n",
       "    </tr>\n",
       "    <tr>\n",
       "      <th>137</th>\n",
       "      <td>1.536357e+09</td>\n",
       "      <td>-0.006354</td>\n",
       "      <td>NaN</td>\n",
       "      <td>09/07/2018 17:57:35</td>\n",
       "    </tr>\n",
       "    <tr>\n",
       "      <th>138</th>\n",
       "      <td>1.536357e+09</td>\n",
       "      <td>-0.007577</td>\n",
       "      <td>NaN</td>\n",
       "      <td>09/07/2018 17:57:35</td>\n",
       "    </tr>\n",
       "    <tr>\n",
       "      <th>139</th>\n",
       "      <td>1.536357e+09</td>\n",
       "      <td>-0.003814</td>\n",
       "      <td>NaN</td>\n",
       "      <td>09/07/2018 17:57:35</td>\n",
       "    </tr>\n",
       "    <tr>\n",
       "      <th>140</th>\n",
       "      <td>1.536357e+09</td>\n",
       "      <td>-0.007462</td>\n",
       "      <td>NaN</td>\n",
       "      <td>09/07/2018 17:57:35</td>\n",
       "    </tr>\n",
       "    <tr>\n",
       "      <th>141</th>\n",
       "      <td>1.536357e+09</td>\n",
       "      <td>-0.008493</td>\n",
       "      <td>NaN</td>\n",
       "      <td>09/07/2018 17:57:35</td>\n",
       "    </tr>\n",
       "    <tr>\n",
       "      <th>142</th>\n",
       "      <td>1.536357e+09</td>\n",
       "      <td>-0.004177</td>\n",
       "      <td>NaN</td>\n",
       "      <td>09/07/2018 17:57:35</td>\n",
       "    </tr>\n",
       "    <tr>\n",
       "      <th>143</th>\n",
       "      <td>1.536357e+09</td>\n",
       "      <td>-0.000721</td>\n",
       "      <td>NaN</td>\n",
       "      <td>09/07/2018 17:57:35</td>\n",
       "    </tr>\n",
       "    <tr>\n",
       "      <th>144</th>\n",
       "      <td>1.536357e+09</td>\n",
       "      <td>-0.007882</td>\n",
       "      <td>NaN</td>\n",
       "      <td>09/07/2018 17:57:35</td>\n",
       "    </tr>\n",
       "    <tr>\n",
       "      <th>145</th>\n",
       "      <td>1.536357e+09</td>\n",
       "      <td>-0.005113</td>\n",
       "      <td>NaN</td>\n",
       "      <td>09/07/2018 17:57:35</td>\n",
       "    </tr>\n",
       "    <tr>\n",
       "      <th>146</th>\n",
       "      <td>1.536357e+09</td>\n",
       "      <td>-0.002974</td>\n",
       "      <td>NaN</td>\n",
       "      <td>09/07/2018 17:57:35</td>\n",
       "    </tr>\n",
       "    <tr>\n",
       "      <th>147</th>\n",
       "      <td>1.536357e+09</td>\n",
       "      <td>-0.005533</td>\n",
       "      <td>NaN</td>\n",
       "      <td>09/07/2018 17:57:35</td>\n",
       "    </tr>\n",
       "    <tr>\n",
       "      <th>148</th>\n",
       "      <td>1.536357e+09</td>\n",
       "      <td>-0.007042</td>\n",
       "      <td>NaN</td>\n",
       "      <td>09/07/2018 17:57:35</td>\n",
       "    </tr>\n",
       "    <tr>\n",
       "      <th>149</th>\n",
       "      <td>1.536357e+09</td>\n",
       "      <td>-0.003986</td>\n",
       "      <td>NaN</td>\n",
       "      <td>09/07/2018 17:57:35</td>\n",
       "    </tr>\n",
       "    <tr>\n",
       "      <th>150</th>\n",
       "      <td>1.536357e+09</td>\n",
       "      <td>0.001285</td>\n",
       "      <td>NaN</td>\n",
       "      <td>09/07/2018 17:57:35</td>\n",
       "    </tr>\n",
       "    <tr>\n",
       "      <th>151</th>\n",
       "      <td>1.536357e+09</td>\n",
       "      <td>-0.002745</td>\n",
       "      <td>NaN</td>\n",
       "      <td>09/07/2018 17:57:35</td>\n",
       "    </tr>\n",
       "    <tr>\n",
       "      <th>152</th>\n",
       "      <td>1.536357e+09</td>\n",
       "      <td>0.002488</td>\n",
       "      <td>NaN</td>\n",
       "      <td>09/07/2018 17:57:35</td>\n",
       "    </tr>\n",
       "    <tr>\n",
       "      <th>153</th>\n",
       "      <td>1.536357e+09</td>\n",
       "      <td>0.000502</td>\n",
       "      <td>NaN</td>\n",
       "      <td>09/07/2018 17:57:35</td>\n",
       "    </tr>\n",
       "    <tr>\n",
       "      <th>154</th>\n",
       "      <td>1.536357e+09</td>\n",
       "      <td>-0.005037</td>\n",
       "      <td>NaN</td>\n",
       "      <td>09/07/2018 17:57:35</td>\n",
       "    </tr>\n",
       "    <tr>\n",
       "      <th>155</th>\n",
       "      <td>1.536357e+09</td>\n",
       "      <td>-0.003184</td>\n",
       "      <td>NaN</td>\n",
       "      <td>09/07/2018 17:57:35</td>\n",
       "    </tr>\n",
       "    <tr>\n",
       "      <th>156</th>\n",
       "      <td>1.536357e+09</td>\n",
       "      <td>-0.000301</td>\n",
       "      <td>NaN</td>\n",
       "      <td>09/07/2018 17:57:35</td>\n",
       "    </tr>\n",
       "    <tr>\n",
       "      <th>157</th>\n",
       "      <td>1.536357e+09</td>\n",
       "      <td>-0.014528</td>\n",
       "      <td>NaN</td>\n",
       "      <td>09/07/2018 17:57:35</td>\n",
       "    </tr>\n",
       "    <tr>\n",
       "      <th>158</th>\n",
       "      <td>1.536357e+09</td>\n",
       "      <td>-0.016380</td>\n",
       "      <td>NaN</td>\n",
       "      <td>09/07/2018 17:57:35</td>\n",
       "    </tr>\n",
       "  </tbody>\n",
       "</table>\n",
       "<p>159 rows × 4 columns</p>\n",
       "</div>"
      ],
      "text/plain": [
       "        TimeStamp     Ewe/V  Unnamed: 4     time_user_format\n",
       "0    1.536357e+09 -0.002688         NaN  09/07/2018 17:57:35\n",
       "1    1.536357e+09 -0.005781         NaN  09/07/2018 17:57:35\n",
       "2    1.536357e+09 -0.004483         NaN  09/07/2018 17:57:35\n",
       "3    1.536357e+09  0.001055         NaN  09/07/2018 17:57:35\n",
       "4    1.536357e+09 -0.009238         NaN  09/07/2018 17:57:35\n",
       "5    1.536357e+09 -0.006660         NaN  09/07/2018 17:57:35\n",
       "6    1.536357e+09 -0.001943         NaN  09/07/2018 17:57:35\n",
       "7    1.536357e+09  0.001036         NaN  09/07/2018 17:57:35\n",
       "8    1.536357e+09 -0.001656         NaN  09/07/2018 17:57:35\n",
       "9    1.536357e+09  0.000043         NaN  09/07/2018 17:57:35\n",
       "10   1.536357e+09 -0.004578         NaN  09/07/2018 17:57:35\n",
       "11   1.536357e+09  0.000922         NaN  09/07/2018 17:57:35\n",
       "12   1.536357e+09  0.004073         NaN  09/07/2018 17:57:35\n",
       "13   1.536357e+09 -0.006889         NaN  09/07/2018 17:57:35\n",
       "14   1.536357e+09 -0.004769         NaN  09/07/2018 17:57:35\n",
       "15   1.536357e+09 -0.007328         NaN  09/07/2018 17:57:35\n",
       "16   1.536357e+09 -0.009257         NaN  09/07/2018 17:57:35\n",
       "17   1.536357e+09 -0.019379         NaN  09/07/2018 17:57:35\n",
       "18   1.536357e+09 -0.025108         NaN  09/07/2018 17:57:35\n",
       "19   1.536357e+09  0.001915         NaN  09/07/2018 17:57:35\n",
       "20   1.536357e+09 -0.018004         NaN  09/07/2018 17:57:35\n",
       "21   1.536357e+09 -0.012446         NaN  09/07/2018 17:57:35\n",
       "22   1.536357e+09 -0.010002         NaN  09/07/2018 17:57:35\n",
       "23   1.536357e+09 -0.002917         NaN  09/07/2018 17:57:35\n",
       "24   1.536357e+09 -0.009945         NaN  09/07/2018 17:57:35\n",
       "25   1.536357e+09 -0.015712         NaN  09/07/2018 17:57:35\n",
       "26   1.536357e+09 -0.004273         NaN  09/07/2018 17:57:35\n",
       "27   1.536357e+09 -0.016724         NaN  09/07/2018 17:57:35\n",
       "28   1.536357e+09 -0.011320         NaN  09/07/2018 17:57:35\n",
       "29   1.536357e+09 -0.015387         NaN  09/07/2018 17:57:35\n",
       "..            ...       ...         ...                  ...\n",
       "129  1.536357e+09 -0.017297         NaN  09/07/2018 17:57:35\n",
       "130  1.536357e+09 -0.008302         NaN  09/07/2018 17:57:35\n",
       "131  1.536357e+09 -0.010575         NaN  09/07/2018 17:57:35\n",
       "132  1.536357e+09 -0.016132         NaN  09/07/2018 17:57:35\n",
       "133  1.536357e+09 -0.005991         NaN  09/07/2018 17:57:35\n",
       "134  1.536357e+09 -0.007806         NaN  09/07/2018 17:57:35\n",
       "135  1.536357e+09 -0.008990         NaN  09/07/2018 17:57:35\n",
       "136  1.536357e+09 -0.007825         NaN  09/07/2018 17:57:35\n",
       "137  1.536357e+09 -0.006354         NaN  09/07/2018 17:57:35\n",
       "138  1.536357e+09 -0.007577         NaN  09/07/2018 17:57:35\n",
       "139  1.536357e+09 -0.003814         NaN  09/07/2018 17:57:35\n",
       "140  1.536357e+09 -0.007462         NaN  09/07/2018 17:57:35\n",
       "141  1.536357e+09 -0.008493         NaN  09/07/2018 17:57:35\n",
       "142  1.536357e+09 -0.004177         NaN  09/07/2018 17:57:35\n",
       "143  1.536357e+09 -0.000721         NaN  09/07/2018 17:57:35\n",
       "144  1.536357e+09 -0.007882         NaN  09/07/2018 17:57:35\n",
       "145  1.536357e+09 -0.005113         NaN  09/07/2018 17:57:35\n",
       "146  1.536357e+09 -0.002974         NaN  09/07/2018 17:57:35\n",
       "147  1.536357e+09 -0.005533         NaN  09/07/2018 17:57:35\n",
       "148  1.536357e+09 -0.007042         NaN  09/07/2018 17:57:35\n",
       "149  1.536357e+09 -0.003986         NaN  09/07/2018 17:57:35\n",
       "150  1.536357e+09  0.001285         NaN  09/07/2018 17:57:35\n",
       "151  1.536357e+09 -0.002745         NaN  09/07/2018 17:57:35\n",
       "152  1.536357e+09  0.002488         NaN  09/07/2018 17:57:35\n",
       "153  1.536357e+09  0.000502         NaN  09/07/2018 17:57:35\n",
       "154  1.536357e+09 -0.005037         NaN  09/07/2018 17:57:35\n",
       "155  1.536357e+09 -0.003184         NaN  09/07/2018 17:57:35\n",
       "156  1.536357e+09 -0.000301         NaN  09/07/2018 17:57:35\n",
       "157  1.536357e+09 -0.014528         NaN  09/07/2018 17:57:35\n",
       "158  1.536357e+09 -0.016380         NaN  09/07/2018 17:57:35\n",
       "\n",
       "[159 rows x 4 columns]"
      ]
     },
     "execution_count": 17,
     "metadata": {},
     "output_type": "execute_result"
    }
   ],
   "source": [
    "my_data = new_data.reset_index()\n",
    "my_data.rename(index=str, columns={\"index\": \"TimeStamp\"})"
   ]
  },
  {
   "cell_type": "code",
   "execution_count": null,
   "metadata": {},
   "outputs": [],
   "source": []
  }
 ],
 "metadata": {
  "kernelspec": {
   "display_name": "Python 3",
   "language": "python",
   "name": "python3"
  },
  "language_info": {
   "codemirror_mode": {
    "name": "ipython",
    "version": 3
   },
   "file_extension": ".py",
   "mimetype": "text/x-python",
   "name": "python",
   "nbconvert_exporter": "python",
   "pygments_lexer": "ipython3",
   "version": "3.6.7"
  },
  "toc": {
   "colors": {
    "hover_highlight": "#DAA520",
    "running_highlight": "#FF0000",
    "selected_highlight": "#FFD700"
   },
   "moveMenuLeft": true,
   "nav_menu": {
    "height": "66px",
    "width": "252px"
   },
   "navigate_menu": true,
   "number_sections": true,
   "sideBar": true,
   "threshold": 4,
   "toc_cell": false,
   "toc_section_display": "block",
   "toc_window_display": false
  }
 },
 "nbformat": 4,
 "nbformat_minor": 2
}
