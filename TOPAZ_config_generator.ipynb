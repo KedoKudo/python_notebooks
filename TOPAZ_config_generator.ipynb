{
 "cells": [
  {
   "cell_type": "markdown",
   "metadata": {
    "run_control": {
     "frozen": false,
     "read_only": false
    }
   },
   "source": [
    "# Select Instrument "
   ]
  },
  {
   "cell_type": "code",
   "execution_count": 1,
   "metadata": {
    "run_control": {
     "frozen": false,
     "read_only": false
    }
   },
   "outputs": [
    {
     "name": "stdout",
     "output_type": "stream",
     "text": [
      "** Using Debugging Mode! **\n"
     ]
    },
    {
     "data": {
      "application/vnd.jupyter.widget-view+json": {
       "model_id": "6647ab162e104cec9b02c971a47b2f20",
       "version_major": 2,
       "version_minor": 0
      },
      "text/html": [
       "<p>Failed to display Jupyter Widget of type <code>HBox</code>.</p>\n",
       "<p>\n",
       "  If you're reading this message in the Jupyter Notebook or JupyterLab Notebook, it may mean\n",
       "  that the widgets JavaScript is still loading. If this message persists, it\n",
       "  likely means that the widgets JavaScript library is either not installed or\n",
       "  not enabled. See the <a href=\"https://ipywidgets.readthedocs.io/en/stable/user_install.html\">Jupyter\n",
       "  Widgets Documentation</a> for setup instructions.\n",
       "</p>\n",
       "<p>\n",
       "  If you're reading this message in another frontend (for example, a static\n",
       "  rendering on GitHub or <a href=\"https://nbviewer.jupyter.org/\">NBViewer</a>),\n",
       "  it may mean that your frontend doesn't currently support widgets.\n",
       "</p>\n"
      ],
      "text/plain": [
       "HBox(children=(Label(value='Select Working Folder', layout=Layout(width='20%')), Select(options=('IPTS_18813',), value='IPTS_18813')))"
      ]
     },
     "metadata": {},
     "output_type": "display_data"
    },
    {
     "data": {
      "text/html": [
       "<style>\n",
       "\n",
       "/* The following CSS has been adapted from\n",
       "   http://nbviewer.ipython.org/github/ketch/teaching-numerics-with-notebooks/blob/master/Styling_notebooks.ipynb\n",
       "   by Aron Ahmadia and David Ketcheson and has been reused under CC BY 4.0\n",
       "   */\n",
       "\n",
       "/* main background */\n",
       "#site { \n",
       "    background: #888;\n",
       "    color: #red; \n",
       "}\n",
       "\n",
       "div.container {\n",
       "    width: 100% ! important;\n",
       "}\n",
       "\n",
       "div.cell { /* set cell width to about 80 chars */\n",
       "    width: 95%;\n",
       "}\n",
       "\n",
       "div #notebook { /* centre the content */\n",
       "/*    background: #fff; /* white background for content */\n",
       "    background: blue;\n",
       "    width: 100%;\n",
       "    margin: auto;\n",
       "    padding-left: 1em;\n",
       "    padding-right: 1em;\n",
       "    background-image: url(\"tile_background.jpg\");\n",
       "}\n",
       "\n",
       "#notebook li { /* More space between bullet points */\n",
       "    margin-top:0.4em;\n",
       "}\n",
       "\n",
       "/* change background color of running cells */\n",
       "div.cell.code_cell.running {\n",
       "/*    background-color: rgba(164,188,194,.75); */\n",
       "    background-color: green;\n",
       "    border-width: 8px\n",
       "    border-style: solid\n",
       "    border-color: #111;\n",
       "}\n",
       "\n",
       "/* Put a solid color box around each cell and its output, visually linking them together */\n",
       "div.cell.code_cell {\n",
       "    background-color: rgba(164,188,194,.25); /* Continuum L Gray with alpha 0.25 */\n",
       "    border-radius: 10px; /* rounded borders */\n",
       "    padding: 1em;\n",
       "    margin-top: 1em;\n",
       "}\n",
       "\n",
       "div.text_cell_render{\n",
       "\tfont-family: Georgia, Times, 'Times New Roman', serif;\n",
       "    line-height: 110%;\n",
       "    font-size: 105%;\n",
       "    width: 95%;\n",
       "    margin-left: auto;\n",
       "    margin-right: auto;\n",
       "}\n",
       "\n",
       "\n",
       "/* Formatting for header cells */\n",
       ".text_cell_render h1 {\n",
       "\tfont-family: Arial, 'Helvetica Neue', Helvetica, sans-serif;\n",
       "    font-weight: 400;\n",
       "    font-size: 30pt;\n",
       "    line-height: 100%;\n",
       "    color: rgb(37,55,70); /* Continuum Blue*/\n",
       "    margin-bottom: 0.1em;\n",
       "    margin-top: 0.1em;\n",
       "    display: block;\n",
       "}\n",
       ".text_cell_render h2 {\n",
       "\tfont-family: Arial, 'Helvetica Neue', Helvetica, sans-serif;\n",
       "    font-weight: 700;\n",
       "    font-size: 22pt;\n",
       "    line-height: 100%;\n",
       "    color: rgb(37,55,70);\n",
       "    margin-bottom: 0.1em;\n",
       "    margin-top: 0.1em;\n",
       "    display: block;\n",
       "}\n",
       "\n",
       ".text_cell_render h3 {\n",
       "\tfont-family: Arial, 'Helvetica Neue', Helvetica, sans-serif;\n",
       "    margin-top:12px;\n",
       "    margin-bottom: 3px;\n",
       "    font-style: italic;\n",
       "    color: rgb(37, 55, 70);\n",
       "}\n",
       "\n",
       ".text_cell_render h4 {\n",
       "\tfont-family: Arial, 'Helvetica Neue', Helvetica, sans-serif;\n",
       "}\n",
       "\n",
       ".text_cell_render h5 {\n",
       "\tfont-family: Arial, 'Helvetica Neue', Helvetica, sans-serif;\n",
       "    font-weight: 300;\n",
       "    font-size: 14pt;\n",
       "    font-style: italic;\n",
       "    margin-bottom: .1em;\n",
       "    margin-top: 0.1em;\n",
       "    display: block;\n",
       "}\n",
       "\n",
       ".text_cell_render h6 {\n",
       "\tfont-family: Arial, 'Helvetica Neue', Helvetica, sans-serif;\n",
       "    font-weight: 300;\n",
       "    font-size: 10pt;\n",
       "    margin-bottom: 1px;\n",
       "    margin-top: 1px;\n",
       "}\n",
       "\n",
       ".CodeMirror{\n",
       "        font-family: \"PT Mono\", fixed;\n",
       "        font-size: 100%;\n",
       "}\n",
       "\n",
       "#notebook_panel { /* main background */\n",
       "    background-image: url(\"tile_background.jpg\");\n",
       "}\n",
       "\n",
       "\n",
       "\n",
       "\n",
       "</style>\n"
      ],
      "text/plain": [
       "<IPython.core.display.HTML object>"
      ]
     },
     "execution_count": 1,
     "metadata": {},
     "output_type": "execute_result"
    }
   ],
   "source": [
    "from __code import system\n",
    "system.System.select_working_dir(system_folder='/SNS/TOPAZ/')\n",
    "from __code.__all import custom_style\n",
    "custom_style.style()"
   ]
  },
  {
   "cell_type": "markdown",
   "metadata": {
    "run_control": {
     "frozen": false,
     "read_only": false
    }
   },
   "source": [
    "# Python Import "
   ]
  },
  {
   "cell_type": "code",
   "execution_count": 127,
   "metadata": {
    "run_control": {
     "frozen": false,
     "read_only": false
    }
   },
   "outputs": [],
   "source": [
    "import glob\n",
    "from ipywidgets import widgets\n",
    "import ipywe.fileselector\n",
    "import os\n",
    "\n",
    "import traitlets\n",
    "from IPython.core.display import HTML\n",
    "from IPython.display import display"
   ]
  },
  {
   "cell_type": "markdown",
   "metadata": {
    "run_control": {
     "frozen": false,
     "read_only": false
    }
   },
   "source": [
    "# Description "
   ]
  },
  {
   "cell_type": "markdown",
   "metadata": {
    "run_control": {
     "frozen": false,
     "read_only": false
    }
   },
   "source": [
    "This notebook will generate the config file used for auto-reduction for the TOPAZ instrument."
   ]
  },
  {
   "cell_type": "markdown",
   "metadata": {
    "run_control": {
     "frozen": false,
     "read_only": false
    }
   },
   "source": [
    "# User Input"
   ]
  },
  {
   "cell_type": "code",
   "execution_count": 3,
   "metadata": {
    "run_control": {
     "frozen": false,
     "read_only": false
    }
   },
   "outputs": [
    {
     "data": {
      "text/html": [
       "<h2>Specify calibration file(s)</h2><br>SNAP requires two calibration files, one for each bank.              If the default detector position is to be used, specify <strong>None</strong> as the calibration file name."
      ],
      "text/plain": [
       "<IPython.core.display.HTML object>"
      ]
     },
     "metadata": {},
     "output_type": "display_data"
    },
    {
     "data": {
      "application/vnd.jupyter.widget-view+json": {
       "model_id": "7c8214d28c474a9bb91e597864837699",
       "version_major": 2,
       "version_minor": 0
      },
      "text/html": [
       "<p>Failed to display Jupyter Widget of type <code>HBox</code>.</p>\n",
       "<p>\n",
       "  If you're reading this message in the Jupyter Notebook or JupyterLab Notebook, it may mean\n",
       "  that the widgets JavaScript is still loading. If this message persists, it\n",
       "  likely means that the widgets JavaScript library is either not installed or\n",
       "  not enabled. See the <a href=\"https://ipywidgets.readthedocs.io/en/stable/user_install.html\">Jupyter\n",
       "  Widgets Documentation</a> for setup instructions.\n",
       "</p>\n",
       "<p>\n",
       "  If you're reading this message in another frontend (for example, a static\n",
       "  rendering on GitHub or <a href=\"https://nbviewer.jupyter.org/\">NBViewer</a>),\n",
       "  it may mean that your frontend doesn't currently support widgets.\n",
       "</p>\n"
      ],
      "text/plain": [
       "HBox(children=(Label(value='Calibration File #1:', layout=Layout(width='10%')), Dropdown(layout=Layout(width='60%'), options=('None',), value='None')))"
      ]
     },
     "metadata": {},
     "output_type": "display_data"
    }
   ],
   "source": [
    "# calibration files\n",
    "working_file = system.System.get_working_dir()\n",
    "\n",
    "calib_folder = os.path.dirname(working_file)\n",
    "list_of_calibration_file = glob.glob(os.path.join(calib_folder, 'shared/calibrations') + '/2017C/*.DetCal')\n",
    "list_of_calibration_file.append('None')                            \n",
    "\n",
    "display(HTML(\"<h2>Specify calibration file(s)</h2><br>SNAP requires two calibration files, one for each bank. \\\n",
    "             If the default detector position is to be used, specify <strong>None</strong> as the calibration file name.\"))\n",
    "\n",
    "calibration1_ui = widgets.HBox([widgets.Label(\"Calibration File #1:\",\n",
    "                                             layout=widgets.Layout(width='10%')),\n",
    "                               widgets.Dropdown(options=list_of_calibration_file,\n",
    "                                                layout=widgets.Layout(width='60%'))])\n",
    "\n",
    "display(calibration1_ui)"
   ]
  },
  {
   "cell_type": "code",
   "execution_count": 4,
   "metadata": {
    "run_control": {
     "frozen": false,
     "read_only": false
    }
   },
   "outputs": [
    {
     "data": {
      "text/html": [
       "<h2>Goniometer z Offset Correction</h2><br>Test correction for Goniometer z offset"
      ],
      "text/plain": [
       "<IPython.core.display.HTML object>"
      ]
     },
     "metadata": {},
     "output_type": "display_data"
    },
    {
     "data": {
      "application/vnd.jupyter.widget-view+json": {
       "model_id": "c2741b0614b94a7fbf1ca544b4c6ee49",
       "version_major": 2,
       "version_minor": 0
      },
      "text/html": [
       "<p>Failed to display Jupyter Widget of type <code>VBox</code>.</p>\n",
       "<p>\n",
       "  If you're reading this message in the Jupyter Notebook or JupyterLab Notebook, it may mean\n",
       "  that the widgets JavaScript is still loading. If this message persists, it\n",
       "  likely means that the widgets JavaScript library is either not installed or\n",
       "  not enabled. See the <a href=\"https://ipywidgets.readthedocs.io/en/stable/user_install.html\">Jupyter\n",
       "  Widgets Documentation</a> for setup instructions.\n",
       "</p>\n",
       "<p>\n",
       "  If you're reading this message in another frontend (for example, a static\n",
       "  rendering on GitHub or <a href=\"https://nbviewer.jupyter.org/\">NBViewer</a>),\n",
       "  it may mean that your frontend doesn't currently support widgets.\n",
       "</p>\n"
      ],
      "text/plain": [
       "VBox(children=(HBox(children=(Label(value='z_offset:', layout=Layout(width='5%')), FloatSlider(value=0.0, continuous_update=False, layout=Layout(width='30%'), max=10.0, min=-10.0))), HBox(children=(Label(value='x_offset:', layout=Layout(width='5%')), FloatSlider(value=0.0, continuous_update=False, layout=Layout(width='30%'), max=10.0, min=-10.0)))))"
      ]
     },
     "metadata": {},
     "output_type": "display_data"
    }
   ],
   "source": [
    "# Test correction for Goniometer z offset\n",
    "\n",
    "display(HTML(\"<h2>Goniometer z Offset Correction</h2><br>Test correction for Goniometer z offset\"))\n",
    "\n",
    "offset_min_value = -10.0\n",
    "offset_max_value = +10.0\n",
    "\n",
    "zoffset_ui = widgets.HBox([widgets.Label(\"z_offset:\",\n",
    "                                        layout=widgets.Layout(width='5%')),\n",
    "                          widgets.FloatSlider(value=0.0,\n",
    "                                             min=offset_min_value,\n",
    "                                             max=offset_max_value,\n",
    "                                             readout_format='.2f',\n",
    "                                             continuous_update=False,\n",
    "                                             layout=widgets.Layout(width='30%'))])\n",
    "\n",
    "xoffset_ui = widgets.HBox([widgets.Label(\"x_offset:\",\n",
    "                                        layout=widgets.Layout(width='5%')),\n",
    "                          widgets.FloatSlider(value=0.0,\n",
    "                                             min=offset_min_value,\n",
    "                                             max=offset_max_value,\n",
    "                                             readout_format='.2f',\n",
    "                                             continuous_update=False,\n",
    "                                             layout=widgets.Layout(width='30%'))])\n",
    "\n",
    "offset_ui = widgets.VBox([zoffset_ui, xoffset_ui])\n",
    "display(offset_ui)"
   ]
  },
  {
   "cell_type": "code",
   "execution_count": 5,
   "metadata": {
    "run_control": {
     "frozen": false,
     "read_only": false
    }
   },
   "outputs": [
    {
     "data": {
      "text/html": [
       "<h2>Select Input Data Folder</h2>"
      ],
      "text/plain": [
       "<IPython.core.display.HTML object>"
      ]
     },
     "metadata": {},
     "output_type": "display_data"
    },
    {
     "data": {
      "application/vnd.jupyter.widget-view+json": {
       "model_id": "c8060366c35b4d42b3fa06bb30cddf51",
       "version_major": 2,
       "version_minor": 0
      },
      "text/html": [
       "<p>Failed to display Jupyter Widget of type <code>HTML</code>.</p>\n",
       "<p>\n",
       "  If you're reading this message in the Jupyter Notebook or JupyterLab Notebook, it may mean\n",
       "  that the widgets JavaScript is still loading. If this message persists, it\n",
       "  likely means that the widgets JavaScript library is either not installed or\n",
       "  not enabled. See the <a href=\"https://ipywidgets.readthedocs.io/en/stable/user_install.html\">Jupyter\n",
       "  Widgets Documentation</a> for setup instructions.\n",
       "</p>\n",
       "<p>\n",
       "  If you're reading this message in another frontend (for example, a static\n",
       "  rendering on GitHub or <a href=\"https://nbviewer.jupyter.org/\">NBViewer</a>),\n",
       "  it may mean that your frontend doesn't currently support widgets.\n",
       "</p>\n"
      ],
      "text/plain": [
       "HTML(value='Please wait...')"
      ]
     },
     "metadata": {},
     "output_type": "display_data"
    },
    {
     "data": {
      "text/html": [
       "\n",
       "        <style type=\"text/css\">\n",
       "        .jupyter-widgets select option {font-family: \"Lucida Console\", Monaco, monospace;}\n",
       "        div.output_subarea {padding: 0px;}\n",
       "        div.output_subarea > div {margin: 0.4em;}\n",
       "        </style>\n",
       "        "
      ],
      "text/plain": [
       "<IPython.core.display.HTML object>"
      ]
     },
     "metadata": {},
     "output_type": "display_data"
    },
    {
     "data": {
      "application/vnd.jupyter.widget-view+json": {
       "model_id": "388ded43fe004f19b4868c4ac15c3daf",
       "version_major": 2,
       "version_minor": 0
      },
      "text/html": [
       "<p>Failed to display Jupyter Widget of type <code>VBox</code>.</p>\n",
       "<p>\n",
       "  If you're reading this message in the Jupyter Notebook or JupyterLab Notebook, it may mean\n",
       "  that the widgets JavaScript is still loading. If this message persists, it\n",
       "  likely means that the widgets JavaScript library is either not installed or\n",
       "  not enabled. See the <a href=\"https://ipywidgets.readthedocs.io/en/stable/user_install.html\">Jupyter\n",
       "  Widgets Documentation</a> for setup instructions.\n",
       "</p>\n",
       "<p>\n",
       "  If you're reading this message in another frontend (for example, a static\n",
       "  rendering on GitHub or <a href=\"https://nbviewer.jupyter.org/\">NBViewer</a>),\n",
       "  it may mean that your frontend doesn't currently support widgets.\n",
       "</p>\n"
      ],
      "text/plain": [
       "VBox(children=(Label(value='', layout=Layout(width='250px')), HBox(children=(HBox(children=(Text(value='/Users/j35/IPTS/IPTS_18813/data', description='Location: ', layout=Layout(width='300px'), placeholder=''), Button(description='Jump', layout=Layout(margin='5px 10px', width='100px'), style=ButtonStyle())), layout=Layout(border='1px solid lightgrey', margin='5px 50px 5px 5px', padding='3px')),)), VBox(children=(Select(description='Select', layout=Layout(width='750px'), options=(' .', ' ..'), value=' .'), HBox(children=(Button(description='Enter directory', layout=Layout(margin='5px 40px'), style=ButtonStyle()), Button(description='Select', layout=Layout(margin='5px 40px'), style=ButtonStyle())))), layout=Layout(border='1px solid lightgrey', margin='5px', padding='10px'))))"
      ]
     },
     "metadata": {},
     "output_type": "display_data"
    }
   ],
   "source": [
    "display(HTML(\"<h2>Select Input Data Folder</h2>\"))\n",
    "\n",
    "input_folder_ui = ipywe.fileselector.FileSelectorPanel(instruction='',\n",
    "                                                   start_dir = os.path.join(working_file, 'data'),\n",
    "                                                    type='directory')\n",
    "input_folder_ui.show()"
   ]
  },
  {
   "cell_type": "code",
   "execution_count": 16,
   "metadata": {
    "run_control": {
     "frozen": false,
     "read_only": false
    }
   },
   "outputs": [
    {
     "data": {
      "text/html": [
       "<h2>Select or Create Output Folder</h2>"
      ],
      "text/plain": [
       "<IPython.core.display.HTML object>"
      ]
     },
     "metadata": {},
     "output_type": "display_data"
    },
    {
     "data": {
      "application/vnd.jupyter.widget-view+json": {
       "model_id": "2c0285bbc6274226b3be0972485c1c96",
       "version_major": 2,
       "version_minor": 0
      },
      "text/html": [
       "<p>Failed to display Jupyter Widget of type <code>HTML</code>.</p>\n",
       "<p>\n",
       "  If you're reading this message in the Jupyter Notebook or JupyterLab Notebook, it may mean\n",
       "  that the widgets JavaScript is still loading. If this message persists, it\n",
       "  likely means that the widgets JavaScript library is either not installed or\n",
       "  not enabled. See the <a href=\"https://ipywidgets.readthedocs.io/en/stable/user_install.html\">Jupyter\n",
       "  Widgets Documentation</a> for setup instructions.\n",
       "</p>\n",
       "<p>\n",
       "  If you're reading this message in another frontend (for example, a static\n",
       "  rendering on GitHub or <a href=\"https://nbviewer.jupyter.org/\">NBViewer</a>),\n",
       "  it may mean that your frontend doesn't currently support widgets.\n",
       "</p>\n"
      ],
      "text/plain": [
       "HTML(value='Please wait...')"
      ]
     },
     "metadata": {},
     "output_type": "display_data"
    },
    {
     "data": {
      "text/html": [
       "\n",
       "        <style type=\"text/css\">\n",
       "        .jupyter-widgets select option {font-family: \"Lucida Console\", Monaco, monospace;}\n",
       "        div.output_subarea {padding: 0px;}\n",
       "        div.output_subarea > div {margin: 0.4em;}\n",
       "        </style>\n",
       "        "
      ],
      "text/plain": [
       "<IPython.core.display.HTML object>"
      ]
     },
     "metadata": {},
     "output_type": "display_data"
    },
    {
     "data": {
      "application/vnd.jupyter.widget-view+json": {
       "model_id": "ec6a534776b9484b847b5e2ed336aba7",
       "version_major": 2,
       "version_minor": 0
      },
      "text/html": [
       "<p>Failed to display Jupyter Widget of type <code>VBox</code>.</p>\n",
       "<p>\n",
       "  If you're reading this message in the Jupyter Notebook or JupyterLab Notebook, it may mean\n",
       "  that the widgets JavaScript is still loading. If this message persists, it\n",
       "  likely means that the widgets JavaScript library is either not installed or\n",
       "  not enabled. See the <a href=\"https://ipywidgets.readthedocs.io/en/stable/user_install.html\">Jupyter\n",
       "  Widgets Documentation</a> for setup instructions.\n",
       "</p>\n",
       "<p>\n",
       "  If you're reading this message in another frontend (for example, a static\n",
       "  rendering on GitHub or <a href=\"https://nbviewer.jupyter.org/\">NBViewer</a>),\n",
       "  it may mean that your frontend doesn't currently support widgets.\n",
       "</p>\n"
      ],
      "text/plain": [
       "VBox(children=(Label(value='Location of Output Folder', layout=Layout(width='250px')), HBox(children=(HBox(children=(Text(value='/Users/j35/IPTS/IPTS_18813/shared', description='Location: ', layout=Layout(width='300px'), placeholder=''), Button(description='Jump', layout=Layout(margin='5px 10px', width='100px'), style=ButtonStyle())), layout=Layout(border='1px solid lightgrey', margin='5px 50px 5px 5px', padding='3px')), HBox(children=(Text(value='', description='New subdir: ', layout=Layout(width='180px'), placeholder='new dir name'), Button(description='Create', layout=Layout(margin='5px 10px', width='100px'), style=ButtonStyle())), layout=Layout(border='1px solid lightgrey', margin='5px 50px 5px 5px', padding='3px')))), VBox(children=(Select(description='Select', layout=Layout(width='750px'), options=(' .', ' ..'), value=' .'), HBox(children=(Button(description='Enter directory', layout=Layout(margin='5px 40px'), style=ButtonStyle()), Button(description='Select', layout=Layout(margin='5px 40px'), style=ButtonStyle())))), layout=Layout(border='1px solid lightgrey', margin='5px', padding='10px'))))"
      ]
     },
     "metadata": {},
     "output_type": "display_data"
    }
   ],
   "source": [
    "display(HTML(\"<h2>Select or Create Output Folder</h2>\"))\n",
    "output_folder_ui = ipywe.fileselector.FileSelectorPanel(instruction='Location of Output Folder',\n",
    "                                                   start_dir = os.path.join(system.System.get_working_dir(), 'shared'),\n",
    "                                                      type='directory',\n",
    "                                                       newdir_toolbar_button=True)\n",
    "output_folder_ui.show()"
   ]
  },
  {
   "cell_type": "code",
   "execution_count": 7,
   "metadata": {
    "run_control": {
     "frozen": false,
     "read_only": false
    }
   },
   "outputs": [
    {
     "data": {
      "text/html": [
       "<h2>Use Monitor Counts ?</h2><br> If use_monitor_counts is True, then the integrated beam monitor     counts will be used for scaling. <br>If use_monitor_counts is False,     then the integrated proton charge will be used for scaling. <br><br>These     values will be listed under MONCNT in the integrate file."
      ],
      "text/plain": [
       "<IPython.core.display.HTML object>"
      ]
     },
     "metadata": {},
     "output_type": "display_data"
    },
    {
     "data": {
      "application/vnd.jupyter.widget-view+json": {
       "model_id": "7964738ef9b647ad822ac3a78a8dfe11",
       "version_major": 2,
       "version_minor": 0
      },
      "text/html": [
       "<p>Failed to display Jupyter Widget of type <code>Checkbox</code>.</p>\n",
       "<p>\n",
       "  If you're reading this message in the Jupyter Notebook or JupyterLab Notebook, it may mean\n",
       "  that the widgets JavaScript is still loading. If this message persists, it\n",
       "  likely means that the widgets JavaScript library is either not installed or\n",
       "  not enabled. See the <a href=\"https://ipywidgets.readthedocs.io/en/stable/user_install.html\">Jupyter\n",
       "  Widgets Documentation</a> for setup instructions.\n",
       "</p>\n",
       "<p>\n",
       "  If you're reading this message in another frontend (for example, a static\n",
       "  rendering on GitHub or <a href=\"https://nbviewer.jupyter.org/\">NBViewer</a>),\n",
       "  it may mean that your frontend doesn't currently support widgets.\n",
       "</p>\n"
      ],
      "text/plain": [
       "Checkbox(value=False, description='Use Monitor Counts')"
      ]
     },
     "metadata": {},
     "output_type": "display_data"
    }
   ],
   "source": [
    "display(HTML(\"<h2>Use Monitor Counts ?</h2><br> If use_monitor_counts is True, then the integrated beam monitor \\\n",
    "    counts will be used for scaling. <br>If use_monitor_counts is False, \\\n",
    "    then the integrated proton charge will be used for scaling. <br><br>These \\\n",
    "    values will be listed under MONCNT in the integrate file.\"))\n",
    "\n",
    "monitor_counts_flag_ui = widgets.Checkbox(value=False,\n",
    "                                          description='Use Monitor Counts')\n",
    "display(monitor_counts_flag_ui)\n",
    "                                       "
   ]
  },
  {
   "cell_type": "code",
   "execution_count": 65,
   "metadata": {
    "run_control": {
     "frozen": false,
     "read_only": false
    }
   },
   "outputs": [
    {
     "data": {
      "text/html": [
       "<h2>TOF and Monitor</h2><br>Min & max tof determine the range of events loaded.<br> Min & max monitor tof             determine the range of tofs integrated in the monitor data to get the             total monitor counts. <br>You need these even if Use Monitor Counts is False."
      ],
      "text/plain": [
       "<IPython.core.display.HTML object>"
      ]
     },
     "metadata": {},
     "output_type": "display_data"
    },
    {
     "data": {
      "application/vnd.jupyter.widget-view+json": {
       "model_id": "14d65a700eaf400387350a14bcb5d879",
       "version_major": 2,
       "version_minor": 0
      },
      "text/html": [
       "<p>Failed to display Jupyter Widget of type <code>VBox</code>.</p>\n",
       "<p>\n",
       "  If you're reading this message in the Jupyter Notebook or JupyterLab Notebook, it may mean\n",
       "  that the widgets JavaScript is still loading. If this message persists, it\n",
       "  likely means that the widgets JavaScript library is either not installed or\n",
       "  not enabled. See the <a href=\"https://ipywidgets.readthedocs.io/en/stable/user_install.html\">Jupyter\n",
       "  Widgets Documentation</a> for setup instructions.\n",
       "</p>\n",
       "<p>\n",
       "  If you're reading this message in another frontend (for example, a static\n",
       "  rendering on GitHub or <a href=\"https://nbviewer.jupyter.org/\">NBViewer</a>),\n",
       "  it may mean that your frontend doesn't currently support widgets.\n",
       "</p>\n"
      ],
      "text/plain": [
       "VBox(children=(HBox(children=(Label(value='TOF Range', layout=Layout(width='15%')), IntRangeSlider(value=(1000, 16600), continuous_update=False, layout=Layout(width='50%'), max=16600, min=500), Label(value='µs', layout=Layout(width='20%')))), HBox(children=(Label(value='Monitor Index', layout=Layout(width='15%')), Dropdown(layout=Layout(width='10%'), options=('0', '1'), value='0'))), HBox(children=(Label(value='Monitor TOF Range', layout=Layout(width='15%')), IntRangeSlider(value=(800, 12500), continuous_update=False, layout=Layout(width='50%'), max=16600, min=500), Label(value='µs', layout=Layout(width='20%'))))))"
      ]
     },
     "metadata": {},
     "output_type": "display_data"
    }
   ],
   "source": [
    "display(HTML(\"<h2>TOF and Monitor</h2><br>Min & max tof determine the range of events loaded.<br> Min & max monitor tof \\\n",
    "            determine the range of tofs integrated in the monitor data to get the \\\n",
    "            total monitor counts. <br>You need these even if Use Monitor Counts is False.\"))\n",
    "\n",
    "left_column_width = '15%'\n",
    "\n",
    "tof_ui = widgets.HBox([widgets.Label(\"TOF Range\",\n",
    "                                    layout=widgets.Layout(width=left_column_width)),\n",
    "                      widgets.IntRangeSlider(value=[1000, 16600],\n",
    "                                            min=500,\n",
    "                                            max=16600,\n",
    "                                            step=1,\n",
    "                                            continuous_update=False,\n",
    "                                            readout_format='d',\n",
    "                                            layout=widgets.Layout(width='50%')),\n",
    "                      widgets.Label(\"\\u00B5s\",\n",
    "                                   layout=widgets.Layout(width='20%'))])\n",
    "\n",
    "monitor_index_ui = widgets.HBox([widgets.Label(\"Monitor Index\",\n",
    "                                              layout=widgets.Layout(width=left_column_width)),\n",
    "                                 widgets.Dropdown(options=['0','1'],\n",
    "                                                 value='0',\n",
    "                                                 layout=widgets.Layout(width='10%'))])\n",
    "\n",
    "monitor_ui = widgets.HBox([widgets.Label(\"Monitor TOF Range\",\n",
    "                                    layout=widgets.Layout(width=left_column_width)),\n",
    "                      widgets.IntRangeSlider(value=[800, 12500],\n",
    "                                            min=500,\n",
    "                                            max=16600,\n",
    "                                            step=1,\n",
    "                                            continuous_update=False,\n",
    "                                            readout_format='d',\n",
    "                                            layout=widgets.Layout(width='50%')),\n",
    "                      widgets.Label(\"\\u00B5s\",\n",
    "                                   layout=widgets.Layout(width='20%'))])\n",
    "\n",
    "tof_ui = widgets.VBox([ tof_ui, monitor_index_ui, monitor_ui])\n",
    "\n",
    "display(tof_ui)\n"
   ]
  },
  {
   "cell_type": "code",
   "execution_count": 14,
   "metadata": {
    "run_control": {
     "frozen": false,
     "read_only": false
    }
   },
   "outputs": [
    {
     "data": {
      "text/html": [
       "<h2>UB</h2><br>Read the UB matrix from file. This option will be applied to each run and used for     combined file. This option is especially helpful for 2nd frame TOPAZ data."
      ],
      "text/plain": [
       "<IPython.core.display.HTML object>"
      ]
     },
     "metadata": {},
     "output_type": "display_data"
    },
    {
     "data": {
      "application/vnd.jupyter.widget-view+json": {
       "model_id": "0e686313671642bfb2117e5e9d0f4fd8",
       "version_major": 2,
       "version_minor": 0
      },
      "text/html": [
       "<p>Failed to display Jupyter Widget of type <code>Checkbox</code>.</p>\n",
       "<p>\n",
       "  If you're reading this message in the Jupyter Notebook or JupyterLab Notebook, it may mean\n",
       "  that the widgets JavaScript is still loading. If this message persists, it\n",
       "  likely means that the widgets JavaScript library is either not installed or\n",
       "  not enabled. See the <a href=\"https://ipywidgets.readthedocs.io/en/stable/user_install.html\">Jupyter\n",
       "  Widgets Documentation</a> for setup instructions.\n",
       "</p>\n",
       "<p>\n",
       "  If you're reading this message in another frontend (for example, a static\n",
       "  rendering on GitHub or <a href=\"https://nbviewer.jupyter.org/\">NBViewer</a>),\n",
       "  it may mean that your frontend doesn't currently support widgets.\n",
       "</p>\n"
      ],
      "text/plain": [
       "Checkbox(value=False, description='Read UB')"
      ]
     },
     "metadata": {},
     "output_type": "display_data"
    }
   ],
   "source": [
    "display(HTML(\"<h2>UB</h2><br>Read the UB matrix from file. This option will be applied to each run and used for \\\n",
    "    combined file. This option is especially helpful for 2nd frame TOPAZ data.\"))\n",
    "\n",
    "\n",
    "ub_flag_ui = widgets.Checkbox(value=False,\n",
    "                                          description='Read UB')\n",
    "\n",
    "display(ub_flag_ui)"
   ]
  },
  {
   "cell_type": "code",
   "execution_count": 19,
   "metadata": {
    "run_control": {
     "frozen": false,
     "read_only": false
    }
   },
   "outputs": [
    {
     "data": {
      "application/vnd.jupyter.widget-view+json": {
       "model_id": "3d4715077a634611a09243310df5c53c",
       "version_major": 2,
       "version_minor": 0
      },
      "text/html": [
       "<p>Failed to display Jupyter Widget of type <code>HTML</code>.</p>\n",
       "<p>\n",
       "  If you're reading this message in the Jupyter Notebook or JupyterLab Notebook, it may mean\n",
       "  that the widgets JavaScript is still loading. If this message persists, it\n",
       "  likely means that the widgets JavaScript library is either not installed or\n",
       "  not enabled. See the <a href=\"https://ipywidgets.readthedocs.io/en/stable/user_install.html\">Jupyter\n",
       "  Widgets Documentation</a> for setup instructions.\n",
       "</p>\n",
       "<p>\n",
       "  If you're reading this message in another frontend (for example, a static\n",
       "  rendering on GitHub or <a href=\"https://nbviewer.jupyter.org/\">NBViewer</a>),\n",
       "  it may mean that your frontend doesn't currently support widgets.\n",
       "</p>\n"
      ],
      "text/plain": [
       "HTML(value='Please wait...')"
      ]
     },
     "metadata": {},
     "output_type": "display_data"
    },
    {
     "data": {
      "text/html": [
       "\n",
       "        <style type=\"text/css\">\n",
       "        .jupyter-widgets select option {font-family: \"Lucida Console\", Monaco, monospace;}\n",
       "        div.output_subarea {padding: 0px;}\n",
       "        div.output_subarea > div {margin: 0.4em;}\n",
       "        </style>\n",
       "        "
      ],
      "text/plain": [
       "<IPython.core.display.HTML object>"
      ]
     },
     "metadata": {},
     "output_type": "display_data"
    },
    {
     "data": {
      "application/vnd.jupyter.widget-view+json": {
       "model_id": "cbb12e73e64f4b72959b6516a75b94a3",
       "version_major": 2,
       "version_minor": 0
      },
      "text/html": [
       "<p>Failed to display Jupyter Widget of type <code>VBox</code>.</p>\n",
       "<p>\n",
       "  If you're reading this message in the Jupyter Notebook or JupyterLab Notebook, it may mean\n",
       "  that the widgets JavaScript is still loading. If this message persists, it\n",
       "  likely means that the widgets JavaScript library is either not installed or\n",
       "  not enabled. See the <a href=\"https://ipywidgets.readthedocs.io/en/stable/user_install.html\">Jupyter\n",
       "  Widgets Documentation</a> for setup instructions.\n",
       "</p>\n",
       "<p>\n",
       "  If you're reading this message in another frontend (for example, a static\n",
       "  rendering on GitHub or <a href=\"https://nbviewer.jupyter.org/\">NBViewer</a>),\n",
       "  it may mean that your frontend doesn't currently support widgets.\n",
       "</p>\n"
      ],
      "text/plain": [
       "VBox(children=(Label(value='Select UB File (*.mat)', layout=Layout(width='250px')), HBox(children=(HBox(children=(Text(value='/Users/j35/IPTS/IPTS_18813/shared', description='Location: ', layout=Layout(width='300px'), placeholder=''), Button(description='Jump', layout=Layout(margin='5px 10px', width='100px'), style=ButtonStyle())), layout=Layout(border='1px solid lightgrey', margin='5px 50px 5px 5px', padding='3px')),)), VBox(children=(Select(description='Select', layout=Layout(width='750px'), options=(' .', ' ..'), value=' .'), HBox(children=(Button(description='Enter directory', layout=Layout(margin='5px 40px'), style=ButtonStyle()), Button(description='Select', layout=Layout(margin='5px 40px'), style=ButtonStyle())))), layout=Layout(border='1px solid lightgrey', margin='5px', padding='10px'))))"
      ]
     },
     "metadata": {},
     "output_type": "display_data"
    }
   ],
   "source": [
    "if ub_flag_ui.value:\n",
    "    ub_ui = ipywe.fileselector.FileSelectorPanel(instruction='Select UB File (*.mat)',\n",
    "                                                   start_dir = os.path.join(system.System.get_working_dir(), 'shared'))\n",
    "\n",
    "    ub_ui.show()\n"
   ]
  },
  {
   "cell_type": "code",
   "execution_count": 41,
   "metadata": {
    "run_control": {
     "frozen": false,
     "read_only": false
    }
   },
   "outputs": [
    {
     "data": {
      "text/html": [
       "<h2>Cell</h2><br>Specifiy a conventional cell type and centering.<br>If these are None, only     one .mat and .integrate file will be written for this run, and they will     be in terms of the Niggli reduced cell.  If these specifiy a valid     cell type and centering, an additional .mat and .integrate file will be     written for the specified cell_type and centering.<br><br><strong>NOTE:</strong> If run in     parallel, the driving script will only read the Niggli version of the     .integrate file, and will combine, re-index and convert to a conventional     cell, so these can usually be left as None.<br><br>     Cell transformation is not applied to cylindrical profiles,     i.e. use None if cylindrical integration is used!  "
      ],
      "text/plain": [
       "<IPython.core.display.HTML object>"
      ]
     },
     "metadata": {},
     "output_type": "display_data"
    },
    {
     "data": {
      "application/vnd.jupyter.widget-view+json": {
       "model_id": "776a8d840d8447b0b387b2c454b4958f",
       "version_major": 2,
       "version_minor": 0
      },
      "text/html": [
       "<p>Failed to display Jupyter Widget of type <code>VBox</code>.</p>\n",
       "<p>\n",
       "  If you're reading this message in the Jupyter Notebook or JupyterLab Notebook, it may mean\n",
       "  that the widgets JavaScript is still loading. If this message persists, it\n",
       "  likely means that the widgets JavaScript library is either not installed or\n",
       "  not enabled. See the <a href=\"https://ipywidgets.readthedocs.io/en/stable/user_install.html\">Jupyter\n",
       "  Widgets Documentation</a> for setup instructions.\n",
       "</p>\n",
       "<p>\n",
       "  If you're reading this message in another frontend (for example, a static\n",
       "  rendering on GitHub or <a href=\"https://nbviewer.jupyter.org/\">NBViewer</a>),\n",
       "  it may mean that your frontend doesn't currently support widgets.\n",
       "</p>\n"
      ],
      "text/plain": [
       "VBox(children=(HBox(children=(Label(value='Cell Type:', layout=Layout(width='15%')), Dropdown(layout=Layout(width='20%'), options=('Monoclinic', 'Triclinic', 'other'), value='Monoclinic'))), HBox(children=(Label(value='Centering:', layout=Layout(width='15%')), Dropdown(index=5, layout=Layout(width='20%'), options=('I', 'F', 'A', 'B', 'C', 'P', 'None'), value='P')))))"
      ]
     },
     "metadata": {},
     "output_type": "display_data"
    }
   ],
   "source": [
    "display(HTML(\"<h2>Cell</h2><br>Specifiy a conventional cell type and centering.<br>If these are None, only \\\n",
    "    one .mat and .integrate file will be written for this run, and they will \\\n",
    "    be in terms of the Niggli reduced cell.  If these specifiy a valid \\\n",
    "    cell type and centering, an additional .mat and .integrate file will be \\\n",
    "    written for the specified cell_type and centering.<br><br><strong>NOTE:</strong> If run in \\\n",
    "    parallel, the driving script will only read the Niggli version of the \\\n",
    "    .integrate file, and will combine, re-index and convert to a conventional \\\n",
    "    cell, so these can usually be left as None.<br><br> \\\n",
    "    Cell transformation is not applied to cylindrical profiles, \\\n",
    "    i.e. use None if cylindrical integration is used!  \"))\n",
    "\n",
    "cell_type_ui = widgets.HBox([widgets.Label(\"Cell Type:\",\n",
    "                                          layout=widgets.Layout(width=left_column_width)),\n",
    "                            widgets.Dropdown(options=['Monoclinic', 'Triclinic','other'],\n",
    "                                            value='Monoclinic',\n",
    "                                            layout=widgets.Layout(width='20%'))])\n",
    "\n",
    "centering_ui = widgets.HBox([widgets.Label(\"Centering:\",\n",
    "                                          layout=widgets.Layout(width=left_column_width)),\n",
    "                            widgets.Dropdown(options=['I', 'F', 'A', 'B', 'C', 'P', 'None'], \n",
    "                                            value='P',\n",
    "                                            layout=widgets.Layout(width='20%'))])\n",
    "\n",
    "cell_ui = widgets.VBox([cell_type_ui, centering_ui])\n",
    "\n",
    "display(cell_ui)"
   ]
  },
  {
   "cell_type": "code",
   "execution_count": 44,
   "metadata": {},
   "outputs": [
    {
     "data": {
      "text/html": [
       "<h2>Number of Peaks</h2><br> Number of peaks to find, per run, both for getting the UB matrix, AND to determine how many peaks are integrated, if peak positions are NOT predicted. <br><br> <strong>NOTE:</strong> This number must be choosen carefully. <ul><li> If too many peaks are requested, find peaks will take a very long time and the returned peaks will probably not even index, since most of them will be 'noise' peaks.</li><li> If too few are requested, then there will be few peaks to be integrated, and the UB matrix may not be as accurate as it should be for predicting peaks to integrate.</li></ul>"
      ],
      "text/plain": [
       "<IPython.core.display.HTML object>"
      ]
     },
     "metadata": {},
     "output_type": "display_data"
    },
    {
     "data": {
      "application/vnd.jupyter.widget-view+json": {
       "model_id": "57537b7af5164650bd788b26aae4e2af",
       "version_major": 2,
       "version_minor": 0
      },
      "text/html": [
       "<p>Failed to display Jupyter Widget of type <code>HBox</code>.</p>\n",
       "<p>\n",
       "  If you're reading this message in the Jupyter Notebook or JupyterLab Notebook, it may mean\n",
       "  that the widgets JavaScript is still loading. If this message persists, it\n",
       "  likely means that the widgets JavaScript library is either not installed or\n",
       "  not enabled. See the <a href=\"https://ipywidgets.readthedocs.io/en/stable/user_install.html\">Jupyter\n",
       "  Widgets Documentation</a> for setup instructions.\n",
       "</p>\n",
       "<p>\n",
       "  If you're reading this message in another frontend (for example, a static\n",
       "  rendering on GitHub or <a href=\"https://nbviewer.jupyter.org/\">NBViewer</a>),\n",
       "  it may mean that your frontend doesn't currently support widgets.\n",
       "</p>\n"
      ],
      "text/plain": [
       "HBox(children=(Label(value='Number of Peaks:', layout=Layout(width='15%')), IntSlider(value=300, layout=Layout(width='30%'), max=3000, min=100)))"
      ]
     },
     "metadata": {},
     "output_type": "display_data"
    }
   ],
   "source": [
    "display(HTML(\"<h2>Number of Peaks</h2><br> Number of peaks to find, per run, both for getting the UB matrix, \\\n",
    "AND to determine how many peaks are integrated, if peak positions are \\\n",
    "NOT predicted. <br><br> <strong>NOTE:</strong> This number must be choosen carefully. <ul><li> If too \\\n",
    "many peaks are requested, find peaks will take a very long time and \\\n",
    "the returned peaks will probably not even index, since most of them \\\n",
    "will be 'noise' peaks.</li><li> If too few are requested, then there will be \\\n",
    "few peaks to be integrated, and the UB matrix may not be as accurate \\\n",
    "as it should be for predicting peaks to integrate.</li></ul>\"))\n",
    "\n",
    "peak_ui = widgets.HBox([widgets.Label(\"Number of Peaks:\",\n",
    "                                     layout=widgets.Layout(width=left_column_width)),\n",
    "                       widgets.IntSlider(value=300, \n",
    "                                        min=100,\n",
    "                                        max=3000,\n",
    "                                        layout=widgets.Layout(width='30%'))])\n",
    "display(peak_ui)"
   ]
  },
  {
   "cell_type": "code",
   "execution_count": 66,
   "metadata": {},
   "outputs": [
    {
     "data": {
      "text/html": [
       "<h2>min_d, max_d and Tolerance</h2><br>min_d, max_d and tolerance control indexing peaks.<br><br>max_d is also     used to specify a threshold for the separation between peaks     returned by FindPeaksMD, so it should be specified somewhat larger     than the largest cell edge in the Niggli reduced cell for the sample."
      ],
      "text/plain": [
       "<IPython.core.display.HTML object>"
      ]
     },
     "metadata": {},
     "output_type": "display_data"
    },
    {
     "data": {
      "application/vnd.jupyter.widget-view+json": {
       "model_id": "65e06a41e3fe449da80a9167842311f8",
       "version_major": 2,
       "version_minor": 0
      },
      "text/html": [
       "<p>Failed to display Jupyter Widget of type <code>VBox</code>.</p>\n",
       "<p>\n",
       "  If you're reading this message in the Jupyter Notebook or JupyterLab Notebook, it may mean\n",
       "  that the widgets JavaScript is still loading. If this message persists, it\n",
       "  likely means that the widgets JavaScript library is either not installed or\n",
       "  not enabled. See the <a href=\"https://ipywidgets.readthedocs.io/en/stable/user_install.html\">Jupyter\n",
       "  Widgets Documentation</a> for setup instructions.\n",
       "</p>\n",
       "<p>\n",
       "  If you're reading this message in another frontend (for example, a static\n",
       "  rendering on GitHub or <a href=\"https://nbviewer.jupyter.org/\">NBViewer</a>),\n",
       "  it may mean that your frontend doesn't currently support widgets.\n",
       "</p>\n"
      ],
      "text/plain": [
       "VBox(children=(HBox(children=(Label(value='d', layout=Layout(width='1%')), IntRangeSlider(value=(5, 25), layout=Layout(width='30%'), max=90, min=3), Label(value='Å'))), HBox(children=(Label(value='Tolerance', layout=Layout(width='10%')), FloatSlider(value=0.12, layout=Layout(width='30%'), max=0.51, min=0.06, step=0.01)))))"
      ]
     },
     "metadata": {},
     "output_type": "display_data"
    }
   ],
   "source": [
    "display(HTML(\"<h2>min_d, max_d and Tolerance</h2><br>min_d, max_d and tolerance control indexing peaks.<br><br>max_d is also \\\n",
    "    used to specify a threshold for the separation between peaks \\\n",
    "    returned by FindPeaksMD, so it should be specified somewhat larger \\\n",
    "    than the largest cell edge in the Niggli reduced cell for the sample.\"))\n",
    "\n",
    "d_ui = widgets.HBox([widgets.Label(\"d\",\n",
    "                                  layout=widgets.Layout(width='1%')),\n",
    "                    widgets.IntRangeSlider(value=[5, 25],\n",
    "                                          min=3,\n",
    "                                          max=90,\n",
    "                                          step=1,\n",
    "                                          layout=widgets.Layout(width='30%')),\n",
    "                     widgets.Label(\"\\u00c5\")])\n",
    "\n",
    "tolerance_ui = widgets.HBox([widgets.Label(\"Tolerance\",\n",
    "                                          layout=widgets.Layout(width='10%')),\n",
    "                            widgets.FloatSlider(value=0.12,\n",
    "                                             min=0.06,\n",
    "                                             max=0.51,\n",
    "                                             step=0.01,\n",
    "                                               layout=widgets.Layout(width='30%'))])\n",
    "\n",
    "d_tolerance_ui = widgets.VBox([d_ui, tolerance_ui])\n",
    "\n",
    "display(d_tolerance_ui)"
   ]
  },
  {
   "cell_type": "code",
   "execution_count": 80,
   "metadata": {},
   "outputs": [
    {
     "data": {
      "text/html": [
       "<h2>Predicted Peak</h2><br> If predicted peak positions are to be integrated,     then the integrate_predicted_peaks flag should be set to True and the range     of wavelengths and d-spacings must be specified"
      ],
      "text/plain": [
       "<IPython.core.display.HTML object>"
      ]
     },
     "metadata": {},
     "output_type": "display_data"
    },
    {
     "data": {
      "application/vnd.jupyter.widget-view+json": {
       "model_id": "414d218d94e947bf863c27aa1bfa6354",
       "version_major": 2,
       "version_minor": 0
      },
      "text/html": [
       "<p>Failed to display Jupyter Widget of type <code>VBox</code>.</p>\n",
       "<p>\n",
       "  If you're reading this message in the Jupyter Notebook or JupyterLab Notebook, it may mean\n",
       "  that the widgets JavaScript is still loading. If this message persists, it\n",
       "  likely means that the widgets JavaScript library is either not installed or\n",
       "  not enabled. See the <a href=\"https://ipywidgets.readthedocs.io/en/stable/user_install.html\">Jupyter\n",
       "  Widgets Documentation</a> for setup instructions.\n",
       "</p>\n",
       "<p>\n",
       "  If you're reading this message in another frontend (for example, a static\n",
       "  rendering on GitHub or <a href=\"https://nbviewer.jupyter.org/\">NBViewer</a>),\n",
       "  it may mean that your frontend doesn't currently support widgets.\n",
       "</p>\n"
      ],
      "text/plain": [
       "VBox(children=(HBox(children=(Label(value='Integrate Predicted Peaks?', layout=Layout(width='15%')), Checkbox(value=False, layout=Layout(width='10%')))), HBox(children=(Label(value='Predicted Wavelengths', layout=Layout(width='15%')), FloatRangeSlider(value=(0.5, 3.4), layout=Layout(width='30%'), max=3.6, min=0.25), Label(value='Å'))), HBox(children=(Label(value='Predicted dspacing', layout=Layout(width='15%')), FloatRangeSlider(value=(0.5, 11.0), layout=Layout(width='30%'), max=12.0, min=0.25), Label(value='Å')))))"
      ]
     },
     "metadata": {},
     "output_type": "display_data"
    }
   ],
   "source": [
    "display(HTML(\"<h2>Predicted Peak</h2><br> If predicted peak positions are to be integrated, \\\n",
    "    then the integrate_predicted_peaks flag should be set to True and the range \\\n",
    "    of wavelengths and d-spacings must be specified\"))\n",
    "\n",
    "pred_flag_ui = widgets.HBox([widgets.Label(\"Integrate Predicted Peaks?\",\n",
    "                                          layout=widgets.Layout(width='15%')),\n",
    "                            widgets.Checkbox(value=False,\n",
    "                                            layout=widgets.Layout(width='10%'))])\n",
    "\n",
    "pred_ui = widgets.HBox([widgets.Label(\"Predicted Wavelengths\",\n",
    "                                     layout=widgets.Layout(width='15%')),\n",
    "                       widgets.FloatRangeSlider(value=[0.5, 3.4],\n",
    "                                               min=.25, \n",
    "                                               max=3.6,\n",
    "                                               layout=widgets.Layout(width='30%')),\n",
    "                       widgets.Label(\"\\u00c5\")])\n",
    "\n",
    "pred_dspacing_ui = widgets.HBox([widgets.Label(\"Predicted dspacing\",\n",
    "                                     layout=widgets.Layout(width='15%')),\n",
    "                       widgets.FloatRangeSlider(value=[0.5, 11.0],\n",
    "                                               min=.25, \n",
    "                                               max=12,\n",
    "                                               layout=widgets.Layout(width='30%')),\n",
    "                       widgets.Label(\"\\u00c5\")])\n",
    "\n",
    "predicted_ui = widgets.VBox([pred_flag_ui, pred_ui, pred_dspacing_ui])\n",
    "display(predicted_ui)\n"
   ]
  },
  {
   "cell_type": "code",
   "execution_count": 92,
   "metadata": {},
   "outputs": [
    {
     "data": {
      "text/html": [
       "<h2>Integration Method</h2><br> Select one of the following integration method."
      ],
      "text/plain": [
       "<IPython.core.display.HTML object>"
      ]
     },
     "metadata": {},
     "output_type": "display_data"
    },
    {
     "data": {
      "application/vnd.jupyter.widget-view+json": {
       "model_id": "e5ca2420f4064507b7aa968a7aec0c1f",
       "version_major": 2,
       "version_minor": 0
      },
      "text/html": [
       "<p>Failed to display Jupyter Widget of type <code>HBox</code>.</p>\n",
       "<p>\n",
       "  If you're reading this message in the Jupyter Notebook or JupyterLab Notebook, it may mean\n",
       "  that the widgets JavaScript is still loading. If this message persists, it\n",
       "  likely means that the widgets JavaScript library is either not installed or\n",
       "  not enabled. See the <a href=\"https://ipywidgets.readthedocs.io/en/stable/user_install.html\">Jupyter\n",
       "  Widgets Documentation</a> for setup instructions.\n",
       "</p>\n",
       "<p>\n",
       "  If you're reading this message in another frontend (for example, a static\n",
       "  rendering on GitHub or <a href=\"https://nbviewer.jupyter.org/\">NBViewer</a>),\n",
       "  it may mean that your frontend doesn't currently support widgets.\n",
       "</p>\n"
      ],
      "text/plain": [
       "HBox(children=(Label(value='Integration Method', layout=Layout(width='15%')), Dropdown(index=1, layout=Layout(width='20%'), options=('Sphere', 'Ellipse', 'Cylindrical', 'Fit Peaks'), value='Ellipse')))"
      ]
     },
     "metadata": {},
     "output_type": "display_data"
    }
   ],
   "source": [
    "display(HTML(\"<h2>Integration Method</h2><br> Select one of the following integration method.\"))\n",
    "\n",
    "inte_ui = widgets.HBox([widgets.Label(\"Integration Method\",\n",
    "                                     layout=widgets.Layout(width='15%')),\n",
    "                       widgets.Dropdown(options=['Sphere','Ellipse','Cylindrical', 'Fit Peaks'],\n",
    "                                       value='Ellipse',\n",
    "                                       layout=widgets.Layout(width='20%'))])\n",
    "display(inte_ui)\n"
   ]
  },
  {
   "cell_type": "code",
   "execution_count": 164,
   "metadata": {},
   "outputs": [],
   "source": [
    "_answer_ikeda_flag = True\n",
    "if inte_ui.children[1].value in ['Sphere','Ellipse']:\n",
    "\n",
    "    _answer_ikeda_flag = False\n",
    "    \n",
    "    display(HTML(\"<h2>Integration Control Parameters</h2>\"))\n",
    "    \n",
    "    peak_ui = widgets.HBox([widgets.Label(\"Peak Radius\",\n",
    "                                         layout=widgets.Layout(width='10%')),\n",
    "                           widgets.FloatSlider(value=0.13,\n",
    "                                              min=0.05,\n",
    "                                              max=0.25,\n",
    "                                               step=0.001,\n",
    "                                               readout_format='.3f',\n",
    "                                              layout = widgets.Layout(width='30%')),\n",
    "                           widgets.Label(\"\\u00c5\")])\n",
    "    \n",
    "    bkg_ui = widgets.HBox([widgets.Label(\"Background Inner and Outer Radius\",\n",
    "                                        layout=widgets.Layout(width='20%')),\n",
    "                          widgets.FloatRangeSlider(value=[0.14, 0.15],\n",
    "                                                  min=peak_ui.children[1].value,\n",
    "                                                  max=0.2,\n",
    "                                                   step=0.001,\n",
    "                                                   readout_format='.3f',\n",
    "                                                   layout=widgets.Layout(width='30%')),\n",
    "                          widgets.Label(\"\\u00c5\")])\n",
    "    \n",
    "    def on_peak_changed(change):\n",
    "         new_range = [change['new'], change['new']*1.2]\n",
    "         bkg_ui.children[1].value = new_range\n",
    "        \n",
    "    peak_ui.children[1].observe(on_peak_changed, names='value')\n",
    "    \n",
    "    vertical_layout = [peak_ui, bkg_ui]\n",
    "    if inte_ui.children[1].value == 'Sphere':\n",
    "        \n",
    "        inte_flag_ui = widgets.HBox([widgets.Label(\"Integrate if Edge Peak?\",\n",
    "                                                  layout=widgets.Layout(width='15%')),\n",
    "                                    widgets.Checkbox(value=True)])\n",
    "        vertical_layout.append(inte_flag_ui)\n",
    "        \n",
    "    ellipse_region_ui = widgets.HBox([widgets.Label(\"Ellipse Region Radius\",\n",
    "                                                    layout=widgets.Layout(width='15%')),\n",
    "                                     widgets.FloatSlider(value=0.20,\n",
    "                                                         min=bkg_ui.children[1].value[1],\n",
    "                                                         max=0.30,\n",
    "                                                         step=0.001,\n",
    "                                                        layout=widgets.Layout(width='30%')),\n",
    "                                     widgets.Label(\"\\u00c5\")])\n",
    "    vertical_layout.append(ellipse_region_ui)\n",
    "        \n",
    "    integration_ui = widgets.VBox(vertical_layout)\n",
    "    display(integration_ui)\n",
    "    \n",
    "    def on_back_outer_changed(change):\n",
    "        ellipse_region_ui.children[1].min = change['new'][1]\n",
    "        \n",
    "    bkg_ui.children[1].observe(on_back_outer_changed, names='value')\n",
    "    "
   ]
  },
  {
   "cell_type": "code",
   "execution_count": 166,
   "metadata": {},
   "outputs": [
    {
     "data": {
      "text/html": [
       "<h2>Fit Peaks Integration Control Parameters</h2><br>     <ul><li><strong>Rebin:</strong><ul><li>logarithmic</li><li>0.006</li></ul>    <li><strong>Preserve Events:</strong> True</li>     <li><strong>Use ikeda carpenter:</strong> True</li>              </ul>"
      ],
      "text/plain": [
       "<IPython.core.display.HTML object>"
      ]
     },
     "metadata": {},
     "output_type": "display_data"
    }
   ],
   "source": [
    "if _answer_ikeda_flag:\n",
    "    _answer_ikeda = \"True\"\n",
    "else:\n",
    "    _answer_ikeda = \"False\"\n",
    "\n",
    "display(HTML(\"<h2>Fit Peaks Integration Control Parameters</h2><br> \\\n",
    "    <ul><li><strong>Rebin:</strong><ul><li>logarithmic</li><li>0.006</li></ul>\\\n",
    "    <li><strong>Preserve Events:</strong> True</li> \\\n",
    "    <li><strong>Use ikeda carpenter:</strong> \" + _answer_ikeda + \"</li> \\\n",
    "             </ul>\"))\n"
   ]
  },
  {
   "cell_type": "code",
   "execution_count": 172,
   "metadata": {},
   "outputs": [
    {
     "data": {
      "text/html": [
       "<h2>Bad Edge Pixels</h2>"
      ],
      "text/plain": [
       "<IPython.core.display.HTML object>"
      ]
     },
     "metadata": {},
     "output_type": "display_data"
    },
    {
     "data": {
      "application/vnd.jupyter.widget-view+json": {
       "model_id": "23a5c7a2a44d4b138fce2b0ff79f9457",
       "version_major": 2,
       "version_minor": 0
      },
      "text/html": [
       "<p>Failed to display Jupyter Widget of type <code>HBox</code>.</p>\n",
       "<p>\n",
       "  If you're reading this message in the Jupyter Notebook or JupyterLab Notebook, it may mean\n",
       "  that the widgets JavaScript is still loading. If this message persists, it\n",
       "  likely means that the widgets JavaScript library is either not installed or\n",
       "  not enabled. See the <a href=\"https://ipywidgets.readthedocs.io/en/stable/user_install.html\">Jupyter\n",
       "  Widgets Documentation</a> for setup instructions.\n",
       "</p>\n",
       "<p>\n",
       "  If you're reading this message in another frontend (for example, a static\n",
       "  rendering on GitHub or <a href=\"https://nbviewer.jupyter.org/\">NBViewer</a>),\n",
       "  it may mean that your frontend doesn't currently support widgets.\n",
       "</p>\n"
      ],
      "text/plain": [
       "HBox(children=(Label(value='Nbr bad edge pixels:', layout=Layout(width='10%')), IntSlider(value=0, layout=Layout(width='30%'), max=50)))"
      ]
     },
     "metadata": {},
     "output_type": "display_data"
    }
   ],
   "source": [
    "display(HTML(\"<h2>Bad Edge Pixels</h2>\"))\n",
    "\n",
    "bad_pixels_ui = widgets.HBox([widgets.Label(\"Nbr bad edge pixels:\",\n",
    "                                           layout=widgets.Layout(width='10%')),\n",
    "                             widgets.IntSlider(value=0,\n",
    "                                              min=0,\n",
    "                                              max=50,\n",
    "                                              layout=widgets.Layout(width='30%'))])\n",
    "\n",
    "display(bad_pixels_ui)\n"
   ]
  },
  {
   "cell_type": "code",
   "execution_count": 183,
   "metadata": {},
   "outputs": [
    {
     "data": {
      "text/html": [
       "<h2>Cylindrical Integration Control Parameters</h2>"
      ],
      "text/plain": [
       "<IPython.core.display.HTML object>"
      ]
     },
     "metadata": {},
     "output_type": "display_data"
    },
    {
     "data": {
      "application/vnd.jupyter.widget-view+json": {
       "model_id": "be95dcb110434cc3b0b076187c0e131d",
       "version_major": 2,
       "version_minor": 0
      },
      "text/html": [
       "<p>Failed to display Jupyter Widget of type <code>VBox</code>.</p>\n",
       "<p>\n",
       "  If you're reading this message in the Jupyter Notebook or JupyterLab Notebook, it may mean\n",
       "  that the widgets JavaScript is still loading. If this message persists, it\n",
       "  likely means that the widgets JavaScript library is either not installed or\n",
       "  not enabled. See the <a href=\"https://ipywidgets.readthedocs.io/en/stable/user_install.html\">Jupyter\n",
       "  Widgets Documentation</a> for setup instructions.\n",
       "</p>\n",
       "<p>\n",
       "  If you're reading this message in another frontend (for example, a static\n",
       "  rendering on GitHub or <a href=\"https://nbviewer.jupyter.org/\">NBViewer</a>),\n",
       "  it may mean that your frontend doesn't currently support widgets.\n",
       "</p>\n"
      ],
      "text/plain": [
       "VBox(children=(HBox(children=(Label(value='Cylinder Radius', layout=Layout(width='15%')), FloatSlider(value=0.05, layout=Layout(width='30%'), max=0.1, min=0.02, readout_format='0.3f', step=0.001), Label(value='Å'))), HBox(children=(Label(value='Cylinder Length', layout=Layout(width='15%')), FloatSlider(value=0.3, layout=Layout(width='30%'), max=0.5, min=0.1, readout_format='0.3f', step=0.01), Label(value='Å')))))"
      ]
     },
     "metadata": {},
     "output_type": "display_data"
    }
   ],
   "source": [
    "display(HTML(\"<h2>Cylindrical Integration Control Parameters</h2>\"))\n",
    "\n",
    "radius_ui = widgets.HBox([widgets.Label(\"Cylinder Radius\",\n",
    "                                       layout=widgets.Layout(width='15%')),\n",
    "                         widgets.FloatSlider(value=0.05,\n",
    "                                            min=0.02,\n",
    "                                            max=0.1,\n",
    "                                             step=0.001,\n",
    "                                             readout_format=\"0.3f\",\n",
    "                                            layout=widgets.Layout(width='30%')),\n",
    "                         widgets.Label(\"\\u00c5\")])\n",
    "\n",
    "length_ui = widgets.HBox([widgets.Label(\"Cylinder Length\",\n",
    "                                       layout=widgets.Layout(width='15%')),\n",
    "                         widgets.FloatSlider(value=0.3,\n",
    "                                            min=0.1,\n",
    "                                            max=0.5,\n",
    "                                             step=0.01,\n",
    "                                             readout_format=\"0.3f\",\n",
    "                                            layout=widgets.Layout(width='30%')),\n",
    "                         widgets.Label(\"\\u00c5\")])\n",
    "\n",
    "v_box = widgets.VBox([radius_ui, length_ui])\n",
    "display(v_box)\n"
   ]
  },
  {
   "cell_type": "code",
   "execution_count": 270,
   "metadata": {},
   "outputs": [
    {
     "data": {
      "text/html": [
       "<h2>Experiment Name</h2>"
      ],
      "text/plain": [
       "<IPython.core.display.HTML object>"
      ]
     },
     "metadata": {},
     "output_type": "display_data"
    },
    {
     "data": {
      "application/vnd.jupyter.widget-view+json": {
       "model_id": "b7fc8a22a0fd4d10b034b50d20b0da86",
       "version_major": 2,
       "version_minor": 0
      },
      "text/html": [
       "<p>Failed to display Jupyter Widget of type <code>Text</code>.</p>\n",
       "<p>\n",
       "  If you're reading this message in the Jupyter Notebook or JupyterLab Notebook, it may mean\n",
       "  that the widgets JavaScript is still loading. If this message persists, it\n",
       "  likely means that the widgets JavaScript library is either not installed or\n",
       "  not enabled. See the <a href=\"https://ipywidgets.readthedocs.io/en/stable/user_install.html\">Jupyter\n",
       "  Widgets Documentation</a> for setup instructions.\n",
       "</p>\n",
       "<p>\n",
       "  If you're reading this message in another frontend (for example, a static\n",
       "  rendering on GitHub or <a href=\"https://nbviewer.jupyter.org/\">NBViewer</a>),\n",
       "  it may mean that your frontend doesn't currently support widgets.\n",
       "</p>\n"
      ],
      "text/plain": [
       "Text(value='', layout=Layout(width='50%'))"
      ]
     },
     "metadata": {},
     "output_type": "display_data"
    },
    {
     "data": {
      "application/vnd.jupyter.widget-view+json": {
       "model_id": "28e6f3cb85da402ea21ea85f8cae5866",
       "version_major": 2,
       "version_minor": 0
      },
      "text/html": [
       "<p>Failed to display Jupyter Widget of type <code>HBox</code>.</p>\n",
       "<p>\n",
       "  If you're reading this message in the Jupyter Notebook or JupyterLab Notebook, it may mean\n",
       "  that the widgets JavaScript is still loading. If this message persists, it\n",
       "  likely means that the widgets JavaScript library is either not installed or\n",
       "  not enabled. See the <a href=\"https://ipywidgets.readthedocs.io/en/stable/user_install.html\">Jupyter\n",
       "  Widgets Documentation</a> for setup instructions.\n",
       "</p>\n",
       "<p>\n",
       "  If you're reading this message in another frontend (for example, a static\n",
       "  rendering on GitHub or <a href=\"https://nbviewer.jupyter.org/\">NBViewer</a>),\n",
       "  it may mean that your frontend doesn't currently support widgets.\n",
       "</p>\n"
      ],
      "text/plain": [
       "HBox(children=(Label(value=' >>> Instrument Scientist Password <<<', layout=Layout(width='20%')), Text(value='', layout=Layout(width='10%'))))"
      ]
     },
     "metadata": {},
     "output_type": "display_data"
    }
   ],
   "source": [
    "display(HTML(\"<h2>Experiment Name</h2>\"))\n",
    "\n",
    "exp_name_ui = widgets.Text(\"\",\n",
    "                          layout=widgets.Layout(width=\"50%\"))\n",
    "display(exp_name_ui)\n",
    "\n",
    "pass_layout_ui = widgets.HBox([widgets.Label(\" >>> Instrument Scientist Password <<<\",\n",
    "                                      layout=widgets.Layout(width='20%')),\n",
    "                        widgets.Text(\"\",\n",
    "                                      layout=widgets.Layout(width='10%'))])\n",
    "\n",
    "MASTER_PASSWORD = 'topaz'\n",
    "password_found = False\n",
    "reduce_ui = None\n",
    "reduce_label_ui = None\n",
    "\n",
    "password = []\n",
    "str_password = ''\n",
    "def on_pass_changed(change):\n",
    "    \n",
    "    global password_found \n",
    "    global reduce_ui\n",
    "    global reduce_label_ui\n",
    "    \n",
    "    new_len_pass = len(change['new'])\n",
    "    old_len_pass = len(password)\n",
    "    if new_len_pass > old_len_pass:\n",
    "        # added a character\n",
    "        last_character = change['new'][-1]\n",
    "        if last_character == '*':\n",
    "            return\n",
    "        password.append(last_character)\n",
    "    elif new_len_pass < old_len_pass:\n",
    "        if password != []:\n",
    "            password.pop()\n",
    "\n",
    "    new_string = '*' * new_len_pass\n",
    "    pass_ui.value = new_string\n",
    "\n",
    "    #recompose passowrd\n",
    "    str_password = ''.join(password)\n",
    "    \n",
    "    if str_password == MASTER_PASSWORD:\n",
    "        \n",
    "        if password_found == False: #to only display widgets once\n",
    "            reduce_label_ui = widgets.Label(\"Reduce One Run Script\",\n",
    "                                            layout=widgets.Layout(width='15%'))\n",
    "            display(reduce_label_ui)\n",
    "\n",
    "            reduce_ui = ipywe.fileselector.FileSelectorPanel(instruction='Select Reduce Python Script ',\n",
    "                                                       start_dir = os.path.join(system.System.get_working_dir(), 'shared/reduce/'))\n",
    "\n",
    "            reduce_ui.show()\n",
    "            password_found = True\n",
    "\n",
    "        else:\n",
    "            password_found = False\n",
    "\n",
    "    else:\n",
    "        try:\n",
    "            reduce_label_ui.close()\n",
    "            reduce_ui.remove()\n",
    "        except:\n",
    "            pass\n",
    "            \n",
    "pass_ui = pass_layout_ui.children[1]\n",
    "pass_ui.observe(on_pass_changed, names='value')\n",
    "\n",
    "display(pass_layout_ui)"
   ]
  },
  {
   "cell_type": "code",
   "execution_count": 275,
   "metadata": {},
   "outputs": [
    {
     "data": {
      "text/html": [
       "<h2>Run Numbers to Reduce</h2><br>Specify the run numbers that should be reduced."
      ],
      "text/plain": [
       "<IPython.core.display.HTML object>"
      ]
     },
     "metadata": {},
     "output_type": "display_data"
    },
    {
     "data": {
      "application/vnd.jupyter.widget-view+json": {
       "model_id": "4ceaf553195d4992a6a6b78e74dac805",
       "version_major": 2,
       "version_minor": 0
      },
      "text/html": [
       "<p>Failed to display Jupyter Widget of type <code>HBox</code>.</p>\n",
       "<p>\n",
       "  If you're reading this message in the Jupyter Notebook or JupyterLab Notebook, it may mean\n",
       "  that the widgets JavaScript is still loading. If this message persists, it\n",
       "  likely means that the widgets JavaScript library is either not installed or\n",
       "  not enabled. See the <a href=\"https://ipywidgets.readthedocs.io/en/stable/user_install.html\">Jupyter\n",
       "  Widgets Documentation</a> for setup instructions.\n",
       "</p>\n",
       "<p>\n",
       "  If you're reading this message in another frontend (for example, a static\n",
       "  rendering on GitHub or <a href=\"https://nbviewer.jupyter.org/\">NBViewer</a>),\n",
       "  it may mean that your frontend doesn't currently support widgets.\n",
       "</p>\n"
      ],
      "text/plain": [
       "HBox(children=(Label(value='Run Numbers:', layout=Layout(width='10%')), Text(value='', layout=Layout(width='40%'), placeholder='1,4-5,10,20,30-40')))"
      ]
     },
     "metadata": {},
     "output_type": "display_data"
    }
   ],
   "source": [
    "display(HTML(\"<h2>Run Numbers to Reduce</h2><br>Specify the run numbers that should be reduced.\"))\n",
    "\n",
    "run_ui = widgets.HBox([widgets.Label(\"Run Numbers:\", layout=widgets.Layout(width='10%')),\n",
    "                      widgets.Text(value=\"\", \n",
    "                                   layout=widgets.Layout(width='40%'),\n",
    "                                   placeholder='1,4:5,10,20,30:40')])\n",
    "display(run_ui)"
   ]
  },
  {
   "cell_type": "code",
   "execution_count": 282,
   "metadata": {},
   "outputs": [
    {
     "data": {
      "text/html": [
       "<h2>Number of Processes</h2><br>This controls the maximum number of processes that will be run     simultaneously locally, or that will be simultaneously submitted to slurm.     The value of max_processes should be choosen carefully with the size of the     system in mind, to avoid overloading the system.  Since the lower level     calculations are all multi-threaded, this should be substantially lower than     the total number of cores available (8 on this computer).     All runs will be processed eventually.  If there are more runs than then     max_processes, as some processes finish, new ones will be started, until     all runs have been processed."
      ],
      "text/plain": [
       "<IPython.core.display.HTML object>"
      ]
     },
     "metadata": {},
     "output_type": "display_data"
    },
    {
     "data": {
      "application/vnd.jupyter.widget-view+json": {
       "model_id": "5697f11c04b843fa8439e83f9af71eb9",
       "version_major": 2,
       "version_minor": 0
      },
      "text/html": [
       "<p>Failed to display Jupyter Widget of type <code>HBox</code>.</p>\n",
       "<p>\n",
       "  If you're reading this message in the Jupyter Notebook or JupyterLab Notebook, it may mean\n",
       "  that the widgets JavaScript is still loading. If this message persists, it\n",
       "  likely means that the widgets JavaScript library is either not installed or\n",
       "  not enabled. See the <a href=\"https://ipywidgets.readthedocs.io/en/stable/user_install.html\">Jupyter\n",
       "  Widgets Documentation</a> for setup instructions.\n",
       "</p>\n",
       "<p>\n",
       "  If you're reading this message in another frontend (for example, a static\n",
       "  rendering on GitHub or <a href=\"https://nbviewer.jupyter.org/\">NBViewer</a>),\n",
       "  it may mean that your frontend doesn't currently support widgets.\n",
       "</p>\n"
      ],
      "text/plain": [
       "HBox(children=(Label(value='Nbr Processes:', layout=Layout(width='10%')), IntSlider(value=7, layout=Layout(width='20%'), max=8, min=1)))"
      ]
     },
     "metadata": {},
     "output_type": "display_data"
    }
   ],
   "source": [
    "import multiprocessing\n",
    "nbr_processor = multiprocessing.cpu_count()\n",
    "\n",
    "display(HTML(\"<h2>Number of Processes</h2><br>This controls the maximum number of processes that will be run \\\n",
    "    simultaneously locally, or that will be simultaneously submitted to slurm. \\\n",
    "    The value of max_processes should be choosen carefully with the size of the \\\n",
    "    system in mind, to avoid overloading the system.  Since the lower level \\\n",
    "    calculations are all multi-threaded, this should be substantially lower than \\\n",
    "    the total number of cores available (\" + str(nbr_processor) + \" on this computer). \\\n",
    "    All runs will be processed eventually.  If there are more runs than then \\\n",
    "    max_processes, as some processes finish, new ones will be started, until \\\n",
    "    all runs have been processed.\"))\n",
    "\n",
    "process_ui = widgets.HBox([widgets.Label(\"Nbr Processes:\", layout=widgets.Layout(width='10%')),\n",
    "                           widgets.IntSlider(value=nbr_processor-1,\n",
    "                                            min=1, \n",
    "                                            max=nbr_processor,\n",
    "                                            layout=widgets.Layout(width='20%'))])\n",
    "display(process_ui)\n"
   ]
  },
  {
   "cell_type": "code",
   "execution_count": null,
   "metadata": {},
   "outputs": [],
   "source": []
  }
 ],
 "metadata": {
  "kernelspec": {
   "display_name": "Python 3",
   "language": "python",
   "name": "python3"
  },
  "language_info": {
   "codemirror_mode": {
    "name": "ipython",
    "version": 3
   },
   "file_extension": ".py",
   "mimetype": "text/x-python",
   "name": "python",
   "nbconvert_exporter": "python",
   "pygments_lexer": "ipython3",
   "version": "3.6.2"
  },
  "toc": {
   "colors": {
    "hover_highlight": "#DAA520",
    "running_highlight": "#FF0000",
    "selected_highlight": "#FFD700"
   },
   "moveMenuLeft": true,
   "nav_menu": {
    "height": "66px",
    "width": "252px"
   },
   "navigate_menu": true,
   "number_sections": true,
   "sideBar": true,
   "threshold": 4,
   "toc_cell": false,
   "toc_section_display": "block",
   "toc_window_display": false
  }
 },
 "nbformat": 4,
 "nbformat_minor": 2
}
