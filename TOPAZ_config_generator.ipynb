{
 "cells": [
  {
   "cell_type": "markdown",
   "metadata": {
    "run_control": {
     "frozen": false,
     "read_only": false
    }
   },
   "source": [
    "# Select Instrument "
   ]
  },
  {
   "cell_type": "code",
   "execution_count": null,
   "metadata": {
    "run_control": {
     "frozen": false,
     "read_only": false
    }
   },
   "outputs": [],
   "source": [
    "from __code import system\n",
    "from __code.topaz_config_generator import TopazConfigGenerator\n",
    "system.System.select_working_dir(system_folder='/SNS/TOPAZ/')\n",
    "\n",
    "from __code.__all import custom_style\n",
    "custom_style.style()"
   ]
  },
  {
   "cell_type": "code",
   "execution_count": null,
   "metadata": {
    "scrolled": false
   },
   "outputs": [],
   "source": [
    "from IPython.core.display import HTML\n",
    "\n",
    "HTML(\"\"\"\n",
    "<style>\n",
    ".mylabel_key {\n",
    "   font-style: bold;\n",
    "   color: black;\n",
    "   font-size: 20px;\n",
    "}\n",
    "</style>\n",
    "\"\"\")\n",
    "\n",
    "_cfg = TopazConfigGenerator(working_dir = system.System.get_working_dir())"
   ]
  },
  {
   "cell_type": "code",
   "execution_count": null,
   "metadata": {},
   "outputs": [],
   "source": [
    "_cfg.advanced_options()"
   ]
  },
  {
   "cell_type": "code",
   "execution_count": 1,
   "metadata": {},
   "outputs": [],
   "source": [
    "from collections import defaultdict"
   ]
  },
  {
   "cell_type": "code",
   "execution_count": 2,
   "metadata": {},
   "outputs": [],
   "source": [
    "_dict = defaultdict()"
   ]
  },
  {
   "cell_type": "code",
   "execution_count": 5,
   "metadata": {},
   "outputs": [],
   "source": [
    "cell_type = ['Triclinic',\n",
    "                 'Monoclinic',\n",
    "                 'Orthorhombic',\n",
    "                 'Tetragonal',\n",
    "                 'Rhombohedral',\n",
    "                 'Hexagonal',\n",
    "                 'Cubic']"
   ]
  },
  {
   "cell_type": "code",
   "execution_count": 6,
   "metadata": {},
   "outputs": [],
   "source": [
    "centering_mode = {'P': cell_type.copy(),\n",
    "                      'I': ['Tetragonal', 'Monoclinic', 'Cubic'],\n",
    "                      'A': ['Monoclinic', 'Orthorhombic'],\n",
    "                      'B': ['Monoclinic', 'Orthorhombic'],\n",
    "                      'C': ['Monoclinic', 'Orthorhombic'],\n",
    "                      'F': ['Orthorhombic', 'Cubic'],\n",
    "                      'Robv': ['Rhombohedral'],\n",
    "                      'Rrev': ['Rhombohedral'],\n",
    "                      }"
   ]
  },
  {
   "cell_type": "code",
   "execution_count": 8,
   "metadata": {},
   "outputs": [],
   "source": [
    "cell_type_dict = defaultdict()\n",
    "for _key in centering_mode.keys():\n",
    "    _list = centering_mode[_key]\n",
    "    for _item in _list:\n",
    "        cell_type_dict.setdefault(_item, []).append(_key)\n"
   ]
  },
  {
   "cell_type": "code",
   "execution_count": 9,
   "metadata": {},
   "outputs": [
    {
     "data": {
      "text/plain": [
       "defaultdict(None,\n",
       "            {'Cubic': ['P', 'I', 'F'],\n",
       "             'Hexagonal': ['P'],\n",
       "             'Monoclinic': ['P', 'I', 'A', 'B', 'C'],\n",
       "             'Orthorhombic': ['P', 'A', 'B', 'C', 'F'],\n",
       "             'Rhombohedral': ['P', 'Robv', 'Rrev'],\n",
       "             'Tetragonal': ['P', 'I'],\n",
       "             'Triclinic': ['P']})"
      ]
     },
     "execution_count": 9,
     "metadata": {},
     "output_type": "execute_result"
    }
   ],
   "source": [
    "cell_type_dict"
   ]
  },
  {
   "cell_type": "code",
   "execution_count": null,
   "metadata": {},
   "outputs": [],
   "source": []
  }
 ],
 "metadata": {
  "kernelspec": {
   "display_name": "Python 3",
   "language": "python",
   "name": "python3"
  },
  "language_info": {
   "codemirror_mode": {
    "name": "ipython",
    "version": 3
   },
   "file_extension": ".py",
   "mimetype": "text/x-python",
   "name": "python",
   "nbconvert_exporter": "python",
   "pygments_lexer": "ipython3",
   "version": "3.6.2"
  },
  "toc": {
   "colors": {
    "hover_highlight": "#DAA520",
    "running_highlight": "#FF0000",
    "selected_highlight": "#FFD700"
   },
   "moveMenuLeft": true,
   "nav_menu": {
    "height": "66px",
    "width": "252px"
   },
   "navigate_menu": true,
   "number_sections": true,
   "sideBar": true,
   "threshold": 4,
   "toc_cell": false,
   "toc_section_display": "block",
   "toc_window_display": false
  }
 },
 "nbformat": 4,
 "nbformat_minor": 2
}
