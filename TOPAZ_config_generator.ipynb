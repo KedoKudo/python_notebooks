{
 "cells": [
  {
   "cell_type": "markdown",
   "metadata": {
    "run_control": {
     "frozen": false,
     "read_only": false
    }
   },
   "source": [
    "[![Notebook Tutorial](__code/__all/notebook_tutorial.png)](https://neutronimaging.pages.ornl.gov/en/tutorial/notebooks/topaz_config_generator/)"
   ]
  },
  {
   "cell_type": "markdown",
   "metadata": {
    "run_control": {
     "frozen": false,
     "read_only": false
    }
   },
   "source": [
    "<img src='__docs/__all/shift_enter.gif' />"
   ]
  },
  {
   "cell_type": "markdown",
   "metadata": {
    "run_control": {
     "frozen": false,
     "read_only": false
    }
   },
   "source": [
    "# Select IPTS"
   ]
  },
  {
   "cell_type": "code",
   "execution_count": 1,
   "metadata": {
    "run_control": {
     "frozen": false,
     "marked": true,
     "read_only": false
    }
   },
   "outputs": [
    {
     "name": "stdout",
     "output_type": "stream",
     "text": [
      "** Using Debugging Mode! **\n"
     ]
    },
    {
     "data": {
      "application/vnd.jupyter.widget-view+json": {
       "model_id": "a1c673d7be5046b2bcc23ceb4a2ebc82",
       "version_major": 2,
       "version_minor": 0
      },
      "text/html": [
       "<p>Failed to display Jupyter Widget of type <code>VBox</code>.</p>\n",
       "<p>\n",
       "  If you're reading this message in Jupyter Notebook or JupyterLab, it may mean\n",
       "  that the widgets JavaScript is still loading. If this message persists, it\n",
       "  likely means that the widgets JavaScript library is either not installed or\n",
       "  not enabled. See the <a href=\"https://ipywidgets.readthedocs.io/en/stable/user_install.html\">Jupyter\n",
       "  Widgets Documentation</a> for setup instructions.\n",
       "</p>\n",
       "<p>\n",
       "  If you're reading this message in another notebook frontend (for example, a static\n",
       "  rendering on GitHub or <a href=\"https://nbviewer.jupyter.org/\">NBViewer</a>),\n",
       "  it may mean that your frontend doesn't currently support widgets.\n",
       "</p>\n"
      ],
      "text/plain": [
       "VBox(children=(HBox(children=(Label(value='IPTS-'), Text(value='', layout=Layout(width='10%')), Label(value='DOES NOT EXIST!', layout=Layout(width='20%'), _dom_classes=('result_label',)))), Label(value='OR'), HBox(children=(Label(value='Select Folder', layout=Layout(width='20%')), Select(layout=Layout(height='300px'), options=('BraggEdge', 'Brianne', 'DOE_letters', 'FITSimages', 'IPTS-12534', 'IPTS-13639_resonance_shawn', 'IPTS-14832', 'IPTS-15177', 'IPTS-16212', 'IPTS-16259', 'IPTS-16475', 'IPTS-16893', 'IPTS-17099', 'IPTS-17685', 'IPTS-17981', 'IPTS-18580', 'IPTS-18806', 'IPTS-18813', 'IPTS-19037', 'IPTS-19558', 'IPTS-19621', 'IPTS-19626', 'IPTS-20209-TOPAZ', 'IPTS_test_normalization', 'IPTS_testing_time_spectra', 'ImagesToRegisterForGian', 'Indu', 'Keita_code', 'Pour_ibeatles_video', 'ResonanceImaging', 'SENSITIVE', 'SarmaGUI', 'SphereCoordinates3D', 'TempData', 'gian', 'iBeatles_debugging', 'shared'), value='BraggEdge'))), Button(button_style='info', description='HELP', style=ButtonStyle())))"
      ]
     },
     "metadata": {},
     "output_type": "display_data"
    },
    {
     "data": {
      "text/html": [
       "<style>\n",
       "\n",
       "/* The following CSS has been adapted from\n",
       "   http://nbviewer.ipython.org/github/ketch/teaching-numerics-with-notebooks/blob/master/Styling_notebooks.ipynb\n",
       "   by Aron Ahmadia and David Ketcheson and has been reused under CC BY 4.0\n",
       "   */\n",
       "\n",
       "/* main background */\n",
       "#site { \n",
       "    background: #888;\n",
       "    color: #red; \n",
       "}\n",
       "\n",
       "div.container {\n",
       "    width: 100% ! important;\n",
       "}\n",
       "\n",
       "div.cell { /* set cell width to about 80 chars */\n",
       "    width: 95%;\n",
       "}\n",
       "\n",
       "div #notebook { /* centre the content */\n",
       "/*    background: #fff; /* white background for content */\n",
       "    background: blue;\n",
       "    width: 100%;\n",
       "    margin: auto;\n",
       "    padding-left: 1em;\n",
       "    padding-right: 1em;\n",
       "    background-image: url(\"tile_background.jpg\");\n",
       "}\n",
       "\n",
       "#notebook li { /* More space between bullet points */\n",
       "    margin-top:0.4em;\n",
       "}\n",
       "\n",
       "/* change background color of running cells */\n",
       "div.cell.code_cell.running {\n",
       "/*    background-color: rgba(164,188,194,.75); */\n",
       "    background-color: green;\n",
       "    border-width: 8px\n",
       "    border-style: solid\n",
       "    border-color: #111;\n",
       "}\n",
       "\n",
       "/* Put a solid color box around each cell and its output, visually linking them together */\n",
       "div.cell.code_cell {\n",
       "    background-color: rgba(164,188,194,.25); /* Continuum L Gray with alpha 0.25 */\n",
       "    border-radius: 10px; /* rounded borders */\n",
       "    padding: 1em;\n",
       "    margin-top: 1em;\n",
       "}\n",
       "\n",
       "div.text_cell_render{\n",
       "\tfont-family: Georgia, Times, 'Times New Roman', serif;\n",
       "    line-height: 110%;\n",
       "    font-size: 105%;\n",
       "    width: 95%;\n",
       "    margin-left: auto;\n",
       "    margin-right: auto;\n",
       "}\n",
       "\n",
       "\n",
       "/* Formatting for header cells */\n",
       ".text_cell_render h1 {\n",
       "\tfont-family: Arial, 'Helvetica Neue', Helvetica, sans-serif;\n",
       "    font-weight: 400;\n",
       "    font-size: 30pt;\n",
       "    line-height: 100%;\n",
       "    color: rgb(37,55,70); /* Continuum Blue*/\n",
       "    margin-bottom: 0.1em;\n",
       "    margin-top: 0.1em;\n",
       "    display: block;\n",
       "}\n",
       ".text_cell_render h2 {\n",
       "\tfont-family: Arial, 'Helvetica Neue', Helvetica, sans-serif;\n",
       "    font-weight: 700;\n",
       "    font-size: 22pt;\n",
       "    line-height: 100%;\n",
       "    color: rgb(37,55,70);\n",
       "    margin-bottom: 0.1em;\n",
       "    margin-top: 0.1em;\n",
       "    display: block;\n",
       "}\n",
       "\n",
       ".text_cell_render h3 {\n",
       "\tfont-family: Arial, 'Helvetica Neue', Helvetica, sans-serif;\n",
       "    margin-top:12px;\n",
       "    margin-bottom: 3px;\n",
       "    font-style: italic;\n",
       "    color: rgb(37, 55, 70);\n",
       "}\n",
       "\n",
       ".text_cell_render h4 {\n",
       "\tfont-family: Arial, 'Helvetica Neue', Helvetica, sans-serif;\n",
       "}\n",
       "\n",
       ".text_cell_render h5 {\n",
       "\tfont-family: Arial, 'Helvetica Neue', Helvetica, sans-serif;\n",
       "    font-weight: 300;\n",
       "    font-size: 14pt;\n",
       "    font-style: italic;\n",
       "    margin-bottom: .1em;\n",
       "    margin-top: 0.1em;\n",
       "    display: block;\n",
       "}\n",
       "\n",
       ".text_cell_render h6 {\n",
       "\tfont-family: Arial, 'Helvetica Neue', Helvetica, sans-serif;\n",
       "    font-weight: 300;\n",
       "    font-size: 10pt;\n",
       "    margin-bottom: 1px;\n",
       "    margin-top: 1px;\n",
       "}\n",
       "\n",
       ".CodeMirror{\n",
       "        font-family: \"PT Mono\", fixed;\n",
       "        font-size: 100%;\n",
       "}\n",
       "\n",
       "#notebook_panel { /* main background */\n",
       "    background-image: url(\"tile_background.jpg\");\n",
       "}\n",
       "\n",
       "\n",
       "\n",
       "\n",
       "</style>\n"
      ],
      "text/plain": [
       "<IPython.core.display.HTML object>"
      ]
     },
     "execution_count": 1,
     "metadata": {},
     "output_type": "execute_result"
    }
   ],
   "source": [
    "from __code import system\n",
    "from IPython.core.display import HTML\n",
    "\n",
    "from __code.topaz_config_generator import TopazConfigGenerator, ConfigLoader\n",
    "system.System.select_working_dir(system_folder='/SNS/TOPAZ/')\n",
    "\n",
    "from __code.__all import custom_style\n",
    "custom_style.style()"
   ]
  },
  {
   "cell_type": "markdown",
   "metadata": {
    "run_control": {
     "frozen": false,
     "read_only": false
    }
   },
   "source": [
    "# Initialize parameters using configuration file (optional)"
   ]
  },
  {
   "cell_type": "markdown",
   "metadata": {
    "run_control": {
     "frozen": false,
     "read_only": false
    }
   },
   "source": [
    "If you want to initialize all the widgets of this notebook with a configuration file you previously created, select the config file here"
   ]
  },
  {
   "cell_type": "code",
   "execution_count": 2,
   "metadata": {
    "run_control": {
     "frozen": false,
     "read_only": false
    }
   },
   "outputs": [
    {
     "data": {
      "application/vnd.jupyter.widget-view+json": {
       "model_id": "7b4f433261f24ed1a8f8c44399c31958",
       "version_major": 2,
       "version_minor": 0
      },
      "text/html": [
       "<p>Failed to display Jupyter Widget of type <code>HBox</code>.</p>\n",
       "<p>\n",
       "  If you're reading this message in Jupyter Notebook or JupyterLab, it may mean\n",
       "  that the widgets JavaScript is still loading. If this message persists, it\n",
       "  likely means that the widgets JavaScript library is either not installed or\n",
       "  not enabled. See the <a href=\"https://ipywidgets.readthedocs.io/en/stable/user_install.html\">Jupyter\n",
       "  Widgets Documentation</a> for setup instructions.\n",
       "</p>\n",
       "<p>\n",
       "  If you're reading this message in another notebook frontend (for example, a static\n",
       "  rendering on GitHub or <a href=\"https://nbviewer.jupyter.org/\">NBViewer</a>),\n",
       "  it may mean that your frontend doesn't currently support widgets.\n",
       "</p>\n"
      ],
      "text/plain": [
       "HBox(children=(Label(value='Configuration File Selected:', layout=Layout(width='20%')), Label(value='N/A', layout=Layout(width='80%'))))"
      ]
     },
     "metadata": {},
     "output_type": "display_data"
    },
    {
     "data": {
      "application/vnd.jupyter.widget-view+json": {
       "model_id": "8a86a2156e0e4368843d652aaf01e595",
       "version_major": 2,
       "version_minor": 0
      },
      "text/html": [
       "<p>Failed to display Jupyter Widget of type <code>VBox</code>.</p>\n",
       "<p>\n",
       "  If you're reading this message in Jupyter Notebook or JupyterLab, it may mean\n",
       "  that the widgets JavaScript is still loading. If this message persists, it\n",
       "  likely means that the widgets JavaScript library is either not installed or\n",
       "  not enabled. See the <a href=\"https://ipywidgets.readthedocs.io/en/stable/user_install.html\">Jupyter\n",
       "  Widgets Documentation</a> for setup instructions.\n",
       "</p>\n",
       "<p>\n",
       "  If you're reading this message in another notebook frontend (for example, a static\n",
       "  rendering on GitHub or <a href=\"https://nbviewer.jupyter.org/\">NBViewer</a>),\n",
       "  it may mean that your frontend doesn't currently support widgets.\n",
       "</p>\n"
      ],
      "text/plain": [
       "VBox(children=(Label(value='Select Configuration File (*.config)', layout=Layout(width='250px')), VBox(children=(HBox(children=(HBox(children=(Text(value='/Volumes/my_book_thunderbolt_duo/IPTS/IPTS-20209-TOPAZ', description='Location: ', layout=Layout(width='500px'), placeholder=''), Button(description='Jump', layout=Layout(margin='5px 10px', width='100px'), style=ButtonStyle())), layout=Layout(border='1px solid lightgrey', margin='5px 50px 5px 5px', padding='3px')),)), VBox(children=(Select(description='Select', layout=Layout(height='260px', width='750px'), options=(' .', ' ..', ' .DS_Store     |     Sat Feb  3 14:56:40 2018', ' data          |     Directory', ' shared        |     Directory'), value=' .'), HBox(children=(Button(description='Enter directory', layout=Layout(margin='5px 40px'), style=ButtonStyle()), Button(description='Select', layout=Layout(margin='5px 40px'), style=ButtonStyle())))), layout=Layout(border='1px solid lightgrey', margin='5px', padding='10px')))), HTML(value='')))"
      ]
     },
     "metadata": {},
     "output_type": "display_data"
    }
   ],
   "source": [
    "o_config_loader = ConfigLoader(working_dir=system.System.get_working_dir())\n",
    "o_config_loader.select_config_file()"
   ]
  },
  {
   "cell_type": "markdown",
   "metadata": {
    "run_control": {
     "frozen": false,
     "read_only": false
    }
   },
   "source": [
    "# Define Parameters "
   ]
  },
  {
   "cell_type": "markdown",
   "metadata": {},
   "source": [
    "<img src='__docs/__all/shift_enter_only.gif' />"
   ]
  },
  {
   "cell_type": "code",
   "execution_count": 3,
   "metadata": {
    "run_control": {
     "frozen": false,
     "read_only": false
    },
    "scrolled": false
   },
   "outputs": [
    {
     "data": {
      "text/html": [
       "\n",
       "            <style>\n",
       "            .mylabel_key {\n",
       "               font-style: bold;\n",
       "               color: black;\n",
       "               font-size: 18px;\n",
       "            }\n",
       "            </style>\n",
       "            "
      ],
      "text/plain": [
       "<IPython.core.display.HTML object>"
      ]
     },
     "metadata": {},
     "output_type": "display_data"
    },
    {
     "data": {
      "text/html": [
       "<h2>Define Config File Name</h2>"
      ],
      "text/plain": [
       "<IPython.core.display.HTML object>"
      ]
     },
     "metadata": {},
     "output_type": "display_data"
    },
    {
     "data": {
      "application/vnd.jupyter.widget-view+json": {
       "model_id": "d69abd62f6dc49778fb0f913d0533b8f",
       "version_major": 2,
       "version_minor": 0
      },
      "text/html": [
       "<p>Failed to display Jupyter Widget of type <code>HBox</code>.</p>\n",
       "<p>\n",
       "  If you're reading this message in Jupyter Notebook or JupyterLab, it may mean\n",
       "  that the widgets JavaScript is still loading. If this message persists, it\n",
       "  likely means that the widgets JavaScript library is either not installed or\n",
       "  not enabled. See the <a href=\"https://ipywidgets.readthedocs.io/en/stable/user_install.html\">Jupyter\n",
       "  Widgets Documentation</a> for setup instructions.\n",
       "</p>\n",
       "<p>\n",
       "  If you're reading this message in another notebook frontend (for example, a static\n",
       "  rendering on GitHub or <a href=\"https://nbviewer.jupyter.org/\">NBViewer</a>),\n",
       "  it may mean that your frontend doesn't currently support widgets.\n",
       "</p>\n"
      ],
      "text/plain": [
       "HBox(children=(Label(value='Config File Name:', layout=Layout(width='20%')), Text(value='tmp', layout=Layout(width='75%')), Label(value='.config', layout=Layout(width='5%'))))"
      ]
     },
     "metadata": {},
     "output_type": "display_data"
    },
    {
     "data": {
      "text/html": [
       "<h2 id='input_directory'>Select Input Data Folder</h2>"
      ],
      "text/plain": [
       "<IPython.core.display.HTML object>"
      ]
     },
     "metadata": {},
     "output_type": "display_data"
    },
    {
     "data": {
      "application/vnd.jupyter.widget-view+json": {
       "model_id": "8ca976ee17944ee685c95a934e2e4945",
       "version_major": 2,
       "version_minor": 0
      },
      "text/html": [
       "<p>Failed to display Jupyter Widget of type <code>HBox</code>.</p>\n",
       "<p>\n",
       "  If you're reading this message in Jupyter Notebook or JupyterLab, it may mean\n",
       "  that the widgets JavaScript is still loading. If this message persists, it\n",
       "  likely means that the widgets JavaScript library is either not installed or\n",
       "  not enabled. See the <a href=\"https://ipywidgets.readthedocs.io/en/stable/user_install.html\">Jupyter\n",
       "  Widgets Documentation</a> for setup instructions.\n",
       "</p>\n",
       "<p>\n",
       "  If you're reading this message in another notebook frontend (for example, a static\n",
       "  rendering on GitHub or <a href=\"https://nbviewer.jupyter.org/\">NBViewer</a>),\n",
       "  it may mean that your frontend doesn't currently support widgets.\n",
       "</p>\n"
      ],
      "text/plain": [
       "HBox(children=(Label(value='Input Data Folder Selected:', layout=Layout(width='25%'), _dom_classes=('mylabel_key',)), Label(value='', layout=Layout(width='70%'))))"
      ]
     },
     "metadata": {},
     "output_type": "display_data"
    },
    {
     "data": {
      "application/vnd.jupyter.widget-view+json": {
       "model_id": "deaed7cc3dad49e7852035e4c0a9dcdf",
       "version_major": 2,
       "version_minor": 0
      },
      "text/html": [
       "<p>Failed to display Jupyter Widget of type <code>VBox</code>.</p>\n",
       "<p>\n",
       "  If you're reading this message in Jupyter Notebook or JupyterLab, it may mean\n",
       "  that the widgets JavaScript is still loading. If this message persists, it\n",
       "  likely means that the widgets JavaScript library is either not installed or\n",
       "  not enabled. See the <a href=\"https://ipywidgets.readthedocs.io/en/stable/user_install.html\">Jupyter\n",
       "  Widgets Documentation</a> for setup instructions.\n",
       "</p>\n",
       "<p>\n",
       "  If you're reading this message in another notebook frontend (for example, a static\n",
       "  rendering on GitHub or <a href=\"https://nbviewer.jupyter.org/\">NBViewer</a>),\n",
       "  it may mean that your frontend doesn't currently support widgets.\n",
       "</p>\n"
      ],
      "text/plain": [
       "VBox(children=(Label(value='', layout=Layout(width='250px')), VBox(children=(HBox(children=(HBox(children=(Text(value='/Volumes/my_book_thunderbolt_duo/IPTS/IPTS-20209-TOPAZ/data', description='Location: ', layout=Layout(width='500px'), placeholder=''), Button(description='Jump', layout=Layout(margin='5px 10px', width='100px'), style=ButtonStyle())), layout=Layout(border='1px solid lightgrey', margin='5px 50px 5px 5px', padding='3px')),)), VBox(children=(Select(description='Select', layout=Layout(height='260px', width='750px'), options=(' .', ' ..', ' TOPAZ_25317_event.nxs     |     Mon Feb 19 09:47:42 2018', ' TOPAZ_25317_histo.nxs     |     Mon Feb 19 09:47:59 2018', ' TOPAZ_25318_event.nxs     |     Mon Feb 19 09:47:46 2018', ' TOPAZ_25319_event.nxs     |     Mon Feb 19 09:47:49 2018', ' TOPAZ_25320_event.nxs     |     Mon Feb 19 09:48:16 2018', ' TOPAZ_25321_event.nxs     |     Mon Feb 19 09:48:19 2018', ' TOPAZ_25322_event.nxs     |     Mon Feb 19 09:48:22 2018', ' TOPAZ_25323_event.nxs     |     Mon Feb 19 09:48:25 2018', ' TOPAZ_25324_event.nxs     |     Mon Feb 19 09:48:27 2018', ' TOPAZ_25400_histo.nxs     |     Mon Feb 19 09:48:05 2018'), value=' .'), HBox(children=(Button(description='Enter directory', layout=Layout(margin='5px 40px'), style=ButtonStyle()), Button(description='Select', layout=Layout(margin='5px 40px'), style=ButtonStyle())))), layout=Layout(border='1px solid lightgrey', margin='5px', padding='10px')))), HTML(value='')))"
      ]
     },
     "metadata": {},
     "output_type": "display_data"
    },
    {
     "data": {
      "application/vnd.jupyter.widget-view+json": {
       "model_id": "7fa76cc7d2ba4fbd9fa917e326b54a53",
       "version_major": 2,
       "version_minor": 0
      },
      "text/html": [
       "<p>Failed to display Jupyter Widget of type <code>Label</code>.</p>\n",
       "<p>\n",
       "  If you're reading this message in Jupyter Notebook or JupyterLab, it may mean\n",
       "  that the widgets JavaScript is still loading. If this message persists, it\n",
       "  likely means that the widgets JavaScript library is either not installed or\n",
       "  not enabled. See the <a href=\"https://ipywidgets.readthedocs.io/en/stable/user_install.html\">Jupyter\n",
       "  Widgets Documentation</a> for setup instructions.\n",
       "</p>\n",
       "<p>\n",
       "  If you're reading this message in another notebook frontend (for example, a static\n",
       "  rendering on GitHub or <a href=\"https://nbviewer.jupyter.org/\">NBViewer</a>),\n",
       "  it may mean that your frontend doesn't currently support widgets.\n",
       "</p>\n"
      ],
      "text/plain": [
       "Label(value='FOOTER should stay footer!!!!')"
      ]
     },
     "metadata": {},
     "output_type": "display_data"
    },
    {
     "data": {
      "text/html": [
       "<h2 id='output_directory'>Select or Create Output Folder</h2>"
      ],
      "text/plain": [
       "<IPython.core.display.HTML object>"
      ]
     },
     "metadata": {},
     "output_type": "display_data"
    },
    {
     "data": {
      "application/vnd.jupyter.widget-view+json": {
       "model_id": "8220dbc76c2d4385bea6a8340cc370e9",
       "version_major": 2,
       "version_minor": 0
      },
      "text/html": [
       "<p>Failed to display Jupyter Widget of type <code>HBox</code>.</p>\n",
       "<p>\n",
       "  If you're reading this message in Jupyter Notebook or JupyterLab, it may mean\n",
       "  that the widgets JavaScript is still loading. If this message persists, it\n",
       "  likely means that the widgets JavaScript library is either not installed or\n",
       "  not enabled. See the <a href=\"https://ipywidgets.readthedocs.io/en/stable/user_install.html\">Jupyter\n",
       "  Widgets Documentation</a> for setup instructions.\n",
       "</p>\n",
       "<p>\n",
       "  If you're reading this message in another notebook frontend (for example, a static\n",
       "  rendering on GitHub or <a href=\"https://nbviewer.jupyter.org/\">NBViewer</a>),\n",
       "  it may mean that your frontend doesn't currently support widgets.\n",
       "</p>\n"
      ],
      "text/plain": [
       "HBox(children=(Label(value='Output Data Folder Selected:', layout=Layout(width='25%'), _dom_classes=('mylabel_key',)), Label(value='/Volumes/my_book_thunderbolt_duo/IPTS/IPTS-20209-TOPAZ/shared', layout=Layout(width='70%'))))"
      ]
     },
     "metadata": {},
     "output_type": "display_data"
    },
    {
     "data": {
      "application/vnd.jupyter.widget-view+json": {
       "model_id": "079a13a8a44146dc9298b3f33c06360a",
       "version_major": 2,
       "version_minor": 0
      },
      "text/html": [
       "<p>Failed to display Jupyter Widget of type <code>VBox</code>.</p>\n",
       "<p>\n",
       "  If you're reading this message in Jupyter Notebook or JupyterLab, it may mean\n",
       "  that the widgets JavaScript is still loading. If this message persists, it\n",
       "  likely means that the widgets JavaScript library is either not installed or\n",
       "  not enabled. See the <a href=\"https://ipywidgets.readthedocs.io/en/stable/user_install.html\">Jupyter\n",
       "  Widgets Documentation</a> for setup instructions.\n",
       "</p>\n",
       "<p>\n",
       "  If you're reading this message in another notebook frontend (for example, a static\n",
       "  rendering on GitHub or <a href=\"https://nbviewer.jupyter.org/\">NBViewer</a>),\n",
       "  it may mean that your frontend doesn't currently support widgets.\n",
       "</p>\n"
      ],
      "text/plain": [
       "VBox(children=(Label(value='Location of Output Folder', layout=Layout(width='250px')), VBox(children=(HBox(children=(HBox(children=(Text(value='/Volumes/my_book_thunderbolt_duo/IPTS/IPTS-20209-TOPAZ/shared', description='Location: ', layout=Layout(width='500px'), placeholder=''), Button(description='Jump', layout=Layout(margin='5px 10px', width='100px'), style=ButtonStyle())), layout=Layout(border='1px solid lightgrey', margin='5px 50px 5px 5px', padding='3px')), HBox(children=(Text(value='', description='New subdir: ', layout=Layout(width='180px'), placeholder='new dir name'), Button(description='Create', layout=Layout(margin='5px 10px', width='100px'), style=ButtonStyle())), layout=Layout(border='1px solid lightgrey', margin='5px 50px 5px 5px', padding='3px')))), VBox(children=(Select(description='Select', layout=Layout(height='260px', width='750px'), options=(' .', ' ..', ' .DS_Store                    |     Mon Feb  5 13:44:57 2018', ' 17pPb_Na2Ir03_11ef           |     Directory', ' 17pPb_Na2IrO3_13-14-15ep     |     Fri Feb  2 17:59:05 2018', ' config_file_test1.cfg        |     Wed Feb  7 12:11:39 2018', ' reduce                       |     Directory', ' test                         |     Wed Feb  7 11:36:13 2018', ' tmp.cfg                      |     Wed Feb  7 12:47:59 2018'), value=' .'), HBox(children=(Button(description='Enter directory', layout=Layout(margin='5px 40px'), style=ButtonStyle()), Button(description='Select', layout=Layout(margin='5px 40px'), style=ButtonStyle())))), layout=Layout(border='1px solid lightgrey', margin='5px', padding='10px')))), HTML(value='')))"
      ]
     },
     "metadata": {},
     "output_type": "display_data"
    },
    {
     "data": {
      "text/html": [
       "<h2 id='calibration_file'>Specify calibration file(s)</h2><br>SNAP requires two calibration files, one for each bank.                      If the default detector position is to be used, specify <strong>None</strong> as the calibration file name."
      ],
      "text/plain": [
       "<IPython.core.display.HTML object>"
      ]
     },
     "metadata": {},
     "output_type": "display_data"
    },
    {
     "data": {
      "application/vnd.jupyter.widget-view+json": {
       "model_id": "b03f410fb86547428c65c6d08d7bde8c",
       "version_major": 2,
       "version_minor": 0
      },
      "text/html": [
       "<p>Failed to display Jupyter Widget of type <code>HBox</code>.</p>\n",
       "<p>\n",
       "  If you're reading this message in Jupyter Notebook or JupyterLab, it may mean\n",
       "  that the widgets JavaScript is still loading. If this message persists, it\n",
       "  likely means that the widgets JavaScript library is either not installed or\n",
       "  not enabled. See the <a href=\"https://ipywidgets.readthedocs.io/en/stable/user_install.html\">Jupyter\n",
       "  Widgets Documentation</a> for setup instructions.\n",
       "</p>\n",
       "<p>\n",
       "  If you're reading this message in another notebook frontend (for example, a static\n",
       "  rendering on GitHub or <a href=\"https://nbviewer.jupyter.org/\">NBViewer</a>),\n",
       "  it may mean that your frontend doesn't currently support widgets.\n",
       "</p>\n"
      ],
      "text/plain": [
       "HBox(children=(Label(value='Calibration File:', layout=Layout(width='15%')), Dropdown(layout=Layout(width='85%'), options=('/Volumes/my_book_thunderbolt_duo/IPTS/shared/calibrations/2017C/TOPAZ_2017C.DetCal', 'None'), value='/Volumes/my_book_thunderbolt_duo/IPTS/shared/calibrations/2017C/TOPAZ_2017C.DetCal')))"
      ]
     },
     "metadata": {},
     "output_type": "display_data"
    },
    {
     "data": {
      "text/html": [
       "<h2>Goniometer z Offset Correction</h2><br>Test correction for Goniometer z offset"
      ],
      "text/plain": [
       "<IPython.core.display.HTML object>"
      ]
     },
     "metadata": {},
     "output_type": "display_data"
    },
    {
     "data": {
      "application/vnd.jupyter.widget-view+json": {
       "model_id": "468b623cb5d34e4e9d9e564a6484a7b5",
       "version_major": 2,
       "version_minor": 0
      },
      "text/html": [
       "<p>Failed to display Jupyter Widget of type <code>VBox</code>.</p>\n",
       "<p>\n",
       "  If you're reading this message in Jupyter Notebook or JupyterLab, it may mean\n",
       "  that the widgets JavaScript is still loading. If this message persists, it\n",
       "  likely means that the widgets JavaScript library is either not installed or\n",
       "  not enabled. See the <a href=\"https://ipywidgets.readthedocs.io/en/stable/user_install.html\">Jupyter\n",
       "  Widgets Documentation</a> for setup instructions.\n",
       "</p>\n",
       "<p>\n",
       "  If you're reading this message in another notebook frontend (for example, a static\n",
       "  rendering on GitHub or <a href=\"https://nbviewer.jupyter.org/\">NBViewer</a>),\n",
       "  it may mean that your frontend doesn't currently support widgets.\n",
       "</p>\n"
      ],
      "text/plain": [
       "VBox(children=(HBox(children=(Label(value='z_offset:', layout=Layout(width='5%')), FloatSlider(value=0.0, continuous_update=False, layout=Layout(width='30%'), max=10.0, min=-10.0))), HBox(children=(Label(value='x_offset:', layout=Layout(width='5%')), FloatSlider(value=0.0, continuous_update=False, layout=Layout(width='30%'), max=10.0, min=-10.0)))))"
      ]
     },
     "metadata": {},
     "output_type": "display_data"
    },
    {
     "data": {
      "text/html": [
       "<h2>Use Monitor Counts ?</h2><br> If use_monitor_counts is True, then the integrated beam monitor             counts will be used for scaling. <br>If use_monitor_counts is False,             then the integrated proton charge will be used for scaling. <br><br>These             values will be listed under MONCNT in the integrate file."
      ],
      "text/plain": [
       "<IPython.core.display.HTML object>"
      ]
     },
     "metadata": {},
     "output_type": "display_data"
    },
    {
     "data": {
      "application/vnd.jupyter.widget-view+json": {
       "model_id": "9cfe1503f9c34fea98615586d0c3e672",
       "version_major": 2,
       "version_minor": 0
      },
      "text/html": [
       "<p>Failed to display Jupyter Widget of type <code>Checkbox</code>.</p>\n",
       "<p>\n",
       "  If you're reading this message in Jupyter Notebook or JupyterLab, it may mean\n",
       "  that the widgets JavaScript is still loading. If this message persists, it\n",
       "  likely means that the widgets JavaScript library is either not installed or\n",
       "  not enabled. See the <a href=\"https://ipywidgets.readthedocs.io/en/stable/user_install.html\">Jupyter\n",
       "  Widgets Documentation</a> for setup instructions.\n",
       "</p>\n",
       "<p>\n",
       "  If you're reading this message in another notebook frontend (for example, a static\n",
       "  rendering on GitHub or <a href=\"https://nbviewer.jupyter.org/\">NBViewer</a>),\n",
       "  it may mean that your frontend doesn't currently support widgets.\n",
       "</p>\n"
      ],
      "text/plain": [
       "Checkbox(value=False, description='Use Monitor Counts')"
      ]
     },
     "metadata": {},
     "output_type": "display_data"
    },
    {
     "data": {
      "text/html": [
       "<h2>TOF and Monitor</h2><br>Min & max tof determine the range of events loaded.<br> Min & max monitor tof                     determine the range of tofs integrated in the monitor data to get the                     total monitor counts. <br>You need these even if Use Monitor Counts is False."
      ],
      "text/plain": [
       "<IPython.core.display.HTML object>"
      ]
     },
     "metadata": {},
     "output_type": "display_data"
    },
    {
     "data": {
      "application/vnd.jupyter.widget-view+json": {
       "model_id": "0ccd46f97dae4a03b4a4241ac64b40e6",
       "version_major": 2,
       "version_minor": 0
      },
      "text/html": [
       "<p>Failed to display Jupyter Widget of type <code>VBox</code>.</p>\n",
       "<p>\n",
       "  If you're reading this message in Jupyter Notebook or JupyterLab, it may mean\n",
       "  that the widgets JavaScript is still loading. If this message persists, it\n",
       "  likely means that the widgets JavaScript library is either not installed or\n",
       "  not enabled. See the <a href=\"https://ipywidgets.readthedocs.io/en/stable/user_install.html\">Jupyter\n",
       "  Widgets Documentation</a> for setup instructions.\n",
       "</p>\n",
       "<p>\n",
       "  If you're reading this message in another notebook frontend (for example, a static\n",
       "  rendering on GitHub or <a href=\"https://nbviewer.jupyter.org/\">NBViewer</a>),\n",
       "  it may mean that your frontend doesn't currently support widgets.\n",
       "</p>\n"
      ],
      "text/plain": [
       "VBox(children=(HBox(children=(Label(value='TOF Range', layout=Layout(width='15%')), IntRangeSlider(value=(1000, 16600), continuous_update=False, layout=Layout(width='50%'), max=16600, min=500), Label(value='µs', layout=Layout(width='20%')))), HBox(children=(Label(value='Monitor Index', layout=Layout(width='15%')), Dropdown(layout=Layout(width='10%'), options=('0', '1'), value='0'))), HBox(children=(Label(value='Monitor TOF Range', layout=Layout(width='15%')), IntRangeSlider(value=(800, 12500), continuous_update=False, layout=Layout(width='50%'), max=16600, min=500), Label(value='µs', layout=Layout(width='20%'))))))"
      ]
     },
     "metadata": {},
     "output_type": "display_data"
    },
    {
     "data": {
      "text/html": [
       "<h2 id='ub_filename'>UB</h2><br>Read the UB matrix from file. This option will be applied to each run and used for             combined file. This option is especially helpful for 2nd frame TOPAZ data."
      ],
      "text/plain": [
       "<IPython.core.display.HTML object>"
      ]
     },
     "metadata": {},
     "output_type": "display_data"
    },
    {
     "data": {
      "application/vnd.jupyter.widget-view+json": {
       "model_id": "d9d3d4fd8cfe45e69f0b4aa128b7c17c",
       "version_major": 2,
       "version_minor": 0
      },
      "text/html": [
       "<p>Failed to display Jupyter Widget of type <code>Checkbox</code>.</p>\n",
       "<p>\n",
       "  If you're reading this message in Jupyter Notebook or JupyterLab, it may mean\n",
       "  that the widgets JavaScript is still loading. If this message persists, it\n",
       "  likely means that the widgets JavaScript library is either not installed or\n",
       "  not enabled. See the <a href=\"https://ipywidgets.readthedocs.io/en/stable/user_install.html\">Jupyter\n",
       "  Widgets Documentation</a> for setup instructions.\n",
       "</p>\n",
       "<p>\n",
       "  If you're reading this message in another notebook frontend (for example, a static\n",
       "  rendering on GitHub or <a href=\"https://nbviewer.jupyter.org/\">NBViewer</a>),\n",
       "  it may mean that your frontend doesn't currently support widgets.\n",
       "</p>\n"
      ],
      "text/plain": [
       "Checkbox(value=True, description='Read UB')"
      ]
     },
     "metadata": {},
     "output_type": "display_data"
    },
    {
     "data": {
      "application/vnd.jupyter.widget-view+json": {
       "model_id": "458085107fbd410787510d589d3e3823",
       "version_major": 2,
       "version_minor": 0
      },
      "text/html": [
       "<p>Failed to display Jupyter Widget of type <code>HBox</code>.</p>\n",
       "<p>\n",
       "  If you're reading this message in Jupyter Notebook or JupyterLab, it may mean\n",
       "  that the widgets JavaScript is still loading. If this message persists, it\n",
       "  likely means that the widgets JavaScript library is either not installed or\n",
       "  not enabled. See the <a href=\"https://ipywidgets.readthedocs.io/en/stable/user_install.html\">Jupyter\n",
       "  Widgets Documentation</a> for setup instructions.\n",
       "</p>\n",
       "<p>\n",
       "  If you're reading this message in another notebook frontend (for example, a static\n",
       "  rendering on GitHub or <a href=\"https://nbviewer.jupyter.org/\">NBViewer</a>),\n",
       "  it may mean that your frontend doesn't currently support widgets.\n",
       "</p>\n"
      ],
      "text/plain": [
       "HBox(children=(Label(value='UB File Selected:', layout=Layout(width='20%'), _dom_classes=('mylabel_key',)), Label(value='', layout=Layout(width='80%'))))"
      ]
     },
     "metadata": {},
     "output_type": "display_data"
    },
    {
     "data": {
      "application/vnd.jupyter.widget-view+json": {
       "model_id": "116e2cd356194f7dbc56a2c2fe84c7b2",
       "version_major": 2,
       "version_minor": 0
      },
      "text/html": [
       "<p>Failed to display Jupyter Widget of type <code>VBox</code>.</p>\n",
       "<p>\n",
       "  If you're reading this message in Jupyter Notebook or JupyterLab, it may mean\n",
       "  that the widgets JavaScript is still loading. If this message persists, it\n",
       "  likely means that the widgets JavaScript library is either not installed or\n",
       "  not enabled. See the <a href=\"https://ipywidgets.readthedocs.io/en/stable/user_install.html\">Jupyter\n",
       "  Widgets Documentation</a> for setup instructions.\n",
       "</p>\n",
       "<p>\n",
       "  If you're reading this message in another notebook frontend (for example, a static\n",
       "  rendering on GitHub or <a href=\"https://nbviewer.jupyter.org/\">NBViewer</a>),\n",
       "  it may mean that your frontend doesn't currently support widgets.\n",
       "</p>\n"
      ],
      "text/plain": [
       "VBox(children=(Label(value='Select UB File (*.mat)', layout=Layout(width='250px')), VBox(children=(HBox(children=(HBox(children=(Text(value='/Users/j35/git/IPTS/python_notebooks', description='Location: ', layout=Layout(width='500px'), placeholder=''), Button(description='Jump', layout=Layout(margin='5px 10px', width='100px'), style=ButtonStyle())), layout=Layout(border='1px solid lightgrey', margin='5px 50px 5px 5px', padding='3px')),)), VBox(children=(Select(description='Select', layout=Layout(height='260px', width='750px'), options=(' .', ' ..', ' .calculate_water_intake_profile.ipynb                     |     Mon Jan 22 12:21:09 2018', ' .git                                                      |     Directory', ' .gitignore                                                |     Mon Jan 22 12:21:09 2018', ' .idea                                                     |     Directory', ' .ipynb_checkpoints                                        |     Directory', ' .normalization.ipynb                                      |     Mon Jan 22 12:21:09 2018', ' .normalization_by_range_of_images_NO_GUIDE.ipynb          |     Mon Jan 22 12:21:09 2018', ' .pre_commit.py                                            |     Mon Jan 22 12:21:09 2018', ' .profile_vs_file_index_PROTOTYPE.ipynb                    |     Mon Jan 22 12:21:09 2018', ' README.md                                                 |     Mon Jan 22 12:21:09 2018', ' TOPAZ_config_generator.ipynb                              |     Wed Feb 21 15:06:02 2018', ' Tutorials                                                 |     Directory', ' Welcome.ipynb                                             |     Wed Feb 21 11:07:11 2018', ' __code                                                    |     Directory', ' __docs                                                    |     Directory', ' bin_images.ipynb                                          |     Wed Feb 21 11:07:11 2018', ' calculate_water_intake_profile.ipynb                      |     Wed Feb 21 11:07:11 2018', ' calculate_water_intake_profile_OLD.ipynb                  |     Wed Feb 21 11:07:12 2018', ' combine_folders.ipynb                                     |     Wed Feb 21 11:07:12 2018', ' combine_images.ipynb                                      |     Wed Feb 21 11:07:12 2018', ' create_list_of_file_name_vs_time_stamp.ipynb              |     Wed Feb 21 11:07:12 2018', ' deal_files.ipynb                                          |     Wed Feb 21 11:07:13 2018', ' display_and_export_images_with_metadata_profile.ipynb     |     Wed Feb 21 11:07:13 2018', ' display_and_export_images_with_timestamp.ipynb            |     Wed Feb 21 11:07:13 2018', ' display_counts_of_region_vs_stack.ipynb                   |     Wed Feb 21 11:07:13 2018', ' display_integrated_stack_of_images.ipynb                  |     Wed Feb 21 11:07:14 2018', ' file_name_and_metadata_vs_time_stamp.ipynb                |     Wed Feb 21 11:07:14 2018', ' fix_images.ipynb                                          |     Wed Feb 21 11:07:14 2018', ' fix_images_with_negative_pixels.ipynb                     |     Wed Feb 21 11:07:14 2018', ' format_filename_index.ipynb                               |     Wed Feb 21 11:07:15 2018', ' from_dsc_time_info_to_ascii_file_vs_time.ipynb            |     Wed Feb 21 11:07:15 2018', ' install_me.sh                                             |     Mon Jan 22 12:21:09 2018', ' ipts_18813.ipynb                                          |     Wed Feb 21 11:07:15 2018', ' linear_profile.ipynb                                      |     Wed Feb 21 11:07:15 2018', ' list_tiff_metadata.ipynb                                  |     Wed Feb 21 11:07:16 2018', ' locate_pixels.ipynb                                       |     Wed Feb 21 11:07:16 2018', ' normalization.ipynb                                       |     Wed Feb 21 11:07:16 2018', ' normalization_by_first_image.ipynb                        |     Wed Feb 21 11:07:17 2018', ' normalization_by_range_of_images.ipynb                    |     Wed Feb 21 11:07:17 2018', ' profile_vs_file_index.ipynb                               |     Wed Feb 21 11:07:17 2018', ' radial_profile.ipynb                                      |     Wed Feb 21 11:07:18 2018', ' requirements.txt                                          |     Mon Jan 22 12:21:09 2018', ' requirements.yml                                          |     Mon Jan 22 12:21:09 2018', ' resonance_imaging_experiment_vs_theory.ipynb              |     Wed Feb 21 11:07:18 2018', ' rotate_and_crop_images.ipynb                              |     Wed Feb 21 11:07:18 2018', ' template_ui.ipynb                                         |     Wed Feb 21 11:07:18 2018', ' test_topaz_run_parser.ipynb                               |     Wed Feb 21 11:07:19 2018', ' ui                                                        |     Directory', ' water_intake_profile_calculator.ipynb                     |     Wed Feb 21 13:31:58 2018'), value=' .'), HBox(children=(Button(description='Enter directory', layout=Layout(margin='5px 40px'), style=ButtonStyle()), Button(description='Select', layout=Layout(margin='5px 40px'), style=ButtonStyle())))), layout=Layout(border='1px solid lightgrey', margin='5px', padding='10px')))), HTML(value='')))"
      ]
     },
     "metadata": {},
     "output_type": "display_data"
    },
    {
     "data": {
      "text/html": [
       "<h2>Cell</h2><br>Specifiy a conventional cell type and centering.<br>If these are None, only             one .mat and .integrate file will be written for this run, and they will             be in terms of the Niggli reduced cell.  If these specifiy a valid             cell type and centering, an additional .mat and .integrate file will be             written for the specified cell_type and centering.<br><br><strong>NOTE:</strong> If run in             parallel, the driving script will only read the Niggli version of the             .integrate file, and will combine, re-index and convert to a conventional             cell, so these can usually be left as None.<br><br>             Cell transformation is not applied to cylindrical profiles,             i.e. use None if cylindrical integration is used!  "
      ],
      "text/plain": [
       "<IPython.core.display.HTML object>"
      ]
     },
     "metadata": {},
     "output_type": "display_data"
    },
    {
     "data": {
      "application/vnd.jupyter.widget-view+json": {
       "model_id": "490338b0ba674946aa6869dc14620813",
       "version_major": 2,
       "version_minor": 0
      },
      "text/html": [
       "<p>Failed to display Jupyter Widget of type <code>VBox</code>.</p>\n",
       "<p>\n",
       "  If you're reading this message in Jupyter Notebook or JupyterLab, it may mean\n",
       "  that the widgets JavaScript is still loading. If this message persists, it\n",
       "  likely means that the widgets JavaScript library is either not installed or\n",
       "  not enabled. See the <a href=\"https://ipywidgets.readthedocs.io/en/stable/user_install.html\">Jupyter\n",
       "  Widgets Documentation</a> for setup instructions.\n",
       "</p>\n",
       "<p>\n",
       "  If you're reading this message in another notebook frontend (for example, a static\n",
       "  rendering on GitHub or <a href=\"https://nbviewer.jupyter.org/\">NBViewer</a>),\n",
       "  it may mean that your frontend doesn't currently support widgets.\n",
       "</p>\n"
      ],
      "text/plain": [
       "VBox(children=(HBox(children=(Label(value='Cell Type:', layout=Layout(width='15%')), Dropdown(index=1, layout=Layout(width='20%'), options=('Triclinic', 'Monoclinic', 'Orthorhombic', 'Tetragonal', 'Rhombohedral', 'Hexagonal', 'Cubic', 'None'), value='Monoclinic'))), HBox(children=(Label(value='Centering:', layout=Layout(width='15%')), Dropdown(layout=Layout(width='20%'), options=('P', 'I', 'A', 'B', 'C'), value='P')))))"
      ]
     },
     "metadata": {},
     "output_type": "display_data"
    },
    {
     "data": {
      "text/html": [
       "<h2>Number of Peaks</h2><br> Number of peaks to find, per run, both for getting the UB matrix,         AND to determine how many peaks are integrated, if peak positions are         NOT predicted. <br><br> <strong>NOTE:</strong> This number must be choosen carefully. <ul><li> If too         many peaks are requested, find peaks will take a very long time and         the returned peaks will probably not even index, since most of them         will be 'noise' peaks.</li><li> If too few are requested, then there will be         few peaks to be integrated, and the UB matrix may not be as accurate         as it should be for predicting peaks to integrate.</li></ul>"
      ],
      "text/plain": [
       "<IPython.core.display.HTML object>"
      ]
     },
     "metadata": {},
     "output_type": "display_data"
    },
    {
     "data": {
      "application/vnd.jupyter.widget-view+json": {
       "model_id": "7d8ef5586a93410f973b218af579277f",
       "version_major": 2,
       "version_minor": 0
      },
      "text/html": [
       "<p>Failed to display Jupyter Widget of type <code>HBox</code>.</p>\n",
       "<p>\n",
       "  If you're reading this message in Jupyter Notebook or JupyterLab, it may mean\n",
       "  that the widgets JavaScript is still loading. If this message persists, it\n",
       "  likely means that the widgets JavaScript library is either not installed or\n",
       "  not enabled. See the <a href=\"https://ipywidgets.readthedocs.io/en/stable/user_install.html\">Jupyter\n",
       "  Widgets Documentation</a> for setup instructions.\n",
       "</p>\n",
       "<p>\n",
       "  If you're reading this message in another notebook frontend (for example, a static\n",
       "  rendering on GitHub or <a href=\"https://nbviewer.jupyter.org/\">NBViewer</a>),\n",
       "  it may mean that your frontend doesn't currently support widgets.\n",
       "</p>\n"
      ],
      "text/plain": [
       "HBox(children=(Label(value='Number of Peaks:', layout=Layout(width='15%')), IntSlider(value=300, layout=Layout(width='30%'), max=3000, min=100)))"
      ]
     },
     "metadata": {},
     "output_type": "display_data"
    },
    {
     "data": {
      "text/html": [
       "<h2>min_d, max_d and Tolerance</h2><br>min_d, max_d and tolerance control indexing peaks.<br><br>max_d is also             used to specify a threshold for the separation between peaks             returned by FindPeaksMD, so it should be specified somewhat larger             than the largest cell edge in the Niggli reduced cell for the sample."
      ],
      "text/plain": [
       "<IPython.core.display.HTML object>"
      ]
     },
     "metadata": {},
     "output_type": "display_data"
    },
    {
     "data": {
      "application/vnd.jupyter.widget-view+json": {
       "model_id": "98e0dbc406c34eecb6fa278d4776a260",
       "version_major": 2,
       "version_minor": 0
      },
      "text/html": [
       "<p>Failed to display Jupyter Widget of type <code>VBox</code>.</p>\n",
       "<p>\n",
       "  If you're reading this message in Jupyter Notebook or JupyterLab, it may mean\n",
       "  that the widgets JavaScript is still loading. If this message persists, it\n",
       "  likely means that the widgets JavaScript library is either not installed or\n",
       "  not enabled. See the <a href=\"https://ipywidgets.readthedocs.io/en/stable/user_install.html\">Jupyter\n",
       "  Widgets Documentation</a> for setup instructions.\n",
       "</p>\n",
       "<p>\n",
       "  If you're reading this message in another notebook frontend (for example, a static\n",
       "  rendering on GitHub or <a href=\"https://nbviewer.jupyter.org/\">NBViewer</a>),\n",
       "  it may mean that your frontend doesn't currently support widgets.\n",
       "</p>\n"
      ],
      "text/plain": [
       "VBox(children=(HBox(children=(Label(value='d', layout=Layout(width='1%')), IntRangeSlider(value=(5, 25), layout=Layout(width='30%'), max=90, min=3), Label(value='Å'))), HBox(children=(Label(value='Tolerance', layout=Layout(width='10%')), FloatSlider(value=0.12, layout=Layout(width='30%'), max=0.51, min=0.06, step=0.01)))))"
      ]
     },
     "metadata": {},
     "output_type": "display_data"
    },
    {
     "data": {
      "text/html": [
       "<h2>Predicted Peak</h2><br> If predicted peak positions are to be integrated,             then the integrate_predicted_peaks flag should be set to True and the range             of wavelengths and d-spacings must be specified"
      ],
      "text/plain": [
       "<IPython.core.display.HTML object>"
      ]
     },
     "metadata": {},
     "output_type": "display_data"
    },
    {
     "data": {
      "application/vnd.jupyter.widget-view+json": {
       "model_id": "8bd0f0400b7649429c835f4e9c57151e",
       "version_major": 2,
       "version_minor": 0
      },
      "text/html": [
       "<p>Failed to display Jupyter Widget of type <code>VBox</code>.</p>\n",
       "<p>\n",
       "  If you're reading this message in Jupyter Notebook or JupyterLab, it may mean\n",
       "  that the widgets JavaScript is still loading. If this message persists, it\n",
       "  likely means that the widgets JavaScript library is either not installed or\n",
       "  not enabled. See the <a href=\"https://ipywidgets.readthedocs.io/en/stable/user_install.html\">Jupyter\n",
       "  Widgets Documentation</a> for setup instructions.\n",
       "</p>\n",
       "<p>\n",
       "  If you're reading this message in another notebook frontend (for example, a static\n",
       "  rendering on GitHub or <a href=\"https://nbviewer.jupyter.org/\">NBViewer</a>),\n",
       "  it may mean that your frontend doesn't currently support widgets.\n",
       "</p>\n"
      ],
      "text/plain": [
       "VBox(children=(HBox(children=(Label(value='Integrate Predicted Peaks?', layout=Layout(width='20%')), Checkbox(value=True, layout=Layout(width='20%')))), HBox(children=(Label(value='Predicted Wavelengths', layout=Layout(width='20%')), FloatRangeSlider(value=(0.5, 3.4), layout=Layout(width='35%'), max=3.6, min=0.25), Label(value='Å'))), HBox(children=(Label(value='Predicted dspacing', layout=Layout(width='20%')), FloatRangeSlider(value=(0.5, 11.0), layout=Layout(width='35%'), max=12.0, min=0.25), Label(value='Å')))))"
      ]
     },
     "metadata": {},
     "output_type": "display_data"
    },
    {
     "data": {
      "text/html": [
       "<h2>Integration Method</h2><br> Select one of the following integration method."
      ],
      "text/plain": [
       "<IPython.core.display.HTML object>"
      ]
     },
     "metadata": {},
     "output_type": "display_data"
    },
    {
     "name": "stdout",
     "output_type": "stream",
     "text": [
      "_use_sphere: False\n",
      "_use_ellipse: False\n",
      "use_fit_peaks: False\n"
     ]
    },
    {
     "data": {
      "application/vnd.jupyter.widget-view+json": {
       "model_id": "180aac1874534c408040863e7ca28ae3",
       "version_major": 2,
       "version_minor": 0
      },
      "text/html": [
       "<p>Failed to display Jupyter Widget of type <code>HBox</code>.</p>\n",
       "<p>\n",
       "  If you're reading this message in Jupyter Notebook or JupyterLab, it may mean\n",
       "  that the widgets JavaScript is still loading. If this message persists, it\n",
       "  likely means that the widgets JavaScript library is either not installed or\n",
       "  not enabled. See the <a href=\"https://ipywidgets.readthedocs.io/en/stable/user_install.html\">Jupyter\n",
       "  Widgets Documentation</a> for setup instructions.\n",
       "</p>\n",
       "<p>\n",
       "  If you're reading this message in another notebook frontend (for example, a static\n",
       "  rendering on GitHub or <a href=\"https://nbviewer.jupyter.org/\">NBViewer</a>),\n",
       "  it may mean that your frontend doesn't currently support widgets.\n",
       "</p>\n"
      ],
      "text/plain": [
       "HBox(children=(Label(value='Integration Method', layout=Layout(width='15%')), Dropdown(index=2, layout=Layout(width='20%'), options=('Sphere', 'Ellipse', 'Cylindrical', 'Fit Peaks'), value='Cylindrical')))"
      ]
     },
     "metadata": {},
     "output_type": "display_data"
    },
    {
     "data": {
      "application/vnd.jupyter.widget-view+json": {
       "model_id": "3f70c960cbfe4c2cb7842f75fb38b319",
       "version_major": 2,
       "version_minor": 0
      },
      "text/html": [
       "<p>Failed to display Jupyter Widget of type <code>VBox</code>.</p>\n",
       "<p>\n",
       "  If you're reading this message in Jupyter Notebook or JupyterLab, it may mean\n",
       "  that the widgets JavaScript is still loading. If this message persists, it\n",
       "  likely means that the widgets JavaScript library is either not installed or\n",
       "  not enabled. See the <a href=\"https://ipywidgets.readthedocs.io/en/stable/user_install.html\">Jupyter\n",
       "  Widgets Documentation</a> for setup instructions.\n",
       "</p>\n",
       "<p>\n",
       "  If you're reading this message in another notebook frontend (for example, a static\n",
       "  rendering on GitHub or <a href=\"https://nbviewer.jupyter.org/\">NBViewer</a>),\n",
       "  it may mean that your frontend doesn't currently support widgets.\n",
       "</p>\n"
      ],
      "text/plain": [
       "VBox(children=(HBox(children=(Label(value='Peak Radius', layout=Layout(width='25%')), FloatSlider(value=0.13, layout=Layout(width='30%'), max=0.25, min=0.05, readout_format='.3f', step=0.001), Label(value='Å'))), HBox(children=(Label(value='Background Inner and Outer Radius', layout=Layout(width='25%')), FloatRangeSlider(value=(0.14, 0.15), layout=Layout(width='30%'), max=0.2, min=0.13, readout_format='.3f', step=0.001), Label(value='Å'))), HBox(children=(Label(value='Integrate if Edge Peak?', layout=Layout(width='15%')), Checkbox(value=True))), HBox(children=(Label(value='Ellipse Region Radius', layout=Layout(width='25%')), FloatSlider(value=0.2, layout=Layout(width='30%'), max=0.3, min=0.15, readout_format='.3f', step=0.001), Label(value='Å'))), HBox(children=(Label(value='Ellipse Size Specified', layout=Layout(width='25%')), Checkbox(value=True, layout=Layout(width='20%'))))))"
      ]
     },
     "metadata": {},
     "output_type": "display_data"
    },
    {
     "data": {
      "application/vnd.jupyter.widget-view+json": {
       "model_id": "baf7f9dcb0124ee4935f141b1b71572e",
       "version_major": 2,
       "version_minor": 0
      },
      "text/html": [
       "<p>Failed to display Jupyter Widget of type <code>VBox</code>.</p>\n",
       "<p>\n",
       "  If you're reading this message in Jupyter Notebook or JupyterLab, it may mean\n",
       "  that the widgets JavaScript is still loading. If this message persists, it\n",
       "  likely means that the widgets JavaScript library is either not installed or\n",
       "  not enabled. See the <a href=\"https://ipywidgets.readthedocs.io/en/stable/user_install.html\">Jupyter\n",
       "  Widgets Documentation</a> for setup instructions.\n",
       "</p>\n",
       "<p>\n",
       "  If you're reading this message in another notebook frontend (for example, a static\n",
       "  rendering on GitHub or <a href=\"https://nbviewer.jupyter.org/\">NBViewer</a>),\n",
       "  it may mean that your frontend doesn't currently support widgets.\n",
       "</p>\n"
      ],
      "text/plain": [
       "VBox(children=(HBox(children=(Label(value='Cylinder Radius', layout=Layout(width='15%')), FloatSlider(value=0.05, layout=Layout(width='30%'), max=0.1, min=0.02, readout_format='0.3f', step=0.001), Label(value='Å'))), HBox(children=(Label(value='Cylinder Length', layout=Layout(width='15%')), FloatSlider(value=0.3, layout=Layout(width='30%'), max=0.5, min=0.1, readout_format='0.3f', step=0.01), Label(value='Å')))))"
      ]
     },
     "metadata": {},
     "output_type": "display_data"
    },
    {
     "data": {
      "application/vnd.jupyter.widget-view+json": {
       "model_id": "4c58e81390db43e1945718b30b30d220",
       "version_major": 2,
       "version_minor": 0
      },
      "text/html": [
       "<p>Failed to display Jupyter Widget of type <code>VBox</code>.</p>\n",
       "<p>\n",
       "  If you're reading this message in Jupyter Notebook or JupyterLab, it may mean\n",
       "  that the widgets JavaScript is still loading. If this message persists, it\n",
       "  likely means that the widgets JavaScript library is either not installed or\n",
       "  not enabled. See the <a href=\"https://ipywidgets.readthedocs.io/en/stable/user_install.html\">Jupyter\n",
       "  Widgets Documentation</a> for setup instructions.\n",
       "</p>\n",
       "<p>\n",
       "  If you're reading this message in another notebook frontend (for example, a static\n",
       "  rendering on GitHub or <a href=\"https://nbviewer.jupyter.org/\">NBViewer</a>),\n",
       "  it may mean that your frontend doesn't currently support widgets.\n",
       "</p>\n"
      ],
      "text/plain": [
       "VBox(children=(Label(value='Rebin', _dom_classes=('mylabel_key',)), VBox(children=(Label(value='--> Logarithmic', layout=Layout(left='20px', width='25%')), Label(value='--> 0.006', layout=Layout(left='20px', width='25%')))), HBox(children=(Label(value='Preserve Events:', layout=Layout(width='25%'), _dom_classes=('mylabel_key',)), Label(value='True'))), HBox(children=(Label(value='Use Ikeda Carpenter:', layout=Layout(width='25%'), _dom_classes=('mylabel_key',)), Label(value='False')))))"
      ]
     },
     "metadata": {},
     "output_type": "display_data"
    },
    {
     "data": {
      "text/html": [
       "<h2>Bad Edge Pixels</h2>"
      ],
      "text/plain": [
       "<IPython.core.display.HTML object>"
      ]
     },
     "metadata": {},
     "output_type": "display_data"
    },
    {
     "data": {
      "application/vnd.jupyter.widget-view+json": {
       "model_id": "a9e62d39af5345bb89a1f4ed78302a42",
       "version_major": 2,
       "version_minor": 0
      },
      "text/html": [
       "<p>Failed to display Jupyter Widget of type <code>HBox</code>.</p>\n",
       "<p>\n",
       "  If you're reading this message in Jupyter Notebook or JupyterLab, it may mean\n",
       "  that the widgets JavaScript is still loading. If this message persists, it\n",
       "  likely means that the widgets JavaScript library is either not installed or\n",
       "  not enabled. See the <a href=\"https://ipywidgets.readthedocs.io/en/stable/user_install.html\">Jupyter\n",
       "  Widgets Documentation</a> for setup instructions.\n",
       "</p>\n",
       "<p>\n",
       "  If you're reading this message in another notebook frontend (for example, a static\n",
       "  rendering on GitHub or <a href=\"https://nbviewer.jupyter.org/\">NBViewer</a>),\n",
       "  it may mean that your frontend doesn't currently support widgets.\n",
       "</p>\n"
      ],
      "text/plain": [
       "HBox(children=(Label(value='Nbr bad edge pixels:', layout=Layout(width='15%')), IntSlider(value=0, layout=Layout(width='30%'), max=50)))"
      ]
     },
     "metadata": {},
     "output_type": "display_data"
    },
    {
     "data": {
      "text/html": [
       "<h2>Experiment Name</h2>"
      ],
      "text/plain": [
       "<IPython.core.display.HTML object>"
      ]
     },
     "metadata": {},
     "output_type": "display_data"
    },
    {
     "data": {
      "application/vnd.jupyter.widget-view+json": {
       "model_id": "8756cdc7ea3348cbba745e53a1b8686f",
       "version_major": 2,
       "version_minor": 0
      },
      "text/html": [
       "<p>Failed to display Jupyter Widget of type <code>Text</code>.</p>\n",
       "<p>\n",
       "  If you're reading this message in Jupyter Notebook or JupyterLab, it may mean\n",
       "  that the widgets JavaScript is still loading. If this message persists, it\n",
       "  likely means that the widgets JavaScript library is either not installed or\n",
       "  not enabled. See the <a href=\"https://ipywidgets.readthedocs.io/en/stable/user_install.html\">Jupyter\n",
       "  Widgets Documentation</a> for setup instructions.\n",
       "</p>\n",
       "<p>\n",
       "  If you're reading this message in another notebook frontend (for example, a static\n",
       "  rendering on GitHub or <a href=\"https://nbviewer.jupyter.org/\">NBViewer</a>),\n",
       "  it may mean that your frontend doesn't currently support widgets.\n",
       "</p>\n"
      ],
      "text/plain": [
       "Text(value='', layout=Layout(width='50%'))"
      ]
     },
     "metadata": {},
     "output_type": "display_data"
    },
    {
     "data": {
      "text/html": [
       "<h2 id='run_nums'>Run Numbers to Reduce</h2><br>Specify the run numbers that should be reduced."
      ],
      "text/plain": [
       "<IPython.core.display.HTML object>"
      ]
     },
     "metadata": {},
     "output_type": "display_data"
    },
    {
     "data": {
      "application/vnd.jupyter.widget-view+json": {
       "model_id": "ec0b2e7d2e2947ab9d626f98704840ac",
       "version_major": 2,
       "version_minor": 0
      },
      "text/html": [
       "<p>Failed to display Jupyter Widget of type <code>HBox</code>.</p>\n",
       "<p>\n",
       "  If you're reading this message in Jupyter Notebook or JupyterLab, it may mean\n",
       "  that the widgets JavaScript is still loading. If this message persists, it\n",
       "  likely means that the widgets JavaScript library is either not installed or\n",
       "  not enabled. See the <a href=\"https://ipywidgets.readthedocs.io/en/stable/user_install.html\">Jupyter\n",
       "  Widgets Documentation</a> for setup instructions.\n",
       "</p>\n",
       "<p>\n",
       "  If you're reading this message in another notebook frontend (for example, a static\n",
       "  rendering on GitHub or <a href=\"https://nbviewer.jupyter.org/\">NBViewer</a>),\n",
       "  it may mean that your frontend doesn't currently support widgets.\n",
       "</p>\n"
      ],
      "text/plain": [
       "HBox(children=(Label(value='Run Numbers:', layout=Layout(width='10%')), Text(value='', layout=Layout(width='40%'), placeholder='1,4:5,10,20,30:40'), Label(value='No event NeXus found in the input folder!', layout=Layout(width='22%')), SelectMultiple(layout=Layout(height='200px', visibility='hidden', width='10%'), options=(), value=())))"
      ]
     },
     "metadata": {},
     "output_type": "display_data"
    },
    {
     "data": {
      "text/html": [
       "<h2>Number of Processes</h2><br>This controls the maximum number of processes that will be run             simultaneously locally, or that will be simultaneously submitted to slurm.             The value of max_processes should be choosen carefully with the size of the             system in mind, to avoid overloading the system.  Since the lower level             calculations are all multi-threaded, this should be substantially lower than             the total number of cores available (6 on this computer).             All runs will be processed eventually.  If there are more runs than then             max_processes, as some processes finish, new ones will be started, until             all runs have been processed."
      ],
      "text/plain": [
       "<IPython.core.display.HTML object>"
      ]
     },
     "metadata": {},
     "output_type": "display_data"
    },
    {
     "data": {
      "application/vnd.jupyter.widget-view+json": {
       "model_id": "da44861225af41ff912ed9116c80807c",
       "version_major": 2,
       "version_minor": 0
      },
      "text/html": [
       "<p>Failed to display Jupyter Widget of type <code>HBox</code>.</p>\n",
       "<p>\n",
       "  If you're reading this message in Jupyter Notebook or JupyterLab, it may mean\n",
       "  that the widgets JavaScript is still loading. If this message persists, it\n",
       "  likely means that the widgets JavaScript library is either not installed or\n",
       "  not enabled. See the <a href=\"https://ipywidgets.readthedocs.io/en/stable/user_install.html\">Jupyter\n",
       "  Widgets Documentation</a> for setup instructions.\n",
       "</p>\n",
       "<p>\n",
       "  If you're reading this message in another notebook frontend (for example, a static\n",
       "  rendering on GitHub or <a href=\"https://nbviewer.jupyter.org/\">NBViewer</a>),\n",
       "  it may mean that your frontend doesn't currently support widgets.\n",
       "</p>\n"
      ],
      "text/plain": [
       "HBox(children=(Label(value='Nbr Processes:', layout=Layout(width='10%')), IntSlider(value=6, layout=Layout(width='20%'), max=6, min=1)))"
      ]
     },
     "metadata": {},
     "output_type": "display_data"
    },
    {
     "data": {
      "text/html": [
       "<br><br>"
      ],
      "text/plain": [
       "<IPython.core.display.HTML object>"
      ]
     },
     "metadata": {},
     "output_type": "display_data"
    },
    {
     "data": {
      "text/html": [
       "<h2>Advanced Options</h2>"
      ],
      "text/plain": [
       "<IPython.core.display.HTML object>"
      ]
     },
     "metadata": {},
     "output_type": "display_data"
    },
    {
     "data": {
      "application/vnd.jupyter.widget-view+json": {
       "model_id": "aad73df21cf54eb4a39ac9611ab617e4",
       "version_major": 2,
       "version_minor": 0
      },
      "text/html": [
       "<p>Failed to display Jupyter Widget of type <code>HBox</code>.</p>\n",
       "<p>\n",
       "  If you're reading this message in Jupyter Notebook or JupyterLab, it may mean\n",
       "  that the widgets JavaScript is still loading. If this message persists, it\n",
       "  likely means that the widgets JavaScript library is either not installed or\n",
       "  not enabled. See the <a href=\"https://ipywidgets.readthedocs.io/en/stable/user_install.html\">Jupyter\n",
       "  Widgets Documentation</a> for setup instructions.\n",
       "</p>\n",
       "<p>\n",
       "  If you're reading this message in another notebook frontend (for example, a static\n",
       "  rendering on GitHub or <a href=\"https://nbviewer.jupyter.org/\">NBViewer</a>),\n",
       "  it may mean that your frontend doesn't currently support widgets.\n",
       "</p>\n"
      ],
      "text/plain": [
       "HBox(children=(Label(value='Advanced Options Password: ', layout=Layout(width='25%')), Text(value='', layout=Layout(width='10%'), placeholder='password')))"
      ]
     },
     "metadata": {},
     "output_type": "display_data"
    },
    {
     "name": "stdout",
     "output_type": "stream",
     "text": [
      "{'name': 'value', 'old': (), 'new': ('25319',), 'owner': SelectMultiple(index=(2,), layout=Layout(height='200px', visibility='visible', width='10%'), options=('25317', '25318', '25319', '25320', '25321', '25322', '25323', '25324'), value=('25319',)), 'type': 'change'}\n",
      "{'name': 'value', 'old': ('25319',), 'new': ('25321',), 'owner': SelectMultiple(index=(4,), layout=Layout(height='200px', visibility='visible', width='10%'), options=('25317', '25318', '25319', '25320', '25321', '25322', '25323', '25324'), value=('25321',)), 'type': 'change'}\n",
      "{'name': 'value', 'old': ('25321',), 'new': ('25318', '25321'), 'owner': SelectMultiple(index=(1, 4), layout=Layout(height='200px', visibility='visible', width='10%'), options=('25317', '25318', '25319', '25320', '25321', '25322', '25323', '25324'), value=('25318', '25321')), 'type': 'change'}\n",
      "{'name': 'value', 'old': ('25318', '25321'), 'new': ('25318', '25319', '25321'), 'owner': SelectMultiple(index=(1, 2, 4), layout=Layout(height='200px', visibility='visible', width='10%'), options=('25317', '25318', '25319', '25320', '25321', '25322', '25323', '25324'), value=('25318', '25319', '25321')), 'type': 'change'}\n",
      "{'name': 'value', 'old': ('25318', '25319', '25321'), 'new': ('25319', '25320', '25321', '25322', '25323', '25324'), 'owner': SelectMultiple(index=(2, 3, 4, 5, 6, 7), layout=Layout(height='200px', visibility='visible', width='10%'), options=('25317', '25318', '25319', '25320', '25321', '25322', '25323', '25324'), value=('25319', '25320', '25321', '25322', '25323', '25324')), 'type': 'change'}\n",
      "{'name': 'value', 'old': ('25319', '25320', '25321', '25322', '25323', '25324'), 'new': ('25317',), 'owner': SelectMultiple(index=(0,), layout=Layout(height='200px', visibility='visible', width='10%'), options=('25317', '25318', '25319', '25320', '25321', '25322', '25323', '25324'), value=('25317',)), 'type': 'change'}\n",
      "{'name': 'value', 'old': ('25317',), 'new': ('25317', '25318', '25319', '25320', '25321', '25322', '25323', '25324'), 'owner': SelectMultiple(index=(0, 1, 2, 3, 4, 5, 6, 7), layout=Layout(height='200px', visibility='visible', width='10%'), options=('25317', '25318', '25319', '25320', '25321', '25322', '25323', '25324'), value=('25317', '25318', '25319', '25320', '25321', '25322', '25323', '25324')), 'type': 'change'}\n",
      "{'name': 'value', 'old': ('25317', '25318', '25319', '25320', '25321', '25322', '25323', '25324'), 'new': ('25317', '25319', '25320', '25321', '25322', '25323', '25324'), 'owner': SelectMultiple(index=(0, 2, 3, 4, 5, 6, 7), layout=Layout(height='200px', visibility='visible', width='10%'), options=('25317', '25318', '25319', '25320', '25321', '25322', '25323', '25324'), value=('25317', '25319', '25320', '25321', '25322', '25323', '25324')), 'type': 'change'}\n",
      "{'name': 'value', 'old': ('25317', '25319', '25320', '25321', '25322', '25323', '25324'), 'new': ('25317', '25319', '25320', '25322', '25323', '25324'), 'owner': SelectMultiple(index=(0, 2, 3, 5, 6, 7), layout=Layout(height='200px', visibility='visible', width='10%'), options=('25317', '25318', '25319', '25320', '25321', '25322', '25323', '25324'), value=('25317', '25319', '25320', '25322', '25323', '25324')), 'type': 'change'}\n",
      "{'name': 'value', 'old': ('25317', '25319', '25320', '25322', '25323', '25324'), 'new': ('25317', '25319', '25320', '25323', '25324'), 'owner': SelectMultiple(index=(0, 2, 3, 6, 7), layout=Layout(height='200px', visibility='visible', width='10%'), options=('25317', '25318', '25319', '25320', '25321', '25322', '25323', '25324'), value=('25317', '25319', '25320', '25323', '25324')), 'type': 'change'}\n",
      "{'name': 'value', 'old': ('25317', '25319', '25320', '25323', '25324'), 'new': ('25321',), 'owner': SelectMultiple(index=(4,), layout=Layout(height='200px', visibility='visible', width='10%'), options=('25317', '25318', '25319', '25320', '25321', '25322', '25323', '25324'), value=('25321',)), 'type': 'change'}\n",
      "{'name': 'value', 'old': ('25321',), 'new': ('25317',), 'owner': SelectMultiple(index=(0,), layout=Layout(height='200px', visibility='visible', width='10%'), options=('25317', '25318', '25319', '25320', '25321', '25322', '25323', '25324'), value=('25317',)), 'type': 'change'}\n",
      "{'name': 'value', 'old': ('25317',), 'new': ('25317', '25318', '25319', '25320', '25321', '25322', '25323', '25324'), 'owner': SelectMultiple(index=(0, 1, 2, 3, 4, 5, 6, 7), layout=Layout(height='200px', visibility='visible', width='10%'), options=('25317', '25318', '25319', '25320', '25321', '25322', '25323', '25324'), value=('25317', '25318', '25319', '25320', '25321', '25322', '25323', '25324')), 'type': 'change'}\n",
      "{'name': 'value', 'old': ('25317', '25318', '25319', '25320', '25321', '25322', '25323', '25324'), 'new': ('25317', '25318', '25320', '25321', '25322', '25323', '25324'), 'owner': SelectMultiple(index=(0, 1, 3, 4, 5, 6, 7), layout=Layout(height='200px', visibility='visible', width='10%'), options=('25317', '25318', '25319', '25320', '25321', '25322', '25323', '25324'), value=('25317', '25318', '25320', '25321', '25322', '25323', '25324')), 'type': 'change'}\n",
      "{'name': 'value', 'old': ('25317', '25318', '25320', '25321', '25322', '25323', '25324'), 'new': ('25317', '25318', '25320', '25322', '25323', '25324'), 'owner': SelectMultiple(index=(0, 1, 3, 5, 6, 7), layout=Layout(height='200px', visibility='visible', width='10%'), options=('25317', '25318', '25319', '25320', '25321', '25322', '25323', '25324'), value=('25317', '25318', '25320', '25322', '25323', '25324')), 'type': 'change'}\n",
      "{'name': 'value', 'old': ('25317', '25318', '25320', '25322', '25323', '25324'), 'new': ('25317', '25318', '25320', '25323', '25324'), 'owner': SelectMultiple(index=(0, 1, 3, 6, 7), layout=Layout(height='200px', visibility='visible', width='10%'), options=('25317', '25318', '25319', '25320', '25321', '25322', '25323', '25324'), value=('25317', '25318', '25320', '25323', '25324')), 'type': 'change'}\n",
      "{'name': 'value', 'old': ('25317', '25318', '25320', '25323', '25324'), 'new': ('25317',), 'owner': SelectMultiple(index=(0,), layout=Layout(height='200px', visibility='visible', width='10%'), options=('25317', '25318', '25319', '25320', '25321', '25322', '25323', '25324'), value=('25317',)), 'type': 'change'}\n",
      "{'name': 'value', 'old': ('25317',), 'new': ('25317', '25318', '25319', '25320', '25321', '25322', '25323', '25324'), 'owner': SelectMultiple(index=(0, 1, 2, 3, 4, 5, 6, 7), layout=Layout(height='200px', visibility='visible', width='10%'), options=('25317', '25318', '25319', '25320', '25321', '25322', '25323', '25324'), value=('25317', '25318', '25319', '25320', '25321', '25322', '25323', '25324')), 'type': 'change'}\n",
      "{'name': 'value', 'old': ('25317', '25318', '25319', '25320', '25321', '25322', '25323', '25324'), 'new': ('25318', '25319', '25320', '25321', '25322', '25323', '25324'), 'owner': SelectMultiple(index=(1, 2, 3, 4, 5, 6, 7), layout=Layout(height='200px', visibility='visible', width='10%'), options=('25317', '25318', '25319', '25320', '25321', '25322', '25323', '25324'), value=('25318', '25319', '25320', '25321', '25322', '25323', '25324')), 'type': 'change'}\n",
      "{'name': 'value', 'old': ('25318', '25319', '25320', '25321', '25322', '25323', '25324'), 'new': ('25319', '25320', '25321', '25322', '25323', '25324'), 'owner': SelectMultiple(index=(2, 3, 4, 5, 6, 7), layout=Layout(height='200px', visibility='visible', width='10%'), options=('25317', '25318', '25319', '25320', '25321', '25322', '25323', '25324'), value=('25319', '25320', '25321', '25322', '25323', '25324')), 'type': 'change'}\n",
      "{'name': 'value', 'old': ('25319', '25320', '25321', '25322', '25323', '25324'), 'new': ('25319',), 'owner': SelectMultiple(index=(2,), layout=Layout(height='200px', visibility='visible', width='10%'), options=('25317', '25318', '25319', '25320', '25321', '25322', '25323', '25324'), value=('25319',)), 'type': 'change'}\n",
      "{'name': 'value', 'old': ('25319',), 'new': ('25319', '25320', '25321', '25322', '25323', '25324'), 'owner': SelectMultiple(index=(2, 3, 4, 5, 6, 7), layout=Layout(height='200px', visibility='visible', width='10%'), options=('25317', '25318', '25319', '25320', '25321', '25322', '25323', '25324'), value=('25319', '25320', '25321', '25322', '25323', '25324')), 'type': 'change'}\n"
     ]
    },
    {
     "name": "stdout",
     "output_type": "stream",
     "text": [
      "{'name': 'value', 'old': ('25319', '25320', '25321', '25322', '25323', '25324'), 'new': ('25320', '25321', '25322', '25323', '25324'), 'owner': SelectMultiple(index=(3, 4, 5, 6, 7), layout=Layout(height='200px', visibility='visible', width='10%'), options=('25317', '25318', '25319', '25320', '25321', '25322', '25323', '25324'), value=('25320', '25321', '25322', '25323', '25324')), 'type': 'change'}\n",
      "{'name': 'value', 'old': ('25320', '25321', '25322', '25323', '25324'), 'new': ('25321', '25322', '25323', '25324'), 'owner': SelectMultiple(index=(4, 5, 6, 7), layout=Layout(height='200px', visibility='visible', width='10%'), options=('25317', '25318', '25319', '25320', '25321', '25322', '25323', '25324'), value=('25321', '25322', '25323', '25324')), 'type': 'change'}\n",
      "{'name': 'value', 'old': ('25321', '25322', '25323', '25324'), 'new': ('25322', '25323', '25324'), 'owner': SelectMultiple(index=(5, 6, 7), layout=Layout(height='200px', visibility='visible', width='10%'), options=('25317', '25318', '25319', '25320', '25321', '25322', '25323', '25324'), value=('25322', '25323', '25324')), 'type': 'change'}\n",
      "{'name': 'value', 'old': ('25322', '25323', '25324'), 'new': ('25323', '25324'), 'owner': SelectMultiple(index=(6, 7), layout=Layout(height='200px', visibility='visible', width='10%'), options=('25317', '25318', '25319', '25320', '25321', '25322', '25323', '25324'), value=('25323', '25324')), 'type': 'change'}\n",
      "{'name': 'value', 'old': ('25323', '25324'), 'new': ('25324',), 'owner': SelectMultiple(index=(7,), layout=Layout(height='200px', visibility='visible', width='10%'), options=('25317', '25318', '25319', '25320', '25321', '25322', '25323', '25324'), value=('25324',)), 'type': 'change'}\n",
      "{'name': 'value', 'old': ('25324',), 'new': (), 'owner': SelectMultiple(layout=Layout(height='200px', visibility='visible', width='10%'), options=('25317', '25318', '25319', '25320', '25321', '25322', '25323', '25324'), value=()), 'type': 'change'}\n",
      "{'name': 'value', 'old': (), 'new': ('25317',), 'owner': SelectMultiple(index=(0,), layout=Layout(height='200px', visibility='visible', width='10%'), options=('25317', '25318', '25319', '25320', '25321', '25322', '25323', '25324'), value=('25317',)), 'type': 'change'}\n",
      "{'name': 'value', 'old': ('25317',), 'new': ('25317', '25318', '25319', '25320', '25321', '25322', '25323'), 'owner': SelectMultiple(index=(0, 1, 2, 3, 4, 5, 6), layout=Layout(height='200px', visibility='visible', width='10%'), options=('25317', '25318', '25319', '25320', '25321', '25322', '25323', '25324'), value=('25317', '25318', '25319', '25320', '25321', '25322', '25323')), 'type': 'change'}\n",
      "{'name': 'value', 'old': ('25317', '25318', '25319', '25320', '25321', '25322', '25323'), 'new': ('25317', '25318', '25319', '25320', '25321', '25322', '25323', '25324'), 'owner': SelectMultiple(index=(0, 1, 2, 3, 4, 5, 6, 7), layout=Layout(height='200px', visibility='visible', width='10%'), options=('25317', '25318', '25319', '25320', '25321', '25322', '25323', '25324'), value=('25317', '25318', '25319', '25320', '25321', '25322', '25323', '25324')), 'type': 'change'}\n",
      "{'name': 'value', 'old': ('25317', '25318', '25319', '25320', '25321', '25322', '25323', '25324'), 'new': ('25317',), 'owner': SelectMultiple(index=(0,), layout=Layout(height='200px', visibility='visible', width='10%'), options=('25317', '25318', '25319', '25320', '25321', '25322', '25323', '25324'), value=('25317',)), 'type': 'change'}\n",
      "{'name': 'value', 'old': ('25317',), 'new': ('25318',), 'owner': SelectMultiple(index=(1,), layout=Layout(height='200px', visibility='visible', width='10%'), options=('25317', '25318', '25319', '25320', '25321', '25322', '25323', '25324'), value=('25318',)), 'type': 'change'}\n",
      "{'name': 'value', 'old': ('25318',), 'new': ('25319',), 'owner': SelectMultiple(index=(2,), layout=Layout(height='200px', visibility='visible', width='10%'), options=('25317', '25318', '25319', '25320', '25321', '25322', '25323', '25324'), value=('25319',)), 'type': 'change'}\n",
      "{'name': 'value', 'old': ('25319',), 'new': ('25320',), 'owner': SelectMultiple(index=(3,), layout=Layout(height='200px', visibility='visible', width='10%'), options=('25317', '25318', '25319', '25320', '25321', '25322', '25323', '25324'), value=('25320',)), 'type': 'change'}\n",
      "{'name': 'value', 'old': ('25320',), 'new': ('25321',), 'owner': SelectMultiple(index=(4,), layout=Layout(height='200px', visibility='visible', width='10%'), options=('25317', '25318', '25319', '25320', '25321', '25322', '25323', '25324'), value=('25321',)), 'type': 'change'}\n",
      "{'name': 'value', 'old': ('25321',), 'new': ('25322',), 'owner': SelectMultiple(index=(5,), layout=Layout(height='200px', visibility='visible', width='10%'), options=('25317', '25318', '25319', '25320', '25321', '25322', '25323', '25324'), value=('25322',)), 'type': 'change'}\n",
      "{'name': 'value', 'old': ('25322',), 'new': ('25317',), 'owner': SelectMultiple(index=(0,), layout=Layout(height='200px', visibility='visible', width='10%'), options=('25317', '25318', '25319', '25320', '25321', '25322', '25323', '25324'), value=('25317',)), 'type': 'change'}\n",
      "{'name': 'value', 'old': ('25317',), 'new': ('25317', '25318', '25319', '25320', '25321', '25322', '25323', '25324'), 'owner': SelectMultiple(index=(0, 1, 2, 3, 4, 5, 6, 7), layout=Layout(height='200px', visibility='visible', width='10%'), options=('25317', '25318', '25319', '25320', '25321', '25322', '25323', '25324'), value=('25317', '25318', '25319', '25320', '25321', '25322', '25323', '25324')), 'type': 'change'}\n",
      "{'name': 'value', 'old': ('25317', '25318', '25319', '25320', '25321', '25322', '25323', '25324'), 'new': ('25317',), 'owner': SelectMultiple(index=(0,), layout=Layout(height='200px', visibility='visible', width='10%'), options=('25317', '25318', '25319', '25320', '25321', '25322', '25323', '25324'), value=('25317',)), 'type': 'change'}\n",
      "{'name': 'value', 'old': ('25317',), 'new': ('25317', '25318', '25319', '25320', '25321', '25322', '25323', '25324'), 'owner': SelectMultiple(index=(0, 1, 2, 3, 4, 5, 6, 7), layout=Layout(height='200px', visibility='visible', width='10%'), options=('25317', '25318', '25319', '25320', '25321', '25322', '25323', '25324'), value=('25317', '25318', '25319', '25320', '25321', '25322', '25323', '25324')), 'type': 'change'}\n",
      "{'name': 'value', 'old': ('25317', '25318', '25319', '25320', '25321', '25322', '25323', '25324'), 'new': ('25317',), 'owner': SelectMultiple(index=(0,), layout=Layout(height='200px', visibility='visible', width='10%'), options=('25317', '25318', '25319', '25320', '25321', '25322', '25323', '25324'), value=('25317',)), 'type': 'change'}\n",
      "{'name': 'value', 'old': ('25317',), 'new': ('25317', '25318', '25319', '25320', '25321', '25322', '25323', '25324'), 'owner': SelectMultiple(index=(0, 1, 2, 3, 4, 5, 6, 7), layout=Layout(height='200px', visibility='visible', width='10%'), options=('25317', '25318', '25319', '25320', '25321', '25322', '25323', '25324'), value=('25317', '25318', '25319', '25320', '25321', '25322', '25323', '25324')), 'type': 'change'}\n",
      "{'name': 'value', 'old': ('25317', '25318', '25319', '25320', '25321', '25322', '25323', '25324'), 'new': ('25319',), 'owner': SelectMultiple(index=(2,), layout=Layout(height='200px', visibility='visible', width='10%'), options=('25317', '25318', '25319', '25320', '25321', '25322', '25323', '25324'), value=('25319',)), 'type': 'change'}\n",
      "{'name': 'value', 'old': ('25319',), 'new': ('25320',), 'owner': SelectMultiple(index=(3,), layout=Layout(height='200px', visibility='visible', width='10%'), options=('25317', '25318', '25319', '25320', '25321', '25322', '25323', '25324'), value=('25320',)), 'type': 'change'}\n",
      "{'name': 'value', 'old': ('25320',), 'new': ('25317',), 'owner': SelectMultiple(index=(0,), layout=Layout(height='200px', visibility='visible', width='10%'), options=('25317', '25318', '25319', '25320', '25321', '25322', '25323', '25324'), value=('25317',)), 'type': 'change'}\n",
      "{'name': 'value', 'old': ('25317',), 'new': ('25317', '25319'), 'owner': SelectMultiple(index=(0, 2), layout=Layout(height='200px', visibility='visible', width='10%'), options=('25317', '25318', '25319', '25320', '25321', '25322', '25323', '25324'), value=('25317', '25319')), 'type': 'change'}\n"
     ]
    },
    {
     "name": "stdout",
     "output_type": "stream",
     "text": [
      "{'name': 'value', 'old': ('25317', '25319'), 'new': ('25317', '25319', '25321'), 'owner': SelectMultiple(index=(0, 2, 4), layout=Layout(height='200px', visibility='visible', width='10%'), options=('25317', '25318', '25319', '25320', '25321', '25322', '25323', '25324'), value=('25317', '25319', '25321')), 'type': 'change'}\n",
      "{'name': 'value', 'old': ('25317', '25319', '25321'), 'new': ('25317', '25319', '25321', '25323'), 'owner': SelectMultiple(index=(0, 2, 4, 6), layout=Layout(height='200px', visibility='visible', width='10%'), options=('25317', '25318', '25319', '25320', '25321', '25322', '25323', '25324'), value=('25317', '25319', '25321', '25323')), 'type': 'change'}\n"
     ]
    }
   ],
   "source": [
    "_cfg = TopazConfigGenerator(working_dir=system.System.get_working_dir(), \n",
    "                            config_dict_loaded=o_config_loader.config_dict)"
   ]
  },
  {
   "cell_type": "markdown",
   "metadata": {
    "run_control": {
     "frozen": false,
     "read_only": false
    }
   },
   "source": [
    "<img src='__docs/__all/do_not_rerun_modified_cell.gif' />\n"
   ]
  },
  {
   "cell_type": "markdown",
   "metadata": {
    "run_control": {
     "frozen": false,
     "read_only": false
    }
   },
   "source": [
    "# Export the Config File "
   ]
  },
  {
   "cell_type": "markdown",
   "metadata": {
    "run_control": {
     "frozen": false,
     "read_only": false
    }
   },
   "source": [
    "<img src='__docs/__all/shift_enter_only.gif' />"
   ]
  },
  {
   "cell_type": "code",
   "execution_count": 4,
   "metadata": {
    "run_control": {
     "frozen": false,
     "read_only": false
    }
   },
   "outputs": [
    {
     "data": {
      "text/html": [
       "<h2><span style=\"color:red\">Missing Parameters to Create Config File!</span></h2>"
      ],
      "text/plain": [
       "<IPython.core.display.HTML object>"
      ]
     },
     "metadata": {},
     "output_type": "display_data"
    },
    {
     "data": {
      "text/html": [
       "-> <a href=\"#run_nums\">Run Numbers</a>"
      ],
      "text/plain": [
       "<IPython.core.display.HTML object>"
      ]
     },
     "metadata": {},
     "output_type": "display_data"
    }
   ],
   "source": [
    "_cfg.create_config()"
   ]
  }
 ],
 "metadata": {
  "kernelspec": {
   "display_name": "Python 3",
   "language": "python",
   "name": "python3"
  },
  "language_info": {
   "codemirror_mode": {
    "name": "ipython",
    "version": 3
   },
   "file_extension": ".py",
   "mimetype": "text/x-python",
   "name": "python",
   "nbconvert_exporter": "python",
   "pygments_lexer": "ipython3",
   "version": "3.6.2"
  },
  "toc": {
   "colors": {
    "hover_highlight": "#DAA520",
    "running_highlight": "#FF0000",
    "selected_highlight": "#FFD700"
   },
   "moveMenuLeft": true,
   "nav_menu": {
    "height": "66px",
    "width": "252px"
   },
   "navigate_menu": true,
   "number_sections": true,
   "sideBar": true,
   "threshold": 4,
   "toc_cell": false,
   "toc_section_display": "block",
   "toc_window_display": false
  }
 },
 "nbformat": 4,
 "nbformat_minor": 2
}
