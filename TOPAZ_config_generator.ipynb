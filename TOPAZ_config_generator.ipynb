{
 "cells": [
  {
   "cell_type": "markdown",
   "metadata": {
    "run_control": {
     "frozen": false,
     "read_only": false
    }
   },
   "source": [
    "[![Notebook Tutorial](__code/__all/notebook_tutorial.png)](https://neutronimaging.pages.ornl.gov/en/tutorial/notebooks/topaz_config_generator/)"
   ]
  },
  {
   "cell_type": "markdown",
   "metadata": {
    "run_control": {
     "frozen": false,
     "read_only": false
    }
   },
   "source": [
    "<img src='__docs/__all/shift_enter.gif' />"
   ]
  },
  {
   "cell_type": "markdown",
   "metadata": {
    "run_control": {
     "frozen": false,
     "read_only": false
    }
   },
   "source": [
    "# Select IPTS\n",
    "\n",
    " - **Enter** IPTS number \n",
    "     \n",
    "     or\n",
    " \n",
    " \n",
    " - **Select** IPTS\n",
    "\n",
    "then move on to the next cell!"
   ]
  },
  {
   "cell_type": "code",
   "execution_count": 1,
   "metadata": {
    "run_control": {
     "frozen": false,
     "marked": true,
     "read_only": false
    }
   },
   "outputs": [
    {
     "data": {
      "text/html": [
       "\n",
       "<style type=\"text/css\">\n",
       ".jupyter-widgets select option {font-family: \"Lucida Console\", Monaco, monospace;}\n",
       "div.output_subarea {padding: 0px;}\n",
       "div.output_subarea > div {margin: 0.4em;}\n",
       "</style>\n"
      ],
      "text/plain": [
       "<IPython.core.display.HTML object>"
      ]
     },
     "metadata": {},
     "output_type": "display_data"
    },
    {
     "data": {
      "text/html": [
       "\n",
       "                   <style>\n",
       "                   .result_label {\n",
       "                      font-style: bold;\n",
       "                      color: red;\n",
       "                      font-size: 18px;\n",
       "                   }\n",
       "                   </style>\n",
       "                   "
      ],
      "text/plain": [
       "<IPython.core.display.HTML object>"
      ]
     },
     "metadata": {},
     "output_type": "display_data"
    },
    {
     "name": "stdout",
     "output_type": "stream",
     "text": [
      "** Using Debugging Mode! **\n"
     ]
    },
    {
     "data": {
      "application/vnd.jupyter.widget-view+json": {
       "model_id": "29a3669e756a4f01a0b6823739f88767",
       "version_major": 2,
       "version_minor": 0
      },
      "text/html": [
       "<p>Failed to display Jupyter Widget of type <code>VBox</code>.</p>\n",
       "<p>\n",
       "  If you're reading this message in Jupyter Notebook or JupyterLab, it may mean\n",
       "  that the widgets JavaScript is still loading. If this message persists, it\n",
       "  likely means that the widgets JavaScript library is either not installed or\n",
       "  not enabled. See the <a href=\"https://ipywidgets.readthedocs.io/en/stable/user_install.html\">Jupyter\n",
       "  Widgets Documentation</a> for setup instructions.\n",
       "</p>\n",
       "<p>\n",
       "  If you're reading this message in another notebook frontend (for example, a static\n",
       "  rendering on GitHub or <a href=\"https://nbviewer.jupyter.org/\">NBViewer</a>),\n",
       "  it may mean that your frontend doesn't currently support widgets.\n",
       "</p>\n"
      ],
      "text/plain": [
       "VBox(children=(HBox(children=(Label(value='IPTS-'), Text(value='', layout=Layout(width='10%')), Label(value='DOES NOT EXIST!', layout=Layout(width='20%'), _dom_classes=('result_label',)))), Label(value='OR'), HBox(children=(Label(value='Select Folder', layout=Layout(width='20%')), Select(layout=Layout(height='300px'), options=('BraggEdge', 'Brianne', 'DOE_letters', 'FITSimages', 'IPTS-12534', 'IPTS-13639_resonance_shawn', 'IPTS-14832', 'IPTS-15177', 'IPTS-16212', 'IPTS-16259', 'IPTS-16475', 'IPTS-16893', 'IPTS-17099', 'IPTS-17685', 'IPTS-17981', 'IPTS-18580', 'IPTS-18806', 'IPTS-18813', 'IPTS-19037', 'IPTS-19213', 'IPTS-19558', 'IPTS-19621', 'IPTS-19626', 'IPTS-19799', 'IPTS-20209-TOPAZ', 'IPTS_test_normalization', 'IPTS_testing_time_spectra', 'ImagesToRegisterForGian', 'Indu', 'Keita_code', 'Pour_ibeatles_video', 'ResonanceImaging', 'SENSITIVE', 'SarmaGUI', 'SphereCoordinates3D', 'TempData', 'gian', 'iBeatles_debugging', 'shared'), value='BraggEdge'))), Button(button_style='info', description='HELP', style=ButtonStyle())))"
      ]
     },
     "metadata": {},
     "output_type": "display_data"
    },
    {
     "data": {
      "text/html": [
       "<style>\n",
       "\n",
       "/* The following CSS has been adapted from\n",
       "   http://nbviewer.ipython.org/github/ketch/teaching-numerics-with-notebooks/blob/master/Styling_notebooks.ipynb\n",
       "   by Aron Ahmadia and David Ketcheson and has been reused under CC BY 4.0\n",
       "   */\n",
       "\n",
       "/* main background */\n",
       "#site { \n",
       "    background: #888;\n",
       "    color: #red; \n",
       "}\n",
       "\n",
       "div.container {\n",
       "    width: 100% ! important;\n",
       "}\n",
       "\n",
       "div.cell { /* set cell width to about 80 chars */\n",
       "    width: 95%;\n",
       "}\n",
       "\n",
       "div #notebook { /* centre the content */\n",
       "/*    background: #fff; /* white background for content */\n",
       "    background: blue;\n",
       "    width: 100%;\n",
       "    margin: auto;\n",
       "    padding-left: 1em;\n",
       "    padding-right: 1em;\n",
       "    background-image: url(\"tile_background.jpg\");\n",
       "}\n",
       "\n",
       "#notebook li { /* More space between bullet points */\n",
       "    margin-top:0.4em;\n",
       "}\n",
       "\n",
       "/* change background color of running cells */\n",
       "div.cell.code_cell.running {\n",
       "/*    background-color: rgba(164,188,194,.75); */\n",
       "    background-color: green;\n",
       "    border-width: 8px\n",
       "    border-style: solid\n",
       "    border-color: #111;\n",
       "}\n",
       "\n",
       "/* Put a solid color box around each cell and its output, visually linking them together */\n",
       "div.cell.code_cell {\n",
       "    background-color: rgba(164,188,194,.25); /* Continuum L Gray with alpha 0.25 */\n",
       "    border-radius: 10px; /* rounded borders */\n",
       "    padding: 1em;\n",
       "    margin-top: 1em;\n",
       "}\n",
       "\n",
       "div.text_cell_render{\n",
       "\tfont-family: Georgia, Times, 'Times New Roman', serif;\n",
       "    line-height: 110%;\n",
       "    font-size: 105%;\n",
       "    width: 95%;\n",
       "    margin-left: auto;\n",
       "    margin-right: auto;\n",
       "}\n",
       "\n",
       "\n",
       "/* Formatting for header cells */\n",
       ".text_cell_render h1 {\n",
       "\tfont-family: Arial, 'Helvetica Neue', Helvetica, sans-serif;\n",
       "    font-weight: 400;\n",
       "    font-size: 30pt;\n",
       "    line-height: 100%;\n",
       "    color: rgb(37,55,70); /* Continuum Blue*/\n",
       "    margin-bottom: 0.1em;\n",
       "    margin-top: 0.1em;\n",
       "    display: block;\n",
       "}\n",
       ".text_cell_render h2 {\n",
       "\tfont-family: Arial, 'Helvetica Neue', Helvetica, sans-serif;\n",
       "    font-weight: 700;\n",
       "    font-size: 22pt;\n",
       "    line-height: 100%;\n",
       "    color: rgb(37,55,70);\n",
       "    margin-bottom: 0.1em;\n",
       "    margin-top: 0.1em;\n",
       "    display: block;\n",
       "}\n",
       "\n",
       ".text_cell_render h3 {\n",
       "\tfont-family: Arial, 'Helvetica Neue', Helvetica, sans-serif;\n",
       "    margin-top:12px;\n",
       "    margin-bottom: 3px;\n",
       "    font-style: italic;\n",
       "    color: rgb(37, 55, 70);\n",
       "}\n",
       "\n",
       ".text_cell_render h4 {\n",
       "\tfont-family: Arial, 'Helvetica Neue', Helvetica, sans-serif;\n",
       "}\n",
       "\n",
       ".text_cell_render h5 {\n",
       "\tfont-family: Arial, 'Helvetica Neue', Helvetica, sans-serif;\n",
       "    font-weight: 300;\n",
       "    font-size: 14pt;\n",
       "    font-style: italic;\n",
       "    margin-bottom: .1em;\n",
       "    margin-top: 0.1em;\n",
       "    display: block;\n",
       "}\n",
       "\n",
       ".text_cell_render h6 {\n",
       "\tfont-family: Arial, 'Helvetica Neue', Helvetica, sans-serif;\n",
       "    font-weight: 300;\n",
       "    font-size: 10pt;\n",
       "    margin-bottom: 1px;\n",
       "    margin-top: 1px;\n",
       "}\n",
       "\n",
       ".CodeMirror{\n",
       "        font-family: \"PT Mono\", fixed;\n",
       "        font-size: 100%;\n",
       "}\n",
       "\n",
       "#notebook_panel { /* main background */\n",
       "    background-image: url(\"tile_background.jpg\");\n",
       "}\n",
       "\n",
       "\n",
       "\n",
       "\n",
       "</style>\n"
      ],
      "text/plain": [
       "<IPython.core.display.HTML object>"
      ]
     },
     "execution_count": 1,
     "metadata": {},
     "output_type": "execute_result"
    }
   ],
   "source": [
    "from __code import system\n",
    "from IPython.core.display import HTML\n",
    "\n",
    "from __code.topaz_config_generator import TopazConfigGenerator, ConfigLoader\n",
    "system.System.select_working_dir(system_folder='/SNS/TOPAZ/')\n",
    "\n",
    "from __code.__all import custom_style\n",
    "custom_style.style()"
   ]
  },
  {
   "cell_type": "markdown",
   "metadata": {
    "run_control": {
     "frozen": false,
     "read_only": false
    }
   },
   "source": [
    "# Initialize parameters using configuration file (optional)"
   ]
  },
  {
   "cell_type": "markdown",
   "metadata": {
    "run_control": {
     "frozen": false,
     "read_only": false
    }
   },
   "source": [
    "If you want to initialize all the widgets of this notebook with a configuration file you previously created, select the config file here"
   ]
  },
  {
   "cell_type": "code",
   "execution_count": 34,
   "metadata": {},
   "outputs": [
    {
     "data": {
      "text/plain": [
       "['# Configuration file for ReduceSCD_OneRun.py and ReduceSCD_Parallel.py.',\n",
       " '#',\n",
       " \"# Each line can either start with a comment, indicated by a '#' mark or start\",\n",
       " '# with a parameter name and value, optionally followed by a comment.  ALL ',\n",
       " '# parameters used by the script must be specified.  If a required parameter ',\n",
       " '# is not specified, the script will terminate with a message indicating which ',\n",
       " '# parameter was missing.',\n",
       " '#',\n",
       " '',\n",
       " '#',\n",
       " '# _v1: December 3rd 2013. Mads Joergensen',\n",
       " '# This version now includes the posibility to use the 1D cylindrical integration method',\n",
       " '# and the posibility to load a UB matrix which will be used for integration of the individual',\n",
       " '# runs and to index the combined file (Code from Xiapoing).',\n",
       " '#',\n",
       " '',\n",
       " '# ==========================================================================',\n",
       " '# Parameters needed by ReduceOneSCD_Run.py, to process ONE run.',\n",
       " '# ==========================================================================',\n",
       " '#',\n",
       " 'instrument_name   TOPAZ                       # prefix for run file names',\n",
       " '',\n",
       " '#',\n",
       " '# Specify calibration file(s).  SNAP requires two calibration files, one',\n",
       " '# for each bank.  If the default detector position is to be used, specify',\n",
       " '# None as the calibration file name.',\n",
       " '',\n",
       " 'calibration_file_1  /SNS/TOPAZ/IPTS-20313/shared/calibration/TOPAZ_2017C.DetCal',\n",
       " 'calibration_file_2  None',\n",
       " '',\n",
       " '#Test correction for Goniometer z offset ',\n",
       " '#',\n",
       " '#z_offset  0.0',\n",
       " '#x_offset  0.0',\n",
       " '',\n",
       " '#',\n",
       " 'split_threshold 100',\n",
       " '',\n",
       " '#',\n",
       " 'Qmax 20',\n",
       " '',\n",
       " '#',\n",
       " '#Perform instrument background subtraction',\n",
       " 'subtract_bkg  True',\n",
       " 'no_sample_event_nxs_fname /SNS/TOPAZ/shared/calibrations/vanadium/2017C/TOPAZ_25221_event.nxs',\n",
       " 'BN_aperture_size 2.0',\n",
       " '#',\n",
       " '#',\n",
       " '# Set the data_directory to None to use findnexus to get the run file when',\n",
       " '# running this on the SNS systems.  On other systems, all of the input files',\n",
       " '# must be copied into one directory and that directory must be specified as',\n",
       " '# the data_directory',\n",
       " '#',\n",
       " 'data_directory    /SNS/TOPAZ/IPTS-20313/data/      ',\n",
       " 'output_directory  /SNS/TOPAZ/IPTS-20313/shared/12_ef_295K/',\n",
       " '',\n",
       " '#',\n",
       " '# If use_monitor_counts is True, then the integrated beam monitor',\n",
       " '# counts will be used for scaling. If use_monitor_counts is False,',\n",
       " '# then the integrated proton charge will be used for scaling. These',\n",
       " '# values will be listed under MONCNT in the integrate file.',\n",
       " 'use_monitor_counts  False',\n",
       " '',\n",
       " '#',\n",
       " '# Min & max tof determine the range of events loaded. Min & max monitor tof',\n",
       " '# determine the range of tofs integrated in the monitor data to get the ',\n",
       " '# total monitor counts. You need these even if use_monitor_counts is False.',\n",
       " '#',\n",
       " 'min_tof           1000',\n",
       " 'max_tof          16600',\n",
       " 'monitor_index        0',\n",
       " 'min_monitor_tof    800',\n",
       " 'max_monitor_tof  12500',\n",
       " '',\n",
       " '#',\n",
       " '# Read the UB matrix from file. This option will be applied to each run and used for ',\n",
       " '# combined file. This option is especially helpful for 2nd frame TOPAZ data.',\n",
       " 'read_UB    True',\n",
       " '#UB_filename /SNS/TOPAZ/IPTS-20313/shared/12_ef_bkg/cube_Niggli.mat',\n",
       " 'UB_filename /SNS/TOPAZ/IPTS-20313/shared/12_ef_295K_4-4-4/cube_Cubic_F.mat',\n",
       " '#',\n",
       " '# Specifiy a conventional cell type and centering.  If these are None, only',\n",
       " '# one .mat and .integrate file will be written for this run, and they will',\n",
       " '# be in terms of the Niggli reduced cell.  If these specifiy a valid',\n",
       " '# cell type and centering, an additional .mat and .integrate file will be',\n",
       " '# written for the specified cell_type and centering.  NOTE: If run in',\n",
       " '# parallel, the driving script will only read the Niggli version of the',\n",
       " '# .integrate file, and will combine, re-index and convert to a conventional',\n",
       " '# cell, so these can usually be left as None.',\n",
       " '#',\n",
       " '# Cell trnasformation is not applied to cylindrical profiles, ',\n",
       " '# i.e. use None if cylindrical integration is used!',\n",
       " '#',\n",
       " 'cell_type    Cubic',\n",
       " 'centering    F',\n",
       " '',\n",
       " '#',\n",
       " '# Number of peaks to find, per run, both for getting the UB matrix,',\n",
       " '# AND to determine how many peaks are integrated, if peak positions are',\n",
       " '# NOT predicted.  NOTE: This number must be choosen carefully.  If too',\n",
       " '# many peaks are requested, find peaks will take a very long time and',\n",
       " '# the returned peaks will probably not even index, since most of them',\n",
       " '# will be \"noise\" peaks.  If too few are requested, then there will be',\n",
       " '# few peaks to be integrated, and the UB matrix may not be as accurate ',\n",
       " '# as it should be for predicting peaks to integrate.',\n",
       " '#',\n",
       " 'num_peaks_to_find 300',\n",
       " '',\n",
       " '#',\n",
       " '# min_d, max_d and tolerance control indexing peaks.  max_d is also ',\n",
       " '# used to specify a threshold for the separation between peaks',\n",
       " '# returned by FindPeaksMD, so it should be specified somewhat larger',\n",
       " '# than the largest cell edge in the Niggli reduced cell for the ',\n",
       " '# sample.',\n",
       " '#',\n",
       " 'min_d        3',\n",
       " 'max_d        9',\n",
       " 'tolerance  0.12',\n",
       " '',\n",
       " '#',\n",
       " '# If predicted peak positions are to be integrated, ',\n",
       " '# the integrate_predicted_peaks flag should be set to True and the range ',\n",
       " '# of wavelengths and d-spacings must be specified',\n",
       " '#',\n",
       " 'integrate_predicted_peaks   False',\n",
       " 'min_pred_wl                 0.4',\n",
       " 'max_pred_wl                 3.5',\n",
       " 'min_pred_dspacing           0.5',\n",
       " 'max_pred_dspacing           15.0',\n",
       " '',\n",
       " '#',\n",
       " '# Select only ONE of the following integration methods, by setting the',\n",
       " '# use_*****_integration flag True.',\n",
       " '#',\n",
       " 'use_sphere_integration           False',\n",
       " 'use_ellipse_integration          True',\n",
       " 'use_fit_peaks_integration        False',\n",
       " 'use_cylindrical_integration      False',\n",
       " 'integrate_in_HKL_space           False',\n",
       " '#',\n",
       " '# Specify sphere and ellipse integration control parameters. Check that these',\n",
       " '# are correct, if use_sphere_integration, or use_ellipse_integration is True.',\n",
       " \"# Otherwise the values aren't used.\",\n",
       " '#',\n",
       " 'peak_radius             0.14      # for sphere integration or ellipse integration with ellipse_size_specified',\n",
       " 'bkg_inner_radius        0.141      # for sphere or ellipse integration',\n",
       " 'bkg_outer_radius        0.165      # for sphere or ellipse integration',\n",
       " 'integrate_if_edge_peak  True       # for sphere integration only',\n",
       " '',\n",
       " '# ',\n",
       " '# Specify ellispe integration control parameters',\n",
       " '#',\n",
       " 'ellipse_region_radius   0.20',\n",
       " 'ellipse_size_specified  True',\n",
       " 'adaptive_Q_background   True',\n",
       " 'adaptive_Q_multiplier   0.001',\n",
       " '',\n",
       " '#',\n",
       " '# Specify fit peaks integration control parameters.  Check that these are',\n",
       " '# correct, if use_fit_peaks_integration = True.  Otherwise the values ',\n",
       " \"# aren't used.\",\n",
       " '#',\n",
       " 'rebin_step            -0.004',\n",
       " 'preserve_events       True',\n",
       " 'use_ikeda_carpenter   False ',\n",
       " 'n_bad_edge_pixels      0',\n",
       " '',\n",
       " '',\n",
       " '# ',\n",
       " '# Specify cylindrical integration control parameters',\n",
       " '#',\n",
       " 'cylinder_radius      0.05',\n",
       " 'cylinder_length      0.30',\n",
       " '',\n",
       " '# ==========================================================================',\n",
       " '# Additional Parameters needed by ReduceSCD_Parallel.py, to process',\n",
       " '# multiple runs in parallel.',\n",
       " '# ==========================================================================',\n",
       " '#',\n",
       " 'exp_name               T295',\n",
       " 'reduce_one_run_script  ReduceSCD_OneRun.py',\n",
       " '',\n",
       " '#',\n",
       " '# Specify the run numbers that should be reduced.  This can be done on several',\n",
       " '# lines.  Each line must start with the parameter name run_nums and be followed',\n",
       " '# by a comma separated list of individual run numbers or ranges of run numbers.',\n",
       " '# A range of run numbers is specified by listing the first number and last',\n",
       " '# number in the range, separated by a colon.',\n",
       " '#',\n",
       " 'run_nums 25494:25516',\n",
       " '#',\n",
       " '#',\n",
       " '# Specify the slurm partion, or None to use local processes.  The parameter',\n",
       " '# max_processes controls the maximum number of processes that will be run ',\n",
       " '# simultaneously locally, or that will be simultaneously submitted to slurm.',\n",
       " '# The value of max_processes should be choosen carefully with the size of the',\n",
       " '# system in mind, to avoid overloading the system.  Since the lower level ',\n",
       " '# calculations are all multi-threaded, this should be substantially lower than',\n",
       " '# the total number of cores available.',\n",
       " '# All runs will be processed eventually.  If there are more runs than then',\n",
       " '# max_processes, as some processes finish, new ones will be started, until',\n",
       " '# all runs have been processed.',\n",
       " '#',\n",
       " 'slurm_queue_name    None ',\n",
       " 'max_processes       3',\n",
       " '',\n",
       " '']"
      ]
     },
     "execution_count": 34,
     "metadata": {},
     "output_type": "execute_result"
    }
   ],
   "source": [
    "file = '/Volumes/my_book_thunderbolt_duo/IPTS/IPTS-20209-TOPAZ/cube_12_eps_295K.config'\n",
    "\n",
    "from __code.file_handler import read_ascii\n",
    "\n",
    "text = read_ascii(file)\n",
    "\n",
    "text_array = text.split('\\n')\n",
    "text_array"
   ]
  },
  {
   "cell_type": "code",
   "execution_count": 52,
   "metadata": {},
   "outputs": [],
   "source": [
    "#text_without_comment = []\n",
    "my_dict = dict()\n",
    "import re\n",
    "for _line in text_array:\n",
    "    if (not (_line.startswith('#'))) and (not _line == ''):\n",
    "        _new_line = re.sub('\\s+',',', _line)\n",
    "        #text_without_comment.append(_new_line)\n",
    "        my_split = _new_line.split(',')\n",
    "        _key = my_split[0]\n",
    "        _value = my_split[1]\n",
    "        my_dict[_key] = _value"
   ]
  },
  {
   "cell_type": "code",
   "execution_count": 53,
   "metadata": {},
   "outputs": [
    {
     "data": {
      "text/plain": [
       "{'BN_aperture_size': '2.0',\n",
       " 'Qmax': '20',\n",
       " 'UB_filename': '/SNS/TOPAZ/IPTS-20313/shared/12_ef_295K_4-4-4/cube_Cubic_F.mat',\n",
       " 'adaptive_Q_background': 'True',\n",
       " 'adaptive_Q_multiplier': '0.001',\n",
       " 'bkg_inner_radius': '0.141',\n",
       " 'bkg_outer_radius': '0.165',\n",
       " 'calibration_file_1': '/SNS/TOPAZ/IPTS-20313/shared/calibration/TOPAZ_2017C.DetCal',\n",
       " 'calibration_file_2': 'None',\n",
       " 'cell_type': 'Cubic',\n",
       " 'centering': 'F',\n",
       " 'cylinder_length': '0.30',\n",
       " 'cylinder_radius': '0.05',\n",
       " 'data_directory': '/SNS/TOPAZ/IPTS-20313/data/',\n",
       " 'ellipse_region_radius': '0.20',\n",
       " 'ellipse_size_specified': 'True',\n",
       " 'exp_name': 'T295',\n",
       " 'instrument_name': 'TOPAZ',\n",
       " 'integrate_if_edge_peak': 'True',\n",
       " 'integrate_in_HKL_space': 'False',\n",
       " 'integrate_predicted_peaks': 'False',\n",
       " 'max_d': '9',\n",
       " 'max_monitor_tof': '12500',\n",
       " 'max_pred_dspacing': '15.0',\n",
       " 'max_pred_wl': '3.5',\n",
       " 'max_processes': '3',\n",
       " 'max_tof': '16600',\n",
       " 'min_d': '3',\n",
       " 'min_monitor_tof': '800',\n",
       " 'min_pred_dspacing': '0.5',\n",
       " 'min_pred_wl': '0.4',\n",
       " 'min_tof': '1000',\n",
       " 'monitor_index': '0',\n",
       " 'n_bad_edge_pixels': '0',\n",
       " 'no_sample_event_nxs_fname': '/SNS/TOPAZ/shared/calibrations/vanadium/2017C/TOPAZ_25221_event.nxs',\n",
       " 'num_peaks_to_find': '300',\n",
       " 'output_directory': '/SNS/TOPAZ/IPTS-20313/shared/12_ef_295K/',\n",
       " 'peak_radius': '0.14',\n",
       " 'preserve_events': 'True',\n",
       " 'read_UB': 'True',\n",
       " 'rebin_step': '-0.004',\n",
       " 'reduce_one_run_script': 'ReduceSCD_OneRun.py',\n",
       " 'run_nums': '25494:25516',\n",
       " 'slurm_queue_name': 'None',\n",
       " 'split_threshold': '100',\n",
       " 'subtract_bkg': 'True',\n",
       " 'tolerance': '0.12',\n",
       " 'use_cylindrical_integration': 'False',\n",
       " 'use_ellipse_integration': 'True',\n",
       " 'use_fit_peaks_integration': 'False',\n",
       " 'use_ikeda_carpenter': 'False',\n",
       " 'use_monitor_counts': 'False',\n",
       " 'use_sphere_integration': 'False'}"
      ]
     },
     "execution_count": 53,
     "metadata": {},
     "output_type": "execute_result"
    }
   ],
   "source": [
    "my_dict"
   ]
  },
  {
   "cell_type": "code",
   "execution_count": 47,
   "metadata": {},
   "outputs": [
    {
     "data": {
      "text/plain": [
       "'calibration_file_1,/SNS/TOPAZ/IPTS-20313/shared/calibration/TOPAZ_2017C.DetCal'"
      ]
     },
     "execution_count": 47,
     "metadata": {},
     "output_type": "execute_result"
    }
   ],
   "source": [
    "text_without_comment[1]"
   ]
  },
  {
   "cell_type": "code",
   "execution_count": null,
   "metadata": {
    "collapsed": true
   },
   "outputs": [],
   "source": []
  },
  {
   "cell_type": "code",
   "execution_count": 2,
   "metadata": {
    "run_control": {
     "frozen": false,
     "read_only": false
    },
    "scrolled": false
   },
   "outputs": [
    {
     "data": {
      "application/vnd.jupyter.widget-view+json": {
       "model_id": "3927a32c30a74571b6b38328f5de179d",
       "version_major": 2,
       "version_minor": 0
      },
      "text/html": [
       "<p>Failed to display Jupyter Widget of type <code>HBox</code>.</p>\n",
       "<p>\n",
       "  If you're reading this message in Jupyter Notebook or JupyterLab, it may mean\n",
       "  that the widgets JavaScript is still loading. If this message persists, it\n",
       "  likely means that the widgets JavaScript library is either not installed or\n",
       "  not enabled. See the <a href=\"https://ipywidgets.readthedocs.io/en/stable/user_install.html\">Jupyter\n",
       "  Widgets Documentation</a> for setup instructions.\n",
       "</p>\n",
       "<p>\n",
       "  If you're reading this message in another notebook frontend (for example, a static\n",
       "  rendering on GitHub or <a href=\"https://nbviewer.jupyter.org/\">NBViewer</a>),\n",
       "  it may mean that your frontend doesn't currently support widgets.\n",
       "</p>\n"
      ],
      "text/plain": [
       "HBox(children=(Label(value='Configuration File Selected:', layout=Layout(width='20%')), Label(value='N/A', layout=Layout(width='80%'))))"
      ]
     },
     "metadata": {},
     "output_type": "display_data"
    },
    {
     "data": {
      "application/vnd.jupyter.widget-view+json": {
       "model_id": "82e1f14bd8454c3c80dd19522820e907",
       "version_major": 2,
       "version_minor": 0
      },
      "text/html": [
       "<p>Failed to display Jupyter Widget of type <code>VBox</code>.</p>\n",
       "<p>\n",
       "  If you're reading this message in Jupyter Notebook or JupyterLab, it may mean\n",
       "  that the widgets JavaScript is still loading. If this message persists, it\n",
       "  likely means that the widgets JavaScript library is either not installed or\n",
       "  not enabled. See the <a href=\"https://ipywidgets.readthedocs.io/en/stable/user_install.html\">Jupyter\n",
       "  Widgets Documentation</a> for setup instructions.\n",
       "</p>\n",
       "<p>\n",
       "  If you're reading this message in another notebook frontend (for example, a static\n",
       "  rendering on GitHub or <a href=\"https://nbviewer.jupyter.org/\">NBViewer</a>),\n",
       "  it may mean that your frontend doesn't currently support widgets.\n",
       "</p>\n"
      ],
      "text/plain": [
       "VBox(children=(Label(value='Select Configuration File (*.config)', layout=Layout(width='250px')), VBox(children=(HBox(children=(HBox(children=(Text(value='/Volumes/my_book_thunderbolt_duo/IPTS/IPTS-20209-TOPAZ', description='Location: ', layout=Layout(width='100%'), placeholder=''), Button(description='Jump', layout=Layout(border='1px solid gray', margin='5px 10px', width='100px'), style=ButtonStyle())), layout=Layout(border='1px solid lightgrey', margin='5px 50px 5px 5px', padding='3px', width='100%')),)), HBox(children=(VBox(children=(Dropdown(layout=Layout(align_self='flex-end', width='15%'), options={'config': ['*.config'], 'All': ['*.*']}, value=['*.config']), Select(description='Select', layout=Layout(height='260px', width='99%'), options=(' .', ' ..', ' data                        |     Directory', ' shared                      |     Directory', ' cube_12_eps_295K.config     |     Fri Mar  2 15:38:18 2018'), value=' .')), layout=Layout(width='80%')), VBox(children=(Button(description='Change directory', layout=Layout(border='1px solid gray', margin='5px 40px'), style=ButtonStyle()), Button(description='Select', layout=Layout(border='1px solid blue', margin='auto 40px 5px'), style=ButtonStyle())))), layout=Layout(border='1px solid lightgrey', margin='5px', padding='10px')))), HTML(value='')))"
      ]
     },
     "metadata": {},
     "output_type": "display_data"
    },
    {
     "name": "stdout",
     "output_type": "stream",
     "text": [
      "                instrument_name  \\\n",
      "0            calibration_file_1   \n",
      "1            calibration_file_2   \n",
      "2               split_threshold   \n",
      "3                          Qmax   \n",
      "4                  subtract_bkg   \n",
      "5     no_sample_event_nxs_fname   \n",
      "6              BN_aperture_size   \n",
      "7                data_directory   \n",
      "8              output_directory   \n",
      "9            use_monitor_counts   \n",
      "10                      min_tof   \n",
      "11                      max_tof   \n",
      "12                monitor_index   \n",
      "13              min_monitor_tof   \n",
      "14              max_monitor_tof   \n",
      "15                      read_UB   \n",
      "16                  UB_filename   \n",
      "17                    cell_type   \n",
      "18                    centering   \n",
      "19            num_peaks_to_find   \n",
      "20                        min_d   \n",
      "21                        max_d   \n",
      "22                    tolerance   \n",
      "23    integrate_predicted_peaks   \n",
      "24                  min_pred_wl   \n",
      "25                  max_pred_wl   \n",
      "26            min_pred_dspacing   \n",
      "27            max_pred_dspacing   \n",
      "28       use_sphere_integration   \n",
      "29      use_ellipse_integration   \n",
      "30    use_fit_peaks_integration   \n",
      "31  use_cylindrical_integration   \n",
      "32       integrate_in_HKL_space   \n",
      "33                  peak_radius   \n",
      "34             bkg_inner_radius   \n",
      "35             bkg_outer_radius   \n",
      "36       integrate_if_edge_peak   \n",
      "37        ellipse_region_radius   \n",
      "38       ellipse_size_specified   \n",
      "39        adaptive_Q_background   \n",
      "40        adaptive_Q_multiplier   \n",
      "41                   rebin_step   \n",
      "42              preserve_events   \n",
      "43          use_ikeda_carpenter   \n",
      "44            n_bad_edge_pixels   \n",
      "45              cylinder_radius   \n",
      "46              cylinder_length   \n",
      "47                     exp_name   \n",
      "48        reduce_one_run_script   \n",
      "49                     run_nums   \n",
      "50             slurm_queue_name   \n",
      "51                max_processes   \n",
      "\n",
      "                                           Unnamed: 1  \\\n",
      "0                                                 NaN   \n",
      "1                                                 NaN   \n",
      "2                                                 100   \n",
      "3                                                  20   \n",
      "4                                                 NaN   \n",
      "5   /SNS/TOPAZ/shared/calibrations/vanadium/2017C/...   \n",
      "6                                                 2.0   \n",
      "7                                                 NaN   \n",
      "8                                                 NaN   \n",
      "9                                                 NaN   \n",
      "10                                                NaN   \n",
      "11                                                NaN   \n",
      "12                                                NaN   \n",
      "13                                                NaN   \n",
      "14                                                NaN   \n",
      "15                                                NaN   \n",
      "16  /SNS/TOPAZ/IPTS-20313/shared/12_ef_295K_4-4-4/...   \n",
      "17                                                NaN   \n",
      "18                                                NaN   \n",
      "19                                                300   \n",
      "20                                                NaN   \n",
      "21                                                NaN   \n",
      "22                                                NaN   \n",
      "23                                                NaN   \n",
      "24                                                NaN   \n",
      "25                                                NaN   \n",
      "26                                                NaN   \n",
      "27                                                NaN   \n",
      "28                                                NaN   \n",
      "29                                                NaN   \n",
      "30                                                NaN   \n",
      "31                                                NaN   \n",
      "32                                                NaN   \n",
      "33                                                NaN   \n",
      "34                                                NaN   \n",
      "35                                                NaN   \n",
      "36                                                NaN   \n",
      "37                                                NaN   \n",
      "38                                                NaN   \n",
      "39                                                NaN   \n",
      "40                                                NaN   \n",
      "41                                                NaN   \n",
      "42                                                NaN   \n",
      "43                                                NaN   \n",
      "44                                                NaN   \n",
      "45                                                NaN   \n",
      "46                                                NaN   \n",
      "47                                                NaN   \n",
      "48                                                NaN   \n",
      "49                                        25494:25516   \n",
      "50                                                NaN   \n",
      "51                                                NaN   \n",
      "\n",
      "                                           Unnamed: 2  TOPAZ  \\\n",
      "0   /SNS/TOPAZ/IPTS-20313/shared/calibration/TOPAZ...    NaN   \n",
      "1                                                None    NaN   \n",
      "2                                                 NaN    NaN   \n",
      "3                                                 NaN    NaN   \n",
      "4                                                True    NaN   \n",
      "5                                                 NaN    NaN   \n",
      "6                                                 NaN    NaN   \n",
      "7                                                 NaN    NaN   \n",
      "8            /SNS/TOPAZ/IPTS-20313/shared/12_ef_295K/    NaN   \n",
      "9                                               False    NaN   \n",
      "10                                                NaN    NaN   \n",
      "11                                                NaN    NaN   \n",
      "12                                                NaN    NaN   \n",
      "13                                                NaN    NaN   \n",
      "14                                              12500    NaN   \n",
      "15                                                NaN    NaN   \n",
      "16                                                NaN    NaN   \n",
      "17                                                NaN    NaN   \n",
      "18                                                NaN    NaN   \n",
      "19                                                NaN    NaN   \n",
      "20                                                NaN    NaN   \n",
      "21                                                NaN    NaN   \n",
      "22                                               0.12    NaN   \n",
      "23                                                NaN  False   \n",
      "24                                                NaN    NaN   \n",
      "25                                                NaN    NaN   \n",
      "26                                                NaN    NaN   \n",
      "27                                                NaN    NaN   \n",
      "28                                                NaN    NaN   \n",
      "29                                                NaN    NaN   \n",
      "30                                                NaN    NaN   \n",
      "31                                                NaN    NaN   \n",
      "32                                                NaN    NaN   \n",
      "33                                                NaN    NaN   \n",
      "34                                                NaN    NaN   \n",
      "35                                                NaN    NaN   \n",
      "36                                               True    NaN   \n",
      "37                                                NaN   0.20   \n",
      "38                                               True    NaN   \n",
      "39                                                NaN   True   \n",
      "40                                                NaN  0.001   \n",
      "41                                                NaN    NaN   \n",
      "42                                                NaN    NaN   \n",
      "43                                                NaN  False   \n",
      "44                                                NaN    NaN   \n",
      "45                                                NaN    NaN   \n",
      "46                                                NaN    NaN   \n",
      "47                                                NaN    NaN   \n",
      "48                                ReduceSCD_OneRun.py    NaN   \n",
      "49                                                NaN    NaN   \n",
      "50                                                NaN    NaN   \n",
      "51                                                NaN    NaN   \n",
      "\n",
      "                     Unnamed: 4  Unnamed: 5 Unnamed: 6 Unnamed: 7 Unnamed: 8  \\\n",
      "0                           NaN         NaN        NaN        NaN        NaN   \n",
      "1                           NaN         NaN        NaN        NaN        NaN   \n",
      "2                           NaN         NaN        NaN        NaN        NaN   \n",
      "3                           NaN         NaN        NaN        NaN        NaN   \n",
      "4                           NaN         NaN        NaN        NaN        NaN   \n",
      "5                           NaN         NaN        NaN        NaN        NaN   \n",
      "6                           NaN         NaN        NaN        NaN        NaN   \n",
      "7   /SNS/TOPAZ/IPTS-20313/data/         NaN        NaN        NaN        NaN   \n",
      "8                           NaN         NaN        NaN        NaN        NaN   \n",
      "9                           NaN         NaN        NaN        NaN        NaN   \n",
      "10                          NaN         NaN        NaN        NaN        NaN   \n",
      "11                          NaN         NaN        NaN        NaN        NaN   \n",
      "12                          NaN         NaN        NaN        NaN          0   \n",
      "13                          800         NaN        NaN        NaN        NaN   \n",
      "14                          NaN         NaN        NaN        NaN        NaN   \n",
      "15                         True         NaN        NaN        NaN        NaN   \n",
      "16                          NaN         NaN        NaN        NaN        NaN   \n",
      "17                        Cubic         NaN        NaN        NaN        NaN   \n",
      "18                            F         NaN        NaN        NaN        NaN   \n",
      "19                          NaN         NaN        NaN        NaN        NaN   \n",
      "20                          NaN         NaN        NaN        NaN          3   \n",
      "21                          NaN         NaN        NaN        NaN          9   \n",
      "22                          NaN         NaN        NaN        NaN        NaN   \n",
      "23                          NaN         NaN        NaN        NaN        NaN   \n",
      "24                          NaN         NaN        NaN        NaN        NaN   \n",
      "25                          NaN         NaN        NaN        NaN        NaN   \n",
      "26                          NaN         NaN        NaN        NaN        NaN   \n",
      "27                          NaN         NaN        NaN        NaN        NaN   \n",
      "28                          NaN         NaN        NaN        NaN        NaN   \n",
      "29                          NaN         NaN        NaN        NaN        NaN   \n",
      "30                          NaN         NaN        NaN        NaN      False   \n",
      "31                          NaN         NaN      False        NaN        NaN   \n",
      "32                          NaN         NaN        NaN        NaN        NaN   \n",
      "33                          NaN         NaN        NaN        NaN        NaN   \n",
      "34                          NaN         NaN        NaN        NaN      0.141   \n",
      "35                          NaN         NaN        NaN        NaN      0.165   \n",
      "36                          NaN         NaN        NaN        NaN        NaN   \n",
      "37                          NaN         NaN        NaN        NaN        NaN   \n",
      "38                          NaN         NaN        NaN        NaN        NaN   \n",
      "39                          NaN         NaN        NaN        NaN        NaN   \n",
      "40                          NaN         NaN        NaN        NaN        NaN   \n",
      "41                          NaN         NaN        NaN        NaN        NaN   \n",
      "42                          NaN         NaN        NaN       True        NaN   \n",
      "43                          NaN         NaN        NaN        NaN        NaN   \n",
      "44                          NaN         NaN          0        NaN        NaN   \n",
      "45                          NaN         NaN       0.05        NaN        NaN   \n",
      "46                          NaN         NaN       0.30        NaN        NaN   \n",
      "47                          NaN         NaN        NaN        NaN        NaN   \n",
      "48                          NaN         NaN        NaN        NaN        NaN   \n",
      "49                          NaN         NaN        NaN        NaN        NaN   \n",
      "50                         None         NaN        NaN        NaN        NaN   \n",
      "51                          NaN         NaN        NaN          3        NaN   \n",
      "\n",
      "    Unnamed: 9     ...      Unnamed: 17 Unnamed: 18  Unnamed: 19  Unnamed: 20  \\\n",
      "0          NaN     ...              NaN         NaN          NaN          NaN   \n",
      "1          NaN     ...              NaN         NaN          NaN          NaN   \n",
      "2          NaN     ...              NaN         NaN          NaN          NaN   \n",
      "3          NaN     ...              NaN         NaN          NaN          NaN   \n",
      "4          NaN     ...              NaN         NaN          NaN          NaN   \n",
      "5          NaN     ...              NaN         NaN          NaN          NaN   \n",
      "6          NaN     ...              NaN         NaN          NaN          NaN   \n",
      "7          NaN     ...              NaN         NaN          NaN          NaN   \n",
      "8          NaN     ...              NaN         NaN          NaN          NaN   \n",
      "9          NaN     ...              NaN         NaN          NaN          NaN   \n",
      "10         NaN     ...              NaN         NaN          NaN          NaN   \n",
      "11         NaN     ...              NaN         NaN          NaN          NaN   \n",
      "12         NaN     ...              NaN         NaN          NaN          NaN   \n",
      "13         NaN     ...              NaN         NaN          NaN          NaN   \n",
      "14         NaN     ...              NaN         NaN          NaN          NaN   \n",
      "15         NaN     ...              NaN         NaN          NaN          NaN   \n",
      "16         NaN     ...              NaN         NaN          NaN          NaN   \n",
      "17         NaN     ...              NaN         NaN          NaN          NaN   \n",
      "18         NaN     ...              NaN         NaN          NaN          NaN   \n",
      "19         NaN     ...              NaN         NaN          NaN          NaN   \n",
      "20         NaN     ...              NaN         NaN          NaN          NaN   \n",
      "21         NaN     ...              NaN         NaN          NaN          NaN   \n",
      "22         NaN     ...              NaN         NaN          NaN          NaN   \n",
      "23         NaN     ...              NaN         NaN          NaN          NaN   \n",
      "24         NaN     ...              0.4         NaN          NaN          NaN   \n",
      "25         NaN     ...              3.5         NaN          NaN          NaN   \n",
      "26         NaN     ...              NaN         NaN          NaN          NaN   \n",
      "27         NaN     ...              NaN         NaN          NaN          NaN   \n",
      "28         NaN     ...              NaN         NaN          NaN          NaN   \n",
      "29         NaN     ...              NaN         NaN          NaN          NaN   \n",
      "30         NaN     ...              NaN         NaN          NaN          NaN   \n",
      "31         NaN     ...              NaN         NaN          NaN          NaN   \n",
      "32         NaN     ...              NaN         NaN          NaN          NaN   \n",
      "33         NaN     ...              NaN         NaN          NaN          NaN   \n",
      "34         NaN     ...              NaN         NaN          NaN          NaN   \n",
      "35         NaN     ...              NaN         NaN          NaN          NaN   \n",
      "36         NaN     ...              NaN         NaN          NaN          NaN   \n",
      "37         NaN     ...              NaN         NaN          NaN          NaN   \n",
      "38         NaN     ...              NaN         NaN          NaN          NaN   \n",
      "39         NaN     ...              NaN         NaN          NaN          NaN   \n",
      "40         NaN     ...              NaN         NaN          NaN          NaN   \n",
      "41         NaN     ...              NaN         NaN          NaN          NaN   \n",
      "42         NaN     ...              NaN         NaN          NaN          NaN   \n",
      "43         NaN     ...              NaN         NaN          NaN          NaN   \n",
      "44         NaN     ...              NaN         NaN          NaN          NaN   \n",
      "45         NaN     ...              NaN         NaN          NaN          NaN   \n",
      "46         NaN     ...              NaN         NaN          NaN          NaN   \n",
      "47         NaN     ...              NaN         NaN          NaN          NaN   \n",
      "48         NaN     ...              NaN         NaN          NaN          NaN   \n",
      "49         NaN     ...              NaN         NaN          NaN          NaN   \n",
      "50         NaN     ...              NaN         NaN          NaN          NaN   \n",
      "51         NaN     ...              NaN         NaN          NaN          NaN   \n",
      "\n",
      "    Unnamed: 21 Unnamed: 22  Unnamed: 23  Unnamed: 24  Unnamed: 25  \\\n",
      "0           NaN         NaN          NaN          NaN          NaN   \n",
      "1           NaN         NaN          NaN          NaN          NaN   \n",
      "2           NaN         NaN          NaN          NaN          NaN   \n",
      "3           NaN         NaN          NaN          NaN          NaN   \n",
      "4           NaN         NaN          NaN          NaN          NaN   \n",
      "5           NaN         NaN          NaN          NaN          NaN   \n",
      "6           NaN         NaN          NaN          NaN          NaN   \n",
      "7           NaN         NaN          NaN          NaN          NaN   \n",
      "8           NaN         NaN          NaN          NaN          NaN   \n",
      "9           NaN         NaN          NaN          NaN          NaN   \n",
      "10          NaN         NaN          NaN          NaN          NaN   \n",
      "11          NaN         NaN          NaN          NaN          NaN   \n",
      "12          NaN         NaN          NaN          NaN          NaN   \n",
      "13          NaN         NaN          NaN          NaN          NaN   \n",
      "14          NaN         NaN          NaN          NaN          NaN   \n",
      "15          NaN         NaN          NaN          NaN          NaN   \n",
      "16          NaN         NaN          NaN          NaN          NaN   \n",
      "17          NaN         NaN          NaN          NaN          NaN   \n",
      "18          NaN         NaN          NaN          NaN          NaN   \n",
      "19          NaN         NaN          NaN          NaN          NaN   \n",
      "20          NaN         NaN          NaN          NaN          NaN   \n",
      "21          NaN         NaN          NaN          NaN          NaN   \n",
      "22          NaN         NaN          NaN          NaN          NaN   \n",
      "23          NaN         NaN          NaN          NaN          NaN   \n",
      "24          NaN         NaN          NaN          NaN          NaN   \n",
      "25          NaN         NaN          NaN          NaN          NaN   \n",
      "26          NaN         NaN          NaN          NaN          NaN   \n",
      "27          NaN         NaN          NaN          NaN          NaN   \n",
      "28          NaN         NaN          NaN          NaN          NaN   \n",
      "29          NaN         NaN          NaN          NaN          NaN   \n",
      "30          NaN         NaN          NaN          NaN          NaN   \n",
      "31          NaN         NaN          NaN          NaN          NaN   \n",
      "32          NaN         NaN          NaN          NaN          NaN   \n",
      "33          NaN         NaN          NaN          NaN          NaN   \n",
      "34          NaN         NaN          NaN          NaN          NaN   \n",
      "35          NaN         NaN          NaN          NaN          NaN   \n",
      "36          NaN         NaN          NaN          NaN          NaN   \n",
      "37          NaN         NaN          NaN          NaN          NaN   \n",
      "38          NaN         NaN          NaN          NaN          NaN   \n",
      "39          NaN         NaN          NaN          NaN          NaN   \n",
      "40          NaN         NaN          NaN          NaN          NaN   \n",
      "41          NaN         NaN          NaN          NaN          NaN   \n",
      "42          NaN         NaN          NaN          NaN          NaN   \n",
      "43          NaN         NaN          NaN          NaN          NaN   \n",
      "44          NaN         NaN          NaN          NaN          NaN   \n",
      "45          NaN         NaN          NaN          NaN          NaN   \n",
      "46          NaN         NaN          NaN          NaN          NaN   \n",
      "47          NaN         NaN          NaN          NaN          NaN   \n",
      "48          NaN         NaN          NaN          NaN          NaN   \n",
      "49          NaN         NaN          NaN          NaN          NaN   \n",
      "50          NaN         NaN          NaN          NaN          NaN   \n",
      "51          NaN         NaN          NaN          NaN          NaN   \n",
      "\n",
      "    Unnamed: 26  \n",
      "0           NaN  \n",
      "1           NaN  \n",
      "2           NaN  \n",
      "3           NaN  \n",
      "4           NaN  \n",
      "5           NaN  \n",
      "6           NaN  \n",
      "7           NaN  \n",
      "8           NaN  \n",
      "9           NaN  \n",
      "10          NaN  \n",
      "11          NaN  \n",
      "12          NaN  \n",
      "13          NaN  \n",
      "14          NaN  \n",
      "15          NaN  \n",
      "16          NaN  \n",
      "17          NaN  \n",
      "18          NaN  \n",
      "19          NaN  \n",
      "20          NaN  \n",
      "21          NaN  \n",
      "22          NaN  \n",
      "23          NaN  \n",
      "24          NaN  \n",
      "25          NaN  \n",
      "26          NaN  \n",
      "27          NaN  \n",
      "28          NaN  \n",
      "29          NaN  \n",
      "30          NaN  \n",
      "31          NaN  \n",
      "32          NaN  \n",
      "33          NaN  \n",
      "34          NaN  \n",
      "35          NaN  \n",
      "36          NaN  \n",
      "37          NaN  \n",
      "38          NaN  \n",
      "39          NaN  \n",
      "40          NaN  \n",
      "41          NaN  \n",
      "42          NaN  \n",
      "43          NaN  \n",
      "44          NaN  \n",
      "45          NaN  \n",
      "46          NaN  \n",
      "47          NaN  \n",
      "48          NaN  \n",
      "49          NaN  \n",
      "50          NaN  \n",
      "51          NaN  \n",
      "\n",
      "[52 rows x 27 columns]\n"
     ]
    }
   ],
   "source": [
    "o_config_loader = ConfigLoader(working_dir=system.System.get_working_dir())\n",
    "o_config_loader.select_config_file()"
   ]
  },
  {
   "cell_type": "markdown",
   "metadata": {
    "run_control": {
     "frozen": false,
     "read_only": false
    }
   },
   "source": [
    "# Define Parameters "
   ]
  },
  {
   "cell_type": "markdown",
   "metadata": {
    "run_control": {
     "frozen": false,
     "read_only": false
    }
   },
   "source": [
    "<img src='__docs/__all/shift_enter_only.gif' />"
   ]
  },
  {
   "cell_type": "code",
   "execution_count": 3,
   "metadata": {
    "run_control": {
     "frozen": false,
     "read_only": false
    },
    "scrolled": false
   },
   "outputs": [
    {
     "data": {
      "text/html": [
       "\n",
       "            <style>\n",
       "            .mylabel_key {\n",
       "               font-style: bold;\n",
       "               color: black;\n",
       "               font-size: 18px;\n",
       "            }\n",
       "            </style>\n",
       "            "
      ],
      "text/plain": [
       "<IPython.core.display.HTML object>"
      ]
     },
     "metadata": {},
     "output_type": "display_data"
    },
    {
     "data": {
      "text/html": [
       "<h2>Define Config File Name</h2>"
      ],
      "text/plain": [
       "<IPython.core.display.HTML object>"
      ]
     },
     "metadata": {},
     "output_type": "display_data"
    },
    {
     "data": {
      "application/vnd.jupyter.widget-view+json": {
       "model_id": "ca8c2e9ed80649c1a2f07cbd96e87ca4",
       "version_major": 2,
       "version_minor": 0
      },
      "text/html": [
       "<p>Failed to display Jupyter Widget of type <code>HBox</code>.</p>\n",
       "<p>\n",
       "  If you're reading this message in Jupyter Notebook or JupyterLab, it may mean\n",
       "  that the widgets JavaScript is still loading. If this message persists, it\n",
       "  likely means that the widgets JavaScript library is either not installed or\n",
       "  not enabled. See the <a href=\"https://ipywidgets.readthedocs.io/en/stable/user_install.html\">Jupyter\n",
       "  Widgets Documentation</a> for setup instructions.\n",
       "</p>\n",
       "<p>\n",
       "  If you're reading this message in another notebook frontend (for example, a static\n",
       "  rendering on GitHub or <a href=\"https://nbviewer.jupyter.org/\">NBViewer</a>),\n",
       "  it may mean that your frontend doesn't currently support widgets.\n",
       "</p>\n"
      ],
      "text/plain": [
       "HBox(children=(Label(value='Config File Name:', layout=Layout(width='20%')), Text(value='cube_12_eps_295K', layout=Layout(width='75%')), Label(value='.config', layout=Layout(width='5%'))))"
      ]
     },
     "metadata": {},
     "output_type": "display_data"
    },
    {
     "data": {
      "text/html": [
       "<h2 id='input_directory'>Select Input Data Folder</h2>"
      ],
      "text/plain": [
       "<IPython.core.display.HTML object>"
      ]
     },
     "metadata": {},
     "output_type": "display_data"
    },
    {
     "data": {
      "application/vnd.jupyter.widget-view+json": {
       "model_id": "44e6e90bf195408ab6ec13870bb53d2b",
       "version_major": 2,
       "version_minor": 0
      },
      "text/html": [
       "<p>Failed to display Jupyter Widget of type <code>HBox</code>.</p>\n",
       "<p>\n",
       "  If you're reading this message in Jupyter Notebook or JupyterLab, it may mean\n",
       "  that the widgets JavaScript is still loading. If this message persists, it\n",
       "  likely means that the widgets JavaScript library is either not installed or\n",
       "  not enabled. See the <a href=\"https://ipywidgets.readthedocs.io/en/stable/user_install.html\">Jupyter\n",
       "  Widgets Documentation</a> for setup instructions.\n",
       "</p>\n",
       "<p>\n",
       "  If you're reading this message in another notebook frontend (for example, a static\n",
       "  rendering on GitHub or <a href=\"https://nbviewer.jupyter.org/\">NBViewer</a>),\n",
       "  it may mean that your frontend doesn't currently support widgets.\n",
       "</p>\n"
      ],
      "text/plain": [
       "HBox(children=(Label(value='Input Data Folder Selected:', layout=Layout(width='25%'), _dom_classes=('mylabel_key',)), Label(value='nan', layout=Layout(width='70%'))))"
      ]
     },
     "metadata": {},
     "output_type": "display_data"
    },
    {
     "data": {
      "application/vnd.jupyter.widget-view+json": {
       "model_id": "606f6fc93dfb4f229958903fb4eedaa6",
       "version_major": 2,
       "version_minor": 0
      },
      "text/html": [
       "<p>Failed to display Jupyter Widget of type <code>VBox</code>.</p>\n",
       "<p>\n",
       "  If you're reading this message in Jupyter Notebook or JupyterLab, it may mean\n",
       "  that the widgets JavaScript is still loading. If this message persists, it\n",
       "  likely means that the widgets JavaScript library is either not installed or\n",
       "  not enabled. See the <a href=\"https://ipywidgets.readthedocs.io/en/stable/user_install.html\">Jupyter\n",
       "  Widgets Documentation</a> for setup instructions.\n",
       "</p>\n",
       "<p>\n",
       "  If you're reading this message in another notebook frontend (for example, a static\n",
       "  rendering on GitHub or <a href=\"https://nbviewer.jupyter.org/\">NBViewer</a>),\n",
       "  it may mean that your frontend doesn't currently support widgets.\n",
       "</p>\n"
      ],
      "text/plain": [
       "VBox(children=(Label(value='', layout=Layout(width='250px')), VBox(children=(HBox(children=(HBox(children=(Text(value='/Volumes/my_book_thunderbolt_duo/IPTS/IPTS-20209-TOPAZ/data', description='Location: ', layout=Layout(width='100%'), placeholder=''), Button(description='Jump', layout=Layout(border='1px solid gray', margin='5px 10px', width='100px'), style=ButtonStyle())), layout=Layout(border='1px solid lightgrey', margin='5px 50px 5px 5px', padding='3px', width='100%')),)), HBox(children=(VBox(children=(Select(description='Select', layout=Layout(height='260px', width='99%'), options=(' .', ' ..', ' TOPAZ_25317_event.nxs     |     Mon Feb 19 09:47:42 2018', ' TOPAZ_25317_histo.nxs     |     Mon Feb 19 09:47:59 2018', ' TOPAZ_25318_event.nxs     |     Mon Feb 19 09:47:46 2018', ' TOPAZ_25319_event.nxs     |     Mon Feb 19 09:47:49 2018', ' TOPAZ_25320_event.nxs     |     Mon Feb 19 09:48:16 2018', ' TOPAZ_25321_event.nxs     |     Mon Feb 19 09:48:19 2018', ' TOPAZ_25322_event.nxs     |     Mon Feb 19 09:48:22 2018', ' TOPAZ_25323_event.nxs     |     Mon Feb 19 09:48:25 2018', ' TOPAZ_25324_event.nxs     |     Mon Feb 19 09:48:27 2018', ' TOPAZ_25400_histo.nxs     |     Mon Feb 19 09:48:05 2018'), value=' .'),), layout=Layout(width='80%')), VBox(children=(Button(description='Change directory', layout=Layout(border='1px solid gray', margin='5px 40px'), style=ButtonStyle()), Button(description='Select', layout=Layout(border='1px solid blue', margin='auto 40px 5px'), style=ButtonStyle())))), layout=Layout(border='1px solid lightgrey', margin='5px', padding='10px')))), HTML(value='')))"
      ]
     },
     "metadata": {},
     "output_type": "display_data"
    },
    {
     "data": {
      "application/vnd.jupyter.widget-view+json": {
       "model_id": "56915ebe9c9846b48a6717251d694343",
       "version_major": 2,
       "version_minor": 0
      },
      "text/html": [
       "<p>Failed to display Jupyter Widget of type <code>Label</code>.</p>\n",
       "<p>\n",
       "  If you're reading this message in Jupyter Notebook or JupyterLab, it may mean\n",
       "  that the widgets JavaScript is still loading. If this message persists, it\n",
       "  likely means that the widgets JavaScript library is either not installed or\n",
       "  not enabled. See the <a href=\"https://ipywidgets.readthedocs.io/en/stable/user_install.html\">Jupyter\n",
       "  Widgets Documentation</a> for setup instructions.\n",
       "</p>\n",
       "<p>\n",
       "  If you're reading this message in another notebook frontend (for example, a static\n",
       "  rendering on GitHub or <a href=\"https://nbviewer.jupyter.org/\">NBViewer</a>),\n",
       "  it may mean that your frontend doesn't currently support widgets.\n",
       "</p>\n"
      ],
      "text/plain": [
       "Label(value='')"
      ]
     },
     "metadata": {},
     "output_type": "display_data"
    },
    {
     "data": {
      "text/html": [
       "<h2 id='output_directory'>Select or Create Output Folder</h2>"
      ],
      "text/plain": [
       "<IPython.core.display.HTML object>"
      ]
     },
     "metadata": {},
     "output_type": "display_data"
    },
    {
     "data": {
      "application/vnd.jupyter.widget-view+json": {
       "model_id": "3bcb07fe2d31468dbea2cb52341485e2",
       "version_major": 2,
       "version_minor": 0
      },
      "text/html": [
       "<p>Failed to display Jupyter Widget of type <code>HBox</code>.</p>\n",
       "<p>\n",
       "  If you're reading this message in Jupyter Notebook or JupyterLab, it may mean\n",
       "  that the widgets JavaScript is still loading. If this message persists, it\n",
       "  likely means that the widgets JavaScript library is either not installed or\n",
       "  not enabled. See the <a href=\"https://ipywidgets.readthedocs.io/en/stable/user_install.html\">Jupyter\n",
       "  Widgets Documentation</a> for setup instructions.\n",
       "</p>\n",
       "<p>\n",
       "  If you're reading this message in another notebook frontend (for example, a static\n",
       "  rendering on GitHub or <a href=\"https://nbviewer.jupyter.org/\">NBViewer</a>),\n",
       "  it may mean that your frontend doesn't currently support widgets.\n",
       "</p>\n"
      ],
      "text/plain": [
       "HBox(children=(Label(value='Output Data Folder Selected:', layout=Layout(width='25%'), _dom_classes=('mylabel_key',)), Label(value='/Volumes/my_book_thunderbolt_duo/IPTS/IPTS-20209-TOPAZ/shared', layout=Layout(width='70%'))))"
      ]
     },
     "metadata": {},
     "output_type": "display_data"
    },
    {
     "data": {
      "application/vnd.jupyter.widget-view+json": {
       "model_id": "304dd3a64266494d8db6a33a29d84c85",
       "version_major": 2,
       "version_minor": 0
      },
      "text/html": [
       "<p>Failed to display Jupyter Widget of type <code>VBox</code>.</p>\n",
       "<p>\n",
       "  If you're reading this message in Jupyter Notebook or JupyterLab, it may mean\n",
       "  that the widgets JavaScript is still loading. If this message persists, it\n",
       "  likely means that the widgets JavaScript library is either not installed or\n",
       "  not enabled. See the <a href=\"https://ipywidgets.readthedocs.io/en/stable/user_install.html\">Jupyter\n",
       "  Widgets Documentation</a> for setup instructions.\n",
       "</p>\n",
       "<p>\n",
       "  If you're reading this message in another notebook frontend (for example, a static\n",
       "  rendering on GitHub or <a href=\"https://nbviewer.jupyter.org/\">NBViewer</a>),\n",
       "  it may mean that your frontend doesn't currently support widgets.\n",
       "</p>\n"
      ],
      "text/plain": [
       "VBox(children=(Label(value='Location of Output Folder', layout=Layout(width='250px')), VBox(children=(HBox(children=(HBox(children=(Text(value='/Volumes/my_book_thunderbolt_duo/IPTS/IPTS-20209-TOPAZ/shared', description='Location: ', layout=Layout(width='100%'), placeholder=''), Button(description='Jump', layout=Layout(border='1px solid gray', margin='5px 10px', width='100px'), style=ButtonStyle())), layout=Layout(border='1px solid lightgrey', margin='5px 50px 5px 5px', padding='3px', width='100%')), HBox(children=(Text(value='', description='New subdir: ', layout=Layout(width='180px'), placeholder='new dir name'), Button(description='Create', layout=Layout(border='1px solid gray', margin='5px 10px', width='100px'), style=ButtonStyle())), layout=Layout(border='1px solid lightgrey', margin='5px 50px 5px 5px', padding='3px', width='100%')))), HBox(children=(VBox(children=(Select(description='Select', layout=Layout(height='260px', width='99%'), options=(' .', ' ..', ' .DS_Store                    |     Mon Feb  5 13:44:57 2018', ' 17pPb_Na2Ir03_11ef           |     Directory', ' 17pPb_Na2IrO3_13-14-15ep     |     Fri Feb  2 17:59:05 2018', ' config_file_test1.cfg        |     Wed Feb  7 12:11:39 2018', ' reduce                       |     Directory', ' test                         |     Wed Feb  7 11:36:13 2018', ' tmp.cfg                      |     Thu Feb 22 14:42:40 2018', ' tmp.config                   |     Thu Mar  1 10:17:49 2018'), value=' .'),), layout=Layout(width='80%')), VBox(children=(Button(description='Change directory', layout=Layout(border='1px solid gray', margin='5px 40px'), style=ButtonStyle()), Button(description='Select', layout=Layout(border='1px solid blue', margin='auto 40px 5px'), style=ButtonStyle())))), layout=Layout(border='1px solid lightgrey', margin='5px', padding='10px')))), HTML(value='')))"
      ]
     },
     "metadata": {},
     "output_type": "display_data"
    },
    {
     "data": {
      "text/html": [
       "<h2 id='calibration_file'>Specify calibration file(s)</h2><br>SNAP requires two calibration files, one for each bank.                      If the default detector position is to be used, specify <strong>None</strong> as the calibration file name."
      ],
      "text/plain": [
       "<IPython.core.display.HTML object>"
      ]
     },
     "metadata": {},
     "output_type": "display_data"
    },
    {
     "data": {
      "application/vnd.jupyter.widget-view+json": {
       "model_id": "928daee3f98547f4ac3c16da8ea8751d",
       "version_major": 2,
       "version_minor": 0
      },
      "text/html": [
       "<p>Failed to display Jupyter Widget of type <code>HBox</code>.</p>\n",
       "<p>\n",
       "  If you're reading this message in Jupyter Notebook or JupyterLab, it may mean\n",
       "  that the widgets JavaScript is still loading. If this message persists, it\n",
       "  likely means that the widgets JavaScript library is either not installed or\n",
       "  not enabled. See the <a href=\"https://ipywidgets.readthedocs.io/en/stable/user_install.html\">Jupyter\n",
       "  Widgets Documentation</a> for setup instructions.\n",
       "</p>\n",
       "<p>\n",
       "  If you're reading this message in another notebook frontend (for example, a static\n",
       "  rendering on GitHub or <a href=\"https://nbviewer.jupyter.org/\">NBViewer</a>),\n",
       "  it may mean that your frontend doesn't currently support widgets.\n",
       "</p>\n"
      ],
      "text/plain": [
       "HBox(children=(Label(value='Calibration File:', layout=Layout(width='15%')), Dropdown(layout=Layout(width='85%'), options=('/Volumes/my_book_thunderbolt_duo/IPTS/shared/calibrations/2017C/TOPAZ_2017C.DetCal', 'None'), value='/Volumes/my_book_thunderbolt_duo/IPTS/shared/calibrations/2017C/TOPAZ_2017C.DetCal')))"
      ]
     },
     "metadata": {},
     "output_type": "display_data"
    },
    {
     "data": {
      "text/html": [
       "<h2>Goniometer z Offset Correction</h2><br>Test correction for Goniometer z offset"
      ],
      "text/plain": [
       "<IPython.core.display.HTML object>"
      ]
     },
     "metadata": {},
     "output_type": "display_data"
    },
    {
     "data": {
      "application/vnd.jupyter.widget-view+json": {
       "model_id": "14959c49d0d34b7cb862f32dcddd7dbd",
       "version_major": 2,
       "version_minor": 0
      },
      "text/html": [
       "<p>Failed to display Jupyter Widget of type <code>VBox</code>.</p>\n",
       "<p>\n",
       "  If you're reading this message in Jupyter Notebook or JupyterLab, it may mean\n",
       "  that the widgets JavaScript is still loading. If this message persists, it\n",
       "  likely means that the widgets JavaScript library is either not installed or\n",
       "  not enabled. See the <a href=\"https://ipywidgets.readthedocs.io/en/stable/user_install.html\">Jupyter\n",
       "  Widgets Documentation</a> for setup instructions.\n",
       "</p>\n",
       "<p>\n",
       "  If you're reading this message in another notebook frontend (for example, a static\n",
       "  rendering on GitHub or <a href=\"https://nbviewer.jupyter.org/\">NBViewer</a>),\n",
       "  it may mean that your frontend doesn't currently support widgets.\n",
       "</p>\n"
      ],
      "text/plain": [
       "VBox(children=(HBox(children=(Label(value='z_offset:', layout=Layout(width='5%')), FloatSlider(value=0.0, continuous_update=False, layout=Layout(width='30%'), max=10.0, min=-10.0))), HBox(children=(Label(value='x_offset:', layout=Layout(width='5%')), FloatSlider(value=0.0, continuous_update=False, layout=Layout(width='30%'), max=10.0, min=-10.0)))))"
      ]
     },
     "metadata": {},
     "output_type": "display_data"
    },
    {
     "data": {
      "text/html": [
       "<h2>Use Monitor Counts ?</h2><br> If use_monitor_counts is True, then the integrated beam monitor             counts will be used for scaling. <br>If use_monitor_counts is False,             then the integrated proton charge will be used for scaling. <br><br>These             values will be listed under MONCNT in the integrate file."
      ],
      "text/plain": [
       "<IPython.core.display.HTML object>"
      ]
     },
     "metadata": {},
     "output_type": "display_data"
    },
    {
     "data": {
      "application/vnd.jupyter.widget-view+json": {
       "model_id": "dd17128219364277958ce18de0a8c17d",
       "version_major": 2,
       "version_minor": 0
      },
      "text/html": [
       "<p>Failed to display Jupyter Widget of type <code>Checkbox</code>.</p>\n",
       "<p>\n",
       "  If you're reading this message in Jupyter Notebook or JupyterLab, it may mean\n",
       "  that the widgets JavaScript is still loading. If this message persists, it\n",
       "  likely means that the widgets JavaScript library is either not installed or\n",
       "  not enabled. See the <a href=\"https://ipywidgets.readthedocs.io/en/stable/user_install.html\">Jupyter\n",
       "  Widgets Documentation</a> for setup instructions.\n",
       "</p>\n",
       "<p>\n",
       "  If you're reading this message in another notebook frontend (for example, a static\n",
       "  rendering on GitHub or <a href=\"https://nbviewer.jupyter.org/\">NBViewer</a>),\n",
       "  it may mean that your frontend doesn't currently support widgets.\n",
       "</p>\n"
      ],
      "text/plain": [
       "Checkbox(value=False, description='Use Monitor Counts')"
      ]
     },
     "metadata": {},
     "output_type": "display_data"
    },
    {
     "data": {
      "text/html": [
       "<h2>TOF and Monitor</h2><br>Min & max tof determine the range of events loaded.<br> Min & max monitor tof                     determine the range of tofs integrated in the monitor data to get the                     total monitor counts. <br>You need these even if Use Monitor Counts is False."
      ],
      "text/plain": [
       "<IPython.core.display.HTML object>"
      ]
     },
     "metadata": {},
     "output_type": "display_data"
    },
    {
     "ename": "ValueError",
     "evalue": "cannot convert float NaN to integer",
     "output_type": "error",
     "traceback": [
      "\u001b[0;31m---------------------------------------------------------------------------\u001b[0m",
      "\u001b[0;31mValueError\u001b[0m                                Traceback (most recent call last)",
      "\u001b[0;32m<ipython-input-3-b3830c1be48d>\u001b[0m in \u001b[0;36m<module>\u001b[0;34m()\u001b[0m\n\u001b[1;32m      1\u001b[0m _cfg = TopazConfigGenerator(working_dir=system.System.get_working_dir(), \n\u001b[0;32m----> 2\u001b[0;31m                             config_dict_loaded=o_config_loader.config_dict)\n\u001b[0m",
      "\u001b[0;32m~/git/IPTS/python_notebooks/__code/topaz_config_generator.py\u001b[0m in \u001b[0;36m__init__\u001b[0;34m(self, working_dir, config_dict_loaded)\u001b[0m\n\u001b[1;32m    242\u001b[0m         \u001b[0mself\u001b[0m\u001b[0;34m.\u001b[0m\u001b[0minit_css\u001b[0m\u001b[0;34m(\u001b[0m\u001b[0;34m)\u001b[0m\u001b[0;34m\u001b[0m\u001b[0m\n\u001b[1;32m    243\u001b[0m         \u001b[0mself\u001b[0m\u001b[0;34m.\u001b[0m\u001b[0m__create_cell_type_centering_dict\u001b[0m\u001b[0;34m(\u001b[0m\u001b[0;34m)\u001b[0m\u001b[0;34m\u001b[0m\u001b[0m\n\u001b[0;32m--> 244\u001b[0;31m         \u001b[0mself\u001b[0m\u001b[0;34m.\u001b[0m\u001b[0mrun_all\u001b[0m\u001b[0;34m(\u001b[0m\u001b[0;34m)\u001b[0m\u001b[0;34m\u001b[0m\u001b[0m\n\u001b[0m\u001b[1;32m    245\u001b[0m \u001b[0;34m\u001b[0m\u001b[0m\n\u001b[1;32m    246\u001b[0m     \u001b[0;32mdef\u001b[0m \u001b[0minit_css\u001b[0m\u001b[0;34m(\u001b[0m\u001b[0mself\u001b[0m\u001b[0;34m)\u001b[0m\u001b[0;34m:\u001b[0m\u001b[0;34m\u001b[0m\u001b[0m\n",
      "\u001b[0;32m~/git/IPTS/python_notebooks/__code/topaz_config_generator.py\u001b[0m in \u001b[0;36mrun_all\u001b[0;34m(self)\u001b[0m\n\u001b[1;32m    272\u001b[0m         \u001b[0mself\u001b[0m\u001b[0;34m.\u001b[0m\u001b[0mselect_input_data_folder\u001b[0m\u001b[0;34m(\u001b[0m\u001b[0;34m)\u001b[0m\u001b[0;34m\u001b[0m\u001b[0m\n\u001b[1;32m    273\u001b[0m         \u001b[0mself\u001b[0m\u001b[0;34m.\u001b[0m\u001b[0mselect_output_folder\u001b[0m\u001b[0;34m(\u001b[0m\u001b[0;34m)\u001b[0m\u001b[0;34m\u001b[0m\u001b[0m\n\u001b[0;32m--> 274\u001b[0;31m         \u001b[0mself\u001b[0m\u001b[0;34m.\u001b[0m\u001b[0mparameters_1\u001b[0m\u001b[0;34m(\u001b[0m\u001b[0;34m)\u001b[0m\u001b[0;34m\u001b[0m\u001b[0m\n\u001b[0m\u001b[1;32m    275\u001b[0m         \u001b[0mself\u001b[0m\u001b[0;34m.\u001b[0m\u001b[0mparameters_2\u001b[0m\u001b[0;34m(\u001b[0m\u001b[0;34m)\u001b[0m\u001b[0;34m\u001b[0m\u001b[0m\n\u001b[1;32m    276\u001b[0m         \u001b[0mself\u001b[0m\u001b[0;34m.\u001b[0m\u001b[0madvanced_options\u001b[0m\u001b[0;34m(\u001b[0m\u001b[0;34m)\u001b[0m\u001b[0;34m\u001b[0m\u001b[0m\n",
      "\u001b[0;32m~/git/IPTS/python_notebooks/__code/topaz_config_generator.py\u001b[0m in \u001b[0;36mparameters_1\u001b[0;34m(self)\u001b[0m\n\u001b[1;32m    485\u001b[0m                     total monitor counts. <br>You need these even if Use Monitor Counts is False.\"))\n\u001b[1;32m    486\u001b[0m \u001b[0;34m\u001b[0m\u001b[0m\n\u001b[0;32m--> 487\u001b[0;31m         \u001b[0m_min_tof\u001b[0m \u001b[0;34m=\u001b[0m \u001b[0mself\u001b[0m\u001b[0;34m.\u001b[0m\u001b[0mo_config_dict\u001b[0m\u001b[0;34m.\u001b[0m\u001b[0mget_parameter_value\u001b[0m\u001b[0;34m(\u001b[0m\u001b[0;34m'min_tof'\u001b[0m\u001b[0;34m)\u001b[0m\u001b[0;34m\u001b[0m\u001b[0m\n\u001b[0m\u001b[1;32m    488\u001b[0m         \u001b[0m_max_tof\u001b[0m \u001b[0;34m=\u001b[0m \u001b[0mself\u001b[0m\u001b[0;34m.\u001b[0m\u001b[0mo_config_dict\u001b[0m\u001b[0;34m.\u001b[0m\u001b[0mget_parameter_value\u001b[0m\u001b[0;34m(\u001b[0m\u001b[0;34m'max_tof'\u001b[0m\u001b[0;34m)\u001b[0m\u001b[0;34m\u001b[0m\u001b[0m\n\u001b[1;32m    489\u001b[0m         tof_ui = widgets.HBox([widgets.Label(\"TOF Range\",\n",
      "\u001b[0;32m~/git/IPTS/python_notebooks/__code/topaz_config_generator.py\u001b[0m in \u001b[0;36mget_parameter_value\u001b[0;34m(self, parameter)\u001b[0m\n\u001b[1;32m    143\u001b[0m                 \u001b[0;32melse\u001b[0m\u001b[0;34m:\u001b[0m\u001b[0;34m\u001b[0m\u001b[0m\n\u001b[1;32m    144\u001b[0m                     \u001b[0;32mreturn\u001b[0m \u001b[0;32mFalse\u001b[0m\u001b[0;34m\u001b[0m\u001b[0m\n\u001b[0;32m--> 145\u001b[0;31m             \u001b[0;32mreturn\u001b[0m \u001b[0mpara_type\u001b[0m\u001b[0;34m(\u001b[0m\u001b[0mconfig_para\u001b[0m\u001b[0;34m)\u001b[0m\u001b[0;34m\u001b[0m\u001b[0m\n\u001b[0m\u001b[1;32m    146\u001b[0m         \u001b[0;32melse\u001b[0m\u001b[0;34m:\u001b[0m\u001b[0;34m\u001b[0m\u001b[0m\n\u001b[1;32m    147\u001b[0m             \u001b[0;32mreturn\u001b[0m \u001b[0mself\u001b[0m\u001b[0;34m.\u001b[0m\u001b[0mconfig\u001b[0m\u001b[0;34m[\u001b[0m\u001b[0mparameter\u001b[0m\u001b[0;34m]\u001b[0m\u001b[0;34m\u001b[0m\u001b[0m\n",
      "\u001b[0;31mValueError\u001b[0m: cannot convert float NaN to integer"
     ]
    }
   ],
   "source": [
    "_cfg = TopazConfigGenerator(working_dir=system.System.get_working_dir(), \n",
    "                            config_dict_loaded=o_config_loader.config_dict)"
   ]
  },
  {
   "cell_type": "markdown",
   "metadata": {
    "run_control": {
     "frozen": false,
     "read_only": false
    }
   },
   "source": [
    "<img src='__docs/__all/do_not_rerun_modified_cell.gif' />\n"
   ]
  },
  {
   "cell_type": "markdown",
   "metadata": {
    "run_control": {
     "frozen": false,
     "read_only": false
    }
   },
   "source": [
    "# Export the Config File "
   ]
  },
  {
   "cell_type": "markdown",
   "metadata": {
    "run_control": {
     "frozen": false,
     "read_only": false
    }
   },
   "source": [
    "<img src='__docs/__all/shift_enter_only.gif' />"
   ]
  },
  {
   "cell_type": "code",
   "execution_count": null,
   "metadata": {
    "run_control": {
     "frozen": false,
     "read_only": false
    }
   },
   "outputs": [],
   "source": [
    "_cfg.create_config()"
   ]
  },
  {
   "cell_type": "markdown",
   "metadata": {
    "run_control": {
     "frozen": false,
     "read_only": false
    }
   },
   "source": [
    "# Run Reduction "
   ]
  },
  {
   "cell_type": "code",
   "execution_count": null,
   "metadata": {
    "run_control": {
     "frozen": false,
     "read_only": false
    }
   },
   "outputs": [],
   "source": [
    "_cfg.run_reduction()"
   ]
  },
  {
   "cell_type": "markdown",
   "metadata": {
    "run_control": {
     "frozen": false,
     "read_only": false
    }
   },
   "source": [
    "<img src='__docs/topaz_config_generator/run_reduction_manually.gif' />"
   ]
  },
  {
   "cell_type": "code",
   "execution_count": null,
   "metadata": {
    "run_control": {
     "frozen": false,
     "read_only": false
    }
   },
   "outputs": [],
   "source": []
  }
 ],
 "metadata": {
  "kernelspec": {
   "display_name": "Python 3",
   "language": "python",
   "name": "python3"
  },
  "language_info": {
   "codemirror_mode": {
    "name": "ipython",
    "version": 3
   },
   "file_extension": ".py",
   "mimetype": "text/x-python",
   "name": "python",
   "nbconvert_exporter": "python",
   "pygments_lexer": "ipython3",
   "version": "3.6.2"
  },
  "toc": {
   "colors": {
    "hover_highlight": "#DAA520",
    "running_highlight": "#FF0000",
    "selected_highlight": "#FFD700"
   },
   "moveMenuLeft": true,
   "nav_menu": {
    "height": "66px",
    "width": "252px"
   },
   "navigate_menu": true,
   "number_sections": true,
   "sideBar": true,
   "threshold": 4,
   "toc_cell": false,
   "toc_section_display": "block",
   "toc_window_display": false
  }
 },
 "nbformat": 4,
 "nbformat_minor": 2
}
