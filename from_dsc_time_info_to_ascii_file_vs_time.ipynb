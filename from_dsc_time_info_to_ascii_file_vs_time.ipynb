{
 "cells": [
  {
   "cell_type": "code",
   "execution_count": null,
   "metadata": {
    "run_control": {
     "frozen": false,
     "read_only": false
    }
   },
   "outputs": [],
   "source": [
    "debugging = True\n",
    "IPTS = 17685"
   ]
  },
  {
   "cell_type": "markdown",
   "metadata": {
    "run_control": {
     "frozen": false,
     "read_only": false
    }
   },
   "source": [
    "# Description"
   ]
  },
  {
   "cell_type": "markdown",
   "metadata": {
    "run_control": {
     "frozen": false,
     "read_only": false
    }
   },
   "source": [
    "This notebook will use all the *.dsc files from the folder selected to retrieve the time stamp metadata and will create an output ascii file of file_name vs time_stamp\n",
    "\n",
    "**INPUT**\n",
    "\n",
    "*folder containing .dsc files*\n",
    "\n",
    "**OUTPUT**\n",
    "\n",
    "filename_vs_timestamp.txt\n",
    "```\n",
    "sample_0000.tif 1045454545  \n",
    "sample_0001.tif 1045454546\n",
    "sample_0002.tfi 1045454547\n",
    "\n",
    "```"
   ]
  },
  {
   "cell_type": "markdown",
   "metadata": {
    "run_control": {
     "frozen": false,
     "read_only": false
    }
   },
   "source": [
    "# Python Import"
   ]
  },
  {
   "cell_type": "code",
   "execution_count": null,
   "metadata": {
    "run_control": {
     "frozen": false,
     "read_only": false
    }
   },
   "outputs": [],
   "source": [
    "from __code.__all import custom_style\n",
    "custom_style.style()"
   ]
  },
  {
   "cell_type": "code",
   "execution_count": null,
   "metadata": {
    "run_control": {
     "frozen": false,
     "read_only": false
    }
   },
   "outputs": [],
   "source": [
    "from __code import utilities, gui_widgets, file_handler, fileselector\n",
    "from __code.from_dsc_time_info_to_ascii_file_vs_time import CreateExportTimeStamp\n",
    "\n",
    "if debugging:\n",
    "    ipts = IPTS\n",
    "else:\n",
    "    ipts = utilities.get_ipts()\n",
    "working_dir = utilities.get_working_dir(ipts=ipts, debugging=debugging)\n",
    "print(\"Working dir: {}\".format(working_dir))"
   ]
  },
  {
   "cell_type": "markdown",
   "metadata": {
    "run_control": {
     "frozen": false,
     "read_only": false
    }
   },
   "source": [
    "# Select DSC Folder"
   ]
  },
  {
   "cell_type": "markdown",
   "metadata": {
    "run_control": {
     "frozen": false,
     "read_only": false
    }
   },
   "source": [
    "Select Input folder containing all the *.dsc* images"
   ]
  },
  {
   "cell_type": "code",
   "execution_count": null,
   "metadata": {
    "run_control": {
     "frozen": false,
     "read_only": false
    },
    "scrolled": false
   },
   "outputs": [],
   "source": [
    "input_folder_ui = fileselector.FileSelectorPanel(instruction='Select DSC Folder', type='directory', start_dir=working_dir, multiple=False)\n",
    "input_folder_ui.show()"
   ]
  },
  {
   "cell_type": "markdown",
   "metadata": {
    "run_control": {
     "frozen": false,
     "read_only": false
    }
   },
   "source": [
    "# Select TIFF Images Folder "
   ]
  },
  {
   "cell_type": "code",
   "execution_count": null,
   "metadata": {
    "run_control": {
     "frozen": false,
     "read_only": false
    }
   },
   "outputs": [],
   "source": [
    "folder = input_folder_ui.result_full_path()\n",
    "list_dsc_files = glob.glob(folder + '/*.dsc')\n",
    "\n",
    "working_dir = os.path.dirname(list_dsc_files[0])\n",
    "tiff_folder_ui = fileselector.FileSelectorPanel(instruction='Select TIFF Folder', type='directory', start_dir=working_dir, multiple=False)\n",
    "tiff_folder_ui.show()"
   ]
  },
  {
   "cell_type": "markdown",
   "metadata": {
    "run_control": {
     "frozen": false,
     "read_only": false
    }
   },
   "source": [
    "# Select output folder"
   ]
  },
  {
   "cell_type": "code",
   "execution_count": null,
   "metadata": {
    "run_control": {
     "frozen": false,
     "read_only": false
    }
   },
   "outputs": [],
   "source": [
    "working_dir = os.path.dirname(tiff_folder_ui.result_full_path())\n",
    "output_folder_ui = fileselector.FileSelectorPanel(instruction='Select Where to create timestamp ascii file', type='directory', start_dir=working_dir, multiple=False)\n",
    "output_folder_ui.show()"
   ]
  },
  {
   "cell_type": "markdown",
   "metadata": {
    "run_control": {
     "frozen": false,
     "read_only": false
    }
   },
   "source": [
    "# Create and export time stamp list "
   ]
  },
  {
   "cell_type": "code",
   "execution_count": null,
   "metadata": {},
   "outputs": [],
   "source": [
    "o_create = CreateExportTimeStamp(dsc_folder=input_folder_ui.selected,\n",
    "                                tiff_folder=tiff_folder_ui.selected,\n",
    "                                output_folder=output_folder_ui.selected)\n",
    "o_create.run()"
   ]
  },
  {
   "cell_type": "code",
   "execution_count": null,
   "metadata": {
    "run_control": {
     "frozen": false,
     "read_only": false
    }
   },
   "outputs": [],
   "source": []
  }
 ],
 "metadata": {
  "anaconda-cloud": {},
  "kernelspec": {
   "display_name": "Python [default]",
   "language": "python",
   "name": "python3"
  },
  "language_info": {
   "codemirror_mode": {
    "name": "ipython",
    "version": 3
   },
   "file_extension": ".py",
   "mimetype": "text/x-python",
   "name": "python",
   "nbconvert_exporter": "python",
   "pygments_lexer": "ipython3",
   "version": "3.5.3"
  },
  "toc": {
   "colors": {
    "hover_highlight": "#DAA520",
    "running_highlight": "#FF0000",
    "selected_highlight": "#FFD700"
   },
   "moveMenuLeft": true,
   "nav_menu": {
    "height": "210px",
    "width": "252px"
   },
   "navigate_menu": true,
   "number_sections": true,
   "sideBar": true,
   "threshold": 4,
   "toc_cell": false,
   "toc_section_display": "block",
   "toc_window_display": false
  }
 },
 "nbformat": 4,
 "nbformat_minor": 1
}
