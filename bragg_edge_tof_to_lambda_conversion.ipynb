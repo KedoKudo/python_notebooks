{
 "cells": [
  {
   "cell_type": "markdown",
   "metadata": {
    "run_control": {
     "frozen": false,
     "read_only": false
    }
   },
   "source": [
    "[![Notebook Tutorial](__code/__all/notebook_tutorial.png)](https://neutronimaging.pages.ornl.gov/en/tutorial/notebooks/bragg_edge)\n",
    "\n",
    "<img src='__docs/__all/notebook_rules.png' />"
   ]
  },
  {
   "cell_type": "markdown",
   "metadata": {
    "run_control": {
     "frozen": false,
     "read_only": false
    }
   },
   "source": [
    "# Select Your IPTS "
   ]
  },
  {
   "cell_type": "code",
   "execution_count": 1,
   "metadata": {
    "run_control": {
     "frozen": false,
     "read_only": false
    }
   },
   "outputs": [
    {
     "data": {
      "text/html": [
       "\n",
       "<style type=\"text/css\">\n",
       ".jupyter-widgets select option {font-family: \"Lucida Console\", Monaco, monospace;}\n",
       ".jupyter-widgets select {width: 98%;}\n",
       "div.output_subarea {padding: 0px;}\n",
       "div.output_subarea > div {margin: 0.4em;}\n",
       "</style>\n"
      ],
      "text/plain": [
       "<IPython.core.display.HTML object>"
      ]
     },
     "metadata": {},
     "output_type": "display_data"
    },
    {
     "ename": "ModuleNotFoundError",
     "evalue": "No module named 'neutronbraggedge'",
     "output_type": "error",
     "traceback": [
      "\u001b[0;31m---------------------------------------------------------------------------\u001b[0m",
      "\u001b[0;31mModuleNotFoundError\u001b[0m                       Traceback (most recent call last)",
      "\u001b[0;32m<ipython-input-1-568e6b6f59c8>\u001b[0m in \u001b[0;36m<module>\u001b[0;34m\u001b[0m\n\u001b[1;32m      1\u001b[0m \u001b[0;32mfrom\u001b[0m \u001b[0m__code\u001b[0m \u001b[0;32mimport\u001b[0m \u001b[0msystem\u001b[0m\u001b[0;34m\u001b[0m\u001b[0;34m\u001b[0m\u001b[0m\n\u001b[0;32m----> 2\u001b[0;31m \u001b[0;32mfrom\u001b[0m \u001b[0m__code\u001b[0m\u001b[0;34m.\u001b[0m\u001b[0mbragg_edge\u001b[0m \u001b[0;32mimport\u001b[0m \u001b[0mBraggEdge\u001b[0m\u001b[0;34m,\u001b[0m \u001b[0mInterface\u001b[0m\u001b[0;34m\u001b[0m\u001b[0;34m\u001b[0m\u001b[0m\n\u001b[0m\u001b[1;32m      3\u001b[0m \u001b[0;34m\u001b[0m\u001b[0m\n\u001b[1;32m      4\u001b[0m \u001b[0msystem\u001b[0m\u001b[0;34m.\u001b[0m\u001b[0mSystem\u001b[0m\u001b[0;34m.\u001b[0m\u001b[0mselect_working_dir\u001b[0m\u001b[0;34m(\u001b[0m\u001b[0mfacility\u001b[0m\u001b[0;34m=\u001b[0m\u001b[0;34m'SNS'\u001b[0m\u001b[0;34m,\u001b[0m \u001b[0minstrument\u001b[0m\u001b[0;34m=\u001b[0m\u001b[0;34m'SNAP'\u001b[0m\u001b[0;34m)\u001b[0m\u001b[0;34m\u001b[0m\u001b[0;34m\u001b[0m\u001b[0m\n\u001b[1;32m      5\u001b[0m \u001b[0;32mfrom\u001b[0m \u001b[0m__code\u001b[0m\u001b[0;34m.\u001b[0m\u001b[0m__all\u001b[0m \u001b[0;32mimport\u001b[0m \u001b[0mcustom_style\u001b[0m\u001b[0;34m\u001b[0m\u001b[0;34m\u001b[0m\u001b[0m\n",
      "\u001b[0;32m/Volumes/my_book_thunderbolt_duo/git/IPTS/python_notebooks/__code/bragg_edge.py\u001b[0m in \u001b[0;36m<module>\u001b[0;34m\u001b[0m\n\u001b[1;32m      7\u001b[0m \u001b[0;32mimport\u001b[0m \u001b[0mglob\u001b[0m\u001b[0;34m\u001b[0m\u001b[0;34m\u001b[0m\u001b[0m\n\u001b[1;32m      8\u001b[0m \u001b[0;34m\u001b[0m\u001b[0m\n\u001b[0;32m----> 9\u001b[0;31m \u001b[0;32mfrom\u001b[0m \u001b[0mneutronbraggedge\u001b[0m\u001b[0;34m.\u001b[0m\u001b[0mexperiment_handler\u001b[0m \u001b[0;32mimport\u001b[0m \u001b[0;34m*\u001b[0m\u001b[0;34m\u001b[0m\u001b[0;34m\u001b[0m\u001b[0m\n\u001b[0m\u001b[1;32m     10\u001b[0m \u001b[0;32mfrom\u001b[0m \u001b[0mneutronbraggedge\u001b[0m\u001b[0;34m.\u001b[0m\u001b[0mbraggedge\u001b[0m \u001b[0;32mimport\u001b[0m \u001b[0mBraggEdge\u001b[0m \u001b[0;32mas\u001b[0m \u001b[0mBraggEdgeLibrary\u001b[0m\u001b[0;34m\u001b[0m\u001b[0;34m\u001b[0m\u001b[0m\n\u001b[1;32m     11\u001b[0m \u001b[0;32mfrom\u001b[0m \u001b[0mneutronbraggedge\u001b[0m\u001b[0;34m.\u001b[0m\u001b[0mmaterial_handler\u001b[0m\u001b[0;34m.\u001b[0m\u001b[0mretrieve_material_metadata\u001b[0m \u001b[0;32mimport\u001b[0m \u001b[0mRetrieveMaterialMetadata\u001b[0m\u001b[0;34m\u001b[0m\u001b[0;34m\u001b[0m\u001b[0m\n",
      "\u001b[0;31mModuleNotFoundError\u001b[0m: No module named 'neutronbraggedge'"
     ]
    }
   ],
   "source": [
    "from __code import system\n",
    "from __code.bragg_edge import BraggEdge, Interface\n",
    "\n",
    "system.System.select_working_dir(facility='SNS', instrument='SNAP')\n",
    "from __code.__all import custom_style\n",
    "custom_style.style()"
   ]
  },
  {
   "cell_type": "markdown",
   "metadata": {
    "run_control": {
     "frozen": false,
     "read_only": false
    }
   },
   "source": [
    "# Select Time Spectra File"
   ]
  },
  {
   "cell_type": "code",
   "execution_count": null,
   "metadata": {
    "run_control": {
     "frozen": false,
     "read_only": false
    }
   },
   "outputs": [],
   "source": [
    "o_bragg = BraggEdge(working_dir=system.System.get_working_dir())\n",
    "o_bragg.select_just_time_spectra_file()"
   ]
  },
  {
   "cell_type": "markdown",
   "metadata": {
    "run_control": {
     "frozen": false,
     "read_only": false
    }
   },
   "source": [
    "# Define Experiment Setup"
   ]
  },
  {
   "cell_type": "code",
   "execution_count": null,
   "metadata": {
    "run_control": {
     "frozen": false,
     "read_only": false
    }
   },
   "outputs": [],
   "source": [
    "o_bragg.exp_setup()"
   ]
  },
  {
   "cell_type": "markdown",
   "metadata": {
    "run_control": {
     "frozen": false,
     "read_only": false
    }
   },
   "source": [
    "## Display Bragg Edges vs Signal"
   ]
  },
  {
   "cell_type": "code",
   "execution_count": null,
   "metadata": {
    "run_control": {
     "frozen": false,
     "read_only": false
    }
   },
   "outputs": [],
   "source": [
    "o_bragg.load_time_spectra()\n",
    "#o_bragg.calculate_counts_vs_file_index_of_regions_selected(list_roi=o_interface.list_roi)"
   ]
  },
  {
   "cell_type": "code",
   "execution_count": null,
   "metadata": {},
   "outputs": [],
   "source": [
    "o_bragg.lambda_array"
   ]
  },
  {
   "cell_type": "code",
   "execution_count": null,
   "metadata": {},
   "outputs": [],
   "source": [
    "o_bragg.tof_array"
   ]
  },
  {
   "cell_type": "code",
   "execution_count": null,
   "metadata": {},
   "outputs": [],
   "source": []
  },
  {
   "cell_type": "code",
   "execution_count": null,
   "metadata": {},
   "outputs": [],
   "source": []
  },
  {
   "cell_type": "code",
   "execution_count": null,
   "metadata": {
    "run_control": {
     "frozen": false,
     "read_only": false
    }
   },
   "outputs": [],
   "source": [
    "from plotly.offline import plot, init_notebook_mode, iplot\n",
    "init_notebook_mode()\n",
    "import plotly.plotly as py\n",
    "import plotly.graph_objs as go\n",
    "from plotly import tools\n",
    "from ipywidgets.widgets import interact\n",
    "from ipywidgets import widgets\n"
   ]
  },
  {
   "cell_type": "code",
   "execution_count": null,
   "metadata": {},
   "outputs": [],
   "source": []
  },
  {
   "cell_type": "code",
   "execution_count": null,
   "metadata": {
    "run_control": {
     "frozen": false,
     "read_only": false
    }
   },
   "outputs": [],
   "source": [
    "bragg_edges = o_bragg.bragg_edges\n",
    "hkl = o_bragg.hkl\n",
    "lambda_array = o_bragg.lambda_array\n",
    "sum_cropped_data = o_bragg.final_image\n",
    "\n",
    "# format hkl labels\n",
    "_hkl_formated = {}\n",
    "for _material in hkl:\n",
    "    _hkl_string = []\n",
    "    for _hkl in hkl[_material]:\n",
    "        _hkl_s = \",\".join(str(x) for x in _hkl)\n",
    "        _hkl_s = _material + \"\\n\" + _hkl_s\n",
    "        _hkl_string.append(_hkl_s)\n",
    "    _hkl_formated[_material] = _hkl_string\n",
    "    \n",
    "trace = go.Scatter(\n",
    "    x = o_bragg.lambda_array,\n",
    "    y = o_bragg.counts_vs_file_index,\n",
    "    mode = 'markers')\n",
    "\n",
    "layout = go.Layout(\n",
    "    width = \"100%\",\n",
    "    height = 500,\n",
    "    title = \"Sum Counts vs TOF\",\n",
    "    xaxis = dict(\n",
    "        title = \"Lambda (Angstroms)\"\n",
    "                ),\n",
    "    yaxis = dict(\n",
    "        title = \"Sum Counts\"\n",
    "                ),\n",
    "    )\n",
    "\n",
    "max_x = 6\n",
    "y_off = 1\n",
    "\n",
    "for y_index, _material in enumerate(bragg_edges):\n",
    "    for _index, _value in enumerate(bragg_edges[_material]):\n",
    "        if _value > max_x:\n",
    "            continue\n",
    "        bragg_line = {\"type\": \"line\",\n",
    "                    'x0': _value,\n",
    "                    'x1': _value,\n",
    "                     'yref': \"paper\",\n",
    "                     'y0': 0,\n",
    "                     'y1': 1,\n",
    "                     'line': {\n",
    "                        'color': 'rgb(255, 0, 0)',\n",
    "                        'width': 1\n",
    "            }}\n",
    "        layout.shapes.append(bragg_line)\n",
    "        y_off = 1 - 0.25 * y_index\n",
    "    \n",
    "        # add labels to plots\n",
    "        _annot = dict(\n",
    "                    x=_value,\n",
    "                    y= y_off,\n",
    "                    text = _hkl_formated[_material][_index],\n",
    "                    yref=\"paper\",\n",
    "                    font=dict(\n",
    "                        family=\"Arial\",\n",
    "                        size=16,\n",
    "                        color=\"rgb(150,50,50)\"\n",
    "                    ),\n",
    "                    showarrow=True,\n",
    "                    arrowhead=3,\n",
    "                    ax=0,\n",
    "                    ay=-25)\n",
    "                \n",
    "        layout.annotations.append(_annot)\n",
    "        \n",
    "data = [trace]\n",
    "\n",
    "figure = go.Figure(data=data, layout=layout)\n",
    "iplot(figure)\n"
   ]
  },
  {
   "cell_type": "code",
   "execution_count": null,
   "metadata": {},
   "outputs": [],
   "source": []
  }
 ],
 "metadata": {
  "kernelspec": {
   "display_name": "Python 3",
   "language": "python",
   "name": "python3"
  },
  "language_info": {
   "codemirror_mode": {
    "name": "ipython",
    "version": 3
   },
   "file_extension": ".py",
   "mimetype": "text/x-python",
   "name": "python",
   "nbconvert_exporter": "python",
   "pygments_lexer": "ipython3",
   "version": "3.6.7"
  },
  "toc": {
   "colors": {
    "hover_highlight": "#DAA520",
    "running_highlight": "#FF0000",
    "selected_highlight": "#FFD700"
   },
   "moveMenuLeft": true,
   "nav_menu": {
    "height": "48px",
    "width": "252px"
   },
   "navigate_menu": true,
   "number_sections": true,
   "sideBar": true,
   "threshold": 4,
   "toc_cell": false,
   "toc_section_display": "block",
   "toc_window_display": false
  }
 },
 "nbformat": 4,
 "nbformat_minor": 2
}
