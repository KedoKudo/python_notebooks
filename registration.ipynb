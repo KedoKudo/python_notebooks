{
 "cells": [
  {
   "cell_type": "markdown",
   "metadata": {
    "run_control": {
     "frozen": false,
     "read_only": false
    }
   },
   "source": [
    "[![Notebook Tutorial](__code/__all/notebook_tutorial.png)](https://neutronimaging.pages.ornl.gov/en/tutorial/notebooks/registration/)"
   ]
  },
  {
   "cell_type": "markdown",
   "metadata": {
    "run_control": {
     "frozen": false,
     "read_only": false
    }
   },
   "source": [
    "<img src='__docs/__all/notebook_rules.png' />"
   ]
  },
  {
   "cell_type": "markdown",
   "metadata": {
    "run_control": {
     "frozen": false,
     "read_only": false
    }
   },
   "source": [
    "# Select your IPTS "
   ]
  },
  {
   "cell_type": "code",
   "execution_count": null,
   "metadata": {
    "run_control": {
     "frozen": false,
     "read_only": false
    }
   },
   "outputs": [],
   "source": [
    "from __code.ui_builder import UiBuilder\n",
    "o_builder = UiBuilder(ui_name = 'ui_registration.ui')\n",
    "\n",
    "from __code import system\n",
    "from __code.registration import RegistrationFileSelection, RegistrationUi\n",
    "\n",
    "system.System.select_working_dir()\n",
    "from __code.__all import custom_style\n",
    "custom_style.style()"
   ]
  },
  {
   "cell_type": "markdown",
   "metadata": {
    "run_control": {
     "frozen": false,
     "read_only": false
    }
   },
   "source": [
    "# Python Import "
   ]
  },
  {
   "cell_type": "code",
   "execution_count": null,
   "metadata": {
    "run_control": {
     "frozen": false,
     "read_only": false
    }
   },
   "outputs": [],
   "source": [
    "%gui qt"
   ]
  },
  {
   "cell_type": "markdown",
   "metadata": {
    "run_control": {
     "frozen": false,
     "read_only": false
    }
   },
   "source": [
    "# Select Images to Process"
   ]
  },
  {
   "cell_type": "code",
   "execution_count": null,
   "metadata": {},
   "outputs": [],
   "source": [
    "o_selection = RegistrationFileSelection(working_dir=system.System.get_working_dir())\n",
    "o_selection.select_data()"
   ]
  },
  {
   "cell_type": "markdown",
   "metadata": {},
   "source": [
    "# Launch Registration UI "
   ]
  },
  {
   "cell_type": "markdown",
   "metadata": {},
   "source": [
    "START DEBUGGING HERE"
   ]
  },
  {
   "cell_type": "code",
   "execution_count": 1,
   "metadata": {},
   "outputs": [
    {
     "name": "stdout",
     "output_type": "stream",
     "text": [
      "pyuic5 /Users/j35/git/IPTS/python_notebooks/ui/ui_registration.ui -o /Users/j35/git/IPTS/python_notebooks/__code/ui_registration.py\n"
     ]
    }
   ],
   "source": [
    "#debugging\n",
    "from __code.ui_builder import UiBuilder\n",
    "o_builder = UiBuilder(ui_name = 'ui_registration.ui')"
   ]
  },
  {
   "cell_type": "code",
   "execution_count": 1,
   "metadata": {},
   "outputs": [
    {
     "data": {
      "text/html": [
       "\n",
       "<style type=\"text/css\">\n",
       ".jupyter-widgets select option {font-family: \"Lucida Console\", Monaco, monospace;}\n",
       ".jupyter-widgets select {width: 98%;}\n",
       "div.output_subarea {padding: 0px;}\n",
       "div.output_subarea > div {margin: 0.4em;}\n",
       "</style>\n"
      ],
      "text/plain": [
       "<IPython.core.display.HTML object>"
      ]
     },
     "metadata": {},
     "output_type": "display_data"
    },
    {
     "name": "stderr",
     "output_type": "stream",
     "text": [
      "/Users/j35/anaconda/envs/py36/lib/python3.6/site-packages/h5py/__init__.py:36: FutureWarning: Conversion of the second argument of issubdtype from `float` to `np.floating` is deprecated. In future, it will be treated as `np.float64 == np.dtype(float).type`.\n",
      "  from ._conv import register_converters as _register_converters\n"
     ]
    }
   ],
   "source": [
    "from NeuNorm.normalization import Normalization\n",
    "\n",
    "from __code import system\n",
    "from __code.registration import RegistrationFileSelection, RegistrationUi"
   ]
  },
  {
   "cell_type": "code",
   "execution_count": 2,
   "metadata": {},
   "outputs": [],
   "source": [
    "%gui qt"
   ]
  },
  {
   "cell_type": "code",
   "execution_count": 3,
   "metadata": {},
   "outputs": [
    {
     "data": {
      "application/vnd.jupyter.widget-view+json": {
       "model_id": "34d30032abfc4eb2998ef11de9f67669",
       "version_major": 2,
       "version_minor": 0
      },
      "text/html": [
       "<p>Failed to display Jupyter Widget of type <code>HBox</code>.</p>\n",
       "<p>\n",
       "  If you're reading this message in the Jupyter Notebook or JupyterLab Notebook, it may mean\n",
       "  that the widgets JavaScript is still loading. If this message persists, it\n",
       "  likely means that the widgets JavaScript library is either not installed or\n",
       "  not enabled. See the <a href=\"https://ipywidgets.readthedocs.io/en/stable/user_install.html\">Jupyter\n",
       "  Widgets Documentation</a> for setup instructions.\n",
       "</p>\n",
       "<p>\n",
       "  If you're reading this message in another frontend (for example, a static\n",
       "  rendering on GitHub or <a href=\"https://nbviewer.jupyter.org/\">NBViewer</a>),\n",
       "  it may mean that your frontend doesn't currently support widgets.\n",
       "</p>\n"
      ],
      "text/plain": [
       "HBox(children=(Label(value='Loading sample', layout=Layout(width='20%')), IntProgress(value=0, max=5), Label(value='Time remaining:', layout=Layout(width='10%')), Label(value=' >> calculating << ')))"
      ]
     },
     "metadata": {},
     "output_type": "display_data"
    },
    {
     "data": {
      "text/html": [
       "<span style=\"font-size: 20px; color:blue\">Check UI that poped up             (maybe hidden behind this browser!)</span>"
      ],
      "text/plain": [
       "<IPython.core.display.HTML object>"
      ]
     },
     "metadata": {},
     "output_type": "display_data"
    }
   ],
   "source": [
    "list_files = ['/Volumes/my_book_thunderbolt_duo/IPTS/IPTS-19921-Charles/02/im0000.tif',\n",
    "              '/Volumes/my_book_thunderbolt_duo/IPTS/IPTS-19921-Charles/02/im0167.tif',\n",
    "              '/Volumes/my_book_thunderbolt_duo/IPTS/IPTS-19921-Charles/02/im0168.tif',\n",
    "              '/Volumes/my_book_thunderbolt_duo/IPTS/IPTS-19921-Charles/02/im0169.tif',\n",
    "              '/Volumes/my_book_thunderbolt_duo/IPTS/IPTS-19921-Charles/02/im0170.tif',\n",
    "              '/Volumes/my_book_thunderbolt_duo/IPTS/IPTS-19921-Charles/02/im0171.tif',\n",
    "              '/Volumes/my_book_thunderbolt_duo/IPTS/IPTS-19921-Charles/02/im0168.tif',\n",
    "              '/Volumes/my_book_thunderbolt_duo/IPTS/IPTS-19921-Charles/02/im0169.tif',\n",
    "              '/Volumes/my_book_thunderbolt_duo/IPTS/IPTS-19921-Charles/02/im0170.tif',\n",
    "              '/Volumes/my_book_thunderbolt_duo/IPTS/IPTS-19921-Charles/02/im0170.tif',\n",
    "]\n",
    "\n",
    "list_files = ['/Users/j35/IPTS/Charles/im0000.tif',\n",
    "             '/Users/j35/IPTS/Charles/im0324.tif',\n",
    "             '/Users/j35/IPTS/Charles/im0325.tif',\n",
    "             '/Users/j35/IPTS/Charles/im0326.tif',\n",
    "             '/Users/j35/IPTS/Charles/im0327.tif']\n",
    "\n",
    "o_norm = Normalization()\n",
    "o_norm.load(file=list_files, notebook=True)\n",
    "data_dict = o_norm.data['sample']\n",
    "\n",
    "o_registration = RegistrationUi(data_dict=data_dict)\n",
    "o_registration.show()"
   ]
  },
  {
   "cell_type": "code",
   "execution_count": null,
   "metadata": {},
   "outputs": [],
   "source": []
  },
  {
   "cell_type": "code",
   "execution_count": null,
   "metadata": {},
   "outputs": [],
   "source": []
  },
  {
   "cell_type": "code",
   "execution_count": null,
   "metadata": {},
   "outputs": [],
   "source": []
  },
  {
   "cell_type": "code",
   "execution_count": null,
   "metadata": {},
   "outputs": [],
   "source": [
    "import numpy as np"
   ]
  },
  {
   "cell_type": "code",
   "execution_count": null,
   "metadata": {},
   "outputs": [],
   "source": [
    "def intermediates(p1, p2):\n",
    "    \"\"\"\"Return a list of nb_points equally spaced points\n",
    "    between p1 and p2\"\"\"\n",
    "    # If we have 8 intermediate points, we have 8+1=9 spaces\n",
    "    # between p1 and p2\n",
    "\n",
    "    # nb_points ?\n",
    "    nb_points = np.int(3 * max([np.abs(p2[0]-p2[1]), np.abs(p1[1]-p1[0])]))\n",
    "\n",
    "    x_spacing = (p2[0] - p1[0]) / (nb_points + 1)\n",
    "    y_spacing = (p2[1] - p1[1]) / (nb_points + 1)\n",
    "    \n",
    "    full_array = [[np.int(p1[0] + i * x_spacing), np.int(p1[1] +  i * y_spacing)] \n",
    "                for i in range(1, nb_points+1)]\n",
    "    \n",
    "    clean_array = []\n",
    "    for _points in full_array:\n",
    "        if _points in clean_array:\n",
    "            continue\n",
    "        clean_array.append(_points)\n",
    "    \n",
    "    return clean_array\n",
    "\n",
    "intermediate_points = intermediates([1, 2], [10, 6.5])"
   ]
  },
  {
   "cell_type": "code",
   "execution_count": null,
   "metadata": {},
   "outputs": [],
   "source": [
    "data = np.random.rand(10, 10)"
   ]
  },
  {
   "cell_type": "code",
   "execution_count": null,
   "metadata": {},
   "outputs": [],
   "source": [
    "profile = [data[_point[0], _point[1]] for _point in intermediate_points]"
   ]
  },
  {
   "cell_type": "code",
   "execution_count": null,
   "metadata": {},
   "outputs": [],
   "source": [
    "profile`"
   ]
  },
  {
   "cell_type": "markdown",
   "metadata": {},
   "source": [
    "END DEBUGGING HERE"
   ]
  },
  {
   "cell_type": "code",
   "execution_count": null,
   "metadata": {
    "run_control": {
     "frozen": false,
     "read_only": false
    }
   },
   "outputs": [],
   "source": [
    "o_registration = RegistrationUi(data_dict=o_selection.data_dict)\n",
    "o_registration.show()"
   ]
  },
  {
   "cell_type": "code",
   "execution_count": null,
   "metadata": {
    "run_control": {
     "frozen": false,
     "read_only": false
    }
   },
   "outputs": [],
   "source": [
    "slice = o_registration.ui.profile_line.getArraySlice(o_registration.live_image, o_registration.ui.image_view.imageItem)"
   ]
  },
  {
   "cell_type": "code",
   "execution_count": null,
   "metadata": {},
   "outputs": [],
   "source": [
    "result = o_registration.ui.profile_line.getArrayRegion(o_registration.live_image, \n",
    "                                                       o_registration.ui.image_view.imageItem, \n",
    "                                                       returnMappedCoords=True)\n",
    "np.shape(result)"
   ]
  },
  {
   "cell_type": "code",
   "execution_count": null,
   "metadata": {},
   "outputs": [],
   "source": []
  }
 ],
 "metadata": {
  "kernelspec": {
   "display_name": "Python 3",
   "language": "python",
   "name": "python3"
  },
  "language_info": {
   "codemirror_mode": {
    "name": "ipython",
    "version": 3
   },
   "file_extension": ".py",
   "mimetype": "text/x-python",
   "name": "python",
   "nbconvert_exporter": "python",
   "pygments_lexer": "ipython3",
   "version": "3.6.4"
  },
  "toc": {
   "colors": {
    "hover_highlight": "#DAA520",
    "running_highlight": "#FF0000",
    "selected_highlight": "#FFD700"
   },
   "moveMenuLeft": true,
   "nav_menu": {
    "height": "138px",
    "width": "252px"
   },
   "navigate_menu": true,
   "number_sections": true,
   "sideBar": true,
   "threshold": 4,
   "toc_cell": false,
   "toc_section_display": "block",
   "toc_window_display": false
  }
 },
 "nbformat": 4,
 "nbformat_minor": 2
}
