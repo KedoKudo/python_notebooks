{
 "cells": [
  {
   "cell_type": "markdown",
   "metadata": {
    "run_control": {
     "frozen": false,
     "read_only": false
    }
   },
   "source": [
    "[![Notebook Tutorial](__code/__all/notebook_tutorial.png)](https://neutronimaging.pages.ornl.gov/en/tutorial/notebooks/registration/)"
   ]
  },
  {
   "cell_type": "markdown",
   "metadata": {
    "run_control": {
     "frozen": false,
     "read_only": false
    }
   },
   "source": [
    "<img src='__docs/__all/notebook_rules.png' />"
   ]
  },
  {
   "cell_type": "markdown",
   "metadata": {
    "run_control": {
     "frozen": false,
     "read_only": false
    }
   },
   "source": [
    "# Select your IPTS "
   ]
  },
  {
   "cell_type": "code",
   "execution_count": 1,
   "metadata": {
    "run_control": {
     "frozen": false,
     "read_only": false
    }
   },
   "outputs": [
    {
     "name": "stdout",
     "output_type": "stream",
     "text": [
      "pyuic5 /Users/j35/git/IPTS/python_notebooks/ui/ui_registration.ui -o /Users/j35/git/IPTS/python_notebooks/__code/ui_registration.py\n",
      "pyuic5 /Users/j35/git/IPTS/python_notebooks/ui/ui_registration_tool.ui -o /Users/j35/git/IPTS/python_notebooks/__code/ui_registration_tool.py\n",
      "pyuic5 /Users/j35/git/IPTS/python_notebooks/ui/ui_registration_auto_confirmation.ui -o /Users/j35/git/IPTS/python_notebooks/__code/ui_registration_auto_confirmation.py\n",
      "pyuic5 /Users/j35/git/IPTS/python_notebooks/ui/ui_registration_markers.ui -o /Users/j35/git/IPTS/python_notebooks/__code/ui_registration_markers.py\n"
     ]
    },
    {
     "data": {
      "text/html": [
       "\n",
       "<style type=\"text/css\">\n",
       ".jupyter-widgets select option {font-family: \"Lucida Console\", Monaco, monospace;}\n",
       ".jupyter-widgets select {width: 98%;}\n",
       "div.output_subarea {padding: 0px;}\n",
       "div.output_subarea > div {margin: 0.4em;}\n",
       "</style>\n"
      ],
      "text/plain": [
       "<IPython.core.display.HTML object>"
      ]
     },
     "metadata": {},
     "output_type": "display_data"
    },
    {
     "name": "stderr",
     "output_type": "stream",
     "text": [
      "/Users/j35/anaconda/envs/py36/lib/python3.6/site-packages/h5py/__init__.py:36: FutureWarning: Conversion of the second argument of issubdtype from `float` to `np.floating` is deprecated. In future, it will be treated as `np.float64 == np.dtype(float).type`.\n",
      "  from ._conv import register_converters as _register_converters\n"
     ]
    },
    {
     "data": {
      "text/html": [
       "\n",
       "                       <style>\n",
       "                       .result_label {\n",
       "                          font-style: bold;\n",
       "                          color: red;\n",
       "                          font-size: 18px;\n",
       "                       }\n",
       "                       </style>\n",
       "                       "
      ],
      "text/plain": [
       "<IPython.core.display.HTML object>"
      ]
     },
     "metadata": {},
     "output_type": "display_data"
    },
    {
     "name": "stdout",
     "output_type": "stream",
     "text": [
      "** Using Debugging Mode! **\n"
     ]
    },
    {
     "data": {
      "application/vnd.jupyter.widget-view+json": {
       "model_id": "c36052efaf8a4c4da608f356f1d427f8",
       "version_major": 2,
       "version_minor": 0
      },
      "text/html": [
       "<p>Failed to display Jupyter Widget of type <code>VBox</code>.</p>\n",
       "<p>\n",
       "  If you're reading this message in the Jupyter Notebook or JupyterLab Notebook, it may mean\n",
       "  that the widgets JavaScript is still loading. If this message persists, it\n",
       "  likely means that the widgets JavaScript library is either not installed or\n",
       "  not enabled. See the <a href=\"https://ipywidgets.readthedocs.io/en/stable/user_install.html\">Jupyter\n",
       "  Widgets Documentation</a> for setup instructions.\n",
       "</p>\n",
       "<p>\n",
       "  If you're reading this message in another frontend (for example, a static\n",
       "  rendering on GitHub or <a href=\"https://nbviewer.jupyter.org/\">NBViewer</a>),\n",
       "  it may mean that your frontend doesn't currently support widgets.\n",
       "</p>\n"
      ],
      "text/plain": [
       "VBox(children=(HBox(children=(Label(value='IPTS-'), Text(value='', layout=Layout(width='10%')), Label(value='DOES NOT EXIST!', layout=Layout(width='20%'), _dom_classes=('result_label',)))), Label(value='OR'), HBox(children=(Label(value='Select Folder', layout=Layout(width='20%')), Select(layout=Layout(height='300px'), options=('IPTS-15177-topaz', 'IPTS-18813', 'Richard', 'charles'), value='IPTS-15177-topaz'))), Button(button_style='info', description='HELP', style=ButtonStyle())))"
      ]
     },
     "metadata": {},
     "output_type": "display_data"
    },
    {
     "data": {
      "text/html": [
       "<style>\n",
       "\n",
       "/* The following CSS has been adapted from\n",
       "   http://nbviewer.ipython.org/github/ketch/teaching-numerics-with-notebooks/blob/master/Styling_notebooks.ipynb\n",
       "   by Aron Ahmadia and David Ketcheson and has been reused under CC BY 4.0\n",
       "   */\n",
       "\n",
       "/* main background */\n",
       "#site { \n",
       "    background: #888;\n",
       "    color: #red; \n",
       "}\n",
       "\n",
       "div.container {\n",
       "    width: 100% ! important;\n",
       "}\n",
       "\n",
       "div.cell { /* set cell width to about 80 chars */\n",
       "    width: 95%;\n",
       "}\n",
       "\n",
       "div #notebook { /* centre the content */\n",
       "/*    background: #fff; /* white background for content */\n",
       "    background: blue;\n",
       "    width: 100%;\n",
       "    margin: auto;\n",
       "    padding-left: 1em;\n",
       "    padding-right: 1em;\n",
       "    background-image: url(\"tile_background.jpg\");\n",
       "}\n",
       "\n",
       "#notebook li { /* More space between bullet points */\n",
       "    margin-top:0.4em;\n",
       "}\n",
       "\n",
       "/* change background color of running cells */\n",
       "div.cell.code_cell.running {\n",
       "/*    background-color: rgba(164,188,194,.75); */\n",
       "    background-color: green;\n",
       "    border-width: 8px\n",
       "    border-style: solid\n",
       "    border-color: #111;\n",
       "}\n",
       "\n",
       "/* Put a solid color box around each cell and its output, visually linking them together */\n",
       "div.cell.code_cell {\n",
       "    background-color: rgba(164,188,194,.25); /* Continuum L Gray with alpha 0.25 */\n",
       "    border-radius: 10px; /* rounded borders */\n",
       "    padding: 1em;\n",
       "    margin-top: 1em;\n",
       "}\n",
       "\n",
       "div.text_cell_render{\n",
       "\tfont-family: Georgia, Times, 'Times New Roman', serif;\n",
       "    line-height: 110%;\n",
       "    font-size: 105%;\n",
       "    width: 95%;\n",
       "    margin-left: auto;\n",
       "    margin-right: auto;\n",
       "}\n",
       "\n",
       "\n",
       "/* Formatting for header cells */\n",
       ".text_cell_render h1 {\n",
       "\tfont-family: Arial, 'Helvetica Neue', Helvetica, sans-serif;\n",
       "    font-weight: 400;\n",
       "    font-size: 30pt;\n",
       "    line-height: 100%;\n",
       "    color: rgb(37,55,70); /* Continuum Blue*/\n",
       "    margin-bottom: 0.1em;\n",
       "    margin-top: 0.1em;\n",
       "    display: block;\n",
       "}\n",
       ".text_cell_render h2 {\n",
       "\tfont-family: Arial, 'Helvetica Neue', Helvetica, sans-serif;\n",
       "    font-weight: 700;\n",
       "    font-size: 22pt;\n",
       "    line-height: 100%;\n",
       "    color: rgb(37,55,70);\n",
       "    margin-bottom: 0.1em;\n",
       "    margin-top: 0.1em;\n",
       "    display: block;\n",
       "}\n",
       "\n",
       ".text_cell_render h3 {\n",
       "\tfont-family: Arial, 'Helvetica Neue', Helvetica, sans-serif;\n",
       "    margin-top:12px;\n",
       "    margin-bottom: 3px;\n",
       "    font-style: italic;\n",
       "    color: rgb(37, 55, 70);\n",
       "}\n",
       "\n",
       ".text_cell_render h4 {\n",
       "\tfont-family: Arial, 'Helvetica Neue', Helvetica, sans-serif;\n",
       "}\n",
       "\n",
       ".text_cell_render h5 {\n",
       "\tfont-family: Arial, 'Helvetica Neue', Helvetica, sans-serif;\n",
       "    font-weight: 300;\n",
       "    font-size: 14pt;\n",
       "    font-style: italic;\n",
       "    margin-bottom: .1em;\n",
       "    margin-top: 0.1em;\n",
       "    display: block;\n",
       "}\n",
       "\n",
       ".text_cell_render h6 {\n",
       "\tfont-family: Arial, 'Helvetica Neue', Helvetica, sans-serif;\n",
       "    font-weight: 300;\n",
       "    font-size: 10pt;\n",
       "    margin-bottom: 1px;\n",
       "    margin-top: 1px;\n",
       "}\n",
       "\n",
       ".CodeMirror{\n",
       "        font-family: \"PT Mono\", fixed;\n",
       "        font-size: 100%;\n",
       "}\n",
       "\n",
       "#notebook_panel { /* main background */\n",
       "    background-image: url(\"tile_background.jpg\");\n",
       "}\n",
       "\n",
       "\n",
       "\n",
       "\n",
       "</style>\n"
      ],
      "text/plain": [
       "<IPython.core.display.HTML object>"
      ]
     },
     "execution_count": 1,
     "metadata": {},
     "output_type": "execute_result"
    }
   ],
   "source": [
    "from __code.ui_builder import UiBuilder\n",
    "o_builder = UiBuilder(ui_name = 'ui_registration.ui')\n",
    "o_builder = UiBuilder(ui_name = 'ui_registration_tool.ui')\n",
    "o_builder = UiBuilder(ui_name = 'ui_registration_auto_confirmation.ui')\n",
    "o_builder = UiBuilder(ui_name = 'ui_registration_markers.ui')\n",
    "\n",
    "from __code import system\n",
    "from __code.registration import RegistrationFileSelection, RegistrationUi\n",
    "\n",
    "system.System.select_working_dir()\n",
    "from __code.__all import custom_style\n",
    "custom_style.style()"
   ]
  },
  {
   "cell_type": "markdown",
   "metadata": {
    "run_control": {
     "frozen": false,
     "read_only": false
    }
   },
   "source": [
    "# Python Import "
   ]
  },
  {
   "cell_type": "code",
   "execution_count": 2,
   "metadata": {
    "run_control": {
     "frozen": false,
     "read_only": false
    }
   },
   "outputs": [],
   "source": [
    "%gui qt"
   ]
  },
  {
   "cell_type": "markdown",
   "metadata": {
    "run_control": {
     "frozen": false,
     "read_only": false
    }
   },
   "source": [
    "# Select Images to Process"
   ]
  },
  {
   "cell_type": "code",
   "execution_count": 1,
   "metadata": {
    "run_control": {
     "frozen": false,
     "read_only": false
    }
   },
   "outputs": [
    {
     "ename": "NameError",
     "evalue": "name 'RegistrationFileSelection' is not defined",
     "output_type": "error",
     "traceback": [
      "\u001b[0;31m---------------------------------------------------------------------------\u001b[0m",
      "\u001b[0;31mNameError\u001b[0m                                 Traceback (most recent call last)",
      "\u001b[0;32m<ipython-input-1-205720854238>\u001b[0m in \u001b[0;36m<module>\u001b[0;34m()\u001b[0m\n\u001b[0;32m----> 1\u001b[0;31m \u001b[0mo_selection\u001b[0m \u001b[0;34m=\u001b[0m \u001b[0mRegistrationFileSelection\u001b[0m\u001b[0;34m(\u001b[0m\u001b[0mworking_dir\u001b[0m\u001b[0;34m=\u001b[0m\u001b[0msystem\u001b[0m\u001b[0;34m.\u001b[0m\u001b[0mSystem\u001b[0m\u001b[0;34m.\u001b[0m\u001b[0mget_working_dir\u001b[0m\u001b[0;34m(\u001b[0m\u001b[0;34m)\u001b[0m\u001b[0;34m)\u001b[0m\u001b[0;34m\u001b[0m\u001b[0m\n\u001b[0m\u001b[1;32m      2\u001b[0m \u001b[0mo_selection\u001b[0m\u001b[0;34m.\u001b[0m\u001b[0mselect_data\u001b[0m\u001b[0;34m(\u001b[0m\u001b[0;34m)\u001b[0m\u001b[0;34m\u001b[0m\u001b[0m\n",
      "\u001b[0;31mNameError\u001b[0m: name 'RegistrationFileSelection' is not defined"
     ]
    }
   ],
   "source": [
    "o_selection = RegistrationFileSelection(working_dir=system.System.get_working_dir())\n",
    "o_selection.select_data()"
   ]
  },
  {
   "cell_type": "markdown",
   "metadata": {
    "run_control": {
     "frozen": false,
     "read_only": false
    }
   },
   "source": [
    "# Launch Registration UI "
   ]
  },
  {
   "cell_type": "markdown",
   "metadata": {
    "run_control": {
     "frozen": false,
     "read_only": false
    }
   },
   "source": [
    "START OF DEBUGGING ONLY"
   ]
  },
  {
   "cell_type": "code",
   "execution_count": 1,
   "metadata": {
    "run_control": {
     "frozen": false,
     "read_only": false
    }
   },
   "outputs": [
    {
     "data": {
      "text/html": [
       "\n",
       "<style type=\"text/css\">\n",
       ".jupyter-widgets select option {font-family: \"Lucida Console\", Monaco, monospace;}\n",
       ".jupyter-widgets select {width: 98%;}\n",
       "div.output_subarea {padding: 0px;}\n",
       "div.output_subarea > div {margin: 0.4em;}\n",
       "</style>\n"
      ],
      "text/plain": [
       "<IPython.core.display.HTML object>"
      ]
     },
     "metadata": {},
     "output_type": "display_data"
    },
    {
     "name": "stderr",
     "output_type": "stream",
     "text": [
      "/Users/j35/anaconda/envs/py36/lib/python3.6/site-packages/h5py/__init__.py:36: FutureWarning: Conversion of the second argument of issubdtype from `float` to `np.floating` is deprecated. In future, it will be treated as `np.float64 == np.dtype(float).type`.\n",
      "  from ._conv import register_converters as _register_converters\n"
     ]
    }
   ],
   "source": [
    "from __code import system\n",
    "from __code.registration import RegistrationFileSelection, RegistrationUi"
   ]
  },
  {
   "cell_type": "code",
   "execution_count": 2,
   "metadata": {
    "run_control": {
     "frozen": false,
     "read_only": false
    }
   },
   "outputs": [],
   "source": [
    "%gui qt"
   ]
  },
  {
   "cell_type": "code",
   "execution_count": 3,
   "metadata": {
    "run_control": {
     "frozen": false,
     "read_only": false
    }
   },
   "outputs": [],
   "source": [
    "o_selection = RegistrationFileSelection()"
   ]
  },
  {
   "cell_type": "code",
   "execution_count": 4,
   "metadata": {
    "run_control": {
     "frozen": false,
     "read_only": false
    }
   },
   "outputs": [
    {
     "data": {
      "application/vnd.jupyter.widget-view+json": {
       "model_id": "d133aa603dfd41f9b29e1f9a10f09232",
       "version_major": 2,
       "version_minor": 0
      },
      "text/html": [
       "<p>Failed to display Jupyter Widget of type <code>HBox</code>.</p>\n",
       "<p>\n",
       "  If you're reading this message in the Jupyter Notebook or JupyterLab Notebook, it may mean\n",
       "  that the widgets JavaScript is still loading. If this message persists, it\n",
       "  likely means that the widgets JavaScript library is either not installed or\n",
       "  not enabled. See the <a href=\"https://ipywidgets.readthedocs.io/en/stable/user_install.html\">Jupyter\n",
       "  Widgets Documentation</a> for setup instructions.\n",
       "</p>\n",
       "<p>\n",
       "  If you're reading this message in another frontend (for example, a static\n",
       "  rendering on GitHub or <a href=\"https://nbviewer.jupyter.org/\">NBViewer</a>),\n",
       "  it may mean that your frontend doesn't currently support widgets.\n",
       "</p>\n"
      ],
      "text/plain": [
       "HBox(children=(Label(value='Loading sample', layout=Layout(width='20%')), IntProgress(value=0, max=2), Label(value='Time remaining:', layout=Layout(width='10%')), Label(value=' >> calculating << ')))"
      ]
     },
     "metadata": {},
     "output_type": "display_data"
    },
    {
     "data": {
      "text/html": [
       "<span style=\"font-size: 20px; color:blue\">Check UI that poped up             (maybe hidden behind this browser!)</span>"
      ],
      "text/plain": [
       "<IPython.core.display.HTML object>"
      ]
     },
     "metadata": {},
     "output_type": "display_data"
    },
    {
     "name": "stdout",
     "output_type": "stream",
     "text": [
      "marker_name: 1\n",
      "_file is im0000.tif\n",
      "((slice(6, 57, None), slice(30, 81, None)), <PyQt5.QtGui.QTransform object at 0x1c28c07438>)\n",
      "marker_name: 1\n",
      "_file is im0000.tif\n",
      "((slice(12, 63, None), slice(37, 88, None)), <PyQt5.QtGui.QTransform object at 0x1c28c07cf8>)\n",
      "marker_name: 1\n",
      "_file is im0000.tif\n",
      "((slice(12, 63, None), slice(49, 100, None)), <PyQt5.QtGui.QTransform object at 0x1c28c07d68>)\n",
      "marker_name: 1\n",
      "_file is im0000.tif\n",
      "((slice(18, 69, None), slice(61, 112, None)), <PyQt5.QtGui.QTransform object at 0x1c28c07c18>)\n",
      "marker_name: 1\n",
      "_file is im0000.tif\n",
      "((slice(30, 81, None), slice(68, 119, None)), <PyQt5.QtGui.QTransform object at 0x1c28c07dd8>)\n",
      "marker_name: 1\n",
      "_file is im0000.tif\n",
      "((slice(30, 81, None), slice(86, 137, None)), <PyQt5.QtGui.QTransform object at 0x1c28c07588>)\n",
      "marker_name: 1\n",
      "_file is im0000.tif\n",
      "((slice(37, 88, None), slice(86, 137, None)), <PyQt5.QtGui.QTransform object at 0x1c28c07898>)\n",
      "marker_name: 1\n",
      "_file is im0000.tif\n",
      "((slice(43, 94, None), slice(92, 143, None)), <PyQt5.QtGui.QTransform object at 0x1c28c075f8>)\n",
      "marker_name: 1\n",
      "_file is im0000.tif\n",
      "((slice(43, 94, None), slice(99, 150, None)), <PyQt5.QtGui.QTransform object at 0x1c28c07748>)\n",
      "marker_name: 1\n",
      "_file is im0000.tif\n",
      "((slice(43, 94, None), slice(105, 156, None)), <PyQt5.QtGui.QTransform object at 0x1c28c077b8>)\n",
      "marker_name: 1\n",
      "_file is im0000.tif\n",
      "((slice(43, 94, None), slice(111, 162, None)), <PyQt5.QtGui.QTransform object at 0x1c28c07dd8>)\n",
      "marker_name: 1\n",
      "_file is im0000.tif\n",
      "((slice(43, 94, None), slice(117, 168, None)), <PyQt5.QtGui.QTransform object at 0x1c28c07048>)\n",
      "marker_name: 1\n",
      "_file is im0000.tif\n",
      "((slice(43, 94, None), slice(123, 174, None)), <PyQt5.QtGui.QTransform object at 0x1c28c07898>)\n",
      "marker_name: 1\n",
      "_file is im0000.tif\n",
      "((slice(43, 94, None), slice(130, 181, None)), <PyQt5.QtGui.QTransform object at 0x1c28c07278>)\n",
      "marker_name: 1\n",
      "_file is im0000.tif\n",
      "((slice(55, 106, None), slice(136, 187, None)), <PyQt5.QtGui.QTransform object at 0x1c28c07748>)\n",
      "marker_name: 1\n",
      "_file is im0000.tif\n",
      "((slice(55, 106, None), slice(142, 193, None)), <PyQt5.QtGui.QTransform object at 0x1c28c07438>)\n",
      "marker_name: 1\n",
      "_file is im0000.tif\n",
      "((slice(61, 112, None), slice(148, 199, None)), <PyQt5.QtGui.QTransform object at 0x1c28c07dd8>)\n",
      "marker_name: 1\n",
      "_file is im0000.tif\n",
      "((slice(61, 112, None), slice(161, 212, None)), <PyQt5.QtGui.QTransform object at 0x1c28c07c88>)\n",
      "marker_name: 1\n",
      "_file is im0000.tif\n",
      "((slice(68, 119, None), slice(167, 218, None)), <PyQt5.QtGui.QTransform object at 0x1c28c07898>)\n",
      "marker_name: 1\n",
      "_file is im0000.tif\n",
      "((slice(74, 125, None), slice(173, 224, None)), <PyQt5.QtGui.QTransform object at 0x1c28c07208>)\n",
      "marker_name: 1\n",
      "_file is im0000.tif\n",
      "((slice(80, 131, None), slice(192, 243, None)), <PyQt5.QtGui.QTransform object at 0x1c28c07748>)\n",
      "marker_name: 1\n",
      "_file is im0000.tif\n",
      "((slice(99, 150, None), slice(210, 261, None)), <PyQt5.QtGui.QTransform object at 0x1c28c07668>)\n",
      "marker_name: 1\n",
      "_file is im0000.tif\n",
      "((slice(111, 162, None), slice(235, 286, None)), <PyQt5.QtGui.QTransform object at 0x1c28c07dd8>)\n",
      "marker_name: 1\n",
      "_file is im0000.tif\n",
      "((slice(130, 181, None), slice(254, 305, None)), <PyQt5.QtGui.QTransform object at 0x1c28c073c8>)\n",
      "marker_name: 1\n",
      "_file is im0000.tif\n",
      "((slice(154, 205, None), slice(266, 317, None)), <PyQt5.QtGui.QTransform object at 0x1c28c07898>)\n",
      "marker_name: 1\n",
      "_file is im0000.tif\n",
      "((slice(173, 224, None), slice(285, 336, None)), <PyQt5.QtGui.QTransform object at 0x1c28c074a8>)\n",
      "marker_name: 1\n",
      "_file is im0000.tif\n",
      "((slice(185, 236, None), slice(297, 348, None)), <PyQt5.QtGui.QTransform object at 0x1c28c07748>)\n",
      "marker_name: 1\n",
      "_file is im0000.tif\n",
      "((slice(204, 255, None), slice(316, 367, None)), <PyQt5.QtGui.QTransform object at 0x1c28c07b38>)\n",
      "marker_name: 1\n",
      "_file is im0000.tif\n",
      "((slice(223, 274, None), slice(328, 379, None)), <PyQt5.QtGui.QTransform object at 0x1c28c07dd8>)\n",
      "marker_name: 1\n",
      "_file is im0000.tif\n",
      "((slice(235, 286, None), slice(334, 385, None)), <PyQt5.QtGui.QTransform object at 0x1c28c07ba8>)\n",
      "marker_name: 1\n",
      "_file is im0000.tif\n",
      "((slice(254, 305, None), slice(340, 391, None)), <PyQt5.QtGui.QTransform object at 0x1c28c07898>)\n",
      "marker_name: 1\n",
      "_file is im0000.tif\n",
      "((slice(285, 336, None), slice(353, 404, None)), <PyQt5.QtGui.QTransform object at 0x1c28c07c88>)\n",
      "marker_name: 1\n",
      "_file is im0000.tif\n",
      "((slice(309, 360, None), slice(359, 410, None)), <PyQt5.QtGui.QTransform object at 0x1c28c07748>)\n",
      "marker_name: 1\n",
      "_file is im0000.tif\n",
      "((slice(328, 379, None), slice(365, 416, None)), <PyQt5.QtGui.QTransform object at 0x1c28c07208>)\n",
      "marker_name: 1\n",
      "_file is im0000.tif\n",
      "((slice(347, 398, None), slice(365, 416, None)), <PyQt5.QtGui.QTransform object at 0x1c28c07dd8>)\n",
      "marker_name: 1\n",
      "_file is im0000.tif\n",
      "((slice(365, 416, None), slice(371, 422, None)), <PyQt5.QtGui.QTransform object at 0x1c28c07668>)\n",
      "marker_name: 1\n",
      "_file is im0000.tif\n",
      "((slice(384, 435, None), slice(371, 422, None)), <PyQt5.QtGui.QTransform object at 0x1c28c07898>)\n",
      "marker_name: 1\n",
      "_file is im0000.tif\n",
      "((slice(396, 447, None), slice(371, 422, None)), <PyQt5.QtGui.QTransform object at 0x1c28c073c8>)\n",
      "marker_name: 1\n",
      "_file is im0000.tif\n",
      "((slice(415, 466, None), slice(371, 422, None)), <PyQt5.QtGui.QTransform object at 0x1c28c07748>)\n",
      "marker_name: 1\n",
      "_file is im0000.tif\n",
      "((slice(421, 472, None), slice(371, 422, None)), <PyQt5.QtGui.QTransform object at 0x1c28c07518>)\n",
      "marker_name: 1\n",
      "_file is im0000.tif\n",
      "((slice(440, 491, None), slice(371, 422, None)), <PyQt5.QtGui.QTransform object at 0x1c28c07dd8>)\n",
      "marker_name: 1\n",
      "_file is im0000.tif\n",
      "((slice(446, 497, None), slice(371, 422, None)), <PyQt5.QtGui.QTransform object at 0x1c28c07978>)\n",
      "marker_name: 1\n",
      "_file is im0000.tif\n",
      "((slice(452, 503, None), slice(371, 422, None)), <PyQt5.QtGui.QTransform object at 0x1c28c07898>)\n",
      "marker_name: 1\n",
      "_file is im0000.tif\n",
      "((slice(458, 509, None), slice(371, 422, None)), <PyQt5.QtGui.QTransform object at 0x1c28c07cf8>)\n",
      "marker_name: 1\n",
      "_file is im0000.tif\n",
      "((slice(464, 515, None), slice(371, 422, None)), <PyQt5.QtGui.QTransform object at 0x1c28c07748>)\n",
      "marker_name: 1\n",
      "_file is im0000.tif\n",
      "((slice(477, 528, None), slice(371, 422, None)), <PyQt5.QtGui.QTransform object at 0x1c28c079e8>)\n",
      "marker_name: 1\n",
      "_file is im0000.tif\n",
      "((slice(483, 534, None), slice(371, 422, None)), <PyQt5.QtGui.QTransform object at 0x1c28c07dd8>)\n",
      "marker_name: 1\n",
      "_file is im0000.tif\n",
      "((slice(489, 540, None), slice(371, 422, None)), <PyQt5.QtGui.QTransform object at 0x1c28c07c18>)\n",
      "marker_name: 1\n",
      "_file is im0000.tif\n",
      "((slice(495, 546, None), slice(371, 422, None)), <PyQt5.QtGui.QTransform object at 0x1c28c07898>)\n",
      "marker_name: 1\n",
      "_file is im0000.tif\n",
      "((slice(502, 553, None), slice(371, 422, None)), <PyQt5.QtGui.QTransform object at 0x1c28c07588>)\n",
      "marker_name: 1\n",
      "_file is im0000.tif\n",
      "((slice(508, 559, None), slice(371, 422, None)), <PyQt5.QtGui.QTransform object at 0x1c28c07748>)\n",
      "marker_name: 1\n",
      "_file is im0000.tif\n",
      "((slice(514, 565, None), slice(371, 422, None)), <PyQt5.QtGui.QTransform object at 0x1c28c075f8>)\n",
      "marker_name: 1\n",
      "_file is im0000.tif\n",
      "((slice(520, 571, None), slice(371, 422, None)), <PyQt5.QtGui.QTransform object at 0x1c28c07dd8>)\n",
      "marker_name: 1\n",
      "_file is im0000.tif\n",
      "((slice(520, 571, None), slice(378, 429, None)), <PyQt5.QtGui.QTransform object at 0x1c28c07278>)\n",
      "marker_name: 1\n",
      "_file is im0000.tif\n",
      "((slice(526, 577, None), slice(378, 429, None)), <PyQt5.QtGui.QTransform object at 0x1c28c07898>)\n",
      "marker_name: 1\n",
      "_file is im0000.tif\n",
      "((slice(533, 584, None), slice(378, 429, None)), <PyQt5.QtGui.QTransform object at 0x1c28c07128>)\n",
      "marker_name: 1\n",
      "_file is im0000.tif\n",
      "((slice(539, 590, None), slice(378, 429, None)), <PyQt5.QtGui.QTransform object at 0x1c28c07748>)\n",
      "marker_name: 1\n",
      "_file is im0000.tif\n",
      "((slice(545, 596, None), slice(378, 429, None)), <PyQt5.QtGui.QTransform object at 0x1c28c07828>)\n",
      "marker_name: 1\n",
      "_file is im0000.tif\n",
      "((slice(551, 602, None), slice(378, 429, None)), <PyQt5.QtGui.QTransform object at 0x1c28c07438>)\n",
      "marker_name: 1\n",
      "_file is im0000.tif\n",
      "((slice(557, 608, None), slice(378, 429, None)), <PyQt5.QtGui.QTransform object at 0x1c28c07898>)\n",
      "marker_name: 1\n",
      "_file is im0000.tif\n",
      "((slice(564, 615, None), slice(378, 429, None)), <PyQt5.QtGui.QTransform object at 0x1c28c07748>)\n",
      "marker_name: 1\n",
      "_file is im0000.tif\n",
      "((slice(570, 621, None), slice(378, 429, None)), <PyQt5.QtGui.QTransform object at 0x1c28c075f8>)\n",
      "marker_name: 1\n",
      "_file is im0000.tif\n",
      "((slice(576, 627, None), slice(378, 429, None)), <PyQt5.QtGui.QTransform object at 0x1c28c07518>)\n",
      "marker_name: 1\n",
      "_file is im0000.tif\n",
      "((slice(582, 633, None), slice(378, 429, None)), <PyQt5.QtGui.QTransform object at 0x1c28c07898>)\n",
      "marker_name: 1\n",
      "_file is im0000.tif\n",
      "((slice(588, 639, None), slice(378, 429, None)), <PyQt5.QtGui.QTransform object at 0x1c28c077b8>)\n"
     ]
    },
    {
     "name": "stdout",
     "output_type": "stream",
     "text": [
      "marker_name: 1\n",
      "_file is im0000.tif\n",
      "((slice(595, 646, None), slice(378, 429, None)), <PyQt5.QtGui.QTransform object at 0x1c28c07048>)\n",
      "marker_name: 1\n",
      "_file is im0000.tif\n",
      "((slice(601, 652, None), slice(378, 429, None)), <PyQt5.QtGui.QTransform object at 0x1c28c07518>)\n",
      "marker_name: 1\n",
      "_file is im0000.tif\n",
      "((slice(607, 658, None), slice(384, 435, None)), <PyQt5.QtGui.QTransform object at 0x1c28c07588>)\n",
      "marker_name: 1\n",
      "_file is im0000.tif\n",
      "((slice(607, 658, None), slice(390, 441, None)), <PyQt5.QtGui.QTransform object at 0x1c28c07898>)\n",
      "marker_name: 1\n",
      "_file is im0000.tif\n",
      "((slice(613, 664, None), slice(402, 453, None)), <PyQt5.QtGui.QTransform object at 0x1c28c07dd8>)\n",
      "marker_name: 1\n",
      "_file is im0000.tif\n",
      "((slice(613, 664, None), slice(409, 460, None)), <PyQt5.QtGui.QTransform object at 0x1c28c07198>)\n",
      "marker_name: 1\n",
      "_file is im0000.tif\n",
      "((slice(613, 664, None), slice(421, 472, None)), <PyQt5.QtGui.QTransform object at 0x1c28c075f8>)\n",
      "marker_name: 1\n",
      "_file is im0000.tif\n",
      "((slice(619, 670, None), slice(433, 484, None)), <PyQt5.QtGui.QTransform object at 0x1c28c07518>)\n",
      "marker_name: 1\n",
      "_file is im0000.tif\n",
      "((slice(619, 670, None), slice(440, 491, None)), <PyQt5.QtGui.QTransform object at 0x1c28c07128>)\n",
      "marker_name: 1\n",
      "_file is im0000.tif\n",
      "((slice(626, 677, None), slice(452, 503, None)), <PyQt5.QtGui.QTransform object at 0x1c28c07898>)\n",
      "marker_name: 1\n",
      "_file is im0000.tif\n",
      "((slice(626, 677, None), slice(458, 509, None)), <PyQt5.QtGui.QTransform object at 0x1c28c07ac8>)\n",
      "marker_name: 1\n",
      "_file is im0000.tif\n",
      "((slice(626, 677, None), slice(464, 515, None)), <PyQt5.QtGui.QTransform object at 0x1c28c07198>)\n",
      "marker_name: 1\n",
      "_file is im0000.tif\n",
      "((slice(632, 683, None), slice(464, 515, None)), <PyQt5.QtGui.QTransform object at 0x1c28c07208>)\n",
      "marker_name: 1\n",
      "_file is im0000.tif\n",
      "((slice(632, 683, None), slice(471, 522, None)), <PyQt5.QtGui.QTransform object at 0x1c28c07518>)\n",
      "marker_name: 1\n",
      "_file is im0000.tif\n",
      "((slice(638, 689, None), slice(471, 522, None)), <PyQt5.QtGui.QTransform object at 0x1c28c07748>)\n",
      "marker_name: 1\n",
      "_file is im0000.tif\n",
      "((slice(644, 695, None), slice(477, 528, None)), <PyQt5.QtGui.QTransform object at 0x1c28c07898>)\n",
      "marker_name: 1\n",
      "_file is im0000.tif\n",
      "((slice(644, 695, None), slice(483, 534, None)), <PyQt5.QtGui.QTransform object at 0x1c28c07c18>)\n",
      "marker_name: 1\n",
      "_file is im0000.tif\n",
      "((slice(650, 701, None), slice(489, 540, None)), <PyQt5.QtGui.QTransform object at 0x1c28c07198>)\n",
      "marker_name: 1\n",
      "_file is im0000.tif\n",
      "((slice(657, 708, None), slice(495, 546, None)), <PyQt5.QtGui.QTransform object at 0x1c28c073c8>)\n",
      "marker_name: 1\n",
      "_file is im0000.tif\n",
      "((slice(626, 677, None), slice(489, 540, None)), <PyQt5.QtGui.QTransform object at 0x1c28c07ba8>)\n",
      "marker_name: 1\n",
      "_file is im0000.tif\n",
      "((slice(601, 652, None), slice(471, 522, None)), <PyQt5.QtGui.QTransform object at 0x1c28c07438>)\n",
      "marker_name: 1\n",
      "_file is im0000.tif\n",
      "((slice(570, 621, None), slice(458, 509, None)), <PyQt5.QtGui.QTransform object at 0x1c28c07cf8>)\n",
      "marker_name: 1\n",
      "_file is im0000.tif\n",
      "((slice(545, 596, None), slice(440, 491, None)), <PyQt5.QtGui.QTransform object at 0x1c28c07c18>)\n",
      "marker_name: 1\n",
      "_file is im0000.tif\n",
      "((slice(520, 571, None), slice(421, 472, None)), <PyQt5.QtGui.QTransform object at 0x1c28c075f8>)\n",
      "marker_name: 1\n",
      "_file is im0000.tif\n",
      "((slice(495, 546, None), slice(415, 466, None)), <PyQt5.QtGui.QTransform object at 0x1c28c07358>)\n",
      "marker_name: 1\n",
      "_file is im0000.tif\n",
      "((slice(471, 522, None), slice(409, 460, None)), <PyQt5.QtGui.QTransform object at 0x1c28c07748>)\n",
      "marker_name: 1\n",
      "_file is im0000.tif\n",
      "((slice(458, 509, None), slice(402, 453, None)), <PyQt5.QtGui.QTransform object at 0x1c28c07278>)\n",
      "marker_name: 1\n",
      "_file is im0000.tif\n",
      "((slice(446, 497, None), slice(402, 453, None)), <PyQt5.QtGui.QTransform object at 0x1c28c07eb8>)\n",
      "marker_name: 1\n",
      "_file is im0000.tif\n",
      "((slice(427, 478, None), slice(390, 441, None)), <PyQt5.QtGui.QTransform object at 0x1c28c073c8>)\n",
      "marker_name: 1\n",
      "_file is im0000.tif\n",
      "((slice(415, 466, None), slice(390, 441, None)), <PyQt5.QtGui.QTransform object at 0x1c28c07c88>)\n",
      "marker_name: 1\n",
      "_file is im0000.tif\n",
      "((slice(402, 453, None), slice(378, 429, None)), <PyQt5.QtGui.QTransform object at 0x1c28c072e8>)\n",
      "marker_name: 1\n",
      "_file is im0000.tif\n",
      "((slice(384, 435, None), slice(378, 429, None)), <PyQt5.QtGui.QTransform object at 0x1c28c07d68>)\n",
      "marker_name: 1\n",
      "_file is im0000.tif\n",
      "((slice(371, 422, None), slice(365, 416, None)), <PyQt5.QtGui.QTransform object at 0x1c28c079e8>)\n",
      "marker_name: 1\n",
      "_file is im0000.tif\n",
      "((slice(353, 404, None), slice(353, 404, None)), <PyQt5.QtGui.QTransform object at 0x1c28c07f28>)\n",
      "marker_name: 1\n",
      "_file is im0000.tif\n",
      "((slice(328, 379, None), slice(347, 398, None)), <PyQt5.QtGui.QTransform object at 0x1c28c07208>)\n",
      "marker_name: 1\n",
      "_file is im0000.tif\n",
      "((slice(303, 354, None), slice(328, 379, None)), <PyQt5.QtGui.QTransform object at 0x1c28c07438>)\n",
      "marker_name: 1\n",
      "_file is im0000.tif\n",
      "((slice(272, 323, None), slice(303, 354, None)), <PyQt5.QtGui.QTransform object at 0x1c28c07048>)\n",
      "marker_name: 1\n",
      "_file is im0000.tif\n",
      "((slice(241, 292, None), slice(266, 317, None)), <PyQt5.QtGui.QTransform object at 0x1c28c074a8>)\n",
      "marker_name: 1\n",
      "_file is im0000.tif\n",
      "((slice(210, 261, None), slice(235, 286, None)), <PyQt5.QtGui.QTransform object at 0x1c28c07ba8>)\n",
      "marker_name: 1\n",
      "_file is im0000.tif\n",
      "((slice(167, 218, None), slice(198, 249, None)), <PyQt5.QtGui.QTransform object at 0x1c28c07f98>)\n",
      "marker_name: 1\n",
      "_file is im0000.tif\n",
      "((slice(142, 193, None), slice(167, 218, None)), <PyQt5.QtGui.QTransform object at 0x1c28c07128>)\n",
      "marker_name: 1\n",
      "_file is im0000.tif\n",
      "((slice(123, 174, None), slice(148, 199, None)), <PyQt5.QtGui.QTransform object at 0x1c28c07908>)\n",
      "marker_name: 1\n",
      "_file is im0000.tif\n",
      "((slice(105, 156, None), slice(130, 181, None)), <PyQt5.QtGui.QTransform object at 0x1c28c07978>)\n",
      "marker_name: 1\n",
      "_file is im0000.tif\n",
      "((slice(86, 137, None), slice(111, 162, None)), <PyQt5.QtGui.QTransform object at 0x1c28c07ac8>)\n",
      "marker_name: 1\n",
      "_file is im0000.tif\n",
      "((slice(68, 119, None), slice(99, 150, None)), <PyQt5.QtGui.QTransform object at 0x1c28c07cf8>)\n",
      "marker_name: 1\n",
      "_file is im0000.tif\n",
      "((slice(49, 100, None), slice(80, 131, None)), <PyQt5.QtGui.QTransform object at 0x1c28c079e8>)\n",
      "marker_name: 1\n",
      "_file is im0000.tif\n",
      "((slice(37, 88, None), slice(61, 112, None)), <PyQt5.QtGui.QTransform object at 0x1c28c07dd8>)\n",
      "marker_name: 1\n",
      "_file is im0000.tif\n",
      "((slice(24, 75, None), slice(49, 100, None)), <PyQt5.QtGui.QTransform object at 0x1c28c07ba8>)\n",
      "marker_name: 1\n",
      "_file is im0000.tif\n",
      "((slice(6, 57, None), slice(30, 81, None)), <PyQt5.QtGui.QTransform object at 0x1c28c075f8>)\n",
      "marker_name: 1\n",
      "_file is im0000.tif\n",
      "((slice(0, 50, None), slice(18, 69, None)), <PyQt5.QtGui.QTransform object at 0x1c28c07048>)\n",
      "marker_name: 1\n",
      "_file is im0000.tif\n",
      "((slice(0, 38, None), slice(6, 57, None)), <PyQt5.QtGui.QTransform object at 0x1c28c07f28>)\n",
      "marker_name: 1\n",
      "_file is im0000.tif\n",
      "((slice(0, 26, None), slice(0, 51, None)), <PyQt5.QtGui.QTransform object at 0x1c28c07cf8>)\n",
      "marker_name: 1\n",
      "_file is im0000.tif\n",
      "((slice(0, 7, None), slice(0, 38, None)), <PyQt5.QtGui.QTransform object at 0x1c28c07978>)\n",
      "marker_name: 1\n",
      "_file is im0000.tif\n",
      "((slice(0, 1, None), slice(0, 1, None)), <PyQt5.QtGui.QTransform object at 0x1c28bf2898>)\n",
      "marker_name: 1\n",
      "_file is im0000.tif\n",
      "((slice(0, 1, None), slice(0, 1, None)), <PyQt5.QtGui.QTransform object at 0x1c28c08128>)\n",
      "marker_name: 1\n",
      "_file is im0000.tif\n",
      "((slice(0, 1, None), slice(0, 1, None)), <PyQt5.QtGui.QTransform object at 0x1c28c08438>)\n",
      "marker_name: 1\n",
      "_file is im0000.tif\n",
      "((slice(0, 1, None), slice(0, 1, None)), <PyQt5.QtGui.QTransform object at 0x1c28c08668>)\n",
      "marker_name: 1\n",
      "_file is im0000.tif\n",
      "((slice(0, 1, None), slice(0, 1, None)), <PyQt5.QtGui.QTransform object at 0x1c28c08b38>)\n",
      "marker_name: 1\n",
      "_file is im0000.tif\n",
      "((slice(0, 12, None), slice(0, 11, None)), <PyQt5.QtGui.QTransform object at 0x1c28c08908>)\n",
      "marker_name: 1\n",
      "_file is im0000.tif\n",
      "((slice(0, 37, None), slice(0, 31, None)), <PyQt5.QtGui.QTransform object at 0x1c28c08f98>)\n",
      "marker_name: 1\n",
      "_file is im0000.tif\n",
      "((slice(8, 59, None), slice(0, 50, None)), <PyQt5.QtGui.QTransform object at 0x1c28c08518>)\n",
      "marker_name: 1\n",
      "_file is im0000.tif\n",
      "((slice(24, 75, None), slice(24, 75, None)), <PyQt5.QtGui.QTransform object at 0x1c28c089e8>)\n",
      "marker_name: 1\n",
      "_file is im0000.tif\n",
      "((slice(37, 88, None), slice(24, 75, None)), <PyQt5.QtGui.QTransform object at 0x1c28c083c8>)\n",
      "marker_name: 1\n",
      "_file is im0000.tif\n",
      "((slice(37, 88, None), slice(30, 81, None)), <PyQt5.QtGui.QTransform object at 0x1c28c08438>)\n",
      "marker_name: 1\n",
      "_file is im0000.tif\n",
      "((slice(43, 94, None), slice(30, 81, None)), <PyQt5.QtGui.QTransform object at 0x1c28c086d8>)\n",
      "marker_name: 1\n",
      "_file is im0000.tif\n",
      "((slice(43, 94, None), slice(37, 88, None)), <PyQt5.QtGui.QTransform object at 0x1c28c08dd8>)\n",
      "marker_name: 1\n",
      "_file is im0000.tif\n",
      "((slice(49, 100, None), slice(37, 88, None)), <PyQt5.QtGui.QTransform object at 0x1c28c086d8>)\n",
      "marker_name: 1\n",
      "_file is im0000.tif\n",
      "((slice(49, 100, None), slice(43, 94, None)), <PyQt5.QtGui.QTransform object at 0x1c28c08cf8>)\n",
      "marker_name: 1\n",
      "_file is im0000.tif\n",
      "((slice(55, 106, None), slice(43, 94, None)), <PyQt5.QtGui.QTransform object at 0x1c28c086d8>)\n"
     ]
    },
    {
     "name": "stdout",
     "output_type": "stream",
     "text": [
      "marker_name: 1\n",
      "_file is im0000.tif\n",
      "((slice(55, 106, None), slice(49, 100, None)), <PyQt5.QtGui.QTransform object at 0x1c28c08588>)\n",
      "marker_name: 1\n",
      "_file is im0000.tif\n",
      "((slice(55, 106, None), slice(43, 94, None)), <PyQt5.QtGui.QTransform object at 0x1c28c086d8>)\n",
      "marker_name: 1\n",
      "_file is im0000.tif\n",
      "((slice(49, 100, None), slice(43, 94, None)), <PyQt5.QtGui.QTransform object at 0x1c28c089e8>)\n",
      "marker_name: 1\n",
      "_file is im0000.tif\n",
      "((slice(49, 100, None), slice(30, 81, None)), <PyQt5.QtGui.QTransform object at 0x1c28c086d8>)\n",
      "marker_name: 1\n",
      "_file is im0000.tif\n",
      "((slice(43, 94, None), slice(30, 81, None)), <PyQt5.QtGui.QTransform object at 0x1c28c08c18>)\n",
      "marker_name: 1\n",
      "_file is im0000.tif\n",
      "((slice(37, 88, None), slice(24, 75, None)), <PyQt5.QtGui.QTransform object at 0x1c28c08a58>)\n",
      "marker_name: 1\n",
      "_file is im0000.tif\n",
      "((slice(30, 81, None), slice(24, 75, None)), <PyQt5.QtGui.QTransform object at 0x1c28c08748>)\n",
      "marker_name: 1\n",
      "_file is im0000.tif\n",
      "((slice(24, 75, None), slice(24, 75, None)), <PyQt5.QtGui.QTransform object at 0x1c28c08198>)\n",
      "marker_name: 1\n",
      "_file is im0000.tif\n",
      "((slice(24, 75, None), slice(18, 69, None)), <PyQt5.QtGui.QTransform object at 0x1c28c08ba8>)\n",
      "marker_name: 1\n",
      "_file is im0000.tif\n",
      "((slice(18, 69, None), slice(18, 69, None)), <PyQt5.QtGui.QTransform object at 0x1c28c08588>)\n"
     ]
    }
   ],
   "source": [
    "# debugging only\n",
    "o_selection = RegistrationFileSelection()\n",
    "list_files = [\"/Users/j35/IPTS/charles/im0000.tif\",\n",
    "              \"/Users/j35/IPTS/charles/im0324.tif\",\n",
    "#               \"/Users/j35/IPTS/charles/im0325.tif\",\n",
    "#               \"/Users/j35/IPTS/charles/im0320.tif\",\n",
    "#               \"/Users/j35/IPTS/charles/im0321.tif\",\n",
    "#               \"/Users/j35/IPTS/charles/im0322.tif\",\n",
    "#               \"/Users/j35/IPTS/charles/im0323.tif\",\n",
    "#               \"/Users/j35/IPTS/charles/im0326.tif\",\n",
    "             ]\n",
    "\n",
    "# list_files = [\"/Volumes/my_book_thunderbolt_duo/IPTS/IPTS-19921-Charles/02/im0000.tif\",\n",
    "#               \"/Volumes/my_book_thunderbolt_duo/IPTS/IPTS-19921-Charles/02/im0001.tif\",\n",
    "#               \"/Volumes/my_book_thunderbolt_duo/IPTS/IPTS-19921-Charles/02/im0002.tif\",\n",
    "#               \"/Volumes/my_book_thunderbolt_duo/IPTS/IPTS-19921-Charles/02/im0003.tif\",\n",
    "#               \"/Volumes/my_book_thunderbolt_duo/IPTS/IPTS-19921-Charles/02/im0004.tif\"]\n",
    "\n",
    "o_selection.load_files(list_files)\n",
    "\n",
    "o_registration = RegistrationUi(data_dict=o_selection.data_dict['sample'])\n",
    "o_registration.show()"
   ]
  },
  {
   "cell_type": "markdown",
   "metadata": {
    "run_control": {
     "frozen": false,
     "read_only": false
    }
   },
   "source": [
    "END OF DEBUGGING ONLY"
   ]
  },
  {
   "cell_type": "code",
   "execution_count": 5,
   "metadata": {
    "run_control": {
     "frozen": false,
     "read_only": false
    }
   },
   "outputs": [
    {
     "data": {
      "text/html": [
       "<span style=\"font-size: 20px; color:blue\">Check UI that poped up             (maybe hidden behind this browser!)</span>"
      ],
      "text/plain": [
       "<IPython.core.display.HTML object>"
      ]
     },
     "metadata": {},
     "output_type": "display_data"
    }
   ],
   "source": [
    "o_registration = RegistrationUi(data_dict=o_selection.data_dict['sample'])\n",
    "o_registration.show()"
   ]
  },
  {
   "cell_type": "code",
   "execution_count": null,
   "metadata": {
    "collapsed": true
   },
   "outputs": [],
   "source": []
  }
 ],
 "metadata": {
  "kernelspec": {
   "display_name": "Python 3",
   "language": "python",
   "name": "python3"
  },
  "language_info": {
   "codemirror_mode": {
    "name": "ipython",
    "version": 3
   },
   "file_extension": ".py",
   "mimetype": "text/x-python",
   "name": "python",
   "nbconvert_exporter": "python",
   "pygments_lexer": "ipython3",
   "version": "3.6.4"
  },
  "toc": {
   "colors": {
    "hover_highlight": "#DAA520",
    "running_highlight": "#FF0000",
    "selected_highlight": "#FFD700"
   },
   "moveMenuLeft": true,
   "nav_menu": {
    "height": "138px",
    "width": "252px"
   },
   "navigate_menu": true,
   "number_sections": true,
   "sideBar": true,
   "threshold": 4,
   "toc_cell": false,
   "toc_section_display": "block",
   "toc_window_display": false
  }
 },
 "nbformat": 4,
 "nbformat_minor": 2
}
