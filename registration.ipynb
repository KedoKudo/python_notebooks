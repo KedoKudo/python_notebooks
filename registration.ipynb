{
 "cells": [
  {
   "cell_type": "markdown",
   "metadata": {
    "run_control": {
     "frozen": false,
     "read_only": false
    }
   },
   "source": [
    "[![Notebook Tutorial](__code/__all/notebook_tutorial.png)](https://neutronimaging.pages.ornl.gov/en/tutorial/notebooks/registration/)"
   ]
  },
  {
   "cell_type": "markdown",
   "metadata": {
    "run_control": {
     "frozen": false,
     "read_only": false
    }
   },
   "source": [
    "<img src='__docs/__all/notebook_rules.png' />"
   ]
  },
  {
   "cell_type": "markdown",
   "metadata": {
    "run_control": {
     "frozen": false,
     "read_only": false
    }
   },
   "source": [
    "# Select your IPTS "
   ]
  },
  {
   "cell_type": "code",
   "execution_count": 1,
   "metadata": {
    "run_control": {
     "frozen": false,
     "read_only": false
    }
   },
   "outputs": [
    {
     "name": "stdout",
     "output_type": "stream",
     "text": [
      "pyuic5 /Users/j35/git/IPTS/python_notebooks/ui/ui_registration.ui -o /Users/j35/git/IPTS/python_notebooks/__code/ui_registration.py\n"
     ]
    },
    {
     "data": {
      "text/html": [
       "\n",
       "<style type=\"text/css\">\n",
       ".jupyter-widgets select option {font-family: \"Lucida Console\", Monaco, monospace;}\n",
       ".jupyter-widgets select {width: 98%;}\n",
       "div.output_subarea {padding: 0px;}\n",
       "div.output_subarea > div {margin: 0.4em;}\n",
       "</style>\n"
      ],
      "text/plain": [
       "<IPython.core.display.HTML object>"
      ]
     },
     "metadata": {},
     "output_type": "display_data"
    },
    {
     "name": "stderr",
     "output_type": "stream",
     "text": [
      "/Users/j35/anaconda/envs/py36/lib/python3.6/site-packages/h5py/__init__.py:36: FutureWarning: Conversion of the second argument of issubdtype from `float` to `np.floating` is deprecated. In future, it will be treated as `np.float64 == np.dtype(float).type`.\n",
      "  from ._conv import register_converters as _register_converters\n"
     ]
    },
    {
     "data": {
      "text/html": [
       "\n",
       "                       <style>\n",
       "                       .result_label {\n",
       "                          font-style: bold;\n",
       "                          color: red;\n",
       "                          font-size: 18px;\n",
       "                       }\n",
       "                       </style>\n",
       "                       "
      ],
      "text/plain": [
       "<IPython.core.display.HTML object>"
      ]
     },
     "metadata": {},
     "output_type": "display_data"
    },
    {
     "name": "stdout",
     "output_type": "stream",
     "text": [
      "** Using Debugging Mode! **\n"
     ]
    },
    {
     "data": {
      "application/vnd.jupyter.widget-view+json": {
       "model_id": "9d26a411689943a2aac82502c8e67fee",
       "version_major": 2,
       "version_minor": 0
      },
      "text/html": [
       "<p>Failed to display Jupyter Widget of type <code>VBox</code>.</p>\n",
       "<p>\n",
       "  If you're reading this message in the Jupyter Notebook or JupyterLab Notebook, it may mean\n",
       "  that the widgets JavaScript is still loading. If this message persists, it\n",
       "  likely means that the widgets JavaScript library is either not installed or\n",
       "  not enabled. See the <a href=\"https://ipywidgets.readthedocs.io/en/stable/user_install.html\">Jupyter\n",
       "  Widgets Documentation</a> for setup instructions.\n",
       "</p>\n",
       "<p>\n",
       "  If you're reading this message in another frontend (for example, a static\n",
       "  rendering on GitHub or <a href=\"https://nbviewer.jupyter.org/\">NBViewer</a>),\n",
       "  it may mean that your frontend doesn't currently support widgets.\n",
       "</p>\n"
      ],
      "text/plain": [
       "VBox(children=(HBox(children=(Label(value='IPTS-'), Text(value='', layout=Layout(width='10%')), Label(value='DOES NOT EXIST!', layout=Layout(width='20%'), _dom_classes=('result_label',)))), Label(value='OR'), HBox(children=(Label(value='Select Folder', layout=Layout(width='20%')), Select(layout=Layout(height='300px'), options=('IPTS-15177-topaz', 'IPTS-18813', 'Richard', 'charles'), value='IPTS-15177-topaz'))), Button(button_style='info', description='HELP', style=ButtonStyle())))"
      ]
     },
     "metadata": {},
     "output_type": "display_data"
    },
    {
     "data": {
      "text/html": [
       "<style>\n",
       "\n",
       "/* The following CSS has been adapted from\n",
       "   http://nbviewer.ipython.org/github/ketch/teaching-numerics-with-notebooks/blob/master/Styling_notebooks.ipynb\n",
       "   by Aron Ahmadia and David Ketcheson and has been reused under CC BY 4.0\n",
       "   */\n",
       "\n",
       "/* main background */\n",
       "#site { \n",
       "    background: #888;\n",
       "    color: #red; \n",
       "}\n",
       "\n",
       "div.container {\n",
       "    width: 100% ! important;\n",
       "}\n",
       "\n",
       "div.cell { /* set cell width to about 80 chars */\n",
       "    width: 95%;\n",
       "}\n",
       "\n",
       "div #notebook { /* centre the content */\n",
       "/*    background: #fff; /* white background for content */\n",
       "    background: blue;\n",
       "    width: 100%;\n",
       "    margin: auto;\n",
       "    padding-left: 1em;\n",
       "    padding-right: 1em;\n",
       "    background-image: url(\"tile_background.jpg\");\n",
       "}\n",
       "\n",
       "#notebook li { /* More space between bullet points */\n",
       "    margin-top:0.4em;\n",
       "}\n",
       "\n",
       "/* change background color of running cells */\n",
       "div.cell.code_cell.running {\n",
       "/*    background-color: rgba(164,188,194,.75); */\n",
       "    background-color: green;\n",
       "    border-width: 8px\n",
       "    border-style: solid\n",
       "    border-color: #111;\n",
       "}\n",
       "\n",
       "/* Put a solid color box around each cell and its output, visually linking them together */\n",
       "div.cell.code_cell {\n",
       "    background-color: rgba(164,188,194,.25); /* Continuum L Gray with alpha 0.25 */\n",
       "    border-radius: 10px; /* rounded borders */\n",
       "    padding: 1em;\n",
       "    margin-top: 1em;\n",
       "}\n",
       "\n",
       "div.text_cell_render{\n",
       "\tfont-family: Georgia, Times, 'Times New Roman', serif;\n",
       "    line-height: 110%;\n",
       "    font-size: 105%;\n",
       "    width: 95%;\n",
       "    margin-left: auto;\n",
       "    margin-right: auto;\n",
       "}\n",
       "\n",
       "\n",
       "/* Formatting for header cells */\n",
       ".text_cell_render h1 {\n",
       "\tfont-family: Arial, 'Helvetica Neue', Helvetica, sans-serif;\n",
       "    font-weight: 400;\n",
       "    font-size: 30pt;\n",
       "    line-height: 100%;\n",
       "    color: rgb(37,55,70); /* Continuum Blue*/\n",
       "    margin-bottom: 0.1em;\n",
       "    margin-top: 0.1em;\n",
       "    display: block;\n",
       "}\n",
       ".text_cell_render h2 {\n",
       "\tfont-family: Arial, 'Helvetica Neue', Helvetica, sans-serif;\n",
       "    font-weight: 700;\n",
       "    font-size: 22pt;\n",
       "    line-height: 100%;\n",
       "    color: rgb(37,55,70);\n",
       "    margin-bottom: 0.1em;\n",
       "    margin-top: 0.1em;\n",
       "    display: block;\n",
       "}\n",
       "\n",
       ".text_cell_render h3 {\n",
       "\tfont-family: Arial, 'Helvetica Neue', Helvetica, sans-serif;\n",
       "    margin-top:12px;\n",
       "    margin-bottom: 3px;\n",
       "    font-style: italic;\n",
       "    color: rgb(37, 55, 70);\n",
       "}\n",
       "\n",
       ".text_cell_render h4 {\n",
       "\tfont-family: Arial, 'Helvetica Neue', Helvetica, sans-serif;\n",
       "}\n",
       "\n",
       ".text_cell_render h5 {\n",
       "\tfont-family: Arial, 'Helvetica Neue', Helvetica, sans-serif;\n",
       "    font-weight: 300;\n",
       "    font-size: 14pt;\n",
       "    font-style: italic;\n",
       "    margin-bottom: .1em;\n",
       "    margin-top: 0.1em;\n",
       "    display: block;\n",
       "}\n",
       "\n",
       ".text_cell_render h6 {\n",
       "\tfont-family: Arial, 'Helvetica Neue', Helvetica, sans-serif;\n",
       "    font-weight: 300;\n",
       "    font-size: 10pt;\n",
       "    margin-bottom: 1px;\n",
       "    margin-top: 1px;\n",
       "}\n",
       "\n",
       ".CodeMirror{\n",
       "        font-family: \"PT Mono\", fixed;\n",
       "        font-size: 100%;\n",
       "}\n",
       "\n",
       "#notebook_panel { /* main background */\n",
       "    background-image: url(\"tile_background.jpg\");\n",
       "}\n",
       "\n",
       "\n",
       "\n",
       "\n",
       "</style>\n"
      ],
      "text/plain": [
       "<IPython.core.display.HTML object>"
      ]
     },
     "execution_count": 1,
     "metadata": {},
     "output_type": "execute_result"
    }
   ],
   "source": [
    "from __code.ui_builder import UiBuilder\n",
    "o_builder = UiBuilder(ui_name = 'ui_registration.ui')\n",
    "\n",
    "from __code import system\n",
    "from __code.registration import RegistrationFileSelection, RegistrationUi\n",
    "\n",
    "system.System.select_working_dir()\n",
    "from __code.__all import custom_style\n",
    "custom_style.style()"
   ]
  },
  {
   "cell_type": "markdown",
   "metadata": {
    "run_control": {
     "frozen": false,
     "read_only": false
    }
   },
   "source": [
    "# Python Import "
   ]
  },
  {
   "cell_type": "code",
   "execution_count": null,
   "metadata": {
    "run_control": {
     "frozen": false,
     "read_only": false
    }
   },
   "outputs": [],
   "source": [
    "%gui qt"
   ]
  },
  {
   "cell_type": "markdown",
   "metadata": {
    "run_control": {
     "frozen": false,
     "read_only": false
    }
   },
   "source": [
    "# Select Images to Process"
   ]
  },
  {
   "cell_type": "code",
   "execution_count": null,
   "metadata": {
    "run_control": {
     "frozen": false,
     "read_only": false
    }
   },
   "outputs": [],
   "source": [
    "o_selection = RegistrationFileSelection(working_dir=system.System.get_working_dir())\n",
    "o_selection.select_data()"
   ]
  },
  {
   "cell_type": "markdown",
   "metadata": {
    "run_control": {
     "frozen": false,
     "read_only": false
    }
   },
   "source": [
    "# Launch Registration UI "
   ]
  },
  {
   "cell_type": "markdown",
   "metadata": {
    "run_control": {
     "frozen": false,
     "read_only": false
    }
   },
   "source": [
    "START DEBUGGING HERE"
   ]
  },
  {
   "cell_type": "code",
   "execution_count": 1,
   "metadata": {
    "run_control": {
     "frozen": false,
     "read_only": false
    }
   },
   "outputs": [
    {
     "name": "stdout",
     "output_type": "stream",
     "text": [
      "pyuic5 /Users/j35/git/IPTS/python_notebooks/ui/ui_registration.ui -o /Users/j35/git/IPTS/python_notebooks/__code/ui_registration.py\n",
      "pyuic5 /Users/j35/git/IPTS/python_notebooks/ui/ui_registration_tool.ui -o /Users/j35/git/IPTS/python_notebooks/__code/ui_registration_tool.py\n",
      "pyuic5 /Users/j35/git/IPTS/python_notebooks/ui/ui_registration_auto_confirmation.ui -o /Users/j35/git/IPTS/python_notebooks/__code/ui_registration_auto_confirmation.py\n"
     ]
    }
   ],
   "source": [
    "#debugging\n",
    "from __code.ui_builder import UiBuilder\n",
    "o_builder = UiBuilder(ui_name = 'ui_registration.ui')\n",
    "o_builder = UiBuilder(ui_name = 'ui_registration_tool.ui')\n",
    "o_builder = UiBuilder(ui_name = 'ui_registration_auto_confirmation.ui')"
   ]
  },
  {
   "cell_type": "code",
   "execution_count": 1,
   "metadata": {
    "run_control": {
     "frozen": false,
     "read_only": false
    }
   },
   "outputs": [
    {
     "data": {
      "text/html": [
       "\n",
       "<style type=\"text/css\">\n",
       ".jupyter-widgets select option {font-family: \"Lucida Console\", Monaco, monospace;}\n",
       ".jupyter-widgets select {width: 98%;}\n",
       "div.output_subarea {padding: 0px;}\n",
       "div.output_subarea > div {margin: 0.4em;}\n",
       "</style>\n"
      ],
      "text/plain": [
       "<IPython.core.display.HTML object>"
      ]
     },
     "metadata": {},
     "output_type": "display_data"
    },
    {
     "name": "stderr",
     "output_type": "stream",
     "text": [
      "/Users/j35/anaconda/envs/py36/lib/python3.6/site-packages/h5py/__init__.py:36: FutureWarning: Conversion of the second argument of issubdtype from `float` to `np.floating` is deprecated. In future, it will be treated as `np.float64 == np.dtype(float).type`.\n",
      "  from ._conv import register_converters as _register_converters\n"
     ]
    }
   ],
   "source": [
    "from NeuNorm.normalization import Normalization\n",
    "\n",
    "from __code import system\n",
    "from __code.registration import RegistrationFileSelection, RegistrationUi"
   ]
  },
  {
   "cell_type": "code",
   "execution_count": 2,
   "metadata": {
    "run_control": {
     "frozen": false,
     "read_only": false
    }
   },
   "outputs": [],
   "source": [
    "%gui qt"
   ]
  },
  {
   "cell_type": "code",
   "execution_count": 3,
   "metadata": {
    "run_control": {
     "frozen": false,
     "read_only": false
    },
    "scrolled": false
   },
   "outputs": [
    {
     "data": {
      "application/vnd.jupyter.widget-view+json": {
       "model_id": "eea4c5b71a5b47bd901c9350dcbc5d04",
       "version_major": 2,
       "version_minor": 0
      },
      "text/html": [
       "<p>Failed to display Jupyter Widget of type <code>HBox</code>.</p>\n",
       "<p>\n",
       "  If you're reading this message in the Jupyter Notebook or JupyterLab Notebook, it may mean\n",
       "  that the widgets JavaScript is still loading. If this message persists, it\n",
       "  likely means that the widgets JavaScript library is either not installed or\n",
       "  not enabled. See the <a href=\"https://ipywidgets.readthedocs.io/en/stable/user_install.html\">Jupyter\n",
       "  Widgets Documentation</a> for setup instructions.\n",
       "</p>\n",
       "<p>\n",
       "  If you're reading this message in another frontend (for example, a static\n",
       "  rendering on GitHub or <a href=\"https://nbviewer.jupyter.org/\">NBViewer</a>),\n",
       "  it may mean that your frontend doesn't currently support widgets.\n",
       "</p>\n"
      ],
      "text/plain": [
       "HBox(children=(Label(value='Loading sample', layout=Layout(width='20%')), IntProgress(value=0, max=5), Label(value='Time remaining:', layout=Layout(width='10%')), Label(value=' >> calculating << ')))"
      ]
     },
     "metadata": {},
     "output_type": "display_data"
    },
    {
     "data": {
      "text/html": [
       "<span style=\"font-size: 20px; color:blue\">Check UI that poped up             (maybe hidden behind this browser!)</span>"
      ],
      "text/plain": [
       "<IPython.core.display.HTML object>"
      ]
     },
     "metadata": {},
     "output_type": "display_data"
    }
   ],
   "source": [
    "list_files = ['/Volumes/my_book_thunderbolt_duo/IPTS/IPTS-19921-Charles/02/im0000.tif',\n",
    "              '/Volumes/my_book_thunderbolt_duo/IPTS/IPTS-19921-Charles/02/im0170.tif',\n",
    "              '/Volumes/my_book_thunderbolt_duo/IPTS/IPTS-19921-Charles/02/im0167.tif',\n",
    "              '/Volumes/my_book_thunderbolt_duo/IPTS/IPTS-19921-Charles/02/im0168.tif',\n",
    "              '/Volumes/my_book_thunderbolt_duo/IPTS/IPTS-19921-Charles/02/im0169.tif',\n",
    "              '/Volumes/my_book_thunderbolt_duo/IPTS/IPTS-19921-Charles/02/im0170.tif',\n",
    "              '/Volumes/my_book_thunderbolt_duo/IPTS/IPTS-19921-Charles/02/im0171.tif',\n",
    "              '/Volumes/my_book_thunderbolt_duo/IPTS/IPTS-19921-Charles/02/im0168.tif',\n",
    "              '/Volumes/my_book_thunderbolt_duo/IPTS/IPTS-19921-Charles/02/im0169.tif',\n",
    "              '/Volumes/my_book_thunderbolt_duo/IPTS/IPTS-19921-Charles/02/im0170.tif',\n",
    "              '/Volumes/my_book_thunderbolt_duo/IPTS/IPTS-19921-Charles/02/im0170.tif',\n",
    "]\n",
    "\n",
    "list_files = ['/Users/j35/IPTS/Charles/im0000.tif',\n",
    "             '/Users/j35/IPTS/Charles/im0324.tif',\n",
    "             '/Users/j35/IPTS/Charles/im0325.tif',\n",
    "             '/Users/j35/IPTS/Charles/im0326.tif',\n",
    "             '/Users/j35/IPTS/Charles/im0327.tif']\n",
    "\n",
    "# list_files = ['/Users/j35/IPTS/Charles/im0000.tif']\n",
    "\n",
    "o_norm = Normalization()\n",
    "o_norm.load(file=list_files, notebook=True)\n",
    "data_dict = o_norm.data['sample']\n",
    "\n",
    "o_registration = RegistrationUi(data_dict=data_dict)\n",
    "o_registration.show()"
   ]
  },
  {
   "cell_type": "code",
   "execution_count": null,
   "metadata": {},
   "outputs": [],
   "source": []
  },
  {
   "cell_type": "code",
   "execution_count": null,
   "metadata": {},
   "outputs": [],
   "source": []
  },
  {
   "cell_type": "code",
   "execution_count": null,
   "metadata": {},
   "outputs": [],
   "source": []
  },
  {
   "cell_type": "code",
   "execution_count": null,
   "metadata": {},
   "outputs": [],
   "source": []
  },
  {
   "cell_type": "code",
   "execution_count": null,
   "metadata": {},
   "outputs": [],
   "source": []
  },
  {
   "cell_type": "code",
   "execution_count": 4,
   "metadata": {},
   "outputs": [
    {
     "data": {
      "text/plain": [
       "{'data': [array([[49542., 41158., 41174., ..., 40307., 41120., 40855.],\n",
       "         [45304., 43047., 47005., ..., 50155., 38377., 48563.],\n",
       "         [46962., 41649., 51241., ..., 46214., 36767., 42807.],\n",
       "         ...,\n",
       "         [43172., 37584., 37055., ..., 43596., 42029., 44980.],\n",
       "         [35378., 40922., 43477., ..., 46880., 53099., 45667.],\n",
       "         [41445., 36993., 42021., ..., 45011., 43359., 36686.]])],\n",
       " 'file_name': ['/Users/j35/IPTS/Charles/im0000.tif'],\n",
       " 'metadata': [{256: 2048,\n",
       "   257: 2048,\n",
       "   258: (16,),\n",
       "   259: 1,\n",
       "   262: 1,\n",
       "   270: 'slope = 2.13626E-05 \\roffset = 0.00000E+00\\r',\n",
       "   273: (8,),\n",
       "   277: 1,\n",
       "   278: 2048,\n",
       "   279: (8388608,),\n",
       "   282: 10.0,\n",
       "   283: 10.0,\n",
       "   296: 3,\n",
       "   320: (0,),\n",
       "   339: (1,)}],\n",
       " 'oscilation': [],\n",
       " 'shape': {'height': 2048, 'width': 2048}}"
      ]
     },
     "execution_count": 4,
     "metadata": {},
     "output_type": "execute_result"
    }
   ],
   "source": [
    "o_registration.testing_o_norm.data['sample']"
   ]
  },
  {
   "cell_type": "code",
   "execution_count": 7,
   "metadata": {},
   "outputs": [],
   "source": [
    "o_norm.export(data_type='sample', folder='/Users/j35/Desktop')"
   ]
  },
  {
   "cell_type": "code",
   "execution_count": 8,
   "metadata": {},
   "outputs": [],
   "source": [
    "o_registration.testing_o_norm.export(data_type='sample', folder='/Users/j35/Desktop')"
   ]
  },
  {
   "cell_type": "code",
   "execution_count": 6,
   "metadata": {
    "scrolled": true
   },
   "outputs": [
    {
     "ename": "AttributeError",
     "evalue": "'RegistrationUi' object has no attribute 'testing_o_norm'",
     "output_type": "error",
     "traceback": [
      "\u001b[0;31m---------------------------------------------------------------------------\u001b[0m",
      "\u001b[0;31mAttributeError\u001b[0m                            Traceback (most recent call last)",
      "\u001b[0;32m<ipython-input-6-4381a1463436>\u001b[0m in \u001b[0;36m<module>\u001b[0;34m()\u001b[0m\n\u001b[0;32m----> 1\u001b[0;31m \u001b[0mo_registration\u001b[0m\u001b[0;34m.\u001b[0m\u001b[0mtesting_o_norm\u001b[0m\u001b[0;34m.\u001b[0m\u001b[0mexport\u001b[0m\u001b[0;34m(\u001b[0m\u001b[0mfolder\u001b[0m\u001b[0;34m=\u001b[0m\u001b[0;34m'/Users/j35/Desktop'\u001b[0m\u001b[0;34m,\u001b[0m \u001b[0mdata_type\u001b[0m\u001b[0;34m=\u001b[0m\u001b[0;34m'sample'\u001b[0m\u001b[0;34m)\u001b[0m\u001b[0;34m\u001b[0m\u001b[0m\n\u001b[0m",
      "\u001b[0;31mAttributeError\u001b[0m: 'RegistrationUi' object has no attribute 'testing_o_norm'"
     ]
    }
   ],
   "source": [
    "o_registration.testing_o_norm.export(folder='/Users/j35/Desktop', data_type='sample')"
   ]
  },
  {
   "cell_type": "code",
   "execution_count": 5,
   "metadata": {},
   "outputs": [
    {
     "ename": "AttributeError",
     "evalue": "'RegistrationUi' object has no attribute 'testing_o_norm'",
     "output_type": "error",
     "traceback": [
      "\u001b[0;31m---------------------------------------------------------------------------\u001b[0m",
      "\u001b[0;31mAttributeError\u001b[0m                            Traceback (most recent call last)",
      "\u001b[0;32m<ipython-input-5-7065fd592134>\u001b[0m in \u001b[0;36m<module>\u001b[0;34m()\u001b[0m\n\u001b[0;32m----> 1\u001b[0;31m \u001b[0mo_registration\u001b[0m\u001b[0;34m.\u001b[0m\u001b[0mtesting_o_norm\u001b[0m\u001b[0;34m.\u001b[0m\u001b[0mdata\u001b[0m\u001b[0;34m\u001b[0m\u001b[0m\n\u001b[0m",
      "\u001b[0;31mAttributeError\u001b[0m: 'RegistrationUi' object has no attribute 'testing_o_norm'"
     ]
    }
   ],
   "source": [
    "o_registration.testing_o_norm.data"
   ]
  },
  {
   "cell_type": "code",
   "execution_count": 6,
   "metadata": {
    "scrolled": false
   },
   "outputs": [
    {
     "data": {
      "text/plain": [
       "{'df': {'data': [],\n",
       "  'data_average': [],\n",
       "  'file_name': [],\n",
       "  'metadata': [],\n",
       "  'shape': {'height': nan, 'width': nan}},\n",
       " 'normalized': [],\n",
       " 'ob': {'data': [],\n",
       "  'data_mean': [],\n",
       "  'file_name': [],\n",
       "  'metadata': [],\n",
       "  'oscilation': [],\n",
       "  'shape': {'height': nan, 'width': nan}},\n",
       " 'sample': {'data': [array([[49542., 41158., 41174., ..., 40307., 41120., 40855.],\n",
       "          [45304., 43047., 47005., ..., 50155., 38377., 48563.],\n",
       "          [46962., 41649., 51241., ..., 46214., 36767., 42807.],\n",
       "          ...,\n",
       "          [43172., 37584., 37055., ..., 43596., 42029., 44980.],\n",
       "          [35378., 40922., 43477., ..., 46880., 53099., 45667.],\n",
       "          [41445., 36993., 42021., ..., 45011., 43359., 36686.]]),\n",
       "   array([[54438., 38213., 44315., ..., 49884., 39090., 44162.],\n",
       "          [49185., 42352., 46246., ..., 45106., 42070., 40908.],\n",
       "          [44151., 47125., 47380., ..., 39215., 49172., 39817.],\n",
       "          ...,\n",
       "          [52071., 50089., 37100., ..., 45534., 40129., 47937.],\n",
       "          [55730., 53054., 45387., ..., 38694., 46081., 38399.],\n",
       "          [39896., 43740., 43550., ..., 37199., 47523., 41583.]]),\n",
       "   array([[44084., 37833., 41438., ..., 65535., 65535., 58824.],\n",
       "          [42561., 44235., 51125., ..., 65535., 65535., 61645.],\n",
       "          [47943., 48100., 43131., ..., 50034., 53762., 48189.],\n",
       "          ...,\n",
       "          [47688., 48219., 39751., ..., 48801., 46942., 38193.],\n",
       "          [43136., 50461., 38934., ..., 36911., 49877., 48292.],\n",
       "          [47918., 43828., 43637., ..., 41533., 44833., 51981.]]),\n",
       "   array([[46821., 42752., 47675., ..., 50789., 46812., 45462.],\n",
       "          [42036., 44573., 49695., ..., 39152., 49233., 51419.],\n",
       "          [42897., 46224., 56888., ..., 49463., 52284., 51745.],\n",
       "          ...,\n",
       "          [53963., 60549., 54434., ..., 42871., 49877., 47913.],\n",
       "          [44296., 43606., 52545., ..., 49813., 49753., 44255.],\n",
       "          [47798., 47797., 44999., ..., 57010., 46110., 39505.]]),\n",
       "   array([[38353., 50594., 47340., ..., 48090., 46899., 43340.],\n",
       "          [50512., 50496., 46744., ..., 48564., 50764., 45551.],\n",
       "          [45856., 53347., 42669., ..., 42847., 49688., 58287.],\n",
       "          ...,\n",
       "          [47658., 42279., 39082., ..., 48241., 54863., 51076.],\n",
       "          [42473., 53800., 49373., ..., 51766., 44910., 47607.],\n",
       "          [44360., 47886., 34770., ..., 47893., 48283., 34082.]])],\n",
       "  'file_name': ['/Users/j35/IPTS/Charles/im0000.tif',\n",
       "   '/Users/j35/IPTS/Charles/im0324.tif',\n",
       "   '/Users/j35/IPTS/Charles/im0325.tif',\n",
       "   '/Users/j35/IPTS/Charles/im0326.tif',\n",
       "   '/Users/j35/IPTS/Charles/im0327.tif'],\n",
       "  'metadata': [{256: 2048,\n",
       "    257: 2048,\n",
       "    258: (16,),\n",
       "    259: 1,\n",
       "    262: 1,\n",
       "    270: 'slope = 2.13626E-05 \\roffset = 0.00000E+00\\r',\n",
       "    273: (8,),\n",
       "    277: 1,\n",
       "    278: 2048,\n",
       "    279: (8388608,),\n",
       "    282: 10.0,\n",
       "    283: 10.0,\n",
       "    296: 3,\n",
       "    320: (0,),\n",
       "    339: (1,)},\n",
       "   {256: 2048,\n",
       "    257: 2048,\n",
       "    258: (16,),\n",
       "    259: 1,\n",
       "    262: 1,\n",
       "    270: 'slope = 2.13626E-05 \\roffset = 0.00000E+00\\r',\n",
       "    273: (8,),\n",
       "    277: 1,\n",
       "    278: 2048,\n",
       "    279: (8388608,),\n",
       "    282: 10.0,\n",
       "    283: 10.0,\n",
       "    296: 3,\n",
       "    320: (0,),\n",
       "    339: (1,)},\n",
       "   {256: 2048,\n",
       "    257: 2048,\n",
       "    258: (16,),\n",
       "    259: 1,\n",
       "    262: 1,\n",
       "    270: 'slope = 2.13626E-05 \\roffset = 0.00000E+00\\r',\n",
       "    273: (8,),\n",
       "    277: 1,\n",
       "    278: 2048,\n",
       "    279: (8388608,),\n",
       "    282: 10.0,\n",
       "    283: 10.0,\n",
       "    296: 3,\n",
       "    320: (0,),\n",
       "    339: (1,)},\n",
       "   {256: 2048,\n",
       "    257: 2048,\n",
       "    258: (16,),\n",
       "    259: 1,\n",
       "    262: 1,\n",
       "    270: 'slope = 2.13626E-05 \\roffset = 0.00000E+00\\r',\n",
       "    273: (8,),\n",
       "    277: 1,\n",
       "    278: 2048,\n",
       "    279: (8388608,),\n",
       "    282: 10.0,\n",
       "    283: 10.0,\n",
       "    296: 3,\n",
       "    320: (0,),\n",
       "    339: (1,)},\n",
       "   {256: 2048,\n",
       "    257: 2048,\n",
       "    258: (16,),\n",
       "    259: 1,\n",
       "    262: 1,\n",
       "    270: 'slope = 2.13626E-05 \\roffset = 0.00000E+00\\r',\n",
       "    273: (8,),\n",
       "    277: 1,\n",
       "    278: 2048,\n",
       "    279: (8388608,),\n",
       "    282: 10.0,\n",
       "    283: 10.0,\n",
       "    296: 3,\n",
       "    320: (0,),\n",
       "    339: (1,)}],\n",
       "  'oscilation': [],\n",
       "  'shape': {'height': 2048, 'width': 2048}}}"
      ]
     },
     "execution_count": 6,
     "metadata": {},
     "output_type": "execute_result"
    }
   ],
   "source": [
    "o_norm.data"
   ]
  },
  {
   "cell_type": "code",
   "execution_count": 10,
   "metadata": {},
   "outputs": [],
   "source": [
    "o_norm.export(data_type='sample', folder='/Users/j35/Desktop')"
   ]
  },
  {
   "cell_type": "code",
   "execution_count": 8,
   "metadata": {
    "run_control": {
     "frozen": false,
     "read_only": false
    }
   },
   "outputs": [],
   "source": [
    "data_dict = o_registration.data_dict_raw['data'][1]"
   ]
  },
  {
   "cell_type": "code",
   "execution_count": 9,
   "metadata": {
    "run_control": {
     "frozen": false,
     "read_only": false
    }
   },
   "outputs": [
    {
     "data": {
      "text/plain": [
       "array([[    0.,     0.,     0., ..., 43745., 53429., 51508.],\n",
       "       [    0.,     0.,     0., ..., 51267., 50105., 50468.],\n",
       "       [    0.,     0.,     0., ..., 54881., 52810., 51837.],\n",
       "       ...,\n",
       "       [    0.,     0.,     0., ..., 55735., 38159., 58780.],\n",
       "       [    0.,     0.,     0., ..., 50661., 53292., 55879.],\n",
       "       [    0.,     0.,     0., ..., 42082., 51413., 60679.]])"
      ]
     },
     "execution_count": 9,
     "metadata": {},
     "output_type": "execute_result"
    }
   ],
   "source": [
    "data_dict"
   ]
  },
  {
   "cell_type": "code",
   "execution_count": null,
   "metadata": {
    "run_control": {
     "frozen": false,
     "read_only": false
    }
   },
   "outputs": [],
   "source": []
  },
  {
   "cell_type": "code",
   "execution_count": null,
   "metadata": {
    "run_control": {
     "frozen": false,
     "read_only": false
    }
   },
   "outputs": [],
   "source": []
  },
  {
   "cell_type": "code",
   "execution_count": null,
   "metadata": {
    "run_control": {
     "frozen": false,
     "read_only": false
    }
   },
   "outputs": [],
   "source": []
  },
  {
   "cell_type": "markdown",
   "metadata": {
    "run_control": {
     "frozen": false,
     "read_only": false
    }
   },
   "source": [
    "end of debugging\n"
   ]
  },
  {
   "cell_type": "code",
   "execution_count": null,
   "metadata": {
    "run_control": {
     "frozen": false,
     "read_only": false
    }
   },
   "outputs": [],
   "source": []
  },
  {
   "cell_type": "code",
   "execution_count": null,
   "metadata": {
    "run_control": {
     "frozen": false,
     "read_only": false
    }
   },
   "outputs": [],
   "source": []
  },
  {
   "cell_type": "code",
   "execution_count": null,
   "metadata": {
    "run_control": {
     "frozen": false,
     "read_only": false
    }
   },
   "outputs": [],
   "source": []
  },
  {
   "cell_type": "code",
   "execution_count": 14,
   "metadata": {
    "run_control": {
     "frozen": false,
     "read_only": false
    }
   },
   "outputs": [],
   "source": [
    "import numpy as np"
   ]
  },
  {
   "cell_type": "code",
   "execution_count": null,
   "metadata": {
    "run_control": {
     "frozen": false,
     "read_only": false
    }
   },
   "outputs": [],
   "source": [
    "def intermediates(p1, p2):\n",
    "    \"\"\"\"Return a list of nb_points equally spaced points\n",
    "    between p1 and p2\"\"\"\n",
    "    # If we have 8 intermediate points, we have 8+1=9 spaces\n",
    "    # between p1 and p2\n",
    "\n",
    "    # nb_points ?\n",
    "    nb_points = np.int(3 * max([np.abs(p2[0]-p2[1]), np.abs(p1[1]-p1[0])]))\n",
    "\n",
    "    x_spacing = (p2[0] - p1[0]) / (nb_points + 1)\n",
    "    y_spacing = (p2[1] - p1[1]) / (nb_points + 1)\n",
    "    \n",
    "    full_array = [[np.int(p1[0] + i * x_spacing), np.int(p1[1] +  i * y_spacing)] \n",
    "                for i in range(1, nb_points+1)]\n",
    "    \n",
    "    clean_array = []\n",
    "    for _points in full_array:\n",
    "        if _points in clean_array:\n",
    "            continue\n",
    "        clean_array.append(_points)\n",
    "    \n",
    "    return clean_array\n",
    "\n",
    "intermediate_points = intermediates([1, 2], [10, 6.5])"
   ]
  },
  {
   "cell_type": "code",
   "execution_count": null,
   "metadata": {
    "run_control": {
     "frozen": false,
     "read_only": false
    }
   },
   "outputs": [],
   "source": [
    "data = np.random.rand(10, 10)"
   ]
  },
  {
   "cell_type": "code",
   "execution_count": null,
   "metadata": {
    "run_control": {
     "frozen": false,
     "read_only": false
    }
   },
   "outputs": [],
   "source": [
    "profile = [data[_point[0], _point[1]] for _point in intermediate_points]"
   ]
  },
  {
   "cell_type": "code",
   "execution_count": null,
   "metadata": {
    "run_control": {
     "frozen": false,
     "read_only": false
    }
   },
   "outputs": [],
   "source": [
    "profile`"
   ]
  },
  {
   "cell_type": "markdown",
   "metadata": {
    "run_control": {
     "frozen": false,
     "read_only": false
    }
   },
   "source": [
    "END DEBUGGING HERE"
   ]
  },
  {
   "cell_type": "code",
   "execution_count": null,
   "metadata": {
    "run_control": {
     "frozen": false,
     "read_only": false
    }
   },
   "outputs": [],
   "source": [
    "o_registration = RegistrationUi(data_dict=o_selection.data_dict)\n",
    "o_registration.show()"
   ]
  },
  {
   "cell_type": "code",
   "execution_count": null,
   "metadata": {
    "run_control": {
     "frozen": false,
     "read_only": false
    }
   },
   "outputs": [],
   "source": [
    "slice = o_registration.ui.profile_line.getArraySlice(o_registration.live_image, o_registration.ui.image_view.imageItem)"
   ]
  },
  {
   "cell_type": "code",
   "execution_count": null,
   "metadata": {
    "run_control": {
     "frozen": false,
     "read_only": false
    }
   },
   "outputs": [],
   "source": [
    "result = o_registration.ui.profile_line.getArrayRegion(o_registration.live_image, \n",
    "                                                       o_registration.ui.image_view.imageItem, \n",
    "                                                       returnMappedCoords=True)\n",
    "np.shape(result)"
   ]
  },
  {
   "cell_type": "code",
   "execution_count": null,
   "metadata": {
    "run_control": {
     "frozen": false,
     "read_only": false
    }
   },
   "outputs": [],
   "source": []
  }
 ],
 "metadata": {
  "kernelspec": {
   "display_name": "Python 3",
   "language": "python",
   "name": "python3"
  },
  "language_info": {
   "codemirror_mode": {
    "name": "ipython",
    "version": 3
   },
   "file_extension": ".py",
   "mimetype": "text/x-python",
   "name": "python",
   "nbconvert_exporter": "python",
   "pygments_lexer": "ipython3",
   "version": "3.6.4"
  },
  "toc": {
   "colors": {
    "hover_highlight": "#DAA520",
    "running_highlight": "#FF0000",
    "selected_highlight": "#FFD700"
   },
   "moveMenuLeft": true,
   "nav_menu": {
    "height": "138px",
    "width": "252px"
   },
   "navigate_menu": true,
   "number_sections": true,
   "sideBar": true,
   "threshold": 4,
   "toc_cell": false,
   "toc_section_display": "block",
   "toc_window_display": false
  }
 },
 "nbformat": 4,
 "nbformat_minor": 2
}
