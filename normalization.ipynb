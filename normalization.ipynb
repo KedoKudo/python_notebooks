{
 "cells": [
  {
   "cell_type": "markdown",
   "metadata": {
    "run_control": {
     "frozen": false,
     "read_only": false
    }
   },
   "source": [
    "# Select Your IPTS "
   ]
  },
  {
   "cell_type": "code",
   "execution_count": 14,
   "metadata": {
    "run_control": {
     "frozen": false,
     "read_only": false
    }
   },
   "outputs": [
    {
     "name": "stdout",
     "output_type": "stream",
     "text": [
      "pyuic5 /Users/j35/git/IPTS/python_notebooks/ui/ui_roi_selection.ui -o /Users/j35/git/IPTS/python_notebooks/__code/ui_roi_selection.py\n",
      "** Using Debugging Mode! **\n"
     ]
    },
    {
     "data": {
      "application/vnd.jupyter.widget-view+json": {
       "model_id": "4ebc9a0a320d49e5a48bd11ed04729c9",
       "version_major": 2,
       "version_minor": 0
      },
      "text/html": [
       "<p>Failed to display Jupyter Widget of type <code>HBox</code>.</p>\n",
       "<p>\n",
       "  If you're reading this message in Jupyter Notebook or JupyterLab, it may mean\n",
       "  that the widgets JavaScript is still loading. If this message persists, it\n",
       "  likely means that the widgets JavaScript library is either not installed or\n",
       "  not enabled. See the <a href=\"https://ipywidgets.readthedocs.io/en/stable/user_install.html\">Jupyter\n",
       "  Widgets Documentation</a> for setup instructions.\n",
       "</p>\n",
       "<p>\n",
       "  If you're reading this message in another notebook frontend (for example, a static\n",
       "  rendering on GitHub or <a href=\"https://nbviewer.jupyter.org/\">NBViewer</a>),\n",
       "  it may mean that your frontend doesn't currently support widgets.\n",
       "</p>\n"
      ],
      "text/plain": [
       "HBox(children=(Label(value='Select Working Folder', layout=Layout(width='20%')), Select(index=9, options=('BraggEdge', 'Brianne', 'DOE_letters', 'FITSimages', 'IPTS-12534', 'IPTS-20209-TOPAZ', 'IPTS_13639_resonance_shawn', 'IPTS_14832', 'IPTS_16212', 'IPTS_16259', 'IPTS_16475', 'IPTS_16893', 'IPTS_17099', 'IPTS_17685', 'IPTS_17981', 'IPTS_18580', 'IPTS_18806', 'IPTS_18813', 'IPTS_19037', 'IPTS_19558', 'IPTS_19621', 'IPTS_19626', 'IPTS_test_normalization', 'IPTS_testing_time_spectra', 'ImagesToRegisterForGian', 'Indu', 'Keita_code', 'Pour_ibeatles_video', 'ResonanceImaging', 'SENSITIVE', 'SarmaGUI', 'SphereCoordinates3D', 'TempData', 'gian', 'iBeatles_debugging', 'shared'), value='IPTS_16259')))"
      ]
     },
     "metadata": {},
     "output_type": "display_data"
    },
    {
     "data": {
      "text/html": [
       "<style>\n",
       "\n",
       "/* The following CSS has been adapted from\n",
       "   http://nbviewer.ipython.org/github/ketch/teaching-numerics-with-notebooks/blob/master/Styling_notebooks.ipynb\n",
       "   by Aron Ahmadia and David Ketcheson and has been reused under CC BY 4.0\n",
       "   */\n",
       "\n",
       "/* main background */\n",
       "#site { \n",
       "    background: #888;\n",
       "    color: #red; \n",
       "}\n",
       "\n",
       "div.container {\n",
       "    width: 100% ! important;\n",
       "}\n",
       "\n",
       "div.cell { /* set cell width to about 80 chars */\n",
       "    width: 95%;\n",
       "}\n",
       "\n",
       "div #notebook { /* centre the content */\n",
       "/*    background: #fff; /* white background for content */\n",
       "    background: blue;\n",
       "    width: 100%;\n",
       "    margin: auto;\n",
       "    padding-left: 1em;\n",
       "    padding-right: 1em;\n",
       "    background-image: url(\"tile_background.jpg\");\n",
       "}\n",
       "\n",
       "#notebook li { /* More space between bullet points */\n",
       "    margin-top:0.4em;\n",
       "}\n",
       "\n",
       "/* change background color of running cells */\n",
       "div.cell.code_cell.running {\n",
       "/*    background-color: rgba(164,188,194,.75); */\n",
       "    background-color: green;\n",
       "    border-width: 8px\n",
       "    border-style: solid\n",
       "    border-color: #111;\n",
       "}\n",
       "\n",
       "/* Put a solid color box around each cell and its output, visually linking them together */\n",
       "div.cell.code_cell {\n",
       "    background-color: rgba(164,188,194,.25); /* Continuum L Gray with alpha 0.25 */\n",
       "    border-radius: 10px; /* rounded borders */\n",
       "    padding: 1em;\n",
       "    margin-top: 1em;\n",
       "}\n",
       "\n",
       "div.text_cell_render{\n",
       "\tfont-family: Georgia, Times, 'Times New Roman', serif;\n",
       "    line-height: 110%;\n",
       "    font-size: 105%;\n",
       "    width: 95%;\n",
       "    margin-left: auto;\n",
       "    margin-right: auto;\n",
       "}\n",
       "\n",
       "\n",
       "/* Formatting for header cells */\n",
       ".text_cell_render h1 {\n",
       "\tfont-family: Arial, 'Helvetica Neue', Helvetica, sans-serif;\n",
       "    font-weight: 400;\n",
       "    font-size: 30pt;\n",
       "    line-height: 100%;\n",
       "    color: rgb(37,55,70); /* Continuum Blue*/\n",
       "    margin-bottom: 0.1em;\n",
       "    margin-top: 0.1em;\n",
       "    display: block;\n",
       "}\n",
       ".text_cell_render h2 {\n",
       "\tfont-family: Arial, 'Helvetica Neue', Helvetica, sans-serif;\n",
       "    font-weight: 700;\n",
       "    font-size: 22pt;\n",
       "    line-height: 100%;\n",
       "    color: rgb(37,55,70);\n",
       "    margin-bottom: 0.1em;\n",
       "    margin-top: 0.1em;\n",
       "    display: block;\n",
       "}\n",
       "\n",
       ".text_cell_render h3 {\n",
       "\tfont-family: Arial, 'Helvetica Neue', Helvetica, sans-serif;\n",
       "    margin-top:12px;\n",
       "    margin-bottom: 3px;\n",
       "    font-style: italic;\n",
       "    color: rgb(37, 55, 70);\n",
       "}\n",
       "\n",
       ".text_cell_render h4 {\n",
       "\tfont-family: Arial, 'Helvetica Neue', Helvetica, sans-serif;\n",
       "}\n",
       "\n",
       ".text_cell_render h5 {\n",
       "\tfont-family: Arial, 'Helvetica Neue', Helvetica, sans-serif;\n",
       "    font-weight: 300;\n",
       "    font-size: 14pt;\n",
       "    font-style: italic;\n",
       "    margin-bottom: .1em;\n",
       "    margin-top: 0.1em;\n",
       "    display: block;\n",
       "}\n",
       "\n",
       ".text_cell_render h6 {\n",
       "\tfont-family: Arial, 'Helvetica Neue', Helvetica, sans-serif;\n",
       "    font-weight: 300;\n",
       "    font-size: 10pt;\n",
       "    margin-bottom: 1px;\n",
       "    margin-top: 1px;\n",
       "}\n",
       "\n",
       ".CodeMirror{\n",
       "        font-family: \"PT Mono\", fixed;\n",
       "        font-size: 100%;\n",
       "}\n",
       "\n",
       "#notebook_panel { /* main background */\n",
       "    background-image: url(\"tile_background.jpg\");\n",
       "}\n",
       "\n",
       "\n",
       "\n",
       "\n",
       "</style>\n"
      ],
      "text/plain": [
       "<IPython.core.display.HTML object>"
      ]
     },
     "execution_count": 14,
     "metadata": {},
     "output_type": "execute_result"
    }
   ],
   "source": [
    "from __code.normalization_new_ui import *\n",
    "\n",
    "from __code.ui_builder import UiBuilder\n",
    "o_builder = UiBuilder(ui_name = 'ui_roi_selection.ui')\n",
    "from __code.roi_selection_ui import Interface\n",
    "\n",
    "from __code import system\n",
    "system.System.select_working_dir()\n",
    "from __code.__all import custom_style\n",
    "custom_style.style()"
   ]
  },
  {
   "cell_type": "markdown",
   "metadata": {
    "run_control": {
     "frozen": false,
     "read_only": false
    }
   },
   "source": [
    "# Description "
   ]
  },
  {
   "cell_type": "markdown",
   "metadata": {
    "run_control": {
     "frozen": false,
     "read_only": false
    }
   },
   "source": [
    "This notebook performs the normalization of a set of images (tiff or fits) by OBs. \n",
    "\n",
    "The steps are:\n",
    " - select your **sample images**\n",
    " - select your **ob images**\n",
    " - select your **df images** (optional)\n",
    " - all the data will be loaded\n",
    " - preview of the sample and ob\n",
    " - optionally, selection of one or more **background** region in the sample data\n",
    " - normalization is performed\n",
    " - export of the normalized data"
   ]
  },
  {
   "cell_type": "markdown",
   "metadata": {
    "run_control": {
     "frozen": false,
     "read_only": false
    }
   },
   "source": [
    "# Python Import"
   ]
  },
  {
   "cell_type": "code",
   "execution_count": 15,
   "metadata": {
    "run_control": {
     "frozen": false,
     "read_only": false
    }
   },
   "outputs": [],
   "source": [
    "%gui qt"
   ]
  },
  {
   "cell_type": "code",
   "execution_count": 16,
   "metadata": {
    "run_control": {
     "frozen": false,
     "read_only": false
    }
   },
   "outputs": [],
   "source": [
    "%matplotlib notebook"
   ]
  },
  {
   "cell_type": "markdown",
   "metadata": {
    "run_control": {
     "frozen": false,
     "read_only": false
    }
   },
   "source": [
    "# Loading Images "
   ]
  },
  {
   "cell_type": "code",
   "execution_count": 17,
   "metadata": {
    "run_control": {
     "frozen": false,
     "read_only": false
    }
   },
   "outputs": [
    {
     "data": {
      "application/vnd.jupyter.widget-view+json": {
       "model_id": "fc924122764c43749b914b829db23a28",
       "version_major": 2,
       "version_minor": 0
      },
      "text/html": [
       "<p>Failed to display Jupyter Widget of type <code>HTML</code>.</p>\n",
       "<p>\n",
       "  If you're reading this message in Jupyter Notebook or JupyterLab, it may mean\n",
       "  that the widgets JavaScript is still loading. If this message persists, it\n",
       "  likely means that the widgets JavaScript library is either not installed or\n",
       "  not enabled. See the <a href=\"https://ipywidgets.readthedocs.io/en/stable/user_install.html\">Jupyter\n",
       "  Widgets Documentation</a> for setup instructions.\n",
       "</p>\n",
       "<p>\n",
       "  If you're reading this message in another notebook frontend (for example, a static\n",
       "  rendering on GitHub or <a href=\"https://nbviewer.jupyter.org/\">NBViewer</a>),\n",
       "  it may mean that your frontend doesn't currently support widgets.\n",
       "</p>\n"
      ],
      "text/plain": [
       "HTML(value='Please wait...')"
      ]
     },
     "metadata": {},
     "output_type": "display_data"
    },
    {
     "data": {
      "application/vnd.jupyter.widget-view+json": {
       "model_id": "1626f37967194cd0be259b748e8765f1",
       "version_major": 2,
       "version_minor": 0
      },
      "text/html": [
       "<p>Failed to display Jupyter Widget of type <code>Label</code>.</p>\n",
       "<p>\n",
       "  If you're reading this message in Jupyter Notebook or JupyterLab, it may mean\n",
       "  that the widgets JavaScript is still loading. If this message persists, it\n",
       "  likely means that the widgets JavaScript library is either not installed or\n",
       "  not enabled. See the <a href=\"https://ipywidgets.readthedocs.io/en/stable/user_install.html\">Jupyter\n",
       "  Widgets Documentation</a> for setup instructions.\n",
       "</p>\n",
       "<p>\n",
       "  If you're reading this message in another notebook frontend (for example, a static\n",
       "  rendering on GitHub or <a href=\"https://nbviewer.jupyter.org/\">NBViewer</a>),\n",
       "  it may mean that your frontend doesn't currently support widgets.\n",
       "</p>\n"
      ],
      "text/plain": [
       "Label(value='Selection of All Input Files', layout=Layout(border='1px lighgray solide', height='35px', padding='8px', width='300px'))"
      ]
     },
     "metadata": {},
     "output_type": "display_data"
    },
    {
     "data": {
      "application/vnd.jupyter.widget-view+json": {
       "model_id": "8d20e513f08b4133a1223025369be318",
       "version_major": 2,
       "version_minor": 0
      },
      "text/html": [
       "<p>Failed to display Jupyter Widget of type <code>VBox</code>.</p>\n",
       "<p>\n",
       "  If you're reading this message in Jupyter Notebook or JupyterLab, it may mean\n",
       "  that the widgets JavaScript is still loading. If this message persists, it\n",
       "  likely means that the widgets JavaScript library is either not installed or\n",
       "  not enabled. See the <a href=\"https://ipywidgets.readthedocs.io/en/stable/user_install.html\">Jupyter\n",
       "  Widgets Documentation</a> for setup instructions.\n",
       "</p>\n",
       "<p>\n",
       "  If you're reading this message in another notebook frontend (for example, a static\n",
       "  rendering on GitHub or <a href=\"https://nbviewer.jupyter.org/\">NBViewer</a>),\n",
       "  it may mean that your frontend doesn't currently support widgets.\n",
       "</p>\n"
      ],
      "text/plain": [
       "VBox(children=(HBox(children=(Label(value='Instructions:', layout=Layout(width='20%')), Label(value='Select list of Sample files (mandatory) ', layout=Layout(width='50%')))), HBox(children=(Label(value='Sample selected:', layout=Layout(width='20%')), Label(value='0 files selected', layout=Layout(width='50%'))))), layout=Layout(border='1px lightgray solid', margin='5px', padding='15px'))"
      ]
     },
     "metadata": {},
     "output_type": "display_data"
    },
    {
     "data": {
      "application/vnd.jupyter.widget-view+json": {
       "model_id": "27610c6cd1794ec1ba298f6286b6568f",
       "version_major": 2,
       "version_minor": 0
      },
      "text/html": [
       "<p>Failed to display Jupyter Widget of type <code>HBox</code>.</p>\n",
       "<p>\n",
       "  If you're reading this message in Jupyter Notebook or JupyterLab, it may mean\n",
       "  that the widgets JavaScript is still loading. If this message persists, it\n",
       "  likely means that the widgets JavaScript library is either not installed or\n",
       "  not enabled. See the <a href=\"https://ipywidgets.readthedocs.io/en/stable/user_install.html\">Jupyter\n",
       "  Widgets Documentation</a> for setup instructions.\n",
       "</p>\n",
       "<p>\n",
       "  If you're reading this message in another notebook frontend (for example, a static\n",
       "  rendering on GitHub or <a href=\"https://nbviewer.jupyter.org/\">NBViewer</a>),\n",
       "  it may mean that your frontend doesn't currently support widgets.\n",
       "</p>\n"
      ],
      "text/plain": [
       "HBox(children=(Label(value='         ', layout=Layout(width='70%')), Button(button_style='warning', description='Next Step>>', disabled=True, layout=Layout(width='20%'), style=ButtonStyle(), tooltip='Click to move to next step')))"
      ]
     },
     "metadata": {},
     "output_type": "display_data"
    },
    {
     "data": {
      "text/html": [
       "\n",
       "        <style type=\"text/css\">\n",
       "        .jupyter-widgets select option {font-family: \"Lucida Console\", Monaco, monospace;}\n",
       "        div.output_subarea {padding: 0px;}\n",
       "        div.output_subarea > div {margin: 0.4em;}\n",
       "        </style>\n",
       "        "
      ],
      "text/plain": [
       "<IPython.core.display.HTML object>"
      ]
     },
     "metadata": {},
     "output_type": "display_data"
    },
    {
     "data": {
      "application/vnd.jupyter.widget-view+json": {
       "model_id": "8245ee879457400b8652fbbc43490bc8",
       "version_major": 2,
       "version_minor": 0
      },
      "text/html": [
       "<p>Failed to display Jupyter Widget of type <code>VBox</code>.</p>\n",
       "<p>\n",
       "  If you're reading this message in Jupyter Notebook or JupyterLab, it may mean\n",
       "  that the widgets JavaScript is still loading. If this message persists, it\n",
       "  likely means that the widgets JavaScript library is either not installed or\n",
       "  not enabled. See the <a href=\"https://ipywidgets.readthedocs.io/en/stable/user_install.html\">Jupyter\n",
       "  Widgets Documentation</a> for setup instructions.\n",
       "</p>\n",
       "<p>\n",
       "  If you're reading this message in another notebook frontend (for example, a static\n",
       "  rendering on GitHub or <a href=\"https://nbviewer.jupyter.org/\">NBViewer</a>),\n",
       "  it may mean that your frontend doesn't currently support widgets.\n",
       "</p>\n"
      ],
      "text/plain": [
       "VBox(children=(Label(value='', layout=Layout(width='250px')), HBox(children=(HBox(children=(Text(value='/Volumes/my_book_thunderbolt_duo/IPTS/IPTS_18813', description='Location: ', layout=Layout(width='300px'), placeholder=''), Button(description='Jump', layout=Layout(margin='5px 10px', width='100px'), style=ButtonStyle())), layout=Layout(border='1px solid lightgrey', margin='5px 50px 5px 5px', padding='3px')),)), VBox(children=(SelectMultiple(description='Select', layout=Layout(display='flex', flex_flow='column', width='750px'), options=(' .', ' ..', ' .DS_Store                              |     Tue Jan 30 16:04:04 2018', ' DF                                     |     Directory', ' OB                                     |     Directory', ' Sample2_Ethane                         |     Directory', ' Sample3_Methane                        |     Directory', ' Sample_2                               |     Directory', ' Sample_2_light                         |     Directory', ' Sample_2_light_timestamp_infos.txt     |     Wed Jan 31 11:57:35 2018'), value=()), HBox(children=(Button(description='Enter directory', layout=Layout(margin='5px 40px'), style=ButtonStyle()), Button(description='Select', layout=Layout(margin='5px 40px'), style=ButtonStyle())))), layout=Layout(border='1px solid lightgrey', margin='5px', padding='10px'))))"
      ]
     },
     "metadata": {},
     "output_type": "display_data"
    },
    {
     "data": {
      "application/vnd.jupyter.widget-view+json": {
       "model_id": "a029aec334d74cdaba0ba8873807cf8b",
       "version_major": 2,
       "version_minor": 0
      },
      "text/html": [
       "<p>Failed to display Jupyter Widget of type <code>HTML</code>.</p>\n",
       "<p>\n",
       "  If you're reading this message in Jupyter Notebook or JupyterLab, it may mean\n",
       "  that the widgets JavaScript is still loading. If this message persists, it\n",
       "  likely means that the widgets JavaScript library is either not installed or\n",
       "  not enabled. See the <a href=\"https://ipywidgets.readthedocs.io/en/stable/user_install.html\">Jupyter\n",
       "  Widgets Documentation</a> for setup instructions.\n",
       "</p>\n",
       "<p>\n",
       "  If you're reading this message in another notebook frontend (for example, a static\n",
       "  rendering on GitHub or <a href=\"https://nbviewer.jupyter.org/\">NBViewer</a>),\n",
       "  it may mean that your frontend doesn't currently support widgets.\n",
       "</p>\n"
      ],
      "text/plain": [
       "HTML(value='Please wait...')"
      ]
     },
     "metadata": {},
     "output_type": "display_data"
    },
    {
     "data": {
      "text/html": [
       "\n",
       "        <style type=\"text/css\">\n",
       "        .jupyter-widgets select option {font-family: \"Lucida Console\", Monaco, monospace;}\n",
       "        div.output_subarea {padding: 0px;}\n",
       "        div.output_subarea > div {margin: 0.4em;}\n",
       "        </style>\n",
       "        "
      ],
      "text/plain": [
       "<IPython.core.display.HTML object>"
      ]
     },
     "metadata": {},
     "output_type": "display_data"
    },
    {
     "data": {
      "application/vnd.jupyter.widget-view+json": {
       "model_id": "50b6cf18d35b49bc8049d509123ef7a0",
       "version_major": 2,
       "version_minor": 0
      },
      "text/html": [
       "<p>Failed to display Jupyter Widget of type <code>VBox</code>.</p>\n",
       "<p>\n",
       "  If you're reading this message in Jupyter Notebook or JupyterLab, it may mean\n",
       "  that the widgets JavaScript is still loading. If this message persists, it\n",
       "  likely means that the widgets JavaScript library is either not installed or\n",
       "  not enabled. See the <a href=\"https://ipywidgets.readthedocs.io/en/stable/user_install.html\">Jupyter\n",
       "  Widgets Documentation</a> for setup instructions.\n",
       "</p>\n",
       "<p>\n",
       "  If you're reading this message in another notebook frontend (for example, a static\n",
       "  rendering on GitHub or <a href=\"https://nbviewer.jupyter.org/\">NBViewer</a>),\n",
       "  it may mean that your frontend doesn't currently support widgets.\n",
       "</p>\n"
      ],
      "text/plain": [
       "VBox(children=(Label(value='', layout=Layout(width='250px')), HBox(children=(HBox(children=(Text(value='/Volumes/my_book_thunderbolt_duo/IPTS/IPTS_18813/Sample2_Ethane', description='Location: ', layout=Layout(width='300px'), placeholder=''), Button(description='Jump', layout=Layout(margin='5px 10px', width='100px'), style=ButtonStyle())), layout=Layout(border='1px solid lightgrey', margin='5px 50px 5px 5px', padding='3px')),)), VBox(children=(SelectMultiple(description='Select', layout=Layout(display='flex', flex_flow='column', width='750px'), options=(' .', ' ..', ' 20180117_Sample2_293K_00Bar_finish_0030_0888.tiff           |     Wed Jan 17 08:41:56 2018', ' 20180117_Sample2_293K_00Bar_finish_0030_0889.tiff           |     Wed Jan 17 08:42:31 2018', ' 20180117_Sample2_293K_00Bar_finish_0030_0890.tiff           |     Wed Jan 17 08:43:06 2018', ' 20180117_Sample2_293K_00Bar_finish_0030_0891.tiff           |     Wed Jan 17 08:43:41 2018', ' 20180117_Sample2_293K_00Bar_finish_0030_0892.tiff           |     Wed Jan 17 08:44:16 2018', ' 20180117_Sample2_Ethane_160K_test_0030_0695.tiff            |     Wed Jan 17 06:03:59 2018', ' 20180117_Sample2_Ethane_160K_test_0030_0696.tiff            |     Wed Jan 17 06:04:34 2018', ' 20180117_Sample2_Ethane_160K_test_0030_0697.tiff            |     Wed Jan 17 06:05:09 2018', ' 20180117_Sample2_Ethane_160K_test_0030_0698.tiff            |     Wed Jan 17 06:05:44 2018', ' 20180117_Sample2_Ethane_160K_test_0030_0699.tiff            |     Wed Jan 17 06:06:19 2018', ' 20180117_Sample2_Ethane_160K_test_0030_0700.tiff            |     Wed Jan 17 06:06:54 2018', ' 20180117_Sample2_Ethane_160K_test_0030_0701.tiff            |     Wed Jan 17 06:07:28 2018', ' 20180117_Sample2_Ethane_180K_test_0030_0702.tiff            |     Wed Jan 17 06:08:18 2018', ' 20180117_Sample2_Ethane_180K_test_0030_0703.tiff            |     Wed Jan 17 06:08:53 2018', ' 20180117_Sample2_Ethane_180K_test_0030_0704.tiff            |     Wed Jan 17 06:09:28 2018', ' 20180117_Sample2_Ethane_180K_test_0030_0705.tiff            |     Wed Jan 17 06:10:03 2018', ' 20180117_Sample2_Ethane_180K_test_0030_0706.tiff            |     Wed Jan 17 06:10:38 2018', ' 20180117_Sample2_Ethane_200K_test_0030_0707.tiff            |     Wed Jan 17 06:12:11 2018', ' 20180117_Sample2_Ethane_200K_test_0030_0708.tiff            |     Wed Jan 17 06:12:46 2018', ' 20180117_Sample2_Ethane_200K_test_0030_0709.tiff            |     Wed Jan 17 06:13:21 2018', ' 20180117_Sample2_Ethane_200K_test_0030_0710.tiff            |     Wed Jan 17 06:13:56 2018', ' 20180117_Sample2_Ethane_200K_test_0030_0711.tiff            |     Wed Jan 17 06:14:31 2018', ' 20180117_Sample2_Ethane_200K_test_0030_0712.tiff            |     Wed Jan 17 06:15:20 2018', ' 20180117_Sample2_Ethane_200K_test_0030_0713.tiff            |     Wed Jan 17 06:15:55 2018', ' 20180117_Sample2_Ethane_200K_test_0030_0714.tiff            |     Wed Jan 17 06:16:30 2018', ' 20180117_Sample2_Ethane_200K_test_0030_0715.tiff            |     Wed Jan 17 06:17:05 2018', ' 20180117_Sample2_Ethane_200K_test_0030_0716.tiff            |     Wed Jan 17 06:17:40 2018', ' 20180117_Sample2_Ethane_220K_test_0030_0717.tiff            |     Wed Jan 17 06:18:15 2018', ' 20180117_Sample2_Ethane_220K_test_0030_0718.tiff            |     Wed Jan 17 06:18:50 2018', ' 20180117_Sample2_Ethane_220K_test_0030_0719.tiff            |     Wed Jan 17 06:19:25 2018', ' 20180117_Sample2_Ethane_220K_test_0030_0720.tiff            |     Wed Jan 17 06:20:00 2018', ' 20180117_Sample2_Ethane_220K_test_0030_0721.tiff            |     Wed Jan 17 06:20:35 2018', ' 20180117_Sample2_Ethane_220K_test_0030_0722.tiff            |     Wed Jan 17 06:22:38 2018', ' 20180117_Sample2_Ethane_220K_test_0030_0723.tiff            |     Wed Jan 17 06:23:13 2018', ' 20180117_Sample2_Ethane_220K_test_0030_0724.tiff            |     Wed Jan 17 06:23:48 2018', ' 20180117_Sample2_Ethane_220K_test_0030_0725.tiff            |     Wed Jan 17 06:24:23 2018', ' 20180117_Sample2_Ethane_220K_test_0030_0726.tiff            |     Wed Jan 17 06:24:57 2018', ' 20180117_Sample2_Ethane_230K_03Bar_0030_0737.tiff           |     Wed Jan 17 06:34:37 2018', ' 20180117_Sample2_Ethane_230K_03Bar_0030_0738.tiff           |     Wed Jan 17 06:35:12 2018', ' 20180117_Sample2_Ethane_230K_03Bar_0030_0739.tiff           |     Wed Jan 17 06:35:47 2018', ' 20180117_Sample2_Ethane_230K_03Bar_0030_0740.tiff           |     Wed Jan 17 06:36:22 2018', ' 20180117_Sample2_Ethane_230K_03Bar_0030_0741.tiff           |     Wed Jan 17 06:36:57 2018', ' 20180117_Sample2_Ethane_230K_04Bar_0030_0742.tiff           |     Wed Jan 17 06:40:31 2018', ' 20180117_Sample2_Ethane_230K_04Bar_0030_0743.tiff           |     Wed Jan 17 06:41:06 2018', ' 20180117_Sample2_Ethane_230K_04Bar_0030_0744.tiff           |     Wed Jan 17 06:41:41 2018', ' 20180117_Sample2_Ethane_230K_04Bar_0030_0745.tiff           |     Wed Jan 17 06:42:16 2018', ' 20180117_Sample2_Ethane_230K_04Bar_0030_0746.tiff           |     Wed Jan 17 06:42:51 2018', ' 20180117_Sample2_Ethane_230K_04Bar_0030_0747.tiff           |     Wed Jan 17 06:46:50 2018', ' 20180117_Sample2_Ethane_230K_04Bar_0030_0748.tiff           |     Wed Jan 17 06:47:24 2018', ' 20180117_Sample2_Ethane_230K_04Bar_0030_0749.tiff           |     Wed Jan 17 06:47:59 2018', ' 20180117_Sample2_Ethane_230K_04Bar_0030_0750.tiff           |     Wed Jan 17 06:48:34 2018', ' 20180117_Sample2_Ethane_230K_04Bar_0030_0751.tiff           |     Wed Jan 17 06:49:09 2018', ' 20180117_Sample2_Ethane_230K_05Bar_0030_0752.tiff           |     Wed Jan 17 06:51:24 2018', ' 20180117_Sample2_Ethane_230K_05Bar_0030_0753.tiff           |     Wed Jan 17 06:51:59 2018', ' 20180117_Sample2_Ethane_230K_05Bar_0030_0754.tiff           |     Wed Jan 17 06:52:34 2018', ' 20180117_Sample2_Ethane_230K_05Bar_0030_0755.tiff           |     Wed Jan 17 06:53:09 2018', ' 20180117_Sample2_Ethane_230K_05Bar_0030_0756.tiff           |     Wed Jan 17 06:53:44 2018', ' 20180117_Sample2_Ethane_230K_06Bar_0030_0757.tiff           |     Wed Jan 17 06:58:10 2018', ' 20180117_Sample2_Ethane_230K_06Bar_0030_0758.tiff           |     Wed Jan 17 06:58:45 2018', ' 20180117_Sample2_Ethane_230K_06Bar_0030_0759.tiff           |     Wed Jan 17 06:59:20 2018', ' 20180117_Sample2_Ethane_230K_06Bar_0030_0760.tiff           |     Wed Jan 17 06:59:55 2018', ' 20180117_Sample2_Ethane_230K_06Bar_0030_0761.tiff           |     Wed Jan 17 07:00:30 2018', ' 20180117_Sample2_Ethane_230K_06Bar_0030_0762.tiff           |     Wed Jan 17 07:02:37 2018', ' 20180117_Sample2_Ethane_230K_06Bar_0030_0763.tiff           |     Wed Jan 17 07:03:12 2018', ' 20180117_Sample2_Ethane_230K_06Bar_0030_0764.tiff           |     Wed Jan 17 07:03:47 2018', ' 20180117_Sample2_Ethane_230K_06Bar_0030_0765.tiff           |     Wed Jan 17 07:04:21 2018', ' 20180117_Sample2_Ethane_230K_06Bar_0030_0766.tiff           |     Wed Jan 17 07:04:56 2018', ' 20180117_Sample2_Ethane_230K_07Bar_0030_0767.tiff           |     Wed Jan 17 07:06:55 2018', ' 20180117_Sample2_Ethane_230K_07Bar_0030_0768.tiff           |     Wed Jan 17 07:07:30 2018', ' 20180117_Sample2_Ethane_230K_07Bar_0030_0769.tiff           |     Wed Jan 17 07:08:05 2018', ' 20180117_Sample2_Ethane_230K_07Bar_0030_0770.tiff           |     Wed Jan 17 07:08:40 2018', ' 20180117_Sample2_Ethane_230K_07Bar_0030_0771.tiff           |     Wed Jan 17 07:09:15 2018', ' 20180117_Sample2_Ethane_230K_07Bar_0030_0772.tiff           |     Wed Jan 17 07:10:09 2018', ' 20180117_Sample2_Ethane_230K_07Bar_0030_0773.tiff           |     Wed Jan 17 07:10:44 2018', ' 20180117_Sample2_Ethane_230K_07Bar_0030_0774.tiff           |     Wed Jan 17 07:11:19 2018', ' 20180117_Sample2_Ethane_230K_07Bar_0030_0775.tiff           |     Wed Jan 17 07:11:54 2018', ' 20180117_Sample2_Ethane_230K_07Bar_0030_0776.tiff           |     Wed Jan 17 07:12:29 2018', ' 20180117_Sample2_Ethane_230K_07Bar_0030_0777.tiff           |     Wed Jan 17 07:15:11 2018', ' 20180117_Sample2_Ethane_230K_07Bar_0030_0778.tiff           |     Wed Jan 17 07:15:46 2018', ' 20180117_Sample2_Ethane_230K_07Bar_0030_0779.tiff           |     Wed Jan 17 07:16:21 2018', ' 20180117_Sample2_Ethane_230K_07Bar_0030_0780.tiff           |     Wed Jan 17 07:16:56 2018', ' 20180117_Sample2_Ethane_230K_07Bar_0030_0781.tiff           |     Wed Jan 17 07:17:31 2018', ' 20180117_Sample2_Ethane_230K_07Bar_0030_0782.tiff           |     Wed Jan 17 07:18:06 2018', ' 20180117_Sample2_Ethane_230K_07Bar_0030_0783.tiff           |     Wed Jan 17 07:18:40 2018', ' 20180117_Sample2_Ethane_230K_07Bar_0030_0784.tiff           |     Wed Jan 17 07:19:15 2018', ' 20180117_Sample2_Ethane_230K_07Bar_0030_0785.tiff           |     Wed Jan 17 07:19:50 2018', ' 20180117_Sample2_Ethane_230K_07Bar_0030_0786.tiff           |     Wed Jan 17 07:20:25 2018', ' 20180117_Sample2_Ethane_230K_07Bar_0030_0787.tiff           |     Wed Jan 17 07:21:00 2018', ' 20180117_Sample2_Ethane_230K_07Bar_0030_0788.tiff           |     Wed Jan 17 07:21:35 2018', ' 20180117_Sample2_Ethane_230K_07Bar_0030_0789.tiff           |     Wed Jan 17 07:22:10 2018', ' 20180117_Sample2_Ethane_230K_07Bar_0030_0790.tiff           |     Wed Jan 17 07:22:45 2018', ' 20180117_Sample2_Ethane_230K_07Bar_0030_0791.tiff           |     Wed Jan 17 07:23:20 2018', ' 20180117_Sample2_Ethane_230K_07Bar_0030_0792.tiff           |     Wed Jan 17 07:23:55 2018', ' 20180117_Sample2_Ethane_230K_07Bar_0030_0793.tiff           |     Wed Jan 17 07:24:30 2018', ' 20180117_Sample2_Ethane_230K_07Bar_0030_0794.tiff           |     Wed Jan 17 07:25:05 2018', ' 20180117_Sample2_Ethane_230K_07Bar_0030_0795.tiff           |     Wed Jan 17 07:25:39 2018', ' 20180117_Sample2_Ethane_230K_07Bar_0030_0796.tiff           |     Wed Jan 17 07:26:14 2018', ' 20180117_Sample2_Ethane_230K_test_0030_0727.tiff            |     Wed Jan 17 06:26:34 2018', ' 20180117_Sample2_Ethane_230K_test_0030_0728.tiff            |     Wed Jan 17 06:27:09 2018', ' 20180117_Sample2_Ethane_230K_test_0030_0729.tiff            |     Wed Jan 17 06:27:44 2018', ' 20180117_Sample2_Ethane_230K_test_0030_0730.tiff            |     Wed Jan 17 06:28:19 2018', ' 20180117_Sample2_Ethane_230K_test_0030_0731.tiff            |     Wed Jan 17 06:28:54 2018', ' 20180117_Sample2_Ethane_230K_test_0030_0732.tiff            |     Wed Jan 17 06:30:34 2018', ' 20180117_Sample2_Ethane_230K_test_0030_0733.tiff            |     Wed Jan 17 06:31:09 2018', ' 20180117_Sample2_Ethane_230K_test_0030_0734.tiff            |     Wed Jan 17 06:31:44 2018', ' 20180117_Sample2_Ethane_230K_test_0030_0735.tiff            |     Wed Jan 17 06:32:19 2018', ' 20180117_Sample2_Ethane_230K_test_0030_0736.tiff            |     Wed Jan 17 06:32:54 2018', ' 20180117_Sample2_Ethane_240K_06Bar_0030_0797.tiff           |     Wed Jan 17 07:34:50 2018', ' 20180117_Sample2_Ethane_240K_06Bar_0030_0798.tiff           |     Wed Jan 17 07:35:25 2018', ' 20180117_Sample2_Ethane_240K_06Bar_0030_0799.tiff           |     Wed Jan 17 07:36:00 2018', ' 20180117_Sample2_Ethane_240K_06Bar_0030_0800.tiff           |     Wed Jan 17 07:36:34 2018', ' 20180117_Sample2_Ethane_240K_06Bar_0030_0801.tiff           |     Wed Jan 17 07:37:09 2018', ' 20180117_Sample2_Ethane_240K_06Bar_0030_0802.tiff           |     Wed Jan 17 07:37:44 2018', ' 20180117_Sample2_Ethane_240K_07Bar_0030_0803.tiff           |     Wed Jan 17 07:41:12 2018', ' 20180117_Sample2_Ethane_240K_07Bar_0030_0804.tiff           |     Wed Jan 17 07:41:47 2018', ' 20180117_Sample2_Ethane_240K_07Bar_0030_0805.tiff           |     Wed Jan 17 07:42:22 2018', ' 20180117_Sample2_Ethane_240K_07Bar_0030_0806.tiff           |     Wed Jan 17 07:42:57 2018', ' 20180117_Sample2_Ethane_240K_07Bar_0030_0807.tiff           |     Wed Jan 17 07:43:32 2018', ' 20180117_Sample2_Ethane_240K_08Bar_0030_0808.tiff           |     Wed Jan 17 07:46:49 2018', ' 20180117_Sample2_Ethane_240K_08Bar_0030_0809.tiff           |     Wed Jan 17 07:47:24 2018', ' 20180117_Sample2_Ethane_240K_08Bar_0030_0810.tiff           |     Wed Jan 17 07:47:59 2018', ' 20180117_Sample2_Ethane_240K_08Bar_0030_0811.tiff           |     Wed Jan 17 07:48:34 2018', ' 20180117_Sample2_Ethane_240K_08Bar_0030_0812.tiff           |     Wed Jan 17 07:49:09 2018', ' 20180117_Sample2_Ethane_240K_10Bar_0030_0813.tiff           |     Wed Jan 17 07:51:31 2018', ' 20180117_Sample2_Ethane_240K_10Bar_0030_0814.tiff           |     Wed Jan 17 07:52:06 2018', ' 20180117_Sample2_Ethane_240K_10Bar_0030_0815.tiff           |     Wed Jan 17 07:52:41 2018', ' 20180117_Sample2_Ethane_240K_10Bar_0030_0816.tiff           |     Wed Jan 17 07:53:16 2018', ' 20180117_Sample2_Ethane_240K_10Bar_0030_0817.tiff           |     Wed Jan 17 07:53:51 2018', ' 20180117_Sample2_Ethane_rampTo250K_10Bar_0030_0818.tiff     |     Wed Jan 17 07:55:00 2018', ' 20180117_Sample2_Ethane_rampTo250K_10Bar_0030_0819.tiff     |     Wed Jan 17 07:55:35 2018', ' 20180117_Sample2_Ethane_rampTo250K_10Bar_0030_0820.tiff     |     Wed Jan 17 07:56:10 2018', ' 20180117_Sample2_Ethane_rampTo250K_10Bar_0030_0821.tiff     |     Wed Jan 17 07:56:45 2018', ' 20180117_Sample2_Ethane_rampTo250K_10Bar_0030_0822.tiff     |     Wed Jan 17 07:57:20 2018', ' 20180117_Sample2_Ethane_rampTo250K_10Bar_0030_0823.tiff     |     Wed Jan 17 07:57:55 2018', ' 20180117_Sample2_Ethane_rampTo250K_10Bar_0030_0824.tiff     |     Wed Jan 17 07:58:30 2018', ' 20180117_Sample2_Ethane_rampTo250K_10Bar_0030_0825.tiff     |     Wed Jan 17 07:59:04 2018', ' 20180117_Sample2_Ethane_rampTo250K_10Bar_0030_0826.tiff     |     Wed Jan 17 07:59:39 2018', ' 20180117_Sample2_Ethane_rampTo250K_10Bar_0030_0827.tiff     |     Wed Jan 17 08:00:14 2018', ' 20180117_Sample2_Ethane_rampTo250K_10Bar_0030_0828.tiff     |     Wed Jan 17 08:00:49 2018', ' 20180117_Sample2_Ethane_rampTo250K_10Bar_0030_0829.tiff     |     Wed Jan 17 08:01:24 2018', ' 20180117_Sample2_Ethane_rampTo250K_10Bar_0030_0830.tiff     |     Wed Jan 17 08:01:59 2018', ' 20180117_Sample2_Ethane_rampTo250K_10Bar_0030_0831.tiff     |     Wed Jan 17 08:02:34 2018', ' 20180117_Sample2_Ethane_rampTo250K_10Bar_0030_0832.tiff     |     Wed Jan 17 08:03:09 2018', ' 20180117_Sample2_Ethane_rampTo250K_10Bar_0030_0833.tiff     |     Wed Jan 17 08:03:44 2018', ' 20180117_Sample2_Ethane_rampTo250K_10Bar_0030_0834.tiff     |     Wed Jan 17 08:04:19 2018', ' 20180117_Sample2_Ethane_rampTo250K_10Bar_0030_0835.tiff     |     Wed Jan 17 08:04:54 2018', ' 20180117_Sample2_Ethane_rampTo250K_10Bar_0030_0836.tiff     |     Wed Jan 17 08:05:29 2018', ' 20180117_Sample2_Ethane_rampTo250K_10Bar_0030_0837.tiff     |     Wed Jan 17 08:06:03 2018', ' 20180117_Sample2_Ethane_rampTo260K_13Bar_0030_0838.tiff     |     Wed Jan 17 08:06:39 2018', ' 20180117_Sample2_Ethane_rampTo260K_13Bar_0030_0839.tiff     |     Wed Jan 17 08:07:14 2018', ' 20180117_Sample2_Ethane_rampTo260K_13Bar_0030_0840.tiff     |     Wed Jan 17 08:07:49 2018', ' 20180117_Sample2_Ethane_rampTo260K_13Bar_0030_0841.tiff     |     Wed Jan 17 08:08:24 2018', ' 20180117_Sample2_Ethane_rampTo260K_13Bar_0030_0842.tiff     |     Wed Jan 17 08:08:59 2018', ' 20180117_Sample2_Ethane_rampTo260K_13Bar_0030_0843.tiff     |     Wed Jan 17 08:09:34 2018', ' 20180117_Sample2_Ethane_rampTo260K_13Bar_0030_0844.tiff     |     Wed Jan 17 08:10:09 2018', ' 20180117_Sample2_Ethane_rampTo260K_13Bar_0030_0845.tiff     |     Wed Jan 17 08:10:44 2018', ' 20180117_Sample2_Ethane_rampTo260K_13Bar_0030_0846.tiff     |     Wed Jan 17 08:11:19 2018', ' 20180117_Sample2_Ethane_rampTo260K_13Bar_0030_0847.tiff     |     Wed Jan 17 08:11:54 2018', ' 20180117_Sample2_Ethane_rampTo260K_13Bar_0030_0848.tiff     |     Wed Jan 17 08:12:29 2018', ' 20180117_Sample2_Ethane_rampTo260K_13Bar_0030_0849.tiff     |     Wed Jan 17 08:13:04 2018', ' 20180117_Sample2_Ethane_rampTo260K_13Bar_0030_0850.tiff     |     Wed Jan 17 08:13:39 2018', ' 20180117_Sample2_Ethane_rampTo260K_13Bar_0030_0851.tiff     |     Wed Jan 17 08:14:14 2018', ' 20180117_Sample2_Ethane_rampTo260K_13Bar_0030_0852.tiff     |     Wed Jan 17 08:14:48 2018', ' 20180117_Sample2_Ethane_rampTo260K_13Bar_0030_0853.tiff     |     Wed Jan 17 08:15:23 2018', ' 20180117_Sample2_Ethane_rampTo260K_13Bar_0030_0854.tiff     |     Wed Jan 17 08:15:58 2018', ' 20180117_Sample2_Ethane_rampTo260K_13Bar_0030_0855.tiff     |     Wed Jan 17 08:16:33 2018', ' 20180117_Sample2_Ethane_rampTo260K_13Bar_0030_0856.tiff     |     Wed Jan 17 08:17:08 2018', ' 20180117_Sample2_Ethane_rampTo260K_13Bar_0030_0857.tiff     |     Wed Jan 17 08:17:43 2018', ' 20180117_Sample2_Ethane_rampTo260K_13Bar_0030_0858.tiff     |     Wed Jan 17 08:18:18 2018', ' 20180117_Sample2_Ethane_rampTo260K_13Bar_0030_0859.tiff     |     Wed Jan 17 08:18:53 2018', ' 20180117_Sample2_Ethane_rampTo260K_13Bar_0030_0860.tiff     |     Wed Jan 17 08:19:28 2018', ' 20180117_Sample2_Ethane_rampTo260K_13Bar_0030_0861.tiff     |     Wed Jan 17 08:20:03 2018', ' 20180117_Sample2_Ethane_rampTo260K_13Bar_0030_0862.tiff     |     Wed Jan 17 08:20:38 2018', ' 20180117_Sample2_Ethane_rampTo260K_13Bar_0030_0863.tiff     |     Wed Jan 17 08:21:13 2018', ' 20180117_Sample2_Ethane_rampTo260K_13Bar_0030_0864.tiff     |     Wed Jan 17 08:21:48 2018', ' 20180117_Sample2_Ethane_rampTo260K_13Bar_0030_0865.tiff     |     Wed Jan 17 08:22:22 2018', ' 20180117_Sample2_Ethane_rampTo260K_13Bar_0030_0866.tiff     |     Wed Jan 17 08:22:57 2018', ' 20180117_Sample2_Ethane_rampTo260K_13Bar_0030_0867.tiff     |     Wed Jan 17 08:23:32 2018', ' 20180117_Sample2_Ethane_rampTo260K_13Bar_0030_0868.tiff     |     Wed Jan 17 08:24:07 2018', ' 20180117_Sample2_Ethane_rampTo260K_13Bar_0030_0869.tiff     |     Wed Jan 17 08:24:42 2018', ' 20180117_Sample2_Ethane_rampTo260K_13Bar_0030_0870.tiff     |     Wed Jan 17 08:25:17 2018', ' 20180117_Sample2_Ethane_rampTo260K_13Bar_0030_0871.tiff     |     Wed Jan 17 08:25:52 2018', ' 20180117_Sample2_Ethane_rampTo260K_13Bar_0030_0872.tiff     |     Wed Jan 17 08:26:27 2018', ' 20180117_Sample2_Ethane_rampTo260K_13Bar_0030_0873.tiff     |     Wed Jan 17 08:27:02 2018', ' 20180117_Sample2_Ethane_rampTo260K_13Bar_0030_0874.tiff     |     Wed Jan 17 08:27:37 2018', ' 20180117_Sample2_Ethane_rampTo260K_13Bar_0030_0875.tiff     |     Wed Jan 17 08:28:12 2018', ' 20180117_Sample2_Ethane_rampTo260K_13Bar_0030_0876.tiff     |     Wed Jan 17 08:28:47 2018', ' 20180117_Sample2_Ethane_rampTo260K_13Bar_0030_0877.tiff     |     Wed Jan 17 08:29:22 2018', ' 20180117_Sample2_Ethane_rampTo260K_13Bar_0030_0878.tiff     |     Wed Jan 17 08:29:56 2018', ' 20180117_Sample2_Ethane_rampTo260K_13Bar_0030_0879.tiff     |     Wed Jan 17 08:30:31 2018', ' 20180117_Sample2_Ethane_rampTo260K_13Bar_0030_0880.tiff     |     Wed Jan 17 08:31:06 2018', ' 20180117_Sample2_Ethane_rampTo260K_13Bar_0030_0881.tiff     |     Wed Jan 17 08:31:41 2018', ' 20180117_Sample2_Ethane_rampTo260K_13Bar_0030_0882.tiff     |     Wed Jan 17 08:32:16 2018', ' 20180117_Sample2_Ethane_rampTo260K_13Bar_0030_0883.tiff     |     Wed Jan 17 08:32:51 2018', ' 20180117_Sample2_Ethane_rampTo260K_13Bar_0030_0884.tiff     |     Wed Jan 17 08:33:26 2018', ' 20180117_Sample2_Ethane_rampTo260K_13Bar_0030_0885.tiff     |     Wed Jan 17 08:34:01 2018', ' 20180117_Sample2_Ethane_rampTo260K_13Bar_0030_0886.tiff     |     Wed Jan 17 08:34:36 2018', ' 20180117_Sample2_Ethane_rampTo260K_13Bar_0030_0887.tiff     |     Wed Jan 17 08:35:11 2018'), value=()), HBox(children=(Button(description='Enter directory', layout=Layout(margin='5px 40px'), style=ButtonStyle()), Button(description='Select', layout=Layout(margin='5px 40px'), style=ButtonStyle())))), layout=Layout(border='1px solid lightgrey', margin='5px', padding='10px'))))"
      ]
     },
     "metadata": {},
     "output_type": "display_data"
    },
    {
     "data": {
      "application/vnd.jupyter.widget-view+json": {
       "model_id": "8c09d827d7d342ac967c5e058c736769",
       "version_major": 2,
       "version_minor": 0
      },
      "text/html": [
       "<p>Failed to display Jupyter Widget of type <code>HTML</code>.</p>\n",
       "<p>\n",
       "  If you're reading this message in Jupyter Notebook or JupyterLab, it may mean\n",
       "  that the widgets JavaScript is still loading. If this message persists, it\n",
       "  likely means that the widgets JavaScript library is either not installed or\n",
       "  not enabled. See the <a href=\"https://ipywidgets.readthedocs.io/en/stable/user_install.html\">Jupyter\n",
       "  Widgets Documentation</a> for setup instructions.\n",
       "</p>\n",
       "<p>\n",
       "  If you're reading this message in another notebook frontend (for example, a static\n",
       "  rendering on GitHub or <a href=\"https://nbviewer.jupyter.org/\">NBViewer</a>),\n",
       "  it may mean that your frontend doesn't currently support widgets.\n",
       "</p>\n"
      ],
      "text/plain": [
       "HTML(value='Please wait...')"
      ]
     },
     "metadata": {},
     "output_type": "display_data"
    },
    {
     "data": {
      "application/vnd.jupyter.widget-view+json": {
       "model_id": "e92643bf9c014a2285feb6982a35f2e0",
       "version_major": 2,
       "version_minor": 0
      },
      "text/html": [
       "<p>Failed to display Jupyter Widget of type <code>VBox</code>.</p>\n",
       "<p>\n",
       "  If you're reading this message in Jupyter Notebook or JupyterLab, it may mean\n",
       "  that the widgets JavaScript is still loading. If this message persists, it\n",
       "  likely means that the widgets JavaScript library is either not installed or\n",
       "  not enabled. See the <a href=\"https://ipywidgets.readthedocs.io/en/stable/user_install.html\">Jupyter\n",
       "  Widgets Documentation</a> for setup instructions.\n",
       "</p>\n",
       "<p>\n",
       "  If you're reading this message in another notebook frontend (for example, a static\n",
       "  rendering on GitHub or <a href=\"https://nbviewer.jupyter.org/\">NBViewer</a>),\n",
       "  it may mean that your frontend doesn't currently support widgets.\n",
       "</p>\n"
      ],
      "text/plain": [
       "VBox(children=(HBox(children=(Label(value='Instructions:', layout=Layout(width='20%')), Label(value='Select list of Open Beam files (mandatory) ', layout=Layout(width='50%')))), HBox(children=(Label(value='Sample selected:', layout=Layout(width='20%')), Label(value='0 files selected', layout=Layout(width='50%'))))), layout=Layout(border='1px lightgray solid', margin='5px', padding='15px'))"
      ]
     },
     "metadata": {},
     "output_type": "display_data"
    },
    {
     "data": {
      "application/vnd.jupyter.widget-view+json": {
       "model_id": "a4851627c686407a9a54b0a00b0a163c",
       "version_major": 2,
       "version_minor": 0
      },
      "text/html": [
       "<p>Failed to display Jupyter Widget of type <code>HBox</code>.</p>\n",
       "<p>\n",
       "  If you're reading this message in Jupyter Notebook or JupyterLab, it may mean\n",
       "  that the widgets JavaScript is still loading. If this message persists, it\n",
       "  likely means that the widgets JavaScript library is either not installed or\n",
       "  not enabled. See the <a href=\"https://ipywidgets.readthedocs.io/en/stable/user_install.html\">Jupyter\n",
       "  Widgets Documentation</a> for setup instructions.\n",
       "</p>\n",
       "<p>\n",
       "  If you're reading this message in another notebook frontend (for example, a static\n",
       "  rendering on GitHub or <a href=\"https://nbviewer.jupyter.org/\">NBViewer</a>),\n",
       "  it may mean that your frontend doesn't currently support widgets.\n",
       "</p>\n"
      ],
      "text/plain": [
       "HBox(children=(Button(button_style='success', description='<< Previous Step', layout=Layout(width='20%'), style=ButtonStyle(), tooltip='Click to move to previous step'), Label(value='         ', layout=Layout(width='70%')), Button(button_style='warning', description='Next Step>>', disabled=True, layout=Layout(width='20%'), style=ButtonStyle(), tooltip='Click to move to next step')))"
      ]
     },
     "metadata": {},
     "output_type": "display_data"
    },
    {
     "data": {
      "text/html": [
       "\n",
       "        <style type=\"text/css\">\n",
       "        .jupyter-widgets select option {font-family: \"Lucida Console\", Monaco, monospace;}\n",
       "        div.output_subarea {padding: 0px;}\n",
       "        div.output_subarea > div {margin: 0.4em;}\n",
       "        </style>\n",
       "        "
      ],
      "text/plain": [
       "<IPython.core.display.HTML object>"
      ]
     },
     "metadata": {},
     "output_type": "display_data"
    },
    {
     "data": {
      "application/vnd.jupyter.widget-view+json": {
       "model_id": "1e7858d0c4984e66a144a95549112020",
       "version_major": 2,
       "version_minor": 0
      },
      "text/html": [
       "<p>Failed to display Jupyter Widget of type <code>VBox</code>.</p>\n",
       "<p>\n",
       "  If you're reading this message in Jupyter Notebook or JupyterLab, it may mean\n",
       "  that the widgets JavaScript is still loading. If this message persists, it\n",
       "  likely means that the widgets JavaScript library is either not installed or\n",
       "  not enabled. See the <a href=\"https://ipywidgets.readthedocs.io/en/stable/user_install.html\">Jupyter\n",
       "  Widgets Documentation</a> for setup instructions.\n",
       "</p>\n",
       "<p>\n",
       "  If you're reading this message in another notebook frontend (for example, a static\n",
       "  rendering on GitHub or <a href=\"https://nbviewer.jupyter.org/\">NBViewer</a>),\n",
       "  it may mean that your frontend doesn't currently support widgets.\n",
       "</p>\n"
      ],
      "text/plain": [
       "VBox(children=(Label(value='', layout=Layout(width='250px')), HBox(children=(HBox(children=(Text(value='/Volumes/my_book_thunderbolt_duo/IPTS/IPTS_18813', description='Location: ', layout=Layout(width='300px'), placeholder=''), Button(description='Jump', layout=Layout(margin='5px 10px', width='100px'), style=ButtonStyle())), layout=Layout(border='1px solid lightgrey', margin='5px 50px 5px 5px', padding='3px')),)), VBox(children=(SelectMultiple(description='Select', layout=Layout(display='flex', flex_flow='column', width='750px'), options=(' .', ' ..', ' .DS_Store                              |     Tue Jan 30 16:04:04 2018', ' DF                                     |     Directory', ' OB                                     |     Directory', ' Sample2_Ethane                         |     Directory', ' Sample3_Methane                        |     Directory', ' Sample_2                               |     Directory', ' Sample_2_light                         |     Directory', ' Sample_2_light_timestamp_infos.txt     |     Wed Jan 31 11:57:35 2018'), value=()), HBox(children=(Button(description='Enter directory', layout=Layout(margin='5px 40px'), style=ButtonStyle()), Button(description='Select', layout=Layout(margin='5px 40px'), style=ButtonStyle())))), layout=Layout(border='1px solid lightgrey', margin='5px', padding='10px'))))"
      ]
     },
     "metadata": {},
     "output_type": "display_data"
    },
    {
     "data": {
      "application/vnd.jupyter.widget-view+json": {
       "model_id": "49b34a449e0041f088f697720ed3410f",
       "version_major": 2,
       "version_minor": 0
      },
      "text/html": [
       "<p>Failed to display Jupyter Widget of type <code>HTML</code>.</p>\n",
       "<p>\n",
       "  If you're reading this message in Jupyter Notebook or JupyterLab, it may mean\n",
       "  that the widgets JavaScript is still loading. If this message persists, it\n",
       "  likely means that the widgets JavaScript library is either not installed or\n",
       "  not enabled. See the <a href=\"https://ipywidgets.readthedocs.io/en/stable/user_install.html\">Jupyter\n",
       "  Widgets Documentation</a> for setup instructions.\n",
       "</p>\n",
       "<p>\n",
       "  If you're reading this message in another notebook frontend (for example, a static\n",
       "  rendering on GitHub or <a href=\"https://nbviewer.jupyter.org/\">NBViewer</a>),\n",
       "  it may mean that your frontend doesn't currently support widgets.\n",
       "</p>\n"
      ],
      "text/plain": [
       "HTML(value='Please wait...')"
      ]
     },
     "metadata": {},
     "output_type": "display_data"
    },
    {
     "data": {
      "text/html": [
       "\n",
       "        <style type=\"text/css\">\n",
       "        .jupyter-widgets select option {font-family: \"Lucida Console\", Monaco, monospace;}\n",
       "        div.output_subarea {padding: 0px;}\n",
       "        div.output_subarea > div {margin: 0.4em;}\n",
       "        </style>\n",
       "        "
      ],
      "text/plain": [
       "<IPython.core.display.HTML object>"
      ]
     },
     "metadata": {},
     "output_type": "display_data"
    },
    {
     "data": {
      "application/vnd.jupyter.widget-view+json": {
       "model_id": "d81b2e803f494afda110d6200183dede",
       "version_major": 2,
       "version_minor": 0
      },
      "text/html": [
       "<p>Failed to display Jupyter Widget of type <code>VBox</code>.</p>\n",
       "<p>\n",
       "  If you're reading this message in Jupyter Notebook or JupyterLab, it may mean\n",
       "  that the widgets JavaScript is still loading. If this message persists, it\n",
       "  likely means that the widgets JavaScript library is either not installed or\n",
       "  not enabled. See the <a href=\"https://ipywidgets.readthedocs.io/en/stable/user_install.html\">Jupyter\n",
       "  Widgets Documentation</a> for setup instructions.\n",
       "</p>\n",
       "<p>\n",
       "  If you're reading this message in another notebook frontend (for example, a static\n",
       "  rendering on GitHub or <a href=\"https://nbviewer.jupyter.org/\">NBViewer</a>),\n",
       "  it may mean that your frontend doesn't currently support widgets.\n",
       "</p>\n"
      ],
      "text/plain": [
       "VBox(children=(Label(value='', layout=Layout(width='250px')), HBox(children=(HBox(children=(Text(value='/Volumes/my_book_thunderbolt_duo/IPTS/IPTS_18813/OB', description='Location: ', layout=Layout(width='300px'), placeholder=''), Button(description='Jump', layout=Layout(margin='5px 10px', width='100px'), style=ButtonStyle())), layout=Layout(border='1px solid lightgrey', margin='5px 50px 5px 5px', padding='3px')),)), VBox(children=(SelectMultiple(description='Select', layout=Layout(display='flex', flex_flow='column', width='750px'), options=(' .', ' ..', ' 20180117_OB_0030_0893.tiff     |     Wed Jan 17 08:54:58 2018', ' 20180117_OB_0030_0894.tiff     |     Wed Jan 17 08:55:32 2018', ' 20180117_OB_0030_0895.tiff     |     Wed Jan 17 08:56:07 2018', ' 20180117_OB_0030_0896.tiff     |     Wed Jan 17 08:56:42 2018', ' 20180117_OB_0030_0897.tiff     |     Wed Jan 17 08:57:17 2018', ' 20180117_OB_0030_0898.tiff     |     Wed Jan 17 08:57:52 2018', ' 20180117_OB_0030_0899.tiff     |     Wed Jan 17 08:58:27 2018', ' 20180117_OB_0030_0900.tiff     |     Wed Jan 17 08:59:02 2018', ' 20180117_OB_0030_0901.tiff     |     Wed Jan 17 08:59:37 2018', ' 20180117_OB_0030_0902.tiff     |     Wed Jan 17 09:00:12 2018', ' 20180117_OB_0030_0903.tiff     |     Wed Jan 17 09:03:59 2018', ' 20180117_OB_0030_0904.tiff     |     Wed Jan 17 09:04:34 2018', ' 20180117_OB_0030_0905.tiff     |     Wed Jan 17 09:05:09 2018', ' 20180117_OB_0030_0906.tiff     |     Wed Jan 17 09:05:44 2018', ' 20180117_OB_0030_0907.tiff     |     Wed Jan 17 09:06:19 2018', ' 20180117_OB_0030_0908.tiff     |     Wed Jan 17 09:06:54 2018', ' 20180117_OB_0030_0909.tiff     |     Wed Jan 17 09:07:29 2018', ' 20180117_OB_0030_0910.tiff     |     Wed Jan 17 09:08:04 2018', ' 20180117_OB_0030_0911.tiff     |     Wed Jan 17 09:08:39 2018', ' 20180117_OB_0030_0912.tiff     |     Wed Jan 17 09:09:14 2018'), value=()), HBox(children=(Button(description='Enter directory', layout=Layout(margin='5px 40px'), style=ButtonStyle()), Button(description='Select', layout=Layout(margin='5px 40px'), style=ButtonStyle())))), layout=Layout(border='1px solid lightgrey', margin='5px', padding='10px'))))"
      ]
     },
     "metadata": {},
     "output_type": "display_data"
    },
    {
     "data": {
      "application/vnd.jupyter.widget-view+json": {
       "model_id": "15fac772131b4d678a262c1a5ed669bb",
       "version_major": 2,
       "version_minor": 0
      },
      "text/html": [
       "<p>Failed to display Jupyter Widget of type <code>HTML</code>.</p>\n",
       "<p>\n",
       "  If you're reading this message in Jupyter Notebook or JupyterLab, it may mean\n",
       "  that the widgets JavaScript is still loading. If this message persists, it\n",
       "  likely means that the widgets JavaScript library is either not installed or\n",
       "  not enabled. See the <a href=\"https://ipywidgets.readthedocs.io/en/stable/user_install.html\">Jupyter\n",
       "  Widgets Documentation</a> for setup instructions.\n",
       "</p>\n",
       "<p>\n",
       "  If you're reading this message in another notebook frontend (for example, a static\n",
       "  rendering on GitHub or <a href=\"https://nbviewer.jupyter.org/\">NBViewer</a>),\n",
       "  it may mean that your frontend doesn't currently support widgets.\n",
       "</p>\n"
      ],
      "text/plain": [
       "HTML(value='Please wait...')"
      ]
     },
     "metadata": {},
     "output_type": "display_data"
    },
    {
     "data": {
      "application/vnd.jupyter.widget-view+json": {
       "model_id": "829d448bc5624a819e3e48bbea66e884",
       "version_major": 2,
       "version_minor": 0
      },
      "text/html": [
       "<p>Failed to display Jupyter Widget of type <code>VBox</code>.</p>\n",
       "<p>\n",
       "  If you're reading this message in Jupyter Notebook or JupyterLab, it may mean\n",
       "  that the widgets JavaScript is still loading. If this message persists, it\n",
       "  likely means that the widgets JavaScript library is either not installed or\n",
       "  not enabled. See the <a href=\"https://ipywidgets.readthedocs.io/en/stable/user_install.html\">Jupyter\n",
       "  Widgets Documentation</a> for setup instructions.\n",
       "</p>\n",
       "<p>\n",
       "  If you're reading this message in another notebook frontend (for example, a static\n",
       "  rendering on GitHub or <a href=\"https://nbviewer.jupyter.org/\">NBViewer</a>),\n",
       "  it may mean that your frontend doesn't currently support widgets.\n",
       "</p>\n"
      ],
      "text/plain": [
       "VBox(children=(HBox(children=(Label(value='Instructions:', layout=Layout(width='20%')), Label(value='Select list of Dark Field files (optional) ', layout=Layout(width='50%')))), HBox(children=(Label(value='Sample selected:', layout=Layout(width='20%')), Label(value='0 files selected', layout=Layout(width='50%'))))), layout=Layout(border='1px lightgray solid', margin='5px', padding='15px'))"
      ]
     },
     "metadata": {},
     "output_type": "display_data"
    },
    {
     "data": {
      "application/vnd.jupyter.widget-view+json": {
       "model_id": "e2c87623bb6645809d3c8c078488dcce",
       "version_major": 2,
       "version_minor": 0
      },
      "text/html": [
       "<p>Failed to display Jupyter Widget of type <code>HBox</code>.</p>\n",
       "<p>\n",
       "  If you're reading this message in Jupyter Notebook or JupyterLab, it may mean\n",
       "  that the widgets JavaScript is still loading. If this message persists, it\n",
       "  likely means that the widgets JavaScript library is either not installed or\n",
       "  not enabled. See the <a href=\"https://ipywidgets.readthedocs.io/en/stable/user_install.html\">Jupyter\n",
       "  Widgets Documentation</a> for setup instructions.\n",
       "</p>\n",
       "<p>\n",
       "  If you're reading this message in another notebook frontend (for example, a static\n",
       "  rendering on GitHub or <a href=\"https://nbviewer.jupyter.org/\">NBViewer</a>),\n",
       "  it may mean that your frontend doesn't currently support widgets.\n",
       "</p>\n"
      ],
      "text/plain": [
       "HBox(children=(Button(button_style='success', description='<< Previous Step', layout=Layout(width='20%'), style=ButtonStyle(), tooltip='Click to move to previous step'), Label(value='         ', layout=Layout(width='70%')), Button(button_style='success', description='Next Step>>', layout=Layout(width='20%'), style=ButtonStyle(), tooltip='Click to move to next step')))"
      ]
     },
     "metadata": {},
     "output_type": "display_data"
    },
    {
     "data": {
      "text/html": [
       "\n",
       "        <style type=\"text/css\">\n",
       "        .jupyter-widgets select option {font-family: \"Lucida Console\", Monaco, monospace;}\n",
       "        div.output_subarea {padding: 0px;}\n",
       "        div.output_subarea > div {margin: 0.4em;}\n",
       "        </style>\n",
       "        "
      ],
      "text/plain": [
       "<IPython.core.display.HTML object>"
      ]
     },
     "metadata": {},
     "output_type": "display_data"
    },
    {
     "data": {
      "application/vnd.jupyter.widget-view+json": {
       "model_id": "9d764a87a22c4970897971f807eb382b",
       "version_major": 2,
       "version_minor": 0
      },
      "text/html": [
       "<p>Failed to display Jupyter Widget of type <code>VBox</code>.</p>\n",
       "<p>\n",
       "  If you're reading this message in Jupyter Notebook or JupyterLab, it may mean\n",
       "  that the widgets JavaScript is still loading. If this message persists, it\n",
       "  likely means that the widgets JavaScript library is either not installed or\n",
       "  not enabled. See the <a href=\"https://ipywidgets.readthedocs.io/en/stable/user_install.html\">Jupyter\n",
       "  Widgets Documentation</a> for setup instructions.\n",
       "</p>\n",
       "<p>\n",
       "  If you're reading this message in another notebook frontend (for example, a static\n",
       "  rendering on GitHub or <a href=\"https://nbviewer.jupyter.org/\">NBViewer</a>),\n",
       "  it may mean that your frontend doesn't currently support widgets.\n",
       "</p>\n"
      ],
      "text/plain": [
       "VBox(children=(Label(value='', layout=Layout(width='250px')), HBox(children=(HBox(children=(Text(value='/Volumes/my_book_thunderbolt_duo/IPTS/IPTS_18813', description='Location: ', layout=Layout(width='300px'), placeholder=''), Button(description='Jump', layout=Layout(margin='5px 10px', width='100px'), style=ButtonStyle())), layout=Layout(border='1px solid lightgrey', margin='5px 50px 5px 5px', padding='3px')),)), VBox(children=(SelectMultiple(description='Select', layout=Layout(display='flex', flex_flow='column', width='750px'), options=(' .', ' ..', ' .DS_Store                              |     Tue Jan 30 16:04:04 2018', ' DF                                     |     Directory', ' OB                                     |     Directory', ' Sample2_Ethane                         |     Directory', ' Sample3_Methane                        |     Directory', ' Sample_2                               |     Directory', ' Sample_2_light                         |     Directory', ' Sample_2_light_timestamp_infos.txt     |     Wed Jan 31 11:57:35 2018'), value=()), HBox(children=(Button(description='Enter directory', layout=Layout(margin='5px 40px'), style=ButtonStyle()), Button(description='Select', layout=Layout(margin='5px 40px'), style=ButtonStyle())))), layout=Layout(border='1px solid lightgrey', margin='5px', padding='10px'))))"
      ]
     },
     "metadata": {},
     "output_type": "display_data"
    },
    {
     "data": {
      "application/vnd.jupyter.widget-view+json": {
       "model_id": "26ee5c496fe24166872b7b52a0b00153",
       "version_major": 2,
       "version_minor": 0
      },
      "text/html": [
       "<p>Failed to display Jupyter Widget of type <code>HTML</code>.</p>\n",
       "<p>\n",
       "  If you're reading this message in Jupyter Notebook or JupyterLab, it may mean\n",
       "  that the widgets JavaScript is still loading. If this message persists, it\n",
       "  likely means that the widgets JavaScript library is either not installed or\n",
       "  not enabled. See the <a href=\"https://ipywidgets.readthedocs.io/en/stable/user_install.html\">Jupyter\n",
       "  Widgets Documentation</a> for setup instructions.\n",
       "</p>\n",
       "<p>\n",
       "  If you're reading this message in another notebook frontend (for example, a static\n",
       "  rendering on GitHub or <a href=\"https://nbviewer.jupyter.org/\">NBViewer</a>),\n",
       "  it may mean that your frontend doesn't currently support widgets.\n",
       "</p>\n"
      ],
      "text/plain": [
       "HTML(value='Please wait...')"
      ]
     },
     "metadata": {},
     "output_type": "display_data"
    },
    {
     "data": {
      "text/html": [
       "\n",
       "        <style type=\"text/css\">\n",
       "        .jupyter-widgets select option {font-family: \"Lucida Console\", Monaco, monospace;}\n",
       "        div.output_subarea {padding: 0px;}\n",
       "        div.output_subarea > div {margin: 0.4em;}\n",
       "        </style>\n",
       "        "
      ],
      "text/plain": [
       "<IPython.core.display.HTML object>"
      ]
     },
     "metadata": {},
     "output_type": "display_data"
    },
    {
     "data": {
      "application/vnd.jupyter.widget-view+json": {
       "model_id": "9af1677e51c34661af9a9953fb4ac2bd",
       "version_major": 2,
       "version_minor": 0
      },
      "text/html": [
       "<p>Failed to display Jupyter Widget of type <code>VBox</code>.</p>\n",
       "<p>\n",
       "  If you're reading this message in Jupyter Notebook or JupyterLab, it may mean\n",
       "  that the widgets JavaScript is still loading. If this message persists, it\n",
       "  likely means that the widgets JavaScript library is either not installed or\n",
       "  not enabled. See the <a href=\"https://ipywidgets.readthedocs.io/en/stable/user_install.html\">Jupyter\n",
       "  Widgets Documentation</a> for setup instructions.\n",
       "</p>\n",
       "<p>\n",
       "  If you're reading this message in another notebook frontend (for example, a static\n",
       "  rendering on GitHub or <a href=\"https://nbviewer.jupyter.org/\">NBViewer</a>),\n",
       "  it may mean that your frontend doesn't currently support widgets.\n",
       "</p>\n"
      ],
      "text/plain": [
       "VBox(children=(Label(value='', layout=Layout(width='250px')), HBox(children=(HBox(children=(Text(value='/Volumes/my_book_thunderbolt_duo/IPTS/IPTS_18813/DF', description='Location: ', layout=Layout(width='300px'), placeholder=''), Button(description='Jump', layout=Layout(margin='5px 10px', width='100px'), style=ButtonStyle())), layout=Layout(border='1px solid lightgrey', margin='5px 50px 5px 5px', padding='3px')),)), VBox(children=(SelectMultiple(description='Select', layout=Layout(display='flex', flex_flow='column', width='750px'), options=(' .', ' ..', ' 20180117_DF_0030_0913.tiff     |     Wed Jan 17 09:12:11 2018', ' 20180117_DF_0030_0914.tiff     |     Wed Jan 17 09:12:46 2018', ' 20180117_DF_0030_0915.tiff     |     Wed Jan 17 09:13:21 2018', ' 20180117_DF_0030_0916.tiff     |     Wed Jan 17 09:13:56 2018', ' 20180117_DF_0030_0917.tiff     |     Wed Jan 17 09:14:31 2018', ' 20180117_DF_0030_0918.tiff     |     Wed Jan 17 09:15:06 2018', ' 20180117_DF_0030_0919.tiff     |     Wed Jan 17 09:15:41 2018', ' 20180117_DF_0030_0920.tiff     |     Wed Jan 17 09:16:15 2018', ' 20180117_DF_0030_0921.tiff     |     Wed Jan 17 09:16:50 2018', ' 20180117_DF_0030_0922.tiff     |     Wed Jan 17 09:17:25 2018'), value=()), HBox(children=(Button(description='Enter directory', layout=Layout(margin='5px 40px'), style=ButtonStyle()), Button(description='Select', layout=Layout(margin='5px 40px'), style=ButtonStyle())))), layout=Layout(border='1px solid lightgrey', margin='5px', padding='10px'))))"
      ]
     },
     "metadata": {},
     "output_type": "display_data"
    },
    {
     "data": {
      "application/vnd.jupyter.widget-view+json": {
       "model_id": "6263dc08abfd40b6b5ddc59c6b4fbea1",
       "version_major": 2,
       "version_minor": 0
      },
      "text/html": [
       "<p>Failed to display Jupyter Widget of type <code>HBox</code>.</p>\n",
       "<p>\n",
       "  If you're reading this message in Jupyter Notebook or JupyterLab, it may mean\n",
       "  that the widgets JavaScript is still loading. If this message persists, it\n",
       "  likely means that the widgets JavaScript library is either not installed or\n",
       "  not enabled. See the <a href=\"https://ipywidgets.readthedocs.io/en/stable/user_install.html\">Jupyter\n",
       "  Widgets Documentation</a> for setup instructions.\n",
       "</p>\n",
       "<p>\n",
       "  If you're reading this message in another notebook frontend (for example, a static\n",
       "  rendering on GitHub or <a href=\"https://nbviewer.jupyter.org/\">NBViewer</a>),\n",
       "  it may mean that your frontend doesn't currently support widgets.\n",
       "</p>\n"
      ],
      "text/plain": [
       "HBox(children=(Label(value='Loading sample', layout=Layout(width='20%')), IntProgress(value=0, max=5)))"
      ]
     },
     "metadata": {},
     "output_type": "display_data"
    },
    {
     "data": {
      "application/vnd.jupyter.widget-view+json": {
       "model_id": "36f259f823b44d06bbdf67f23ec65246",
       "version_major": 2,
       "version_minor": 0
      },
      "text/html": [
       "<p>Failed to display Jupyter Widget of type <code>HBox</code>.</p>\n",
       "<p>\n",
       "  If you're reading this message in Jupyter Notebook or JupyterLab, it may mean\n",
       "  that the widgets JavaScript is still loading. If this message persists, it\n",
       "  likely means that the widgets JavaScript library is either not installed or\n",
       "  not enabled. See the <a href=\"https://ipywidgets.readthedocs.io/en/stable/user_install.html\">Jupyter\n",
       "  Widgets Documentation</a> for setup instructions.\n",
       "</p>\n",
       "<p>\n",
       "  If you're reading this message in another notebook frontend (for example, a static\n",
       "  rendering on GitHub or <a href=\"https://nbviewer.jupyter.org/\">NBViewer</a>),\n",
       "  it may mean that your frontend doesn't currently support widgets.\n",
       "</p>\n"
      ],
      "text/plain": [
       "HBox(children=(Label(value='Loading ob', layout=Layout(width='20%')), IntProgress(value=0, max=5)))"
      ]
     },
     "metadata": {},
     "output_type": "display_data"
    },
    {
     "data": {
      "application/vnd.jupyter.widget-view+json": {
       "model_id": "ba7b5a7997f141e38e1dc11100ea0624",
       "version_major": 2,
       "version_minor": 0
      },
      "text/html": [
       "<p>Failed to display Jupyter Widget of type <code>HBox</code>.</p>\n",
       "<p>\n",
       "  If you're reading this message in Jupyter Notebook or JupyterLab, it may mean\n",
       "  that the widgets JavaScript is still loading. If this message persists, it\n",
       "  likely means that the widgets JavaScript library is either not installed or\n",
       "  not enabled. See the <a href=\"https://ipywidgets.readthedocs.io/en/stable/user_install.html\">Jupyter\n",
       "  Widgets Documentation</a> for setup instructions.\n",
       "</p>\n",
       "<p>\n",
       "  If you're reading this message in another notebook frontend (for example, a static\n",
       "  rendering on GitHub or <a href=\"https://nbviewer.jupyter.org/\">NBViewer</a>),\n",
       "  it may mean that your frontend doesn't currently support widgets.\n",
       "</p>\n"
      ],
      "text/plain": [
       "HBox(children=(Label(value='Loading df', layout=Layout(width='20%')), IntProgress(value=0, max=2)))"
      ]
     },
     "metadata": {},
     "output_type": "display_data"
    }
   ],
   "source": [
    "files = Files()\n",
    "sample_panel = SampleSelectionPanel(working_dir=system.System.get_working_dir())\n",
    "sample_panel.init_ui(files=files)\n",
    "wizard = WizardPanel(sample_panel=sample_panel)"
   ]
  },
  {
   "cell_type": "markdown",
   "metadata": {
    "run_control": {
     "frozen": false,
     "read_only": false
    }
   },
   "source": [
    "# Preview Data"
   ]
  },
  {
   "cell_type": "markdown",
   "metadata": {
    "run_control": {
     "frozen": false,
     "read_only": false
    }
   },
   "source": [
    "## sample"
   ]
  },
  {
   "cell_type": "code",
   "execution_count": 18,
   "metadata": {
    "run_control": {
     "frozen": false,
     "read_only": false
    }
   },
   "outputs": [
    {
     "data": {
      "application/vnd.jupyter.widget-view+json": {
       "model_id": "cb870f1c4fff4cdf9d6eb54a5420a342",
       "version_major": 2,
       "version_minor": 0
      },
      "text/html": [
       "<p>Failed to display Jupyter Widget of type <code>interactive</code>.</p>\n",
       "<p>\n",
       "  If you're reading this message in Jupyter Notebook or JupyterLab, it may mean\n",
       "  that the widgets JavaScript is still loading. If this message persists, it\n",
       "  likely means that the widgets JavaScript library is either not installed or\n",
       "  not enabled. See the <a href=\"https://ipywidgets.readthedocs.io/en/stable/user_install.html\">Jupyter\n",
       "  Widgets Documentation</a> for setup instructions.\n",
       "</p>\n",
       "<p>\n",
       "  If you're reading this message in another notebook frontend (for example, a static\n",
       "  rendering on GitHub or <a href=\"https://nbviewer.jupyter.org/\">NBViewer</a>),\n",
       "  it may mean that your frontend doesn't currently support widgets.\n",
       "</p>\n"
      ],
      "text/plain": [
       "interactive(children=(IntSlider(value=0, continuous_update=False, description='sample Index', max=4), Output()), _dom_classes=('widget-interact',))"
      ]
     },
     "metadata": {},
     "output_type": "display_data"
    }
   ],
   "source": [
    "o_norm = sample_panel.o_norm\n",
    "o_norm.plot_images(data_type='sample')"
   ]
  },
  {
   "cell_type": "markdown",
   "metadata": {
    "run_control": {
     "frozen": false,
     "read_only": false
    }
   },
   "source": [
    "## ob"
   ]
  },
  {
   "cell_type": "code",
   "execution_count": 19,
   "metadata": {
    "run_control": {
     "frozen": false,
     "read_only": false
    }
   },
   "outputs": [
    {
     "data": {
      "application/vnd.jupyter.widget-view+json": {
       "model_id": "7c97522b128144e9a62a58faf0a5f8fa",
       "version_major": 2,
       "version_minor": 0
      },
      "text/html": [
       "<p>Failed to display Jupyter Widget of type <code>interactive</code>.</p>\n",
       "<p>\n",
       "  If you're reading this message in Jupyter Notebook or JupyterLab, it may mean\n",
       "  that the widgets JavaScript is still loading. If this message persists, it\n",
       "  likely means that the widgets JavaScript library is either not installed or\n",
       "  not enabled. See the <a href=\"https://ipywidgets.readthedocs.io/en/stable/user_install.html\">Jupyter\n",
       "  Widgets Documentation</a> for setup instructions.\n",
       "</p>\n",
       "<p>\n",
       "  If you're reading this message in another notebook frontend (for example, a static\n",
       "  rendering on GitHub or <a href=\"https://nbviewer.jupyter.org/\">NBViewer</a>),\n",
       "  it may mean that your frontend doesn't currently support widgets.\n",
       "</p>\n"
      ],
      "text/plain": [
       "interactive(children=(IntSlider(value=0, continuous_update=False, description='ob Index', max=4), Output()), _dom_classes=('widget-interact',))"
      ]
     },
     "metadata": {},
     "output_type": "display_data"
    }
   ],
   "source": [
    "o_norm.plot_images(data_type='ob')"
   ]
  },
  {
   "cell_type": "markdown",
   "metadata": {
    "run_control": {
     "frozen": false,
     "read_only": false
    }
   },
   "source": [
    "# Select Background Region "
   ]
  },
  {
   "cell_type": "code",
   "execution_count": 20,
   "metadata": {
    "run_control": {
     "frozen": false,
     "read_only": false
    }
   },
   "outputs": [
    {
     "data": {
      "text/html": [
       "<span style=\"font-size: 20px; color:blue\">Check UI that poped up             (maybe hidden behind this browser!)</span>"
      ],
      "text/plain": [
       "<IPython.core.display.HTML object>"
      ]
     },
     "metadata": {},
     "output_type": "display_data"
    },
    {
     "name": "stdout",
     "output_type": "stream",
     "text": [
      "Leaving Parameters Selection UI\n"
     ]
    }
   ],
   "source": [
    "o_gui = Interface(o_norm=o_norm.o_norm)\n",
    "o_gui.show()"
   ]
  },
  {
   "cell_type": "markdown",
   "metadata": {
    "run_control": {
     "frozen": false,
     "read_only": false
    }
   },
   "source": [
    "# Recap. "
   ]
  },
  {
   "cell_type": "code",
   "execution_count": 21,
   "metadata": {
    "run_control": {
     "frozen": false,
     "read_only": false
    }
   },
   "outputs": [
    {
     "data": {
      "text/html": [
       "<table><tr><td width=\"30%\"><strong>Type</strong></td><td><strong>Number</strong></td><td><strong>Size (height*width)</strong></td></tr><tr><td>sample</td><td>5</td><td>2048*2048</td></tr><tr><td>ob</td><td>5</td><td>2048*2048</td></tr><tr><td>df</td><td>2</td><td>2048*2048</td></tr></table>"
      ],
      "text/plain": [
       "<IPython.core.display.HTML object>"
      ]
     },
     "metadata": {},
     "output_type": "display_data"
    }
   ],
   "source": [
    "o_gui.recap()"
   ]
  },
  {
   "cell_type": "markdown",
   "metadata": {
    "run_control": {
     "frozen": false,
     "read_only": false
    }
   },
   "source": [
    "# Normalization"
   ]
  },
  {
   "cell_type": "code",
   "execution_count": 22,
   "metadata": {
    "run_control": {
     "frozen": false,
     "read_only": false
    }
   },
   "outputs": [
    {
     "data": {
      "application/vnd.jupyter.widget-view+json": {
       "model_id": "cb2e5214423947679d4636ca2aa8a655",
       "version_major": 2,
       "version_minor": 0
      },
      "text/html": [
       "<p>Failed to display Jupyter Widget of type <code>HBox</code>.</p>\n",
       "<p>\n",
       "  If you're reading this message in Jupyter Notebook or JupyterLab, it may mean\n",
       "  that the widgets JavaScript is still loading. If this message persists, it\n",
       "  likely means that the widgets JavaScript library is either not installed or\n",
       "  not enabled. See the <a href=\"https://ipywidgets.readthedocs.io/en/stable/user_install.html\">Jupyter\n",
       "  Widgets Documentation</a> for setup instructions.\n",
       "</p>\n",
       "<p>\n",
       "  If you're reading this message in another notebook frontend (for example, a static\n",
       "  rendering on GitHub or <a href=\"https://nbviewer.jupyter.org/\">NBViewer</a>),\n",
       "  it may mean that your frontend doesn't currently support widgets.\n",
       "</p>\n"
      ],
      "text/plain": [
       "HBox(children=(Label(value='Normalization', layout=Layout(width='20%')), IntProgress(value=0, max=5)))"
      ]
     },
     "metadata": {},
     "output_type": "display_data"
    }
   ],
   "source": [
    "o_norm.run_normalization(dict_roi=o_gui.roi_selected)"
   ]
  },
  {
   "cell_type": "markdown",
   "metadata": {
    "run_control": {
     "frozen": false,
     "read_only": false
    }
   },
   "source": [
    "# Export "
   ]
  },
  {
   "cell_type": "code",
   "execution_count": 23,
   "metadata": {
    "run_control": {
     "frozen": false,
     "read_only": false
    }
   },
   "outputs": [
    {
     "data": {
      "application/vnd.jupyter.widget-view+json": {
       "model_id": "ca5871ed9a6e45c6ae13ded6cf9e12f1",
       "version_major": 2,
       "version_minor": 0
      },
      "text/html": [
       "<p>Failed to display Jupyter Widget of type <code>HTML</code>.</p>\n",
       "<p>\n",
       "  If you're reading this message in Jupyter Notebook or JupyterLab, it may mean\n",
       "  that the widgets JavaScript is still loading. If this message persists, it\n",
       "  likely means that the widgets JavaScript library is either not installed or\n",
       "  not enabled. See the <a href=\"https://ipywidgets.readthedocs.io/en/stable/user_install.html\">Jupyter\n",
       "  Widgets Documentation</a> for setup instructions.\n",
       "</p>\n",
       "<p>\n",
       "  If you're reading this message in another notebook frontend (for example, a static\n",
       "  rendering on GitHub or <a href=\"https://nbviewer.jupyter.org/\">NBViewer</a>),\n",
       "  it may mean that your frontend doesn't currently support widgets.\n",
       "</p>\n"
      ],
      "text/plain": [
       "HTML(value='Please wait...')"
      ]
     },
     "metadata": {},
     "output_type": "display_data"
    },
    {
     "data": {
      "text/html": [
       "\n",
       "        <style type=\"text/css\">\n",
       "        .jupyter-widgets select option {font-family: \"Lucida Console\", Monaco, monospace;}\n",
       "        div.output_subarea {padding: 0px;}\n",
       "        div.output_subarea > div {margin: 0.4em;}\n",
       "        </style>\n",
       "        "
      ],
      "text/plain": [
       "<IPython.core.display.HTML object>"
      ]
     },
     "metadata": {},
     "output_type": "display_data"
    },
    {
     "data": {
      "application/vnd.jupyter.widget-view+json": {
       "model_id": "6e6a5b581bc24cefbf90373c676f9a08",
       "version_major": 2,
       "version_minor": 0
      },
      "text/html": [
       "<p>Failed to display Jupyter Widget of type <code>VBox</code>.</p>\n",
       "<p>\n",
       "  If you're reading this message in Jupyter Notebook or JupyterLab, it may mean\n",
       "  that the widgets JavaScript is still loading. If this message persists, it\n",
       "  likely means that the widgets JavaScript library is either not installed or\n",
       "  not enabled. See the <a href=\"https://ipywidgets.readthedocs.io/en/stable/user_install.html\">Jupyter\n",
       "  Widgets Documentation</a> for setup instructions.\n",
       "</p>\n",
       "<p>\n",
       "  If you're reading this message in another notebook frontend (for example, a static\n",
       "  rendering on GitHub or <a href=\"https://nbviewer.jupyter.org/\">NBViewer</a>),\n",
       "  it may mean that your frontend doesn't currently support widgets.\n",
       "</p>\n"
      ],
      "text/plain": [
       "VBox(children=(Label(value='Select Output Folder', layout=Layout(width='250px')), HBox(children=(HBox(children=(Text(value='/Volumes/my_book_thunderbolt_duo/IPTS/IPTS_18813', description='Location: ', layout=Layout(width='300px'), placeholder=''), Button(description='Jump', layout=Layout(margin='5px 10px', width='100px'), style=ButtonStyle())), layout=Layout(border='1px solid lightgrey', margin='5px 50px 5px 5px', padding='3px')),)), VBox(children=(Select(description='Select', layout=Layout(width='750px'), options=(' .', ' ..', ' .DS_Store                              |     Tue Jan 30 16:04:04 2018', ' DF                                     |     Directory', ' OB                                     |     Directory', ' Sample2_Ethane                         |     Directory', ' Sample3_Methane                        |     Directory', ' Sample_2                               |     Directory', ' Sample_2_light                         |     Directory', ' Sample_2_light_timestamp_infos.txt     |     Wed Jan 31 11:57:35 2018'), value=' .'), HBox(children=(Button(description='Enter directory', layout=Layout(margin='5px 40px'), style=ButtonStyle()), Button(description='Select', layout=Layout(margin='5px 40px'), style=ButtonStyle())))), layout=Layout(border='1px solid lightgrey', margin='5px', padding='10px'))))"
      ]
     },
     "metadata": {},
     "output_type": "display_data"
    }
   ],
   "source": [
    "o_norm.select_export_folder()"
   ]
  },
  {
   "cell_type": "code",
   "execution_count": 24,
   "metadata": {
    "run_control": {
     "frozen": false,
     "read_only": false
    }
   },
   "outputs": [
    {
     "data": {
      "application/vnd.jupyter.widget-view+json": {
       "model_id": "82779042ee734ff690a0faa2e82892b3",
       "version_major": 2,
       "version_minor": 0
      },
      "text/html": [
       "<p>Failed to display Jupyter Widget of type <code>IntProgress</code>.</p>\n",
       "<p>\n",
       "  If you're reading this message in Jupyter Notebook or JupyterLab, it may mean\n",
       "  that the widgets JavaScript is still loading. If this message persists, it\n",
       "  likely means that the widgets JavaScript library is either not installed or\n",
       "  not enabled. See the <a href=\"https://ipywidgets.readthedocs.io/en/stable/user_install.html\">Jupyter\n",
       "  Widgets Documentation</a> for setup instructions.\n",
       "</p>\n",
       "<p>\n",
       "  If you're reading this message in another notebook frontend (for example, a static\n",
       "  rendering on GitHub or <a href=\"https://nbviewer.jupyter.org/\">NBViewer</a>),\n",
       "  it may mean that your frontend doesn't currently support widgets.\n",
       "</p>\n"
      ],
      "text/plain": [
       "IntProgress(value=0, max=5)"
      ]
     },
     "metadata": {},
     "output_type": "display_data"
    },
    {
     "data": {
      "text/html": [
       "<span style=\"font-size: 20px; color:blue\">The normalized images have been created in /Volumes/my_book_thunderbolt_duo/IPTS/IPTS_18813/Sample2_Ethane_normalized</span>"
      ],
      "text/plain": [
       "<IPython.core.display.HTML object>"
      ]
     },
     "metadata": {},
     "output_type": "display_data"
    }
   ],
   "source": [
    "o_norm.export()"
   ]
  },
  {
   "cell_type": "code",
   "execution_count": null,
   "metadata": {
    "run_control": {
     "frozen": false,
     "read_only": false
    }
   },
   "outputs": [],
   "source": []
  }
 ],
 "metadata": {
  "anaconda-cloud": {},
  "kernelspec": {
   "display_name": "Python 3",
   "language": "python",
   "name": "python3"
  },
  "language_info": {
   "codemirror_mode": {
    "name": "ipython",
    "version": 3
   },
   "file_extension": ".py",
   "mimetype": "text/x-python",
   "name": "python",
   "nbconvert_exporter": "python",
   "pygments_lexer": "ipython3",
   "version": "3.6.2"
  },
  "toc": {
   "colors": {
    "hover_highlight": "#DAA520",
    "running_highlight": "#FF0000",
    "selected_highlight": "#FFD700"
   },
   "moveMenuLeft": true,
   "nav_menu": {
    "height": "101px",
    "width": "252px"
   },
   "navigate_menu": true,
   "number_sections": true,
   "sideBar": true,
   "threshold": 4,
   "toc_cell": false,
   "toc_section_display": "block",
   "toc_window_display": false
  }
 },
 "nbformat": 4,
 "nbformat_minor": 1
}
