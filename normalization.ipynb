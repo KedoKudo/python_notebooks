{
 "cells": [
  {
   "cell_type": "code",
   "execution_count": 54,
   "metadata": {
    "run_control": {
     "frozen": false,
     "read_only": false
    }
   },
   "outputs": [],
   "source": [
    "debugging = False"
   ]
  },
  {
   "cell_type": "markdown",
   "metadata": {
    "run_control": {
     "frozen": false,
     "read_only": false
    }
   },
   "source": [
    "# Description "
   ]
  },
  {
   "cell_type": "markdown",
   "metadata": {
    "run_control": {
     "frozen": false,
     "read_only": false
    }
   },
   "source": [
    "# Python Import"
   ]
  },
  {
   "cell_type": "code",
   "execution_count": 55,
   "metadata": {
    "run_control": {
     "frozen": false,
     "read_only": false
    }
   },
   "outputs": [],
   "source": [
    "from __code.__all import custom_style\n",
    "custom_style.style()\n",
    "\n",
    "import matplotlib.patches as patches\n",
    "%matplotlib notebook"
   ]
  },
  {
   "cell_type": "code",
   "execution_count": 56,
   "metadata": {
    "run_control": {
     "frozen": false,
     "read_only": false
    }
   },
   "outputs": [],
   "source": [
    "%gui qt"
   ]
  },
  {
   "cell_type": "code",
   "execution_count": 57,
   "metadata": {
    "run_control": {
     "frozen": false,
     "read_only": false
    }
   },
   "outputs": [],
   "source": [
    "import NeuNorm\n",
    "from NeuNorm.normalization import Normalization\n",
    "from NeuNorm.roi import ROI\n",
    "from __code.normalization import utilities, gui_widgets, file_handler\n",
    "\n",
    "from ipywidgets.widgets import interact\n",
    "from ipywidgets import widgets\n",
    "from IPython.core.display import display, HTML\n",
    "\n",
    "ipts = utilities.get_ipts()\n",
    "working_dir = utilities.get_working_dir(ipts=ipts)\n",
    "if debugging:\n",
    "    working_dir = '/Volumes/my_book_thunderbolt_duo/IPTS/IPTS_17099'"
   ]
  },
  {
   "cell_type": "markdown",
   "metadata": {
    "run_control": {
     "frozen": false,
     "read_only": false
    }
   },
   "source": [
    "# Select Sample Images "
   ]
  },
  {
   "cell_type": "code",
   "execution_count": 75,
   "metadata": {
    "run_control": {
     "frozen": false,
     "read_only": false
    }
   },
   "outputs": [],
   "source": [
    "list_images = gui_widgets.gui_fimage(dir=working_dir, message='Select samples images')"
   ]
  },
  {
   "cell_type": "markdown",
   "metadata": {
    "run_control": {
     "frozen": false,
     "read_only": false
    }
   },
   "source": [
    "# Select OB "
   ]
  },
  {
   "cell_type": "code",
   "execution_count": 76,
   "metadata": {
    "run_control": {
     "frozen": false,
     "read_only": false
    }
   },
   "outputs": [],
   "source": [
    "list_obs = gui_widgets.gui_fimage(dir=working_dir, message='Select OBs')"
   ]
  },
  {
   "cell_type": "markdown",
   "metadata": {
    "run_control": {
     "frozen": false,
     "read_only": false
    }
   },
   "source": [
    "# Loding data "
   ]
  },
  {
   "cell_type": "code",
   "execution_count": 78,
   "metadata": {
    "run_control": {
     "frozen": false,
     "read_only": false
    }
   },
   "outputs": [
    {
     "data": {
      "application/vnd.jupyter.widget-view+json": {
       "model_id": "fee5022f347a4693bed68a76630d1810"
      }
     },
     "metadata": {},
     "output_type": "display_data"
    },
    {
     "data": {
      "application/vnd.jupyter.widget-view+json": {
       "model_id": "8d50c42f853040309b1f3812440ab0b6"
      }
     },
     "metadata": {},
     "output_type": "display_data"
    }
   ],
   "source": [
    "box1 = widgets.HBox([widgets.Label(\"Loading Sample Progress:\",\n",
    "                                      layout=widgets.Layout(width='20%')),\n",
    "                        widgets.IntProgress(max=len(list_images))])\n",
    "display(box1)\n",
    "w1 = box1.children[1]\n",
    "    \n",
    "box2 = widgets.HBox([widgets.Label(\"Loading OB Progress:\",\n",
    "                                      layout=widgets.Layout(width='20%')),\n",
    "                        widgets.IntProgress(max=len(list_obs))])\n",
    "display(box2)\n",
    "w2 = box2.children[1] \n",
    "\n",
    "sample_array = []\n",
    "for _index1, _file in enumerate(list_images):\n",
    "    _data = file_handler.load_data(_file)\n",
    "    sample_array.append(_data)\n",
    "    w1.value = _index1 + 1\n",
    "\n",
    "ob_array = []\n",
    "for _index2, _file in enumerate(list_obs):\n",
    "    _data = file_handler.load_data(_file)\n",
    "    ob_array.append(_data)\n",
    "    w2.value = _index2 + 1\n",
    "\n",
    "    "
   ]
  },
  {
   "cell_type": "markdown",
   "metadata": {
    "collapsed": true,
    "run_control": {
     "frozen": false,
     "read_only": false
    }
   },
   "source": [
    "# Preview Data"
   ]
  },
  {
   "cell_type": "code",
   "execution_count": 79,
   "metadata": {
    "run_control": {
     "frozen": false,
     "read_only": false
    }
   },
   "outputs": [
    {
     "data": {
      "application/vnd.jupyter.widget-view+json": {
       "model_id": "df274853d0d6419e8ffa985fc4b9533e"
      }
     },
     "metadata": {},
     "output_type": "display_data"
    }
   ],
   "source": [
    "def plot_images(index):\n",
    "    fig = plt.figure(figsize=(10,10))\n",
    "    ax_img = plt.subplot(111)\n",
    "    ax_img.imshow(sample_array[index], cmap='viridis')\n",
    "    \n",
    "preview = interact(plot_images,\n",
    "                  index = widgets.IntSlider(min=0, \n",
    "                                             max=len(list_images)-1,\n",
    "                                                step=1,\n",
    "                                                value=0,\n",
    "                                                description='Image Index',\n",
    "                                           continuous_update=False))"
   ]
  },
  {
   "cell_type": "code",
   "execution_count": 82,
   "metadata": {
    "run_control": {
     "frozen": false,
     "read_only": false
    }
   },
   "outputs": [
    {
     "data": {
      "application/vnd.jupyter.widget-view+json": {
       "model_id": "77f1c75f75324658ae93be63be9881bc"
      }
     },
     "metadata": {},
     "output_type": "display_data"
    }
   ],
   "source": [
    "def plot_obs(index):\n",
    "    fig = plt.figure(figsize=(10,10))\n",
    "    ax_img = plt.subplot(111)\n",
    "    ax_img.imshow(ob_array[index], cmap='viridis')\n",
    "    \n",
    "preview = interact(plot_obs,\n",
    "                  index = widgets.IntSlider(min=0, \n",
    "                                             max=len(list_obs)-1,\n",
    "                                                step=1,\n",
    "                                                value=0,\n",
    "                                                description='Image Index',\n",
    "                                           continuous_update=False))"
   ]
  },
  {
   "cell_type": "markdown",
   "metadata": {
    "run_control": {
     "frozen": false,
     "read_only": false
    }
   },
   "source": [
    "# Select Background Region "
   ]
  },
  {
   "cell_type": "code",
   "execution_count": 84,
   "metadata": {
    "run_control": {
     "frozen": false,
     "read_only": false
    }
   },
   "outputs": [
    {
     "data": {
      "application/vnd.jupyter.widget-view+json": {
       "model_id": "9e14a112810e422b8c8a39208740ec80"
      }
     },
     "metadata": {},
     "output_type": "display_data"
    }
   ],
   "source": [
    "[height, width] = np.shape(sample_array[0])\n",
    "\n",
    "def plot_roi(image_index, x_left, y_top, width, height):\n",
    "    \n",
    "    fig = plt.figure(figsize=(10,10))\n",
    "    ax_img = plt.subplot(111)\n",
    "    ax_img.imshow(sample_array[image_index],\n",
    "                 cmap='viridis')\n",
    "    \n",
    "    _rectangle = patches.Rectangle((x_left, y_top),\n",
    "                                  width,\n",
    "                                  height,\n",
    "                                  edgecolor = 'white',\n",
    "                                  linewidth = 2,\n",
    "                                  fill = False)\n",
    "    ax_img.add_patch(_rectangle)\n",
    "    \n",
    "    return [x_left, y_top, width, height]\n",
    "    \n",
    "preview_bragg_edge = interact(plot_roi,\n",
    "                image_index = widgets.IntSlider(min=0,\n",
    "                                               max=len(list_images)-1,\n",
    "                                               value=0,\n",
    "                                               description='Image index:',\n",
    "                                               continuous_update=False), \n",
    "                  x_left = widgets.IntSlider(min=0,\n",
    "                                            max=width,\n",
    "                                            step=1,\n",
    "                                            value=8,\n",
    "                                            description='X Left',\n",
    "                                            continuous_update=False),\n",
    "                  y_top = widgets.IntSlider(min=0,\n",
    "                                           max=height,\n",
    "                                           value=13,\n",
    "                                           step=1,\n",
    "                                           description='Y Top',\n",
    "                                           continuous_update=False),\n",
    "                  width = widgets.IntSlider(min=0,\n",
    "                                           max=width,\n",
    "                                           step=1,\n",
    "                                           value=60,\n",
    "                                           description=\"Width\",\n",
    "                                           continuous_update=False),\n",
    "                  height = widgets.IntSlider(min=0,\n",
    "                                            max=height,\n",
    "                                            step=1,\n",
    "                                            value=100,\n",
    "                                            description='Height',\n",
    "                                            continuous_update=False))"
   ]
  },
  {
   "cell_type": "markdown",
   "metadata": {
    "run_control": {
     "frozen": false,
     "read_only": false
    }
   },
   "source": [
    "# Normalization"
   ]
  },
  {
   "cell_type": "code",
   "execution_count": 88,
   "metadata": {},
   "outputs": [
    {
     "data": {
      "application/vnd.jupyter.widget-view+json": {
       "model_id": "187defe03b134d7ca58cd080c32f06d7"
      }
     },
     "metadata": {},
     "output_type": "display_data"
    }
   ],
   "source": [
    "[x_left, y_top, width_roi, height_roi] = preview_bragg_edge.widget.result\n",
    "\n",
    "ob_mean = np.array(ob_array).mean(axis=0)\n",
    "ob_cropped = ob_mean[y_top:y_top+height, x_left:x_left+width]\n",
    "ob_cropped_mean = ob_cropped.mean()\n",
    "\n",
    "#import images\n",
    "w = widgets.IntProgress()\n",
    "w.max = len(list_images)\n",
    "display(w)\n",
    "\n",
    "_index = 0\n",
    "#normalized_data_array = []\n",
    "#final_list_of_temperature_for_each_bin = []\n",
    "\n",
    "normalized_data_array = []\n",
    "for _index, _data in enumerate(sample_array):\n",
    "    \n",
    "    data_cropped = _data[y_top:y_top+height_roi, x_left:x_left+width_roi]\n",
    "    coeff = data_cropped.mean() / ob_cropped_mean\n",
    "\n",
    "    _normalized = _data / ob_mean\n",
    "    _normalized /= coeff\n",
    "    \n",
    "    normalized_data_array.append(_normalized)\n",
    "    \n",
    "    w.value = _index+1"
   ]
  },
  {
   "cell_type": "markdown",
   "metadata": {
    "collapsed": true,
    "run_control": {
     "frozen": false,
     "read_only": false
    }
   },
   "source": [
    "# Export "
   ]
  },
  {
   "cell_type": "code",
   "execution_count": 90,
   "metadata": {},
   "outputs": [],
   "source": [
    "output_folder = gui_widgets.gui_dname(dir=working_dir, message='Select output folder...')"
   ]
  },
  {
   "cell_type": "code",
   "execution_count": 92,
   "metadata": {},
   "outputs": [
    {
     "data": {
      "application/vnd.jupyter.widget-view+json": {
       "model_id": "7265ec4bedd44df68a0ccc7a86185786"
      }
     },
     "metadata": {},
     "output_type": "display_data"
    }
   ],
   "source": [
    "w = widgets.IntProgress()\n",
    "w.max = len(list_images)\n",
    "display(w)\n",
    "\n",
    "for _index, _file in enumerate(list_images):\n",
    "    basename = os.path.basename(_file)\n",
    "    output_file_name = os.path.join(output_folder, basename)\n",
    "    file_handler.make_tiff(filename=output_file_name, data=normalized_data_array[_index])\n",
    "    \n",
    "    w.value = _index+1"
   ]
  },
  {
   "cell_type": "code",
   "execution_count": null,
   "metadata": {
    "collapsed": true
   },
   "outputs": [],
   "source": []
  }
 ],
 "metadata": {
  "anaconda-cloud": {},
  "kernelspec": {
   "display_name": "Python [default]",
   "language": "python",
   "name": "python3"
  },
  "language_info": {
   "codemirror_mode": {
    "name": "ipython",
    "version": 3
   },
   "file_extension": ".py",
   "mimetype": "text/x-python",
   "name": "python",
   "nbconvert_exporter": "python",
   "pygments_lexer": "ipython3",
   "version": "3.5.3"
  },
  "toc": {
   "colors": {
    "hover_highlight": "#DAA520",
    "running_highlight": "#FF0000",
    "selected_highlight": "#FFD700"
   },
   "moveMenuLeft": true,
   "nav_menu": {
    "height": "101px",
    "width": "252px"
   },
   "navigate_menu": true,
   "number_sections": true,
   "sideBar": true,
   "threshold": 4,
   "toc_cell": false,
   "toc_section_display": "block",
   "toc_window_display": false
  }
 },
 "nbformat": 4,
 "nbformat_minor": 1
}
