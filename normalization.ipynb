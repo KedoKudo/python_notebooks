{
 "cells": [
  {
   "cell_type": "markdown",
   "metadata": {
    "run_control": {
     "frozen": false,
     "read_only": false
    }
   },
   "source": [
    "# Select Your IPTS "
   ]
  },
  {
   "cell_type": "code",
   "execution_count": 1,
   "metadata": {
    "run_control": {
     "frozen": false,
     "read_only": false
    }
   },
   "outputs": [
    {
     "name": "stdout",
     "output_type": "stream",
     "text": [
      "pyuic5 /Users/j35/git/IPTS/python_notebooks/ui/ui_roi_selection.ui -o /Users/j35/git/IPTS/python_notebooks/__code/ui_roi_selection.py\n",
      "** Using Debugging Mode! **\n"
     ]
    },
    {
     "data": {
      "application/vnd.jupyter.widget-view+json": {
       "model_id": "f4edc4a3a18b4df487a57ebd5085ec4c",
       "version_major": 2,
       "version_minor": 0
      },
      "text/html": [
       "<p>Failed to display Jupyter Widget of type <code>HBox</code>.</p>\n",
       "<p>\n",
       "  If you're reading this message in Jupyter Notebook or JupyterLab, it may mean\n",
       "  that the widgets JavaScript is still loading. If this message persists, it\n",
       "  likely means that the widgets JavaScript library is either not installed or\n",
       "  not enabled. See the <a href=\"https://ipywidgets.readthedocs.io/en/stable/user_install.html\">Jupyter\n",
       "  Widgets Documentation</a> for setup instructions.\n",
       "</p>\n",
       "<p>\n",
       "  If you're reading this message in another notebook frontend (for example, a static\n",
       "  rendering on GitHub or <a href=\"https://nbviewer.jupyter.org/\">NBViewer</a>),\n",
       "  it may mean that your frontend doesn't currently support widgets.\n",
       "</p>\n"
      ],
      "text/plain": [
       "HBox(children=(Label(value='Select Working Folder', layout=Layout(width='20%')), Select(index=8, options=('BraggEdge', 'Brianne', 'DOE_letters', 'FITSimages', 'IPTS-12534', 'IPTS_13639_resonance_shawn', 'IPTS_14832', 'IPTS_16212', 'IPTS_16259', 'IPTS_16475', 'IPTS_16893', 'IPTS_17099', 'IPTS_17685', 'IPTS_17981', 'IPTS_18580', 'IPTS_18806', 'IPTS_19037', 'IPTS_19558', 'IPTS_19621', 'IPTS_19626', 'IPTS_test_normalization', 'IPTS_testing_time_spectra', 'ImagesToRegisterForGian', 'Indu', 'Keita_code', 'Pour_ibeatles_video', 'ResonanceImaging', 'SENSITIVE', 'SarmaGUI', 'SphereCoordinates3D', 'TempData', 'gian', 'iBeatles_debugging'), value='IPTS_16259')))"
      ]
     },
     "metadata": {},
     "output_type": "display_data"
    },
    {
     "data": {
      "text/html": [
       "<style>\n",
       "\n",
       "/* The following CSS has been adapted from\n",
       "   http://nbviewer.ipython.org/github/ketch/teaching-numerics-with-notebooks/blob/master/Styling_notebooks.ipynb\n",
       "   by Aron Ahmadia and David Ketcheson and has been reused under CC BY 4.0\n",
       "   */\n",
       "\n",
       "/* main background */\n",
       "#site { \n",
       "    background: #888;\n",
       "    color: #red; \n",
       "}\n",
       "\n",
       "div.container {\n",
       "    width: 100% ! important;\n",
       "}\n",
       "\n",
       "div.cell { /* set cell width to about 80 chars */\n",
       "    width: 95%;\n",
       "}\n",
       "\n",
       "div #notebook { /* centre the content */\n",
       "/*    background: #fff; /* white background for content */\n",
       "    background: blue;\n",
       "    width: 100%;\n",
       "    margin: auto;\n",
       "    padding-left: 1em;\n",
       "    padding-right: 1em;\n",
       "    background-image: url(\"tile_background.jpg\");\n",
       "}\n",
       "\n",
       "#notebook li { /* More space between bullet points */\n",
       "    margin-top:0.4em;\n",
       "}\n",
       "\n",
       "/* change background color of running cells */\n",
       "div.cell.code_cell.running {\n",
       "/*    background-color: rgba(164,188,194,.75); */\n",
       "    background-color: green;\n",
       "    border-width: 8px\n",
       "    border-style: solid\n",
       "    border-color: #111;\n",
       "}\n",
       "\n",
       "/* Put a solid color box around each cell and its output, visually linking them together */\n",
       "div.cell.code_cell {\n",
       "    background-color: rgba(164,188,194,.25); /* Continuum L Gray with alpha 0.25 */\n",
       "    border-radius: 10px; /* rounded borders */\n",
       "    padding: 1em;\n",
       "    margin-top: 1em;\n",
       "}\n",
       "\n",
       "div.text_cell_render{\n",
       "\tfont-family: Georgia, Times, 'Times New Roman', serif;\n",
       "    line-height: 110%;\n",
       "    font-size: 105%;\n",
       "    width: 95%;\n",
       "    margin-left: auto;\n",
       "    margin-right: auto;\n",
       "}\n",
       "\n",
       "\n",
       "/* Formatting for header cells */\n",
       ".text_cell_render h1 {\n",
       "\tfont-family: Arial, 'Helvetica Neue', Helvetica, sans-serif;\n",
       "    font-weight: 400;\n",
       "    font-size: 30pt;\n",
       "    line-height: 100%;\n",
       "    color: rgb(37,55,70); /* Continuum Blue*/\n",
       "    margin-bottom: 0.1em;\n",
       "    margin-top: 0.1em;\n",
       "    display: block;\n",
       "}\n",
       ".text_cell_render h2 {\n",
       "\tfont-family: Arial, 'Helvetica Neue', Helvetica, sans-serif;\n",
       "    font-weight: 700;\n",
       "    font-size: 22pt;\n",
       "    line-height: 100%;\n",
       "    color: rgb(37,55,70);\n",
       "    margin-bottom: 0.1em;\n",
       "    margin-top: 0.1em;\n",
       "    display: block;\n",
       "}\n",
       "\n",
       ".text_cell_render h3 {\n",
       "\tfont-family: Arial, 'Helvetica Neue', Helvetica, sans-serif;\n",
       "    margin-top:12px;\n",
       "    margin-bottom: 3px;\n",
       "    font-style: italic;\n",
       "    color: rgb(37, 55, 70);\n",
       "}\n",
       "\n",
       ".text_cell_render h4 {\n",
       "\tfont-family: Arial, 'Helvetica Neue', Helvetica, sans-serif;\n",
       "}\n",
       "\n",
       ".text_cell_render h5 {\n",
       "\tfont-family: Arial, 'Helvetica Neue', Helvetica, sans-serif;\n",
       "    font-weight: 300;\n",
       "    font-size: 14pt;\n",
       "    font-style: italic;\n",
       "    margin-bottom: .1em;\n",
       "    margin-top: 0.1em;\n",
       "    display: block;\n",
       "}\n",
       "\n",
       ".text_cell_render h6 {\n",
       "\tfont-family: Arial, 'Helvetica Neue', Helvetica, sans-serif;\n",
       "    font-weight: 300;\n",
       "    font-size: 10pt;\n",
       "    margin-bottom: 1px;\n",
       "    margin-top: 1px;\n",
       "}\n",
       "\n",
       ".CodeMirror{\n",
       "        font-family: \"PT Mono\", fixed;\n",
       "        font-size: 100%;\n",
       "}\n",
       "\n",
       "#notebook_panel { /* main background */\n",
       "    background-image: url(\"tile_background.jpg\");\n",
       "}\n",
       "\n",
       "\n",
       "\n",
       "\n",
       "</style>\n"
      ],
      "text/plain": [
       "<IPython.core.display.HTML object>"
      ]
     },
     "execution_count": 1,
     "metadata": {},
     "output_type": "execute_result"
    }
   ],
   "source": [
    "from __code.normalization_new_ui import *\n",
    "\n",
    "from __code.ui_builder import UiBuilder\n",
    "o_builder = UiBuilder(ui_name = 'ui_roi_selection.ui')\n",
    "from __code.roi_selection_ui import Interface\n",
    "\n",
    "from __code import system\n",
    "system.System.select_working_dir()\n",
    "from __code.__all import custom_style\n",
    "custom_style.style()"
   ]
  },
  {
   "cell_type": "markdown",
   "metadata": {
    "run_control": {
     "frozen": false,
     "read_only": false
    }
   },
   "source": [
    "# Description "
   ]
  },
  {
   "cell_type": "markdown",
   "metadata": {
    "run_control": {
     "frozen": false,
     "read_only": false
    }
   },
   "source": [
    "This notebook performs the normalization of a set of images (tiff or fits) by OBs. \n",
    "\n",
    "The steps are:\n",
    " - select your **sample images**\n",
    " - select your **ob images**\n",
    " - select your **df images** (optional)\n",
    " - all the data will be loaded\n",
    " - preview of the sample and ob\n",
    " - optionally, selection of one or more **background** region in the sample data\n",
    " - normalization is performed\n",
    " - export of the normalized data"
   ]
  },
  {
   "cell_type": "markdown",
   "metadata": {
    "run_control": {
     "frozen": false,
     "read_only": false
    }
   },
   "source": [
    "# Python Import"
   ]
  },
  {
   "cell_type": "code",
   "execution_count": 2,
   "metadata": {
    "run_control": {
     "frozen": false,
     "read_only": false
    }
   },
   "outputs": [],
   "source": [
    "%gui qt"
   ]
  },
  {
   "cell_type": "code",
   "execution_count": 3,
   "metadata": {
    "run_control": {
     "frozen": false,
     "read_only": false
    }
   },
   "outputs": [],
   "source": [
    "%matplotlib notebook"
   ]
  },
  {
   "cell_type": "markdown",
   "metadata": {
    "run_control": {
     "frozen": false,
     "read_only": false
    }
   },
   "source": [
    "# Loading Images "
   ]
  },
  {
   "cell_type": "code",
   "execution_count": 4,
   "metadata": {
    "run_control": {
     "frozen": false,
     "read_only": false
    }
   },
   "outputs": [
    {
     "data": {
      "application/vnd.jupyter.widget-view+json": {
       "model_id": "06db3c8430214112b9ee0f707dca9951",
       "version_major": 2,
       "version_minor": 0
      },
      "text/html": [
       "<p>Failed to display Jupyter Widget of type <code>HTML</code>.</p>\n",
       "<p>\n",
       "  If you're reading this message in Jupyter Notebook or JupyterLab, it may mean\n",
       "  that the widgets JavaScript is still loading. If this message persists, it\n",
       "  likely means that the widgets JavaScript library is either not installed or\n",
       "  not enabled. See the <a href=\"https://ipywidgets.readthedocs.io/en/stable/user_install.html\">Jupyter\n",
       "  Widgets Documentation</a> for setup instructions.\n",
       "</p>\n",
       "<p>\n",
       "  If you're reading this message in another notebook frontend (for example, a static\n",
       "  rendering on GitHub or <a href=\"https://nbviewer.jupyter.org/\">NBViewer</a>),\n",
       "  it may mean that your frontend doesn't currently support widgets.\n",
       "</p>\n"
      ],
      "text/plain": [
       "HTML(value='Please wait...')"
      ]
     },
     "metadata": {},
     "output_type": "display_data"
    },
    {
     "data": {
      "application/vnd.jupyter.widget-view+json": {
       "model_id": "506a14eab1da426cab7cff95fe9fe2b3",
       "version_major": 2,
       "version_minor": 0
      },
      "text/html": [
       "<p>Failed to display Jupyter Widget of type <code>Label</code>.</p>\n",
       "<p>\n",
       "  If you're reading this message in Jupyter Notebook or JupyterLab, it may mean\n",
       "  that the widgets JavaScript is still loading. If this message persists, it\n",
       "  likely means that the widgets JavaScript library is either not installed or\n",
       "  not enabled. See the <a href=\"https://ipywidgets.readthedocs.io/en/stable/user_install.html\">Jupyter\n",
       "  Widgets Documentation</a> for setup instructions.\n",
       "</p>\n",
       "<p>\n",
       "  If you're reading this message in another notebook frontend (for example, a static\n",
       "  rendering on GitHub or <a href=\"https://nbviewer.jupyter.org/\">NBViewer</a>),\n",
       "  it may mean that your frontend doesn't currently support widgets.\n",
       "</p>\n"
      ],
      "text/plain": [
       "Label(value='Selection of All Input Files', layout=Layout(border='1px lighgray solide', height='35px', padding='8px', width='300px'))"
      ]
     },
     "metadata": {},
     "output_type": "display_data"
    },
    {
     "data": {
      "application/vnd.jupyter.widget-view+json": {
       "model_id": "b07797e66e6b48219a1c6672ecc5afe8",
       "version_major": 2,
       "version_minor": 0
      },
      "text/html": [
       "<p>Failed to display Jupyter Widget of type <code>VBox</code>.</p>\n",
       "<p>\n",
       "  If you're reading this message in Jupyter Notebook or JupyterLab, it may mean\n",
       "  that the widgets JavaScript is still loading. If this message persists, it\n",
       "  likely means that the widgets JavaScript library is either not installed or\n",
       "  not enabled. See the <a href=\"https://ipywidgets.readthedocs.io/en/stable/user_install.html\">Jupyter\n",
       "  Widgets Documentation</a> for setup instructions.\n",
       "</p>\n",
       "<p>\n",
       "  If you're reading this message in another notebook frontend (for example, a static\n",
       "  rendering on GitHub or <a href=\"https://nbviewer.jupyter.org/\">NBViewer</a>),\n",
       "  it may mean that your frontend doesn't currently support widgets.\n",
       "</p>\n"
      ],
      "text/plain": [
       "VBox(children=(HBox(children=(Label(value='Instructions:', layout=Layout(width='20%')), Label(value='Select list of Sample files (mandatory) ', layout=Layout(width='50%')))), HBox(children=(Label(value='Sample selected:', layout=Layout(width='20%')), Label(value='0 files selected', layout=Layout(width='50%'))))), layout=Layout(border='1px lightgray solid', margin='5px', padding='15px'))"
      ]
     },
     "metadata": {},
     "output_type": "display_data"
    },
    {
     "data": {
      "application/vnd.jupyter.widget-view+json": {
       "model_id": "f9de7a46f89943ea87cd117b9a27bf38",
       "version_major": 2,
       "version_minor": 0
      },
      "text/html": [
       "<p>Failed to display Jupyter Widget of type <code>HBox</code>.</p>\n",
       "<p>\n",
       "  If you're reading this message in Jupyter Notebook or JupyterLab, it may mean\n",
       "  that the widgets JavaScript is still loading. If this message persists, it\n",
       "  likely means that the widgets JavaScript library is either not installed or\n",
       "  not enabled. See the <a href=\"https://ipywidgets.readthedocs.io/en/stable/user_install.html\">Jupyter\n",
       "  Widgets Documentation</a> for setup instructions.\n",
       "</p>\n",
       "<p>\n",
       "  If you're reading this message in another notebook frontend (for example, a static\n",
       "  rendering on GitHub or <a href=\"https://nbviewer.jupyter.org/\">NBViewer</a>),\n",
       "  it may mean that your frontend doesn't currently support widgets.\n",
       "</p>\n"
      ],
      "text/plain": [
       "HBox(children=(Label(value='         ', layout=Layout(width='70%')), Button(button_style='warning', description='Next Step>>', disabled=True, layout=Layout(width='20%'), style=ButtonStyle(), tooltip='Click to move to next step')))"
      ]
     },
     "metadata": {},
     "output_type": "display_data"
    },
    {
     "data": {
      "text/html": [
       "\n",
       "        <style type=\"text/css\">\n",
       "        .jupyter-widgets select option {font-family: \"Lucida Console\", Monaco, monospace;}\n",
       "        div.output_subarea {padding: 0px;}\n",
       "        div.output_subarea > div {margin: 0.4em;}\n",
       "        </style>\n",
       "        "
      ],
      "text/plain": [
       "<IPython.core.display.HTML object>"
      ]
     },
     "metadata": {},
     "output_type": "display_data"
    },
    {
     "data": {
      "application/vnd.jupyter.widget-view+json": {
       "model_id": "9cb8b6adc9ae47b0b88b2b694c82e444",
       "version_major": 2,
       "version_minor": 0
      },
      "text/html": [
       "<p>Failed to display Jupyter Widget of type <code>VBox</code>.</p>\n",
       "<p>\n",
       "  If you're reading this message in Jupyter Notebook or JupyterLab, it may mean\n",
       "  that the widgets JavaScript is still loading. If this message persists, it\n",
       "  likely means that the widgets JavaScript library is either not installed or\n",
       "  not enabled. See the <a href=\"https://ipywidgets.readthedocs.io/en/stable/user_install.html\">Jupyter\n",
       "  Widgets Documentation</a> for setup instructions.\n",
       "</p>\n",
       "<p>\n",
       "  If you're reading this message in another notebook frontend (for example, a static\n",
       "  rendering on GitHub or <a href=\"https://nbviewer.jupyter.org/\">NBViewer</a>),\n",
       "  it may mean that your frontend doesn't currently support widgets.\n",
       "</p>\n"
      ],
      "text/plain": [
       "VBox(children=(Label(value='', layout=Layout(width='250px')), HBox(children=(HBox(children=(Text(value='/Volumes/my_book_thunderbolt_duo/IPTS/IPTS_16259', description='Location: ', layout=Layout(width='300px'), placeholder=''), Button(description='Jump', layout=Layout(margin='5px 10px', width='100px'), style=ButtonStyle())), layout=Layout(border='1px solid lightgrey', margin='5px 50px 5px 5px', padding='3px')),)), VBox(children=(SelectMultiple(description='Select', layout=Layout(display='flex', flex_flow='column', width='750px'), options=(' .', ' ..', ' .DS_Store                                         |     Wed Dec 13 10:18:15 2017', ' Day_4_CO-8_Uptake                                 |     Directory', ' Day_4_CO-8_Uptake_profiles                        |     Directory', ' Day_4_CO-8_Uptake_profiles.txt                    |     Fri Dec  8 12:58:35 2017', ' Day_4_CO-8_Uptake_profiles_DEBUGGING              |     Directory', ' Day_4_CO-8_Uptake_timestamp_infos.txt             |     Wed Jan 10 15:30:58 2018', ' from_analysis_computer                            |     Directory', ' ideal_water_intake_images                         |     Directory', ' ideal_water_intake_images_profiles                |     Directory', ' ideal_water_intake_images_profiles.txt            |     Wed Dec 13 10:23:47 2017', ' ideal_water_intake_images_timestamp_infos.txt     |     Wed Dec 13 10:21:31 2017'), value=()), HBox(children=(Button(description='Enter directory', layout=Layout(margin='5px 40px'), style=ButtonStyle()), Button(description='Select', layout=Layout(margin='5px 40px'), style=ButtonStyle())))), layout=Layout(border='1px solid lightgrey', margin='5px', padding='10px'))))"
      ]
     },
     "metadata": {},
     "output_type": "display_data"
    },
    {
     "data": {
      "application/vnd.jupyter.widget-view+json": {
       "model_id": "2be31a445d724ace814953f6835b2ec5",
       "version_major": 2,
       "version_minor": 0
      },
      "text/html": [
       "<p>Failed to display Jupyter Widget of type <code>HTML</code>.</p>\n",
       "<p>\n",
       "  If you're reading this message in Jupyter Notebook or JupyterLab, it may mean\n",
       "  that the widgets JavaScript is still loading. If this message persists, it\n",
       "  likely means that the widgets JavaScript library is either not installed or\n",
       "  not enabled. See the <a href=\"https://ipywidgets.readthedocs.io/en/stable/user_install.html\">Jupyter\n",
       "  Widgets Documentation</a> for setup instructions.\n",
       "</p>\n",
       "<p>\n",
       "  If you're reading this message in another notebook frontend (for example, a static\n",
       "  rendering on GitHub or <a href=\"https://nbviewer.jupyter.org/\">NBViewer</a>),\n",
       "  it may mean that your frontend doesn't currently support widgets.\n",
       "</p>\n"
      ],
      "text/plain": [
       "HTML(value='Please wait...')"
      ]
     },
     "metadata": {},
     "output_type": "display_data"
    },
    {
     "data": {
      "text/html": [
       "\n",
       "        <style type=\"text/css\">\n",
       "        .jupyter-widgets select option {font-family: \"Lucida Console\", Monaco, monospace;}\n",
       "        div.output_subarea {padding: 0px;}\n",
       "        div.output_subarea > div {margin: 0.4em;}\n",
       "        </style>\n",
       "        "
      ],
      "text/plain": [
       "<IPython.core.display.HTML object>"
      ]
     },
     "metadata": {},
     "output_type": "display_data"
    },
    {
     "data": {
      "application/vnd.jupyter.widget-view+json": {
       "model_id": "f06a3c5d6db144a0bc3bf9172a63eced",
       "version_major": 2,
       "version_minor": 0
      },
      "text/html": [
       "<p>Failed to display Jupyter Widget of type <code>VBox</code>.</p>\n",
       "<p>\n",
       "  If you're reading this message in Jupyter Notebook or JupyterLab, it may mean\n",
       "  that the widgets JavaScript is still loading. If this message persists, it\n",
       "  likely means that the widgets JavaScript library is either not installed or\n",
       "  not enabled. See the <a href=\"https://ipywidgets.readthedocs.io/en/stable/user_install.html\">Jupyter\n",
       "  Widgets Documentation</a> for setup instructions.\n",
       "</p>\n",
       "<p>\n",
       "  If you're reading this message in another notebook frontend (for example, a static\n",
       "  rendering on GitHub or <a href=\"https://nbviewer.jupyter.org/\">NBViewer</a>),\n",
       "  it may mean that your frontend doesn't currently support widgets.\n",
       "</p>\n"
      ],
      "text/plain": [
       "VBox(children=(Label(value='', layout=Layout(width='250px')), HBox(children=(HBox(children=(Text(value='/Volumes/my_book_thunderbolt_duo/IPTS/IPTS_16259/Day_4_CO-8_Uptake', description='Location: ', layout=Layout(width='300px'), placeholder=''), Button(description='Jump', layout=Layout(margin='5px 10px', width='100px'), style=ButtonStyle())), layout=Layout(border='1px solid lightgrey', margin='5px 50px 5px 5px', padding='3px')),)), VBox(children=(SelectMultiple(description='Select', layout=Layout(display='flex', flex_flow='column', width='750px'), options=(' .', ' ..', ' 20160922_CO-8-uptake_0000_0011.tiff     |     Thu Sep 22 14:27:49 2016', ' 20160922_CO-8-uptake_0000_0012.tiff     |     Thu Sep 22 14:27:49 2016', ' 20160922_CO-8-uptake_0000_0013.tiff     |     Thu Sep 22 14:27:49 2016', ' 20160922_CO-8-uptake_0000_0014.tiff     |     Thu Sep 22 14:27:49 2016', ' 20160922_CO-8-uptake_0000_0015.tiff     |     Thu Sep 22 14:27:49 2016', ' 20160922_CO-8-uptake_0000_0016.tiff     |     Thu Sep 22 14:27:49 2016', ' 20160922_CO-8-uptake_0000_0017.tiff     |     Thu Sep 22 14:27:49 2016', ' 20160922_CO-8-uptake_0000_0018.tiff     |     Thu Sep 22 14:27:49 2016', ' 20160922_CO-8-uptake_0000_0019.tiff     |     Thu Sep 22 14:27:49 2016', ' 20160922_CO-8-uptake_0000_0020.tiff     |     Thu Sep 22 14:27:49 2016', ' 20160922_CO-8-uptake_0000_0021.tiff     |     Thu Sep 22 14:27:49 2016', ' 20160922_CO-8-uptake_0000_0022.tiff     |     Thu Sep 22 14:27:49 2016', ' 20160922_CO-8-uptake_0000_0023.tiff     |     Thu Sep 22 14:27:49 2016', ' 20160922_CO-8-uptake_0000_0024.tiff     |     Thu Sep 22 14:27:50 2016', ' 20160922_CO-8-uptake_0000_0025.tiff     |     Thu Sep 22 14:27:50 2016', ' 20160922_CO-8-uptake_0000_0026.tiff     |     Thu Sep 22 14:27:50 2016', ' 20160922_CO-8-uptake_0000_0027.tiff     |     Thu Sep 22 14:27:50 2016', ' 20160922_CO-8-uptake_0000_0028.tiff     |     Thu Sep 22 14:27:50 2016', ' 20160922_CO-8-uptake_0000_0029.tiff     |     Thu Sep 22 14:27:50 2016', ' 20160922_CO-8-uptake_0000_0030.tiff     |     Thu Sep 22 14:27:50 2016', ' 20160922_CO-8-uptake_0000_0031.tiff     |     Thu Sep 22 14:27:50 2016', ' 20160922_CO-8-uptake_0000_0032.tiff     |     Thu Sep 22 14:27:50 2016', ' 20160922_CO-8-uptake_0000_0033.tiff     |     Thu Sep 22 14:27:50 2016', ' 20160922_CO-8-uptake_0000_0034.tiff     |     Thu Sep 22 14:27:50 2016', ' 20160922_CO-8-uptake_0000_0035.tiff     |     Thu Sep 22 14:27:50 2016', ' 20160922_CO-8-uptake_0000_0036.tiff     |     Thu Sep 22 14:27:50 2016', ' 20160922_CO-8-uptake_0000_0037.tiff     |     Thu Sep 22 14:27:50 2016', ' 20160922_CO-8-uptake_0000_0038.tiff     |     Thu Sep 22 14:27:50 2016', ' 20160922_CO-8-uptake_0000_0039.tiff     |     Thu Sep 22 14:27:50 2016', ' 20160922_CO-8-uptake_0000_0040.tiff     |     Thu Sep 22 14:27:50 2016', ' 20160922_CO-8-uptake_0000_0041.tiff     |     Thu Sep 22 14:27:50 2016', ' 20160922_CO-8-uptake_0000_0042.tiff     |     Thu Sep 22 14:27:50 2016', ' 20160922_CO-8-uptake_0000_0043.tiff     |     Thu Sep 22 14:27:50 2016', ' 20160922_CO-8-uptake_0000_0044.tiff     |     Thu Sep 22 14:27:50 2016', ' 20160922_CO-8-uptake_0000_0045.tiff     |     Thu Sep 22 14:27:50 2016', ' 20160922_CO-8-uptake_0000_0046.tiff     |     Thu Sep 22 14:27:50 2016', ' 20160922_CO-8-uptake_0000_0047.tiff     |     Thu Sep 22 14:27:50 2016', ' 20160922_CO-8-uptake_0000_0048.tiff     |     Thu Sep 22 14:27:50 2016', ' 20160922_CO-8-uptake_0000_0049.tiff     |     Thu Sep 22 14:27:50 2016', ' 20160922_CO-8-uptake_0000_0050.tiff     |     Thu Sep 22 14:27:50 2016', ' 20160922_CO-8-uptake_0000_0051.tiff     |     Thu Sep 22 14:27:50 2016', ' 20160922_CO-8-uptake_0000_0052.tiff     |     Thu Sep 22 14:27:50 2016', ' 20160922_CO-8-uptake_0000_0053.tiff     |     Thu Sep 22 14:27:50 2016', ' 20160922_CO-8-uptake_0000_0054.tiff     |     Thu Sep 22 14:27:50 2016', ' 20160922_CO-8-uptake_0000_0055.tiff     |     Thu Sep 22 14:27:51 2016', ' 20160922_CO-8-uptake_0000_0056.tiff     |     Thu Sep 22 14:27:51 2016', ' 20160922_CO-8-uptake_0000_0057.tiff     |     Thu Sep 22 14:27:51 2016', ' 20160922_CO-8-uptake_0000_0058.tiff     |     Thu Sep 22 14:27:51 2016', ' 20160922_CO-8-uptake_0000_0059.tiff     |     Thu Sep 22 14:27:51 2016', ' 20160922_CO-8-uptake_0000_0060.tiff     |     Thu Sep 22 14:27:51 2016', ' 20160922_CO-8-uptake_0000_0061.tiff     |     Thu Sep 22 14:27:51 2016', ' 20160922_CO-8-uptake_0000_0062.tiff     |     Thu Sep 22 14:27:51 2016', ' 20160922_CO-8-uptake_0000_0063.tiff     |     Thu Sep 22 14:27:51 2016', ' 20160922_CO-8-uptake_0000_0064.tiff     |     Thu Sep 22 14:27:51 2016', ' 20160922_CO-8-uptake_0000_0065.tiff     |     Thu Sep 22 14:27:51 2016', ' 20160922_CO-8-uptake_0000_0066.tiff     |     Thu Sep 22 14:27:51 2016', ' 20160922_CO-8-uptake_0000_0067.tiff     |     Thu Sep 22 14:27:51 2016', ' 20160922_CO-8-uptake_0000_0068.tiff     |     Thu Sep 22 14:27:51 2016', ' 20160922_CO-8-uptake_0000_0069.tiff     |     Thu Sep 22 14:27:51 2016', ' 20160922_CO-8-uptake_0000_0070.tiff     |     Thu Sep 22 14:27:51 2016', ' 20160922_CO-8-uptake_0000_0071.tiff     |     Thu Sep 22 14:27:51 2016', ' 20160922_CO-8-uptake_0000_0072.tiff     |     Thu Sep 22 14:27:51 2016', ' 20160922_CO-8-uptake_0000_0073.tiff     |     Thu Sep 22 14:27:51 2016', ' 20160922_CO-8-uptake_0000_0074.tiff     |     Thu Sep 22 14:27:51 2016', ' 20160922_CO-8-uptake_0000_0075.tiff     |     Thu Sep 22 14:27:51 2016', ' 20160922_CO-8-uptake_0000_0076.tiff     |     Thu Sep 22 14:27:51 2016', ' 20160922_CO-8-uptake_0000_0077.tiff     |     Thu Sep 22 14:27:51 2016', ' 20160922_CO-8-uptake_0000_0078.tiff     |     Thu Sep 22 14:27:51 2016', ' 20160922_CO-8-uptake_0000_0079.tiff     |     Thu Sep 22 14:27:51 2016', ' 20160922_CO-8-uptake_0000_0080.tiff     |     Thu Sep 22 14:27:51 2016', ' 20160922_CO-8-uptake_0000_0081.tiff     |     Thu Sep 22 14:27:51 2016', ' 20160922_CO-8-uptake_0000_0082.tiff     |     Thu Sep 22 14:27:51 2016', ' 20160922_CO-8-uptake_0000_0083.tiff     |     Thu Sep 22 14:27:51 2016', ' 20160922_CO-8-uptake_0000_0084.tiff     |     Thu Sep 22 14:27:51 2016', ' 20160922_CO-8-uptake_0000_0085.tiff     |     Thu Sep 22 14:27:52 2016', ' 20160922_CO-8-uptake_0000_0086.tiff     |     Thu Sep 22 14:27:52 2016', ' 20160922_CO-8-uptake_0000_0087.tiff     |     Thu Sep 22 14:27:52 2016', ' 20160922_CO-8-uptake_0000_0088.tiff     |     Thu Sep 22 14:27:52 2016', ' 20160922_CO-8-uptake_0000_0089.tiff     |     Thu Sep 22 14:27:52 2016', ' 20160922_CO-8-uptake_0000_0090.tiff     |     Thu Sep 22 14:27:52 2016', ' 20160922_CO-8-uptake_0000_0091.tiff     |     Thu Sep 22 14:27:52 2016', ' 20160922_CO-8-uptake_0000_0092.tiff     |     Thu Sep 22 14:27:52 2016', ' 20160922_CO-8-uptake_0000_0093.tiff     |     Thu Sep 22 14:27:52 2016', ' 20160922_CO-8-uptake_0000_0094.tiff     |     Thu Sep 22 14:27:52 2016', ' 20160922_CO-8-uptake_0000_0095.tiff     |     Thu Sep 22 14:27:52 2016', ' 20160922_CO-8-uptake_0000_0096.tiff     |     Thu Sep 22 14:27:52 2016', ' 20160922_CO-8-uptake_0000_0097.tiff     |     Thu Sep 22 14:27:52 2016', ' 20160922_CO-8-uptake_0000_0098.tiff     |     Thu Sep 22 14:27:52 2016', ' 20160922_CO-8-uptake_0000_0099.tiff     |     Thu Sep 22 14:27:52 2016', ' 20160922_CO-8-uptake_0000_0100.tiff     |     Thu Sep 22 14:27:52 2016', ' 20160922_CO-8-uptake_0000_0101.tiff     |     Thu Sep 22 14:27:52 2016', ' 20160922_CO-8-uptake_0000_0102.tiff     |     Thu Sep 22 14:27:52 2016', ' 20160922_CO-8-uptake_0000_0103.tiff     |     Thu Sep 22 14:27:52 2016', ' 20160922_CO-8-uptake_0000_0104.tiff     |     Thu Sep 22 14:27:52 2016', ' 20160922_CO-8-uptake_0000_0105.tiff     |     Thu Sep 22 14:27:52 2016', ' 20160922_CO-8-uptake_0000_0106.tiff     |     Thu Sep 22 14:27:52 2016', ' 20160922_CO-8-uptake_0000_0107.tiff     |     Thu Sep 22 14:27:52 2016', ' 20160922_CO-8-uptake_0000_0108.tiff     |     Thu Sep 22 14:27:52 2016', ' 20160922_CO-8-uptake_0000_0109.tiff     |     Thu Sep 22 14:27:52 2016', ' 20160922_CO-8-uptake_0000_0110.tiff     |     Thu Sep 22 14:27:52 2016', ' 20160922_CO-8-uptake_0000_0111.tiff     |     Thu Sep 22 14:27:52 2016', ' 20160922_CO-8-uptake_0000_0112.tiff     |     Thu Sep 22 14:27:52 2016', ' 20160922_CO-8-uptake_0000_0113.tiff     |     Thu Sep 22 14:27:52 2016', ' 20160922_CO-8-uptake_0000_0114.tiff     |     Thu Sep 22 14:27:52 2016', ' 20160922_CO-8-uptake_0000_0115.tiff     |     Thu Sep 22 14:27:53 2016', ' 20160922_CO-8-uptake_0000_0116.tiff     |     Thu Sep 22 14:27:53 2016', ' 20160922_CO-8-uptake_0000_0117.tiff     |     Thu Sep 22 14:27:53 2016', ' 20160922_CO-8-uptake_0000_0118.tiff     |     Thu Sep 22 14:27:53 2016', ' 20160922_CO-8-uptake_0000_0119.tiff     |     Thu Sep 22 14:27:53 2016', ' 20160922_CO-8-uptake_0000_0120.tiff     |     Thu Sep 22 14:27:53 2016', ' 20160922_CO-8-uptake_0000_0121.tiff     |     Thu Sep 22 14:27:53 2016', ' 20160922_CO-8-uptake_0000_0122.tiff     |     Thu Sep 22 14:27:53 2016', ' 20160922_CO-8-uptake_0000_0123.tiff     |     Thu Sep 22 14:27:53 2016', ' 20160922_CO-8-uptake_0000_0124.tiff     |     Thu Sep 22 14:27:53 2016', ' 20160922_CO-8-uptake_0000_0125.tiff     |     Thu Sep 22 14:27:53 2016', ' 20160922_CO-8-uptake_0000_0126.tiff     |     Thu Sep 22 14:27:53 2016', ' 20160922_CO-8-uptake_0000_0127.tiff     |     Thu Sep 22 14:27:53 2016', ' 20160922_CO-8-uptake_0000_0128.tiff     |     Thu Sep 22 14:27:53 2016', ' 20160922_CO-8-uptake_0000_0129.tiff     |     Thu Sep 22 14:27:53 2016', ' 20160922_CO-8-uptake_0000_0130.tiff     |     Thu Sep 22 14:27:53 2016', ' 20160922_CO-8-uptake_0000_0131.tiff     |     Thu Sep 22 14:27:53 2016', ' 20160922_CO-8-uptake_0000_0132.tiff     |     Thu Sep 22 14:27:53 2016', ' 20160922_CO-8-uptake_0000_0133.tiff     |     Thu Sep 22 14:27:53 2016', ' 20160922_CO-8-uptake_0000_0134.tiff     |     Thu Sep 22 14:27:53 2016', ' 20160922_CO-8-uptake_0000_0135.tiff     |     Thu Sep 22 14:27:53 2016', ' 20160922_CO-8-uptake_0000_0136.tiff     |     Thu Sep 22 14:27:53 2016', ' 20160922_CO-8-uptake_0000_0137.tiff     |     Thu Sep 22 14:27:53 2016', ' 20160922_CO-8-uptake_0000_0138.tiff     |     Thu Sep 22 14:27:53 2016', ' 20160922_CO-8-uptake_0000_0139.tiff     |     Thu Sep 22 14:27:53 2016', ' 20160922_CO-8-uptake_0000_0140.tiff     |     Thu Sep 22 14:27:53 2016', ' 20160922_CO-8-uptake_0000_0141.tiff     |     Thu Sep 22 14:27:53 2016', ' 20160922_CO-8-uptake_0000_0142.tiff     |     Thu Sep 22 14:27:53 2016', ' 20160922_CO-8-uptake_0000_0143.tiff     |     Thu Sep 22 14:27:53 2016', ' 20160922_CO-8-uptake_0000_0144.tiff     |     Thu Sep 22 14:27:53 2016', ' 20160922_CO-8-uptake_0000_0145.tiff     |     Thu Sep 22 14:27:53 2016', ' 20160922_CO-8-uptake_0000_0146.tiff     |     Thu Sep 22 14:27:54 2016', ' 20160922_CO-8-uptake_0000_0147.tiff     |     Thu Sep 22 14:27:54 2016', ' 20160922_CO-8-uptake_0000_0148.tiff     |     Thu Sep 22 14:27:54 2016', ' 20160922_CO-8-uptake_0000_0149.tiff     |     Thu Sep 22 14:27:54 2016', ' 20160922_CO-8-uptake_0000_0150.tiff     |     Thu Sep 22 14:27:54 2016', ' 20160922_CO-8-uptake_0000_0151.tiff     |     Thu Sep 22 14:27:54 2016', ' 20160922_CO-8-uptake_0000_0152.tiff     |     Thu Sep 22 14:27:54 2016', ' 20160922_CO-8-uptake_0000_0153.tiff     |     Thu Sep 22 14:27:54 2016', ' 20160922_CO-8-uptake_0000_0154.tiff     |     Thu Sep 22 14:27:54 2016', ' 20160922_CO-8-uptake_0000_0155.tiff     |     Thu Sep 22 14:27:54 2016', ' 20160922_CO-8-uptake_0000_0156.tiff     |     Thu Sep 22 14:27:54 2016', ' 20160922_CO-8-uptake_0000_0157.tiff     |     Thu Sep 22 14:27:54 2016', ' 20160922_CO-8-uptake_0000_0158.tiff     |     Thu Sep 22 14:27:54 2016', ' 20160922_CO-8-uptake_0000_0159.tiff     |     Thu Sep 22 14:27:54 2016', ' 20160922_CO-8-uptake_0000_0160.tiff     |     Thu Sep 22 14:27:54 2016', ' 20160922_CO-8-uptake_0000_0161.tiff     |     Thu Sep 22 14:27:54 2016', ' 20160922_CO-8-uptake_0000_0162.tiff     |     Thu Sep 22 14:27:54 2016', ' 20160922_CO-8-uptake_0000_0163.tiff     |     Thu Sep 22 14:27:54 2016', ' 20160922_CO-8-uptake_0000_0164.tiff     |     Thu Sep 22 14:27:54 2016', ' 20160922_CO-8-uptake_0000_0165.tiff     |     Thu Sep 22 14:27:54 2016', ' 20160922_CO-8-uptake_0000_0166.tiff     |     Thu Sep 22 14:27:54 2016', ' 20160922_CO-8-uptake_0000_0167.tiff     |     Thu Sep 22 14:27:54 2016', ' 20160922_CO-8-uptake_0000_0168.tiff     |     Thu Sep 22 14:27:54 2016', ' 20160922_CO-8-uptake_0000_0169.tiff     |     Thu Sep 22 14:27:54 2016', ' 20160922_CO-8-uptake_0000_0170.tiff     |     Thu Sep 22 14:27:54 2016', ' 20160922_CO-8-uptake_0000_0171.tiff     |     Thu Sep 22 14:27:54 2016', ' 20160922_CO-8-uptake_0000_0172.tiff     |     Thu Sep 22 14:27:54 2016', ' 20160922_CO-8-uptake_0000_0173.tiff     |     Thu Sep 22 14:27:54 2016', ' 20160922_CO-8-uptake_0000_0174.tiff     |     Thu Sep 22 14:27:54 2016', ' 20160922_CO-8-uptake_0000_0175.tiff     |     Thu Sep 22 14:27:54 2016', ' 20160922_CO-8-uptake_0000_0176.tiff     |     Thu Sep 22 14:27:55 2016', ' 20160922_CO-8-uptake_0000_0177.tiff     |     Thu Sep 22 14:27:55 2016', ' 20160922_CO-8-uptake_0000_0178.tiff     |     Thu Sep 22 14:27:55 2016', ' 20160922_CO-8-uptake_0000_0179.tiff     |     Thu Sep 22 14:27:55 2016', ' 20160922_CO-8-uptake_0000_0180.tiff     |     Thu Sep 22 14:27:55 2016', ' 20160922_CO-8-uptake_0000_0181.tiff     |     Thu Sep 22 14:27:55 2016', ' 20160922_CO-8-uptake_0000_0182.tiff     |     Thu Sep 22 14:27:55 2016', ' 20160922_CO-8-uptake_0000_0183.tiff     |     Thu Sep 22 14:27:55 2016', ' 20160922_CO-8-uptake_0000_0184.tiff     |     Thu Sep 22 14:27:55 2016', ' 20160922_CO-8-uptake_0000_0185.tiff     |     Thu Sep 22 14:27:55 2016', ' 20160922_CO-8-uptake_0000_0186.tiff     |     Thu Sep 22 14:27:55 2016', ' 20160922_CO-8-uptake_0000_0187.tiff     |     Thu Sep 22 14:27:55 2016', ' 20160922_CO-8-uptake_0000_0188.tiff     |     Thu Sep 22 14:27:55 2016', ' 20160922_CO-8-uptake_0000_0189.tiff     |     Thu Sep 22 14:27:55 2016', ' 20160922_CO-8-uptake_0000_0190.tiff     |     Thu Sep 22 14:27:55 2016', ' 20160922_CO-8-uptake_0000_0191.tiff     |     Thu Sep 22 14:27:55 2016', ' 20160922_CO-8-uptake_0000_0192.tiff     |     Thu Sep 22 14:27:55 2016', ' 20160922_CO-8-uptake_0000_0193.tiff     |     Thu Sep 22 14:27:55 2016', ' 20160922_CO-8-uptake_0000_0194.tiff     |     Thu Sep 22 14:27:55 2016', ' 20160922_CO-8-uptake_0000_0195.tiff     |     Thu Sep 22 14:27:55 2016', ' 20160922_CO-8-uptake_0000_0196.tiff     |     Thu Sep 22 14:27:55 2016', ' 20160922_CO-8-uptake_0000_0197.tiff     |     Thu Sep 22 14:27:55 2016', ' 20160922_CO-8-uptake_0000_0198.tiff     |     Thu Sep 22 14:27:55 2016', ' 20160922_CO-8-uptake_0000_0199.tiff     |     Thu Sep 22 14:27:55 2016', ' 20160922_CO-8-uptake_0000_0200.tiff     |     Thu Sep 22 14:27:55 2016', ' 20160922_CO-8-uptake_0000_0201.tiff     |     Thu Sep 22 14:27:55 2016', ' 20160922_CO-8-uptake_0000_0202.tiff     |     Thu Sep 22 14:27:55 2016', ' 20160922_CO-8-uptake_0000_0203.tiff     |     Thu Sep 22 14:27:55 2016', ' 20160922_CO-8-uptake_0000_0204.tiff     |     Thu Sep 22 14:27:55 2016', ' 20160922_CO-8-uptake_0000_0205.tiff     |     Thu Sep 22 14:27:55 2016', ' 20160922_CO-8-uptake_0000_0206.tiff     |     Thu Sep 22 14:27:56 2016', ' 20160922_CO-8-uptake_0000_0207.tiff     |     Thu Sep 22 14:27:56 2016', ' 20160922_CO-8-uptake_0000_0208.tiff     |     Thu Sep 22 14:27:56 2016', ' 20160922_CO-8-uptake_0000_0209.tiff     |     Thu Sep 22 14:27:56 2016', ' 20160922_CO-8-uptake_0000_0210.tiff     |     Thu Sep 22 14:27:56 2016', ' 20160922_CO-8-uptake_0000_0211.tiff     |     Thu Sep 22 14:27:56 2016', ' 20160922_CO-8-uptake_0000_0212.tiff     |     Thu Sep 22 14:27:56 2016', ' 20160922_CO-8-uptake_0000_0213.tiff     |     Thu Sep 22 14:27:56 2016', ' 20160922_CO-8-uptake_0000_0214.tiff     |     Thu Sep 22 14:27:56 2016', ' 20160922_CO-8-uptake_0000_0215.tiff     |     Thu Sep 22 14:27:56 2016', ' 20160922_CO-8-uptake_0000_0216.tiff     |     Thu Sep 22 14:27:56 2016', ' 20160922_CO-8-uptake_0000_0217.tiff     |     Thu Sep 22 14:27:56 2016', ' 20160922_CO-8-uptake_0000_0218.tiff     |     Thu Sep 22 14:27:56 2016', ' 20160922_CO-8-uptake_0000_0219.tiff     |     Thu Sep 22 14:27:56 2016', ' 20160922_CO-8-uptake_0000_0220.tiff     |     Thu Sep 22 14:27:56 2016', ' 20160922_CO-8-uptake_0000_0221.tiff     |     Thu Sep 22 14:27:56 2016', ' 20160922_CO-8-uptake_0000_0222.tiff     |     Thu Sep 22 14:27:56 2016', ' 20160922_CO-8-uptake_0000_0223.tiff     |     Thu Sep 22 14:27:56 2016', ' 20160922_CO-8-uptake_0000_0224.tiff     |     Thu Sep 22 14:27:56 2016', ' 20160922_CO-8-uptake_0000_0225.tiff     |     Thu Sep 22 14:27:56 2016', ' 20160922_CO-8-uptake_0000_0226.tiff     |     Thu Sep 22 14:27:56 2016', ' 20160922_CO-8-uptake_0000_0227.tiff     |     Thu Sep 22 14:27:56 2016', ' 20160922_CO-8-uptake_0000_0228.tiff     |     Thu Sep 22 14:27:56 2016', ' 20160922_CO-8-uptake_0000_0229.tiff     |     Thu Sep 22 14:27:56 2016', ' 20160922_CO-8-uptake_0000_0230.tiff     |     Thu Sep 22 14:27:56 2016', ' 20160922_CO-8-uptake_0000_0231.tiff     |     Thu Sep 22 14:27:56 2016', ' 20160922_CO-8-uptake_0000_0232.tiff     |     Thu Sep 22 14:27:56 2016', ' 20160922_CO-8-uptake_0000_0233.tiff     |     Thu Sep 22 14:27:56 2016', ' 20160922_CO-8-uptake_0000_0234.tiff     |     Thu Sep 22 14:27:56 2016', ' 20160922_CO-8-uptake_0000_0235.tiff     |     Thu Sep 22 14:27:56 2016', ' 20160922_CO-8-uptake_0000_0236.tiff     |     Thu Sep 22 14:27:57 2016', ' 20160922_CO-8-uptake_0000_0237.tiff     |     Thu Sep 22 14:27:57 2016', ' 20160922_CO-8-uptake_0000_0238.tiff     |     Thu Sep 22 14:27:57 2016', ' 20160922_CO-8-uptake_0000_0239.tiff     |     Thu Sep 22 14:27:57 2016', ' 20160922_CO-8-uptake_0000_0240.tiff     |     Thu Sep 22 14:27:57 2016', ' 20160922_CO-8-uptake_0000_0241.tiff     |     Thu Sep 22 14:27:57 2016', ' 20160922_CO-8-uptake_0000_0242.tiff     |     Thu Sep 22 14:27:57 2016', ' 20160922_CO-8-uptake_0000_0243.tiff     |     Thu Sep 22 14:27:57 2016', ' 20160922_CO-8-uptake_0000_0244.tiff     |     Thu Sep 22 14:27:57 2016', ' 20160922_CO-8-uptake_0000_0245.tiff     |     Thu Sep 22 14:27:57 2016', ' 20160922_CO-8-uptake_0000_0246.tiff     |     Thu Sep 22 14:27:57 2016', ' 20160922_CO-8-uptake_0000_0247.tiff     |     Thu Sep 22 14:27:57 2016', ' 20160922_CO-8-uptake_0000_0248.tiff     |     Thu Sep 22 14:27:57 2016', ' 20160922_CO-8-uptake_0000_0249.tiff     |     Thu Sep 22 14:27:57 2016', ' 20160922_CO-8-uptake_0000_0250.tiff     |     Thu Sep 22 14:27:57 2016', ' 20160922_CO-8-uptake_0000_0251.tiff     |     Thu Sep 22 14:27:57 2016', ' 20160922_CO-8-uptake_0000_0252.tiff     |     Thu Sep 22 14:27:57 2016', ' 20160922_CO-8-uptake_0000_0253.tiff     |     Thu Sep 22 14:27:57 2016', ' 20160922_CO-8-uptake_0000_0254.tiff     |     Thu Sep 22 14:27:57 2016', ' 20160922_CO-8-uptake_0000_0255.tiff     |     Thu Sep 22 14:27:57 2016', ' 20160922_CO-8-uptake_0000_0256.tiff     |     Thu Sep 22 14:27:57 2016', ' 20160922_CO-8-uptake_0000_0257.tiff     |     Thu Sep 22 14:27:57 2016', ' 20160922_CO-8-uptake_0000_0258.tiff     |     Thu Sep 22 14:27:57 2016', ' 20160922_CO-8-uptake_0000_0259.tiff     |     Thu Sep 22 14:27:57 2016', ' 20160922_CO-8-uptake_0000_0260.tiff     |     Thu Sep 22 14:27:57 2016', ' 20160922_CO-8-uptake_0000_0261.tiff     |     Thu Sep 22 14:27:57 2016', ' 20160922_CO-8-uptake_0000_0262.tiff     |     Thu Sep 22 14:27:57 2016', ' 20160922_CO-8-uptake_0000_0263.tiff     |     Thu Sep 22 14:27:57 2016', ' 20160922_CO-8-uptake_0000_0264.tiff     |     Thu Sep 22 14:27:57 2016', ' 20160922_CO-8-uptake_0000_0265.tiff     |     Thu Sep 22 14:27:57 2016', ' 20160922_CO-8-uptake_0000_0266.tiff     |     Thu Sep 22 14:27:57 2016', ' 20160922_CO-8-uptake_0000_0267.tiff     |     Thu Sep 22 14:27:58 2016', ' 20160922_CO-8-uptake_0000_0268.tiff     |     Thu Sep 22 14:27:58 2016', ' 20160922_CO-8-uptake_0000_0269.tiff     |     Thu Sep 22 14:27:58 2016', ' 20160922_CO-8-uptake_0000_0270.tiff     |     Thu Sep 22 14:27:58 2016', ' 20160922_CO-8-uptake_0000_0271.tiff     |     Thu Sep 22 14:27:58 2016', ' 20160922_CO-8-uptake_0000_0272.tiff     |     Thu Sep 22 14:27:58 2016', ' 20160922_CO-8-uptake_0000_0273.tiff     |     Thu Sep 22 14:27:58 2016', ' 20160922_CO-8-uptake_0000_0274.tiff     |     Thu Sep 22 14:27:58 2016', ' 20160922_CO-8-uptake_0000_0275.tiff     |     Thu Sep 22 14:27:58 2016', ' 20160922_CO-8-uptake_0000_0276.tiff     |     Thu Sep 22 14:27:58 2016', ' 20160922_CO-8-uptake_0000_0277.tiff     |     Thu Sep 22 14:27:58 2016', ' 20160922_CO-8-uptake_0000_0278.tiff     |     Thu Sep 22 14:27:58 2016', ' 20160922_CO-8-uptake_0000_0279.tiff     |     Thu Sep 22 14:27:58 2016', ' 20160922_CO-8-uptake_0000_0280.tiff     |     Thu Sep 22 14:27:58 2016', ' 20160922_CO-8-uptake_0000_0281.tiff     |     Thu Sep 22 14:27:58 2016', ' 20160922_CO-8-uptake_0000_0282.tiff     |     Thu Sep 22 14:27:58 2016', ' 20160922_CO-8-uptake_0000_0283.tiff     |     Thu Sep 22 14:27:58 2016', ' 20160922_CO-8-uptake_0000_0284.tiff     |     Thu Sep 22 14:27:58 2016', ' 20160922_CO-8-uptake_0000_0285.tiff     |     Thu Sep 22 14:27:58 2016', ' 20160922_CO-8-uptake_0000_0286.tiff     |     Thu Sep 22 14:27:58 2016', ' 20160922_CO-8-uptake_0000_0287.tiff     |     Thu Sep 22 14:27:58 2016', ' 20160922_CO-8-uptake_0000_0288.tiff     |     Thu Sep 22 14:27:58 2016', ' 20160922_CO-8-uptake_0000_0289.tiff     |     Thu Sep 22 14:27:58 2016', ' 20160922_CO-8-uptake_0000_0290.tiff     |     Thu Sep 22 14:27:58 2016', ' 20160922_CO-8-uptake_0000_0291.tiff     |     Thu Sep 22 14:27:58 2016', ' 20160922_CO-8-uptake_0000_0292.tiff     |     Thu Sep 22 14:27:58 2016', ' 20160922_CO-8-uptake_0000_0293.tiff     |     Thu Sep 22 14:27:58 2016', ' 20160922_CO-8-uptake_0000_0294.tiff     |     Thu Sep 22 14:27:58 2016', ' 20160922_CO-8-uptake_0000_0295.tiff     |     Thu Sep 22 14:27:58 2016', ' 20160922_CO-8-uptake_0000_0296.tiff     |     Thu Sep 22 14:27:58 2016', ' 20160922_CO-8-uptake_0000_0297.tiff     |     Thu Sep 22 14:27:59 2016', ' 20160922_CO-8-uptake_0000_0298.tiff     |     Thu Sep 22 14:27:59 2016', ' 20160922_CO-8-uptake_0000_0299.tiff     |     Thu Sep 22 14:27:59 2016', ' 20160922_CO-8-uptake_0000_0300.tiff     |     Thu Sep 22 14:27:59 2016', ' 20160922_CO-8-uptake_0000_0301.tiff     |     Thu Sep 22 14:27:59 2016', ' 20160922_CO-8-uptake_0000_0302.tiff     |     Thu Sep 22 14:27:59 2016', ' 20160922_CO-8-uptake_0000_0303.tiff     |     Thu Sep 22 14:27:59 2016', ' 20160922_CO-8-uptake_0000_0304.tiff     |     Thu Sep 22 14:27:59 2016', ' 20160922_CO-8-uptake_0000_0305.tiff     |     Thu Sep 22 14:27:59 2016', ' 20160922_CO-8-uptake_0000_0306.tiff     |     Thu Sep 22 14:27:59 2016', ' 20160922_CO-8-uptake_0000_0307.tiff     |     Thu Sep 22 14:27:59 2016', ' 20160922_CO-8-uptake_0000_0308.tiff     |     Thu Sep 22 14:27:59 2016', ' 20160922_CO-8-uptake_0000_0309.tiff     |     Thu Sep 22 14:27:59 2016', ' 20160922_CO-8-uptake_0000_0310.tiff     |     Thu Sep 22 14:27:59 2016', ' 20160922_CO-8-uptake_0000_0311.tiff     |     Thu Sep 22 14:27:59 2016', ' 20160922_CO-8-uptake_0000_0312.tiff     |     Thu Sep 22 14:27:59 2016', ' 20160922_CO-8-uptake_0000_0313.tiff     |     Thu Sep 22 14:27:59 2016', ' 20160922_CO-8-uptake_0000_0314.tiff     |     Thu Sep 22 14:27:59 2016', ' 20160922_CO-8-uptake_0000_0315.tiff     |     Thu Sep 22 14:27:59 2016', ' 20160922_CO-8-uptake_0000_0316.tiff     |     Thu Sep 22 14:27:59 2016', ' 20160922_CO-8-uptake_0000_0317.tiff     |     Thu Sep 22 14:27:59 2016', ' 20160922_CO-8-uptake_0000_0318.tiff     |     Thu Sep 22 14:27:59 2016', ' 20160922_CO-8-uptake_0000_0319.tiff     |     Thu Sep 22 14:27:59 2016', ' 20160922_CO-8-uptake_0000_0320.tiff     |     Thu Sep 22 14:27:59 2016', ' 20160922_CO-8-uptake_0000_0321.tiff     |     Thu Sep 22 14:27:59 2016', ' 20160922_CO-8-uptake_0000_0322.tiff     |     Thu Sep 22 14:27:59 2016', ' 20160922_CO-8-uptake_0000_0323.tiff     |     Thu Sep 22 14:27:59 2016', ' 20160922_CO-8-uptake_0000_0324.tiff     |     Thu Sep 22 14:27:59 2016', ' 20160922_CO-8-uptake_0000_0325.tiff     |     Thu Sep 22 14:27:59 2016', ' 20160922_CO-8-uptake_0000_0326.tiff     |     Thu Sep 22 14:27:59 2016', ' 20160922_CO-8-uptake_0000_0327.tiff     |     Thu Sep 22 14:28:00 2016', ' 20160922_CO-8-uptake_0000_0328.tiff     |     Thu Sep 22 14:28:00 2016', ' 20160922_CO-8-uptake_0000_0329.tiff     |     Thu Sep 22 14:28:00 2016', ' 20160922_CO-8-uptake_0000_0330.tiff     |     Thu Sep 22 14:28:00 2016', ' 20160922_CO-8-uptake_0000_0331.tiff     |     Thu Sep 22 14:28:00 2016', ' 20160922_CO-8-uptake_0000_0332.tiff     |     Thu Sep 22 14:28:00 2016', ' 20160922_CO-8-uptake_0000_0333.tiff     |     Thu Sep 22 14:28:00 2016', ' 20160922_CO-8-uptake_0000_0334.tiff     |     Thu Sep 22 14:28:00 2016', ' 20160922_CO-8-uptake_0000_0335.tiff     |     Thu Sep 22 14:28:00 2016', ' 20160922_CO-8-uptake_0000_0336.tiff     |     Thu Sep 22 14:28:00 2016', ' 20160922_CO-8-uptake_0000_0337.tiff     |     Thu Sep 22 14:28:00 2016', ' 20160922_CO-8-uptake_0000_0338.tiff     |     Thu Sep 22 14:28:01 2016', ' 20160922_CO-8-uptake_0000_0339.tiff     |     Thu Sep 22 14:28:01 2016', ' 20160922_CO-8-uptake_0000_0340.tiff     |     Thu Sep 22 14:28:01 2016', ' 20160922_CO-8-uptake_0000_0341.tiff     |     Thu Sep 22 14:28:01 2016', ' 20160922_CO-8-uptake_0000_0342.tiff     |     Thu Sep 22 14:28:01 2016', ' 20160922_CO-8-uptake_0000_0343.tiff     |     Thu Sep 22 14:28:01 2016', ' 20160922_CO-8-uptake_0000_0344.tiff     |     Thu Sep 22 14:28:01 2016', ' 20160922_CO-8-uptake_0000_0345.tiff     |     Thu Sep 22 14:28:01 2016', ' 20160922_CO-8-uptake_0000_0346.tiff     |     Thu Sep 22 14:28:01 2016', ' 20160922_CO-8-uptake_0000_0347.tiff     |     Thu Sep 22 14:28:01 2016', ' 20160922_CO-8-uptake_0000_0348.tiff     |     Thu Sep 22 14:28:02 2016', ' 20160922_CO-8-uptake_0000_0349.tiff     |     Thu Sep 22 14:28:02 2016', ' 20160922_CO-8-uptake_0000_0350.tiff     |     Thu Sep 22 14:28:02 2016', ' 20160922_CO-8-uptake_0000_0351.tiff     |     Thu Sep 22 14:28:02 2016', ' 20160922_CO-8-uptake_0000_0352.tiff     |     Thu Sep 22 14:28:02 2016', ' 20160922_CO-8-uptake_0000_0353.tiff     |     Thu Sep 22 14:28:02 2016', ' 20160922_CO-8-uptake_0000_0354.tiff     |     Thu Sep 22 14:28:02 2016', ' 20160922_CO-8-uptake_0000_0355.tiff     |     Thu Sep 22 14:28:02 2016', ' 20160922_CO-8-uptake_0000_0356.tiff     |     Thu Sep 22 14:28:02 2016', ' 20160922_CO-8-uptake_0000_0357.tiff     |     Thu Sep 22 14:28:02 2016', ' 20160922_CO-8-uptake_0000_0358.tiff     |     Thu Sep 22 14:28:02 2016', ' 20160922_CO-8-uptake_0000_0359.tiff     |     Thu Sep 22 14:28:02 2016', ' 20160922_CO-8-uptake_0000_0360.tiff     |     Thu Sep 22 14:28:02 2016', ' 20160922_CO-8-uptake_0000_0361.tiff     |     Thu Sep 22 14:28:02 2016', ' 20160922_CO-8-uptake_0000_0362.tiff     |     Thu Sep 22 14:28:02 2016', ' 20160922_CO-8-uptake_0000_0363.tiff     |     Thu Sep 22 14:28:02 2016', ' 20160922_CO-8-uptake_0000_0364.tiff     |     Thu Sep 22 14:28:02 2016', ' 20160922_CO-8-uptake_0000_0365.tiff     |     Thu Sep 22 14:28:02 2016', ' 20160922_CO-8-uptake_0000_0366.tiff     |     Thu Sep 22 14:28:02 2016', ' 20160922_CO-8-uptake_0000_0367.tiff     |     Thu Sep 22 14:28:02 2016', ' 20160922_CO-8-uptake_0000_0368.tiff     |     Thu Sep 22 14:28:02 2016', ' 20160922_CO-8-uptake_0000_0369.tiff     |     Thu Sep 22 14:28:02 2016', ' 20160922_CO-8-uptake_0000_0370.tiff     |     Thu Sep 22 14:28:02 2016', ' 20160922_CO-8-uptake_0000_0371.tiff     |     Thu Sep 22 14:28:02 2016', ' 20160922_CO-8-uptake_0000_0372.tiff     |     Thu Sep 22 14:28:02 2016', ' 20160922_CO-8-uptake_0000_0373.tiff     |     Thu Sep 22 14:28:02 2016', ' 20160922_CO-8-uptake_0000_0374.tiff     |     Thu Sep 22 14:28:02 2016', ' 20160922_CO-8-uptake_0000_0375.tiff     |     Thu Sep 22 14:28:02 2016', ' 20160922_CO-8-uptake_0000_0376.tiff     |     Thu Sep 22 14:28:02 2016', ' 20160922_CO-8-uptake_0000_0377.tiff     |     Thu Sep 22 14:28:02 2016', ' 20160922_CO-8-uptake_0000_0378.tiff     |     Thu Sep 22 14:28:02 2016', ' 20160922_CO-8-uptake_0000_0379.tiff     |     Thu Sep 22 14:28:02 2016', ' 20160922_CO-8-uptake_0000_0380.tiff     |     Thu Sep 22 14:28:02 2016', ' 20160922_CO-8-uptake_0000_0381.tiff     |     Thu Sep 22 14:28:02 2016', ' 20160922_CO-8-uptake_0000_0382.tiff     |     Thu Sep 22 14:28:02 2016', ' 20160922_CO-8-uptake_0000_0383.tiff     |     Thu Sep 22 14:28:02 2016', ' 20160922_CO-8-uptake_0000_0384.tiff     |     Thu Sep 22 14:28:02 2016', ' 20160922_CO-8-uptake_0000_0385.tiff     |     Thu Sep 22 14:28:02 2016', ' 20160922_CO-8-uptake_0000_0386.tiff     |     Thu Sep 22 14:28:02 2016', ' 20160922_CO-8-uptake_0000_0387.tiff     |     Thu Sep 22 14:28:02 2016', ' 20160922_CO-8-uptake_0000_0388.tiff     |     Thu Sep 22 14:28:02 2016', ' 20160922_CO-8-uptake_0000_0389.tiff     |     Thu Sep 22 14:28:02 2016', ' 20160922_CO-8-uptake_0000_0390.tiff     |     Thu Sep 22 14:28:02 2016', ' 20160922_CO-8-uptake_0000_0391.tiff     |     Thu Sep 22 14:28:02 2016', ' 20160922_CO-8-uptake_0000_0392.tiff     |     Thu Sep 22 14:28:02 2016', ' 20160922_CO-8-uptake_0000_0393.tiff     |     Thu Sep 22 14:28:02 2016', ' 20160922_CO-8-uptake_0000_0394.tiff     |     Thu Sep 22 14:28:02 2016', ' 20160922_CO-8-uptake_0000_0395.tiff     |     Thu Sep 22 14:28:02 2016', ' 20160922_CO-8-uptake_0000_0396.tiff     |     Thu Sep 22 14:28:02 2016', ' 20160922_CO-8-uptake_0000_0397.tiff     |     Thu Sep 22 14:28:02 2016', ' 20160922_CO-8-uptake_0000_0398.tiff     |     Thu Sep 22 14:28:02 2016', ' 20160922_CO-8-uptake_0000_0399.tiff     |     Thu Sep 22 14:28:02 2016', ' 20160922_CO-8-uptake_0000_0400.tiff     |     Thu Sep 22 14:28:02 2016', ' 20160922_CO-8-uptake_0000_0401.tiff     |     Thu Sep 22 14:28:02 2016', ' 20160922_CO-8-uptake_0000_0402.tiff     |     Thu Sep 22 14:28:02 2016', ' 20160922_CO-8-uptake_0000_0403.tiff     |     Thu Sep 22 14:28:02 2016', ' 20160922_CO-8-uptake_0000_0404.tiff     |     Thu Sep 22 14:28:02 2016', ' 20160922_CO-8-uptake_0000_0405.tiff     |     Thu Sep 22 14:28:02 2016', ' 20160922_CO-8-uptake_0000_0406.tiff     |     Thu Sep 22 14:28:02 2016', ' 20160922_CO-8-uptake_0000_0407.tiff     |     Thu Sep 22 14:28:02 2016', ' 20160922_CO-8-uptake_0000_0408.tiff     |     Thu Sep 22 14:28:02 2016', ' 20160922_CO-8-uptake_0000_0409.tiff     |     Thu Sep 22 14:28:02 2016', ' 20160922_CO-8-uptake_0000_0410.tiff     |     Thu Sep 22 14:28:02 2016', ' 20160922_CO-8-uptake_0000_0411.tiff     |     Thu Sep 22 14:28:03 2016', ' 20160922_CO-8-uptake_0000_0412.tiff     |     Thu Sep 22 14:28:03 2016', ' 20160922_CO-8-uptake_0000_0413.tiff     |     Thu Sep 22 14:28:03 2016', ' 20160922_CO-8-uptake_0000_0414.tiff     |     Thu Sep 22 14:28:03 2016', ' 20160922_CO-8-uptake_0000_0415.tiff     |     Thu Sep 22 14:28:03 2016', ' 20160922_CO-8-uptake_0000_0416.tiff     |     Thu Sep 22 14:28:03 2016', ' 20160922_CO-8-uptake_0000_0417.tiff     |     Thu Sep 22 14:28:03 2016', ' 20160922_CO-8-uptake_0000_0418.tiff     |     Thu Sep 22 14:28:03 2016', ' 20160922_CO-8-uptake_0000_0419.tiff     |     Thu Sep 22 14:28:03 2016', ' 20160922_CO-8-uptake_0000_0420.tiff     |     Thu Sep 22 14:28:03 2016', ' 20160922_CO-8-uptake_0000_0421.tiff     |     Thu Sep 22 14:28:03 2016', ' 20160922_CO-8-uptake_0000_0422.tiff     |     Thu Sep 22 14:28:03 2016', ' 20160922_CO-8-uptake_0000_0423.tiff     |     Thu Sep 22 14:28:03 2016', ' 20160922_CO-8-uptake_0000_0424.tiff     |     Thu Sep 22 14:28:03 2016', ' 20160922_CO-8-uptake_0000_0425.tiff     |     Thu Sep 22 14:28:03 2016', ' 20160922_CO-8-uptake_0000_0426.tiff     |     Thu Sep 22 14:28:03 2016', ' 20160922_CO-8-uptake_0000_0427.tiff     |     Thu Sep 22 14:28:03 2016', ' 20160922_CO-8-uptake_0000_0428.tiff     |     Thu Sep 22 14:28:03 2016', ' 20160922_CO-8-uptake_0000_0429.tiff     |     Thu Sep 22 14:28:03 2016', ' 20160922_CO-8-uptake_0000_0430.tiff     |     Thu Sep 22 14:28:03 2016', ' 20160922_CO-8-uptake_0000_0431.tiff     |     Thu Sep 22 14:28:03 2016', ' 20160922_CO-8-uptake_0000_0432.tiff     |     Thu Sep 22 14:28:03 2016', ' 20160922_CO-8-uptake_0000_0433.tiff     |     Thu Sep 22 14:28:03 2016', ' 20160922_CO-8-uptake_0000_0434.tiff     |     Thu Sep 22 14:28:03 2016', ' 20160922_CO-8-uptake_0000_0435.tiff     |     Thu Sep 22 14:28:03 2016', ' 20160922_CO-8-uptake_0000_0436.tiff     |     Thu Sep 22 14:28:03 2016', ' 20160922_CO-8-uptake_0000_0437.tiff     |     Thu Sep 22 14:28:03 2016', ' 20160922_CO-8-uptake_0000_0438.tiff     |     Thu Sep 22 14:28:03 2016', ' 20160922_CO-8-uptake_0000_0439.tiff     |     Thu Sep 22 14:28:03 2016', ' 20160922_CO-8-uptake_0000_0440.tiff     |     Thu Sep 22 14:28:03 2016', ' 20160922_CO-8-uptake_0000_0441.tiff     |     Thu Sep 22 14:28:03 2016', ' 20160922_CO-8-uptake_0000_0442.tiff     |     Thu Sep 22 14:28:03 2016', ' 20160922_CO-8-uptake_0000_0443.tiff     |     Thu Sep 22 14:28:03 2016', ' 20160922_CO-8-uptake_0000_0444.tiff     |     Thu Sep 22 14:28:03 2016', ' 20160922_CO-8-uptake_0000_0445.tiff     |     Thu Sep 22 14:28:03 2016', ' 20160922_CO-8-uptake_0000_0446.tiff     |     Thu Sep 22 14:28:03 2016', ' 20160922_CO-8-uptake_0000_0447.tiff     |     Thu Sep 22 14:28:03 2016', ' 20160922_CO-8-uptake_0000_0448.tiff     |     Thu Sep 22 14:28:03 2016', ' 20160922_CO-8-uptake_0000_0449.tiff     |     Thu Sep 22 14:28:04 2016', ' 20160922_CO-8-uptake_0000_0450.tiff     |     Thu Sep 22 14:28:04 2016', ' 20160922_CO-8-uptake_0000_0451.tiff     |     Thu Sep 22 14:28:04 2016', ' 20160922_CO-8-uptake_0000_0452.tiff     |     Thu Sep 22 14:28:04 2016', ' 20160922_CO-8-uptake_0000_0453.tiff     |     Thu Sep 22 14:28:04 2016', ' 20160922_CO-8-uptake_0000_0454.tiff     |     Thu Sep 22 14:28:04 2016', ' 20160922_CO-8-uptake_0000_0455.tiff     |     Thu Sep 22 14:28:04 2016', ' 20160922_CO-8-uptake_0000_0456.tiff     |     Thu Sep 22 14:28:04 2016', ' 20160922_CO-8-uptake_0000_0457.tiff     |     Thu Sep 22 14:28:04 2016', ' 20160922_CO-8-uptake_0000_0458.tiff     |     Thu Sep 22 14:28:04 2016', ' 20160922_CO-8-uptake_0000_0459.tiff     |     Thu Sep 22 14:28:04 2016', ' 20160922_CO-8-uptake_0000_0460.tiff     |     Thu Sep 22 14:28:04 2016', ' 20160922_CO-8-uptake_0000_0461.tiff     |     Thu Sep 22 14:28:04 2016', ' 20160922_CO-8-uptake_0000_0462.tiff     |     Thu Sep 22 14:28:04 2016', ' 20160922_CO-8-uptake_0000_0463.tiff     |     Thu Sep 22 14:28:04 2016', ' 20160922_CO-8-uptake_0000_0464.tiff     |     Thu Sep 22 14:28:04 2016', ' 20160922_CO-8-uptake_0000_0465.tiff     |     Thu Sep 22 14:28:04 2016', ' 20160922_CO-8-uptake_0000_0466.tiff     |     Thu Sep 22 14:28:04 2016', ' 20160922_CO-8-uptake_0000_0467.tiff     |     Thu Sep 22 14:28:04 2016', ' 20160922_CO-8-uptake_0000_0468.tiff     |     Thu Sep 22 14:28:04 2016', ' 20160922_CO-8-uptake_0000_0469.tiff     |     Thu Sep 22 14:28:04 2016', ' 20160922_CO-8-uptake_0000_0470.tiff     |     Thu Sep 22 14:28:04 2016', ' 20160922_CO-8-uptake_0000_0471.tiff     |     Thu Sep 22 14:28:04 2016', ' 20160922_CO-8-uptake_0000_0472.tiff     |     Thu Sep 22 14:28:05 2016', ' 20160922_CO-8-uptake_0000_0473.tiff     |     Thu Sep 22 14:28:05 2016', ' 20160922_CO-8-uptake_0000_0474.tiff     |     Thu Sep 22 14:28:05 2016', ' 20160922_CO-8-uptake_0000_0475.tiff     |     Thu Sep 22 14:28:05 2016', ' 20160922_CO-8-uptake_0000_0476.tiff     |     Thu Sep 22 14:28:05 2016', ' 20160922_CO-8-uptake_0000_0477.tiff     |     Thu Sep 22 14:28:05 2016', ' 20160922_CO-8-uptake_0000_0478.tiff     |     Thu Sep 22 14:28:05 2016', ' 20160922_CO-8-uptake_0000_0479.tiff     |     Thu Sep 22 14:28:05 2016', ' 20160922_CO-8-uptake_0000_0480.tiff     |     Thu Sep 22 14:28:05 2016', ' 20160922_CO-8-uptake_0000_0481.tiff     |     Thu Sep 22 14:28:05 2016', ' 20160922_CO-8-uptake_0000_0482.tiff     |     Thu Sep 22 14:28:05 2016', ' 20160922_CO-8-uptake_0000_0483.tiff     |     Thu Sep 22 14:28:05 2016', ' 20160922_CO-8-uptake_0000_0484.tiff     |     Thu Sep 22 14:28:05 2016', ' 20160922_CO-8-uptake_0000_0485.tiff     |     Thu Sep 22 14:28:05 2016', ' 20160922_CO-8-uptake_0000_0486.tiff     |     Thu Sep 22 14:28:05 2016', ' 20160922_CO-8-uptake_0000_0487.tiff     |     Thu Sep 22 14:28:05 2016', ' 20160922_CO-8-uptake_0000_0488.tiff     |     Thu Sep 22 14:28:05 2016', ' 20160922_CO-8-uptake_0000_0489.tiff     |     Thu Sep 22 14:28:05 2016', ' 20160922_CO-8-uptake_0000_0490.tiff     |     Thu Sep 22 14:28:05 2016', ' 20160922_CO-8-uptake_0000_0491.tiff     |     Thu Sep 22 14:28:05 2016', ' 20160922_CO-8-uptake_0000_0492.tiff     |     Thu Sep 22 14:28:05 2016', ' 20160922_CO-8-uptake_0000_0493.tiff     |     Thu Sep 22 14:28:05 2016', ' 20160922_CO-8-uptake_0000_0494.tiff     |     Thu Sep 22 14:28:05 2016', ' 20160922_CO-8-uptake_0000_0495.tiff     |     Thu Sep 22 14:28:05 2016', ' 20160922_CO-8-uptake_0000_0496.tiff     |     Thu Sep 22 14:28:05 2016', ' 20160922_CO-8-uptake_0000_0497.tiff     |     Thu Sep 22 14:28:05 2016', ' 20160922_CO-8-uptake_0000_0498.tiff     |     Thu Sep 22 14:28:05 2016', ' 20160922_CO-8-uptake_0000_0499.tiff     |     Thu Sep 22 14:28:05 2016', ' 20160922_CO-8-uptake_0000_0500.tiff     |     Thu Sep 22 14:28:05 2016', ' 20160922_CO-8-uptake_0000_0501.tiff     |     Thu Sep 22 14:28:05 2016', ' 20160922_CO-8-uptake_0000_0502.tiff     |     Thu Sep 22 14:28:05 2016', ' 20160922_CO-8-uptake_0000_0503.tiff     |     Thu Sep 22 14:28:05 2016', ' 20160922_CO-8-uptake_0000_0504.tiff     |     Thu Sep 22 14:28:05 2016', ' 20160922_CO-8-uptake_0000_0505.tiff     |     Thu Sep 22 14:28:05 2016', ' 20160922_CO-8-uptake_0000_0506.tiff     |     Thu Sep 22 14:28:05 2016', ' 20160922_CO-8-uptake_0000_0507.tiff     |     Thu Sep 22 14:28:05 2016', ' 20160922_CO-8-uptake_0000_0508.tiff     |     Thu Sep 22 14:28:05 2016', ' 20160922_CO-8-uptake_0000_0509.tiff     |     Thu Sep 22 14:28:06 2016', ' 20160922_CO-8-uptake_0000_0510.tiff     |     Thu Sep 22 14:28:06 2016', ' 20160922_CO-8-uptake_0000_0511.tiff     |     Thu Sep 22 14:28:06 2016', ' 20160922_CO-8-uptake_0000_0512.tiff     |     Thu Sep 22 14:28:06 2016', ' 20160922_CO-8-uptake_0000_0513.tiff     |     Thu Sep 22 14:28:06 2016', ' 20160922_CO-8-uptake_0000_0514.tiff     |     Thu Sep 22 14:28:06 2016', ' 20160922_CO-8-uptake_0000_0515.tiff     |     Thu Sep 22 14:28:06 2016', ' 20160922_CO-8-uptake_0000_0516.tiff     |     Thu Sep 22 14:28:06 2016', ' 20160922_CO-8-uptake_0000_0517.tiff     |     Thu Sep 22 14:28:06 2016', ' 20160922_CO-8-uptake_0000_0518.tiff     |     Thu Sep 22 14:28:06 2016', ' 20160922_CO-8-uptake_0000_0519.tiff     |     Thu Sep 22 14:28:06 2016', ' 20160922_CO-8-uptake_0000_0520.tiff     |     Thu Sep 22 14:28:06 2016', ' 20160922_CO-8-uptake_0000_0521.tiff     |     Thu Sep 22 14:28:06 2016', ' 20160922_CO-8-uptake_0000_0522.tiff     |     Thu Sep 22 14:28:06 2016', ' 20160922_CO-8-uptake_0000_0523.tiff     |     Thu Sep 22 14:28:06 2016', ' 20160922_CO-8-uptake_0000_0524.tiff     |     Thu Sep 22 14:28:06 2016', ' 20160922_CO-8-uptake_0000_0525.tiff     |     Thu Sep 22 14:28:06 2016', ' 20160922_CO-8-uptake_0000_0526.tiff     |     Thu Sep 22 14:28:06 2016', ' 20160922_CO-8-uptake_0000_0527.tiff     |     Thu Sep 22 14:28:06 2016', ' 20160922_CO-8-uptake_0000_0528.tiff     |     Thu Sep 22 14:28:06 2016', ' 20160922_CO-8-uptake_0000_0529.tiff     |     Thu Sep 22 14:28:06 2016', ' 20160922_CO-8-uptake_0000_0530.tiff     |     Thu Sep 22 14:28:06 2016', ' 20160922_CO-8-uptake_0000_0531.tiff     |     Thu Sep 22 14:28:06 2016', ' 20160922_CO-8-uptake_0000_0532.tiff     |     Thu Sep 22 14:28:06 2016', ' 20160922_CO-8-uptake_0000_0533.tiff     |     Thu Sep 22 14:28:06 2016', ' 20160922_CO-8-uptake_0000_0534.tiff     |     Thu Sep 22 14:28:06 2016', ' 20160922_CO-8-uptake_0000_0535.tiff     |     Thu Sep 22 14:28:06 2016', ' 20160922_CO-8-uptake_0000_0536.tiff     |     Thu Sep 22 14:28:06 2016', ' 20160922_CO-8-uptake_0000_0537.tiff     |     Thu Sep 22 14:28:06 2016', ' 20160922_CO-8-uptake_0000_0538.tiff     |     Thu Sep 22 14:28:06 2016', ' 20160922_CO-8-uptake_0000_0539.tiff     |     Thu Sep 22 14:28:07 2016', ' 20160922_CO-8-uptake_0000_0540.tiff     |     Thu Sep 22 14:28:07 2016', ' 20160922_CO-8-uptake_0000_0541.tiff     |     Thu Sep 22 14:28:07 2016', ' 20160922_CO-8-uptake_0000_0542.tiff     |     Thu Sep 22 14:28:07 2016', ' 20160922_CO-8-uptake_0000_0543.tiff     |     Thu Sep 22 14:28:07 2016', ' 20160922_CO-8-uptake_0000_0544.tiff     |     Thu Sep 22 14:28:07 2016', ' 20160922_CO-8-uptake_0000_0545.tiff     |     Thu Sep 22 14:28:07 2016', ' 20160922_CO-8-uptake_0000_0546.tiff     |     Thu Sep 22 14:28:07 2016', ' 20160922_CO-8-uptake_0000_0547.tiff     |     Thu Sep 22 14:28:07 2016', ' 20160922_CO-8-uptake_0000_0548.tiff     |     Thu Sep 22 14:28:07 2016', ' 20160922_CO-8-uptake_0000_0549.tiff     |     Thu Sep 22 14:28:07 2016', ' 20160922_CO-8-uptake_0000_0550.tiff     |     Thu Sep 22 14:28:07 2016', ' 20160922_CO-8-uptake_0000_0551.tiff     |     Thu Sep 22 14:28:07 2016', ' 20160922_CO-8-uptake_0000_0552.tiff     |     Thu Sep 22 14:28:07 2016', ' 20160922_CO-8-uptake_0000_0553.tiff     |     Thu Sep 22 14:28:07 2016', ' 20160922_CO-8-uptake_0000_0554.tiff     |     Thu Sep 22 14:28:07 2016', ' 20160922_CO-8-uptake_0000_0555.tiff     |     Thu Sep 22 14:28:07 2016', ' 20160922_CO-8-uptake_0000_0556.tiff     |     Thu Sep 22 14:28:07 2016', ' 20160922_CO-8-uptake_0000_0557.tiff     |     Thu Sep 22 14:28:07 2016', ' 20160922_CO-8-uptake_0000_0558.tiff     |     Thu Sep 22 14:28:07 2016', ' 20160922_CO-8-uptake_0000_0559.tiff     |     Thu Sep 22 14:28:07 2016', ' 20160922_CO-8-uptake_0000_0560.tiff     |     Thu Sep 22 14:28:07 2016', ' 20160922_CO-8-uptake_0000_0561.tiff     |     Thu Sep 22 14:28:07 2016', ' 20160922_CO-8-uptake_0000_0562.tiff     |     Thu Sep 22 14:28:07 2016', ' 20160922_CO-8-uptake_0000_0563.tiff     |     Thu Sep 22 14:28:07 2016', ' 20160922_CO-8-uptake_0000_0564.tiff     |     Thu Sep 22 14:28:07 2016', ' 20160922_CO-8-uptake_0000_0565.tiff     |     Thu Sep 22 14:28:07 2016', ' 20160922_CO-8-uptake_0000_0566.tiff     |     Thu Sep 22 14:28:07 2016', ' 20160922_CO-8-uptake_0000_0567.tiff     |     Thu Sep 22 14:28:07 2016', ' 20160922_CO-8-uptake_0000_0568.tiff     |     Thu Sep 22 14:28:07 2016', ' 20160922_CO-8-uptake_0000_0569.tiff     |     Thu Sep 22 14:28:07 2016', ' 20160922_CO-8-uptake_0000_0570.tiff     |     Thu Sep 22 14:28:08 2016', ' 20160922_CO-8-uptake_0000_0571.tiff     |     Thu Sep 22 14:28:08 2016', ' 20160922_CO-8-uptake_0000_0572.tiff     |     Thu Sep 22 14:28:08 2016', ' 20160922_CO-8-uptake_0000_0573.tiff     |     Thu Sep 22 14:28:08 2016', ' 20160922_CO-8-uptake_0000_0574.tiff     |     Thu Sep 22 14:28:08 2016', ' 20160922_CO-8-uptake_0000_0575.tiff     |     Thu Sep 22 14:28:08 2016', ' 20160922_CO-8-uptake_0000_0576.tiff     |     Thu Sep 22 14:28:08 2016', ' 20160922_CO-8-uptake_0000_0577.tiff     |     Thu Sep 22 14:28:08 2016', ' 20160922_CO-8-uptake_0000_0578.tiff     |     Thu Sep 22 14:28:08 2016', ' 20160922_CO-8-uptake_0000_0579.tiff     |     Thu Sep 22 14:28:08 2016', ' 20160922_CO-8-uptake_0000_0580.tiff     |     Thu Sep 22 14:28:08 2016', ' 20160922_CO-8-uptake_0000_0581.tiff     |     Thu Sep 22 14:28:08 2016', ' 20160922_CO-8-uptake_0000_0582.tiff     |     Thu Sep 22 14:28:08 2016', ' 20160922_CO-8-uptake_0000_0583.tiff     |     Thu Sep 22 14:28:08 2016', ' 20160922_CO-8-uptake_0000_0584.tiff     |     Thu Sep 22 14:28:08 2016', ' 20160922_CO-8-uptake_0000_0585.tiff     |     Thu Sep 22 14:28:08 2016', ' 20160922_CO-8-uptake_0000_0586.tiff     |     Thu Sep 22 14:28:08 2016', ' 20160922_CO-8-uptake_0000_0587.tiff     |     Thu Sep 22 14:28:08 2016', ' 20160922_CO-8-uptake_0000_0588.tiff     |     Thu Sep 22 14:28:08 2016', ' 20160922_CO-8-uptake_0000_0589.tiff     |     Thu Sep 22 14:28:08 2016', ' 20160922_CO-8-uptake_0000_0590.tiff     |     Thu Sep 22 14:28:08 2016', ' 20160922_CO-8-uptake_0000_0591.tiff     |     Thu Sep 22 14:28:08 2016', ' 20160922_CO-8-uptake_0000_0592.tiff     |     Thu Sep 22 14:28:08 2016', ' 20160922_CO-8-uptake_0000_0593.tiff     |     Thu Sep 22 14:28:08 2016', ' 20160922_CO-8-uptake_0000_0594.tiff     |     Thu Sep 22 14:28:08 2016', ' 20160922_CO-8-uptake_0000_0595.tiff     |     Thu Sep 22 14:28:08 2016', ' 20160922_CO-8-uptake_0000_0596.tiff     |     Thu Sep 22 14:28:08 2016', ' 20160922_CO-8-uptake_0000_0597.tiff     |     Thu Sep 22 14:28:08 2016', ' 20160922_CO-8-uptake_0000_0598.tiff     |     Thu Sep 22 14:28:08 2016', ' 20160922_CO-8-uptake_0000_0599.tiff     |     Thu Sep 22 14:28:08 2016', ' 20160922_CO-8-uptake_0000_0600.tiff     |     Thu Sep 22 14:28:09 2016', ' 20160922_CO-8-uptake_0000_0601.tiff     |     Thu Sep 22 14:28:09 2016', ' 20160922_CO-8-uptake_0000_0602.tiff     |     Thu Sep 22 14:28:09 2016', ' 20160922_CO-8-uptake_0000_0603.tiff     |     Thu Sep 22 14:28:09 2016', ' 20160922_CO-8-uptake_0000_0604.tiff     |     Thu Sep 22 14:28:09 2016', ' 20160922_CO-8-uptake_0000_0605.tiff     |     Thu Sep 22 14:28:09 2016', ' 20160922_CO-8-uptake_0000_0606.tiff     |     Thu Sep 22 14:28:09 2016', ' 20160922_CO-8-uptake_0000_0607.tiff     |     Thu Sep 22 14:28:09 2016', ' 20160922_CO-8-uptake_0000_0608.tiff     |     Thu Sep 22 14:28:09 2016', ' 20160922_CO-8-uptake_0000_0609.tiff     |     Thu Sep 22 14:28:09 2016', ' 20160922_CO-8-uptake_0000_0610.tiff     |     Thu Sep 22 14:28:09 2016', ' 20160922_CO-8-uptake_0000_0611.tiff     |     Thu Sep 22 14:28:09 2016', ' 20160922_CO-8-uptake_0000_0612.tiff     |     Thu Sep 22 14:28:09 2016', ' 20160922_CO-8-uptake_0000_0613.tiff     |     Thu Sep 22 14:28:09 2016', ' 20160922_CO-8-uptake_0000_0614.tiff     |     Thu Sep 22 14:28:09 2016', ' 20160922_CO-8-uptake_0000_0615.tiff     |     Thu Sep 22 14:28:09 2016', ' 20160922_CO-8-uptake_0000_0616.tiff     |     Thu Sep 22 14:28:09 2016', ' 20160922_CO-8-uptake_0000_0617.tiff     |     Thu Sep 22 14:28:09 2016', ' 20160922_CO-8-uptake_0000_0618.tiff     |     Thu Sep 22 14:28:09 2016', ' 20160922_CO-8-uptake_0000_0619.tiff     |     Thu Sep 22 14:28:09 2016', ' 20160922_CO-8-uptake_0000_0620.tiff     |     Thu Sep 22 14:28:09 2016', ' 20160922_CO-8-uptake_0000_0621.tiff     |     Thu Sep 22 14:28:09 2016', ' 20160922_CO-8-uptake_0000_0622.tiff     |     Thu Sep 22 14:28:09 2016', ' 20160922_CO-8-uptake_0000_0623.tiff     |     Thu Sep 22 14:28:09 2016', ' 20160922_CO-8-uptake_0000_0624.tiff     |     Thu Sep 22 14:28:10 2016', ' 20160922_CO-8-uptake_0000_0625.tiff     |     Thu Sep 22 14:28:10 2016', ' 20160922_CO-8-uptake_0000_0626.tiff     |     Thu Sep 22 14:28:10 2016', ' 20160922_CO-8-uptake_0000_0627.tiff     |     Thu Sep 22 14:28:10 2016', ' 20160922_CO-8-uptake_0000_0628.tiff     |     Thu Sep 22 14:28:10 2016', ' 20160922_CO-8-uptake_0000_0629.tiff     |     Thu Sep 22 14:28:10 2016', ' 20160922_CO-8-uptake_0000_0630.tiff     |     Thu Sep 22 14:28:10 2016', ' 20160922_CO-8-uptake_0000_0631.tiff     |     Thu Sep 22 14:28:10 2016', ' 20160922_CO-8-uptake_0000_0632.tiff     |     Thu Sep 22 14:28:10 2016', ' 20160922_CO-8-uptake_0000_0633.tiff     |     Thu Sep 22 14:28:10 2016', ' 20160922_CO-8-uptake_0000_0634.tiff     |     Thu Sep 22 14:28:10 2016', ' 20160922_CO-8-uptake_0000_0635.tiff     |     Thu Sep 22 14:28:10 2016', ' 20160922_CO-8-uptake_0000_0636.tiff     |     Thu Sep 22 14:28:10 2016', ' 20160922_CO-8-uptake_0000_0637.tiff     |     Thu Sep 22 14:28:10 2016', ' 20160922_CO-8-uptake_0000_0638.tiff     |     Thu Sep 22 14:28:10 2016', ' 20160922_CO-8-uptake_0000_0639.tiff     |     Thu Sep 22 14:28:10 2016', ' 20160922_CO-8-uptake_0000_0640.tiff     |     Thu Sep 22 14:28:10 2016', ' 20160922_CO-8-uptake_0000_0641.tiff     |     Thu Sep 22 14:28:10 2016', ' 20160922_CO-8-uptake_0000_0642.tiff     |     Thu Sep 22 14:28:10 2016', ' 20160922_CO-8-uptake_0000_0643.tiff     |     Thu Sep 22 14:28:10 2016', ' 20160922_CO-8-uptake_0000_0644.tiff     |     Thu Sep 22 14:28:10 2016', ' 20160922_CO-8-uptake_0000_0645.tiff     |     Thu Sep 22 14:28:10 2016', ' 20160922_CO-8-uptake_0000_0646.tiff     |     Thu Sep 22 14:28:10 2016', ' 20160922_CO-8-uptake_0000_0647.tiff     |     Thu Sep 22 14:28:10 2016', ' 20160922_CO-8-uptake_0000_0648.tiff     |     Thu Sep 22 14:28:10 2016', ' 20160922_CO-8-uptake_0000_0649.tiff     |     Thu Sep 22 14:28:10 2016', ' 20160922_CO-8-uptake_0000_0650.tiff     |     Thu Sep 22 14:28:10 2016', ' 20160922_CO-8-uptake_0000_0651.tiff     |     Thu Sep 22 14:28:10 2016', ' 20160922_CO-8-uptake_0000_0652.tiff     |     Thu Sep 22 14:28:10 2016', ' 20160922_CO-8-uptake_0000_0653.tiff     |     Thu Sep 22 14:28:10 2016', ' 20160922_CO-8-uptake_0000_0654.tiff     |     Thu Sep 22 14:28:10 2016', ' 20160922_CO-8-uptake_0000_0655.tiff     |     Thu Sep 22 14:28:10 2016', ' 20160922_CO-8-uptake_0000_0656.tiff     |     Thu Sep 22 14:28:10 2016', ' 20160922_CO-8-uptake_0000_0657.tiff     |     Thu Sep 22 14:28:10 2016', ' 20160922_CO-8-uptake_0000_0658.tiff     |     Thu Sep 22 14:28:10 2016', ' 20160922_CO-8-uptake_0000_0659.tiff     |     Thu Sep 22 14:28:10 2016', ' 20160922_CO-8-uptake_0000_0660.tiff     |     Thu Sep 22 14:28:10 2016', ' 20160922_CO-8-uptake_0000_0661.tiff     |     Thu Sep 22 14:28:11 2016', ' 20160922_CO-8-uptake_0000_0662.tiff     |     Thu Sep 22 14:28:11 2016', ' 20160922_CO-8-uptake_0000_0663.tiff     |     Thu Sep 22 14:28:11 2016', ' 20160922_CO-8-uptake_0000_0664.tiff     |     Thu Sep 22 14:28:11 2016', ' 20160922_CO-8-uptake_0000_0665.tiff     |     Thu Sep 22 14:28:11 2016', ' 20160922_CO-8-uptake_0000_0666.tiff     |     Thu Sep 22 14:28:11 2016', ' 20160922_CO-8-uptake_0000_0667.tiff     |     Thu Sep 22 14:28:11 2016', ' 20160922_CO-8-uptake_0000_0668.tiff     |     Thu Sep 22 14:28:11 2016', ' 20160922_CO-8-uptake_0000_0669.tiff     |     Thu Sep 22 14:28:11 2016', ' 20160922_CO-8-uptake_0000_0670.tiff     |     Thu Sep 22 14:28:11 2016', ' 20160922_CO-8-uptake_0000_0671.tiff     |     Thu Sep 22 14:28:11 2016', ' 20160922_CO-8-uptake_0000_0672.tiff     |     Thu Sep 22 14:28:11 2016', ' 20160922_CO-8-uptake_0000_0673.tiff     |     Thu Sep 22 14:28:11 2016', ' 20160922_CO-8-uptake_0000_0674.tiff     |     Thu Sep 22 14:28:11 2016', ' 20160922_CO-8-uptake_0000_0675.tiff     |     Thu Sep 22 14:28:11 2016', ' 20160922_CO-8-uptake_0000_0676.tiff     |     Thu Sep 22 14:28:11 2016', ' 20160922_CO-8-uptake_0000_0677.tiff     |     Thu Sep 22 14:28:11 2016', ' 20160922_CO-8-uptake_0000_0678.tiff     |     Thu Sep 22 14:28:11 2016', ' 20160922_CO-8-uptake_0000_0679.tiff     |     Thu Sep 22 14:28:11 2016', ' 20160922_CO-8-uptake_0000_0680.tiff     |     Thu Sep 22 14:28:11 2016', ' 20160922_CO-8-uptake_0000_0681.tiff     |     Thu Sep 22 14:28:11 2016', ' 20160922_CO-8-uptake_0000_0682.tiff     |     Thu Sep 22 14:28:11 2016', ' 20160922_CO-8-uptake_0000_0683.tiff     |     Thu Sep 22 14:28:11 2016', ' 20160922_CO-8-uptake_0000_0684.tiff     |     Thu Sep 22 14:28:11 2016', ' 20160922_CO-8-uptake_0000_0685.tiff     |     Thu Sep 22 14:28:11 2016', ' 20160922_CO-8-uptake_0000_0686.tiff     |     Thu Sep 22 14:28:11 2016', ' 20160922_CO-8-uptake_0000_0687.tiff     |     Thu Sep 22 14:28:11 2016', ' 20160922_CO-8-uptake_0000_0688.tiff     |     Thu Sep 22 14:28:11 2016', ' 20160922_CO-8-uptake_0000_0689.tiff     |     Thu Sep 22 14:28:11 2016', ' 20160922_CO-8-uptake_0000_0690.tiff     |     Thu Sep 22 14:28:11 2016', ' 20160922_CO-8-uptake_0000_0691.tiff     |     Thu Sep 22 14:28:12 2016', ' 20160922_CO-8-uptake_0000_0692.tiff     |     Thu Sep 22 14:28:12 2016', ' 20160922_CO-8-uptake_0000_0693.tiff     |     Thu Sep 22 14:28:12 2016', ' 20160922_CO-8-uptake_0000_0694.tiff     |     Thu Sep 22 14:28:12 2016', ' 20160922_CO-8-uptake_0000_0695.tiff     |     Thu Sep 22 14:28:12 2016', ' 20160922_CO-8-uptake_0000_0696.tiff     |     Thu Sep 22 14:28:12 2016', ' 20160922_CO-8-uptake_0000_0697.tiff     |     Thu Sep 22 14:28:12 2016', ' 20160922_CO-8-uptake_0000_0698.tiff     |     Thu Sep 22 14:28:12 2016', ' 20160922_CO-8-uptake_0000_0699.tiff     |     Thu Sep 22 14:28:12 2016', ' 20160922_CO-8-uptake_0000_0700.tiff     |     Thu Sep 22 14:28:12 2016', ' 20160922_CO-8-uptake_0000_0701.tiff     |     Thu Sep 22 14:28:12 2016', ' 20160922_CO-8-uptake_0000_0702.tiff     |     Thu Sep 22 14:28:12 2016', ' 20160922_CO-8-uptake_0000_0703.tiff     |     Thu Sep 22 14:28:12 2016', ' 20160922_CO-8-uptake_0000_0704.tiff     |     Thu Sep 22 14:28:12 2016', ' 20160922_CO-8-uptake_0000_0705.tiff     |     Thu Sep 22 14:28:12 2016', ' 20160922_CO-8-uptake_0000_0706.tiff     |     Thu Sep 22 14:28:12 2016', ' 20160922_CO-8-uptake_0000_0707.tiff     |     Thu Sep 22 14:28:12 2016', ' 20160922_CO-8-uptake_0000_0708.tiff     |     Thu Sep 22 14:28:12 2016', ' 20160922_CO-8-uptake_0000_0709.tiff     |     Thu Sep 22 14:28:12 2016', ' 20160922_CO-8-uptake_0000_0710.tiff     |     Thu Sep 22 14:28:12 2016', ' 20160922_CO-8-uptake_0000_0711.tiff     |     Thu Sep 22 14:28:12 2016', ' 20160922_CO-8-uptake_0000_0712.tiff     |     Thu Sep 22 14:28:12 2016', ' 20160922_CO-8-uptake_0000_0713.tiff     |     Thu Sep 22 14:28:12 2016', ' 20160922_CO-8-uptake_0000_0714.tiff     |     Thu Sep 22 14:28:12 2016', ' 20160922_CO-8-uptake_0000_0715.tiff     |     Thu Sep 22 14:28:12 2016', ' 20160922_CO-8-uptake_0000_0716.tiff     |     Thu Sep 22 14:28:12 2016', ' 20160922_CO-8-uptake_0000_0717.tiff     |     Thu Sep 22 14:28:12 2016', ' 20160922_CO-8-uptake_0000_0718.tiff     |     Thu Sep 22 14:28:12 2016', ' 20160922_CO-8-uptake_0000_0719.tiff     |     Thu Sep 22 14:28:12 2016', ' 20160922_CO-8-uptake_0000_0720.tiff     |     Thu Sep 22 14:28:12 2016', ' 20160922_CO-8-uptake_0000_0721.tiff     |     Thu Sep 22 14:28:13 2016', ' 20160922_CO-8-uptake_0000_0722.tiff     |     Thu Sep 22 14:28:13 2016', ' 20160922_CO-8-uptake_0000_0723.tiff     |     Thu Sep 22 14:28:13 2016', ' 20160922_CO-8-uptake_0000_0724.tiff     |     Thu Sep 22 14:28:13 2016', ' 20160922_CO-8-uptake_0000_0725.tiff     |     Thu Sep 22 14:28:13 2016', ' 20160922_CO-8-uptake_0000_0726.tiff     |     Thu Sep 22 14:28:13 2016', ' 20160922_CO-8-uptake_0000_0727.tiff     |     Thu Sep 22 14:28:13 2016', ' 20160922_CO-8-uptake_0000_0728.tiff     |     Thu Sep 22 14:28:13 2016', ' 20160922_CO-8-uptake_0000_0729.tiff     |     Thu Sep 22 14:28:13 2016', ' 20160922_CO-8-uptake_0000_0730.tiff     |     Thu Sep 22 14:28:13 2016', ' 20160922_CO-8-uptake_0000_0731.tiff     |     Thu Sep 22 14:28:13 2016', ' 20160922_CO-8-uptake_0000_0732.tiff     |     Thu Sep 22 14:28:13 2016', ' 20160922_CO-8-uptake_0000_0733.tiff     |     Thu Sep 22 14:28:13 2016', ' 20160922_CO-8-uptake_0000_0734.tiff     |     Thu Sep 22 14:28:13 2016', ' 20160922_CO-8-uptake_0000_0735.tiff     |     Thu Sep 22 14:28:13 2016', ' 20160922_CO-8-uptake_0000_0736.tiff     |     Thu Sep 22 14:28:13 2016', ' 20160922_CO-8-uptake_0000_0737.tiff     |     Thu Sep 22 14:28:13 2016', ' 20160922_CO-8-uptake_0000_0738.tiff     |     Thu Sep 22 14:28:13 2016', ' 20160922_CO-8-uptake_0000_0739.tiff     |     Thu Sep 22 14:28:13 2016', ' 20160922_CO-8-uptake_0000_0740.tiff     |     Thu Sep 22 14:28:13 2016', ' 20160922_CO-8-uptake_0000_0741.tiff     |     Thu Sep 22 14:28:13 2016', ' 20160922_CO-8-uptake_0000_0742.tiff     |     Thu Sep 22 14:28:13 2016', ' 20160922_CO-8-uptake_0000_0743.tiff     |     Thu Sep 22 14:28:13 2016', ' 20160922_CO-8-uptake_0000_0744.tiff     |     Thu Sep 22 14:28:13 2016', ' 20160922_CO-8-uptake_0000_0745.tiff     |     Thu Sep 22 14:28:13 2016', ' 20160922_CO-8-uptake_0000_0746.tiff     |     Thu Sep 22 14:28:13 2016', ' 20160922_CO-8-uptake_0000_0747.tiff     |     Thu Sep 22 14:28:13 2016', ' 20160922_CO-8-uptake_0000_0748.tiff     |     Thu Sep 22 14:28:13 2016', ' 20160922_CO-8-uptake_0000_0749.tiff     |     Thu Sep 22 14:28:13 2016', ' 20160922_CO-8-uptake_0000_0750.tiff     |     Thu Sep 22 14:28:13 2016', ' 20160922_CO-8-uptake_0000_0751.tiff     |     Thu Sep 22 14:28:13 2016', ' 20160922_CO-8-uptake_0000_0752.tiff     |     Thu Sep 22 14:28:14 2016', ' 20160922_CO-8-uptake_0000_0753.tiff     |     Thu Sep 22 14:28:14 2016', ' 20160922_CO-8-uptake_0000_0754.tiff     |     Thu Sep 22 14:28:14 2016', ' 20160922_CO-8-uptake_0000_0755.tiff     |     Thu Sep 22 14:28:14 2016', ' 20160922_CO-8-uptake_0000_0756.tiff     |     Thu Sep 22 14:28:14 2016', ' 20160922_CO-8-uptake_0000_0757.tiff     |     Thu Sep 22 14:28:14 2016', ' 20160922_CO-8-uptake_0000_0758.tiff     |     Thu Sep 22 14:28:14 2016', ' 20160922_CO-8-uptake_0000_0759.tiff     |     Thu Sep 22 14:28:14 2016', ' 20160922_CO-8-uptake_0000_0760.tiff     |     Thu Sep 22 14:28:14 2016', ' 20160922_CO-8-uptake_0000_0761.tiff     |     Thu Sep 22 14:28:14 2016', ' 20160922_CO-8-uptake_0000_0762.tiff     |     Thu Sep 22 14:28:14 2016', ' 20160922_CO-8-uptake_0000_0763.tiff     |     Thu Sep 22 14:28:14 2016', ' 20160922_CO-8-uptake_0000_0764.tiff     |     Thu Sep 22 14:28:14 2016', ' 20160922_CO-8-uptake_0000_0765.tiff     |     Thu Sep 22 14:28:14 2016', ' 20160922_CO-8-uptake_0000_0766.tiff     |     Thu Sep 22 14:28:14 2016', ' 20160922_CO-8-uptake_0000_0767.tiff     |     Thu Sep 22 14:28:14 2016', ' 20160922_CO-8-uptake_0000_0768.tiff     |     Thu Sep 22 14:28:14 2016', ' 20160922_CO-8-uptake_0000_0769.tiff     |     Thu Sep 22 14:28:14 2016', ' 20160922_CO-8-uptake_0000_0770.tiff     |     Thu Sep 22 14:28:14 2016', ' 20160922_CO-8-uptake_0000_0771.tiff     |     Thu Sep 22 14:28:14 2016', ' 20160922_CO-8-uptake_0000_0772.tiff     |     Thu Sep 22 14:28:14 2016', ' 20160922_CO-8-uptake_0000_0773.tiff     |     Thu Sep 22 14:28:14 2016', ' 20160922_CO-8-uptake_0000_0774.tiff     |     Thu Sep 22 14:28:14 2016', ' 20160922_CO-8-uptake_0000_0775.tiff     |     Thu Sep 22 14:28:15 2016', ' 20160922_CO-8-uptake_0000_0776.tiff     |     Thu Sep 22 14:28:15 2016', ' 20160922_CO-8-uptake_0000_0777.tiff     |     Thu Sep 22 14:28:15 2016', ' 20160922_CO-8-uptake_0000_0778.tiff     |     Thu Sep 22 14:28:15 2016', ' 20160922_CO-8-uptake_0000_0779.tiff     |     Thu Sep 22 14:28:15 2016', ' 20160922_CO-8-uptake_0000_0780.tiff     |     Thu Sep 22 14:28:15 2016', ' 20160922_CO-8-uptake_0000_0781.tiff     |     Thu Sep 22 14:28:15 2016', ' 20160922_CO-8-uptake_0000_0782.tiff     |     Thu Sep 22 14:28:15 2016', ' 20160922_CO-8-uptake_0000_0783.tiff     |     Thu Sep 22 14:28:15 2016', ' 20160922_CO-8-uptake_0000_0784.tiff     |     Thu Sep 22 14:28:15 2016', ' 20160922_CO-8-uptake_0000_0785.tiff     |     Thu Sep 22 14:28:15 2016', ' 20160922_CO-8-uptake_0000_0786.tiff     |     Thu Sep 22 14:28:15 2016', ' 20160922_CO-8-uptake_0000_0787.tiff     |     Thu Sep 22 14:28:15 2016', ' 20160922_CO-8-uptake_0000_0788.tiff     |     Thu Sep 22 14:28:15 2016', ' 20160922_CO-8-uptake_0000_0789.tiff     |     Thu Sep 22 14:28:15 2016', ' 20160922_CO-8-uptake_0000_0790.tiff     |     Thu Sep 22 14:28:15 2016', ' 20160922_CO-8-uptake_0000_0791.tiff     |     Thu Sep 22 14:28:15 2016', ' 20160922_CO-8-uptake_0000_0792.tiff     |     Thu Sep 22 14:28:15 2016', ' 20160922_CO-8-uptake_0000_0793.tiff     |     Thu Sep 22 14:28:15 2016', ' 20160922_CO-8-uptake_0000_0794.tiff     |     Thu Sep 22 14:28:15 2016', ' 20160922_CO-8-uptake_0000_0795.tiff     |     Thu Sep 22 14:28:15 2016', ' 20160922_CO-8-uptake_0000_0796.tiff     |     Thu Sep 22 14:28:15 2016', ' 20160922_CO-8-uptake_0000_0797.tiff     |     Thu Sep 22 14:28:15 2016', ' 20160922_CO-8-uptake_0000_0798.tiff     |     Thu Sep 22 14:28:15 2016', ' 20160922_CO-8-uptake_0000_0799.tiff     |     Thu Sep 22 14:28:15 2016', ' 20160922_CO-8-uptake_0000_0800.tiff     |     Thu Sep 22 14:28:15 2016', ' 20160922_CO-8-uptake_0000_0801.tiff     |     Thu Sep 22 14:28:15 2016', ' 20160922_CO-8-uptake_0000_0802.tiff     |     Thu Sep 22 14:28:15 2016', ' 20160922_CO-8-uptake_0000_0803.tiff     |     Thu Sep 22 14:28:15 2016', ' 20160922_CO-8-uptake_0000_0804.tiff     |     Thu Sep 22 14:28:15 2016', ' 20160922_CO-8-uptake_0000_0805.tiff     |     Thu Sep 22 14:28:15 2016', ' 20160922_CO-8-uptake_0000_0806.tiff     |     Thu Sep 22 14:28:15 2016', ' 20160922_CO-8-uptake_0000_0807.tiff     |     Thu Sep 22 14:28:15 2016', ' 20160922_CO-8-uptake_0000_0808.tiff     |     Thu Sep 22 14:28:15 2016', ' 20160922_CO-8-uptake_0000_0809.tiff     |     Thu Sep 22 14:28:15 2016', ' 20160922_CO-8-uptake_0000_0810.tiff     |     Thu Sep 22 14:28:15 2016', ' 20160922_CO-8-uptake_0000_0811.tiff     |     Thu Sep 22 14:28:15 2016', ' 20160922_CO-8-uptake_0000_0812.tiff     |     Thu Sep 22 14:28:16 2016', ' 20160922_CO-8-uptake_0000_0813.tiff     |     Thu Sep 22 14:28:16 2016', ' 20160922_CO-8-uptake_0000_0814.tiff     |     Thu Sep 22 14:28:16 2016', ' 20160922_CO-8-uptake_0000_0815.tiff     |     Thu Sep 22 14:28:16 2016', ' 20160922_CO-8-uptake_0000_0816.tiff     |     Thu Sep 22 14:28:16 2016', ' 20160922_CO-8-uptake_0000_0817.tiff     |     Thu Sep 22 14:28:16 2016', ' 20160922_CO-8-uptake_0000_0818.tiff     |     Thu Sep 22 14:28:16 2016', ' 20160922_CO-8-uptake_0000_0819.tiff     |     Thu Sep 22 14:28:16 2016', ' 20160922_CO-8-uptake_0000_0820.tiff     |     Thu Sep 22 14:28:16 2016', ' 20160922_CO-8-uptake_0000_0821.tiff     |     Thu Sep 22 14:28:16 2016', ' 20160922_CO-8-uptake_0000_0822.tiff     |     Thu Sep 22 14:28:16 2016', ' 20160922_CO-8-uptake_0000_0823.tiff     |     Thu Sep 22 14:28:16 2016', ' 20160922_CO-8-uptake_0000_0824.tiff     |     Thu Sep 22 14:28:16 2016', ' 20160922_CO-8-uptake_0000_0825.tiff     |     Thu Sep 22 14:28:16 2016', ' 20160922_CO-8-uptake_0000_0826.tiff     |     Thu Sep 22 14:28:16 2016', ' 20160922_CO-8-uptake_0000_0827.tiff     |     Thu Sep 22 14:28:16 2016', ' 20160922_CO-8-uptake_0000_0828.tiff     |     Thu Sep 22 14:28:16 2016', ' 20160922_CO-8-uptake_0000_0829.tiff     |     Thu Sep 22 14:28:16 2016', ' 20160922_CO-8-uptake_0000_0830.tiff     |     Thu Sep 22 14:28:16 2016', ' 20160922_CO-8-uptake_0000_0831.tiff     |     Thu Sep 22 14:28:16 2016', ' 20160922_CO-8-uptake_0000_0832.tiff     |     Thu Sep 22 14:28:16 2016', ' 20160922_CO-8-uptake_0000_0833.tiff     |     Thu Sep 22 14:28:16 2016', ' 20160922_CO-8-uptake_0000_0834.tiff     |     Thu Sep 22 14:28:16 2016', ' 20160922_CO-8-uptake_0000_0835.tiff     |     Thu Sep 22 14:28:16 2016', ' 20160922_CO-8-uptake_0000_0836.tiff     |     Thu Sep 22 14:28:16 2016', ' 20160922_CO-8-uptake_0000_0837.tiff     |     Thu Sep 22 14:28:16 2016', ' 20160922_CO-8-uptake_0000_0838.tiff     |     Thu Sep 22 14:28:16 2016', ' 20160922_CO-8-uptake_0000_0839.tiff     |     Thu Sep 22 14:28:16 2016', ' 20160922_CO-8-uptake_0000_0840.tiff     |     Thu Sep 22 14:28:16 2016', ' 20160922_CO-8-uptake_0000_0841.tiff     |     Thu Sep 22 14:28:16 2016', ' 20160922_CO-8-uptake_0000_0842.tiff     |     Thu Sep 22 14:28:17 2016', ' 20160922_CO-8-uptake_0000_0843.tiff     |     Thu Sep 22 14:28:17 2016', ' 20160922_CO-8-uptake_0000_0844.tiff     |     Thu Sep 22 14:28:17 2016', ' 20160922_CO-8-uptake_0000_0845.tiff     |     Thu Sep 22 14:28:17 2016', ' 20160922_CO-8-uptake_0000_0846.tiff     |     Thu Sep 22 14:28:17 2016', ' 20160922_CO-8-uptake_0000_0847.tiff     |     Thu Sep 22 14:28:17 2016', ' 20160922_CO-8-uptake_0000_0848.tiff     |     Thu Sep 22 14:28:17 2016', ' 20160922_CO-8-uptake_0000_0849.tiff     |     Thu Sep 22 14:28:17 2016', ' 20160922_CO-8-uptake_0000_0850.tiff     |     Thu Sep 22 14:28:17 2016', ' 20160922_CO-8-uptake_0000_0851.tiff     |     Thu Sep 22 14:28:17 2016', ' 20160922_CO-8-uptake_0000_0852.tiff     |     Thu Sep 22 14:28:17 2016', ' 20160922_CO-8-uptake_0000_0853.tiff     |     Thu Sep 22 14:28:17 2016', ' 20160922_CO-8-uptake_0000_0854.tiff     |     Thu Sep 22 14:28:17 2016', ' 20160922_CO-8-uptake_0000_0855.tiff     |     Thu Sep 22 14:28:17 2016', ' 20160922_CO-8-uptake_0000_0856.tiff     |     Thu Sep 22 14:28:17 2016', ' 20160922_CO-8-uptake_0000_0857.tiff     |     Thu Sep 22 14:28:17 2016', ' 20160922_CO-8-uptake_0000_0858.tiff     |     Thu Sep 22 14:28:17 2016', ' 20160922_CO-8-uptake_0000_0859.tiff     |     Thu Sep 22 14:28:17 2016', ' 20160922_CO-8-uptake_0000_0860.tiff     |     Thu Sep 22 14:28:17 2016', ' 20160922_CO-8-uptake_0000_0861.tiff     |     Thu Sep 22 14:28:17 2016', ' 20160922_CO-8-uptake_0000_0862.tiff     |     Thu Sep 22 14:28:17 2016', ' 20160922_CO-8-uptake_0000_0863.tiff     |     Thu Sep 22 14:28:17 2016', ' 20160922_CO-8-uptake_0000_0864.tiff     |     Thu Sep 22 14:28:17 2016', ' 20160922_CO-8-uptake_0000_0865.tiff     |     Thu Sep 22 14:28:17 2016', ' 20160922_CO-8-uptake_0000_0866.tiff     |     Thu Sep 22 14:28:17 2016', ' 20160922_CO-8-uptake_0000_0867.tiff     |     Thu Sep 22 14:28:17 2016', ' 20160922_CO-8-uptake_0000_0868.tiff     |     Thu Sep 22 14:28:17 2016', ' 20160922_CO-8-uptake_0000_0869.tiff     |     Thu Sep 22 14:28:17 2016', ' 20160922_CO-8-uptake_0000_0870.tiff     |     Thu Sep 22 14:28:17 2016', ' 20160922_CO-8-uptake_0000_0871.tiff     |     Thu Sep 22 14:28:17 2016', ' 20160922_CO-8-uptake_0000_0872.tiff     |     Thu Sep 22 14:28:17 2016', ' 20160922_CO-8-uptake_0000_0873.tiff     |     Thu Sep 22 14:28:18 2016', ' 20160922_CO-8-uptake_0000_0874.tiff     |     Thu Sep 22 14:28:18 2016', ' 20160922_CO-8-uptake_0000_0875.tiff     |     Thu Sep 22 14:28:18 2016', ' 20160922_CO-8-uptake_0000_0876.tiff     |     Thu Sep 22 14:28:18 2016', ' 20160922_CO-8-uptake_0000_0877.tiff     |     Thu Sep 22 14:28:18 2016', ' 20160922_CO-8-uptake_0000_0878.tiff     |     Thu Sep 22 14:28:18 2016', ' 20160922_CO-8-uptake_0000_0879.tiff     |     Thu Sep 22 14:28:18 2016', ' 20160922_CO-8-uptake_0000_0880.tiff     |     Thu Sep 22 14:28:18 2016', ' 20160922_CO-8-uptake_0000_0881.tiff     |     Thu Sep 22 14:28:18 2016', ' 20160922_CO-8-uptake_0000_0882.tiff     |     Thu Sep 22 14:28:18 2016', ' 20160922_CO-8-uptake_0000_0883.tiff     |     Thu Sep 22 14:28:18 2016', ' 20160922_CO-8-uptake_0000_0884.tiff     |     Thu Sep 22 14:28:18 2016', ' 20160922_CO-8-uptake_0000_0885.tiff     |     Thu Sep 22 14:28:18 2016', ' 20160922_CO-8-uptake_0000_0886.tiff     |     Thu Sep 22 14:28:18 2016', ' 20160922_CO-8-uptake_0000_0887.tiff     |     Thu Sep 22 14:28:18 2016', ' 20160922_CO-8-uptake_0000_0888.tiff     |     Thu Sep 22 14:28:18 2016', ' 20160922_CO-8-uptake_0000_0889.tiff     |     Thu Sep 22 14:28:18 2016', ' 20160922_CO-8-uptake_0000_0890.tiff     |     Thu Sep 22 14:28:18 2016', ' 20160922_CO-8-uptake_0000_0891.tiff     |     Thu Sep 22 14:28:18 2016', ' 20160922_CO-8-uptake_0000_0892.tiff     |     Thu Sep 22 14:28:18 2016', ' 20160922_CO-8-uptake_0000_0893.tiff     |     Thu Sep 22 14:28:18 2016', ' 20160922_CO-8-uptake_0000_0894.tiff     |     Thu Sep 22 14:28:18 2016', ' 20160922_CO-8-uptake_0000_0895.tiff     |     Thu Sep 22 14:28:18 2016', ' 20160922_CO-8-uptake_0000_0896.tiff     |     Thu Sep 22 14:28:18 2016', ' 20160922_CO-8-uptake_0000_0897.tiff     |     Thu Sep 22 14:28:18 2016', ' 20160922_CO-8-uptake_0000_0898.tiff     |     Thu Sep 22 14:28:18 2016', ' 20160922_CO-8-uptake_0000_0899.tiff     |     Thu Sep 22 14:28:18 2016', ' 20160922_CO-8-uptake_0000_0900.tiff     |     Thu Sep 22 14:28:18 2016', ' 20160922_CO-8-uptake_0000_0901.tiff     |     Thu Sep 22 14:28:18 2016', ' 20160922_CO-8-uptake_0000_0902.tiff     |     Thu Sep 22 14:28:18 2016', ' 20160922_CO-8-uptake_0000_0903.tiff     |     Thu Sep 22 14:28:19 2016', ' 20160922_CO-8-uptake_0000_0904.tiff     |     Thu Sep 22 14:28:19 2016', ' 20160922_CO-8-uptake_0000_0905.tiff     |     Thu Sep 22 14:28:19 2016', ' 20160922_CO-8-uptake_0000_0906.tiff     |     Thu Sep 22 14:28:19 2016', ' 20160922_CO-8-uptake_0000_0907.tiff     |     Thu Sep 22 14:28:19 2016', ' 20160922_CO-8-uptake_0000_0908.tiff     |     Thu Sep 22 14:28:19 2016', ' 20160922_CO-8-uptake_0000_0909.tiff     |     Thu Sep 22 14:28:19 2016', ' 20160922_CO-8-uptake_0000_0910.tiff     |     Thu Sep 22 14:28:19 2016', ' 20160922_CO-8-uptake_0000_0911.tiff     |     Thu Sep 22 14:28:19 2016', ' 20160922_CO-8-uptake_0000_0912.tiff     |     Thu Sep 22 14:28:19 2016', ' 20160922_CO-8-uptake_0000_0913.tiff     |     Thu Sep 22 14:28:19 2016', ' 20160922_CO-8-uptake_0000_0914.tiff     |     Thu Sep 22 14:28:19 2016', ' 20160922_CO-8-uptake_0000_0915.tiff     |     Thu Sep 22 14:28:19 2016', ' 20160922_CO-8-uptake_0000_0916.tiff     |     Thu Sep 22 14:28:19 2016', ' 20160922_CO-8-uptake_0000_0917.tiff     |     Thu Sep 22 14:28:19 2016', ' 20160922_CO-8-uptake_0000_0918.tiff     |     Thu Sep 22 14:28:19 2016', ' 20160922_CO-8-uptake_0000_0919.tiff     |     Thu Sep 22 14:28:19 2016', ' 20160922_CO-8-uptake_0000_0920.tiff     |     Thu Sep 22 14:28:19 2016', ' 20160922_CO-8-uptake_0000_0921.tiff     |     Thu Sep 22 14:28:19 2016', ' 20160922_CO-8-uptake_0000_0922.tiff     |     Thu Sep 22 14:28:19 2016', ' 20160922_CO-8-uptake_0000_0923.tiff     |     Thu Sep 22 14:28:19 2016', ' 20160922_CO-8-uptake_0000_0924.tiff     |     Thu Sep 22 14:28:19 2016', ' 20160922_CO-8-uptake_0000_0925.tiff     |     Thu Sep 22 14:28:19 2016', ' 20160922_CO-8-uptake_0000_0926.tiff     |     Thu Sep 22 14:28:19 2016', ' 20160922_CO-8-uptake_0000_0927.tiff     |     Thu Sep 22 14:28:19 2016', ' 20160922_CO-8-uptake_0000_0928.tiff     |     Thu Sep 22 14:28:20 2016', ' 20160922_CO-8-uptake_0000_0929.tiff     |     Thu Sep 22 14:28:20 2016', ' 20160922_CO-8-uptake_0000_0930.tiff     |     Thu Sep 22 14:28:20 2016', ' 20160922_CO-8-uptake_0000_0931.tiff     |     Thu Sep 22 14:28:20 2016', ' 20160922_CO-8-uptake_0000_0932.tiff     |     Thu Sep 22 14:28:20 2016', ' 20160922_CO-8-uptake_0000_0933.tiff     |     Thu Sep 22 14:28:20 2016', ' 20160922_CO-8-uptake_0000_0934.tiff     |     Thu Sep 22 14:28:20 2016', ' 20160922_CO-8-uptake_0000_0935.tiff     |     Thu Sep 22 14:28:20 2016', ' 20160922_CO-8-uptake_0000_0936.tiff     |     Thu Sep 22 14:28:20 2016', ' 20160922_CO-8-uptake_0000_0937.tiff     |     Thu Sep 22 14:28:20 2016', ' 20160922_CO-8-uptake_0000_0938.tiff     |     Thu Sep 22 14:28:20 2016', ' 20160922_CO-8-uptake_0000_0939.tiff     |     Thu Sep 22 14:28:20 2016', ' 20160922_CO-8-uptake_0000_0940.tiff     |     Thu Sep 22 14:28:20 2016', ' 20160922_CO-8-uptake_0000_0941.tiff     |     Thu Sep 22 14:28:20 2016', ' 20160922_CO-8-uptake_0000_0942.tiff     |     Thu Sep 22 14:28:20 2016', ' 20160922_CO-8-uptake_0000_0943.tiff     |     Thu Sep 22 14:28:20 2016', ' 20160922_CO-8-uptake_0000_0944.tiff     |     Thu Sep 22 14:28:20 2016', ' 20160922_CO-8-uptake_0000_0945.tiff     |     Thu Sep 22 14:28:20 2016', ' 20160922_CO-8-uptake_0000_0946.tiff     |     Thu Sep 22 14:28:20 2016', ' 20160922_CO-8-uptake_0000_0947.tiff     |     Thu Sep 22 14:28:20 2016', ' 20160922_CO-8-uptake_0000_0948.tiff     |     Thu Sep 22 14:28:20 2016', ' 20160922_CO-8-uptake_0000_0949.tiff     |     Thu Sep 22 14:28:20 2016', ' 20160922_CO-8-uptake_0000_0950.tiff     |     Thu Sep 22 14:28:20 2016', ' 20160922_CO-8-uptake_0000_0951.tiff     |     Thu Sep 22 14:28:20 2016', ' 20160922_CO-8-uptake_0000_0952.tiff     |     Thu Sep 22 14:28:20 2016', ' 20160922_CO-8-uptake_0000_0953.tiff     |     Thu Sep 22 14:28:20 2016', ' 20160922_CO-8-uptake_0000_0954.tiff     |     Thu Sep 22 14:28:20 2016', ' 20160922_CO-8-uptake_0000_0955.tiff     |     Thu Sep 22 14:28:20 2016', ' 20160922_CO-8-uptake_0000_0956.tiff     |     Thu Sep 22 14:28:20 2016', ' 20160922_CO-8-uptake_0000_0957.tiff     |     Thu Sep 22 14:28:20 2016', ' 20160922_CO-8-uptake_0000_0958.tiff     |     Thu Sep 22 14:28:20 2016', ' 20160922_CO-8-uptake_0000_0959.tiff     |     Thu Sep 22 14:28:20 2016', ' 20160922_CO-8-uptake_0000_0960.tiff     |     Thu Sep 22 14:28:20 2016', ' 20160922_CO-8-uptake_0000_0961.tiff     |     Thu Sep 22 14:28:20 2016', ' 20160922_CO-8-uptake_0000_0962.tiff     |     Thu Sep 22 14:28:20 2016', ' 20160922_CO-8-uptake_0000_0963.tiff     |     Thu Sep 22 14:28:20 2016', ' 20160922_CO-8-uptake_0000_0964.tiff     |     Thu Sep 22 14:28:21 2016', ' 20160922_CO-8-uptake_0000_0965.tiff     |     Thu Sep 22 14:28:21 2016', ' 20160922_CO-8-uptake_0000_0966.tiff     |     Thu Sep 22 14:28:21 2016', ' 20160922_CO-8-uptake_0000_0967.tiff     |     Thu Sep 22 14:28:21 2016', ' 20160922_CO-8-uptake_0000_0968.tiff     |     Thu Sep 22 14:28:21 2016', ' 20160922_CO-8-uptake_0000_0969.tiff     |     Thu Sep 22 14:28:21 2016', ' 20160922_CO-8-uptake_0000_0970.tiff     |     Thu Sep 22 14:28:21 2016', ' 20160922_CO-8-uptake_0000_0971.tiff     |     Thu Sep 22 14:28:21 2016', ' 20160922_CO-8-uptake_0000_0972.tiff     |     Thu Sep 22 14:28:21 2016', ' 20160922_CO-8-uptake_0000_0973.tiff     |     Thu Sep 22 14:28:21 2016', ' 20160922_CO-8-uptake_0000_0974.tiff     |     Thu Sep 22 14:28:21 2016', ' 20160922_CO-8-uptake_0000_0975.tiff     |     Thu Sep 22 14:28:21 2016', ' 20160922_CO-8-uptake_0000_0976.tiff     |     Thu Sep 22 14:28:21 2016', ' 20160922_CO-8-uptake_0000_0977.tiff     |     Thu Sep 22 14:28:21 2016', ' 20160922_CO-8-uptake_0000_0978.tiff     |     Thu Sep 22 14:28:21 2016', ' 20160922_CO-8-uptake_0000_0979.tiff     |     Thu Sep 22 14:28:21 2016', ' 20160922_CO-8-uptake_0000_0980.tiff     |     Thu Sep 22 14:28:21 2016', ' 20160922_CO-8-uptake_0000_0981.tiff     |     Thu Sep 22 14:28:21 2016', ' 20160922_CO-8-uptake_0000_0982.tiff     |     Thu Sep 22 14:28:21 2016', ' 20160922_CO-8-uptake_0000_0983.tiff     |     Thu Sep 22 14:28:21 2016', ' 20160922_CO-8-uptake_0000_0984.tiff     |     Thu Sep 22 14:28:21 2016', ' 20160922_CO-8-uptake_0000_0985.tiff     |     Thu Sep 22 14:28:21 2016', ' 20160922_CO-8-uptake_0000_0986.tiff     |     Thu Sep 22 14:28:21 2016', ' 20160922_CO-8-uptake_0000_0987.tiff     |     Thu Sep 22 14:28:21 2016', ' 20160922_CO-8-uptake_0000_0988.tiff     |     Thu Sep 22 14:28:21 2016', ' 20160922_CO-8-uptake_0000_0989.tiff     |     Thu Sep 22 14:28:21 2016', ' 20160922_CO-8-uptake_0000_0990.tiff     |     Thu Sep 22 14:28:21 2016', ' 20160922_CO-8-uptake_0000_0991.tiff     |     Thu Sep 22 14:28:21 2016', ' 20160922_CO-8-uptake_0000_0992.tiff     |     Thu Sep 22 14:28:21 2016', ' 20160922_CO-8-uptake_0000_0993.tiff     |     Thu Sep 22 14:28:21 2016', ' 20160922_CO-8-uptake_0000_0994.tiff     |     Thu Sep 22 14:28:22 2016', ' 20160922_CO-8-uptake_0000_0995.tiff     |     Thu Sep 22 14:28:22 2016', ' 20160922_CO-8-uptake_0000_0996.tiff     |     Thu Sep 22 14:28:22 2016', ' 20160922_CO-8-uptake_0000_0997.tiff     |     Thu Sep 22 14:28:22 2016', ' 20160922_CO-8-uptake_0000_0998.tiff     |     Thu Sep 22 14:28:22 2016', ' 20160922_CO-8-uptake_0000_0999.tiff     |     Thu Sep 22 14:28:22 2016', ' 20160922_CO-8-uptake_0000_1000.tiff     |     Thu Sep 22 14:28:22 2016', ' 20160922_CO-8-uptake_0000_1001.tiff     |     Thu Sep 22 14:28:22 2016', ' 20160922_CO-8-uptake_0000_1002.tiff     |     Thu Sep 22 14:28:22 2016', ' 20160922_CO-8-uptake_0000_1003.tiff     |     Thu Sep 22 14:28:22 2016', ' 20160922_CO-8-uptake_0000_1004.tiff     |     Thu Sep 22 14:28:22 2016', ' 20160922_CO-8-uptake_0000_1005.tiff     |     Thu Sep 22 14:28:22 2016', ' 20160922_CO-8-uptake_0000_1006.tiff     |     Thu Sep 22 14:28:22 2016', ' 20160922_CO-8-uptake_0000_1007.tiff     |     Thu Sep 22 14:28:22 2016', ' 20160922_CO-8-uptake_0000_1008.tiff     |     Thu Sep 22 14:28:22 2016', ' 20160922_CO-8-uptake_0000_1009.tiff     |     Thu Sep 22 14:28:22 2016', ' 20160922_CO-8-uptake_0000_1010.tiff     |     Thu Sep 22 14:28:22 2016', ' 20160922_CO-8-uptake_0001_0001.tiff     |     Thu Sep 22 13:34:25 2016', ' 20160922_CO-8-uptake_0001_0002.tiff     |     Thu Sep 22 14:18:57 2016', ' 20160922_CO-8-uptake_0001_0003.tiff     |     Thu Sep 22 14:19:44 2016', ' 20160922_CO-8-uptake_0001_0004.tiff     |     Thu Sep 22 14:21:34 2016', ' 20160922_CO-8-uptake_0001_0005.tiff     |     Thu Sep 22 14:23:04 2016', ' 20160922_CO-8-uptake_0001_0006.tiff     |     Thu Sep 22 14:23:56 2016', ' 20160922_CO-8-uptake_0001_0007.tiff     |     Thu Sep 22 14:24:37 2016', ' 20160922_CO-8-uptake_0001_0008.tiff     |     Thu Sep 22 14:24:57 2016', ' 20160922_CO-8-uptake_0001_0009.tiff     |     Thu Sep 22 14:25:16 2016', ' 20160922_CO-8-uptake_0001_0010.tiff     |     Thu Sep 22 14:25:39 2016'), value=()), HBox(children=(Button(description='Enter directory', layout=Layout(margin='5px 40px'), style=ButtonStyle()), Button(description='Select', layout=Layout(margin='5px 40px'), style=ButtonStyle())))), layout=Layout(border='1px solid lightgrey', margin='5px', padding='10px'))))"
      ]
     },
     "metadata": {},
     "output_type": "display_data"
    },
    {
     "data": {
      "application/vnd.jupyter.widget-view+json": {
       "model_id": "f2b57832f90a43b38cac1df22303c032",
       "version_major": 2,
       "version_minor": 0
      },
      "text/html": [
       "<p>Failed to display Jupyter Widget of type <code>HTML</code>.</p>\n",
       "<p>\n",
       "  If you're reading this message in Jupyter Notebook or JupyterLab, it may mean\n",
       "  that the widgets JavaScript is still loading. If this message persists, it\n",
       "  likely means that the widgets JavaScript library is either not installed or\n",
       "  not enabled. See the <a href=\"https://ipywidgets.readthedocs.io/en/stable/user_install.html\">Jupyter\n",
       "  Widgets Documentation</a> for setup instructions.\n",
       "</p>\n",
       "<p>\n",
       "  If you're reading this message in another notebook frontend (for example, a static\n",
       "  rendering on GitHub or <a href=\"https://nbviewer.jupyter.org/\">NBViewer</a>),\n",
       "  it may mean that your frontend doesn't currently support widgets.\n",
       "</p>\n"
      ],
      "text/plain": [
       "HTML(value='Please wait...')"
      ]
     },
     "metadata": {},
     "output_type": "display_data"
    },
    {
     "data": {
      "application/vnd.jupyter.widget-view+json": {
       "model_id": "75331f6419d142dc82daddf7bbc45649",
       "version_major": 2,
       "version_minor": 0
      },
      "text/html": [
       "<p>Failed to display Jupyter Widget of type <code>VBox</code>.</p>\n",
       "<p>\n",
       "  If you're reading this message in Jupyter Notebook or JupyterLab, it may mean\n",
       "  that the widgets JavaScript is still loading. If this message persists, it\n",
       "  likely means that the widgets JavaScript library is either not installed or\n",
       "  not enabled. See the <a href=\"https://ipywidgets.readthedocs.io/en/stable/user_install.html\">Jupyter\n",
       "  Widgets Documentation</a> for setup instructions.\n",
       "</p>\n",
       "<p>\n",
       "  If you're reading this message in another notebook frontend (for example, a static\n",
       "  rendering on GitHub or <a href=\"https://nbviewer.jupyter.org/\">NBViewer</a>),\n",
       "  it may mean that your frontend doesn't currently support widgets.\n",
       "</p>\n"
      ],
      "text/plain": [
       "VBox(children=(HBox(children=(Label(value='Instructions:', layout=Layout(width='20%')), Label(value='Select list of Open Beam files (mandatory) ', layout=Layout(width='50%')))), HBox(children=(Label(value='Sample selected:', layout=Layout(width='20%')), Label(value='0 files selected', layout=Layout(width='50%'))))), layout=Layout(border='1px lightgray solid', margin='5px', padding='15px'))"
      ]
     },
     "metadata": {},
     "output_type": "display_data"
    },
    {
     "data": {
      "application/vnd.jupyter.widget-view+json": {
       "model_id": "1be2020899aa4839bd77150a726d2633",
       "version_major": 2,
       "version_minor": 0
      },
      "text/html": [
       "<p>Failed to display Jupyter Widget of type <code>HBox</code>.</p>\n",
       "<p>\n",
       "  If you're reading this message in Jupyter Notebook or JupyterLab, it may mean\n",
       "  that the widgets JavaScript is still loading. If this message persists, it\n",
       "  likely means that the widgets JavaScript library is either not installed or\n",
       "  not enabled. See the <a href=\"https://ipywidgets.readthedocs.io/en/stable/user_install.html\">Jupyter\n",
       "  Widgets Documentation</a> for setup instructions.\n",
       "</p>\n",
       "<p>\n",
       "  If you're reading this message in another notebook frontend (for example, a static\n",
       "  rendering on GitHub or <a href=\"https://nbviewer.jupyter.org/\">NBViewer</a>),\n",
       "  it may mean that your frontend doesn't currently support widgets.\n",
       "</p>\n"
      ],
      "text/plain": [
       "HBox(children=(Button(button_style='success', description='<< Previous Step', layout=Layout(width='20%'), style=ButtonStyle(), tooltip='Click to move to previous step'), Label(value='         ', layout=Layout(width='70%')), Button(button_style='warning', description='Next Step>>', disabled=True, layout=Layout(width='20%'), style=ButtonStyle(), tooltip='Click to move to next step')))"
      ]
     },
     "metadata": {},
     "output_type": "display_data"
    },
    {
     "data": {
      "text/html": [
       "\n",
       "        <style type=\"text/css\">\n",
       "        .jupyter-widgets select option {font-family: \"Lucida Console\", Monaco, monospace;}\n",
       "        div.output_subarea {padding: 0px;}\n",
       "        div.output_subarea > div {margin: 0.4em;}\n",
       "        </style>\n",
       "        "
      ],
      "text/plain": [
       "<IPython.core.display.HTML object>"
      ]
     },
     "metadata": {},
     "output_type": "display_data"
    },
    {
     "data": {
      "application/vnd.jupyter.widget-view+json": {
       "model_id": "1b0f0613233445f4ab806eed5a8e730b",
       "version_major": 2,
       "version_minor": 0
      },
      "text/html": [
       "<p>Failed to display Jupyter Widget of type <code>VBox</code>.</p>\n",
       "<p>\n",
       "  If you're reading this message in Jupyter Notebook or JupyterLab, it may mean\n",
       "  that the widgets JavaScript is still loading. If this message persists, it\n",
       "  likely means that the widgets JavaScript library is either not installed or\n",
       "  not enabled. See the <a href=\"https://ipywidgets.readthedocs.io/en/stable/user_install.html\">Jupyter\n",
       "  Widgets Documentation</a> for setup instructions.\n",
       "</p>\n",
       "<p>\n",
       "  If you're reading this message in another notebook frontend (for example, a static\n",
       "  rendering on GitHub or <a href=\"https://nbviewer.jupyter.org/\">NBViewer</a>),\n",
       "  it may mean that your frontend doesn't currently support widgets.\n",
       "</p>\n"
      ],
      "text/plain": [
       "VBox(children=(Label(value='', layout=Layout(width='250px')), HBox(children=(HBox(children=(Text(value='/Volumes/my_book_thunderbolt_duo/IPTS/IPTS_16259', description='Location: ', layout=Layout(width='300px'), placeholder=''), Button(description='Jump', layout=Layout(margin='5px 10px', width='100px'), style=ButtonStyle())), layout=Layout(border='1px solid lightgrey', margin='5px 50px 5px 5px', padding='3px')),)), VBox(children=(SelectMultiple(description='Select', layout=Layout(display='flex', flex_flow='column', width='750px'), options=(' .', ' ..', ' .DS_Store                                         |     Wed Dec 13 10:18:15 2017', ' Day_4_CO-8_Uptake                                 |     Directory', ' Day_4_CO-8_Uptake_profiles                        |     Directory', ' Day_4_CO-8_Uptake_profiles.txt                    |     Fri Dec  8 12:58:35 2017', ' Day_4_CO-8_Uptake_profiles_DEBUGGING              |     Directory', ' Day_4_CO-8_Uptake_timestamp_infos.txt             |     Wed Jan 10 15:30:58 2018', ' from_analysis_computer                            |     Directory', ' ideal_water_intake_images                         |     Directory', ' ideal_water_intake_images_profiles                |     Directory', ' ideal_water_intake_images_profiles.txt            |     Wed Dec 13 10:23:47 2017', ' ideal_water_intake_images_timestamp_infos.txt     |     Wed Dec 13 10:21:31 2017'), value=()), HBox(children=(Button(description='Enter directory', layout=Layout(margin='5px 40px'), style=ButtonStyle()), Button(description='Select', layout=Layout(margin='5px 40px'), style=ButtonStyle())))), layout=Layout(border='1px solid lightgrey', margin='5px', padding='10px'))))"
      ]
     },
     "metadata": {},
     "output_type": "display_data"
    },
    {
     "data": {
      "application/vnd.jupyter.widget-view+json": {
       "model_id": "14bbb8e5dccc4e41b65db17895fc93bc",
       "version_major": 2,
       "version_minor": 0
      },
      "text/html": [
       "<p>Failed to display Jupyter Widget of type <code>HTML</code>.</p>\n",
       "<p>\n",
       "  If you're reading this message in Jupyter Notebook or JupyterLab, it may mean\n",
       "  that the widgets JavaScript is still loading. If this message persists, it\n",
       "  likely means that the widgets JavaScript library is either not installed or\n",
       "  not enabled. See the <a href=\"https://ipywidgets.readthedocs.io/en/stable/user_install.html\">Jupyter\n",
       "  Widgets Documentation</a> for setup instructions.\n",
       "</p>\n",
       "<p>\n",
       "  If you're reading this message in another notebook frontend (for example, a static\n",
       "  rendering on GitHub or <a href=\"https://nbviewer.jupyter.org/\">NBViewer</a>),\n",
       "  it may mean that your frontend doesn't currently support widgets.\n",
       "</p>\n"
      ],
      "text/plain": [
       "HTML(value='Please wait...')"
      ]
     },
     "metadata": {},
     "output_type": "display_data"
    },
    {
     "data": {
      "text/html": [
       "\n",
       "        <style type=\"text/css\">\n",
       "        .jupyter-widgets select option {font-family: \"Lucida Console\", Monaco, monospace;}\n",
       "        div.output_subarea {padding: 0px;}\n",
       "        div.output_subarea > div {margin: 0.4em;}\n",
       "        </style>\n",
       "        "
      ],
      "text/plain": [
       "<IPython.core.display.HTML object>"
      ]
     },
     "metadata": {},
     "output_type": "display_data"
    },
    {
     "data": {
      "application/vnd.jupyter.widget-view+json": {
       "model_id": "3bb195d669d44479b89a14634c34e042",
       "version_major": 2,
       "version_minor": 0
      },
      "text/html": [
       "<p>Failed to display Jupyter Widget of type <code>VBox</code>.</p>\n",
       "<p>\n",
       "  If you're reading this message in Jupyter Notebook or JupyterLab, it may mean\n",
       "  that the widgets JavaScript is still loading. If this message persists, it\n",
       "  likely means that the widgets JavaScript library is either not installed or\n",
       "  not enabled. See the <a href=\"https://ipywidgets.readthedocs.io/en/stable/user_install.html\">Jupyter\n",
       "  Widgets Documentation</a> for setup instructions.\n",
       "</p>\n",
       "<p>\n",
       "  If you're reading this message in another notebook frontend (for example, a static\n",
       "  rendering on GitHub or <a href=\"https://nbviewer.jupyter.org/\">NBViewer</a>),\n",
       "  it may mean that your frontend doesn't currently support widgets.\n",
       "</p>\n"
      ],
      "text/plain": [
       "VBox(children=(Label(value='', layout=Layout(width='250px')), HBox(children=(HBox(children=(Text(value='/Volumes/my_book_thunderbolt_duo/IPTS/IPTS_16259/Day_4_CO-8_Uptake', description='Location: ', layout=Layout(width='300px'), placeholder=''), Button(description='Jump', layout=Layout(margin='5px 10px', width='100px'), style=ButtonStyle())), layout=Layout(border='1px solid lightgrey', margin='5px 50px 5px 5px', padding='3px')),)), VBox(children=(SelectMultiple(description='Select', layout=Layout(display='flex', flex_flow='column', width='750px'), options=(' .', ' ..', ' 20160922_CO-8-uptake_0000_0011.tiff     |     Thu Sep 22 14:27:49 2016', ' 20160922_CO-8-uptake_0000_0012.tiff     |     Thu Sep 22 14:27:49 2016', ' 20160922_CO-8-uptake_0000_0013.tiff     |     Thu Sep 22 14:27:49 2016', ' 20160922_CO-8-uptake_0000_0014.tiff     |     Thu Sep 22 14:27:49 2016', ' 20160922_CO-8-uptake_0000_0015.tiff     |     Thu Sep 22 14:27:49 2016', ' 20160922_CO-8-uptake_0000_0016.tiff     |     Thu Sep 22 14:27:49 2016', ' 20160922_CO-8-uptake_0000_0017.tiff     |     Thu Sep 22 14:27:49 2016', ' 20160922_CO-8-uptake_0000_0018.tiff     |     Thu Sep 22 14:27:49 2016', ' 20160922_CO-8-uptake_0000_0019.tiff     |     Thu Sep 22 14:27:49 2016', ' 20160922_CO-8-uptake_0000_0020.tiff     |     Thu Sep 22 14:27:49 2016', ' 20160922_CO-8-uptake_0000_0021.tiff     |     Thu Sep 22 14:27:49 2016', ' 20160922_CO-8-uptake_0000_0022.tiff     |     Thu Sep 22 14:27:49 2016', ' 20160922_CO-8-uptake_0000_0023.tiff     |     Thu Sep 22 14:27:49 2016', ' 20160922_CO-8-uptake_0000_0024.tiff     |     Thu Sep 22 14:27:50 2016', ' 20160922_CO-8-uptake_0000_0025.tiff     |     Thu Sep 22 14:27:50 2016', ' 20160922_CO-8-uptake_0000_0026.tiff     |     Thu Sep 22 14:27:50 2016', ' 20160922_CO-8-uptake_0000_0027.tiff     |     Thu Sep 22 14:27:50 2016', ' 20160922_CO-8-uptake_0000_0028.tiff     |     Thu Sep 22 14:27:50 2016', ' 20160922_CO-8-uptake_0000_0029.tiff     |     Thu Sep 22 14:27:50 2016', ' 20160922_CO-8-uptake_0000_0030.tiff     |     Thu Sep 22 14:27:50 2016', ' 20160922_CO-8-uptake_0000_0031.tiff     |     Thu Sep 22 14:27:50 2016', ' 20160922_CO-8-uptake_0000_0032.tiff     |     Thu Sep 22 14:27:50 2016', ' 20160922_CO-8-uptake_0000_0033.tiff     |     Thu Sep 22 14:27:50 2016', ' 20160922_CO-8-uptake_0000_0034.tiff     |     Thu Sep 22 14:27:50 2016', ' 20160922_CO-8-uptake_0000_0035.tiff     |     Thu Sep 22 14:27:50 2016', ' 20160922_CO-8-uptake_0000_0036.tiff     |     Thu Sep 22 14:27:50 2016', ' 20160922_CO-8-uptake_0000_0037.tiff     |     Thu Sep 22 14:27:50 2016', ' 20160922_CO-8-uptake_0000_0038.tiff     |     Thu Sep 22 14:27:50 2016', ' 20160922_CO-8-uptake_0000_0039.tiff     |     Thu Sep 22 14:27:50 2016', ' 20160922_CO-8-uptake_0000_0040.tiff     |     Thu Sep 22 14:27:50 2016', ' 20160922_CO-8-uptake_0000_0041.tiff     |     Thu Sep 22 14:27:50 2016', ' 20160922_CO-8-uptake_0000_0042.tiff     |     Thu Sep 22 14:27:50 2016', ' 20160922_CO-8-uptake_0000_0043.tiff     |     Thu Sep 22 14:27:50 2016', ' 20160922_CO-8-uptake_0000_0044.tiff     |     Thu Sep 22 14:27:50 2016', ' 20160922_CO-8-uptake_0000_0045.tiff     |     Thu Sep 22 14:27:50 2016', ' 20160922_CO-8-uptake_0000_0046.tiff     |     Thu Sep 22 14:27:50 2016', ' 20160922_CO-8-uptake_0000_0047.tiff     |     Thu Sep 22 14:27:50 2016', ' 20160922_CO-8-uptake_0000_0048.tiff     |     Thu Sep 22 14:27:50 2016', ' 20160922_CO-8-uptake_0000_0049.tiff     |     Thu Sep 22 14:27:50 2016', ' 20160922_CO-8-uptake_0000_0050.tiff     |     Thu Sep 22 14:27:50 2016', ' 20160922_CO-8-uptake_0000_0051.tiff     |     Thu Sep 22 14:27:50 2016', ' 20160922_CO-8-uptake_0000_0052.tiff     |     Thu Sep 22 14:27:50 2016', ' 20160922_CO-8-uptake_0000_0053.tiff     |     Thu Sep 22 14:27:50 2016', ' 20160922_CO-8-uptake_0000_0054.tiff     |     Thu Sep 22 14:27:50 2016', ' 20160922_CO-8-uptake_0000_0055.tiff     |     Thu Sep 22 14:27:51 2016', ' 20160922_CO-8-uptake_0000_0056.tiff     |     Thu Sep 22 14:27:51 2016', ' 20160922_CO-8-uptake_0000_0057.tiff     |     Thu Sep 22 14:27:51 2016', ' 20160922_CO-8-uptake_0000_0058.tiff     |     Thu Sep 22 14:27:51 2016', ' 20160922_CO-8-uptake_0000_0059.tiff     |     Thu Sep 22 14:27:51 2016', ' 20160922_CO-8-uptake_0000_0060.tiff     |     Thu Sep 22 14:27:51 2016', ' 20160922_CO-8-uptake_0000_0061.tiff     |     Thu Sep 22 14:27:51 2016', ' 20160922_CO-8-uptake_0000_0062.tiff     |     Thu Sep 22 14:27:51 2016', ' 20160922_CO-8-uptake_0000_0063.tiff     |     Thu Sep 22 14:27:51 2016', ' 20160922_CO-8-uptake_0000_0064.tiff     |     Thu Sep 22 14:27:51 2016', ' 20160922_CO-8-uptake_0000_0065.tiff     |     Thu Sep 22 14:27:51 2016', ' 20160922_CO-8-uptake_0000_0066.tiff     |     Thu Sep 22 14:27:51 2016', ' 20160922_CO-8-uptake_0000_0067.tiff     |     Thu Sep 22 14:27:51 2016', ' 20160922_CO-8-uptake_0000_0068.tiff     |     Thu Sep 22 14:27:51 2016', ' 20160922_CO-8-uptake_0000_0069.tiff     |     Thu Sep 22 14:27:51 2016', ' 20160922_CO-8-uptake_0000_0070.tiff     |     Thu Sep 22 14:27:51 2016', ' 20160922_CO-8-uptake_0000_0071.tiff     |     Thu Sep 22 14:27:51 2016', ' 20160922_CO-8-uptake_0000_0072.tiff     |     Thu Sep 22 14:27:51 2016', ' 20160922_CO-8-uptake_0000_0073.tiff     |     Thu Sep 22 14:27:51 2016', ' 20160922_CO-8-uptake_0000_0074.tiff     |     Thu Sep 22 14:27:51 2016', ' 20160922_CO-8-uptake_0000_0075.tiff     |     Thu Sep 22 14:27:51 2016', ' 20160922_CO-8-uptake_0000_0076.tiff     |     Thu Sep 22 14:27:51 2016', ' 20160922_CO-8-uptake_0000_0077.tiff     |     Thu Sep 22 14:27:51 2016', ' 20160922_CO-8-uptake_0000_0078.tiff     |     Thu Sep 22 14:27:51 2016', ' 20160922_CO-8-uptake_0000_0079.tiff     |     Thu Sep 22 14:27:51 2016', ' 20160922_CO-8-uptake_0000_0080.tiff     |     Thu Sep 22 14:27:51 2016', ' 20160922_CO-8-uptake_0000_0081.tiff     |     Thu Sep 22 14:27:51 2016', ' 20160922_CO-8-uptake_0000_0082.tiff     |     Thu Sep 22 14:27:51 2016', ' 20160922_CO-8-uptake_0000_0083.tiff     |     Thu Sep 22 14:27:51 2016', ' 20160922_CO-8-uptake_0000_0084.tiff     |     Thu Sep 22 14:27:51 2016', ' 20160922_CO-8-uptake_0000_0085.tiff     |     Thu Sep 22 14:27:52 2016', ' 20160922_CO-8-uptake_0000_0086.tiff     |     Thu Sep 22 14:27:52 2016', ' 20160922_CO-8-uptake_0000_0087.tiff     |     Thu Sep 22 14:27:52 2016', ' 20160922_CO-8-uptake_0000_0088.tiff     |     Thu Sep 22 14:27:52 2016', ' 20160922_CO-8-uptake_0000_0089.tiff     |     Thu Sep 22 14:27:52 2016', ' 20160922_CO-8-uptake_0000_0090.tiff     |     Thu Sep 22 14:27:52 2016', ' 20160922_CO-8-uptake_0000_0091.tiff     |     Thu Sep 22 14:27:52 2016', ' 20160922_CO-8-uptake_0000_0092.tiff     |     Thu Sep 22 14:27:52 2016', ' 20160922_CO-8-uptake_0000_0093.tiff     |     Thu Sep 22 14:27:52 2016', ' 20160922_CO-8-uptake_0000_0094.tiff     |     Thu Sep 22 14:27:52 2016', ' 20160922_CO-8-uptake_0000_0095.tiff     |     Thu Sep 22 14:27:52 2016', ' 20160922_CO-8-uptake_0000_0096.tiff     |     Thu Sep 22 14:27:52 2016', ' 20160922_CO-8-uptake_0000_0097.tiff     |     Thu Sep 22 14:27:52 2016', ' 20160922_CO-8-uptake_0000_0098.tiff     |     Thu Sep 22 14:27:52 2016', ' 20160922_CO-8-uptake_0000_0099.tiff     |     Thu Sep 22 14:27:52 2016', ' 20160922_CO-8-uptake_0000_0100.tiff     |     Thu Sep 22 14:27:52 2016', ' 20160922_CO-8-uptake_0000_0101.tiff     |     Thu Sep 22 14:27:52 2016', ' 20160922_CO-8-uptake_0000_0102.tiff     |     Thu Sep 22 14:27:52 2016', ' 20160922_CO-8-uptake_0000_0103.tiff     |     Thu Sep 22 14:27:52 2016', ' 20160922_CO-8-uptake_0000_0104.tiff     |     Thu Sep 22 14:27:52 2016', ' 20160922_CO-8-uptake_0000_0105.tiff     |     Thu Sep 22 14:27:52 2016', ' 20160922_CO-8-uptake_0000_0106.tiff     |     Thu Sep 22 14:27:52 2016', ' 20160922_CO-8-uptake_0000_0107.tiff     |     Thu Sep 22 14:27:52 2016', ' 20160922_CO-8-uptake_0000_0108.tiff     |     Thu Sep 22 14:27:52 2016', ' 20160922_CO-8-uptake_0000_0109.tiff     |     Thu Sep 22 14:27:52 2016', ' 20160922_CO-8-uptake_0000_0110.tiff     |     Thu Sep 22 14:27:52 2016', ' 20160922_CO-8-uptake_0000_0111.tiff     |     Thu Sep 22 14:27:52 2016', ' 20160922_CO-8-uptake_0000_0112.tiff     |     Thu Sep 22 14:27:52 2016', ' 20160922_CO-8-uptake_0000_0113.tiff     |     Thu Sep 22 14:27:52 2016', ' 20160922_CO-8-uptake_0000_0114.tiff     |     Thu Sep 22 14:27:52 2016', ' 20160922_CO-8-uptake_0000_0115.tiff     |     Thu Sep 22 14:27:53 2016', ' 20160922_CO-8-uptake_0000_0116.tiff     |     Thu Sep 22 14:27:53 2016', ' 20160922_CO-8-uptake_0000_0117.tiff     |     Thu Sep 22 14:27:53 2016', ' 20160922_CO-8-uptake_0000_0118.tiff     |     Thu Sep 22 14:27:53 2016', ' 20160922_CO-8-uptake_0000_0119.tiff     |     Thu Sep 22 14:27:53 2016', ' 20160922_CO-8-uptake_0000_0120.tiff     |     Thu Sep 22 14:27:53 2016', ' 20160922_CO-8-uptake_0000_0121.tiff     |     Thu Sep 22 14:27:53 2016', ' 20160922_CO-8-uptake_0000_0122.tiff     |     Thu Sep 22 14:27:53 2016', ' 20160922_CO-8-uptake_0000_0123.tiff     |     Thu Sep 22 14:27:53 2016', ' 20160922_CO-8-uptake_0000_0124.tiff     |     Thu Sep 22 14:27:53 2016', ' 20160922_CO-8-uptake_0000_0125.tiff     |     Thu Sep 22 14:27:53 2016', ' 20160922_CO-8-uptake_0000_0126.tiff     |     Thu Sep 22 14:27:53 2016', ' 20160922_CO-8-uptake_0000_0127.tiff     |     Thu Sep 22 14:27:53 2016', ' 20160922_CO-8-uptake_0000_0128.tiff     |     Thu Sep 22 14:27:53 2016', ' 20160922_CO-8-uptake_0000_0129.tiff     |     Thu Sep 22 14:27:53 2016', ' 20160922_CO-8-uptake_0000_0130.tiff     |     Thu Sep 22 14:27:53 2016', ' 20160922_CO-8-uptake_0000_0131.tiff     |     Thu Sep 22 14:27:53 2016', ' 20160922_CO-8-uptake_0000_0132.tiff     |     Thu Sep 22 14:27:53 2016', ' 20160922_CO-8-uptake_0000_0133.tiff     |     Thu Sep 22 14:27:53 2016', ' 20160922_CO-8-uptake_0000_0134.tiff     |     Thu Sep 22 14:27:53 2016', ' 20160922_CO-8-uptake_0000_0135.tiff     |     Thu Sep 22 14:27:53 2016', ' 20160922_CO-8-uptake_0000_0136.tiff     |     Thu Sep 22 14:27:53 2016', ' 20160922_CO-8-uptake_0000_0137.tiff     |     Thu Sep 22 14:27:53 2016', ' 20160922_CO-8-uptake_0000_0138.tiff     |     Thu Sep 22 14:27:53 2016', ' 20160922_CO-8-uptake_0000_0139.tiff     |     Thu Sep 22 14:27:53 2016', ' 20160922_CO-8-uptake_0000_0140.tiff     |     Thu Sep 22 14:27:53 2016', ' 20160922_CO-8-uptake_0000_0141.tiff     |     Thu Sep 22 14:27:53 2016', ' 20160922_CO-8-uptake_0000_0142.tiff     |     Thu Sep 22 14:27:53 2016', ' 20160922_CO-8-uptake_0000_0143.tiff     |     Thu Sep 22 14:27:53 2016', ' 20160922_CO-8-uptake_0000_0144.tiff     |     Thu Sep 22 14:27:53 2016', ' 20160922_CO-8-uptake_0000_0145.tiff     |     Thu Sep 22 14:27:53 2016', ' 20160922_CO-8-uptake_0000_0146.tiff     |     Thu Sep 22 14:27:54 2016', ' 20160922_CO-8-uptake_0000_0147.tiff     |     Thu Sep 22 14:27:54 2016', ' 20160922_CO-8-uptake_0000_0148.tiff     |     Thu Sep 22 14:27:54 2016', ' 20160922_CO-8-uptake_0000_0149.tiff     |     Thu Sep 22 14:27:54 2016', ' 20160922_CO-8-uptake_0000_0150.tiff     |     Thu Sep 22 14:27:54 2016', ' 20160922_CO-8-uptake_0000_0151.tiff     |     Thu Sep 22 14:27:54 2016', ' 20160922_CO-8-uptake_0000_0152.tiff     |     Thu Sep 22 14:27:54 2016', ' 20160922_CO-8-uptake_0000_0153.tiff     |     Thu Sep 22 14:27:54 2016', ' 20160922_CO-8-uptake_0000_0154.tiff     |     Thu Sep 22 14:27:54 2016', ' 20160922_CO-8-uptake_0000_0155.tiff     |     Thu Sep 22 14:27:54 2016', ' 20160922_CO-8-uptake_0000_0156.tiff     |     Thu Sep 22 14:27:54 2016', ' 20160922_CO-8-uptake_0000_0157.tiff     |     Thu Sep 22 14:27:54 2016', ' 20160922_CO-8-uptake_0000_0158.tiff     |     Thu Sep 22 14:27:54 2016', ' 20160922_CO-8-uptake_0000_0159.tiff     |     Thu Sep 22 14:27:54 2016', ' 20160922_CO-8-uptake_0000_0160.tiff     |     Thu Sep 22 14:27:54 2016', ' 20160922_CO-8-uptake_0000_0161.tiff     |     Thu Sep 22 14:27:54 2016', ' 20160922_CO-8-uptake_0000_0162.tiff     |     Thu Sep 22 14:27:54 2016', ' 20160922_CO-8-uptake_0000_0163.tiff     |     Thu Sep 22 14:27:54 2016', ' 20160922_CO-8-uptake_0000_0164.tiff     |     Thu Sep 22 14:27:54 2016', ' 20160922_CO-8-uptake_0000_0165.tiff     |     Thu Sep 22 14:27:54 2016', ' 20160922_CO-8-uptake_0000_0166.tiff     |     Thu Sep 22 14:27:54 2016', ' 20160922_CO-8-uptake_0000_0167.tiff     |     Thu Sep 22 14:27:54 2016', ' 20160922_CO-8-uptake_0000_0168.tiff     |     Thu Sep 22 14:27:54 2016', ' 20160922_CO-8-uptake_0000_0169.tiff     |     Thu Sep 22 14:27:54 2016', ' 20160922_CO-8-uptake_0000_0170.tiff     |     Thu Sep 22 14:27:54 2016', ' 20160922_CO-8-uptake_0000_0171.tiff     |     Thu Sep 22 14:27:54 2016', ' 20160922_CO-8-uptake_0000_0172.tiff     |     Thu Sep 22 14:27:54 2016', ' 20160922_CO-8-uptake_0000_0173.tiff     |     Thu Sep 22 14:27:54 2016', ' 20160922_CO-8-uptake_0000_0174.tiff     |     Thu Sep 22 14:27:54 2016', ' 20160922_CO-8-uptake_0000_0175.tiff     |     Thu Sep 22 14:27:54 2016', ' 20160922_CO-8-uptake_0000_0176.tiff     |     Thu Sep 22 14:27:55 2016', ' 20160922_CO-8-uptake_0000_0177.tiff     |     Thu Sep 22 14:27:55 2016', ' 20160922_CO-8-uptake_0000_0178.tiff     |     Thu Sep 22 14:27:55 2016', ' 20160922_CO-8-uptake_0000_0179.tiff     |     Thu Sep 22 14:27:55 2016', ' 20160922_CO-8-uptake_0000_0180.tiff     |     Thu Sep 22 14:27:55 2016', ' 20160922_CO-8-uptake_0000_0181.tiff     |     Thu Sep 22 14:27:55 2016', ' 20160922_CO-8-uptake_0000_0182.tiff     |     Thu Sep 22 14:27:55 2016', ' 20160922_CO-8-uptake_0000_0183.tiff     |     Thu Sep 22 14:27:55 2016', ' 20160922_CO-8-uptake_0000_0184.tiff     |     Thu Sep 22 14:27:55 2016', ' 20160922_CO-8-uptake_0000_0185.tiff     |     Thu Sep 22 14:27:55 2016', ' 20160922_CO-8-uptake_0000_0186.tiff     |     Thu Sep 22 14:27:55 2016', ' 20160922_CO-8-uptake_0000_0187.tiff     |     Thu Sep 22 14:27:55 2016', ' 20160922_CO-8-uptake_0000_0188.tiff     |     Thu Sep 22 14:27:55 2016', ' 20160922_CO-8-uptake_0000_0189.tiff     |     Thu Sep 22 14:27:55 2016', ' 20160922_CO-8-uptake_0000_0190.tiff     |     Thu Sep 22 14:27:55 2016', ' 20160922_CO-8-uptake_0000_0191.tiff     |     Thu Sep 22 14:27:55 2016', ' 20160922_CO-8-uptake_0000_0192.tiff     |     Thu Sep 22 14:27:55 2016', ' 20160922_CO-8-uptake_0000_0193.tiff     |     Thu Sep 22 14:27:55 2016', ' 20160922_CO-8-uptake_0000_0194.tiff     |     Thu Sep 22 14:27:55 2016', ' 20160922_CO-8-uptake_0000_0195.tiff     |     Thu Sep 22 14:27:55 2016', ' 20160922_CO-8-uptake_0000_0196.tiff     |     Thu Sep 22 14:27:55 2016', ' 20160922_CO-8-uptake_0000_0197.tiff     |     Thu Sep 22 14:27:55 2016', ' 20160922_CO-8-uptake_0000_0198.tiff     |     Thu Sep 22 14:27:55 2016', ' 20160922_CO-8-uptake_0000_0199.tiff     |     Thu Sep 22 14:27:55 2016', ' 20160922_CO-8-uptake_0000_0200.tiff     |     Thu Sep 22 14:27:55 2016', ' 20160922_CO-8-uptake_0000_0201.tiff     |     Thu Sep 22 14:27:55 2016', ' 20160922_CO-8-uptake_0000_0202.tiff     |     Thu Sep 22 14:27:55 2016', ' 20160922_CO-8-uptake_0000_0203.tiff     |     Thu Sep 22 14:27:55 2016', ' 20160922_CO-8-uptake_0000_0204.tiff     |     Thu Sep 22 14:27:55 2016', ' 20160922_CO-8-uptake_0000_0205.tiff     |     Thu Sep 22 14:27:55 2016', ' 20160922_CO-8-uptake_0000_0206.tiff     |     Thu Sep 22 14:27:56 2016', ' 20160922_CO-8-uptake_0000_0207.tiff     |     Thu Sep 22 14:27:56 2016', ' 20160922_CO-8-uptake_0000_0208.tiff     |     Thu Sep 22 14:27:56 2016', ' 20160922_CO-8-uptake_0000_0209.tiff     |     Thu Sep 22 14:27:56 2016', ' 20160922_CO-8-uptake_0000_0210.tiff     |     Thu Sep 22 14:27:56 2016', ' 20160922_CO-8-uptake_0000_0211.tiff     |     Thu Sep 22 14:27:56 2016', ' 20160922_CO-8-uptake_0000_0212.tiff     |     Thu Sep 22 14:27:56 2016', ' 20160922_CO-8-uptake_0000_0213.tiff     |     Thu Sep 22 14:27:56 2016', ' 20160922_CO-8-uptake_0000_0214.tiff     |     Thu Sep 22 14:27:56 2016', ' 20160922_CO-8-uptake_0000_0215.tiff     |     Thu Sep 22 14:27:56 2016', ' 20160922_CO-8-uptake_0000_0216.tiff     |     Thu Sep 22 14:27:56 2016', ' 20160922_CO-8-uptake_0000_0217.tiff     |     Thu Sep 22 14:27:56 2016', ' 20160922_CO-8-uptake_0000_0218.tiff     |     Thu Sep 22 14:27:56 2016', ' 20160922_CO-8-uptake_0000_0219.tiff     |     Thu Sep 22 14:27:56 2016', ' 20160922_CO-8-uptake_0000_0220.tiff     |     Thu Sep 22 14:27:56 2016', ' 20160922_CO-8-uptake_0000_0221.tiff     |     Thu Sep 22 14:27:56 2016', ' 20160922_CO-8-uptake_0000_0222.tiff     |     Thu Sep 22 14:27:56 2016', ' 20160922_CO-8-uptake_0000_0223.tiff     |     Thu Sep 22 14:27:56 2016', ' 20160922_CO-8-uptake_0000_0224.tiff     |     Thu Sep 22 14:27:56 2016', ' 20160922_CO-8-uptake_0000_0225.tiff     |     Thu Sep 22 14:27:56 2016', ' 20160922_CO-8-uptake_0000_0226.tiff     |     Thu Sep 22 14:27:56 2016', ' 20160922_CO-8-uptake_0000_0227.tiff     |     Thu Sep 22 14:27:56 2016', ' 20160922_CO-8-uptake_0000_0228.tiff     |     Thu Sep 22 14:27:56 2016', ' 20160922_CO-8-uptake_0000_0229.tiff     |     Thu Sep 22 14:27:56 2016', ' 20160922_CO-8-uptake_0000_0230.tiff     |     Thu Sep 22 14:27:56 2016', ' 20160922_CO-8-uptake_0000_0231.tiff     |     Thu Sep 22 14:27:56 2016', ' 20160922_CO-8-uptake_0000_0232.tiff     |     Thu Sep 22 14:27:56 2016', ' 20160922_CO-8-uptake_0000_0233.tiff     |     Thu Sep 22 14:27:56 2016', ' 20160922_CO-8-uptake_0000_0234.tiff     |     Thu Sep 22 14:27:56 2016', ' 20160922_CO-8-uptake_0000_0235.tiff     |     Thu Sep 22 14:27:56 2016', ' 20160922_CO-8-uptake_0000_0236.tiff     |     Thu Sep 22 14:27:57 2016', ' 20160922_CO-8-uptake_0000_0237.tiff     |     Thu Sep 22 14:27:57 2016', ' 20160922_CO-8-uptake_0000_0238.tiff     |     Thu Sep 22 14:27:57 2016', ' 20160922_CO-8-uptake_0000_0239.tiff     |     Thu Sep 22 14:27:57 2016', ' 20160922_CO-8-uptake_0000_0240.tiff     |     Thu Sep 22 14:27:57 2016', ' 20160922_CO-8-uptake_0000_0241.tiff     |     Thu Sep 22 14:27:57 2016', ' 20160922_CO-8-uptake_0000_0242.tiff     |     Thu Sep 22 14:27:57 2016', ' 20160922_CO-8-uptake_0000_0243.tiff     |     Thu Sep 22 14:27:57 2016', ' 20160922_CO-8-uptake_0000_0244.tiff     |     Thu Sep 22 14:27:57 2016', ' 20160922_CO-8-uptake_0000_0245.tiff     |     Thu Sep 22 14:27:57 2016', ' 20160922_CO-8-uptake_0000_0246.tiff     |     Thu Sep 22 14:27:57 2016', ' 20160922_CO-8-uptake_0000_0247.tiff     |     Thu Sep 22 14:27:57 2016', ' 20160922_CO-8-uptake_0000_0248.tiff     |     Thu Sep 22 14:27:57 2016', ' 20160922_CO-8-uptake_0000_0249.tiff     |     Thu Sep 22 14:27:57 2016', ' 20160922_CO-8-uptake_0000_0250.tiff     |     Thu Sep 22 14:27:57 2016', ' 20160922_CO-8-uptake_0000_0251.tiff     |     Thu Sep 22 14:27:57 2016', ' 20160922_CO-8-uptake_0000_0252.tiff     |     Thu Sep 22 14:27:57 2016', ' 20160922_CO-8-uptake_0000_0253.tiff     |     Thu Sep 22 14:27:57 2016', ' 20160922_CO-8-uptake_0000_0254.tiff     |     Thu Sep 22 14:27:57 2016', ' 20160922_CO-8-uptake_0000_0255.tiff     |     Thu Sep 22 14:27:57 2016', ' 20160922_CO-8-uptake_0000_0256.tiff     |     Thu Sep 22 14:27:57 2016', ' 20160922_CO-8-uptake_0000_0257.tiff     |     Thu Sep 22 14:27:57 2016', ' 20160922_CO-8-uptake_0000_0258.tiff     |     Thu Sep 22 14:27:57 2016', ' 20160922_CO-8-uptake_0000_0259.tiff     |     Thu Sep 22 14:27:57 2016', ' 20160922_CO-8-uptake_0000_0260.tiff     |     Thu Sep 22 14:27:57 2016', ' 20160922_CO-8-uptake_0000_0261.tiff     |     Thu Sep 22 14:27:57 2016', ' 20160922_CO-8-uptake_0000_0262.tiff     |     Thu Sep 22 14:27:57 2016', ' 20160922_CO-8-uptake_0000_0263.tiff     |     Thu Sep 22 14:27:57 2016', ' 20160922_CO-8-uptake_0000_0264.tiff     |     Thu Sep 22 14:27:57 2016', ' 20160922_CO-8-uptake_0000_0265.tiff     |     Thu Sep 22 14:27:57 2016', ' 20160922_CO-8-uptake_0000_0266.tiff     |     Thu Sep 22 14:27:57 2016', ' 20160922_CO-8-uptake_0000_0267.tiff     |     Thu Sep 22 14:27:58 2016', ' 20160922_CO-8-uptake_0000_0268.tiff     |     Thu Sep 22 14:27:58 2016', ' 20160922_CO-8-uptake_0000_0269.tiff     |     Thu Sep 22 14:27:58 2016', ' 20160922_CO-8-uptake_0000_0270.tiff     |     Thu Sep 22 14:27:58 2016', ' 20160922_CO-8-uptake_0000_0271.tiff     |     Thu Sep 22 14:27:58 2016', ' 20160922_CO-8-uptake_0000_0272.tiff     |     Thu Sep 22 14:27:58 2016', ' 20160922_CO-8-uptake_0000_0273.tiff     |     Thu Sep 22 14:27:58 2016', ' 20160922_CO-8-uptake_0000_0274.tiff     |     Thu Sep 22 14:27:58 2016', ' 20160922_CO-8-uptake_0000_0275.tiff     |     Thu Sep 22 14:27:58 2016', ' 20160922_CO-8-uptake_0000_0276.tiff     |     Thu Sep 22 14:27:58 2016', ' 20160922_CO-8-uptake_0000_0277.tiff     |     Thu Sep 22 14:27:58 2016', ' 20160922_CO-8-uptake_0000_0278.tiff     |     Thu Sep 22 14:27:58 2016', ' 20160922_CO-8-uptake_0000_0279.tiff     |     Thu Sep 22 14:27:58 2016', ' 20160922_CO-8-uptake_0000_0280.tiff     |     Thu Sep 22 14:27:58 2016', ' 20160922_CO-8-uptake_0000_0281.tiff     |     Thu Sep 22 14:27:58 2016', ' 20160922_CO-8-uptake_0000_0282.tiff     |     Thu Sep 22 14:27:58 2016', ' 20160922_CO-8-uptake_0000_0283.tiff     |     Thu Sep 22 14:27:58 2016', ' 20160922_CO-8-uptake_0000_0284.tiff     |     Thu Sep 22 14:27:58 2016', ' 20160922_CO-8-uptake_0000_0285.tiff     |     Thu Sep 22 14:27:58 2016', ' 20160922_CO-8-uptake_0000_0286.tiff     |     Thu Sep 22 14:27:58 2016', ' 20160922_CO-8-uptake_0000_0287.tiff     |     Thu Sep 22 14:27:58 2016', ' 20160922_CO-8-uptake_0000_0288.tiff     |     Thu Sep 22 14:27:58 2016', ' 20160922_CO-8-uptake_0000_0289.tiff     |     Thu Sep 22 14:27:58 2016', ' 20160922_CO-8-uptake_0000_0290.tiff     |     Thu Sep 22 14:27:58 2016', ' 20160922_CO-8-uptake_0000_0291.tiff     |     Thu Sep 22 14:27:58 2016', ' 20160922_CO-8-uptake_0000_0292.tiff     |     Thu Sep 22 14:27:58 2016', ' 20160922_CO-8-uptake_0000_0293.tiff     |     Thu Sep 22 14:27:58 2016', ' 20160922_CO-8-uptake_0000_0294.tiff     |     Thu Sep 22 14:27:58 2016', ' 20160922_CO-8-uptake_0000_0295.tiff     |     Thu Sep 22 14:27:58 2016', ' 20160922_CO-8-uptake_0000_0296.tiff     |     Thu Sep 22 14:27:58 2016', ' 20160922_CO-8-uptake_0000_0297.tiff     |     Thu Sep 22 14:27:59 2016', ' 20160922_CO-8-uptake_0000_0298.tiff     |     Thu Sep 22 14:27:59 2016', ' 20160922_CO-8-uptake_0000_0299.tiff     |     Thu Sep 22 14:27:59 2016', ' 20160922_CO-8-uptake_0000_0300.tiff     |     Thu Sep 22 14:27:59 2016', ' 20160922_CO-8-uptake_0000_0301.tiff     |     Thu Sep 22 14:27:59 2016', ' 20160922_CO-8-uptake_0000_0302.tiff     |     Thu Sep 22 14:27:59 2016', ' 20160922_CO-8-uptake_0000_0303.tiff     |     Thu Sep 22 14:27:59 2016', ' 20160922_CO-8-uptake_0000_0304.tiff     |     Thu Sep 22 14:27:59 2016', ' 20160922_CO-8-uptake_0000_0305.tiff     |     Thu Sep 22 14:27:59 2016', ' 20160922_CO-8-uptake_0000_0306.tiff     |     Thu Sep 22 14:27:59 2016', ' 20160922_CO-8-uptake_0000_0307.tiff     |     Thu Sep 22 14:27:59 2016', ' 20160922_CO-8-uptake_0000_0308.tiff     |     Thu Sep 22 14:27:59 2016', ' 20160922_CO-8-uptake_0000_0309.tiff     |     Thu Sep 22 14:27:59 2016', ' 20160922_CO-8-uptake_0000_0310.tiff     |     Thu Sep 22 14:27:59 2016', ' 20160922_CO-8-uptake_0000_0311.tiff     |     Thu Sep 22 14:27:59 2016', ' 20160922_CO-8-uptake_0000_0312.tiff     |     Thu Sep 22 14:27:59 2016', ' 20160922_CO-8-uptake_0000_0313.tiff     |     Thu Sep 22 14:27:59 2016', ' 20160922_CO-8-uptake_0000_0314.tiff     |     Thu Sep 22 14:27:59 2016', ' 20160922_CO-8-uptake_0000_0315.tiff     |     Thu Sep 22 14:27:59 2016', ' 20160922_CO-8-uptake_0000_0316.tiff     |     Thu Sep 22 14:27:59 2016', ' 20160922_CO-8-uptake_0000_0317.tiff     |     Thu Sep 22 14:27:59 2016', ' 20160922_CO-8-uptake_0000_0318.tiff     |     Thu Sep 22 14:27:59 2016', ' 20160922_CO-8-uptake_0000_0319.tiff     |     Thu Sep 22 14:27:59 2016', ' 20160922_CO-8-uptake_0000_0320.tiff     |     Thu Sep 22 14:27:59 2016', ' 20160922_CO-8-uptake_0000_0321.tiff     |     Thu Sep 22 14:27:59 2016', ' 20160922_CO-8-uptake_0000_0322.tiff     |     Thu Sep 22 14:27:59 2016', ' 20160922_CO-8-uptake_0000_0323.tiff     |     Thu Sep 22 14:27:59 2016', ' 20160922_CO-8-uptake_0000_0324.tiff     |     Thu Sep 22 14:27:59 2016', ' 20160922_CO-8-uptake_0000_0325.tiff     |     Thu Sep 22 14:27:59 2016', ' 20160922_CO-8-uptake_0000_0326.tiff     |     Thu Sep 22 14:27:59 2016', ' 20160922_CO-8-uptake_0000_0327.tiff     |     Thu Sep 22 14:28:00 2016', ' 20160922_CO-8-uptake_0000_0328.tiff     |     Thu Sep 22 14:28:00 2016', ' 20160922_CO-8-uptake_0000_0329.tiff     |     Thu Sep 22 14:28:00 2016', ' 20160922_CO-8-uptake_0000_0330.tiff     |     Thu Sep 22 14:28:00 2016', ' 20160922_CO-8-uptake_0000_0331.tiff     |     Thu Sep 22 14:28:00 2016', ' 20160922_CO-8-uptake_0000_0332.tiff     |     Thu Sep 22 14:28:00 2016', ' 20160922_CO-8-uptake_0000_0333.tiff     |     Thu Sep 22 14:28:00 2016', ' 20160922_CO-8-uptake_0000_0334.tiff     |     Thu Sep 22 14:28:00 2016', ' 20160922_CO-8-uptake_0000_0335.tiff     |     Thu Sep 22 14:28:00 2016', ' 20160922_CO-8-uptake_0000_0336.tiff     |     Thu Sep 22 14:28:00 2016', ' 20160922_CO-8-uptake_0000_0337.tiff     |     Thu Sep 22 14:28:00 2016', ' 20160922_CO-8-uptake_0000_0338.tiff     |     Thu Sep 22 14:28:01 2016', ' 20160922_CO-8-uptake_0000_0339.tiff     |     Thu Sep 22 14:28:01 2016', ' 20160922_CO-8-uptake_0000_0340.tiff     |     Thu Sep 22 14:28:01 2016', ' 20160922_CO-8-uptake_0000_0341.tiff     |     Thu Sep 22 14:28:01 2016', ' 20160922_CO-8-uptake_0000_0342.tiff     |     Thu Sep 22 14:28:01 2016', ' 20160922_CO-8-uptake_0000_0343.tiff     |     Thu Sep 22 14:28:01 2016', ' 20160922_CO-8-uptake_0000_0344.tiff     |     Thu Sep 22 14:28:01 2016', ' 20160922_CO-8-uptake_0000_0345.tiff     |     Thu Sep 22 14:28:01 2016', ' 20160922_CO-8-uptake_0000_0346.tiff     |     Thu Sep 22 14:28:01 2016', ' 20160922_CO-8-uptake_0000_0347.tiff     |     Thu Sep 22 14:28:01 2016', ' 20160922_CO-8-uptake_0000_0348.tiff     |     Thu Sep 22 14:28:02 2016', ' 20160922_CO-8-uptake_0000_0349.tiff     |     Thu Sep 22 14:28:02 2016', ' 20160922_CO-8-uptake_0000_0350.tiff     |     Thu Sep 22 14:28:02 2016', ' 20160922_CO-8-uptake_0000_0351.tiff     |     Thu Sep 22 14:28:02 2016', ' 20160922_CO-8-uptake_0000_0352.tiff     |     Thu Sep 22 14:28:02 2016', ' 20160922_CO-8-uptake_0000_0353.tiff     |     Thu Sep 22 14:28:02 2016', ' 20160922_CO-8-uptake_0000_0354.tiff     |     Thu Sep 22 14:28:02 2016', ' 20160922_CO-8-uptake_0000_0355.tiff     |     Thu Sep 22 14:28:02 2016', ' 20160922_CO-8-uptake_0000_0356.tiff     |     Thu Sep 22 14:28:02 2016', ' 20160922_CO-8-uptake_0000_0357.tiff     |     Thu Sep 22 14:28:02 2016', ' 20160922_CO-8-uptake_0000_0358.tiff     |     Thu Sep 22 14:28:02 2016', ' 20160922_CO-8-uptake_0000_0359.tiff     |     Thu Sep 22 14:28:02 2016', ' 20160922_CO-8-uptake_0000_0360.tiff     |     Thu Sep 22 14:28:02 2016', ' 20160922_CO-8-uptake_0000_0361.tiff     |     Thu Sep 22 14:28:02 2016', ' 20160922_CO-8-uptake_0000_0362.tiff     |     Thu Sep 22 14:28:02 2016', ' 20160922_CO-8-uptake_0000_0363.tiff     |     Thu Sep 22 14:28:02 2016', ' 20160922_CO-8-uptake_0000_0364.tiff     |     Thu Sep 22 14:28:02 2016', ' 20160922_CO-8-uptake_0000_0365.tiff     |     Thu Sep 22 14:28:02 2016', ' 20160922_CO-8-uptake_0000_0366.tiff     |     Thu Sep 22 14:28:02 2016', ' 20160922_CO-8-uptake_0000_0367.tiff     |     Thu Sep 22 14:28:02 2016', ' 20160922_CO-8-uptake_0000_0368.tiff     |     Thu Sep 22 14:28:02 2016', ' 20160922_CO-8-uptake_0000_0369.tiff     |     Thu Sep 22 14:28:02 2016', ' 20160922_CO-8-uptake_0000_0370.tiff     |     Thu Sep 22 14:28:02 2016', ' 20160922_CO-8-uptake_0000_0371.tiff     |     Thu Sep 22 14:28:02 2016', ' 20160922_CO-8-uptake_0000_0372.tiff     |     Thu Sep 22 14:28:02 2016', ' 20160922_CO-8-uptake_0000_0373.tiff     |     Thu Sep 22 14:28:02 2016', ' 20160922_CO-8-uptake_0000_0374.tiff     |     Thu Sep 22 14:28:02 2016', ' 20160922_CO-8-uptake_0000_0375.tiff     |     Thu Sep 22 14:28:02 2016', ' 20160922_CO-8-uptake_0000_0376.tiff     |     Thu Sep 22 14:28:02 2016', ' 20160922_CO-8-uptake_0000_0377.tiff     |     Thu Sep 22 14:28:02 2016', ' 20160922_CO-8-uptake_0000_0378.tiff     |     Thu Sep 22 14:28:02 2016', ' 20160922_CO-8-uptake_0000_0379.tiff     |     Thu Sep 22 14:28:02 2016', ' 20160922_CO-8-uptake_0000_0380.tiff     |     Thu Sep 22 14:28:02 2016', ' 20160922_CO-8-uptake_0000_0381.tiff     |     Thu Sep 22 14:28:02 2016', ' 20160922_CO-8-uptake_0000_0382.tiff     |     Thu Sep 22 14:28:02 2016', ' 20160922_CO-8-uptake_0000_0383.tiff     |     Thu Sep 22 14:28:02 2016', ' 20160922_CO-8-uptake_0000_0384.tiff     |     Thu Sep 22 14:28:02 2016', ' 20160922_CO-8-uptake_0000_0385.tiff     |     Thu Sep 22 14:28:02 2016', ' 20160922_CO-8-uptake_0000_0386.tiff     |     Thu Sep 22 14:28:02 2016', ' 20160922_CO-8-uptake_0000_0387.tiff     |     Thu Sep 22 14:28:02 2016', ' 20160922_CO-8-uptake_0000_0388.tiff     |     Thu Sep 22 14:28:02 2016', ' 20160922_CO-8-uptake_0000_0389.tiff     |     Thu Sep 22 14:28:02 2016', ' 20160922_CO-8-uptake_0000_0390.tiff     |     Thu Sep 22 14:28:02 2016', ' 20160922_CO-8-uptake_0000_0391.tiff     |     Thu Sep 22 14:28:02 2016', ' 20160922_CO-8-uptake_0000_0392.tiff     |     Thu Sep 22 14:28:02 2016', ' 20160922_CO-8-uptake_0000_0393.tiff     |     Thu Sep 22 14:28:02 2016', ' 20160922_CO-8-uptake_0000_0394.tiff     |     Thu Sep 22 14:28:02 2016', ' 20160922_CO-8-uptake_0000_0395.tiff     |     Thu Sep 22 14:28:02 2016', ' 20160922_CO-8-uptake_0000_0396.tiff     |     Thu Sep 22 14:28:02 2016', ' 20160922_CO-8-uptake_0000_0397.tiff     |     Thu Sep 22 14:28:02 2016', ' 20160922_CO-8-uptake_0000_0398.tiff     |     Thu Sep 22 14:28:02 2016', ' 20160922_CO-8-uptake_0000_0399.tiff     |     Thu Sep 22 14:28:02 2016', ' 20160922_CO-8-uptake_0000_0400.tiff     |     Thu Sep 22 14:28:02 2016', ' 20160922_CO-8-uptake_0000_0401.tiff     |     Thu Sep 22 14:28:02 2016', ' 20160922_CO-8-uptake_0000_0402.tiff     |     Thu Sep 22 14:28:02 2016', ' 20160922_CO-8-uptake_0000_0403.tiff     |     Thu Sep 22 14:28:02 2016', ' 20160922_CO-8-uptake_0000_0404.tiff     |     Thu Sep 22 14:28:02 2016', ' 20160922_CO-8-uptake_0000_0405.tiff     |     Thu Sep 22 14:28:02 2016', ' 20160922_CO-8-uptake_0000_0406.tiff     |     Thu Sep 22 14:28:02 2016', ' 20160922_CO-8-uptake_0000_0407.tiff     |     Thu Sep 22 14:28:02 2016', ' 20160922_CO-8-uptake_0000_0408.tiff     |     Thu Sep 22 14:28:02 2016', ' 20160922_CO-8-uptake_0000_0409.tiff     |     Thu Sep 22 14:28:02 2016', ' 20160922_CO-8-uptake_0000_0410.tiff     |     Thu Sep 22 14:28:02 2016', ' 20160922_CO-8-uptake_0000_0411.tiff     |     Thu Sep 22 14:28:03 2016', ' 20160922_CO-8-uptake_0000_0412.tiff     |     Thu Sep 22 14:28:03 2016', ' 20160922_CO-8-uptake_0000_0413.tiff     |     Thu Sep 22 14:28:03 2016', ' 20160922_CO-8-uptake_0000_0414.tiff     |     Thu Sep 22 14:28:03 2016', ' 20160922_CO-8-uptake_0000_0415.tiff     |     Thu Sep 22 14:28:03 2016', ' 20160922_CO-8-uptake_0000_0416.tiff     |     Thu Sep 22 14:28:03 2016', ' 20160922_CO-8-uptake_0000_0417.tiff     |     Thu Sep 22 14:28:03 2016', ' 20160922_CO-8-uptake_0000_0418.tiff     |     Thu Sep 22 14:28:03 2016', ' 20160922_CO-8-uptake_0000_0419.tiff     |     Thu Sep 22 14:28:03 2016', ' 20160922_CO-8-uptake_0000_0420.tiff     |     Thu Sep 22 14:28:03 2016', ' 20160922_CO-8-uptake_0000_0421.tiff     |     Thu Sep 22 14:28:03 2016', ' 20160922_CO-8-uptake_0000_0422.tiff     |     Thu Sep 22 14:28:03 2016', ' 20160922_CO-8-uptake_0000_0423.tiff     |     Thu Sep 22 14:28:03 2016', ' 20160922_CO-8-uptake_0000_0424.tiff     |     Thu Sep 22 14:28:03 2016', ' 20160922_CO-8-uptake_0000_0425.tiff     |     Thu Sep 22 14:28:03 2016', ' 20160922_CO-8-uptake_0000_0426.tiff     |     Thu Sep 22 14:28:03 2016', ' 20160922_CO-8-uptake_0000_0427.tiff     |     Thu Sep 22 14:28:03 2016', ' 20160922_CO-8-uptake_0000_0428.tiff     |     Thu Sep 22 14:28:03 2016', ' 20160922_CO-8-uptake_0000_0429.tiff     |     Thu Sep 22 14:28:03 2016', ' 20160922_CO-8-uptake_0000_0430.tiff     |     Thu Sep 22 14:28:03 2016', ' 20160922_CO-8-uptake_0000_0431.tiff     |     Thu Sep 22 14:28:03 2016', ' 20160922_CO-8-uptake_0000_0432.tiff     |     Thu Sep 22 14:28:03 2016', ' 20160922_CO-8-uptake_0000_0433.tiff     |     Thu Sep 22 14:28:03 2016', ' 20160922_CO-8-uptake_0000_0434.tiff     |     Thu Sep 22 14:28:03 2016', ' 20160922_CO-8-uptake_0000_0435.tiff     |     Thu Sep 22 14:28:03 2016', ' 20160922_CO-8-uptake_0000_0436.tiff     |     Thu Sep 22 14:28:03 2016', ' 20160922_CO-8-uptake_0000_0437.tiff     |     Thu Sep 22 14:28:03 2016', ' 20160922_CO-8-uptake_0000_0438.tiff     |     Thu Sep 22 14:28:03 2016', ' 20160922_CO-8-uptake_0000_0439.tiff     |     Thu Sep 22 14:28:03 2016', ' 20160922_CO-8-uptake_0000_0440.tiff     |     Thu Sep 22 14:28:03 2016', ' 20160922_CO-8-uptake_0000_0441.tiff     |     Thu Sep 22 14:28:03 2016', ' 20160922_CO-8-uptake_0000_0442.tiff     |     Thu Sep 22 14:28:03 2016', ' 20160922_CO-8-uptake_0000_0443.tiff     |     Thu Sep 22 14:28:03 2016', ' 20160922_CO-8-uptake_0000_0444.tiff     |     Thu Sep 22 14:28:03 2016', ' 20160922_CO-8-uptake_0000_0445.tiff     |     Thu Sep 22 14:28:03 2016', ' 20160922_CO-8-uptake_0000_0446.tiff     |     Thu Sep 22 14:28:03 2016', ' 20160922_CO-8-uptake_0000_0447.tiff     |     Thu Sep 22 14:28:03 2016', ' 20160922_CO-8-uptake_0000_0448.tiff     |     Thu Sep 22 14:28:03 2016', ' 20160922_CO-8-uptake_0000_0449.tiff     |     Thu Sep 22 14:28:04 2016', ' 20160922_CO-8-uptake_0000_0450.tiff     |     Thu Sep 22 14:28:04 2016', ' 20160922_CO-8-uptake_0000_0451.tiff     |     Thu Sep 22 14:28:04 2016', ' 20160922_CO-8-uptake_0000_0452.tiff     |     Thu Sep 22 14:28:04 2016', ' 20160922_CO-8-uptake_0000_0453.tiff     |     Thu Sep 22 14:28:04 2016', ' 20160922_CO-8-uptake_0000_0454.tiff     |     Thu Sep 22 14:28:04 2016', ' 20160922_CO-8-uptake_0000_0455.tiff     |     Thu Sep 22 14:28:04 2016', ' 20160922_CO-8-uptake_0000_0456.tiff     |     Thu Sep 22 14:28:04 2016', ' 20160922_CO-8-uptake_0000_0457.tiff     |     Thu Sep 22 14:28:04 2016', ' 20160922_CO-8-uptake_0000_0458.tiff     |     Thu Sep 22 14:28:04 2016', ' 20160922_CO-8-uptake_0000_0459.tiff     |     Thu Sep 22 14:28:04 2016', ' 20160922_CO-8-uptake_0000_0460.tiff     |     Thu Sep 22 14:28:04 2016', ' 20160922_CO-8-uptake_0000_0461.tiff     |     Thu Sep 22 14:28:04 2016', ' 20160922_CO-8-uptake_0000_0462.tiff     |     Thu Sep 22 14:28:04 2016', ' 20160922_CO-8-uptake_0000_0463.tiff     |     Thu Sep 22 14:28:04 2016', ' 20160922_CO-8-uptake_0000_0464.tiff     |     Thu Sep 22 14:28:04 2016', ' 20160922_CO-8-uptake_0000_0465.tiff     |     Thu Sep 22 14:28:04 2016', ' 20160922_CO-8-uptake_0000_0466.tiff     |     Thu Sep 22 14:28:04 2016', ' 20160922_CO-8-uptake_0000_0467.tiff     |     Thu Sep 22 14:28:04 2016', ' 20160922_CO-8-uptake_0000_0468.tiff     |     Thu Sep 22 14:28:04 2016', ' 20160922_CO-8-uptake_0000_0469.tiff     |     Thu Sep 22 14:28:04 2016', ' 20160922_CO-8-uptake_0000_0470.tiff     |     Thu Sep 22 14:28:04 2016', ' 20160922_CO-8-uptake_0000_0471.tiff     |     Thu Sep 22 14:28:04 2016', ' 20160922_CO-8-uptake_0000_0472.tiff     |     Thu Sep 22 14:28:05 2016', ' 20160922_CO-8-uptake_0000_0473.tiff     |     Thu Sep 22 14:28:05 2016', ' 20160922_CO-8-uptake_0000_0474.tiff     |     Thu Sep 22 14:28:05 2016', ' 20160922_CO-8-uptake_0000_0475.tiff     |     Thu Sep 22 14:28:05 2016', ' 20160922_CO-8-uptake_0000_0476.tiff     |     Thu Sep 22 14:28:05 2016', ' 20160922_CO-8-uptake_0000_0477.tiff     |     Thu Sep 22 14:28:05 2016', ' 20160922_CO-8-uptake_0000_0478.tiff     |     Thu Sep 22 14:28:05 2016', ' 20160922_CO-8-uptake_0000_0479.tiff     |     Thu Sep 22 14:28:05 2016', ' 20160922_CO-8-uptake_0000_0480.tiff     |     Thu Sep 22 14:28:05 2016', ' 20160922_CO-8-uptake_0000_0481.tiff     |     Thu Sep 22 14:28:05 2016', ' 20160922_CO-8-uptake_0000_0482.tiff     |     Thu Sep 22 14:28:05 2016', ' 20160922_CO-8-uptake_0000_0483.tiff     |     Thu Sep 22 14:28:05 2016', ' 20160922_CO-8-uptake_0000_0484.tiff     |     Thu Sep 22 14:28:05 2016', ' 20160922_CO-8-uptake_0000_0485.tiff     |     Thu Sep 22 14:28:05 2016', ' 20160922_CO-8-uptake_0000_0486.tiff     |     Thu Sep 22 14:28:05 2016', ' 20160922_CO-8-uptake_0000_0487.tiff     |     Thu Sep 22 14:28:05 2016', ' 20160922_CO-8-uptake_0000_0488.tiff     |     Thu Sep 22 14:28:05 2016', ' 20160922_CO-8-uptake_0000_0489.tiff     |     Thu Sep 22 14:28:05 2016', ' 20160922_CO-8-uptake_0000_0490.tiff     |     Thu Sep 22 14:28:05 2016', ' 20160922_CO-8-uptake_0000_0491.tiff     |     Thu Sep 22 14:28:05 2016', ' 20160922_CO-8-uptake_0000_0492.tiff     |     Thu Sep 22 14:28:05 2016', ' 20160922_CO-8-uptake_0000_0493.tiff     |     Thu Sep 22 14:28:05 2016', ' 20160922_CO-8-uptake_0000_0494.tiff     |     Thu Sep 22 14:28:05 2016', ' 20160922_CO-8-uptake_0000_0495.tiff     |     Thu Sep 22 14:28:05 2016', ' 20160922_CO-8-uptake_0000_0496.tiff     |     Thu Sep 22 14:28:05 2016', ' 20160922_CO-8-uptake_0000_0497.tiff     |     Thu Sep 22 14:28:05 2016', ' 20160922_CO-8-uptake_0000_0498.tiff     |     Thu Sep 22 14:28:05 2016', ' 20160922_CO-8-uptake_0000_0499.tiff     |     Thu Sep 22 14:28:05 2016', ' 20160922_CO-8-uptake_0000_0500.tiff     |     Thu Sep 22 14:28:05 2016', ' 20160922_CO-8-uptake_0000_0501.tiff     |     Thu Sep 22 14:28:05 2016', ' 20160922_CO-8-uptake_0000_0502.tiff     |     Thu Sep 22 14:28:05 2016', ' 20160922_CO-8-uptake_0000_0503.tiff     |     Thu Sep 22 14:28:05 2016', ' 20160922_CO-8-uptake_0000_0504.tiff     |     Thu Sep 22 14:28:05 2016', ' 20160922_CO-8-uptake_0000_0505.tiff     |     Thu Sep 22 14:28:05 2016', ' 20160922_CO-8-uptake_0000_0506.tiff     |     Thu Sep 22 14:28:05 2016', ' 20160922_CO-8-uptake_0000_0507.tiff     |     Thu Sep 22 14:28:05 2016', ' 20160922_CO-8-uptake_0000_0508.tiff     |     Thu Sep 22 14:28:05 2016', ' 20160922_CO-8-uptake_0000_0509.tiff     |     Thu Sep 22 14:28:06 2016', ' 20160922_CO-8-uptake_0000_0510.tiff     |     Thu Sep 22 14:28:06 2016', ' 20160922_CO-8-uptake_0000_0511.tiff     |     Thu Sep 22 14:28:06 2016', ' 20160922_CO-8-uptake_0000_0512.tiff     |     Thu Sep 22 14:28:06 2016', ' 20160922_CO-8-uptake_0000_0513.tiff     |     Thu Sep 22 14:28:06 2016', ' 20160922_CO-8-uptake_0000_0514.tiff     |     Thu Sep 22 14:28:06 2016', ' 20160922_CO-8-uptake_0000_0515.tiff     |     Thu Sep 22 14:28:06 2016', ' 20160922_CO-8-uptake_0000_0516.tiff     |     Thu Sep 22 14:28:06 2016', ' 20160922_CO-8-uptake_0000_0517.tiff     |     Thu Sep 22 14:28:06 2016', ' 20160922_CO-8-uptake_0000_0518.tiff     |     Thu Sep 22 14:28:06 2016', ' 20160922_CO-8-uptake_0000_0519.tiff     |     Thu Sep 22 14:28:06 2016', ' 20160922_CO-8-uptake_0000_0520.tiff     |     Thu Sep 22 14:28:06 2016', ' 20160922_CO-8-uptake_0000_0521.tiff     |     Thu Sep 22 14:28:06 2016', ' 20160922_CO-8-uptake_0000_0522.tiff     |     Thu Sep 22 14:28:06 2016', ' 20160922_CO-8-uptake_0000_0523.tiff     |     Thu Sep 22 14:28:06 2016', ' 20160922_CO-8-uptake_0000_0524.tiff     |     Thu Sep 22 14:28:06 2016', ' 20160922_CO-8-uptake_0000_0525.tiff     |     Thu Sep 22 14:28:06 2016', ' 20160922_CO-8-uptake_0000_0526.tiff     |     Thu Sep 22 14:28:06 2016', ' 20160922_CO-8-uptake_0000_0527.tiff     |     Thu Sep 22 14:28:06 2016', ' 20160922_CO-8-uptake_0000_0528.tiff     |     Thu Sep 22 14:28:06 2016', ' 20160922_CO-8-uptake_0000_0529.tiff     |     Thu Sep 22 14:28:06 2016', ' 20160922_CO-8-uptake_0000_0530.tiff     |     Thu Sep 22 14:28:06 2016', ' 20160922_CO-8-uptake_0000_0531.tiff     |     Thu Sep 22 14:28:06 2016', ' 20160922_CO-8-uptake_0000_0532.tiff     |     Thu Sep 22 14:28:06 2016', ' 20160922_CO-8-uptake_0000_0533.tiff     |     Thu Sep 22 14:28:06 2016', ' 20160922_CO-8-uptake_0000_0534.tiff     |     Thu Sep 22 14:28:06 2016', ' 20160922_CO-8-uptake_0000_0535.tiff     |     Thu Sep 22 14:28:06 2016', ' 20160922_CO-8-uptake_0000_0536.tiff     |     Thu Sep 22 14:28:06 2016', ' 20160922_CO-8-uptake_0000_0537.tiff     |     Thu Sep 22 14:28:06 2016', ' 20160922_CO-8-uptake_0000_0538.tiff     |     Thu Sep 22 14:28:06 2016', ' 20160922_CO-8-uptake_0000_0539.tiff     |     Thu Sep 22 14:28:07 2016', ' 20160922_CO-8-uptake_0000_0540.tiff     |     Thu Sep 22 14:28:07 2016', ' 20160922_CO-8-uptake_0000_0541.tiff     |     Thu Sep 22 14:28:07 2016', ' 20160922_CO-8-uptake_0000_0542.tiff     |     Thu Sep 22 14:28:07 2016', ' 20160922_CO-8-uptake_0000_0543.tiff     |     Thu Sep 22 14:28:07 2016', ' 20160922_CO-8-uptake_0000_0544.tiff     |     Thu Sep 22 14:28:07 2016', ' 20160922_CO-8-uptake_0000_0545.tiff     |     Thu Sep 22 14:28:07 2016', ' 20160922_CO-8-uptake_0000_0546.tiff     |     Thu Sep 22 14:28:07 2016', ' 20160922_CO-8-uptake_0000_0547.tiff     |     Thu Sep 22 14:28:07 2016', ' 20160922_CO-8-uptake_0000_0548.tiff     |     Thu Sep 22 14:28:07 2016', ' 20160922_CO-8-uptake_0000_0549.tiff     |     Thu Sep 22 14:28:07 2016', ' 20160922_CO-8-uptake_0000_0550.tiff     |     Thu Sep 22 14:28:07 2016', ' 20160922_CO-8-uptake_0000_0551.tiff     |     Thu Sep 22 14:28:07 2016', ' 20160922_CO-8-uptake_0000_0552.tiff     |     Thu Sep 22 14:28:07 2016', ' 20160922_CO-8-uptake_0000_0553.tiff     |     Thu Sep 22 14:28:07 2016', ' 20160922_CO-8-uptake_0000_0554.tiff     |     Thu Sep 22 14:28:07 2016', ' 20160922_CO-8-uptake_0000_0555.tiff     |     Thu Sep 22 14:28:07 2016', ' 20160922_CO-8-uptake_0000_0556.tiff     |     Thu Sep 22 14:28:07 2016', ' 20160922_CO-8-uptake_0000_0557.tiff     |     Thu Sep 22 14:28:07 2016', ' 20160922_CO-8-uptake_0000_0558.tiff     |     Thu Sep 22 14:28:07 2016', ' 20160922_CO-8-uptake_0000_0559.tiff     |     Thu Sep 22 14:28:07 2016', ' 20160922_CO-8-uptake_0000_0560.tiff     |     Thu Sep 22 14:28:07 2016', ' 20160922_CO-8-uptake_0000_0561.tiff     |     Thu Sep 22 14:28:07 2016', ' 20160922_CO-8-uptake_0000_0562.tiff     |     Thu Sep 22 14:28:07 2016', ' 20160922_CO-8-uptake_0000_0563.tiff     |     Thu Sep 22 14:28:07 2016', ' 20160922_CO-8-uptake_0000_0564.tiff     |     Thu Sep 22 14:28:07 2016', ' 20160922_CO-8-uptake_0000_0565.tiff     |     Thu Sep 22 14:28:07 2016', ' 20160922_CO-8-uptake_0000_0566.tiff     |     Thu Sep 22 14:28:07 2016', ' 20160922_CO-8-uptake_0000_0567.tiff     |     Thu Sep 22 14:28:07 2016', ' 20160922_CO-8-uptake_0000_0568.tiff     |     Thu Sep 22 14:28:07 2016', ' 20160922_CO-8-uptake_0000_0569.tiff     |     Thu Sep 22 14:28:07 2016', ' 20160922_CO-8-uptake_0000_0570.tiff     |     Thu Sep 22 14:28:08 2016', ' 20160922_CO-8-uptake_0000_0571.tiff     |     Thu Sep 22 14:28:08 2016', ' 20160922_CO-8-uptake_0000_0572.tiff     |     Thu Sep 22 14:28:08 2016', ' 20160922_CO-8-uptake_0000_0573.tiff     |     Thu Sep 22 14:28:08 2016', ' 20160922_CO-8-uptake_0000_0574.tiff     |     Thu Sep 22 14:28:08 2016', ' 20160922_CO-8-uptake_0000_0575.tiff     |     Thu Sep 22 14:28:08 2016', ' 20160922_CO-8-uptake_0000_0576.tiff     |     Thu Sep 22 14:28:08 2016', ' 20160922_CO-8-uptake_0000_0577.tiff     |     Thu Sep 22 14:28:08 2016', ' 20160922_CO-8-uptake_0000_0578.tiff     |     Thu Sep 22 14:28:08 2016', ' 20160922_CO-8-uptake_0000_0579.tiff     |     Thu Sep 22 14:28:08 2016', ' 20160922_CO-8-uptake_0000_0580.tiff     |     Thu Sep 22 14:28:08 2016', ' 20160922_CO-8-uptake_0000_0581.tiff     |     Thu Sep 22 14:28:08 2016', ' 20160922_CO-8-uptake_0000_0582.tiff     |     Thu Sep 22 14:28:08 2016', ' 20160922_CO-8-uptake_0000_0583.tiff     |     Thu Sep 22 14:28:08 2016', ' 20160922_CO-8-uptake_0000_0584.tiff     |     Thu Sep 22 14:28:08 2016', ' 20160922_CO-8-uptake_0000_0585.tiff     |     Thu Sep 22 14:28:08 2016', ' 20160922_CO-8-uptake_0000_0586.tiff     |     Thu Sep 22 14:28:08 2016', ' 20160922_CO-8-uptake_0000_0587.tiff     |     Thu Sep 22 14:28:08 2016', ' 20160922_CO-8-uptake_0000_0588.tiff     |     Thu Sep 22 14:28:08 2016', ' 20160922_CO-8-uptake_0000_0589.tiff     |     Thu Sep 22 14:28:08 2016', ' 20160922_CO-8-uptake_0000_0590.tiff     |     Thu Sep 22 14:28:08 2016', ' 20160922_CO-8-uptake_0000_0591.tiff     |     Thu Sep 22 14:28:08 2016', ' 20160922_CO-8-uptake_0000_0592.tiff     |     Thu Sep 22 14:28:08 2016', ' 20160922_CO-8-uptake_0000_0593.tiff     |     Thu Sep 22 14:28:08 2016', ' 20160922_CO-8-uptake_0000_0594.tiff     |     Thu Sep 22 14:28:08 2016', ' 20160922_CO-8-uptake_0000_0595.tiff     |     Thu Sep 22 14:28:08 2016', ' 20160922_CO-8-uptake_0000_0596.tiff     |     Thu Sep 22 14:28:08 2016', ' 20160922_CO-8-uptake_0000_0597.tiff     |     Thu Sep 22 14:28:08 2016', ' 20160922_CO-8-uptake_0000_0598.tiff     |     Thu Sep 22 14:28:08 2016', ' 20160922_CO-8-uptake_0000_0599.tiff     |     Thu Sep 22 14:28:08 2016', ' 20160922_CO-8-uptake_0000_0600.tiff     |     Thu Sep 22 14:28:09 2016', ' 20160922_CO-8-uptake_0000_0601.tiff     |     Thu Sep 22 14:28:09 2016', ' 20160922_CO-8-uptake_0000_0602.tiff     |     Thu Sep 22 14:28:09 2016', ' 20160922_CO-8-uptake_0000_0603.tiff     |     Thu Sep 22 14:28:09 2016', ' 20160922_CO-8-uptake_0000_0604.tiff     |     Thu Sep 22 14:28:09 2016', ' 20160922_CO-8-uptake_0000_0605.tiff     |     Thu Sep 22 14:28:09 2016', ' 20160922_CO-8-uptake_0000_0606.tiff     |     Thu Sep 22 14:28:09 2016', ' 20160922_CO-8-uptake_0000_0607.tiff     |     Thu Sep 22 14:28:09 2016', ' 20160922_CO-8-uptake_0000_0608.tiff     |     Thu Sep 22 14:28:09 2016', ' 20160922_CO-8-uptake_0000_0609.tiff     |     Thu Sep 22 14:28:09 2016', ' 20160922_CO-8-uptake_0000_0610.tiff     |     Thu Sep 22 14:28:09 2016', ' 20160922_CO-8-uptake_0000_0611.tiff     |     Thu Sep 22 14:28:09 2016', ' 20160922_CO-8-uptake_0000_0612.tiff     |     Thu Sep 22 14:28:09 2016', ' 20160922_CO-8-uptake_0000_0613.tiff     |     Thu Sep 22 14:28:09 2016', ' 20160922_CO-8-uptake_0000_0614.tiff     |     Thu Sep 22 14:28:09 2016', ' 20160922_CO-8-uptake_0000_0615.tiff     |     Thu Sep 22 14:28:09 2016', ' 20160922_CO-8-uptake_0000_0616.tiff     |     Thu Sep 22 14:28:09 2016', ' 20160922_CO-8-uptake_0000_0617.tiff     |     Thu Sep 22 14:28:09 2016', ' 20160922_CO-8-uptake_0000_0618.tiff     |     Thu Sep 22 14:28:09 2016', ' 20160922_CO-8-uptake_0000_0619.tiff     |     Thu Sep 22 14:28:09 2016', ' 20160922_CO-8-uptake_0000_0620.tiff     |     Thu Sep 22 14:28:09 2016', ' 20160922_CO-8-uptake_0000_0621.tiff     |     Thu Sep 22 14:28:09 2016', ' 20160922_CO-8-uptake_0000_0622.tiff     |     Thu Sep 22 14:28:09 2016', ' 20160922_CO-8-uptake_0000_0623.tiff     |     Thu Sep 22 14:28:09 2016', ' 20160922_CO-8-uptake_0000_0624.tiff     |     Thu Sep 22 14:28:10 2016', ' 20160922_CO-8-uptake_0000_0625.tiff     |     Thu Sep 22 14:28:10 2016', ' 20160922_CO-8-uptake_0000_0626.tiff     |     Thu Sep 22 14:28:10 2016', ' 20160922_CO-8-uptake_0000_0627.tiff     |     Thu Sep 22 14:28:10 2016', ' 20160922_CO-8-uptake_0000_0628.tiff     |     Thu Sep 22 14:28:10 2016', ' 20160922_CO-8-uptake_0000_0629.tiff     |     Thu Sep 22 14:28:10 2016', ' 20160922_CO-8-uptake_0000_0630.tiff     |     Thu Sep 22 14:28:10 2016', ' 20160922_CO-8-uptake_0000_0631.tiff     |     Thu Sep 22 14:28:10 2016', ' 20160922_CO-8-uptake_0000_0632.tiff     |     Thu Sep 22 14:28:10 2016', ' 20160922_CO-8-uptake_0000_0633.tiff     |     Thu Sep 22 14:28:10 2016', ' 20160922_CO-8-uptake_0000_0634.tiff     |     Thu Sep 22 14:28:10 2016', ' 20160922_CO-8-uptake_0000_0635.tiff     |     Thu Sep 22 14:28:10 2016', ' 20160922_CO-8-uptake_0000_0636.tiff     |     Thu Sep 22 14:28:10 2016', ' 20160922_CO-8-uptake_0000_0637.tiff     |     Thu Sep 22 14:28:10 2016', ' 20160922_CO-8-uptake_0000_0638.tiff     |     Thu Sep 22 14:28:10 2016', ' 20160922_CO-8-uptake_0000_0639.tiff     |     Thu Sep 22 14:28:10 2016', ' 20160922_CO-8-uptake_0000_0640.tiff     |     Thu Sep 22 14:28:10 2016', ' 20160922_CO-8-uptake_0000_0641.tiff     |     Thu Sep 22 14:28:10 2016', ' 20160922_CO-8-uptake_0000_0642.tiff     |     Thu Sep 22 14:28:10 2016', ' 20160922_CO-8-uptake_0000_0643.tiff     |     Thu Sep 22 14:28:10 2016', ' 20160922_CO-8-uptake_0000_0644.tiff     |     Thu Sep 22 14:28:10 2016', ' 20160922_CO-8-uptake_0000_0645.tiff     |     Thu Sep 22 14:28:10 2016', ' 20160922_CO-8-uptake_0000_0646.tiff     |     Thu Sep 22 14:28:10 2016', ' 20160922_CO-8-uptake_0000_0647.tiff     |     Thu Sep 22 14:28:10 2016', ' 20160922_CO-8-uptake_0000_0648.tiff     |     Thu Sep 22 14:28:10 2016', ' 20160922_CO-8-uptake_0000_0649.tiff     |     Thu Sep 22 14:28:10 2016', ' 20160922_CO-8-uptake_0000_0650.tiff     |     Thu Sep 22 14:28:10 2016', ' 20160922_CO-8-uptake_0000_0651.tiff     |     Thu Sep 22 14:28:10 2016', ' 20160922_CO-8-uptake_0000_0652.tiff     |     Thu Sep 22 14:28:10 2016', ' 20160922_CO-8-uptake_0000_0653.tiff     |     Thu Sep 22 14:28:10 2016', ' 20160922_CO-8-uptake_0000_0654.tiff     |     Thu Sep 22 14:28:10 2016', ' 20160922_CO-8-uptake_0000_0655.tiff     |     Thu Sep 22 14:28:10 2016', ' 20160922_CO-8-uptake_0000_0656.tiff     |     Thu Sep 22 14:28:10 2016', ' 20160922_CO-8-uptake_0000_0657.tiff     |     Thu Sep 22 14:28:10 2016', ' 20160922_CO-8-uptake_0000_0658.tiff     |     Thu Sep 22 14:28:10 2016', ' 20160922_CO-8-uptake_0000_0659.tiff     |     Thu Sep 22 14:28:10 2016', ' 20160922_CO-8-uptake_0000_0660.tiff     |     Thu Sep 22 14:28:10 2016', ' 20160922_CO-8-uptake_0000_0661.tiff     |     Thu Sep 22 14:28:11 2016', ' 20160922_CO-8-uptake_0000_0662.tiff     |     Thu Sep 22 14:28:11 2016', ' 20160922_CO-8-uptake_0000_0663.tiff     |     Thu Sep 22 14:28:11 2016', ' 20160922_CO-8-uptake_0000_0664.tiff     |     Thu Sep 22 14:28:11 2016', ' 20160922_CO-8-uptake_0000_0665.tiff     |     Thu Sep 22 14:28:11 2016', ' 20160922_CO-8-uptake_0000_0666.tiff     |     Thu Sep 22 14:28:11 2016', ' 20160922_CO-8-uptake_0000_0667.tiff     |     Thu Sep 22 14:28:11 2016', ' 20160922_CO-8-uptake_0000_0668.tiff     |     Thu Sep 22 14:28:11 2016', ' 20160922_CO-8-uptake_0000_0669.tiff     |     Thu Sep 22 14:28:11 2016', ' 20160922_CO-8-uptake_0000_0670.tiff     |     Thu Sep 22 14:28:11 2016', ' 20160922_CO-8-uptake_0000_0671.tiff     |     Thu Sep 22 14:28:11 2016', ' 20160922_CO-8-uptake_0000_0672.tiff     |     Thu Sep 22 14:28:11 2016', ' 20160922_CO-8-uptake_0000_0673.tiff     |     Thu Sep 22 14:28:11 2016', ' 20160922_CO-8-uptake_0000_0674.tiff     |     Thu Sep 22 14:28:11 2016', ' 20160922_CO-8-uptake_0000_0675.tiff     |     Thu Sep 22 14:28:11 2016', ' 20160922_CO-8-uptake_0000_0676.tiff     |     Thu Sep 22 14:28:11 2016', ' 20160922_CO-8-uptake_0000_0677.tiff     |     Thu Sep 22 14:28:11 2016', ' 20160922_CO-8-uptake_0000_0678.tiff     |     Thu Sep 22 14:28:11 2016', ' 20160922_CO-8-uptake_0000_0679.tiff     |     Thu Sep 22 14:28:11 2016', ' 20160922_CO-8-uptake_0000_0680.tiff     |     Thu Sep 22 14:28:11 2016', ' 20160922_CO-8-uptake_0000_0681.tiff     |     Thu Sep 22 14:28:11 2016', ' 20160922_CO-8-uptake_0000_0682.tiff     |     Thu Sep 22 14:28:11 2016', ' 20160922_CO-8-uptake_0000_0683.tiff     |     Thu Sep 22 14:28:11 2016', ' 20160922_CO-8-uptake_0000_0684.tiff     |     Thu Sep 22 14:28:11 2016', ' 20160922_CO-8-uptake_0000_0685.tiff     |     Thu Sep 22 14:28:11 2016', ' 20160922_CO-8-uptake_0000_0686.tiff     |     Thu Sep 22 14:28:11 2016', ' 20160922_CO-8-uptake_0000_0687.tiff     |     Thu Sep 22 14:28:11 2016', ' 20160922_CO-8-uptake_0000_0688.tiff     |     Thu Sep 22 14:28:11 2016', ' 20160922_CO-8-uptake_0000_0689.tiff     |     Thu Sep 22 14:28:11 2016', ' 20160922_CO-8-uptake_0000_0690.tiff     |     Thu Sep 22 14:28:11 2016', ' 20160922_CO-8-uptake_0000_0691.tiff     |     Thu Sep 22 14:28:12 2016', ' 20160922_CO-8-uptake_0000_0692.tiff     |     Thu Sep 22 14:28:12 2016', ' 20160922_CO-8-uptake_0000_0693.tiff     |     Thu Sep 22 14:28:12 2016', ' 20160922_CO-8-uptake_0000_0694.tiff     |     Thu Sep 22 14:28:12 2016', ' 20160922_CO-8-uptake_0000_0695.tiff     |     Thu Sep 22 14:28:12 2016', ' 20160922_CO-8-uptake_0000_0696.tiff     |     Thu Sep 22 14:28:12 2016', ' 20160922_CO-8-uptake_0000_0697.tiff     |     Thu Sep 22 14:28:12 2016', ' 20160922_CO-8-uptake_0000_0698.tiff     |     Thu Sep 22 14:28:12 2016', ' 20160922_CO-8-uptake_0000_0699.tiff     |     Thu Sep 22 14:28:12 2016', ' 20160922_CO-8-uptake_0000_0700.tiff     |     Thu Sep 22 14:28:12 2016', ' 20160922_CO-8-uptake_0000_0701.tiff     |     Thu Sep 22 14:28:12 2016', ' 20160922_CO-8-uptake_0000_0702.tiff     |     Thu Sep 22 14:28:12 2016', ' 20160922_CO-8-uptake_0000_0703.tiff     |     Thu Sep 22 14:28:12 2016', ' 20160922_CO-8-uptake_0000_0704.tiff     |     Thu Sep 22 14:28:12 2016', ' 20160922_CO-8-uptake_0000_0705.tiff     |     Thu Sep 22 14:28:12 2016', ' 20160922_CO-8-uptake_0000_0706.tiff     |     Thu Sep 22 14:28:12 2016', ' 20160922_CO-8-uptake_0000_0707.tiff     |     Thu Sep 22 14:28:12 2016', ' 20160922_CO-8-uptake_0000_0708.tiff     |     Thu Sep 22 14:28:12 2016', ' 20160922_CO-8-uptake_0000_0709.tiff     |     Thu Sep 22 14:28:12 2016', ' 20160922_CO-8-uptake_0000_0710.tiff     |     Thu Sep 22 14:28:12 2016', ' 20160922_CO-8-uptake_0000_0711.tiff     |     Thu Sep 22 14:28:12 2016', ' 20160922_CO-8-uptake_0000_0712.tiff     |     Thu Sep 22 14:28:12 2016', ' 20160922_CO-8-uptake_0000_0713.tiff     |     Thu Sep 22 14:28:12 2016', ' 20160922_CO-8-uptake_0000_0714.tiff     |     Thu Sep 22 14:28:12 2016', ' 20160922_CO-8-uptake_0000_0715.tiff     |     Thu Sep 22 14:28:12 2016', ' 20160922_CO-8-uptake_0000_0716.tiff     |     Thu Sep 22 14:28:12 2016', ' 20160922_CO-8-uptake_0000_0717.tiff     |     Thu Sep 22 14:28:12 2016', ' 20160922_CO-8-uptake_0000_0718.tiff     |     Thu Sep 22 14:28:12 2016', ' 20160922_CO-8-uptake_0000_0719.tiff     |     Thu Sep 22 14:28:12 2016', ' 20160922_CO-8-uptake_0000_0720.tiff     |     Thu Sep 22 14:28:12 2016', ' 20160922_CO-8-uptake_0000_0721.tiff     |     Thu Sep 22 14:28:13 2016', ' 20160922_CO-8-uptake_0000_0722.tiff     |     Thu Sep 22 14:28:13 2016', ' 20160922_CO-8-uptake_0000_0723.tiff     |     Thu Sep 22 14:28:13 2016', ' 20160922_CO-8-uptake_0000_0724.tiff     |     Thu Sep 22 14:28:13 2016', ' 20160922_CO-8-uptake_0000_0725.tiff     |     Thu Sep 22 14:28:13 2016', ' 20160922_CO-8-uptake_0000_0726.tiff     |     Thu Sep 22 14:28:13 2016', ' 20160922_CO-8-uptake_0000_0727.tiff     |     Thu Sep 22 14:28:13 2016', ' 20160922_CO-8-uptake_0000_0728.tiff     |     Thu Sep 22 14:28:13 2016', ' 20160922_CO-8-uptake_0000_0729.tiff     |     Thu Sep 22 14:28:13 2016', ' 20160922_CO-8-uptake_0000_0730.tiff     |     Thu Sep 22 14:28:13 2016', ' 20160922_CO-8-uptake_0000_0731.tiff     |     Thu Sep 22 14:28:13 2016', ' 20160922_CO-8-uptake_0000_0732.tiff     |     Thu Sep 22 14:28:13 2016', ' 20160922_CO-8-uptake_0000_0733.tiff     |     Thu Sep 22 14:28:13 2016', ' 20160922_CO-8-uptake_0000_0734.tiff     |     Thu Sep 22 14:28:13 2016', ' 20160922_CO-8-uptake_0000_0735.tiff     |     Thu Sep 22 14:28:13 2016', ' 20160922_CO-8-uptake_0000_0736.tiff     |     Thu Sep 22 14:28:13 2016', ' 20160922_CO-8-uptake_0000_0737.tiff     |     Thu Sep 22 14:28:13 2016', ' 20160922_CO-8-uptake_0000_0738.tiff     |     Thu Sep 22 14:28:13 2016', ' 20160922_CO-8-uptake_0000_0739.tiff     |     Thu Sep 22 14:28:13 2016', ' 20160922_CO-8-uptake_0000_0740.tiff     |     Thu Sep 22 14:28:13 2016', ' 20160922_CO-8-uptake_0000_0741.tiff     |     Thu Sep 22 14:28:13 2016', ' 20160922_CO-8-uptake_0000_0742.tiff     |     Thu Sep 22 14:28:13 2016', ' 20160922_CO-8-uptake_0000_0743.tiff     |     Thu Sep 22 14:28:13 2016', ' 20160922_CO-8-uptake_0000_0744.tiff     |     Thu Sep 22 14:28:13 2016', ' 20160922_CO-8-uptake_0000_0745.tiff     |     Thu Sep 22 14:28:13 2016', ' 20160922_CO-8-uptake_0000_0746.tiff     |     Thu Sep 22 14:28:13 2016', ' 20160922_CO-8-uptake_0000_0747.tiff     |     Thu Sep 22 14:28:13 2016', ' 20160922_CO-8-uptake_0000_0748.tiff     |     Thu Sep 22 14:28:13 2016', ' 20160922_CO-8-uptake_0000_0749.tiff     |     Thu Sep 22 14:28:13 2016', ' 20160922_CO-8-uptake_0000_0750.tiff     |     Thu Sep 22 14:28:13 2016', ' 20160922_CO-8-uptake_0000_0751.tiff     |     Thu Sep 22 14:28:13 2016', ' 20160922_CO-8-uptake_0000_0752.tiff     |     Thu Sep 22 14:28:14 2016', ' 20160922_CO-8-uptake_0000_0753.tiff     |     Thu Sep 22 14:28:14 2016', ' 20160922_CO-8-uptake_0000_0754.tiff     |     Thu Sep 22 14:28:14 2016', ' 20160922_CO-8-uptake_0000_0755.tiff     |     Thu Sep 22 14:28:14 2016', ' 20160922_CO-8-uptake_0000_0756.tiff     |     Thu Sep 22 14:28:14 2016', ' 20160922_CO-8-uptake_0000_0757.tiff     |     Thu Sep 22 14:28:14 2016', ' 20160922_CO-8-uptake_0000_0758.tiff     |     Thu Sep 22 14:28:14 2016', ' 20160922_CO-8-uptake_0000_0759.tiff     |     Thu Sep 22 14:28:14 2016', ' 20160922_CO-8-uptake_0000_0760.tiff     |     Thu Sep 22 14:28:14 2016', ' 20160922_CO-8-uptake_0000_0761.tiff     |     Thu Sep 22 14:28:14 2016', ' 20160922_CO-8-uptake_0000_0762.tiff     |     Thu Sep 22 14:28:14 2016', ' 20160922_CO-8-uptake_0000_0763.tiff     |     Thu Sep 22 14:28:14 2016', ' 20160922_CO-8-uptake_0000_0764.tiff     |     Thu Sep 22 14:28:14 2016', ' 20160922_CO-8-uptake_0000_0765.tiff     |     Thu Sep 22 14:28:14 2016', ' 20160922_CO-8-uptake_0000_0766.tiff     |     Thu Sep 22 14:28:14 2016', ' 20160922_CO-8-uptake_0000_0767.tiff     |     Thu Sep 22 14:28:14 2016', ' 20160922_CO-8-uptake_0000_0768.tiff     |     Thu Sep 22 14:28:14 2016', ' 20160922_CO-8-uptake_0000_0769.tiff     |     Thu Sep 22 14:28:14 2016', ' 20160922_CO-8-uptake_0000_0770.tiff     |     Thu Sep 22 14:28:14 2016', ' 20160922_CO-8-uptake_0000_0771.tiff     |     Thu Sep 22 14:28:14 2016', ' 20160922_CO-8-uptake_0000_0772.tiff     |     Thu Sep 22 14:28:14 2016', ' 20160922_CO-8-uptake_0000_0773.tiff     |     Thu Sep 22 14:28:14 2016', ' 20160922_CO-8-uptake_0000_0774.tiff     |     Thu Sep 22 14:28:14 2016', ' 20160922_CO-8-uptake_0000_0775.tiff     |     Thu Sep 22 14:28:15 2016', ' 20160922_CO-8-uptake_0000_0776.tiff     |     Thu Sep 22 14:28:15 2016', ' 20160922_CO-8-uptake_0000_0777.tiff     |     Thu Sep 22 14:28:15 2016', ' 20160922_CO-8-uptake_0000_0778.tiff     |     Thu Sep 22 14:28:15 2016', ' 20160922_CO-8-uptake_0000_0779.tiff     |     Thu Sep 22 14:28:15 2016', ' 20160922_CO-8-uptake_0000_0780.tiff     |     Thu Sep 22 14:28:15 2016', ' 20160922_CO-8-uptake_0000_0781.tiff     |     Thu Sep 22 14:28:15 2016', ' 20160922_CO-8-uptake_0000_0782.tiff     |     Thu Sep 22 14:28:15 2016', ' 20160922_CO-8-uptake_0000_0783.tiff     |     Thu Sep 22 14:28:15 2016', ' 20160922_CO-8-uptake_0000_0784.tiff     |     Thu Sep 22 14:28:15 2016', ' 20160922_CO-8-uptake_0000_0785.tiff     |     Thu Sep 22 14:28:15 2016', ' 20160922_CO-8-uptake_0000_0786.tiff     |     Thu Sep 22 14:28:15 2016', ' 20160922_CO-8-uptake_0000_0787.tiff     |     Thu Sep 22 14:28:15 2016', ' 20160922_CO-8-uptake_0000_0788.tiff     |     Thu Sep 22 14:28:15 2016', ' 20160922_CO-8-uptake_0000_0789.tiff     |     Thu Sep 22 14:28:15 2016', ' 20160922_CO-8-uptake_0000_0790.tiff     |     Thu Sep 22 14:28:15 2016', ' 20160922_CO-8-uptake_0000_0791.tiff     |     Thu Sep 22 14:28:15 2016', ' 20160922_CO-8-uptake_0000_0792.tiff     |     Thu Sep 22 14:28:15 2016', ' 20160922_CO-8-uptake_0000_0793.tiff     |     Thu Sep 22 14:28:15 2016', ' 20160922_CO-8-uptake_0000_0794.tiff     |     Thu Sep 22 14:28:15 2016', ' 20160922_CO-8-uptake_0000_0795.tiff     |     Thu Sep 22 14:28:15 2016', ' 20160922_CO-8-uptake_0000_0796.tiff     |     Thu Sep 22 14:28:15 2016', ' 20160922_CO-8-uptake_0000_0797.tiff     |     Thu Sep 22 14:28:15 2016', ' 20160922_CO-8-uptake_0000_0798.tiff     |     Thu Sep 22 14:28:15 2016', ' 20160922_CO-8-uptake_0000_0799.tiff     |     Thu Sep 22 14:28:15 2016', ' 20160922_CO-8-uptake_0000_0800.tiff     |     Thu Sep 22 14:28:15 2016', ' 20160922_CO-8-uptake_0000_0801.tiff     |     Thu Sep 22 14:28:15 2016', ' 20160922_CO-8-uptake_0000_0802.tiff     |     Thu Sep 22 14:28:15 2016', ' 20160922_CO-8-uptake_0000_0803.tiff     |     Thu Sep 22 14:28:15 2016', ' 20160922_CO-8-uptake_0000_0804.tiff     |     Thu Sep 22 14:28:15 2016', ' 20160922_CO-8-uptake_0000_0805.tiff     |     Thu Sep 22 14:28:15 2016', ' 20160922_CO-8-uptake_0000_0806.tiff     |     Thu Sep 22 14:28:15 2016', ' 20160922_CO-8-uptake_0000_0807.tiff     |     Thu Sep 22 14:28:15 2016', ' 20160922_CO-8-uptake_0000_0808.tiff     |     Thu Sep 22 14:28:15 2016', ' 20160922_CO-8-uptake_0000_0809.tiff     |     Thu Sep 22 14:28:15 2016', ' 20160922_CO-8-uptake_0000_0810.tiff     |     Thu Sep 22 14:28:15 2016', ' 20160922_CO-8-uptake_0000_0811.tiff     |     Thu Sep 22 14:28:15 2016', ' 20160922_CO-8-uptake_0000_0812.tiff     |     Thu Sep 22 14:28:16 2016', ' 20160922_CO-8-uptake_0000_0813.tiff     |     Thu Sep 22 14:28:16 2016', ' 20160922_CO-8-uptake_0000_0814.tiff     |     Thu Sep 22 14:28:16 2016', ' 20160922_CO-8-uptake_0000_0815.tiff     |     Thu Sep 22 14:28:16 2016', ' 20160922_CO-8-uptake_0000_0816.tiff     |     Thu Sep 22 14:28:16 2016', ' 20160922_CO-8-uptake_0000_0817.tiff     |     Thu Sep 22 14:28:16 2016', ' 20160922_CO-8-uptake_0000_0818.tiff     |     Thu Sep 22 14:28:16 2016', ' 20160922_CO-8-uptake_0000_0819.tiff     |     Thu Sep 22 14:28:16 2016', ' 20160922_CO-8-uptake_0000_0820.tiff     |     Thu Sep 22 14:28:16 2016', ' 20160922_CO-8-uptake_0000_0821.tiff     |     Thu Sep 22 14:28:16 2016', ' 20160922_CO-8-uptake_0000_0822.tiff     |     Thu Sep 22 14:28:16 2016', ' 20160922_CO-8-uptake_0000_0823.tiff     |     Thu Sep 22 14:28:16 2016', ' 20160922_CO-8-uptake_0000_0824.tiff     |     Thu Sep 22 14:28:16 2016', ' 20160922_CO-8-uptake_0000_0825.tiff     |     Thu Sep 22 14:28:16 2016', ' 20160922_CO-8-uptake_0000_0826.tiff     |     Thu Sep 22 14:28:16 2016', ' 20160922_CO-8-uptake_0000_0827.tiff     |     Thu Sep 22 14:28:16 2016', ' 20160922_CO-8-uptake_0000_0828.tiff     |     Thu Sep 22 14:28:16 2016', ' 20160922_CO-8-uptake_0000_0829.tiff     |     Thu Sep 22 14:28:16 2016', ' 20160922_CO-8-uptake_0000_0830.tiff     |     Thu Sep 22 14:28:16 2016', ' 20160922_CO-8-uptake_0000_0831.tiff     |     Thu Sep 22 14:28:16 2016', ' 20160922_CO-8-uptake_0000_0832.tiff     |     Thu Sep 22 14:28:16 2016', ' 20160922_CO-8-uptake_0000_0833.tiff     |     Thu Sep 22 14:28:16 2016', ' 20160922_CO-8-uptake_0000_0834.tiff     |     Thu Sep 22 14:28:16 2016', ' 20160922_CO-8-uptake_0000_0835.tiff     |     Thu Sep 22 14:28:16 2016', ' 20160922_CO-8-uptake_0000_0836.tiff     |     Thu Sep 22 14:28:16 2016', ' 20160922_CO-8-uptake_0000_0837.tiff     |     Thu Sep 22 14:28:16 2016', ' 20160922_CO-8-uptake_0000_0838.tiff     |     Thu Sep 22 14:28:16 2016', ' 20160922_CO-8-uptake_0000_0839.tiff     |     Thu Sep 22 14:28:16 2016', ' 20160922_CO-8-uptake_0000_0840.tiff     |     Thu Sep 22 14:28:16 2016', ' 20160922_CO-8-uptake_0000_0841.tiff     |     Thu Sep 22 14:28:16 2016', ' 20160922_CO-8-uptake_0000_0842.tiff     |     Thu Sep 22 14:28:17 2016', ' 20160922_CO-8-uptake_0000_0843.tiff     |     Thu Sep 22 14:28:17 2016', ' 20160922_CO-8-uptake_0000_0844.tiff     |     Thu Sep 22 14:28:17 2016', ' 20160922_CO-8-uptake_0000_0845.tiff     |     Thu Sep 22 14:28:17 2016', ' 20160922_CO-8-uptake_0000_0846.tiff     |     Thu Sep 22 14:28:17 2016', ' 20160922_CO-8-uptake_0000_0847.tiff     |     Thu Sep 22 14:28:17 2016', ' 20160922_CO-8-uptake_0000_0848.tiff     |     Thu Sep 22 14:28:17 2016', ' 20160922_CO-8-uptake_0000_0849.tiff     |     Thu Sep 22 14:28:17 2016', ' 20160922_CO-8-uptake_0000_0850.tiff     |     Thu Sep 22 14:28:17 2016', ' 20160922_CO-8-uptake_0000_0851.tiff     |     Thu Sep 22 14:28:17 2016', ' 20160922_CO-8-uptake_0000_0852.tiff     |     Thu Sep 22 14:28:17 2016', ' 20160922_CO-8-uptake_0000_0853.tiff     |     Thu Sep 22 14:28:17 2016', ' 20160922_CO-8-uptake_0000_0854.tiff     |     Thu Sep 22 14:28:17 2016', ' 20160922_CO-8-uptake_0000_0855.tiff     |     Thu Sep 22 14:28:17 2016', ' 20160922_CO-8-uptake_0000_0856.tiff     |     Thu Sep 22 14:28:17 2016', ' 20160922_CO-8-uptake_0000_0857.tiff     |     Thu Sep 22 14:28:17 2016', ' 20160922_CO-8-uptake_0000_0858.tiff     |     Thu Sep 22 14:28:17 2016', ' 20160922_CO-8-uptake_0000_0859.tiff     |     Thu Sep 22 14:28:17 2016', ' 20160922_CO-8-uptake_0000_0860.tiff     |     Thu Sep 22 14:28:17 2016', ' 20160922_CO-8-uptake_0000_0861.tiff     |     Thu Sep 22 14:28:17 2016', ' 20160922_CO-8-uptake_0000_0862.tiff     |     Thu Sep 22 14:28:17 2016', ' 20160922_CO-8-uptake_0000_0863.tiff     |     Thu Sep 22 14:28:17 2016', ' 20160922_CO-8-uptake_0000_0864.tiff     |     Thu Sep 22 14:28:17 2016', ' 20160922_CO-8-uptake_0000_0865.tiff     |     Thu Sep 22 14:28:17 2016', ' 20160922_CO-8-uptake_0000_0866.tiff     |     Thu Sep 22 14:28:17 2016', ' 20160922_CO-8-uptake_0000_0867.tiff     |     Thu Sep 22 14:28:17 2016', ' 20160922_CO-8-uptake_0000_0868.tiff     |     Thu Sep 22 14:28:17 2016', ' 20160922_CO-8-uptake_0000_0869.tiff     |     Thu Sep 22 14:28:17 2016', ' 20160922_CO-8-uptake_0000_0870.tiff     |     Thu Sep 22 14:28:17 2016', ' 20160922_CO-8-uptake_0000_0871.tiff     |     Thu Sep 22 14:28:17 2016', ' 20160922_CO-8-uptake_0000_0872.tiff     |     Thu Sep 22 14:28:17 2016', ' 20160922_CO-8-uptake_0000_0873.tiff     |     Thu Sep 22 14:28:18 2016', ' 20160922_CO-8-uptake_0000_0874.tiff     |     Thu Sep 22 14:28:18 2016', ' 20160922_CO-8-uptake_0000_0875.tiff     |     Thu Sep 22 14:28:18 2016', ' 20160922_CO-8-uptake_0000_0876.tiff     |     Thu Sep 22 14:28:18 2016', ' 20160922_CO-8-uptake_0000_0877.tiff     |     Thu Sep 22 14:28:18 2016', ' 20160922_CO-8-uptake_0000_0878.tiff     |     Thu Sep 22 14:28:18 2016', ' 20160922_CO-8-uptake_0000_0879.tiff     |     Thu Sep 22 14:28:18 2016', ' 20160922_CO-8-uptake_0000_0880.tiff     |     Thu Sep 22 14:28:18 2016', ' 20160922_CO-8-uptake_0000_0881.tiff     |     Thu Sep 22 14:28:18 2016', ' 20160922_CO-8-uptake_0000_0882.tiff     |     Thu Sep 22 14:28:18 2016', ' 20160922_CO-8-uptake_0000_0883.tiff     |     Thu Sep 22 14:28:18 2016', ' 20160922_CO-8-uptake_0000_0884.tiff     |     Thu Sep 22 14:28:18 2016', ' 20160922_CO-8-uptake_0000_0885.tiff     |     Thu Sep 22 14:28:18 2016', ' 20160922_CO-8-uptake_0000_0886.tiff     |     Thu Sep 22 14:28:18 2016', ' 20160922_CO-8-uptake_0000_0887.tiff     |     Thu Sep 22 14:28:18 2016', ' 20160922_CO-8-uptake_0000_0888.tiff     |     Thu Sep 22 14:28:18 2016', ' 20160922_CO-8-uptake_0000_0889.tiff     |     Thu Sep 22 14:28:18 2016', ' 20160922_CO-8-uptake_0000_0890.tiff     |     Thu Sep 22 14:28:18 2016', ' 20160922_CO-8-uptake_0000_0891.tiff     |     Thu Sep 22 14:28:18 2016', ' 20160922_CO-8-uptake_0000_0892.tiff     |     Thu Sep 22 14:28:18 2016', ' 20160922_CO-8-uptake_0000_0893.tiff     |     Thu Sep 22 14:28:18 2016', ' 20160922_CO-8-uptake_0000_0894.tiff     |     Thu Sep 22 14:28:18 2016', ' 20160922_CO-8-uptake_0000_0895.tiff     |     Thu Sep 22 14:28:18 2016', ' 20160922_CO-8-uptake_0000_0896.tiff     |     Thu Sep 22 14:28:18 2016', ' 20160922_CO-8-uptake_0000_0897.tiff     |     Thu Sep 22 14:28:18 2016', ' 20160922_CO-8-uptake_0000_0898.tiff     |     Thu Sep 22 14:28:18 2016', ' 20160922_CO-8-uptake_0000_0899.tiff     |     Thu Sep 22 14:28:18 2016', ' 20160922_CO-8-uptake_0000_0900.tiff     |     Thu Sep 22 14:28:18 2016', ' 20160922_CO-8-uptake_0000_0901.tiff     |     Thu Sep 22 14:28:18 2016', ' 20160922_CO-8-uptake_0000_0902.tiff     |     Thu Sep 22 14:28:18 2016', ' 20160922_CO-8-uptake_0000_0903.tiff     |     Thu Sep 22 14:28:19 2016', ' 20160922_CO-8-uptake_0000_0904.tiff     |     Thu Sep 22 14:28:19 2016', ' 20160922_CO-8-uptake_0000_0905.tiff     |     Thu Sep 22 14:28:19 2016', ' 20160922_CO-8-uptake_0000_0906.tiff     |     Thu Sep 22 14:28:19 2016', ' 20160922_CO-8-uptake_0000_0907.tiff     |     Thu Sep 22 14:28:19 2016', ' 20160922_CO-8-uptake_0000_0908.tiff     |     Thu Sep 22 14:28:19 2016', ' 20160922_CO-8-uptake_0000_0909.tiff     |     Thu Sep 22 14:28:19 2016', ' 20160922_CO-8-uptake_0000_0910.tiff     |     Thu Sep 22 14:28:19 2016', ' 20160922_CO-8-uptake_0000_0911.tiff     |     Thu Sep 22 14:28:19 2016', ' 20160922_CO-8-uptake_0000_0912.tiff     |     Thu Sep 22 14:28:19 2016', ' 20160922_CO-8-uptake_0000_0913.tiff     |     Thu Sep 22 14:28:19 2016', ' 20160922_CO-8-uptake_0000_0914.tiff     |     Thu Sep 22 14:28:19 2016', ' 20160922_CO-8-uptake_0000_0915.tiff     |     Thu Sep 22 14:28:19 2016', ' 20160922_CO-8-uptake_0000_0916.tiff     |     Thu Sep 22 14:28:19 2016', ' 20160922_CO-8-uptake_0000_0917.tiff     |     Thu Sep 22 14:28:19 2016', ' 20160922_CO-8-uptake_0000_0918.tiff     |     Thu Sep 22 14:28:19 2016', ' 20160922_CO-8-uptake_0000_0919.tiff     |     Thu Sep 22 14:28:19 2016', ' 20160922_CO-8-uptake_0000_0920.tiff     |     Thu Sep 22 14:28:19 2016', ' 20160922_CO-8-uptake_0000_0921.tiff     |     Thu Sep 22 14:28:19 2016', ' 20160922_CO-8-uptake_0000_0922.tiff     |     Thu Sep 22 14:28:19 2016', ' 20160922_CO-8-uptake_0000_0923.tiff     |     Thu Sep 22 14:28:19 2016', ' 20160922_CO-8-uptake_0000_0924.tiff     |     Thu Sep 22 14:28:19 2016', ' 20160922_CO-8-uptake_0000_0925.tiff     |     Thu Sep 22 14:28:19 2016', ' 20160922_CO-8-uptake_0000_0926.tiff     |     Thu Sep 22 14:28:19 2016', ' 20160922_CO-8-uptake_0000_0927.tiff     |     Thu Sep 22 14:28:19 2016', ' 20160922_CO-8-uptake_0000_0928.tiff     |     Thu Sep 22 14:28:20 2016', ' 20160922_CO-8-uptake_0000_0929.tiff     |     Thu Sep 22 14:28:20 2016', ' 20160922_CO-8-uptake_0000_0930.tiff     |     Thu Sep 22 14:28:20 2016', ' 20160922_CO-8-uptake_0000_0931.tiff     |     Thu Sep 22 14:28:20 2016', ' 20160922_CO-8-uptake_0000_0932.tiff     |     Thu Sep 22 14:28:20 2016', ' 20160922_CO-8-uptake_0000_0933.tiff     |     Thu Sep 22 14:28:20 2016', ' 20160922_CO-8-uptake_0000_0934.tiff     |     Thu Sep 22 14:28:20 2016', ' 20160922_CO-8-uptake_0000_0935.tiff     |     Thu Sep 22 14:28:20 2016', ' 20160922_CO-8-uptake_0000_0936.tiff     |     Thu Sep 22 14:28:20 2016', ' 20160922_CO-8-uptake_0000_0937.tiff     |     Thu Sep 22 14:28:20 2016', ' 20160922_CO-8-uptake_0000_0938.tiff     |     Thu Sep 22 14:28:20 2016', ' 20160922_CO-8-uptake_0000_0939.tiff     |     Thu Sep 22 14:28:20 2016', ' 20160922_CO-8-uptake_0000_0940.tiff     |     Thu Sep 22 14:28:20 2016', ' 20160922_CO-8-uptake_0000_0941.tiff     |     Thu Sep 22 14:28:20 2016', ' 20160922_CO-8-uptake_0000_0942.tiff     |     Thu Sep 22 14:28:20 2016', ' 20160922_CO-8-uptake_0000_0943.tiff     |     Thu Sep 22 14:28:20 2016', ' 20160922_CO-8-uptake_0000_0944.tiff     |     Thu Sep 22 14:28:20 2016', ' 20160922_CO-8-uptake_0000_0945.tiff     |     Thu Sep 22 14:28:20 2016', ' 20160922_CO-8-uptake_0000_0946.tiff     |     Thu Sep 22 14:28:20 2016', ' 20160922_CO-8-uptake_0000_0947.tiff     |     Thu Sep 22 14:28:20 2016', ' 20160922_CO-8-uptake_0000_0948.tiff     |     Thu Sep 22 14:28:20 2016', ' 20160922_CO-8-uptake_0000_0949.tiff     |     Thu Sep 22 14:28:20 2016', ' 20160922_CO-8-uptake_0000_0950.tiff     |     Thu Sep 22 14:28:20 2016', ' 20160922_CO-8-uptake_0000_0951.tiff     |     Thu Sep 22 14:28:20 2016', ' 20160922_CO-8-uptake_0000_0952.tiff     |     Thu Sep 22 14:28:20 2016', ' 20160922_CO-8-uptake_0000_0953.tiff     |     Thu Sep 22 14:28:20 2016', ' 20160922_CO-8-uptake_0000_0954.tiff     |     Thu Sep 22 14:28:20 2016', ' 20160922_CO-8-uptake_0000_0955.tiff     |     Thu Sep 22 14:28:20 2016', ' 20160922_CO-8-uptake_0000_0956.tiff     |     Thu Sep 22 14:28:20 2016', ' 20160922_CO-8-uptake_0000_0957.tiff     |     Thu Sep 22 14:28:20 2016', ' 20160922_CO-8-uptake_0000_0958.tiff     |     Thu Sep 22 14:28:20 2016', ' 20160922_CO-8-uptake_0000_0959.tiff     |     Thu Sep 22 14:28:20 2016', ' 20160922_CO-8-uptake_0000_0960.tiff     |     Thu Sep 22 14:28:20 2016', ' 20160922_CO-8-uptake_0000_0961.tiff     |     Thu Sep 22 14:28:20 2016', ' 20160922_CO-8-uptake_0000_0962.tiff     |     Thu Sep 22 14:28:20 2016', ' 20160922_CO-8-uptake_0000_0963.tiff     |     Thu Sep 22 14:28:20 2016', ' 20160922_CO-8-uptake_0000_0964.tiff     |     Thu Sep 22 14:28:21 2016', ' 20160922_CO-8-uptake_0000_0965.tiff     |     Thu Sep 22 14:28:21 2016', ' 20160922_CO-8-uptake_0000_0966.tiff     |     Thu Sep 22 14:28:21 2016', ' 20160922_CO-8-uptake_0000_0967.tiff     |     Thu Sep 22 14:28:21 2016', ' 20160922_CO-8-uptake_0000_0968.tiff     |     Thu Sep 22 14:28:21 2016', ' 20160922_CO-8-uptake_0000_0969.tiff     |     Thu Sep 22 14:28:21 2016', ' 20160922_CO-8-uptake_0000_0970.tiff     |     Thu Sep 22 14:28:21 2016', ' 20160922_CO-8-uptake_0000_0971.tiff     |     Thu Sep 22 14:28:21 2016', ' 20160922_CO-8-uptake_0000_0972.tiff     |     Thu Sep 22 14:28:21 2016', ' 20160922_CO-8-uptake_0000_0973.tiff     |     Thu Sep 22 14:28:21 2016', ' 20160922_CO-8-uptake_0000_0974.tiff     |     Thu Sep 22 14:28:21 2016', ' 20160922_CO-8-uptake_0000_0975.tiff     |     Thu Sep 22 14:28:21 2016', ' 20160922_CO-8-uptake_0000_0976.tiff     |     Thu Sep 22 14:28:21 2016', ' 20160922_CO-8-uptake_0000_0977.tiff     |     Thu Sep 22 14:28:21 2016', ' 20160922_CO-8-uptake_0000_0978.tiff     |     Thu Sep 22 14:28:21 2016', ' 20160922_CO-8-uptake_0000_0979.tiff     |     Thu Sep 22 14:28:21 2016', ' 20160922_CO-8-uptake_0000_0980.tiff     |     Thu Sep 22 14:28:21 2016', ' 20160922_CO-8-uptake_0000_0981.tiff     |     Thu Sep 22 14:28:21 2016', ' 20160922_CO-8-uptake_0000_0982.tiff     |     Thu Sep 22 14:28:21 2016', ' 20160922_CO-8-uptake_0000_0983.tiff     |     Thu Sep 22 14:28:21 2016', ' 20160922_CO-8-uptake_0000_0984.tiff     |     Thu Sep 22 14:28:21 2016', ' 20160922_CO-8-uptake_0000_0985.tiff     |     Thu Sep 22 14:28:21 2016', ' 20160922_CO-8-uptake_0000_0986.tiff     |     Thu Sep 22 14:28:21 2016', ' 20160922_CO-8-uptake_0000_0987.tiff     |     Thu Sep 22 14:28:21 2016', ' 20160922_CO-8-uptake_0000_0988.tiff     |     Thu Sep 22 14:28:21 2016', ' 20160922_CO-8-uptake_0000_0989.tiff     |     Thu Sep 22 14:28:21 2016', ' 20160922_CO-8-uptake_0000_0990.tiff     |     Thu Sep 22 14:28:21 2016', ' 20160922_CO-8-uptake_0000_0991.tiff     |     Thu Sep 22 14:28:21 2016', ' 20160922_CO-8-uptake_0000_0992.tiff     |     Thu Sep 22 14:28:21 2016', ' 20160922_CO-8-uptake_0000_0993.tiff     |     Thu Sep 22 14:28:21 2016', ' 20160922_CO-8-uptake_0000_0994.tiff     |     Thu Sep 22 14:28:22 2016', ' 20160922_CO-8-uptake_0000_0995.tiff     |     Thu Sep 22 14:28:22 2016', ' 20160922_CO-8-uptake_0000_0996.tiff     |     Thu Sep 22 14:28:22 2016', ' 20160922_CO-8-uptake_0000_0997.tiff     |     Thu Sep 22 14:28:22 2016', ' 20160922_CO-8-uptake_0000_0998.tiff     |     Thu Sep 22 14:28:22 2016', ' 20160922_CO-8-uptake_0000_0999.tiff     |     Thu Sep 22 14:28:22 2016', ' 20160922_CO-8-uptake_0000_1000.tiff     |     Thu Sep 22 14:28:22 2016', ' 20160922_CO-8-uptake_0000_1001.tiff     |     Thu Sep 22 14:28:22 2016', ' 20160922_CO-8-uptake_0000_1002.tiff     |     Thu Sep 22 14:28:22 2016', ' 20160922_CO-8-uptake_0000_1003.tiff     |     Thu Sep 22 14:28:22 2016', ' 20160922_CO-8-uptake_0000_1004.tiff     |     Thu Sep 22 14:28:22 2016', ' 20160922_CO-8-uptake_0000_1005.tiff     |     Thu Sep 22 14:28:22 2016', ' 20160922_CO-8-uptake_0000_1006.tiff     |     Thu Sep 22 14:28:22 2016', ' 20160922_CO-8-uptake_0000_1007.tiff     |     Thu Sep 22 14:28:22 2016', ' 20160922_CO-8-uptake_0000_1008.tiff     |     Thu Sep 22 14:28:22 2016', ' 20160922_CO-8-uptake_0000_1009.tiff     |     Thu Sep 22 14:28:22 2016', ' 20160922_CO-8-uptake_0000_1010.tiff     |     Thu Sep 22 14:28:22 2016', ' 20160922_CO-8-uptake_0001_0001.tiff     |     Thu Sep 22 13:34:25 2016', ' 20160922_CO-8-uptake_0001_0002.tiff     |     Thu Sep 22 14:18:57 2016', ' 20160922_CO-8-uptake_0001_0003.tiff     |     Thu Sep 22 14:19:44 2016', ' 20160922_CO-8-uptake_0001_0004.tiff     |     Thu Sep 22 14:21:34 2016', ' 20160922_CO-8-uptake_0001_0005.tiff     |     Thu Sep 22 14:23:04 2016', ' 20160922_CO-8-uptake_0001_0006.tiff     |     Thu Sep 22 14:23:56 2016', ' 20160922_CO-8-uptake_0001_0007.tiff     |     Thu Sep 22 14:24:37 2016', ' 20160922_CO-8-uptake_0001_0008.tiff     |     Thu Sep 22 14:24:57 2016', ' 20160922_CO-8-uptake_0001_0009.tiff     |     Thu Sep 22 14:25:16 2016', ' 20160922_CO-8-uptake_0001_0010.tiff     |     Thu Sep 22 14:25:39 2016'), value=()), HBox(children=(Button(description='Enter directory', layout=Layout(margin='5px 40px'), style=ButtonStyle()), Button(description='Select', layout=Layout(margin='5px 40px'), style=ButtonStyle())))), layout=Layout(border='1px solid lightgrey', margin='5px', padding='10px'))))"
      ]
     },
     "metadata": {},
     "output_type": "display_data"
    },
    {
     "data": {
      "application/vnd.jupyter.widget-view+json": {
       "model_id": "7381b9ba76ee49ee8b0bd61cdb1e859d",
       "version_major": 2,
       "version_minor": 0
      },
      "text/html": [
       "<p>Failed to display Jupyter Widget of type <code>HTML</code>.</p>\n",
       "<p>\n",
       "  If you're reading this message in Jupyter Notebook or JupyterLab, it may mean\n",
       "  that the widgets JavaScript is still loading. If this message persists, it\n",
       "  likely means that the widgets JavaScript library is either not installed or\n",
       "  not enabled. See the <a href=\"https://ipywidgets.readthedocs.io/en/stable/user_install.html\">Jupyter\n",
       "  Widgets Documentation</a> for setup instructions.\n",
       "</p>\n",
       "<p>\n",
       "  If you're reading this message in another notebook frontend (for example, a static\n",
       "  rendering on GitHub or <a href=\"https://nbviewer.jupyter.org/\">NBViewer</a>),\n",
       "  it may mean that your frontend doesn't currently support widgets.\n",
       "</p>\n"
      ],
      "text/plain": [
       "HTML(value='Please wait...')"
      ]
     },
     "metadata": {},
     "output_type": "display_data"
    },
    {
     "data": {
      "application/vnd.jupyter.widget-view+json": {
       "model_id": "0caeae4d6d6441ab836be0104ac4e958",
       "version_major": 2,
       "version_minor": 0
      },
      "text/html": [
       "<p>Failed to display Jupyter Widget of type <code>VBox</code>.</p>\n",
       "<p>\n",
       "  If you're reading this message in Jupyter Notebook or JupyterLab, it may mean\n",
       "  that the widgets JavaScript is still loading. If this message persists, it\n",
       "  likely means that the widgets JavaScript library is either not installed or\n",
       "  not enabled. See the <a href=\"https://ipywidgets.readthedocs.io/en/stable/user_install.html\">Jupyter\n",
       "  Widgets Documentation</a> for setup instructions.\n",
       "</p>\n",
       "<p>\n",
       "  If you're reading this message in another notebook frontend (for example, a static\n",
       "  rendering on GitHub or <a href=\"https://nbviewer.jupyter.org/\">NBViewer</a>),\n",
       "  it may mean that your frontend doesn't currently support widgets.\n",
       "</p>\n"
      ],
      "text/plain": [
       "VBox(children=(HBox(children=(Label(value='Instructions:', layout=Layout(width='20%')), Label(value='Select list of Dark Field files (optional) ', layout=Layout(width='50%')))), HBox(children=(Label(value='Sample selected:', layout=Layout(width='20%')), Label(value='0 files selected', layout=Layout(width='50%'))))), layout=Layout(border='1px lightgray solid', margin='5px', padding='15px'))"
      ]
     },
     "metadata": {},
     "output_type": "display_data"
    },
    {
     "data": {
      "application/vnd.jupyter.widget-view+json": {
       "model_id": "5547302a72924db9bc53632096d916d1",
       "version_major": 2,
       "version_minor": 0
      },
      "text/html": [
       "<p>Failed to display Jupyter Widget of type <code>HBox</code>.</p>\n",
       "<p>\n",
       "  If you're reading this message in Jupyter Notebook or JupyterLab, it may mean\n",
       "  that the widgets JavaScript is still loading. If this message persists, it\n",
       "  likely means that the widgets JavaScript library is either not installed or\n",
       "  not enabled. See the <a href=\"https://ipywidgets.readthedocs.io/en/stable/user_install.html\">Jupyter\n",
       "  Widgets Documentation</a> for setup instructions.\n",
       "</p>\n",
       "<p>\n",
       "  If you're reading this message in another notebook frontend (for example, a static\n",
       "  rendering on GitHub or <a href=\"https://nbviewer.jupyter.org/\">NBViewer</a>),\n",
       "  it may mean that your frontend doesn't currently support widgets.\n",
       "</p>\n"
      ],
      "text/plain": [
       "HBox(children=(Button(button_style='success', description='<< Previous Step', layout=Layout(width='20%'), style=ButtonStyle(), tooltip='Click to move to previous step'), Label(value='         ', layout=Layout(width='70%')), Button(button_style='success', description='Next Step>>', layout=Layout(width='20%'), style=ButtonStyle(), tooltip='Click to move to next step')))"
      ]
     },
     "metadata": {},
     "output_type": "display_data"
    },
    {
     "data": {
      "text/html": [
       "\n",
       "        <style type=\"text/css\">\n",
       "        .jupyter-widgets select option {font-family: \"Lucida Console\", Monaco, monospace;}\n",
       "        div.output_subarea {padding: 0px;}\n",
       "        div.output_subarea > div {margin: 0.4em;}\n",
       "        </style>\n",
       "        "
      ],
      "text/plain": [
       "<IPython.core.display.HTML object>"
      ]
     },
     "metadata": {},
     "output_type": "display_data"
    },
    {
     "data": {
      "application/vnd.jupyter.widget-view+json": {
       "model_id": "4d62a3fe75ac466dafa284d2387bdfa3",
       "version_major": 2,
       "version_minor": 0
      },
      "text/html": [
       "<p>Failed to display Jupyter Widget of type <code>VBox</code>.</p>\n",
       "<p>\n",
       "  If you're reading this message in Jupyter Notebook or JupyterLab, it may mean\n",
       "  that the widgets JavaScript is still loading. If this message persists, it\n",
       "  likely means that the widgets JavaScript library is either not installed or\n",
       "  not enabled. See the <a href=\"https://ipywidgets.readthedocs.io/en/stable/user_install.html\">Jupyter\n",
       "  Widgets Documentation</a> for setup instructions.\n",
       "</p>\n",
       "<p>\n",
       "  If you're reading this message in another notebook frontend (for example, a static\n",
       "  rendering on GitHub or <a href=\"https://nbviewer.jupyter.org/\">NBViewer</a>),\n",
       "  it may mean that your frontend doesn't currently support widgets.\n",
       "</p>\n"
      ],
      "text/plain": [
       "VBox(children=(Label(value='', layout=Layout(width='250px')), HBox(children=(HBox(children=(Text(value='/Volumes/my_book_thunderbolt_duo/IPTS/IPTS_16259', description='Location: ', layout=Layout(width='300px'), placeholder=''), Button(description='Jump', layout=Layout(margin='5px 10px', width='100px'), style=ButtonStyle())), layout=Layout(border='1px solid lightgrey', margin='5px 50px 5px 5px', padding='3px')),)), VBox(children=(SelectMultiple(description='Select', layout=Layout(display='flex', flex_flow='column', width='750px'), options=(' .', ' ..', ' .DS_Store                                         |     Wed Dec 13 10:18:15 2017', ' Day_4_CO-8_Uptake                                 |     Directory', ' Day_4_CO-8_Uptake_profiles                        |     Directory', ' Day_4_CO-8_Uptake_profiles.txt                    |     Fri Dec  8 12:58:35 2017', ' Day_4_CO-8_Uptake_profiles_DEBUGGING              |     Directory', ' Day_4_CO-8_Uptake_timestamp_infos.txt             |     Wed Jan 10 15:30:58 2018', ' from_analysis_computer                            |     Directory', ' ideal_water_intake_images                         |     Directory', ' ideal_water_intake_images_profiles                |     Directory', ' ideal_water_intake_images_profiles.txt            |     Wed Dec 13 10:23:47 2017', ' ideal_water_intake_images_timestamp_infos.txt     |     Wed Dec 13 10:21:31 2017'), value=()), HBox(children=(Button(description='Enter directory', layout=Layout(margin='5px 40px'), style=ButtonStyle()), Button(description='Select', layout=Layout(margin='5px 40px'), style=ButtonStyle())))), layout=Layout(border='1px solid lightgrey', margin='5px', padding='10px'))))"
      ]
     },
     "metadata": {},
     "output_type": "display_data"
    },
    {
     "data": {
      "application/vnd.jupyter.widget-view+json": {
       "model_id": "f21b9fbcb04a4884ae72772753395728",
       "version_major": 2,
       "version_minor": 0
      },
      "text/html": [
       "<p>Failed to display Jupyter Widget of type <code>HBox</code>.</p>\n",
       "<p>\n",
       "  If you're reading this message in Jupyter Notebook or JupyterLab, it may mean\n",
       "  that the widgets JavaScript is still loading. If this message persists, it\n",
       "  likely means that the widgets JavaScript library is either not installed or\n",
       "  not enabled. See the <a href=\"https://ipywidgets.readthedocs.io/en/stable/user_install.html\">Jupyter\n",
       "  Widgets Documentation</a> for setup instructions.\n",
       "</p>\n",
       "<p>\n",
       "  If you're reading this message in another notebook frontend (for example, a static\n",
       "  rendering on GitHub or <a href=\"https://nbviewer.jupyter.org/\">NBViewer</a>),\n",
       "  it may mean that your frontend doesn't currently support widgets.\n",
       "</p>\n"
      ],
      "text/plain": [
       "HBox(children=(Label(value='Loading sample', layout=Layout(width='20%')), IntProgress(value=0, max=5)))"
      ]
     },
     "metadata": {},
     "output_type": "display_data"
    }
   ],
   "source": [
    "files = Files()\n",
    "sample_panel = SampleSelectionPanel(working_dir=system.System.get_working_dir())\n",
    "sample_panel.init_ui(files=files)\n",
    "wizard = WizardPanel(sample_panel=sample_panel)"
   ]
  },
  {
   "cell_type": "markdown",
   "metadata": {
    "run_control": {
     "frozen": false,
     "read_only": false
    }
   },
   "source": [
    "# Preview Data"
   ]
  },
  {
   "cell_type": "markdown",
   "metadata": {
    "run_control": {
     "frozen": false,
     "read_only": false
    }
   },
   "source": [
    "## sample"
   ]
  },
  {
   "cell_type": "code",
   "execution_count": 5,
   "metadata": {
    "run_control": {
     "frozen": false,
     "read_only": false
    }
   },
   "outputs": [
    {
     "data": {
      "application/vnd.jupyter.widget-view+json": {
       "model_id": "01bf5bac5f5e48a0bca60b794d1e7b70",
       "version_major": 2,
       "version_minor": 0
      },
      "text/html": [
       "<p>Failed to display Jupyter Widget of type <code>interactive</code>.</p>\n",
       "<p>\n",
       "  If you're reading this message in Jupyter Notebook or JupyterLab, it may mean\n",
       "  that the widgets JavaScript is still loading. If this message persists, it\n",
       "  likely means that the widgets JavaScript library is either not installed or\n",
       "  not enabled. See the <a href=\"https://ipywidgets.readthedocs.io/en/stable/user_install.html\">Jupyter\n",
       "  Widgets Documentation</a> for setup instructions.\n",
       "</p>\n",
       "<p>\n",
       "  If you're reading this message in another notebook frontend (for example, a static\n",
       "  rendering on GitHub or <a href=\"https://nbviewer.jupyter.org/\">NBViewer</a>),\n",
       "  it may mean that your frontend doesn't currently support widgets.\n",
       "</p>\n"
      ],
      "text/plain": [
       "interactive(children=(IntSlider(value=0, continuous_update=False, description='sample Index', max=0), Output()), _dom_classes=('widget-interact',))"
      ]
     },
     "metadata": {},
     "output_type": "display_data"
    }
   ],
   "source": [
    "o_norm = sample_panel.o_norm\n",
    "o_norm.plot_images(data_type='sample')"
   ]
  },
  {
   "cell_type": "markdown",
   "metadata": {
    "run_control": {
     "frozen": false,
     "read_only": false
    }
   },
   "source": [
    "## ob"
   ]
  },
  {
   "cell_type": "code",
   "execution_count": 6,
   "metadata": {
    "run_control": {
     "frozen": false,
     "read_only": false
    }
   },
   "outputs": [
    {
     "data": {
      "application/vnd.jupyter.widget-view+json": {
       "model_id": "f803680ab1674f25961167e83f0bbf48",
       "version_major": 2,
       "version_minor": 0
      },
      "text/html": [
       "<p>Failed to display Jupyter Widget of type <code>interactive</code>.</p>\n",
       "<p>\n",
       "  If you're reading this message in Jupyter Notebook or JupyterLab, it may mean\n",
       "  that the widgets JavaScript is still loading. If this message persists, it\n",
       "  likely means that the widgets JavaScript library is either not installed or\n",
       "  not enabled. See the <a href=\"https://ipywidgets.readthedocs.io/en/stable/user_install.html\">Jupyter\n",
       "  Widgets Documentation</a> for setup instructions.\n",
       "</p>\n",
       "<p>\n",
       "  If you're reading this message in another notebook frontend (for example, a static\n",
       "  rendering on GitHub or <a href=\"https://nbviewer.jupyter.org/\">NBViewer</a>),\n",
       "  it may mean that your frontend doesn't currently support widgets.\n",
       "</p>\n"
      ],
      "text/plain": [
       "interactive(children=(IntSlider(value=0, continuous_update=False, description='ob Index', max=1), Output()), _dom_classes=('widget-interact',))"
      ]
     },
     "metadata": {},
     "output_type": "display_data"
    }
   ],
   "source": [
    "o_norm.plot_images(data_type='ob')"
   ]
  },
  {
   "cell_type": "markdown",
   "metadata": {
    "run_control": {
     "frozen": false,
     "read_only": false
    }
   },
   "source": [
    "# Select Background Region "
   ]
  },
  {
   "cell_type": "code",
   "execution_count": 7,
   "metadata": {
    "run_control": {
     "frozen": false,
     "read_only": false
    }
   },
   "outputs": [
    {
     "data": {
      "text/html": [
       "<span style=\"font-size: 20px; color:blue\">Check UI that poped up             (maybe hidden behind this browser!)</span>"
      ],
      "text/plain": [
       "<IPython.core.display.HTML object>"
      ]
     },
     "metadata": {},
     "output_type": "display_data"
    }
   ],
   "source": [
    "o_gui = Interface(o_norm=o_norm.o_norm)\n",
    "o_gui.show()"
   ]
  },
  {
   "cell_type": "markdown",
   "metadata": {
    "run_control": {
     "frozen": false,
     "read_only": false
    }
   },
   "source": [
    "# Recap. "
   ]
  },
  {
   "cell_type": "code",
   "execution_count": 8,
   "metadata": {
    "run_control": {
     "frozen": false,
     "read_only": false
    }
   },
   "outputs": [
    {
     "data": {
      "text/html": [
       "<table><tr><td width=\"30%\"><strong>Type</strong></td><td><strong>Number</strong></td><td><strong>Size (height*width)</strong></td></tr><tr><td>sample</td><td>1</td><td>2160*2350</td></tr><tr><td>ob</td><td>2</td><td>2160*2350</td></tr><tr><td>df</td><td>0</td><td>N/A*N/A</td></tr></table>"
      ],
      "text/plain": [
       "<IPython.core.display.HTML object>"
      ]
     },
     "metadata": {},
     "output_type": "display_data"
    }
   ],
   "source": [
    "o_gui.recap()"
   ]
  },
  {
   "cell_type": "markdown",
   "metadata": {
    "run_control": {
     "frozen": false,
     "read_only": false
    }
   },
   "source": [
    "# Normalization"
   ]
  },
  {
   "cell_type": "code",
   "execution_count": 9,
   "metadata": {
    "run_control": {
     "frozen": false,
     "read_only": false
    }
   },
   "outputs": [
    {
     "data": {
      "application/vnd.jupyter.widget-view+json": {
       "model_id": "57139ba1075142439e5605ce0beecfa0",
       "version_major": 2,
       "version_minor": 0
      },
      "text/html": [
       "<p>Failed to display Jupyter Widget of type <code>HBox</code>.</p>\n",
       "<p>\n",
       "  If you're reading this message in Jupyter Notebook or JupyterLab, it may mean\n",
       "  that the widgets JavaScript is still loading. If this message persists, it\n",
       "  likely means that the widgets JavaScript library is either not installed or\n",
       "  not enabled. See the <a href=\"https://ipywidgets.readthedocs.io/en/stable/user_install.html\">Jupyter\n",
       "  Widgets Documentation</a> for setup instructions.\n",
       "</p>\n",
       "<p>\n",
       "  If you're reading this message in another notebook frontend (for example, a static\n",
       "  rendering on GitHub or <a href=\"https://nbviewer.jupyter.org/\">NBViewer</a>),\n",
       "  it may mean that your frontend doesn't currently support widgets.\n",
       "</p>\n"
      ],
      "text/plain": [
       "HBox(children=(Label(value='Normalization', layout=Layout(width='20%')), IntProgress(value=0, max=1)))"
      ]
     },
     "metadata": {},
     "output_type": "display_data"
    }
   ],
   "source": [
    "o_norm.run_normalization(dict_roi=o_gui.roi_selected)"
   ]
  },
  {
   "cell_type": "markdown",
   "metadata": {
    "run_control": {
     "frozen": false,
     "read_only": false
    }
   },
   "source": [
    "# Export "
   ]
  },
  {
   "cell_type": "code",
   "execution_count": 40,
   "metadata": {
    "run_control": {
     "frozen": false,
     "read_only": false
    }
   },
   "outputs": [
    {
     "data": {
      "application/vnd.jupyter.widget-view+json": {
       "model_id": "73b2131997ac41e2954d214c93fb6932",
       "version_major": 2,
       "version_minor": 0
      },
      "text/html": [
       "<p>Failed to display Jupyter Widget of type <code>HTML</code>.</p>\n",
       "<p>\n",
       "  If you're reading this message in Jupyter Notebook or JupyterLab, it may mean\n",
       "  that the widgets JavaScript is still loading. If this message persists, it\n",
       "  likely means that the widgets JavaScript library is either not installed or\n",
       "  not enabled. See the <a href=\"https://ipywidgets.readthedocs.io/en/stable/user_install.html\">Jupyter\n",
       "  Widgets Documentation</a> for setup instructions.\n",
       "</p>\n",
       "<p>\n",
       "  If you're reading this message in another notebook frontend (for example, a static\n",
       "  rendering on GitHub or <a href=\"https://nbviewer.jupyter.org/\">NBViewer</a>),\n",
       "  it may mean that your frontend doesn't currently support widgets.\n",
       "</p>\n"
      ],
      "text/plain": [
       "HTML(value='Please wait...')"
      ]
     },
     "metadata": {},
     "output_type": "display_data"
    },
    {
     "data": {
      "text/html": [
       "\n",
       "        <style type=\"text/css\">\n",
       "        .jupyter-widgets select option {font-family: \"Lucida Console\", Monaco, monospace;}\n",
       "        div.output_subarea {padding: 0px;}\n",
       "        div.output_subarea > div {margin: 0.4em;}\n",
       "        </style>\n",
       "        "
      ],
      "text/plain": [
       "<IPython.core.display.HTML object>"
      ]
     },
     "metadata": {},
     "output_type": "display_data"
    },
    {
     "data": {
      "application/vnd.jupyter.widget-view+json": {
       "model_id": "da63658eb1b2457fb459de7c3970af78",
       "version_major": 2,
       "version_minor": 0
      },
      "text/html": [
       "<p>Failed to display Jupyter Widget of type <code>VBox</code>.</p>\n",
       "<p>\n",
       "  If you're reading this message in Jupyter Notebook or JupyterLab, it may mean\n",
       "  that the widgets JavaScript is still loading. If this message persists, it\n",
       "  likely means that the widgets JavaScript library is either not installed or\n",
       "  not enabled. See the <a href=\"https://ipywidgets.readthedocs.io/en/stable/user_install.html\">Jupyter\n",
       "  Widgets Documentation</a> for setup instructions.\n",
       "</p>\n",
       "<p>\n",
       "  If you're reading this message in another notebook frontend (for example, a static\n",
       "  rendering on GitHub or <a href=\"https://nbviewer.jupyter.org/\">NBViewer</a>),\n",
       "  it may mean that your frontend doesn't currently support widgets.\n",
       "</p>\n"
      ],
      "text/plain": [
       "VBox(children=(Label(value='Select Output Folder', layout=Layout(width='250px')), HBox(children=(HBox(children=(Text(value='/Volumes/my_book_thunderbolt_duo/IPTS/IPTS_19621', description='Location: ', layout=Layout(width='300px'), placeholder=''), Button(description='Jump', layout=Layout(margin='5px 10px', width='100px'), style=ButtonStyle())), layout=Layout(border='1px solid lightgrey', margin='5px 50px 5px 5px', padding='3px')),)), VBox(children=(Select(description='Select', layout=Layout(width='750px'), options=(' .', ' ..', ' .DS_Store     |     Thu Dec 14 13:58:29 2017', ' CT            |     Directory', ' DF            |     Directory', ' OB            |     Directory'), value=' .'), HBox(children=(Button(description='Enter directory', layout=Layout(margin='5px 40px'), style=ButtonStyle()), Button(description='Select', layout=Layout(margin='5px 40px'), style=ButtonStyle())))), layout=Layout(border='1px solid lightgrey', margin='5px', padding='10px'))))"
      ]
     },
     "metadata": {},
     "output_type": "display_data"
    },
    {
     "data": {
      "application/vnd.jupyter.widget-view+json": {
       "model_id": "4219868b99c44a9eb8be183ee52c244a",
       "version_major": 2,
       "version_minor": 0
      },
      "text/html": [
       "<p>Failed to display Jupyter Widget of type <code>HTML</code>.</p>\n",
       "<p>\n",
       "  If you're reading this message in Jupyter Notebook or JupyterLab, it may mean\n",
       "  that the widgets JavaScript is still loading. If this message persists, it\n",
       "  likely means that the widgets JavaScript library is either not installed or\n",
       "  not enabled. See the <a href=\"https://ipywidgets.readthedocs.io/en/stable/user_install.html\">Jupyter\n",
       "  Widgets Documentation</a> for setup instructions.\n",
       "</p>\n",
       "<p>\n",
       "  If you're reading this message in another notebook frontend (for example, a static\n",
       "  rendering on GitHub or <a href=\"https://nbviewer.jupyter.org/\">NBViewer</a>),\n",
       "  it may mean that your frontend doesn't currently support widgets.\n",
       "</p>\n"
      ],
      "text/plain": [
       "HTML(value='Please wait...')"
      ]
     },
     "metadata": {},
     "output_type": "display_data"
    },
    {
     "data": {
      "text/html": [
       "\n",
       "        <style type=\"text/css\">\n",
       "        .jupyter-widgets select option {font-family: \"Lucida Console\", Monaco, monospace;}\n",
       "        div.output_subarea {padding: 0px;}\n",
       "        div.output_subarea > div {margin: 0.4em;}\n",
       "        </style>\n",
       "        "
      ],
      "text/plain": [
       "<IPython.core.display.HTML object>"
      ]
     },
     "metadata": {},
     "output_type": "display_data"
    },
    {
     "data": {
      "application/vnd.jupyter.widget-view+json": {
       "model_id": "7484bdac55744b0ba3674b3717248664",
       "version_major": 2,
       "version_minor": 0
      },
      "text/html": [
       "<p>Failed to display Jupyter Widget of type <code>VBox</code>.</p>\n",
       "<p>\n",
       "  If you're reading this message in Jupyter Notebook or JupyterLab, it may mean\n",
       "  that the widgets JavaScript is still loading. If this message persists, it\n",
       "  likely means that the widgets JavaScript library is either not installed or\n",
       "  not enabled. See the <a href=\"https://ipywidgets.readthedocs.io/en/stable/user_install.html\">Jupyter\n",
       "  Widgets Documentation</a> for setup instructions.\n",
       "</p>\n",
       "<p>\n",
       "  If you're reading this message in another notebook frontend (for example, a static\n",
       "  rendering on GitHub or <a href=\"https://nbviewer.jupyter.org/\">NBViewer</a>),\n",
       "  it may mean that your frontend doesn't currently support widgets.\n",
       "</p>\n"
      ],
      "text/plain": [
       "VBox(children=(Label(value='Select Output Folder', layout=Layout(width='250px')), HBox(children=(HBox(children=(Text(value='/Users/j35/Desktop/', description='Location: ', layout=Layout(width='300px'), placeholder=''), Button(description='Jump', layout=Layout(margin='5px 10px', width='100px'), style=ButtonStyle())), layout=Layout(border='1px solid lightgrey', margin='5px 50px 5px 5px', padding='3px')),)), VBox(children=(Select(description='Select', layout=Layout(width='750px'), options=(' .', ' ..', ' .DS_Store                                |     Fri Jan 26 10:47:05 2018', ' CI_2018_FO_etal_1771127_jc.docx          |     Mon Nov 27 11:35:09 2017', ' Imaging_Schedule_2018A_Post_Bac.xlsx     |     Thu Dec 14 12:25:45 2017', ' Puzzle Overlay                           |     Directory', ' SDAG_EPM_template.tex                    |     Wed Nov 15 10:32:31 2017', ' raw_normalized                           |     Directory'), value=' .'), HBox(children=(Button(description='Enter directory', layout=Layout(margin='5px 40px'), style=ButtonStyle()), Button(description='Select', layout=Layout(margin='5px 40px'), style=ButtonStyle())))), layout=Layout(border='1px solid lightgrey', margin='5px', padding='10px'))))"
      ]
     },
     "metadata": {},
     "output_type": "display_data"
    }
   ],
   "source": [
    "o_norm.select_export_folder()"
   ]
  },
  {
   "cell_type": "code",
   "execution_count": 41,
   "metadata": {
    "run_control": {
     "frozen": false,
     "read_only": false
    }
   },
   "outputs": [
    {
     "data": {
      "application/vnd.jupyter.widget-view+json": {
       "model_id": "7ce10d66ad6d42afbbb9d068b0ae933b",
       "version_major": 2,
       "version_minor": 0
      },
      "text/html": [
       "<p>Failed to display Jupyter Widget of type <code>IntProgress</code>.</p>\n",
       "<p>\n",
       "  If you're reading this message in Jupyter Notebook or JupyterLab, it may mean\n",
       "  that the widgets JavaScript is still loading. If this message persists, it\n",
       "  likely means that the widgets JavaScript library is either not installed or\n",
       "  not enabled. See the <a href=\"https://ipywidgets.readthedocs.io/en/stable/user_install.html\">Jupyter\n",
       "  Widgets Documentation</a> for setup instructions.\n",
       "</p>\n",
       "<p>\n",
       "  If you're reading this message in another notebook frontend (for example, a static\n",
       "  rendering on GitHub or <a href=\"https://nbviewer.jupyter.org/\">NBViewer</a>),\n",
       "  it may mean that your frontend doesn't currently support widgets.\n",
       "</p>\n"
      ],
      "text/plain": [
       "IntProgress(value=0, max=2)"
      ]
     },
     "metadata": {},
     "output_type": "display_data"
    },
    {
     "data": {
      "text/html": [
       "<span style=\"font-size: 20px; color:blue\">The normalized images have been created in /Users/j35/Desktop/CT_normalized</span>"
      ],
      "text/plain": [
       "<IPython.core.display.HTML object>"
      ]
     },
     "metadata": {},
     "output_type": "display_data"
    }
   ],
   "source": [
    "o_norm.export()"
   ]
  },
  {
   "cell_type": "code",
   "execution_count": null,
   "metadata": {
    "collapsed": true
   },
   "outputs": [],
   "source": []
  }
 ],
 "metadata": {
  "anaconda-cloud": {},
  "kernelspec": {
   "display_name": "Python 3",
   "language": "python",
   "name": "python3"
  },
  "language_info": {
   "codemirror_mode": {
    "name": "ipython",
    "version": 3
   },
   "file_extension": ".py",
   "mimetype": "text/x-python",
   "name": "python",
   "nbconvert_exporter": "python",
   "pygments_lexer": "ipython3",
   "version": "3.6.2"
  },
  "toc": {
   "colors": {
    "hover_highlight": "#DAA520",
    "running_highlight": "#FF0000",
    "selected_highlight": "#FFD700"
   },
   "moveMenuLeft": true,
   "nav_menu": {
    "height": "101px",
    "width": "252px"
   },
   "navigate_menu": true,
   "number_sections": true,
   "sideBar": true,
   "threshold": 4,
   "toc_cell": false,
   "toc_section_display": "block",
   "toc_window_display": false
  }
 },
 "nbformat": 4,
 "nbformat_minor": 1
}
