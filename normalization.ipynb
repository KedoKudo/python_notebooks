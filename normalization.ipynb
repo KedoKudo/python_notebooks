{
 "cells": [
  {
   "cell_type": "code",
   "execution_count": 1,
   "metadata": {
    "run_control": {
     "frozen": false,
     "read_only": false
    }
   },
   "outputs": [],
   "source": [
    "debugging = True\n",
    "IPTS = 19558"
   ]
  },
  {
   "cell_type": "markdown",
   "metadata": {
    "run_control": {
     "frozen": false,
     "read_only": false
    }
   },
   "source": [
    "# Description "
   ]
  },
  {
   "cell_type": "markdown",
   "metadata": {
    "run_control": {
     "frozen": false,
     "read_only": false
    }
   },
   "source": [
    "# Python Import"
   ]
  },
  {
   "cell_type": "code",
   "execution_count": 2,
   "metadata": {
    "run_control": {
     "frozen": false,
     "read_only": false
    }
   },
   "outputs": [
    {
     "data": {
      "text/html": [
       "<style>\n",
       "\n",
       "/* The following CSS has been adapted from\n",
       "   http://nbviewer.ipython.org/github/ketch/teaching-numerics-with-notebooks/blob/master/Styling_notebooks.ipynb\n",
       "   by Aron Ahmadia and David Ketcheson and has been reused under CC BY 4.0\n",
       "   */\n",
       "\n",
       "/* main background */\n",
       "#site { \n",
       "    background: #888;\n",
       "    color: #red; \n",
       "}\n",
       "\n",
       "div.container {\n",
       "    width: 100% ! important;\n",
       "}\n",
       "\n",
       "div.cell { /* set cell width to about 80 chars */\n",
       "    width: 95%;\n",
       "}\n",
       "\n",
       "div #notebook { /* centre the content */\n",
       "/*    background: #fff; /* white background for content */\n",
       "    background: blue;\n",
       "    width: 100%;\n",
       "    margin: auto;\n",
       "    padding-left: 1em;\n",
       "    padding-right: 1em;\n",
       "    background-image: url(\"tile_background.jpg\");\n",
       "}\n",
       "\n",
       "#notebook li { /* More space between bullet points */\n",
       "    margin-top:0.4em;\n",
       "}\n",
       "\n",
       "/* change background color of running cells */\n",
       "div.cell.code_cell.running {\n",
       "/*    background-color: rgba(164,188,194,.75); */\n",
       "    background-color: green;\n",
       "    border-width: 8px\n",
       "    border-style: solid\n",
       "    border-color: #111;\n",
       "}\n",
       "\n",
       "/* Put a solid color box around each cell and its output, visually linking them together */\n",
       "div.cell.code_cell {\n",
       "    background-color: rgba(164,188,194,.25); /* Continuum L Gray with alpha 0.25 */\n",
       "    border-radius: 10px; /* rounded borders */\n",
       "    padding: 1em;\n",
       "    margin-top: 1em;\n",
       "}\n",
       "\n",
       "div.text_cell_render{\n",
       "\tfont-family: Georgia, Times, 'Times New Roman', serif;\n",
       "    line-height: 110%;\n",
       "    font-size: 105%;\n",
       "    width: 95%;\n",
       "    margin-left: auto;\n",
       "    margin-right: auto;\n",
       "}\n",
       "\n",
       "\n",
       "/* Formatting for header cells */\n",
       ".text_cell_render h1 {\n",
       "\tfont-family: Arial, 'Helvetica Neue', Helvetica, sans-serif;\n",
       "    font-weight: 400;\n",
       "    font-size: 30pt;\n",
       "    line-height: 100%;\n",
       "    color: rgb(37,55,70); /* Continuum Blue*/\n",
       "    margin-bottom: 0.1em;\n",
       "    margin-top: 0.1em;\n",
       "    display: block;\n",
       "}\n",
       ".text_cell_render h2 {\n",
       "\tfont-family: Arial, 'Helvetica Neue', Helvetica, sans-serif;\n",
       "    font-weight: 700;\n",
       "    font-size: 22pt;\n",
       "    line-height: 100%;\n",
       "    color: rgb(37,55,70);\n",
       "    margin-bottom: 0.1em;\n",
       "    margin-top: 0.1em;\n",
       "    display: block;\n",
       "}\n",
       "\n",
       ".text_cell_render h3 {\n",
       "\tfont-family: Arial, 'Helvetica Neue', Helvetica, sans-serif;\n",
       "    margin-top:12px;\n",
       "    margin-bottom: 3px;\n",
       "    font-style: italic;\n",
       "    color: rgb(37, 55, 70);\n",
       "}\n",
       "\n",
       ".text_cell_render h4 {\n",
       "\tfont-family: Arial, 'Helvetica Neue', Helvetica, sans-serif;\n",
       "}\n",
       "\n",
       ".text_cell_render h5 {\n",
       "\tfont-family: Arial, 'Helvetica Neue', Helvetica, sans-serif;\n",
       "    font-weight: 300;\n",
       "    font-size: 14pt;\n",
       "    font-style: italic;\n",
       "    margin-bottom: .1em;\n",
       "    margin-top: 0.1em;\n",
       "    display: block;\n",
       "}\n",
       "\n",
       ".text_cell_render h6 {\n",
       "\tfont-family: Arial, 'Helvetica Neue', Helvetica, sans-serif;\n",
       "    font-weight: 300;\n",
       "    font-size: 10pt;\n",
       "    margin-bottom: 1px;\n",
       "    margin-top: 1px;\n",
       "}\n",
       "\n",
       ".CodeMirror{\n",
       "        font-family: \"PT Mono\", fixed;\n",
       "        font-size: 100%;\n",
       "}\n",
       "\n",
       "#notebook_panel { /* main background */\n",
       "    background-image: url(\"tile_background.jpg\");\n",
       "}\n",
       "\n",
       "\n",
       "\n",
       "\n",
       "</style>\n"
      ],
      "text/plain": [
       "<IPython.core.display.HTML object>"
      ]
     },
     "execution_count": 2,
     "metadata": {},
     "output_type": "execute_result"
    }
   ],
   "source": [
    "from __code.__all import custom_style\n",
    "custom_style.style()"
   ]
  },
  {
   "cell_type": "code",
   "execution_count": 3,
   "metadata": {
    "run_control": {
     "frozen": false,
     "read_only": false
    }
   },
   "outputs": [
    {
     "name": "stdout",
     "output_type": "stream",
     "text": [
      "Working dir: /Volumes/my_book_thunderbolt_duo/IPTS/IPTS_19558\n"
     ]
    }
   ],
   "source": [
    "import matplotlib.patches as patches\n",
    "%matplotlib notebook\n",
    "import matplotlib.pyplot as plt\n",
    "import numpy as np\n",
    "import os\n",
    "\n",
    "from NeuNorm.normalization import Normalization\n",
    "from NeuNorm.roi import ROI\n",
    "\n",
    "from __code import utilities, gui_widgets, file_handler\n",
    "import ipywe.fileselector\n",
    "\n",
    "from ipywidgets.widgets import interact\n",
    "from ipywidgets import widgets\n",
    "from IPython.core.display import display, HTML\n",
    "\n",
    "if debugging:\n",
    "    ipts = IPTS\n",
    "else:\n",
    "    ipts = utilities.get_ipts()\n",
    "working_dir = utilities.get_working_dir(ipts=ipts, debugging=debugging)\n",
    "print(\"Working dir: {}\".format(working_dir))"
   ]
  },
  {
   "cell_type": "markdown",
   "metadata": {
    "run_control": {
     "frozen": false,
     "read_only": false
    }
   },
   "source": [
    "# Select Sample Images "
   ]
  },
  {
   "cell_type": "code",
   "execution_count": 4,
   "metadata": {
    "run_control": {
     "frozen": false,
     "read_only": false
    }
   },
   "outputs": [
    {
     "data": {
      "application/vnd.jupyter.widget-view+json": {
       "model_id": "e3aa7b27b7db4432824a19bc82887625",
       "version_major": 2,
       "version_minor": 0
      },
      "text/plain": [
       "A Jupyter Widget"
      ]
     },
     "metadata": {},
     "output_type": "display_data"
    },
    {
     "data": {
      "text/html": [
       "\n",
       "        <style type=\"text/css\">\n",
       "        .jupyter-widgets select option {\n",
       "            font-family: \"Lucida Console\", Monaco, monospace;\n",
       "        }\n",
       "        </style>\n",
       "        "
      ],
      "text/plain": [
       "<IPython.core.display.HTML object>"
      ]
     },
     "metadata": {},
     "output_type": "display_data"
    },
    {
     "data": {
      "application/vnd.jupyter.widget-view+json": {
       "model_id": "17d5997b932141219cf888a27f5fb9d2",
       "version_major": 2,
       "version_minor": 0
      },
      "text/plain": [
       "A Jupyter Widget"
      ]
     },
     "metadata": {},
     "output_type": "display_data"
    },
    {
     "data": {
      "application/vnd.jupyter.widget-view+json": {
       "model_id": "556f356970a54086a50af4b359a78888",
       "version_major": 2,
       "version_minor": 0
      },
      "text/plain": [
       "A Jupyter Widget"
      ]
     },
     "metadata": {},
     "output_type": "display_data"
    },
    {
     "data": {
      "text/html": [
       "\n",
       "        <style type=\"text/css\">\n",
       "        .jupyter-widgets select option {\n",
       "            font-family: \"Lucida Console\", Monaco, monospace;\n",
       "        }\n",
       "        </style>\n",
       "        "
      ],
      "text/plain": [
       "<IPython.core.display.HTML object>"
      ]
     },
     "metadata": {},
     "output_type": "display_data"
    },
    {
     "data": {
      "application/vnd.jupyter.widget-view+json": {
       "model_id": "be6627c216944252bce32abd0d3570eb",
       "version_major": 2,
       "version_minor": 0
      },
      "text/plain": [
       "A Jupyter Widget"
      ]
     },
     "metadata": {},
     "output_type": "display_data"
    }
   ],
   "source": [
    "list_images_ui = ipywe.fileselector.FileSelectorPanel(instruction='Select samples images', start_dir=working_dir, multiple=True)\n",
    "list_images_ui.show()"
   ]
  },
  {
   "cell_type": "markdown",
   "metadata": {
    "run_control": {
     "frozen": false,
     "read_only": false
    }
   },
   "source": [
    "# Select OB "
   ]
  },
  {
   "cell_type": "code",
   "execution_count": 6,
   "metadata": {
    "run_control": {
     "frozen": false,
     "read_only": false
    }
   },
   "outputs": [
    {
     "data": {
      "application/vnd.jupyter.widget-view+json": {
       "model_id": "3ab68c0bc03a43ec934d737c4f3559dc",
       "version_major": 2,
       "version_minor": 0
      },
      "text/plain": [
       "A Jupyter Widget"
      ]
     },
     "metadata": {},
     "output_type": "display_data"
    },
    {
     "data": {
      "text/html": [
       "\n",
       "        <style type=\"text/css\">\n",
       "        .jupyter-widgets select option {\n",
       "            font-family: \"Lucida Console\", Monaco, monospace;\n",
       "        }\n",
       "        </style>\n",
       "        "
      ],
      "text/plain": [
       "<IPython.core.display.HTML object>"
      ]
     },
     "metadata": {},
     "output_type": "display_data"
    },
    {
     "data": {
      "application/vnd.jupyter.widget-view+json": {
       "model_id": "6f920b9901f84aefa9747939338407e9",
       "version_major": 2,
       "version_minor": 0
      },
      "text/plain": [
       "A Jupyter Widget"
      ]
     },
     "metadata": {},
     "output_type": "display_data"
    },
    {
     "data": {
      "application/vnd.jupyter.widget-view+json": {
       "model_id": "4efed1c6a6784e5a86f0470c5e432650",
       "version_major": 2,
       "version_minor": 0
      },
      "text/plain": [
       "A Jupyter Widget"
      ]
     },
     "metadata": {},
     "output_type": "display_data"
    },
    {
     "data": {
      "text/html": [
       "\n",
       "        <style type=\"text/css\">\n",
       "        .jupyter-widgets select option {\n",
       "            font-family: \"Lucida Console\", Monaco, monospace;\n",
       "        }\n",
       "        </style>\n",
       "        "
      ],
      "text/plain": [
       "<IPython.core.display.HTML object>"
      ]
     },
     "metadata": {},
     "output_type": "display_data"
    },
    {
     "data": {
      "application/vnd.jupyter.widget-view+json": {
       "model_id": "387013ed54d945bca31e96a98706ffd7",
       "version_major": 2,
       "version_minor": 0
      },
      "text/plain": [
       "A Jupyter Widget"
      ]
     },
     "metadata": {},
     "output_type": "display_data"
    }
   ],
   "source": [
    "list_ob_ui = ipywe.fileselector.FileSelectorPanel(instruction='Select OB images', start_dir=working_dir, multiple=True)\n",
    "list_ob_ui.show()"
   ]
  },
  {
   "cell_type": "markdown",
   "metadata": {
    "run_control": {
     "frozen": false,
     "read_only": false
    }
   },
   "source": [
    "# Loding data "
   ]
  },
  {
   "cell_type": "code",
   "execution_count": 7,
   "metadata": {
    "run_control": {
     "frozen": false,
     "read_only": false
    }
   },
   "outputs": [
    {
     "data": {
      "application/vnd.jupyter.widget-view+json": {
       "model_id": "ba5844bd5c3d42c7975025229a5a6e18",
       "version_major": 2,
       "version_minor": 0
      },
      "text/plain": [
       "A Jupyter Widget"
      ]
     },
     "metadata": {},
     "output_type": "display_data"
    },
    {
     "data": {
      "application/vnd.jupyter.widget-view+json": {
       "model_id": "83efb31597d647089e185e6ea24ee9bd",
       "version_major": 2,
       "version_minor": 0
      },
      "text/plain": [
       "A Jupyter Widget"
      ]
     },
     "metadata": {},
     "output_type": "display_data"
    }
   ],
   "source": [
    "o_norm = Normalization()\n",
    "\n",
    "# sample\n",
    "list_images = list_images_ui.selected\n",
    "o_norm.load(file=list_images, notebook=True)\n",
    "sample_array = o_norm.data['sample']['data']\n",
    "\n",
    "# ob\n",
    "list_obs = list_ob_ui.selected\n",
    "o_norm.load(file=list_obs, data_type='ob', notebook=True)\n",
    "ob_array = o_norm.data['ob']['data']"
   ]
  },
  {
   "cell_type": "markdown",
   "metadata": {
    "collapsed": true,
    "run_control": {
     "frozen": false,
     "read_only": false
    }
   },
   "source": [
    "# Preview Data"
   ]
  },
  {
   "cell_type": "code",
   "execution_count": 10,
   "metadata": {
    "run_control": {
     "frozen": false,
     "read_only": false
    }
   },
   "outputs": [
    {
     "data": {
      "application/vnd.jupyter.widget-view+json": {
       "model_id": "8e37a2e49e1c458785aa0874bef83762",
       "version_major": 2,
       "version_minor": 0
      },
      "text/plain": [
       "A Jupyter Widget"
      ]
     },
     "metadata": {},
     "output_type": "display_data"
    }
   ],
   "source": [
    "def plot_images(index):\n",
    "    fig = plt.figure(figsize=(5,5))\n",
    "    ax_img = plt.subplot(111)\n",
    "    ax_img.imshow(sample_array[index], cmap='viridis')\n",
    "    \n",
    "preview = interact(plot_images,\n",
    "                  index = widgets.IntSlider(min=0, \n",
    "                                             max=len(list_images)-1,\n",
    "                                                step=1,\n",
    "                                                value=0,\n",
    "                                                description='Image Index',\n",
    "                                           continuous_update=False))"
   ]
  },
  {
   "cell_type": "code",
   "execution_count": 11,
   "metadata": {
    "run_control": {
     "frozen": false,
     "read_only": false
    }
   },
   "outputs": [
    {
     "data": {
      "application/vnd.jupyter.widget-view+json": {
       "model_id": "ea15c984f72a41c68fcc52afae46c222",
       "version_major": 2,
       "version_minor": 0
      },
      "text/plain": [
       "A Jupyter Widget"
      ]
     },
     "metadata": {},
     "output_type": "display_data"
    }
   ],
   "source": [
    "def plot_obs(index):\n",
    "    fig = plt.figure(figsize=(5,5))\n",
    "    ax_img = plt.subplot(111)\n",
    "    ax_img.imshow(ob_array[index], cmap='viridis')\n",
    "    \n",
    "preview = interact(plot_obs,\n",
    "                  index = widgets.IntSlider(min=0, \n",
    "                                             max=len(list_obs)-1,\n",
    "                                                step=1,\n",
    "                                                value=0,\n",
    "                                                description='Image Index',\n",
    "                                           continuous_update=False))"
   ]
  },
  {
   "cell_type": "markdown",
   "metadata": {
    "run_control": {
     "frozen": false,
     "read_only": false
    }
   },
   "source": [
    "# Select Background Region "
   ]
  },
  {
   "cell_type": "code",
   "execution_count": 21,
   "metadata": {
    "run_control": {
     "frozen": false,
     "read_only": false
    }
   },
   "outputs": [],
   "source": [
    "integrated_array = np.array([_array for _array in sample_array])\n",
    "mean_array = integrated_array.mean(axis=0)\n",
    "\n",
    "[height, width] = np.shape(sample_array[0])\n",
    "\n",
    "def plot_roi(x_left, y_top, width, height):\n",
    "    \n",
    "    fig = plt.figure(figsize=(5,5))\n",
    "    ax_img = plt.subplot(111)\n",
    "    ax_img.imshow(mean_array,\n",
    "                 cmap='viridis')\n",
    "    \n",
    "    _rectangle = patches.Rectangle((x_left, y_top),\n",
    "                                  width,\n",
    "                                  height,\n",
    "                                  edgecolor = 'white',\n",
    "                                  linewidth = 2,\n",
    "                                  fill = False)\n",
    "    ax_img.add_patch(_rectangle)\n",
    "    \n",
    "    return [x_left, y_top, width, height]\n",
    "    \n",
    "preview_bragg_edge = interact(plot_roi,\n",
    "                  x_left = widgets.IntSlider(min=0,\n",
    "                                            max=width,\n",
    "                                            step=1,\n",
    "                                            value=8,\n",
    "                                            description='X Left',\n",
    "                                            continuous_update=False),\n",
    "                  y_top = widgets.IntSlider(min=0,\n",
    "                                           max=height,\n",
    "                                           value=13,\n",
    "                                           step=1,\n",
    "                                           description='Y Top',\n",
    "                                           continuous_update=False),\n",
    "                  width = widgets.IntSlider(min=0,\n",
    "                                           max=width,\n",
    "                                           step=1,\n",
    "                                           value=60,\n",
    "                                           description=\"Width\",\n",
    "                                           continuous_update=False),\n",
    "                  height = widgets.IntSlider(min=0,\n",
    "                                            max=height,\n",
    "                                            step=1,\n",
    "                                            value=100,\n",
    "                                            description='Height',\n",
    "                                            continuous_update=False))"
   ]
  },
  {
   "cell_type": "markdown",
   "metadata": {
    "run_control": {
     "frozen": false,
     "read_only": false
    }
   },
   "source": [
    "# Normalization"
   ]
  },
  {
   "cell_type": "code",
   "execution_count": 26,
   "metadata": {
    "run_control": {
     "frozen": false,
     "read_only": false
    }
   },
   "outputs": [
    {
     "data": {
      "application/vnd.jupyter.widget-view+json": {
       "model_id": "ab469298723f4b05a30ed6f4d55a3050",
       "version_major": 2,
       "version_minor": 0
      },
      "text/plain": [
       "A Jupyter Widget"
      ]
     },
     "metadata": {},
     "output_type": "display_data"
    }
   ],
   "source": [
    "[x_left, y_top, width_roi, height_roi] = preview_bragg_edge.widget.result\n",
    "\n",
    "_roi = ROI(x0=x_left, y0=y_top, width=width_roi, height=height_roi)\n",
    "o_norm.normalization(roi = _roi, notebook=True)\n",
    "\n",
    "normalized_data_array = o_norm.get_normalized_data()"
   ]
  },
  {
   "cell_type": "markdown",
   "metadata": {
    "collapsed": true,
    "run_control": {
     "frozen": false,
     "read_only": false
    }
   },
   "source": [
    "# Export "
   ]
  },
  {
   "cell_type": "code",
   "execution_count": 28,
   "metadata": {
    "run_control": {
     "frozen": false,
     "read_only": false
    }
   },
   "outputs": [
    {
     "data": {
      "application/vnd.jupyter.widget-view+json": {
       "model_id": "5615cd57cbb549d1945bfc2f1439c373",
       "version_major": 2,
       "version_minor": 0
      },
      "text/plain": [
       "A Jupyter Widget"
      ]
     },
     "metadata": {},
     "output_type": "display_data"
    },
    {
     "data": {
      "text/html": [
       "\n",
       "        <style type=\"text/css\">\n",
       "        .jupyter-widgets select option {\n",
       "            font-family: \"Lucida Console\", Monaco, monospace;\n",
       "        }\n",
       "        </style>\n",
       "        "
      ],
      "text/plain": [
       "<IPython.core.display.HTML object>"
      ]
     },
     "metadata": {},
     "output_type": "display_data"
    },
    {
     "data": {
      "application/vnd.jupyter.widget-view+json": {
       "model_id": "2f37a924f10c43ccbefa75150556d0b0",
       "version_major": 2,
       "version_minor": 0
      },
      "text/plain": [
       "A Jupyter Widget"
      ]
     },
     "metadata": {},
     "output_type": "display_data"
    }
   ],
   "source": [
    "output_folder_ui = ipywe.fileselector.FileSelectorPanel(instruction='Select Output Folder', start_dir=working_dir, multiple=False, type='directory')\n",
    "output_folder_ui.show()"
   ]
  },
  {
   "cell_type": "code",
   "execution_count": 36,
   "metadata": {
    "run_control": {
     "frozen": false,
     "read_only": false
    }
   },
   "outputs": [
    {
     "data": {
      "application/vnd.jupyter.widget-view+json": {
       "model_id": "e7f54d6bc27d41049091b68ad11d0f48",
       "version_major": 2,
       "version_minor": 0
      },
      "text/plain": [
       "A Jupyter Widget"
      ]
     },
     "metadata": {},
     "output_type": "display_data"
    }
   ],
   "source": [
    "output_folder = os.path.abspath(os.path.join(output_folder_ui.selected, 'normalization'))\n",
    "utilities.make_dir(dir=output_folder)\n",
    "\n",
    "w = widgets.IntProgress()\n",
    "w.max = len(list_images)\n",
    "display(w)\n",
    "\n",
    "for _index, _file in enumerate(list_images):\n",
    "    basename = os.path.basename(_file)\n",
    "    _base, _ext = os.path.splitext(basename)\n",
    "    output_file_name = os.path.join(output_folder, _base + '.tiff')\n",
    "    file_handler.make_tiff(filename=output_file_name, data=normalized_data_array[_index])\n",
    "    \n",
    "    w.value = _index+1"
   ]
  },
  {
   "cell_type": "code",
   "execution_count": null,
   "metadata": {
    "run_control": {
     "frozen": false,
     "read_only": false
    }
   },
   "outputs": [],
   "source": []
  }
 ],
 "metadata": {
  "anaconda-cloud": {},
  "kernelspec": {
   "display_name": "Python [conda env:py35]",
   "language": "python",
   "name": "conda-env-py35-py"
  },
  "language_info": {
   "codemirror_mode": {
    "name": "ipython",
    "version": 3
   },
   "file_extension": ".py",
   "mimetype": "text/x-python",
   "name": "python",
   "nbconvert_exporter": "python",
   "pygments_lexer": "ipython3",
   "version": "3.5.3"
  },
  "toc": {
   "colors": {
    "hover_highlight": "#DAA520",
    "running_highlight": "#FF0000",
    "selected_highlight": "#FFD700"
   },
   "moveMenuLeft": true,
   "nav_menu": {
    "height": "101px",
    "width": "252px"
   },
   "navigate_menu": true,
   "number_sections": true,
   "sideBar": true,
   "threshold": 4,
   "toc_cell": false,
   "toc_section_display": "block",
   "toc_window_display": false
  },
  "widgets": {
   "state": {
    "2b2d16bfbfd3484cac2f344fd1d12020": {
     "views": [
      {
       "cell_index": 10
      }
     ]
    },
    "4dd206ee587147a9b68c13c6603eaf4c": {
     "views": [
      {
       "cell_index": 17
      }
     ]
    },
    "5e743831f3194fb0b8a514748b6cf7fe": {
     "views": [
      {
       "cell_index": 10
      }
     ]
    },
    "8467e37c099e49c3bf702cb67b92bba8": {
     "views": [
      {
       "cell_index": 15
      }
     ]
    },
    "adfc1b492e4e46cda16e2a751239a9b0": {
     "views": [
      {
       "cell_index": 13
      }
     ]
    },
    "c5df07520ba54e9bb72848eb399b40f5": {
     "views": [
      {
       "cell_index": 10
      }
     ]
    },
    "c99aa0c95ced4af293b785d60968c02d": {
     "views": [
      {
       "cell_index": 12
      }
     ]
    }
   },
   "version": "1.2.0"
  }
 },
 "nbformat": 4,
 "nbformat_minor": 1
}
