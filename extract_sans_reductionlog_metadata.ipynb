{
 "cells": [
  {
   "cell_type": "markdown",
   "metadata": {},
   "source": [
    "[![Notebook Tutorial](__code/__all/notebook_tutorial.png)](https://neutronimaging.pages.ornl.gov/tutorial/notebooks/extract_sans_reductionlog_metadata)\n",
    "\n",
    "<img src='__docs/__all/notebook_rules.png' />"
   ]
  },
  {
   "cell_type": "markdown",
   "metadata": {},
   "source": [
    "# Select Instrument"
   ]
  },
  {
   "cell_type": "code",
   "execution_count": 1,
   "metadata": {},
   "outputs": [
    {
     "data": {
      "text/html": [
       "\n",
       "<style type=\"text/css\">\n",
       ".jupyter-widgets select option {font-family: \"Lucida Console\", Monaco, monospace;}\n",
       ".jupyter-widgets select {width: 98%;}\n",
       "div.output_subarea {padding: 0px;}\n",
       "div.output_subarea > div {margin: 0.4em;}\n",
       "</style>\n"
      ],
      "text/plain": [
       "<IPython.core.display.HTML object>"
      ]
     },
     "metadata": {},
     "output_type": "display_data"
    },
    {
     "data": {
      "text/html": [
       "\n",
       "<style type=\"text/css\">\n",
       ".jupyter-widgets select option {font-family: \"Lucida Console\", Monaco, monospace;}\n",
       "div.output_subarea {padding: 0px;}\n",
       "div.output_subarea > div {margin: 0.4em;}\n",
       "</style>\n"
      ],
      "text/plain": [
       "<IPython.core.display.HTML object>"
      ]
     },
     "metadata": {},
     "output_type": "display_data"
    },
    {
     "data": {
      "application/vnd.jupyter.widget-view+json": {
       "model_id": "f80f65de2ff74f54a5ef8bbd6040e736",
       "version_major": 2,
       "version_minor": 0
      },
      "text/plain": [
       "HBox(children=(Label(value='Select your instrument', layout=Layout(width='15%')), Select(layout=Layout(height=…"
      ]
     },
     "metadata": {},
     "output_type": "display_data"
    }
   ],
   "source": [
    "from __code.sans import extract\n",
    "from __code.__all import custom_style\n",
    "custom_style.style()\n",
    "\n",
    "initializer = extract.Initializer()\n",
    "initializer.select_instrument()"
   ]
  },
  {
   "cell_type": "markdown",
   "metadata": {},
   "source": [
    "# Select your ReductionLog files and then the Metadata to extract "
   ]
  },
  {
   "cell_type": "code",
   "execution_count": 2,
   "metadata": {
    "scrolled": false
   },
   "outputs": [
    {
     "data": {
      "application/vnd.jupyter.widget-view+json": {
       "model_id": "",
       "version_major": 2,
       "version_minor": 0
      },
      "text/plain": [
       "HBox(children=(Button(button_style='success', description='Jump to My Home Folder', layout=Layout(border='1px …"
      ]
     },
     "metadata": {},
     "output_type": "display_data"
    },
    {
     "data": {
      "application/vnd.jupyter.widget-view+json": {
       "model_id": "",
       "version_major": 2,
       "version_minor": 0
      },
      "text/plain": [
       "VBox(children=(Label(value='Select ReductionLog files', layout=Layout(width='250px')), VBox(children=(HBox(chi…"
      ]
     },
     "metadata": {},
     "output_type": "display_data"
    },
    {
     "data": {
      "application/vnd.jupyter.widget-view+json": {
       "model_id": "a6b7b1374a37433abdd61ea00036e267",
       "version_major": 2,
       "version_minor": 0
      },
      "text/plain": [
       "HBox(children=(Select(layout=Layout(height='400px', width='400px'), options=('special_parameters', 'sample_log…"
      ]
     },
     "metadata": {},
     "output_type": "display_data"
    },
    {
     "data": {
      "application/vnd.jupyter.widget-view+json": {
       "model_id": "678c4e2f51c644a796b42fd36f29f188",
       "version_major": 2,
       "version_minor": 0
      },
      "text/plain": [
       "Label(value='Command + Click: to select more than 1 element in the right widget')"
      ]
     },
     "metadata": {},
     "output_type": "display_data"
    }
   ],
   "source": [
    "working_dir = initializer.get_working_dir()\n",
    "o_extract = extract.Extract(working_dir=working_dir,\n",
    "                           instrument=initializer.get_instrument())\n",
    "o_extract.select_reductionlog()"
   ]
  },
  {
   "cell_type": "markdown",
   "metadata": {},
   "source": [
    "# Select output folder"
   ]
  },
  {
   "cell_type": "code",
   "execution_count": 3,
   "metadata": {},
   "outputs": [
    {
     "data": {
      "application/vnd.jupyter.widget-view+json": {
       "model_id": "c09a55580d094a9e9380b890829f76bd",
       "version_major": 2,
       "version_minor": 0
      },
      "text/plain": [
       "HBox(children=(Button(button_style='success', description='Jump to My Home Folder', layout=Layout(border='1px …"
      ]
     },
     "metadata": {},
     "output_type": "display_data"
    },
    {
     "data": {
      "application/vnd.jupyter.widget-view+json": {
       "model_id": "",
       "version_major": 2,
       "version_minor": 0
      },
      "text/plain": [
       "VBox(children=(Label(value='select where to create the ascii file', layout=Layout(width='250px')), VBox(childr…"
      ]
     },
     "metadata": {},
     "output_type": "display_data"
    },
    {
     "name": "stdout",
     "output_type": "stream",
     "text": [
      "top_key: special_parameters\n",
      "top_path: ['reduction_information', 'special_parameters']\n",
      "metadata: ['# special_parameters -> background_transmission']\n",
      "top_key: special_parameters\n",
      "top_path: ['reduction_information', 'special_parameters']\n",
      "metadata: ['# special_parameters -> beam_center']\n",
      "top_key: sample_logs\n",
      "top_path: ['reduction_information', 'sample_logs', 'main']\n",
      "metadata: ['# sample_logs -> CryoSample']\n",
      "top_key: sample_logs\n",
      "top_path: ['reduction_information', 'sample_logs', 'main']\n",
      "metadata: ['# sample_logs -> CryoSampleReadback']\n",
      "top_key: sample_logs\n",
      "top_path: ['reduction_information', 'sample_logs', 'main']\n",
      "metadata: ['# sample_logs -> CryoVTI']\n",
      "top_key: sample_logs\n",
      "top_path: ['reduction_information', 'sample_logs', 'main']\n",
      "metadata: ['# sample_logs -> CryoVTIReadback']\n",
      "top_key: sample_logs\n",
      "top_path: ['reduction_information', 'sample_logs', 'main']\n",
      "metadata: ['# sample_logs -> CryoValve']\n",
      "top_key: sample_logs\n",
      "top_path: ['reduction_information', 'sample_logs', 'main']\n",
      "metadata: ['# sample_logs -> DLambdaReq']\n",
      "top_key: sample_logs\n",
      "top_path: ['reduction_information', 'sample_logs', 'main']\n",
      "metadata: ['# sample_logs -> Filename']\n",
      "top_key: sample_logs\n",
      "top_path: ['reduction_information', 'sample_logs', 'main']\n",
      "metadata: ['# sample_logs -> He3Insert1']\n",
      "top_key: sample_logs\n",
      "top_path: ['reduction_information', 'sample_logs', 'main']\n",
      "metadata: ['# sample_logs -> He3Insert2']\n",
      "top_key: sample_logs\n",
      "top_path: ['reduction_information', 'sample_logs', 'main']\n",
      "metadata: ['# sample_logs -> He3InsertSeq']\n",
      "output file will be /HFIR/CG2/s1mid_q__copy_reduction_log_extracted.txt\n",
      "top_key: special_parameters\n",
      "top_path: ['reduction_information', 'special_parameters']\n",
      "metadata: ['# special_parameters -> background_transmission']\n",
      "top_key: special_parameters\n",
      "top_path: ['reduction_information', 'special_parameters']\n",
      "metadata: ['# special_parameters -> beam_center']\n",
      "top_key: sample_logs\n",
      "top_path: ['reduction_information', 'sample_logs', 'main']\n",
      "metadata: ['# sample_logs -> CryoSample']\n",
      "top_key: sample_logs\n",
      "top_path: ['reduction_information', 'sample_logs', 'main']\n",
      "metadata: ['# sample_logs -> CryoSampleReadback']\n",
      "top_key: sample_logs\n",
      "top_path: ['reduction_information', 'sample_logs', 'main']\n",
      "metadata: ['# sample_logs -> CryoVTI']\n",
      "top_key: sample_logs\n",
      "top_path: ['reduction_information', 'sample_logs', 'main']\n",
      "metadata: ['# sample_logs -> CryoVTIReadback']\n",
      "top_key: sample_logs\n",
      "top_path: ['reduction_information', 'sample_logs', 'main']\n",
      "metadata: ['# sample_logs -> CryoValve']\n",
      "top_key: sample_logs\n",
      "top_path: ['reduction_information', 'sample_logs', 'main']\n",
      "metadata: ['# sample_logs -> DLambdaReq']\n",
      "top_key: sample_logs\n",
      "top_path: ['reduction_information', 'sample_logs', 'main']\n",
      "metadata: ['# sample_logs -> Filename']\n",
      "top_key: sample_logs\n",
      "top_path: ['reduction_information', 'sample_logs', 'main']\n",
      "metadata: ['# sample_logs -> He3Insert1']\n",
      "top_key: sample_logs\n",
      "top_path: ['reduction_information', 'sample_logs', 'main']\n",
      "metadata: ['# sample_logs -> He3Insert2']\n",
      "top_key: sample_logs\n",
      "top_path: ['reduction_information', 'sample_logs', 'main']\n",
      "metadata: ['# sample_logs -> He3InsertSeq']\n",
      "output file will be /HFIR/CG2/s1mid_q_reduction_log_extracted.txt\n"
     ]
    }
   ],
   "source": [
    "o_extract.export()"
   ]
  },
  {
   "cell_type": "code",
   "execution_count": null,
   "metadata": {},
   "outputs": [],
   "source": []
  }
 ],
 "metadata": {
  "kernelspec": {
   "display_name": "Python 3",
   "language": "python",
   "name": "python3"
  },
  "language_info": {
   "codemirror_mode": {
    "name": "ipython",
    "version": 3
   },
   "file_extension": ".py",
   "mimetype": "text/x-python",
   "name": "python",
   "nbconvert_exporter": "python",
   "pygments_lexer": "ipython3",
   "version": "3.6.9"
  }
 },
 "nbformat": 4,
 "nbformat_minor": 2
}
