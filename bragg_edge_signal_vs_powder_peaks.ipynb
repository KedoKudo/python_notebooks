{
 "cells": [
  {
   "cell_type": "markdown",
   "metadata": {
    "run_control": {
     "frozen": false,
     "read_only": false
    }
   },
   "source": [
    "[![Notebook Tutorial](__code/__all/notebook_tutorial.png)](https://neutronimaging.pages.ornl.gov/en/tutorial/notebooks/bragg_edge)\n",
    "\n",
    "<img src='__docs/__all/notebook_rules.png' />"
   ]
  },
  {
   "cell_type": "code",
   "execution_count": 1,
   "metadata": {
    "run_control": {
     "frozen": false,
     "read_only": false
    }
   },
   "outputs": [],
   "source": [
    "%gui qt"
   ]
  },
  {
   "cell_type": "markdown",
   "metadata": {
    "run_control": {
     "frozen": false,
     "read_only": false
    }
   },
   "source": [
    "# Select Your IPTS "
   ]
  },
  {
   "cell_type": "code",
   "execution_count": 7,
   "metadata": {},
   "outputs": [
    {
     "name": "stdout",
     "output_type": "stream",
     "text": [
      "Collecting neutronbraggedge\n",
      "  Using cached https://files.pythonhosted.org/packages/16/61/ff8ae18d42b32c5fdcecef6d52faf2fe5251d7367a237d8a403db40cb9c8/neutronbraggedge-2.0.3-py2.py3-none-any.whl\n",
      "Requirement already satisfied: numpy in /miniconda3/envs/py36/lib/python3.6/site-packages (from neutronbraggedge) (1.17.2)\n",
      "Collecting beautifulsoup4\n",
      "  Using cached https://files.pythonhosted.org/packages/3b/c8/a55eb6ea11cd7e5ac4bacdf92bac4693b90d3ba79268be16527555e186f0/beautifulsoup4-4.8.1-py3-none-any.whl\n",
      "Collecting lxml\n",
      "\u001b[?25l  Downloading https://files.pythonhosted.org/packages/50/a4/fb2c4441028bc81d3b50f970a8471ac5b34e64fcc85d5dc304691b0c41ff/lxml-4.4.2-cp36-cp36m-macosx_10_6_intel.macosx_10_9_intel.macosx_10_9_x86_64.macosx_10_10_intel.macosx_10_10_x86_64.whl (8.9MB)\n",
      "\u001b[K     |████████████████████████████████| 8.9MB 15kB/s eta 0:00:01kB 38kB/s eta 0:03:47                              | 501kB 31kB/s eta 0:04:27                          | 645kB 31kB/s eta 0:04:23| 931kB 31kB/s eta 0:04:14�                           | 1.2MB 31kB/s eta 0:04:05                  | 1.4MB 31kB/s eta 0:04:01                    | 1.5MB 31kB/s eta 0:03:56  | 1.8MB 31kB/s eta 0:03:48�█████▉                         | 1.9MB 31kB/s eta 0:03:43            | 2.0MB 31kB/s eta 0:03:391MB 31kB/s eta 0:03:36:03:31 0:03:23          | 2.6MB 31kB/s eta 0:03:20██▉                     | 3.0MB 31kB/s eta 0:03:08| 3.1MB 31kB/s eta 0:03:04/s eta 0:03:0257ta 0:02:50| 3.7MB 31kB/s eta 0:02:46��███▋                  | 3.8MB 31kB/s eta 0:02:44   |██████████████                  | 3.9MB 31kB/s eta 0:02:39                | 4.0MB 31kB/s eta 0:02:37[K     |██████████████▊                 | 4.1MB 31kB/s eta 0:02:33███▏                | 4.2MB 31kB/s eta 0:02:30�███████████                | 4.5MB 31kB/s eta 0:02:22��██████▎               | 4.6MB 31kB/s eta 0:02:19�█████▊               | 4.7MB 31kB/s eta 0:02:16█████               | 4.8MB 31kB/s eta 0:02:13kB/s eta 0:02:06          | 5.1MB 31kB/s eta 0:02:03██████████▌             | 5.2MB 31kB/s eta 0:02:0057█████▋            | 5.5MB 31kB/s eta 0:01:501:47��██████████▎           | 5.7MB 15kB/s eta 0:03:27█████████████           | 5.9MB 15kB/s eta 0:03:15��█████▍          | 6.0MB 31kB/s eta 0:01:35��▌       | 6.8MB 97kB/s eta 0:00:22�█████████████▉       | 6.9MB 31kB/s eta 0:01:04███████▋      | 7.2MB 21kB/s eta 0:01:22��██████████▎     | 7.3MB 29kB/s eta 0:00:55�██████████████     | 7.5MB 15kB/s eta 0:01:30��    | 7.6MB 15kB/s eta 0:01:25     |███████████████████████████▌    | 7.7MB 15kB/s eta 0:01:19�█████████████████████▏   | 7.9MB 15kB/s eta 0:01:08████████████████▌   | 7.9MB 15kB/s eta 0:01:03███████████████████████████   | 8.1MB 15kB/s eta 0:00:52�██████████████████████████▍  | 8.2MB 15kB/s eta 0:00:47�██████████████████████████▋  | 8.3MB 15kB/s eta 0:00:42ta 0:00:31| 8.5MB 15kB/s eta 0:00:26B 15kB/s eta 0:00:15\n",
      "\u001b[?25hRequirement already satisfied: pandas in /miniconda3/envs/py36/lib/python3.6/site-packages (from neutronbraggedge) (0.25.2)\n",
      "Collecting html5lib\n",
      "  Using cached https://files.pythonhosted.org/packages/a5/62/bbd2be0e7943ec8504b517e62bab011b4946e1258842bc159e5dfde15b96/html5lib-1.0.1-py2.py3-none-any.whl\n",
      "Collecting configparser\n",
      "  Using cached https://files.pythonhosted.org/packages/7a/2a/95ed0501cf5d8709490b1d3a3f9b5cf340da6c433f896bbe9ce08dbe6785/configparser-4.0.2-py2.py3-none-any.whl\n",
      "Collecting soupsieve>=1.2\n",
      "  Using cached https://files.pythonhosted.org/packages/81/94/03c0f04471fc245d08d0a99f7946ac228ca98da4fa75796c507f61e688c2/soupsieve-1.9.5-py2.py3-none-any.whl\n",
      "Requirement already satisfied: python-dateutil>=2.6.1 in /miniconda3/envs/py36/lib/python3.6/site-packages (from pandas->neutronbraggedge) (2.8.0)\n",
      "Requirement already satisfied: pytz>=2017.2 in /miniconda3/envs/py36/lib/python3.6/site-packages (from pandas->neutronbraggedge) (2019.3)\n",
      "Requirement already satisfied: webencodings in /miniconda3/envs/py36/lib/python3.6/site-packages (from html5lib->neutronbraggedge) (0.5.1)\n",
      "Requirement already satisfied: six>=1.9 in /miniconda3/envs/py36/lib/python3.6/site-packages (from html5lib->neutronbraggedge) (1.12.0)\n",
      "Installing collected packages: soupsieve, beautifulsoup4, lxml, html5lib, configparser, neutronbraggedge\n",
      "Successfully installed beautifulsoup4-4.8.1 configparser-4.0.2 html5lib-1.0.1 lxml-4.4.2 neutronbraggedge-2.0.3 soupsieve-1.9.5\n"
     ]
    }
   ],
   "source": [
    "!pip install neutronbraggedge"
   ]
  },
  {
   "cell_type": "code",
   "execution_count": 3,
   "metadata": {},
   "outputs": [
    {
     "ename": "ModuleNotFoundError",
     "evalue": "No module named 'neutronbraggedge'",
     "output_type": "error",
     "traceback": [
      "\u001b[0;31m---------------------------------------------------------------------------\u001b[0m",
      "\u001b[0;31mModuleNotFoundError\u001b[0m                       Traceback (most recent call last)",
      "\u001b[0;32m<ipython-input-3-8690ee639a45>\u001b[0m in \u001b[0;36m<module>\u001b[0;34m\u001b[0m\n\u001b[0;32m----> 1\u001b[0;31m \u001b[0;32mimport\u001b[0m \u001b[0mneutronbraggedge\u001b[0m\u001b[0;34m\u001b[0m\u001b[0;34m\u001b[0m\u001b[0m\n\u001b[0m",
      "\u001b[0;31mModuleNotFoundError\u001b[0m: No module named 'neutronbraggedge'"
     ]
    }
   ],
   "source": [
    "import aneutronbraggedge"
   ]
  },
  {
   "cell_type": "code",
   "execution_count": 2,
   "metadata": {
    "run_control": {
     "frozen": false,
     "read_only": false
    }
   },
   "outputs": [
    {
     "data": {
      "text/html": [
       "\n",
       "<style type=\"text/css\">\n",
       ".jupyter-widgets select option {font-family: \"Lucida Console\", Monaco, monospace;}\n",
       ".jupyter-widgets select {width: 98%;}\n",
       "div.output_subarea {padding: 0px;}\n",
       "div.output_subarea > div {margin: 0.4em;}\n",
       "</style>\n"
      ],
      "text/plain": [
       "<IPython.core.display.HTML object>"
      ]
     },
     "metadata": {},
     "output_type": "display_data"
    },
    {
     "ename": "ModuleNotFoundError",
     "evalue": "No module named 'neutronbraggedge'",
     "output_type": "error",
     "traceback": [
      "\u001b[0;31m---------------------------------------------------------------------------\u001b[0m",
      "\u001b[0;31mModuleNotFoundError\u001b[0m                       Traceback (most recent call last)",
      "\u001b[0;32m<ipython-input-2-22d483f911e7>\u001b[0m in \u001b[0;36m<module>\u001b[0;34m\u001b[0m\n\u001b[1;32m      1\u001b[0m \u001b[0;32mfrom\u001b[0m \u001b[0m__code\u001b[0m \u001b[0;32mimport\u001b[0m \u001b[0msystem\u001b[0m\u001b[0;34m\u001b[0m\u001b[0;34m\u001b[0m\u001b[0m\n\u001b[0;32m----> 2\u001b[0;31m \u001b[0;32mfrom\u001b[0m \u001b[0m__code\u001b[0m\u001b[0;34m.\u001b[0m\u001b[0mbragg_edge\u001b[0m \u001b[0;32mimport\u001b[0m \u001b[0mBraggEdge\u001b[0m\u001b[0;34m,\u001b[0m \u001b[0mInterface\u001b[0m\u001b[0;34m\u001b[0m\u001b[0;34m\u001b[0m\u001b[0m\n\u001b[0m\u001b[1;32m      3\u001b[0m \u001b[0;34m\u001b[0m\u001b[0m\n\u001b[1;32m      4\u001b[0m \u001b[0msystem\u001b[0m\u001b[0;34m.\u001b[0m\u001b[0mSystem\u001b[0m\u001b[0;34m.\u001b[0m\u001b[0mselect_working_dir\u001b[0m\u001b[0;34m(\u001b[0m\u001b[0mfacility\u001b[0m\u001b[0;34m=\u001b[0m\u001b[0;34m'SNS'\u001b[0m\u001b[0;34m,\u001b[0m \u001b[0minstrument\u001b[0m\u001b[0;34m=\u001b[0m\u001b[0;34m'SNAP'\u001b[0m\u001b[0;34m)\u001b[0m\u001b[0;34m\u001b[0m\u001b[0;34m\u001b[0m\u001b[0m\n\u001b[1;32m      5\u001b[0m \u001b[0;32mfrom\u001b[0m \u001b[0m__code\u001b[0m\u001b[0;34m.\u001b[0m\u001b[0m__all\u001b[0m \u001b[0;32mimport\u001b[0m \u001b[0mcustom_style\u001b[0m\u001b[0;34m\u001b[0m\u001b[0;34m\u001b[0m\u001b[0m\n",
      "\u001b[0;32m~/git/python_notebooks/__code/bragg_edge.py\u001b[0m in \u001b[0;36m<module>\u001b[0;34m\u001b[0m\n\u001b[1;32m      7\u001b[0m \u001b[0;32mimport\u001b[0m \u001b[0mglob\u001b[0m\u001b[0;34m\u001b[0m\u001b[0;34m\u001b[0m\u001b[0m\n\u001b[1;32m      8\u001b[0m \u001b[0;34m\u001b[0m\u001b[0m\n\u001b[0;32m----> 9\u001b[0;31m \u001b[0;32mimport\u001b[0m \u001b[0mneutronbraggedge\u001b[0m\u001b[0;34m\u001b[0m\u001b[0;34m\u001b[0m\u001b[0m\n\u001b[0m\u001b[1;32m     10\u001b[0m \u001b[0;32mfrom\u001b[0m \u001b[0mneutronbraggedge\u001b[0m\u001b[0;34m.\u001b[0m\u001b[0mexperiment_handler\u001b[0m \u001b[0;32mimport\u001b[0m \u001b[0;34m*\u001b[0m\u001b[0;34m\u001b[0m\u001b[0;34m\u001b[0m\u001b[0m\n\u001b[1;32m     11\u001b[0m \u001b[0;32mfrom\u001b[0m \u001b[0mneutronbraggedge\u001b[0m\u001b[0;34m.\u001b[0m\u001b[0mbraggedge\u001b[0m \u001b[0;32mimport\u001b[0m \u001b[0mBraggEdge\u001b[0m \u001b[0;32mas\u001b[0m \u001b[0mBraggEdgeLibrary\u001b[0m\u001b[0;34m\u001b[0m\u001b[0;34m\u001b[0m\u001b[0m\n",
      "\u001b[0;31mModuleNotFoundError\u001b[0m: No module named 'neutronbraggedge'"
     ]
    }
   ],
   "source": [
    "from __code import system\n",
    "from __code.bragg_edge import BraggEdge, Interface\n",
    "\n",
    "system.System.select_working_dir(facility='SNS', instrument='SNAP')\n",
    "from __code.__all import custom_style\n",
    "custom_style.style()\n",
    "\n",
    "from plotly.offline import plot, init_notebook_mode, iplot\n",
    "init_notebook_mode()"
   ]
  },
  {
   "cell_type": "markdown",
   "metadata": {
    "run_control": {
     "frozen": false,
     "read_only": false
    }
   },
   "source": [
    "# Select Input Folder\n",
    "\n",
    "Data and time spectra files will be loaded"
   ]
  },
  {
   "cell_type": "code",
   "execution_count": null,
   "metadata": {
    "run_control": {
     "frozen": false,
     "read_only": false
    }
   },
   "outputs": [],
   "source": [
    "o_bragg = BraggEdge(working_dir=system.System.get_working_dir())\n",
    "o_bragg.select_working_folder()"
   ]
  },
  {
   "cell_type": "markdown",
   "metadata": {
    "run_control": {
     "frozen": false,
     "read_only": false
    }
   },
   "source": [
    "## Select how many random files to use to select sample position"
   ]
  },
  {
   "cell_type": "code",
   "execution_count": null,
   "metadata": {
    "run_control": {
     "frozen": false,
     "read_only": false
    }
   },
   "outputs": [],
   "source": [
    "o_bragg.how_many_data_to_use_to_select_sample_roi()"
   ]
  },
  {
   "cell_type": "markdown",
   "metadata": {
    "run_control": {
     "frozen": false,
     "read_only": false
    }
   },
   "source": [
    "## Select location of sample on integrated image"
   ]
  },
  {
   "cell_type": "code",
   "execution_count": null,
   "metadata": {
    "run_control": {
     "frozen": false,
     "read_only": false
    }
   },
   "outputs": [],
   "source": [
    "o_bragg.define_sample_roi()\n",
    "o_interface = Interface(data=o_bragg.final_image)\n",
    "o_interface.show()"
   ]
  },
  {
   "cell_type": "markdown",
   "metadata": {},
   "source": [
    "# Powder element(s) to use to compare data  "
   ]
  },
  {
   "cell_type": "code",
   "execution_count": null,
   "metadata": {},
   "outputs": [],
   "source": [
    "o_bragg.list_elements()"
   ]
  },
  {
   "cell_type": "markdown",
   "metadata": {},
   "source": [
    "## List Bragg Edges "
   ]
  },
  {
   "cell_type": "code",
   "execution_count": null,
   "metadata": {},
   "outputs": [],
   "source": [
    "o_bragg.list_powder_bragg_edges()"
   ]
  },
  {
   "cell_type": "markdown",
   "metadata": {
    "run_control": {
     "frozen": false,
     "read_only": false
    }
   },
   "source": [
    "# Define Experiment Setup"
   ]
  },
  {
   "cell_type": "code",
   "execution_count": null,
   "metadata": {
    "run_control": {
     "frozen": false,
     "read_only": false
    }
   },
   "outputs": [],
   "source": [
    "o_bragg.exp_setup()"
   ]
  },
  {
   "cell_type": "markdown",
   "metadata": {
    "run_control": {
     "frozen": false,
     "read_only": false
    }
   },
   "source": [
    "# Display Bragg Edges vs Signal"
   ]
  },
  {
   "cell_type": "code",
   "execution_count": null,
   "metadata": {
    "run_control": {
     "frozen": false,
     "read_only": false
    }
   },
   "outputs": [],
   "source": [
    "o_bragg.calculate_counts_vs_file_index_of_regions_selected(list_roi=o_interface.list_roi)\n",
    "o_bragg.load_time_spectra()\n",
    "o_bragg.plot()"
   ]
  },
  {
   "cell_type": "code",
   "execution_count": null,
   "metadata": {},
   "outputs": [],
   "source": []
  }
 ],
 "metadata": {
  "kernelspec": {
   "display_name": "Python 3",
   "language": "python",
   "name": "python3"
  },
  "language_info": {
   "codemirror_mode": {
    "name": "ipython",
    "version": 3
   },
   "file_extension": ".py",
   "mimetype": "text/x-python",
   "name": "python",
   "nbconvert_exporter": "python",
   "pygments_lexer": "ipython3",
   "version": "3.6.9"
  },
  "toc": {
   "colors": {
    "hover_highlight": "#DAA520",
    "running_highlight": "#FF0000",
    "selected_highlight": "#FFD700"
   },
   "moveMenuLeft": true,
   "nav_menu": {
    "height": "48px",
    "width": "252px"
   },
   "navigate_menu": true,
   "number_sections": true,
   "sideBar": true,
   "threshold": 4,
   "toc_cell": false,
   "toc_section_display": "block",
   "toc_window_display": false
  }
 },
 "nbformat": 4,
 "nbformat_minor": 2
}
