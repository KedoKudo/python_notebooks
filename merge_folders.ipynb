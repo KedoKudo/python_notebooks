{
 "cells": [
  {
   "cell_type": "code",
   "execution_count": 1,
   "metadata": {
    "run_control": {
     "frozen": false,
     "read_only": false
    }
   },
   "outputs": [],
   "source": [
    "debugging = True\n",
    "IPTS = 19037"
   ]
  },
  {
   "cell_type": "markdown",
   "metadata": {
    "run_control": {
     "frozen": false,
     "read_only": false
    }
   },
   "source": [
    "# Description"
   ]
  },
  {
   "cell_type": "markdown",
   "metadata": {
    "run_control": {
     "frozen": false,
     "read_only": false
    }
   },
   "source": [
    "This notebook allows to combine (**add** or **mean**) images from different folders\n",
    "\n",
    "\n",
    "**INPUT**\n",
    "\n",
    "```\n",
    "folder_1\n",
    "   image001.fits\n",
    "   image002.fits\n",
    "   image003.fits\n",
    "   ....\n",
    "   \n",
    "folder_2\n",
    "    image001.fits\n",
    "    image002.fits\n",
    "    image003.fits\n",
    "    ...\n",
    "    \n",
    "...    \n",
    "    \n",
    "```\n",
    "**OUTPUT**\n",
    "\n",
    "```\n",
    "folder_combine\n",
    "    image001.fits\n",
    "    image002.fits\n",
    "    image003.fits\n",
    "    ...\n",
    "```\n",
    "\n"
   ]
  },
  {
   "cell_type": "markdown",
   "metadata": {
    "run_control": {
     "frozen": false,
     "read_only": false
    }
   },
   "source": [
    "# Python Import"
   ]
  },
  {
   "cell_type": "code",
   "execution_count": 2,
   "metadata": {
    "run_control": {
     "frozen": false,
     "read_only": false
    }
   },
   "outputs": [
    {
     "data": {
      "text/html": [
       "<style>\n",
       "\n",
       "/* The following CSS has been adapted from\n",
       "   http://nbviewer.ipython.org/github/ketch/teaching-numerics-with-notebooks/blob/master/Styling_notebooks.ipynb\n",
       "   by Aron Ahmadia and David Ketcheson and has been reused under CC BY 4.0\n",
       "   */\n",
       "\n",
       "/* main background */\n",
       "#site { \n",
       "    background: #888;\n",
       "    color: #red; \n",
       "}\n",
       "\n",
       "div.container {\n",
       "    width: 100% ! important;\n",
       "}\n",
       "\n",
       "div.cell { /* set cell width to about 80 chars */\n",
       "    width: 95%;\n",
       "}\n",
       "\n",
       "div #notebook { /* centre the content */\n",
       "/*    background: #fff; /* white background for content */\n",
       "    background: blue;\n",
       "    width: 100%;\n",
       "    margin: auto;\n",
       "    padding-left: 1em;\n",
       "    padding-right: 1em;\n",
       "    background-image: url(\"tile_background.jpg\");\n",
       "}\n",
       "\n",
       "#notebook li { /* More space between bullet points */\n",
       "    margin-top:0.4em;\n",
       "}\n",
       "\n",
       "/* change background color of running cells */\n",
       "div.cell.code_cell.running {\n",
       "/*    background-color: rgba(164,188,194,.75); */\n",
       "    background-color: green;\n",
       "    border-width: 8px\n",
       "    border-style: solid\n",
       "    border-color: #111;\n",
       "}\n",
       "\n",
       "/* Put a solid color box around each cell and its output, visually linking them together */\n",
       "div.cell.code_cell {\n",
       "    background-color: rgba(164,188,194,.25); /* Continuum L Gray with alpha 0.25 */\n",
       "    border-radius: 10px; /* rounded borders */\n",
       "    padding: 1em;\n",
       "    margin-top: 1em;\n",
       "}\n",
       "\n",
       "div.text_cell_render{\n",
       "\tfont-family: Georgia, Times, 'Times New Roman', serif;\n",
       "    line-height: 110%;\n",
       "    font-size: 105%;\n",
       "    width: 95%;\n",
       "    margin-left: auto;\n",
       "    margin-right: auto;\n",
       "}\n",
       "\n",
       "\n",
       "/* Formatting for header cells */\n",
       ".text_cell_render h1 {\n",
       "\tfont-family: Arial, 'Helvetica Neue', Helvetica, sans-serif;\n",
       "    font-weight: 400;\n",
       "    font-size: 30pt;\n",
       "    line-height: 100%;\n",
       "    color: rgb(37,55,70); /* Continuum Blue*/\n",
       "    margin-bottom: 0.1em;\n",
       "    margin-top: 0.1em;\n",
       "    display: block;\n",
       "}\n",
       ".text_cell_render h2 {\n",
       "\tfont-family: Arial, 'Helvetica Neue', Helvetica, sans-serif;\n",
       "    font-weight: 700;\n",
       "    font-size: 22pt;\n",
       "    line-height: 100%;\n",
       "    color: rgb(37,55,70);\n",
       "    margin-bottom: 0.1em;\n",
       "    margin-top: 0.1em;\n",
       "    display: block;\n",
       "}\n",
       "\n",
       ".text_cell_render h3 {\n",
       "\tfont-family: Arial, 'Helvetica Neue', Helvetica, sans-serif;\n",
       "    margin-top:12px;\n",
       "    margin-bottom: 3px;\n",
       "    font-style: italic;\n",
       "    color: rgb(37, 55, 70);\n",
       "}\n",
       "\n",
       ".text_cell_render h4 {\n",
       "\tfont-family: Arial, 'Helvetica Neue', Helvetica, sans-serif;\n",
       "}\n",
       "\n",
       ".text_cell_render h5 {\n",
       "\tfont-family: Arial, 'Helvetica Neue', Helvetica, sans-serif;\n",
       "    font-weight: 300;\n",
       "    font-size: 14pt;\n",
       "    font-style: italic;\n",
       "    margin-bottom: .1em;\n",
       "    margin-top: 0.1em;\n",
       "    display: block;\n",
       "}\n",
       "\n",
       ".text_cell_render h6 {\n",
       "\tfont-family: Arial, 'Helvetica Neue', Helvetica, sans-serif;\n",
       "    font-weight: 300;\n",
       "    font-size: 10pt;\n",
       "    margin-bottom: 1px;\n",
       "    margin-top: 1px;\n",
       "}\n",
       "\n",
       ".CodeMirror{\n",
       "        font-family: \"PT Mono\", fixed;\n",
       "        font-size: 100%;\n",
       "}\n",
       "\n",
       "#notebook_panel { /* main background */\n",
       "    background-image: url(\"tile_background.jpg\");\n",
       "}\n",
       "\n",
       "\n",
       "\n",
       "\n",
       "</style>\n"
      ],
      "text/plain": [
       "<IPython.core.display.HTML object>"
      ]
     },
     "execution_count": 2,
     "metadata": {},
     "output_type": "execute_result"
    }
   ],
   "source": [
    "from __code.__all import custom_style\n",
    "custom_style.style()"
   ]
  },
  {
   "cell_type": "code",
   "execution_count": 3,
   "metadata": {
    "run_control": {
     "frozen": false,
     "read_only": false
    }
   },
   "outputs": [
    {
     "name": "stdout",
     "output_type": "stream",
     "text": [
      "Working dir: /Volumes/my_book_thunderbolt_duo/IPTS/IPTS_19037\n"
     ]
    }
   ],
   "source": [
    "from __code.merge_folders import MergeFolders\n",
    "from __code import utilities\n",
    "\n",
    "working_dir = utilities.get_working_dir(ipts=IPTS, debugging=debugging)\n",
    "print(\"Working dir: {}\".format(working_dir))"
   ]
  },
  {
   "cell_type": "markdown",
   "metadata": {
    "run_control": {
     "frozen": false,
     "read_only": false
    }
   },
   "source": [
    "# Select Folders to Merge "
   ]
  },
  {
   "cell_type": "code",
   "execution_count": 4,
   "metadata": {
    "run_control": {
     "frozen": false,
     "read_only": false
    }
   },
   "outputs": [
    {
     "data": {
      "application/vnd.jupyter.widget-view+json": {
       "model_id": "ce0449a0094c45f682a405a58e430875",
       "version_major": 2,
       "version_minor": 0
      },
      "text/plain": [
       "A Jupyter Widget"
      ]
     },
     "metadata": {},
     "output_type": "display_data"
    },
    {
     "data": {
      "text/html": [
       "\n",
       "        <style type=\"text/css\">\n",
       "        .jupyter-widgets select option {\n",
       "            font-family: \"Lucida Console\", Monaco, monospace;\n",
       "        }\n",
       "        </style>\n",
       "        "
      ],
      "text/plain": [
       "<IPython.core.display.HTML object>"
      ]
     },
     "metadata": {},
     "output_type": "display_data"
    },
    {
     "data": {
      "application/vnd.jupyter.widget-view+json": {
       "model_id": "5467fd4e0c244be2912d8d2dfefa8d1b",
       "version_major": 2,
       "version_minor": 0
      },
      "text/plain": [
       "A Jupyter Widget"
      ]
     },
     "metadata": {},
     "output_type": "display_data"
    },
    {
     "data": {
      "application/vnd.jupyter.widget-view+json": {
       "model_id": "2699bf0be92f453bbf2cf7976613cb5e",
       "version_major": 2,
       "version_minor": 0
      },
      "text/plain": [
       "A Jupyter Widget"
      ]
     },
     "metadata": {},
     "output_type": "display_data"
    },
    {
     "data": {
      "text/html": [
       "\n",
       "        <style type=\"text/css\">\n",
       "        .jupyter-widgets select option {\n",
       "            font-family: \"Lucida Console\", Monaco, monospace;\n",
       "        }\n",
       "        </style>\n",
       "        "
      ],
      "text/plain": [
       "<IPython.core.display.HTML object>"
      ]
     },
     "metadata": {},
     "output_type": "display_data"
    },
    {
     "data": {
      "application/vnd.jupyter.widget-view+json": {
       "model_id": "723a62a23f844f93a86a0bf27ec1498a",
       "version_major": 2,
       "version_minor": 0
      },
      "text/plain": [
       "A Jupyter Widget"
      ]
     },
     "metadata": {},
     "output_type": "display_data"
    }
   ],
   "source": [
    "o_merge = MergeFolders(working_dir=working_dir)\n",
    "o_merge.select_folders()"
   ]
  },
  {
   "cell_type": "markdown",
   "metadata": {
    "run_control": {
     "frozen": false,
     "read_only": false
    }
   },
   "source": [
    "Checking that number of files in each folder is identical"
   ]
  },
  {
   "cell_type": "code",
   "execution_count": 5,
   "metadata": {
    "run_control": {
     "frozen": false,
     "read_only": false
    }
   },
   "outputs": [
    {
     "data": {
      "text/html": [
       "<span style=\"font-size: 20px; color:green\">All the folders selected contain the same number of files (2 files each)!</span>"
      ],
      "text/plain": [
       "<IPython.core.display.HTML object>"
      ]
     },
     "metadata": {},
     "output_type": "display_data"
    }
   ],
   "source": [
    "o_merge.check_number_of_files()"
   ]
  },
  {
   "cell_type": "markdown",
   "metadata": {
    "run_control": {
     "frozen": false,
     "read_only": false
    }
   },
   "source": [
    "# Merging Method"
   ]
  },
  {
   "cell_type": "markdown",
   "metadata": {
    "run_control": {
     "frozen": false,
     "read_only": false
    }
   },
   "source": [
    "## How many folders do you want to combine together"
   ]
  },
  {
   "cell_type": "markdown",
   "metadata": {
    "run_control": {
     "frozen": false,
     "read_only": false
    }
   },
   "source": [
    "ex: **2** will combine the first 2 folders selected, then the next 2, ...."
   ]
  },
  {
   "cell_type": "code",
   "execution_count": 6,
   "metadata": {
    "run_control": {
     "frozen": false,
     "read_only": false
    },
    "scrolled": true
   },
   "outputs": [
    {
     "data": {
      "application/vnd.jupyter.widget-view+json": {
       "model_id": "40e0cdddc6e04043b47942eddf5bf6e2",
       "version_major": 2,
       "version_minor": 0
      },
      "text/plain": [
       "A Jupyter Widget"
      ]
     },
     "metadata": {},
     "output_type": "display_data"
    }
   ],
   "source": [
    "o_merge.how_many_folders()"
   ]
  },
  {
   "cell_type": "markdown",
   "metadata": {
    "run_control": {
     "frozen": false,
     "read_only": false
    }
   },
   "source": [
    "##  How do you want to combine them"
   ]
  },
  {
   "cell_type": "code",
   "execution_count": 7,
   "metadata": {
    "run_control": {
     "frozen": false,
     "read_only": false
    }
   },
   "outputs": [
    {
     "data": {
      "application/vnd.jupyter.widget-view+json": {
       "model_id": "f09f93d229ee4d6982b9f17c806c9c14",
       "version_major": 2,
       "version_minor": 0
      },
      "text/plain": [
       "A Jupyter Widget"
      ]
     },
     "metadata": {},
     "output_type": "display_data"
    }
   ],
   "source": [
    "o_merge.how_to_combine()"
   ]
  },
  {
   "cell_type": "markdown",
   "metadata": {
    "run_control": {
     "frozen": false,
     "read_only": false
    }
   },
   "source": [
    "# Merging "
   ]
  },
  {
   "cell_type": "code",
   "execution_count": 8,
   "metadata": {
    "collapsed": true
   },
   "outputs": [],
   "source": [
    "import pprint\n",
    "\n",
    "from ipywidgets import widgets\n",
    "from IPython.core.display import display, HTML"
   ]
  },
  {
   "cell_type": "code",
   "execution_count": 9,
   "metadata": {},
   "outputs": [
    {
     "data": {
      "application/vnd.jupyter.widget-view+json": {
       "model_id": "e43d65bd6a984695acacb23719bd002f",
       "version_major": 2,
       "version_minor": 0
      },
      "text/plain": [
       "A Jupyter Widget"
      ]
     },
     "metadata": {},
     "output_type": "display_data"
    },
    {
     "data": {
      "application/vnd.jupyter.widget-view+json": {
       "model_id": "3c4183d9019741edb96c3166f46c9e27",
       "version_major": 2,
       "version_minor": 0
      },
      "text/plain": [
       "A Jupyter Widget"
      ]
     },
     "metadata": {},
     "output_type": "display_data"
    }
   ],
   "source": [
    "# create merging dictionary\n",
    "merging_value = np.int(o_merge.bin_size.value)\n",
    "list_folders_short = o_merge.list_folders_short\n",
    "list_files_dict = o_merge.list_files_dict\n",
    "\n",
    "_index_folder = 0\n",
    "merging_dict = {}\n",
    "while (_index_folder < len(list_folders_short)):\n",
    "    _new_folder_name_list = []\n",
    "    from_index = _index_folder\n",
    "    to_index = from_index + merging_value\n",
    "    if to_index >= len(list_folders_short):\n",
    "        break\n",
    "    \n",
    "    _tmp_list_folder = []\n",
    "    for _index in np.arange(from_index, to_index):\n",
    "        _current_short_folder_name = list_folders_short[_index]\n",
    "        _tmp_list_folder.append(_current_short_folder_name)\n",
    "        _new_folder_name_list.append(_current_short_folder_name)\n",
    "        \n",
    "#        _list_files_for_this_folder = list_files_dict[_current_short_folder_name]\n",
    "        \n",
    "    new_folder_name = \"_\".join(_new_folder_name_list)\n",
    "    merging_dict[new_folder_name] = _tmp_list_folder\n",
    "#     print(\"new_folder_name is: {}\".format(new_folder_name))\n",
    "\n",
    "    _index_folder += merging_value\n",
    "    \n",
    "# pprint.pprint(merging_dict)\n",
    "    \n",
    "# going over merging dictionary to create final list of files to merge\n",
    "final_list_of_files_to_merge = {}\n",
    "for _key in merging_dict.keys():\n",
    "    _list_folder_to_add = merging_dict[_key]\n",
    "    _tmp_list_files_to_merge = []\n",
    "    for _folder in _list_folder_to_add:\n",
    "        _tmp_list_files_to_merge.append(list_files_dict[_folder]['list_files'])\n",
    "    final_list_of_files_to_merge[_key] = list(zip(*_tmp_list_files_to_merge))\n",
    "    \n",
    "# merging files\n",
    "final_nbr_folders = len(merging_dict.keys())\n",
    "folder_level = widgets.HBox([widgets.Label(\"Folder Progress:\",\n",
    "                                          layout=widgets.Layout(width='10%')),\n",
    "                            widgets.IntProgress(max=final_nbr_folders,\n",
    "                                               layout=widgets.Layout(width='50%'))])\n",
    "display(folder_level)\n",
    "w1 = folder_level.children[1]\n",
    "\n",
    "nbr_files_to_merge = o_merge.nbr_files_in_each_folder\n",
    "file_level = widgets.HBox([widgets.Label(\"File Progress:\",\n",
    "                                        layout=widgets.Layout(width='10%')),\n",
    "                          widgets.IntProgress(max=nbr_files_to_merge,\n",
    "                                             layout=widgets.Layout(width='50%'))])\n",
    "display(file_level)\n",
    "w2 = file_level.children[1]\n",
    "\n",
    "# work in progress here\n",
    "\n"
   ]
  },
  {
   "cell_type": "code",
   "execution_count": 14,
   "metadata": {},
   "outputs": [
    {
     "data": {
      "text/plain": [
       "{'Image001_Image002': [('/Volumes/my_book_thunderbolt_duo/IPTS/IPTS_19037/deal_light_version/Image001/image_00000.fits',\n",
       "   '/Volumes/my_book_thunderbolt_duo/IPTS/IPTS_19037/deal_light_version/Image002/image_00000.fits'),\n",
       "  ('/Volumes/my_book_thunderbolt_duo/IPTS/IPTS_19037/deal_light_version/Image001/image_00001.fits',\n",
       "   '/Volumes/my_book_thunderbolt_duo/IPTS/IPTS_19037/deal_light_version/Image002/image_00001.fits'),\n",
       "  ('/Volumes/my_book_thunderbolt_duo/IPTS/IPTS_19037/deal_light_version/Image001/image_00002.fits',\n",
       "   '/Volumes/my_book_thunderbolt_duo/IPTS/IPTS_19037/deal_light_version/Image002/image_00002.fits'),\n",
       "  ('/Volumes/my_book_thunderbolt_duo/IPTS/IPTS_19037/deal_light_version/Image001/image_00003.fits',\n",
       "   '/Volumes/my_book_thunderbolt_duo/IPTS/IPTS_19037/deal_light_version/Image002/image_00003.fits'),\n",
       "  ('/Volumes/my_book_thunderbolt_duo/IPTS/IPTS_19037/deal_light_version/Image001/image_00004.fits',\n",
       "   '/Volumes/my_book_thunderbolt_duo/IPTS/IPTS_19037/deal_light_version/Image002/image_00004.fits'),\n",
       "  ('/Volumes/my_book_thunderbolt_duo/IPTS/IPTS_19037/deal_light_version/Image001/image_00005.fits',\n",
       "   '/Volumes/my_book_thunderbolt_duo/IPTS/IPTS_19037/deal_light_version/Image002/image_00005.fits'),\n",
       "  ('/Volumes/my_book_thunderbolt_duo/IPTS/IPTS_19037/deal_light_version/Image001/image_00006.fits',\n",
       "   '/Volumes/my_book_thunderbolt_duo/IPTS/IPTS_19037/deal_light_version/Image002/image_00006.fits'),\n",
       "  ('/Volumes/my_book_thunderbolt_duo/IPTS/IPTS_19037/deal_light_version/Image001/image_00007.fits',\n",
       "   '/Volumes/my_book_thunderbolt_duo/IPTS/IPTS_19037/deal_light_version/Image002/image_00007.fits'),\n",
       "  ('/Volumes/my_book_thunderbolt_duo/IPTS/IPTS_19037/deal_light_version/Image001/image_00008.fits',\n",
       "   '/Volumes/my_book_thunderbolt_duo/IPTS/IPTS_19037/deal_light_version/Image002/image_00008.fits'),\n",
       "  ('/Volumes/my_book_thunderbolt_duo/IPTS/IPTS_19037/deal_light_version/Image001/image_00009.fits',\n",
       "   '/Volumes/my_book_thunderbolt_duo/IPTS/IPTS_19037/deal_light_version/Image002/image_00009.fits'),\n",
       "  ('/Volumes/my_book_thunderbolt_duo/IPTS/IPTS_19037/deal_light_version/Image001/image_00010.fits',\n",
       "   '/Volumes/my_book_thunderbolt_duo/IPTS/IPTS_19037/deal_light_version/Image002/image_00010.fits'),\n",
       "  ('/Volumes/my_book_thunderbolt_duo/IPTS/IPTS_19037/deal_light_version/Image001/image_00011.fits',\n",
       "   '/Volumes/my_book_thunderbolt_duo/IPTS/IPTS_19037/deal_light_version/Image002/image_00011.fits'),\n",
       "  ('/Volumes/my_book_thunderbolt_duo/IPTS/IPTS_19037/deal_light_version/Image001/image_00012.fits',\n",
       "   '/Volumes/my_book_thunderbolt_duo/IPTS/IPTS_19037/deal_light_version/Image002/image_00012.fits'),\n",
       "  ('/Volumes/my_book_thunderbolt_duo/IPTS/IPTS_19037/deal_light_version/Image001/image_00013.fits',\n",
       "   '/Volumes/my_book_thunderbolt_duo/IPTS/IPTS_19037/deal_light_version/Image002/image_00013.fits'),\n",
       "  ('/Volumes/my_book_thunderbolt_duo/IPTS/IPTS_19037/deal_light_version/Image001/image_00014.fits',\n",
       "   '/Volumes/my_book_thunderbolt_duo/IPTS/IPTS_19037/deal_light_version/Image002/image_00014.fits'),\n",
       "  ('/Volumes/my_book_thunderbolt_duo/IPTS/IPTS_19037/deal_light_version/Image001/image_00015.fits',\n",
       "   '/Volumes/my_book_thunderbolt_duo/IPTS/IPTS_19037/deal_light_version/Image002/image_00015.fits'),\n",
       "  ('/Volumes/my_book_thunderbolt_duo/IPTS/IPTS_19037/deal_light_version/Image001/image_00016.fits',\n",
       "   '/Volumes/my_book_thunderbolt_duo/IPTS/IPTS_19037/deal_light_version/Image002/image_00016.fits'),\n",
       "  ('/Volumes/my_book_thunderbolt_duo/IPTS/IPTS_19037/deal_light_version/Image001/image_00017.fits',\n",
       "   '/Volumes/my_book_thunderbolt_duo/IPTS/IPTS_19037/deal_light_version/Image002/image_00017.fits'),\n",
       "  ('/Volumes/my_book_thunderbolt_duo/IPTS/IPTS_19037/deal_light_version/Image001/image_00018.fits',\n",
       "   '/Volumes/my_book_thunderbolt_duo/IPTS/IPTS_19037/deal_light_version/Image002/image_00018.fits'),\n",
       "  ('/Volumes/my_book_thunderbolt_duo/IPTS/IPTS_19037/deal_light_version/Image001/image_00019.fits',\n",
       "   '/Volumes/my_book_thunderbolt_duo/IPTS/IPTS_19037/deal_light_version/Image002/image_00019.fits'),\n",
       "  ('/Volumes/my_book_thunderbolt_duo/IPTS/IPTS_19037/deal_light_version/Image001/image_00020.fits',\n",
       "   '/Volumes/my_book_thunderbolt_duo/IPTS/IPTS_19037/deal_light_version/Image002/image_00020.fits')],\n",
       " 'Image003_Image004': [('/Volumes/my_book_thunderbolt_duo/IPTS/IPTS_19037/deal_light_version/Image003/image_00000.fits',\n",
       "   '/Volumes/my_book_thunderbolt_duo/IPTS/IPTS_19037/deal_light_version/Image004/image_00000.fits'),\n",
       "  ('/Volumes/my_book_thunderbolt_duo/IPTS/IPTS_19037/deal_light_version/Image003/image_00001.fits',\n",
       "   '/Volumes/my_book_thunderbolt_duo/IPTS/IPTS_19037/deal_light_version/Image004/image_00001.fits'),\n",
       "  ('/Volumes/my_book_thunderbolt_duo/IPTS/IPTS_19037/deal_light_version/Image003/image_00002.fits',\n",
       "   '/Volumes/my_book_thunderbolt_duo/IPTS/IPTS_19037/deal_light_version/Image004/image_00002.fits'),\n",
       "  ('/Volumes/my_book_thunderbolt_duo/IPTS/IPTS_19037/deal_light_version/Image003/image_00003.fits',\n",
       "   '/Volumes/my_book_thunderbolt_duo/IPTS/IPTS_19037/deal_light_version/Image004/image_00003.fits'),\n",
       "  ('/Volumes/my_book_thunderbolt_duo/IPTS/IPTS_19037/deal_light_version/Image003/image_00004.fits',\n",
       "   '/Volumes/my_book_thunderbolt_duo/IPTS/IPTS_19037/deal_light_version/Image004/image_00004.fits'),\n",
       "  ('/Volumes/my_book_thunderbolt_duo/IPTS/IPTS_19037/deal_light_version/Image003/image_00005.fits',\n",
       "   '/Volumes/my_book_thunderbolt_duo/IPTS/IPTS_19037/deal_light_version/Image004/image_00005.fits'),\n",
       "  ('/Volumes/my_book_thunderbolt_duo/IPTS/IPTS_19037/deal_light_version/Image003/image_00006.fits',\n",
       "   '/Volumes/my_book_thunderbolt_duo/IPTS/IPTS_19037/deal_light_version/Image004/image_00006.fits'),\n",
       "  ('/Volumes/my_book_thunderbolt_duo/IPTS/IPTS_19037/deal_light_version/Image003/image_00007.fits',\n",
       "   '/Volumes/my_book_thunderbolt_duo/IPTS/IPTS_19037/deal_light_version/Image004/image_00007.fits'),\n",
       "  ('/Volumes/my_book_thunderbolt_duo/IPTS/IPTS_19037/deal_light_version/Image003/image_00008.fits',\n",
       "   '/Volumes/my_book_thunderbolt_duo/IPTS/IPTS_19037/deal_light_version/Image004/image_00008.fits'),\n",
       "  ('/Volumes/my_book_thunderbolt_duo/IPTS/IPTS_19037/deal_light_version/Image003/image_00009.fits',\n",
       "   '/Volumes/my_book_thunderbolt_duo/IPTS/IPTS_19037/deal_light_version/Image004/image_00009.fits'),\n",
       "  ('/Volumes/my_book_thunderbolt_duo/IPTS/IPTS_19037/deal_light_version/Image003/image_00010.fits',\n",
       "   '/Volumes/my_book_thunderbolt_duo/IPTS/IPTS_19037/deal_light_version/Image004/image_00010.fits'),\n",
       "  ('/Volumes/my_book_thunderbolt_duo/IPTS/IPTS_19037/deal_light_version/Image003/image_00011.fits',\n",
       "   '/Volumes/my_book_thunderbolt_duo/IPTS/IPTS_19037/deal_light_version/Image004/image_00011.fits'),\n",
       "  ('/Volumes/my_book_thunderbolt_duo/IPTS/IPTS_19037/deal_light_version/Image003/image_00012.fits',\n",
       "   '/Volumes/my_book_thunderbolt_duo/IPTS/IPTS_19037/deal_light_version/Image004/image_00012.fits'),\n",
       "  ('/Volumes/my_book_thunderbolt_duo/IPTS/IPTS_19037/deal_light_version/Image003/image_00013.fits',\n",
       "   '/Volumes/my_book_thunderbolt_duo/IPTS/IPTS_19037/deal_light_version/Image004/image_00013.fits'),\n",
       "  ('/Volumes/my_book_thunderbolt_duo/IPTS/IPTS_19037/deal_light_version/Image003/image_00014.fits',\n",
       "   '/Volumes/my_book_thunderbolt_duo/IPTS/IPTS_19037/deal_light_version/Image004/image_00014.fits'),\n",
       "  ('/Volumes/my_book_thunderbolt_duo/IPTS/IPTS_19037/deal_light_version/Image003/image_00015.fits',\n",
       "   '/Volumes/my_book_thunderbolt_duo/IPTS/IPTS_19037/deal_light_version/Image004/image_00015.fits'),\n",
       "  ('/Volumes/my_book_thunderbolt_duo/IPTS/IPTS_19037/deal_light_version/Image003/image_00016.fits',\n",
       "   '/Volumes/my_book_thunderbolt_duo/IPTS/IPTS_19037/deal_light_version/Image004/image_00016.fits'),\n",
       "  ('/Volumes/my_book_thunderbolt_duo/IPTS/IPTS_19037/deal_light_version/Image003/image_00017.fits',\n",
       "   '/Volumes/my_book_thunderbolt_duo/IPTS/IPTS_19037/deal_light_version/Image004/image_00017.fits'),\n",
       "  ('/Volumes/my_book_thunderbolt_duo/IPTS/IPTS_19037/deal_light_version/Image003/image_00018.fits',\n",
       "   '/Volumes/my_book_thunderbolt_duo/IPTS/IPTS_19037/deal_light_version/Image004/image_00018.fits'),\n",
       "  ('/Volumes/my_book_thunderbolt_duo/IPTS/IPTS_19037/deal_light_version/Image003/image_00019.fits',\n",
       "   '/Volumes/my_book_thunderbolt_duo/IPTS/IPTS_19037/deal_light_version/Image004/image_00019.fits'),\n",
       "  ('/Volumes/my_book_thunderbolt_duo/IPTS/IPTS_19037/deal_light_version/Image003/image_00020.fits',\n",
       "   '/Volumes/my_book_thunderbolt_duo/IPTS/IPTS_19037/deal_light_version/Image004/image_00020.fits')],\n",
       " 'Image005_Image006': [('/Volumes/my_book_thunderbolt_duo/IPTS/IPTS_19037/deal_light_version/Image005/image_00000.fits',\n",
       "   '/Volumes/my_book_thunderbolt_duo/IPTS/IPTS_19037/deal_light_version/Image006/image_00000.fits'),\n",
       "  ('/Volumes/my_book_thunderbolt_duo/IPTS/IPTS_19037/deal_light_version/Image005/image_00001.fits',\n",
       "   '/Volumes/my_book_thunderbolt_duo/IPTS/IPTS_19037/deal_light_version/Image006/image_00001.fits'),\n",
       "  ('/Volumes/my_book_thunderbolt_duo/IPTS/IPTS_19037/deal_light_version/Image005/image_00002.fits',\n",
       "   '/Volumes/my_book_thunderbolt_duo/IPTS/IPTS_19037/deal_light_version/Image006/image_00002.fits'),\n",
       "  ('/Volumes/my_book_thunderbolt_duo/IPTS/IPTS_19037/deal_light_version/Image005/image_00003.fits',\n",
       "   '/Volumes/my_book_thunderbolt_duo/IPTS/IPTS_19037/deal_light_version/Image006/image_00003.fits'),\n",
       "  ('/Volumes/my_book_thunderbolt_duo/IPTS/IPTS_19037/deal_light_version/Image005/image_00004.fits',\n",
       "   '/Volumes/my_book_thunderbolt_duo/IPTS/IPTS_19037/deal_light_version/Image006/image_00004.fits'),\n",
       "  ('/Volumes/my_book_thunderbolt_duo/IPTS/IPTS_19037/deal_light_version/Image005/image_00005.fits',\n",
       "   '/Volumes/my_book_thunderbolt_duo/IPTS/IPTS_19037/deal_light_version/Image006/image_00005.fits'),\n",
       "  ('/Volumes/my_book_thunderbolt_duo/IPTS/IPTS_19037/deal_light_version/Image005/image_00006.fits',\n",
       "   '/Volumes/my_book_thunderbolt_duo/IPTS/IPTS_19037/deal_light_version/Image006/image_00006.fits'),\n",
       "  ('/Volumes/my_book_thunderbolt_duo/IPTS/IPTS_19037/deal_light_version/Image005/image_00007.fits',\n",
       "   '/Volumes/my_book_thunderbolt_duo/IPTS/IPTS_19037/deal_light_version/Image006/image_00007.fits'),\n",
       "  ('/Volumes/my_book_thunderbolt_duo/IPTS/IPTS_19037/deal_light_version/Image005/image_00008.fits',\n",
       "   '/Volumes/my_book_thunderbolt_duo/IPTS/IPTS_19037/deal_light_version/Image006/image_00008.fits'),\n",
       "  ('/Volumes/my_book_thunderbolt_duo/IPTS/IPTS_19037/deal_light_version/Image005/image_00009.fits',\n",
       "   '/Volumes/my_book_thunderbolt_duo/IPTS/IPTS_19037/deal_light_version/Image006/image_00009.fits'),\n",
       "  ('/Volumes/my_book_thunderbolt_duo/IPTS/IPTS_19037/deal_light_version/Image005/image_00010.fits',\n",
       "   '/Volumes/my_book_thunderbolt_duo/IPTS/IPTS_19037/deal_light_version/Image006/image_00010.fits'),\n",
       "  ('/Volumes/my_book_thunderbolt_duo/IPTS/IPTS_19037/deal_light_version/Image005/image_00011.fits',\n",
       "   '/Volumes/my_book_thunderbolt_duo/IPTS/IPTS_19037/deal_light_version/Image006/image_00011.fits'),\n",
       "  ('/Volumes/my_book_thunderbolt_duo/IPTS/IPTS_19037/deal_light_version/Image005/image_00012.fits',\n",
       "   '/Volumes/my_book_thunderbolt_duo/IPTS/IPTS_19037/deal_light_version/Image006/image_00012.fits'),\n",
       "  ('/Volumes/my_book_thunderbolt_duo/IPTS/IPTS_19037/deal_light_version/Image005/image_00013.fits',\n",
       "   '/Volumes/my_book_thunderbolt_duo/IPTS/IPTS_19037/deal_light_version/Image006/image_00013.fits'),\n",
       "  ('/Volumes/my_book_thunderbolt_duo/IPTS/IPTS_19037/deal_light_version/Image005/image_00014.fits',\n",
       "   '/Volumes/my_book_thunderbolt_duo/IPTS/IPTS_19037/deal_light_version/Image006/image_00014.fits'),\n",
       "  ('/Volumes/my_book_thunderbolt_duo/IPTS/IPTS_19037/deal_light_version/Image005/image_00015.fits',\n",
       "   '/Volumes/my_book_thunderbolt_duo/IPTS/IPTS_19037/deal_light_version/Image006/image_00015.fits'),\n",
       "  ('/Volumes/my_book_thunderbolt_duo/IPTS/IPTS_19037/deal_light_version/Image005/image_00016.fits',\n",
       "   '/Volumes/my_book_thunderbolt_duo/IPTS/IPTS_19037/deal_light_version/Image006/image_00016.fits'),\n",
       "  ('/Volumes/my_book_thunderbolt_duo/IPTS/IPTS_19037/deal_light_version/Image005/image_00017.fits',\n",
       "   '/Volumes/my_book_thunderbolt_duo/IPTS/IPTS_19037/deal_light_version/Image006/image_00017.fits'),\n",
       "  ('/Volumes/my_book_thunderbolt_duo/IPTS/IPTS_19037/deal_light_version/Image005/image_00018.fits',\n",
       "   '/Volumes/my_book_thunderbolt_duo/IPTS/IPTS_19037/deal_light_version/Image006/image_00018.fits'),\n",
       "  ('/Volumes/my_book_thunderbolt_duo/IPTS/IPTS_19037/deal_light_version/Image005/image_00019.fits',\n",
       "   '/Volumes/my_book_thunderbolt_duo/IPTS/IPTS_19037/deal_light_version/Image006/image_00019.fits'),\n",
       "  ('/Volumes/my_book_thunderbolt_duo/IPTS/IPTS_19037/deal_light_version/Image005/image_00020.fits',\n",
       "   '/Volumes/my_book_thunderbolt_duo/IPTS/IPTS_19037/deal_light_version/Image006/image_00020.fits')],\n",
       " 'Image007_Image008': [('/Volumes/my_book_thunderbolt_duo/IPTS/IPTS_19037/deal_light_version/Image007/image_00000.fits',\n",
       "   '/Volumes/my_book_thunderbolt_duo/IPTS/IPTS_19037/deal_light_version/Image008/image_00000.fits'),\n",
       "  ('/Volumes/my_book_thunderbolt_duo/IPTS/IPTS_19037/deal_light_version/Image007/image_00001.fits',\n",
       "   '/Volumes/my_book_thunderbolt_duo/IPTS/IPTS_19037/deal_light_version/Image008/image_00001.fits'),\n",
       "  ('/Volumes/my_book_thunderbolt_duo/IPTS/IPTS_19037/deal_light_version/Image007/image_00002.fits',\n",
       "   '/Volumes/my_book_thunderbolt_duo/IPTS/IPTS_19037/deal_light_version/Image008/image_00002.fits'),\n",
       "  ('/Volumes/my_book_thunderbolt_duo/IPTS/IPTS_19037/deal_light_version/Image007/image_00003.fits',\n",
       "   '/Volumes/my_book_thunderbolt_duo/IPTS/IPTS_19037/deal_light_version/Image008/image_00003.fits'),\n",
       "  ('/Volumes/my_book_thunderbolt_duo/IPTS/IPTS_19037/deal_light_version/Image007/image_00004.fits',\n",
       "   '/Volumes/my_book_thunderbolt_duo/IPTS/IPTS_19037/deal_light_version/Image008/image_00004.fits'),\n",
       "  ('/Volumes/my_book_thunderbolt_duo/IPTS/IPTS_19037/deal_light_version/Image007/image_00005.fits',\n",
       "   '/Volumes/my_book_thunderbolt_duo/IPTS/IPTS_19037/deal_light_version/Image008/image_00005.fits'),\n",
       "  ('/Volumes/my_book_thunderbolt_duo/IPTS/IPTS_19037/deal_light_version/Image007/image_00006.fits',\n",
       "   '/Volumes/my_book_thunderbolt_duo/IPTS/IPTS_19037/deal_light_version/Image008/image_00006.fits'),\n",
       "  ('/Volumes/my_book_thunderbolt_duo/IPTS/IPTS_19037/deal_light_version/Image007/image_00007.fits',\n",
       "   '/Volumes/my_book_thunderbolt_duo/IPTS/IPTS_19037/deal_light_version/Image008/image_00007.fits'),\n",
       "  ('/Volumes/my_book_thunderbolt_duo/IPTS/IPTS_19037/deal_light_version/Image007/image_00008.fits',\n",
       "   '/Volumes/my_book_thunderbolt_duo/IPTS/IPTS_19037/deal_light_version/Image008/image_00008.fits'),\n",
       "  ('/Volumes/my_book_thunderbolt_duo/IPTS/IPTS_19037/deal_light_version/Image007/image_00009.fits',\n",
       "   '/Volumes/my_book_thunderbolt_duo/IPTS/IPTS_19037/deal_light_version/Image008/image_00009.fits'),\n",
       "  ('/Volumes/my_book_thunderbolt_duo/IPTS/IPTS_19037/deal_light_version/Image007/image_00010.fits',\n",
       "   '/Volumes/my_book_thunderbolt_duo/IPTS/IPTS_19037/deal_light_version/Image008/image_00010.fits'),\n",
       "  ('/Volumes/my_book_thunderbolt_duo/IPTS/IPTS_19037/deal_light_version/Image007/image_00011.fits',\n",
       "   '/Volumes/my_book_thunderbolt_duo/IPTS/IPTS_19037/deal_light_version/Image008/image_00011.fits'),\n",
       "  ('/Volumes/my_book_thunderbolt_duo/IPTS/IPTS_19037/deal_light_version/Image007/image_00012.fits',\n",
       "   '/Volumes/my_book_thunderbolt_duo/IPTS/IPTS_19037/deal_light_version/Image008/image_00012.fits'),\n",
       "  ('/Volumes/my_book_thunderbolt_duo/IPTS/IPTS_19037/deal_light_version/Image007/image_00013.fits',\n",
       "   '/Volumes/my_book_thunderbolt_duo/IPTS/IPTS_19037/deal_light_version/Image008/image_00013.fits'),\n",
       "  ('/Volumes/my_book_thunderbolt_duo/IPTS/IPTS_19037/deal_light_version/Image007/image_00014.fits',\n",
       "   '/Volumes/my_book_thunderbolt_duo/IPTS/IPTS_19037/deal_light_version/Image008/image_00014.fits'),\n",
       "  ('/Volumes/my_book_thunderbolt_duo/IPTS/IPTS_19037/deal_light_version/Image007/image_00015.fits',\n",
       "   '/Volumes/my_book_thunderbolt_duo/IPTS/IPTS_19037/deal_light_version/Image008/image_00015.fits'),\n",
       "  ('/Volumes/my_book_thunderbolt_duo/IPTS/IPTS_19037/deal_light_version/Image007/image_00016.fits',\n",
       "   '/Volumes/my_book_thunderbolt_duo/IPTS/IPTS_19037/deal_light_version/Image008/image_00016.fits'),\n",
       "  ('/Volumes/my_book_thunderbolt_duo/IPTS/IPTS_19037/deal_light_version/Image007/image_00017.fits',\n",
       "   '/Volumes/my_book_thunderbolt_duo/IPTS/IPTS_19037/deal_light_version/Image008/image_00017.fits'),\n",
       "  ('/Volumes/my_book_thunderbolt_duo/IPTS/IPTS_19037/deal_light_version/Image007/image_00018.fits',\n",
       "   '/Volumes/my_book_thunderbolt_duo/IPTS/IPTS_19037/deal_light_version/Image008/image_00018.fits'),\n",
       "  ('/Volumes/my_book_thunderbolt_duo/IPTS/IPTS_19037/deal_light_version/Image007/image_00019.fits',\n",
       "   '/Volumes/my_book_thunderbolt_duo/IPTS/IPTS_19037/deal_light_version/Image008/image_00019.fits'),\n",
       "  ('/Volumes/my_book_thunderbolt_duo/IPTS/IPTS_19037/deal_light_version/Image007/image_00020.fits',\n",
       "   '/Volumes/my_book_thunderbolt_duo/IPTS/IPTS_19037/deal_light_version/Image008/image_00020.fits')]}"
      ]
     },
     "execution_count": 14,
     "metadata": {},
     "output_type": "execute_result"
    }
   ],
   "source": [
    "final_list_of_files_to_merge"
   ]
  },
  {
   "cell_type": "code",
   "execution_count": 41,
   "metadata": {},
   "outputs": [
    {
     "data": {
      "text/plain": [
       "[('file1', 'file10', 'file10'),\n",
       " ('file2', 'file11', 'file11'),\n",
       " ('file3', 'file12', 'file12')]"
      ]
     },
     "execution_count": 41,
     "metadata": {},
     "output_type": "execute_result"
    }
   ],
   "source": [
    "ab"
   ]
  },
  {
   "cell_type": "code",
   "execution_count": null,
   "metadata": {
    "collapsed": true
   },
   "outputs": [],
   "source": []
  },
  {
   "cell_type": "code",
   "execution_count": null,
   "metadata": {
    "collapsed": true
   },
   "outputs": [],
   "source": []
  },
  {
   "cell_type": "code",
   "execution_count": 8,
   "metadata": {
    "scrolled": true
   },
   "outputs": [
    {
     "ename": "AttributeError",
     "evalue": "'dict' object has no attribute 'value'",
     "output_type": "error",
     "traceback": [
      "\u001b[0;31m---------------------------------------------------------------------------\u001b[0m",
      "\u001b[0;31mAttributeError\u001b[0m                            Traceback (most recent call last)",
      "\u001b[0;32m<ipython-input-8-e352e32c39b6>\u001b[0m in \u001b[0;36m<module>\u001b[0;34m()\u001b[0m\n\u001b[0;32m----> 1\u001b[0;31m \u001b[0mo_merge\u001b[0m\u001b[0;34m.\u001b[0m\u001b[0mmerging\u001b[0m\u001b[0;34m(\u001b[0m\u001b[0;34m)\u001b[0m\u001b[0;34m\u001b[0m\u001b[0m\n\u001b[0m",
      "\u001b[0;32m~/git/IPTS/notebooks/__code/merge_folders.py\u001b[0m in \u001b[0;36mmerging\u001b[0;34m(self)\u001b[0m\n\u001b[1;32m     63\u001b[0m         \u001b[0;32mdef\u001b[0m \u001b[0mmerging\u001b[0m\u001b[0;34m(\u001b[0m\u001b[0mself\u001b[0m\u001b[0;34m)\u001b[0m\u001b[0;34m:\u001b[0m\u001b[0;34m\u001b[0m\u001b[0m\n\u001b[1;32m     64\u001b[0m \u001b[0;34m\u001b[0m\u001b[0m\n\u001b[0;32m---> 65\u001b[0;31m                 \u001b[0mmerging_value\u001b[0m \u001b[0;34m=\u001b[0m \u001b[0mself\u001b[0m\u001b[0;34m.\u001b[0m\u001b[0mbin_size\u001b[0m\u001b[0;34m.\u001b[0m\u001b[0mwidgets\u001b[0m\u001b[0;34m.\u001b[0m\u001b[0mvalue\u001b[0m\u001b[0;34m\u001b[0m\u001b[0m\n\u001b[0m\u001b[1;32m     66\u001b[0m                 \u001b[0mmerging_algo\u001b[0m \u001b[0;34m=\u001b[0m \u001b[0mself\u001b[0m\u001b[0;34m.\u001b[0m\u001b[0mcombine_method\u001b[0m\u001b[0;34m.\u001b[0m\u001b[0mwidgets\u001b[0m\u001b[0;34m.\u001b[0m\u001b[0mvalue\u001b[0m\u001b[0;34m\u001b[0m\u001b[0m\n\u001b[1;32m     67\u001b[0m \u001b[0;34m\u001b[0m\u001b[0m\n",
      "\u001b[0;31mAttributeError\u001b[0m: 'dict' object has no attribute 'value'"
     ]
    }
   ],
   "source": [
    "#o_merge.merging()"
   ]
  },
  {
   "cell_type": "code",
   "execution_count": null,
   "metadata": {
    "collapsed": true
   },
   "outputs": [],
   "source": []
  },
  {
   "cell_type": "code",
   "execution_count": null,
   "metadata": {
    "collapsed": true
   },
   "outputs": [],
   "source": []
  },
  {
   "cell_type": "code",
   "execution_count": null,
   "metadata": {
    "collapsed": true
   },
   "outputs": [],
   "source": []
  },
  {
   "cell_type": "code",
   "execution_count": null,
   "metadata": {
    "collapsed": true
   },
   "outputs": [],
   "source": []
  },
  {
   "cell_type": "code",
   "execution_count": 13,
   "metadata": {
    "run_control": {
     "frozen": false,
     "read_only": false
    }
   },
   "outputs": [
    {
     "data": {
      "application/vnd.jupyter.widget-view+json": {
       "model_id": "3b5e1df2709f440e8e7c425a458f84c3"
      }
     },
     "metadata": {},
     "output_type": "display_data"
    }
   ],
   "source": [
    "merged_images = {'file_name': [],\n",
    "                'data': []}\n",
    "nbr_files = list(values)[0]\n",
    "\n",
    "box1 = widgets.HBox([widgets.Label(\"Merging Progress:\",\n",
    "                                      layout=widgets.Layout(width='10%')),\n",
    "                        widgets.IntProgress(max=nbr_files)])\n",
    "display(box1)\n",
    "w1 = box1.children[1]\n",
    "\n",
    "for _index_file in np.arange(nbr_files):\n",
    "    _list_file_to_merge = []\n",
    "    for _key in list_files_dict.keys():\n",
    "        _file = list_files_dict[_key][_index_file]\n",
    "        _list_file_to_merge.append(_file)\n",
    "        merged_images['file_name'].append(os.path.basename(_file))\n",
    "    \n",
    "    _data_array = load_list_files(_list_file_to_merge)\n",
    "    merged_data = add(_data_array)\n",
    "    \n",
    "    w1.value = _index_file + 1\n",
    "    \n",
    "    "
   ]
  },
  {
   "cell_type": "code",
   "execution_count": null,
   "metadata": {
    "run_control": {
     "frozen": false,
     "read_only": false
    }
   },
   "outputs": [],
   "source": []
  },
  {
   "cell_type": "code",
   "execution_count": null,
   "metadata": {
    "run_control": {
     "frozen": false,
     "read_only": false
    }
   },
   "outputs": [],
   "source": []
  },
  {
   "cell_type": "code",
   "execution_count": null,
   "metadata": {
    "run_control": {
     "frozen": false,
     "read_only": false
    },
    "scrolled": true
   },
   "outputs": [],
   "source": []
  },
  {
   "cell_type": "code",
   "execution_count": null,
   "metadata": {
    "run_control": {
     "frozen": false,
     "read_only": false
    }
   },
   "outputs": [],
   "source": []
  },
  {
   "cell_type": "code",
   "execution_count": null,
   "metadata": {
    "run_control": {
     "frozen": false,
     "read_only": false
    }
   },
   "outputs": [],
   "source": []
  },
  {
   "cell_type": "code",
   "execution_count": null,
   "metadata": {
    "run_control": {
     "frozen": false,
     "read_only": false
    }
   },
   "outputs": [],
   "source": []
  },
  {
   "cell_type": "markdown",
   "metadata": {
    "run_control": {
     "frozen": false,
     "read_only": false
    }
   },
   "source": [
    "## Loading the data "
   ]
  },
  {
   "cell_type": "code",
   "execution_count": 8,
   "metadata": {
    "run_control": {
     "frozen": false,
     "read_only": false
    }
   },
   "outputs": [],
   "source": [
    "w = widgets.IntProgress()\n",
    "w.max = len(list_folders)-1\n",
    "display(w)\n",
    "\n",
    "index = 0\n",
    "data_folders = []\n",
    "\n",
    "for index_folder, list_folder in enumerate(list_files_in_folders):\n",
    "\n",
    "    _data_folder = []\n",
    "    for index_file, filename in enumerate(list_folder):\n",
    "        hdu_list = pyfits.open(filename)\n",
    "        hdu = hdu_list[0]\n",
    "        _data_folder.append(hdu.data)\n",
    "    \n",
    "    data_folders.append(_data_folder)\n",
    "    w.value = index_folder"
   ]
  },
  {
   "cell_type": "code",
   "execution_count": 9,
   "metadata": {
    "run_control": {
     "frozen": false,
     "read_only": false
    }
   },
   "outputs": [
    {
     "data": {
      "text/plain": [
       "(3, 1485, 512, 512)"
      ]
     },
     "execution_count": 9,
     "metadata": {},
     "output_type": "execute_result"
    }
   ],
   "source": [
    "import numpy as np\n",
    "np.shape(data_folders)"
   ]
  },
  {
   "cell_type": "markdown",
   "metadata": {
    "run_control": {
     "frozen": false,
     "read_only": false
    }
   },
   "source": [
    "## Retrieving images index"
   ]
  },
  {
   "cell_type": "code",
   "execution_count": 10,
   "metadata": {
    "run_control": {
     "frozen": false,
     "read_only": false
    }
   },
   "outputs": [],
   "source": [
    "def digit_file_name(full_file_name):\n",
    "    base_name = os.path.basename(full_file_name)\n",
    "    [short_name, ext] = base_name.split('.')\n",
    "    [image_name, image_sequence_number] = short_name.split('_')\n",
    "    image_name_split = image_name.split('Image')\n",
    "    image_number = image_name_split[1]\n",
    "    return [image_name, image_number, image_sequence_number]"
   ]
  },
  {
   "cell_type": "code",
   "execution_count": 11,
   "metadata": {
    "run_control": {
     "frozen": false,
     "read_only": false
    }
   },
   "outputs": [],
   "source": [
    "list_image_numbers = []\n",
    "for index_folder, list_folder in enumerate(list_files_in_folders):\n",
    "    _first_image = list_folder[0]\n",
    "    [image_name, image_number, image_sequence_number] = digit_file_name(_first_image)\n",
    "    list_image_numbers.append(image_number)\n",
    "    \n",
    "list_image_sequence = []\n",
    "for index_file, _file in enumerate(list_files_in_folders[0]):\n",
    "    [image_name, image_number, image_sequence_number] = digit_file_name(_file)\n",
    "    list_image_sequence.append(image_sequence_number)\n",
    "    "
   ]
  },
  {
   "cell_type": "markdown",
   "metadata": {
    "run_control": {
     "frozen": false,
     "read_only": false
    }
   },
   "source": [
    "## Add data "
   ]
  },
  {
   "cell_type": "code",
   "execution_count": 12,
   "metadata": {
    "run_control": {
     "frozen": false,
     "read_only": false
    }
   },
   "outputs": [],
   "source": [
    "w = widgets.IntProgress()\n",
    "number_of_files = len(data_folders[0])\n",
    "w.max = number_of_files -1\n",
    "display(w)\n",
    "\n",
    "sum_data = []\n",
    "sum_names = []\n",
    "for index_file in range(number_of_files):\n",
    "\n",
    "    _add_data = []\n",
    "    tmp_name = ''\n",
    "    for index_folder, folder_name in enumerate(list_files_in_folders):\n",
    "        _list_data = data_folders[index_folder]\n",
    "        _data = _list_data[index_file]\n",
    "        [image_name, image_number, image_seqence_number] = digit_file_name(folder_name[index_file])\n",
    "        if index_folder == 0:\n",
    "            _add_data = _data\n",
    "            _tmp_name = \"%.2d\" %int(image_number)\n",
    "        else:\n",
    "            _add_data += _data\n",
    "            _tmp_name += '_%.2d' %int(image_number)\n",
    "    \n",
    "    sum_data.append(_add_data)\n",
    "    sum_names.append(_tmp_name)\n",
    "    w.value = index_file"
   ]
  },
  {
   "cell_type": "markdown",
   "metadata": {
    "run_control": {
     "frozen": false,
     "read_only": false
    }
   },
   "source": [
    "## Exporting data "
   ]
  },
  {
   "cell_type": "code",
   "execution_count": 13,
   "metadata": {
    "run_control": {
     "frozen": false,
     "read_only": false
    }
   },
   "outputs": [],
   "source": [
    "from PyQt4 import QtCore, QtGui\n",
    "\n",
    "def gui_fname(dir=None):\n",
    "    \"\"\"Select a folder\n",
    "    \"\"\"\n",
    "    if dir is None: dir ='./'\n",
    "    dir_name = QtGui.QFileDialog.getExistingDirectory(None, \"Select Folder ...\",\n",
    "                                                  dir,\n",
    "                                                  QtGui.QFileDialog.ShowDirsOnly)\n",
    "    return dir_name"
   ]
  },
  {
   "cell_type": "code",
   "execution_count": 14,
   "metadata": {
    "run_control": {
     "frozen": false,
     "read_only": false
    }
   },
   "outputs": [],
   "source": [
    "%gui qt\n",
    "dir_name = gui_fname(dir = root_folder)\n",
    "%matplotlib inline"
   ]
  },
  {
   "cell_type": "code",
   "execution_count": 15,
   "metadata": {
    "run_control": {
     "frozen": false,
     "read_only": false
    }
   },
   "outputs": [],
   "source": [
    "w = widgets.IntProgress()\n",
    "w.max = len(sum_data)-1\n",
    "display(w)\n",
    "\n",
    "for index in range(len(sum_data)):\n",
    "    \n",
    "    full_name = os.path.join(dir_name, sum_names[index] + '_' + list_image_sequence[index] + '.fits')\n",
    "\n",
    "    hdu = pyfits.PrimaryHDU(sum_data[index])\n",
    "    hdulist = pyfits.HDUList([hdu])\n",
    "    hdulist.writeto(full_name)\n",
    "    \n",
    "    w.value = index"
   ]
  },
  {
   "cell_type": "code",
   "execution_count": null,
   "metadata": {
    "run_control": {
     "frozen": false,
     "read_only": false
    }
   },
   "outputs": [],
   "source": []
  },
  {
   "cell_type": "markdown",
   "metadata": {
    "run_control": {
     "frozen": false,
     "read_only": false
    }
   },
   "source": [
    "# References\n",
    "\n"
   ]
  }
 ],
 "metadata": {
  "anaconda-cloud": {},
  "kernelspec": {
   "display_name": "Python [default]",
   "language": "python",
   "name": "python3"
  },
  "language_info": {
   "codemirror_mode": {
    "name": "ipython",
    "version": 3
   },
   "file_extension": ".py",
   "mimetype": "text/x-python",
   "name": "python",
   "nbconvert_exporter": "python",
   "pygments_lexer": "ipython3",
   "version": "3.5.3"
  },
  "toc": {
   "colors": {
    "hover_highlight": "#DAA520",
    "running_highlight": "#FF0000",
    "selected_highlight": "#FFD700"
   },
   "moveMenuLeft": true,
   "nav_menu": {
    "height": "210px",
    "width": "252px"
   },
   "navigate_menu": true,
   "number_sections": true,
   "sideBar": true,
   "threshold": 4,
   "toc_cell": false,
   "toc_section_display": "block",
   "toc_window_display": false
  }
 },
 "nbformat": 4,
 "nbformat_minor": 1
}
